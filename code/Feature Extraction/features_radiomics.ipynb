{
 "cells": [
  {
   "cell_type": "code",
   "execution_count": 1,
   "metadata": {},
   "outputs": [],
   "source": [
    "import os\n",
    "import numpy as np\n",
    "import radiomics\n",
    "from radiomics import featureextractor\n",
    "import pydicom\n",
    "from itertools import islice\n",
    "import pandas as pd\n",
    "import SimpleITK as sitk"
   ]
  },
  {
   "cell_type": "code",
   "execution_count": 2,
   "metadata": {},
   "outputs": [],
   "source": [
    "healthy_path_mask = \"../Automated_data/Pancreas/Pancreas_Mask/\" \n",
    "healthy_path_slice = '../Automated_data/Pancreas/Pancreas_slice/'"
   ]
  },
  {
   "cell_type": "code",
   "execution_count": 2,
   "metadata": {},
   "outputs": [],
   "source": [
    "extractor = featureextractor.RadiomicsFeatureExtractor(force2D=True,force2Ddimension=0,correctMask=True)\n",
    "extractor.enableFeatureClassByName('shape2D')"
   ]
  },
  {
   "cell_type": "code",
   "execution_count": 7,
   "metadata": {},
   "outputs": [
    {
     "name": "stderr",
     "output_type": "stream",
     "text": [
      "Shape features are only available 3D input (for 2D input, use shape2D). Found 2D input\n"
     ]
    },
    {
     "name": "stdout",
     "output_type": "stream",
     "text": [
      "Pancreas_0.dcm\n"
     ]
    },
    {
     "name": "stderr",
     "output_type": "stream",
     "text": [
      "GLCM is symmetrical, therefore Sum Average = 2 * Joint Average, only 1 needs to be calculated\n",
      "Shape features are only available 3D input (for 2D input, use shape2D). Found 2D input\n",
      "GLCM is symmetrical, therefore Sum Average = 2 * Joint Average, only 1 needs to be calculated\n",
      "Shape features are only available 3D input (for 2D input, use shape2D). Found 2D input\n",
      "GLCM is symmetrical, therefore Sum Average = 2 * Joint Average, only 1 needs to be calculated\n"
     ]
    },
    {
     "name": "stdout",
     "output_type": "stream",
     "text": [
      "[0.22648867948635432, 124.43013131383242, array(116.33347662), array(2015.80505371), 28.182016129583573, array(278.68793384), array(0.13825143), 2016.17431640625, 0.57109851523847, array(-29.), array(160.), array(32714287.), array(3.61094442), array(95.), array(4.05104651), array(463.), array(60.24487917), array(76.46336996), array(83.), array(-126.), array(589.), array(40.09802045), array(109.46805612), array(0.07994747), array(24160331.58569336), array(0.09980088), array(6136.6083652), array(100.97999245), array(5385.25383676), array(-0.99257351), array(37.35201543), array(1.68365421), array(0.91373765), array(0.87202718), array(1.7301771), array(0.92322281), array(0.6604797), array(0.63688568), array(0.99734904), array(0.96755317), array(-0.39416696), array(0.97033067), array(0.47081533), array(9.59494149), array(0.02791198), array(5.78392798), array(0.94363753), array(0.06228766), array(19.18988297), array(4.55964578), array(9.75891741), array(5.03686945), array(1039.23076923), array(0.38067061), array(0.49832951), array(272.45641026), array(9.88784889), array(101.43699634), array(3.58974359), array(339.41282051), array(0.07577306), array(0.0201738), array(0.52757428), array(57.29835165), array(0.01010798), array(163.25840708), array(0.09631764), array(10.58515119), array(106.91445428), array(3.84070796), array(359.87669617), array(0.0859255), array(0.01941998), array(5.14709428), array(797.00589971), array(0.47020997), array(0.62087912), array(1.24661289), array(0.70996734), array(79.24641426), array(0.0133287), array(163.25840708), array(0.09631764), array(10.58515119), array(106.91445428), array(3.84070796), array(359.87669617), array(0.0859255), array(0.01941998), array(797.00589971), array(0.47020997), array(0.70996734), array(79.24641426), array(0.0133287), array(5.14709428), array(0.62087912), array(1.24661289), array(0.48374828), array(0.00706536), array(147.91246442), array(0.0203077), array(2.13419873), 0]\n",
      "Pancreas_1.dcm\n",
      "[0.277677280496562, 107.43286356449424, array(101.5699817), array(2308.99963379), 29.83166539054694, array(245.31975428), array(0.10624504), 2309.368896484375, 0.6943594380680697, array(-50.4), array(181.), array(43515408.), array(3.79849157), array(103.), array(4.38946757), array(490.), array(68.74587112), array(73.16341541), array(75.), array(-126.), array(616.), array(44.21920199), array(117.96619984), array(0.63031334), array(32137233.69140625), array(0.09071316), array(8563.13894938), array(101.38795656), array(12094.46950166), array(232.40519909), array(52.8251437), array(1.71372162), array(0.93715595), array(0.92003949), array(1.75070305), array(0.86724896), array(0.64028502), array(0.61372745), array(0.99749515), array(0.96693016), array(-0.40682587), array(0.97685582), array(0.48848314), array(9.41329385), array(0.02481885), array(6.03962588), array(0.9447031), array(0.0585719), array(18.82658769), array(4.75342054), array(13.63471633), array(5.17244701), array(1234.18260313), array(0.39468583), array(0.47461329), array(283.66005756), array(13.75858613), array(102.90310201), array(3.34409978), array(309.53373841), array(0.07939214), array(0.02248175), array(0.5596596), array(63.2878691), array(0.01189258), array(170.47404505), array(0.08348386), array(15.21232664), array(110.37512243), array(3.37757101), array(313.00195886), array(0.08466369), array(0.02157387), array(5.25205627), array(1021.5093046), array(0.50024941), array(0.65302207), array(1.03256323), array(0.73326083), array(85.84204841), array(0.01525776), array(170.47404505), array(0.08348386), array(15.21232664), array(110.37512243), array(3.37757101), array(313.00195886), array(0.08466369), array(0.02157387), array(1021.5093046), array(0.50024941), array(0.73326083), array(85.84204841), array(0.01525776), array(5.25205627), array(0.65302207), array(1.03256323), array(0.50976239), array(0.00679774), array(177.00688469), array(0.02409809), array(2.5263497), 0]\n",
      "Pancreas_10.dcm\n"
     ]
    },
    {
     "name": "stderr",
     "output_type": "stream",
     "text": [
      "Shape features are only available 3D input (for 2D input, use shape2D). Found 2D input\n",
      "GLCM is symmetrical, therefore Sum Average = 2 * Joint Average, only 1 needs to be calculated\n",
      "Shape features are only available 3D input (for 2D input, use shape2D). Found 2D input\n",
      "GLCM is symmetrical, therefore Sum Average = 2 * Joint Average, only 1 needs to be calculated\n"
     ]
    },
    {
     "name": "stdout",
     "output_type": "stream",
     "text": [
      "[0.3214307805856665, 95.86131939588566, array(89.23027646), array(1486.28234863), 30.812778721391414, array(253.41009406), array(0.1704993), 1486.651611328125, 0.5393015667014329, array(-60.), array(164.), array(19692355.), array(3.56151586), array(119.), array(2.0642341), array(213.), array(66.67047796), array(58.86289121), array(72.), array(-123.), array(336.), array(50.96173353), array(98.90697984), array(-0.25298332), array(14543304.16870117), array(0.09180195), array(6317.75069944), array(72.29694775), array(3322.54022935), array(-65.29622358), array(40.15362336), array(1.04086912), array(0.94946562), array(0.69632695), array(1.48361059), array(0.55599789), array(0.69990516), array(0.68544803), array(0.99480945), array(0.9549531), array(-0.45477183), array(0.98025175), array(0.47732554), array(7.9068805), array(0.02945104), array(5.50694276), array(0.95331341), array(0.08535954), array(15.81376099), array(4.50535454), array(10.29862312), array(5.02715008), array(739.33482365), array(0.36728009), array(0.52177439), array(184.79731744), array(10.19768376), array(72.25732737), array(3.92399404), array(291.04818679), array(0.16007719), array(0.0424715), array(0.48592482), array(34.16225092), array(0.02082862), array(104.83662941), array(0.09014328), array(9.96582947), array(70.57265692), array(4.55460017), array(339.41186586), array(0.17728078), array(0.04361462), array(5.17091077), array(499.43508169), array(0.42943687), array(0.57774466), array(1.5586946), array(0.67685735), array(46.92886787), array(0.02916865), array(104.83662941), array(0.09014328), array(9.96582947), array(70.57265692), array(4.55460017), array(339.41186586), array(0.17728078), array(0.04361462), array(499.43508169), array(0.42943687), array(0.67685735), array(46.92886787), array(0.02916865), array(5.17091077), array(0.57774466), array(1.5586946), array(0.88310783), array(0.01221911), array(32.72846396), array(0.05141067), array(0.80620633), 0]\n",
      "Pancreas_11.dcm\n",
      "[0.2776437784245756, 125.48348828590224, array(124.78705005), array(3141.31774902), 34.83970981759387, array(299.2265623), array(0.09525511), 3141.68701171875, 0.6639887527110008, array(-94.), array(152.), array(39733211.), array(3.54772688), array(147.), array(2.74860688), array(369.), array(82.3887104), array(0.53244006), array(-38.), array(-134.), array(503.), array(62.57692149), array(96.64471039), array(0.87169861), array(29343985.17456055), array(0.11173642), array(9339.9165546), array(56.80170109), array(9518.41088199), array(399.15892538), array(58.80012343), array(0.87776428), array(0.97058327), array(0.65905225), array(1.39151587), array(0.44341441), array(0.70467801), array(0.69234508), array(0.99802239), array(0.97047087), array(-0.48273886), array(0.98344644), array(0.48890914), array(6.5054678), array(0.04047112), array(5.36878925), array(0.97739008), array(0.1164034), array(13.0109356), array(4.4668569), array(14.91947193), array(5.0013327), array(1569.36295252), array(0.36891466), array(0.51646781), array(475.32675129), array(14.98396316), array(57.71203573), array(3.95298543), array(219.3622473), array(0.24819508), array(0.06046778), array(0.47932665), array(29.17066291), array(0.02740489), array(239.50205086), array(0.0982371), array(14.7039029), array(59.90442986), array(4.63986874), array(261.98318294), array(0.28635062), array(0.05817507), array(5.29187201), array(1024.72682527), array(0.42031453), array(0.57310766), array(1.59528749), array(0.66858555), array(41.72502656), array(0.03715002), array(239.50205086), array(0.0982371), array(14.7039029), array(59.90442986), array(4.63986874), array(261.98318294), array(0.28635062), array(0.05817507), array(1024.72682527), array(0.42031453), array(0.66858555), array(41.72502656), array(0.03715002), array(5.29187201), array(0.57310766), array(1.59528749), array(1.74440116), array(0.00477651), array(108.67782673), array(0.03362141), array(1.4996364), 0]\n",
      "Pancreas_12.dcm\n",
      "[0.3443249346612759, 108.71553009550523, array(109.68399434), array(2127.3223877), 37.433467796800805, array(271.18737582), array(0.12747827), 2127.691650390625, 0.6029094883888638, array(-85.), array(156.), array(23270991.), array(3.61227197), array(146.), array(1.93924092), array(293.), array(74.96155822), array(24.0211732), array(21.), array(-125.), array(418.), array(60.06033392), array(89.87435983), array(0.25018256), array(17186217.71850586), array(0.08807576), array(7500.38379328), array(53.03907381), array(4205.03999067), array(85.61261339), array(46.59600526), array(1.25506512), array(0.94754286), array(0.79341534), array(1.59014171), array(0.62555722), array(0.66905451), array(0.64854775), array(0.99572736), array(0.95722814), array(-0.426129), array(0.97655617), array(0.48870719), array(6.45785094), array(0.02619509), array(5.67270019), array(0.95440517), array(0.07054993), array(12.91570188), array(4.53508137), array(11.9627676), array(5.02359424), array(1102.00381812), array(0.3825074), array(0.49339091), array(253.74626866), array(12.03939586), array(54.07983339), array(3.57688303), array(190.47344672), array(0.34305916), array(0.08873075), array(0.52740175), array(28.67941301), array(0.04351447), array(151.828125), array(0.08472552), array(11.32090541), array(54.59263393), array(3.68136161), array(194.71540179), array(0.35868029), array(0.08336319), array(5.11862765), array(835.078125), array(0.46600342), array(0.62200625), array(1.09665945), array(0.70714344), array(38.56469641), array(0.05648351), array(151.828125), array(0.08472552), array(11.32090541), array(54.59263393), array(3.68136161), array(194.71540179), array(0.35868029), array(0.08336319), array(835.078125), array(0.46600342), array(0.70714344), array(38.56469641), array(0.05648351), array(5.11862765), array(0.62200625), array(1.09665945), array(1.27704496), array(0.00822501), array(64.36089631), array(0.04418567), array(1.00180261), 0]\n"
     ]
    },
    {
     "name": "stderr",
     "output_type": "stream",
     "text": [
      "Shape features are only available 3D input (for 2D input, use shape2D). Found 2D input\n",
      "GLCM is symmetrical, therefore Sum Average = 2 * Joint Average, only 1 needs to be calculated\n",
      "Shape features are only available 3D input (for 2D input, use shape2D). Found 2D input\n",
      "GLCM is symmetrical, therefore Sum Average = 2 * Joint Average, only 1 needs to be calculated\n"
     ]
    },
    {
     "name": "stdout",
     "output_type": "stream",
     "text": [
      "Pancreas_13.dcm\n",
      "[0.35168118119627195, 113.8687224421791, array(101.78788093), array(2566.37573242), 40.04548680977599, array(301.31175571), array(0.1174075), 2567.1142578125, 0.5960037275655564, array(-69.), array(153.), array(33110892.), array(3.64329766), array(153.), array(2.20024367), array(431.), array(75.2504221), array(45.48561565), array(51.), array(-126.), array(557.), array(60.87747283), array(97.59904237), array(0.08743991), array(24453234.44824219), array(0.08715939), array(7456.63184142), array(80.08142645), array(4346.7403194), array(17.75570455), array(46.29532364), array(1.42109955), array(0.94043562), array(0.82199108), array(1.66413917), array(0.74543021), array(0.66900446), array(0.6462128), array(0.99756067), array(0.96800926), array(-0.41171468), array(0.97465726), array(0.46648803), array(8.29836553), array(0.02502035), array(5.77670088), array(0.94558294), array(0.06329866), array(16.59673105), array(4.58992105), array(11.9291058), array(5.07588001), array(1308.02589183), array(0.37630204), array(0.50674062), array(302.96605293), array(12.01175875), array(81.49136939), array(3.66973533), array(295.82220944), array(0.11414212), array(0.02990055), array(0.51828411), array(42.51548715), array(0.01501323), array(179.15261423), array(0.08438654), array(11.52344475), array(82.11351861), array(4.01978333), array(317.98963731), array(0.13169394), array(0.02900031), array(5.18720876), array(975.40885539), array(0.45944835), array(0.61075949), array(1.33901337), array(0.70227399), array(57.75559203), array(0.02009322), array(179.15261423), array(0.08438654), array(11.52344475), array(82.11351861), array(4.01978333), array(317.98963731), array(0.13169394), array(0.02900031), array(975.40885539), array(0.45944835), array(0.70227399), array(57.75559203), array(0.02009322), array(5.18720876), array(0.61075949), array(1.33901337), array(0.70085538), array(0.00668936), array(122.22278274), array(0.02681477), array(1.65064703), 0]\n",
      "Pancreas_14.dcm\n",
      "[0.2971711745664806, 123.35193773105343, array(107.35310299), array(2638.38195801), 36.65664022058853, array(280.61520318), array(0.10635882), 2638.751220703125, 0.6488772826969732, array(-47.), array(163.), array(34457280.), array(3.47225206), array(102.), array(2.20840593), array(213.), array(60.29520076), array(65.71452561), array(77.), array(-107.), array(320.), array(45.13117651), array(98.20282649), array(-0.2715977), array(25447576.171875), array(0.09944793), array(5325.39625416), array(74.30312681), array(2465.09541166), array(-49.82963381), array(33.41834136), array(1.12999421), array(0.93458474), array(0.74088014), array(1.54010674), array(0.58109083), array(0.68617062), array(0.66809247), array(0.9943553), array(0.95217837), array(-0.4161216), array(0.97182156), array(0.47559142), array(8.13824551), array(0.03012892), array(5.50054259), array(0.93754789), array(0.08193399), array(16.27649102), array(4.41500646), array(8.63708389), array(4.93116827), array(1322.73971453), array(0.37020423), array(0.51776513), array(355.32745592), array(8.65371901), array(75.01259446), array(3.80996362), array(296.71536524), array(0.10903161), array(0.03025022), array(0.50119725), array(36.12202631), array(0.0161687), array(205.34466478), array(0.09695216), array(8.35107416), array(72.57790368), array(4.29036827), array(336.84135977), array(0.12277), array(0.03172199), array(5.07219718), array(941.35505194), array(0.4444547), array(0.59277918), array(1.44450441), array(0.69001121), array(48.82797464), array(0.02287486), array(205.34466478), array(0.09695216), array(8.35107416), array(72.57790368), array(4.29036827), array(336.84135977), array(0.12277), array(0.03172199), array(941.35505194), array(0.4444547), array(0.69001121), array(48.82797464), array(0.02287486), array(5.07219718), array(0.59277918), array(1.44450441), array(1.60445509), array(0.00616603), array(35.59282145), array(0.04581792), array(0.41184574), 0]\n"
     ]
    },
    {
     "name": "stderr",
     "output_type": "stream",
     "text": [
      "Shape features are only available 3D input (for 2D input, use shape2D). Found 2D input\n",
      "GLCM is symmetrical, therefore Sum Average = 2 * Joint Average, only 1 needs to be calculated\n",
      "Shape features are only available 3D input (for 2D input, use shape2D). Found 2D input\n",
      "GLCM is symmetrical, therefore Sum Average = 2 * Joint Average, only 1 needs to be calculated\n"
     ]
    },
    {
     "name": "stdout",
     "output_type": "stream",
     "text": [
      "Pancreas_15.dcm\n",
      "[0.22568424141020366, 98.71557528337026, array(95.20851141), array(1567.5201416), 22.27854972319927, array(221.22147802), array(0.14112832), 1567.889404296875, 0.6344307250238332, array(8.), array(147.), array(25726352.), array(2.85003108), array(77.), array(2.7748974), array(204.), array(46.00763901), array(95.62694301), array(120.), array(-88.), array(292.), array(34.21027328), array(110.08144118), array(-0.86945194), array(18999564.16015625), array(0.18961716), array(2973.41146437), array(73.97718447), array(962.17999242), array(-69.51291623), array(18.68359789), array(0.62815534), array(0.9349458), array(0.49805825), array(1.24887886), array(0.38009332), array(0.77107605), array(0.76398058), array(0.9963388), array(0.96503265), array(-0.45724094), array(0.96233644), array(0.39912352), array(8.33446602), array(0.09581593), array(4.39459094), array(0.94919151), array(0.2631068), array(16.66893204), array(3.71335744), array(4.82793831), array(4.27471353), array(758.77578898), array(0.35740734), array(0.5428773), array(402.55723033), array(4.83121384), array(74.54545455), array(4.9029675), array(379.68817711), array(0.09966753), array(0.02216782), array(0.3791019), array(26.80062281), array(0.00943453), array(132.45867769), array(0.13683748), array(5.23515726), array(70.73140496), array(9.02169421), array(722.32438017), array(0.17167264), array(0.02465946), array(5.08332355), array(322.28305785), array(0.33293704), array(0.45595855), array(4.21164773), array(0.58577567), array(39.91336977), array(0.01565464), array(132.45867769), array(0.13683748), array(5.23515726), array(70.73140496), array(9.02169421), array(722.32438017), array(0.17167264), array(0.02465946), array(322.28305785), array(0.33293704), array(0.58577567), array(39.91336977), array(0.01565464), array(5.08332355), array(0.45595855), array(4.21164773), array(0.82743375), array(0.00867281), array(26.39046657), array(0.02230433), array(0.70236998), 0]\n",
      "Pancreas_16.dcm\n",
      "[0.3705301787380108, 87.38330532355998, array(78.85672951), array(1957.46154785), 32.378151740256854, array(214.01581087), array(0.10933334), 1957.830810546875, 0.7328341392437115, array(-30.), array(149.), array(29406662.), array(3.53435256), array(86.), array(4.97276616), array(463.), array(56.44843359), array(72.47227461), array(76.), array(-116.), array(579.), array(36.75021119), array(105.32173409), array(0.56620151), array(21717566.54052734), array(0.109493), array(5840.43708494), array(79.33835458), array(6439.18609372), array(120.35703734), array(36.44884163), array(1.55349556), array(0.9182421), array(0.86674392), array(1.70152717), array(0.80225054), array(0.65503136), array(0.63082553), array(0.99733828), array(0.96634181), array(-0.38515083), array(0.9665844), array(0.48083697), array(8.4032445), array(0.03139034), array(5.70727137), array(0.92754469), array(0.07415991), array(16.80648899), array(4.49251192), array(9.5005843), array(4.94799961), array(1013.3387401), array(0.38224773), array(0.49865242), array(290.26593738), array(9.45872087), array(80.3270464), array(3.52659374), array(267.54092795), array(0.09776112), array(0.02847722), array(0.53851796), array(45.86902217), array(0.01549536), array(167.05389222), array(0.10003227), array(10.76369752), array(83.86107784), array(3.71317365), array(286.67005988), array(0.1012837), array(0.02894136), array(5.08180926), array(805.11377246), array(0.48210406), array(0.62995096), array(1.19325505), array(0.71995988), array(62.80242932), array(0.02083634), array(167.05389222), array(0.10003227), array(10.76369752), array(83.86107784), array(3.71317365), array(286.67005988), array(0.1012837), array(0.02894136), array(805.11377246), array(0.48210406), array(0.71995988), array(62.80242932), array(0.02083634), array(5.08180926), array(0.62995096), array(1.19325505), array(0.57698166), array(0.00712659), array(133.57085674), array(0.01993416), array(2.23972987), 0]\n",
      "Pancreas_17.dcm\n"
     ]
    },
    {
     "name": "stderr",
     "output_type": "stream",
     "text": [
      "Shape features are only available 3D input (for 2D input, use shape2D). Found 2D input\n",
      "GLCM is symmetrical, therefore Sum Average = 2 * Joint Average, only 1 needs to be calculated\n",
      "Shape features are only available 3D input (for 2D input, use shape2D). Found 2D input\n",
      "GLCM is symmetrical, therefore Sum Average = 2 * Joint Average, only 1 needs to be calculated\n",
      "Shape features are only available 3D input (for 2D input, use shape2D). Found 2D input\n",
      "GLCM is symmetrical, therefore Sum Average = 2 * Joint Average, only 1 needs to be calculated\n"
     ]
    },
    {
     "name": "stdout",
     "output_type": "stream",
     "text": [
      "[0.256640438767245, 133.44751766092503, array(126.9579326), array(2791.25671387), 34.24802948489948, array(307.23053054), array(0.11006889), 2791.6259765625, 0.6095936740448296, array(-66.1), array(155.), array(38191745.), array(3.56132384), array(161.), array(1.70115799), array(213.), array(75.81480824), array(52.55529101), array(66.), array(-123.), array(336.), array(62.35494278), array(100.51684557), array(-0.1900253), array(28205573.39477539), array(0.09248747), array(7341.57763074), array(68.85292524), array(3609.4178857), array(-54.78561895), array(46.19945933), array(1.01002167), array(0.95721107), array(0.68174431), array(1.47895655), array(0.54524636), array(0.70594529), array(0.69127464), array(0.99495691), array(0.95586719), array(-0.46211542), array(0.98120726), array(0.46431714), array(7.58653846), array(0.03200076), array(5.47539584), array(0.96061144), array(0.09967497), array(15.17307692), array(4.49691331), array(11.80237025), array(5.0312819), array(1362.2047619), array(0.36037163), array(0.53699672), array(349.6026455), array(11.85692863), array(69.91084656), array(4.08095238), array(296.63359788), array(0.19978529), array(0.05133604), array(0.47050265), array(31.53380364), array(0.02467755), array(182.04261364), array(0.08619442), array(11.38403567), array(67.3219697), array(5.09564394), array(381.765625), array(0.23299659), array(0.05321109), array(5.29693923), array(879.41193182), array(0.41638823), array(0.55873016), array(1.89235752), array(0.66696041), array(43.80078659), array(0.03534206), array(182.04261364), array(0.08619442), array(11.38403567), array(67.3219697), array(5.09564394), array(381.765625), array(0.23299659), array(0.05321109), array(879.41193182), array(0.41638823), array(0.66696041), array(43.80078659), array(0.03534206), array(5.29693923), array(0.55873016), array(1.89235752), array(1.56413353), array(0.0070322), array(31.19143571), array(0.05649603), array(0.48041037), 0]\n",
      "Pancreas_18.dcm\n",
      "[0.31706093239253175, 100.20633006815335, array(98.3787337), array(2148.73962402), 31.771512443042486, array(244.60782472), array(0.11383782), 2149.10888671875, 0.6717790916332007, array(-18.1), array(154.), array(30314065.), array(3.3444687), array(97.), array(2.56399088), array(212.), array(54.45494125), array(77.75223368), array(86.), array(-107.), array(319.), array(39.63238557), array(102.06470726), array(-0.53183067), array(22387706.69555664), array(0.1111652), array(4371.79462559), array(80.96958982), array(1920.58297783), array(-77.55062624), array(27.35330107), array(0.8178925), array(0.94193412), array(0.60855728), array(1.37391294), array(0.44755054), array(0.72776403), array(0.71660496), array(0.99589044), array(0.9602847), array(-0.45605664), array(0.97595284), array(0.45192175), array(8.62181754), array(0.03957964), array(5.15715916), array(0.94652179), array(0.10785007), array(17.24363508), array(4.28582099), array(7.04279839), array(4.84589123), array(1040.91340206), array(0.3577022), array(0.54030963), array(323.49072165), array(7.08409254), array(81.50584192), array(4.31271478), array(361.0137457), array(0.09696239), array(0.02428431), array(0.44177167), array(34.73806796), array(0.0118346), array(163.05977908), array(0.10595177), array(7.1373756), array(79.13905133), array(5.69590643), array(480.57179987), array(0.12616632), array(0.02625852), array(5.19714113), array(593.46523717), array(0.38561744), array(0.52886598), array(2.12063731), array(0.63980771), array(49.30060528), array(0.01801114), array(163.05977908), array(0.10595177), array(7.1373756), array(79.13905133), array(5.69590643), array(480.57179987), array(0.12616632), array(0.02625852), array(593.46523717), array(0.38561744), array(0.63980771), array(49.30060528), array(0.01801114), array(5.19714113), array(0.52886598), array(2.12063731), array(1.01677889), array(0.00791704), array(32.64329264), array(0.03251658), array(0.56676746), 0]\n",
      "Pancreas_19.dcm\n",
      "[0.3720102454119385, 116.34479992805, array(106.31618458), array(2305.30700684), 43.281457573636764, array(291.88392834), array(0.12661391), 2305.67626953125, 0.5831216076331083, array(-90.), array(157.), array(32136757.), array(3.76652197), array(154.), array(3.0471788), array(396.), array(82.51876148), array(22.18417681), array(13.), array(-129.), array(525.), array(62.82068307), array(101.45759774), array(0.71187384), array(23733811.0168457), array(0.08871635), array(9801.50643765), array(69.91117764), array(11392.04247661), array(344.07744867), array(61.97541267), array(1.57950765), array(0.95029472), array(0.8762475), array(1.72106135), array(0.81169796), array(0.65424706), array(0.6290231), array(0.99678144), array(0.96312608), array(-0.42964767), array(0.98023079), array(0.47327706), array(7.40352628), array(0.02816357), array(5.92182298), array(0.95808425), array(0.09547572), array(14.80705256), array(4.70869121), array(15.88873008), array(5.13309441), array(1196.27033953), array(0.38317436), array(0.49814484), array(276.97245356), array(15.72329167), array(70.60281871), array(3.50096092), array(206.58936579), array(0.19285327), array(0.04777947), array(0.54274326), array(44.34516692), array(0.02235768), array(151.65217391), array(0.07666945), array(16.7443578), array(79.32861476), array(3.65318504), array(213.04347826), array(0.20592929), array(0.04238613), array(5.29946741), array(964.20323559), array(0.48746372), array(0.63356823), array(1.16195849), array(0.72397999), array(62.44001475), array(0.02787743), array(151.65217391), array(0.07666945), array(16.7443578), array(79.32861476), array(3.65318504), array(213.04347826), array(0.20592929), array(0.04238613), array(964.20323559), array(0.48746372), array(0.72397999), array(62.44001475), array(0.02787743), array(5.29946741), array(0.63356823), array(1.16195849), array(0.88672059), array(0.00782596), array(118.38991145), array(0.03589718), array(1.94324653), 0]\n"
     ]
    },
    {
     "name": "stderr",
     "output_type": "stream",
     "text": [
      "Shape features are only available 3D input (for 2D input, use shape2D). Found 2D input\n",
      "GLCM is symmetrical, therefore Sum Average = 2 * Joint Average, only 1 needs to be calculated\n",
      "Shape features are only available 3D input (for 2D input, use shape2D). Found 2D input\n",
      "GLCM is symmetrical, therefore Sum Average = 2 * Joint Average, only 1 needs to be calculated\n"
     ]
    },
    {
     "name": "stdout",
     "output_type": "stream",
     "text": [
      "Pancreas_2.dcm\n",
      "[0.35892168992574974, 82.75734611212268, array(87.63939789), array(1242.56896973), 29.703406520333246, array(219.17206087), array(0.17638623), 1243.6767578125, 0.5701380062001744, array(-101.), array(60.), array(10637993.), array(2.88036055), array(71.), array(3.73811729), array(181.), array(51.57446288), array(-46.44952494), array(-74.), array(-131.), array(312.), array(34.40951511), array(79.48017351), array(1.30370379), array(7856427.93579102), array(0.19478069), array(4159.53961379), array(26.63428218), array(2300.42549988), array(162.14957258), array(24.1847119), array(0.87933168), array(0.92983321), array(0.64665842), array(1.40722602), array(0.46116458), array(0.71297442), array(0.69993812), array(0.99558043), array(0.95784435), array(-0.37954762), array(0.94005681), array(0.46644664), array(4.56157178), array(0.08192729), array(4.59314072), array(0.94842784), array(0.22153465), array(9.12314356), array(3.7086956), array(6.2660109), array(4.28600382), array(617.13657957), array(0.36647065), array(0.52061741), array(328.01068884), array(6.6926473), array(28.43349169), array(4.06413302), array(97.0783848), array(0.38569545), array(0.09105019), array(0.46555819), array(15.63159805), array(0.03993896), array(138.01381509), array(0.14666718), array(7.48388503), array(32.75026567), array(4.9946865), array(112.77364506), array(0.47735761), array(0.08716655), array(4.76650186), array(384.18597237), array(0.40827415), array(0.5587886), array(1.79207007), array(0.65723322), array(23.75057722), array(0.05469508), array(138.01381509), array(0.14666718), array(7.48388503), array(32.75026567), array(4.9946865), array(112.77364506), array(0.47735761), array(0.08716655), array(384.18597237), array(0.40827415), array(0.65723322), array(23.75057722), array(0.05469508), array(4.76650186), array(0.5587886), array(1.79207007), array(2.16684796), array(0.0079006), array(45.08382097), array(0.03389036), array(1.11829958), 0]\n",
      "Pancreas_20.dcm\n",
      "[0.37068423024054753, 78.01629278965761, array(76.91286225), array(1604.44641113), 28.91940943895541, array(188.94649043), array(0.11776429), 1604.815673828125, 0.7514995251543843, array(-3.8), array(153.), array(2.02001044e+08), array(3.533339), array(90.), array(38.63019658), array(2689.), array(107.88591527), array(119.01334561), array(71.), array(-66.), array(2755.), array(36.02416306), array(304.89264215), array(5.72214506), array(1.491829e+08), array(0.1119282), array(78795.34680763), array(186.85626186), array(8688804.97387514), array(60459.950435), array(494.61979911), array(24.87239089), array(0.90424345), array(1.54411765), array(1.92442868), array(22.48809158), array(0.67390215), array(0.65573674), array(0.99816599), array(0.98766171), array(-0.434299), array(0.97669366), array(0.43786966), array(8.33183112), array(0.0337134), array(5.54756996), array(0.93480864), array(0.06499051), array(16.66366224), array(4.48079843), array(129.8730475), array(4.96875126), array(785.91486424), array(0.36167274), array(0.54104498), array(243.21997239), array(126.22155649), array(194.76898297), array(3.8973769), array(393.6985734), array(0.18063663), array(0.04448951), array(0.49859385), array(154.50531779), array(0.02075843), array(137.7107959), array(0.10851915), array(190.44946071), array(281.60756501), array(4.63593381), array(501.33727344), array(0.21056415), array(0.042621), array(5.24386584), array(570.10165485), array(0.44925268), array(0.58398527), array(1.70371612), array(0.695252), array(252.43944121), array(0.02802814), array(137.7107959), array(0.10851915), array(190.44946071), array(281.60756501), array(4.63593381), array(501.33727344), array(0.21056415), array(0.042621), array(570.10165485), array(0.44925268), array(0.695252), array(252.43944121), array(0.02802814), array(5.24386584), array(0.58398527), array(1.70371612), array(0.14397866), array(0.00822843), array(3734.89814016), array(0.04113342), array(196.99775096), 0]\n",
      "Pancreas_21.dcm\n"
     ]
    },
    {
     "name": "stderr",
     "output_type": "stream",
     "text": [
      "Shape features are only available 3D input (for 2D input, use shape2D). Found 2D input\n",
      "GLCM is symmetrical, therefore Sum Average = 2 * Joint Average, only 1 needs to be calculated\n",
      "Shape features are only available 3D input (for 2D input, use shape2D). Found 2D input\n",
      "GLCM is symmetrical, therefore Sum Average = 2 * Joint Average, only 1 needs to be calculated\n",
      "Shape features are only available 3D input (for 2D input, use shape2D). Found 2D input\n",
      "GLCM is symmetrical, therefore Sum Average = 2 * Joint Average, only 1 needs to be calculated\n"
     ]
    },
    {
     "name": "stdout",
     "output_type": "stream",
     "text": [
      "[0.6935055613057884, 69.10590643235965, array(73.17314454), array(2376.94396973), 47.92533042991887, array(216.70560505), array(0.09116984), 2377.313232421875, 0.7975249156700285, array(4.), array(162.), array(2.20447018e+08), array(3.43267573), array(89.5), array(55.69590834), array(2689.), array(82.90173993), array(121.20037279), array(101.), array(-70.), array(2759.), array(37.50793516), array(261.69271077), array(6.81684977), array(1.6280572e+08), array(0.1213889), array(53793.54450437), array(149.71913678), array(5797664.67334086), array(40331.31266766), array(334.73569508), array(16.72738813), array(0.90481283), array(1.17930816), array(1.70617846), array(15.3366204), array(0.70892107), array(0.695185), array(0.99876587), array(0.99043529), array(-0.45915213), array(0.97839992), array(0.42706601), array(8.37956204), array(0.0443474), array(5.290119), array(0.93644555), array(0.13202158), array(16.75912409), array(4.35851734), array(87.8657708), array(4.88790321), array(1138.78999689), array(0.35377136), array(0.55220609), array(390.7508543), array(86.18240949), array(156.17676297), array(4.27990059), array(390.42590867), array(0.15724022), array(0.03767264), array(0.45098547), array(113.1054848), array(0.01732731), array(187.26844858), array(0.10881374), array(141.52505891), array(227.78500872), array(5.7100523), array(542.27832655), array(0.20457386), array(0.03854697), array(5.38054458), array(688.20395119), array(0.39988608), array(0.53463809), array(2.21156571), array(0.65374876), array(197.08797104), array(0.02536697), array(187.26844858), array(0.10881374), array(141.52505891), array(227.78500872), array(5.7100523), array(542.27832655), array(0.20457386), array(0.03854697), array(688.20395119), array(0.39988608), array(0.65374876), array(197.08797104), array(0.02536697), array(5.38054458), array(0.53463809), array(2.21156571), array(0.17937209), array(0.00590108), array(3224.00281003), array(0.02328378), array(157.42497174), 0]\n",
      "Pancreas_22.dcm\n",
      "[0.22731376329091335, 121.3815767059049, array(112.50922271), array(2338.54064941), 27.59170299520391, array(273.40953604), array(0.1169146), 2338.909912109375, 0.6269945066055173, array(-3.), array(224.), array(62426095.), array(3.79616727), array(92.5), array(5.88779815), array(583.), array(69.8851405), array(100.82696558), array(84.), array(-109.), array(692.), array(40.93026843), array(140.39739598), array(1.33819434), array(46103256.19506836), array(0.09693956), array(9545.35180838), array(106.06383668), array(21573.00236576), array(634.05462473), array(59.88874021), array(1.78645496), array(0.94206893), array(0.9536617), array(1.7748568), array(0.87698432), array(0.62984754), array(0.60159012), array(0.9978948), array(0.96907545), array(-0.3906393), array(0.97397754), array(0.49443535), array(9.56756319), array(0.02591087), array(6.11533619), array(0.95918654), array(0.07744653), array(19.13512638), array(4.76361703), array(15.41879879), array(5.15823496), array(1260.75055257), array(0.39808985), array(0.47854328), array(307.00757815), array(15.33220756), array(106.57783391), array(3.25071045), array(309.92737607), array(0.06357317), array(0.01969575), array(0.57941269), array(67.51254254), array(0.01137023), array(183.18448439), array(0.08665302), array(16.92604871), array(114.18259224), array(3.13197729), array(299.29706717), array(0.06106937), array(0.01973906), array(5.20947887), array(1105.5884579), array(0.52298413), array(0.66750868), array(0.88765016), array(0.75120275), array(90.29985187), array(0.01473819), array(183.18448439), array(0.08665302), array(16.92604871), array(114.18259224), array(3.13197729), array(299.29706717), array(0.06106937), array(0.01973906), array(1105.5884579), array(0.52298413), array(0.75120275), array(90.29985187), array(0.01473819), array(5.20947887), array(0.66750868), array(0.88765016), array(0.48930174), array(0.00624442), array(239.15310572), array(0.02156498), array(3.68846339), 0]\n",
      "Pancreas_23.dcm\n",
      "[0.35479810400752854, 126.91143220255152, array(112.29239743), array(2984.75036621), 45.02793552234528, array(315.28509406), array(0.10563198), 2985.11962890625, 0.6142646177968419, array(-20.), array(178.), array(1.59391345e+08), array(3.51606196), array(94.75), array(100.70592243), array(2689.), array(70.64414604), array(108.34512618), array(113.), array(-126.), array(2815.), array(41.23436611), array(198.57940866), array(8.54254096), array(1.17714555e+08), array(0.10732448), array(27695.11517788), array(153.64056122), array(2559943.11996564), array(16796.45409808), array(155.09311947), array(7.69719388), array(0.90543425), array(0.91760204), array(1.58060762), array(6.85520037), array(0.6918653), array(0.67769441), array(0.99945576), array(0.99242383), array(-0.44484252), array(0.97743797), array(0.48099737), array(10.80701531), array(0.0351663), array(5.43568717), array(0.94937869), array(0.09540816), array(21.61403061), array(4.44151044), array(40.69757834), array(4.95763597), array(1503.90994557), array(0.37207074), array(0.51004532), array(433.80554181), array(44.40574708), array(161.93666502), array(3.87629886), array(519.90846116), array(0.05684166), array(0.01562547), array(0.48764363), array(98.01741437), array(0.00814077), array(238.02335456), array(0.10107149), array(67.2394643), array(188.70700637), array(4.38895966), array(618.56815287), array(0.06220277), array(0.01648023), array(5.22916282), array(1003.71167728), array(0.42620453), array(0.58263236), array(1.44310853), array(0.67389099), array(148.07025182), array(0.01156653), array(238.02335456), array(0.10107149), array(67.2394643), array(188.70700637), array(4.38895966), array(618.56815287), array(0.06220277), array(0.01648023), array(1003.71167728), array(0.42620453), array(0.67389099), array(148.07025182), array(0.01156653), array(5.22916282), array(0.58263236), array(1.44310853), array(0.22062622), array(0.00483274), array(1974.76018153), array(0.01974386), array(91.59969203), 0]\n"
     ]
    },
    {
     "name": "stderr",
     "output_type": "stream",
     "text": [
      "Shape features are only available 3D input (for 2D input, use shape2D). Found 2D input\n",
      "GLCM is symmetrical, therefore Sum Average = 2 * Joint Average, only 1 needs to be calculated\n",
      "Shape features are only available 3D input (for 2D input, use shape2D). Found 2D input\n",
      "GLCM is symmetrical, therefore Sum Average = 2 * Joint Average, only 1 needs to be calculated\n"
     ]
    },
    {
     "name": "stdout",
     "output_type": "stream",
     "text": [
      "Pancreas_24.dcm\n",
      "[0.21997253472741732, 149.09625439270758, array(138.74582095), array(2871.75598145), 32.797080997127715, array(332.04073637), array(0.11562289), 2872.125244140625, 0.5721202646260889, array(-89.), array(205.), array(67792475.), array(4.0317058), array(193.), array(3.69268454), array(583.), array(98.31680298), array(48.3026485), array(32.), array(-134.), array(717.), array(72.14060644), array(132.02974158), array(0.89241574), array(50066464.08081055), array(0.07458021), array(15098.70680965), array(94.24412393), array(32379.66197974), array(802.64522133), array(94.63507188), array(1.31650641), array(0.97255894), array(0.7545406), array(1.5937245), array(0.7471749), array(0.69125627), array(0.67355736), array(0.99855167), array(0.97620117), array(-0.50862122), array(0.99163764), array(0.46303271), array(8.42107372), array(0.02615239), array(6.00376171), array(0.97992366), array(0.07532051), array(16.84214744), array(4.96696756), array(23.98789457), array(5.45809915), array(1409.54204166), array(0.36244331), array(0.53775981), array(290.04242736), array(24.19984024), array(95.54564155), array(3.90563127), array(310.1889946), array(0.18466738), array(0.04425773), array(0.49587155), array(56.53181338), array(0.01992146), array(145.92538631), array(0.06442622), array(27.39878192), array(110.17262693), array(4.69801325), array(370.22472406), array(0.21355455), array(0.04135555), array(5.73623076), array(1009.01854305), array(0.4454828), array(0.58241193), array(1.74993183), array(0.69185719), array(84.79670227), array(0.02644582), array(145.92538631), array(0.06442622), array(27.39878192), array(110.17262693), array(4.69801325), array(370.22472406), array(0.21355455), array(0.04135555), array(1009.01854305), array(0.4454828), array(0.69185719), array(84.79670227), array(0.02644582), array(5.73623076), array(0.58241193), array(1.74993183), array(0.54042204), array(0.00802445), array(206.83941688), array(0.0281628), array(4.41845596), 0]\n",
      "Pancreas_25.dcm\n",
      "[0.6687246025492303, 71.5893726035112, array(72.96088689), array(2444.14978027), 47.87357474103178, array(225.92491307), array(0.09243497), 2444.51904296875, 0.7757195134414454, array(-75.), array(231.), array(80217446.), array(4.18637279), array(158.75), array(6.48712617), array(904.), array(96.43396099), array(90.06042296), array(74.), array(-128.), array(1032.), array(65.25879916), array(155.67555346), array(1.10890201), array(59242620.64208984), array(0.0659638), array(16123.99816175), array(126.99907493), array(61065.93915659), array(1061.30865772), array(101.16453161), array(2.19796485), array(0.95747075), array(0.87758249), array(1.74748663), array(1.42781383), array(0.67376662), array(0.65209387), array(0.99883833), array(0.98065986), array(-0.49143013), array(0.99180731), array(0.45425432), array(10.11224175), array(0.02107901), array(6.31674298), array(0.97094838), array(0.07585569), array(20.2244835), array(5.14364811), array(25.84062411), array(5.62167403), array(1201.07673716), array(0.36286306), array(0.54180082), array(218.34018127), array(25.84960743), array(128.31782477), array(3.83202417), array(421.98247734), array(0.11458221), array(0.02814858), array(0.50884525), array(75.38202417), array(0.01330481), array(113.8262863), array(0.05798588), array(30.45089531), array(144.19969435), array(4.56240448), array(498.88537952), array(0.13336956), array(0.02659528), array(5.85511284), array(905.77228732), array(0.46142246), array(0.59305136), array(1.71915225), array(0.70518566), array(110.79202197), array(0.01777914), array(113.8262863), array(0.05798588), array(30.45089531), array(144.19969435), array(4.56240448), array(498.88537952), array(0.13336956), array(0.02659528), array(905.77228732), array(0.46142246), array(0.70518566), array(110.79202197), array(0.01777914), array(5.85511284), array(0.59305136), array(1.71915225), array(0.22300696), array(0.0100458), array(388.37428), array(0.01997533), array(10.57720119), 0]\n",
      "Pancreas_26.dcm\n"
     ]
    },
    {
     "name": "stderr",
     "output_type": "stream",
     "text": [
      "Shape features are only available 3D input (for 2D input, use shape2D). Found 2D input\n",
      "GLCM is symmetrical, therefore Sum Average = 2 * Joint Average, only 1 needs to be calculated\n",
      "Shape features are only available 3D input (for 2D input, use shape2D). Found 2D input\n",
      "GLCM is symmetrical, therefore Sum Average = 2 * Joint Average, only 1 needs to be calculated\n",
      "Shape features are only available 3D input (for 2D input, use shape2D). Found 2D input\n",
      "GLCM is symmetrical, therefore Sum Average = 2 * Joint Average, only 1 needs to be calculated\n"
     ]
    },
    {
     "name": "stdout",
     "output_type": "stream",
     "text": [
      "[0.3527828993680649, 163.41935740715522, array(142.3167553), array(4370.22399902), 57.651554718962274, array(395.70603889), array(0.09054594), 4370.59326171875, 0.5922214083018056, array(-79.), array(207.), array(1.19725915e+08), array(4.0903505), array(183.75), array(5.40882642), array(893.), array(96.63803878), array(70.7345387), array(62.), array(-134.), array(1027.), array(70.34675783), array(142.2350409), array(0.98321863), array(88420628.14331055), array(0.06875068), array(15227.43189596), array(110.85905225), array(45001.31169753), array(854.77437473), array(95.52463399), array(1.52074293), array(0.96865914), array(0.75386218), array(1.57042898), array(0.95243475), array(0.69354908), array(0.67742843), array(0.99915555), array(0.98283679), array(-0.51362383), array(0.99246473), array(0.47055128), array(9.34655442), array(0.02292495), array(6.07543778), array(0.97744988), array(0.05554591), array(18.69310884), array(5.04127783), array(24.26134423), array(5.53866849), array(2143.32612369), array(0.36217069), array(0.53657574), array(406.86650896), array(24.40321984), array(111.82477188), array(3.94389997), array(392.08972626), array(0.1373416), array(0.03269657), array(0.48970185), array(62.23542113), array(0.01447577), array(214.60702782), array(0.06284247), array(27.34099711), array(123.48433382), array(4.80819912), array(474.59062958), array(0.16042622), array(0.03056542), array(5.80929782), array(1495.78711567), array(0.43800501), array(0.57705306), array(1.80510803), array(0.6855326), array(92.01340872), array(0.0192408), array(214.60702782), array(0.06284247), array(27.34099711), array(123.48433382), array(4.80819912), array(474.59062958), array(0.16042622), array(0.03056542), array(1495.78711567), array(0.43800501), array(0.6855326), array(92.01340872), array(0.0192408), array(5.80929782), array(0.57705306), array(1.80510803), array(0.40214431), array(0.00562192), array(404.73945207), array(0.01669073), array(6.94578617), 0]\n",
      "Pancreas_27.dcm\n",
      "[0.3395215661949257, 86.71345517674888, array(87.0687265), array(1406.89086914), 29.441088111783266, array(220.89081087), array(0.15700636), 1407.62939453125, 0.6019459379078107, array(-17.), array(180.), array(26959326.), array(3.28196201), array(85.), array(3.08539927), array(215.), array(53.25965499), array(96.25078699), array(99.), array(-98.), array(313.), array(36.46802677), array(118.93045134), array(-0.74830332), array(19910146.76513672), array(0.12495417), array(4880.23826014), array(78.24130435), array(2895.48692517), array(-124.86181203), array(30.60350189), array(0.975), array(0.93824913), array(0.68152174), array(1.45833096), array(0.51052812), array(0.70279891), array(0.6884335), array(0.99435093), array(0.95267806), array(-0.42899449), array(0.9696099), array(0.47420743), array(8.41630435), array(0.04437899), array(5.15582613), array(0.94554402), array(0.12445652), array(16.8326087), array(4.1882754), array(7.89462547), array(4.7148565), array(708.21511018), array(0.37157141), array(0.5095402), array(238.16264428), array(7.91593592), array(78.02360965), array(3.9590766), array(318.30587618), array(0.17227166), array(0.04365619), array(0.47534103), array(35.84857759), array(0.02020264), array(121.50505051), array(0.11157489), array(8.04758496), array(75.8640955), array(4.62626263), array(376.64554637), array(0.18619791), array(0.04345885), array(5.00447055), array(452.00826446), array(0.41506728), array(0.57135362), array(1.56295908), array(0.66268447), array(49.16731094), array(0.0276986), array(121.50505051), array(0.11157489), array(8.04758496), array(75.8640955), array(4.62626263), array(376.64554637), array(0.18619791), array(0.04345885), array(452.00826446), array(0.41506728), array(0.66268447), array(49.16731094), array(0.0276986), array(5.00447055), array(0.57135362), array(1.56295908), array(0.85983786), array(0.01029241), array(29.80913826), array(0.04557834), array(0.72293226), 0]\n",
      "Pancreas_28.dcm\n",
      "[0.3525361096642634, 88.22237270101792, array(87.71520689), array(2064.54772949), 31.10157205736757, array(217.69760648), array(0.10544566), 2064.9169921875, 0.7398841804057995, array(-26.), array(212.), array(56277840.), array(3.84431212), array(87.), array(5.60128968), array(583.), array(70.48984038), array(98.28040057), array(93.), array(-128.), array(711.), array(39.94500487), array(141.87312231), array(1.03098181), array(41562613.76953125), array(0.09578393), array(10468.94569598), array(125.06769684), array(24376.32474282), array(544.8634085), array(65.18497849), array(1.79801325), array(0.94631433), array(0.94518028), array(1.7753265), array(0.90464748), array(0.63393777), array(0.60607306), array(0.99802167), array(0.970336), array(-0.41190739), array(0.97860149), array(0.4893409), array(10.450883), array(0.02611058), array(6.09556698), array(0.95429216), array(0.06769684), array(20.901766), array(4.79273603), array(16.74574793), array(5.20688779), array(1101.60586552), array(0.39399351), array(0.4867709), array(267.81187411), array(16.84094115), array(125.98962804), array(3.30042918), array(368.82868383), array(0.06433119), array(0.01771056), array(0.57391512), array(79.69092752), array(0.00929312), array(160.88750676), array(0.08701325), array(18.59526893), array(135.85289346), array(3.31314224), array(367.9572742), array(0.07073965), array(0.01650044), array(5.26372684), array(961.64791779), array(0.52009082), array(0.66130186), array(1.02648794), array(0.74901345), array(107.65582196), array(0.01173529), array(160.88750676), array(0.08701325), array(18.59526893), array(135.85289346), array(3.31314224), array(367.9572742), array(0.07073965), array(0.01650044), array(961.64791779), array(0.52009082), array(0.74901345), array(107.65582196), array(0.01173529), array(5.26372684), array(0.66130186), array(1.02648794), array(0.36221504), array(0.00720557), array(245.55222906), array(0.02207824), array(4.41340068), 0]\n",
      "Pancreas_29.dcm\n"
     ]
    },
    {
     "name": "stderr",
     "output_type": "stream",
     "text": [
      "Shape features are only available 3D input (for 2D input, use shape2D). Found 2D input\n",
      "GLCM is symmetrical, therefore Sum Average = 2 * Joint Average, only 1 needs to be calculated\n",
      "Shape features are only available 3D input (for 2D input, use shape2D). Found 2D input\n",
      "GLCM is symmetrical, therefore Sum Average = 2 * Joint Average, only 1 needs to be calculated\n",
      "Shape features are only available 3D input (for 2D input, use shape2D). Found 2D input\n",
      "GLCM is symmetrical, therefore Sum Average = 2 * Joint Average, only 1 needs to be calculated\n"
     ]
    },
    {
     "name": "stdout",
     "output_type": "stream",
     "text": [
      "[0.3959262116568377, 107.14843714105788, array(96.59466748), array(2032.0526123), 42.422874802209854, array(282.0390623), array(0.13879516), 2032.421875, 0.5665824838606274, array(-84.), array(190.), array(35411478.), array(3.87182443), array(175.), array(2.2448047), array(431.), array(86.68126775), array(48.63299419), array(55.), array(-127.), array(558.), array(68.17305814), array(113.43519241), array(0.24805289), array(26152275.62255859), array(0.07698867), array(10502.37475441), array(87.79962193), array(9820.70766032), array(133.97693959), array(66.7057845), array(1.26427221), array(0.96279914), array(0.79848771), array(1.58942281), array(0.62668958), array(0.66657215), array(0.64627736), array(0.99782355), array(0.96875905), array(-0.46415019), array(0.98611552), array(0.49512518), array(8.45217391), array(0.02352943), array(5.94089335), array(0.96614834), array(0.06994329), array(16.90434783), array(4.80799693), array(16.99251418), array(5.27064341), array(1029.99636628), array(0.37427194), array(0.5254276), array(211.87281977), array(16.93586364), array(88.67405523), array(3.57776163), array(310.90588663), array(0.14401671), array(0.03726109), array(0.54249435), array(48.71727632), array(0.01859324), array(125.98259861), array(0.07307575), array(16.14952109), array(89.89617169), array(3.92343387), array(340.49013921), array(0.15688234), array(0.03491848), array(5.32306704), array(854.28306265), array(0.49552382), array(0.62645349), array(1.37529944), array(0.73130148), array(66.03908971), array(0.02417588), array(125.98259861), array(0.07307575), array(16.14952109), array(89.89617169), array(3.92343387), array(340.49013921), array(0.15688234), array(0.03491848), array(854.28306265), array(0.49552382), array(0.73130148), array(66.03908971), array(0.02417588), array(5.32306704), array(0.62645349), array(1.37529944), array(0.51027415), array(0.01020825), array(121.73696243), array(0.03311739), array(2.5239983), 0]\n",
      "Pancreas_3.dcm\n",
      "[0.24368153452383756, 118.81563426429277, array(110.86270586), array(2301.61437988), 28.953176082945916, array(273.9993178), array(0.11904658), 2301.983642578125, 0.6206856883455002, array(-57.), array(380.), array(1.72426119e+08), array(4.36471514), array(126.), array(6.77890276), array(950.), array(133.4849549), array(122.47641963), array(70.), array(-128.), array(1078.), array(65.28820156), array(235.19772977), array(1.99651725), array(1.27341067e+08), array(0.06801401), array(40317.49872212), array(192.64384463), array(415638.13064197), array(7800.08806953), array(252.41510756), array(7.03094141), array(0.94580036), array(1.42857143), array(2.25426223), array(4.99012508), array(0.61556376), array(0.58282188), array(0.99667663), array(0.97119137), array(-0.44408476), array(0.98961937), array(0.41926743), array(11.45852535), array(0.02002564), array(6.79684314), array(0.959869), array(0.06352864), array(22.91705069), array(5.321154), array(64.86151224), array(5.67064493), array(1191.42412576), array(0.38223424), array(0.5209121), array(211.99967918), array(64.63584024), array(195.08052615), array(3.42412576), array(432.49663138), array(0.08851634), array(0.0231924), array(0.56756853), array(149.34286886), array(0.01157787), array(112.68811881), array(0.0557862), array(81.52678438), array(246.26782178), array(3.60247525), array(483.27425743), array(0.09109618), array(0.02117093), array(5.90515058), array(1060.37029703), array(0.52493579), array(0.64805903), array(1.22141236), array(0.75287627), array(217.66909911), array(0.01455014), array(112.68811881), array(0.0557862), array(81.52678438), array(246.26782178), array(3.60247525), array(483.27425743), array(0.09109618), array(0.02117093), array(1060.37029703), array(0.52493579), array(0.75287627), array(217.66909911), array(0.01455014), array(5.90515058), array(0.64805903), array(1.22141236), array(0.22908363), array(0.00871884), array(720.5259064), array(0.04788259), array(14.46339479), 0]\n",
      "Pancreas_30.dcm\n",
      "[0.38543248743858394, 91.51461699825528, array(86.16493342), array(1632.14111328), 35.27270646662685, array(230.69990065), array(0.14134801), 1632.879638671875, 0.6207780850128461, array(-63.), array(170.), array(24677237.), array(3.61429527), array(153.), array(1.8528092), array(213.), array(73.87189336), array(61.39800995), array(72.), array(-123.), array(336.), array(59.31498686), array(105.64620347), array(-0.25062366), array(18224766.0949707), array(0.08600904), array(7391.4046817), array(74.60981308), array(3983.40517399), array(-72.74937162), array(46.58250153), array(1.10186916), array(0.95378489), array(0.73271028), array(1.51233765), array(0.5650048), array(0.68602025), array(0.66979955), array(0.99450206), array(0.95263186), array(-0.45162506), array(0.98073713), array(0.49081166), array(7.95233645), array(0.02662536), array(5.59884564), array(0.95825211), array(0.06401869), array(15.9046729), array(4.55905852), array(11.92109267), array(5.05862902), array(833.72455902), array(0.37708031), array(0.50011813), array(190.16598824), array(11.94985273), array(75.6318408), array(3.76164631), array(299.85707825), array(0.17205969), array(0.04932428), array(0.50055279), array(35.27129504), array(0.02650617), array(110.30454545), array(0.08356405), array(11.55895317), array(71.97424242), array(4.03257576), array(317.54393939), array(0.18328175), array(0.05230707), array(5.18627418), array(576.29090909), array(0.43658402), array(0.59701493), array(1.22695076), array(0.68279727), array(46.44965649), array(0.03736437), array(110.30454545), array(0.08356405), array(11.55895317), array(71.97424242), array(4.03257576), array(317.54393939), array(0.18328175), array(0.05230707), array(576.29090909), array(0.43658402), array(0.68279727), array(46.44965649), array(0.03736437), array(5.18627418), array(0.59701493), array(1.22695076), array(0.96284819), array(0.01099808), array(35.10594541), array(0.06464886), array(0.73132729), 0]\n"
     ]
    },
    {
     "name": "stderr",
     "output_type": "stream",
     "text": [
      "Shape features are only available 3D input (for 2D input, use shape2D). Found 2D input\n",
      "GLCM is symmetrical, therefore Sum Average = 2 * Joint Average, only 1 needs to be calculated\n",
      "Shape features are only available 3D input (for 2D input, use shape2D). Found 2D input\n",
      "GLCM is symmetrical, therefore Sum Average = 2 * Joint Average, only 1 needs to be calculated\n"
     ]
    },
    {
     "name": "stdout",
     "output_type": "stream",
     "text": [
      "Pancreas_31.dcm\n",
      "[0.1884799579153928, 119.76671231460696, array(106.96716261), array(1516.56188965), 22.573624896722077, array(256.76122252), array(0.16930481), 1516.93115234375, 0.5376573241512258, array(-84.7), array(180.7), array(27560709.), array(3.84835063), array(178.), array(2.36842415), array(473.), array(88.51842037), array(52.44741967), array(63.), array(-122.), array(595.), array(70.50314002), array(115.836379), array(0.18636434), array(20354283.38012695), array(0.07958253), array(10667.33486919), array(73.79450661), array(10133.17496449), array(92.16261962), array(66.79202392), array(1.36927772), array(0.95982243), array(0.81485249), array(1.6300389), array(0.70529314), array(0.6662979), array(0.64489148), array(0.99764968), array(0.96822693), array(-0.45731935), array(0.98493112), array(0.48444917), array(7.57884028), array(0.02473497), array(5.91938492), array(0.96420323), array(0.07019329), array(15.15768057), array(4.77770602), array(17.04032541), array(5.24399187), array(773.02531646), array(0.37635118), array(0.51527454), array(163.46251217), array(17.19631109), array(75.22005842), array(3.58033106), array(261.1489776), array(0.32049985), array(0.08541934), array(0.53721735), array(41.49126366), array(0.0425694), array(93.79345284), array(0.0731048), array(16.97477354), array(76.93764614), array(3.79734996), array(275.26110678), array(0.33875813), array(0.08167221), array(5.3438746), array(621.01558846), array(0.48403397), array(0.62463486), array(1.2343561), array(0.72255447), array(56.4281075), array(0.05550054), array(93.79345284), array(0.0731048), array(16.97477354), array(76.93764614), array(3.79734996), array(275.26110678), array(0.33875813), array(0.08167221), array(621.01558846), array(0.48403397), array(0.72255447), array(56.4281075), array(0.05550054), array(5.3438746), array(0.62463486), array(1.2343561), array(0.39317463), array(0.01350787), array(126.82588824), array(0.03353807), array(3.77074441), 0]\n",
      "Pancreas_32.dcm\n",
      "[0.4706830677766176, 114.17743320118306, array(113.01026316), array(3396.84753418), 53.74138452999268, array(316.67317692), array(0.09322561), 3397.216796875, 0.6524266312832586, array(-13.), array(163.1), array(1.61197121e+08), array(3.47180331), array(91.), array(115.3798478), array(2689.), array(65.52459972), array(92.83630435), array(86.), array(-102.), array(2791.), array(37.4944619), array(187.19736214), array(9.38237921), array(1.19048167e+08), array(0.10676106), array(26424.27298634), array(122.9432703), array(2741996.14527417), array(18158.52265287), array(158.08149082), array(7.27141268), array(0.91204977), array(0.90211346), array(1.57820441), array(6.45760399), array(0.69342329), array(0.67895568), array(0.99947791), array(0.99247119), array(-0.43318537), array(0.9748089), array(0.4765593), array(9.23259177), array(0.03284579), array(5.4268755), array(0.9421656), array(0.07541713), array(18.46518354), array(4.42231718), array(41.33822587), array(4.94256925), array(1718.2473913), array(0.37353204), array(0.50540624), array(491.10086957), array(42.3230758), array(127.46782609), array(3.91826087), array(400.65130435), array(0.08496971), array(0.02204522), array(0.47937198), array(76.57823671), array(0.01067288), array(278.86344776), array(0.10519179), array(60.69034339), array(151.23802339), array(4.47152018), array(467.12863071), array(0.09510381), array(0.02232404), array(5.19319721), array(1103.87740475), array(0.41640038), array(0.57630435), array(1.46062104), array(0.66443209), array(116.77246517), array(0.01485588), array(278.86344776), array(0.10519179), array(60.69034339), array(151.23802339), array(4.47152018), array(467.12863071), array(0.09510381), array(0.02232404), array(1103.87740475), array(0.41640038), array(0.66443209), array(116.77246517), array(0.01485588), array(5.19319721), array(0.57630435), array(1.46062104), array(0.27227542), array(0.00427336), array(2128.03447598), array(0.01541804), array(94.60323019), 0]\n",
      "Pancreas_33.dcm\n"
     ]
    },
    {
     "name": "stderr",
     "output_type": "stream",
     "text": [
      "Shape features are only available 3D input (for 2D input, use shape2D). Found 2D input\n",
      "GLCM is symmetrical, therefore Sum Average = 2 * Joint Average, only 1 needs to be calculated\n",
      "Shape features are only available 3D input (for 2D input, use shape2D). Found 2D input\n",
      "GLCM is symmetrical, therefore Sum Average = 2 * Joint Average, only 1 needs to be calculated\n",
      "Shape features are only available 3D input (for 2D input, use shape2D). Found 2D input\n",
      "GLCM is symmetrical, therefore Sum Average = 2 * Joint Average, only 1 needs to be calculated\n"
     ]
    },
    {
     "name": "stdout",
     "output_type": "stream",
     "text": [
      "[0.6288401032792772, 40.0040524910763, array(38.7100506), array(683.50524902), 25.156152500078043, array(129.93402769), array(0.19009953), 683.87451171875, 0.7132683578092385, array(-92.), array(151.), array(6966251.), array(3.42645239), array(125.), array(2.49549232), array(194.), array(72.30914684), array(-5.55831533), array(-33.5), array(-125.), array(319.), array(54.60698491), array(86.7349367), array(0.82263313), array(5144753.2409668), array(0.10948645), array(7492.0543747), array(39.4375), array(5577.42197684), array(273.06148189), array(46.79461648), array(1.13977273), array(0.95244447), array(0.76022727), array(1.54161396), array(0.56182722), array(0.67712121), array(0.65768048), array(0.99340241), array(0.94746125), array(-0.42790373), array(0.97291645), array(0.48387784), array(5.29375), array(0.03293324), array(5.38107779), array(0.98192806), array(0.09090909), array(10.5875), array(4.33292064), array(11.9835973), array(4.84524694), array(352.29805616), array(0.38045146), array(0.49618182), array(101.38444924), array(12.03339569), array(40.07991361), array(3.63282937), array(154.72354212), array(0.54088181), array(0.14280666), array(0.51937845), array(19.05519558), array(0.07201672), array(61.84358524), array(0.1086882), array(10.83402263), array(37.85940246), array(3.70826011), array(153.59929701), array(0.55166105), array(0.13845971), array(4.88322782), array(259.12302285), array(0.45540074), array(0.61447084), array(1.05977558), array(0.69915104), array(24.58513767), array(0.09536818), array(61.84358524), array(0.1086882), array(10.83402263), array(37.85940246), array(3.70826011), array(153.59929701), array(0.55166105), array(0.13845971), array(259.12302285), array(0.45540074), array(0.69915104), array(24.58513767), array(0.09536818), array(4.88322782), array(0.61447084), array(1.05977558), array(1.77362493), array(0.01909357), array(36.95901069), array(0.08230184), array(1.52301921), 0]\n",
      "Pancreas_34.dcm\n",
      "[0.3243543634355559, 83.76334589087305, array(76.36841631), array(1292.0501709), 27.169006735666418, array(197.12320175), array(0.15256621), 1292.41943359375, 0.6464082288282964, array(37.), array(170.1), array(1.79807661e+08), array(3.2001367), array(63.75), array(41.82811711), array(2689.), array(96.97180082), array(156.49542857), array(121.), array(-57.), array(2746.), array(28.153703), array(320.5420953), array(6.05209954), array(1.32792523e+08), array(0.14931004), array(78256.41569339), array(207.04778761), array(9007129.04188632), array(61247.36424553), array(473.5088647), array(25.11917404), array(0.89924684), array(1.4979351), array(1.85255475), array(22.87536447), array(0.66995937), array(0.65292142), array(0.99816618), array(0.98807078), array(-0.38927599), array(0.95748576), array(0.46328604), array(9.74424779), array(0.04867692), array(5.14374275), array(0.94862281), array(0.13156342), array(19.48849558), array(4.09448717), array(124.65700968), array(4.59000252), array(657.43314286), array(0.37567608), array(0.50445584), array(261.29257143), array(125.34692212), array(220.81657143), array(3.74857143), array(486.244), array(0.08033427), array(0.02109046), array(0.50460317), array(167.73844444), array(0.01005586), array(143.90943756), array(0.13718726), array(185.88174675), array(301.22402288), array(4.11248808), array(581.93612965), array(0.08490258), array(0.02060195), array(4.88153138), array(465.83889418), array(0.44407902), array(0.59942857), array(1.32941173), array(0.68893749), array(264.06756064), array(0.01339582), array(143.90943756), array(0.13718726), array(185.88174675), array(301.22402288), array(4.11248808), array(581.93612965), array(0.08490258), array(0.02060195), array(465.83889418), array(0.44407902), array(0.68893749), array(264.06756064), array(0.01339582), array(4.88153138), array(0.59942857), array(1.32941173), array(0.14468445), array(0.00744435), array(3511.7611954), array(0.0597807), array(197.107017), 0]\n",
      "Pancreas_35.dcm\n",
      "[0.44189611975713905, 135.62205061128418, array(119.69708676), array(3481.7779541), 59.9308579186328, array(358.32539658), array(0.10291449), 3482.147216796875, 0.5837513223272542, array(-95.), array(113.), array(38746803.), array(3.53119054), array(148.), array(3.66215539), array(463.), array(77.21601252), array(2.46638388), array(-15.), array(-131.), array(594.), array(61.01265414), array(90.65193711), array(0.84077313), array(28615497.82104492), array(0.10952311), array(8211.6906515), array(55.70452064), array(9538.37643688), array(310.98474283), array(51.34507673), array(1.16903254), array(0.95547739), array(0.74055471), array(1.54717849), array(0.62061127), array(0.68781965), array(0.6703328), array(0.99814707), array(0.97210696), array(-0.44626482), array(0.97818063), array(0.47587598), array(6.56966587), array(0.03982133), array(5.47101953), array(0.96579215), array(0.12841232), array(13.13933173), array(4.44421326), array(13.12852732), array(4.95054617), array(1734.40615058), array(0.3678486), array(0.52325052), array(516.40148462), array(13.17254735), array(56.92873807), array(3.84623542), array(183.55355249), array(0.24727374), array(0.05803096), array(0.49817368), array(33.26051608), array(0.02568628), array(250.68864865), array(0.09033825), array(14.31867725), array(64.94126126), array(4.47387387), array(206.0154955), array(0.29613401), array(0.0526386), array(5.27077262), array(1232.40900901), array(0.44411135), array(0.58854719), array(1.58693613), array(0.68958349), array(49.14000299), array(0.03353971), array(250.68864865), array(0.09033825), array(14.31867725), array(64.94126126), array(4.47387387), array(206.0154955), array(0.29613401), array(0.0526386), array(1232.40900901), array(0.44411135), array(0.68958349), array(49.14000299), array(0.03353971), array(5.27077262), array(0.58854719), array(1.58693613), array(1.23777137), array(0.00449591), array(157.5817142), array(0.02369629), array(2.02214659), 0]\n",
      "Pancreas_36.dcm\n"
     ]
    },
    {
     "name": "stderr",
     "output_type": "stream",
     "text": [
      "Shape features are only available 3D input (for 2D input, use shape2D). Found 2D input\n",
      "GLCM is symmetrical, therefore Sum Average = 2 * Joint Average, only 1 needs to be calculated\n",
      "Shape features are only available 3D input (for 2D input, use shape2D). Found 2D input\n",
      "GLCM is symmetrical, therefore Sum Average = 2 * Joint Average, only 1 needs to be calculated\n",
      "Shape features are only available 3D input (for 2D input, use shape2D). Found 2D input\n",
      "GLCM is symmetrical, therefore Sum Average = 2 * Joint Average, only 1 needs to be calculated\n"
     ]
    },
    {
     "name": "stdout",
     "output_type": "stream",
     "text": [
      "[0.6585968180667957, 80.22907037412251, array(79.79240185), array(2391.71447754), 52.83861046485411, array(266.3260167), array(0.1113536), 2392.083740234375, 0.6509475617484223, array(-57.2), array(225.), array(81728455.), array(4.15468576), array(126.), array(7.04591463), array(893.), array(89.89979221), array(97.74529176), array(87.), array(-134.), array(1027.), array(55.51386507), array(158.84778763), array(1.30612566), array(60358539.15405273), array(0.07017792), array(15678.47757508), array(133.60088974), array(62688.7012829), array(1201.94327282), array(97.49369508), array(2.06387035), array(0.95853916), array(0.86209088), array(1.69876464), array(1.32066967), array(0.6696112), array(0.64877888), array(0.99886194), array(0.9805201), array(-0.48671818), array(0.99116199), array(0.47377938), array(10.47585002), array(0.0207952), array(6.28045348), array(0.96966507), array(0.05338418), array(20.95170003), array(5.1136388), array(24.88939136), array(5.58614599), array(1200.85489349), array(0.37074865), array(0.52382772), array(227.30626737), array(25.05063606), array(133.88854585), array(3.69836369), array(424.9079963), array(0.0979032), array(0.02403982), array(0.52162876), array(80.47916023), array(0.01123052), array(130.53167765), array(0.06615899), array(28.72376988), array(149.70146984), array(4.01064369), array(464.20223011), array(0.10424658), array(0.02204132), array(5.73852106), array(924.12214901), array(0.46838426), array(0.60913862), array(1.31558811), array(0.71053012), array(115.9313327), array(0.01447427), array(130.53167765), array(0.06615899), array(28.72376988), array(149.70146984), array(4.01064369), array(464.20223011), array(0.10424658), array(0.02204132), array(924.12214901), array(0.46838426), array(0.71053012), array(115.9313327), array(0.01447427), array(5.73852106), array(0.60913862), array(1.31558811), array(0.22950906), array(0.00904262), array(416.98592279), array(0.01912063), array(10.47044702), 0]\n",
      "Pancreas_37.dcm\n",
      "[0.3037500850714458, 159.9495384676486, array(142.4308743), array(3494.33288574), 48.584685916686766, array(394.12425571), array(0.11278956), 3494.7021484375, 0.5316843854831805, array(-80.), array(163.), array(56775547.), array(3.73736841), array(171.), array(2.28548323), array(463.), array(85.12850324), array(50.69590025), array(59.), array(-128.), array(591.), array(69.69782786), array(109.53635767), array(0.10577997), array(41930183.02612305), array(0.08621549), array(9428.13934921), array(86.690941), array(7676.65486637), array(47.97657762), array(58.98308262), array(1.39833297), array(0.95368333), array(0.80872998), array(1.64049432), array(0.74428878), array(0.67165889), array(0.65101154), array(0.99778793), array(0.96970126), array(-0.43879616), array(0.98094226), array(0.47799267), array(8.50263216), array(0.02671775), array(5.82914311), array(0.96365388), array(0.06997148), array(17.00526431), array(4.67505714), array(15.0953539), array(5.17541858), array(1773.27134404), array(0.37474035), array(0.51241703), array(407.97168216), array(15.17228052), array(88.19674556), array(3.6635672), array(319.75972105), array(0.12816832), array(0.03439288), array(0.52195454), array(46.62116089), array(0.01771929), array(229.70117322), array(0.07926196), array(15.48131288), array(88.98619738), array(3.94478951), array(342.95617667), array(0.14111602), array(0.03395467), array(5.33943689), array(1348.56038647), array(0.46534175), array(0.61242604), array(1.2785896), array(0.70754549), array(63.54733637), array(0.02388096), array(229.70117322), array(0.07926196), array(15.48131288), array(88.98619738), array(3.94478951), array(342.95617667), array(0.14111602), array(0.03395467), array(1348.56038647), array(0.46534175), array(0.70754549), array(63.54733637), array(0.02388096), array(5.33943689), array(0.61242604), array(1.2785896), array(0.78857132), array(0.00518704), array(144.32375305), array(0.02820627), array(1.6073138), 0]\n",
      "Pancreas_38.dcm\n",
      "[0.4753710133976024, 138.60446654278067, array(130.1634011), array(3203.35388184), 65.88854572187572, array(387.99696153), array(0.1211221), 3203.72314453125, 0.5171053926487903, array(-97.), array(157.), array(52469047.), array(3.74555792), array(187.), array(2.65224387), array(457.), array(93.64887425), array(21.65859843), array(9.), array(-131.), array(588.), array(75.88877785), array(109.97825239), array(0.61175092), array(38749723.43139648), array(0.09669329), array(11626.1211121), array(72.5508839), array(13624.90084829), array(364.94239919), array(73.39152304), array(1.13473483), array(0.96954805), array(0.73005256), array(1.52144366), array(0.6017581), array(0.68920864), array(0.67279242), array(0.99820243), array(0.972476), array(-0.48327964), array(0.9864984), array(0.48240142), array(7.38150979), array(0.03535749), array(5.67824882), array(0.98080161), array(0.12780698), array(14.76301959), array(4.66073618), array(18.63156447), array(5.16522631), array(1610.7307515), array(0.37130723), array(0.51421652), array(419.45550945), array(18.68091922), array(73.25956662), array(3.81558322), array(236.30935915), array(0.23976227), array(0.05754957), array(0.49870652), array(42.62928385), array(0.02555636), array(203.10756041), array(0.07915338), array(20.10974452), array(83.04793453), array(4.28682775), array(259.8355417), array(0.2704799), array(0.05282821), array(5.47296778), array(1128.92361652), array(0.43995464), array(0.59151683), array(1.42880427), array(0.68616729), array(62.52270129), array(0.03319728), array(203.10756041), array(0.07915338), array(20.10974452), array(83.04793453), array(4.28682775), array(259.8355417), array(0.2704799), array(0.05282821), array(1128.92361652), array(0.43995464), array(0.68616729), array(62.52270129), array(0.03319728), array(5.47296778), array(0.59151683), array(1.42880427), array(0.91941335), array(0.00574785), array(158.2160031), array(0.03061093), array(2.39574263), 0]\n"
     ]
    },
    {
     "name": "stderr",
     "output_type": "stream",
     "text": [
      "Shape features are only available 3D input (for 2D input, use shape2D). Found 2D input\n",
      "GLCM is symmetrical, therefore Sum Average = 2 * Joint Average, only 1 needs to be calculated\n",
      "Shape features are only available 3D input (for 2D input, use shape2D). Found 2D input\n",
      "GLCM is symmetrical, therefore Sum Average = 2 * Joint Average, only 1 needs to be calculated\n"
     ]
    },
    {
     "name": "stdout",
     "output_type": "stream",
     "text": [
      "Pancreas_39.dcm\n",
      "[0.3192185971661697, 84.50514304613651, array(80.05113875), array(1430.89294434), 26.975613216514194, array(205.92547109), array(0.14391396), 1431.26220703125, 0.6511760738815783, array(5.), array(219.), array(42764377.), array(3.77081745), array(106.), array(3.56507762), array(463.), array(67.3929258), array(120.82920537), array(123.), array(-103.), array(566.), array(45.23324807), array(148.54710365), array(0.21898419), array(31582578.22875977), array(0.0904143), array(7466.5451326), array(118.92758253), array(7327.92520756), array(47.54942894), array(45.98338392), array(2.21778488), array(0.90797796), array(1.07082002), array(1.9029958), array(1.07112936), array(0.60535651), array(0.57060682), array(0.99621144), array(0.95884552), array(-0.35932988), array(0.96613132), array(0.4828183), array(10.39164004), array(0.02273126), array(6.18498258), array(0.92215513), array(0.0713525), array(20.78328009), array(4.6977866), array(12.0502922), array(5.07544755), array(812.43446852), array(0.41921283), array(0.43548028), array(175.22291022), array(12.07772021), array(119.33591331), array(3.02063983), array(348.73323013), array(0.04937794), array(0.01685732), array(0.60434583), array(74.36589841), array(0.01030375), array(112.95107487), array(0.08372948), array(13.143003), array(121.84951816), array(2.77687176), array(324.78502595), array(0.04444153), array(0.01711042), array(5.05773177), array(732.46627131), array(0.54296981), array(0.69607843), array(0.71299554), array(0.76437468), array(95.07327386), array(0.01308751), array(112.95107487), array(0.08372948), array(13.143003), array(121.84951816), array(2.77687176), array(324.78502595), array(0.04444153), array(0.01711042), array(732.46627131), array(0.54296981), array(0.76437468), array(95.07327386), array(0.01308751), array(5.05773177), array(0.69607843), array(0.71299554), array(0.35073682), array(0.01051749), array(136.28517559), array(0.02942367), array(2.3482335), 0]\n",
      "Pancreas_4.dcm\n",
      "[0.31304857173070205, 65.0251501787944, array(65.15966905), array(1001.07116699), 20.35603039004599, array(156.58513131), array(0.15641758), 1001.4404296875, 0.7162867006165188, array(-41.5), array(171.), array(14249395.), array(3.53369078), array(113.), array(2.09822456), array(254.), array(63.15898204), array(69.09660767), array(69.), array(-97.), array(351.), array(48.13113891), array(102.51050381), array(-0.13523115), array(10523540.00854492), array(0.09244829), array(5734.06220088), array(61.50423403), array(2686.48584675), array(-28.12552326), array(35.93074201), array(0.84526559), array(0.95403168), array(0.64357198), array(1.36746042), array(0.4310807), array(0.70932769), array(0.69838337), array(0.99628993), array(0.96050601), array(-0.47847609), array(0.982818), array(0.49071936), array(7.2617398), array(0.03008769), array(5.37309873), array(0.95805282), array(0.05773672), array(14.5234796), array(4.47755855), array(9.1940019), array(4.99349159), array(508.37315634), array(0.37490646), array(0.50165549), array(125.35988201), array(9.25954786), array(62.17551622), array(3.94985251), array(247.70501475), array(0.22045395), array(0.05773891), array(0.47312357), array(29.60992298), array(0.02727075), array(71.28645161), array(0.09198252), array(9.1073232), array(61.93677419), array(4.5083871), array(287.08129032), array(0.24355577), array(0.05893423), array(5.18902246), array(317.94709677), array(0.41025432), array(0.57153392), array(1.44701602), array(0.65753662), array(41.2449272), array(0.03796124), array(71.28645161), array(0.09198252), array(9.1073232), array(61.93677419), array(4.5083871), array(287.08129032), array(0.24355577), array(0.05893423), array(317.94709677), array(0.41025432), array(0.65753662), array(41.2449272), array(0.03796124), array(5.18902246), array(0.57153392), array(1.44701602), array(0.56477709), array(0.01798408), array(39.14979869), array(0.03963825), array(1.40046607), 0]\n",
      "Pancreas_40.dcm\n"
     ]
    },
    {
     "name": "stderr",
     "output_type": "stream",
     "text": [
      "Shape features are only available 3D input (for 2D input, use shape2D). Found 2D input\n",
      "GLCM is symmetrical, therefore Sum Average = 2 * Joint Average, only 1 needs to be calculated\n",
      "Shape features are only available 3D input (for 2D input, use shape2D). Found 2D input\n",
      "GLCM is symmetrical, therefore Sum Average = 2 * Joint Average, only 1 needs to be calculated\n",
      "Shape features are only available 3D input (for 2D input, use shape2D). Found 2D input\n",
      "GLCM is symmetrical, therefore Sum Average = 2 * Joint Average, only 1 needs to be calculated\n"
     ]
    },
    {
     "name": "stdout",
     "output_type": "stream",
     "text": [
      "[0.28969388707854477, 112.89599617303512, array(110.70938254), array(2710.75744629), 32.70527996697106, array(267.62772802), array(0.09872802), 2711.126708984375, 0.689634777734977, array(-43.), array(174.), array(43655579.), array(3.52515069), array(112.), array(2.20487463), array(229.), array(63.8405306), array(77.81067829), array(88.), array(-104.), array(333.), array(48.55791542), array(109.05050574), array(-0.38922362), array(32240753.53393555), array(0.0934101), array(5837.51114721), array(83.02498612), array(2992.73432589), array(-87.55154483), array(36.82071693), array(0.94863964), array(0.9497667), array(0.6721266), array(1.44326297), array(0.49688548), array(0.70514529), array(0.69134229), array(0.99584933), array(0.95898338), array(-0.4598384), array(0.98031136), array(0.47452179), array(8.60563576), array(0.02966618), array(5.43342193), array(0.95435419), array(0.05941144), array(17.21127152), array(4.47581944), array(9.44233914), array(5.00205359), array(1357.78834105), array(0.36986879), array(0.51255584), array(342.90847181), array(9.40341272), array(83.72650504), array(4.03622991), array(347.64859711), array(0.11197079), array(0.0280026), array(0.46582826), array(37.86977511), array(0.01313871), array(193.27074236), array(0.09377523), array(8.87727372), array(81.5361475), array(4.80397865), array(417.56137797), array(0.1310136), array(0.0282251), array(5.23453194), array(832.57981562), array(0.40396886), array(0.5614274), array(1.63139717), array(0.65351033), array(52.29366352), array(0.01849442), array(193.27074236), array(0.09377523), array(8.87727372), array(81.5361475), array(4.80397865), array(417.56137797), array(0.1310136), array(0.0282251), array(832.57981562), array(0.40396886), array(0.65351033), array(52.29366352), array(0.01849442), array(5.23453194), array(0.5614274), array(1.63139717), array(1.21875611), array(0.00668723), array(38.77559052), array(0.03961848), array(0.52566179), 0]\n",
      "Pancreas_41.dcm\n",
      "[0.26064199448839004, 103.52086811424701, array(97.4585812), array(1666.48254395), 26.98188553646692, array(244.69419626), array(0.14683274), 1666.851806640625, 0.5914004460183369, array(-38.), array(184.), array(32813938.), array(3.54530551), array(135.), array(5.44490516), array(815.), array(69.43928729), array(86.88613203), array(96.), array(-107.), array(922.), array(54.1023407), array(120.57670093), array(0.17545423), array(24233926.37939453), array(0.09365026), array(6989.54086661), array(90.71737132), array(6405.24418747), array(-11.19918059), array(43.27768145), array(1.25597426), array(0.94359438), array(0.6953125), array(1.45409616), array(0.77251479), array(0.70275748), array(0.68902418), array(0.99915802), array(0.98248711), array(-0.46866804), array(0.98175518), array(0.47763644), array(8.95611213), array(0.03101283), array(5.4237275), array(0.96255685), array(0.07444853), array(17.91222426), array(4.46696179), array(11.13341393), array(5.00061882), array(843.37837838), array(0.3736723), array(0.50467084), array(211.36863093), array(11.26593639), array(91.93132477), array(3.94284448), array(361.62206469), array(0.09639167), array(0.02459107), array(0.47548368), array(43.67518338), array(0.01194074), array(117.86310905), array(0.09115476), array(11.22882389), array(92.0479505), array(4.5158546), array(411.54601701), array(0.1145778), array(0.02481172), array(5.23214992), array(531.45320959), array(0.41102336), array(0.57288436), array(1.4688994), array(0.65964759), array(60.59352805), array(0.01675635), array(117.86310905), array(0.09115476), array(11.22882389), array(92.0479505), array(4.5158546), array(411.54601701), array(0.1145778), array(0.02481172), array(531.45320959), array(0.41102336), array(0.65964759), array(60.59352805), array(0.01675635), array(5.23214992), array(0.57288436), array(1.4688994), array(0.37546215), array(0.01043422), array(137.31820023), array(0.02390976), array(4.14818706), 0]\n",
      "Pancreas_42.dcm\n",
      "[0.3571442097946794, 109.95443659881957, array(106.97751845), array(3026.10778809), 39.269590372504595, array(275.30102912), array(0.09097529), 3026.47705078125, 0.7083359659695476, array(-91.), array(153.), array(46204606.), array(3.81131106), array(163.), array(3.25463334), array(588.), array(80.54901259), array(37.78574915), array(40.), array(-131.), array(719.), array(60.55128082), array(106.18340763), array(0.46161769), array(34123274.69482422), array(0.08332541), array(9847.15321809), array(79.09865805), array(10379.20856496), array(172.93905493), array(61.04786385), array(1.71197813), array(0.94544352), array(0.85760437), array(1.71304812), array(0.97649287), array(0.66520321), array(0.64241427), array(0.99813534), array(0.97313601), array(-0.44160481), array(0.98251947), array(0.46888648), array(8.01652584), array(0.02588412), array(5.93266917), array(0.96959534), array(0.07604374), array(16.03305169), array(4.74814612), array(15.68996049), array(5.22678681), array(1522.2284041), array(0.37145642), array(0.52180151), array(341.46754514), array(15.79925834), array(80.20595412), array(3.69155686), array(250.20644217), array(0.17990085), array(0.04418312), array(0.52178569), array(48.53740307), array(0.0205686), array(187.95958383), array(0.07521392), array(17.33378586), array(90.39215686), array(4.04721889), array(272.03441377), array(0.19700021), array(0.04043552), array(5.42584169), array(1172.67426971), array(0.46925741), array(0.60980966), array(1.35809138), array(0.710793), array(70.05139452), array(0.02655536), array(187.95958383), array(0.07521392), array(17.33378586), array(90.39215686), array(4.04721889), array(272.03441377), array(0.19700021), array(0.04043552), array(1172.67426971), array(0.46925741), array(0.710793), array(70.05139452), array(0.02655536), array(5.42584169), array(0.60980966), array(1.35809138), array(0.82334869), array(0.00594757), array(157.53996586), array(0.03214195), array(2.00026937), 0]\n",
      "Pancreas_43.dcm\n"
     ]
    },
    {
     "name": "stderr",
     "output_type": "stream",
     "text": [
      "Shape features are only available 3D input (for 2D input, use shape2D). Found 2D input\n",
      "GLCM is symmetrical, therefore Sum Average = 2 * Joint Average, only 1 needs to be calculated\n",
      "Shape features are only available 3D input (for 2D input, use shape2D). Found 2D input\n",
      "GLCM is symmetrical, therefore Sum Average = 2 * Joint Average, only 1 needs to be calculated\n",
      "Shape features are only available 3D input (for 2D input, use shape2D). Found 2D input\n",
      "GLCM is symmetrical, therefore Sum Average = 2 * Joint Average, only 1 needs to be calculated\n"
     ]
    },
    {
     "name": "stdout",
     "output_type": "stream",
     "text": [
      "[0.3862698308093027, 60.93499099847974, array(72.28973415), array(977.0690918), 23.537348663349153, array(163.04309263), array(0.16686956), 977.8076171875, 0.6796184573379032, array(-62.), array(156.), array(18492733.), array(3.67882846), array(101.25), array(4.18723164), array(463.), array(68.40216523), array(74.52794562), array(88.), array(-128.), array(591.), array(44.71673117), array(118.18342099), array(0.32985958), array(13657352.86254883), array(0.10304419), array(8412.90631874), array(103.36721828), array(11328.28716022), array(106.90506072), array(52.73196383), array(1.40189125), array(0.94820649), array(0.83293932), array(1.63124229), array(0.70810334), array(0.65853784), array(0.63632387), array(0.99778253), array(0.96874203), array(-0.4398836), array(0.98004807), array(0.49388724), array(9.51497242), array(0.03085799), array(5.73017146), array(0.96256854), array(0.08668243), array(19.02994484), array(4.59930841), array(13.53346377), array(5.0680206), array(510.12537764), array(0.38529107), array(0.49390294), array(136.4305136), array(13.58074668), array(103.98867069), array(3.46978852), array(338.12462236), array(0.08859227), array(0.02479871), array(0.54619839), array(60.112286), array(0.01310347), array(78.25118483), array(0.09271467), array(15.22203426), array(108.81161137), array(3.59004739), array(350.0936019), array(0.09267992), array(0.0242248), array(5.18685469), array(413.46919431), array(0.48989241), array(0.63746224), array(1.12916377), array(0.72591139), array(81.7489169), array(0.01716444), array(78.25118483), array(0.09271467), array(15.22203426), array(108.81161137), array(3.59004739), array(350.0936019), array(0.09267992), array(0.0242248), array(413.46919431), array(0.48989241), array(0.72591139), array(81.7489169), array(0.01716444), array(5.18685469), array(0.63746224), array(1.12916377), array(0.24639476), array(0.01469299), array(143.38455007), array(0.02740871), array(4.74226432), 0]\n",
      "Pancreas_44.dcm\n",
      "[0.28745172406334063, 119.63917016489373, array(123.90506777), array(2844.43054199), 34.39048572940609, array(295.75328604), array(0.10397627), 2844.7998046875, 0.6392533608045979, array(-72.), array(152.), array(45313356.), array(3.54958165), array(143.), array(2.18387785), array(376.), array(75.4392739), array(64.32294912), array(94.), array(-128.), array(504.), array(59.85043496), array(108.46009358), array(-0.37970806), array(33465063.94042969), array(0.10634966), array(7626.15011716), array(93.58360215), array(4722.10915985), array(-133.32483092), array(47.69772344), array(1.12903226), array(0.95375354), array(0.72849462), array(1.52908823), array(0.59832784), array(0.6908871), array(0.67450299), array(0.99769144), array(0.96902885), array(-0.44489043), array(0.97828184), array(0.47867906), array(9.05215054), array(0.03700135), array(5.50081233), array(0.96309586), array(0.10349462), array(18.10430108), array(4.47346434), array(12.20668892), array(4.99619781), array(1424.65005192), array(0.36984685), array(0.51715148), array(409.6588785), array(12.30382701), array(94.89096573), array(3.84787124), array(375.50778816), array(0.10375727), array(0.0280428), array(0.49513961), array(45.67480097), array(0.01439243), array(210.918692), array(0.09320313), array(12.45158674), array(92.60273973), array(4.39505082), array(427.19045515), array(0.12154848), array(0.02894905), array(5.25261505), array(988.52364118), array(0.43681999), array(0.58748702), array(1.49768422), array(0.68363892), array(62.19971654), array(0.02022555), array(210.918692), array(0.09320313), array(12.45158674), array(92.60273973), array(4.39505082), array(427.19045515), array(0.12154848), array(0.02894905), array(988.52364118), array(0.43681999), array(0.68363892), array(62.19971654), array(0.02022555), array(5.25261505), array(0.58748702), array(1.49768422), array(0.71166265), array(0.00539401), array(111.04093908), array(0.02665932), array(1.33215918), 0]\n",
      "Pancreas_45.dcm\n",
      "[0.2580089930880882, 148.9118028289561, array(138.89478123), array(3500.97961426), 38.42058430683089, array(354.3487101), array(0.10121416), 3501.348876953125, 0.5919279766677864, array(-58.), array(153.), array(51633433.), array(3.43957476), array(130.), array(2.04354345), array(212.), array(68.57187488), array(67.59902974), array(88.), array(-123.), array(335.), array(54.22756862), array(104.35914757), array(-0.52659937), array(38132601.27563477), array(0.1087058), array(6321.20285921), array(77.19762931), array(3184.95372815), array(-129.97414263), array(39.62659961), array(0.89288793), array(0.95592798), array(0.62607759), array(1.4215369), array(0.50091479), array(0.72572198), array(0.71319989), array(0.99553214), array(0.95933672), array(-0.46822256), array(0.97977818), array(0.44343199), array(8.21670259), array(0.04302126), array(5.2638136), array(0.96067359), array(0.14698276), array(16.43340517), array(4.36287849), array(10.12987189), array(4.91835473), array(1674.45032694), array(0.35318505), array(0.55282677), array(515.37418266), array(10.18115653), array(77.83273571), array(4.35372284), array(359.35604303), array(0.15320386), array(0.04037676), array(0.44210082), array(32.0545478), array(0.020442), array(229.92690763), array(0.09234012), array(10.30993516), array(72.91044177), array(6.14497992), array(523.45582329), array(0.19915494), array(0.04579891), array(5.34691904), array(979.52208835), array(0.39338236), array(0.52520565), array(2.51970275), array(0.64700088), array(45.06060775), array(0.03196516), array(229.92690763), array(0.09234012), array(10.30993516), array(72.91044177), array(6.14497992), array(523.45582329), array(0.19915494), array(0.04579891), array(979.52208835), array(0.39338236), array(0.64700088), array(45.06060775), array(0.03196516), array(5.34691904), array(0.52520565), array(2.51970275), array(1.59315018), array(0.0052664), array(31.10786223), array(0.04686677), array(0.38005651), 0]\n"
     ]
    },
    {
     "name": "stderr",
     "output_type": "stream",
     "text": [
      "Shape features are only available 3D input (for 2D input, use shape2D). Found 2D input\n",
      "GLCM is symmetrical, therefore Sum Average = 2 * Joint Average, only 1 needs to be calculated\n",
      "Shape features are only available 3D input (for 2D input, use shape2D). Found 2D input\n",
      "GLCM is symmetrical, therefore Sum Average = 2 * Joint Average, only 1 needs to be calculated\n"
     ]
    },
    {
     "name": "stdout",
     "output_type": "stream",
     "text": [
      "Pancreas_46.dcm\n",
      "[0.3217107751886788, 160.46253504517287, array(147.81499816), array(3396.10900879), 51.622526538123104, array(387.42199878), array(0.1140782), 3396.478271484375, 0.5332261819025524, array(-21.), array(131.), array(1.98935802e+08), array(3.31488858), array(83.), array(87.76404112), array(2689.), array(67.20524183), array(81.26201348), array(70.), array(-104.), array(2793.), array(34.78527963), array(207.98153049), array(8.53932791), array(1.46919141e+08), array(0.1222618), array(36652.80219042), array(129.75801354), array(4222361.2881634), array(28092.0765524), array(223.81940698), array(10.05056433), array(0.91404998), array(0.93273138), array(1.53208581), array(9.18057651), array(0.71259767), array(0.70154953), array(0.99928298), array(0.99236442), array(-0.44828618), array(0.97388596), array(0.4604928), array(8.73589165), array(0.04119435), array(5.13205994), array(0.96094406), array(0.08510158), array(17.4717833), array(4.25400832), array(58.46749283), array(4.79116387), array(1668.73776908), array(0.36284796), array(0.52897656), array(562.28201783), array(58.77473047), array(135.69819526), array(4.12981083), array(383.43813873), array(0.10141462), array(0.02477054), array(0.4603537), array(90.5311058), array(0.01146898), array(300.92268245), array(0.11870717), array(93.76109831), array(180.40157791), array(5.09625247), array(490.65009862), array(0.12393883), array(0.02495318), array(5.15229211), array(1018.18422091), array(0.40165058), array(0.55120678), array(1.80492653), array(0.6535112), array(149.29553111), array(0.01633006), array(300.92268245), array(0.11870717), array(93.76109831), array(180.40157791), array(5.09625247), array(490.65009862), array(0.12393883), array(0.02495318), array(1018.18422091), array(0.40165058), array(0.6535112), array(149.29553111), array(0.01633006), array(5.15229211), array(0.55120678), array(1.80492653), array(0.25552485), array(0.00404967), array(2796.52456857), array(0.01641849), array(125.9108684), 0]\n",
      "Pancreas_47.dcm\n",
      "[0.19130522292337335, 119.48505313607762, array(107.63821964), array(1608.13903809), 22.858114726208438, array(258.47997252), array(0.16073235), 1608.50830078125, 0.5499710516613832, array(20.), array(181.), array(2.11902359e+08), array(3.54644664), array(92.), array(39.10197422), array(2689.), array(105.50367562), array(145.83516988), array(105.), array(-57.), array(2746.), array(38.50502661), array(311.91693742), array(5.74385627), array(1.56495272e+08), array(0.10978514), array(76024.27907529), array(202.54949785), array(8235936.03527648), array(57898.70127034), array(479.49418164), array(24.52223816), array(0.9026927), array(1.46628407), array(1.82273401), array(22.37224918), array(0.68958841), array(0.67549644), array(0.99819548), array(0.98833447), array(-0.46714728), array(0.98173521), array(0.44380954), array(9.42372071), array(0.03632646), array(5.44500956), array(0.93569332), array(0.07938785), array(18.84744142), array(4.47592617), array(126.00410495), array(4.9570997), array(806.21763085), array(0.3701642), array(0.51285963), array(239.11202938), array(121.70730028), array(209.10146924), array(3.97061524), array(468.03443526), array(0.11214136), array(0.02863771), array(0.4751811), array(158.40965208), array(0.01321162), array(129.52979066), array(0.1042913), array(188.5828951), array(298.39371981), array(4.6763285), array(597.67552335), array(0.12754559), array(0.02868117), array(5.3351376), array(516.81803543), array(0.41611758), array(0.57024793), array(1.60113422), array(0.66383979), array(262.00201606), array(0.01823479), array(129.52979066), array(0.1042913), array(188.5828951), array(298.39371981), array(4.6763285), array(597.67552335), array(0.12754559), array(0.02868117), array(516.81803543), array(0.41611758), array(0.66383979), array(262.00201606), array(0.01823479), array(5.3351376), array(0.57024793), array(1.60113422), array(0.12667048), array(0.00809142), array(3742.5972435), array(0.04196488), array(184.11799446), 0]\n"
     ]
    },
    {
     "name": "stderr",
     "output_type": "stream",
     "text": [
      "Shape features are only available 3D input (for 2D input, use shape2D). Found 2D input\n",
      "GLCM is symmetrical, therefore Sum Average = 2 * Joint Average, only 1 needs to be calculated\n",
      "Shape features are only available 3D input (for 2D input, use shape2D). Found 2D input\n",
      "GLCM is symmetrical, therefore Sum Average = 2 * Joint Average, only 1 needs to be calculated\n"
     ]
    },
    {
     "name": "stdout",
     "output_type": "stream",
     "text": [
      "Pancreas_48.dcm\n",
      "[0.3157893317933643, 131.07575590950412, array(113.80149933), array(2133.23059082), 41.39232537297243, array(339.76463274), array(0.15927234), 2133.599853515625, 0.4818875030782315, array(11.), array(185.), array(46827199.), array(3.27741299), array(91.), array(3.45229765), array(229.), array(53.76349652), array(107.4423676), array(112.), array(-118.), array(347.), array(38.04316415), array(127.31375269), array(-0.89219918), array(34583075.43334961), array(0.12192785), array(4664.92926764), array(104.33648599), array(2876.5093897), array(-138.19925036), array(28.49956616), array(1.16224081), array(0.92163385), array(0.74172426), array(1.54990017), array(0.61208593), array(0.68793501), array(0.67039154), array(0.99494187), array(0.95512847), array(-0.39546892), array(0.96140886), array(0.47481034), array(9.87431793), array(0.04093264), array(5.23607065), array(0.92726291), array(0.0858494), array(19.74863587), array(4.19000729), array(7.41545174), array(4.71206895), array(1073.8847352), array(0.37171503), array(0.51449639), array(352.24956732), array(7.56215487), array(103.85877466), array(3.78296989), array(412.99757702), array(0.06899708), array(0.02069133), array(0.50386524), array(49.33781393), array(0.01140379), array(190.81881533), array(0.11081232), array(8.08153452), array(99.26074332), array(4.1562137), array(456.05226481), array(0.07319883), array(0.02261043), array(4.93932007), array(766.09175377), array(0.44488487), array(0.596054), array(1.34153525), array(0.69071778), array(65.77994877), array(0.01628455), array(190.81881533), array(0.11081232), array(8.08153452), array(99.26074332), array(4.1562137), array(456.05226481), array(0.07319883), array(0.02261043), array(766.09175377), array(0.44488487), array(0.69071778), array(65.77994877), array(0.01628455), array(4.93932007), array(0.596054), array(1.34153525), array(0.90282721), array(0.00648571), array(46.39225483), array(0.03453944), array(0.63910708), 0]\n",
      "Pancreas_49.dcm\n",
      "[0.3269863061561506, 100.69555244096735, array(91.49821762), array(1464.12658691), 32.92606673902487, array(242.1413689), array(0.16538281), 1464.495849609375, 0.5601769727132982, array(-70.8), array(172.), array(20591110.), array(3.59425474), array(163.), array(1.86451442), array(213.), array(74.33003373), array(51.54311649), array(52.), array(-128.), array(341.), array(59.18398518), array(101.9010179), array(-0.02579206), array(15207057.55615234), array(0.08969102), array(7727.12459079), array(86.19518577), array(4462.90746608), array(-10.45212591), array(49.19171581), array(0.98587127), array(0.96070472), array(0.71376243), array(1.44460751), array(0.47641447), array(0.68517356), array(0.67025579), array(0.99567853), array(0.95637371), array(-0.4717394), array(0.9829867), array(0.50628307), array(8.61067504), array(0.02966233), array(5.48980367), array(0.96980212), array(0.0837258), array(17.22135008), array(4.49933866), array(12.54439677), array(5.00710933), array(749.200706), array(0.37781175), array(0.50048763), array(177.85728694), array(12.46592862), array(85.91679274), array(3.69994957), array(332.59253656), array(0.11056694), array(0.03035797), array(0.51047795), array(41.79254216), array(0.01560816), array(101.56286428), array(0.08456525), array(11.72117047), array(82.66777685), array(3.89758535), array(349.33139051), array(0.11653514), array(0.03067877), array(5.14243797), array(537.01332223), array(0.44713849), array(0.60564801), array(1.17137467), array(0.69207046), array(55.37331494), array(0.02124387), array(101.56286428), array(0.08456525), array(11.72117047), array(82.66777685), array(3.89758535), array(349.33139051), array(0.11653514), array(0.03067877), array(537.01332223), array(0.44713849), array(0.69207046), array(55.37331494), array(0.02124387), array(5.14243797), array(0.60564801), array(1.17137467), array(0.70704462), array(0.01206127), array(42.2274323), array(0.05852338), array(0.9654596), 0]\n",
      "Pancreas_5.dcm\n"
     ]
    },
    {
     "name": "stderr",
     "output_type": "stream",
     "text": [
      "Shape features are only available 3D input (for 2D input, use shape2D). Found 2D input\n",
      "GLCM is symmetrical, therefore Sum Average = 2 * Joint Average, only 1 needs to be calculated\n",
      "Shape features are only available 3D input (for 2D input, use shape2D). Found 2D input\n",
      "GLCM is symmetrical, therefore Sum Average = 2 * Joint Average, only 1 needs to be calculated\n",
      "Shape features are only available 3D input (for 2D input, use shape2D). Found 2D input\n",
      "GLCM is symmetrical, therefore Sum Average = 2 * Joint Average, only 1 needs to be calculated\n"
     ]
    },
    {
     "name": "stdout",
     "output_type": "stream",
     "text": [
      "[0.3711650225285849, 113.0255542689135, array(100.21948569), array(2237.3626709), 41.95113239652707, array(278.4794145), array(0.12446771), 2237.73193359375, 0.6021158071682925, array(-88.), array(144.), array(32527195.), array(3.73373335), array(163.), array(2.64207213), array(396.), array(80.68450631), array(40.77590759), array(56.), array(-131.), array(527.), array(63.64500614), array(103.61007603), array(0.20283322), array(24022159.39331055), array(0.08797482), array(9072.37321494), array(78.93544003), array(7921.89696077), array(71.86274749), array(56.18362571), array(1.31430513), array(0.95428339), array(0.79102956), array(1.60316409), array(0.68857736), array(0.67332087), array(0.65345707), array(0.99732195), array(0.9665147), array(-0.44699448), array(0.98180297), array(0.48342573), array(8.07577302), array(0.02719123), array(5.77170988), array(0.96712921), array(0.06591913), array(16.15154604), array(4.66146718), array(14.37448271), array(5.1628044), array(1139.98283828), array(0.37623196), array(0.50643227), array(266.56369637), array(14.56519786), array(80.88283828), array(3.67788779), array(269.7310231), array(0.16400339), array(0.04117954), array(0.51681335), array(45.72176384), array(0.01955286), array(149.78830536), array(0.08109816), array(15.41891987), array(86.98484028), array(3.92744992), array(287.74066053), array(0.17511717), array(0.03844127), array(5.34886318), array(846.29507309), array(0.45819982), array(0.60957096), array(1.23621589), array(0.7011166), array(64.40076065), array(0.02547224), array(149.78830536), array(0.08109816), array(15.41891987), array(86.98484028), array(3.92744992), array(287.74066053), array(0.17511717), array(0.03844127), array(846.29507309), array(0.45819982), array(0.7011166), array(64.40076065), array(0.02547224), array(5.34886318), array(0.60957096), array(1.23621589), array(0.66782872), array(0.0076153), array(117.98974995), array(0.03431488), array(1.76322484), 0]\n",
      "Pancreas_50.dcm\n",
      "[0.39859196749183273, 112.48066980302951, array(99.77636126), array(2499.53918457), 44.833891481588715, array(303.53391593), array(0.12143595), 2499.908447265625, 0.5838854887622243, array(-12.6), array(179.), array(50528480.), array(3.55564552), array(93.), array(3.41134324), array(396.), array(59.06531649), array(96.29660266), array(108.), array(-116.), array(512.), array(40.44084991), array(122.17680967), array(-0.11872227), array(37316565.4296875), array(0.10358472), array(5654.13713765), array(96.00948012), array(4141.45451295), array(-25.92787352), array(35.19355797), array(1.33761468), array(0.92676859), array(0.79449541), array(1.62254066), array(0.70639172), array(0.67485729), array(0.65453028), array(0.99700885), array(0.96491715), array(-0.4095448), array(0.97246947), array(0.47550034), array(9.35657492), array(0.03196649), array(5.65661139), array(0.93440529), array(0.08165138), array(18.71314985), array(4.51262095), array(9.13279316), array(4.98949873), array(1276.32880355), array(0.3770543), array(0.50297633), array(350.63426883), array(9.10094138), array(96.80679468), array(3.69423929), array(359.59025111), array(0.07286736), array(0.02119636), array(0.51255539), array(49.81665846), array(0.01150488), array(194.37098345), array(0.09463047), array(10.11083724), array(96.60808179), array(4.03164557), array(399.17770204), array(0.0779902), array(0.02233441), array(5.18675045), array(929.74196689), array(0.45264945), array(0.60679468), array(1.31572873), array(0.69616289), array(67.7967706), array(0.0160329), array(194.37098345), array(0.09463047), array(10.11083724), array(96.60808179), array(4.03164557), array(399.17770204), array(0.0779902), array(0.02233441), array(929.74196689), array(0.45264945), array(0.69616289), array(67.7967706), array(0.0160329), array(5.18675045), array(0.60679468), array(1.31572873), array(0.70097497), array(0.00590436), array(99.13001858), array(0.02257151), array(1.15399644), 0]\n",
      "Pancreas_51.dcm\n",
      "[0.3035370211850881, 127.9945262890129, array(116.14287003), array(2142.09289551), 38.85107723776342, array(304.08792142), array(0.14195833), 2142.462158203125, 0.5395415713179594, array(-83.), array(155.), array(23215650.), array(3.45341656), array(144.), array(2.08285867), array(215.), array(77.40103741), array(8.65770424), array(-23.), array(-123.), array(338.), array(61.73838358), array(89.45745928), array(0.64945328), array(17145346.98486328), array(0.11074204), array(7927.68117901), array(46.1325171), array(5178.07779653), array(232.74840456), array(49.26874246), array(1.27583723), array(0.94951636), array(0.80410515), array(1.59825244), array(0.62925214), array(0.66552035), array(0.64443237), array(0.99364035), array(0.94828899), array(-0.408749), array(0.9697444), array(0.49088375), array(5.84245589), array(0.03570756), array(5.48943097), array(0.95544373), array(0.10262874), array(11.68491178), array(4.37541597), array(12.63614492), array(4.85406156), array(1108.99448466), array(0.38228007), array(0.49731261), array(321.26266805), array(12.78102726), array(47.1737332), array(3.53843502), array(159.07790417), array(0.34564718), array(0.09304842), array(0.53583056), array(26.07654449), array(0.04770227), array(178.62788145), array(0.09803945), array(12.11841368), array(48.70032931), array(3.64489572), array(160.08726674), array(0.36034689), array(0.0896248), array(4.98066236), array(868.83863886), array(0.47685985), array(0.62805929), array(1.10977461), array(0.71622292), array(35.30680162), array(0.06262815), array(178.62788145), array(0.09803945), array(12.11841368), array(48.70032931), array(3.64489572), array(160.08726674), array(0.36034689), array(0.0896248), array(868.83863886), array(0.47685985), array(0.71622292), array(35.30680162), array(0.06262815), array(4.98066236), array(0.62805929), array(1.10977461), array(3.78157462), array(0.00643693), array(40.9053726), array(0.07087902), array(0.60639491), 0]\n",
      "Pancreas_52.dcm\n"
     ]
    },
    {
     "name": "stderr",
     "output_type": "stream",
     "text": [
      "Shape features are only available 3D input (for 2D input, use shape2D). Found 2D input\n",
      "GLCM is symmetrical, therefore Sum Average = 2 * Joint Average, only 1 needs to be calculated\n",
      "Shape features are only available 3D input (for 2D input, use shape2D). Found 2D input\n",
      "GLCM is symmetrical, therefore Sum Average = 2 * Joint Average, only 1 needs to be calculated\n",
      "Shape features are only available 3D input (for 2D input, use shape2D). Found 2D input\n",
      "GLCM is symmetrical, therefore Sum Average = 2 * Joint Average, only 1 needs to be calculated\n"
     ]
    },
    {
     "name": "stdout",
     "output_type": "stream",
     "text": [
      "[0.2653872189699233, 175.62245000274154, array(161.56478556), array(4109.52453613), 46.60795359491197, array(417.30208307), array(0.1015451), 4109.893798828125, 0.5445655556549424, array(-72.), array(166.), array(59443990.), array(3.50687629), array(128.), array(2.02617791), array(223.), array(70.77513021), array(60.22353998), array(83.), array(-118.), array(341.), array(55.36646572), array(103.35259653), array(-0.40031146), array(43900895.93505859), array(0.10019221), array(7054.88444138), array(73.56118299), array(4036.42787955), array(-122.46346457), array(44.75785654), array(0.79020333), array(0.96530244), array(0.6116451), array(1.33787414), array(0.4160936), array(0.72157116), array(0.71200718), array(0.99602444), array(0.95995358), array(-0.49255112), array(0.98395289), array(0.47756855), array(7.91007394), array(0.03636893), array(5.2749657), array(0.97294356), array(0.0987061), array(15.82014787), array(4.42792073), array(11.38701497), array(4.97715309), array(2063.50709793), array(0.37080092), array(0.50930025), array(557.56963163), array(11.38758829), array(74.16010782), array(4.15867026), array(314.64564241), array(0.19905403), array(0.05108803), array(0.44792852), array(32.32403913), array(0.02445984), array(281.13654354), array(0.09272313), array(11.2500731), array(72.61807388), array(5.05903694), array(384.04254617), array(0.23966095), array(0.05421108), array(5.34727317), array(1164.80343008), array(0.38417), array(0.54483378), array(1.69026242), array(0.63429078), array(45.09560818), array(0.03591822), array(281.13654354), array(0.09272313), array(11.2500731), array(72.61807388), array(5.05903694), array(384.04254617), array(0.23966095), array(0.05421108), array(1164.80343008), array(0.38417), array(0.63429078), array(45.09560818), array(0.03591822), array(5.34727317), array(0.54483378), array(1.69026242), array(2.19189151), array(0.00439849), array(31.59409592), array(0.05431656), array(0.32244271), 0]\n",
      "Pancreas_53.dcm\n",
      "[0.2937777080472768, 112.83758804182546, array(112.63059369), array(2546.06628418), 33.14916799651029, array(269.59077362), array(0.10588521), 2546.435546875, 0.6634905779868893, array(6.), array(168.3), array(37733632.), array(3.22074883), array(64.25), array(3.2934681), array(215.), array(45.90552175), array(85.00638051), array(90.), array(-105.), array(320.), array(29.42715379), array(104.61180034), array(-0.50684946), array(27867245.3125), array(0.13383662), array(3717.54404282), array(85.41197392), array(1762.24960301), array(-53.57445067), array(22.88875599), array(0.90219324), array(0.9241566), array(0.65619443), array(1.41151915), array(0.47160212), array(0.70869393), array(0.6963353), array(0.99547378), array(0.95725294), array(-0.41834215), array(0.96531554), array(0.47951656), array(8.93953764), array(0.0471238), array(5.07722411), array(0.93192457), array(0.13544754), array(17.87907528), array(4.13993884), array(5.94773731), array(4.68646735), array(1265.23027842), array(0.36694614), array(0.51950322), array(461.46867749), array(6.04768686), array(85.59773782), array(4.05800464), array(354.40516241), array(0.07859344), array(0.0208294), array(0.46590616), array(38.83639469), array(0.01072715), array(232.57076205), array(0.12056545), array(6.3442714), array(83.88284085), array(4.7973043), array(421.49559357), array(0.09284774), array(0.02234978), array(5.01439215), array(779.90409539), array(0.40430487), array(0.55945476), array(1.60231021), array(0.6552692), array(53.89619247), array(0.01580438), array(232.57076205), array(0.12056545), array(6.3442714), array(83.88284085), array(4.7973043), array(421.49559357), array(0.09284774), array(0.02234978), array(779.90409539), array(0.40430487), array(0.6552692), array(53.89619247), array(0.01580438), array(5.01439215), array(0.55945476), array(1.60231021), array(1.44228305), array(0.00512275), array(36.86822981), array(0.03040535), array(0.43151923), 0]\n",
      "Pancreas_54.dcm\n"
     ]
    },
    {
     "name": "stderr",
     "output_type": "stream",
     "text": [
      "Shape features are only available 3D input (for 2D input, use shape2D). Found 2D input\n",
      "GLCM is symmetrical, therefore Sum Average = 2 * Joint Average, only 1 needs to be calculated\n",
      "Shape features are only available 3D input (for 2D input, use shape2D). Found 2D input\n",
      "GLCM is symmetrical, therefore Sum Average = 2 * Joint Average, only 1 needs to be calculated\n"
     ]
    },
    {
     "name": "stdout",
     "output_type": "stream",
     "text": [
      "[0.29919129728225285, 136.9287148489035, array(124.9762917), array(2520.9564209), 40.967879830835116, array(369.47197395), array(0.14656024), 2521.32568359375, 0.48173267010220044, array(-93.), array(135.), array(30094533.), array(3.62144168), array(168.), array(2.02010262), array(312.), array(80.55257428), array(20.43263035), array(30.), array(-131.), array(443.), array(66.21044254), array(93.88842329), array(0.23427337), array(22225576.73950195), array(0.09541143), array(8397.54364528), array(66.08561853), array(5451.76478238), array(87.28824721), array(52.67750682), array(1.11974406), array(0.9583717), array(0.72547227), array(1.5368331), array(0.59343404), array(0.69313427), array(0.67579599), array(0.99693783), array(0.96463672), array(-0.45552059), array(0.98121443), array(0.46717847), array(7.29357099), array(0.03401334), array(5.57912621), array(0.96930223), array(0.11547837), array(14.58714199), array(4.53860878), array(13.44931272), array(5.03303218), array(1266.48916227), array(0.37096929), array(0.51303448), array(325.73462214), array(13.50987654), array(67.42091388), array(3.87521968), array(232.47363796), array(0.21483254), array(0.04973242), array(0.48916227), array(36.49848662), array(0.02165004), array(164.33199397), array(0.08253742), array(13.53326029), array(73.75740834), array(4.4741336), array(254.58814666), array(0.26014087), array(0.04488017), array(5.31980604), array(860.91562029), array(0.43240363), array(0.58318688), array(1.53388188), array(0.6780031), array(52.8427293), array(0.02829507), array(164.33199397), array(0.08253742), array(13.53326029), array(73.75740834), array(4.4741336), array(254.58814666), array(0.26014087), array(0.04488017), array(860.91562029), array(0.43240363), array(0.6780031), array(52.8427293), array(0.02829507), array(5.31980604), array(0.58318688), array(1.53388188), array(1.05966006), array(0.0070613), array(77.31678358), array(0.03834549), array(1.15978298), 0]\n",
      "Pancreas_55.dcm\n",
      "[0.29658750624541547, 141.67049308577987, array(126.4333108), array(2825.96740723), 42.01769825286983, array(334.59356373), array(0.11839965), 2826.336669921875, 0.5632107346807327, array(-74.), array(197.), array(65514079.), array(3.717449), array(185.), array(1.76185587), array(272.), array(90.37553562), array(81.55239091), array(113.), array(-126.), array(398.), array(74.61890661), array(130.83926293), array(-0.3829639), array(48383810.78491211), array(0.08508965), array(10468.12026277), array(111.71447939), array(7774.94606123), array(-207.1458034), array(66.44635582), array(1.09788503), array(0.96749138), array(0.71773319), array(1.51737282), array(0.5827441), array(0.6941748), array(0.67816067), array(0.99626233), array(0.96119724), array(-0.47685585), array(0.98545612), array(0.47562907), array(9.76613341), array(0.028329), array(5.6611911), array(0.97036894), array(0.07131236), array(19.53226681), array(4.66397643), array(16.88606021), array(5.15727773), array(1415.38568069), array(0.36984209), array(0.51606272), array(325.63809773), array(16.86536853), array(112.46746799), array(3.8779723), array(447.74261824), array(0.1081431), array(0.02714267), array(0.49012862), array(52.74559417), array(0.01313872), array(176.75268817), array(0.07919027), array(15.81250221), array(109.42159498), array(4.37679211), array(495.04435484), array(0.12686272), array(0.02660459), array(5.37371783), array(958.11290323), array(0.42926205), array(0.58322446), array(1.43691929), array(0.6774858), array(71.28787459), array(0.01808718), array(176.75268817), array(0.07919027), array(15.81250221), array(109.42159498), array(4.37679211), array(495.04435484), array(0.12686272), array(0.02660459), array(958.11290323), array(0.42926205), array(0.6774858), array(71.28787459), array(0.01808718), array(5.37371783), array(0.58322446), array(1.43691929), array(0.9120008), array(0.00672595), array(53.98741283), array(0.05858641), array(0.77985772), 0]\n",
      "Pancreas_56.dcm\n"
     ]
    },
    {
     "name": "stderr",
     "output_type": "stream",
     "text": [
      "Shape features are only available 3D input (for 2D input, use shape2D). Found 2D input\n",
      "GLCM is symmetrical, therefore Sum Average = 2 * Joint Average, only 1 needs to be calculated\n",
      "Shape features are only available 3D input (for 2D input, use shape2D). Found 2D input\n",
      "GLCM is symmetrical, therefore Sum Average = 2 * Joint Average, only 1 needs to be calculated\n"
     ]
    },
    {
     "name": "stdout",
     "output_type": "stream",
     "text": [
      "[0.2290087034704636, 126.30090415159408, array(115.36129134), array(2335.58654785), 28.924006306903852, array(283.04588274), array(0.12118835), 2335.955810546875, 0.6052657129255079, array(-81.), array(204.), array(58543173.), array(3.9251828), array(186.), array(2.57360598), array(486.), array(94.58577796), array(77.10369902), array(92.), array(-127.), array(613.), array(74.40752418), array(136.04686315), array(0.09578421), array(43235619.70825195), array(0.07666867), array(12563.76856994), array(111.98785691), array(15718.29877494), array(48.78120765), array(79.17996159), array(1.06170003), array(0.97353744), array(0.67771579), array(1.50316114), array(0.60240135), array(0.71288426), array(0.69787362), array(0.99844253), array(0.9753911), array(-0.51865533), array(0.99139317), array(0.44589619), array(9.61552347), array(0.02830904), array(5.80702317), array(0.97735309), array(0.08729898), array(19.23104693), array(4.85088551), array(20.06041541), array(5.38881853), array(1111.27695226), array(0.35133637), array(0.56339758), array(242.50300348), array(20.15128808), array(112.44609548), array(4.17736326), array(469.75750869), array(0.13194443), array(0.03204642), array(0.46912214), array(53.08838304), array(0.01477398), array(116.73647871), array(0.06716713), array(21.23491183), array(112.62543153), array(5.65650173), array(637.08573072), array(0.1682113), array(0.03222579), array(5.72106537), array(739.13233602), array(0.42527752), array(0.54947834), array(2.34443682), array(0.67611207), array(76.73827008), array(0.02108504), array(116.73647871), array(0.06716713), array(21.23491183), array(112.62543153), array(5.65650173), array(637.08573072), array(0.1682113), array(0.03222579), array(739.13233602), array(0.42527752), array(0.67611207), array(76.73827008), array(0.02108504), array(5.72106537), array(0.54947834), array(2.34443682), array(0.32637867), array(0.01046893), array(138.07041596), array(0.02701279), array(3.45496573), 0]\n",
      "Pancreas_57.dcm\n",
      "[0.4297339447123486, 70.98549158515645, array(70.86587794), array(1581.55212402), 30.50487531623451, array(180.10844483), array(0.11388081), 1581.92138671875, 0.7827311374381706, array(-71.), array(171.), array(23206683.), array(3.65265654), array(169.), array(1.71742959), array(213.), array(78.86246307), array(52.1844071), array(62.), array(-123.), array(336.), array(64.62343776), array(104.08707435), array(-0.09968093), array(17138724.62768555), array(0.0832625), array(8110.90670364), array(70.46297181), array(4512.14240761), array(-33.83785073), array(51.37395669), array(1.23650263), array(0.95299404), array(0.7740086), array(1.5810794), array(0.63741331), array(0.67708234), array(0.65797649), array(0.99385092), array(0.95024158), array(-0.43858293), array(0.97944478), array(0.48320553), array(7.61108457), array(0.02507631), array(5.6994725), array(0.95637114), array(0.05255614), array(15.22216914), array(4.58907356), array(13.15261483), array(5.09347035), array(791.45378151), array(0.3694929), array(0.52401353), array(178.34827264), array(13.09261657), array(71.04295051), array(3.74789916), array(278.15312792), array(0.21758146), array(0.05908047), array(0.51377218), array(35.1716205), array(0.02966517), array(105.11937984), array(0.08148789), array(12.18169641), array(68.57131783), array(4.12868217), array(313.4744186), array(0.22676562), array(0.05932281), array(5.17753216), array(591.71472868), array(0.45869359), array(0.6022409), array(1.37153777), array(0.70280217), array(47.33994445), array(0.0402165), array(105.11937984), array(0.08148789), array(12.18169641), array(68.57131783), array(4.12868217), array(313.4744186), array(0.22676562), array(0.05932281), array(591.71472868), array(0.45869359), array(0.70280217), array(47.33994445), array(0.0402165), array(5.17753216), array(0.6022409), array(1.37153777), array(1.01604813), array(0.0120442), array(33.48994058), array(0.06914996), array(0.79839506), 0]\n",
      "Pancreas_58.dcm\n",
      "[0.23038597414723608, 98.31994807147632, array(95.70366709), array(1596.32263184), 22.651537014552737, array(222.73170868), array(0.139528), 1596.69189453125, 0.6358917912667821, array(-67.), array(176.), array(25092461.), array(3.61275973), array(163.75), array(1.7770406), array(213.), array(76.87755111), array(60.6933395), array(74.), array(-118.), array(331.), array(62.63725003), array(107.73176724), array(-0.18000182), array(18531419.56176758), array(0.086485), array(7922.45221281), array(76.20532319), array(4533.30760395), array(-69.45416157), array(50.38814331), array(1.15636882), array(0.95513125), array(0.74572243), array(1.54537382), array(0.60026687), array(0.68494138), array(0.6673621), array(0.99423757), array(0.95192801), array(-0.45034223), array(0.98046358), array(0.48100681), array(7.99358365), array(0.02752407), array(5.59542261), array(0.95986767), array(0.05988593), array(15.9871673), array(4.52764135), array(12.88612803), array(5.04616041), array(793.89639223), array(0.36720462), array(0.52694382), array(186.98057354), array(12.8024964), array(76.03515264), array(3.81776133), array(296.40055504), array(0.18401375), array(0.04733825), array(0.5042142), array(37.45320691), array(0.02274196), array(107.76287051), array(0.0840584), array(11.94570995), array(74.64196568), array(4.21684867), array(332.8673947), array(0.19542538), array(0.04626002), array(5.17448194), array(574.22152886), array(0.44791071), array(0.59296947), array(1.37281111), array(0.69422436), array(51.07356122), array(0.03059919), array(107.76287051), array(0.0840584), array(11.94570995), array(74.64196568), array(4.21684867), array(332.8673947), array(0.19542538), array(0.04626002), array(574.22152886), array(0.44791071), array(0.69422436), array(51.07356122), array(0.03059919), array(5.17448194), array(0.59296947), array(1.37281111), array(0.89367182), array(0.01218217), array(32.62427201), array(0.06425911), array(0.82955725), 0]\n",
      "Pancreas_59.dcm\n"
     ]
    },
    {
     "name": "stderr",
     "output_type": "stream",
     "text": [
      "Shape features are only available 3D input (for 2D input, use shape2D). Found 2D input\n",
      "GLCM is symmetrical, therefore Sum Average = 2 * Joint Average, only 1 needs to be calculated\n",
      "Shape features are only available 3D input (for 2D input, use shape2D). Found 2D input\n",
      "GLCM is symmetrical, therefore Sum Average = 2 * Joint Average, only 1 needs to be calculated\n",
      "Shape features are only available 3D input (for 2D input, use shape2D). Found 2D input\n",
      "GLCM is symmetrical, therefore Sum Average = 2 * Joint Average, only 1 needs to be calculated\n"
     ]
    },
    {
     "name": "stdout",
     "output_type": "stream",
     "text": [
      "[0.3146458056688049, 88.04996545826202, array(80.08803292), array(1372.54943848), 27.704552320725295, array(211.62090758), array(0.1541809), 1372.918701171875, 0.6205979799610511, array(-101.), array(115.), array(18901739.), array(3.24639875), array(104.5), array(5.46005667), array(396.), array(75.20317106), array(-26.24045186), array(-71.), array(-131.), array(527.), array(47.05439116), array(100.83497295), array(1.70144161), array(13959414.1784668), array(0.17005476), array(9479.13045617), array(43.40742825), array(19102.49790458), array(780.18093609), array(58.48228458), array(1.14518852), array(0.96158856), array(0.71525042), array(1.53369455), array(0.63360535), array(0.6991934), array(0.68321743), array(0.99766227), array(0.96965047), array(-0.43884239), array(0.96988699), array(0.46416026), array(5.39195273), array(0.07139926), array(5.02457376), array(0.97620302), array(0.20765335), array(10.78390546), array(4.10030651), array(14.90686827), array(4.61402552), array(677.58633674), array(0.36448969), array(0.52927285), array(316.13179129), array(15.22581015), array(45.11888112), array(3.94351802), array(123.66218397), array(0.36348152), array(0.08576424), array(0.48646226), array(29.91972984), array(0.03788341), array(131.77124183), array(0.12303571), array(19.4777205), array(57.9038282), array(4.68067227), array(143.74603175), array(0.43328447), array(0.07974532), array(5.10981702), array(463.97478992), array(0.43321642), array(0.57611619), array(1.66780612), array(0.68044355), array(47.14287393), array(0.05046976), array(131.77124183), array(0.12303571), array(19.4777205), array(57.9038282), array(4.68067227), array(143.74603175), array(0.43328447), array(0.07974532), array(463.97478992), array(0.43321642), array(0.68044355), array(47.14287393), array(0.05046976), array(5.10981702), array(0.57611619), array(1.66780612), array(1.16481536), array(0.00815814), array(133.33953536), array(0.0329563), array(4.34875275), 0]\n",
      "Pancreas_6.dcm\n",
      "[0.23724234528514612, 128.5983233816891, array(122.29120639), array(2713.71154785), 30.50896783880957, array(286.72767834), array(0.10565886), 2714.080810546875, 0.6440463972694043, array(-96.), array(125.6), array(35283555.), array(3.52395191), array(163.), array(3.20491653), array(396.), array(84.50329148), array(1.36136054), array(-35.), array(-131.), array(527.), array(66.97558795), array(97.98452606), array(0.87851073), array(26057801.23901367), array(0.11797181), array(9599.11404441), array(57.4634215), array(11544.3470605), array(414.42723167), array(60.38842797), array(1.08187957), array(0.96479993), array(0.70540236), array(1.50163048), array(0.58428708), array(0.69835397), array(0.68333316), array(0.99778864), array(0.96998846), array(-0.46868852), array(0.98125559), array(0.47512888), array(6.52968486), array(0.04576414), array(5.37969906), array(0.97585352), array(0.148565), array(13.05936972), array(4.42199801), array(15.36757688), array(4.94067739), array(1355.01197279), array(0.36871074), array(0.51754317), array(433.54639456), array(15.41617037), array(58.58911565), array(3.9322449), array(192.94176871), array(0.27098718), array(0.06359865), array(0.48281179), array(33.30027211), array(0.02805319), array(197.64430798), array(0.09336056), array(17.02087271), array(67.1582428), array(4.61265942), array(215.92961738), array(0.3266986), array(0.05889096), array(5.34093808), array(900.52007558), array(0.42537557), array(0.57605442), array(1.59914711), array(0.67278895), array(49.7361226), array(0.03734863), array(197.64430798), array(0.09336056), array(17.02087271), array(67.1582428), array(4.61265942), array(215.92961738), array(0.3266986), array(0.05889096), array(900.52007558), array(0.42537557), array(0.67278895), array(49.7361226), array(0.03734863), array(5.34093808), array(0.57605442), array(1.59914711), array(1.22412575), array(0.00568654), array(119.83635273), array(0.03234231), array(1.9755539), 0]\n",
      "Pancreas_60.dcm\n",
      "[0.2772714995883964, 104.58963319886446, array(97.04471022), array(2076.36413574), 28.999724438449483, array(237.31578604), array(0.11429391), 2076.7333984375, 0.6806597398105808, array(-80.), array(151.), array(29963859.), array(3.76324914), array(161.5), array(2.86805508), array(463.), array(80.47457857), array(41.87375533), array(42.), array(-128.), array(591.), array(63.92476417), array(103.22650281), array(0.37414125), array(22129070.67260742), array(0.08322643), array(8902.29949614), array(79.85846268), array(8332.92173268), array(144.89267615), array(55.46205894), array(1.66038433), array(0.94186578), array(0.88728751), array(1.73911856), array(0.87310521), array(0.65343417), array(0.62833441), array(0.99737801), array(0.96692626), array(-0.41665695), array(0.97795115), array(0.47385891), array(8.14911308), array(0.02402506), array(5.95179833), array(0.95132923), array(0.05358463), array(16.29822616), array(4.70830175), array(14.28061082), array(5.1645932), array(1073.01209104), array(0.38158325), array(0.50453452), array(234.03271693), array(14.35254315), array(81.41536273), array(3.50142248), array(272.76742532), array(0.12908432), array(0.03544152), array(0.54573653), array(46.4025407), array(0.01860239), array(139.01008969), array(0.07792045), array(14.78950631), array(84.125), array(3.71973094), array(288.00672646), array(0.14202), array(0.03437112), array(5.24973131), array(878.77914798), array(0.49258921), array(0.6344239), array(1.23521989), array(0.728422), array(63.00304602), array(0.02445821), array(139.01008969), array(0.07792045), array(14.78950631), array(84.125), array(3.71973094), array(288.00672646), array(0.14202), array(0.03437112), array(878.77914798), array(0.49258921), array(0.728422), array(63.00304602), array(0.02445821), array(5.24973131), array(0.6344239), array(1.23521989), array(0.52284215), array(0.00861393), array(151.46597385), array(0.02800746), array(2.64601972), 0]\n",
      "Pancreas_61.dcm\n"
     ]
    },
    {
     "name": "stderr",
     "output_type": "stream",
     "text": [
      "Shape features are only available 3D input (for 2D input, use shape2D). Found 2D input\n",
      "GLCM is symmetrical, therefore Sum Average = 2 * Joint Average, only 1 needs to be calculated\n",
      "Shape features are only available 3D input (for 2D input, use shape2D). Found 2D input\n",
      "GLCM is symmetrical, therefore Sum Average = 2 * Joint Average, only 1 needs to be calculated\n",
      "Shape features are only available 3D input (for 2D input, use shape2D). Found 2D input\n",
      "GLCM is symmetrical, therefore Sum Average = 2 * Joint Average, only 1 needs to be calculated\n"
     ]
    },
    {
     "name": "stdout",
     "output_type": "stream",
     "text": [
      "[0.32855743438681095, 148.46775580394703, array(139.02233444), array(3220.70922852), 48.78018493611239, array(368.55152505), array(0.11443179), 3221.44775390625, 0.5458615175266469, array(-95.), array(142.), array(46687140.), array(3.64995565), array(158.), array(3.55403809), array(463.), array(86.83929716), array(8.7734984), array(-22.), array(-131.), array(594.), array(66.64580311), array(103.45602897), array(0.96804543), array(34479638.30566406), array(0.1069359), array(10626.17565713), array(62.93552225), array(15546.29764652), array(525.72482888), array(66.73893697), array(1.37163931), array(0.95972316), array(0.79728765), array(1.62776576), array(0.73597171), array(0.67499235), array(0.65494665), array(0.9978306), array(0.97011936), array(-0.45333382), array(0.9813485), array(0.47661809), array(6.82595765), array(0.03895074), array(5.62607956), array(0.97509882), array(0.1261004), array(13.6519153), array(4.55362463), array(17.02764407), array(5.04019266), array(1636.50664833), array(0.37517346), array(0.50881072), array(466.45437873), array(17.06504578), array(64.24323705), array(3.69325997), array(185.11668959), array(0.24228089), array(0.0587457), array(0.51543634), array(40.86271588), array(0.02650807), array(226.32629197), array(0.08537393), array(19.33584431), array(75.93436439), array(4.06261788), array(202.57978121), array(0.26871378), array(0.05306527), array(5.34694083), array(1216.18521313), array(0.4587647), array(0.60774874), array(1.35522136), array(0.70126289), array(60.24557335), array(0.03382974), array(226.32629197), array(0.08537393), array(19.33584431), array(75.93436439), array(4.06261788), array(202.57978121), array(0.26871378), array(0.05306527), array(1216.18521313), array(0.4587647), array(0.70126289), array(60.24557335), array(0.03382974), array(5.34694083), array(0.60774874), array(1.35522136), array(1.30275327), array(0.00484764), array(158.64610544), array(0.03282852), array(2.06319533), 0]\n",
      "Pancreas_62.dcm\n",
      "[0.30991114711675716, 93.74897444102415, array(84.42019912), array(1552.74963379), 29.05385221003734, array(213.51240065), array(0.13750601), 1553.118896484375, 0.6542331501261496, array(-94.), array(174.), array(25892896.), array(3.80803464), array(198.), array(2.04884589), array(377.), array(88.25370319), array(40.01997147), array(36.), array(-131.), array(508.), array(71.29769779), array(110.96108051), array(0.23351531), array(19122561.1328125), array(0.08039124), array(10710.76327209), array(82.52017717), array(9120.26639784), array(117.06061893), array(67.45174743), array(1.27362205), array(0.9629359), array(0.79035433), array(1.59436743), array(0.64896208), array(0.67139108), array(0.65156501), array(0.99739727), array(0.96648448), array(-0.46798417), array(0.98569899), array(0.48841549), array(8.12253937), array(0.0257441), array(5.82947547), array(0.96866502), array(0.06840551), array(16.24507874), array(4.72410334), array(17.18134237), array(5.22087111), array(792.85829767), array(0.37701298), array(0.50700118), array(169.06276748), array(17.161466), array(83.10080837), array(3.63433191), array(294.10794104), array(0.18249037), array(0.04790795), array(0.52422465), array(44.95672848), array(0.02334681), array(95.47413127), array(0.0737252), array(16.85284119), array(84.95675676), array(3.78146718), array(305.11891892), array(0.18749192), array(0.04579975), array(5.35378321), array(601.13899614), array(0.4642), array(0.61578697), array(1.14429183), array(0.70684655), array(61.41389822), array(0.03046995), array(95.47413127), array(0.0737252), array(16.85284119), array(84.95675676), array(3.78146718), array(305.11891892), array(0.18749192), array(0.04579975), array(601.13899614), array(0.4642), array(0.70684655), array(61.41389822), array(0.03046995), array(5.35378321), array(0.61578697), array(1.14429183), array(0.42304403), array(0.01246662), array(114.9517725), array(0.03848845), array(2.77988764), 0]\n",
      "Pancreas_63.dcm\n",
      "[0.3518041821200237, 123.41365293436313, array(110.92597321), array(3469.22302246), 43.41743923301808, array(318.60044626), array(0.09183625), 3469.59228515625, 0.6553520497803297, array(-86.), array(193.), array(72244016.), array(3.89517824), array(181.), array(2.363236), array(467.), array(91.02046522), array(62.50702427), array(70.), array(-128.), array(595.), array(72.49833), array(124.00649539), array(0.09482754), array(53354040.13671875), array(0.07641912), array(11470.48281571), array(98.96978918), array(12506.67227806), array(63.08390893), array(72.89610912), array(0.99347968), array(0.97310908), array(0.6783308), array(1.47347919), array(0.53334701), array(0.70663986), array(0.69194234), array(0.99842059), array(0.97435046), array(-0.51195379), array(0.99070278), array(0.46318397), array(8.99967398), array(0.0266734), array(5.79802078), array(0.97552181), array(0.07281026), array(17.99934797), array(4.83552619), array(18.4723972), array(5.35899614), array(1678.29161345), array(0.35723534), array(0.54580856), array(359.01702852), array(18.43280416), array(99.77415922), array(4.10727969), array(409.72264794), array(0.15366456), array(0.03612615), array(0.47080318), array(46.39564117), array(0.01633455), array(183.32440704), array(0.07013175), array(18.26842223), array(99.47513389), array(5.25784239), array(509.42425402), array(0.20051056), array(0.03489229), array(5.6562581), array(1098.020658), array(0.42005381), array(0.55640698), array(2.02775064), array(0.67072953), array(65.66351393), array(0.02280067), array(183.32440704), array(0.07013175), array(18.26842223), array(99.47513389), array(5.25784239), array(509.42425402), array(0.20051056), array(0.03489229), array(1098.020658), array(0.42005381), array(0.67072953), array(65.66351393), array(0.02280067), array(5.6562581), array(0.55640698), array(2.02775064), array(0.58126689), array(0.00677372), array(130.42593391), array(0.02671933), array(2.11163997), 0]\n",
      "Pancreas_64.dcm\n"
     ]
    },
    {
     "name": "stderr",
     "output_type": "stream",
     "text": [
      "Shape features are only available 3D input (for 2D input, use shape2D). Found 2D input\n",
      "GLCM is symmetrical, therefore Sum Average = 2 * Joint Average, only 1 needs to be calculated\n",
      "Shape features are only available 3D input (for 2D input, use shape2D). Found 2D input\n",
      "GLCM is symmetrical, therefore Sum Average = 2 * Joint Average, only 1 needs to be calculated\n",
      "Shape features are only available 3D input (for 2D input, use shape2D). Found 2D input\n",
      "GLCM is symmetrical, therefore Sum Average = 2 * Joint Average, only 1 needs to be calculated\n"
     ]
    },
    {
     "name": "stdout",
     "output_type": "stream",
     "text": [
      "[0.32535552162953957, 101.0497551644074, array(88.41544695), array(1632.51037598), 32.87709580205303, array(235.97829846), array(0.14454934), 1632.879638671875, 0.6069610772578067, array(-43.), array(178.), array(32336199.), array(3.74280187), array(104.), array(3.3057318), array(396.), array(66.59945656), array(84.89326097), array(90.), array(-125.), array(521.), array(45.00164724), array(120.93447209), array(-0.00548955), array(23881103.99780273), array(0.08971855), array(7418.28078227), array(90.83504194), array(6977.05792991), array(-7.00249137), array(46.64223801), array(1.47390494), array(0.93873553), array(0.84948742), array(1.66794601), array(0.75227607), array(0.65723827), array(0.63424935), array(0.99670756), array(0.96256861), array(-0.4278634), array(0.97953002), array(0.48766063), array(8.91868593), array(0.02551486), array(5.88992865), array(0.95218203), array(0.06290774), array(17.83737185), array(4.69081376), array(12.02903574), array(5.15216438), array(855.9262777), array(0.38712179), array(0.48451996), array(198.36770692), array(11.94369995), array(91.44459521), array(3.49932157), array(307.8272275), array(0.12837178), array(0.03808336), array(0.53648425), array(51.0335444), array(0.02136779), array(117.80458125), array(0.08432683), array(13.18610849), array(94.14745884), array(3.55977094), array(313.61488905), array(0.12982542), array(0.03923814), array(5.25925374), array(662.54903364), array(0.47426559), array(0.6318408), array(1.05490393), array(0.71337981), array(68.94693785), array(0.02887755), array(117.80458125), array(0.08432683), array(13.18610849), array(94.14745884), array(3.55977094), array(313.61488905), array(0.12982542), array(0.03923814), array(662.54903364), array(0.47426559), array(0.71337981), array(68.94693785), array(0.02887755), array(5.25925374), array(0.6318408), array(1.05490393), array(0.50872852), array(0.00955428), array(103.2814925), array(0.03214157), array(1.77990111), 0]\n",
      "Pancreas_65.dcm\n",
      "[0.27066042031569904, 95.0452418380008, array(89.91050509), array(1431.63146973), 25.72498510488056, array(219.7976189), array(0.15352947), 1432.000732421875, 0.6102356377890364, array(-49.), array(152.2), array(15804858.), array(3.46096478), array(101.5), array(2.20522364), array(200.), array(58.33967786), array(56.06188757), array(62.), array(-107.), array(307.), array(43.26862163), array(90.28308582), array(-0.18478367), array(11672288.92822266), array(0.0986129), array(5008.10034734), array(67.7164259), array(2193.85351296), array(-33.43851593), array(31.5469496), array(0.95612627), array(0.94116703), array(0.68967362), array(1.43816325), array(0.48047657), array(0.69579989), array(0.68173292), array(0.99520087), array(0.95510933), array(-0.44081325), array(0.97606282), array(0.49162134), array(7.75040128), array(0.0301867), array(5.3961801), array(0.94527557), array(0.07437132), array(15.50080257), array(4.41576256), array(8.12576897), array(4.92717495), array(718.58329036), array(0.37059479), array(0.51491959), array(191.21041774), array(8.11862104), array(68.3310985), array(3.84992264), array(264.98916968), array(0.1300967), array(0.03436394), array(0.49381124), array(33.86889003), array(0.0174503), array(112.26889279), array(0.09865456), array(7.79468883), array(68.09578207), array(4.37346221), array(304.7943761), array(0.14705277), array(0.0349537), array(5.05095773), array(494.80316344), array(0.43480067), array(0.58690046), array(1.4703014), array(0.68171037), array(46.8438338), array(0.02435918), array(112.26889279), array(0.09865456), array(7.79468883), array(68.09578207), array(4.37346221), array(304.7943761), array(0.14705277), array(0.0349537), array(494.80316344), array(0.43480067), array(0.68171037), array(46.8438338), array(0.02435918), array(5.05095773), array(0.58690046), array(1.4703014), array(0.88742491), array(0.01188881), array(33.73358753), array(0.04060484), array(0.77530809), 0]\n",
      "Pancreas_66.dcm\n",
      "[0.4590897437165838, 82.80490842561701, array(87.5382171), array(1762.49084473), 38.014884187591704, array(266.37661197), array(0.15113645), 1762.860107421875, 0.5586917727435957, array(-38.), array(105.), array(12274921.), array(2.9667798), array(69.5), array(2.95012022), array(157.), array(42.60488939), array(48.18475073), array(60.), array(-105.), array(262.), array(29.73755384), array(71.71056485), array(-0.80682709), array(9065340.82641602), array(0.15127798), array(2820.6349078), array(59.35373264), array(899.4514763), array(-61.52694594), array(17.2605425), array(0.82725694), array(0.90852874), array(0.62586806), array(1.36776561), array(0.43554612), array(0.71798322), array(0.70708231), array(0.9943694), array(0.95293851), array(-0.38522236), array(0.94732651), array(0.47379557), array(7.43272569), array(0.05236741), array(4.77276078), array(0.93348692), array(0.12760417), array(14.86545139), array(3.87924481), array(4.52194986), array(4.46042095), array(869.74821952), array(0.36436876), array(0.5251115), array(361.10054462), array(4.55817356), array(60.03477168), array(4.12191035), array(249.15835777), array(0.12177225), array(0.03112335), array(0.45971233), array(27.27931388), array(0.01544313), array(188.26803341), array(0.14295219), array(4.67015011), array(59.5785877), array(5.0516325), array(305.99316629), array(0.14804117), array(0.03282315), array(4.76469534), array(525.17008352), array(0.3987624), array(0.55173858), array(1.76664828), array(0.65085171), array(38.39826857), array(0.02268636), array(188.26803341), array(0.14295219), array(4.67015011), array(59.5785877), array(5.0516325), array(305.99316629), array(0.14804117), array(0.03282315), array(525.17008352), array(0.3987624), array(0.65085171), array(38.39826857), array(0.02268636), array(4.76469534), array(0.55173858), array(1.76664828), array(1.40100329), array(0.00692059), array(25.78546154), array(0.02941046), array(0.41020852), 0]\n",
      "Pancreas_67.dcm\n"
     ]
    },
    {
     "name": "stderr",
     "output_type": "stream",
     "text": [
      "Shape features are only available 3D input (for 2D input, use shape2D). Found 2D input\n",
      "GLCM is symmetrical, therefore Sum Average = 2 * Joint Average, only 1 needs to be calculated\n",
      "Shape features are only available 3D input (for 2D input, use shape2D). Found 2D input\n",
      "GLCM is symmetrical, therefore Sum Average = 2 * Joint Average, only 1 needs to be calculated\n",
      "Shape features are only available 3D input (for 2D input, use shape2D). Found 2D input\n",
      "GLCM is symmetrical, therefore Sum Average = 2 * Joint Average, only 1 needs to be calculated\n"
     ]
    },
    {
     "name": "stdout",
     "output_type": "stream",
     "text": [
      "[0.342358117381237, 64.18903996955297, array(62.66370163), array(981.86950684), 21.97563888048513, array(156.59995033), array(0.15949161), 982.23876953125, 0.7093167220237822, array(-50.1), array(183.), array(20907850.), array(3.48301882), array(138.75), array(2.12158172), array(213.), array(73.4829442), array(91.19849624), array(113.5), array(-107.), array(320.), array(57.9030118), array(125.38017375), array(-0.62730117), array(15440978.08837891), array(0.10353101), array(7403.02225338), array(96.36787975), array(4645.26962377), array(-202.45827421), array(46.717711), array(1.21677215), array(0.94923187), array(0.78322785), array(1.57843217), array(0.60332629), array(0.67202004), array(0.65140544), array(0.99392219), array(0.9495385), array(-0.4216013), array(0.97293436), array(0.48296304), array(9.21914557), array(0.03390914), array(5.48463418), array(0.95417997), array(0.09256329), array(18.43829114), array(4.39968956), array(11.98362079), array(4.8713173), array(499.92481203), array(0.37588332), array(0.51353949), array(137.6962406), array(11.98460964), array(96.15488722), array(3.60902256), array(371.41052632), array(0.10257876), array(0.03162388), array(0.53153718), array(47.79711779), array(0.0184161), array(77.15030303), array(0.09351552), array(11.55559082), array(90.94909091), array(3.84969697), array(403.64848485), array(0.1056712), array(0.03410821), array(4.9856006), array(394.06181818), array(0.47765069), array(0.62030075), array(1.25076217), array(0.71727552), array(62.6628136), array(0.02572431), array(77.15030303), array(0.09351552), array(11.55559082), array(90.94909091), array(3.84969697), array(403.64848485), array(0.1056712), array(0.03410821), array(394.06181818), array(0.47765069), array(0.71727552), array(62.6628136), array(0.02572431), array(4.9856006), array(0.62030075), array(1.25076217), array(0.47969262), array(0.01566623), array(38.99256131), array(0.06530488), array(1.31777663), 0]\n",
      "Pancreas_68.dcm\n",
      "[0.2782589855431375, 105.41277407815129, array(99.09678158), array(2216.68395996), 29.332051578274317, array(240.45839516), array(0.10847663), 2217.05322265625, 0.6940917415521356, array(1.1), array(176.), array(38896330.), array(3.37187912), array(91.), array(2.793546), array(229.), array(53.68163263), array(91.97268488), array(96.), array(-107.), array(336.), array(38.26944173), array(113.82796433), array(-0.50329857), array(28725927.30712891), array(0.10908917), array(4497.83069959), array(91.59513198), array(2195.56836361), array(-76.39003006), array(27.87561925), array(1.00445663), array(0.93043947), array(0.68974974), array(1.4744239), array(0.52870193), array(0.7011313), array(0.68630543), array(0.99561097), array(0.95801457), array(-0.42199412), array(0.97043979), array(0.47320782), array(9.21288996), array(0.03476641), array(5.31569044), array(0.93540926), array(0.07781968), array(18.42577991), array(4.31152992), array(7.22001897), array(4.84931542), array(1107.63157895), array(0.36896455), array(0.51588215), array(327.48567622), array(7.24304794), array(91.71518987), array(3.9733511), array(378.55063291), array(0.07485369), array(0.02085001), array(0.47614553), array(41.9365238), array(0.01097004), array(181.25233645), array(0.10587169), array(7.34217918), array(88.53154206), array(4.5385514), array(437.3942757), array(0.08316774), array(0.02268277), array(5.08920944), array(706.45093458), array(0.41264657), array(0.57028648), array(1.46377276), array(0.66310075), array(57.19290986), array(0.01599321), array(181.25233645), array(0.10587169), array(7.34217918), array(88.53154206), array(4.5385514), array(437.3942757), array(0.08316774), array(0.02268277), array(706.45093458), array(0.41264657), array(0.66310075), array(57.19290986), array(0.01599321), array(5.08920944), array(0.57028648), array(1.46377276), array(1.01181194), array(0.00691778), array(42.98983286), array(0.03227328), array(0.58372145), 0]\n",
      "Pancreas_69.dcm\n",
      "[0.2445496839673795, 139.28711756491919, array(131.13566914), array(2989.92004395), 34.062620581228224, array(315.6157612), array(0.10555993), 2990.289306640625, 0.6141522347467033, array(-52.), array(214.), array(1.51905047e+08), array(4.05626347), array(106.), array(10.44506446), array(950.), array(100.38323486), array(96.97135095), array(69.), array(-128.), array(1078.), array(47.34773631), array(193.69223627), array(2.5515186), array(1.12185734e+08), array(0.08222484), array(28113.23948548), array(150.13222306), array(314016.95636769), array(5835.75379363), array(174.58076127), array(4.85263689), array(0.94591155), array(1.19480192), array(2.05568833), array(3.42508527), array(0.63466252), array(0.60585349), array(0.99769746), array(0.97550326), array(-0.4243473), array(0.98382368), array(0.44167729), array(10.3778703), array(0.02326074), array(6.38504599), array(0.95134719), array(0.05854151), array(20.7557406), array(5.01737474), array(44.85834954), array(5.41073163), array(1540.5485305), array(0.3804763), array(0.50879419), array(332.92837738), array(45.14930481), array(153.20350704), array(3.50530995), array(382.10595209), array(0.08637461), array(0.02293504), array(0.54710354), array(109.65205401), array(0.01160913), array(185.64772285), array(0.07226459), array(58.94417934), array(187.80070066), array(3.78084858), array(427.62281043), array(0.09618414), array(0.02162719), array(5.64716817), array(1276.00038926), array(0.49669147), array(0.63447765), array(1.29675847), array(0.73145478), array(160.37428826), array(0.015035), array(185.64772285), array(0.07226459), array(58.94417934), array(187.80070066), array(3.78084858), array(427.62281043), array(0.09618414), array(0.02162719), array(1276.00038926), array(0.49669147), array(0.73145478), array(160.37428826), array(0.015035), array(5.64716817), array(0.63447765), array(1.29675847), array(0.31374141), array(0.0055954), array(733.15056474), array(0.03046177), array(12.40280222), 0]\n",
      "Pancreas_7.dcm\n"
     ]
    },
    {
     "name": "stderr",
     "output_type": "stream",
     "text": [
      "Shape features are only available 3D input (for 2D input, use shape2D). Found 2D input\n",
      "GLCM is symmetrical, therefore Sum Average = 2 * Joint Average, only 1 needs to be calculated\n",
      "Shape features are only available 3D input (for 2D input, use shape2D). Found 2D input\n",
      "GLCM is symmetrical, therefore Sum Average = 2 * Joint Average, only 1 needs to be calculated\n",
      "Shape features are only available 3D input (for 2D input, use shape2D). Found 2D input\n",
      "GLCM is symmetrical, therefore Sum Average = 2 * Joint Average, only 1 needs to be calculated\n"
     ]
    },
    {
     "name": "stdout",
     "output_type": "stream",
     "text": [
      "[0.36121565420099083, 113.56264012233919, array(99.89841642), array(2161.29455566), 41.02060334458244, array(277.35044626), array(0.12832607), 2161.663818359375, 0.5942005408238463, array(-68.), array(171.), array(29472452.), array(3.63742534), array(147.5), array(1.81058281), array(213.), array(74.85657689), array(50.09907755), array(55.), array(-123.), array(336.), array(60.26680687), array(100.34523938), array(-0.02110256), array(21766154.12597656), array(0.08393783), array(7559.24949351), array(68.1899402), array(4100.00575216), array(-2.57447014), array(47.5367442), array(1.16144917), array(0.95230011), array(0.74780162), array(1.54659383), array(0.60224191), array(0.68404854), array(0.66648034), array(0.99421474), array(0.9517989), array(-0.44555702), array(0.98028015), array(0.48280201), array(7.52303904), array(0.02538233), array(5.65683969), array(0.9578687), array(0.0555751), array(15.04607809), array(4.57521467), array(12.17454834), array(5.0916408), array(1085.64571233), array(0.37090732), array(0.51665251), array(245.68602665), array(12.19051749), array(68.84352579), array(3.78920396), array(270.72873249), array(0.20284393), array(0.05487745), array(0.50389098), array(33.18412861), array(0.02795802), array(144.58462421), array(0.08295159), array(11.49334655), array(66.56626506), array(4.19449225), array(302.17728055), array(0.21667093), array(0.05581623), array(5.20754395), array(777.23866896), array(0.44592006), array(0.59549026), array(1.37448211), array(0.6916007), array(44.63114522), array(0.03855904), array(144.58462421), array(0.08295159), array(11.49334655), array(66.56626506), array(4.19449225), array(302.17728055), array(0.21667093), array(0.05581623), array(777.23866896), array(0.44592006), array(0.6916007), array(44.63114522), array(0.03855904), array(5.20754395), array(0.59549026), array(1.37448211), array(1.41591234), array(0.00884326), array(33.22364744), array(0.06345676), array(0.57436324), 0]\n",
      "Pancreas_70.dcm\n",
      "[0.31745707624390707, 95.62623210256812, array(89.25096562), array(1690.85388184), 30.35722405550252, array(222.81808021), array(0.13177844), 1691.22314453125, 0.6541954863931523, array(-56.), array(177.), array(26938022.), array(3.59336881), array(163.), array(1.74636218), array(213.), array(75.18840602), array(65.73100437), array(69.), array(-107.), array(320.), array(62.1983657), array(108.45887877), array(-0.13980532), array(19894413.22021484), array(0.08742511), array(7442.76344921), array(78.14691302), array(3841.1745306), array(-39.66600963), array(47.15388526), array(1.14285714), array(0.95267353), array(0.76070302), array(1.53759892), array(0.56418806), array(0.67642331), array(0.65773666), array(0.99428197), array(0.95083732), array(-0.43865836), array(0.97827018), array(0.49075535), array(8.1635872), array(0.02689816), array(5.60037559), array(0.95576149), array(0.06940063), array(16.3271744), array(4.53435945), array(12.0741856), array(5.02392309), array(853.20786026), array(0.37257985), array(0.5178841), array(200.20349345), array(12.07468298), array(78.50786026), array(3.68908297), array(304.02401747), array(0.13757875), array(0.0373431), array(0.5203542), array(38.81295488), array(0.01972039), array(117.80515759), array(0.08438765), array(10.98303124), array(75.33882521), array(4.01432665), array(329.45487106), array(0.15430034), array(0.03751272), array(5.11148177), array(649.73495702), array(0.46542619), array(0.60960699), array(1.32341073), array(0.70772501), array(51.57777218), array(0.02701431), array(117.80515759), array(0.08438765), array(10.98303124), array(75.33882521), array(4.01432665), array(329.45487106), array(0.15430034), array(0.03751272), array(649.73495702), array(0.46542619), array(0.70772501), array(51.57777218), array(0.02701431), array(5.11148177), array(0.60960699), array(1.32341073), array(1.00636548), array(0.0104848), array(35.6437701), array(0.0652435), array(0.71487121), 0]\n",
      "Pancreas_71.dcm\n",
      "[0.27661013528684947, 131.6239220776894, array(110.34856882), array(1541.30249023), 36.4085108928954, array(276.46577362), array(0.17937152), 1542.041015625, 0.5033933784476224, array(-80.), array(184.), array(33107037.), array(3.92625536), array(162.), array(2.86374312), array(463.), array(88.08846299), array(66.24664751), array(84.), array(-128.), array(591.), array(66.59820354), array(125.92005651), array(0.3020776), array(24450387.43286133), array(0.07854636), array(11467.24232593), array(101.52397602), array(14537.59495265), array(168.58201176), array(72.28623549), array(1.78271728), array(0.95186331), array(0.92457542), array(1.77117311), array(0.92787757), array(0.6429951), array(0.61655067), array(0.99718826), array(0.96560293), array(-0.43556294), array(0.98360465), array(0.48168497), array(9.15959041), array(0.02186724), array(6.15239838), array(0.96432471), array(0.05144855), array(18.31918082), array(4.87589355), array(18.51723819), array(5.28449008), array(823.32854406), array(0.39431444), array(0.47447557), array(164.00478927), array(18.42624315), array(102.48036398), array(3.35536398), array(299.88649425), array(0.12212127), array(0.03296169), array(0.55749787), array(63.84935079), array(0.01683364), array(100.), array(0.07352941), array(19.36234375), array(111.7625), array(3.38529412), array(301.60808824), array(0.12834711), array(0.0306296), array(5.35272783), array(677.12794118), array(0.49788819), array(0.651341), array(1.02816609), array(0.73131058), array(87.25747712), array(0.02130318), array(100.), array(0.07352941), array(19.36234375), array(111.7625), array(3.38529412), array(301.60808824), array(0.12834711), array(0.0306296), array(677.12794118), array(0.49788819), array(0.73131058), array(87.25747712), array(0.02130318), array(5.35272783), array(0.651341), array(1.02816609), array(0.37817283), array(0.01178679), array(142.18045317), array(0.03785724), array(3.23985516), 0]\n",
      "Pancreas_72.dcm\n"
     ]
    },
    {
     "name": "stderr",
     "output_type": "stream",
     "text": [
      "Shape features are only available 3D input (for 2D input, use shape2D). Found 2D input\n",
      "GLCM is symmetrical, therefore Sum Average = 2 * Joint Average, only 1 needs to be calculated\n",
      "Shape features are only available 3D input (for 2D input, use shape2D). Found 2D input\n",
      "GLCM is symmetrical, therefore Sum Average = 2 * Joint Average, only 1 needs to be calculated\n",
      "Shape features are only available 3D input (for 2D input, use shape2D). Found 2D input\n",
      "GLCM is symmetrical, therefore Sum Average = 2 * Joint Average, only 1 needs to be calculated\n"
     ]
    },
    {
     "name": "stdout",
     "output_type": "stream",
     "text": [
      "[0.44506170694602665, 73.81127672357961, array(68.94844407), array(1645.80383301), 32.85057281046187, array(198.63343241), array(0.12069083), 1646.173095703125, 0.7240050899224175, array(-14.4), array(185.), array(1.62865249e+08), array(3.71956513), array(120.), array(53.05509873), array(2689.), array(96.8018479), array(118.58815612), array(91.), array(-104.), array(2793.), array(48.80409408), array(270.30817449), array(6.5884575), array(1.20280122e+08), array(0.09049458), array(59003.3584241), array(184.49262673), array(6257358.79124503), array(41649.97958491), array(339.77845357), array(13.6921659), array(0.92252728), array(1.09585253), array(1.65306602), array(12.49127312), array(0.69555417), array(0.68158069), array(0.99902442), array(0.99114132), array(-0.48859331), array(0.9865385), array(0.46148672), array(10.14746544), array(0.02936057), array(5.60138824), array(0.97980011), array(0.05760369), array(20.29493088), array(4.63976531), array(88.36765487), array(5.16891742), array(807.08165096), array(0.36208239), array(0.53403029), array(201.7124271), array(94.45994387), array(199.65814266), array(4.01211306), array(538.31852849), array(0.08774263), array(0.02205095), array(0.47876477), array(136.43813868), array(0.01041417), array(111.71304348), array(0.08831071), array(142.39270478), array(263.68853755), array(4.89407115), array(672.04426877), array(0.10669489), array(0.02209296), array(5.448456), array(538.5541502), array(0.42573451), array(0.56751907), array(1.78923214), array(0.67451258), array(220.31563709), array(0.01462239), array(111.71304348), array(0.08831071), array(142.39270478), array(263.68853755), array(4.89407115), array(672.04426877), array(0.10669489), array(0.02209296), array(538.5541502), array(0.42573451), array(0.67451258), array(220.31563709), array(0.01462239), array(5.448456), array(0.56751907), array(1.78923214), array(0.10169155), array(0.01086485), array(2542.61568161), array(0.04302169), array(164.80174897), 0]\n",
      "Pancreas_73.dcm\n",
      "[0.16936428106614076, 181.06544865466526, array(149.7508714), array(3089.62097168), 30.666019537315606, array(370.65153746), array(0.11996667), 3089.990234375, 0.5316082697680261, array(-81.), array(148.), array(53559328.), array(3.63628113), array(156.25), array(2.78768199), array(463.), array(80.69853128), array(59.47179732), array(83.), array(-128.), array(591.), array(63.22279333), array(113.14144517), array(0.01162165), array(39554923.6328125), array(0.102958), array(9264.09193883), array(93.21384118), array(9074.24794313), array(-9.52406087), array(57.75131122), array(1.27881504), array(0.95667246), array(0.75703261), array(1.58717254), array(0.70571666), array(0.6878789), array(0.66996499), array(0.99797744), array(0.97159478), array(-0.45834808), array(0.9818492), array(0.46904261), array(8.8935773), array(0.03775465), array(5.59182945), array(0.97149304), array(0.11949216), array(17.78715459), array(4.54893306), array(14.75753156), array(5.04227028), array(1531.80305927), array(0.36610972), array(0.52918772), array(430.77629063), array(14.91218116), array(94.04732314), array(3.84082218), array(354.54636711), array(0.12738372), array(0.03324335), array(0.50171287), array(48.86812195), array(0.01636372), array(208.01336574), array(0.08425005), array(15.95709257), array(95.93965168), array(4.51923856), array(427.7253949), array(0.14679126), array(0.03312956), array(5.37459985), array(1111.6763872), array(0.4502537), array(0.59010516), array(1.64752465), array(0.69504898), array(68.78715), array(0.02250163), array(208.01336574), array(0.08425005), array(15.95709257), array(95.93965168), array(4.51923856), array(427.7253949), array(0.14679126), array(0.03312956), array(1111.6763872), array(0.4502537), array(0.69504898), array(68.78715), array(0.02250163), array(5.37459985), array(0.59010516), array(1.64752465), array(0.68769075), array(0.00537296), array(136.13726561), array(0.02720207), array(1.78502396), 0]\n",
      "Pancreas_74.dcm\n"
     ]
    },
    {
     "name": "stderr",
     "output_type": "stream",
     "text": [
      "Shape features are only available 3D input (for 2D input, use shape2D). Found 2D input\n",
      "GLCM is symmetrical, therefore Sum Average = 2 * Joint Average, only 1 needs to be calculated\n",
      "Shape features are only available 3D input (for 2D input, use shape2D). Found 2D input\n",
      "GLCM is symmetrical, therefore Sum Average = 2 * Joint Average, only 1 needs to be calculated\n"
     ]
    },
    {
     "name": "stdout",
     "output_type": "stream",
     "text": [
      "[0.2958406510555137, 140.24054813225325, array(139.81426452), array(4143.8659668), 41.488855063827906, array(360.64874736), array(0.08703195), 4144.6044921875, 0.6327371788046247, array(-92.), array(191.), array(68442828.), array(3.78404459), array(175.), array(2.20724027), array(396.), array(92.63022471), array(26.4126871), array(8.), array(-131.), array(527.), array(74.54175182), array(110.43459474), array(0.54130551), array(50546766.28417969), array(0.08706308), array(11498.1696751), array(74.97101449), array(11505.54087456), array(334.73435424), array(72.77952248), array(1.20418272), array(0.96744735), array(0.76389653), array(1.56372113), array(0.62064481), array(0.67898856), array(0.66062601), array(0.99753824), array(0.96755988), array(-0.47000587), array(0.98562259), array(0.48601184), array(7.55494405), array(0.0290689), array(5.78813043), array(0.97444528), array(0.09502844), array(15.10988809), array(4.71953128), array(18.4959263), array(5.20546817), array(2102.83570919), array(0.37470344), array(0.50838456), array(488.59800428), array(18.45566607), array(75.76639344), array(3.72558803), array(264.78991447), array(0.21010006), array(0.05144146), array(0.51005781), array(41.56705868), array(0.02337867), array(260.60059084), array(0.07698688), array(18.16731422), array(79.87680945), array(4.06971935), array(290.84815362), array(0.22985859), array(0.04721527), array(5.42146131), array(1531.6788774), array(0.45249007), array(0.60317177), array(1.32107861), array(0.69595004), array(58.47264932), array(0.03017546), array(260.60059084), array(0.07698688), array(18.16731422), array(79.87680945), array(4.06971935), array(290.84815362), array(0.22985859), array(0.04721527), array(1531.6788774), array(0.45249007), array(0.69595004), array(58.47264932), array(0.03017546), array(5.42146131), array(0.60317177), array(1.32107861), array(1.46514377), array(0.00456659), array(112.83738133), array(0.03917856), array(1.18549848), 0]\n",
      "Pancreas_75.dcm\n",
      "[0.22752477078202205, 122.73060632051171, array(116.7643663), array(2407.96203613), 27.924253071013013, array(270.42485098), array(0.11230445), 2408.331298828125, 0.6432549704958336, array(-9.), array(156.), array(2.17447596e+08), array(3.56734736), array(97.), array(54.72575364), array(2689.), array(87.3234856), array(110.09874272), array(86.), array(-104.), array(2793.), array(40.37148418), array(258.22715231), array(6.70694528), array(1.60590571e+08), array(0.10989258), array(54559.52904166), array(180.32355724), array(5899970.31791788), array(40796.76246853), array(341.59407219), array(16.8133081), array(0.90617767), array(1.23967203), array(1.75901293), array(15.27652137), array(0.6869134), array(0.6710665), array(0.99879811), array(0.99006359), array(-0.45699189), array(0.98067227), array(0.45266392), array(9.95632293), array(0.03639246), array(5.50829614), array(0.9374095), array(0.10469883), array(19.91264585), array(4.50159523), array(89.60184507), array(4.99292859), array(1201.82306041), array(0.36854433), array(0.51771576), array(358.35970561), array(87.40296222), array(185.84513953), array(3.94265563), array(478.53879178), array(0.08843721), array(0.02258193), array(0.48137926), array(130.73878156), array(0.01096077), array(193.88900747), array(0.10346265), array(133.48060609), array(247.93863394), array(4.72305229), array(605.37726788), array(0.10409261), array(0.02272406), array(5.31779652), array(797.23585912), array(0.42541935), array(0.57467035), array(1.6950066), array(0.67217549), array(210.33486047), array(0.01535581), array(193.88900747), array(0.10346265), array(133.48060609), array(247.93863394), array(4.72305229), array(605.37726788), array(0.10409261), array(0.02272406), array(797.23585912), array(0.42541935), array(0.67217549), array(210.33486047), array(0.01535581), array(5.31779652), array(0.57467035), array(1.6950066), array(0.14479262), array(0.00591992), array(3341.76295902), array(0.02250927), array(156.87711001), 0]\n",
      "Pancreas_76.dcm\n",
      "[0.29624832063741374, 102.3452283620228, array(101.78788093), array(2076.36413574), 30.319602027501862, array(244.9027156), array(0.11794786), 2076.7333984375, 0.6595733362242422, array(-3.9), array(174.), array(29274508.), array(3.34898678), array(85.), array(2.75871344), array(229.), array(51.88945922), array(78.22688478), array(77.), array(-184.), array(413.), array(37.18204237), array(102.03217494), array(-0.09060806), array(21619967.45605469), array(0.11424772), array(4291.11922031), array(142.55331623), array(1896.82930658), array(-10.23711436), array(26.62680241), array(0.76108465), array(0.94442181), array(0.59252473), array(1.32456282), array(0.40999909), array(0.72972395), array(0.72059362), array(0.99767045), array(0.96925173), array(-0.47100688), array(0.97826685), array(0.46493425), array(11.66562844), array(0.04124732), array(5.10743626), array(0.94915073), array(0.10370099), array(23.33125687), array(4.27609185), array(6.84697177), array(4.8212643), array(1024.96443812), array(0.3644966), array(0.52319818), array(321.26458037), array(6.91161583), array(142.3541963), array(4.27951636), array(605.9544808), array(0.03817627), array(0.0094089), array(0.43853722), array(62.44393077), array(0.00451305), array(162.81915606), array(0.10905503), array(7.14707573), array(142.92498326), array(5.53248493), array(772.31480241), array(0.05018386), array(0.00998823), array(5.21069384), array(563.84795713), array(0.37766106), array(0.53093883), array(1.98507794), array(0.63001498), array(89.67984005), array(0.00679164), array(162.81915606), array(0.10905503), array(7.14707573), array(142.92498326), array(5.53248493), array(772.31480241), array(0.05018386), array(0.00998823), array(563.84795713), array(0.37766106), array(0.63001498), array(89.67984005), array(0.00679164), array(5.21069384), array(0.53093883), array(1.98507794), array(0.53380743), array(0.00774647), array(63.09570641), array(0.01918126), array(1.15776607), 0]\n"
     ]
    },
    {
     "name": "stderr",
     "output_type": "stream",
     "text": [
      "Shape features are only available 3D input (for 2D input, use shape2D). Found 2D input\n",
      "GLCM is symmetrical, therefore Sum Average = 2 * Joint Average, only 1 needs to be calculated\n",
      "Shape features are only available 3D input (for 2D input, use shape2D). Found 2D input\n",
      "GLCM is symmetrical, therefore Sum Average = 2 * Joint Average, only 1 needs to be calculated\n"
     ]
    },
    {
     "name": "stdout",
     "output_type": "stream",
     "text": [
      "Pancreas_77.dcm\n",
      "[0.3631796950826303, 101.07771587823241, array(96.29986153), array(2772.7935791), 36.70937403230519, array(247.45554296), array(0.08924413), 2773.162841796875, 0.7543389196999687, array(-37.), array(191.), array(60590949.), array(3.79728682), array(88.5), array(4.30564411), array(467.), array(67.21488082), array(86.67776298), array(86.), array(-128.), array(595.), array(40.33808457), array(127.02783804), array(0.47573562), array(44747954.27856445), array(0.09414047), array(8623.03704213), array(112.47063644), array(12413.18656748), array(179.64342029), array(53.31348084), array(1.64108167), array(0.94027496), array(0.89647637), array(1.72539123), array(0.83741179), array(0.646199), array(0.62086606), array(0.99740769), array(0.96653479), array(-0.41024723), array(0.97736694), array(0.48788464), array(9.97760175), array(0.02609248), array(6.01916321), array(0.95288122), array(0.06692161), array(19.9552035), array(4.74543372), array(13.73864063), array(5.20097902), array(1456.31344874), array(0.38783314), array(0.490718), array(353.49747004), array(13.86534237), array(113.6045273), array(3.42023968), array(357.56245007), array(0.07664277), array(0.02163001), array(0.55354342), array(67.45747892), array(0.01135111), array(209.37370814), array(0.08655383), array(15.25713498), array(120.1438611), array(3.49772633), array(364.82554775), array(0.07575768), array(0.02096141), array(5.28390718), array(1202.6370401), array(0.49716289), array(0.64420772), array(1.08810863), array(0.73161675), array(91.58820236), array(0.01467397), array(209.37370814), array(0.08655383), array(15.25713498), array(120.1438611), array(3.49772633), array(364.82554775), array(0.07575768), array(0.02096141), array(1202.6370401), array(0.49716289), array(0.73161675), array(91.58820236), array(0.01467397), array(5.28390718), array(0.64420772), array(1.08810863), array(0.62325551), array(0.00555508), array(151.49362255), array(0.02599521), array(1.77423788), 0]\n",
      "Pancreas_78.dcm\n",
      "[0.2926111981733763, 107.545022099963, array(99.8429553), array(2316.3848877), 31.468877774252405, array(249.76407472), array(0.10782495), 2316.754150390625, 0.6830937668765807, array(-80.), array(204.4), array(50760636.), array(4.00974099), array(149.), array(3.20669834), array(463.), array(85.68401067), array(65.81510998), array(71.), array(-128.), array(591.), array(60.91473809), array(127.20561093), array(0.49776781), array(37488018.53027344), array(0.07333604), array(11849.63875161), array(102.18086501), array(17484.62309135), array(306.89213189), array(74.5071298), array(1.80668414), array(0.95265119), array(0.95609436), array(1.78895934), array(0.89256771), array(0.63127184), array(0.60220391), array(0.99714426), array(0.96439103), array(-0.42841333), array(0.98377253), array(0.48475576), array(9.16546527), array(0.01926969), array(6.30238313), array(0.9622423), array(0.04554391), array(18.33093054), array(4.96733379), array(19.07845349), array(5.38481169), array(1244.38157475), array(0.39667886), array(0.47796996), array(230.05514823), array(19.05858272), array(102.88874721), array(3.27988524), array(295.19285942), array(0.12176053), array(0.03272062), array(0.57347785), array(65.24837956), array(0.01673224), array(143.05865385), array(0.0687782), array(20.17144601), array(111.55769231), array(3.22740385), array(292.14423077), array(0.11963827), array(0.02980469), array(5.41166441), array(1076.35961538), array(0.51748058), array(0.66305387), array(0.95281782), array(0.74668152), array(88.10200806), array(0.02075302), array(143.05865385), array(0.0687782), array(20.17144601), array(111.55769231), array(3.22740385), array(292.14423077), array(0.11963827), array(0.02980469), array(1076.35961538), array(0.51748058), array(0.74668152), array(88.10200806), array(0.02075302), array(5.41166441), array(0.66305387), array(0.95281782), array(0.55233478), array(0.00822505), array(157.89921245), array(0.03672589), array(2.36657928), 0]\n"
     ]
    },
    {
     "name": "stderr",
     "output_type": "stream",
     "text": [
      "Shape features are only available 3D input (for 2D input, use shape2D). Found 2D input\n",
      "GLCM is symmetrical, therefore Sum Average = 2 * Joint Average, only 1 needs to be calculated\n",
      "Shape features are only available 3D input (for 2D input, use shape2D). Found 2D input\n",
      "GLCM is symmetrical, therefore Sum Average = 2 * Joint Average, only 1 needs to be calculated\n"
     ]
    },
    {
     "name": "stdout",
     "output_type": "stream",
     "text": [
      "Pancreas_79.dcm\n",
      "[0.3521657416031667, 79.21110289500524, array(75.04169577), array(1563.08898926), 27.89543679422427, array(189.36352912), array(0.12114699), 1563.458251953125, 0.7401171113204456, array(-48.4), array(117.), array(13614150.), array(3.21584851), array(78.), array(2.62140446), array(200.), array(49.5749058), array(51.68823807), array(64.), array(-105.), array(305.), array(35.21562618), array(80.19270013), array(-0.43351264), array(10054395.44677734), array(0.12839557), array(3759.1951994), array(62.63512195), array(1439.78529755), array(-49.80194424), array(23.27983438), array(0.88195122), array(0.92699619), array(0.65073171), array(1.40067162), array(0.45849946), array(0.70982927), array(0.69761836), array(0.99557103), array(0.95756082), array(-0.42253323), array(0.96603612), array(0.47900407), array(7.55219512), array(0.04355003), array(5.0520479), array(0.93961689), array(0.11902439), array(15.10439024), array(4.13547969), array(6.0404464), array(4.68136448), array(786.1639112), array(0.37135754), array(0.50912993), array(271.81341521), array(6.12755325), array(63.65658951), array(4.02409069), array(253.61029759), array(0.12944915), array(0.03178668), array(0.46598961), array(29.92032751), array(0.01476242), array(144.92779177), array(0.1216858), array(6.02201792), array(64.20906801), array(4.60537364), array(290.17380353), array(0.14831392), array(0.03150972), array(4.9469484), array(476.06801008), array(0.39972125), array(0.56258857), array(1.44587485), array(0.65067717), array(41.99096227), array(0.02053373), array(144.92779177), array(0.1216858), array(6.02201792), array(64.20906801), array(4.60537364), array(290.17380353), array(0.14831392), array(0.03150972), array(476.06801008), array(0.39972125), array(0.65067717), array(41.99096227), array(0.02053373), array(4.9469484), array(0.56258857), array(1.44587485), array(0.97007184), array(0.00887761), array(34.06136466), array(0.02905584), array(0.68612238), 0]\n",
      "Pancreas_8.dcm\n",
      "[0.42611799453225463, 100.33977967543015, array(98.17207519), array(2402.4230957), 42.75658568710258, array(287.73449878), array(0.11976845), 2403.16162109375, 0.6038620584828261, array(-45.), array(173.), array(44228282.), array(3.73164033), array(86.), array(4.89705359), array(467.), array(64.89423674), array(72.34972342), array(69.), array(-121.), array(588.), array(38.1548544), array(116.58461979), array(0.73142272), array(32663709.24072266), array(0.10017438), array(8357.49109243), array(83.82658228), array(13481.35792051), array(275.26676271), array(52.46911192), array(1.51202532), array(0.94397949), array(0.83607595), array(1.6979108), array(0.81300232), array(0.66901145), array(0.64547427), array(0.99740894), array(0.96755349), array(-0.42681638), array(0.97906813), array(0.45812121), array(8.43132911), array(0.03063356), array(5.86761741), array(0.95715012), array(0.09810127), array(16.86265823), array(4.68235309), array(13.49528431), array(5.15228596), array(1205.25445605), array(0.37039166), array(0.52330619), array(325.96742471), array(13.46494485), array(84.30608482), array(3.71788568), array(272.44744929), array(0.21418361), array(0.04788402), array(0.51823397), array(49.31062624), array(0.01991995), array(178.52762291), array(0.09048536), array(14.63000533), array(93.28433857), array(4.29700963), array(305.95032945), array(0.25537573), array(0.03999578), array(5.33126136), array(921.27673594), array(0.46694209), array(0.60633067), array(1.57693433), array(0.70860574), array(70.76969827), array(0.02434369), array(178.52762291), array(0.09048536), array(14.63000533), array(93.28433857), array(4.29700963), array(305.95032945), array(0.25537573), array(0.03999578), array(921.27673594), array(0.46694209), array(0.70860574), array(70.76969827), array(0.02434369), array(5.33126136), array(0.60633067), array(1.57693433), array(0.64704675), array(0.00672488), array(132.18403839), array(0.02452795), array(2.29011651), 0]\n",
      "Pancreas_80.dcm\n"
     ]
    },
    {
     "name": "stderr",
     "output_type": "stream",
     "text": [
      "Shape features are only available 3D input (for 2D input, use shape2D). Found 2D input\n",
      "GLCM is symmetrical, therefore Sum Average = 2 * Joint Average, only 1 needs to be calculated\n",
      "Shape features are only available 3D input (for 2D input, use shape2D). Found 2D input\n",
      "GLCM is symmetrical, therefore Sum Average = 2 * Joint Average, only 1 needs to be calculated\n",
      "Shape features are only available 3D input (for 2D input, use shape2D). Found 2D input\n",
      "GLCM is symmetrical, therefore Sum Average = 2 * Joint Average, only 1 needs to be calculated\n"
     ]
    },
    {
     "name": "stdout",
     "output_type": "stream",
     "text": [
      "[0.284045845651275, 117.13214955075506, array(115.02149298), array(2698.94104004), 33.27090047209583, array(277.97600428), array(0.10299447), 2699.310302734375, 0.6625128751610547, array(-84.), array(205.), array(66521740.), array(4.07708698), array(179.), array(4.14036074), array(759.), array(96.12502275), array(61.1255814), array(57.), array(-128.), array(887.), array(71.16813733), array(134.90812601), array(0.82574558), array(49127994.01855469), array(0.06974708), array(14463.86576146), array(102.87335756), array(34133.27640199), array(716.41989448), array(91.43742431), array(1.44282919), array(0.96893141), array(0.81940173), array(1.65138138), array(0.77140999), array(0.66871436), array(0.64702933), array(0.99895321), array(0.97884246), array(-0.48538443), array(0.99040461), array(0.4758866), array(8.9651943), array(0.02156272), array(6.17557162), array(0.97246053), array(0.06569751), array(17.93038859), array(5.02322796), array(23.22006337), array(5.50258018), array(1348.47961696), array(0.36894107), array(0.5309389), array(254.9255814), array(23.20961792), array(103.70807114), array(3.7004104), array(343.11053352), array(0.14086522), array(0.03579232), array(0.5246238), array(60.07998176), array(0.01740332), array(140.97039031), array(0.06324378), array(25.72364571), array(112.60879318), array(4.20502467), array(387.06908928), array(0.15686431), array(0.03385087), array(5.66388711), array(1060.5863616), array(0.47581263), array(0.60984952), array(1.51624866), array(0.71631345), array(85.39192), array(0.02296068), array(140.97039031), array(0.06324378), array(25.72364571), array(112.60879318), array(4.20502467), array(387.06908928), array(0.15686431), array(0.03385087), array(1060.5863616), array(0.47581263), array(0.71631345), array(85.39192), array(0.02296068), array(5.66388711), array(0.60984952), array(1.51624866), array(0.33744688), array(0.00896272), array(295.08287296), array(0.0211189), array(7.25425526), 0]\n",
      "Pancreas_81.dcm\n",
      "[0.2308967610292263, 114.94413894869541, array(106.07974065), array(1636.94152832), 26.540229382547107, array(269.38225428), array(0.16456437), 1637.310791015625, 0.5324177581663967, array(-57.), array(177.), array(27563583.), array(3.60001485), array(145.), array(1.90754065), array(215.), array(73.27328478), array(71.40144339), array(84.), array(-129.), array(344.), array(58.27596382), array(111.50259862), array(-0.31673506), array(20356405.90209961), array(0.08846859), array(7334.66338087), array(100.02854469), array(4010.38041661), array(-100.4457021), array(45.48351756), array(1.14272344), array(0.95098368), array(0.74684137), array(1.53902407), array(0.58495142), array(0.68338013), array(0.6656873), array(0.99501751), array(0.95473018), array(-0.44206367), array(0.97892093), array(0.4837836), array(9.43097801), array(0.02735764), array(5.59811145), array(0.9549515), array(0.06083294), array(18.86195601), array(4.52564047), array(11.65656025), array(5.05814048), array(818.1240415), array(0.36902302), array(0.52434819), array(196.13486694), array(11.83771525), array(99.81822282), array(3.76499774), array(379.99413622), array(0.08348888), array(0.02250084), array(0.51122638), array(49.95767554), array(0.01172095), array(114.67669173), array(0.08622308), array(11.43890553), array(98.64360902), array(4.11954887), array(413.77218045), array(0.09067458), array(0.02279726), array(5.16175561), array(606.01052632), array(0.45564701), array(0.59990979), array(1.34093561), array(0.70040001), array(67.78881887), array(0.0161874), array(114.67669173), array(0.08622308), array(11.43890553), array(98.64360902), array(4.11954887), array(413.77218045), array(0.09067458), array(0.02279726), array(606.01052632), array(0.45564701), array(0.70040001), array(67.78881887), array(0.0161874), array(5.16175561), array(0.59990979), array(1.34093561), array(0.6601389), array(0.0116507), array(40.44300926), array(0.050878), array(0.9717604), 0]\n",
      "Pancreas_82.dcm\n",
      "[0.37357736004264136, 96.19261388880126, array(95.73067206), array(2650.19836426), 35.93538275217949, array(238.20045868), array(0.08988024), 2650.567626953125, 0.7661283429613227, array(-16.), array(214.), array(71040596.), array(3.80054401), array(83.), array(5.867826), array(583.), array(68.18428216), array(99.48286431), array(91.), array(-128.), array(711.), array(37.63469308), array(140.69108179), array(1.13774506), array(52465283.91113281), array(0.09951128), array(9897.14020511), array(125.48372359), array(22737.0847213), array(558.74635477), array(61.67658303), array(1.64163335), array(0.94814657), array(0.89463164), array(1.72086289), array(0.84126758), array(0.64638404), array(0.62122177), array(0.99819345), array(0.97186381), array(-0.41520127), array(0.97839249), array(0.48918137), array(10.51070817), array(0.02772084), array(6.01631926), array(0.9538228), array(0.06681896), array(21.02141633), array(4.75734327), array(15.8295541), array(5.20225196), array(1393.79019225), array(0.38835057), array(0.48886194), array(357.14600167), array(15.90672655), array(126.12454723), array(3.41850098), array(389.40011145), array(0.05958244), array(0.01658005), array(0.55295502), array(76.09433144), array(0.00868252), array(211.2932526), array(0.09138982), array(17.68896445), array(135.02508651), array(3.48140138), array(394.79714533), array(0.0613219), array(0.01594079), array(5.29888626), array(1145.33391003), array(0.49538664), array(0.64419058), array(1.07165544), array(0.73032524), array(103.83708682), array(0.01121882), array(211.2932526), array(0.09138982), array(17.68896445), array(135.02508651), array(3.48140138), array(394.79714533), array(0.0613219), array(0.01594079), array(1145.33391003), array(0.49538664), array(0.73032524), array(103.83708682), array(0.01121882), array(5.29888626), array(0.64419058), array(1.07165544), array(0.46782326), array(0.00549833), array(240.641573), array(0.02038246), array(3.47429303), 0]\n",
      "Pancreas_83.dcm\n"
     ]
    },
    {
     "name": "stderr",
     "output_type": "stream",
     "text": [
      "Shape features are only available 3D input (for 2D input, use shape2D). Found 2D input\n",
      "GLCM is symmetrical, therefore Sum Average = 2 * Joint Average, only 1 needs to be calculated\n",
      "Shape features are only available 3D input (for 2D input, use shape2D). Found 2D input\n",
      "GLCM is symmetrical, therefore Sum Average = 2 * Joint Average, only 1 needs to be calculated\n",
      "Shape features are only available 3D input (for 2D input, use shape2D). Found 2D input\n",
      "GLCM is symmetrical, therefore Sum Average = 2 * Joint Average, only 1 needs to be calculated\n"
     ]
    },
    {
     "name": "stdout",
     "output_type": "stream",
     "text": [
      "[0.35479048564369886, 88.959502746163, array(86.59669056), array(2112.55187988), 31.561985181933135, array(216.69078604), array(0.102573), 2112.921142578125, 0.7519140129968471, array(-60.), array(203.), array(50815609.), array(3.86776644), array(93.), array(4.16570526), array(486.), array(72.71384543), array(87.25515554), array(90.), array(-128.), array(614.), array(44.11156692), array(133.27222196), array(0.49354141), array(37528617.48657227), array(0.09057055), array(10148.02297674), array(115.29881338), array(16592.97231212), array(235.56202805), array(62.93131967), array(1.73606616), array(0.94630783), array(0.94426465), array(1.76619809), array(0.84443043), array(0.631895), array(0.60333029), array(0.99745803), array(0.9660386), array(-0.41368814), array(0.97925329), array(0.48936014), array(10.), array(0.02433003), array(6.12119958), array(0.95812654), array(0.06328659), array(20.), array(4.81127697), array(16.16684646), array(5.23009165), array(1136.71758127), array(0.39731478), array(0.47728049), array(259.12233485), array(16.30436265), array(116.47920308), array(3.26983572), array(343.53687522), array(0.08612909), array(0.02447033), array(0.57507088), array(73.05355548), array(0.01284846), array(157.90794319), array(0.08306572), array(17.81658647), array(124.36980537), array(3.18937401), array(338.88847975), array(0.08061955), array(0.0230742), array(5.27417277), array(984.8905839), array(0.51809079), array(0.66445299), array(0.92435693), array(0.74739923), array(97.94911447), array(0.01608767), array(157.90794319), array(0.08306572), array(17.81658647), array(124.36980537), array(3.18937401), array(338.88847975), array(0.08061955), array(0.0230742), array(984.8905839), array(0.51809079), array(0.74739923), array(97.94911447), array(0.01608767), array(5.27417277), array(0.66445299), array(0.92435693), array(0.46822592), array(0.00721342), array(172.58422679), array(0.02923063), array(2.64346138), 0]\n",
      "Pancreas_84.dcm\n",
      "[0.3621955446376106, 123.88519306293323, array(113.88259035), array(2871.75598145), 44.870664973964644, array(302.33339516), array(0.10527823), 2872.125244140625, 0.6283369187721811, array(-62.), array(174.), array(50712708.), array(3.55616159), array(146.), array(1.94188972), array(229.), array(75.12693112), array(74.01542813), array(98.), array(-123.), array(352.), array(60.0088726), array(114.19298602), array(-0.47556498), array(37452622.48535156), array(0.09335698), array(7561.7544547), array(82.84779138), array(4396.97515833), array(-152.67276096), array(47.98532427), array(1.16897286), array(0.9524366), array(0.75918042), array(1.55264787), array(0.59261796), array(0.67931967), array(0.6608053), array(0.99490424), array(0.95400854), array(-0.43245277), array(0.97675365), array(0.4852029), array(8.4346727), array(0.02875105), array(5.58243927), array(0.95673686), array(0.07264502), array(16.8693454), array(4.50432009), array(12.28857428), array(4.98483022), array(1454.93983029), array(0.3741167), array(0.51072362), array(363.06531242), array(12.15725083), array(83.95988686), array(3.71637953), array(328.19233736), array(0.15447917), array(0.04138436), array(0.51261393), array(40.73697894), array(0.02093331), array(210.43367347), array(0.0894701), array(11.22769864), array(80.36777211), array(3.96811224), array(352.42687075), array(0.1629183), array(0.04114209), array(5.12070366), array(1063.18197279), array(0.45203315), array(0.60478272), array(1.23409499), array(0.69694272), array(53.99013031), array(0.02830616), array(210.43367347), array(0.0894701), array(11.22769864), array(80.36777211), array(3.96811224), array(352.42687075), array(0.1629183), array(0.04114209), array(1063.18197279), array(0.45203315), array(0.69694272), array(53.99013031), array(0.02830616), array(5.12070366), array(0.60478272), array(1.23409499), array(1.35223193), array(0.00572408), array(43.52151963), array(0.05771304), array(0.48049919), 0]\n",
      "Pancreas_85.dcm\n",
      "[0.27240166815843136, 155.92999000700908, array(141.08676357), array(2980.31921387), 42.47558939383681, array(352.87425571), array(0.1184015), 2980.6884765625, 0.5484238689119549, array(-28.), array(178.), array(1.56483388e+08), array(3.41719109), array(88.), array(103.75164755), array(2689.), array(68.09666962), array(112.38652131), array(122.), array(-123.), array(2812.), array(38.90177051), array(196.9058148), array(8.51384439), array(1.15566955e+08), array(0.12405877), array(26141.16972913), array(134.96646892), array(2167114.17568297), array(14694.3619934), array(147.90821741), array(6.63012639), array(0.91419442), array(0.84111426), array(1.52607112), array(5.92265318), array(0.7110013), array(0.69855759), array(0.99952287), array(0.99297229), array(-0.46220964), array(0.97835571), array(0.45898279), array(9.9823317), array(0.04584546), array(5.24133271), array(0.97496116), array(0.12973949), array(19.9646634), array(4.32830729), array(38.63458595), array(4.85065412), array(1498.76511397), array(0.37134914), array(0.50860123), array(500.7011893), array(41.90769963), array(142.135778), array(4.07879088), array(482.03567889), array(0.09573724), array(0.02514816), array(0.45825074), array(81.40868296), array(0.01256977), array(243.29540384), array(0.10856555), array(63.71184694), array(167.05934851), array(4.88888889), array(595.69477912), array(0.11302647), array(0.02684179), array(5.27500869), array(885.25613565), array(0.39502728), array(0.55525273), array(1.64535379), array(0.64457397), array(126.54415117), array(0.01842799), array(243.29540384), array(0.10856555), array(63.71184694), array(167.05934851), array(4.88888889), array(595.69477912), array(0.11302647), array(0.02684179), array(885.25613565), array(0.39502728), array(0.64457397), array(126.54415117), array(0.01842799), array(5.27500869), array(0.55525273), array(1.64535379), array(0.26440374), array(0.00439474), array(1869.77834609), array(0.01884843), array(90.28513713), 0]\n"
     ]
    },
    {
     "name": "stderr",
     "output_type": "stream",
     "text": [
      "Shape features are only available 3D input (for 2D input, use shape2D). Found 2D input\n",
      "GLCM is symmetrical, therefore Sum Average = 2 * Joint Average, only 1 needs to be calculated\n",
      "Shape features are only available 3D input (for 2D input, use shape2D). Found 2D input\n",
      "GLCM is symmetrical, therefore Sum Average = 2 * Joint Average, only 1 needs to be calculated\n"
     ]
    },
    {
     "name": "stdout",
     "output_type": "stream",
     "text": [
      "Pancreas_86.dcm\n",
      "[0.28181843672473866, 129.82879208381274, array(111.47057772), array(2060.11657715), 36.58814722692123, array(291.22259406), array(0.14136219), 2060.48583984375, 0.5524917080251807, array(-89.), array(144.1), array(28120903.), array(3.75424749), array(155.), array(3.04241327), array(396.), array(81.62459244), array(25.54301075), array(20.), array(-129.), array(525.), array(62.84043932), array(100.39510298), array(0.62678117), array(20768000.87280273), array(0.08835472), array(9426.7313042), array(71.30524345), array(10423.78883535), array(280.55635148), array(59.39502532), array(1.4494382), array(0.95235595), array(0.8329588), array(1.66384061), array(0.75561784), array(0.66418227), array(0.64206518), array(0.99704577), array(0.96485584), array(-0.44182322), array(0.98171564), array(0.48046088), array(7.53782772), array(0.02827119), array(5.85034317), array(0.96060047), array(0.08651685), array(15.07565543), array(4.69813735), array(15.21111588), array(5.14346045), array(1056.42867384), array(0.37864827), array(0.50766049), array(246.50967742), array(15.16200319), array(72.08064516), array(3.56702509), array(221.15376344), array(0.18323104), array(0.04560923), array(0.53586221), array(44.07759857), array(0.02160621), array(135.89512894), array(0.07787686), array(16.21351417), array(79.96618911), array(3.80286533), array(233.26819484), array(0.20015735), array(0.04123922), array(5.3101947), array(841.22234957), array(0.48207585), array(0.62544803), array(1.24653164), array(0.72017593), array(62.27332581), array(0.02745223), array(135.89512894), array(0.07787686), array(16.21351417), array(79.96618911), array(3.80286533), array(233.26819484), array(0.20015735), array(0.04123922), array(841.22234957), array(0.48207585), array(0.72017593), array(62.27332581), array(0.02745223), array(5.3101947), array(0.62544803), array(1.24653164), array(0.73694802), array(0.00869187), array(118.16357769), array(0.03487668), array(2.10898523), 0]\n",
      "Pancreas_87.dcm\n",
      "[0.37798442005214794, 87.14634764348378, array(86.33618458), array(1694.54650879), 32.93996167368508, array(234.88510648), array(0.13861237), 1694.915771484375, 0.6212640142303419, array(-81.), array(254.), array(48607933.), array(4.12546096), array(150.), array(4.04572125), array(681.), array(96.31347298), array(71.79389978), array(66.), array(-128.), array(809.), array(65.44821042), array(145.5332513), array(0.93277885), array(35898192.70629883), array(0.07019238), array(16025.56318719), array(113.03917154), array(39158.6500962), array(903.53765352), array(100.8335817), array(1.71409275), array(0.96656984), array(0.89644304), array(1.73834984), array(0.91048262), array(0.65006611), array(0.62511144), array(0.99853051), array(0.97500873), array(-0.47367132), array(0.98989499), array(0.48148471), array(9.39464205), array(0.02072609), array(6.29425898), array(0.97156343), array(0.0567312), array(18.78928411), array(5.05819713), array(25.63691861), array(5.50469856), array(879.32418301), array(0.38314779), array(0.50330386), array(161.09150327), array(25.71384491), array(113.93464052), array(3.4671024), array(327.05969499), array(0.12628085), array(0.03377124), array(0.55122246), array(72.52459453), array(0.01724825), array(91.68711656), array(0.06249974), array(29.04609893), array(128.24335378), array(3.66394001), array(342.43899114), array(0.13437016), array(0.03181133), array(5.62869834), array(732.44648943), array(0.49928186), array(0.63921569), array(1.21653891), array(0.73340344), array(101.71167146), array(0.02223932), array(91.68711656), array(0.06249974), array(29.04609893), array(128.24335378), array(3.66394001), array(342.43899114), array(0.13437016), array(0.03181133), array(732.44648943), array(0.49928186), array(0.73340344), array(101.71167146), array(0.02223932), array(5.62869834), array(0.63921569), array(1.21653891), array(0.24269617), array(0.01329233), array(281.14957547), array(0.02780742), array(8.83610009), 0]\n",
      "Pancreas_88.dcm\n"
     ]
    },
    {
     "name": "stderr",
     "output_type": "stream",
     "text": [
      "Shape features are only available 3D input (for 2D input, use shape2D). Found 2D input\n",
      "GLCM is symmetrical, therefore Sum Average = 2 * Joint Average, only 1 needs to be calculated\n",
      "Shape features are only available 3D input (for 2D input, use shape2D). Found 2D input\n",
      "GLCM is symmetrical, therefore Sum Average = 2 * Joint Average, only 1 needs to be calculated\n"
     ]
    },
    {
     "name": "stdout",
     "output_type": "stream",
     "text": [
      "[0.36262710763045236, 77.74595853232296, array(75.82980081), array(1533.54797363), 28.19279207253337, array(188.52945175), array(0.12293678), 1533.917236328125, 0.7363332477085505, array(-70.), array(299.4), array(81187347.), array(4.39148696), array(176.), array(6.88760406), array(963.), array(116.34279516), array(120.56090515), array(95.), array(-127.), array(1090.), array(76.0264372), array(197.70876657), array(1.42781639), array(59958917.15698242), array(0.05909346), array(24553.82452841), array(165.19097222), array(140785.00528831), array(2402.86195287), array(150.17575443), array(3.30208333), array(0.9569699), array(0.99255952), array(1.86348764), array(2.31690893), array(0.6658378), array(0.64285253), array(0.99841818), array(0.97937239), array(-0.51973584), array(0.9947752), array(0.44414398), array(11.33457341), array(0.01911974), array(6.49911024), array(0.9785241), array(0.06200397), array(22.66914683), array(5.34225261), array(38.36945944), array(5.79195321), array(751.20895522), array(0.36167981), array(0.55294837), array(122.73712085), array(39.27984536), array(167.94992778), array(3.7867116), array(496.61627347), array(0.10479666), array(0.02554134), array(0.52105066), array(109.0000535), array(0.01179974), array(62.85096154), array(0.05036135), array(49.1501627), array(199.93990385), array(4.47676282), array(594.02403846), array(0.11788711), array(0.02355563), array(6.02628245), array(598.82371795), array(0.4798267), array(0.60086663), array(1.70699208), array(0.71999228), array(163.51630823), array(0.01539127), array(62.85096154), array(0.05036135), array(49.1501627), array(199.93990385), array(4.47676282), array(594.02403846), array(0.11788711), array(0.02355563), array(598.82371795), array(0.4798267), array(0.71999228), array(163.51630823), array(0.01539127), array(6.02628245), array(0.60086663), array(1.70699208), array(0.10414486), array(0.01780983), array(496.49515178), array(0.02554523), array(21.73247512), 0]\n",
      "Pancreas_9.dcm\n",
      "[0.25390251645811707, 108.29726145155212, array(102.50726441), array(1989.95666504), 27.496947208071717, array(246.82998494), array(0.12403787), 1990.325927734375, 0.6406617928925736, array(-53.), array(178.), array(32253685.), array(3.58991139), array(140.5), array(1.88375409), array(229.), array(71.74277164), array(70.21187384), array(79.), array(-104.), array(333.), array(57.15812831), array(109.39822746), array(-0.23284857), array(23820165.3137207), array(0.08719246), array(7038.2649425), array(79.69022154), array(3747.22183068), array(-68.40204045), array(44.7997766), array(0.92971734), array(0.95933839), array(0.67150497), array(1.42917089), array(0.47879842), array(0.70342501), array(0.6899609), array(0.99592709), array(0.95896079), array(-0.47336394), array(0.98321703), array(0.48124629), array(8.28991597), array(0.02809252), array(5.48694004), array(0.96281258), array(0.05844156), array(16.57983193), array(4.53950888), array(11.43237348), array(5.05654848), array(996.18441558), array(0.36964171), array(0.51417474), array(234.98367347), array(11.28950045), array(80.49090909), array(3.97142857), array(324.3825603), array(0.13772983), array(0.0340199), array(0.4756545), array(37.48954855), array(0.01586689), array(132.77878985), array(0.08638828), array(10.46787187), array(79.31359792), array(4.62394275), array(377.41769681), array(0.15981499), array(0.03343282), array(5.26726757), array(637.98763826), array(0.4150863), array(0.5703154), array(1.54947597), array(0.66389249), array(51.77371575), array(0.02191713), array(132.77878985), array(0.08638828), array(10.46787187), array(79.31359792), array(4.62394275), array(377.41769681), array(0.15981499), array(0.03343282), array(637.98763826), array(0.4150863), array(0.66389249), array(51.77371575), array(0.02191713), array(5.26726757), array(0.5703154), array(1.54947597), array(0.92039146), array(0.00969904), array(38.34026198), array(0.04811428), array(0.7477055), 0]\n"
     ]
    }
   ],
   "source": [
    "count = 0\n",
    "initial = \"Pancreas_\"\n",
    "l = []\n",
    "for i in os.listdir(healthy_path_slice):\n",
    "    sample_img = sitk.ReadImage(healthy_path_slice+initial+f\"{count}\"+\".dcm\")\n",
    "    sample_mask = sitk.ReadImage(healthy_path_mask + initial+\"mask_\"+f\"{count}\"+\".dcm\")\n",
    "    print(i)\n",
    "    # feature_vector = extractor.execute(sample_img,sample_mask)\n",
    "    feature_vector = extractor.execute(sample_img[:,:,0],sample_mask[:,:,0],label = 1)\n",
    "    start_key = 'original_shape2D_Elongation'\n",
    "    start_index = list(feature_vector.keys()).index(start_key)\n",
    "    # keys_from_start = list(feature_vector.keys())[list(feature_vector.keys()).index(start_key):]\n",
    "    # count = len(keys_from_start)\n",
    "    # values_array = np.empty((0, count), dtype=float)\n",
    "    \n",
    "    l1 = []\n",
    "\n",
    "    # for key, value in feature_vector.items():\n",
    "    for key, value in islice(feature_vector.items(), start_index, None):\n",
    "\n",
    "        # print(\"\\t\", count,key, \":\", value)\n",
    "        l1.append(value)\n",
    "    l1.append(0)\n",
    "    print(l1)\n",
    "    l.append(l1)\n",
    "    # count+=1\n",
    "    # if count == 2:\n",
    "    #     break\n",
    "    count+=1\n",
    "\n",
    "# values_array = np.array(l).flatten()\n",
    "df = pd.DataFrame(l)\n",
    "\n"
   ]
  },
  {
   "cell_type": "code",
   "execution_count": 8,
   "metadata": {},
   "outputs": [],
   "source": [
    "# Write the DataFrame to a CSV file\n",
    "output_csv = 'featuresvalues_new2D_automated.csv'\n",
    "df.to_csv(output_csv, index=False)"
   ]
  },
  {
   "cell_type": "code",
   "execution_count": 3,
   "metadata": {},
   "outputs": [],
   "source": [
    "tumor_path_slice = '../Automated_data/Tumor/Tumor_slice/'\n",
    "tumor_path_mask = \"../Automated_data/Tumor/Tumor_Mask/\""
   ]
  },
  {
   "cell_type": "code",
   "execution_count": 8,
   "metadata": {},
   "outputs": [
    {
     "name": "stderr",
     "output_type": "stream",
     "text": [
      "Shape features are only available 3D input (for 2D input, use shape2D). Found 2D input\n",
      "GLCM is symmetrical, therefore Sum Average = 2 * Joint Average, only 1 needs to be calculated\n"
     ]
    },
    {
     "name": "stdout",
     "output_type": "stream",
     "text": [
      "Tumor_0.dcm\n"
     ]
    },
    {
     "name": "stderr",
     "output_type": "stream",
     "text": [
      "Shape features are only available 3D input (for 2D input, use shape2D). Found 2D input\n",
      "GLCM is symmetrical, therefore Sum Average = 2 * Joint Average, only 1 needs to be calculated\n",
      "Shape features are only available 3D input (for 2D input, use shape2D). Found 2D input\n",
      "GLCM is symmetrical, therefore Sum Average = 2 * Joint Average, only 1 needs to be calculated\n",
      "Shape features are only available 3D input (for 2D input, use shape2D). Found 2D input\n"
     ]
    },
    {
     "name": "stdout",
     "output_type": "stream",
     "text": [
      "Tumor_1.dcm\n"
     ]
    },
    {
     "name": "stderr",
     "output_type": "stream",
     "text": [
      "GLCM is symmetrical, therefore Sum Average = 2 * Joint Average, only 1 needs to be calculated\n",
      "Shape features are only available 3D input (for 2D input, use shape2D). Found 2D input\n",
      "GLCM is symmetrical, therefore Sum Average = 2 * Joint Average, only 1 needs to be calculated\n"
     ]
    },
    {
     "name": "stdout",
     "output_type": "stream",
     "text": [
      "Tumor_10.dcm\n"
     ]
    },
    {
     "name": "stderr",
     "output_type": "stream",
     "text": [
      "Shape features are only available 3D input (for 2D input, use shape2D). Found 2D input\n",
      "GLCM is symmetrical, therefore Sum Average = 2 * Joint Average, only 1 needs to be calculated\n",
      "Shape features are only available 3D input (for 2D input, use shape2D). Found 2D input\n",
      "GLCM is symmetrical, therefore Sum Average = 2 * Joint Average, only 1 needs to be calculated\n"
     ]
    },
    {
     "name": "stdout",
     "output_type": "stream",
     "text": [
      "Tumor_100.dcm\n"
     ]
    },
    {
     "name": "stderr",
     "output_type": "stream",
     "text": [
      "Shape features are only available 3D input (for 2D input, use shape2D). Found 2D input\n",
      "GLCM is symmetrical, therefore Sum Average = 2 * Joint Average, only 1 needs to be calculated\n",
      "Shape features are only available 3D input (for 2D input, use shape2D). Found 2D input\n",
      "GLCM is symmetrical, therefore Sum Average = 2 * Joint Average, only 1 needs to be calculated\n"
     ]
    },
    {
     "name": "stdout",
     "output_type": "stream",
     "text": [
      "Tumor_101.dcm\n"
     ]
    },
    {
     "name": "stderr",
     "output_type": "stream",
     "text": [
      "Shape features are only available 3D input (for 2D input, use shape2D). Found 2D input\n",
      "GLCM is symmetrical, therefore Sum Average = 2 * Joint Average, only 1 needs to be calculated\n",
      "Shape features are only available 3D input (for 2D input, use shape2D). Found 2D input\n",
      "GLCM is symmetrical, therefore Sum Average = 2 * Joint Average, only 1 needs to be calculated\n"
     ]
    },
    {
     "name": "stdout",
     "output_type": "stream",
     "text": [
      "Tumor_103.dcm\n"
     ]
    },
    {
     "name": "stderr",
     "output_type": "stream",
     "text": [
      "Shape features are only available 3D input (for 2D input, use shape2D). Found 2D input\n",
      "GLCM is symmetrical, therefore Sum Average = 2 * Joint Average, only 1 needs to be calculated\n",
      "Shape features are only available 3D input (for 2D input, use shape2D). Found 2D input\n",
      "GLCM is symmetrical, therefore Sum Average = 2 * Joint Average, only 1 needs to be calculated\n"
     ]
    },
    {
     "name": "stdout",
     "output_type": "stream",
     "text": [
      "Tumor_104.dcm\n"
     ]
    },
    {
     "name": "stderr",
     "output_type": "stream",
     "text": [
      "Shape features are only available 3D input (for 2D input, use shape2D). Found 2D input\n",
      "GLCM is symmetrical, therefore Sum Average = 2 * Joint Average, only 1 needs to be calculated\n",
      "Shape features are only available 3D input (for 2D input, use shape2D). Found 2D input\n",
      "GLCM is symmetrical, therefore Sum Average = 2 * Joint Average, only 1 needs to be calculated\n",
      "Shape features are only available 3D input (for 2D input, use shape2D). Found 2D input\n",
      "GLCM is symmetrical, therefore Sum Average = 2 * Joint Average, only 1 needs to be calculated\n"
     ]
    },
    {
     "name": "stdout",
     "output_type": "stream",
     "text": [
      "Tumor_105.dcm\n"
     ]
    },
    {
     "name": "stderr",
     "output_type": "stream",
     "text": [
      "Shape features are only available 3D input (for 2D input, use shape2D). Found 2D input\n",
      "GLCM is symmetrical, therefore Sum Average = 2 * Joint Average, only 1 needs to be calculated\n",
      "Shape features are only available 3D input (for 2D input, use shape2D). Found 2D input\n",
      "GLCM is symmetrical, therefore Sum Average = 2 * Joint Average, only 1 needs to be calculated\n"
     ]
    },
    {
     "name": "stdout",
     "output_type": "stream",
     "text": [
      "Tumor_106.dcm\n"
     ]
    },
    {
     "name": "stderr",
     "output_type": "stream",
     "text": [
      "Shape features are only available 3D input (for 2D input, use shape2D). Found 2D input\n",
      "GLCM is symmetrical, therefore Sum Average = 2 * Joint Average, only 1 needs to be calculated\n",
      "Shape features are only available 3D input (for 2D input, use shape2D). Found 2D input\n",
      "GLCM is symmetrical, therefore Sum Average = 2 * Joint Average, only 1 needs to be calculated\n"
     ]
    },
    {
     "name": "stdout",
     "output_type": "stream",
     "text": [
      "Tumor_107.dcm\n"
     ]
    },
    {
     "name": "stderr",
     "output_type": "stream",
     "text": [
      "Shape features are only available 3D input (for 2D input, use shape2D). Found 2D input\n",
      "GLCM is symmetrical, therefore Sum Average = 2 * Joint Average, only 1 needs to be calculated\n",
      "Shape features are only available 3D input (for 2D input, use shape2D). Found 2D input\n"
     ]
    },
    {
     "name": "stdout",
     "output_type": "stream",
     "text": [
      "Tumor_108.dcm\n"
     ]
    },
    {
     "name": "stderr",
     "output_type": "stream",
     "text": [
      "GLCM is symmetrical, therefore Sum Average = 2 * Joint Average, only 1 needs to be calculated\n",
      "Shape features are only available 3D input (for 2D input, use shape2D). Found 2D input\n",
      "GLCM is symmetrical, therefore Sum Average = 2 * Joint Average, only 1 needs to be calculated\n",
      "Shape features are only available 3D input (for 2D input, use shape2D). Found 2D input\n"
     ]
    },
    {
     "name": "stdout",
     "output_type": "stream",
     "text": [
      "Tumor_109.dcm\n"
     ]
    },
    {
     "name": "stderr",
     "output_type": "stream",
     "text": [
      "GLCM is symmetrical, therefore Sum Average = 2 * Joint Average, only 1 needs to be calculated\n",
      "Shape features are only available 3D input (for 2D input, use shape2D). Found 2D input\n",
      "GLCM is symmetrical, therefore Sum Average = 2 * Joint Average, only 1 needs to be calculated\n",
      "Shape features are only available 3D input (for 2D input, use shape2D). Found 2D input\n",
      "GLCM is symmetrical, therefore Sum Average = 2 * Joint Average, only 1 needs to be calculated\n"
     ]
    },
    {
     "name": "stdout",
     "output_type": "stream",
     "text": [
      "Tumor_11.dcm\n",
      "Tumor_110.dcm\n"
     ]
    },
    {
     "name": "stderr",
     "output_type": "stream",
     "text": [
      "Shape features are only available 3D input (for 2D input, use shape2D). Found 2D input\n",
      "GLCM is symmetrical, therefore Sum Average = 2 * Joint Average, only 1 needs to be calculated\n",
      "Shape features are only available 3D input (for 2D input, use shape2D). Found 2D input\n",
      "GLCM is symmetrical, therefore Sum Average = 2 * Joint Average, only 1 needs to be calculated\n",
      "Shape features are only available 3D input (for 2D input, use shape2D). Found 2D input\n",
      "GLCM is symmetrical, therefore Sum Average = 2 * Joint Average, only 1 needs to be calculated\n",
      "Shape features are only available 3D input (for 2D input, use shape2D). Found 2D input\n",
      "GLCM is symmetrical, therefore Sum Average = 2 * Joint Average, only 1 needs to be calculated\n"
     ]
    },
    {
     "name": "stdout",
     "output_type": "stream",
     "text": [
      "Tumor_111.dcm\n"
     ]
    },
    {
     "name": "stderr",
     "output_type": "stream",
     "text": [
      "Shape features are only available 3D input (for 2D input, use shape2D). Found 2D input\n",
      "GLCM is symmetrical, therefore Sum Average = 2 * Joint Average, only 1 needs to be calculated\n",
      "Shape features are only available 3D input (for 2D input, use shape2D). Found 2D input\n",
      "GLCM is symmetrical, therefore Sum Average = 2 * Joint Average, only 1 needs to be calculated\n"
     ]
    },
    {
     "name": "stdout",
     "output_type": "stream",
     "text": [
      "Tumor_112.dcm\n"
     ]
    },
    {
     "name": "stderr",
     "output_type": "stream",
     "text": [
      "Shape features are only available 3D input (for 2D input, use shape2D). Found 2D input\n",
      "GLCM is symmetrical, therefore Sum Average = 2 * Joint Average, only 1 needs to be calculated\n",
      "Shape features are only available 3D input (for 2D input, use shape2D). Found 2D input\n",
      "GLCM is symmetrical, therefore Sum Average = 2 * Joint Average, only 1 needs to be calculated\n"
     ]
    },
    {
     "name": "stdout",
     "output_type": "stream",
     "text": [
      "Tumor_113.dcm\n",
      "Tumor_114.dcm\n"
     ]
    },
    {
     "name": "stderr",
     "output_type": "stream",
     "text": [
      "Shape features are only available 3D input (for 2D input, use shape2D). Found 2D input\n",
      "GLCM is symmetrical, therefore Sum Average = 2 * Joint Average, only 1 needs to be calculated\n",
      "Shape features are only available 3D input (for 2D input, use shape2D). Found 2D input\n",
      "GLCM is symmetrical, therefore Sum Average = 2 * Joint Average, only 1 needs to be calculated\n",
      "Shape features are only available 3D input (for 2D input, use shape2D). Found 2D input\n",
      "GLCM is symmetrical, therefore Sum Average = 2 * Joint Average, only 1 needs to be calculated\n",
      "Shape features are only available 3D input (for 2D input, use shape2D). Found 2D input\n"
     ]
    },
    {
     "name": "stdout",
     "output_type": "stream",
     "text": [
      "Tumor_115.dcm\n"
     ]
    },
    {
     "name": "stderr",
     "output_type": "stream",
     "text": [
      "GLCM is symmetrical, therefore Sum Average = 2 * Joint Average, only 1 needs to be calculated\n",
      "Shape features are only available 3D input (for 2D input, use shape2D). Found 2D input\n",
      "GLCM is symmetrical, therefore Sum Average = 2 * Joint Average, only 1 needs to be calculated\n",
      "Shape features are only available 3D input (for 2D input, use shape2D). Found 2D input\n",
      "GLCM is symmetrical, therefore Sum Average = 2 * Joint Average, only 1 needs to be calculated\n"
     ]
    },
    {
     "name": "stdout",
     "output_type": "stream",
     "text": [
      "Tumor_116.dcm\n"
     ]
    },
    {
     "name": "stderr",
     "output_type": "stream",
     "text": [
      "Shape features are only available 3D input (for 2D input, use shape2D). Found 2D input\n",
      "GLCM is symmetrical, therefore Sum Average = 2 * Joint Average, only 1 needs to be calculated\n",
      "Shape features are only available 3D input (for 2D input, use shape2D). Found 2D input\n",
      "GLCM is symmetrical, therefore Sum Average = 2 * Joint Average, only 1 needs to be calculated\n"
     ]
    },
    {
     "name": "stdout",
     "output_type": "stream",
     "text": [
      "Tumor_117.dcm\n"
     ]
    },
    {
     "name": "stderr",
     "output_type": "stream",
     "text": [
      "Shape features are only available 3D input (for 2D input, use shape2D). Found 2D input\n",
      "GLCM is symmetrical, therefore Sum Average = 2 * Joint Average, only 1 needs to be calculated\n",
      "Shape features are only available 3D input (for 2D input, use shape2D). Found 2D input\n",
      "GLCM is symmetrical, therefore Sum Average = 2 * Joint Average, only 1 needs to be calculated\n"
     ]
    },
    {
     "name": "stdout",
     "output_type": "stream",
     "text": [
      "Tumor_118.dcm\n"
     ]
    },
    {
     "name": "stderr",
     "output_type": "stream",
     "text": [
      "Shape features are only available 3D input (for 2D input, use shape2D). Found 2D input\n",
      "GLCM is symmetrical, therefore Sum Average = 2 * Joint Average, only 1 needs to be calculated\n",
      "Shape features are only available 3D input (for 2D input, use shape2D). Found 2D input\n",
      "GLCM is symmetrical, therefore Sum Average = 2 * Joint Average, only 1 needs to be calculated\n"
     ]
    },
    {
     "name": "stdout",
     "output_type": "stream",
     "text": [
      "Tumor_119.dcm\n",
      "Tumor_12.dcm\n"
     ]
    },
    {
     "name": "stderr",
     "output_type": "stream",
     "text": [
      "Shape features are only available 3D input (for 2D input, use shape2D). Found 2D input\n",
      "GLCM is symmetrical, therefore Sum Average = 2 * Joint Average, only 1 needs to be calculated\n",
      "Shape features are only available 3D input (for 2D input, use shape2D). Found 2D input\n",
      "GLCM is symmetrical, therefore Sum Average = 2 * Joint Average, only 1 needs to be calculated\n",
      "Shape features are only available 3D input (for 2D input, use shape2D). Found 2D input\n",
      "GLCM is symmetrical, therefore Sum Average = 2 * Joint Average, only 1 needs to be calculated\n",
      "Shape features are only available 3D input (for 2D input, use shape2D). Found 2D input\n",
      "GLCM is symmetrical, therefore Sum Average = 2 * Joint Average, only 1 needs to be calculated\n"
     ]
    },
    {
     "name": "stdout",
     "output_type": "stream",
     "text": [
      "Tumor_120.dcm\n",
      "Tumor_121.dcm\n"
     ]
    },
    {
     "name": "stderr",
     "output_type": "stream",
     "text": [
      "Shape features are only available 3D input (for 2D input, use shape2D). Found 2D input\n",
      "GLCM is symmetrical, therefore Sum Average = 2 * Joint Average, only 1 needs to be calculated\n",
      "Shape features are only available 3D input (for 2D input, use shape2D). Found 2D input\n",
      "GLCM is symmetrical, therefore Sum Average = 2 * Joint Average, only 1 needs to be calculated\n",
      "Shape features are only available 3D input (for 2D input, use shape2D). Found 2D input\n",
      "GLCM is symmetrical, therefore Sum Average = 2 * Joint Average, only 1 needs to be calculated\n",
      "Shape features are only available 3D input (for 2D input, use shape2D). Found 2D input\n",
      "GLCM is symmetrical, therefore Sum Average = 2 * Joint Average, only 1 needs to be calculated\n"
     ]
    },
    {
     "name": "stdout",
     "output_type": "stream",
     "text": [
      "Tumor_122.dcm\n",
      "Tumor_123.dcm\n"
     ]
    },
    {
     "name": "stderr",
     "output_type": "stream",
     "text": [
      "Shape features are only available 3D input (for 2D input, use shape2D). Found 2D input\n",
      "GLCM is symmetrical, therefore Sum Average = 2 * Joint Average, only 1 needs to be calculated\n",
      "Shape features are only available 3D input (for 2D input, use shape2D). Found 2D input\n",
      "GLCM is symmetrical, therefore Sum Average = 2 * Joint Average, only 1 needs to be calculated\n",
      "Shape features are only available 3D input (for 2D input, use shape2D). Found 2D input\n",
      "GLCM is symmetrical, therefore Sum Average = 2 * Joint Average, only 1 needs to be calculated\n",
      "Shape features are only available 3D input (for 2D input, use shape2D). Found 2D input\n",
      "GLCM is symmetrical, therefore Sum Average = 2 * Joint Average, only 1 needs to be calculated\n"
     ]
    },
    {
     "name": "stdout",
     "output_type": "stream",
     "text": [
      "Tumor_124.dcm\n"
     ]
    },
    {
     "name": "stderr",
     "output_type": "stream",
     "text": [
      "Shape features are only available 3D input (for 2D input, use shape2D). Found 2D input\n",
      "GLCM is symmetrical, therefore Sum Average = 2 * Joint Average, only 1 needs to be calculated\n",
      "Shape features are only available 3D input (for 2D input, use shape2D). Found 2D input\n",
      "GLCM is symmetrical, therefore Sum Average = 2 * Joint Average, only 1 needs to be calculated\n"
     ]
    },
    {
     "name": "stdout",
     "output_type": "stream",
     "text": [
      "Tumor_125.dcm\n",
      "Tumor_126.dcm\n"
     ]
    },
    {
     "name": "stderr",
     "output_type": "stream",
     "text": [
      "Shape features are only available 3D input (for 2D input, use shape2D). Found 2D input\n",
      "GLCM is symmetrical, therefore Sum Average = 2 * Joint Average, only 1 needs to be calculated\n",
      "Shape features are only available 3D input (for 2D input, use shape2D). Found 2D input\n",
      "GLCM is symmetrical, therefore Sum Average = 2 * Joint Average, only 1 needs to be calculated\n",
      "Shape features are only available 3D input (for 2D input, use shape2D). Found 2D input\n",
      "GLCM is symmetrical, therefore Sum Average = 2 * Joint Average, only 1 needs to be calculated\n",
      "Shape features are only available 3D input (for 2D input, use shape2D). Found 2D input\n",
      "GLCM is symmetrical, therefore Sum Average = 2 * Joint Average, only 1 needs to be calculated\n",
      "Shape features are only available 3D input (for 2D input, use shape2D). Found 2D input\n"
     ]
    },
    {
     "name": "stdout",
     "output_type": "stream",
     "text": [
      "Tumor_127.dcm\n",
      "Tumor_128.dcm\n"
     ]
    },
    {
     "name": "stderr",
     "output_type": "stream",
     "text": [
      "GLCM is symmetrical, therefore Sum Average = 2 * Joint Average, only 1 needs to be calculated\n",
      "Shape features are only available 3D input (for 2D input, use shape2D). Found 2D input\n",
      "GLCM is symmetrical, therefore Sum Average = 2 * Joint Average, only 1 needs to be calculated\n",
      "Shape features are only available 3D input (for 2D input, use shape2D). Found 2D input\n",
      "GLCM is symmetrical, therefore Sum Average = 2 * Joint Average, only 1 needs to be calculated\n",
      "Shape features are only available 3D input (for 2D input, use shape2D). Found 2D input\n",
      "GLCM is symmetrical, therefore Sum Average = 2 * Joint Average, only 1 needs to be calculated\n",
      "Shape features are only available 3D input (for 2D input, use shape2D). Found 2D input\n",
      "GLCM is symmetrical, therefore Sum Average = 2 * Joint Average, only 1 needs to be calculated\n"
     ]
    },
    {
     "name": "stdout",
     "output_type": "stream",
     "text": [
      "Tumor_129.dcm\n",
      "Tumor_13.dcm\n"
     ]
    },
    {
     "name": "stderr",
     "output_type": "stream",
     "text": [
      "Shape features are only available 3D input (for 2D input, use shape2D). Found 2D input\n",
      "GLCM is symmetrical, therefore Sum Average = 2 * Joint Average, only 1 needs to be calculated\n",
      "Shape features are only available 3D input (for 2D input, use shape2D). Found 2D input\n",
      "GLCM is symmetrical, therefore Sum Average = 2 * Joint Average, only 1 needs to be calculated\n",
      "Shape features are only available 3D input (for 2D input, use shape2D). Found 2D input\n",
      "GLCM is symmetrical, therefore Sum Average = 2 * Joint Average, only 1 needs to be calculated\n",
      "Shape features are only available 3D input (for 2D input, use shape2D). Found 2D input\n",
      "GLCM is symmetrical, therefore Sum Average = 2 * Joint Average, only 1 needs to be calculated\n"
     ]
    },
    {
     "name": "stdout",
     "output_type": "stream",
     "text": [
      "Tumor_130.dcm\n",
      "Tumor_131.dcm\n"
     ]
    },
    {
     "name": "stderr",
     "output_type": "stream",
     "text": [
      "Shape features are only available 3D input (for 2D input, use shape2D). Found 2D input\n",
      "GLCM is symmetrical, therefore Sum Average = 2 * Joint Average, only 1 needs to be calculated\n",
      "Shape features are only available 3D input (for 2D input, use shape2D). Found 2D input\n",
      "GLCM is symmetrical, therefore Sum Average = 2 * Joint Average, only 1 needs to be calculated\n",
      "Shape features are only available 3D input (for 2D input, use shape2D). Found 2D input\n",
      "GLCM is symmetrical, therefore Sum Average = 2 * Joint Average, only 1 needs to be calculated\n",
      "Shape features are only available 3D input (for 2D input, use shape2D). Found 2D input\n",
      "GLCM is symmetrical, therefore Sum Average = 2 * Joint Average, only 1 needs to be calculated\n"
     ]
    },
    {
     "name": "stdout",
     "output_type": "stream",
     "text": [
      "Tumor_132.dcm\n",
      "Tumor_133.dcm\n"
     ]
    },
    {
     "name": "stderr",
     "output_type": "stream",
     "text": [
      "Shape features are only available 3D input (for 2D input, use shape2D). Found 2D input\n",
      "GLCM is symmetrical, therefore Sum Average = 2 * Joint Average, only 1 needs to be calculated\n",
      "Shape features are only available 3D input (for 2D input, use shape2D). Found 2D input\n",
      "GLCM is symmetrical, therefore Sum Average = 2 * Joint Average, only 1 needs to be calculated\n",
      "Shape features are only available 3D input (for 2D input, use shape2D). Found 2D input\n",
      "GLCM is symmetrical, therefore Sum Average = 2 * Joint Average, only 1 needs to be calculated\n",
      "Shape features are only available 3D input (for 2D input, use shape2D). Found 2D input\n",
      "GLCM is symmetrical, therefore Sum Average = 2 * Joint Average, only 1 needs to be calculated\n"
     ]
    },
    {
     "name": "stdout",
     "output_type": "stream",
     "text": [
      "Tumor_134.dcm\n",
      "Tumor_135.dcm\n"
     ]
    },
    {
     "name": "stderr",
     "output_type": "stream",
     "text": [
      "Shape features are only available 3D input (for 2D input, use shape2D). Found 2D input\n",
      "GLCM is symmetrical, therefore Sum Average = 2 * Joint Average, only 1 needs to be calculated\n",
      "Shape features are only available 3D input (for 2D input, use shape2D). Found 2D input\n",
      "GLCM is symmetrical, therefore Sum Average = 2 * Joint Average, only 1 needs to be calculated\n",
      "Shape features are only available 3D input (for 2D input, use shape2D). Found 2D input\n",
      "GLCM is symmetrical, therefore Sum Average = 2 * Joint Average, only 1 needs to be calculated\n",
      "Shape features are only available 3D input (for 2D input, use shape2D). Found 2D input\n",
      "GLCM is symmetrical, therefore Sum Average = 2 * Joint Average, only 1 needs to be calculated\n"
     ]
    },
    {
     "name": "stdout",
     "output_type": "stream",
     "text": [
      "Tumor_136.dcm\n",
      "Tumor_137.dcm\n"
     ]
    },
    {
     "name": "stderr",
     "output_type": "stream",
     "text": [
      "Shape features are only available 3D input (for 2D input, use shape2D). Found 2D input\n",
      "GLCM is symmetrical, therefore Sum Average = 2 * Joint Average, only 1 needs to be calculated\n",
      "Shape features are only available 3D input (for 2D input, use shape2D). Found 2D input\n",
      "GLCM is symmetrical, therefore Sum Average = 2 * Joint Average, only 1 needs to be calculated\n",
      "Shape features are only available 3D input (for 2D input, use shape2D). Found 2D input\n",
      "GLCM is symmetrical, therefore Sum Average = 2 * Joint Average, only 1 needs to be calculated\n",
      "Shape features are only available 3D input (for 2D input, use shape2D). Found 2D input\n",
      "GLCM is symmetrical, therefore Sum Average = 2 * Joint Average, only 1 needs to be calculated\n"
     ]
    },
    {
     "name": "stdout",
     "output_type": "stream",
     "text": [
      "Tumor_138.dcm\n",
      "Tumor_139.dcm\n"
     ]
    },
    {
     "name": "stderr",
     "output_type": "stream",
     "text": [
      "Shape features are only available 3D input (for 2D input, use shape2D). Found 2D input\n",
      "GLCM is symmetrical, therefore Sum Average = 2 * Joint Average, only 1 needs to be calculated\n",
      "Shape features are only available 3D input (for 2D input, use shape2D). Found 2D input\n",
      "GLCM is symmetrical, therefore Sum Average = 2 * Joint Average, only 1 needs to be calculated\n",
      "Shape features are only available 3D input (for 2D input, use shape2D). Found 2D input\n",
      "GLCM is symmetrical, therefore Sum Average = 2 * Joint Average, only 1 needs to be calculated\n",
      "Shape features are only available 3D input (for 2D input, use shape2D). Found 2D input\n",
      "GLCM is symmetrical, therefore Sum Average = 2 * Joint Average, only 1 needs to be calculated\n"
     ]
    },
    {
     "name": "stdout",
     "output_type": "stream",
     "text": [
      "Tumor_14.dcm\n",
      "Tumor_140.dcm\n"
     ]
    },
    {
     "name": "stderr",
     "output_type": "stream",
     "text": [
      "Shape features are only available 3D input (for 2D input, use shape2D). Found 2D input\n",
      "GLCM is symmetrical, therefore Sum Average = 2 * Joint Average, only 1 needs to be calculated\n",
      "Shape features are only available 3D input (for 2D input, use shape2D). Found 2D input\n",
      "GLCM is symmetrical, therefore Sum Average = 2 * Joint Average, only 1 needs to be calculated\n",
      "Shape features are only available 3D input (for 2D input, use shape2D). Found 2D input\n",
      "GLCM is symmetrical, therefore Sum Average = 2 * Joint Average, only 1 needs to be calculated\n",
      "Shape features are only available 3D input (for 2D input, use shape2D). Found 2D input\n",
      "GLCM is symmetrical, therefore Sum Average = 2 * Joint Average, only 1 needs to be calculated\n"
     ]
    },
    {
     "name": "stdout",
     "output_type": "stream",
     "text": [
      "Tumor_141.dcm\n",
      "Tumor_142.dcm\n"
     ]
    },
    {
     "name": "stderr",
     "output_type": "stream",
     "text": [
      "Shape features are only available 3D input (for 2D input, use shape2D). Found 2D input\n",
      "GLCM is symmetrical, therefore Sum Average = 2 * Joint Average, only 1 needs to be calculated\n",
      "Shape features are only available 3D input (for 2D input, use shape2D). Found 2D input\n",
      "GLCM is symmetrical, therefore Sum Average = 2 * Joint Average, only 1 needs to be calculated\n",
      "Shape features are only available 3D input (for 2D input, use shape2D). Found 2D input\n",
      "GLCM is symmetrical, therefore Sum Average = 2 * Joint Average, only 1 needs to be calculated\n",
      "Shape features are only available 3D input (for 2D input, use shape2D). Found 2D input\n",
      "GLCM is symmetrical, therefore Sum Average = 2 * Joint Average, only 1 needs to be calculated\n"
     ]
    },
    {
     "name": "stdout",
     "output_type": "stream",
     "text": [
      "Tumor_143.dcm\n",
      "Tumor_144.dcm\n"
     ]
    },
    {
     "name": "stderr",
     "output_type": "stream",
     "text": [
      "Shape features are only available 3D input (for 2D input, use shape2D). Found 2D input\n",
      "GLCM is symmetrical, therefore Sum Average = 2 * Joint Average, only 1 needs to be calculated\n",
      "Shape features are only available 3D input (for 2D input, use shape2D). Found 2D input\n",
      "GLCM is symmetrical, therefore Sum Average = 2 * Joint Average, only 1 needs to be calculated\n",
      "Shape features are only available 3D input (for 2D input, use shape2D). Found 2D input\n",
      "GLCM is symmetrical, therefore Sum Average = 2 * Joint Average, only 1 needs to be calculated\n",
      "Shape features are only available 3D input (for 2D input, use shape2D). Found 2D input\n"
     ]
    },
    {
     "name": "stdout",
     "output_type": "stream",
     "text": [
      "Tumor_145.dcm\n",
      "Tumor_146.dcm\n"
     ]
    },
    {
     "name": "stderr",
     "output_type": "stream",
     "text": [
      "GLCM is symmetrical, therefore Sum Average = 2 * Joint Average, only 1 needs to be calculated\n",
      "Shape features are only available 3D input (for 2D input, use shape2D). Found 2D input\n",
      "GLCM is symmetrical, therefore Sum Average = 2 * Joint Average, only 1 needs to be calculated\n",
      "Shape features are only available 3D input (for 2D input, use shape2D). Found 2D input\n",
      "GLCM is symmetrical, therefore Sum Average = 2 * Joint Average, only 1 needs to be calculated\n",
      "Shape features are only available 3D input (for 2D input, use shape2D). Found 2D input\n",
      "GLCM is symmetrical, therefore Sum Average = 2 * Joint Average, only 1 needs to be calculated\n",
      "Shape features are only available 3D input (for 2D input, use shape2D). Found 2D input\n",
      "GLCM is symmetrical, therefore Sum Average = 2 * Joint Average, only 1 needs to be calculated\n"
     ]
    },
    {
     "name": "stdout",
     "output_type": "stream",
     "text": [
      "Tumor_147.dcm\n",
      "Tumor_148.dcm\n"
     ]
    },
    {
     "name": "stderr",
     "output_type": "stream",
     "text": [
      "Shape features are only available 3D input (for 2D input, use shape2D). Found 2D input\n",
      "GLCM is symmetrical, therefore Sum Average = 2 * Joint Average, only 1 needs to be calculated\n",
      "Shape features are only available 3D input (for 2D input, use shape2D). Found 2D input\n",
      "GLCM is symmetrical, therefore Sum Average = 2 * Joint Average, only 1 needs to be calculated\n",
      "Shape features are only available 3D input (for 2D input, use shape2D). Found 2D input\n",
      "GLCM is symmetrical, therefore Sum Average = 2 * Joint Average, only 1 needs to be calculated\n",
      "Shape features are only available 3D input (for 2D input, use shape2D). Found 2D input\n",
      "GLCM is symmetrical, therefore Sum Average = 2 * Joint Average, only 1 needs to be calculated\n"
     ]
    },
    {
     "name": "stdout",
     "output_type": "stream",
     "text": [
      "Tumor_149.dcm\n",
      "Tumor_15.dcm\n"
     ]
    },
    {
     "name": "stderr",
     "output_type": "stream",
     "text": [
      "Shape features are only available 3D input (for 2D input, use shape2D). Found 2D input\n",
      "GLCM is symmetrical, therefore Sum Average = 2 * Joint Average, only 1 needs to be calculated\n",
      "Shape features are only available 3D input (for 2D input, use shape2D). Found 2D input\n",
      "GLCM is symmetrical, therefore Sum Average = 2 * Joint Average, only 1 needs to be calculated\n",
      "Shape features are only available 3D input (for 2D input, use shape2D). Found 2D input\n",
      "GLCM is symmetrical, therefore Sum Average = 2 * Joint Average, only 1 needs to be calculated\n"
     ]
    },
    {
     "name": "stdout",
     "output_type": "stream",
     "text": [
      "Tumor_150.dcm\n",
      "Tumor_151.dcm\n"
     ]
    },
    {
     "name": "stderr",
     "output_type": "stream",
     "text": [
      "Shape features are only available 3D input (for 2D input, use shape2D). Found 2D input\n",
      "GLCM is symmetrical, therefore Sum Average = 2 * Joint Average, only 1 needs to be calculated\n",
      "Shape features are only available 3D input (for 2D input, use shape2D). Found 2D input\n",
      "GLCM is symmetrical, therefore Sum Average = 2 * Joint Average, only 1 needs to be calculated\n",
      "Shape features are only available 3D input (for 2D input, use shape2D). Found 2D input\n",
      "GLCM is symmetrical, therefore Sum Average = 2 * Joint Average, only 1 needs to be calculated\n",
      "Shape features are only available 3D input (for 2D input, use shape2D). Found 2D input\n",
      "GLCM is symmetrical, therefore Sum Average = 2 * Joint Average, only 1 needs to be calculated\n",
      "Shape features are only available 3D input (for 2D input, use shape2D). Found 2D input\n",
      "GLCM is symmetrical, therefore Sum Average = 2 * Joint Average, only 1 needs to be calculated\n"
     ]
    },
    {
     "name": "stdout",
     "output_type": "stream",
     "text": [
      "Tumor_152.dcm\n",
      "Tumor_153.dcm\n"
     ]
    },
    {
     "name": "stderr",
     "output_type": "stream",
     "text": [
      "Shape features are only available 3D input (for 2D input, use shape2D). Found 2D input\n",
      "GLCM is symmetrical, therefore Sum Average = 2 * Joint Average, only 1 needs to be calculated\n",
      "Shape features are only available 3D input (for 2D input, use shape2D). Found 2D input\n",
      "GLCM is symmetrical, therefore Sum Average = 2 * Joint Average, only 1 needs to be calculated\n",
      "Shape features are only available 3D input (for 2D input, use shape2D). Found 2D input\n",
      "GLCM is symmetrical, therefore Sum Average = 2 * Joint Average, only 1 needs to be calculated\n",
      "Shape features are only available 3D input (for 2D input, use shape2D). Found 2D input\n",
      "GLCM is symmetrical, therefore Sum Average = 2 * Joint Average, only 1 needs to be calculated\n"
     ]
    },
    {
     "name": "stdout",
     "output_type": "stream",
     "text": [
      "Tumor_154.dcm\n",
      "Tumor_155.dcm\n"
     ]
    },
    {
     "name": "stderr",
     "output_type": "stream",
     "text": [
      "Shape features are only available 3D input (for 2D input, use shape2D). Found 2D input\n",
      "GLCM is symmetrical, therefore Sum Average = 2 * Joint Average, only 1 needs to be calculated\n",
      "Shape features are only available 3D input (for 2D input, use shape2D). Found 2D input\n",
      "GLCM is symmetrical, therefore Sum Average = 2 * Joint Average, only 1 needs to be calculated\n",
      "Shape features are only available 3D input (for 2D input, use shape2D). Found 2D input\n",
      "GLCM is symmetrical, therefore Sum Average = 2 * Joint Average, only 1 needs to be calculated\n",
      "Shape features are only available 3D input (for 2D input, use shape2D). Found 2D input\n",
      "GLCM is symmetrical, therefore Sum Average = 2 * Joint Average, only 1 needs to be calculated\n"
     ]
    },
    {
     "name": "stdout",
     "output_type": "stream",
     "text": [
      "Tumor_156.dcm\n",
      "Tumor_157.dcm\n"
     ]
    },
    {
     "name": "stderr",
     "output_type": "stream",
     "text": [
      "Shape features are only available 3D input (for 2D input, use shape2D). Found 2D input\n",
      "GLCM is symmetrical, therefore Sum Average = 2 * Joint Average, only 1 needs to be calculated\n",
      "Shape features are only available 3D input (for 2D input, use shape2D). Found 2D input\n",
      "GLCM is symmetrical, therefore Sum Average = 2 * Joint Average, only 1 needs to be calculated\n",
      "Shape features are only available 3D input (for 2D input, use shape2D). Found 2D input\n",
      "GLCM is symmetrical, therefore Sum Average = 2 * Joint Average, only 1 needs to be calculated\n",
      "Shape features are only available 3D input (for 2D input, use shape2D). Found 2D input\n",
      "GLCM is symmetrical, therefore Sum Average = 2 * Joint Average, only 1 needs to be calculated\n"
     ]
    },
    {
     "name": "stdout",
     "output_type": "stream",
     "text": [
      "Tumor_158.dcm\n",
      "Tumor_159.dcm\n"
     ]
    },
    {
     "name": "stderr",
     "output_type": "stream",
     "text": [
      "Shape features are only available 3D input (for 2D input, use shape2D). Found 2D input\n",
      "GLCM is symmetrical, therefore Sum Average = 2 * Joint Average, only 1 needs to be calculated\n",
      "Shape features are only available 3D input (for 2D input, use shape2D). Found 2D input\n",
      "GLCM is symmetrical, therefore Sum Average = 2 * Joint Average, only 1 needs to be calculated\n",
      "Shape features are only available 3D input (for 2D input, use shape2D). Found 2D input\n",
      "GLCM is symmetrical, therefore Sum Average = 2 * Joint Average, only 1 needs to be calculated\n",
      "Shape features are only available 3D input (for 2D input, use shape2D). Found 2D input\n",
      "GLCM is symmetrical, therefore Sum Average = 2 * Joint Average, only 1 needs to be calculated\n"
     ]
    },
    {
     "name": "stdout",
     "output_type": "stream",
     "text": [
      "Tumor_16.dcm\n",
      "Tumor_160.dcm\n"
     ]
    },
    {
     "name": "stderr",
     "output_type": "stream",
     "text": [
      "Shape features are only available 3D input (for 2D input, use shape2D). Found 2D input\n",
      "GLCM is symmetrical, therefore Sum Average = 2 * Joint Average, only 1 needs to be calculated\n",
      "Shape features are only available 3D input (for 2D input, use shape2D). Found 2D input\n",
      "GLCM is symmetrical, therefore Sum Average = 2 * Joint Average, only 1 needs to be calculated\n",
      "Shape features are only available 3D input (for 2D input, use shape2D). Found 2D input\n",
      "GLCM is symmetrical, therefore Sum Average = 2 * Joint Average, only 1 needs to be calculated\n",
      "Shape features are only available 3D input (for 2D input, use shape2D). Found 2D input\n",
      "GLCM is symmetrical, therefore Sum Average = 2 * Joint Average, only 1 needs to be calculated\n"
     ]
    },
    {
     "name": "stdout",
     "output_type": "stream",
     "text": [
      "Tumor_161.dcm\n",
      "Tumor_162.dcm\n"
     ]
    },
    {
     "name": "stderr",
     "output_type": "stream",
     "text": [
      "Shape features are only available 3D input (for 2D input, use shape2D). Found 2D input\n",
      "GLCM is symmetrical, therefore Sum Average = 2 * Joint Average, only 1 needs to be calculated\n",
      "Shape features are only available 3D input (for 2D input, use shape2D). Found 2D input\n",
      "GLCM is symmetrical, therefore Sum Average = 2 * Joint Average, only 1 needs to be calculated\n",
      "Shape features are only available 3D input (for 2D input, use shape2D). Found 2D input\n",
      "GLCM is symmetrical, therefore Sum Average = 2 * Joint Average, only 1 needs to be calculated\n",
      "Shape features are only available 3D input (for 2D input, use shape2D). Found 2D input\n",
      "GLCM is symmetrical, therefore Sum Average = 2 * Joint Average, only 1 needs to be calculated\n"
     ]
    },
    {
     "name": "stdout",
     "output_type": "stream",
     "text": [
      "Tumor_163.dcm\n",
      "Tumor_164.dcm\n"
     ]
    },
    {
     "name": "stderr",
     "output_type": "stream",
     "text": [
      "Shape features are only available 3D input (for 2D input, use shape2D). Found 2D input\n",
      "GLCM is symmetrical, therefore Sum Average = 2 * Joint Average, only 1 needs to be calculated\n",
      "Shape features are only available 3D input (for 2D input, use shape2D). Found 2D input\n",
      "GLCM is symmetrical, therefore Sum Average = 2 * Joint Average, only 1 needs to be calculated\n",
      "Shape features are only available 3D input (for 2D input, use shape2D). Found 2D input\n",
      "GLCM is symmetrical, therefore Sum Average = 2 * Joint Average, only 1 needs to be calculated\n",
      "Shape features are only available 3D input (for 2D input, use shape2D). Found 2D input\n",
      "GLCM is symmetrical, therefore Sum Average = 2 * Joint Average, only 1 needs to be calculated\n"
     ]
    },
    {
     "name": "stdout",
     "output_type": "stream",
     "text": [
      "Tumor_165.dcm\n",
      "Tumor_166.dcm\n"
     ]
    },
    {
     "name": "stderr",
     "output_type": "stream",
     "text": [
      "Shape features are only available 3D input (for 2D input, use shape2D). Found 2D input\n",
      "GLCM is symmetrical, therefore Sum Average = 2 * Joint Average, only 1 needs to be calculated\n",
      "Shape features are only available 3D input (for 2D input, use shape2D). Found 2D input\n",
      "GLCM is symmetrical, therefore Sum Average = 2 * Joint Average, only 1 needs to be calculated\n",
      "Shape features are only available 3D input (for 2D input, use shape2D). Found 2D input\n",
      "GLCM is symmetrical, therefore Sum Average = 2 * Joint Average, only 1 needs to be calculated\n",
      "Shape features are only available 3D input (for 2D input, use shape2D). Found 2D input\n",
      "GLCM is symmetrical, therefore Sum Average = 2 * Joint Average, only 1 needs to be calculated\n"
     ]
    },
    {
     "name": "stdout",
     "output_type": "stream",
     "text": [
      "Tumor_167.dcm\n",
      "Tumor_168.dcm\n"
     ]
    },
    {
     "name": "stderr",
     "output_type": "stream",
     "text": [
      "Shape features are only available 3D input (for 2D input, use shape2D). Found 2D input\n",
      "GLCM is symmetrical, therefore Sum Average = 2 * Joint Average, only 1 needs to be calculated\n",
      "Shape features are only available 3D input (for 2D input, use shape2D). Found 2D input\n",
      "GLCM is symmetrical, therefore Sum Average = 2 * Joint Average, only 1 needs to be calculated\n",
      "Shape features are only available 3D input (for 2D input, use shape2D). Found 2D input\n",
      "GLCM is symmetrical, therefore Sum Average = 2 * Joint Average, only 1 needs to be calculated\n",
      "Shape features are only available 3D input (for 2D input, use shape2D). Found 2D input\n",
      "GLCM is symmetrical, therefore Sum Average = 2 * Joint Average, only 1 needs to be calculated\n"
     ]
    },
    {
     "name": "stdout",
     "output_type": "stream",
     "text": [
      "Tumor_169.dcm\n",
      "Tumor_17.dcm\n"
     ]
    },
    {
     "name": "stderr",
     "output_type": "stream",
     "text": [
      "Shape features are only available 3D input (for 2D input, use shape2D). Found 2D input\n",
      "GLCM is symmetrical, therefore Sum Average = 2 * Joint Average, only 1 needs to be calculated\n",
      "Shape features are only available 3D input (for 2D input, use shape2D). Found 2D input\n",
      "GLCM is symmetrical, therefore Sum Average = 2 * Joint Average, only 1 needs to be calculated\n",
      "Shape features are only available 3D input (for 2D input, use shape2D). Found 2D input\n",
      "GLCM is symmetrical, therefore Sum Average = 2 * Joint Average, only 1 needs to be calculated\n",
      "Shape features are only available 3D input (for 2D input, use shape2D). Found 2D input\n",
      "GLCM is symmetrical, therefore Sum Average = 2 * Joint Average, only 1 needs to be calculated\n"
     ]
    },
    {
     "name": "stdout",
     "output_type": "stream",
     "text": [
      "Tumor_170.dcm\n",
      "Tumor_171.dcm\n"
     ]
    },
    {
     "name": "stderr",
     "output_type": "stream",
     "text": [
      "Shape features are only available 3D input (for 2D input, use shape2D). Found 2D input\n",
      "GLCM is symmetrical, therefore Sum Average = 2 * Joint Average, only 1 needs to be calculated\n",
      "Shape features are only available 3D input (for 2D input, use shape2D). Found 2D input\n",
      "GLCM is symmetrical, therefore Sum Average = 2 * Joint Average, only 1 needs to be calculated\n",
      "Shape features are only available 3D input (for 2D input, use shape2D). Found 2D input\n",
      "GLCM is symmetrical, therefore Sum Average = 2 * Joint Average, only 1 needs to be calculated\n",
      "Shape features are only available 3D input (for 2D input, use shape2D). Found 2D input\n",
      "GLCM is symmetrical, therefore Sum Average = 2 * Joint Average, only 1 needs to be calculated\n"
     ]
    },
    {
     "name": "stdout",
     "output_type": "stream",
     "text": [
      "Tumor_172.dcm\n",
      "Tumor_173.dcm\n"
     ]
    },
    {
     "name": "stderr",
     "output_type": "stream",
     "text": [
      "Shape features are only available 3D input (for 2D input, use shape2D). Found 2D input\n",
      "GLCM is symmetrical, therefore Sum Average = 2 * Joint Average, only 1 needs to be calculated\n",
      "Shape features are only available 3D input (for 2D input, use shape2D). Found 2D input\n",
      "GLCM is symmetrical, therefore Sum Average = 2 * Joint Average, only 1 needs to be calculated\n",
      "Shape features are only available 3D input (for 2D input, use shape2D). Found 2D input\n",
      "GLCM is symmetrical, therefore Sum Average = 2 * Joint Average, only 1 needs to be calculated\n",
      "Shape features are only available 3D input (for 2D input, use shape2D). Found 2D input\n",
      "GLCM is symmetrical, therefore Sum Average = 2 * Joint Average, only 1 needs to be calculated\n"
     ]
    },
    {
     "name": "stdout",
     "output_type": "stream",
     "text": [
      "Tumor_174.dcm\n",
      "Tumor_175.dcm\n"
     ]
    },
    {
     "name": "stderr",
     "output_type": "stream",
     "text": [
      "Shape features are only available 3D input (for 2D input, use shape2D). Found 2D input\n",
      "GLCM is symmetrical, therefore Sum Average = 2 * Joint Average, only 1 needs to be calculated\n",
      "Shape features are only available 3D input (for 2D input, use shape2D). Found 2D input\n",
      "GLCM is symmetrical, therefore Sum Average = 2 * Joint Average, only 1 needs to be calculated\n",
      "Shape features are only available 3D input (for 2D input, use shape2D). Found 2D input\n",
      "GLCM is symmetrical, therefore Sum Average = 2 * Joint Average, only 1 needs to be calculated\n",
      "Shape features are only available 3D input (for 2D input, use shape2D). Found 2D input\n"
     ]
    },
    {
     "name": "stdout",
     "output_type": "stream",
     "text": [
      "Tumor_176.dcm\n",
      "Tumor_177.dcm\n"
     ]
    },
    {
     "name": "stderr",
     "output_type": "stream",
     "text": [
      "GLCM is symmetrical, therefore Sum Average = 2 * Joint Average, only 1 needs to be calculated\n",
      "Shape features are only available 3D input (for 2D input, use shape2D). Found 2D input\n",
      "GLCM is symmetrical, therefore Sum Average = 2 * Joint Average, only 1 needs to be calculated\n",
      "Shape features are only available 3D input (for 2D input, use shape2D). Found 2D input\n",
      "GLCM is symmetrical, therefore Sum Average = 2 * Joint Average, only 1 needs to be calculated\n",
      "Shape features are only available 3D input (for 2D input, use shape2D). Found 2D input\n",
      "GLCM is symmetrical, therefore Sum Average = 2 * Joint Average, only 1 needs to be calculated\n",
      "Shape features are only available 3D input (for 2D input, use shape2D). Found 2D input\n",
      "GLCM is symmetrical, therefore Sum Average = 2 * Joint Average, only 1 needs to be calculated\n"
     ]
    },
    {
     "name": "stdout",
     "output_type": "stream",
     "text": [
      "Tumor_179.dcm\n",
      "Tumor_18.dcm\n"
     ]
    },
    {
     "name": "stderr",
     "output_type": "stream",
     "text": [
      "Shape features are only available 3D input (for 2D input, use shape2D). Found 2D input\n",
      "GLCM is symmetrical, therefore Sum Average = 2 * Joint Average, only 1 needs to be calculated\n",
      "Shape features are only available 3D input (for 2D input, use shape2D). Found 2D input\n",
      "GLCM is symmetrical, therefore Sum Average = 2 * Joint Average, only 1 needs to be calculated\n",
      "Shape features are only available 3D input (for 2D input, use shape2D). Found 2D input\n",
      "GLCM is symmetrical, therefore Sum Average = 2 * Joint Average, only 1 needs to be calculated\n",
      "Shape features are only available 3D input (for 2D input, use shape2D). Found 2D input\n",
      "GLCM is symmetrical, therefore Sum Average = 2 * Joint Average, only 1 needs to be calculated\n"
     ]
    },
    {
     "name": "stdout",
     "output_type": "stream",
     "text": [
      "Tumor_180.dcm\n",
      "Tumor_181.dcm\n"
     ]
    },
    {
     "name": "stderr",
     "output_type": "stream",
     "text": [
      "Shape features are only available 3D input (for 2D input, use shape2D). Found 2D input\n",
      "GLCM is symmetrical, therefore Sum Average = 2 * Joint Average, only 1 needs to be calculated\n",
      "Shape features are only available 3D input (for 2D input, use shape2D). Found 2D input\n",
      "GLCM is symmetrical, therefore Sum Average = 2 * Joint Average, only 1 needs to be calculated\n",
      "Shape features are only available 3D input (for 2D input, use shape2D). Found 2D input\n",
      "GLCM is symmetrical, therefore Sum Average = 2 * Joint Average, only 1 needs to be calculated\n",
      "Shape features are only available 3D input (for 2D input, use shape2D). Found 2D input\n",
      "GLCM is symmetrical, therefore Sum Average = 2 * Joint Average, only 1 needs to be calculated\n"
     ]
    },
    {
     "name": "stdout",
     "output_type": "stream",
     "text": [
      "Tumor_182.dcm\n",
      "Tumor_183.dcm\n"
     ]
    },
    {
     "name": "stderr",
     "output_type": "stream",
     "text": [
      "Shape features are only available 3D input (for 2D input, use shape2D). Found 2D input\n",
      "GLCM is symmetrical, therefore Sum Average = 2 * Joint Average, only 1 needs to be calculated\n",
      "Shape features are only available 3D input (for 2D input, use shape2D). Found 2D input\n",
      "GLCM is symmetrical, therefore Sum Average = 2 * Joint Average, only 1 needs to be calculated\n",
      "Shape features are only available 3D input (for 2D input, use shape2D). Found 2D input\n",
      "GLCM is symmetrical, therefore Sum Average = 2 * Joint Average, only 1 needs to be calculated\n",
      "Shape features are only available 3D input (for 2D input, use shape2D). Found 2D input\n",
      "GLCM is symmetrical, therefore Sum Average = 2 * Joint Average, only 1 needs to be calculated\n"
     ]
    },
    {
     "name": "stdout",
     "output_type": "stream",
     "text": [
      "Tumor_184.dcm\n",
      "Tumor_185.dcm\n"
     ]
    },
    {
     "name": "stderr",
     "output_type": "stream",
     "text": [
      "Shape features are only available 3D input (for 2D input, use shape2D). Found 2D input\n",
      "GLCM is symmetrical, therefore Sum Average = 2 * Joint Average, only 1 needs to be calculated\n",
      "Shape features are only available 3D input (for 2D input, use shape2D). Found 2D input\n",
      "GLCM is symmetrical, therefore Sum Average = 2 * Joint Average, only 1 needs to be calculated\n",
      "Shape features are only available 3D input (for 2D input, use shape2D). Found 2D input\n",
      "GLCM is symmetrical, therefore Sum Average = 2 * Joint Average, only 1 needs to be calculated\n",
      "Shape features are only available 3D input (for 2D input, use shape2D). Found 2D input\n",
      "GLCM is symmetrical, therefore Sum Average = 2 * Joint Average, only 1 needs to be calculated\n"
     ]
    },
    {
     "name": "stdout",
     "output_type": "stream",
     "text": [
      "Tumor_186.dcm\n",
      "Tumor_187.dcm\n"
     ]
    },
    {
     "name": "stderr",
     "output_type": "stream",
     "text": [
      "Shape features are only available 3D input (for 2D input, use shape2D). Found 2D input\n",
      "GLCM is symmetrical, therefore Sum Average = 2 * Joint Average, only 1 needs to be calculated\n",
      "Shape features are only available 3D input (for 2D input, use shape2D). Found 2D input\n",
      "GLCM is symmetrical, therefore Sum Average = 2 * Joint Average, only 1 needs to be calculated\n",
      "Shape features are only available 3D input (for 2D input, use shape2D). Found 2D input\n",
      "GLCM is symmetrical, therefore Sum Average = 2 * Joint Average, only 1 needs to be calculated\n",
      "Shape features are only available 3D input (for 2D input, use shape2D). Found 2D input\n",
      "GLCM is symmetrical, therefore Sum Average = 2 * Joint Average, only 1 needs to be calculated\n"
     ]
    },
    {
     "name": "stdout",
     "output_type": "stream",
     "text": [
      "Tumor_188.dcm\n",
      "Tumor_189.dcm\n"
     ]
    },
    {
     "name": "stderr",
     "output_type": "stream",
     "text": [
      "Shape features are only available 3D input (for 2D input, use shape2D). Found 2D input\n",
      "GLCM is symmetrical, therefore Sum Average = 2 * Joint Average, only 1 needs to be calculated\n",
      "Shape features are only available 3D input (for 2D input, use shape2D). Found 2D input\n",
      "GLCM is symmetrical, therefore Sum Average = 2 * Joint Average, only 1 needs to be calculated\n",
      "Shape features are only available 3D input (for 2D input, use shape2D). Found 2D input\n",
      "GLCM is symmetrical, therefore Sum Average = 2 * Joint Average, only 1 needs to be calculated\n",
      "Shape features are only available 3D input (for 2D input, use shape2D). Found 2D input\n",
      "GLCM is symmetrical, therefore Sum Average = 2 * Joint Average, only 1 needs to be calculated\n"
     ]
    },
    {
     "name": "stdout",
     "output_type": "stream",
     "text": [
      "Tumor_19.dcm\n",
      "Tumor_190.dcm\n"
     ]
    },
    {
     "name": "stderr",
     "output_type": "stream",
     "text": [
      "Shape features are only available 3D input (for 2D input, use shape2D). Found 2D input\n",
      "GLCM is symmetrical, therefore Sum Average = 2 * Joint Average, only 1 needs to be calculated\n",
      "Shape features are only available 3D input (for 2D input, use shape2D). Found 2D input\n",
      "GLCM is symmetrical, therefore Sum Average = 2 * Joint Average, only 1 needs to be calculated\n",
      "Shape features are only available 3D input (for 2D input, use shape2D). Found 2D input\n",
      "GLCM is symmetrical, therefore Sum Average = 2 * Joint Average, only 1 needs to be calculated\n",
      "Shape features are only available 3D input (for 2D input, use shape2D). Found 2D input\n",
      "GLCM is symmetrical, therefore Sum Average = 2 * Joint Average, only 1 needs to be calculated\n"
     ]
    },
    {
     "name": "stdout",
     "output_type": "stream",
     "text": [
      "Tumor_191.dcm\n",
      "Tumor_192.dcm\n"
     ]
    },
    {
     "name": "stderr",
     "output_type": "stream",
     "text": [
      "Shape features are only available 3D input (for 2D input, use shape2D). Found 2D input\n",
      "GLCM is symmetrical, therefore Sum Average = 2 * Joint Average, only 1 needs to be calculated\n",
      "Shape features are only available 3D input (for 2D input, use shape2D). Found 2D input\n",
      "GLCM is symmetrical, therefore Sum Average = 2 * Joint Average, only 1 needs to be calculated\n",
      "Shape features are only available 3D input (for 2D input, use shape2D). Found 2D input\n",
      "GLCM is symmetrical, therefore Sum Average = 2 * Joint Average, only 1 needs to be calculated\n",
      "Shape features are only available 3D input (for 2D input, use shape2D). Found 2D input\n",
      "GLCM is symmetrical, therefore Sum Average = 2 * Joint Average, only 1 needs to be calculated\n"
     ]
    },
    {
     "name": "stdout",
     "output_type": "stream",
     "text": [
      "Tumor_193.dcm\n",
      "Tumor_194.dcm\n"
     ]
    },
    {
     "name": "stderr",
     "output_type": "stream",
     "text": [
      "Shape features are only available 3D input (for 2D input, use shape2D). Found 2D input\n",
      "GLCM is symmetrical, therefore Sum Average = 2 * Joint Average, only 1 needs to be calculated\n",
      "Shape features are only available 3D input (for 2D input, use shape2D). Found 2D input\n",
      "GLCM is symmetrical, therefore Sum Average = 2 * Joint Average, only 1 needs to be calculated\n",
      "Shape features are only available 3D input (for 2D input, use shape2D). Found 2D input\n",
      "GLCM is symmetrical, therefore Sum Average = 2 * Joint Average, only 1 needs to be calculated\n",
      "Shape features are only available 3D input (for 2D input, use shape2D). Found 2D input\n",
      "GLCM is symmetrical, therefore Sum Average = 2 * Joint Average, only 1 needs to be calculated\n"
     ]
    },
    {
     "name": "stdout",
     "output_type": "stream",
     "text": [
      "Tumor_195.dcm\n",
      "Tumor_196.dcm\n"
     ]
    },
    {
     "name": "stderr",
     "output_type": "stream",
     "text": [
      "Shape features are only available 3D input (for 2D input, use shape2D). Found 2D input\n",
      "GLCM is symmetrical, therefore Sum Average = 2 * Joint Average, only 1 needs to be calculated\n",
      "Shape features are only available 3D input (for 2D input, use shape2D). Found 2D input\n",
      "GLCM is symmetrical, therefore Sum Average = 2 * Joint Average, only 1 needs to be calculated\n",
      "Shape features are only available 3D input (for 2D input, use shape2D). Found 2D input\n",
      "GLCM is symmetrical, therefore Sum Average = 2 * Joint Average, only 1 needs to be calculated\n",
      "Shape features are only available 3D input (for 2D input, use shape2D). Found 2D input\n",
      "GLCM is symmetrical, therefore Sum Average = 2 * Joint Average, only 1 needs to be calculated\n"
     ]
    },
    {
     "name": "stdout",
     "output_type": "stream",
     "text": [
      "Tumor_197.dcm\n",
      "Tumor_198.dcm\n"
     ]
    },
    {
     "name": "stderr",
     "output_type": "stream",
     "text": [
      "Shape features are only available 3D input (for 2D input, use shape2D). Found 2D input\n",
      "GLCM is symmetrical, therefore Sum Average = 2 * Joint Average, only 1 needs to be calculated\n",
      "Shape features are only available 3D input (for 2D input, use shape2D). Found 2D input\n",
      "GLCM is symmetrical, therefore Sum Average = 2 * Joint Average, only 1 needs to be calculated\n",
      "Shape features are only available 3D input (for 2D input, use shape2D). Found 2D input\n",
      "GLCM is symmetrical, therefore Sum Average = 2 * Joint Average, only 1 needs to be calculated\n",
      "Shape features are only available 3D input (for 2D input, use shape2D). Found 2D input\n",
      "GLCM is symmetrical, therefore Sum Average = 2 * Joint Average, only 1 needs to be calculated\n"
     ]
    },
    {
     "name": "stdout",
     "output_type": "stream",
     "text": [
      "Tumor_199.dcm\n",
      "Tumor_2.dcm\n"
     ]
    },
    {
     "name": "stderr",
     "output_type": "stream",
     "text": [
      "Shape features are only available 3D input (for 2D input, use shape2D). Found 2D input\n",
      "GLCM is symmetrical, therefore Sum Average = 2 * Joint Average, only 1 needs to be calculated\n",
      "Shape features are only available 3D input (for 2D input, use shape2D). Found 2D input\n",
      "GLCM is symmetrical, therefore Sum Average = 2 * Joint Average, only 1 needs to be calculated\n",
      "Shape features are only available 3D input (for 2D input, use shape2D). Found 2D input\n",
      "GLCM is symmetrical, therefore Sum Average = 2 * Joint Average, only 1 needs to be calculated\n",
      "Shape features are only available 3D input (for 2D input, use shape2D). Found 2D input\n",
      "GLCM is symmetrical, therefore Sum Average = 2 * Joint Average, only 1 needs to be calculated\n"
     ]
    },
    {
     "name": "stdout",
     "output_type": "stream",
     "text": [
      "Tumor_20.dcm\n",
      "Tumor_200.dcm\n"
     ]
    },
    {
     "name": "stderr",
     "output_type": "stream",
     "text": [
      "Shape features are only available 3D input (for 2D input, use shape2D). Found 2D input\n",
      "GLCM is symmetrical, therefore Sum Average = 2 * Joint Average, only 1 needs to be calculated\n",
      "Shape features are only available 3D input (for 2D input, use shape2D). Found 2D input\n",
      "GLCM is symmetrical, therefore Sum Average = 2 * Joint Average, only 1 needs to be calculated\n",
      "Shape features are only available 3D input (for 2D input, use shape2D). Found 2D input\n",
      "GLCM is symmetrical, therefore Sum Average = 2 * Joint Average, only 1 needs to be calculated\n",
      "Shape features are only available 3D input (for 2D input, use shape2D). Found 2D input\n",
      "GLCM is symmetrical, therefore Sum Average = 2 * Joint Average, only 1 needs to be calculated\n"
     ]
    },
    {
     "name": "stdout",
     "output_type": "stream",
     "text": [
      "Tumor_201.dcm\n",
      "Tumor_202.dcm\n"
     ]
    },
    {
     "name": "stderr",
     "output_type": "stream",
     "text": [
      "Shape features are only available 3D input (for 2D input, use shape2D). Found 2D input\n",
      "GLCM is symmetrical, therefore Sum Average = 2 * Joint Average, only 1 needs to be calculated\n",
      "Shape features are only available 3D input (for 2D input, use shape2D). Found 2D input\n",
      "GLCM is symmetrical, therefore Sum Average = 2 * Joint Average, only 1 needs to be calculated\n",
      "Shape features are only available 3D input (for 2D input, use shape2D). Found 2D input\n",
      "GLCM is symmetrical, therefore Sum Average = 2 * Joint Average, only 1 needs to be calculated\n",
      "Shape features are only available 3D input (for 2D input, use shape2D). Found 2D input\n",
      "GLCM is symmetrical, therefore Sum Average = 2 * Joint Average, only 1 needs to be calculated\n"
     ]
    },
    {
     "name": "stdout",
     "output_type": "stream",
     "text": [
      "Tumor_203.dcm\n",
      "Tumor_204.dcm\n"
     ]
    },
    {
     "name": "stderr",
     "output_type": "stream",
     "text": [
      "Shape features are only available 3D input (for 2D input, use shape2D). Found 2D input\n",
      "GLCM is symmetrical, therefore Sum Average = 2 * Joint Average, only 1 needs to be calculated\n",
      "Shape features are only available 3D input (for 2D input, use shape2D). Found 2D input\n",
      "GLCM is symmetrical, therefore Sum Average = 2 * Joint Average, only 1 needs to be calculated\n",
      "Shape features are only available 3D input (for 2D input, use shape2D). Found 2D input\n",
      "GLCM is symmetrical, therefore Sum Average = 2 * Joint Average, only 1 needs to be calculated\n",
      "Shape features are only available 3D input (for 2D input, use shape2D). Found 2D input\n",
      "GLCM is symmetrical, therefore Sum Average = 2 * Joint Average, only 1 needs to be calculated\n"
     ]
    },
    {
     "name": "stdout",
     "output_type": "stream",
     "text": [
      "Tumor_205.dcm\n",
      "Tumor_206.dcm\n"
     ]
    },
    {
     "name": "stderr",
     "output_type": "stream",
     "text": [
      "Shape features are only available 3D input (for 2D input, use shape2D). Found 2D input\n",
      "GLCM is symmetrical, therefore Sum Average = 2 * Joint Average, only 1 needs to be calculated\n",
      "Shape features are only available 3D input (for 2D input, use shape2D). Found 2D input\n",
      "GLCM is symmetrical, therefore Sum Average = 2 * Joint Average, only 1 needs to be calculated\n",
      "Shape features are only available 3D input (for 2D input, use shape2D). Found 2D input\n",
      "GLCM is symmetrical, therefore Sum Average = 2 * Joint Average, only 1 needs to be calculated\n",
      "Shape features are only available 3D input (for 2D input, use shape2D). Found 2D input\n",
      "GLCM is symmetrical, therefore Sum Average = 2 * Joint Average, only 1 needs to be calculated\n"
     ]
    },
    {
     "name": "stdout",
     "output_type": "stream",
     "text": [
      "Tumor_207.dcm\n",
      "Tumor_208.dcm\n"
     ]
    },
    {
     "name": "stderr",
     "output_type": "stream",
     "text": [
      "Shape features are only available 3D input (for 2D input, use shape2D). Found 2D input\n",
      "GLCM is symmetrical, therefore Sum Average = 2 * Joint Average, only 1 needs to be calculated\n",
      "Shape features are only available 3D input (for 2D input, use shape2D). Found 2D input\n",
      "GLCM is symmetrical, therefore Sum Average = 2 * Joint Average, only 1 needs to be calculated\n",
      "Shape features are only available 3D input (for 2D input, use shape2D). Found 2D input\n",
      "GLCM is symmetrical, therefore Sum Average = 2 * Joint Average, only 1 needs to be calculated\n",
      "Shape features are only available 3D input (for 2D input, use shape2D). Found 2D input\n",
      "GLCM is symmetrical, therefore Sum Average = 2 * Joint Average, only 1 needs to be calculated\n"
     ]
    },
    {
     "name": "stdout",
     "output_type": "stream",
     "text": [
      "Tumor_209.dcm\n",
      "Tumor_21.dcm\n"
     ]
    },
    {
     "name": "stderr",
     "output_type": "stream",
     "text": [
      "Shape features are only available 3D input (for 2D input, use shape2D). Found 2D input\n",
      "GLCM is symmetrical, therefore Sum Average = 2 * Joint Average, only 1 needs to be calculated\n",
      "Shape features are only available 3D input (for 2D input, use shape2D). Found 2D input\n",
      "GLCM is symmetrical, therefore Sum Average = 2 * Joint Average, only 1 needs to be calculated\n",
      "Shape features are only available 3D input (for 2D input, use shape2D). Found 2D input\n",
      "GLCM is symmetrical, therefore Sum Average = 2 * Joint Average, only 1 needs to be calculated\n",
      "Shape features are only available 3D input (for 2D input, use shape2D). Found 2D input\n",
      "GLCM is symmetrical, therefore Sum Average = 2 * Joint Average, only 1 needs to be calculated\n"
     ]
    },
    {
     "name": "stdout",
     "output_type": "stream",
     "text": [
      "Tumor_210.dcm\n",
      "Tumor_211.dcm\n"
     ]
    },
    {
     "name": "stderr",
     "output_type": "stream",
     "text": [
      "Shape features are only available 3D input (for 2D input, use shape2D). Found 2D input\n",
      "GLCM is symmetrical, therefore Sum Average = 2 * Joint Average, only 1 needs to be calculated\n",
      "Shape features are only available 3D input (for 2D input, use shape2D). Found 2D input\n",
      "GLCM is symmetrical, therefore Sum Average = 2 * Joint Average, only 1 needs to be calculated\n",
      "Shape features are only available 3D input (for 2D input, use shape2D). Found 2D input\n",
      "GLCM is symmetrical, therefore Sum Average = 2 * Joint Average, only 1 needs to be calculated\n",
      "Shape features are only available 3D input (for 2D input, use shape2D). Found 2D input\n",
      "GLCM is symmetrical, therefore Sum Average = 2 * Joint Average, only 1 needs to be calculated\n"
     ]
    },
    {
     "name": "stdout",
     "output_type": "stream",
     "text": [
      "Tumor_212.dcm\n",
      "Tumor_213.dcm\n"
     ]
    },
    {
     "name": "stderr",
     "output_type": "stream",
     "text": [
      "Shape features are only available 3D input (for 2D input, use shape2D). Found 2D input\n",
      "GLCM is symmetrical, therefore Sum Average = 2 * Joint Average, only 1 needs to be calculated\n",
      "Shape features are only available 3D input (for 2D input, use shape2D). Found 2D input\n",
      "GLCM is symmetrical, therefore Sum Average = 2 * Joint Average, only 1 needs to be calculated\n",
      "Shape features are only available 3D input (for 2D input, use shape2D). Found 2D input\n",
      "GLCM is symmetrical, therefore Sum Average = 2 * Joint Average, only 1 needs to be calculated\n",
      "Shape features are only available 3D input (for 2D input, use shape2D). Found 2D input\n"
     ]
    },
    {
     "name": "stdout",
     "output_type": "stream",
     "text": [
      "Tumor_214.dcm\n",
      "Tumor_215.dcm\n"
     ]
    },
    {
     "name": "stderr",
     "output_type": "stream",
     "text": [
      "GLCM is symmetrical, therefore Sum Average = 2 * Joint Average, only 1 needs to be calculated\n",
      "Shape features are only available 3D input (for 2D input, use shape2D). Found 2D input\n",
      "GLCM is symmetrical, therefore Sum Average = 2 * Joint Average, only 1 needs to be calculated\n",
      "Shape features are only available 3D input (for 2D input, use shape2D). Found 2D input\n",
      "GLCM is symmetrical, therefore Sum Average = 2 * Joint Average, only 1 needs to be calculated\n",
      "Shape features are only available 3D input (for 2D input, use shape2D). Found 2D input\n",
      "GLCM is symmetrical, therefore Sum Average = 2 * Joint Average, only 1 needs to be calculated\n",
      "Shape features are only available 3D input (for 2D input, use shape2D). Found 2D input\n",
      "GLCM is symmetrical, therefore Sum Average = 2 * Joint Average, only 1 needs to be calculated\n"
     ]
    },
    {
     "name": "stdout",
     "output_type": "stream",
     "text": [
      "Tumor_216.dcm\n",
      "Tumor_217.dcm\n"
     ]
    },
    {
     "name": "stderr",
     "output_type": "stream",
     "text": [
      "Shape features are only available 3D input (for 2D input, use shape2D). Found 2D input\n",
      "GLCM is symmetrical, therefore Sum Average = 2 * Joint Average, only 1 needs to be calculated\n",
      "Shape features are only available 3D input (for 2D input, use shape2D). Found 2D input\n",
      "GLCM is symmetrical, therefore Sum Average = 2 * Joint Average, only 1 needs to be calculated\n",
      "Shape features are only available 3D input (for 2D input, use shape2D). Found 2D input\n",
      "GLCM is symmetrical, therefore Sum Average = 2 * Joint Average, only 1 needs to be calculated\n",
      "Shape features are only available 3D input (for 2D input, use shape2D). Found 2D input\n",
      "GLCM is symmetrical, therefore Sum Average = 2 * Joint Average, only 1 needs to be calculated\n"
     ]
    },
    {
     "name": "stdout",
     "output_type": "stream",
     "text": [
      "Tumor_218.dcm\n",
      "Tumor_219.dcm\n"
     ]
    },
    {
     "name": "stderr",
     "output_type": "stream",
     "text": [
      "Shape features are only available 3D input (for 2D input, use shape2D). Found 2D input\n",
      "GLCM is symmetrical, therefore Sum Average = 2 * Joint Average, only 1 needs to be calculated\n",
      "Shape features are only available 3D input (for 2D input, use shape2D). Found 2D input\n",
      "GLCM is symmetrical, therefore Sum Average = 2 * Joint Average, only 1 needs to be calculated\n",
      "Shape features are only available 3D input (for 2D input, use shape2D). Found 2D input\n",
      "GLCM is symmetrical, therefore Sum Average = 2 * Joint Average, only 1 needs to be calculated\n",
      "Shape features are only available 3D input (for 2D input, use shape2D). Found 2D input\n",
      "GLCM is symmetrical, therefore Sum Average = 2 * Joint Average, only 1 needs to be calculated\n"
     ]
    },
    {
     "name": "stdout",
     "output_type": "stream",
     "text": [
      "Tumor_22.dcm\n",
      "Tumor_220.dcm\n"
     ]
    },
    {
     "name": "stderr",
     "output_type": "stream",
     "text": [
      "Shape features are only available 3D input (for 2D input, use shape2D). Found 2D input\n",
      "GLCM is symmetrical, therefore Sum Average = 2 * Joint Average, only 1 needs to be calculated\n",
      "Shape features are only available 3D input (for 2D input, use shape2D). Found 2D input\n",
      "GLCM is symmetrical, therefore Sum Average = 2 * Joint Average, only 1 needs to be calculated\n",
      "Shape features are only available 3D input (for 2D input, use shape2D). Found 2D input\n",
      "GLCM is symmetrical, therefore Sum Average = 2 * Joint Average, only 1 needs to be calculated\n"
     ]
    },
    {
     "name": "stdout",
     "output_type": "stream",
     "text": [
      "Tumor_221.dcm\n",
      "Tumor_222.dcm\n"
     ]
    },
    {
     "name": "stderr",
     "output_type": "stream",
     "text": [
      "Shape features are only available 3D input (for 2D input, use shape2D). Found 2D input\n",
      "GLCM is symmetrical, therefore Sum Average = 2 * Joint Average, only 1 needs to be calculated\n",
      "Shape features are only available 3D input (for 2D input, use shape2D). Found 2D input\n",
      "GLCM is symmetrical, therefore Sum Average = 2 * Joint Average, only 1 needs to be calculated\n",
      "Shape features are only available 3D input (for 2D input, use shape2D). Found 2D input\n",
      "GLCM is symmetrical, therefore Sum Average = 2 * Joint Average, only 1 needs to be calculated\n",
      "Shape features are only available 3D input (for 2D input, use shape2D). Found 2D input\n",
      "GLCM is symmetrical, therefore Sum Average = 2 * Joint Average, only 1 needs to be calculated\n",
      "Shape features are only available 3D input (for 2D input, use shape2D). Found 2D input\n"
     ]
    },
    {
     "name": "stdout",
     "output_type": "stream",
     "text": [
      "Tumor_223.dcm\n",
      "Tumor_224.dcm\n"
     ]
    },
    {
     "name": "stderr",
     "output_type": "stream",
     "text": [
      "GLCM is symmetrical, therefore Sum Average = 2 * Joint Average, only 1 needs to be calculated\n",
      "Shape features are only available 3D input (for 2D input, use shape2D). Found 2D input\n",
      "GLCM is symmetrical, therefore Sum Average = 2 * Joint Average, only 1 needs to be calculated\n",
      "Shape features are only available 3D input (for 2D input, use shape2D). Found 2D input\n",
      "GLCM is symmetrical, therefore Sum Average = 2 * Joint Average, only 1 needs to be calculated\n",
      "Shape features are only available 3D input (for 2D input, use shape2D). Found 2D input\n",
      "GLCM is symmetrical, therefore Sum Average = 2 * Joint Average, only 1 needs to be calculated\n",
      "Shape features are only available 3D input (for 2D input, use shape2D). Found 2D input\n",
      "GLCM is symmetrical, therefore Sum Average = 2 * Joint Average, only 1 needs to be calculated\n"
     ]
    },
    {
     "name": "stdout",
     "output_type": "stream",
     "text": [
      "Tumor_225.dcm\n",
      "Tumor_226.dcm\n"
     ]
    },
    {
     "name": "stderr",
     "output_type": "stream",
     "text": [
      "Shape features are only available 3D input (for 2D input, use shape2D). Found 2D input\n",
      "GLCM is symmetrical, therefore Sum Average = 2 * Joint Average, only 1 needs to be calculated\n",
      "Shape features are only available 3D input (for 2D input, use shape2D). Found 2D input\n",
      "GLCM is symmetrical, therefore Sum Average = 2 * Joint Average, only 1 needs to be calculated\n",
      "Shape features are only available 3D input (for 2D input, use shape2D). Found 2D input\n",
      "GLCM is symmetrical, therefore Sum Average = 2 * Joint Average, only 1 needs to be calculated\n",
      "Shape features are only available 3D input (for 2D input, use shape2D). Found 2D input\n",
      "GLCM is symmetrical, therefore Sum Average = 2 * Joint Average, only 1 needs to be calculated\n"
     ]
    },
    {
     "name": "stdout",
     "output_type": "stream",
     "text": [
      "Tumor_227.dcm\n",
      "Tumor_228.dcm\n"
     ]
    },
    {
     "name": "stderr",
     "output_type": "stream",
     "text": [
      "Shape features are only available 3D input (for 2D input, use shape2D). Found 2D input\n",
      "GLCM is symmetrical, therefore Sum Average = 2 * Joint Average, only 1 needs to be calculated\n",
      "Shape features are only available 3D input (for 2D input, use shape2D). Found 2D input\n",
      "GLCM is symmetrical, therefore Sum Average = 2 * Joint Average, only 1 needs to be calculated\n",
      "Shape features are only available 3D input (for 2D input, use shape2D). Found 2D input\n",
      "GLCM is symmetrical, therefore Sum Average = 2 * Joint Average, only 1 needs to be calculated\n",
      "Shape features are only available 3D input (for 2D input, use shape2D). Found 2D input\n",
      "GLCM is symmetrical, therefore Sum Average = 2 * Joint Average, only 1 needs to be calculated\n"
     ]
    },
    {
     "name": "stdout",
     "output_type": "stream",
     "text": [
      "Tumor_229.dcm\n",
      "Tumor_23.dcm\n"
     ]
    },
    {
     "name": "stderr",
     "output_type": "stream",
     "text": [
      "Shape features are only available 3D input (for 2D input, use shape2D). Found 2D input\n",
      "GLCM is symmetrical, therefore Sum Average = 2 * Joint Average, only 1 needs to be calculated\n",
      "Shape features are only available 3D input (for 2D input, use shape2D). Found 2D input\n",
      "GLCM is symmetrical, therefore Sum Average = 2 * Joint Average, only 1 needs to be calculated\n",
      "Shape features are only available 3D input (for 2D input, use shape2D). Found 2D input\n",
      "GLCM is symmetrical, therefore Sum Average = 2 * Joint Average, only 1 needs to be calculated\n",
      "Shape features are only available 3D input (for 2D input, use shape2D). Found 2D input\n",
      "GLCM is symmetrical, therefore Sum Average = 2 * Joint Average, only 1 needs to be calculated\n"
     ]
    },
    {
     "name": "stdout",
     "output_type": "stream",
     "text": [
      "Tumor_230.dcm\n",
      "Tumor_231.dcm\n"
     ]
    },
    {
     "name": "stderr",
     "output_type": "stream",
     "text": [
      "Shape features are only available 3D input (for 2D input, use shape2D). Found 2D input\n",
      "GLCM is symmetrical, therefore Sum Average = 2 * Joint Average, only 1 needs to be calculated\n",
      "Shape features are only available 3D input (for 2D input, use shape2D). Found 2D input\n",
      "GLCM is symmetrical, therefore Sum Average = 2 * Joint Average, only 1 needs to be calculated\n",
      "Shape features are only available 3D input (for 2D input, use shape2D). Found 2D input\n",
      "GLCM is symmetrical, therefore Sum Average = 2 * Joint Average, only 1 needs to be calculated\n",
      "Shape features are only available 3D input (for 2D input, use shape2D). Found 2D input\n"
     ]
    },
    {
     "name": "stdout",
     "output_type": "stream",
     "text": [
      "Tumor_232.dcm\n",
      "Tumor_233.dcm\n"
     ]
    },
    {
     "name": "stderr",
     "output_type": "stream",
     "text": [
      "GLCM is symmetrical, therefore Sum Average = 2 * Joint Average, only 1 needs to be calculated\n",
      "Shape features are only available 3D input (for 2D input, use shape2D). Found 2D input\n",
      "GLCM is symmetrical, therefore Sum Average = 2 * Joint Average, only 1 needs to be calculated\n",
      "Shape features are only available 3D input (for 2D input, use shape2D). Found 2D input\n",
      "GLCM is symmetrical, therefore Sum Average = 2 * Joint Average, only 1 needs to be calculated\n",
      "Shape features are only available 3D input (for 2D input, use shape2D). Found 2D input\n",
      "GLCM is symmetrical, therefore Sum Average = 2 * Joint Average, only 1 needs to be calculated\n",
      "Shape features are only available 3D input (for 2D input, use shape2D). Found 2D input\n",
      "GLCM is symmetrical, therefore Sum Average = 2 * Joint Average, only 1 needs to be calculated\n"
     ]
    },
    {
     "name": "stdout",
     "output_type": "stream",
     "text": [
      "Tumor_234.dcm\n",
      "Tumor_235.dcm\n"
     ]
    },
    {
     "name": "stderr",
     "output_type": "stream",
     "text": [
      "Shape features are only available 3D input (for 2D input, use shape2D). Found 2D input\n",
      "GLCM is symmetrical, therefore Sum Average = 2 * Joint Average, only 1 needs to be calculated\n",
      "Shape features are only available 3D input (for 2D input, use shape2D). Found 2D input\n",
      "GLCM is symmetrical, therefore Sum Average = 2 * Joint Average, only 1 needs to be calculated\n",
      "Shape features are only available 3D input (for 2D input, use shape2D). Found 2D input\n",
      "GLCM is symmetrical, therefore Sum Average = 2 * Joint Average, only 1 needs to be calculated\n",
      "Shape features are only available 3D input (for 2D input, use shape2D). Found 2D input\n",
      "GLCM is symmetrical, therefore Sum Average = 2 * Joint Average, only 1 needs to be calculated\n"
     ]
    },
    {
     "name": "stdout",
     "output_type": "stream",
     "text": [
      "Tumor_236.dcm\n",
      "Tumor_237.dcm\n"
     ]
    },
    {
     "name": "stderr",
     "output_type": "stream",
     "text": [
      "Shape features are only available 3D input (for 2D input, use shape2D). Found 2D input\n",
      "GLCM is symmetrical, therefore Sum Average = 2 * Joint Average, only 1 needs to be calculated\n",
      "Shape features are only available 3D input (for 2D input, use shape2D). Found 2D input\n",
      "GLCM is symmetrical, therefore Sum Average = 2 * Joint Average, only 1 needs to be calculated\n",
      "Shape features are only available 3D input (for 2D input, use shape2D). Found 2D input\n",
      "GLCM is symmetrical, therefore Sum Average = 2 * Joint Average, only 1 needs to be calculated\n",
      "Shape features are only available 3D input (for 2D input, use shape2D). Found 2D input\n",
      "GLCM is symmetrical, therefore Sum Average = 2 * Joint Average, only 1 needs to be calculated\n"
     ]
    },
    {
     "name": "stdout",
     "output_type": "stream",
     "text": [
      "Tumor_238.dcm\n",
      "Tumor_239.dcm\n"
     ]
    },
    {
     "name": "stderr",
     "output_type": "stream",
     "text": [
      "Shape features are only available 3D input (for 2D input, use shape2D). Found 2D input\n",
      "GLCM is symmetrical, therefore Sum Average = 2 * Joint Average, only 1 needs to be calculated\n",
      "Shape features are only available 3D input (for 2D input, use shape2D). Found 2D input\n",
      "GLCM is symmetrical, therefore Sum Average = 2 * Joint Average, only 1 needs to be calculated\n",
      "Shape features are only available 3D input (for 2D input, use shape2D). Found 2D input\n",
      "GLCM is symmetrical, therefore Sum Average = 2 * Joint Average, only 1 needs to be calculated\n",
      "Shape features are only available 3D input (for 2D input, use shape2D). Found 2D input\n",
      "GLCM is symmetrical, therefore Sum Average = 2 * Joint Average, only 1 needs to be calculated\n"
     ]
    },
    {
     "name": "stdout",
     "output_type": "stream",
     "text": [
      "Tumor_24.dcm\n",
      "Tumor_240.dcm\n"
     ]
    },
    {
     "name": "stderr",
     "output_type": "stream",
     "text": [
      "Shape features are only available 3D input (for 2D input, use shape2D). Found 2D input\n",
      "GLCM is symmetrical, therefore Sum Average = 2 * Joint Average, only 1 needs to be calculated\n",
      "Shape features are only available 3D input (for 2D input, use shape2D). Found 2D input\n",
      "GLCM is symmetrical, therefore Sum Average = 2 * Joint Average, only 1 needs to be calculated\n",
      "Shape features are only available 3D input (for 2D input, use shape2D). Found 2D input\n",
      "GLCM is symmetrical, therefore Sum Average = 2 * Joint Average, only 1 needs to be calculated\n",
      "Shape features are only available 3D input (for 2D input, use shape2D). Found 2D input\n"
     ]
    },
    {
     "name": "stdout",
     "output_type": "stream",
     "text": [
      "Tumor_241.dcm\n",
      "Tumor_242.dcm\n"
     ]
    },
    {
     "name": "stderr",
     "output_type": "stream",
     "text": [
      "GLCM is symmetrical, therefore Sum Average = 2 * Joint Average, only 1 needs to be calculated\n",
      "Shape features are only available 3D input (for 2D input, use shape2D). Found 2D input\n",
      "GLCM is symmetrical, therefore Sum Average = 2 * Joint Average, only 1 needs to be calculated\n",
      "Shape features are only available 3D input (for 2D input, use shape2D). Found 2D input\n",
      "GLCM is symmetrical, therefore Sum Average = 2 * Joint Average, only 1 needs to be calculated\n",
      "Shape features are only available 3D input (for 2D input, use shape2D). Found 2D input\n",
      "GLCM is symmetrical, therefore Sum Average = 2 * Joint Average, only 1 needs to be calculated\n",
      "Shape features are only available 3D input (for 2D input, use shape2D). Found 2D input\n",
      "GLCM is symmetrical, therefore Sum Average = 2 * Joint Average, only 1 needs to be calculated\n"
     ]
    },
    {
     "name": "stdout",
     "output_type": "stream",
     "text": [
      "Tumor_243.dcm\n",
      "Tumor_244.dcm\n"
     ]
    },
    {
     "name": "stderr",
     "output_type": "stream",
     "text": [
      "Shape features are only available 3D input (for 2D input, use shape2D). Found 2D input\n",
      "GLCM is symmetrical, therefore Sum Average = 2 * Joint Average, only 1 needs to be calculated\n",
      "Shape features are only available 3D input (for 2D input, use shape2D). Found 2D input\n",
      "GLCM is symmetrical, therefore Sum Average = 2 * Joint Average, only 1 needs to be calculated\n",
      "Shape features are only available 3D input (for 2D input, use shape2D). Found 2D input\n",
      "GLCM is symmetrical, therefore Sum Average = 2 * Joint Average, only 1 needs to be calculated\n",
      "Shape features are only available 3D input (for 2D input, use shape2D). Found 2D input\n",
      "GLCM is symmetrical, therefore Sum Average = 2 * Joint Average, only 1 needs to be calculated\n"
     ]
    },
    {
     "name": "stdout",
     "output_type": "stream",
     "text": [
      "Tumor_245.dcm\n",
      "Tumor_246.dcm\n"
     ]
    },
    {
     "name": "stderr",
     "output_type": "stream",
     "text": [
      "Shape features are only available 3D input (for 2D input, use shape2D). Found 2D input\n",
      "GLCM is symmetrical, therefore Sum Average = 2 * Joint Average, only 1 needs to be calculated\n",
      "Shape features are only available 3D input (for 2D input, use shape2D). Found 2D input\n",
      "GLCM is symmetrical, therefore Sum Average = 2 * Joint Average, only 1 needs to be calculated\n",
      "Shape features are only available 3D input (for 2D input, use shape2D). Found 2D input\n",
      "GLCM is symmetrical, therefore Sum Average = 2 * Joint Average, only 1 needs to be calculated\n",
      "Shape features are only available 3D input (for 2D input, use shape2D). Found 2D input\n",
      "GLCM is symmetrical, therefore Sum Average = 2 * Joint Average, only 1 needs to be calculated\n"
     ]
    },
    {
     "name": "stdout",
     "output_type": "stream",
     "text": [
      "Tumor_247.dcm\n",
      "Tumor_248.dcm\n"
     ]
    },
    {
     "name": "stderr",
     "output_type": "stream",
     "text": [
      "Shape features are only available 3D input (for 2D input, use shape2D). Found 2D input\n",
      "GLCM is symmetrical, therefore Sum Average = 2 * Joint Average, only 1 needs to be calculated\n",
      "Shape features are only available 3D input (for 2D input, use shape2D). Found 2D input\n",
      "GLCM is symmetrical, therefore Sum Average = 2 * Joint Average, only 1 needs to be calculated\n",
      "Shape features are only available 3D input (for 2D input, use shape2D). Found 2D input\n",
      "GLCM is symmetrical, therefore Sum Average = 2 * Joint Average, only 1 needs to be calculated\n",
      "Shape features are only available 3D input (for 2D input, use shape2D). Found 2D input\n",
      "GLCM is symmetrical, therefore Sum Average = 2 * Joint Average, only 1 needs to be calculated\n"
     ]
    },
    {
     "name": "stdout",
     "output_type": "stream",
     "text": [
      "Tumor_249.dcm\n",
      "Tumor_25.dcm\n"
     ]
    },
    {
     "name": "stderr",
     "output_type": "stream",
     "text": [
      "Shape features are only available 3D input (for 2D input, use shape2D). Found 2D input\n",
      "GLCM is symmetrical, therefore Sum Average = 2 * Joint Average, only 1 needs to be calculated\n",
      "Shape features are only available 3D input (for 2D input, use shape2D). Found 2D input\n",
      "GLCM is symmetrical, therefore Sum Average = 2 * Joint Average, only 1 needs to be calculated\n",
      "Shape features are only available 3D input (for 2D input, use shape2D). Found 2D input\n",
      "GLCM is symmetrical, therefore Sum Average = 2 * Joint Average, only 1 needs to be calculated\n",
      "Shape features are only available 3D input (for 2D input, use shape2D). Found 2D input\n",
      "GLCM is symmetrical, therefore Sum Average = 2 * Joint Average, only 1 needs to be calculated\n"
     ]
    },
    {
     "name": "stdout",
     "output_type": "stream",
     "text": [
      "Tumor_250.dcm\n",
      "Tumor_251.dcm\n"
     ]
    },
    {
     "name": "stderr",
     "output_type": "stream",
     "text": [
      "Shape features are only available 3D input (for 2D input, use shape2D). Found 2D input\n",
      "GLCM is symmetrical, therefore Sum Average = 2 * Joint Average, only 1 needs to be calculated\n",
      "Shape features are only available 3D input (for 2D input, use shape2D). Found 2D input\n",
      "GLCM is symmetrical, therefore Sum Average = 2 * Joint Average, only 1 needs to be calculated\n",
      "Shape features are only available 3D input (for 2D input, use shape2D). Found 2D input\n",
      "GLCM is symmetrical, therefore Sum Average = 2 * Joint Average, only 1 needs to be calculated\n",
      "Shape features are only available 3D input (for 2D input, use shape2D). Found 2D input\n",
      "GLCM is symmetrical, therefore Sum Average = 2 * Joint Average, only 1 needs to be calculated\n"
     ]
    },
    {
     "name": "stdout",
     "output_type": "stream",
     "text": [
      "Tumor_252.dcm\n",
      "Tumor_253.dcm\n"
     ]
    },
    {
     "name": "stderr",
     "output_type": "stream",
     "text": [
      "Shape features are only available 3D input (for 2D input, use shape2D). Found 2D input\n",
      "GLCM is symmetrical, therefore Sum Average = 2 * Joint Average, only 1 needs to be calculated\n",
      "Shape features are only available 3D input (for 2D input, use shape2D). Found 2D input\n",
      "GLCM is symmetrical, therefore Sum Average = 2 * Joint Average, only 1 needs to be calculated\n",
      "Shape features are only available 3D input (for 2D input, use shape2D). Found 2D input\n",
      "GLCM is symmetrical, therefore Sum Average = 2 * Joint Average, only 1 needs to be calculated\n",
      "Shape features are only available 3D input (for 2D input, use shape2D). Found 2D input\n"
     ]
    },
    {
     "name": "stdout",
     "output_type": "stream",
     "text": [
      "Tumor_254.dcm\n",
      "Tumor_255.dcm\n"
     ]
    },
    {
     "name": "stderr",
     "output_type": "stream",
     "text": [
      "GLCM is symmetrical, therefore Sum Average = 2 * Joint Average, only 1 needs to be calculated\n",
      "Shape features are only available 3D input (for 2D input, use shape2D). Found 2D input\n",
      "GLCM is symmetrical, therefore Sum Average = 2 * Joint Average, only 1 needs to be calculated\n",
      "Shape features are only available 3D input (for 2D input, use shape2D). Found 2D input\n",
      "GLCM is symmetrical, therefore Sum Average = 2 * Joint Average, only 1 needs to be calculated\n",
      "Shape features are only available 3D input (for 2D input, use shape2D). Found 2D input\n",
      "GLCM is symmetrical, therefore Sum Average = 2 * Joint Average, only 1 needs to be calculated\n",
      "Shape features are only available 3D input (for 2D input, use shape2D). Found 2D input\n",
      "GLCM is symmetrical, therefore Sum Average = 2 * Joint Average, only 1 needs to be calculated\n"
     ]
    },
    {
     "name": "stdout",
     "output_type": "stream",
     "text": [
      "Tumor_256.dcm\n",
      "Tumor_257.dcm\n"
     ]
    },
    {
     "name": "stderr",
     "output_type": "stream",
     "text": [
      "Shape features are only available 3D input (for 2D input, use shape2D). Found 2D input\n",
      "GLCM is symmetrical, therefore Sum Average = 2 * Joint Average, only 1 needs to be calculated\n",
      "Shape features are only available 3D input (for 2D input, use shape2D). Found 2D input\n",
      "GLCM is symmetrical, therefore Sum Average = 2 * Joint Average, only 1 needs to be calculated\n",
      "Shape features are only available 3D input (for 2D input, use shape2D). Found 2D input\n",
      "GLCM is symmetrical, therefore Sum Average = 2 * Joint Average, only 1 needs to be calculated\n",
      "Shape features are only available 3D input (for 2D input, use shape2D). Found 2D input\n"
     ]
    },
    {
     "name": "stdout",
     "output_type": "stream",
     "text": [
      "Tumor_258.dcm\n",
      "Tumor_26.dcm\n"
     ]
    },
    {
     "name": "stderr",
     "output_type": "stream",
     "text": [
      "GLCM is symmetrical, therefore Sum Average = 2 * Joint Average, only 1 needs to be calculated\n",
      "Shape features are only available 3D input (for 2D input, use shape2D). Found 2D input\n",
      "GLCM is symmetrical, therefore Sum Average = 2 * Joint Average, only 1 needs to be calculated\n",
      "Shape features are only available 3D input (for 2D input, use shape2D). Found 2D input\n",
      "GLCM is symmetrical, therefore Sum Average = 2 * Joint Average, only 1 needs to be calculated\n",
      "Shape features are only available 3D input (for 2D input, use shape2D). Found 2D input\n",
      "GLCM is symmetrical, therefore Sum Average = 2 * Joint Average, only 1 needs to be calculated\n",
      "Shape features are only available 3D input (for 2D input, use shape2D). Found 2D input\n",
      "GLCM is symmetrical, therefore Sum Average = 2 * Joint Average, only 1 needs to be calculated\n"
     ]
    },
    {
     "name": "stdout",
     "output_type": "stream",
     "text": [
      "Tumor_27.dcm\n",
      "Tumor_28.dcm\n"
     ]
    },
    {
     "name": "stderr",
     "output_type": "stream",
     "text": [
      "Shape features are only available 3D input (for 2D input, use shape2D). Found 2D input\n",
      "GLCM is symmetrical, therefore Sum Average = 2 * Joint Average, only 1 needs to be calculated\n",
      "Shape features are only available 3D input (for 2D input, use shape2D). Found 2D input\n",
      "GLCM is symmetrical, therefore Sum Average = 2 * Joint Average, only 1 needs to be calculated\n",
      "Shape features are only available 3D input (for 2D input, use shape2D). Found 2D input\n",
      "GLCM is symmetrical, therefore Sum Average = 2 * Joint Average, only 1 needs to be calculated\n",
      "Shape features are only available 3D input (for 2D input, use shape2D). Found 2D input\n",
      "GLCM is symmetrical, therefore Sum Average = 2 * Joint Average, only 1 needs to be calculated\n"
     ]
    },
    {
     "name": "stdout",
     "output_type": "stream",
     "text": [
      "Tumor_29.dcm\n",
      "Tumor_3.dcm\n"
     ]
    },
    {
     "name": "stderr",
     "output_type": "stream",
     "text": [
      "Shape features are only available 3D input (for 2D input, use shape2D). Found 2D input\n",
      "GLCM is symmetrical, therefore Sum Average = 2 * Joint Average, only 1 needs to be calculated\n",
      "Shape features are only available 3D input (for 2D input, use shape2D). Found 2D input\n",
      "GLCM is symmetrical, therefore Sum Average = 2 * Joint Average, only 1 needs to be calculated\n",
      "Shape features are only available 3D input (for 2D input, use shape2D). Found 2D input\n",
      "GLCM is symmetrical, therefore Sum Average = 2 * Joint Average, only 1 needs to be calculated\n",
      "Shape features are only available 3D input (for 2D input, use shape2D). Found 2D input\n",
      "GLCM is symmetrical, therefore Sum Average = 2 * Joint Average, only 1 needs to be calculated\n"
     ]
    },
    {
     "name": "stdout",
     "output_type": "stream",
     "text": [
      "Tumor_31.dcm\n",
      "Tumor_32.dcm\n"
     ]
    },
    {
     "name": "stderr",
     "output_type": "stream",
     "text": [
      "Shape features are only available 3D input (for 2D input, use shape2D). Found 2D input\n",
      "GLCM is symmetrical, therefore Sum Average = 2 * Joint Average, only 1 needs to be calculated\n",
      "Shape features are only available 3D input (for 2D input, use shape2D). Found 2D input\n",
      "GLCM is symmetrical, therefore Sum Average = 2 * Joint Average, only 1 needs to be calculated\n",
      "Shape features are only available 3D input (for 2D input, use shape2D). Found 2D input\n",
      "GLCM is symmetrical, therefore Sum Average = 2 * Joint Average, only 1 needs to be calculated\n",
      "Shape features are only available 3D input (for 2D input, use shape2D). Found 2D input\n",
      "GLCM is symmetrical, therefore Sum Average = 2 * Joint Average, only 1 needs to be calculated\n"
     ]
    },
    {
     "name": "stdout",
     "output_type": "stream",
     "text": [
      "Tumor_33.dcm\n",
      "Tumor_34.dcm\n"
     ]
    },
    {
     "name": "stderr",
     "output_type": "stream",
     "text": [
      "Shape features are only available 3D input (for 2D input, use shape2D). Found 2D input\n",
      "GLCM is symmetrical, therefore Sum Average = 2 * Joint Average, only 1 needs to be calculated\n",
      "Shape features are only available 3D input (for 2D input, use shape2D). Found 2D input\n",
      "GLCM is symmetrical, therefore Sum Average = 2 * Joint Average, only 1 needs to be calculated\n",
      "Shape features are only available 3D input (for 2D input, use shape2D). Found 2D input\n",
      "GLCM is symmetrical, therefore Sum Average = 2 * Joint Average, only 1 needs to be calculated\n",
      "Shape features are only available 3D input (for 2D input, use shape2D). Found 2D input\n",
      "GLCM is symmetrical, therefore Sum Average = 2 * Joint Average, only 1 needs to be calculated\n"
     ]
    },
    {
     "name": "stdout",
     "output_type": "stream",
     "text": [
      "Tumor_35.dcm\n",
      "Tumor_36.dcm\n"
     ]
    },
    {
     "name": "stderr",
     "output_type": "stream",
     "text": [
      "Shape features are only available 3D input (for 2D input, use shape2D). Found 2D input\n",
      "GLCM is symmetrical, therefore Sum Average = 2 * Joint Average, only 1 needs to be calculated\n",
      "Shape features are only available 3D input (for 2D input, use shape2D). Found 2D input\n",
      "GLCM is symmetrical, therefore Sum Average = 2 * Joint Average, only 1 needs to be calculated\n",
      "Shape features are only available 3D input (for 2D input, use shape2D). Found 2D input\n",
      "GLCM is symmetrical, therefore Sum Average = 2 * Joint Average, only 1 needs to be calculated\n",
      "Shape features are only available 3D input (for 2D input, use shape2D). Found 2D input\n",
      "GLCM is symmetrical, therefore Sum Average = 2 * Joint Average, only 1 needs to be calculated\n"
     ]
    },
    {
     "name": "stdout",
     "output_type": "stream",
     "text": [
      "Tumor_37.dcm\n",
      "Tumor_38.dcm\n"
     ]
    },
    {
     "name": "stderr",
     "output_type": "stream",
     "text": [
      "Shape features are only available 3D input (for 2D input, use shape2D). Found 2D input\n",
      "GLCM is symmetrical, therefore Sum Average = 2 * Joint Average, only 1 needs to be calculated\n",
      "Shape features are only available 3D input (for 2D input, use shape2D). Found 2D input\n",
      "GLCM is symmetrical, therefore Sum Average = 2 * Joint Average, only 1 needs to be calculated\n",
      "Shape features are only available 3D input (for 2D input, use shape2D). Found 2D input\n",
      "GLCM is symmetrical, therefore Sum Average = 2 * Joint Average, only 1 needs to be calculated\n",
      "Shape features are only available 3D input (for 2D input, use shape2D). Found 2D input\n",
      "GLCM is symmetrical, therefore Sum Average = 2 * Joint Average, only 1 needs to be calculated\n"
     ]
    },
    {
     "name": "stdout",
     "output_type": "stream",
     "text": [
      "Tumor_39.dcm\n",
      "Tumor_4.dcm\n"
     ]
    },
    {
     "name": "stderr",
     "output_type": "stream",
     "text": [
      "Shape features are only available 3D input (for 2D input, use shape2D). Found 2D input\n",
      "GLCM is symmetrical, therefore Sum Average = 2 * Joint Average, only 1 needs to be calculated\n",
      "Shape features are only available 3D input (for 2D input, use shape2D). Found 2D input\n",
      "GLCM is symmetrical, therefore Sum Average = 2 * Joint Average, only 1 needs to be calculated\n",
      "Shape features are only available 3D input (for 2D input, use shape2D). Found 2D input\n",
      "GLCM is symmetrical, therefore Sum Average = 2 * Joint Average, only 1 needs to be calculated\n",
      "Shape features are only available 3D input (for 2D input, use shape2D). Found 2D input\n",
      "GLCM is symmetrical, therefore Sum Average = 2 * Joint Average, only 1 needs to be calculated\n"
     ]
    },
    {
     "name": "stdout",
     "output_type": "stream",
     "text": [
      "Tumor_40.dcm\n",
      "Tumor_41.dcm\n"
     ]
    },
    {
     "name": "stderr",
     "output_type": "stream",
     "text": [
      "Shape features are only available 3D input (for 2D input, use shape2D). Found 2D input\n",
      "GLCM is symmetrical, therefore Sum Average = 2 * Joint Average, only 1 needs to be calculated\n",
      "Shape features are only available 3D input (for 2D input, use shape2D). Found 2D input\n",
      "GLCM is symmetrical, therefore Sum Average = 2 * Joint Average, only 1 needs to be calculated\n",
      "Shape features are only available 3D input (for 2D input, use shape2D). Found 2D input\n",
      "GLCM is symmetrical, therefore Sum Average = 2 * Joint Average, only 1 needs to be calculated\n",
      "Shape features are only available 3D input (for 2D input, use shape2D). Found 2D input\n"
     ]
    },
    {
     "name": "stdout",
     "output_type": "stream",
     "text": [
      "Tumor_42.dcm\n",
      "Tumor_43.dcm\n"
     ]
    },
    {
     "name": "stderr",
     "output_type": "stream",
     "text": [
      "GLCM is symmetrical, therefore Sum Average = 2 * Joint Average, only 1 needs to be calculated\n",
      "Shape features are only available 3D input (for 2D input, use shape2D). Found 2D input\n",
      "GLCM is symmetrical, therefore Sum Average = 2 * Joint Average, only 1 needs to be calculated\n",
      "Shape features are only available 3D input (for 2D input, use shape2D). Found 2D input\n",
      "GLCM is symmetrical, therefore Sum Average = 2 * Joint Average, only 1 needs to be calculated\n",
      "Shape features are only available 3D input (for 2D input, use shape2D). Found 2D input\n",
      "GLCM is symmetrical, therefore Sum Average = 2 * Joint Average, only 1 needs to be calculated\n",
      "Shape features are only available 3D input (for 2D input, use shape2D). Found 2D input\n",
      "GLCM is symmetrical, therefore Sum Average = 2 * Joint Average, only 1 needs to be calculated\n"
     ]
    },
    {
     "name": "stdout",
     "output_type": "stream",
     "text": [
      "Tumor_44.dcm\n",
      "Tumor_45.dcm\n"
     ]
    },
    {
     "name": "stderr",
     "output_type": "stream",
     "text": [
      "Shape features are only available 3D input (for 2D input, use shape2D). Found 2D input\n",
      "GLCM is symmetrical, therefore Sum Average = 2 * Joint Average, only 1 needs to be calculated\n",
      "Shape features are only available 3D input (for 2D input, use shape2D). Found 2D input\n",
      "GLCM is symmetrical, therefore Sum Average = 2 * Joint Average, only 1 needs to be calculated\n",
      "Shape features are only available 3D input (for 2D input, use shape2D). Found 2D input\n",
      "GLCM is symmetrical, therefore Sum Average = 2 * Joint Average, only 1 needs to be calculated\n",
      "Shape features are only available 3D input (for 2D input, use shape2D). Found 2D input\n",
      "GLCM is symmetrical, therefore Sum Average = 2 * Joint Average, only 1 needs to be calculated\n"
     ]
    },
    {
     "name": "stdout",
     "output_type": "stream",
     "text": [
      "Tumor_46.dcm\n",
      "Tumor_47.dcm\n"
     ]
    },
    {
     "name": "stderr",
     "output_type": "stream",
     "text": [
      "Shape features are only available 3D input (for 2D input, use shape2D). Found 2D input\n",
      "GLCM is symmetrical, therefore Sum Average = 2 * Joint Average, only 1 needs to be calculated\n",
      "Shape features are only available 3D input (for 2D input, use shape2D). Found 2D input\n",
      "GLCM is symmetrical, therefore Sum Average = 2 * Joint Average, only 1 needs to be calculated\n",
      "Shape features are only available 3D input (for 2D input, use shape2D). Found 2D input\n",
      "GLCM is symmetrical, therefore Sum Average = 2 * Joint Average, only 1 needs to be calculated\n",
      "Shape features are only available 3D input (for 2D input, use shape2D). Found 2D input\n",
      "GLCM is symmetrical, therefore Sum Average = 2 * Joint Average, only 1 needs to be calculated\n"
     ]
    },
    {
     "name": "stdout",
     "output_type": "stream",
     "text": [
      "Tumor_48.dcm\n",
      "Tumor_49.dcm\n"
     ]
    },
    {
     "name": "stderr",
     "output_type": "stream",
     "text": [
      "Shape features are only available 3D input (for 2D input, use shape2D). Found 2D input\n",
      "GLCM is symmetrical, therefore Sum Average = 2 * Joint Average, only 1 needs to be calculated\n",
      "Shape features are only available 3D input (for 2D input, use shape2D). Found 2D input\n",
      "GLCM is symmetrical, therefore Sum Average = 2 * Joint Average, only 1 needs to be calculated\n",
      "Shape features are only available 3D input (for 2D input, use shape2D). Found 2D input\n",
      "GLCM is symmetrical, therefore Sum Average = 2 * Joint Average, only 1 needs to be calculated\n",
      "Shape features are only available 3D input (for 2D input, use shape2D). Found 2D input\n",
      "GLCM is symmetrical, therefore Sum Average = 2 * Joint Average, only 1 needs to be calculated\n"
     ]
    },
    {
     "name": "stdout",
     "output_type": "stream",
     "text": [
      "Tumor_5.dcm\n",
      "Tumor_50.dcm\n"
     ]
    },
    {
     "name": "stderr",
     "output_type": "stream",
     "text": [
      "Shape features are only available 3D input (for 2D input, use shape2D). Found 2D input\n",
      "GLCM is symmetrical, therefore Sum Average = 2 * Joint Average, only 1 needs to be calculated\n",
      "Shape features are only available 3D input (for 2D input, use shape2D). Found 2D input\n",
      "GLCM is symmetrical, therefore Sum Average = 2 * Joint Average, only 1 needs to be calculated\n",
      "Shape features are only available 3D input (for 2D input, use shape2D). Found 2D input\n",
      "GLCM is symmetrical, therefore Sum Average = 2 * Joint Average, only 1 needs to be calculated\n",
      "Shape features are only available 3D input (for 2D input, use shape2D). Found 2D input\n",
      "GLCM is symmetrical, therefore Sum Average = 2 * Joint Average, only 1 needs to be calculated\n"
     ]
    },
    {
     "name": "stdout",
     "output_type": "stream",
     "text": [
      "Tumor_51.dcm\n",
      "Tumor_52.dcm\n"
     ]
    },
    {
     "name": "stderr",
     "output_type": "stream",
     "text": [
      "Shape features are only available 3D input (for 2D input, use shape2D). Found 2D input\n",
      "GLCM is symmetrical, therefore Sum Average = 2 * Joint Average, only 1 needs to be calculated\n",
      "Shape features are only available 3D input (for 2D input, use shape2D). Found 2D input\n",
      "GLCM is symmetrical, therefore Sum Average = 2 * Joint Average, only 1 needs to be calculated\n",
      "Shape features are only available 3D input (for 2D input, use shape2D). Found 2D input\n",
      "GLCM is symmetrical, therefore Sum Average = 2 * Joint Average, only 1 needs to be calculated\n",
      "Shape features are only available 3D input (for 2D input, use shape2D). Found 2D input\n",
      "GLCM is symmetrical, therefore Sum Average = 2 * Joint Average, only 1 needs to be calculated\n"
     ]
    },
    {
     "name": "stdout",
     "output_type": "stream",
     "text": [
      "Tumor_53.dcm\n",
      "Tumor_54.dcm\n"
     ]
    },
    {
     "name": "stderr",
     "output_type": "stream",
     "text": [
      "Shape features are only available 3D input (for 2D input, use shape2D). Found 2D input\n",
      "GLCM is symmetrical, therefore Sum Average = 2 * Joint Average, only 1 needs to be calculated\n",
      "Shape features are only available 3D input (for 2D input, use shape2D). Found 2D input\n",
      "GLCM is symmetrical, therefore Sum Average = 2 * Joint Average, only 1 needs to be calculated\n",
      "Shape features are only available 3D input (for 2D input, use shape2D). Found 2D input\n",
      "GLCM is symmetrical, therefore Sum Average = 2 * Joint Average, only 1 needs to be calculated\n"
     ]
    },
    {
     "name": "stdout",
     "output_type": "stream",
     "text": [
      "Tumor_55.dcm\n",
      "Tumor_56.dcm\n"
     ]
    },
    {
     "name": "stderr",
     "output_type": "stream",
     "text": [
      "Shape features are only available 3D input (for 2D input, use shape2D). Found 2D input\n",
      "GLCM is symmetrical, therefore Sum Average = 2 * Joint Average, only 1 needs to be calculated\n",
      "Shape features are only available 3D input (for 2D input, use shape2D). Found 2D input\n",
      "GLCM is symmetrical, therefore Sum Average = 2 * Joint Average, only 1 needs to be calculated\n",
      "Shape features are only available 3D input (for 2D input, use shape2D). Found 2D input\n",
      "GLCM is symmetrical, therefore Sum Average = 2 * Joint Average, only 1 needs to be calculated\n",
      "Shape features are only available 3D input (for 2D input, use shape2D). Found 2D input\n",
      "GLCM is symmetrical, therefore Sum Average = 2 * Joint Average, only 1 needs to be calculated\n",
      "Shape features are only available 3D input (for 2D input, use shape2D). Found 2D input\n",
      "GLCM is symmetrical, therefore Sum Average = 2 * Joint Average, only 1 needs to be calculated\n"
     ]
    },
    {
     "name": "stdout",
     "output_type": "stream",
     "text": [
      "Tumor_57.dcm\n",
      "Tumor_58.dcm\n"
     ]
    },
    {
     "name": "stderr",
     "output_type": "stream",
     "text": [
      "Shape features are only available 3D input (for 2D input, use shape2D). Found 2D input\n",
      "GLCM is symmetrical, therefore Sum Average = 2 * Joint Average, only 1 needs to be calculated\n",
      "Shape features are only available 3D input (for 2D input, use shape2D). Found 2D input\n",
      "GLCM is symmetrical, therefore Sum Average = 2 * Joint Average, only 1 needs to be calculated\n",
      "Shape features are only available 3D input (for 2D input, use shape2D). Found 2D input\n",
      "GLCM is symmetrical, therefore Sum Average = 2 * Joint Average, only 1 needs to be calculated\n",
      "Shape features are only available 3D input (for 2D input, use shape2D). Found 2D input\n",
      "GLCM is symmetrical, therefore Sum Average = 2 * Joint Average, only 1 needs to be calculated\n"
     ]
    },
    {
     "name": "stdout",
     "output_type": "stream",
     "text": [
      "Tumor_59.dcm\n",
      "Tumor_6.dcm\n"
     ]
    },
    {
     "name": "stderr",
     "output_type": "stream",
     "text": [
      "Shape features are only available 3D input (for 2D input, use shape2D). Found 2D input\n",
      "GLCM is symmetrical, therefore Sum Average = 2 * Joint Average, only 1 needs to be calculated\n",
      "Shape features are only available 3D input (for 2D input, use shape2D). Found 2D input\n",
      "GLCM is symmetrical, therefore Sum Average = 2 * Joint Average, only 1 needs to be calculated\n",
      "Shape features are only available 3D input (for 2D input, use shape2D). Found 2D input\n",
      "GLCM is symmetrical, therefore Sum Average = 2 * Joint Average, only 1 needs to be calculated\n",
      "Shape features are only available 3D input (for 2D input, use shape2D). Found 2D input\n",
      "GLCM is symmetrical, therefore Sum Average = 2 * Joint Average, only 1 needs to be calculated\n"
     ]
    },
    {
     "name": "stdout",
     "output_type": "stream",
     "text": [
      "Tumor_60.dcm\n",
      "Tumor_61.dcm\n"
     ]
    },
    {
     "name": "stderr",
     "output_type": "stream",
     "text": [
      "Shape features are only available 3D input (for 2D input, use shape2D). Found 2D input\n",
      "GLCM is symmetrical, therefore Sum Average = 2 * Joint Average, only 1 needs to be calculated\n",
      "Shape features are only available 3D input (for 2D input, use shape2D). Found 2D input\n",
      "GLCM is symmetrical, therefore Sum Average = 2 * Joint Average, only 1 needs to be calculated\n",
      "Shape features are only available 3D input (for 2D input, use shape2D). Found 2D input\n",
      "GLCM is symmetrical, therefore Sum Average = 2 * Joint Average, only 1 needs to be calculated\n",
      "Shape features are only available 3D input (for 2D input, use shape2D). Found 2D input\n",
      "GLCM is symmetrical, therefore Sum Average = 2 * Joint Average, only 1 needs to be calculated\n"
     ]
    },
    {
     "name": "stdout",
     "output_type": "stream",
     "text": [
      "Tumor_62.dcm\n",
      "Tumor_63.dcm\n"
     ]
    },
    {
     "name": "stderr",
     "output_type": "stream",
     "text": [
      "Shape features are only available 3D input (for 2D input, use shape2D). Found 2D input\n",
      "GLCM is symmetrical, therefore Sum Average = 2 * Joint Average, only 1 needs to be calculated\n",
      "Shape features are only available 3D input (for 2D input, use shape2D). Found 2D input\n",
      "GLCM is symmetrical, therefore Sum Average = 2 * Joint Average, only 1 needs to be calculated\n",
      "Shape features are only available 3D input (for 2D input, use shape2D). Found 2D input\n",
      "GLCM is symmetrical, therefore Sum Average = 2 * Joint Average, only 1 needs to be calculated\n",
      "Shape features are only available 3D input (for 2D input, use shape2D). Found 2D input\n"
     ]
    },
    {
     "name": "stdout",
     "output_type": "stream",
     "text": [
      "Tumor_64.dcm\n",
      "Tumor_65.dcm\n"
     ]
    },
    {
     "name": "stderr",
     "output_type": "stream",
     "text": [
      "GLCM is symmetrical, therefore Sum Average = 2 * Joint Average, only 1 needs to be calculated\n",
      "Shape features are only available 3D input (for 2D input, use shape2D). Found 2D input\n",
      "GLCM is symmetrical, therefore Sum Average = 2 * Joint Average, only 1 needs to be calculated\n",
      "Shape features are only available 3D input (for 2D input, use shape2D). Found 2D input\n",
      "GLCM is symmetrical, therefore Sum Average = 2 * Joint Average, only 1 needs to be calculated\n",
      "Shape features are only available 3D input (for 2D input, use shape2D). Found 2D input\n",
      "GLCM is symmetrical, therefore Sum Average = 2 * Joint Average, only 1 needs to be calculated\n",
      "Shape features are only available 3D input (for 2D input, use shape2D). Found 2D input\n"
     ]
    },
    {
     "name": "stdout",
     "output_type": "stream",
     "text": [
      "Tumor_66.dcm\n",
      "Tumor_67.dcm\n"
     ]
    },
    {
     "name": "stderr",
     "output_type": "stream",
     "text": [
      "GLCM is symmetrical, therefore Sum Average = 2 * Joint Average, only 1 needs to be calculated\n",
      "Shape features are only available 3D input (for 2D input, use shape2D). Found 2D input\n",
      "GLCM is symmetrical, therefore Sum Average = 2 * Joint Average, only 1 needs to be calculated\n",
      "Shape features are only available 3D input (for 2D input, use shape2D). Found 2D input\n",
      "GLCM is symmetrical, therefore Sum Average = 2 * Joint Average, only 1 needs to be calculated\n",
      "Shape features are only available 3D input (for 2D input, use shape2D). Found 2D input\n",
      "GLCM is symmetrical, therefore Sum Average = 2 * Joint Average, only 1 needs to be calculated\n",
      "Shape features are only available 3D input (for 2D input, use shape2D). Found 2D input\n",
      "GLCM is symmetrical, therefore Sum Average = 2 * Joint Average, only 1 needs to be calculated\n"
     ]
    },
    {
     "name": "stdout",
     "output_type": "stream",
     "text": [
      "Tumor_68.dcm\n",
      "Tumor_69.dcm\n"
     ]
    },
    {
     "name": "stderr",
     "output_type": "stream",
     "text": [
      "Shape features are only available 3D input (for 2D input, use shape2D). Found 2D input\n",
      "GLCM is symmetrical, therefore Sum Average = 2 * Joint Average, only 1 needs to be calculated\n",
      "Shape features are only available 3D input (for 2D input, use shape2D). Found 2D input\n",
      "GLCM is symmetrical, therefore Sum Average = 2 * Joint Average, only 1 needs to be calculated\n",
      "Shape features are only available 3D input (for 2D input, use shape2D). Found 2D input\n",
      "GLCM is symmetrical, therefore Sum Average = 2 * Joint Average, only 1 needs to be calculated\n"
     ]
    },
    {
     "name": "stdout",
     "output_type": "stream",
     "text": [
      "Tumor_7.dcm\n",
      "Tumor_70.dcm\n"
     ]
    },
    {
     "name": "stderr",
     "output_type": "stream",
     "text": [
      "Shape features are only available 3D input (for 2D input, use shape2D). Found 2D input\n",
      "GLCM is symmetrical, therefore Sum Average = 2 * Joint Average, only 1 needs to be calculated\n",
      "Shape features are only available 3D input (for 2D input, use shape2D). Found 2D input\n",
      "GLCM is symmetrical, therefore Sum Average = 2 * Joint Average, only 1 needs to be calculated\n",
      "Shape features are only available 3D input (for 2D input, use shape2D). Found 2D input\n",
      "GLCM is symmetrical, therefore Sum Average = 2 * Joint Average, only 1 needs to be calculated\n",
      "Shape features are only available 3D input (for 2D input, use shape2D). Found 2D input\n",
      "GLCM is symmetrical, therefore Sum Average = 2 * Joint Average, only 1 needs to be calculated\n",
      "Shape features are only available 3D input (for 2D input, use shape2D). Found 2D input\n",
      "GLCM is symmetrical, therefore Sum Average = 2 * Joint Average, only 1 needs to be calculated\n"
     ]
    },
    {
     "name": "stdout",
     "output_type": "stream",
     "text": [
      "Tumor_71.dcm\n",
      "Tumor_72.dcm\n"
     ]
    },
    {
     "name": "stderr",
     "output_type": "stream",
     "text": [
      "Shape features are only available 3D input (for 2D input, use shape2D). Found 2D input\n",
      "GLCM is symmetrical, therefore Sum Average = 2 * Joint Average, only 1 needs to be calculated\n",
      "Shape features are only available 3D input (for 2D input, use shape2D). Found 2D input\n",
      "GLCM is symmetrical, therefore Sum Average = 2 * Joint Average, only 1 needs to be calculated\n",
      "Shape features are only available 3D input (for 2D input, use shape2D). Found 2D input\n",
      "GLCM is symmetrical, therefore Sum Average = 2 * Joint Average, only 1 needs to be calculated\n",
      "Shape features are only available 3D input (for 2D input, use shape2D). Found 2D input\n",
      "GLCM is symmetrical, therefore Sum Average = 2 * Joint Average, only 1 needs to be calculated\n"
     ]
    },
    {
     "name": "stdout",
     "output_type": "stream",
     "text": [
      "Tumor_73.dcm\n",
      "Tumor_74.dcm\n"
     ]
    },
    {
     "name": "stderr",
     "output_type": "stream",
     "text": [
      "Shape features are only available 3D input (for 2D input, use shape2D). Found 2D input\n",
      "GLCM is symmetrical, therefore Sum Average = 2 * Joint Average, only 1 needs to be calculated\n",
      "Shape features are only available 3D input (for 2D input, use shape2D). Found 2D input\n",
      "GLCM is symmetrical, therefore Sum Average = 2 * Joint Average, only 1 needs to be calculated\n",
      "Shape features are only available 3D input (for 2D input, use shape2D). Found 2D input\n",
      "GLCM is symmetrical, therefore Sum Average = 2 * Joint Average, only 1 needs to be calculated\n",
      "Shape features are only available 3D input (for 2D input, use shape2D). Found 2D input\n",
      "GLCM is symmetrical, therefore Sum Average = 2 * Joint Average, only 1 needs to be calculated\n"
     ]
    },
    {
     "name": "stdout",
     "output_type": "stream",
     "text": [
      "Tumor_75.dcm\n",
      "Tumor_76.dcm\n"
     ]
    },
    {
     "name": "stderr",
     "output_type": "stream",
     "text": [
      "Shape features are only available 3D input (for 2D input, use shape2D). Found 2D input\n",
      "GLCM is symmetrical, therefore Sum Average = 2 * Joint Average, only 1 needs to be calculated\n",
      "Shape features are only available 3D input (for 2D input, use shape2D). Found 2D input\n",
      "GLCM is symmetrical, therefore Sum Average = 2 * Joint Average, only 1 needs to be calculated\n",
      "Shape features are only available 3D input (for 2D input, use shape2D). Found 2D input\n",
      "GLCM is symmetrical, therefore Sum Average = 2 * Joint Average, only 1 needs to be calculated\n",
      "Shape features are only available 3D input (for 2D input, use shape2D). Found 2D input\n",
      "GLCM is symmetrical, therefore Sum Average = 2 * Joint Average, only 1 needs to be calculated\n"
     ]
    },
    {
     "name": "stdout",
     "output_type": "stream",
     "text": [
      "Tumor_77.dcm\n",
      "Tumor_78.dcm\n"
     ]
    },
    {
     "name": "stderr",
     "output_type": "stream",
     "text": [
      "Shape features are only available 3D input (for 2D input, use shape2D). Found 2D input\n",
      "GLCM is symmetrical, therefore Sum Average = 2 * Joint Average, only 1 needs to be calculated\n",
      "Shape features are only available 3D input (for 2D input, use shape2D). Found 2D input\n",
      "GLCM is symmetrical, therefore Sum Average = 2 * Joint Average, only 1 needs to be calculated\n",
      "Shape features are only available 3D input (for 2D input, use shape2D). Found 2D input\n",
      "GLCM is symmetrical, therefore Sum Average = 2 * Joint Average, only 1 needs to be calculated\n",
      "Shape features are only available 3D input (for 2D input, use shape2D). Found 2D input\n",
      "GLCM is symmetrical, therefore Sum Average = 2 * Joint Average, only 1 needs to be calculated\n"
     ]
    },
    {
     "name": "stdout",
     "output_type": "stream",
     "text": [
      "Tumor_79.dcm\n",
      "Tumor_8.dcm\n"
     ]
    },
    {
     "name": "stderr",
     "output_type": "stream",
     "text": [
      "Shape features are only available 3D input (for 2D input, use shape2D). Found 2D input\n",
      "GLCM is symmetrical, therefore Sum Average = 2 * Joint Average, only 1 needs to be calculated\n",
      "Shape features are only available 3D input (for 2D input, use shape2D). Found 2D input\n",
      "GLCM is symmetrical, therefore Sum Average = 2 * Joint Average, only 1 needs to be calculated\n",
      "Shape features are only available 3D input (for 2D input, use shape2D). Found 2D input\n",
      "GLCM is symmetrical, therefore Sum Average = 2 * Joint Average, only 1 needs to be calculated\n",
      "Shape features are only available 3D input (for 2D input, use shape2D). Found 2D input\n"
     ]
    },
    {
     "name": "stdout",
     "output_type": "stream",
     "text": [
      "Tumor_80.dcm\n",
      "Tumor_81.dcm\n"
     ]
    },
    {
     "name": "stderr",
     "output_type": "stream",
     "text": [
      "GLCM is symmetrical, therefore Sum Average = 2 * Joint Average, only 1 needs to be calculated\n",
      "Shape features are only available 3D input (for 2D input, use shape2D). Found 2D input\n",
      "GLCM is symmetrical, therefore Sum Average = 2 * Joint Average, only 1 needs to be calculated\n",
      "Shape features are only available 3D input (for 2D input, use shape2D). Found 2D input\n",
      "GLCM is symmetrical, therefore Sum Average = 2 * Joint Average, only 1 needs to be calculated\n",
      "Shape features are only available 3D input (for 2D input, use shape2D). Found 2D input\n",
      "GLCM is symmetrical, therefore Sum Average = 2 * Joint Average, only 1 needs to be calculated\n",
      "Shape features are only available 3D input (for 2D input, use shape2D). Found 2D input\n",
      "GLCM is symmetrical, therefore Sum Average = 2 * Joint Average, only 1 needs to be calculated\n"
     ]
    },
    {
     "name": "stdout",
     "output_type": "stream",
     "text": [
      "Tumor_82.dcm\n",
      "Tumor_83.dcm\n"
     ]
    },
    {
     "name": "stderr",
     "output_type": "stream",
     "text": [
      "Shape features are only available 3D input (for 2D input, use shape2D). Found 2D input\n",
      "GLCM is symmetrical, therefore Sum Average = 2 * Joint Average, only 1 needs to be calculated\n",
      "Shape features are only available 3D input (for 2D input, use shape2D). Found 2D input\n",
      "GLCM is symmetrical, therefore Sum Average = 2 * Joint Average, only 1 needs to be calculated\n",
      "Shape features are only available 3D input (for 2D input, use shape2D). Found 2D input\n",
      "GLCM is symmetrical, therefore Sum Average = 2 * Joint Average, only 1 needs to be calculated\n",
      "Shape features are only available 3D input (for 2D input, use shape2D). Found 2D input\n",
      "GLCM is symmetrical, therefore Sum Average = 2 * Joint Average, only 1 needs to be calculated\n"
     ]
    },
    {
     "name": "stdout",
     "output_type": "stream",
     "text": [
      "Tumor_84.dcm\n",
      "Tumor_85.dcm\n"
     ]
    },
    {
     "name": "stderr",
     "output_type": "stream",
     "text": [
      "Shape features are only available 3D input (for 2D input, use shape2D). Found 2D input\n",
      "GLCM is symmetrical, therefore Sum Average = 2 * Joint Average, only 1 needs to be calculated\n",
      "Shape features are only available 3D input (for 2D input, use shape2D). Found 2D input\n",
      "GLCM is symmetrical, therefore Sum Average = 2 * Joint Average, only 1 needs to be calculated\n",
      "Shape features are only available 3D input (for 2D input, use shape2D). Found 2D input\n",
      "GLCM is symmetrical, therefore Sum Average = 2 * Joint Average, only 1 needs to be calculated\n",
      "Shape features are only available 3D input (for 2D input, use shape2D). Found 2D input\n",
      "GLCM is symmetrical, therefore Sum Average = 2 * Joint Average, only 1 needs to be calculated\n"
     ]
    },
    {
     "name": "stdout",
     "output_type": "stream",
     "text": [
      "Tumor_86.dcm\n",
      "Tumor_87.dcm\n"
     ]
    },
    {
     "name": "stderr",
     "output_type": "stream",
     "text": [
      "Shape features are only available 3D input (for 2D input, use shape2D). Found 2D input\n",
      "GLCM is symmetrical, therefore Sum Average = 2 * Joint Average, only 1 needs to be calculated\n",
      "Shape features are only available 3D input (for 2D input, use shape2D). Found 2D input\n",
      "GLCM is symmetrical, therefore Sum Average = 2 * Joint Average, only 1 needs to be calculated\n",
      "Shape features are only available 3D input (for 2D input, use shape2D). Found 2D input\n",
      "GLCM is symmetrical, therefore Sum Average = 2 * Joint Average, only 1 needs to be calculated\n",
      "Shape features are only available 3D input (for 2D input, use shape2D). Found 2D input\n"
     ]
    },
    {
     "name": "stdout",
     "output_type": "stream",
     "text": [
      "Tumor_88.dcm\n",
      "Tumor_89.dcm\n"
     ]
    },
    {
     "name": "stderr",
     "output_type": "stream",
     "text": [
      "GLCM is symmetrical, therefore Sum Average = 2 * Joint Average, only 1 needs to be calculated\n",
      "Shape features are only available 3D input (for 2D input, use shape2D). Found 2D input\n",
      "GLCM is symmetrical, therefore Sum Average = 2 * Joint Average, only 1 needs to be calculated\n",
      "Shape features are only available 3D input (for 2D input, use shape2D). Found 2D input\n",
      "GLCM is symmetrical, therefore Sum Average = 2 * Joint Average, only 1 needs to be calculated\n",
      "Shape features are only available 3D input (for 2D input, use shape2D). Found 2D input\n",
      "GLCM is symmetrical, therefore Sum Average = 2 * Joint Average, only 1 needs to be calculated\n",
      "Shape features are only available 3D input (for 2D input, use shape2D). Found 2D input\n",
      "GLCM is symmetrical, therefore Sum Average = 2 * Joint Average, only 1 needs to be calculated\n"
     ]
    },
    {
     "name": "stdout",
     "output_type": "stream",
     "text": [
      "Tumor_9.dcm\n",
      "Tumor_90.dcm\n"
     ]
    },
    {
     "name": "stderr",
     "output_type": "stream",
     "text": [
      "Shape features are only available 3D input (for 2D input, use shape2D). Found 2D input\n",
      "GLCM is symmetrical, therefore Sum Average = 2 * Joint Average, only 1 needs to be calculated\n",
      "Shape features are only available 3D input (for 2D input, use shape2D). Found 2D input\n",
      "GLCM is symmetrical, therefore Sum Average = 2 * Joint Average, only 1 needs to be calculated\n",
      "Shape features are only available 3D input (for 2D input, use shape2D). Found 2D input\n",
      "GLCM is symmetrical, therefore Sum Average = 2 * Joint Average, only 1 needs to be calculated\n",
      "Shape features are only available 3D input (for 2D input, use shape2D). Found 2D input\n",
      "GLCM is symmetrical, therefore Sum Average = 2 * Joint Average, only 1 needs to be calculated\n"
     ]
    },
    {
     "name": "stdout",
     "output_type": "stream",
     "text": [
      "Tumor_91.dcm\n",
      "Tumor_92.dcm\n"
     ]
    },
    {
     "name": "stderr",
     "output_type": "stream",
     "text": [
      "Shape features are only available 3D input (for 2D input, use shape2D). Found 2D input\n",
      "GLCM is symmetrical, therefore Sum Average = 2 * Joint Average, only 1 needs to be calculated\n",
      "Shape features are only available 3D input (for 2D input, use shape2D). Found 2D input\n",
      "GLCM is symmetrical, therefore Sum Average = 2 * Joint Average, only 1 needs to be calculated\n",
      "Shape features are only available 3D input (for 2D input, use shape2D). Found 2D input\n",
      "GLCM is symmetrical, therefore Sum Average = 2 * Joint Average, only 1 needs to be calculated\n",
      "Shape features are only available 3D input (for 2D input, use shape2D). Found 2D input\n"
     ]
    },
    {
     "name": "stdout",
     "output_type": "stream",
     "text": [
      "Tumor_93.dcm\n",
      "Tumor_94.dcm\n"
     ]
    },
    {
     "name": "stderr",
     "output_type": "stream",
     "text": [
      "GLCM is symmetrical, therefore Sum Average = 2 * Joint Average, only 1 needs to be calculated\n",
      "Shape features are only available 3D input (for 2D input, use shape2D). Found 2D input\n",
      "GLCM is symmetrical, therefore Sum Average = 2 * Joint Average, only 1 needs to be calculated\n",
      "Shape features are only available 3D input (for 2D input, use shape2D). Found 2D input\n",
      "GLCM is symmetrical, therefore Sum Average = 2 * Joint Average, only 1 needs to be calculated\n",
      "Shape features are only available 3D input (for 2D input, use shape2D). Found 2D input\n",
      "GLCM is symmetrical, therefore Sum Average = 2 * Joint Average, only 1 needs to be calculated\n",
      "Shape features are only available 3D input (for 2D input, use shape2D). Found 2D input\n",
      "GLCM is symmetrical, therefore Sum Average = 2 * Joint Average, only 1 needs to be calculated\n"
     ]
    },
    {
     "name": "stdout",
     "output_type": "stream",
     "text": [
      "Tumor_95.dcm\n",
      "Tumor_96.dcm\n"
     ]
    },
    {
     "name": "stderr",
     "output_type": "stream",
     "text": [
      "Shape features are only available 3D input (for 2D input, use shape2D). Found 2D input\n",
      "GLCM is symmetrical, therefore Sum Average = 2 * Joint Average, only 1 needs to be calculated\n",
      "Shape features are only available 3D input (for 2D input, use shape2D). Found 2D input\n",
      "GLCM is symmetrical, therefore Sum Average = 2 * Joint Average, only 1 needs to be calculated\n",
      "Shape features are only available 3D input (for 2D input, use shape2D). Found 2D input\n",
      "GLCM is symmetrical, therefore Sum Average = 2 * Joint Average, only 1 needs to be calculated\n",
      "Shape features are only available 3D input (for 2D input, use shape2D). Found 2D input\n"
     ]
    },
    {
     "name": "stdout",
     "output_type": "stream",
     "text": [
      "Tumor_97.dcm\n",
      "Tumor_98.dcm\n"
     ]
    },
    {
     "name": "stderr",
     "output_type": "stream",
     "text": [
      "GLCM is symmetrical, therefore Sum Average = 2 * Joint Average, only 1 needs to be calculated\n",
      "Shape features are only available 3D input (for 2D input, use shape2D). Found 2D input\n",
      "GLCM is symmetrical, therefore Sum Average = 2 * Joint Average, only 1 needs to be calculated\n",
      "Shape features are only available 3D input (for 2D input, use shape2D). Found 2D input\n",
      "GLCM is symmetrical, therefore Sum Average = 2 * Joint Average, only 1 needs to be calculated\n",
      "Shape features are only available 3D input (for 2D input, use shape2D). Found 2D input\n",
      "GLCM is symmetrical, therefore Sum Average = 2 * Joint Average, only 1 needs to be calculated\n"
     ]
    },
    {
     "name": "stdout",
     "output_type": "stream",
     "text": [
      "Tumor_99.dcm\n"
     ]
    }
   ],
   "source": [
    "count = 0\n",
    "l = []\n",
    "for i in os.listdir(tumor_path_slice):\n",
    "    sample_img = sitk.ReadImage(tumor_path_slice+i)\n",
    "    sample_mask = sitk.ReadImage(tumor_path_mask + i)\n",
    "    print(i)\n",
    "    # feature_vector = extractor.execute(sample_img,sample_mask)\n",
    "    l1 = []\n",
    "    l2 = []\n",
    "    for k in range(2):\n",
    "        feature_vector = extractor.execute(sample_img[:,:,0],sample_mask[:,:,0],label = k+1)\n",
    "\n",
    "        start_key = 'original_shape2D_Elongation'\n",
    "        start_index = list(feature_vector.keys()).index(start_key)\n",
    "        # keys_from_start = list(feature_vector.keys())[list(feature_vector.keys()).index(start_key):]\n",
    "        # count = len(keys_from_start)\n",
    "        # values_array = np.empty((0, count), dtype=float)\n",
    "        \n",
    "        \n",
    "\n",
    "        # for key, value in feature_vector.items():\n",
    "        for key, value in islice(feature_vector.items(), start_index, None):\n",
    "\n",
    "            # print(\"\\t\", count,key, \":\", value)\n",
    "            if(k+1==1):\n",
    "                l1.append(value) # Pancreas\n",
    "            else:\n",
    "                l2.append(value)\n",
    "    # print(l1)\n",
    "    # print(l2)\n",
    "    for i in range(len(l1)):\n",
    "        # print(i)\n",
    "        l1[i] = 0.7*l2[i]+ 0.3*l1[i]\n",
    "    l1.append(1) #tumor label\n",
    "    # print(l1)\n",
    "    l.append(l1)\n",
    "    # count+=1\n",
    "    # if count == 2:\n",
    "    #     break\n",
    "\n",
    "# values_array = np.array(l).flatten()\n",
    "df2 = pd.DataFrame(l)\n",
    "\n"
   ]
  },
  {
   "cell_type": "code",
   "execution_count": 9,
   "metadata": {},
   "outputs": [],
   "source": [
    "# Write the DataFrame to a CSV file\n",
    "output_csv = 'tumorfeaturesvalues_new2D_automated_70.csv'\n",
    "df2.to_csv(output_csv, index=False)\n"
   ]
  },
  {
   "cell_type": "code",
   "execution_count": null,
   "metadata": {},
   "outputs": [],
   "source": []
  }
 ],
 "metadata": {
  "kernelspec": {
   "display_name": "Major_Proj",
   "language": "python",
   "name": "python3"
  },
  "language_info": {
   "codemirror_mode": {
    "name": "ipython",
    "version": 3
   },
   "file_extension": ".py",
   "mimetype": "text/x-python",
   "name": "python",
   "nbconvert_exporter": "python",
   "pygments_lexer": "ipython3",
   "version": "3.9.18"
  }
 },
 "nbformat": 4,
 "nbformat_minor": 2
}
