{
 "cells": [
  {
   "cell_type": "code",
   "execution_count": 1,
   "metadata": {},
   "outputs": [],
   "source": [
    "import os\n",
    "import numpy as np\n",
    "import radiomics\n",
    "from radiomics import featureextractor\n",
    "import pydicom\n",
    "from itertools import islice\n",
    "import pandas as pd\n",
    "import SimpleITK as sitk"
   ]
  },
  {
   "cell_type": "code",
   "execution_count": 2,
   "metadata": {},
   "outputs": [],
   "source": [
    "healthy_path_mask = \"../NewMask/\" \n",
    "healthy_path_slice = '../Segment_data_1/Healthy_pancreas/Pancreas_slice/'"
   ]
  },
  {
   "cell_type": "code",
   "execution_count": 3,
   "metadata": {},
   "outputs": [],
   "source": [
    "# extractor = featureextractor.RadiomicsFeatureExtractor()\n",
    "params = {\n",
    "    'correctMask': True  # Enable resampling of the mask\n",
    "}\n",
    "\n",
    "extractor = featureextractor.RadiomicsFeatureExtractor(**params)\n",
    "extractor.enableAllFeatures()  # Enable all available features"
   ]
  },
  {
   "cell_type": "code",
   "execution_count": 4,
   "metadata": {},
   "outputs": [
    {
     "name": "stderr",
     "output_type": "stream",
     "text": [
      "parameter force2D must be set to True to enable shape2D extraction\n",
      "GLCM is symmetrical, therefore Sum Average = 2 * Joint Average, only 1 needs to be calculated\n"
     ]
    },
    {
     "name": "stdout",
     "output_type": "stream",
     "text": [
      "pancreas_healthy_0001.dcm\n",
      "[0.3127109595916861, 0.0, 0.0, 96.62563027708785, array(85.9375), array(30.9375), array(90.33662362), array(90.33662362), array(1429.72361247), 30.21589356509962, array(0.19889792), array(3085.71115933), array(2.15825712), 1478.52783203125, array(68.), array(132.), array(23061220.), array(2.06084204), array(29.), array(4.8540342), array(181.), array(19.86312688), array(103.95704296), array(109.), array(-32.), array(213.), array(12.51541163), array(107.32702786), array(-1.09816455), array(17031296.50878906), array(0.30670778), array(712.02412872), array(45.82785852), array(61.88284131), array(-7.6374124), array(3.48509003), array(0.85448664), array(0.60503419), array(0.63205127), array(1.38065425), array(0.45113149), array(0.71762116), array(0.70594362), array(0.99171748), array(0.9441742), array(-0.16221847), array(0.68169833), array(0.46785774), array(6.72086858), array(0.13170116), array(3.65560887), array(0.67392174), array(0.29273643), array(13.44173716), array(2.76661494), array(1.08489417), array(4.77401404), array(266.37762238), array(0.13305576), array(4.12947093), array(614.02897103), array(1.20449106), array(45.71778222), array(24.60939061), array(1168.54195804), array(0.56046858), array(0.02585111), array(0.13412009), array(5.77082501), array(0.0046752), array(274.32901959), array(0.24518271), array(1.53456323), array(44.67930458), array(5.15313447), array(242.58618384), array(0.1213681), array(0.02788152), array(3.9177877), array(474.64558176), array(0.42105916), array(0.55931568), array(1.9105372), array(0.66946949), array(29.41637733), array(0.01984754), array(67.29893238), array(0.23949798), array(2.59662365), array(42.13879004), array(1805.84341637), array(88441.41281139), array(37.08291717), array(0.03594322), array(68.11743772), array(0.24241081), array(0.50107683), array(20.84909261), array(0.02115781), array(4.95008232), array(0.14035964), array(1755.08413014), array(2.49270783), array(0.0042709), array(23.05327235), array(0.01315698), array(0.22005734), 0]\n"
     ]
    },
    {
     "name": "stderr",
     "output_type": "stream",
     "text": [
      "Image/Mask geometry mismatch, attempting to correct Mask\n",
      "parameter force2D must be set to True to enable shape2D extraction\n",
      "GLCM is symmetrical, therefore Sum Average = 2 * Joint Average, only 1 needs to be calculated\n",
      "Image/Mask geometry mismatch, attempting to correct Mask\n"
     ]
    },
    {
     "name": "stdout",
     "output_type": "stream",
     "text": [
      "pancreas_healthy_0002.dcm\n",
      "[0.7020909680548076, 0.0, 0.0, 79.8210007211108, array(61.9921875), array(65.5859375), array(78.45268194), array(78.45268194), array(2318.38404338), 56.04160366738819, array(0.17257116), array(4908.77156686), array(2.1173246), 2378.7887573242188, array(49.), array(140.4), array(30794505.), array(2.61672563), array(39.), array(4.05519358), array(208.), array(28.1237531), array(94.8866644), array(96.), array(-66.), array(274.), array(17.36577995), array(102.22251124), array(-0.35501799), array(24857014.68658447), array(0.20835588), array(1445.96272342), array(55.58162623), array(300.6667601), array(-9.49777116), array(8.56014158), array(1.08715658), array(0.77464562), array(0.73845897), array(1.4846273), array(0.53589592), array(0.68059705), array(0.66434629), array(0.99267704), array(0.94502473), array(-0.25893922), array(0.85805197), array(0.50265699), array(7.32894071), array(0.06782774), array(4.56158988), array(0.79305682), array(0.13683905), array(14.65788141), array(3.49851852), array(2.41182454), array(5.29320571), array(477.6128266), array(0.16206747), array(2.84732549), array(614.02477095), array(2.40555549), array(56.04241602), array(19.66372582), array(1109.08279606), array(0.42233478), array(0.02362068), array(0.13895454), array(7.64762125), array(0.00374627), array(344.14524389), array(0.19075873), array(2.68064272), array(55.8050131), array(3.77135101), array(212.75016451), array(0.08390578), array(0.02472418), array(4.24289552), array(815.58808732), array(0.44969319), array(0.61240244), array(1.08135937), array(0.69170751), array(38.4501212), array(0.01775311), array(58.30845771), array(0.14504591), array(4.07220737), array(54.79353234), array(613.64925373), array(33821.27114428), array(11.81291668), array(0.03062408), array(95.39303483), array(0.23729611), array(0.49796288), array(27.08679696), array(0.01445753), array(5.67869731), array(0.13640991), array(559.90795401), array(2.69075035), array(0.00335161), array(34.02362565), array(0.01977105), array(0.22520876), 0]\n",
      "pancreas_healthy_0003.dcm\n"
     ]
    },
    {
     "name": "stderr",
     "output_type": "stream",
     "text": [
      "parameter force2D must be set to True to enable shape2D extraction\n",
      "GLCM is symmetrical, therefore Sum Average = 2 * Joint Average, only 1 needs to be calculated\n",
      "Image/Mask geometry mismatch, attempting to correct Mask\n",
      "parameter force2D must be set to True to enable shape2D extraction\n",
      "GLCM is symmetrical, therefore Sum Average = 2 * Joint Average, only 1 needs to be calculated\n"
     ]
    },
    {
     "name": "stdout",
     "output_type": "stream",
     "text": [
      "[0.6914423203890578, 0.0, 0.0, 67.54849003452794, array(64.4140625), array(51.796875), array(70.15530388), array(70.15530388), array(2198.02309672), 46.70588468825115, array(0.17767743), array(4601.22378049), array(2.09334642), 2233.9996337890625, array(-986.), array(76.), array(1.23588848e+09), array(4.00355795), array(757.75), array(2.17214499), array(379.), array(382.02274594), array(-227.38412949), array(13.), array(-1018.), array(1397.), array(309.72083777), array(493.92049761), array(-0.98848891), array(5.45000872e+08), array(0.10728545), array(192253.91561074), array(1363.23921281), array(3255119.69966854), array(-42639.32520696), array(1203.2761706), array(8.02068234), array(0.98672831), array(1.17972885), array(1.88667508), array(6.52295828), array(0.69346708), array(0.67604752), array(0.9976748), array(0.98133079), array(-0.52574638), array(0.99216184), array(0.40442694), array(32.62549051), array(0.04534601), array(5.87818367), array(0.9911773), array(0.14925478), array(65.25098102), array(4.92400319), array(302.82421324), array(6.65085183), array(623.65890249), array(0.12310677), array(4.89579836), array(543.50809317), array(307.66214855), array(1359.08053691), array(26.48361627), array(35384.88787998), array(1.98922917), array(0.06453733), array(0.16000378), array(194.16680973), array(0.00647287), array(212.96804879), array(0.07706147), array(288.45039334), array(1362.02770901), array(5.84032296), array(7679.89387827), array(0.43918029), array(0.05700199), array(6.05370282), array(1169.83518587), array(0.42208559), array(0.54421634), array(2.41283345), array(0.67313258), array(903.8189186), array(0.03424953), array(25.70471464), array(0.03189171), array(255.3491309), array(1218.04218362), array(1681.15632754), array(2620739.74193548), array(66.73650034), array(0.04310575), array(321.99751861), array(0.39950064), array(0.6567172), array(717.40247775), array(0.02068268), array(7.11375639), array(0.15909988), array(1641.65057971), array(0.0730833), array(0.00444503), array(1006.77833072), array(0.1219465), array(20.98989185), 0]\n",
      "pancreas_healthy_0004.dcm\n",
      "[0.20777907324727135, 0.0, 0.0, 156.08806770344523, array(78.1640625), array(35.9375), array(132.37555076), array(132.37555076), array(1908.06248983), 32.431834052379195, array(0.17666686), array(4211.05359092), array(2.20697887), 1996.9879150390625, array(-75.), array(148.), array(20127830.), array(3.65499613), array(146.), array(1.86654669), array(239.), array(72.13341533), array(34.1301536), array(30.), array(-146.), array(385.), array(57.89303606), array(90.19835772), array(0.10506729), array(16246981.91833496), array(0.08396818), array(6970.87635026), array(72.70483818), array(3206.24546217), array(24.8234031), array(42.09630368), array(3.25172126), array(0.85654057), array(1.32898845), array(2.10277359), array(1.4594099), array(0.55203059), array(0.50442222), array(0.98792199), array(0.92754027), array(-0.260953), array(0.91879026), array(0.46635564), array(7.93679922), array(0.01560842), array(6.35855965), array(0.86633709), array(0.03543237), array(15.87359845), array(4.55723413), array(11.33700624), array(5.99106631), array(519.19725141), array(0.20986146), array(1.94949447), array(207.73726758), array(11.25514976), array(73.39975748), array(10.12530315), array(729.92198868), array(0.3439576), array(0.03594452), array(0.28263913), array(20.64182305), array(0.01236281), array(156.82545132), array(0.08258614), array(11.21509799), array(73.62485915), array(2.13739346), array(156.08093811), array(0.07485885), array(0.03673304), array(4.65624405), array(1198.84019977), array(0.63069314), array(0.76758286), array(0.43703563), array(0.82209719), array(60.61941522), array(0.03084598), array(68.39088729), array(0.08200346), array(11.08203509), array(72.91366906), array(31.69544365), array(2420.39448441), array(1.04148139), array(0.0420623), array(252.71942446), array(0.30302089), array(0.56579464), array(40.93946249), array(0.02783774), array(5.96680724), array(0.3371059), array(22.89575534), array(1.66255308), array(0.00600189), array(83.26207273), array(0.07938571), array(0.50255535), 0]\n",
      "pancreas_healthy_0005.dcm\n"
     ]
    },
    {
     "name": "stderr",
     "output_type": "stream",
     "text": [
      "Image/Mask geometry mismatch, attempting to correct Mask\n",
      "parameter force2D must be set to True to enable shape2D extraction\n",
      "GLCM is symmetrical, therefore Sum Average = 2 * Joint Average, only 1 needs to be calculated\n",
      "Image/Mask geometry mismatch, attempting to correct Mask\n",
      "parameter force2D must be set to True to enable shape2D extraction\n",
      "GLCM is symmetrical, therefore Sum Average = 2 * Joint Average, only 1 needs to be calculated\n",
      "Image/Mask geometry mismatch, attempting to correct Mask\n"
     ]
    },
    {
     "name": "stdout",
     "output_type": "stream",
     "text": [
      "[0.282776983820439, 0.0, 0.0, 100.6129525547948, array(52.338), array(41.184), array(95.66988561), array(95.66988561), array(1488.830343), 28.451027256713804, array(0.19723572), array(3196.89738973), array(2.14725432), 1534.9019399999997, array(43.), array(130.6), array(22080413.), array(2.4791225), array(35.), array(7.13076448), array(239.), array(28.65121405), array(93.92661871), array(103.), array(-98.), array(337.), array(15.55799419), array(102.90833853), array(-1.55941797), array(16254805.155732), array(0.24792897), array(1767.91643773), array(72.10851962), array(567.69757861), array(-40.79272614), array(8.62622013), array(1.22699238), array(0.74903293), array(0.73148962), array(1.5636224), array(0.68053202), array(0.69918299), array(0.68166151), array(0.99392775), array(0.9531809), array(-0.22145383), array(0.79792617), array(0.44967068), array(8.38200632), array(0.09899354), array(4.24401144), array(0.78966365), array(0.22888505), array(16.76401264), array(3.24201982), array(2.46330313), array(5.15864154), array(283.92757794), array(0.1361763), array(3.95815169), array(516.93189448), array(2.88091277), array(71.63165468), array(23.41534772), array(1797.40911271), array(0.37733491), array(0.02388766), array(0.14543961), array(8.68775506), array(0.00588628), array(234.89998423), array(0.19616639), array(3.781367), array(68.28485144), array(4.84827616), array(364.67104458), array(0.08950639), array(0.02887898), array(4.34798127), array(517.54349836), array(0.4272579), array(0.5736211), array(1.72921642), array(0.6723072), array(43.73329573), array(0.02245325), array(42.11976048), array(0.12610707), array(6.12305927), array(57.15568862), array(850.96706587), array(67826.81437126), array(10.96068507), array(0.04456543), array(87.01197605), array(0.2605149), array(0.51954383), array(27.85553618), array(0.02561449), array(5.59533142), array(0.16019185), array(811.99807272), array(1.16804972), array(0.00500192), array(42.69879278), array(0.01568514), array(0.53553194), 0]\n",
      "pancreas_healthy_0006.dcm\n",
      "[0.29876487036479493, 0.0, 0.0, 87.3156075945545, array(50.625), array(34.6875), array(85.19394235), array(85.19394235), array(1585.69335938), 26.08683618381038, array(0.19511987), array(3370.24990042), array(2.12541087), 1631.25, array(-64.5), array(234.), array(35577778.), array(4.07025867), array(175.25), array(2.12376726), array(397.), array(90.09493906), array(85.65948276), array(81.), array(-159.), array(556.), array(68.59029428), array(138.45237962), array(0.01400364), array(31269531.4453125), array(0.0652288), array(11831.51443594), array(136.18056422), array(10068.18272743), array(14.03378448), array(70.29534562), array(5.71018428), array(0.84970917), array(1.81316997), array(2.4516236), array(2.38618398), array(0.47705002), array(0.41002684), array(0.98963699), array(0.93033258), array(-0.24733337), array(0.92859708), array(0.4091612), array(10.95598169), array(0.00959648), array(7.12461365), array(0.87431895), array(0.02334325), array(21.91196337), array(4.94329357), array(19.00138248), array(6.10061104), array(478.41163793), array(0.25776489), array(1.4490736), array(121.06465517), array(19.08713121), array(138.81034483), array(7.07435345), array(1051.12284483), array(0.11458621), array(0.02019911), array(0.37833746), array(51.46152136), array(0.00971375), array(98.71320687), array(0.06420281), array(19.11770886), array(137.24065758), array(1.73208167), array(245.50571258), array(0.03249651), array(0.02104217), array(4.84541783), array(1102.50702547), array(0.71602256), array(0.82852909), array(0.27231156), array(0.87109513), array(118.64279381), array(0.01888824), array(51.97271649), array(0.0616521), array(19.70280969), array(132.79833926), array(12.38196916), array(2064.87307236), array(0.15683757), array(0.02508486), array(313.4341637), array(0.37180802), array(0.62893456), array(85.54809876), array(0.01796008), array(5.98725573), array(0.45420259), array(7.53465916), array(0.57206406), array(0.00743049), array(250.49300653), array(0.09051375), array(1.32637742), 0]\n",
      "pancreas_healthy_0007.dcm\n"
     ]
    },
    {
     "name": "stderr",
     "output_type": "stream",
     "text": [
      "parameter force2D must be set to True to enable shape2D extraction\n",
      "GLCM is symmetrical, therefore Sum Average = 2 * Joint Average, only 1 needs to be calculated\n",
      "Image/Mask geometry mismatch, attempting to correct Mask\n"
     ]
    },
    {
     "name": "stdout",
     "output_type": "stream",
     "text": [
      "[0.2678399140692726, 0.0, 0.0, 112.10739242842384, array(50.625), array(45.), array(103.53328269), array(103.53328269), array(1642.3828125), 30.02683435455926, array(0.18980175), array(3546.7739883), array(2.15952941), 1702.44140625, array(-61.), array(204.4), array(24987256.), array(3.88037944), array(147.), array(2.21512198), array(309.), array(79.85884905), array(60.17449664), array(45.), array(-147.), array(456.), array(59.63972659), array(113.57806692), array(0.33559584), array(21961455.46875), array(0.07577968), array(9279.00723807), array(92.08775629), array(6904.13490026), array(163.60257044), array(56.15224603), array(4.06673142), array(0.86489818), array(1.54003147), array(2.25503508), array(1.67236232), array(0.51385945), array(0.4540162), array(0.98913841), array(0.9285511), array(-0.26073967), array(0.92948051), array(0.42660744), array(8.89192099), array(0.01218311), array(6.74068388), array(0.89887157), array(0.03112024), array(17.78384197), array(4.76410628), array(15.05474436), array(6.10332833), array(439.68972638), array(0.22699521), array(1.70851198), array(146.7852349), array(14.99669427), array(94.56272586), array(8.60557563), array(848.4801239), array(0.23437971), array(0.03056863), array(0.32745879), array(30.76058243), array(0.01132759), array(116.53607932), array(0.07551574), array(14.79910945), array(93.81363268), array(1.92282852), array(185.62872715), array(0.05578945), array(0.03135568), array(4.76102873), array(1032.20246002), array(0.66801129), array(0.79672173), array(0.34383682), array(0.84428844), array(79.00665493), array(0.02689068), array(58.82664942), array(0.07610175), array(14.3204765), array(91.36481242), array(15.6313066), array(1779.70504528), array(0.34926161), array(0.03497033), array(256.11254851), array(0.33132283), array(0.59333195), array(55.89731257), array(0.02181556), array(5.94634082), array(0.39907073), array(9.35216533), array(1.08300034), array(0.00717463), array(139.98435016), array(0.08871431), array(0.89527206), 0]\n",
      "pancreas_healthy_0008.dcm\n"
     ]
    },
    {
     "name": "stderr",
     "output_type": "stream",
     "text": [
      "parameter force2D must be set to True to enable shape2D extraction\n",
      "GLCM is symmetrical, therefore Sum Average = 2 * Joint Average, only 1 needs to be calculated\n",
      "Image/Mask geometry mismatch, attempting to correct Mask\n",
      "parameter force2D must be set to True to enable shape2D extraction\n",
      "GLCM is symmetrical, therefore Sum Average = 2 * Joint Average, only 1 needs to be calculated\n"
     ]
    },
    {
     "name": "stdout",
     "output_type": "stream",
     "text": [
      "[0.25313076035435916, 0.0, 0.0, 154.64081431609566, array(69.7), array(44.28), array(137.96728453), array(137.96728453), array(3509.03146667), 39.14434690965056, array(0.15142404), array(7374.75308791), array(2.10164918), 3581.202399999999, array(-99.), array(114.), array(43271366.), array(3.28660631), array(173.), array(1.5710128), array(235.), array(80.63846999), array(20.58280135), array(54.), array(-142.), array(377.), array(70.47271191), array(90.13629893), array(-0.19730416), array(29095666.4984), array(0.12651622), array(7700.90067304), array(65.48502411), array(3653.4519598), array(-65.67195601), array(48.1056969), array(1.42789177), array(0.94234408), array(0.77900488), array(1.64329838), array(0.80444649), array(0.69179006), array(0.67120466), array(0.99458435), array(0.95616447), array(-0.40430078), array(0.9622697), array(0.43571432), array(7.33590954), array(0.04656403), array(5.23929576), array(0.94680498), array(0.11165059), array(14.67181908), array(4.19588902), array(12.38339717), array(6.01495138), array(714.34096883), array(0.13412335), array(4.13520534), array(673.8253849), array(12.44181126), array(66.38678183), array(23.7930905), array(1617.88621855), array(1.43786035), array(0.05699197), array(0.13721149), array(8.33739144), array(0.00719395), array(321.25338956), array(0.10550061), array(11.42217965), array(65.18785835), array(4.92746466), array(329.94723448), array(0.29141739), array(0.055019), array(5.05454129), array(1306.41042706), array(0.42533642), array(0.57078483), array(1.77642149), array(0.67258903), array(42.92977678), array(0.03572108), array(78.43309002), array(0.09541738), array(8.66924923), array(59.92579075), array(698.19708029), array(49399.31143552), array(33.61436926), array(0.05488849), array(175.54501217), array(0.21355841), array(0.46031866), array(25.97351288), array(0.02419371), array(6.20994765), array(0.15433721), array(656.21550902), array(2.0398996), array(0.00352333), array(52.09179677), array(0.04775624), array(0.45689609), 0]\n",
      "pancreas_healthy_0009.dcm\n",
      "[0.4763048856850127, 0.0, 0.0, 74.8388996179363, array(66.066), array(45.474), array(74.30993314), array(74.30993314), array(1624.529907), 35.646133527313296, array(0.19199355), array(3480.82851768), array(2.14266817), 1675.5092639999998, array(79.), array(172.), array(34230028.), array(2.55544193), array(39.), array(4.37783914), array(237.), array(27.96748527), array(116.65026362), array(111.), array(-59.), array(296.), array(17.73339305), array(122.6358649), array(0.08548742), array(25198914.332592), array(0.22332369), array(1432.27135758), array(69.46708609), array(260.15014288), array(7.97160116), array(8.04317085), array(0.78800205), array(0.82087544), array(0.58020338), array(1.33223294), array(0.44129779), array(0.73996578), array(0.73009432), array(0.99543542), array(0.95950917), array(-0.32885886), array(0.89184004), array(0.4374246), array(8.22515261), array(0.09458369), array(4.17522777), array(0.8603117), array(0.22458247), array(16.45030522), array(3.37765901), array(2.20779322), array(5.33146609), array(318.56678383), array(0.13996783), array(3.78038352), array(508.28471002), array(2.40784946), array(69.43760984), array(27.35149385), array(1899.16256591), array(0.43255533), array(0.01779677), array(0.09651831), array(6.16952227), array(0.00299779), array(219.23094302), array(0.18564586), array(3.01482744), array(69.05392419), array(6.21356479), array(428.75132471), array(0.10194203), array(0.01964453), array(4.58037661), array(439.66927851), array(0.36470293), array(0.5181239), array(2.28336303), array(0.60840565), array(41.48994036), array(0.0133333), array(29.08733624), array(0.12701894), array(5.66957152), array(62.87336245), array(1601.88646288), array(104594.), array(25.06929302), array(0.03258762), array(34.95633188), array(0.15264774), array(0.38159666), array(20.88906611), array(0.01962366), array(6.10081695), array(0.10061511), array(1503.10543277), array(1.27368309), array(0.00560768), array(31.52125499), array(0.01286057), array(0.4885574), 0]\n",
      "pancreas_healthy_0010.dcm\n"
     ]
    },
    {
     "name": "stderr",
     "output_type": "stream",
     "text": [
      "Image/Mask geometry mismatch, attempting to correct Mask\n",
      "parameter force2D must be set to True to enable shape2D extraction\n",
      "GLCM is symmetrical, therefore Sum Average = 2 * Joint Average, only 1 needs to be calculated\n",
      "Image/Mask geometry mismatch, attempting to correct Mask\n",
      "parameter force2D must be set to True to enable shape2D extraction\n",
      "GLCM is symmetrical, therefore Sum Average = 2 * Joint Average, only 1 needs to be calculated\n",
      "Image/Mask geometry mismatch, attempting to correct Mask\n"
     ]
    },
    {
     "name": "stdout",
     "output_type": "stream",
     "text": [
      "[0.23836106704375526, 0.0, 0.0, 103.85627732892654, array(47.31445312), array(32.47070312), array(97.500425), array(97.500425), array(1725.82904498), 24.7552930833151, array(0.18908593), array(3679.79328105), array(2.13218875), 1779.0484428405762, array(-127.), array(26.), array(17664254.), array(3.04941723), array(56.), array(5.75999052), array(192.), array(45.00663665), array(-67.71746493), array(-82.), array(-178.), array(370.), array(26.30072941), array(92.44371972), array(1.59255857), array(15203465.68584442), array(0.15995805), array(3960.18626005), array(38.20944051), array(2877.01030309), array(178.29669814), array(21.68139771), array(4.18492429), array(0.67640833), array(1.52827947), array(2.2660293), array(1.83252117), array(0.51863995), array(0.46168591), array(0.98464555), array(0.91786899), array(-0.13026509), array(0.73764196), array(0.43919497), array(5.81681276), array(0.03315007), array(5.71201946), array(0.75927409), array(0.0753084), array(11.63362551), array(3.76771281), array(6.4665805), array(5.15303458), array(455.01741655), array(0.22013421), array(1.7227808), array(330.63328495), array(6.43591546), array(40.20174165), array(8.82099661), array(321.49443638), array(0.38914917), array(0.04671489), array(0.3248893), array(14.81255663), array(0.01710973), array(241.49840714), array(0.14752522), array(6.69734314), array(41.19629245), array(1.94986382), array(75.96664149), array(0.08898655), array(0.04747414), array(4.00617317), array(1084.33922518), array(0.66175184), array(0.79196904), array(0.35253302), array(0.84079053), array(35.35571856), array(0.04049817), array(91.03517588), array(0.1143658), array(7.94974085), array(45.82788945), array(19.24246231), array(624.51633166), array(0.85459232), array(0.05121774), array(277.20351759), array(0.34824563), array(0.6113164), array(29.43150824), array(0.03425865), array(5.38366587), array(0.38509918), array(12.49943657), array(2.93768092), array(0.00356121), array(127.72359193), array(0.05670424), array(0.51128891), 0]\n",
      "pancreas_healthy_0011.dcm\n",
      "[0.3395016012046392, 0.0, 0.0, 79.92599371329914, array(36.09375), array(43.3125), array(73.44546011), array(73.44546011), array(1321.82520676), 27.135002843536984, array(0.20591727), array(2828.61631359), array(2.13993219), 1364.6398315429688, array(-49.), array(132.), array(10708590.), array(3.38087872), array(113.), array(1.95538155), array(187.), array(58.14231805), array(42.60859189), array(46.), array(-112.), array(299.), array(45.52801238), array(79.93355684), array(-0.02394404), array(8719193.58810425), array(0.10172533), array(4573.88140589), array(57.86532551), array(1477.45289167), array(5.15843798), array(27.4726191), array(2.19778743), array(0.85182387), array(1.04503543), array(1.87876449), array(1.08526774), array(0.61501225), array(0.58192736), array(0.98772627), array(0.93035506), array(-0.29356264), array(0.92545866), array(0.47684689), array(7.17957471), array(0.02354738), array(5.76986927), array(0.86315837), array(0.04805362), array(14.35914942), array(4.29130675), array(7.41760163), array(5.96807358), array(286.09427208), array(0.17070064), array(2.72374559), array(170.49164678), array(7.4120288), array(59.68078759), array(14.96539379), array(971.21539379), array(0.47927505), array(0.03576969), array(0.20685343), array(11.26465266), array(0.00823806), array(117.64767515), array(0.10208276), array(7.17908183), array(57.91901556), array(2.86997958), array(179.48989675), array(0.09659986), array(0.03708744), array(4.6309137), array(621.2570856), array(0.53692012), array(0.68764916), array(0.73762127), array(0.75965886), array(43.0154983), array(0.02884421), array(42.145), array(0.1053625), array(6.70219375), array(53.7275), array(72.295), array(5411.6625), array(1.85185243), array(0.04176657), array(104.155), array(0.2603875), array(0.52486041), array(27.34823113), array(0.02210234), array(5.81144174), array(0.23866348), array(54.7389), array(1.48871727), array(0.00911875), array(42.71154273), array(0.06341621), array(0.49896296), 0]\n",
      "pancreas_healthy_0012.dcm\n"
     ]
    },
    {
     "name": "stderr",
     "output_type": "stream",
     "text": [
      "parameter force2D must be set to True to enable shape2D extraction\n",
      "GLCM is symmetrical, therefore Sum Average = 2 * Joint Average, only 1 needs to be calculated\n",
      "Image/Mask geometry mismatch, attempting to correct Mask\n"
     ]
    },
    {
     "name": "stdout",
     "output_type": "stream",
     "text": [
      "[0.20102533431762273, 0.0, 0.0, 115.94282838747867, array(40.0390625), array(29.296875), array(104.92935711), array(104.92935711), array(1389.9008433), 23.30744583832366, array(0.19834594), array(3036.57037848), array(2.18473886), 1449.5849609375, array(-80.), array(191.), array(22179363.), array(3.84281882), array(108.), array(2.87390979), array(398.), array(74.51972386), array(73.55723684), array(85.), array(-168.), array(566.), array(51.75552401), array(120.79605202), array(-0.26876497), array(21151888.84735107), array(0.08447801), array(9181.01909236), array(121.47449719), array(7607.05505966), array(-134.99427332), array(52.34353814), array(5.83781878), array(0.79907925), array(1.74908302), array(2.43075947), array(2.76124489), array(0.4928634), array(0.43075414), array(0.98962219), array(0.93309769), array(-0.22743844), array(0.9071935), array(0.42324554), array(10.4808338), array(0.01392746), array(6.79949002), array(0.83188756), array(0.03941479), array(20.96166761), array(4.70050753), array(14.54533923), array(5.91407367), array(363.65263158), array(0.23924515), array(1.48801939), array(128.40657895), array(14.81622879), array(124.44539474), array(7.47763158), array(933.21907895), array(0.14056735), array(0.02222749), array(0.37120955), array(46.87572907), array(0.00970168), array(100.79452939), array(0.08095269), array(15.27196623), array(124.5163568), array(1.78217129), array(222.11778469), array(0.03742496), array(0.02294266), array(4.67313292), array(873.94661864), array(0.70187075), array(0.81907895), array(0.29133625), array(0.86381738), array(107.75152365), array(0.02027181), array(46.44409938), array(0.07211817), array(16.91397901), array(126.64285714), array(18.70186335), array(2352.48291925), array(0.33904886), array(0.02526285), array(263.63043478), array(0.40936403), array(0.66446209), array(84.79864055), array(0.01839333), array(5.74702582), array(0.42368421), array(13.13109062), array(0.49070324), array(0.00736128), array(266.09596225), array(0.07141062), array(1.51777397), 0]\n",
      "pancreas_healthy_0013.dcm\n"
     ]
    },
    {
     "name": "stderr",
     "output_type": "stream",
     "text": [
      "parameter force2D must be set to True to enable shape2D extraction\n",
      "GLCM is symmetrical, therefore Sum Average = 2 * Joint Average, only 1 needs to be calculated\n",
      "Image/Mask geometry mismatch, attempting to correct Mask\n",
      "parameter force2D must be set to True to enable shape2D extraction\n",
      "GLCM is symmetrical, therefore Sum Average = 2 * Joint Average, only 1 needs to be calculated\n",
      "Image/Mask geometry mismatch, attempting to correct Mask\n"
     ]
    },
    {
     "name": "stdout",
     "output_type": "stream",
     "text": [
      "[0.26054048792104395, 0.0, 0.0, 121.0871630340619, array(37.109375), array(64.5703125), array(108.84882503), array(108.84882503), array(2151.40635173), 31.548108537869485, array(0.17631158), array(4571.07394887), array(2.12469111), 2201.7166137695312, array(-854.4), array(91.), array(5.59116636e+08), array(4.26057899), array(130.), array(3.75780039), array(186.), array(249.67808619), array(-176.52989742), array(-73.), array(-996.), array(1182.), array(136.94065273), array(374.01079136), array(-1.49878095), array(3.07985085e+08), array(0.08339135), array(108721.26736984), array(1288.84783895), array(1783123.50927641), array(-27103.23007876), array(685.75816104), array(4.91249275), array(0.98575464), array(1.19975371), array(2.06758391), array(3.43941322), array(0.63798263), array(0.60893032), array(0.99794719), array(0.97684648), array(-0.47138047), array(0.99055563), array(0.43011005), array(33.4459674), array(0.02880596), array(6.51097235), array(0.98957744), array(0.11757572), array(66.8919348), array(5.17596273), array(172.66766345), array(6.80315559), array(553.48286215), array(0.13847457), array(4.14546787), array(333.31523643), array(174.13836472), array(1293.74981236), array(19.71803853), array(25417.44558419), array(0.6887843), array(0.02506976), array(0.19793372), array(225.57053916), array(0.0042923), array(166.3936119), array(0.06583048), array(167.83528017), array(1281.57573606), array(3.85107996), array(4886.79588451), array(0.13292512), array(0.02165031), array(5.83707918), array(1283.94363725), array(0.50554747), array(0.63172379), array(1.31557906), array(0.73769831), array(927.51797771), array(0.01523503), array(39.63820225), array(0.04453731), array(181.3200909), array(1134.25617978), array(336.88876404), array(416944.52134831), array(11.68391065), array(0.02306407), array(272.25842697), array(0.30590834), array(0.57260496), array(594.09557228), array(0.01224712), array(7.07336515), array(0.222667), array(316.71958212), array(0.06550287), array(0.00617295), array(776.45482686), array(0.10020784), array(16.51557355), 0]\n",
      "pancreas_healthy_0014.dcm\n",
      "[0.46434535316279185, 0.0, 0.0, 89.53354890367126, array(70.3125), array(39.375), array(77.97047218), array(77.97047218), array(1396.2890625), 41.57448738559332, array(0.19926319), array(3031.84687815), array(2.17136047), 1451.07421875, array(-101.), array(107.), array(11364693.), array(3.6195296), array(130.5), array(2.42943162), array(240.), array(70.64736934), array(-4.83646275), array(-19.), array(-157.), array(397.), array(54.27909246), array(82.96698679), array(0.50383874), array(9988499.70703125), array(0.09270413), array(6860.1295245), array(63.20680607), array(4121.06366771), array(144.27368584), array(41.13318491), array(3.71481694), array(0.83438236), array(1.46158794), array(2.18410292), array(1.55569752), array(0.5237027), array(0.46853091), array(0.98771692), array(0.92483007), array(-0.24026214), array(0.90551147), array(0.45299468), array(7.3383927), array(0.01689866), array(6.37970613), array(0.85339144), array(0.04282789), array(14.67678539), array(4.48605705), array(11.21200046), array(5.77520684), array(374.52392489), array(0.22684671), array(1.63554786), array(153.05451242), array(11.07718428), array(64.89642641), array(8.60629921), array(533.81708056), array(0.32307046), array(0.03924491), array(0.31890707), array(21.15934741), array(0.0147452), array(118.03233072), array(0.08993069), array(11.06669266), array(65.47474172), array(1.92953207), array(123.98734596), array(0.07418064), array(0.03990625), array(4.52156726), array(875.95389842), array(0.66627733), array(0.79497274), array(0.34191608), array(0.84321392), array(55.61875329), array(0.03419433), array(52.86261981), array(0.08444508), array(11.26567588), array(66.63258786), array(20.64696486), array(1144.58785942), array(0.83102403), array(0.0442962), array(209.23322684), array(0.33423838), array(0.59562405), array(39.65956572), array(0.03018799), array(5.71907308), array(0.37916414), array(13.69119058), array(1.47720053), array(0.00709316), array(117.75562185), array(0.08139685), array(0.77988311), 0]\n",
      "pancreas_healthy_0015.dcm\n"
     ]
    },
    {
     "name": "stderr",
     "output_type": "stream",
     "text": [
      "parameter force2D must be set to True to enable shape2D extraction\n",
      "GLCM is symmetrical, therefore Sum Average = 2 * Joint Average, only 1 needs to be calculated\n",
      "Image/Mask geometry mismatch, attempting to correct Mask\n"
     ]
    },
    {
     "name": "stdout",
     "output_type": "stream",
     "text": [
      "[0.20983604511876375, 0.0, 0.0, 105.82378883525108, array(49.21875), array(28.125), array(100.78427806), array(100.78427806), array(1584.57438151), 22.205645328672276, array(0.194301), array(3382.86109004), array(2.13487049), 1626.5869140625, array(-184.6), array(48.6), array(1.06451362e+08), array(3.8131469), array(110.), array(11.85893244), array(706.), array(107.70842236), array(-71.47467167), array(-21.), array(-956.), array(1662.), array(45.68504618), array(199.86051609), array(-2.66670431), array(64972755.12695312), array(0.10358176), array(34835.59720088), array(1394.75848681), array(523645.52350813), array(-8340.60789088), array(207.49125245), array(8.7586849), array(0.91913959), array(1.51565233), array(2.26772647), array(6.37412111), array(0.60351755), array(0.56998802), array(0.9981696), array(0.97934768), array(-0.3599816), array(0.96503315), array(0.4348121), array(36.67525853), array(0.02838938), array(6.229097), array(0.93876655), array(0.07714884), array(73.35051707), array(4.71708624), array(54.06248434), array(6.32513111), array(401.99962477), array(0.15084414), array(3.64584676), array(276.04540338), array(55.82315486), array(1399.89155722), array(16.62476548), array(24415.72345216), array(0.04269923), array(0.00483854), array(0.24040215), array(297.20768889), array(0.00167885), array(161.79111664), array(0.08990923), array(68.59287648), array(1366.48245294), array(3.20337234), array(4593.51513019), array(0.0110357), array(0.0056861), array(5.26820846), array(978.24479678), array(0.54201899), array(0.67467167), array(0.98583401), array(0.76396585), array(1020.46961511), array(0.00473054), array(41.72443182), array(0.05926766), array(102.13558077), array(1236.40909091), array(208.42755682), array(287359.03267045), array(0.21020096), array(0.00785898), array(269.46875), array(0.38276811), array(0.64307749), array(746.14897098), array(0.00498696), array(6.55847297), array(0.2641651), array(194.09746053), array(0.05050585), array(0.00578005), array(1379.39766844), array(0.02980425), array(22.78675752), 0]\n",
      "pancreas_healthy_0016.dcm\n"
     ]
    },
    {
     "name": "stderr",
     "output_type": "stream",
     "text": [
      "parameter force2D must be set to True to enable shape2D extraction\n",
      "GLCM is symmetrical, therefore Sum Average = 2 * Joint Average, only 1 needs to be calculated\n",
      "Image/Mask geometry mismatch, attempting to correct Mask\n",
      "parameter force2D must be set to True to enable shape2D extraction\n",
      "GLCM is symmetrical, therefore Sum Average = 2 * Joint Average, only 1 needs to be calculated\n"
     ]
    },
    {
     "name": "stdout",
     "output_type": "stream",
     "text": [
      "[0.21805537726652519, 0.0, 0.0, 180.21345284323866, array(114.84375), array(35.9375), array(161.81684827), array(161.81684827), array(3189.29036458), 39.29651244823555, array(0.15539097), array(6743.01890202), array(2.11426936), 3261.71875, array(-85.), array(26.), array(10913983.), array(2.61086062), array(38.), array(3.98520664), array(181.), array(31.42848386), array(-14.98409431), array(-7.), array(-145.), array(326.), array(19.39291577), array(45.19167222), array(-0.52112116), array(6661366.57714844), array(0.2187993), array(1817.76415569), array(37.383932), array(443.86847778), array(-23.10096673), array(10.55145768), array(1.07425836), array(0.814875), array(0.72491662), array(1.48480119), array(0.53699251), array(0.68780856), array(0.67164123), array(0.99463586), array(0.95307537), array(-0.28499455), array(0.87437003), array(0.4885611), array(5.91731498), array(0.07802254), array(4.45681336), array(0.89270467), array(0.15986797), array(11.83462995), array(3.41373775), array(2.90642901), array(5.27048846), array(826.97417665), array(0.15474816), array(3.12223107), array(1169.26347305), array(2.97269085), array(38.08008982), array(21.02919162), array(766.3117515), array(1.06965453), array(0.04952007), array(0.13178198), array(5.18664035), array(0.00776295), array(624.14751556), array(0.19605163), array(3.10083365), array(38.82147284), array(4.21842565), array(155.91098922), array(0.21408242), array(0.04964218), array(4.2955254), array(1411.69094318), array(0.43867492), array(0.59604229), array(1.3443587), array(0.68101764), array(26.77058682), array(0.03444944), array(114.76912378), array(0.15962326), array(4.23759626), array(40.42141864), array(2193.75243394), array(79318.59805285), array(70.87183746), array(0.06262196), array(157.98191933), array(0.21972451), array(0.46998044), array(18.65252935), array(0.03357511), array(5.7154334), array(0.13454341), array(2138.50970576), array(4.39964446), array(0.00196486), array(46.5157639), array(0.01671772), array(0.22219766), 0]\n",
      "pancreas_healthy_0017.dcm\n"
     ]
    },
    {
     "name": "stderr",
     "output_type": "stream",
     "text": [
      "Image/Mask geometry mismatch, attempting to correct Mask\n",
      "parameter force2D must be set to True to enable shape2D extraction\n",
      "GLCM is symmetrical, therefore Sum Average = 2 * Joint Average, only 1 needs to be calculated\n",
      "Image/Mask geometry mismatch, attempting to correct Mask\n"
     ]
    },
    {
     "name": "stdout",
     "output_type": "stream",
     "text": [
      "[0.22095940266131003, 0.0, 0.0, 125.3482619411708, array(50.), array(41.40625), array(118.60857121), array(118.60857121), array(2337.74820964), 27.69687708315452, array(0.17281324), array(4929.15262679), array(2.1085045), 2386.474609375, array(-113.), array(52.), array(24470649.), array(3.27943519), array(109.), array(20.66298684), array(132.), array(56.46314401), array(-32.04424552), array(-24.), array(-819.), array(951.), array(43.53992006), array(79.11054295), array(-2.08702554), array(14935698.85253906), array(0.11560024), array(5231.64433389), array(1047.53400659), array(14903.83753917), array(-273.08540934), array(29.93757947), array(2.00620963), array(0.87394612), array(0.94288693), array(1.7436902), array(1.10416234), array(0.63616966), array(0.60981588), array(0.99870779), array(0.97702427), array(-0.3236434), array(0.93561135), array(0.49715188), array(32.25757424), array(0.03111357), array(5.48167911), array(0.90661234), array(0.06531342), array(64.51514848), array(4.16025925), array(7.98594727), array(5.88316681), array(654.07621483), array(0.16728292), array(2.73783636), array(451.99693095), array(8.44659081), array(1047.64322251), array(16.38056266), array(17149.18184143), array(0.01819189), array(0.00158407), array(0.17916184), array(184.95015785), array(0.00039726), array(287.60118421), array(0.11089261), array(9.38426969), array(1047.10621118), array(3.15404794), array(3298.30135201), array(0.00421541), array(0.00179093), array(4.68385251), array(1319.39240695), array(0.50636291), array(0.66329923), array(0.86132147), array(0.73651051), array(769.95136922), array(0.00145641), array(76.11140236), array(0.09975282), array(15.74780176), array(1036.98165138), array(353.65399738), array(330909.59764089), array(0.39208364), array(0.00277402), array(193.10747051), array(0.25308974), array(0.51557351), array(523.22117117), array(0.00131468), array(6.18059026), array(0.19514066), array(327.39340982), array(0.20996765), array(0.00384341), array(376.35001804), array(0.01522609), array(5.29335523), 0]\n",
      "pancreas_healthy_0018.dcm\n",
      "[0.2275983761407833, 0.0, 0.0, 120.47876466423814, array(71.2890625), array(31.25), array(114.9277568), array(114.9277568), array(2056.83708191), 27.420771197028184, array(0.17681374), array(4423.52049468), array(2.15064214), 2130.5084228515625, array(-118.), array(112.7), array(18990435.), array(3.68240192), array(156.), array(2.03058164), array(244.), array(79.49818945), array(-16.33348254), array(-43.), array(-186.), array(430.), array(63.33210403), array(92.19892812), array(0.42447955), array(18110690.11688232), array(0.09019315), array(8233.8596936), array(73.14707026), array(4232.37768817), array(143.24707032), array(47.90235577), array(5.17615775), array(0.80495899), array(1.73193276), array(2.40861647), array(2.16381242), array(0.48855134), array(0.42305206), array(0.98487828), array(0.91698437), array(-0.20294215), array(0.87962121), array(0.40816727), array(7.90349695), array(0.0150063), array(6.62248117), array(0.85387012), array(0.04621523), array(15.80699389), array(4.47432216), array(13.26962838), array(5.76206261), array(537.4091316), array(0.24055915), array(1.51415777), array(201.49149508), array(13.23481272), array(75.15353626), array(7.55774396), array(518.14100269), array(0.24151954), array(0.03667537), array(0.36544841), array(28.61304251), array(0.01692285), array(156.10931353), array(0.0854587), array(13.52318978), array(76.30939085), array(1.78507701), array(130.06055126), array(0.06240039), array(0.03790624), array(4.52787647), array(1273.31362275), array(0.69687706), array(0.81770367), array(0.28884618), array(0.86109761), array(66.33381506), array(0.03358213), array(72.30713547), array(0.0747747), array(14.62571798), array(79.12306101), array(13.63805584), array(879.42192347), array(0.44412233), array(0.04423205), array(362.01758014), array(0.37437185), array(0.63455773), array(50.22751341), array(0.03265131), array(5.78977225), array(0.43285586), array(8.30085692), array(1.84808318), array(0.00469755), array(160.93919515), array(0.10703328), array(0.55756289), 0]\n",
      "pancreas_healthy_0019.dcm\n"
     ]
    },
    {
     "name": "stderr",
     "output_type": "stream",
     "text": [
      "parameter force2D must be set to True to enable shape2D extraction\n",
      "GLCM is symmetrical, therefore Sum Average = 2 * Joint Average, only 1 needs to be calculated\n",
      "Image/Mask geometry mismatch, attempting to correct Mask\n",
      "parameter force2D must be set to True to enable shape2D extraction\n",
      "GLCM is symmetrical, therefore Sum Average = 2 * Joint Average, only 1 needs to be calculated\n"
     ]
    },
    {
     "name": "stdout",
     "output_type": "stream",
     "text": [
      "[0.23151477267180418, 0.0, 0.0, 123.70845130689057, array(60.1953125), array(32.34375), array(107.49007778), array(107.49007778), array(1707.2739919), 28.640333981895726, array(0.18642241), array(3705.56825302), array(2.17045903), 1772.589111328125, array(-102.), array(169.), array(24413937.), array(3.94206629), array(159.), array(2.20730777), array(306.), array(86.215042), array(27.82559199), array(30.), array(-175.), array(481.), array(66.23881134), array(105.43935532), array(0.25768522), array(19706684.37652588), array(0.07177564), array(10343.19408093), array(89.35418204), array(8006.62763363), array(117.49709779), array(60.68358902), array(5.4436709), array(0.83531605), array(1.76270427), array(2.42236312), array(2.30445492), array(0.48439892), array(0.41932961), array(0.9870594), array(0.92321052), array(-0.23106904), array(0.91269759), array(0.41584352), array(8.69158929), array(0.01075425), array(6.97398079), array(0.84440243), array(0.02728201), array(17.38317857), array(4.82287322), array(16.53181498), array(6.02656919), array(536.91985428), array(0.24449902), array(1.47839589), array(157.61930783), array(16.69975962), array(91.3852459), array(7.23315118), array(658.92622951), array(0.24727154), array(0.03959036), array(0.38508854), array(35.059735), array(0.01887295), array(127.2839424), array(0.07023909), array(16.72079289), array(91.38057887), array(1.73401681), array(158.2560034), array(0.06544289), array(0.04090348), array(4.74060674), array(1278.96116307), array(0.70534608), array(0.82513661), array(0.26344275), array(0.86569745), array(79.06494947), array(0.03639824), array(68.5218254), array(0.067978), array(16.66241497), array(89.72420635), array(11.8452381), array(1212.67063492), array(0.32325068), array(0.04775613), array(396.5218254), array(0.39337483), array(0.65062485), array(58.93103129), array(0.03490605), array(5.82057435), array(0.45901639), array(7.09906463), array(1.22210291), array(0.00607908), array(178.42500643), array(0.09892561), array(0.86423155), 0]\n",
      "pancreas_healthy_0020.dcm\n",
      "[0.22488714398914333, 0.0, 0.0, 130.43780072189028, array(62.634), array(38.61), array(120.15063895), array(120.15063895), array(2414.924655), 29.333784472570926, array(0.17016493), array(5115.44150402), array(2.11826133), 2476.455696, array(72.), array(137.7), array(40398201.), array(2.33577332), array(30.), array(8.31788092), array(221.), array(23.42685527), array(103.73156956), array(107.), array(-96.), array(317.), array(12.96505556), array(109.58548127), array(-1.37690435), array(29739701.240964), array(0.27445298), array(1248.73918172), array(77.59334466), array(343.17635194), array(-19.160657), array(6.45396303), array(0.93890644), array(0.74315379), array(0.63334701), array(1.42409755), array(0.52721707), array(0.72550905), array(0.71287919), array(0.99459233), array(0.95614551), array(-0.24281509), array(0.80685072), array(0.44155806), array(8.73007504), array(0.1154066), array(4.00515755), array(0.7794454), array(0.26028829), array(17.46015009), array(3.1318782), array(1.84821737), array(5.08204332), array(455.12841855), array(0.13529382), array(3.99999823), array(923.25980975), array(2.08109966), array(77.35374554), array(26.37931034), array(2110.56064209), array(0.35608986), array(0.01715201), array(0.11296352), array(7.75983245), array(0.00384226), array(390.50983691), array(0.21729384), array(2.87989323), array(75.34888984), array(5.75591676), array(455.1654381), array(0.08430357), array(0.02011716), array(4.37069446), array(699.62350422), array(0.38318196), array(0.53366528), array(2.09343049), array(0.63239112), array(46.23847893), array(0.01485102), array(57.02948403), array(0.14012158), array(5.63841617), array(67.53316953), array(2304.55528256), array(186166.16216216), array(28.72112051), array(0.03481799), array(78.07616708), array(0.19183333), array(0.43657088), array(26.77526236), array(0.02262346), array(5.96342261), array(0.12098692), array(2236.23916836), array(1.98061182), array(0.00308312), array(34.58084387), array(0.01187229), array(0.32810548), 0]\n"
     ]
    },
    {
     "name": "stderr",
     "output_type": "stream",
     "text": [
      "Image/Mask geometry mismatch, attempting to correct Mask\n",
      "parameter force2D must be set to True to enable shape2D extraction\n",
      "GLCM is symmetrical, therefore Sum Average = 2 * Joint Average, only 1 needs to be calculated\n"
     ]
    },
    {
     "name": "stdout",
     "output_type": "stream",
     "text": [
      "pancreas_healthy_0021.dcm\n",
      "[0.2569866369828065, 0.0, 0.0, 156.51280628624696, array(84.21875), array(53.59375), array(139.51007952), array(139.51007952), array(2834.43247477), 40.22169973224406, array(0.16008477), array(6050.31759265), array(2.13457814), 2924.496841430664, array(-87.), array(109.), array(18314884.), array(3.45203039), array(124.), array(1.9255519), array(187.), array(63.20338385), array(19.17507047), array(31.), array(-148.), array(335.), array(50.23054294), array(75.73604583), array(-0.21383321), array(16774763.67340088), array(0.09851461), array(5368.26531024), array(60.46189803), array(1894.70285756), array(-40.48411738), array(31.88789337), array(2.34876381), array(0.8627743), array(1.16034055), array(1.91944575), array(0.99343998), array(0.57442009), array(0.5328038), array(0.98846916), array(0.92729911), array(-0.27029216), array(0.91763362), array(0.49017762), array(7.28539817), array(0.0204106), array(5.96240379), array(0.87663465), array(0.04257276), array(14.57079634), array(4.34611532), array(8.5591643), array(5.87938358), array(627.28311932), array(0.19645572), array(2.15074806), array(314.55715628), array(8.62171194), array(61.78421547), array(11.38145944), array(705.18791106), array(0.49427295), array(0.0446842), array(0.25724969), array(15.83898954), array(0.01425779), array(229.31787845), array(0.09637916), array(8.56727055), array(61.71603573), array(2.3207743), array(144.23378402), array(0.10178521), array(0.04557643), array(4.54701913), array(1443.87168811), array(0.6057841), array(0.74522393), array(0.51499731), array(0.80625738), array(49.7770475), array(0.0375691), array(87.08622503), array(0.09157332), array(8.76021809), array(60.27970557), array(62.6508938), array(4699.08832808), array(1.99654143), array(0.05407741), array(283.60147213), array(0.29821396), array(0.56241144), array(34.43049554), array(0.03590499), array(5.90794465), array(0.29783902), array(51.37796398), array(2.58754595), array(0.00413061), array(60.51932128), array(0.07660112), array(0.2702352), 0]\n",
      "pancreas_healthy_0023.dcm\n"
     ]
    },
    {
     "name": "stderr",
     "output_type": "stream",
     "text": [
      "Image/Mask geometry mismatch, attempting to correct Mask\n",
      "parameter force2D must be set to True to enable shape2D extraction\n",
      "GLCM is symmetrical, therefore Sum Average = 2 * Joint Average, only 1 needs to be calculated\n",
      "Image/Mask geometry mismatch, attempting to correct Mask\n",
      "parameter force2D must be set to True to enable shape2D extraction\n"
     ]
    },
    {
     "name": "stdout",
     "output_type": "stream",
     "text": [
      "[0.22403505338617752, 0.0, 0.0, 158.26196762093142, array(72.421875), array(48.515625), array(149.05254979), array(149.05254979), array(3232.36999512), 35.45622836495687, array(0.15548151), array(6799.6425728), array(2.10360899), 3293.096923828125, array(-966.), array(251.), array(1.86382826e+09), array(4.53147569), array(1024.), array(1.94261668), array(945.), array(431.90121725), array(-197.45263474), array(44.), array(-1004.), array(1949.), array(362.65301887), array(528.97266458), array(-0.69119926), array(9.21448299e+08), array(0.06845542), array(240824.53690231), array(1507.99446875), array(4519392.53674862), array(-41537.69187995), array(1535.2068531), array(14.5460816), array(0.98123857), array(1.69947862), array(2.25037893), array(11.53555872), array(0.64222041), array(0.61752561), array(0.99774764), array(0.98047896), array(-0.51115818), array(0.99488772), array(0.40196133), array(33.5831511), array(0.0263578), array(6.75867357), array(0.98721094), array(0.11014537), array(67.16630219), array(5.45771598), array(387.43823367), array(7.10808396), array(848.20312265), array(0.12733871), array(4.80193476), array(455.9815343), array(385.41052819), array(1515.70665065), array(22.17159586), array(29445.98798979), array(1.00234064), array(0.03233953), array(0.20361753), array(329.33040299), array(0.00378927), array(199.76246452), array(0.04959229), array(350.05307581), array(1597.89424307), array(4.7516307), array(6152.26138407), array(0.21766132), array(0.02611747), array(6.30513654), array(1996.08043145), array(0.49194748), array(0.60403843), array(1.96490102), array(0.72708684), array(1183.4869917), array(0.01654063), array(41.55739972), array(0.02873956), array(362.17202413), array(1624.0428769), array(899.2966805), array(485903.17704011), array(77.35545529), array(0.01870559), array(565.31120332), array(0.39094827), array(0.65023949), array(1053.15548071), array(0.00972604), array(7.48437124), array(0.21708452), array(878.07683188), array(0.05428978), array(0.00442731), array(2467.96964601), array(0.10517833), array(26.69118685), 0]\n",
      "pancreas_healthy_0024.dcm\n"
     ]
    },
    {
     "name": "stderr",
     "output_type": "stream",
     "text": [
      "GLCM is symmetrical, therefore Sum Average = 2 * Joint Average, only 1 needs to be calculated\n",
      "parameter force2D must be set to True to enable shape2D extraction\n",
      "GLCM is symmetrical, therefore Sum Average = 2 * Joint Average, only 1 needs to be calculated\n"
     ]
    },
    {
     "name": "stdout",
     "output_type": "stream",
     "text": [
      "[0.18843394424324905, 0.0, 0.0, 201.8860242216439, array(112.5), array(41.484375), array(142.08345266), array(142.08345266), array(2153.82843018), 38.04217983167248, array(0.17637207), array(4572.93528204), array(2.123166), 2201.98974609375, array(-101.), array(112.), array(36940669.), array(3.49644339), array(132.), array(5.23134674), array(504.), array(74.16964585), array(-5.21306691), array(-19.), array(-133.), array(637.), array(56.95232731), array(91.07040581), array(1.1613119), array(18262903.9855957), array(0.10965386), array(8266.64274798), array(52.6839117), array(13675.1339599), array(425.68737802), array(51.87170601), array(1.71377531), array(0.93605079), array(0.77559134), array(1.64876929), array(1.09778037), array(0.70315015), array(0.68523871), array(0.99772569), array(0.97334273), array(-0.44009586), array(0.97585425), array(0.42912289), array(6.33595744), array(0.0400248), array(5.46678253), array(0.94538891), array(0.11602615), array(12.67191487), array(4.40957048), array(13.39637033), array(6.30918179), array(578.35788056), array(0.12985134), array(4.32986036), array(488.39829367), array(13.278273), array(53.16030534), array(25.25011226), array(1167.59586888), array(1.85625448), array(0.06793833), array(0.14143086), array(10.63878431), array(0.00903932), array(236.93407146), array(0.09600959), array(15.07731349), array(58.48259539), array(5.28938599), array(262.49749678), array(0.37755996), array(0.06448032), array(5.33650344), array(1029.44080994), array(0.41408715), array(0.55326673), array(1.9496226), array(0.66467037), array(42.61523768), array(0.0408935), array(53.83030303), array(0.08156107), array(21.76098255), array(79.29090909), array(517.30606061), array(26841.87272727), array(38.51183037), array(0.06246089), array(186.23939394), array(0.2821809), array(0.54576782), array(48.04480305), array(0.03668605), array(6.30145142), array(0.14818141), array(471.76401286), array(0.95448191), array(0.00494639), array(202.33504253), array(0.01764988), array(3.4561323), 0]\n",
      "pancreas_healthy_0026.dcm\n",
      "[0.2668978207198529, 0.0, 0.0, 140.4768677387432, array(70.46875), array(45.546875), array(124.52340785), array(124.52340785), array(2452.15047201), 37.49296986102157, array(0.16902072), array(5202.86139001), array(2.12175454), 2513.9404296875, array(-7.), array(91.), array(13994521.), array(2.58191196), array(44.), array(4.44776933), array(136.), array(30.74509339), array(49.49441833), array(59.), array(-112.), array(248.), array(19.34143943), array(64.11863133), array(-1.18764175), array(10335309.08813477), array(0.21339293), array(1661.50143771), array(59.14610864), array(346.16787602), array(-31.78132637), array(8.33244574), array(1.66161502), array(0.66709351), array(0.94750915), array(1.72605357), array(0.75305516), array(0.62510987), array(0.59559318), array(0.98688224), array(0.92537333), array(-0.1516172), array(0.72279594), array(0.49859078), array(7.58142345), array(0.0643894), array(4.67458619), array(0.71134526), array(0.15237695), array(15.1628469), array(3.33968411), array(2.49851519), array(5.06303143), array(576.53231492), array(0.16936907), array(2.73518367), array(726.38954172), array(2.7229312), array(59.06991774), array(15.29142186), array(969.59341951), array(0.29466369), array(0.02542869), array(0.19845655), array(10.55974281), array(0.0070165), array(428.67244289), array(0.18463422), array(3.14248398), array(57.41782434), array(2.94622698), array(180.94986884), array(0.06536569), array(0.0278924), array(3.98880832), array(1241.04939452), array(0.53269177), array(0.68206522), array(0.78210537), array(0.7565887), array(42.47003765), array(0.02265509), array(103.39786382), array(0.13804788), array(4.52706858), array(51.30974633), array(435.31909212), array(28528.09612817), array(6.81855508), array(0.03813421), array(205.52069426), array(0.27439345), array(0.5359474), array(26.95203773), array(0.02205873), array(5.51046562), array(0.22003525), array(414.66455497), array(3.82502423), array(0.00246578), array(36.47434029), array(0.03343791), array(0.14346238), 0]\n",
      "pancreas_healthy_0027.dcm\n"
     ]
    },
    {
     "name": "stderr",
     "output_type": "stream",
     "text": [
      "Image/Mask geometry mismatch, attempting to correct Mask\n",
      "parameter force2D must be set to True to enable shape2D extraction\n",
      "GLCM is symmetrical, therefore Sum Average = 2 * Joint Average, only 1 needs to be calculated\n",
      "Image/Mask geometry mismatch, attempting to correct Mask\n",
      "parameter force2D must be set to True to enable shape2D extraction\n",
      "GLCM is symmetrical, therefore Sum Average = 2 * Joint Average, only 1 needs to be calculated\n"
     ]
    },
    {
     "name": "stdout",
     "output_type": "stream",
     "text": [
      "[0.3362421417131967, 0.0, 0.0, 89.57783981128439, array(48.3984375), array(42.65625), array(94.76296015), array(94.76296015), array(1857.96775818), 30.11984470818792, array(0.18541058), array(3941.92531469), array(2.12163279), 1904.3426513671875, array(8.9), array(170.), array(77871248.), array(3.24980065), array(65.75), array(29.91859303), array(209.), array(69.89301552), array(91.02261484), array(121.), array(-963.), array(1172.), array(30.58520488), array(165.88050533), array(-4.77064015), array(52400543.77441406), array(0.14897352), array(19231.22563698), array(1899.4297449), array(351448.58844016), array(-5276.51166906), array(106.33248827), array(2.94574108), array(0.94525574), array(0.9576128), array(1.75939123), array(2.0136471), array(0.65491088), array(0.63299801), array(0.99876572), array(0.98116832), array(-0.37918234), array(0.95467323), array(0.48553766), array(43.28489105), array(0.04991112), array(5.22311294), array(0.96030256), array(0.12949831), array(86.5697821), array(4.08461813), array(27.31955734), array(5.79086477), array(422.38727915), array(0.14925346), array(3.41600969), array(421.595053), array(30.81811535), array(1894.00636042), array(18.77243816), array(37136.25229682), array(0.0135984), array(0.00174978), array(0.17968073), array(303.26296946), array(0.00092242), array(228.07905478), array(0.12686047), array(42.64439501), array(1851.80684503), array(3.67541936), array(7162.53975128), array(0.00413241), array(0.00231163), array(4.86250244), array(889.15077463), array(0.49299505), array(0.63515901), array(1.18002236), array(0.72815347), array(1322.24550228), array(0.00205703), array(52.14391144), array(0.09620648), array(97.79701053), array(1673.82841328), array(871.06273063), array(1820200.06273063), array(0.42785495), array(0.00543698), array(159.19926199), array(0.29372558), array(0.5609267), array(868.38797542), array(0.00436697), array(6.34976357), array(0.19151943), array(843.79968955), array(0.0590688), array(0.00481878), array(1031.79361395), array(0.01785007), array(30.24758916), 0]\n",
      "pancreas_healthy_0028.dcm\n",
      "[0.42708957911653805, 0.0, 0.0, 113.14329999320745, array(68.28125), array(45.8203125), array(105.46982783), array(105.46982783), array(2043.9394633), 48.32232437395517, array(0.17571521), array(4432.54811798), array(2.16862984), 2120.4879760742188, array(-52.), array(178.), array(38811226.), array(3.61850189), array(106.), array(2.7801293), array(292.), array(67.19689981), array(87.97335364), array(106.), array(-169.), array(461.), array(47.22010641), array(121.54823155), array(-0.74832026), array(31328031.24084473), array(0.09633308), array(7034.66164246), array(129.69609446), array(4734.57466743), array(-209.8708775), array(42.07714688), array(4.77594177), array(0.79634179), array(1.6323348), array(2.34519642), array(2.08756031), array(0.50468389), array(0.44457172), array(0.98742741), array(0.92511209), array(-0.19543165), array(0.86775451), array(0.42900279), array(10.97134864), array(0.01549796), array(6.5655466), array(0.82839251), array(0.03442566), array(21.94269728), array(4.49611945), array(11.71327216), array(5.82238142), array(601.0121812), array(0.22878271), array(1.71921058), array(253.06699657), array(11.37725146), array(133.23296536), array(8.21811953), array(1133.5237914), array(0.10997392), array(0.01596843), array(0.35384252), array(45.84698824), array(0.00693142), array(197.54418509), array(0.09326077), array(11.56074869), array(132.23193391), array(1.87389806), array(253.2009506), array(0.02797734), array(0.01659737), array(4.49998342), array(1457.05900688), array(0.68736357), array(0.80633803), array(0.33379326), array(0.85549896), array(112.53427308), array(0.01462282), array(92.31313131), array(0.08476872), array(12.12620739), array(129.23875115), array(18.7318641), array(2691.74380165), array(0.21496244), array(0.01916689), array(411.26629936), array(0.377655), array(0.63754318), array(81.81969996), array(0.01358885), array(5.70462013), array(0.4145413), array(12.91264932), array(0.99919479), array(0.00408575), array(159.69127245), array(0.07137905), array(0.57244966), 0]\n",
      "pancreas_healthy_0029.dcm\n"
     ]
    },
    {
     "name": "stderr",
     "output_type": "stream",
     "text": [
      "Image/Mask geometry mismatch, attempting to correct Mask\n",
      "parameter force2D must be set to True to enable shape2D extraction\n",
      "GLCM is symmetrical, therefore Sum Average = 2 * Joint Average, only 1 needs to be calculated\n",
      "Image/Mask geometry mismatch, attempting to correct Mask\n",
      "parameter force2D must be set to True to enable shape2D extraction\n",
      "GLCM is symmetrical, therefore Sum Average = 2 * Joint Average, only 1 needs to be calculated\n"
     ]
    },
    {
     "name": "stdout",
     "output_type": "stream",
     "text": [
      "[0.2128848296861357, 0.0, 0.0, 142.39348208216265, array(46.09375), array(37.5), array(121.81739424), array(121.81739424), array(1496.93806966), 30.313412181477013, array(0.19305718), array(3277.93792592), array(2.18976188), 1554.5654296875, array(-930.), array(116.), array(4.30280598e+08), array(3.92000713), array(149.5), array(3.22635396), array(243.), array(309.64772586), array(-136.95327837), array(53.), array(-992.), array(1235.), array(210.06570073), array(411.01853721), array(-1.4277838), array(2.62622435e+08), array(0.09743065), array(150180.03747158), array(1457.26199291), array(2957148.36665071), array(-42278.89968498), array(971.55941312), array(8.93075668), array(0.98178004), array(1.39858226), array(2.10312628), array(6.94232789), array(0.62411444), array(0.59709829), array(0.99671014), array(0.97489), array(-0.43328718), array(0.98275424), array(0.46059316), array(34.87970049), array(0.02836297), array(6.14977428), array(0.98386668), array(0.06833611), array(69.75940097), array(4.86087559), array(245.12254245), array(6.41162718), array(390.58932077), array(0.1533527), array(3.32242356), array(248.15586965), array(240.35977475), array(1468.65999215), array(16.86493914), array(24349.77110326), array(0.45851144), array(0.02108253), array(0.21531299), array(279.42384017), array(0.00317537), array(145.65872253), array(0.08591191), array(223.13869645), array(1466.33745399), array(3.27705834), array(4699.50577345), array(0.08362428), array(0.01878757), array(5.40507738), array(894.68613482), array(0.52596303), array(0.66499804), array(0.99260873), array(0.75250182), array(1090.03019324), array(0.01304442), array(29.16554054), array(0.04926612), array(205.72497033), array(1325.48648649), array(236.90033784), array(303822.36317568), array(8.79309199), array(0.01554878), array(207.00337838), array(0.34966787), array(0.61427975), array(710.51175934), array(0.00802411), array(6.78322067), array(0.23243031), array(218.38999441), array(0.05199379), array(0.00660711), array(1166.97462668), array(0.16058147), array(25.89403563), 0]\n",
      "pancreas_healthy_0030.dcm\n",
      "[0.1907832303448163, 0.0, 0.0, 154.0500510738599, array(123.92578125), array(33.046875), array(143.52346732), array(143.52346732), array(2323.51277669), 29.39016637865493, array(0.17250633), array(4917.85583218), array(2.1165607), 2385.5892181396484, array(-103.), array(105.), array(19000245.), array(3.44876391), array(150.), array(1.68981769), array(195.), array(72.8202478), array(10.72659838), array(34.), array(-168.), array(363.), array(60.74412347), array(81.92372024), array(-0.21788995), array(16010872.34687805), array(0.10338221), array(6596.43602513), array(72.16007003), array(2621.49625749), array(-56.8021064), array(40.06414454), array(2.23065252), array(0.89449978), array(1.09993582), array(1.88381038), array(0.98846053), array(0.59454419), array(0.55673784), array(0.99042799), array(0.93515804), array(-0.30394328), array(0.93219455), array(0.48118104), array(7.91842022), array(0.02463535), array(5.85139108), array(0.91340494), array(0.05622356), array(15.83684043), array(4.33111667), array(10.57369927), array(5.89488997), array(524.88555281), array(0.18540641), array(2.34834472), array(292.67502649), array(10.58430774), array(73.80113034), array(13.17944189), array(999.69374779), array(0.4530053), array(0.03598154), array(0.21462078), array(15.85749825), array(0.00860993), array(197.88345352), array(0.09789006), array(10.34056425), array(73.3921884), array(2.66720889), array(198.25765416), array(0.09489633), array(0.03649957), array(4.66233646), array(1147.74818756), array(0.56406617), array(0.7136171), array(0.66521637), array(0.77767746), array(56.85125329), array(0.02875735), array(66.33422819), array(0.08903923), array(9.66425657), array(74.2885906), array(56.93825503), array(4329.03489933), array(1.96756921), array(0.03906141), array(176.11409396), array(0.23639476), array(0.48336838), array(35.89717364), array(0.02138905), array(6.13593103), array(0.26315789), array(42.49825503), array(1.60091977), array(0.00525384), array(62.61103038), array(0.07106165), array(0.43973941), 0]\n",
      "pancreas_healthy_0031.dcm\n"
     ]
    },
    {
     "name": "stderr",
     "output_type": "stream",
     "text": [
      "Image/Mask geometry mismatch, attempting to correct Mask\n",
      "parameter force2D must be set to True to enable shape2D extraction\n",
      "GLCM is symmetrical, therefore Sum Average = 2 * Joint Average, only 1 needs to be calculated\n",
      "Image/Mask geometry mismatch, attempting to correct Mask\n",
      "parameter force2D must be set to True to enable shape2D extraction\n",
      "GLCM is symmetrical, therefore Sum Average = 2 * Joint Average, only 1 needs to be calculated\n"
     ]
    },
    {
     "name": "stdout",
     "output_type": "stream",
     "text": [
      "[0.37358305830864685, 0.0, 0.0, 109.17203200913524, array(64.0625), array(53.90625), array(105.74904883), array(105.74904883), array(2899.72941081), 40.78482159974223, array(0.16218066), array(6063.49997677), array(2.09105717), 2952.2705078125, array(-102.), array(88.), array(26462290.), array(3.46939551), array(124.), array(2.15917518), array(193.), array(63.40398731), array(3.99834608), array(20.), array(-253.), array(446.), array(49.55057648), array(73.96489901), array(-0.35134778), array(16151300.04882812), array(0.10258209), array(5454.81951349), array(143.81666624), array(2326.8312326), array(-63.02249268), array(33.4198296), array(1.93839666), array(0.8903656), array(1.01567756), array(1.80490929), array(0.88677125), array(0.61182608), array(0.57913425), array(0.99474319), array(0.95130533), array(-0.317818), array(0.94024209), array(0.49371322), array(11.65960091), array(0.02456543), array(5.83968418), array(0.90064137), array(0.0645715), array(23.31920182), array(4.40085973), array(8.83955657), array(6.05295547), array(847.42050858), array(0.17519547), array(2.63142703), array(496.18958032), array(8.82354913), array(145.25966508), array(14.61587761), array(2164.73165185), array(0.13569276), array(0.00982778), array(0.20038231), array(28.40380243), array(0.00226364), array(331.37202298), array(0.09898847), array(8.76050417), array(144.25940314), array(2.86532492), array(421.80400235), array(0.02721946), array(0.01005109), array(4.75332804), array(1834.88998211), array(0.54540475), array(0.69226793), array(0.75936712), array(0.7652058), array(109.89438418), array(0.00783388), array(106.91829485), array(0.09495408), array(8.71352404), array(141.14742451), array(204.35257549), array(35099.73801066), array(1.48990932), array(0.01119593), array(272.02841918), array(0.24158829), array(0.49692409), array(69.40404121), array(0.00624107), array(6.21784005), array(0.23278892), array(185.89921806), array(1.17853688), array(0.00328106), array(103.93404613), array(0.03340776), array(0.50535986), 0]\n",
      "pancreas_healthy_0032.dcm\n",
      "[0.37271010863310156, 0.0, 0.0, 120.72526021395569, array(96.6796875), array(34.1796875), array(108.12976981), array(108.12976981), array(2227.62425741), 44.995524849102885, array(0.17166774), array(4804.96321789), array(2.15698999), 2311.70654296875, array(-101.7), array(114.), array(17147422.), array(3.48042727), array(148.), array(1.85446894), array(202.), array(74.66223423), array(-8.50577558), array(-36.), array(-150.), array(352.), array(61.19459087), array(84.10718743), array(0.43090353), array(16353055.95397949), array(0.10399648), array(7001.67075872), array(47.71792389), array(3306.41293532), array(128.07531082), array(42.25423469), array(2.47568368), array(0.88927841), array(1.14021381), array(1.94595389), array(1.1640413), array(0.58798712), array(0.54973243), array(0.98950596), array(0.93323752), array(-0.29177239), array(0.93011192), array(0.48571063), array(6.14599419), array(0.02478752), array(5.93435985), array(0.90502092), array(0.07252973), array(12.29198838), array(4.34759663), array(11.18247959), array(5.88490539), array(456.9620462), array(0.1885157), array(2.17038362), array(252.08745875), array(11.28830711), array(49.48927393), array(12.27145215), array(580.68481848), array(0.88081378), array(0.07866939), array(0.24167863), array(12.10721155), array(0.02454659), array(171.79032172), array(0.09739189), array(11.20827567), array(50.09277114), array(2.46167171), array(118.75359176), array(0.18521276), array(0.08144687), array(4.64511837), array(1025.52105211), array(0.58021703), array(0.72772277), array(0.5659173), array(0.78950188), array(39.8291168), array(0.06636263), array(57.18429003), array(0.0863811), array(10.92699273), array(51.77492447), array(78.3141994), array(2421.45015106), array(6.52902404), array(0.09980751), array(205.80362538), array(0.31088161), array(0.57703448), array(28.48954248), array(0.06870445), array(5.9116422), array(0.27310231), array(64.90665474), array(2.65083153), array(0.0055811), array(73.84238988), array(0.08479604), array(0.52196112), 0]\n",
      "pancreas_healthy_0033.dcm\n"
     ]
    },
    {
     "name": "stderr",
     "output_type": "stream",
     "text": [
      "Image/Mask geometry mismatch, attempting to correct Mask\n",
      "parameter force2D must be set to True to enable shape2D extraction\n",
      "GLCM is symmetrical, therefore Sum Average = 2 * Joint Average, only 1 needs to be calculated\n",
      "Image/Mask geometry mismatch, attempting to correct Mask\n",
      "parameter force2D must be set to True to enable shape2D extraction\n",
      "GLCM is symmetrical, therefore Sum Average = 2 * Joint Average, only 1 needs to be calculated\n"
     ]
    },
    {
     "name": "stdout",
     "output_type": "stream",
     "text": [
      "[0.2992981821488835, 0.0, 0.0, 120.99491244966043, array(33.3984375), array(78.671875), array(106.8466488), array(106.8466488), array(2334.2859904), 36.21355734544668, array(0.17266346), array(4928.55623671), array(2.11137635), 2381.842041015625, array(-74.), array(107.), array(1.82835071e+08), array(3.64404055), array(80.), array(13.94833134), array(179.), array(109.87205492), array(-11.18755782), array(40.), array(-970.), array(1149.), array(35.54493847), array(205.63020559), array(-3.36003008), array(1.00713288e+08), array(0.11356489), array(42158.62000245), array(1591.86151021), array(943969.99222772), array(-14013.38989461), array(258.25253535), array(7.35836422), array(0.94453452), array(1.27998527), array(2.05509283), array(5.67299036), array(0.65070498), array(0.6253936), array(0.99688157), array(0.97548512), array(-0.38115999), array(0.96645278), array(0.42545245), array(39.10419003), array(0.0334148), array(5.89550392), array(0.95419252), array(0.08132574), array(78.20838007), array(4.59689096), array(66.40272489), array(6.40168805), array(584.61147086), array(0.13520154), array(4.23486643), array(491.05457909), array(67.5898641), array(1594.45814061), array(21.16188714), array(35232.44657724), array(0.31344242), array(0.00894859), array(0.17973727), array(242.2159496), array(0.00104301), array(271.39462979), array(0.10277613), array(78.69290994), array(1549.11362085), array(4.24656075), array(6942.20373694), array(0.05394487), array(0.006469), array(5.30259686), array(1277.69286442), array(0.48056733), array(0.61071924), array(1.51677531), array(0.7191488), array(1081.27548856), array(0.00345961), array(56.67251462), array(0.06628364), array(124.39222188), array(1340.89239766), array(216.63625731), array(367443.08187135), array(1.13046351), array(0.00578412), array(252.69824561), array(0.2955535), array(0.5625115), array(665.49559211), array(0.00320573), array(6.78536623), array(0.19773358), array(191.05987347), array(0.07320177), array(0.00446207), array(835.99159206), array(0.03940164), array(16.51899277), 0]\n",
      "pancreas_healthy_0034.dcm\n",
      "[0.27386314387771366, 0.0, 0.0, 107.52120501510971, array(40.664), array(46.92), array(98.06230112), array(98.06230112), array(2174.52838367), 29.44609523895814, array(0.1776616), array(4568.78387665), array(2.10104587), 2216.162976, array(96.), array(209.), array(1.15680188e+08), array(2.42500657), array(30.), array(9.85251409), array(239.), array(38.69306902), array(167.8084989), array(187.), array(-132.), array(371.), array(15.82287203), array(178.66331934), array(-2.61468321), array(70741211.286512), array(0.28459811), array(3760.88937589), array(181.14470734), array(5392.71577827), array(-296.08801604), array(23.17695156), array(0.80087421), array(0.9331316), array(0.58353648), array(1.34390253), array(0.45210591), array(0.73935137), array(0.72946105), array(0.99691662), array(0.96636115), array(-0.34729545), array(0.89868759), array(0.43803189), array(13.24955329), array(0.13040209), array(3.99172103), array(0.96015804), array(0.29025764), array(26.49910657), array(3.22352506), array(5.99445644), array(5.08734238), array(501.07671082), array(0.1382662), array(3.84965206), array(1031.38355408), array(6.09579616), array(181.25634658), array(27.99613687), array(5375.11396247), array(0.20347576), array(0.00931768), array(0.09073619), array(14.14053079), array(0.00126846), array(387.61481304), array(0.2091405), array(7.77218319), array(172.98525913), array(6.41767134), array(1212.2478949), array(0.04981409), array(0.0109001), array(4.61003717), array(684.69591171), array(0.36426917), array(0.51076159), array(2.45177117), array(0.61125161), array(100.45245618), array(0.00762422), array(47.82719547), array(0.13548781), array(11.39648019), array(148.14730878), array(5151.43342776), array(1011341.64589235), array(26.81733697), array(0.01693771), array(52.55240793), array(0.14887368), array(0.33808415), array(45.52168935), array(0.00607115), array(6.30743865), array(0.09740618), array(5046.03673892), array(0.96942876), array(0.00309676), array(63.25478538), array(0.02035028), array(1.09687975), 0]\n",
      "pancreas_healthy_0035.dcm\n"
     ]
    },
    {
     "name": "stderr",
     "output_type": "stream",
     "text": [
      "parameter force2D must be set to True to enable shape2D extraction\n",
      "GLCM is symmetrical, therefore Sum Average = 2 * Joint Average, only 1 needs to be calculated\n",
      "Image/Mask geometry mismatch, attempting to correct Mask\n",
      "parameter force2D must be set to True to enable shape2D extraction\n",
      "GLCM is symmetrical, therefore Sum Average = 2 * Joint Average, only 1 needs to be calculated\n"
     ]
    },
    {
     "name": "stdout",
     "output_type": "stream",
     "text": [
      "[0.20620772147515698, 0.0, 0.0, 132.68362769428026, array(50.703125), array(30.078125), array(118.86122464), array(118.86122464), array(1999.12668864), 27.360388543895567, array(0.17987016), array(4266.63224008), array(2.13424805), 2055.316162109375, array(68.), array(145.), array(34230392.), array(2.44649128), array(40.), array(7.86344272), array(224.), array(25.41116364), array(105.22601509), array(107.), array(-129.), array(353.), array(16.50595704), array(110.90454212), array(-1.1633122), array(25280013.62304688), array(0.22691166), array(1227.30321111), array(116.37283456), array(233.20314388), array(-14.85485923), array(4.78073171), array(2.62432627), array(0.2906146), array(1.22738819), array(1.98632431), array(1.10938419), array(0.56215624), array(0.51659502), array(0.98878832), array(0.92808343), array(-0.03594706), array(0.38921762), array(0.47784203), array(10.76260759), array(0.05620944), array(4.71273973), array(0.59366789), array(0.114368), array(21.52521518), array(3.02467163), array(1.85126449), array(4.64929368), array(561.87172116), array(0.20189426), array(1.96322392), array(631.49514912), array(2.04887897), array(117.22349982), array(10.72763205), array(1255.65181459), array(0.09722475), array(0.00987449), array(0.26704306), array(30.80560267), array(0.00320658), array(434.20334159), array(0.20665153), array(2.36328481), array(117.17398335), array(2.22773043), array(260.99648521), array(0.02117223), array(0.01015335), array(3.56742308), array(1293.50715234), array(0.61474083), array(0.75494071), array(0.46851599), array(0.81187268), array(95.04280271), array(0.00844495), array(138.11860465), array(0.16060303), array(3.95867361), array(116.04767442), array(54.63604651), array(6446.28953488), array(0.47462779), array(0.01177202), array(273.86511628), array(0.31844781), array(0.57967958), array(65.97805392), array(0.0077811), array(5.06200663), array(0.30901904), array(44.16404949), array(2.03659177), array(0.00229438), array(90.77892078), array(0.02063522), array(0.27004329), 0]\n",
      "pancreas_healthy_0036.dcm\n",
      "[0.28933301891241625, 0.0, 0.0, 101.62049442460972, array(36.9140625), array(49.21875), array(104.72406369), array(104.72406369), array(1885.94970703), 29.402164435244693, array(0.18446584), array(4001.79576536), array(2.12189951), 1932.60498046875, array(-938.9), array(132.), array(4.02374208e+08), array(4.29445126), array(177.), array(4.27964725), array(228.), array(263.705424), array(-107.9178273), array(43.), array(-1024.), array(1252.), array(142.49808996), array(374.302605), array(-1.69215397), array(2.70762674e+08), array(0.07432777), array(128456.18266269), array(1588.01147223), array(2752821.19275926), array(-38195.6059285), array(785.75203219), array(18.05164088), array(0.95487649), array(2.16874998), array(2.63405883), array(13.15452447), array(0.53036156), array(0.48370521), array(0.99378794), array(0.96284829), array(-0.35363531), array(0.9744209), array(0.42519287), array(37.36420332), array(0.01602071), array(7.06831699), array(0.96257892), array(0.06067997), array(74.72840664), array(5.20677901), array(200.95091827), array(6.52969646), array(546.64693593), array(0.19033668), array(2.50786142), array(213.46935933), array(205.87299221), array(1590.40215877), array(11.20543175), array(18068.07068245), array(0.32330843), array(0.02427231), array(0.30123988), array(434.85321957), array(0.00561686), array(145.13452402), array(0.06679234), array(196.80466706), array(1577.33027736), array(2.28234692), array(3635.12239526), array(0.06194515), array(0.02297029), array(5.39818457), array(1371.24518554), array(0.62991761), array(0.75635446), array(0.52717523), array(0.82127393), array(1281.21717707), array(0.01842901), array(50.65174129), array(0.05039974), array(183.6619351), array(1482.67263682), array(52.15522388), array(73497.12736318), array(2.45746975), array(0.01853598), array(363.81393035), array(0.36200391), array(0.62354938), array(842.66197146), array(0.01011729), array(6.68125009), array(0.34993036), array(43.98870919), array(0.06230384), array(0.00535622), array(1683.03883231), array(0.18928107), array(16.60835609), 0]\n"
     ]
    },
    {
     "name": "stderr",
     "output_type": "stream",
     "text": [
      "Image/Mask geometry mismatch, attempting to correct Mask\n"
     ]
    },
    {
     "name": "stdout",
     "output_type": "stream",
     "text": [
      "pancreas_healthy_0037.dcm\n"
     ]
    },
    {
     "name": "stderr",
     "output_type": "stream",
     "text": [
      "parameter force2D must be set to True to enable shape2D extraction\n",
      "GLCM is symmetrical, therefore Sum Average = 2 * Joint Average, only 1 needs to be calculated\n",
      "Image/Mask geometry mismatch, attempting to correct Mask\n"
     ]
    },
    {
     "name": "stdout",
     "output_type": "stream",
     "text": [
      "[0.4052899852036314, 0.0, 0.0, 105.81833607162473, array(95.7421875), array(50.46875), array(109.1697013), array(109.1697013), array(3019.80921427), 42.88711186074168, array(0.16039027), array(6299.30235844), array(2.08599349), 3068.7423706054688, array(-960.), array(66.), array(1.3812391e+09), array(4.16853096), array(862.), array(1.961424), array(170.), array(372.96571473), array(-268.35541195), array(-30.), array(-1000.), array(1170.), array(316.52307777), array(497.9294951), array(-0.90558429), array(7.60844902e+08), array(0.07601134), array(175919.15496039), array(1165.46235546), array(2476492.60637772), array(-34086.39334859), array(1127.0900941), array(6.07168555), array(0.98928803), array(1.2759541), array(2.08459821), array(4.39936644), array(0.62839905), array(0.59984866), array(0.99739377), array(0.97515737), array(-0.44767459), array(0.98733903), array(0.44810969), array(29.75240229), array(0.02306492), array(6.45436716), array(0.99054647), array(0.07765282), array(59.50480458), array(5.09015108), array(283.29044491), array(6.73184172), array(801.52988691), array(0.14387541), array(3.80515124), array(423.45916353), array(281.91621592), array(1169.08131395), array(18.55124753), array(19906.78621432), array(1.74528237), array(0.06969201), array(0.20296941), array(213.63485525), array(0.00981586), array(235.3356259), array(0.06545354), array(251.69217412), array(1192.51712994), array(3.64567623), array(3911.36933757), array(0.32765223), array(0.0599713), array(5.7190511), array(1858.7480018), array(0.51517062), array(0.64499192), array(1.22014751), array(0.74488799), array(883.71394903), array(0.04048792), array(52.58837772), array(0.04244421), array(211.00048661), array(1080.60774818), array(495.8054883), array(183146.36158192), array(97.81550753), array(0.04800099), array(405.44390638), array(0.32723479), array(0.59230132), array(552.16541157), array(0.02559448), array(7.09978578), array(0.22240172), array(475.58816276), array(0.10243604), array(0.0044516), array(854.69909494), array(0.18006045), array(12.20413983), 0]\n",
      "pancreas_healthy_0038.dcm\n"
     ]
    },
    {
     "name": "stderr",
     "output_type": "stream",
     "text": [
      "parameter force2D must be set to True to enable shape2D extraction\n",
      "GLCM is symmetrical, therefore Sum Average = 2 * Joint Average, only 1 needs to be calculated\n",
      "Image/Mask geometry mismatch, attempting to correct Mask\n",
      "parameter force2D must be set to True to enable shape2D extraction\n",
      "GLCM is symmetrical, therefore Sum Average = 2 * Joint Average, only 1 needs to be calculated\n"
     ]
    },
    {
     "name": "stdout",
     "output_type": "stream",
     "text": [
      "[0.27563809235885206, 0.0, 0.0, 179.51345360950558, array(121.21), array(32.062), array(159.88983964), array(159.88983964), array(3133.55089667), 49.4807459056734, array(0.1549682), array(6682.40354675), array(2.13253391), 3215.3931920000005, array(-953.3), array(182.), array(8.32278056e+08), array(4.88344214), array(375.), array(3.3992427), array(254.), array(266.81836412), array(-188.91403576), array(-101.), array(-991.), array(1245.), array(178.62746181), array(397.85418539), array(-1.13937994), array(5.08958006e+08), array(0.04015913), array(122599.43992852), array(1274.86710939), array(2076991.99617912), array(-24822.26105513), array(784.38572091), array(5.67379771), array(0.98566096), array(1.3341206), array(2.22235008), array(3.81858703), array(0.62066702), array(0.58420965), array(0.99788873), array(0.97574233), array(-0.49975705), array(0.99590822), array(0.3922585), array(32.86613506), array(0.01390252), array(7.32664158), array(0.98919206), array(0.07859006), array(65.73227011), array(5.81640323), array(197.51487965), array(7.42898632), array(721.57892735), array(0.13723449), array(4.95673242), array(211.15671358), array(196.23322786), array(1283.26340814), array(19.93001141), array(23628.54298212), array(1.62566529), array(0.04039333), array(0.22413335), array(271.92352999), array(0.00323265), array(118.07230437), array(0.03502236), array(131.40296643), array(1304.82208954), array(4.2798098), array(4737.74373868), array(0.36145727), array(0.0243447), array(6.24625167), array(1834.12962206), array(0.54042561), array(0.64130848), array(1.80997864), array(0.76247861), array(981.61671561), array(0.0133992), array(51.23782235), array(0.03670331), array(98.59635543), array(1215.0465616), array(274.14899713), array(195293.1482808), array(44.77358826), array(0.01525283), array(439.48137536), array(0.31481474), array(0.57809357), array(669.29198494), array(0.00586581), array(7.1536452), array(0.26550019), array(259.96265835), array(0.05889323), array(0.00861062), array(800.53428089), array(0.10085184), array(13.66197856), 0]\n",
      "pancreas_healthy_0039.dcm\n",
      "[0.20870674168723877, 0.0, 0.0, 130.1515387109161, array(65.5859375), array(32.34375), array(122.2007116), array(122.2007116), array(2237.66504924), 27.163503569935823, array(0.17466813), array(4736.60507747), array(2.11676233), 2294.0338134765625, array(-58.), array(160.), array(33190896.), array(3.50786751), array(91.), array(2.9129579), array(261.), array(61.79302718), array(74.31597467), array(92.5), array(-151.), array(412.), array(42.07933118), array(108.06808394), array(-0.77620932), array(26791357.39746094), array(0.10679533), array(6155.84667655), array(117.95623641), array(3779.29145008), array(-182.19460138), array(36.06643849), array(3.63796571), array(0.81683877), array(1.45718888), array(2.18156462), array(1.49309657), array(0.52403562), array(0.46792951), array(0.98917648), array(0.9286205), array(-0.21029759), array(0.87470177), array(0.44607002), array(10.48088798), array(0.01899253), array(6.28061949), array(0.85987275), array(0.04601497), array(20.96177596), array(4.36662827), array(9.92610105), array(5.74668896), array(624.55172414), array(0.21975782), array(1.69391866), array(303.51231527), array(9.90792184), array(119.98803659), array(8.95847994), array(1100.40394089), array(0.13139319), array(0.01662773), array(0.31313453), array(36.8747818), array(0.00622981), array(230.31186141), array(0.10283889), array(10.11532075), array(119.29812624), array(1.97125241), array(238.91991931), array(0.03114743), array(0.01716527), array(4.4639852), array(1470.60092876), array(0.65603967), array(0.78808937), array(0.35891847), array(0.83731417), array(99.48441467), array(0.01473418), array(94.96786389), array(0.08976169), array(11.21966134), array(117.22400756), array(24.77504726), array(3034.93572779), array(0.33310875), array(0.0197778), array(357.08884688), array(0.33751309), array(0.59955442), array(70.35095798), array(0.01300025), array(5.7974815), array(0.37227305), array(17.55937479), array(1.22650323), array(0.00366289), array(134.48318307), array(0.06535571), array(0.47454251), 0]\n",
      "pancreas_healthy_0040.dcm\n"
     ]
    },
    {
     "name": "stderr",
     "output_type": "stream",
     "text": [
      "Image/Mask geometry mismatch, attempting to correct Mask\n",
      "parameter force2D must be set to True to enable shape2D extraction\n",
      "GLCM is symmetrical, therefore Sum Average = 2 * Joint Average, only 1 needs to be calculated\n",
      "Image/Mask geometry mismatch, attempting to correct Mask\n",
      "parameter force2D must be set to True to enable shape2D extraction\n",
      "GLCM is symmetrical, therefore Sum Average = 2 * Joint Average, only 1 needs to be calculated\n",
      "Image/Mask geometry mismatch, attempting to correct Mask\n"
     ]
    },
    {
     "name": "stdout",
     "output_type": "stream",
     "text": [
      "[0.3649052510158131, 0.0, 0.0, 94.57565676649611, array(61.71875), array(34.375), array(90.49357388), array(90.49357388), array(1469.82828776), 34.51115377236365, array(0.19573124), array(3194.00089704), array(2.17304356), 1520.99609375, array(48.), array(156.), array(38987769.), array(2.96921664), array(67.), array(33.91448471), array(235.), array(46.17027522), array(88.6994382), array(93.), array(-734.), array(969.), array(27.36234341), array(125.08066258), array(-4.776437), array(23796245.72753906), array(0.16172458), array(7777.58181349), array(1173.70891952), array(74362.30466807), array(-1533.0238113), array(47.10941645), array(3.34390074), array(0.86771655), array(1.00135145), array(1.76980156), array(2.32648942), array(0.64589991), array(0.62365518), array(0.99802001), array(0.97673224), array(-0.3127737), array(0.91707208), array(0.49810115), array(34.09937512), array(0.04903682), array(5.00381618), array(0.8972297), array(0.08973556), array(68.19875025), array(3.81541508), array(12.6133293), array(5.51406507), array(395.2576244), array(0.1586106), array(3.01550322), array(403.0176565), array(12.53397501), array(1173.6970305), array(17.12921348), array(20596.38964687), array(0.01546343), array(0.00149632), array(0.18992632), array(206.79741782), array(0.00069401), array(240.858608), array(0.14741567), array(16.94795572), array(1159.05773051), array(3.29520668), array(3922.56858665), array(0.00382776), array(0.00181364), array(4.47437238), array(829.88374337), array(0.50584444), array(0.65539727), array(0.94805846), array(0.73671217), array(843.86580284), array(0.00156866), array(54.16260163), array(0.11008659), array(39.51321964), array(1078.13414634), array(307.78861789), array(380862.1199187), array(0.25501257), array(0.00375712), array(159.77642276), array(0.32474883), array(0.58998039), array(608.01161298), array(0.00309783), array(5.88439438), array(0.19743178), array(282.1339811), array(0.10672687), array(0.00440216), array(655.11688142), array(0.01297979), array(13.48845028), 0]\n",
      "pancreas_healthy_0041.dcm\n",
      "[0.15533569900087088, 0.0, 0.0, 133.68882741053, array(63.75), array(21.5625), array(118.89998752), array(118.89998752), array(1683.69140625), 20.766647454421467, array(0.18772056), array(3645.97717457), array(2.1654664), 1747.265625, array(-99.), array(96.3), array(13854058.), array(3.44318383), array(141.), array(2.2931322), array(228.), array(72.60040525), array(-3.29275654), array(-10.), array(-146.), array(374.), array(57.75703348), array(83.47959063), array(0.47146264), array(12176418.1640625), array(0.11009973), array(6957.99980669), array(51.16787049), array(4262.4901941), array(137.40801864), array(42.7647944), array(1.78830112), array(0.9196888), array(0.94999553), array(1.76931275), array(0.87719362), array(0.63196234), array(0.60364942), array(0.99321796), array(0.94669549), array(-0.36308123), array(0.95709124), array(0.48975226), array(6.39716342), array(0.0324927), array(5.62907252), array(0.93867867), array(0.10423973), array(12.79432684), array(4.30105964), array(11.13827388), array(5.9268048), array(323.86519115), array(0.16291006), array(2.89761405), array(218.87826962), array(11.18364184), array(52.14235412), array(15.83299799), array(800.43410463), array(1.02832288), array(0.06525283), array(0.20359437), array(10.67971358), array(0.01537583), array(133.20009773), array(0.09918609), array(10.93406469), array(52.57172536), array(3.02331261), array(152.41091633), array(0.19866847), array(0.06598056), array(4.78335443), array(706.19739448), array(0.52459647), array(0.67542757), array(0.82100628), array(0.75083118), array(39.36003837), array(0.05050888), array(44.0467706), array(0.09809971), array(10.3746906), array(52.69710468), array(166.95768374), array(6842.94654788), array(12.45748836), array(0.07413688), array(132.25612472), array(0.29455707), array(0.56045576), array(29.44157115), array(0.04734128), array(5.80336168), array(0.22585513), array(147.35389209), array(1.41039302), array(0.00794382), array(71.47788714), array(0.06047811), array(0.91391321), 0]\n",
      "pancreas_healthy_0042.dcm\n"
     ]
    },
    {
     "name": "stderr",
     "output_type": "stream",
     "text": [
      "parameter force2D must be set to True to enable shape2D extraction\n",
      "GLCM is symmetrical, therefore Sum Average = 2 * Joint Average, only 1 needs to be calculated\n",
      "Image/Mask geometry mismatch, attempting to correct Mask\n",
      "parameter force2D must be set to True to enable shape2D extraction\n"
     ]
    },
    {
     "name": "stdout",
     "output_type": "stream",
     "text": [
      "[0.4934210069721724, 0.0, 0.0, 112.39928182285308, array(69.7265625), array(79.296875), array(109.65875059), array(109.65875059), array(3313.35465113), 55.46016681998116, array(0.15523896), array(6923.54755214), array(2.08958843), 3365.964889526367, array(-609.), array(223.), array(7.19602873e+08), array(4.52075656), array(165.), array(6.33856925), array(423.), array(201.05974999), array(-30.62987644), array(50.), array(-987.), array(1410.), array(77.51140029), array(316.07470182), array(-2.07513234), array(3.36270721e+08), array(0.05724467), array(98965.027801), array(1700.24865017), array(2514489.86563155), array(-32806.0154134), array(630.56112967), array(4.3713957), array(0.9862383), array(0.92783414), array(1.74410293), array(3.47082848), array(0.71390007), array(0.69785969), array(0.99870617), array(0.98487569), array(-0.56822581), array(0.99689991), array(0.39854363), array(39.28996314), array(0.02075505), array(6.47619209), array(0.98912368), array(0.05848833), array(78.57992628), array(5.47014124), array(158.73313134), array(7.32665801), array(890.16923504), array(0.12358312), array(4.76722294), array(412.33333333), array(158.23260038), array(1702.10176315), array(28.20422046), array(48737.29543246), array(0.70571224), array(0.01810799), array(0.12734342), array(180.09872933), array(0.00165677), array(200.25033408), array(0.05341005), array(146.63617585), array(1664.01876648), array(6.80662912), array(11344.83905297), array(0.1854817), array(0.01428283), array(6.43847768), array(1497.70119949), array(0.39427198), array(0.51985284), array(2.95358967), array(0.64680698), array(1033.07783369), array(0.00854976), array(30.26096491), array(0.03318088), array(204.50064924), array(1368.11842105), array(726.61513158), array(1243401.72039474), array(22.87026642), array(0.01519451), array(261.41666667), array(0.28664108), array(0.55425351), array(654.90775893), array(0.00618949), array(7.54224244), array(0.12661391), array(664.23631189), array(0.04920574), array(0.00607127), array(779.83558392), array(0.04741277), array(17.69995446), 0]\n",
      "pancreas_healthy_0043.dcm\n"
     ]
    },
    {
     "name": "stderr",
     "output_type": "stream",
     "text": [
      "GLCM is symmetrical, therefore Sum Average = 2 * Joint Average, only 1 needs to be calculated\n",
      "Image/Mask geometry mismatch, attempting to correct Mask\n",
      "parameter force2D must be set to True to enable shape2D extraction\n",
      "GLCM is symmetrical, therefore Sum Average = 2 * Joint Average, only 1 needs to be calculated\n",
      "Image/Mask geometry mismatch, attempting to correct Mask\n"
     ]
    },
    {
     "name": "stdout",
     "output_type": "stream",
     "text": [
      "[0.37958091010601164, 0.0, 0.0, 123.43508221713256, array(64.124), array(84.456), array(112.36880151), array(112.36880151), array(2603.51246967), 46.85360084698955, array(0.16508009), array(5544.07629975), array(2.12946024), 2671.136832, array(-772.3), array(162.), array(4.90905233e+08), array(4.54677772), array(162.), array(4.93838202), array(279.), array(231.53590171), array(-71.61881868), array(45.), array(-976.), array(1255.), array(110.36653437), array(335.24129991), array(-1.80523815), array(3.00200332e+08), array(0.05928942), array(107257.47397736), array(1582.84739901), array(2261105.57867214), array(-31665.64581487), array(679.52349152), array(12.79959729), array(0.96306537), array(1.73280937), array(2.36441344), array(9.66952022), array(0.61268859), array(0.58154806), array(0.99556083), array(0.970528), array(-0.45639744), array(0.99154549), array(0.40735269), array(37.63195498), array(0.01664263), array(7.03000468), array(0.96749302), array(0.05268917), array(75.26390995), array(5.53436699), array(173.0807722), array(7.15753478), array(614.42948718), array(0.14066609), array(4.0842516), array(258.97619048), array(171.71396348), array(1590.18131868), array(18.6456044), array(31800.01556777), array(0.25640569), array(0.01124925), array(0.22261605), array(282.49187647), array(0.00186068), array(144.9752038), array(0.05114532), array(172.9553831), array(1526.8427871), array(3.58238643), array(5932.93584528), array(0.04613954), array(0.01016319), array(6.0594341), array(1473.69714862), array(0.51746633), array(0.64800824), array(1.16409794), array(0.74654706), array(1095.67681988), array(0.00696525), array(35.93640553), array(0.03312111), array(184.36432797), array(1275.98156682), array(105.35483871), array(183763.24239631), array(1.35357653), array(0.00877587), array(385.99170507), array(0.35575272), array(0.62009373), array(685.89804456), array(0.00465387), array(7.21846162), array(0.24839744), array(89.14772112), array(0.04971469), array(0.00691031), array(1042.75860336), array(0.10244162), array(15.69805897), 0]\n",
      "pancreas_healthy_0044.dcm\n",
      "[0.22180743117699128, 0.0, 0.0, 172.56567790751345, array(124.09179688), array(27.47070312), array(139.89096108), array(139.89096108), array(1862.14706898), 38.27634972598163, array(0.18208223), array(4019.9983304), array(2.15879744), 1932.810401916504, array(-104.), array(134.), array(18953799.), array(3.54615641), array(179.), array(1.56069592), array(210.), array(85.58291111), array(4.61699164), array(-20.5), array(-166.), array(376.), array(73.34815357), array(93.80484839), array(0.23501278), array(17007474.40252304), array(0.09693481), array(8778.03297034), array(71.74994766), array(4202.74451557), array(97.58852233), array(52.95484755), array(3.18996266), array(0.88628479), array(1.3203242), array(2.0950234), array(1.43019955), array(0.55167517), array(0.50428561), array(0.98814555), array(0.92789703), array(-0.27330952), array(0.92429455), array(0.47072372), array(7.7011805), array(0.02057024), array(6.13230539), array(0.91041058), array(0.05751701), array(15.402361), array(4.36896404), array(14.03620255), array(5.83780945), array(435.99442897), array(0.20241153), array(1.95661803), array(208.79758589), array(14.07174943), array(73.59935005), array(10.18291551), array(738.95775302), array(0.3824078), array(0.0396156), array(0.29369071), array(21.59503969), array(0.01343441), array(151.61082013), array(0.09183911), array(13.96031594), array(73.85484688), array(2.13632407), array(156.91818876), array(0.08249502), array(0.04031804), array(4.57310506), array(1042.6841749), array(0.63022544), array(0.76648097), array(0.42819004), array(0.82148289), array(60.86915608), array(0.03364171), array(59.08033241), array(0.08182872), array(13.2225217), array(74.43905817), array(43.89196676), array(2323.12603878), array(2.16811331), array(0.04402217), array(255.09418283), array(0.35331604), array(0.61625848), array(44.74955452), array(0.0306473), array(5.77640268), array(0.33519034), array(34.99141351), array(1.57439769), array(0.00587221), array(94.27897945), array(0.1074972), array(0.58239783), 0]\n",
      "pancreas_healthy_0045.dcm\n"
     ]
    },
    {
     "name": "stderr",
     "output_type": "stream",
     "text": [
      "parameter force2D must be set to True to enable shape2D extraction\n",
      "GLCM is symmetrical, therefore Sum Average = 2 * Joint Average, only 1 needs to be calculated\n",
      "Image/Mask geometry mismatch, attempting to correct Mask\n",
      "parameter force2D must be set to True to enable shape2D extraction\n",
      "GLCM is symmetrical, therefore Sum Average = 2 * Joint Average, only 1 needs to be calculated\n"
     ]
    },
    {
     "name": "stdout",
     "output_type": "stream",
     "text": [
      "[0.16085975574505032, 0.0, 0.0, 135.2779091397174, array(66.5625), array(23.4375), array(127.12029859), array(127.12029859), array(1746.31347656), 21.76077142191605, array(0.18524474), array(3785.7597355), array(2.16785805), 1814.0625, array(-107.), array(80.), array(12727848.), array(3.24278989), array(106.), array(2.4672587), array(176.), array(59.84449928), array(-34.1879845), array(-61.), array(-156.), array(332.), array(45.4826932), array(78.5276577), array(0.77656974), array(11186585.15625), array(0.12908066), array(4997.77473935), array(44.30482302), array(2187.16113449), array(133.39979445), array(29.6575696), array(1.94819223), array(0.87665924), array(1.03973822), array(1.81323094), array(0.85849664), array(0.60203483), array(0.56760242), array(0.99158908), array(0.9381922), array(-0.28753587), array(0.91722945), array(0.49994168), array(6.11370504), array(0.03409335), array(5.53739247), array(0.90271077), array(0.09610825), array(12.22741008), array(4.06902783), array(7.90144046), array(5.6678109), array(387.2994186), array(0.18764507), array(2.23433744), array(266.42248062), array(8.03015049), array(45.87887597), array(12.87887597), array(538.45542636), array(0.61566078), array(0.04743184), array(0.22403923), array(11.32304058), array(0.01147416), array(177.61954542), array(0.11998525), array(8.23729805), array(47.17483177), array(2.54645666), array(111.16780188), array(0.12162418), array(0.04751568), array(4.45571588), array(839.61964778), array(0.5658871), array(0.71717539), array(0.59409525), array(0.77947419), array(37.48520043), array(0.03724304), array(53.58733205), array(0.10285476), array(9.23632023), array(52.90786948), array(102.16506718), array(2601.80806142), array(6.30541939), array(0.0494976), array(148.67370441), array(0.2853622), array(0.55037703), array(29.04458533), array(0.03028959), array(5.82717856), array(0.25242248), array(86.47069529), array(2.36837674), array(0.00573903), array(73.03339206), array(0.05613485), array(0.59627258), 0]\n",
      "pancreas_healthy_0046.dcm\n"
     ]
    },
    {
     "name": "stderr",
     "output_type": "stream",
     "text": [
      "Image/Mask geometry mismatch, attempting to correct Mask\n",
      "parameter force2D must be set to True to enable shape2D extraction\n",
      "GLCM is symmetrical, therefore Sum Average = 2 * Joint Average, only 1 needs to be calculated\n",
      "Image/Mask geometry mismatch, attempting to correct Mask\n"
     ]
    },
    {
     "name": "stdout",
     "output_type": "stream",
     "text": [
      "[0.23049700406792892, 0.0, 0.0, 127.86930320311048, array(54.74), array(39.1), array(117.37556899), array(117.37556899), array(2425.81378733), 29.47349130057059, array(0.1695354), array(5149.85923187), array(2.12294087), 2485.233536, array(-950.), array(119.), array(8.04419352e+08), array(4.5314969), array(355.), array(2.61684056), array(283.), array(326.93129999), array(-203.20472441), array(-42.), array(-991.), array(1274.), array(240.1848294), array(444.90204841), array(-1.13714479), array(4.9192174e+08), array(0.0579327), array(156645.67265485), array(1290.66214528), array(2590963.55760972), array(-35744.02204836), array(996.14621439), array(12.83474236), array(0.97457305), array(1.79347347), array(2.48175229), array(9.51213918), array(0.59607891), array(0.55803791), array(0.99557995), array(0.96935688), array(-0.42465027), array(0.98855253), array(0.38200938), array(32.32388042), array(0.01655186), array(7.12871606), array(0.98037543), array(0.06434251), array(64.64776084), array(5.46550413), array(252.24523919), array(7.04139798), array(568.59104331), array(0.13990921), array(4.61647087), array(235.43848425), array(250.62737514), array(1299.94734252), array(18.45472441), array(20102.56003937), array(1.38862422), array(0.04139619), array(0.25210139), array(318.49473304), array(0.00492251), array(136.98320146), array(0.05102966), array(199.4566964), array(1362.94722485), array(3.69569372), array(4052.97152833), array(0.26884417), array(0.02923565), array(5.92632564), array(1480.64484355), array(0.54896033), array(0.66000246), array(1.36459222), array(0.76872215), array(1056.25689284), array(0.01844885), array(47.93390558), array(0.04114498), array(169.16804509), array(1305.40772532), array(166.76051502), array(85754.70729614), array(26.39666358), array(0.02053719), array(442.39914163), array(0.37974175), array(0.64069664), array(763.15462615), array(0.00996004), array(6.94846276), array(0.28666339), array(154.59149662), array(0.06054687), array(0.00664291), array(1126.89256921), array(0.1579184), array(15.63935702), 0]\n",
      "pancreas_healthy_0047.dcm\n",
      "[0.1736161400080182, 0.0, 0.0, 129.1643849530487, array(82.8515625), array(23.7890625), array(118.60538712), array(118.60538712), array(1693.66493225), 22.425021942058066, array(0.18719541), array(3670.62983587), array(2.16727038), 1752.264404296875, array(-106.), array(117.), array(33206936.), array(3.61120807), array(155.), array(22.21687273), array(187.), array(81.10030887), array(-16.21351767), array(-36.), array(-990.), array(1177.), array(62.04450905), array(112.92599156), array(-2.64113329), array(22345365.56396484), array(0.0981932), array(12489.40141481), array(1601.64931068), array(94167.67092091), array(-1268.88800838), array(68.86249776), array(4.9961155), array(0.86353005), array(1.31431116), array(2.08122415), array(3.24125701), array(0.57776677), array(0.53801772), array(0.99795426), array(0.97445623), array(-0.30888328), array(0.94192629), array(0.47633641), array(39.82063066), array(0.02353942), array(6.06736041), array(0.92294706), array(0.07042765), array(79.64126132), array(4.45570732), array(18.46465332), array(6.02733915), array(471.57757296), array(0.18109738), array(2.52571313), array(255.69508449), array(20.01428088), array(1610.01459293), array(12.35023041), array(19682.56605223), array(0.01162511), array(0.0017402), array(0.26365959), array(419.91461258), array(0.00063244), array(171.79758809), array(0.08999153), array(22.67117129), array(1612.74866306), array(2.45827703), array(3938.03421925), array(0.00338534), array(0.00199045), array(4.78276083), array(1148.13580956), array(0.59986844), array(0.73319892), array(0.59038794), array(0.80215394), array(1293.57126623), array(0.00175065), array(58.59640103), array(0.07531671), array(35.57542575), array(1608.13624679), array(97.99485861), array(144658.98457584), array(0.07411278), array(0.00289992), array(267.95886889), array(0.34442014), array(0.60555947), array(953.47094797), array(0.00158579), array(5.97935641), array(0.29877112), array(86.79215707), array(0.07671323), array(0.00554613), array(931.54442203), array(0.0227658), array(14.05728592), 0]\n",
      "pancreas_healthy_0048.dcm\n"
     ]
    },
    {
     "name": "stderr",
     "output_type": "stream",
     "text": [
      "parameter force2D must be set to True to enable shape2D extraction\n",
      "GLCM is symmetrical, therefore Sum Average = 2 * Joint Average, only 1 needs to be calculated\n",
      "Image/Mask geometry mismatch, attempting to correct Mask\n",
      "parameter force2D must be set to True to enable shape2D extraction\n",
      "GLCM is symmetrical, therefore Sum Average = 2 * Joint Average, only 1 needs to be calculated\n",
      "Image/Mask geometry mismatch, attempting to correct Mask\n"
     ]
    },
    {
     "name": "stdout",
     "output_type": "stream",
     "text": [
      "[0.3717453091806282, 0.0, 0.0, 79.03305532477523, array(61.875), array(30.), array(80.10003511), array(80.10003511), array(1598.21777344), 29.38016758719826, array(0.19563401), array(3379.06909196), array(2.11427325), 1639.16015625, array(-76.), array(141.), array(14858713.), array(3.68270077), array(140.), array(1.99250137), array(265.), array(71.94356547), array(32.49490617), array(37.), array(-167.), array(432.), array(56.86823569), array(89.25882779), array(0.03899467), array(13059415.72265625), array(0.08434446), array(6911.21941105), array(85.9392235), array(3081.62286469), array(21.32205091), array(39.90349398), array(4.46366376), array(0.79878351), array(1.59361137), array(2.30506718), array(1.90078664), array(0.50725304), array(0.44775112), array(0.98689277), array(0.92295654), array(-0.207059), array(0.88103779), array(0.43449427), array(8.77947678), array(0.01333047), array(6.60297974), array(0.81388859), array(0.02997326), array(17.55895357), array(4.56103142), array(11.09178943), array(5.85939394), array(429.74530831), array(0.23042644), array(1.59023065), array(157.30241287), array(11.12717665), array(88.93565684), array(8.25576408), array(727.56514745), array(0.18313863), array(0.02420135), array(0.33471886), array(29.86020289), array(0.00866486), array(124.03041926), array(0.08289708), array(11.21487709), array(89.1017183), array(1.88701358), array(167.056672), array(0.04432521), array(0.02463456), array(4.56491332), array(1014.04669246), array(0.67719483), array(0.80227882), array(0.33049412), array(0.84987281), array(75.83013158), array(0.02122639), array(59.82795699), array(0.08041392), array(11.48297491), array(89.51075269), array(16.35349462), array(1476.17876344), array(0.35115029), array(0.02627705), array(260.17473118), array(0.34969722), array(0.61137914), array(54.5011374), array(0.01634098), array(5.76541805), array(0.39892761), array(10.06984731), array(1.09613718), array(0.00627366), array(140.6273288), array(0.07869547), array(0.68688603), 0]\n",
      "pancreas_healthy_0049.dcm\n",
      "[0.364205462151388, 0.0, 0.0, 88.76066842329872, array(52.109375), array(41.328125), array(89.68638562), array(89.68638562), array(1322.44618734), 32.327120263973626, array(0.2023227), array(2879.77254489), array(2.17761038), 1374.6444702148438, array(-36.), array(136.), array(12490680.), array(3.28459265), array(89.), array(2.32438463), array(212.), array(51.38135976), array(58.70111568), array(70.), array(-104.), array(316.), array(37.94411162), array(85.6417863), array(-0.33903255), array(10082351.25732422), array(0.11524376), array(3888.69457891), array(67.23473355), array(1227.1682989), array(-41.32921115), array(23.12923509), array(2.16620492), array(0.82884088), array(1.07446876), array(1.87722839), array(0.99396928), array(0.60117558), array(0.56482383), array(0.98939685), array(0.93261058), array(-0.26061126), array(0.90157139), array(0.48094607), array(7.87361581), array(0.02552554), array(5.72180969), array(0.85246213), array(0.06311194), array(15.74723162), array(4.18147735), array(6.32386), array(5.78897467), array(314.77334116), array(0.18483461), array(2.34174847), array(196.26012918), array(6.29113281), array(68.21315326), array(13.27480916), array(909.94421609), array(0.34479693), array(0.02700969), array(0.21593051), array(14.87924705), array(0.00644645), array(137.39785064), array(0.1133894), array(6.32556677), array(68.17493452), array(2.59274979), array(177.27373087), array(0.06870972), array(0.02745006), array(4.48314568), array(679.02566774), array(0.55767682), array(0.71168526), array(0.59846552), array(0.77375939), array(52.8015526), array(0.02157115), array(46.640553), array(0.10746671), array(6.74826923), array(67.50921659), array(53.55069124), array(3668.859447), array(1.32200075), array(0.0309104), array(107.52995392), array(0.24776487), array(0.50634113), array(35.07964716), array(0.0163646), array(5.89210893), array(0.25484439), array(38.15320457), array(1.17520707), array(0.00750918), array(56.93090048), array(0.05025432), array(0.51291976), 0]\n",
      "pancreas_healthy_0050.dcm\n"
     ]
    },
    {
     "name": "stderr",
     "output_type": "stream",
     "text": [
      "parameter force2D must be set to True to enable shape2D extraction\n",
      "GLCM is symmetrical, therefore Sum Average = 2 * Joint Average, only 1 needs to be calculated\n",
      "Image/Mask geometry mismatch, attempting to correct Mask\n"
     ]
    },
    {
     "name": "stdout",
     "output_type": "stream",
     "text": [
      "[0.48412532806139114, 0.0, 0.0, 113.25747788021937, array(94.21875), array(52.03125), array(101.97494379), array(101.97494379), array(3150.92010498), 54.830813634166944, array(0.15701276), array(6619.73770661), array(2.10089037), 3208.062744140625, array(-641.2), array(267.), array(6.81498851e+08), array(4.79469463), array(194.), array(5.21523041), array(395.), array(210.57404457), array(-66.94606257), array(6.), array(-998.), array(1393.), array(100.63708804), array(324.07361742), array(-1.64758372), array(3.3692265e+08), array(0.04820332), array(100541.93421512), array(1584.57759777), array(2138812.03278935), array(-26678.70804775), array(645.75941882), array(10.2493795), array(0.96880736), array(1.64370618), array(2.33605814), array(7.46407568), array(0.5846597), array(0.54785961), array(0.99690145), array(0.97336986), array(-0.45325768), array(0.99313356), array(0.43878124), array(37.7584314), array(0.011306), array(7.42270273), array(0.97525938), array(0.03582968), array(75.51686281), array(5.76895378), array(164.00219958), array(7.26916003), array(1036.95284327), array(0.15980164), array(3.27677459), array(312.79133919), array(160.9367634), array(1593.201726), array(15.11126522), array(24036.78810294), array(0.45389531), array(0.01840903), array(0.24552132), array(344.88028373), array(0.00192038), array(204.4572138), array(0.04533432), array(154.61141308), array(1580.31258347), array(2.91582584), array(4604.9761396), array(0.07220255), array(0.01441715), array(6.07346956), array(2551.43173925), array(0.56368805), array(0.69498382), array(0.82936656), array(0.77851824), array(1213.11579522), array(0.0087688), array(64.94222222), array(0.03607901), array(167.9690321), array(1430.42888889), array(95.01388889), array(152134.83333333), array(2.61935107), array(0.00799145), array(622.17777778), array(0.34565432), array(0.61065073), array(782.19986094), array(0.00305609), array(7.2922786), array(0.27739251), array(82.01786389), array(0.07175991), array(0.00471338), array(1164.22718922), array(0.08339597), array(11.0202582), 0]\n",
      "pancreas_healthy_0051.dcm\n"
     ]
    },
    {
     "name": "stderr",
     "output_type": "stream",
     "text": [
      "parameter force2D must be set to True to enable shape2D extraction\n",
      "GLCM is symmetrical, therefore Sum Average = 2 * Joint Average, only 1 needs to be calculated\n",
      "Image/Mask geometry mismatch, attempting to correct Mask\n"
     ]
    },
    {
     "name": "stdout",
     "output_type": "stream",
     "text": [
      "[0.35028371009590425, 0.0, 0.0, 136.96027307153162, array(118.828125), array(49.921875), array(125.48959295), array(125.48959295), array(3812.159729), 47.97495258724427, array(0.14710522), array(8022.3836153), array(2.10441959), 3884.87548828125, array(-948.), array(113.), array(1.67997551e+09), array(4.7414731), array(549.), array(2.29698767), array(517.), array(345.32814961), array(-222.96958514), array(-44.), array(-1012.), array(1529.), array(269.43709079), array(462.3761916), array(-0.93947909), array(8.305543e+08), array(0.05467123), array(164076.30665956), array(1312.21107082), array(2456500.97955304), array(-30990.44504842), array(1036.35907389), array(13.59011451), array(0.97411329), array(1.81676639), array(2.42520094), array(10.19261111), array(0.60671555), array(0.57551976), array(0.99662337), array(0.97366356), array(-0.46444392), array(0.99360377), array(0.40593035), array(32.5040956), array(0.01699677), array(7.28231848), array(0.98319434), array(0.04657056), array(65.00819119), array(5.6887198), array(262.4872971), array(7.27458893), array(1083.42275388), array(0.13787513), array(4.35050364), array(429.60651565), array(262.55847205), array(1325.37821329), array(18.88699415), array(26682.02646984), array(0.41225869), array(0.01905646), array(0.24697603), array(265.4161681), array(0.00343787), array(224.38845791), array(0.04399808), array(250.70580938), array(1275.50052986), array(3.62372762), array(5001.49583282), array(0.07377488), array(0.01767276), array(6.28788316), array(2696.17723424), array(0.52748856), array(0.64841563), array(1.22656714), array(0.75424514), array(927.65500306), array(0.01237072), array(52.96716562), array(0.02557565), array(220.43411429), array(1073.63254466), array(258.70787059), array(378426.92225978), array(4.36391025), array(0.01453459), array(934.29406084), array(0.45113185), array(0.69828129), array(675.62491269), array(0.00854246), array(7.2060256), array(0.26355307), array(244.31114088), array(0.09902609), array(0.00359579), array(1372.94755428), array(0.12957684), array(10.13772754), 0]\n",
      "pancreas_healthy_0052.dcm\n"
     ]
    },
    {
     "name": "stderr",
     "output_type": "stream",
     "text": [
      "parameter force2D must be set to True to enable shape2D extraction\n",
      "GLCM is symmetrical, therefore Sum Average = 2 * Joint Average, only 1 needs to be calculated\n",
      "Image/Mask geometry mismatch, attempting to correct Mask\n",
      "parameter force2D must be set to True to enable shape2D extraction\n"
     ]
    },
    {
     "name": "stdout",
     "output_type": "stream",
     "text": [
      "[0.3052764123089357, 0.0, 0.0, 163.0318979233953, array(89.0625), array(50.), array(144.04902662), array(144.04902662), array(4009.8063151), 49.76979288997073, array(0.14506575), array(8413.98021552), array(2.09835078), 4088.134765625, array(-113.), array(115.), array(56938506.), array(3.68950647), array(163.), array(3.81686113), array(206.), array(79.86614108), array(-4.94953718), array(-6.), array(-703.), array(909.), array(65.2853673), array(92.19990258), array(-0.26135182), array(34752506.10351562), array(0.08706003), array(8476.32411818), array(869.68352008), array(8982.83608278), array(-69.28069178), array(50.91154651), array(3.5945168), array(0.86809343), array(1.32175179), array(2.09429964), array(1.82614665), array(0.55667371), array(0.5109568), array(0.99757196), array(0.96744403), array(-0.28610193), array(0.9354389), array(0.47381559), array(29.28914722), array(0.01794334), array(6.3235792), array(0.90236743), array(0.0506276), array(58.57829444), array(4.56152439), array(13.62651583), array(6.02565167), array(1342.34786503), array(0.20041025), array(1.9897417), array(583.12809794), array(13.63140519), array(873.33442819), array(10.80083607), array(9366.02896387), array(0.01341371), array(0.00139171), array(0.26797571), array(233.17951616), array(0.00049849), array(417.89590074), array(0.08274906), array(13.90775219), array(874.47133755), array(2.22878074), array(1936.54932258), array(0.0029586), array(0.00144702), array(4.77670835), array(3097.44563646), array(0.61220174), array(0.7539564), array(0.46365647), array(0.81024672), array(708.49531367), array(0.00121604), array(157.96239886), array(0.07518439), array(15.61965982), array(874.6592099), array(41.47643979), array(34279.83722037), array(0.05379528), array(0.0017667), array(645.87958115), array(0.30741532), array(0.57225132), array(495.57201478), array(0.00124596), array(6.2547725), array(0.31367572), array(31.31305937), array(0.35702255), array(0.0022227), array(514.14798647), array(0.02384999), array(1.85566449), 0]\n",
      "pancreas_healthy_0053.dcm\n"
     ]
    },
    {
     "name": "stderr",
     "output_type": "stream",
     "text": [
      "GLCM is symmetrical, therefore Sum Average = 2 * Joint Average, only 1 needs to be calculated\n",
      "parameter force2D must be set to True to enable shape2D extraction\n",
      "GLCM is symmetrical, therefore Sum Average = 2 * Joint Average, only 1 needs to be calculated\n",
      "Image/Mask geometry mismatch, attempting to correct Mask\n"
     ]
    },
    {
     "name": "stdout",
     "output_type": "stream",
     "text": [
      "[0.4069097373449101, 0.0, 0.0, 114.72882418044622, array(73.4765625), array(43.7890625), array(101.35412067), array(101.35412067), array(2494.03025309), 46.68427571315575, array(0.16838395), array(5281.83180997), array(2.11778979), 2547.0947265625, array(-23.), array(100.), array(14059075.), array(2.63314415), array(42.), array(9.88169463), array(172.), array(37.03955377), array(17.96864187), array(5.), array(-427.), array(599.), array(23.21918794), array(55.14034273), array(-0.39142569), array(7744333.00018311), array(0.22579763), array(2717.58530559), array(373.29632586), array(2485.96118536), array(-18.89681411), array(16.03239483), array(1.29183694), array(0.85072358), array(0.78476388), array(1.5485722), array(0.66954504), array(0.66993234), array(0.65186913), array(0.99797071), array(0.97049369), array(-0.30265392), array(0.89046432), array(0.50618101), array(19.22526859), array(0.08349036), array(4.44025694), array(0.92727087), array(0.15625558), array(38.45053718), array(3.33777863), array(4.33105794), array(5.15424051), array(736.96280277), array(0.15937777), array(2.91691292), array(1044.08823529), array(4.42232824), array(374.52703287), array(18.96885813), array(7081.65679066), array(0.05279542), array(0.0031254), array(0.15607929), array(57.58466754), array(0.00079016), array(563.90525275), array(0.19537423), array(5.12674588), array(374.74371259), array(3.68735982), array(1377.64561696), array(0.01077852), array(0.00334497), array(4.26329245), array(1362.77425861), array(0.47002188), array(0.62418901), array(1.10103501), array(0.70875112), array(265.44682167), array(0.0025408), array(99.19568345), array(0.1427276), array(9.96545934), array(370.85611511), array(1415.49928058), array(484799.63884892), array(4.18786214), array(0.00517125), array(216.0676259), array(0.31088867), array(0.57209642), array(207.04639863), array(0.00396083), array(5.45874052), array(0.15030277), array(1371.23371254), array(0.6650533), array(0.00194921), array(222.33335242), array(0.00880714), array(1.7254619), 0]\n",
      "pancreas_healthy_0054.dcm\n",
      "[0.3687462350308441, 0.0, 0.0, 86.62299734016591, array(50.703125), array(46.40625), array(85.82140596), array(85.82140596), array(1964.04673258), 31.941904136273003, array(0.18337122), array(4136.06625544), array(2.10588994), 2007.31201171875, array(76.), array(142.), array(33975015.), array(2.21489392), array(34.), array(4.05187725), array(213.), array(21.2674103), array(108.36313466), array(109.), array(-35.), array(248.), array(14.43242067), array(111.80342356), array(-0.27116841), array(25091411.22436523), array(0.25893385), array(757.43656589), array(47.63791895), array(46.3514353), array(-1.90663417), array(3.32389037), array(1.66291434), array(0.33244458), array(0.97120684), array(1.71809938), array(0.71323329), array(0.61368619), array(0.58236502), array(0.98680629), array(0.92331097), array(-0.04971423), array(0.42756808), array(0.50861336), array(6.8718726), array(0.07333748), array(4.2766338), array(0.41615411), array(0.14018318), array(13.7437452), array(2.88049289), array(1.24670118), array(4.6621702), array(494.39146431), array(0.18189531), array(2.29960295), array(703.78219279), array(1.2931024), array(48.22921266), array(13.91169978), array(666.17476085), array(0.31443173), array(0.0239943), array(0.20574891), array(10.04454682), array(0.00573849), array(453.31871541), array(0.23860468), array(1.48270622), array(48.35851788), array(2.72889798), array(131.24674213), array(0.06344876), array(0.02456806), array(3.53795969), array(1040.03905662), array(0.54603535), array(0.69904341), array(0.6721172), array(0.76598719), array(37.1429765), array(0.01920569), array(106.68782161), array(0.18299798), array(2.65200109), array(48.8593482), array(281.89022298), array(13704.54716981), array(5.89683365), array(0.02848934), array(175.79588336), array(0.30153668), array(0.56789679), array(27.85665482), array(0.01768857), array(5.05975953), array(0.21449595), array(260.15511535), array(4.12239036), array(0.0023728), array(40.93784895), array(0.01732674), array(0.1319876), 0]\n",
      "pancreas_healthy_0055.dcm\n"
     ]
    },
    {
     "name": "stderr",
     "output_type": "stream",
     "text": [
      "parameter force2D must be set to True to enable shape2D extraction\n",
      "GLCM is symmetrical, therefore Sum Average = 2 * Joint Average, only 1 needs to be calculated\n",
      "Image/Mask geometry mismatch, attempting to correct Mask\n",
      "parameter force2D must be set to True to enable shape2D extraction\n",
      "GLCM is symmetrical, therefore Sum Average = 2 * Joint Average, only 1 needs to be calculated\n"
     ]
    },
    {
     "name": "stdout",
     "output_type": "stream",
     "text": [
      "[0.3290607274708927, 0.0, 0.0, 103.61147570629845, array(50.5859375), array(51.953125), array(99.13052218), array(99.13052218), array(2369.40781275), 34.094467570247296, array(0.17189961), array(4999.98976862), array(2.1102276), 2415.008544921875, array(-94.), array(131.), array(1.69936017e+08), array(4.1215107), array(106.), array(13.00317312), array(682.), array(101.69192358), array(13.74709752), array(39.), array(-933.), array(1615.), array(45.96443168), array(181.33492833), array(-2.01189781), array(79411171.27418518), array(0.09279277), array(32693.37354034), array(1577.92466118), array(534509.17356699), array(-5993.6938319), array(203.2169342), array(6.80144426), array(0.93521469), array(1.43477326), array(2.23783637), array(4.67383064), array(0.60337595), array(0.56906445), array(0.99847272), array(0.97964792), array(-0.4010997), array(0.98016768), array(0.43489092), array(39.10013574), array(0.02755847), array(6.59004805), array(0.96148946), array(0.10681733), array(78.20027148), array(5.0750026), array(52.50459461), array(6.64665241), array(770.33668731), array(0.14905896), array(3.73892206), array(479.55301858), array(52.31514548), array(1578.33010836), array(16.88235294), array(26617.98877709), array(0.04531597), array(0.00287257), array(0.23443714), array(384.42644528), array(0.0007283), array(261.5833035), array(0.07527208), array(64.28221757), array(1583.5485208), array(3.28293719), array(5189.32669967), array(0.0085383), array(0.0029579), array(5.61749742), array(1899.98873197), array(0.54505843), array(0.67182663), array(1.0452845), array(0.76617459), array(1219.07379983), array(0.00227411), array(61.52398524), array(0.04540516), array(110.37662559), array(1639.50405904), array(243.04501845), array(402442.22287823), array(0.23545619), array(0.00337143), array(478.44944649), array(0.35309922), array(0.61756726), array(1038.27030031), array(0.00199485), array(7.09879202), array(0.2621904), array(228.49825356), array(0.05951062), array(0.00402099), array(1400.73370932), array(0.01727454), array(16.09041775), 0]\n",
      "pancreas_healthy_0056.dcm\n",
      "[0.322805471517791, 0.0, 0.0, 103.11603424562942, array(70.3125), array(41.015625), array(100.47209881), array(100.47209881), array(2289.69256083), 33.28642005570509, array(0.17439614), array(4817.24468068), array(2.10388275), 2346.9924926757812, array(-82.), array(178.), array(24259876.), array(3.72116164), array(152.), array(1.94904231), array(251.), array(79.72458347), array(34.90857375), array(37.), array(-134.), array(385.), array(63.33439012), array(99.2861068), array(0.25002924), array(23136020.66040039), array(0.08204364), array(8639.12248236), array(75.87391378), array(5525.31115875), array(97.82194584), array(53.23483503), array(2.4167521), array(0.91314854), array(1.08829279), array(1.93574265), array(1.21936284), array(0.60848518), array(0.57377474), array(0.99196581), array(0.94310717), array(-0.34707638), array(0.96026997), array(0.47196855), array(7.94790951), array(0.01961887), array(6.1506797), array(0.92302634), array(0.04804833), array(15.89581901), array(4.62659206), array(13.91289678), array(6.23631801), array(403.23080049), array(0.16384835), array(2.94187439), array(201.90938643), array(13.8449529), array(76.39049167), array(15.03169443), array(1184.21414059), array(0.59200493), array(0.03980136), array(0.22241227), array(17.12541213), array(0.00959965), array(134.41329448), array(0.07910091), array(13.31019397), array(75.66979755), array(2.90130586), array(226.68265853), array(0.1143463), array(0.04012843), array(4.97070186), array(933.15563577), array(0.54781529), array(0.69036977), array(0.79324606), array(0.76759215), array(57.88041578), array(0.03111929), array(50.63225806), array(0.08166493), array(11.86668835), array(73.69193548), array(142.45645161), array(14363.85967742), array(5.33531805), array(0.04267348), array(189.18064516), array(0.30513007), array(0.57036107), array(44.74523274), array(0.02593394), array(5.93268379), array(0.25193011), array(126.70067378), array(1.32799477), array(0.00728917), array(81.17351662), array(0.07287395), array(0.75338104), 0]\n",
      "pancreas_healthy_0057.dcm\n"
     ]
    },
    {
     "name": "stderr",
     "output_type": "stream",
     "text": [
      "Image/Mask geometry mismatch, attempting to correct Mask\n",
      "parameter force2D must be set to True to enable shape2D extraction\n",
      "GLCM is symmetrical, therefore Sum Average = 2 * Joint Average, only 1 needs to be calculated\n",
      "Image/Mask geometry mismatch, attempting to correct Mask\n",
      "parameter force2D must be set to True to enable shape2D extraction\n",
      "GLCM is symmetrical, therefore Sum Average = 2 * Joint Average, only 1 needs to be calculated\n"
     ]
    },
    {
     "name": "stdout",
     "output_type": "stream",
     "text": [
      "[0.3589535121990153, 0.0, 0.0, 87.23729634321967, array(76.171875), array(36.1328125), array(81.07821571), array(81.07821571), array(1826.20684306), 31.314133917145007, array(0.18776247), array(3848.06132315), array(2.10713334), 1873.016357421875, array(-95.), array(127.), array(15680509.), array(3.54577676), array(156.), array(1.80925303), array(241.), array(78.26516503), array(16.92820774), array(37.), array(-148.), array(389.), array(65.30115633), array(89.35304072), array(0.06059894), array(14954098.70147705), array(0.09829321), array(7697.40166868), array(62.63204414), array(3846.17111875), array(14.74422048), array(46.80193202), array(2.69013464), array(0.89129426), array(1.1639456), array(1.991351), array(1.322995), array(0.58935747), array(0.55109172), array(0.99000016), array(0.93606037), array(-0.30500586), array(0.93905319), array(0.47736264), array(7.18359415), array(0.02359994), array(5.99750336), array(0.90792124), array(0.068179), array(14.3671883), array(4.40942086), array(12.37301666), array(5.96439616), array(352.56822811), array(0.17951539), array(2.4369631), array(193.04786151), array(12.38470343), array(64.24083503), array(13.1089613), array(819.36099796), array(0.72379482), array(0.05802606), array(0.24075535), array(15.8195491), array(0.01688851), array(128.95842639), array(0.09163741), array(12.23586475), array(64.66350885), array(2.57583916), array(161.00251149), array(0.14826307), array(0.05943535), array(4.74633335), array(808.48956601), array(0.57328621), array(0.71664969), array(0.62256467), array(0.78504908), array(50.74830598), array(0.0479594), array(43.63117871), array(0.08294901), array(12.12100797), array(67.09505703), array(113.31178707), array(4702.23003802), array(8.43298762), array(0.06901578), array(172.63498099), array(0.32820339), array(0.59407158), array(39.75747082), array(0.04668187), array(5.86818583), array(0.26782077), array(99.37022366), array(1.28954462), array(0.00734898), array(80.33035565), array(0.08042708), array(0.73850475), 0]\n",
      "pancreas_healthy_0058.dcm\n",
      "[0.36097767608492204, 0.0, 0.0, 96.26670651557677, array(63.28125), array(38.28125), array(99.59022487), array(99.59022487), array(1917.97892253), 34.75013200234213, array(0.18173297), array(4107.83475347), array(2.14175177), 1970.21484375, array(-946.3), array(59.), array(5.37075451e+08), array(4.51252608), array(174.), array(3.52403576), array(294.), array(266.75013647), array(-215.42100372), array(-97.), array(-1024.), array(1318.), array(159.00916607), array(407.8973538), array(-1.42948913), array(3.27804841e+08), array(0.06063407), array(119974.04239651), array(1264.12133092), array(1986611.60546227), array(-29280.80332527), array(750.87504682), array(15.10646711), array(0.96053844), array(2.02034604), array(2.57006912), array(10.90721321), array(0.56129013), array(0.52021197), array(0.9949596), array(0.96625946), array(-0.40982625), array(0.98715946), array(0.4100641), array(32.86605933), array(0.01424254), array(7.19743163), array(0.96760303), array(0.04256469), array(65.73211866), array(5.48289608), array(191.49537848), array(6.85999218), array(527.36369269), array(0.16337165), array(3.57546192), array(195.7267658), array(191.66149459), array(1274.55669145), array(14.42379182), array(16330.82249071), array(2.50572815), array(0.05541797), array(0.28614052), array(326.22079957), array(0.00388243), array(129.02826214), array(0.05602296), array(164.91059252), array(1295.02332338), array(2.8096621), array(3237.69568954), array(0.42282182), array(0.02628993), array(5.70722278), array(1362.07976766), array(0.59032966), array(0.71328996), array(0.83498053), array(0.79643445), array(1022.64857406), array(0.01323081), array(40.62584378), array(0.03917632), array(171.76840508), array(1160.40694311), array(73.69720347), array(82860.34811958), array(12.19070064), array(0.01273706), array(419.23529412), array(0.40427704), array(0.6611858), array(690.10404738), array(0.00527516), array(6.86575377), array(0.32125155), array(64.00752114), array(0.06042999), array(0.00643146), array(1313.44598844), array(0.1478117), array(14.45205221), 0]\n",
      "pancreas_healthy_0059.dcm\n"
     ]
    },
    {
     "name": "stderr",
     "output_type": "stream",
     "text": [
      "Image/Mask geometry mismatch, attempting to correct Mask\n",
      "parameter force2D must be set to True to enable shape2D extraction\n",
      "GLCM is symmetrical, therefore Sum Average = 2 * Joint Average, only 1 needs to be calculated\n",
      "Image/Mask geometry mismatch, attempting to correct Mask\n"
     ]
    },
    {
     "name": "stdout",
     "output_type": "stream",
     "text": [
      "[0.22277740516508657, 0.0, 0.0, 126.81531040402578, array(68.58007812), array(30.0625), array(121.54214516), array(121.54214516), array(1837.66236178), 28.251585787013866, array(0.18232449), array(3979.38784993), array(2.16546191), 1908.1210403442383, array(-54.), array(163.), array(20738106.), array(3.53212877), array(139.75), array(1.89035394), array(207.), array(66.78309134), array(58.17391304), array(66.), array(-110.), array(317.), array(52.71169687), array(97.93923336), array(-0.14550702), array(18302875.2985611), array(0.0917543), array(6207.88927322), array(70.07981861), array(2600.66230722), array(-36.38976963), array(37.18905467), array(2.93699362), array(0.85361419), array(1.21878393), array(2.02899548), array(1.4263705), array(0.57826635), array(0.53782867), array(0.98603357), array(0.92511852), array(-0.2762454), array(0.92273466), array(0.47746705), array(7.84325103), array(0.01953631), array(6.08990754), array(0.86468159), array(0.04233746), array(15.68650207), array(4.41054192), array(10.03151207), array(5.92178205), array(410.46438483), array(0.18985402), array(2.18345384), array(198.37280296), array(10.00662546), array(71.58048104), array(11.89639223), array(848.24468085), array(0.43642812), array(0.03614344), array(0.2477071), array(17.56444196), array(0.01009791), array(142.13664088), array(0.08939231), array(9.81988177), array(71.53318403), array(2.3993447), array(170.66524379), array(0.08787629), array(0.03631962), array(4.64453041), array(938.52543161), array(0.58854454), array(0.73543016), array(0.53839182), array(0.79485012), array(56.72481402), array(0.02916602), array(55.83544304), array(0.08834722), array(9.51688181), array(70.29272152), array(52.06329114), array(3402.16297468), array(2.20001057), array(0.04003377), array(184.50316456), array(0.29193539), array(0.55347137), array(38.9965201), array(0.02459962), array(5.89865523), array(0.29232192), array(40.36082959), array(1.65346223), array(0.00675274), array(57.91583168), array(0.08741376), array(0.42972797), 0]\n",
      "pancreas_healthy_0060.dcm\n"
     ]
    },
    {
     "name": "stderr",
     "output_type": "stream",
     "text": [
      "parameter force2D must be set to True to enable shape2D extraction\n",
      "GLCM is symmetrical, therefore Sum Average = 2 * Joint Average, only 1 needs to be calculated\n",
      "Image/Mask geometry mismatch, attempting to correct Mask\n",
      "parameter force2D must be set to True to enable shape2D extraction\n",
      "GLCM is symmetrical, therefore Sum Average = 2 * Joint Average, only 1 needs to be calculated\n"
     ]
    },
    {
     "name": "stdout",
     "output_type": "stream",
     "text": [
      "[0.2843845636518638, 0.0, 0.0, 136.3352844731017, array(65.625), array(47.65625), array(134.79675818), array(134.79675818), array(3589.42667643), 38.771650385235745, array(0.15164231), array(7476.19202204), array(2.08283737), 3646.240234375, array(-110.), array(235.), array(2.14527777e+08), array(4.08147536), array(210.), array(10.88767214), array(290.), array(132.39449113), array(5.69250084), array(6.5), array(-952.), array(1242.), array(92.86166018), array(189.49997505), array(-2.02903873), array(1.30937364e+08), array(0.08174509), array(35877.83597657), array(1638.52640517), array(500488.37648555), array(-6136.98020618), array(216.00541365), array(4.34858837), array(0.96017126), array(1.1062691), array(1.92304504), array(3.08761422), array(0.63481554), array(0.60708937), array(0.99841433), array(0.97972649), array(-0.45630308), array(0.98717208), array(0.46730215), array(39.81973161), array(0.02612158), array(6.27804185), array(0.97619666), array(0.08969292), array(79.63946322), array(4.95444847), array(55.08850051), array(6.64840441), array(899.58118514), array(0.15058272), array(3.34348509), array(488.34516237), array(57.48696466), array(1637.03716103), array(17.89923), array(29764.22765316), array(0.04954611), array(0.00312061), array(0.19104243), array(298.24864753), array(0.00053923), array(267.31855733), array(0.06902235), array(61.55761099), array(1624.07124951), array(3.47486723), array(5726.84087565), array(0.01006735), array(0.00320835), array(5.59970724), array(1968.75864246), array(0.50592524), array(0.6481001), array(1.06875157), array(0.73725856), array(1187.5164038), array(0.00234837), array(65.86629303), array(0.05273522), array(79.94893208), array(1561.79823859), array(389.09847878), array(582183.35148118), array(0.43196393), array(0.0033057), array(373.1601281), array(0.29876712), array(0.56462665), array(850.70367909), array(0.00140129), array(6.89968136), array(0.20907265), array(366.22113704), array(0.08687847), array(0.00383411), array(947.4216435), array(0.03049169), array(11.55128517), 0]\n",
      "pancreas_healthy_0061.dcm\n",
      "[0.2670744245183559, 0.0, 0.0, 118.00123869212669, array(58.125), array(41.25), array(120.35470039), array(120.35470039), array(2419.99511719), 31.515112916152887, array(0.17057645), array(5110.24086172), array(2.11167404), 2482.91015625, array(-27.), array(164.), array(31392460.), array(3.6081721), array(98.), array(4.81321746), array(557.), array(59.64511902), array(72.60389381), array(76.), array(-176.), array(733.), array(41.36305203), array(105.41525137), array(0.35114086), array(27591029.296875), array(0.09609385), array(5841.04982555), array(136.15280309), array(4418.72486002), array(49.92447528), array(32.18059541), array(4.46525783), array(0.75586167), array(1.5681264), array(2.28281103), array(1.99006317), array(0.51139345), array(0.45165191), array(0.99548505), array(0.95352216), array(-0.1949173), array(0.86570823), array(0.42984051), array(11.36766105), array(0.01521749), array(6.49746553), array(0.8357602), array(0.03482052), array(22.7353221), array(4.49415652), array(9.16146331), array(5.83621176), array(634.02584071), array(0.22443393), array(1.63407628), array(271.46513274), array(9.41578435), array(140.01415929), array(8.52353982), array(1200.06513274), array(0.08078469), array(0.01041587), array(0.33043324), array(46.66357666), array(0.00398826), array(210.95482703), array(0.09370808), array(9.8851886), array(139.98812502), array(1.91449195), array(268.54547429), array(0.01923972), array(0.01066201), array(4.5279237), array(1502.40511131), array(0.6670155), array(0.79690265), array(0.33829543), array(0.84401953), array(118.17390323), array(0.00917733), array(92.85245902), array(0.08456508), array(12.12746142), array(139.99453552), array(18.05919854), array(2671.53734062), array(0.15523242), array(0.0119748), array(390.68852459), array(0.35581833), array(0.61877519), array(87.86066261), array(0.00803994), array(5.8634783), array(0.38867257), array(11.43959128), array(0.66797729), array(0.0036435), array(408.83037089), array(0.02959796), array(1.60781131), 0]\n",
      "pancreas_healthy_0062.dcm\n"
     ]
    },
    {
     "name": "stderr",
     "output_type": "stream",
     "text": [
      "Image/Mask geometry mismatch, attempting to correct Mask\n",
      "parameter force2D must be set to True to enable shape2D extraction\n",
      "GLCM is symmetrical, therefore Sum Average = 2 * Joint Average, only 1 needs to be calculated\n",
      "Image/Mask geometry mismatch, attempting to correct Mask\n",
      "parameter force2D must be set to True to enable shape2D extraction\n",
      "GLCM is symmetrical, therefore Sum Average = 2 * Joint Average, only 1 needs to be calculated\n"
     ]
    },
    {
     "name": "stdout",
     "output_type": "stream",
     "text": [
      "[0.8000161900677084, 0.0, 0.0, 35.42728224875146, array(33.8203125), array(28.18359375), array(37.50759984), array(37.50759984), array(734.0058581), 28.342399369099503, array(0.25134924), array(1565.5714805), array(2.13291415), 757.2469253540039, array(-75.3), array(129.), array(8041559.), array(3.08625819), array(130.5), array(2.08417274), array(173.), array(68.57608902), array(56.11305361), array(92.), array(-114.), array(287.), array(53.91843142), array(96.81139596), array(-0.76469354), array(7097256.20956039), array(0.15586201), array(6223.77160116), array(69.91883509), array(3068.57738069), array(-187.36030327), array(37.62403422), array(2.14654807), array(0.8920658), array(0.94602693), array(1.82616454), array(1.23628113), array(0.65573532), array(0.62979121), array(0.98633197), array(0.93300772), array(-0.31879732), array(0.92391), array(0.44984803), array(7.81340329), array(0.05623739), array(5.15905038), array(0.90164222), array(0.18071282), array(15.62680658), array(3.95616935), array(9.94264557), array(5.63758783), array(118.89044289), array(0.13856695), array(4.05592232), array(133.72960373), array(10.06235024), array(70.31468531), array(20.01864802), array(1562.68764569), array(1.06042527), array(0.05938108), array(0.18720191), array(11.83594603), array(0.01193075), array(66.01740573), array(0.1230634), array(9.93496333), array(66.80115157), array(3.80947292), array(287.23893778), array(0.2056607), array(0.06192354), array(4.61319006), array(265.05598093), array(0.49181978), array(0.62558275), array(1.23544085), array(0.72726681), array(46.86264479), array(0.04552575), array(19.15555556), array(0.10641975), array(8.8875), array(59.06111111), array(256.43333333), array(23928.12222222), array(6.20146768), array(0.06790267), array(53.11111111), array(0.29506173), array(0.55593932), array(34.07122406), array(0.03626332), array(5.336019), array(0.20979021), array(233.71222222), array(0.61512942), array(0.01503761), array(35.99566834), array(0.09434754), array(1.06549176), 0]\n",
      "pancreas_healthy_0063.dcm\n",
      "[0.47374800965831254, 0.0, 0.0, 70.16922925430865, array(59.37504), array(37.1094), array(66.56975406), array(66.56975406), array(1395.37719543), 33.24253269848656, array(0.20365081), array(2965.2345653), array(2.12504158), 1428.8868129303357, array(-119.), array(130.), array(31376916.), array(3.65346586), array(93.), array(4.56300032), array(302.), array(77.06915134), array(-34.86661527), array(-68.), array(-393.), array(695.), array(45.0354706), array(109.9816274), array(1.17043929), array(17283755.39815839), array(0.11708504), array(10880.27750535), array(243.15906622), array(20790.22783373), array(661.5982981), array(66.6785237), array(2.1274435), array(0.93816927), array(1.04643898), array(1.85954686), array(1.00855415), array(0.61005223), array(0.57567722), array(0.99750021), array(0.96623051), array(-0.3522818), array(0.9588645), array(0.47964556), array(15.06721764), array(0.03136548), array(6.0008327), array(0.96566451), array(0.09568159), array(30.13443529), array(4.54790617), array(17.2014918), array(6.18466136), array(452.14186584), array(0.17430296), array(2.73896406), array(303.71858134), array(17.55772871), array(246.2154973), array(14.72860447), array(3293.13608327), array(0.08507548), array(0.00648332), array(0.20334867), array(53.3486818), array(0.00136677), array(183.84538354), array(0.10230978), array(18.89630625), array(253.79480589), array(2.83908109), array(663.15568687), array(0.01745447), array(0.00673835), array(5.00619807), array(978.51436896), array(0.54259074), array(0.69217425), array(0.73419363), array(0.76338113), array(197.8407008), array(0.00529533), array(46.32475884), array(0.0744771), array(21.98027316), array(270.52411576), array(126.51125402), array(23450.59967846), array(0.73867372), array(0.00748167), array(148.9903537), array(0.23953433), array(0.49571358), array(130.65524179), array(0.00319211), array(6.54321926), array(0.23978412), array(109.11886767), array(0.31836008), array(0.0057487), array(243.07652729), array(0.02834834), array(2.98703468), 0]\n",
      "pancreas_healthy_0064.dcm\n"
     ]
    },
    {
     "name": "stderr",
     "output_type": "stream",
     "text": [
      "Image/Mask geometry mismatch, attempting to correct Mask\n",
      "parameter force2D must be set to True to enable shape2D extraction\n",
      "GLCM is symmetrical, therefore Sum Average = 2 * Joint Average, only 1 needs to be calculated\n",
      "Image/Mask geometry mismatch, attempting to correct Mask\n",
      "parameter force2D must be set to True to enable shape2D extraction\n",
      "GLCM is symmetrical, therefore Sum Average = 2 * Joint Average, only 1 needs to be calculated\n"
     ]
    },
    {
     "name": "stdout",
     "output_type": "stream",
     "text": [
      "[0.3157007419223263, 0.0, 0.0, 108.65887994385571, array(61.9921875), array(35.0390625), array(98.32863834), array(98.32863834), array(1395.36234538), 34.30368901472423, array(0.19733149), array(3060.17131274), array(2.19310154), 1456.170654296875, array(-89.), array(146.7), array(16863880.), array(3.66491966), array(168.25), array(1.70499591), array(269.), array(83.29192334), array(28.37694013), array(38.), array(-153.), array(422.), array(69.61017743), array(96.68530799), array(0.0482601), array(13612354.30908203), array(0.08737297), array(8542.79804917), array(84.68374846), array(4130.89587785), array(30.38123535), array(50.33601159), array(4.1976303), array(0.84603742), array(1.52698098), array(2.26533394), array(1.83629509), array(0.52018725), array(0.46418626), array(0.98765844), array(0.9259948), array(-0.23765909), array(0.90509479), array(0.44218296), array(8.55266684), array(0.01606132), array(6.44483877), array(0.869053), array(0.03761402), array(17.10533368), array(4.50196985), array(13.63341047), array(5.85079358), array(396.04545455), array(0.21953739), array(1.77389246), array(157.62084257), array(13.72726658), array(88.5631929), array(8.7594235), array(764.29157428), array(0.23693599), array(0.02813073), array(0.33630551), array(29.68830776), array(0.01036736), array(120.72491134), array(0.08422021), array(13.63068289), array(88.74743143), array(1.94434635), array(171.10709674), array(0.05403603), array(0.0284755), array(4.57723902), array(956.67699307), array(0.66599145), array(0.79462306), array(0.3541567), array(0.84299698), array(74.84639017), array(0.02430999), array(56.30662983), array(0.07777159), array(13.32243178), array(88.39364641), array(16.99447514), array(1392.96961326), array(0.50182423), array(0.03019035), array(261.02209945), array(0.36052776), array(0.62247668), array(54.71275989), array(0.02005398), array(5.7677759), array(0.40133038), array(10.78584292), array(0.99482613), array(0.00675003), array(134.91877087), array(0.09139372), array(0.81035714), 0]\n",
      "pancreas_healthy_0065.dcm\n",
      "[0.2742530322462575, 0.0, 0.0, 103.0647851994537, array(50.78125), array(40.0390625), array(92.60366868), array(92.60366868), array(1612.58379618), 28.26582985875938, array(0.1908698), array(3484.13609818), array(2.16059228), 1674.652099609375, array(-73.), array(158.), array(28724310.), array(3.58723736), array(93.25), array(9.77219782), array(752.), array(70.91155738), array(78.45899772), array(97.), array(-129.), array(881.), array(47.31303964), array(127.89764469), array(1.15438841), array(27393636.70349121), array(0.11041026), array(10201.99319353), array(107.20739594), array(34171.13675803), array(494.27108111), array(61.65091365), array(2.97529096), array(0.90751322), array(1.0814245), array(1.93584104), array(1.78715602), array(0.62579253), array(0.59629139), array(0.9978866), array(0.97270015), array(-0.35899988), array(0.95970255), array(0.47164347), array(9.61965466), array(0.03049609), array(5.88010782), array(0.92483549), array(0.09370689), array(19.23930932), array(4.50044983), array(16.15655115), array(6.14779466), array(270.60364465), array(0.1541023), array(3.30966008), array(193.88041002), array(16.40131946), array(109.9595672), array(16.37813212), array(1640.24886105), array(0.44966955), array(0.02576885), array(0.21864722), array(28.70003087), array(0.00606039), array(116.89182291), array(0.09887308), array(18.25676628), array(114.38345668), array(3.11842432), array(327.23212996), array(0.08297577), array(0.0254014), array(4.97519037), array(632.05776073), array(0.53358524), array(0.67312073), array(0.90058949), array(0.75812891), array(89.76322648), array(0.01917978), array(31.45971564), array(0.07454909), array(28.06455381), array(132.76303318), array(137.28909953), array(13632.83649289), array(4.03401761), array(0.02801831), array(141.55450237), array(0.33543721), array(0.59839501), array(86.00114602), array(0.01782856), array(6.02681744), array(0.24031891), array(119.97403473), array(0.25885339), array(0.00865494), array(420.7707441), array(0.02324443), array(9.49068259), 0]\n",
      "pancreas_healthy_0066.dcm\n"
     ]
    },
    {
     "name": "stderr",
     "output_type": "stream",
     "text": [
      "Image/Mask geometry mismatch, attempting to correct Mask\n",
      "parameter force2D must be set to True to enable shape2D extraction\n",
      "GLCM is symmetrical, therefore Sum Average = 2 * Joint Average, only 1 needs to be calculated\n",
      "Image/Mask geometry mismatch, attempting to correct Mask\n",
      "parameter force2D must be set to True to enable shape2D extraction\n",
      "GLCM is symmetrical, therefore Sum Average = 2 * Joint Average, only 1 needs to be calculated\n",
      "Image/Mask geometry mismatch, attempting to correct Mask\n"
     ]
    },
    {
     "name": "stdout",
     "output_type": "stream",
     "text": [
      "[0.4221710612134787, 0.0, 0.0, 107.690342181739, array(90.625), array(42.96875), array(106.69140847), array(106.69140847), array(2359.26310221), 45.4637460413074, array(0.16955603), array(5054.61936733), array(2.14245684), 2425.537109375, array(-24.), array(165.), array(78822818.), array(3.70477622), array(104.), array(23.54985438), array(334.), array(73.68918023), array(63.63462506), array(80.), array(-845.), array(1179.), array(43.77053891), array(140.83546994), array(-3.79484133), array(48109630.12695312), array(0.09669925), array(15785.26408545), array(1393.68514785), array(233960.22230344), array(-3801.78068205), array(100.85929876), array(3.84572943), array(0.92669304), array(1.08684356), array(1.93923147), array(2.64052986), array(0.64019125), array(0.61266947), array(0.99839471), array(0.9788052), array(-0.38401421), array(0.96942067), array(0.45625889), array(37.00583067), array(0.02629143), array(6.01210077), array(0.93750464), array(0.06711318), array(74.01166134), array(4.66796497), array(26.17625705), array(6.39739393), array(592.3326623), array(0.149052), array(3.57941998), array(384.28283845), array(25.31388987), array(1398.95445395), array(18.40211374), array(26728.42501258), array(0.02283638), array(0.00227011), array(0.18445466), array(238.05160387), array(0.00051825), array(229.18663503), array(0.08953933), array(32.16920876), array(1373.61371025), array(3.59383725), array(5154.0144181), array(0.00591245), array(0.00271303), array(5.22995201), array(1302.06915457), array(0.50643108), array(0.64374685), array(1.15069043), array(0.73837152), array(999.15854965), array(0.00222898), array(57.18292683), array(0.06973528), array(55.75475758), array(1279.98658537), array(158.60731707), array(242037.13780488), array(0.13207703), array(0.00338365), array(215.69268293), array(0.26303986), array(0.52561099), array(640.38756375), array(0.00119049), array(6.7542629), array(0.20634122), array(135.12029149), array(0.07288817), array(0.00489901), array(793.60732948), array(0.01443668), array(14.16257419), 0]\n",
      "pancreas_healthy_0067.dcm\n",
      "[0.31164159180301565, 0.0, 0.0, 99.34544853510758, array(58.59375), array(36.1328125), array(93.02494691), array(93.02494691), array(1438.29981486), 30.960173719865494, array(0.1988734), array(3098.42067127), array(2.15422448), 1491.546630859375, array(1.3), array(177.), array(20415485.), array(3.45011731), array(73.25), array(3.6373092), array(341.), array(52.25248968), array(90.06713555), array(88.), array(-127.), array(468.), array(33.20422926), array(114.25138579), array(-0.06297113), array(19469723.70147705), array(0.11788989), array(4941.29024985), array(109.6209481), array(3019.81162883), array(-16.32654774), array(29.25198998), array(2.81619158), array(0.82434206), array(1.12964963), array(1.97261748), array(1.5233419), array(0.60433557), array(0.56934596), array(0.99331543), array(0.94945452), array(-0.29651539), array(0.93129529), array(0.47327846), array(10.14947891), array(0.0296836), array(5.87823682), array(0.85575259), array(0.07866094), array(20.29895781), array(4.33245784), array(8.01704539), array(5.91553514), array(264.25063939), array(0.16895821), array(2.72099869), array(184.3797954), array(8.03895023), array(110.48337596), array(14.20460358), array(1588.60869565), array(0.19574785), array(0.01524752), array(0.23394299), array(26.62448085), array(0.00416105), array(118.78345572), array(0.10828851), array(8.68518309), array(110.25168257), array(2.72125791), array(302.08314134), array(0.03953697), array(0.01576061), array(4.71489936), array(605.366589), array(0.5509789), array(0.70140665), array(0.68115172), array(0.76988208), array(84.92879073), array(0.0124477), array(37.05365854), array(0.09037478), array(11.22634741), array(111.66585366), array(126.50243902), array(14665.84390244), array(1.30995647), array(0.01812307), array(135.18536585), array(0.3297204), array(0.59470813), array(69.66436798), array(0.0114826), array(5.74605948), array(0.26214834), array(111.95100535), array(0.50097081), array(0.00809925), array(128.7519721), array(0.03291509), array(1.36211003), 0]\n",
      "pancreas_healthy_0068.dcm\n"
     ]
    },
    {
     "name": "stderr",
     "output_type": "stream",
     "text": [
      "parameter force2D must be set to True to enable shape2D extraction\n",
      "GLCM is symmetrical, therefore Sum Average = 2 * Joint Average, only 1 needs to be calculated\n"
     ]
    },
    {
     "name": "stdout",
     "output_type": "stream",
     "text": [
      "[0.17732563615291247, 0.0, 0.0, 147.86687093843295, array(72.265625), array(30.2734375), array(126.67111105), array(126.67111105), array(1806.41810099), 26.220586955098227, array(0.18190071), array(3943.31907437), array(2.18294927), 1884.46044921875, array(-113.), array(171.), array(22072191.), array(3.87385375), array(172.), array(1.93602676), array(257.), array(90.03494669), array(17.07945344), array(27.), array(-187.), array(444.), array(72.16256136), array(105.68886955), array(0.1952823), array(21049681.66351318), array(0.07613119), array(10878.4294159), array(101.97903465), array(8437.64175241), array(95.41090563), array(67.249291), array(3.74061124), array(0.89468199), array(1.46809916), array(2.19626037), array(1.57037519), array(0.5229176), array(0.4678556), array(0.99000303), array(0.93159267), array(-0.30321645), array(0.95030462), array(0.45399967), array(9.27908082), array(0.01475681), array(6.57996745), array(0.91993482), array(0.03429691), array(18.55816164), array(4.67371135), array(17.74747556), array(6.03254967), array(432.04757085), array(0.21864756), array(1.76763674), array(150.43522267), array(17.58213926), array(102.07135628), array(8.63967611), array(884.51062753), array(0.22607334), array(0.02836078), array(0.34591976), array(35.73451569), array(0.01125117), array(114.67007673), array(0.0727836), array(17.45174012), array(102.14330343), array(1.91271773), array(194.15121036), array(0.05282568), array(0.02894395), array(4.77597966), array(1052.85771871), array(0.66796772), array(0.79731781), array(0.33849751), array(0.84451801), array(86.1746112), array(0.02488614), array(53.07537688), array(0.06667761), array(17.31104486), array(103.9459799), array(20.61809045), array(2075.24246231), array(0.51220965), array(0.03135729), array(307.00753769), array(0.38568786), array(0.64534804), array(67.09229469), array(0.0223538), array(5.9033392), array(0.40283401), array(14.45572082), array(1.01373616), array(0.00720164), array(142.32555445), array(0.10669106), array(0.89394221), 0]\n",
      "pancreas_healthy_0069.dcm\n"
     ]
    },
    {
     "name": "stderr",
     "output_type": "stream",
     "text": [
      "parameter force2D must be set to True to enable shape2D extraction\n",
      "GLCM is symmetrical, therefore Sum Average = 2 * Joint Average, only 1 needs to be calculated\n",
      "Image/Mask geometry mismatch, attempting to correct Mask\n",
      "parameter force2D must be set to True to enable shape2D extraction\n",
      "GLCM is symmetrical, therefore Sum Average = 2 * Joint Average, only 1 needs to be calculated\n",
      "Image/Mask geometry mismatch, attempting to correct Mask\n"
     ]
    },
    {
     "name": "stdout",
     "output_type": "stream",
     "text": [
      "[0.26177663770133536, 0.0, 0.0, 136.7875120950712, array(102.265625), array(42.96875), array(124.90535968), array(124.90535968), array(3025.86161296), 35.80777499577849, array(0.15840926), array(6386.59839035), array(2.11067101), 3099.591064453125, array(-10.), array(113.), array(27807380.), array(2.77260113), array(45.), array(5.13457626), array(182.), array(36.28685454), array(63.6602335), array(75.), array(-133.), array(315.), array(20.89026253), array(81.39740345), array(-1.45391921), array(20536456.17675781), array(0.19340539), array(2572.91195925), array(86.79795353), array(1039.39159545), array(-80.66629731), array(13.28856294), array(1.93993632), array(0.74400599), array(1.0414107), array(1.81037225), array(0.8476938), array(0.60060691), array(0.5659129), array(0.99041947), array(0.93412739), array(-0.1713451), array(0.77379921), array(0.50122628), array(9.16298552), array(0.05308447), array(4.9704138), array(0.8280839), array(0.1215796), array(18.32597105), array(3.50797777), array(3.80712482), array(5.18608524), array(752.98903979), array(0.17941126), array(2.38944913), array(811.72242078), array(4.22742625), array(86.57969979), array(13.26828687), array(1209.4493686), array(0.1939935), array(0.01902138), array(0.2316103), array(18.77607042), array(0.00630836), array(512.40603571), array(0.17132839), array(4.75317442), array(85.06276345), array(2.5912104), array(229.87086137), array(0.04371371), array(0.02062321), array(4.06796093), array(1685.83323165), array(0.56278799), array(0.71271146), array(0.61763859), array(0.7779054), array(65.16205817), array(0.01713659), array(129.06054872), array(0.1221008), array(6.90645684), array(78.97161779), array(259.37842952), array(25393.77956481), array(2.75883701), array(0.02855983), array(343.79280984), array(0.32525337), array(0.59128584), array(46.55865036), array(0.0189778), array(5.58140967), array(0.25184656), array(243.61219567), array(2.8421274), array(0.00201646), array(65.56712066), array(0.03442526), array(0.206681), 0]\n",
      "pancreas_healthy_0071.dcm\n",
      "[0.28643831454680674, 0.0, 0.0, 118.99457155640434, array(49.875), array(35.625), array(103.95924988), array(103.95924988), array(2040.67236328), 34.08460451683585, array(0.17929701), array(4339.36916993), array(2.1264409), 2096.461669921875, array(3.), array(147.), array(27974127.), array(2.99974636), array(62.), array(3.04535503), array(205.), array(41.48779842), array(88.15701854), array(99.), array(-77.), array(282.), array(27.75725424), array(102.87970009), array(-0.73570064), array(22189438.14038086), array(0.15318285), array(2812.57277234), array(68.39885981), array(851.61851075), array(-52.74694146), array(16.83432822), array(1.53786105), array(0.83260044), array(0.8736023), array(1.67937922), array(0.76523056), array(0.64969754), array(0.625394), array(0.99126196), array(0.94055307), array(-0.27692824), array(0.89696519), array(0.49164129), array(8.03583752), array(0.04337452), array(5.17782354), array(0.85452439), array(0.10955212), array(16.07167504), array(3.90226608), array(4.59304732), array(5.6967541), array(415.60915626), array(0.15724902), array(3.05184706), array(404.86227771), array(4.56008597), array(69.3677639), array(17.57132047), array(1262.61104805), array(0.35351135), array(0.02333468), array(0.18028357), array(12.28722353), array(0.00506242), array(241.9024047), array(0.14107921), array(4.90867798), array(68.41494234), array(3.37075421), array(239.37620245), array(0.07161067), array(0.02468394), array(4.4775685), array(853.51735967), array(0.49581996), array(0.64869467), array(0.97701012), array(0.72870283), array(49.40418928), array(0.01868724), array(60.27592955), array(0.11795681), array(6.01081491), array(67.34637965), array(287.84931507), array(22628.69863014), array(4.39500398), array(0.02932219), array(144.73776908), array(0.28324417), array(0.54767374), array(37.8079642), array(0.01690297), array(5.67526708), array(0.1933409), array(261.09754482), array(1.85234996), array(0.00437787), array(44.32504744), array(0.03648601), array(0.3099444), 0]\n",
      "pancreas_healthy_0072.dcm\n"
     ]
    },
    {
     "name": "stderr",
     "output_type": "stream",
     "text": [
      "parameter force2D must be set to True to enable shape2D extraction\n",
      "GLCM is symmetrical, therefore Sum Average = 2 * Joint Average, only 1 needs to be calculated\n",
      "Image/Mask geometry mismatch, attempting to correct Mask\n"
     ]
    },
    {
     "name": "stdout",
     "output_type": "stream",
     "text": [
      "[0.30364354799007215, 0.0, 0.0, 113.88982163801421, array(71.944), array(46.138), array(114.59435578), array(114.59435578), array(2714.50407567), 34.58190952212313, array(0.16492417), array(5705.93509072), array(2.10201751), 2769.5921960000005, array(-107.), array(65.2), array(29618316.), array(3.20736236), array(123.), array(2.65575674), array(192.), array(63.13408319), array(-35.52837271), array(-65.), array(-349.), array(541.), array(50.17440641), array(80.8684317), array(0.44363766), array(18112311.073584), array(0.14108041), array(5277.43797839), array(178.33911338), array(2540.49206644), array(89.32249264), array(31.85729843), array(1.84167455), array(0.89058502), array(0.83332561), array(1.7376887), array(1.12795258), array(0.69040434), array(0.6677252), array(0.99632059), array(0.96543504), array(-0.35847165), array(0.94492942), array(0.41346367), array(13.0703919), array(0.05383353), array(5.24118692), array(0.90897574), array(0.16749267), array(26.14078379), array(4.09719749), array(8.42474325), array(6.01375491), array(564.56988298), array(0.12465663), array(4.89028625), array(638.95319055), array(8.51721832), array(180.16250828), array(25.08964451), array(4310.38993155), array(0.17732694), array(0.00756234), array(0.15441142), array(29.83460766), array(0.00144376), array(290.44713046), array(0.11373788), array(8.53079561), array(185.46961461), array(5.42735323), array(938.98314094), array(0.03939548), array(0.00795253), array(4.99842979), array(1133.74100444), array(0.44008961), array(0.5632038), array(2.19245838), array(0.68676865), array(130.10801467), array(0.005723), array(75.86185044), array(0.09614937), array(9.70233615), array(195.58048162), array(801.30671736), array(106978.81622307), array(6.43608769), array(0.00978235), array(206.68567807), array(0.26195903), array(0.52367716), array(103.50336843), array(0.00557007), array(6.14174792), array(0.17421064), array(768.35708032), array(0.68359089), array(0.00388221), array(106.91281344), array(0.01774041), array(1.03646977), 0]\n",
      "pancreas_healthy_0073.dcm\n"
     ]
    },
    {
     "name": "stderr",
     "output_type": "stream",
     "text": [
      "parameter force2D must be set to True to enable shape2D extraction\n",
      "GLCM is symmetrical, therefore Sum Average = 2 * Joint Average, only 1 needs to be calculated\n",
      "Image/Mask geometry mismatch, attempting to correct Mask\n",
      "parameter force2D must be set to True to enable shape2D extraction\n",
      "GLCM is symmetrical, therefore Sum Average = 2 * Joint Average, only 1 needs to be calculated\n",
      "Image/Mask geometry mismatch, attempting to correct Mask\n"
     ]
    },
    {
     "name": "stdout",
     "output_type": "stream",
     "text": [
      "[0.23322436282594305, 0.0, 0.0, 160.1063585818288, array(104.0625), array(36.5625), array(154.63155949), array(154.63155949), array(3340.88745117), 37.34070346462898, array(0.15317262), array(7055.7668936), array(2.11194391), 3408.28857421875, array(-945.), array(144.), array(1.08880764e+09), array(4.19431608), array(189.), array(3.77393661), array(338.), array(283.59164888), array(-113.26124166), array(43.), array(-1017.), array(1355.), array(168.11247196), array(397.41105253), array(-1.55499895), array(5.38289912e+08), array(0.07435922), array(145107.4358143), array(1595.34882498), array(3227641.72217051), array(-43723.37514426), array(923.77208895), array(7.79380124), array(0.98328359), array(1.12474527), array(1.86405876), array(6.48557403), array(0.69208624), array(0.67336125), array(0.99761768), array(0.98161084), array(-0.52408699), array(0.99340475), array(0.41038067), array(36.96419417), array(0.02849059), array(6.16706071), array(0.98611894), array(0.08915681), array(73.92838833), array(5.09575883), array(232.89147255), array(6.92446238), array(835.09950682), array(0.12113425), array(5.0992364), array(512.632434), array(232.45862259), array(1601.0078329), array(25.96083551), array(39308.85175515), array(0.61216018), array(0.01537794), array(0.15933123), array(229.20375526), array(0.00167877), array(247.78517557), array(0.06485807), array(187.11906093), array(1632.22709131), array(6.06497556), array(8726.17894223), array(0.16686471), array(0.01101193), array(5.98386811), array(1717.61384895), array(0.44611385), array(0.55406876), array(2.74131013), array(0.69227047), array(1120.80066693), array(0.00647337), array(55.51819757), array(0.04810936), array(207.18421645), array(1464.54419411), array(1095.21663778), array(1754691.05372617), array(27.74718193), array(0.01011555), array(371.33102253), array(0.32177732), array(0.58902018), array(745.96013449), array(0.00637121), array(7.06744389), array(0.16739194), array(1059.52792037), array(0.0713674), array(0.0042948), array(1005.16676273), array(0.09823254), array(14.37480239), 0]\n",
      "pancreas_healthy_0074.dcm\n",
      "[0.22681927220512232, 0.0, 0.0, 129.16086665859493, array(60.9375), array(34.6875), array(124.52174132), array(124.52174132), array(2321.11816406), 29.29617377288535, array(0.17214137), array(4924.8956489), array(2.12177722), 2385.3515625, array(-93.), array(121.), array(18527871.), array(3.60231542), array(143.), array(1.86694079), array(221.), array(71.2854198), array(13.7770818), array(20.), array(-162.), array(383.), array(57.61526467), array(82.62430844), array(0.04751321), array(16284261.62109375), array(0.08924792), array(6636.96836201), array(73.81965984), array(2801.15905341), array(16.37676207), array(39.37285877), array(3.11882318), array(0.85316823), array(1.32116906), array(2.0790009), array(1.32761115), array(0.55131361), array(0.50238609), array(0.98832852), array(0.92770353), array(-0.25887559), array(0.91316724), array(0.45998746), array(8.0471177), array(0.01732279), array(6.26108087), array(0.86707201), array(0.04241256), array(16.0942354), array(4.48700639), array(10.62292049), array(5.94706051), array(557.75165807), array(0.20550909), array(2.01810096), array(242.21886514), array(10.69716796), array(75.88761975), array(10.55121592), array(767.05268976), array(0.31690056), array(0.03104739), array(0.27221798), array(21.28802933), array(0.00969111), array(178.96337242), array(0.08679037), array(10.68852743), array(76.69994168), array(2.21805314), array(166.56322811), array(0.06732571), array(0.03141291), array(4.63847822), array(1287.62944593), array(0.62023179), array(0.7598563), array(0.45961333), array(0.81411542), array(63.11059198), array(0.02575608), array(73.98657718), array(0.08275903), array(10.77075232), array(77.8310962), array(29.901566), array(2284.41946309), array(0.77644399), array(0.03498351), array(259.21029083), array(0.2899444), array(0.55111495), array(43.20550844), array(0.02181115), array(6.00273025), array(0.3294031), array(20.68551967), array(1.78763541), array(0.00522457), array(83.88907958), array(0.0752076), array(0.44901172), 0]\n",
      "pancreas_healthy_0075.dcm\n"
     ]
    },
    {
     "name": "stderr",
     "output_type": "stream",
     "text": [
      "parameter force2D must be set to True to enable shape2D extraction\n",
      "GLCM is symmetrical, therefore Sum Average = 2 * Joint Average, only 1 needs to be calculated\n",
      "Image/Mask geometry mismatch, attempting to correct Mask\n",
      "parameter force2D must be set to True to enable shape2D extraction\n",
      "GLCM is symmetrical, therefore Sum Average = 2 * Joint Average, only 1 needs to be calculated\n"
     ]
    },
    {
     "name": "stdout",
     "output_type": "stream",
     "text": [
      "[0.3324394716066323, 0.0, 0.0, 105.8749579187553, array(97.03125), array(25.15625), array(98.26294357), array(98.26294357), array(1747.7007548), 35.197015066885434, array(0.18813165), array(3729.64047482), array(2.13402693), 1799.2263793945312, array(-57.), array(163.2), array(28024305.), array(3.39941071), array(95.), array(2.64369609), array(221.), array(62.86437013), array(79.87572903), array(98.), array(-120.), array(341.), array(44.31009737), array(112.12756507), array(-0.81006894), array(22620937.11090088), array(0.11272691), array(6192.4587604), array(85.71340824), array(3996.99388361), array(-202.03573251), array(38.56559155), array(1.8919717), array(0.90632724), array(0.92444657), array(1.76612572), array(1.02094584), array(0.64766474), array(0.62214707), array(0.9908819), array(0.94199865), array(-0.34529397), array(0.9486766), array(0.4772925), array(8.74898292), array(0.0322887), array(5.62214389), array(0.91793382), array(0.0823257), array(17.49796583), array(4.31546018), array(10.11439081), array(6.03187241), array(348.59084791), array(0.1563889), array(3.09881108), array(251.26828174), array(10.03966717), array(86.16509646), array(17.79497533), array(1615.22925079), array(0.66018107), array(0.04186179), array(0.17514798), array(13.90535114), array(0.00922022), array(152.27378471), array(0.10575509), array(10.03767523), array(84.06210516), array(3.41096843), array(305.34583336), array(0.12978257), array(0.04425454), array(4.84477227), array(715.14649738), array(0.49494714), array(0.64580529), array(0.99462143), array(0.72913295), array(60.23689483), array(0.03347996), array(39.33410673), array(0.09126243), array(10.40481048), array(75.63573086), array(312.387471), array(30285.29466357), array(6.17387511), array(0.05714073), array(111.97911833), array(0.25981234), array(0.51820978), array(39.67516626), array(0.03103988), array(5.98874142), array(0.19336025), array(285.6410549), array(1.12383617), array(0.00690161), array(47.8827168), array(0.06889413), array(0.55903161), 0]\n",
      "pancreas_healthy_0076.dcm\n",
      "[0.2593028724019713, 0.0, 0.0, 117.78517295614158, array(53.0078125), array(35.9375), array(114.14400047), array(114.14400047), array(1519.87139384), 30.5420336738905, array(0.19085532), array(3349.53427407), array(2.20382743), 1587.7426147460938, array(-65.4), array(137.), array(15344657.), array(3.57714951), array(131.), array(9.08750125), array(746.), array(67.33148759), array(29.23894255), array(19.), array(-148.), array(894.), array(51.67245758), array(88.32352889), array(1.24360215), array(12386052.784729), array(0.09315966), array(6946.12999339), array(67.91557957), array(11091.76061661), array(275.61363401), array(41.30112528), array(4.12255219), array(0.81848835), array(1.26161263), array(2.04728668), array(2.51108683), array(0.58010181), array(0.54118238), array(0.99704182), array(0.96762216), array(-0.29042404), array(0.9332197), array(0.48264956), array(7.65642273), array(0.01984863), array(6.1125456), array(0.87443074), array(0.04546356), array(15.31284545), array(4.47310967), array(11.35591937), array(5.98415872), array(384.59125572), array(0.19552174), array(2.1250987), array(183.24504321), array(11.17639217), array(70.28723945), array(11.73919675), array(810.29028978), array(0.3533536), array(0.03242409), array(0.24306089), array(19.72601636), array(0.00945384), array(132.67708468), array(0.0914636), array(11.73282143), array(71.22814112), array(2.35744065), array(164.42690349), array(0.07385416), array(0.03320594), array(4.6900869), array(857.27892801), array(0.58999411), array(0.73741739), array(0.51234155), array(0.79599846), array(57.57157213), array(0.02699281), array(48.70766488), array(0.08682293), array(15.74163783), array(78.80392157), array(52.92513369), array(4211.58823529), array(1.41978899), array(0.0379751), array(156.65418895), array(0.27924098), array(0.5402844), array(48.41258247), array(0.02381471), array(6.01742247), array(0.2852059), array(40.63142275), array(0.57234226), array(0.00762666), array(318.08001937), array(0.02997266), array(4.68516799), 0]\n",
      "pancreas_healthy_0077.dcm\n"
     ]
    },
    {
     "name": "stderr",
     "output_type": "stream",
     "text": [
      "parameter force2D must be set to True to enable shape2D extraction\n",
      "GLCM is symmetrical, therefore Sum Average = 2 * Joint Average, only 1 needs to be calculated\n",
      "Image/Mask geometry mismatch, attempting to correct Mask\n",
      "parameter force2D must be set to True to enable shape2D extraction\n"
     ]
    },
    {
     "name": "stdout",
     "output_type": "stream",
     "text": [
      "[0.24970379348957994, 0.0, 0.0, 110.33934173793688, array(56.71875), array(36.953125), array(102.29811721), array(102.29811721), array(1932.84403483), 27.552152203105976, array(0.18358634), array(4087.34821166), array(2.11468082), 1978.509521484375, array(-9.), array(109.), array(14782809.), array(2.90616694), array(55.), array(4.35658324), array(156.), array(37.15996801), array(55.89137738), array(65.), array(-156.), array(312.), array(24.12490315), array(74.2834603), array(-1.05425063), array(10917479.79125977), array(0.16417337), array(2394.18640941), array(98.24925572), array(672.18247593), array(-48.79557473), array(11.83696123), array(3.1523534), array(0.57895747), array(1.35598458), array(2.10222404), array(1.3021837), array(0.54043675), array(0.48816266), array(0.98469836), array(0.91651206), array(-0.09995919), array(0.65456496), array(0.45504539), array(9.80194043), array(0.03407195), array(5.46562165), array(0.65020874), array(0.07173089), array(19.60388086), array(3.64684626), array(3.74732866), array(5.16927608), array(557.42030608), array(0.20807029), array(1.88190955), array(439.82045539), array(3.94245344), array(99.12691303), array(9.8727137), array(1028.61851437), array(0.11215486), array(0.01398544), array(0.2923308), array(27.54343118), array(0.0054869), array(316.06548388), array(0.15289091), array(4.30782365), array(97.87014482), array(2.11040164), array(213.15251864), array(0.02725627), array(0.01475286), array(3.95196833), array(1321.11910487), array(0.63842451), array(0.77164987), array(0.42779876), array(0.82675516), array(80.06672811), array(0.01274698), array(111.87862513), array(0.12017038), array(5.94380689), array(94.13426423), array(24.0311493), array(2509.76262084), array(0.26191085), array(0.01824107), array(295.68528464), array(0.31759966), array(0.58185381), array(53.53875959), array(0.01256181), array(5.50111619), array(0.34751773), array(15.75084943), array(1.98253324), array(0.00290479), array(86.84860657), array(0.04107023), array(0.27874954), 0]\n",
      "pancreas_healthy_0078.dcm\n"
     ]
    },
    {
     "name": "stderr",
     "output_type": "stream",
     "text": [
      "GLCM is symmetrical, therefore Sum Average = 2 * Joint Average, only 1 needs to be calculated\n",
      "Image/Mask geometry mismatch, attempting to correct Mask\n",
      "parameter force2D must be set to True to enable shape2D extraction\n",
      "GLCM is symmetrical, therefore Sum Average = 2 * Joint Average, only 1 needs to be calculated\n",
      "Image/Mask geometry mismatch, attempting to correct Mask\n"
     ]
    },
    {
     "name": "stdout",
     "output_type": "stream",
     "text": [
      "[0.23602021078052518, 0.0, 0.0, 138.9207818478791, array(71.875), array(38.28125), array(131.20581474), array(131.20581474), array(2650.8585612), 32.78811221353178, array(0.16559024), array(5593.80207348), array(2.11018504), 2708.1298828125, array(-204.4), array(272.), array(3.16994982e+08), array(4.49357019), array(320.), array(6.37243152), array(365.), array(196.69445632), array(60.5210728), array(158.), array(-976.), array(1341.), array(129.770567), array(267.28924198), array(-1.80310647), array(1.93478383e+08), array(0.07196583), array(67780.73862513), array(1955.3913388), array(1135724.24661273), array(-15601.99458259), array(424.38792417), array(5.80984203), array(0.97297407), array(1.38377851), array(2.1885656), array(3.8581532), array(0.58915941), array(0.55237471), array(0.99813795), array(0.97652033), array(-0.44838459), array(0.990588), array(0.45790982), array(43.02028663), array(0.02030014), array(6.94174152), array(0.98763322), array(0.07246742), array(86.04057325), array(5.3682557), array(107.54944155), array(6.93544053), array(731.84606716), array(0.16494164), array(2.92186146), array(319.31237323), array(108.57284014), array(1952.86590038), array(14.35226504), array(30529.18819022), array(0.02398784), array(0.00223887), array(0.24129544), array(396.56140768), array(0.0008094), array(185.6241865), array(0.05957384), array(121.61201784), array(1885.37619427), array(2.75734964), array(5621.11832137), array(0.005204), array(0.00245043), array(5.84895014), array(1754.50354807), array(0.56157502), array(0.702389), array(0.72031488), array(0.77732418), array(1420.34550883), array(0.00201492), array(41.30207469), array(0.03427558), array(155.33988051), array(1626.58755187), array(270.80580913), array(670609.27302905), array(0.14300354), array(0.00337072), array(404.88547718), array(0.33600455), array(0.60020463), array(895.69937711), array(0.00236078), array(7.23564896), array(0.2715799), array(257.24752398), array(0.05081717), array(0.00550041), array(1250.95773929), array(0.05462867), array(19.37493417), 0]\n",
      "pancreas_healthy_0079.dcm\n",
      "[0.19385406069709513, 0.0, 0.0, 162.39648882415577, array(70.3125), array(26.3671875), array(141.82700265), array(141.82700265), array(2212.20652262), 31.481218801513023, array(0.17211798), array(4770.25574783), array(2.15633382), 2294.5404052734375, array(-120.), array(68.), array(19482549.), array(3.08110225), array(76.75), array(3.36875876), array(155.), array(56.43586241), array(-55.34954281), array(-83.), array(-176.), array(331.), array(37.43084978), array(89.9860269), array(1.19938358), array(18580006.59942627), array(0.16145146), array(5033.91314817), array(46.10211052), array(3171.89671487), array(209.40305558), array(29.7303206), array(2.07271387), array(0.86956967), array(1.03029528), array(1.83375139), array(1.00333176), array(0.61042276), array(0.57823217), array(0.99119181), array(0.93912586), array(-0.26118316), array(0.8918053), array(0.49792612), array(6.25998479), array(0.0458644), array(5.33273746), array(0.90276357), array(0.10630799), array(12.51996957), array(3.89242821), array(7.95075862), array(5.53006704), array(422.5677473), array(0.17563082), array(2.56735551), array(388.45220283), array(8.10707852), array(47.88196176), array(13.88445553), array(616.67248545), array(0.56096788), array(0.04019495), array(0.22224036), array(11.19523414), array(0.0097881), array(244.05919093), array(0.14400665), array(8.22071283), array(49.05554352), array(2.68438234), array(125.05314167), array(0.10791161), array(0.04035024), array(4.36508856), array(947.37526597), array(0.55751604), array(0.70448878), array(0.65973749), array(0.77434894), array(38.76328896), array(0.03145835), array(64.00854701), array(0.10941632), array(8.72383958), array(52.75897436), array(148.02735043), array(4627.47692308), array(7.00415719), array(0.0434673), array(181.30769231), array(0.30992768), array(0.57424945), array(28.93233138), array(0.0274098), array(5.66170889), array(0.24314214), array(131.11205786), array(2.94837955), array(0.00399707), array(73.16690662), array(0.05692263), array(0.50131083), 0]\n",
      "pancreas_healthy_0080.dcm\n"
     ]
    },
    {
     "name": "stderr",
     "output_type": "stream",
     "text": [
      "parameter force2D must be set to True to enable shape2D extraction\n",
      "GLCM is symmetrical, therefore Sum Average = 2 * Joint Average, only 1 needs to be calculated\n",
      "Image/Mask geometry mismatch, attempting to correct Mask\n",
      "parameter force2D must be set to True to enable shape2D extraction\n",
      "GLCM is symmetrical, therefore Sum Average = 2 * Joint Average, only 1 needs to be calculated\n",
      "Image/Mask geometry mismatch, attempting to correct Mask\n"
     ]
    },
    {
     "name": "stdout",
     "output_type": "stream",
     "text": [
      "[0.3356407185515459, 0.0, 0.0, 100.22504552173979, array(54.6875), array(48.828125), array(88.30738862), array(88.30738862), array(1618.22636922), 33.63960629577814, array(0.19214165), array(3469.14238917), array(2.14379302), 1674.652099609375, array(40.), array(248.), array(52586112.), array(3.80337963), array(104.), array(6.97965361), array(663.), array(69.33335366), array(143.03302961), array(137.), array(-83.), array(746.), array(43.44419167), array(173.05066608), array(1.42089288), array(50150024.4140625), array(0.09118882), array(9488.08546941), array(115.05758512), array(17330.67442779), array(489.37758403), array(53.23412454), array(7.35994268), array(0.75685861), array(1.50592322), array(2.24235282), array(5.04019386), array(0.5721912), array(0.53323964), array(0.99326189), array(0.95731815), array(-0.3091606), array(0.94849588), array(0.46581644), array(10.17785952), array(0.02064106), array(6.39929987), array(0.84208545), array(0.04861475), array(20.35571903), array(4.69235776), array(15.1485168), array(6.22945443), array(316.68792711), array(0.1803462), array(2.5335472), array(160.12756264), array(15.27118055), array(120.21697039), array(12.45102506), array(1265.71924829), array(0.17789329), array(0.01620356), array(0.26146434), array(39.5397679), array(0.00492181), array(109.0507497), array(0.08492053), array(17.70551353), array(126.53404543), array(2.46585846), array(276.48073275), array(0.03754411), array(0.01682909), array(4.98167644), array(763.28019532), array(0.59291981), array(0.73134966), array(0.58661695), array(0.79796018), array(105.53526824), array(0.01378867), array(35.72623574), array(0.0679206), array(27.19628735), array(150.29657795), array(47.06463878), array(4646.12357414), array(0.62010875), array(0.01963777), array(171.88212928), array(0.32677211), array(0.59186602), array(98.941515), array(0.0120352), array(6.29180651), array(0.29954442), array(35.91970391), array(0.32967595), array(0.00799629), array(423.06416713), array(0.03598674), array(4.05527252), 0]\n",
      "pancreas_healthy_0081.dcm\n",
      "[0.5328184396753942, 0.0, 0.0, 54.40093883298333, array(34.1796875), array(41.015625), array(51.56397962), array(51.56397962), array(652.9490153), 28.985823345866738, array(0.25150864), array(1447.16279679), array(2.21634885), 687.5991821289062, array(-57.), array(223.), array(12070124.), array(3.8477513), array(128.), array(2.54342366), array(337.), array(78.83066168), array(82.35783634), array(87.), array(-108.), array(445.), array(56.39898948), array(129.38628206), array(0.26786834), array(11510967.25463867), array(0.08185003), array(9957.99677978), array(91.10965062), array(9433.4263593), array(134.8194438), array(60.3517064), array(2.20113435), array(0.92954328), array(1.02693661), array(1.88228768), array(1.12664604), array(0.6246667), array(0.59220542), array(0.99408038), array(0.95125532), array(-0.39978365), array(0.97513621), array(0.46167948), array(8.75035833), array(0.02199229), array(6.13665642), array(0.94799052), array(0.07140322), array(17.50071667), array(4.7357473), array(15.63821019), array(6.35349887), array(116.70873786), array(0.16187065), array(3.12690996), array(59.01386963), array(16.02950902), array(93.86546463), array(15.72399445), array(1420.22884882), array(0.53416438), array(0.03349765), array(0.22007878), array(19.3493493), array(0.00834841), array(37.74569591), array(0.07687264), array(16.13733276), array(94.49423853), array(2.98673399), array(273.59500545), array(0.10207208), array(0.0334668), array(5.08704846), array(264.25172561), array(0.53577068), array(0.68134535), array(0.80965755), array(0.75925902), array(71.51101886), array(0.02574453), array(13.67039106), array(0.0763709), array(14.58525015), array(92.00558659), array(64.88826816), array(5303.97206704), array(2.23258891), array(0.0347921), array(54.54189944), array(0.30470335), array(0.56959455), array(46.4477459), array(0.02400872), array(5.6112651), array(0.2482663), array(48.66402422), array(0.26889445), array(0.02717878), array(92.86309042), array(0.06276531), array(3.73231658), 0]\n",
      "pancreas_healthy_0082.dcm\n"
     ]
    },
    {
     "name": "stderr",
     "output_type": "stream",
     "text": [
      "parameter force2D must be set to True to enable shape2D extraction\n",
      "GLCM is symmetrical, therefore Sum Average = 2 * Joint Average, only 1 needs to be calculated\n"
     ]
    },
    {
     "name": "stdout",
     "output_type": "stream",
     "text": [
      "[0.18489354879268047, 0.0, 0.0, 172.4438192136819, array(122.8125), array(29.0625), array(133.72115635), array(133.72115635), array(1576.83105469), 31.883749701781063, array(0.19230143), array(3406.89216684), array(2.16059429), 1634.765625, array(-118.), array(91.1), array(15504124.), array(3.4061912), array(86.25), array(3.69746607), array(273.), array(63.41811655), array(-41.34731183), array(-68.), array(-179.), array(452.), array(41.18168331), array(91.29923624), array(1.18215202), array(13626671.484375), array(0.1245248), array(6625.95034224), array(55.6068281), array(5659.8585158), array(313.33951911), array(38.37821088), array(4.04162553), array(0.80941413), array(1.5380188), array(2.23826397), array(1.65465599), array(0.51044086), array(0.45227734), array(0.98921892), array(0.92858869), array(-0.19803119), array(0.85806222), array(0.44734861), array(6.8572839), array(0.02468005), array(6.12538109), array(0.87045771), array(0.06348634), array(13.7145678), array(4.15874299), array(10.6049591), array(5.50727371), array(436.90860215), array(0.2348971), array(1.58695109), array(231.61612903), array(10.65460169), array(57.93870968), array(8.0483871), array(432.9344086), array(0.28279011), array(0.03783864), array(0.3429378), array(20.93263784), array(0.01536216), array(175.2190849), array(0.11670775), array(10.88328058), array(58.75469524), array(1.85025487), array(103.47869975), array(0.06838417), array(0.0386577), array(4.2972753), array(1025.56085486), array(0.68223975), array(0.80725806), array(0.31299988), array(0.85243063), array(50.41716937), array(0.0336564), array(71.7962963), array(0.09496865), array(12.13397581), array(62.81481481), array(15.53439153), array(690.14550265), array(0.5885845), array(0.04277472), array(268.89417989), array(0.35568013), array(0.61675913), array(38.53180452), array(0.03001835), array(5.64057589), array(0.40645161), array(9.48122953), array(1.72909268), array(0.00474014), array(185.25979453), array(0.06834623), array(0.93892222), 0]\n"
     ]
    }
   ],
   "source": [
    "count = 0\n",
    "l = []\n",
    "for i in os.listdir(healthy_path_slice):\n",
    "    sample_img = sitk.ReadImage(healthy_path_slice+i)\n",
    "    sample_mask = sitk.ReadImage(healthy_path_mask + i)\n",
    "    print(i)\n",
    "    # feature_vector = extractor.execute(sample_img,sample_mask)\n",
    "    feature_vector = extractor.execute(sample_img,sample_mask,label = 1)\n",
    "    start_key = 'original_shape_Elongation'\n",
    "    start_index = list(feature_vector.keys()).index(start_key)\n",
    "    # keys_from_start = list(feature_vector.keys())[list(feature_vector.keys()).index(start_key):]\n",
    "    # count = len(keys_from_start)\n",
    "    # values_array = np.empty((0, count), dtype=float)\n",
    "    \n",
    "    l1 = []\n",
    "\n",
    "    # for key, value in feature_vector.items():\n",
    "    for key, value in islice(feature_vector.items(), start_index, None):\n",
    "\n",
    "        # print(\"\\t\", count,key, \":\", value)\n",
    "        l1.append(value)\n",
    "    l1.append(0)\n",
    "    print(l1)\n",
    "    l.append(l1)\n",
    "    # count+=1\n",
    "    # if count == 2:\n",
    "    #     break\n",
    "\n",
    "# values_array = np.array(l).flatten()\n",
    "df = pd.DataFrame(l)\n",
    "\n"
   ]
  },
  {
   "cell_type": "code",
   "execution_count": 5,
   "metadata": {},
   "outputs": [],
   "source": [
    "# Write the DataFrame to a CSV file\n",
    "output_csv = 'featuresvalues_new.csv'\n",
    "df.to_csv(output_csv, index=False)"
   ]
  },
  {
   "cell_type": "code",
   "execution_count": 6,
   "metadata": {},
   "outputs": [],
   "source": [
    "tumor_path_slice = '../Segment_data_1/Tumor_pancreas/Pancreas_slice/'\n",
    "tumor_path_mask = \"../Segment_data_1/Tumor_pancreas/Mask/\""
   ]
  },
  {
   "cell_type": "code",
   "execution_count": 7,
   "metadata": {},
   "outputs": [
    {
     "name": "stderr",
     "output_type": "stream",
     "text": [
      "parameter force2D must be set to True to enable shape2D extraction\n",
      "GLCM is symmetrical, therefore Sum Average = 2 * Joint Average, only 1 needs to be calculated\n"
     ]
    },
    {
     "name": "stdout",
     "output_type": "stream",
     "text": [
      "pancreas_001.dcm\n"
     ]
    },
    {
     "name": "stderr",
     "output_type": "stream",
     "text": [
      "parameter force2D must be set to True to enable shape2D extraction\n",
      "GLCM is symmetrical, therefore Sum Average = 2 * Joint Average, only 1 needs to be calculated\n",
      "parameter force2D must be set to True to enable shape2D extraction\n",
      "GLCM is symmetrical, therefore Sum Average = 2 * Joint Average, only 1 needs to be calculated\n"
     ]
    },
    {
     "name": "stdout",
     "output_type": "stream",
     "text": [
      "pancreas_004.dcm\n"
     ]
    },
    {
     "name": "stderr",
     "output_type": "stream",
     "text": [
      "parameter force2D must be set to True to enable shape2D extraction\n",
      "GLCM is symmetrical, therefore Sum Average = 2 * Joint Average, only 1 needs to be calculated\n",
      "parameter force2D must be set to True to enable shape2D extraction\n",
      "GLCM is symmetrical, therefore Sum Average = 2 * Joint Average, only 1 needs to be calculated\n"
     ]
    },
    {
     "name": "stdout",
     "output_type": "stream",
     "text": [
      "pancreas_005.dcm\n"
     ]
    },
    {
     "name": "stderr",
     "output_type": "stream",
     "text": [
      "parameter force2D must be set to True to enable shape2D extraction\n",
      "GLCM is symmetrical, therefore Sum Average = 2 * Joint Average, only 1 needs to be calculated\n"
     ]
    },
    {
     "name": "stdout",
     "output_type": "stream",
     "text": [
      "pancreas_006.dcm\n"
     ]
    },
    {
     "name": "stderr",
     "output_type": "stream",
     "text": [
      "parameter force2D must be set to True to enable shape2D extraction\n",
      "GLCM is symmetrical, therefore Sum Average = 2 * Joint Average, only 1 needs to be calculated\n",
      "parameter force2D must be set to True to enable shape2D extraction\n",
      "GLCM is symmetrical, therefore Sum Average = 2 * Joint Average, only 1 needs to be calculated\n",
      "parameter force2D must be set to True to enable shape2D extraction\n",
      "GLCM is symmetrical, therefore Sum Average = 2 * Joint Average, only 1 needs to be calculated\n"
     ]
    },
    {
     "name": "stdout",
     "output_type": "stream",
     "text": [
      "pancreas_010.dcm\n"
     ]
    },
    {
     "name": "stderr",
     "output_type": "stream",
     "text": [
      "parameter force2D must be set to True to enable shape2D extraction\n",
      "GLCM is symmetrical, therefore Sum Average = 2 * Joint Average, only 1 needs to be calculated\n"
     ]
    },
    {
     "name": "stdout",
     "output_type": "stream",
     "text": [
      "pancreas_012.dcm\n"
     ]
    },
    {
     "name": "stderr",
     "output_type": "stream",
     "text": [
      "parameter force2D must be set to True to enable shape2D extraction\n",
      "GLCM is symmetrical, therefore Sum Average = 2 * Joint Average, only 1 needs to be calculated\n",
      "parameter force2D must be set to True to enable shape2D extraction\n",
      "GLCM is symmetrical, therefore Sum Average = 2 * Joint Average, only 1 needs to be calculated\n",
      "parameter force2D must be set to True to enable shape2D extraction\n",
      "GLCM is symmetrical, therefore Sum Average = 2 * Joint Average, only 1 needs to be calculated\n"
     ]
    },
    {
     "name": "stdout",
     "output_type": "stream",
     "text": [
      "pancreas_015.dcm\n"
     ]
    },
    {
     "name": "stderr",
     "output_type": "stream",
     "text": [
      "parameter force2D must be set to True to enable shape2D extraction\n",
      "GLCM is symmetrical, therefore Sum Average = 2 * Joint Average, only 1 needs to be calculated\n",
      "parameter force2D must be set to True to enable shape2D extraction\n",
      "GLCM is symmetrical, therefore Sum Average = 2 * Joint Average, only 1 needs to be calculated\n"
     ]
    },
    {
     "name": "stdout",
     "output_type": "stream",
     "text": [
      "pancreas_016.dcm\n"
     ]
    },
    {
     "name": "stderr",
     "output_type": "stream",
     "text": [
      "parameter force2D must be set to True to enable shape2D extraction\n",
      "GLCM is symmetrical, therefore Sum Average = 2 * Joint Average, only 1 needs to be calculated\n",
      "parameter force2D must be set to True to enable shape2D extraction\n",
      "GLCM is symmetrical, therefore Sum Average = 2 * Joint Average, only 1 needs to be calculated\n",
      "parameter force2D must be set to True to enable shape2D extraction\n",
      "GLCM is symmetrical, therefore Sum Average = 2 * Joint Average, only 1 needs to be calculated\n"
     ]
    },
    {
     "name": "stdout",
     "output_type": "stream",
     "text": [
      "pancreas_018.dcm\n",
      "pancreas_019.dcm\n"
     ]
    },
    {
     "name": "stderr",
     "output_type": "stream",
     "text": [
      "parameter force2D must be set to True to enable shape2D extraction\n",
      "GLCM is symmetrical, therefore Sum Average = 2 * Joint Average, only 1 needs to be calculated\n",
      "parameter force2D must be set to True to enable shape2D extraction\n",
      "GLCM is symmetrical, therefore Sum Average = 2 * Joint Average, only 1 needs to be calculated\n",
      "parameter force2D must be set to True to enable shape2D extraction\n",
      "GLCM is symmetrical, therefore Sum Average = 2 * Joint Average, only 1 needs to be calculated\n"
     ]
    },
    {
     "name": "stdout",
     "output_type": "stream",
     "text": [
      "pancreas_021.dcm\n"
     ]
    },
    {
     "name": "stderr",
     "output_type": "stream",
     "text": [
      "parameter force2D must be set to True to enable shape2D extraction\n",
      "GLCM is symmetrical, therefore Sum Average = 2 * Joint Average, only 1 needs to be calculated\n",
      "parameter force2D must be set to True to enable shape2D extraction\n",
      "GLCM is symmetrical, therefore Sum Average = 2 * Joint Average, only 1 needs to be calculated\n"
     ]
    },
    {
     "name": "stdout",
     "output_type": "stream",
     "text": [
      "pancreas_024.dcm\n"
     ]
    },
    {
     "name": "stderr",
     "output_type": "stream",
     "text": [
      "parameter force2D must be set to True to enable shape2D extraction\n",
      "GLCM is symmetrical, therefore Sum Average = 2 * Joint Average, only 1 needs to be calculated\n"
     ]
    },
    {
     "name": "stdout",
     "output_type": "stream",
     "text": [
      "pancreas_025.dcm\n"
     ]
    },
    {
     "name": "stderr",
     "output_type": "stream",
     "text": [
      "parameter force2D must be set to True to enable shape2D extraction\n",
      "GLCM is symmetrical, therefore Sum Average = 2 * Joint Average, only 1 needs to be calculated\n",
      "parameter force2D must be set to True to enable shape2D extraction\n",
      "GLCM is symmetrical, therefore Sum Average = 2 * Joint Average, only 1 needs to be calculated\n",
      "parameter force2D must be set to True to enable shape2D extraction\n",
      "GLCM is symmetrical, therefore Sum Average = 2 * Joint Average, only 1 needs to be calculated\n",
      "parameter force2D must be set to True to enable shape2D extraction\n",
      "GLCM is symmetrical, therefore Sum Average = 2 * Joint Average, only 1 needs to be calculated\n"
     ]
    },
    {
     "name": "stdout",
     "output_type": "stream",
     "text": [
      "pancreas_028.dcm\n",
      "pancreas_029.dcm\n"
     ]
    },
    {
     "name": "stderr",
     "output_type": "stream",
     "text": [
      "parameter force2D must be set to True to enable shape2D extraction\n",
      "GLCM is symmetrical, therefore Sum Average = 2 * Joint Average, only 1 needs to be calculated\n",
      "parameter force2D must be set to True to enable shape2D extraction\n",
      "GLCM is symmetrical, therefore Sum Average = 2 * Joint Average, only 1 needs to be calculated\n",
      "parameter force2D must be set to True to enable shape2D extraction\n",
      "GLCM is symmetrical, therefore Sum Average = 2 * Joint Average, only 1 needs to be calculated\n",
      "parameter force2D must be set to True to enable shape2D extraction\n",
      "GLCM is symmetrical, therefore Sum Average = 2 * Joint Average, only 1 needs to be calculated\n"
     ]
    },
    {
     "name": "stdout",
     "output_type": "stream",
     "text": [
      "pancreas_032.dcm\n"
     ]
    },
    {
     "name": "stderr",
     "output_type": "stream",
     "text": [
      "parameter force2D must be set to True to enable shape2D extraction\n",
      "GLCM is symmetrical, therefore Sum Average = 2 * Joint Average, only 1 needs to be calculated\n"
     ]
    },
    {
     "name": "stdout",
     "output_type": "stream",
     "text": [
      "pancreas_035.dcm\n"
     ]
    },
    {
     "name": "stderr",
     "output_type": "stream",
     "text": [
      "parameter force2D must be set to True to enable shape2D extraction\n",
      "GLCM is symmetrical, therefore Sum Average = 2 * Joint Average, only 1 needs to be calculated\n"
     ]
    },
    {
     "name": "stdout",
     "output_type": "stream",
     "text": [
      "pancreas_037.dcm\n"
     ]
    },
    {
     "name": "stderr",
     "output_type": "stream",
     "text": [
      "parameter force2D must be set to True to enable shape2D extraction\n",
      "GLCM is symmetrical, therefore Sum Average = 2 * Joint Average, only 1 needs to be calculated\n",
      "parameter force2D must be set to True to enable shape2D extraction\n",
      "GLCM is symmetrical, therefore Sum Average = 2 * Joint Average, only 1 needs to be calculated\n"
     ]
    },
    {
     "name": "stdout",
     "output_type": "stream",
     "text": [
      "pancreas_040.dcm\n"
     ]
    },
    {
     "name": "stderr",
     "output_type": "stream",
     "text": [
      "parameter force2D must be set to True to enable shape2D extraction\n",
      "GLCM is symmetrical, therefore Sum Average = 2 * Joint Average, only 1 needs to be calculated\n",
      "parameter force2D must be set to True to enable shape2D extraction\n",
      "GLCM is symmetrical, therefore Sum Average = 2 * Joint Average, only 1 needs to be calculated\n"
     ]
    },
    {
     "name": "stdout",
     "output_type": "stream",
     "text": [
      "pancreas_041.dcm\n"
     ]
    },
    {
     "name": "stderr",
     "output_type": "stream",
     "text": [
      "parameter force2D must be set to True to enable shape2D extraction\n",
      "GLCM is symmetrical, therefore Sum Average = 2 * Joint Average, only 1 needs to be calculated\n",
      "parameter force2D must be set to True to enable shape2D extraction\n",
      "GLCM is symmetrical, therefore Sum Average = 2 * Joint Average, only 1 needs to be calculated\n",
      "parameter force2D must be set to True to enable shape2D extraction\n",
      "GLCM is symmetrical, therefore Sum Average = 2 * Joint Average, only 1 needs to be calculated\n"
     ]
    },
    {
     "name": "stdout",
     "output_type": "stream",
     "text": [
      "pancreas_042.dcm\n"
     ]
    },
    {
     "name": "stderr",
     "output_type": "stream",
     "text": [
      "parameter force2D must be set to True to enable shape2D extraction\n",
      "GLCM is symmetrical, therefore Sum Average = 2 * Joint Average, only 1 needs to be calculated\n",
      "parameter force2D must be set to True to enable shape2D extraction\n",
      "GLCM is symmetrical, therefore Sum Average = 2 * Joint Average, only 1 needs to be calculated\n",
      "parameter force2D must be set to True to enable shape2D extraction\n"
     ]
    },
    {
     "name": "stdout",
     "output_type": "stream",
     "text": [
      "pancreas_043.dcm\n"
     ]
    },
    {
     "name": "stderr",
     "output_type": "stream",
     "text": [
      "GLCM is symmetrical, therefore Sum Average = 2 * Joint Average, only 1 needs to be calculated\n",
      "parameter force2D must be set to True to enable shape2D extraction\n",
      "GLCM is symmetrical, therefore Sum Average = 2 * Joint Average, only 1 needs to be calculated\n",
      "parameter force2D must be set to True to enable shape2D extraction\n",
      "GLCM is symmetrical, therefore Sum Average = 2 * Joint Average, only 1 needs to be calculated\n"
     ]
    },
    {
     "name": "stdout",
     "output_type": "stream",
     "text": [
      "pancreas_045.dcm\n",
      "pancreas_046.dcm\n"
     ]
    },
    {
     "name": "stderr",
     "output_type": "stream",
     "text": [
      "parameter force2D must be set to True to enable shape2D extraction\n",
      "GLCM is symmetrical, therefore Sum Average = 2 * Joint Average, only 1 needs to be calculated\n",
      "parameter force2D must be set to True to enable shape2D extraction\n",
      "GLCM is symmetrical, therefore Sum Average = 2 * Joint Average, only 1 needs to be calculated\n",
      "parameter force2D must be set to True to enable shape2D extraction\n",
      "GLCM is symmetrical, therefore Sum Average = 2 * Joint Average, only 1 needs to be calculated\n"
     ]
    },
    {
     "name": "stdout",
     "output_type": "stream",
     "text": [
      "pancreas_048.dcm\n"
     ]
    },
    {
     "name": "stderr",
     "output_type": "stream",
     "text": [
      "parameter force2D must be set to True to enable shape2D extraction\n",
      "GLCM is symmetrical, therefore Sum Average = 2 * Joint Average, only 1 needs to be calculated\n"
     ]
    },
    {
     "name": "stdout",
     "output_type": "stream",
     "text": [
      "pancreas_049.dcm\n"
     ]
    },
    {
     "name": "stderr",
     "output_type": "stream",
     "text": [
      "parameter force2D must be set to True to enable shape2D extraction\n",
      "GLCM is symmetrical, therefore Sum Average = 2 * Joint Average, only 1 needs to be calculated\n",
      "parameter force2D must be set to True to enable shape2D extraction\n",
      "GLCM is symmetrical, therefore Sum Average = 2 * Joint Average, only 1 needs to be calculated\n",
      "parameter force2D must be set to True to enable shape2D extraction\n",
      "GLCM is symmetrical, therefore Sum Average = 2 * Joint Average, only 1 needs to be calculated\n",
      "parameter force2D must be set to True to enable shape2D extraction\n",
      "GLCM is symmetrical, therefore Sum Average = 2 * Joint Average, only 1 needs to be calculated\n"
     ]
    },
    {
     "name": "stdout",
     "output_type": "stream",
     "text": [
      "pancreas_050.dcm\n",
      "pancreas_051.dcm\n"
     ]
    },
    {
     "name": "stderr",
     "output_type": "stream",
     "text": [
      "parameter force2D must be set to True to enable shape2D extraction\n",
      "GLCM is symmetrical, therefore Sum Average = 2 * Joint Average, only 1 needs to be calculated\n",
      "parameter force2D must be set to True to enable shape2D extraction\n",
      "GLCM is symmetrical, therefore Sum Average = 2 * Joint Average, only 1 needs to be calculated\n"
     ]
    },
    {
     "name": "stdout",
     "output_type": "stream",
     "text": [
      "pancreas_052.dcm\n"
     ]
    },
    {
     "name": "stderr",
     "output_type": "stream",
     "text": [
      "parameter force2D must be set to True to enable shape2D extraction\n",
      "GLCM is symmetrical, therefore Sum Average = 2 * Joint Average, only 1 needs to be calculated\n",
      "parameter force2D must be set to True to enable shape2D extraction\n",
      "GLCM is symmetrical, therefore Sum Average = 2 * Joint Average, only 1 needs to be calculated\n",
      "parameter force2D must be set to True to enable shape2D extraction\n",
      "GLCM is symmetrical, therefore Sum Average = 2 * Joint Average, only 1 needs to be calculated\n",
      "parameter force2D must be set to True to enable shape2D extraction\n",
      "GLCM is symmetrical, therefore Sum Average = 2 * Joint Average, only 1 needs to be calculated\n"
     ]
    },
    {
     "name": "stdout",
     "output_type": "stream",
     "text": [
      "pancreas_055.dcm\n"
     ]
    },
    {
     "name": "stderr",
     "output_type": "stream",
     "text": [
      "parameter force2D must be set to True to enable shape2D extraction\n",
      "GLCM is symmetrical, therefore Sum Average = 2 * Joint Average, only 1 needs to be calculated\n",
      "parameter force2D must be set to True to enable shape2D extraction\n",
      "GLCM is symmetrical, therefore Sum Average = 2 * Joint Average, only 1 needs to be calculated\n"
     ]
    },
    {
     "name": "stdout",
     "output_type": "stream",
     "text": [
      "pancreas_056.dcm\n",
      "pancreas_058.dcm\n"
     ]
    },
    {
     "name": "stderr",
     "output_type": "stream",
     "text": [
      "parameter force2D must be set to True to enable shape2D extraction\n",
      "GLCM is symmetrical, therefore Sum Average = 2 * Joint Average, only 1 needs to be calculated\n",
      "parameter force2D must be set to True to enable shape2D extraction\n",
      "GLCM is symmetrical, therefore Sum Average = 2 * Joint Average, only 1 needs to be calculated\n",
      "parameter force2D must be set to True to enable shape2D extraction\n"
     ]
    },
    {
     "name": "stdout",
     "output_type": "stream",
     "text": [
      "pancreas_061.dcm\n"
     ]
    },
    {
     "name": "stderr",
     "output_type": "stream",
     "text": [
      "GLCM is symmetrical, therefore Sum Average = 2 * Joint Average, only 1 needs to be calculated\n",
      "parameter force2D must be set to True to enable shape2D extraction\n",
      "GLCM is symmetrical, therefore Sum Average = 2 * Joint Average, only 1 needs to be calculated\n",
      "parameter force2D must be set to True to enable shape2D extraction\n",
      "GLCM is symmetrical, therefore Sum Average = 2 * Joint Average, only 1 needs to be calculated\n"
     ]
    },
    {
     "name": "stdout",
     "output_type": "stream",
     "text": [
      "pancreas_064.dcm\n"
     ]
    },
    {
     "name": "stderr",
     "output_type": "stream",
     "text": [
      "parameter force2D must be set to True to enable shape2D extraction\n",
      "GLCM is symmetrical, therefore Sum Average = 2 * Joint Average, only 1 needs to be calculated\n"
     ]
    },
    {
     "name": "stdout",
     "output_type": "stream",
     "text": [
      "pancreas_066.dcm\n"
     ]
    },
    {
     "name": "stderr",
     "output_type": "stream",
     "text": [
      "parameter force2D must be set to True to enable shape2D extraction\n",
      "GLCM is symmetrical, therefore Sum Average = 2 * Joint Average, only 1 needs to be calculated\n",
      "parameter force2D must be set to True to enable shape2D extraction\n",
      "GLCM is symmetrical, therefore Sum Average = 2 * Joint Average, only 1 needs to be calculated\n",
      "parameter force2D must be set to True to enable shape2D extraction\n"
     ]
    },
    {
     "name": "stdout",
     "output_type": "stream",
     "text": [
      "pancreas_067.dcm\n"
     ]
    },
    {
     "name": "stderr",
     "output_type": "stream",
     "text": [
      "GLCM is symmetrical, therefore Sum Average = 2 * Joint Average, only 1 needs to be calculated\n",
      "parameter force2D must be set to True to enable shape2D extraction\n",
      "GLCM is symmetrical, therefore Sum Average = 2 * Joint Average, only 1 needs to be calculated\n",
      "parameter force2D must be set to True to enable shape2D extraction\n",
      "GLCM is symmetrical, therefore Sum Average = 2 * Joint Average, only 1 needs to be calculated\n"
     ]
    },
    {
     "name": "stdout",
     "output_type": "stream",
     "text": [
      "pancreas_069.dcm\n"
     ]
    },
    {
     "name": "stderr",
     "output_type": "stream",
     "text": [
      "parameter force2D must be set to True to enable shape2D extraction\n",
      "GLCM is symmetrical, therefore Sum Average = 2 * Joint Average, only 1 needs to be calculated\n",
      "parameter force2D must be set to True to enable shape2D extraction\n",
      "GLCM is symmetrical, therefore Sum Average = 2 * Joint Average, only 1 needs to be calculated\n",
      "parameter force2D must be set to True to enable shape2D extraction\n",
      "GLCM is symmetrical, therefore Sum Average = 2 * Joint Average, only 1 needs to be calculated\n"
     ]
    },
    {
     "name": "stdout",
     "output_type": "stream",
     "text": [
      "pancreas_070.dcm\n",
      "pancreas_071.dcm\n"
     ]
    },
    {
     "name": "stderr",
     "output_type": "stream",
     "text": [
      "parameter force2D must be set to True to enable shape2D extraction\n",
      "GLCM is symmetrical, therefore Sum Average = 2 * Joint Average, only 1 needs to be calculated\n",
      "parameter force2D must be set to True to enable shape2D extraction\n",
      "GLCM is symmetrical, therefore Sum Average = 2 * Joint Average, only 1 needs to be calculated\n",
      "parameter force2D must be set to True to enable shape2D extraction\n",
      "GLCM is symmetrical, therefore Sum Average = 2 * Joint Average, only 1 needs to be calculated\n",
      "parameter force2D must be set to True to enable shape2D extraction\n",
      "GLCM is symmetrical, therefore Sum Average = 2 * Joint Average, only 1 needs to be calculated\n"
     ]
    },
    {
     "name": "stdout",
     "output_type": "stream",
     "text": [
      "pancreas_074.dcm\n",
      "pancreas_075.dcm\n"
     ]
    },
    {
     "name": "stderr",
     "output_type": "stream",
     "text": [
      "parameter force2D must be set to True to enable shape2D extraction\n",
      "GLCM is symmetrical, therefore Sum Average = 2 * Joint Average, only 1 needs to be calculated\n",
      "parameter force2D must be set to True to enable shape2D extraction\n",
      "GLCM is symmetrical, therefore Sum Average = 2 * Joint Average, only 1 needs to be calculated\n",
      "parameter force2D must be set to True to enable shape2D extraction\n",
      "GLCM is symmetrical, therefore Sum Average = 2 * Joint Average, only 1 needs to be calculated\n",
      "parameter force2D must be set to True to enable shape2D extraction\n",
      "GLCM is symmetrical, therefore Sum Average = 2 * Joint Average, only 1 needs to be calculated\n"
     ]
    },
    {
     "name": "stdout",
     "output_type": "stream",
     "text": [
      "pancreas_077.dcm\n",
      "pancreas_078.dcm\n"
     ]
    },
    {
     "name": "stderr",
     "output_type": "stream",
     "text": [
      "parameter force2D must be set to True to enable shape2D extraction\n",
      "GLCM is symmetrical, therefore Sum Average = 2 * Joint Average, only 1 needs to be calculated\n",
      "parameter force2D must be set to True to enable shape2D extraction\n",
      "GLCM is symmetrical, therefore Sum Average = 2 * Joint Average, only 1 needs to be calculated\n",
      "parameter force2D must be set to True to enable shape2D extraction\n",
      "GLCM is symmetrical, therefore Sum Average = 2 * Joint Average, only 1 needs to be calculated\n"
     ]
    },
    {
     "name": "stdout",
     "output_type": "stream",
     "text": [
      "pancreas_080.dcm\n"
     ]
    },
    {
     "name": "stderr",
     "output_type": "stream",
     "text": [
      "parameter force2D must be set to True to enable shape2D extraction\n",
      "GLCM is symmetrical, therefore Sum Average = 2 * Joint Average, only 1 needs to be calculated\n",
      "parameter force2D must be set to True to enable shape2D extraction\n",
      "GLCM is symmetrical, therefore Sum Average = 2 * Joint Average, only 1 needs to be calculated\n",
      "parameter force2D must be set to True to enable shape2D extraction\n",
      "GLCM is symmetrical, therefore Sum Average = 2 * Joint Average, only 1 needs to be calculated\n"
     ]
    },
    {
     "name": "stdout",
     "output_type": "stream",
     "text": [
      "pancreas_081.dcm\n",
      "pancreas_083.dcm\n"
     ]
    },
    {
     "name": "stderr",
     "output_type": "stream",
     "text": [
      "parameter force2D must be set to True to enable shape2D extraction\n",
      "GLCM is symmetrical, therefore Sum Average = 2 * Joint Average, only 1 needs to be calculated\n",
      "parameter force2D must be set to True to enable shape2D extraction\n",
      "GLCM is symmetrical, therefore Sum Average = 2 * Joint Average, only 1 needs to be calculated\n",
      "parameter force2D must be set to True to enable shape2D extraction\n",
      "GLCM is symmetrical, therefore Sum Average = 2 * Joint Average, only 1 needs to be calculated\n"
     ]
    },
    {
     "name": "stdout",
     "output_type": "stream",
     "text": [
      "pancreas_084.dcm\n"
     ]
    },
    {
     "name": "stderr",
     "output_type": "stream",
     "text": [
      "parameter force2D must be set to True to enable shape2D extraction\n",
      "GLCM is symmetrical, therefore Sum Average = 2 * Joint Average, only 1 needs to be calculated\n"
     ]
    },
    {
     "name": "stdout",
     "output_type": "stream",
     "text": [
      "pancreas_086.dcm\n"
     ]
    },
    {
     "name": "stderr",
     "output_type": "stream",
     "text": [
      "parameter force2D must be set to True to enable shape2D extraction\n",
      "GLCM is symmetrical, therefore Sum Average = 2 * Joint Average, only 1 needs to be calculated\n",
      "parameter force2D must be set to True to enable shape2D extraction\n",
      "GLCM is symmetrical, therefore Sum Average = 2 * Joint Average, only 1 needs to be calculated\n"
     ]
    },
    {
     "name": "stdout",
     "output_type": "stream",
     "text": [
      "pancreas_087.dcm\n"
     ]
    },
    {
     "name": "stderr",
     "output_type": "stream",
     "text": [
      "parameter force2D must be set to True to enable shape2D extraction\n",
      "GLCM is symmetrical, therefore Sum Average = 2 * Joint Average, only 1 needs to be calculated\n",
      "parameter force2D must be set to True to enable shape2D extraction\n",
      "GLCM is symmetrical, therefore Sum Average = 2 * Joint Average, only 1 needs to be calculated\n"
     ]
    },
    {
     "name": "stdout",
     "output_type": "stream",
     "text": [
      "pancreas_088.dcm\n"
     ]
    },
    {
     "name": "stderr",
     "output_type": "stream",
     "text": [
      "parameter force2D must be set to True to enable shape2D extraction\n",
      "GLCM is symmetrical, therefore Sum Average = 2 * Joint Average, only 1 needs to be calculated\n",
      "parameter force2D must be set to True to enable shape2D extraction\n",
      "GLCM is symmetrical, therefore Sum Average = 2 * Joint Average, only 1 needs to be calculated\n",
      "parameter force2D must be set to True to enable shape2D extraction\n",
      "GLCM is symmetrical, therefore Sum Average = 2 * Joint Average, only 1 needs to be calculated\n"
     ]
    },
    {
     "name": "stdout",
     "output_type": "stream",
     "text": [
      "pancreas_089.dcm\n"
     ]
    },
    {
     "name": "stderr",
     "output_type": "stream",
     "text": [
      "parameter force2D must be set to True to enable shape2D extraction\n",
      "GLCM is symmetrical, therefore Sum Average = 2 * Joint Average, only 1 needs to be calculated\n"
     ]
    },
    {
     "name": "stdout",
     "output_type": "stream",
     "text": [
      "pancreas_091.dcm\n"
     ]
    },
    {
     "name": "stderr",
     "output_type": "stream",
     "text": [
      "parameter force2D must be set to True to enable shape2D extraction\n",
      "GLCM is symmetrical, therefore Sum Average = 2 * Joint Average, only 1 needs to be calculated\n",
      "parameter force2D must be set to True to enable shape2D extraction\n",
      "GLCM is symmetrical, therefore Sum Average = 2 * Joint Average, only 1 needs to be calculated\n"
     ]
    },
    {
     "name": "stdout",
     "output_type": "stream",
     "text": [
      "pancreas_092.dcm\n"
     ]
    },
    {
     "name": "stderr",
     "output_type": "stream",
     "text": [
      "parameter force2D must be set to True to enable shape2D extraction\n",
      "GLCM is symmetrical, therefore Sum Average = 2 * Joint Average, only 1 needs to be calculated\n",
      "parameter force2D must be set to True to enable shape2D extraction\n",
      "GLCM is symmetrical, therefore Sum Average = 2 * Joint Average, only 1 needs to be calculated\n",
      "parameter force2D must be set to True to enable shape2D extraction\n",
      "GLCM is symmetrical, therefore Sum Average = 2 * Joint Average, only 1 needs to be calculated\n",
      "parameter force2D must be set to True to enable shape2D extraction\n",
      "GLCM is symmetrical, therefore Sum Average = 2 * Joint Average, only 1 needs to be calculated\n"
     ]
    },
    {
     "name": "stdout",
     "output_type": "stream",
     "text": [
      "pancreas_093.dcm\n",
      "pancreas_094.dcm\n"
     ]
    },
    {
     "name": "stderr",
     "output_type": "stream",
     "text": [
      "parameter force2D must be set to True to enable shape2D extraction\n",
      "GLCM is symmetrical, therefore Sum Average = 2 * Joint Average, only 1 needs to be calculated\n",
      "parameter force2D must be set to True to enable shape2D extraction\n",
      "GLCM is symmetrical, therefore Sum Average = 2 * Joint Average, only 1 needs to be calculated\n"
     ]
    },
    {
     "name": "stdout",
     "output_type": "stream",
     "text": [
      "pancreas_095.dcm\n"
     ]
    },
    {
     "name": "stderr",
     "output_type": "stream",
     "text": [
      "parameter force2D must be set to True to enable shape2D extraction\n",
      "GLCM is symmetrical, therefore Sum Average = 2 * Joint Average, only 1 needs to be calculated\n",
      "parameter force2D must be set to True to enable shape2D extraction\n",
      "GLCM is symmetrical, therefore Sum Average = 2 * Joint Average, only 1 needs to be calculated\n",
      "parameter force2D must be set to True to enable shape2D extraction\n",
      "GLCM is symmetrical, therefore Sum Average = 2 * Joint Average, only 1 needs to be calculated\n"
     ]
    },
    {
     "name": "stdout",
     "output_type": "stream",
     "text": [
      "pancreas_096.dcm\n"
     ]
    },
    {
     "name": "stderr",
     "output_type": "stream",
     "text": [
      "parameter force2D must be set to True to enable shape2D extraction\n",
      "GLCM is symmetrical, therefore Sum Average = 2 * Joint Average, only 1 needs to be calculated\n",
      "parameter force2D must be set to True to enable shape2D extraction\n",
      "GLCM is symmetrical, therefore Sum Average = 2 * Joint Average, only 1 needs to be calculated\n",
      "parameter force2D must be set to True to enable shape2D extraction\n",
      "GLCM is symmetrical, therefore Sum Average = 2 * Joint Average, only 1 needs to be calculated\n"
     ]
    },
    {
     "name": "stdout",
     "output_type": "stream",
     "text": [
      "pancreas_098.dcm\n",
      "pancreas_099.dcm\n"
     ]
    },
    {
     "name": "stderr",
     "output_type": "stream",
     "text": [
      "parameter force2D must be set to True to enable shape2D extraction\n",
      "GLCM is symmetrical, therefore Sum Average = 2 * Joint Average, only 1 needs to be calculated\n",
      "parameter force2D must be set to True to enable shape2D extraction\n",
      "GLCM is symmetrical, therefore Sum Average = 2 * Joint Average, only 1 needs to be calculated\n"
     ]
    },
    {
     "name": "stdout",
     "output_type": "stream",
     "text": [
      "pancreas_100.dcm\n"
     ]
    },
    {
     "name": "stderr",
     "output_type": "stream",
     "text": [
      "parameter force2D must be set to True to enable shape2D extraction\n",
      "GLCM is symmetrical, therefore Sum Average = 2 * Joint Average, only 1 needs to be calculated\n",
      "parameter force2D must be set to True to enable shape2D extraction\n",
      "GLCM is symmetrical, therefore Sum Average = 2 * Joint Average, only 1 needs to be calculated\n"
     ]
    },
    {
     "name": "stdout",
     "output_type": "stream",
     "text": [
      "pancreas_101.dcm\n"
     ]
    },
    {
     "name": "stderr",
     "output_type": "stream",
     "text": [
      "parameter force2D must be set to True to enable shape2D extraction\n",
      "GLCM is symmetrical, therefore Sum Average = 2 * Joint Average, only 1 needs to be calculated\n",
      "parameter force2D must be set to True to enable shape2D extraction\n",
      "GLCM is symmetrical, therefore Sum Average = 2 * Joint Average, only 1 needs to be calculated\n",
      "parameter force2D must be set to True to enable shape2D extraction\n",
      "GLCM is symmetrical, therefore Sum Average = 2 * Joint Average, only 1 needs to be calculated\n"
     ]
    },
    {
     "name": "stdout",
     "output_type": "stream",
     "text": [
      "pancreas_102.dcm\n"
     ]
    },
    {
     "name": "stderr",
     "output_type": "stream",
     "text": [
      "parameter force2D must be set to True to enable shape2D extraction\n",
      "GLCM is symmetrical, therefore Sum Average = 2 * Joint Average, only 1 needs to be calculated\n",
      "parameter force2D must be set to True to enable shape2D extraction\n",
      "GLCM is symmetrical, therefore Sum Average = 2 * Joint Average, only 1 needs to be calculated\n",
      "parameter force2D must be set to True to enable shape2D extraction\n",
      "GLCM is symmetrical, therefore Sum Average = 2 * Joint Average, only 1 needs to be calculated\n"
     ]
    },
    {
     "name": "stdout",
     "output_type": "stream",
     "text": [
      "pancreas_103.dcm\n",
      "pancreas_104.dcm\n"
     ]
    },
    {
     "name": "stderr",
     "output_type": "stream",
     "text": [
      "parameter force2D must be set to True to enable shape2D extraction\n",
      "GLCM is symmetrical, therefore Sum Average = 2 * Joint Average, only 1 needs to be calculated\n",
      "parameter force2D must be set to True to enable shape2D extraction\n",
      "GLCM is symmetrical, therefore Sum Average = 2 * Joint Average, only 1 needs to be calculated\n"
     ]
    },
    {
     "name": "stdout",
     "output_type": "stream",
     "text": [
      "pancreas_105.dcm\n"
     ]
    },
    {
     "name": "stderr",
     "output_type": "stream",
     "text": [
      "parameter force2D must be set to True to enable shape2D extraction\n",
      "GLCM is symmetrical, therefore Sum Average = 2 * Joint Average, only 1 needs to be calculated\n",
      "parameter force2D must be set to True to enable shape2D extraction\n",
      "GLCM is symmetrical, therefore Sum Average = 2 * Joint Average, only 1 needs to be calculated\n"
     ]
    },
    {
     "name": "stdout",
     "output_type": "stream",
     "text": [
      "pancreas_106.dcm\n"
     ]
    },
    {
     "name": "stderr",
     "output_type": "stream",
     "text": [
      "parameter force2D must be set to True to enable shape2D extraction\n",
      "GLCM is symmetrical, therefore Sum Average = 2 * Joint Average, only 1 needs to be calculated\n",
      "parameter force2D must be set to True to enable shape2D extraction\n",
      "GLCM is symmetrical, therefore Sum Average = 2 * Joint Average, only 1 needs to be calculated\n",
      "parameter force2D must be set to True to enable shape2D extraction\n",
      "GLCM is symmetrical, therefore Sum Average = 2 * Joint Average, only 1 needs to be calculated\n",
      "parameter force2D must be set to True to enable shape2D extraction\n",
      "GLCM is symmetrical, therefore Sum Average = 2 * Joint Average, only 1 needs to be calculated\n"
     ]
    },
    {
     "name": "stdout",
     "output_type": "stream",
     "text": [
      "pancreas_107.dcm\n",
      "pancreas_109.dcm\n"
     ]
    },
    {
     "name": "stderr",
     "output_type": "stream",
     "text": [
      "parameter force2D must be set to True to enable shape2D extraction\n",
      "GLCM is symmetrical, therefore Sum Average = 2 * Joint Average, only 1 needs to be calculated\n",
      "parameter force2D must be set to True to enable shape2D extraction\n",
      "GLCM is symmetrical, therefore Sum Average = 2 * Joint Average, only 1 needs to be calculated\n",
      "parameter force2D must be set to True to enable shape2D extraction\n",
      "GLCM is symmetrical, therefore Sum Average = 2 * Joint Average, only 1 needs to be calculated\n"
     ]
    },
    {
     "name": "stdout",
     "output_type": "stream",
     "text": [
      "pancreas_110.dcm\n"
     ]
    },
    {
     "name": "stderr",
     "output_type": "stream",
     "text": [
      "parameter force2D must be set to True to enable shape2D extraction\n",
      "GLCM is symmetrical, therefore Sum Average = 2 * Joint Average, only 1 needs to be calculated\n"
     ]
    },
    {
     "name": "stdout",
     "output_type": "stream",
     "text": [
      "pancreas_111.dcm\n"
     ]
    },
    {
     "name": "stderr",
     "output_type": "stream",
     "text": [
      "parameter force2D must be set to True to enable shape2D extraction\n",
      "GLCM is symmetrical, therefore Sum Average = 2 * Joint Average, only 1 needs to be calculated\n",
      "parameter force2D must be set to True to enable shape2D extraction\n",
      "GLCM is symmetrical, therefore Sum Average = 2 * Joint Average, only 1 needs to be calculated\n"
     ]
    },
    {
     "name": "stdout",
     "output_type": "stream",
     "text": [
      "pancreas_113.dcm\n"
     ]
    },
    {
     "name": "stderr",
     "output_type": "stream",
     "text": [
      "parameter force2D must be set to True to enable shape2D extraction\n",
      "GLCM is symmetrical, therefore Sum Average = 2 * Joint Average, only 1 needs to be calculated\n",
      "parameter force2D must be set to True to enable shape2D extraction\n",
      "GLCM is symmetrical, therefore Sum Average = 2 * Joint Average, only 1 needs to be calculated\n",
      "parameter force2D must be set to True to enable shape2D extraction\n",
      "GLCM is symmetrical, therefore Sum Average = 2 * Joint Average, only 1 needs to be calculated\n",
      "parameter force2D must be set to True to enable shape2D extraction\n",
      "GLCM is symmetrical, therefore Sum Average = 2 * Joint Average, only 1 needs to be calculated\n"
     ]
    },
    {
     "name": "stdout",
     "output_type": "stream",
     "text": [
      "pancreas_114.dcm\n",
      "pancreas_117.dcm\n"
     ]
    },
    {
     "name": "stderr",
     "output_type": "stream",
     "text": [
      "parameter force2D must be set to True to enable shape2D extraction\n",
      "GLCM is symmetrical, therefore Sum Average = 2 * Joint Average, only 1 needs to be calculated\n",
      "parameter force2D must be set to True to enable shape2D extraction\n",
      "GLCM is symmetrical, therefore Sum Average = 2 * Joint Average, only 1 needs to be calculated\n",
      "parameter force2D must be set to True to enable shape2D extraction\n",
      "GLCM is symmetrical, therefore Sum Average = 2 * Joint Average, only 1 needs to be calculated\n"
     ]
    },
    {
     "name": "stdout",
     "output_type": "stream",
     "text": [
      "pancreas_119.dcm\n"
     ]
    },
    {
     "name": "stderr",
     "output_type": "stream",
     "text": [
      "parameter force2D must be set to True to enable shape2D extraction\n",
      "GLCM is symmetrical, therefore Sum Average = 2 * Joint Average, only 1 needs to be calculated\n",
      "parameter force2D must be set to True to enable shape2D extraction\n",
      "GLCM is symmetrical, therefore Sum Average = 2 * Joint Average, only 1 needs to be calculated\n",
      "parameter force2D must be set to True to enable shape2D extraction\n"
     ]
    },
    {
     "name": "stdout",
     "output_type": "stream",
     "text": [
      "pancreas_120.dcm\n"
     ]
    },
    {
     "name": "stderr",
     "output_type": "stream",
     "text": [
      "GLCM is symmetrical, therefore Sum Average = 2 * Joint Average, only 1 needs to be calculated\n",
      "parameter force2D must be set to True to enable shape2D extraction\n",
      "GLCM is symmetrical, therefore Sum Average = 2 * Joint Average, only 1 needs to be calculated\n",
      "parameter force2D must be set to True to enable shape2D extraction\n",
      "GLCM is symmetrical, therefore Sum Average = 2 * Joint Average, only 1 needs to be calculated\n"
     ]
    },
    {
     "name": "stdout",
     "output_type": "stream",
     "text": [
      "pancreas_122.dcm\n",
      "pancreas_124.dcm\n"
     ]
    },
    {
     "name": "stderr",
     "output_type": "stream",
     "text": [
      "parameter force2D must be set to True to enable shape2D extraction\n",
      "GLCM is symmetrical, therefore Sum Average = 2 * Joint Average, only 1 needs to be calculated\n",
      "parameter force2D must be set to True to enable shape2D extraction\n",
      "GLCM is symmetrical, therefore Sum Average = 2 * Joint Average, only 1 needs to be calculated\n",
      "parameter force2D must be set to True to enable shape2D extraction\n"
     ]
    },
    {
     "name": "stdout",
     "output_type": "stream",
     "text": [
      "pancreas_125.dcm\n"
     ]
    },
    {
     "name": "stderr",
     "output_type": "stream",
     "text": [
      "GLCM is symmetrical, therefore Sum Average = 2 * Joint Average, only 1 needs to be calculated\n",
      "parameter force2D must be set to True to enable shape2D extraction\n",
      "GLCM is symmetrical, therefore Sum Average = 2 * Joint Average, only 1 needs to be calculated\n"
     ]
    },
    {
     "name": "stdout",
     "output_type": "stream",
     "text": [
      "pancreas_126.dcm\n"
     ]
    },
    {
     "name": "stderr",
     "output_type": "stream",
     "text": [
      "parameter force2D must be set to True to enable shape2D extraction\n",
      "GLCM is symmetrical, therefore Sum Average = 2 * Joint Average, only 1 needs to be calculated\n",
      "parameter force2D must be set to True to enable shape2D extraction\n",
      "GLCM is symmetrical, therefore Sum Average = 2 * Joint Average, only 1 needs to be calculated\n"
     ]
    },
    {
     "name": "stdout",
     "output_type": "stream",
     "text": [
      "pancreas_127.dcm\n"
     ]
    },
    {
     "name": "stderr",
     "output_type": "stream",
     "text": [
      "parameter force2D must be set to True to enable shape2D extraction\n",
      "GLCM is symmetrical, therefore Sum Average = 2 * Joint Average, only 1 needs to be calculated\n",
      "parameter force2D must be set to True to enable shape2D extraction\n",
      "GLCM is symmetrical, therefore Sum Average = 2 * Joint Average, only 1 needs to be calculated\n",
      "parameter force2D must be set to True to enable shape2D extraction\n",
      "GLCM is symmetrical, therefore Sum Average = 2 * Joint Average, only 1 needs to be calculated\n"
     ]
    },
    {
     "name": "stdout",
     "output_type": "stream",
     "text": [
      "pancreas_129.dcm\n"
     ]
    },
    {
     "name": "stderr",
     "output_type": "stream",
     "text": [
      "parameter force2D must be set to True to enable shape2D extraction\n",
      "GLCM is symmetrical, therefore Sum Average = 2 * Joint Average, only 1 needs to be calculated\n",
      "parameter force2D must be set to True to enable shape2D extraction\n",
      "GLCM is symmetrical, therefore Sum Average = 2 * Joint Average, only 1 needs to be calculated\n"
     ]
    },
    {
     "name": "stdout",
     "output_type": "stream",
     "text": [
      "pancreas_130.dcm\n"
     ]
    },
    {
     "name": "stderr",
     "output_type": "stream",
     "text": [
      "parameter force2D must be set to True to enable shape2D extraction\n",
      "GLCM is symmetrical, therefore Sum Average = 2 * Joint Average, only 1 needs to be calculated\n",
      "parameter force2D must be set to True to enable shape2D extraction\n",
      "GLCM is symmetrical, therefore Sum Average = 2 * Joint Average, only 1 needs to be calculated\n"
     ]
    },
    {
     "name": "stdout",
     "output_type": "stream",
     "text": [
      "pancreas_131.dcm\n"
     ]
    },
    {
     "name": "stderr",
     "output_type": "stream",
     "text": [
      "parameter force2D must be set to True to enable shape2D extraction\n",
      "GLCM is symmetrical, therefore Sum Average = 2 * Joint Average, only 1 needs to be calculated\n"
     ]
    },
    {
     "name": "stdout",
     "output_type": "stream",
     "text": [
      "pancreas_135.dcm\n"
     ]
    },
    {
     "name": "stderr",
     "output_type": "stream",
     "text": [
      "parameter force2D must be set to True to enable shape2D extraction\n",
      "GLCM is symmetrical, therefore Sum Average = 2 * Joint Average, only 1 needs to be calculated\n",
      "parameter force2D must be set to True to enable shape2D extraction\n",
      "GLCM is symmetrical, therefore Sum Average = 2 * Joint Average, only 1 needs to be calculated\n",
      "parameter force2D must be set to True to enable shape2D extraction\n",
      "GLCM is symmetrical, therefore Sum Average = 2 * Joint Average, only 1 needs to be calculated\n",
      "parameter force2D must be set to True to enable shape2D extraction\n",
      "GLCM is symmetrical, therefore Sum Average = 2 * Joint Average, only 1 needs to be calculated\n"
     ]
    },
    {
     "name": "stdout",
     "output_type": "stream",
     "text": [
      "pancreas_137.dcm\n",
      "pancreas_138.dcm\n"
     ]
    },
    {
     "name": "stderr",
     "output_type": "stream",
     "text": [
      "parameter force2D must be set to True to enable shape2D extraction\n",
      "GLCM is symmetrical, therefore Sum Average = 2 * Joint Average, only 1 needs to be calculated\n",
      "parameter force2D must be set to True to enable shape2D extraction\n",
      "GLCM is symmetrical, therefore Sum Average = 2 * Joint Average, only 1 needs to be calculated\n",
      "parameter force2D must be set to True to enable shape2D extraction\n",
      "GLCM is symmetrical, therefore Sum Average = 2 * Joint Average, only 1 needs to be calculated\n",
      "parameter force2D must be set to True to enable shape2D extraction\n",
      "GLCM is symmetrical, therefore Sum Average = 2 * Joint Average, only 1 needs to be calculated\n"
     ]
    },
    {
     "name": "stdout",
     "output_type": "stream",
     "text": [
      "pancreas_140.dcm\n",
      "pancreas_145.dcm\n"
     ]
    },
    {
     "name": "stderr",
     "output_type": "stream",
     "text": [
      "parameter force2D must be set to True to enable shape2D extraction\n",
      "GLCM is symmetrical, therefore Sum Average = 2 * Joint Average, only 1 needs to be calculated\n",
      "parameter force2D must be set to True to enable shape2D extraction\n",
      "GLCM is symmetrical, therefore Sum Average = 2 * Joint Average, only 1 needs to be calculated\n",
      "parameter force2D must be set to True to enable shape2D extraction\n",
      "GLCM is symmetrical, therefore Sum Average = 2 * Joint Average, only 1 needs to be calculated\n"
     ]
    },
    {
     "name": "stdout",
     "output_type": "stream",
     "text": [
      "pancreas_147.dcm\n"
     ]
    },
    {
     "name": "stderr",
     "output_type": "stream",
     "text": [
      "parameter force2D must be set to True to enable shape2D extraction\n",
      "GLCM is symmetrical, therefore Sum Average = 2 * Joint Average, only 1 needs to be calculated\n",
      "parameter force2D must be set to True to enable shape2D extraction\n",
      "GLCM is symmetrical, therefore Sum Average = 2 * Joint Average, only 1 needs to be calculated\n",
      "parameter force2D must be set to True to enable shape2D extraction\n",
      "GLCM is symmetrical, therefore Sum Average = 2 * Joint Average, only 1 needs to be calculated\n"
     ]
    },
    {
     "name": "stdout",
     "output_type": "stream",
     "text": [
      "pancreas_148.dcm\n",
      "pancreas_149.dcm\n"
     ]
    },
    {
     "name": "stderr",
     "output_type": "stream",
     "text": [
      "parameter force2D must be set to True to enable shape2D extraction\n",
      "GLCM is symmetrical, therefore Sum Average = 2 * Joint Average, only 1 needs to be calculated\n",
      "parameter force2D must be set to True to enable shape2D extraction\n",
      "GLCM is symmetrical, therefore Sum Average = 2 * Joint Average, only 1 needs to be calculated\n",
      "parameter force2D must be set to True to enable shape2D extraction\n",
      "GLCM is symmetrical, therefore Sum Average = 2 * Joint Average, only 1 needs to be calculated\n",
      "parameter force2D must be set to True to enable shape2D extraction\n",
      "GLCM is symmetrical, therefore Sum Average = 2 * Joint Average, only 1 needs to be calculated\n"
     ]
    },
    {
     "name": "stdout",
     "output_type": "stream",
     "text": [
      "pancreas_155.dcm\n",
      "pancreas_157.dcm\n"
     ]
    },
    {
     "name": "stderr",
     "output_type": "stream",
     "text": [
      "parameter force2D must be set to True to enable shape2D extraction\n",
      "GLCM is symmetrical, therefore Sum Average = 2 * Joint Average, only 1 needs to be calculated\n",
      "parameter force2D must be set to True to enable shape2D extraction\n",
      "GLCM is symmetrical, therefore Sum Average = 2 * Joint Average, only 1 needs to be calculated\n",
      "parameter force2D must be set to True to enable shape2D extraction\n",
      "GLCM is symmetrical, therefore Sum Average = 2 * Joint Average, only 1 needs to be calculated\n"
     ]
    },
    {
     "name": "stdout",
     "output_type": "stream",
     "text": [
      "pancreas_158.dcm\n"
     ]
    },
    {
     "name": "stderr",
     "output_type": "stream",
     "text": [
      "parameter force2D must be set to True to enable shape2D extraction\n",
      "GLCM is symmetrical, therefore Sum Average = 2 * Joint Average, only 1 needs to be calculated\n"
     ]
    },
    {
     "name": "stdout",
     "output_type": "stream",
     "text": [
      "pancreas_159.dcm\n"
     ]
    },
    {
     "name": "stderr",
     "output_type": "stream",
     "text": [
      "parameter force2D must be set to True to enable shape2D extraction\n",
      "GLCM is symmetrical, therefore Sum Average = 2 * Joint Average, only 1 needs to be calculated\n",
      "parameter force2D must be set to True to enable shape2D extraction\n",
      "GLCM is symmetrical, therefore Sum Average = 2 * Joint Average, only 1 needs to be calculated\n",
      "parameter force2D must be set to True to enable shape2D extraction\n",
      "GLCM is symmetrical, therefore Sum Average = 2 * Joint Average, only 1 needs to be calculated\n",
      "parameter force2D must be set to True to enable shape2D extraction\n",
      "GLCM is symmetrical, therefore Sum Average = 2 * Joint Average, only 1 needs to be calculated\n"
     ]
    },
    {
     "name": "stdout",
     "output_type": "stream",
     "text": [
      "pancreas_160.dcm\n",
      "pancreas_165.dcm\n"
     ]
    },
    {
     "name": "stderr",
     "output_type": "stream",
     "text": [
      "parameter force2D must be set to True to enable shape2D extraction\n",
      "GLCM is symmetrical, therefore Sum Average = 2 * Joint Average, only 1 needs to be calculated\n",
      "parameter force2D must be set to True to enable shape2D extraction\n",
      "GLCM is symmetrical, therefore Sum Average = 2 * Joint Average, only 1 needs to be calculated\n",
      "parameter force2D must be set to True to enable shape2D extraction\n",
      "GLCM is symmetrical, therefore Sum Average = 2 * Joint Average, only 1 needs to be calculated\n",
      "parameter force2D must be set to True to enable shape2D extraction\n",
      "GLCM is symmetrical, therefore Sum Average = 2 * Joint Average, only 1 needs to be calculated\n"
     ]
    },
    {
     "name": "stdout",
     "output_type": "stream",
     "text": [
      "pancreas_166.dcm\n",
      "pancreas_167.dcm\n"
     ]
    },
    {
     "name": "stderr",
     "output_type": "stream",
     "text": [
      "parameter force2D must be set to True to enable shape2D extraction\n",
      "GLCM is symmetrical, therefore Sum Average = 2 * Joint Average, only 1 needs to be calculated\n",
      "parameter force2D must be set to True to enable shape2D extraction\n",
      "GLCM is symmetrical, therefore Sum Average = 2 * Joint Average, only 1 needs to be calculated\n",
      "parameter force2D must be set to True to enable shape2D extraction\n",
      "GLCM is symmetrical, therefore Sum Average = 2 * Joint Average, only 1 needs to be calculated\n",
      "parameter force2D must be set to True to enable shape2D extraction\n",
      "GLCM is symmetrical, therefore Sum Average = 2 * Joint Average, only 1 needs to be calculated\n"
     ]
    },
    {
     "name": "stdout",
     "output_type": "stream",
     "text": [
      "pancreas_169.dcm\n",
      "pancreas_170.dcm\n"
     ]
    },
    {
     "name": "stderr",
     "output_type": "stream",
     "text": [
      "parameter force2D must be set to True to enable shape2D extraction\n",
      "GLCM is symmetrical, therefore Sum Average = 2 * Joint Average, only 1 needs to be calculated\n",
      "parameter force2D must be set to True to enable shape2D extraction\n",
      "GLCM is symmetrical, therefore Sum Average = 2 * Joint Average, only 1 needs to be calculated\n",
      "parameter force2D must be set to True to enable shape2D extraction\n",
      "GLCM is symmetrical, therefore Sum Average = 2 * Joint Average, only 1 needs to be calculated\n",
      "parameter force2D must be set to True to enable shape2D extraction\n"
     ]
    },
    {
     "name": "stdout",
     "output_type": "stream",
     "text": [
      "pancreas_172.dcm\n"
     ]
    },
    {
     "name": "stderr",
     "output_type": "stream",
     "text": [
      "GLCM is symmetrical, therefore Sum Average = 2 * Joint Average, only 1 needs to be calculated\n",
      "parameter force2D must be set to True to enable shape2D extraction\n",
      "GLCM is symmetrical, therefore Sum Average = 2 * Joint Average, only 1 needs to be calculated\n",
      "parameter force2D must be set to True to enable shape2D extraction\n",
      "GLCM is symmetrical, therefore Sum Average = 2 * Joint Average, only 1 needs to be calculated\n"
     ]
    },
    {
     "name": "stdout",
     "output_type": "stream",
     "text": [
      "pancreas_173.dcm\n",
      "pancreas_175.dcm\n"
     ]
    },
    {
     "name": "stderr",
     "output_type": "stream",
     "text": [
      "parameter force2D must be set to True to enable shape2D extraction\n",
      "GLCM is symmetrical, therefore Sum Average = 2 * Joint Average, only 1 needs to be calculated\n",
      "parameter force2D must be set to True to enable shape2D extraction\n",
      "GLCM is symmetrical, therefore Sum Average = 2 * Joint Average, only 1 needs to be calculated\n",
      "parameter force2D must be set to True to enable shape2D extraction\n",
      "GLCM is symmetrical, therefore Sum Average = 2 * Joint Average, only 1 needs to be calculated\n",
      "parameter force2D must be set to True to enable shape2D extraction\n",
      "GLCM is symmetrical, therefore Sum Average = 2 * Joint Average, only 1 needs to be calculated\n"
     ]
    },
    {
     "name": "stdout",
     "output_type": "stream",
     "text": [
      "pancreas_178.dcm\n",
      "pancreas_179.dcm\n"
     ]
    },
    {
     "name": "stderr",
     "output_type": "stream",
     "text": [
      "parameter force2D must be set to True to enable shape2D extraction\n",
      "GLCM is symmetrical, therefore Sum Average = 2 * Joint Average, only 1 needs to be calculated\n",
      "parameter force2D must be set to True to enable shape2D extraction\n",
      "GLCM is symmetrical, therefore Sum Average = 2 * Joint Average, only 1 needs to be calculated\n",
      "parameter force2D must be set to True to enable shape2D extraction\n",
      "GLCM is symmetrical, therefore Sum Average = 2 * Joint Average, only 1 needs to be calculated\n",
      "parameter force2D must be set to True to enable shape2D extraction\n",
      "GLCM is symmetrical, therefore Sum Average = 2 * Joint Average, only 1 needs to be calculated\n"
     ]
    },
    {
     "name": "stdout",
     "output_type": "stream",
     "text": [
      "pancreas_180.dcm\n",
      "pancreas_181.dcm\n"
     ]
    },
    {
     "name": "stderr",
     "output_type": "stream",
     "text": [
      "parameter force2D must be set to True to enable shape2D extraction\n",
      "GLCM is symmetrical, therefore Sum Average = 2 * Joint Average, only 1 needs to be calculated\n",
      "parameter force2D must be set to True to enable shape2D extraction\n",
      "GLCM is symmetrical, therefore Sum Average = 2 * Joint Average, only 1 needs to be calculated\n",
      "parameter force2D must be set to True to enable shape2D extraction\n",
      "GLCM is symmetrical, therefore Sum Average = 2 * Joint Average, only 1 needs to be calculated\n",
      "parameter force2D must be set to True to enable shape2D extraction\n",
      "GLCM is symmetrical, therefore Sum Average = 2 * Joint Average, only 1 needs to be calculated\n"
     ]
    },
    {
     "name": "stdout",
     "output_type": "stream",
     "text": [
      "pancreas_182.dcm\n"
     ]
    },
    {
     "name": "stderr",
     "output_type": "stream",
     "text": [
      "parameter force2D must be set to True to enable shape2D extraction\n",
      "GLCM is symmetrical, therefore Sum Average = 2 * Joint Average, only 1 needs to be calculated\n",
      "parameter force2D must be set to True to enable shape2D extraction\n",
      "GLCM is symmetrical, therefore Sum Average = 2 * Joint Average, only 1 needs to be calculated\n"
     ]
    },
    {
     "name": "stdout",
     "output_type": "stream",
     "text": [
      "pancreas_183.dcm\n",
      "pancreas_186.dcm\n"
     ]
    },
    {
     "name": "stderr",
     "output_type": "stream",
     "text": [
      "parameter force2D must be set to True to enable shape2D extraction\n",
      "GLCM is symmetrical, therefore Sum Average = 2 * Joint Average, only 1 needs to be calculated\n",
      "parameter force2D must be set to True to enable shape2D extraction\n",
      "GLCM is symmetrical, therefore Sum Average = 2 * Joint Average, only 1 needs to be calculated\n",
      "parameter force2D must be set to True to enable shape2D extraction\n",
      "GLCM is symmetrical, therefore Sum Average = 2 * Joint Average, only 1 needs to be calculated\n",
      "parameter force2D must be set to True to enable shape2D extraction\n",
      "GLCM is symmetrical, therefore Sum Average = 2 * Joint Average, only 1 needs to be calculated\n"
     ]
    },
    {
     "name": "stdout",
     "output_type": "stream",
     "text": [
      "pancreas_187.dcm\n",
      "pancreas_191.dcm\n"
     ]
    },
    {
     "name": "stderr",
     "output_type": "stream",
     "text": [
      "parameter force2D must be set to True to enable shape2D extraction\n",
      "GLCM is symmetrical, therefore Sum Average = 2 * Joint Average, only 1 needs to be calculated\n",
      "parameter force2D must be set to True to enable shape2D extraction\n",
      "GLCM is symmetrical, therefore Sum Average = 2 * Joint Average, only 1 needs to be calculated\n",
      "parameter force2D must be set to True to enable shape2D extraction\n",
      "GLCM is symmetrical, therefore Sum Average = 2 * Joint Average, only 1 needs to be calculated\n",
      "parameter force2D must be set to True to enable shape2D extraction\n",
      "GLCM is symmetrical, therefore Sum Average = 2 * Joint Average, only 1 needs to be calculated\n"
     ]
    },
    {
     "name": "stdout",
     "output_type": "stream",
     "text": [
      "pancreas_193.dcm\n",
      "pancreas_194.dcm\n"
     ]
    },
    {
     "name": "stderr",
     "output_type": "stream",
     "text": [
      "parameter force2D must be set to True to enable shape2D extraction\n",
      "GLCM is symmetrical, therefore Sum Average = 2 * Joint Average, only 1 needs to be calculated\n",
      "parameter force2D must be set to True to enable shape2D extraction\n",
      "GLCM is symmetrical, therefore Sum Average = 2 * Joint Average, only 1 needs to be calculated\n",
      "parameter force2D must be set to True to enable shape2D extraction\n",
      "GLCM is symmetrical, therefore Sum Average = 2 * Joint Average, only 1 needs to be calculated\n"
     ]
    },
    {
     "name": "stdout",
     "output_type": "stream",
     "text": [
      "pancreas_196.dcm\n"
     ]
    },
    {
     "name": "stderr",
     "output_type": "stream",
     "text": [
      "parameter force2D must be set to True to enable shape2D extraction\n",
      "GLCM is symmetrical, therefore Sum Average = 2 * Joint Average, only 1 needs to be calculated\n",
      "parameter force2D must be set to True to enable shape2D extraction\n",
      "GLCM is symmetrical, therefore Sum Average = 2 * Joint Average, only 1 needs to be calculated\n",
      "parameter force2D must be set to True to enable shape2D extraction\n",
      "GLCM is symmetrical, therefore Sum Average = 2 * Joint Average, only 1 needs to be calculated\n"
     ]
    },
    {
     "name": "stdout",
     "output_type": "stream",
     "text": [
      "pancreas_197.dcm\n",
      "pancreas_198.dcm\n"
     ]
    },
    {
     "name": "stderr",
     "output_type": "stream",
     "text": [
      "parameter force2D must be set to True to enable shape2D extraction\n",
      "GLCM is symmetrical, therefore Sum Average = 2 * Joint Average, only 1 needs to be calculated\n",
      "parameter force2D must be set to True to enable shape2D extraction\n",
      "GLCM is symmetrical, therefore Sum Average = 2 * Joint Average, only 1 needs to be calculated\n",
      "parameter force2D must be set to True to enable shape2D extraction\n",
      "GLCM is symmetrical, therefore Sum Average = 2 * Joint Average, only 1 needs to be calculated\n",
      "parameter force2D must be set to True to enable shape2D extraction\n",
      "GLCM is symmetrical, therefore Sum Average = 2 * Joint Average, only 1 needs to be calculated\n"
     ]
    },
    {
     "name": "stdout",
     "output_type": "stream",
     "text": [
      "pancreas_199.dcm\n"
     ]
    },
    {
     "name": "stderr",
     "output_type": "stream",
     "text": [
      "parameter force2D must be set to True to enable shape2D extraction\n",
      "GLCM is symmetrical, therefore Sum Average = 2 * Joint Average, only 1 needs to be calculated\n",
      "parameter force2D must be set to True to enable shape2D extraction\n",
      "GLCM is symmetrical, therefore Sum Average = 2 * Joint Average, only 1 needs to be calculated\n"
     ]
    },
    {
     "name": "stdout",
     "output_type": "stream",
     "text": [
      "pancreas_200.dcm\n",
      "pancreas_201.dcm\n"
     ]
    },
    {
     "name": "stderr",
     "output_type": "stream",
     "text": [
      "parameter force2D must be set to True to enable shape2D extraction\n",
      "GLCM is symmetrical, therefore Sum Average = 2 * Joint Average, only 1 needs to be calculated\n",
      "parameter force2D must be set to True to enable shape2D extraction\n",
      "GLCM is symmetrical, therefore Sum Average = 2 * Joint Average, only 1 needs to be calculated\n",
      "parameter force2D must be set to True to enable shape2D extraction\n",
      "GLCM is symmetrical, therefore Sum Average = 2 * Joint Average, only 1 needs to be calculated\n",
      "parameter force2D must be set to True to enable shape2D extraction\n",
      "GLCM is symmetrical, therefore Sum Average = 2 * Joint Average, only 1 needs to be calculated\n"
     ]
    },
    {
     "name": "stdout",
     "output_type": "stream",
     "text": [
      "pancreas_203.dcm\n",
      "pancreas_204.dcm\n"
     ]
    },
    {
     "name": "stderr",
     "output_type": "stream",
     "text": [
      "parameter force2D must be set to True to enable shape2D extraction\n",
      "GLCM is symmetrical, therefore Sum Average = 2 * Joint Average, only 1 needs to be calculated\n",
      "parameter force2D must be set to True to enable shape2D extraction\n",
      "GLCM is symmetrical, therefore Sum Average = 2 * Joint Average, only 1 needs to be calculated\n",
      "parameter force2D must be set to True to enable shape2D extraction\n"
     ]
    },
    {
     "name": "stdout",
     "output_type": "stream",
     "text": [
      "pancreas_207.dcm\n"
     ]
    },
    {
     "name": "stderr",
     "output_type": "stream",
     "text": [
      "GLCM is symmetrical, therefore Sum Average = 2 * Joint Average, only 1 needs to be calculated\n",
      "parameter force2D must be set to True to enable shape2D extraction\n",
      "GLCM is symmetrical, therefore Sum Average = 2 * Joint Average, only 1 needs to be calculated\n",
      "parameter force2D must be set to True to enable shape2D extraction\n",
      "GLCM is symmetrical, therefore Sum Average = 2 * Joint Average, only 1 needs to be calculated\n",
      "parameter force2D must be set to True to enable shape2D extraction\n",
      "GLCM is symmetrical, therefore Sum Average = 2 * Joint Average, only 1 needs to be calculated\n"
     ]
    },
    {
     "name": "stdout",
     "output_type": "stream",
     "text": [
      "pancreas_209.dcm\n",
      "pancreas_210.dcm\n"
     ]
    },
    {
     "name": "stderr",
     "output_type": "stream",
     "text": [
      "parameter force2D must be set to True to enable shape2D extraction\n",
      "GLCM is symmetrical, therefore Sum Average = 2 * Joint Average, only 1 needs to be calculated\n",
      "parameter force2D must be set to True to enable shape2D extraction\n",
      "GLCM is symmetrical, therefore Sum Average = 2 * Joint Average, only 1 needs to be calculated\n",
      "parameter force2D must be set to True to enable shape2D extraction\n",
      "GLCM is symmetrical, therefore Sum Average = 2 * Joint Average, only 1 needs to be calculated\n",
      "parameter force2D must be set to True to enable shape2D extraction\n",
      "GLCM is symmetrical, therefore Sum Average = 2 * Joint Average, only 1 needs to be calculated\n"
     ]
    },
    {
     "name": "stdout",
     "output_type": "stream",
     "text": [
      "pancreas_211.dcm\n",
      "pancreas_212.dcm\n"
     ]
    },
    {
     "name": "stderr",
     "output_type": "stream",
     "text": [
      "parameter force2D must be set to True to enable shape2D extraction\n",
      "GLCM is symmetrical, therefore Sum Average = 2 * Joint Average, only 1 needs to be calculated\n",
      "parameter force2D must be set to True to enable shape2D extraction\n",
      "GLCM is symmetrical, therefore Sum Average = 2 * Joint Average, only 1 needs to be calculated\n",
      "parameter force2D must be set to True to enable shape2D extraction\n",
      "GLCM is symmetrical, therefore Sum Average = 2 * Joint Average, only 1 needs to be calculated\n",
      "parameter force2D must be set to True to enable shape2D extraction\n",
      "GLCM is symmetrical, therefore Sum Average = 2 * Joint Average, only 1 needs to be calculated\n"
     ]
    },
    {
     "name": "stdout",
     "output_type": "stream",
     "text": [
      "pancreas_213.dcm\n",
      "pancreas_214.dcm\n"
     ]
    },
    {
     "name": "stderr",
     "output_type": "stream",
     "text": [
      "parameter force2D must be set to True to enable shape2D extraction\n",
      "GLCM is symmetrical, therefore Sum Average = 2 * Joint Average, only 1 needs to be calculated\n",
      "parameter force2D must be set to True to enable shape2D extraction\n",
      "GLCM is symmetrical, therefore Sum Average = 2 * Joint Average, only 1 needs to be calculated\n",
      "parameter force2D must be set to True to enable shape2D extraction\n",
      "GLCM is symmetrical, therefore Sum Average = 2 * Joint Average, only 1 needs to be calculated\n"
     ]
    },
    {
     "name": "stdout",
     "output_type": "stream",
     "text": [
      "pancreas_215.dcm\n"
     ]
    },
    {
     "name": "stderr",
     "output_type": "stream",
     "text": [
      "parameter force2D must be set to True to enable shape2D extraction\n",
      "GLCM is symmetrical, therefore Sum Average = 2 * Joint Average, only 1 needs to be calculated\n"
     ]
    },
    {
     "name": "stdout",
     "output_type": "stream",
     "text": [
      "pancreas_217.dcm\n"
     ]
    },
    {
     "name": "stderr",
     "output_type": "stream",
     "text": [
      "parameter force2D must be set to True to enable shape2D extraction\n",
      "GLCM is symmetrical, therefore Sum Average = 2 * Joint Average, only 1 needs to be calculated\n",
      "parameter force2D must be set to True to enable shape2D extraction\n",
      "GLCM is symmetrical, therefore Sum Average = 2 * Joint Average, only 1 needs to be calculated\n",
      "parameter force2D must be set to True to enable shape2D extraction\n",
      "GLCM is symmetrical, therefore Sum Average = 2 * Joint Average, only 1 needs to be calculated\n",
      "parameter force2D must be set to True to enable shape2D extraction\n"
     ]
    },
    {
     "name": "stdout",
     "output_type": "stream",
     "text": [
      "pancreas_218.dcm\n"
     ]
    },
    {
     "name": "stderr",
     "output_type": "stream",
     "text": [
      "GLCM is symmetrical, therefore Sum Average = 2 * Joint Average, only 1 needs to be calculated\n",
      "parameter force2D must be set to True to enable shape2D extraction\n",
      "GLCM is symmetrical, therefore Sum Average = 2 * Joint Average, only 1 needs to be calculated\n",
      "parameter force2D must be set to True to enable shape2D extraction\n",
      "GLCM is symmetrical, therefore Sum Average = 2 * Joint Average, only 1 needs to be calculated\n"
     ]
    },
    {
     "name": "stdout",
     "output_type": "stream",
     "text": [
      "pancreas_219.dcm\n",
      "pancreas_222.dcm\n"
     ]
    },
    {
     "name": "stderr",
     "output_type": "stream",
     "text": [
      "parameter force2D must be set to True to enable shape2D extraction\n",
      "GLCM is symmetrical, therefore Sum Average = 2 * Joint Average, only 1 needs to be calculated\n",
      "parameter force2D must be set to True to enable shape2D extraction\n",
      "GLCM is symmetrical, therefore Sum Average = 2 * Joint Average, only 1 needs to be calculated\n",
      "parameter force2D must be set to True to enable shape2D extraction\n",
      "GLCM is symmetrical, therefore Sum Average = 2 * Joint Average, only 1 needs to be calculated\n",
      "parameter force2D must be set to True to enable shape2D extraction\n"
     ]
    },
    {
     "name": "stdout",
     "output_type": "stream",
     "text": [
      "pancreas_224.dcm\n"
     ]
    },
    {
     "name": "stderr",
     "output_type": "stream",
     "text": [
      "GLCM is symmetrical, therefore Sum Average = 2 * Joint Average, only 1 needs to be calculated\n",
      "parameter force2D must be set to True to enable shape2D extraction\n",
      "GLCM is symmetrical, therefore Sum Average = 2 * Joint Average, only 1 needs to be calculated\n",
      "parameter force2D must be set to True to enable shape2D extraction\n",
      "GLCM is symmetrical, therefore Sum Average = 2 * Joint Average, only 1 needs to be calculated\n"
     ]
    },
    {
     "name": "stdout",
     "output_type": "stream",
     "text": [
      "pancreas_225.dcm\n"
     ]
    },
    {
     "name": "stderr",
     "output_type": "stream",
     "text": [
      "parameter force2D must be set to True to enable shape2D extraction\n",
      "GLCM is symmetrical, therefore Sum Average = 2 * Joint Average, only 1 needs to be calculated\n",
      "parameter force2D must be set to True to enable shape2D extraction\n",
      "GLCM is symmetrical, therefore Sum Average = 2 * Joint Average, only 1 needs to be calculated\n"
     ]
    },
    {
     "name": "stdout",
     "output_type": "stream",
     "text": [
      "pancreas_226.dcm\n",
      "pancreas_227.dcm\n"
     ]
    },
    {
     "name": "stderr",
     "output_type": "stream",
     "text": [
      "parameter force2D must be set to True to enable shape2D extraction\n",
      "GLCM is symmetrical, therefore Sum Average = 2 * Joint Average, only 1 needs to be calculated\n",
      "parameter force2D must be set to True to enable shape2D extraction\n",
      "GLCM is symmetrical, therefore Sum Average = 2 * Joint Average, only 1 needs to be calculated\n",
      "parameter force2D must be set to True to enable shape2D extraction\n",
      "GLCM is symmetrical, therefore Sum Average = 2 * Joint Average, only 1 needs to be calculated\n",
      "parameter force2D must be set to True to enable shape2D extraction\n",
      "GLCM is symmetrical, therefore Sum Average = 2 * Joint Average, only 1 needs to be calculated\n"
     ]
    },
    {
     "name": "stdout",
     "output_type": "stream",
     "text": [
      "pancreas_228.dcm\n",
      "pancreas_229.dcm\n"
     ]
    },
    {
     "name": "stderr",
     "output_type": "stream",
     "text": [
      "parameter force2D must be set to True to enable shape2D extraction\n",
      "GLCM is symmetrical, therefore Sum Average = 2 * Joint Average, only 1 needs to be calculated\n",
      "parameter force2D must be set to True to enable shape2D extraction\n",
      "GLCM is symmetrical, therefore Sum Average = 2 * Joint Average, only 1 needs to be calculated\n",
      "parameter force2D must be set to True to enable shape2D extraction\n",
      "GLCM is symmetrical, therefore Sum Average = 2 * Joint Average, only 1 needs to be calculated\n",
      "parameter force2D must be set to True to enable shape2D extraction\n",
      "GLCM is symmetrical, therefore Sum Average = 2 * Joint Average, only 1 needs to be calculated\n"
     ]
    },
    {
     "name": "stdout",
     "output_type": "stream",
     "text": [
      "pancreas_230.dcm\n",
      "pancreas_231.dcm\n"
     ]
    },
    {
     "name": "stderr",
     "output_type": "stream",
     "text": [
      "parameter force2D must be set to True to enable shape2D extraction\n",
      "GLCM is symmetrical, therefore Sum Average = 2 * Joint Average, only 1 needs to be calculated\n",
      "parameter force2D must be set to True to enable shape2D extraction\n",
      "GLCM is symmetrical, therefore Sum Average = 2 * Joint Average, only 1 needs to be calculated\n",
      "parameter force2D must be set to True to enable shape2D extraction\n",
      "GLCM is symmetrical, therefore Sum Average = 2 * Joint Average, only 1 needs to be calculated\n",
      "parameter force2D must be set to True to enable shape2D extraction\n",
      "GLCM is symmetrical, therefore Sum Average = 2 * Joint Average, only 1 needs to be calculated\n"
     ]
    },
    {
     "name": "stdout",
     "output_type": "stream",
     "text": [
      "pancreas_234.dcm\n"
     ]
    },
    {
     "name": "stderr",
     "output_type": "stream",
     "text": [
      "parameter force2D must be set to True to enable shape2D extraction\n",
      "GLCM is symmetrical, therefore Sum Average = 2 * Joint Average, only 1 needs to be calculated\n",
      "parameter force2D must be set to True to enable shape2D extraction\n",
      "GLCM is symmetrical, therefore Sum Average = 2 * Joint Average, only 1 needs to be calculated\n"
     ]
    },
    {
     "name": "stdout",
     "output_type": "stream",
     "text": [
      "pancreas_235.dcm\n",
      "pancreas_236.dcm\n"
     ]
    },
    {
     "name": "stderr",
     "output_type": "stream",
     "text": [
      "parameter force2D must be set to True to enable shape2D extraction\n",
      "GLCM is symmetrical, therefore Sum Average = 2 * Joint Average, only 1 needs to be calculated\n",
      "parameter force2D must be set to True to enable shape2D extraction\n",
      "GLCM is symmetrical, therefore Sum Average = 2 * Joint Average, only 1 needs to be calculated\n",
      "parameter force2D must be set to True to enable shape2D extraction\n",
      "GLCM is symmetrical, therefore Sum Average = 2 * Joint Average, only 1 needs to be calculated\n"
     ]
    },
    {
     "name": "stdout",
     "output_type": "stream",
     "text": [
      "pancreas_239.dcm\n"
     ]
    },
    {
     "name": "stderr",
     "output_type": "stream",
     "text": [
      "parameter force2D must be set to True to enable shape2D extraction\n",
      "GLCM is symmetrical, therefore Sum Average = 2 * Joint Average, only 1 needs to be calculated\n",
      "parameter force2D must be set to True to enable shape2D extraction\n",
      "GLCM is symmetrical, therefore Sum Average = 2 * Joint Average, only 1 needs to be calculated\n",
      "parameter force2D must be set to True to enable shape2D extraction\n",
      "GLCM is symmetrical, therefore Sum Average = 2 * Joint Average, only 1 needs to be calculated\n"
     ]
    },
    {
     "name": "stdout",
     "output_type": "stream",
     "text": [
      "pancreas_241.dcm\n",
      "pancreas_242.dcm\n"
     ]
    },
    {
     "name": "stderr",
     "output_type": "stream",
     "text": [
      "parameter force2D must be set to True to enable shape2D extraction\n",
      "GLCM is symmetrical, therefore Sum Average = 2 * Joint Average, only 1 needs to be calculated\n",
      "parameter force2D must be set to True to enable shape2D extraction\n",
      "GLCM is symmetrical, therefore Sum Average = 2 * Joint Average, only 1 needs to be calculated\n",
      "parameter force2D must be set to True to enable shape2D extraction\n",
      "GLCM is symmetrical, therefore Sum Average = 2 * Joint Average, only 1 needs to be calculated\n"
     ]
    },
    {
     "name": "stdout",
     "output_type": "stream",
     "text": [
      "pancreas_243.dcm\n"
     ]
    },
    {
     "name": "stderr",
     "output_type": "stream",
     "text": [
      "parameter force2D must be set to True to enable shape2D extraction\n",
      "GLCM is symmetrical, therefore Sum Average = 2 * Joint Average, only 1 needs to be calculated\n",
      "parameter force2D must be set to True to enable shape2D extraction\n",
      "GLCM is symmetrical, therefore Sum Average = 2 * Joint Average, only 1 needs to be calculated\n",
      "parameter force2D must be set to True to enable shape2D extraction\n",
      "GLCM is symmetrical, therefore Sum Average = 2 * Joint Average, only 1 needs to be calculated\n"
     ]
    },
    {
     "name": "stdout",
     "output_type": "stream",
     "text": [
      "pancreas_244.dcm\n",
      "pancreas_246.dcm\n"
     ]
    },
    {
     "name": "stderr",
     "output_type": "stream",
     "text": [
      "parameter force2D must be set to True to enable shape2D extraction\n",
      "GLCM is symmetrical, therefore Sum Average = 2 * Joint Average, only 1 needs to be calculated\n",
      "parameter force2D must be set to True to enable shape2D extraction\n",
      "GLCM is symmetrical, therefore Sum Average = 2 * Joint Average, only 1 needs to be calculated\n",
      "parameter force2D must be set to True to enable shape2D extraction\n",
      "GLCM is symmetrical, therefore Sum Average = 2 * Joint Average, only 1 needs to be calculated\n",
      "parameter force2D must be set to True to enable shape2D extraction\n",
      "GLCM is symmetrical, therefore Sum Average = 2 * Joint Average, only 1 needs to be calculated\n"
     ]
    },
    {
     "name": "stdout",
     "output_type": "stream",
     "text": [
      "pancreas_247.dcm\n"
     ]
    },
    {
     "name": "stderr",
     "output_type": "stream",
     "text": [
      "parameter force2D must be set to True to enable shape2D extraction\n",
      "GLCM is symmetrical, therefore Sum Average = 2 * Joint Average, only 1 needs to be calculated\n",
      "parameter force2D must be set to True to enable shape2D extraction\n",
      "GLCM is symmetrical, therefore Sum Average = 2 * Joint Average, only 1 needs to be calculated\n"
     ]
    },
    {
     "name": "stdout",
     "output_type": "stream",
     "text": [
      "pancreas_249.dcm\n",
      "pancreas_253.dcm\n"
     ]
    },
    {
     "name": "stderr",
     "output_type": "stream",
     "text": [
      "parameter force2D must be set to True to enable shape2D extraction\n",
      "GLCM is symmetrical, therefore Sum Average = 2 * Joint Average, only 1 needs to be calculated\n",
      "parameter force2D must be set to True to enable shape2D extraction\n",
      "GLCM is symmetrical, therefore Sum Average = 2 * Joint Average, only 1 needs to be calculated\n",
      "parameter force2D must be set to True to enable shape2D extraction\n",
      "GLCM is symmetrical, therefore Sum Average = 2 * Joint Average, only 1 needs to be calculated\n",
      "parameter force2D must be set to True to enable shape2D extraction\n",
      "GLCM is symmetrical, therefore Sum Average = 2 * Joint Average, only 1 needs to be calculated\n"
     ]
    },
    {
     "name": "stdout",
     "output_type": "stream",
     "text": [
      "pancreas_254.dcm\n",
      "pancreas_255.dcm\n"
     ]
    },
    {
     "name": "stderr",
     "output_type": "stream",
     "text": [
      "parameter force2D must be set to True to enable shape2D extraction\n",
      "GLCM is symmetrical, therefore Sum Average = 2 * Joint Average, only 1 needs to be calculated\n",
      "parameter force2D must be set to True to enable shape2D extraction\n",
      "GLCM is symmetrical, therefore Sum Average = 2 * Joint Average, only 1 needs to be calculated\n",
      "parameter force2D must be set to True to enable shape2D extraction\n",
      "GLCM is symmetrical, therefore Sum Average = 2 * Joint Average, only 1 needs to be calculated\n",
      "parameter force2D must be set to True to enable shape2D extraction\n",
      "GLCM is symmetrical, therefore Sum Average = 2 * Joint Average, only 1 needs to be calculated\n"
     ]
    },
    {
     "name": "stdout",
     "output_type": "stream",
     "text": [
      "pancreas_256.dcm\n",
      "pancreas_258.dcm\n"
     ]
    },
    {
     "name": "stderr",
     "output_type": "stream",
     "text": [
      "parameter force2D must be set to True to enable shape2D extraction\n",
      "GLCM is symmetrical, therefore Sum Average = 2 * Joint Average, only 1 needs to be calculated\n",
      "parameter force2D must be set to True to enable shape2D extraction\n",
      "GLCM is symmetrical, therefore Sum Average = 2 * Joint Average, only 1 needs to be calculated\n",
      "parameter force2D must be set to True to enable shape2D extraction\n",
      "GLCM is symmetrical, therefore Sum Average = 2 * Joint Average, only 1 needs to be calculated\n",
      "parameter force2D must be set to True to enable shape2D extraction\n",
      "GLCM is symmetrical, therefore Sum Average = 2 * Joint Average, only 1 needs to be calculated\n"
     ]
    },
    {
     "name": "stdout",
     "output_type": "stream",
     "text": [
      "pancreas_259.dcm\n",
      "pancreas_261.dcm\n"
     ]
    },
    {
     "name": "stderr",
     "output_type": "stream",
     "text": [
      "parameter force2D must be set to True to enable shape2D extraction\n",
      "GLCM is symmetrical, therefore Sum Average = 2 * Joint Average, only 1 needs to be calculated\n",
      "parameter force2D must be set to True to enable shape2D extraction\n",
      "GLCM is symmetrical, therefore Sum Average = 2 * Joint Average, only 1 needs to be calculated\n",
      "parameter force2D must be set to True to enable shape2D extraction\n",
      "GLCM is symmetrical, therefore Sum Average = 2 * Joint Average, only 1 needs to be calculated\n",
      "parameter force2D must be set to True to enable shape2D extraction\n",
      "GLCM is symmetrical, therefore Sum Average = 2 * Joint Average, only 1 needs to be calculated\n"
     ]
    },
    {
     "name": "stdout",
     "output_type": "stream",
     "text": [
      "pancreas_262.dcm\n",
      "pancreas_264.dcm\n"
     ]
    },
    {
     "name": "stderr",
     "output_type": "stream",
     "text": [
      "parameter force2D must be set to True to enable shape2D extraction\n",
      "GLCM is symmetrical, therefore Sum Average = 2 * Joint Average, only 1 needs to be calculated\n",
      "parameter force2D must be set to True to enable shape2D extraction\n",
      "GLCM is symmetrical, therefore Sum Average = 2 * Joint Average, only 1 needs to be calculated\n",
      "parameter force2D must be set to True to enable shape2D extraction\n",
      "GLCM is symmetrical, therefore Sum Average = 2 * Joint Average, only 1 needs to be calculated\n",
      "parameter force2D must be set to True to enable shape2D extraction\n",
      "GLCM is symmetrical, therefore Sum Average = 2 * Joint Average, only 1 needs to be calculated\n"
     ]
    },
    {
     "name": "stdout",
     "output_type": "stream",
     "text": [
      "pancreas_265.dcm\n",
      "pancreas_266.dcm\n"
     ]
    },
    {
     "name": "stderr",
     "output_type": "stream",
     "text": [
      "parameter force2D must be set to True to enable shape2D extraction\n",
      "GLCM is symmetrical, therefore Sum Average = 2 * Joint Average, only 1 needs to be calculated\n",
      "parameter force2D must be set to True to enable shape2D extraction\n",
      "GLCM is symmetrical, therefore Sum Average = 2 * Joint Average, only 1 needs to be calculated\n"
     ]
    },
    {
     "name": "stdout",
     "output_type": "stream",
     "text": [
      "pancreas_267.dcm\n"
     ]
    },
    {
     "name": "stderr",
     "output_type": "stream",
     "text": [
      "parameter force2D must be set to True to enable shape2D extraction\n",
      "GLCM is symmetrical, therefore Sum Average = 2 * Joint Average, only 1 needs to be calculated\n",
      "parameter force2D must be set to True to enable shape2D extraction\n",
      "GLCM is symmetrical, therefore Sum Average = 2 * Joint Average, only 1 needs to be calculated\n",
      "parameter force2D must be set to True to enable shape2D extraction\n",
      "GLCM is symmetrical, therefore Sum Average = 2 * Joint Average, only 1 needs to be calculated\n",
      "parameter force2D must be set to True to enable shape2D extraction\n",
      "GLCM is symmetrical, therefore Sum Average = 2 * Joint Average, only 1 needs to be calculated\n"
     ]
    },
    {
     "name": "stdout",
     "output_type": "stream",
     "text": [
      "pancreas_268.dcm\n",
      "pancreas_269.dcm\n"
     ]
    },
    {
     "name": "stderr",
     "output_type": "stream",
     "text": [
      "parameter force2D must be set to True to enable shape2D extraction\n",
      "GLCM is symmetrical, therefore Sum Average = 2 * Joint Average, only 1 needs to be calculated\n",
      "parameter force2D must be set to True to enable shape2D extraction\n",
      "GLCM is symmetrical, therefore Sum Average = 2 * Joint Average, only 1 needs to be calculated\n",
      "parameter force2D must be set to True to enable shape2D extraction\n",
      "GLCM is symmetrical, therefore Sum Average = 2 * Joint Average, only 1 needs to be calculated\n",
      "parameter force2D must be set to True to enable shape2D extraction\n",
      "GLCM is symmetrical, therefore Sum Average = 2 * Joint Average, only 1 needs to be calculated\n"
     ]
    },
    {
     "name": "stdout",
     "output_type": "stream",
     "text": [
      "pancreas_270.dcm\n",
      "pancreas_274.dcm\n"
     ]
    },
    {
     "name": "stderr",
     "output_type": "stream",
     "text": [
      "parameter force2D must be set to True to enable shape2D extraction\n",
      "GLCM is symmetrical, therefore Sum Average = 2 * Joint Average, only 1 needs to be calculated\n",
      "parameter force2D must be set to True to enable shape2D extraction\n",
      "GLCM is symmetrical, therefore Sum Average = 2 * Joint Average, only 1 needs to be calculated\n",
      "parameter force2D must be set to True to enable shape2D extraction\n",
      "GLCM is symmetrical, therefore Sum Average = 2 * Joint Average, only 1 needs to be calculated\n"
     ]
    },
    {
     "name": "stdout",
     "output_type": "stream",
     "text": [
      "pancreas_275.dcm\n"
     ]
    },
    {
     "name": "stderr",
     "output_type": "stream",
     "text": [
      "parameter force2D must be set to True to enable shape2D extraction\n",
      "GLCM is symmetrical, therefore Sum Average = 2 * Joint Average, only 1 needs to be calculated\n",
      "parameter force2D must be set to True to enable shape2D extraction\n",
      "GLCM is symmetrical, therefore Sum Average = 2 * Joint Average, only 1 needs to be calculated\n",
      "parameter force2D must be set to True to enable shape2D extraction\n",
      "GLCM is symmetrical, therefore Sum Average = 2 * Joint Average, only 1 needs to be calculated\n"
     ]
    },
    {
     "name": "stdout",
     "output_type": "stream",
     "text": [
      "pancreas_276.dcm\n",
      "pancreas_277.dcm\n"
     ]
    },
    {
     "name": "stderr",
     "output_type": "stream",
     "text": [
      "parameter force2D must be set to True to enable shape2D extraction\n",
      "GLCM is symmetrical, therefore Sum Average = 2 * Joint Average, only 1 needs to be calculated\n",
      "parameter force2D must be set to True to enable shape2D extraction\n",
      "GLCM is symmetrical, therefore Sum Average = 2 * Joint Average, only 1 needs to be calculated\n",
      "parameter force2D must be set to True to enable shape2D extraction\n",
      "GLCM is symmetrical, therefore Sum Average = 2 * Joint Average, only 1 needs to be calculated\n",
      "parameter force2D must be set to True to enable shape2D extraction\n",
      "GLCM is symmetrical, therefore Sum Average = 2 * Joint Average, only 1 needs to be calculated\n"
     ]
    },
    {
     "name": "stdout",
     "output_type": "stream",
     "text": [
      "pancreas_278.dcm\n",
      "pancreas_279.dcm\n"
     ]
    },
    {
     "name": "stderr",
     "output_type": "stream",
     "text": [
      "parameter force2D must be set to True to enable shape2D extraction\n",
      "GLCM is symmetrical, therefore Sum Average = 2 * Joint Average, only 1 needs to be calculated\n",
      "parameter force2D must be set to True to enable shape2D extraction\n",
      "GLCM is symmetrical, therefore Sum Average = 2 * Joint Average, only 1 needs to be calculated\n",
      "parameter force2D must be set to True to enable shape2D extraction\n",
      "GLCM is symmetrical, therefore Sum Average = 2 * Joint Average, only 1 needs to be calculated\n",
      "parameter force2D must be set to True to enable shape2D extraction\n",
      "GLCM is symmetrical, therefore Sum Average = 2 * Joint Average, only 1 needs to be calculated\n"
     ]
    },
    {
     "name": "stdout",
     "output_type": "stream",
     "text": [
      "pancreas_280.dcm\n"
     ]
    },
    {
     "name": "stderr",
     "output_type": "stream",
     "text": [
      "parameter force2D must be set to True to enable shape2D extraction\n",
      "GLCM is symmetrical, therefore Sum Average = 2 * Joint Average, only 1 needs to be calculated\n"
     ]
    },
    {
     "name": "stdout",
     "output_type": "stream",
     "text": [
      "pancreas_283.dcm\n"
     ]
    },
    {
     "name": "stderr",
     "output_type": "stream",
     "text": [
      "parameter force2D must be set to True to enable shape2D extraction\n",
      "GLCM is symmetrical, therefore Sum Average = 2 * Joint Average, only 1 needs to be calculated\n",
      "parameter force2D must be set to True to enable shape2D extraction\n",
      "GLCM is symmetrical, therefore Sum Average = 2 * Joint Average, only 1 needs to be calculated\n",
      "parameter force2D must be set to True to enable shape2D extraction\n",
      "GLCM is symmetrical, therefore Sum Average = 2 * Joint Average, only 1 needs to be calculated\n"
     ]
    },
    {
     "name": "stdout",
     "output_type": "stream",
     "text": [
      "pancreas_284.dcm\n",
      "pancreas_285.dcm\n"
     ]
    },
    {
     "name": "stderr",
     "output_type": "stream",
     "text": [
      "parameter force2D must be set to True to enable shape2D extraction\n",
      "GLCM is symmetrical, therefore Sum Average = 2 * Joint Average, only 1 needs to be calculated\n",
      "parameter force2D must be set to True to enable shape2D extraction\n",
      "GLCM is symmetrical, therefore Sum Average = 2 * Joint Average, only 1 needs to be calculated\n",
      "parameter force2D must be set to True to enable shape2D extraction\n",
      "GLCM is symmetrical, therefore Sum Average = 2 * Joint Average, only 1 needs to be calculated\n",
      "parameter force2D must be set to True to enable shape2D extraction\n",
      "GLCM is symmetrical, therefore Sum Average = 2 * Joint Average, only 1 needs to be calculated\n"
     ]
    },
    {
     "name": "stdout",
     "output_type": "stream",
     "text": [
      "pancreas_286.dcm\n"
     ]
    },
    {
     "name": "stderr",
     "output_type": "stream",
     "text": [
      "parameter force2D must be set to True to enable shape2D extraction\n",
      "GLCM is symmetrical, therefore Sum Average = 2 * Joint Average, only 1 needs to be calculated\n",
      "parameter force2D must be set to True to enable shape2D extraction\n",
      "GLCM is symmetrical, therefore Sum Average = 2 * Joint Average, only 1 needs to be calculated\n"
     ]
    },
    {
     "name": "stdout",
     "output_type": "stream",
     "text": [
      "pancreas_287.dcm\n",
      "pancreas_289.dcm\n"
     ]
    },
    {
     "name": "stderr",
     "output_type": "stream",
     "text": [
      "parameter force2D must be set to True to enable shape2D extraction\n",
      "GLCM is symmetrical, therefore Sum Average = 2 * Joint Average, only 1 needs to be calculated\n",
      "parameter force2D must be set to True to enable shape2D extraction\n",
      "GLCM is symmetrical, therefore Sum Average = 2 * Joint Average, only 1 needs to be calculated\n",
      "parameter force2D must be set to True to enable shape2D extraction\n",
      "GLCM is symmetrical, therefore Sum Average = 2 * Joint Average, only 1 needs to be calculated\n",
      "parameter force2D must be set to True to enable shape2D extraction\n",
      "GLCM is symmetrical, therefore Sum Average = 2 * Joint Average, only 1 needs to be calculated\n"
     ]
    },
    {
     "name": "stdout",
     "output_type": "stream",
     "text": [
      "pancreas_290.dcm\n",
      "pancreas_291.dcm\n"
     ]
    },
    {
     "name": "stderr",
     "output_type": "stream",
     "text": [
      "parameter force2D must be set to True to enable shape2D extraction\n",
      "GLCM is symmetrical, therefore Sum Average = 2 * Joint Average, only 1 needs to be calculated\n",
      "parameter force2D must be set to True to enable shape2D extraction\n",
      "GLCM is symmetrical, therefore Sum Average = 2 * Joint Average, only 1 needs to be calculated\n",
      "parameter force2D must be set to True to enable shape2D extraction\n",
      "GLCM is symmetrical, therefore Sum Average = 2 * Joint Average, only 1 needs to be calculated\n",
      "parameter force2D must be set to True to enable shape2D extraction\n",
      "GLCM is symmetrical, therefore Sum Average = 2 * Joint Average, only 1 needs to be calculated\n"
     ]
    },
    {
     "name": "stdout",
     "output_type": "stream",
     "text": [
      "pancreas_292.dcm\n",
      "pancreas_293.dcm\n"
     ]
    },
    {
     "name": "stderr",
     "output_type": "stream",
     "text": [
      "parameter force2D must be set to True to enable shape2D extraction\n",
      "GLCM is symmetrical, therefore Sum Average = 2 * Joint Average, only 1 needs to be calculated\n",
      "parameter force2D must be set to True to enable shape2D extraction\n",
      "GLCM is symmetrical, therefore Sum Average = 2 * Joint Average, only 1 needs to be calculated\n",
      "parameter force2D must be set to True to enable shape2D extraction\n",
      "GLCM is symmetrical, therefore Sum Average = 2 * Joint Average, only 1 needs to be calculated\n",
      "parameter force2D must be set to True to enable shape2D extraction\n",
      "GLCM is symmetrical, therefore Sum Average = 2 * Joint Average, only 1 needs to be calculated\n"
     ]
    },
    {
     "name": "stdout",
     "output_type": "stream",
     "text": [
      "pancreas_294.dcm\n",
      "pancreas_295.dcm\n"
     ]
    },
    {
     "name": "stderr",
     "output_type": "stream",
     "text": [
      "parameter force2D must be set to True to enable shape2D extraction\n",
      "GLCM is symmetrical, therefore Sum Average = 2 * Joint Average, only 1 needs to be calculated\n",
      "parameter force2D must be set to True to enable shape2D extraction\n",
      "GLCM is symmetrical, therefore Sum Average = 2 * Joint Average, only 1 needs to be calculated\n",
      "parameter force2D must be set to True to enable shape2D extraction\n",
      "GLCM is symmetrical, therefore Sum Average = 2 * Joint Average, only 1 needs to be calculated\n",
      "parameter force2D must be set to True to enable shape2D extraction\n"
     ]
    },
    {
     "name": "stdout",
     "output_type": "stream",
     "text": [
      "pancreas_296.dcm\n"
     ]
    },
    {
     "name": "stderr",
     "output_type": "stream",
     "text": [
      "GLCM is symmetrical, therefore Sum Average = 2 * Joint Average, only 1 needs to be calculated\n",
      "parameter force2D must be set to True to enable shape2D extraction\n",
      "GLCM is symmetrical, therefore Sum Average = 2 * Joint Average, only 1 needs to be calculated\n",
      "parameter force2D must be set to True to enable shape2D extraction\n",
      "GLCM is symmetrical, therefore Sum Average = 2 * Joint Average, only 1 needs to be calculated\n"
     ]
    },
    {
     "name": "stdout",
     "output_type": "stream",
     "text": [
      "pancreas_297.dcm\n",
      "pancreas_298.dcm\n"
     ]
    },
    {
     "name": "stderr",
     "output_type": "stream",
     "text": [
      "parameter force2D must be set to True to enable shape2D extraction\n",
      "GLCM is symmetrical, therefore Sum Average = 2 * Joint Average, only 1 needs to be calculated\n",
      "parameter force2D must be set to True to enable shape2D extraction\n",
      "GLCM is symmetrical, therefore Sum Average = 2 * Joint Average, only 1 needs to be calculated\n",
      "parameter force2D must be set to True to enable shape2D extraction\n",
      "GLCM is symmetrical, therefore Sum Average = 2 * Joint Average, only 1 needs to be calculated\n"
     ]
    },
    {
     "name": "stdout",
     "output_type": "stream",
     "text": [
      "pancreas_299.dcm\n"
     ]
    },
    {
     "name": "stderr",
     "output_type": "stream",
     "text": [
      "parameter force2D must be set to True to enable shape2D extraction\n",
      "GLCM is symmetrical, therefore Sum Average = 2 * Joint Average, only 1 needs to be calculated\n",
      "parameter force2D must be set to True to enable shape2D extraction\n",
      "GLCM is symmetrical, therefore Sum Average = 2 * Joint Average, only 1 needs to be calculated\n",
      "parameter force2D must be set to True to enable shape2D extraction\n",
      "GLCM is symmetrical, therefore Sum Average = 2 * Joint Average, only 1 needs to be calculated\n"
     ]
    },
    {
     "name": "stdout",
     "output_type": "stream",
     "text": [
      "pancreas_300.dcm\n",
      "pancreas_301.dcm\n"
     ]
    },
    {
     "name": "stderr",
     "output_type": "stream",
     "text": [
      "parameter force2D must be set to True to enable shape2D extraction\n",
      "GLCM is symmetrical, therefore Sum Average = 2 * Joint Average, only 1 needs to be calculated\n",
      "parameter force2D must be set to True to enable shape2D extraction\n",
      "GLCM is symmetrical, therefore Sum Average = 2 * Joint Average, only 1 needs to be calculated\n",
      "parameter force2D must be set to True to enable shape2D extraction\n",
      "GLCM is symmetrical, therefore Sum Average = 2 * Joint Average, only 1 needs to be calculated\n"
     ]
    },
    {
     "name": "stdout",
     "output_type": "stream",
     "text": [
      "pancreas_302.dcm\n"
     ]
    },
    {
     "name": "stderr",
     "output_type": "stream",
     "text": [
      "parameter force2D must be set to True to enable shape2D extraction\n",
      "GLCM is symmetrical, therefore Sum Average = 2 * Joint Average, only 1 needs to be calculated\n",
      "parameter force2D must be set to True to enable shape2D extraction\n",
      "GLCM is symmetrical, therefore Sum Average = 2 * Joint Average, only 1 needs to be calculated\n",
      "parameter force2D must be set to True to enable shape2D extraction\n",
      "GLCM is symmetrical, therefore Sum Average = 2 * Joint Average, only 1 needs to be calculated\n"
     ]
    },
    {
     "name": "stdout",
     "output_type": "stream",
     "text": [
      "pancreas_303.dcm\n",
      "pancreas_304.dcm\n"
     ]
    },
    {
     "name": "stderr",
     "output_type": "stream",
     "text": [
      "parameter force2D must be set to True to enable shape2D extraction\n",
      "GLCM is symmetrical, therefore Sum Average = 2 * Joint Average, only 1 needs to be calculated\n",
      "parameter force2D must be set to True to enable shape2D extraction\n",
      "GLCM is symmetrical, therefore Sum Average = 2 * Joint Average, only 1 needs to be calculated\n",
      "parameter force2D must be set to True to enable shape2D extraction\n",
      "GLCM is symmetrical, therefore Sum Average = 2 * Joint Average, only 1 needs to be calculated\n",
      "parameter force2D must be set to True to enable shape2D extraction\n",
      "GLCM is symmetrical, therefore Sum Average = 2 * Joint Average, only 1 needs to be calculated\n"
     ]
    },
    {
     "name": "stdout",
     "output_type": "stream",
     "text": [
      "pancreas_305.dcm\n",
      "pancreas_308.dcm\n"
     ]
    },
    {
     "name": "stderr",
     "output_type": "stream",
     "text": [
      "parameter force2D must be set to True to enable shape2D extraction\n",
      "GLCM is symmetrical, therefore Sum Average = 2 * Joint Average, only 1 needs to be calculated\n",
      "parameter force2D must be set to True to enable shape2D extraction\n",
      "GLCM is symmetrical, therefore Sum Average = 2 * Joint Average, only 1 needs to be calculated\n",
      "parameter force2D must be set to True to enable shape2D extraction\n",
      "GLCM is symmetrical, therefore Sum Average = 2 * Joint Average, only 1 needs to be calculated\n",
      "parameter force2D must be set to True to enable shape2D extraction\n",
      "GLCM is symmetrical, therefore Sum Average = 2 * Joint Average, only 1 needs to be calculated\n"
     ]
    },
    {
     "name": "stdout",
     "output_type": "stream",
     "text": [
      "pancreas_309.dcm\n",
      "pancreas_310.dcm\n"
     ]
    },
    {
     "name": "stderr",
     "output_type": "stream",
     "text": [
      "parameter force2D must be set to True to enable shape2D extraction\n",
      "GLCM is symmetrical, therefore Sum Average = 2 * Joint Average, only 1 needs to be calculated\n",
      "parameter force2D must be set to True to enable shape2D extraction\n",
      "GLCM is symmetrical, therefore Sum Average = 2 * Joint Average, only 1 needs to be calculated\n",
      "parameter force2D must be set to True to enable shape2D extraction\n",
      "GLCM is symmetrical, therefore Sum Average = 2 * Joint Average, only 1 needs to be calculated\n",
      "parameter force2D must be set to True to enable shape2D extraction\n",
      "GLCM is symmetrical, therefore Sum Average = 2 * Joint Average, only 1 needs to be calculated\n"
     ]
    },
    {
     "name": "stdout",
     "output_type": "stream",
     "text": [
      "pancreas_311.dcm\n",
      "pancreas_312.dcm\n"
     ]
    },
    {
     "name": "stderr",
     "output_type": "stream",
     "text": [
      "parameter force2D must be set to True to enable shape2D extraction\n",
      "GLCM is symmetrical, therefore Sum Average = 2 * Joint Average, only 1 needs to be calculated\n",
      "parameter force2D must be set to True to enable shape2D extraction\n",
      "GLCM is symmetrical, therefore Sum Average = 2 * Joint Average, only 1 needs to be calculated\n",
      "parameter force2D must be set to True to enable shape2D extraction\n",
      "GLCM is symmetrical, therefore Sum Average = 2 * Joint Average, only 1 needs to be calculated\n"
     ]
    },
    {
     "name": "stdout",
     "output_type": "stream",
     "text": [
      "pancreas_313.dcm\n"
     ]
    },
    {
     "name": "stderr",
     "output_type": "stream",
     "text": [
      "parameter force2D must be set to True to enable shape2D extraction\n",
      "GLCM is symmetrical, therefore Sum Average = 2 * Joint Average, only 1 needs to be calculated\n",
      "parameter force2D must be set to True to enable shape2D extraction\n",
      "GLCM is symmetrical, therefore Sum Average = 2 * Joint Average, only 1 needs to be calculated\n"
     ]
    },
    {
     "name": "stdout",
     "output_type": "stream",
     "text": [
      "pancreas_315.dcm\n"
     ]
    },
    {
     "name": "stderr",
     "output_type": "stream",
     "text": [
      "parameter force2D must be set to True to enable shape2D extraction\n",
      "GLCM is symmetrical, therefore Sum Average = 2 * Joint Average, only 1 needs to be calculated\n",
      "parameter force2D must be set to True to enable shape2D extraction\n",
      "GLCM is symmetrical, therefore Sum Average = 2 * Joint Average, only 1 needs to be calculated\n",
      "parameter force2D must be set to True to enable shape2D extraction\n",
      "GLCM is symmetrical, therefore Sum Average = 2 * Joint Average, only 1 needs to be calculated\n"
     ]
    },
    {
     "name": "stdout",
     "output_type": "stream",
     "text": [
      "pancreas_316.dcm\n",
      "pancreas_318.dcm\n"
     ]
    },
    {
     "name": "stderr",
     "output_type": "stream",
     "text": [
      "parameter force2D must be set to True to enable shape2D extraction\n",
      "GLCM is symmetrical, therefore Sum Average = 2 * Joint Average, only 1 needs to be calculated\n",
      "parameter force2D must be set to True to enable shape2D extraction\n",
      "GLCM is symmetrical, therefore Sum Average = 2 * Joint Average, only 1 needs to be calculated\n",
      "parameter force2D must be set to True to enable shape2D extraction\n",
      "GLCM is symmetrical, therefore Sum Average = 2 * Joint Average, only 1 needs to be calculated\n"
     ]
    },
    {
     "name": "stdout",
     "output_type": "stream",
     "text": [
      "pancreas_320.dcm\n"
     ]
    },
    {
     "name": "stderr",
     "output_type": "stream",
     "text": [
      "parameter force2D must be set to True to enable shape2D extraction\n",
      "GLCM is symmetrical, therefore Sum Average = 2 * Joint Average, only 1 needs to be calculated\n",
      "parameter force2D must be set to True to enable shape2D extraction\n",
      "GLCM is symmetrical, therefore Sum Average = 2 * Joint Average, only 1 needs to be calculated\n",
      "parameter force2D must be set to True to enable shape2D extraction\n",
      "GLCM is symmetrical, therefore Sum Average = 2 * Joint Average, only 1 needs to be calculated\n"
     ]
    },
    {
     "name": "stdout",
     "output_type": "stream",
     "text": [
      "pancreas_321.dcm\n",
      "pancreas_323.dcm\n"
     ]
    },
    {
     "name": "stderr",
     "output_type": "stream",
     "text": [
      "parameter force2D must be set to True to enable shape2D extraction\n",
      "GLCM is symmetrical, therefore Sum Average = 2 * Joint Average, only 1 needs to be calculated\n",
      "parameter force2D must be set to True to enable shape2D extraction\n",
      "GLCM is symmetrical, therefore Sum Average = 2 * Joint Average, only 1 needs to be calculated\n",
      "parameter force2D must be set to True to enable shape2D extraction\n",
      "GLCM is symmetrical, therefore Sum Average = 2 * Joint Average, only 1 needs to be calculated\n",
      "parameter force2D must be set to True to enable shape2D extraction\n",
      "GLCM is symmetrical, therefore Sum Average = 2 * Joint Average, only 1 needs to be calculated\n"
     ]
    },
    {
     "name": "stdout",
     "output_type": "stream",
     "text": [
      "pancreas_325.dcm\n"
     ]
    },
    {
     "name": "stderr",
     "output_type": "stream",
     "text": [
      "parameter force2D must be set to True to enable shape2D extraction\n",
      "GLCM is symmetrical, therefore Sum Average = 2 * Joint Average, only 1 needs to be calculated\n",
      "parameter force2D must be set to True to enable shape2D extraction\n",
      "GLCM is symmetrical, therefore Sum Average = 2 * Joint Average, only 1 needs to be calculated\n"
     ]
    },
    {
     "name": "stdout",
     "output_type": "stream",
     "text": [
      "pancreas_326.dcm\n",
      "pancreas_327.dcm\n"
     ]
    },
    {
     "name": "stderr",
     "output_type": "stream",
     "text": [
      "parameter force2D must be set to True to enable shape2D extraction\n",
      "GLCM is symmetrical, therefore Sum Average = 2 * Joint Average, only 1 needs to be calculated\n",
      "parameter force2D must be set to True to enable shape2D extraction\n",
      "GLCM is symmetrical, therefore Sum Average = 2 * Joint Average, only 1 needs to be calculated\n",
      "parameter force2D must be set to True to enable shape2D extraction\n",
      "GLCM is symmetrical, therefore Sum Average = 2 * Joint Average, only 1 needs to be calculated\n",
      "parameter force2D must be set to True to enable shape2D extraction\n",
      "GLCM is symmetrical, therefore Sum Average = 2 * Joint Average, only 1 needs to be calculated\n"
     ]
    },
    {
     "name": "stdout",
     "output_type": "stream",
     "text": [
      "pancreas_328.dcm\n",
      "pancreas_329.dcm\n"
     ]
    },
    {
     "name": "stderr",
     "output_type": "stream",
     "text": [
      "parameter force2D must be set to True to enable shape2D extraction\n",
      "GLCM is symmetrical, therefore Sum Average = 2 * Joint Average, only 1 needs to be calculated\n",
      "parameter force2D must be set to True to enable shape2D extraction\n",
      "GLCM is symmetrical, therefore Sum Average = 2 * Joint Average, only 1 needs to be calculated\n",
      "parameter force2D must be set to True to enable shape2D extraction\n",
      "GLCM is symmetrical, therefore Sum Average = 2 * Joint Average, only 1 needs to be calculated\n",
      "parameter force2D must be set to True to enable shape2D extraction\n",
      "GLCM is symmetrical, therefore Sum Average = 2 * Joint Average, only 1 needs to be calculated\n"
     ]
    },
    {
     "name": "stdout",
     "output_type": "stream",
     "text": [
      "pancreas_330.dcm\n",
      "pancreas_331.dcm\n"
     ]
    },
    {
     "name": "stderr",
     "output_type": "stream",
     "text": [
      "parameter force2D must be set to True to enable shape2D extraction\n",
      "GLCM is symmetrical, therefore Sum Average = 2 * Joint Average, only 1 needs to be calculated\n",
      "parameter force2D must be set to True to enable shape2D extraction\n",
      "GLCM is symmetrical, therefore Sum Average = 2 * Joint Average, only 1 needs to be calculated\n",
      "parameter force2D must be set to True to enable shape2D extraction\n",
      "GLCM is symmetrical, therefore Sum Average = 2 * Joint Average, only 1 needs to be calculated\n",
      "parameter force2D must be set to True to enable shape2D extraction\n",
      "GLCM is symmetrical, therefore Sum Average = 2 * Joint Average, only 1 needs to be calculated\n"
     ]
    },
    {
     "name": "stdout",
     "output_type": "stream",
     "text": [
      "pancreas_333.dcm\n",
      "pancreas_334.dcm\n"
     ]
    },
    {
     "name": "stderr",
     "output_type": "stream",
     "text": [
      "parameter force2D must be set to True to enable shape2D extraction\n",
      "GLCM is symmetrical, therefore Sum Average = 2 * Joint Average, only 1 needs to be calculated\n",
      "parameter force2D must be set to True to enable shape2D extraction\n",
      "GLCM is symmetrical, therefore Sum Average = 2 * Joint Average, only 1 needs to be calculated\n",
      "parameter force2D must be set to True to enable shape2D extraction\n",
      "GLCM is symmetrical, therefore Sum Average = 2 * Joint Average, only 1 needs to be calculated\n",
      "parameter force2D must be set to True to enable shape2D extraction\n",
      "GLCM is symmetrical, therefore Sum Average = 2 * Joint Average, only 1 needs to be calculated\n"
     ]
    },
    {
     "name": "stdout",
     "output_type": "stream",
     "text": [
      "pancreas_336.dcm\n",
      "pancreas_339.dcm\n"
     ]
    },
    {
     "name": "stderr",
     "output_type": "stream",
     "text": [
      "parameter force2D must be set to True to enable shape2D extraction\n",
      "GLCM is symmetrical, therefore Sum Average = 2 * Joint Average, only 1 needs to be calculated\n",
      "parameter force2D must be set to True to enable shape2D extraction\n",
      "GLCM is symmetrical, therefore Sum Average = 2 * Joint Average, only 1 needs to be calculated\n",
      "parameter force2D must be set to True to enable shape2D extraction\n",
      "GLCM is symmetrical, therefore Sum Average = 2 * Joint Average, only 1 needs to be calculated\n"
     ]
    },
    {
     "name": "stdout",
     "output_type": "stream",
     "text": [
      "pancreas_342.dcm\n"
     ]
    },
    {
     "name": "stderr",
     "output_type": "stream",
     "text": [
      "parameter force2D must be set to True to enable shape2D extraction\n",
      "GLCM is symmetrical, therefore Sum Average = 2 * Joint Average, only 1 needs to be calculated\n",
      "parameter force2D must be set to True to enable shape2D extraction\n",
      "GLCM is symmetrical, therefore Sum Average = 2 * Joint Average, only 1 needs to be calculated\n",
      "parameter force2D must be set to True to enable shape2D extraction\n",
      "GLCM is symmetrical, therefore Sum Average = 2 * Joint Average, only 1 needs to be calculated\n"
     ]
    },
    {
     "name": "stdout",
     "output_type": "stream",
     "text": [
      "pancreas_343.dcm\n",
      "pancreas_344.dcm\n"
     ]
    },
    {
     "name": "stderr",
     "output_type": "stream",
     "text": [
      "parameter force2D must be set to True to enable shape2D extraction\n",
      "GLCM is symmetrical, therefore Sum Average = 2 * Joint Average, only 1 needs to be calculated\n",
      "parameter force2D must be set to True to enable shape2D extraction\n",
      "GLCM is symmetrical, therefore Sum Average = 2 * Joint Average, only 1 needs to be calculated\n",
      "parameter force2D must be set to True to enable shape2D extraction\n",
      "GLCM is symmetrical, therefore Sum Average = 2 * Joint Average, only 1 needs to be calculated\n",
      "parameter force2D must be set to True to enable shape2D extraction\n"
     ]
    },
    {
     "name": "stdout",
     "output_type": "stream",
     "text": [
      "pancreas_345.dcm\n"
     ]
    },
    {
     "name": "stderr",
     "output_type": "stream",
     "text": [
      "GLCM is symmetrical, therefore Sum Average = 2 * Joint Average, only 1 needs to be calculated\n",
      "parameter force2D must be set to True to enable shape2D extraction\n",
      "GLCM is symmetrical, therefore Sum Average = 2 * Joint Average, only 1 needs to be calculated\n",
      "parameter force2D must be set to True to enable shape2D extraction\n",
      "GLCM is symmetrical, therefore Sum Average = 2 * Joint Average, only 1 needs to be calculated\n"
     ]
    },
    {
     "name": "stdout",
     "output_type": "stream",
     "text": [
      "pancreas_346.dcm\n",
      "pancreas_347.dcm\n"
     ]
    },
    {
     "name": "stderr",
     "output_type": "stream",
     "text": [
      "parameter force2D must be set to True to enable shape2D extraction\n",
      "GLCM is symmetrical, therefore Sum Average = 2 * Joint Average, only 1 needs to be calculated\n",
      "parameter force2D must be set to True to enable shape2D extraction\n",
      "GLCM is symmetrical, therefore Sum Average = 2 * Joint Average, only 1 needs to be calculated\n",
      "parameter force2D must be set to True to enable shape2D extraction\n",
      "GLCM is symmetrical, therefore Sum Average = 2 * Joint Average, only 1 needs to be calculated\n",
      "parameter force2D must be set to True to enable shape2D extraction\n",
      "GLCM is symmetrical, therefore Sum Average = 2 * Joint Average, only 1 needs to be calculated\n"
     ]
    },
    {
     "name": "stdout",
     "output_type": "stream",
     "text": [
      "pancreas_348.dcm\n",
      "pancreas_350.dcm\n"
     ]
    },
    {
     "name": "stderr",
     "output_type": "stream",
     "text": [
      "parameter force2D must be set to True to enable shape2D extraction\n",
      "GLCM is symmetrical, therefore Sum Average = 2 * Joint Average, only 1 needs to be calculated\n",
      "parameter force2D must be set to True to enable shape2D extraction\n",
      "GLCM is symmetrical, therefore Sum Average = 2 * Joint Average, only 1 needs to be calculated\n",
      "parameter force2D must be set to True to enable shape2D extraction\n",
      "GLCM is symmetrical, therefore Sum Average = 2 * Joint Average, only 1 needs to be calculated\n",
      "parameter force2D must be set to True to enable shape2D extraction\n",
      "GLCM is symmetrical, therefore Sum Average = 2 * Joint Average, only 1 needs to be calculated\n"
     ]
    },
    {
     "name": "stdout",
     "output_type": "stream",
     "text": [
      "pancreas_351.dcm\n"
     ]
    },
    {
     "name": "stderr",
     "output_type": "stream",
     "text": [
      "parameter force2D must be set to True to enable shape2D extraction\n",
      "GLCM is symmetrical, therefore Sum Average = 2 * Joint Average, only 1 needs to be calculated\n",
      "parameter force2D must be set to True to enable shape2D extraction\n",
      "GLCM is symmetrical, therefore Sum Average = 2 * Joint Average, only 1 needs to be calculated\n"
     ]
    },
    {
     "name": "stdout",
     "output_type": "stream",
     "text": [
      "pancreas_354.dcm\n",
      "pancreas_355.dcm\n"
     ]
    },
    {
     "name": "stderr",
     "output_type": "stream",
     "text": [
      "parameter force2D must be set to True to enable shape2D extraction\n",
      "GLCM is symmetrical, therefore Sum Average = 2 * Joint Average, only 1 needs to be calculated\n",
      "parameter force2D must be set to True to enable shape2D extraction\n",
      "GLCM is symmetrical, therefore Sum Average = 2 * Joint Average, only 1 needs to be calculated\n"
     ]
    },
    {
     "name": "stdout",
     "output_type": "stream",
     "text": [
      "pancreas_356.dcm\n"
     ]
    },
    {
     "name": "stderr",
     "output_type": "stream",
     "text": [
      "parameter force2D must be set to True to enable shape2D extraction\n",
      "GLCM is symmetrical, therefore Sum Average = 2 * Joint Average, only 1 needs to be calculated\n",
      "parameter force2D must be set to True to enable shape2D extraction\n",
      "GLCM is symmetrical, therefore Sum Average = 2 * Joint Average, only 1 needs to be calculated\n"
     ]
    },
    {
     "name": "stdout",
     "output_type": "stream",
     "text": [
      "pancreas_357.dcm\n"
     ]
    },
    {
     "name": "stderr",
     "output_type": "stream",
     "text": [
      "parameter force2D must be set to True to enable shape2D extraction\n",
      "GLCM is symmetrical, therefore Sum Average = 2 * Joint Average, only 1 needs to be calculated\n",
      "parameter force2D must be set to True to enable shape2D extraction\n",
      "GLCM is symmetrical, therefore Sum Average = 2 * Joint Average, only 1 needs to be calculated\n"
     ]
    },
    {
     "name": "stdout",
     "output_type": "stream",
     "text": [
      "pancreas_358.dcm\n"
     ]
    },
    {
     "name": "stderr",
     "output_type": "stream",
     "text": [
      "parameter force2D must be set to True to enable shape2D extraction\n",
      "GLCM is symmetrical, therefore Sum Average = 2 * Joint Average, only 1 needs to be calculated\n",
      "parameter force2D must be set to True to enable shape2D extraction\n",
      "GLCM is symmetrical, therefore Sum Average = 2 * Joint Average, only 1 needs to be calculated\n",
      "parameter force2D must be set to True to enable shape2D extraction\n",
      "GLCM is symmetrical, therefore Sum Average = 2 * Joint Average, only 1 needs to be calculated\n",
      "parameter force2D must be set to True to enable shape2D extraction\n",
      "GLCM is symmetrical, therefore Sum Average = 2 * Joint Average, only 1 needs to be calculated\n"
     ]
    },
    {
     "name": "stdout",
     "output_type": "stream",
     "text": [
      "pancreas_360.dcm\n",
      "pancreas_361.dcm\n"
     ]
    },
    {
     "name": "stderr",
     "output_type": "stream",
     "text": [
      "parameter force2D must be set to True to enable shape2D extraction\n",
      "GLCM is symmetrical, therefore Sum Average = 2 * Joint Average, only 1 needs to be calculated\n",
      "parameter force2D must be set to True to enable shape2D extraction\n",
      "GLCM is symmetrical, therefore Sum Average = 2 * Joint Average, only 1 needs to be calculated\n"
     ]
    },
    {
     "name": "stdout",
     "output_type": "stream",
     "text": [
      "pancreas_362.dcm\n"
     ]
    },
    {
     "name": "stderr",
     "output_type": "stream",
     "text": [
      "parameter force2D must be set to True to enable shape2D extraction\n",
      "GLCM is symmetrical, therefore Sum Average = 2 * Joint Average, only 1 needs to be calculated\n",
      "parameter force2D must be set to True to enable shape2D extraction\n",
      "GLCM is symmetrical, therefore Sum Average = 2 * Joint Average, only 1 needs to be calculated\n",
      "parameter force2D must be set to True to enable shape2D extraction\n",
      "GLCM is symmetrical, therefore Sum Average = 2 * Joint Average, only 1 needs to be calculated\n"
     ]
    },
    {
     "name": "stdout",
     "output_type": "stream",
     "text": [
      "pancreas_364.dcm\n"
     ]
    },
    {
     "name": "stderr",
     "output_type": "stream",
     "text": [
      "parameter force2D must be set to True to enable shape2D extraction\n",
      "GLCM is symmetrical, therefore Sum Average = 2 * Joint Average, only 1 needs to be calculated\n",
      "parameter force2D must be set to True to enable shape2D extraction\n",
      "GLCM is symmetrical, therefore Sum Average = 2 * Joint Average, only 1 needs to be calculated\n"
     ]
    },
    {
     "name": "stdout",
     "output_type": "stream",
     "text": [
      "pancreas_365.dcm\n"
     ]
    },
    {
     "name": "stderr",
     "output_type": "stream",
     "text": [
      "parameter force2D must be set to True to enable shape2D extraction\n",
      "GLCM is symmetrical, therefore Sum Average = 2 * Joint Average, only 1 needs to be calculated\n",
      "parameter force2D must be set to True to enable shape2D extraction\n",
      "GLCM is symmetrical, therefore Sum Average = 2 * Joint Average, only 1 needs to be calculated\n",
      "parameter force2D must be set to True to enable shape2D extraction\n"
     ]
    },
    {
     "name": "stdout",
     "output_type": "stream",
     "text": [
      "pancreas_366.dcm\n"
     ]
    },
    {
     "name": "stderr",
     "output_type": "stream",
     "text": [
      "GLCM is symmetrical, therefore Sum Average = 2 * Joint Average, only 1 needs to be calculated\n",
      "parameter force2D must be set to True to enable shape2D extraction\n",
      "GLCM is symmetrical, therefore Sum Average = 2 * Joint Average, only 1 needs to be calculated\n",
      "parameter force2D must be set to True to enable shape2D extraction\n"
     ]
    },
    {
     "name": "stdout",
     "output_type": "stream",
     "text": [
      "pancreas_367.dcm\n"
     ]
    },
    {
     "name": "stderr",
     "output_type": "stream",
     "text": [
      "GLCM is symmetrical, therefore Sum Average = 2 * Joint Average, only 1 needs to be calculated\n",
      "parameter force2D must be set to True to enable shape2D extraction\n",
      "GLCM is symmetrical, therefore Sum Average = 2 * Joint Average, only 1 needs to be calculated\n"
     ]
    },
    {
     "name": "stdout",
     "output_type": "stream",
     "text": [
      "pancreas_369.dcm\n"
     ]
    },
    {
     "name": "stderr",
     "output_type": "stream",
     "text": [
      "parameter force2D must be set to True to enable shape2D extraction\n",
      "GLCM is symmetrical, therefore Sum Average = 2 * Joint Average, only 1 needs to be calculated\n",
      "parameter force2D must be set to True to enable shape2D extraction\n",
      "GLCM is symmetrical, therefore Sum Average = 2 * Joint Average, only 1 needs to be calculated\n"
     ]
    },
    {
     "name": "stdout",
     "output_type": "stream",
     "text": [
      "pancreas_370.dcm\n"
     ]
    },
    {
     "name": "stderr",
     "output_type": "stream",
     "text": [
      "parameter force2D must be set to True to enable shape2D extraction\n",
      "GLCM is symmetrical, therefore Sum Average = 2 * Joint Average, only 1 needs to be calculated\n",
      "parameter force2D must be set to True to enable shape2D extraction\n",
      "GLCM is symmetrical, therefore Sum Average = 2 * Joint Average, only 1 needs to be calculated\n",
      "parameter force2D must be set to True to enable shape2D extraction\n",
      "GLCM is symmetrical, therefore Sum Average = 2 * Joint Average, only 1 needs to be calculated\n"
     ]
    },
    {
     "name": "stdout",
     "output_type": "stream",
     "text": [
      "pancreas_372.dcm\n",
      "pancreas_374.dcm\n"
     ]
    },
    {
     "name": "stderr",
     "output_type": "stream",
     "text": [
      "parameter force2D must be set to True to enable shape2D extraction\n",
      "GLCM is symmetrical, therefore Sum Average = 2 * Joint Average, only 1 needs to be calculated\n",
      "parameter force2D must be set to True to enable shape2D extraction\n",
      "GLCM is symmetrical, therefore Sum Average = 2 * Joint Average, only 1 needs to be calculated\n",
      "parameter force2D must be set to True to enable shape2D extraction\n",
      "GLCM is symmetrical, therefore Sum Average = 2 * Joint Average, only 1 needs to be calculated\n"
     ]
    },
    {
     "name": "stdout",
     "output_type": "stream",
     "text": [
      "pancreas_375.dcm\n"
     ]
    },
    {
     "name": "stderr",
     "output_type": "stream",
     "text": [
      "parameter force2D must be set to True to enable shape2D extraction\n",
      "GLCM is symmetrical, therefore Sum Average = 2 * Joint Average, only 1 needs to be calculated\n",
      "parameter force2D must be set to True to enable shape2D extraction\n",
      "GLCM is symmetrical, therefore Sum Average = 2 * Joint Average, only 1 needs to be calculated\n",
      "parameter force2D must be set to True to enable shape2D extraction\n",
      "GLCM is symmetrical, therefore Sum Average = 2 * Joint Average, only 1 needs to be calculated\n"
     ]
    },
    {
     "name": "stdout",
     "output_type": "stream",
     "text": [
      "pancreas_376.dcm\n",
      "pancreas_377.dcm\n"
     ]
    },
    {
     "name": "stderr",
     "output_type": "stream",
     "text": [
      "parameter force2D must be set to True to enable shape2D extraction\n",
      "GLCM is symmetrical, therefore Sum Average = 2 * Joint Average, only 1 needs to be calculated\n",
      "parameter force2D must be set to True to enable shape2D extraction\n",
      "GLCM is symmetrical, therefore Sum Average = 2 * Joint Average, only 1 needs to be calculated\n",
      "parameter force2D must be set to True to enable shape2D extraction\n",
      "GLCM is symmetrical, therefore Sum Average = 2 * Joint Average, only 1 needs to be calculated\n"
     ]
    },
    {
     "name": "stdout",
     "output_type": "stream",
     "text": [
      "pancreas_378.dcm\n"
     ]
    },
    {
     "name": "stderr",
     "output_type": "stream",
     "text": [
      "parameter force2D must be set to True to enable shape2D extraction\n",
      "GLCM is symmetrical, therefore Sum Average = 2 * Joint Average, only 1 needs to be calculated\n",
      "parameter force2D must be set to True to enable shape2D extraction\n",
      "GLCM is symmetrical, therefore Sum Average = 2 * Joint Average, only 1 needs to be calculated\n",
      "parameter force2D must be set to True to enable shape2D extraction\n",
      "GLCM is symmetrical, therefore Sum Average = 2 * Joint Average, only 1 needs to be calculated\n"
     ]
    },
    {
     "name": "stdout",
     "output_type": "stream",
     "text": [
      "pancreas_379.dcm\n",
      "pancreas_380.dcm\n"
     ]
    },
    {
     "name": "stderr",
     "output_type": "stream",
     "text": [
      "parameter force2D must be set to True to enable shape2D extraction\n",
      "GLCM is symmetrical, therefore Sum Average = 2 * Joint Average, only 1 needs to be calculated\n",
      "parameter force2D must be set to True to enable shape2D extraction\n",
      "GLCM is symmetrical, therefore Sum Average = 2 * Joint Average, only 1 needs to be calculated\n",
      "parameter force2D must be set to True to enable shape2D extraction\n",
      "GLCM is symmetrical, therefore Sum Average = 2 * Joint Average, only 1 needs to be calculated\n",
      "parameter force2D must be set to True to enable shape2D extraction\n",
      "GLCM is symmetrical, therefore Sum Average = 2 * Joint Average, only 1 needs to be calculated\n"
     ]
    },
    {
     "name": "stdout",
     "output_type": "stream",
     "text": [
      "pancreas_382.dcm\n",
      "pancreas_385.dcm\n"
     ]
    },
    {
     "name": "stderr",
     "output_type": "stream",
     "text": [
      "parameter force2D must be set to True to enable shape2D extraction\n",
      "GLCM is symmetrical, therefore Sum Average = 2 * Joint Average, only 1 needs to be calculated\n",
      "parameter force2D must be set to True to enable shape2D extraction\n",
      "GLCM is symmetrical, therefore Sum Average = 2 * Joint Average, only 1 needs to be calculated\n",
      "parameter force2D must be set to True to enable shape2D extraction\n",
      "GLCM is symmetrical, therefore Sum Average = 2 * Joint Average, only 1 needs to be calculated\n",
      "parameter force2D must be set to True to enable shape2D extraction\n",
      "GLCM is symmetrical, therefore Sum Average = 2 * Joint Average, only 1 needs to be calculated\n"
     ]
    },
    {
     "name": "stdout",
     "output_type": "stream",
     "text": [
      "pancreas_386.dcm\n"
     ]
    },
    {
     "name": "stderr",
     "output_type": "stream",
     "text": [
      "parameter force2D must be set to True to enable shape2D extraction\n",
      "GLCM is symmetrical, therefore Sum Average = 2 * Joint Average, only 1 needs to be calculated\n"
     ]
    },
    {
     "name": "stdout",
     "output_type": "stream",
     "text": [
      "pancreas_387.dcm\n"
     ]
    },
    {
     "name": "stderr",
     "output_type": "stream",
     "text": [
      "parameter force2D must be set to True to enable shape2D extraction\n",
      "GLCM is symmetrical, therefore Sum Average = 2 * Joint Average, only 1 needs to be calculated\n",
      "parameter force2D must be set to True to enable shape2D extraction\n",
      "GLCM is symmetrical, therefore Sum Average = 2 * Joint Average, only 1 needs to be calculated\n",
      "parameter force2D must be set to True to enable shape2D extraction\n",
      "GLCM is symmetrical, therefore Sum Average = 2 * Joint Average, only 1 needs to be calculated\n"
     ]
    },
    {
     "name": "stdout",
     "output_type": "stream",
     "text": [
      "pancreas_388.dcm\n"
     ]
    },
    {
     "name": "stderr",
     "output_type": "stream",
     "text": [
      "parameter force2D must be set to True to enable shape2D extraction\n",
      "GLCM is symmetrical, therefore Sum Average = 2 * Joint Average, only 1 needs to be calculated\n",
      "parameter force2D must be set to True to enable shape2D extraction\n",
      "GLCM is symmetrical, therefore Sum Average = 2 * Joint Average, only 1 needs to be calculated\n"
     ]
    },
    {
     "name": "stdout",
     "output_type": "stream",
     "text": [
      "pancreas_389.dcm\n"
     ]
    },
    {
     "name": "stderr",
     "output_type": "stream",
     "text": [
      "parameter force2D must be set to True to enable shape2D extraction\n",
      "GLCM is symmetrical, therefore Sum Average = 2 * Joint Average, only 1 needs to be calculated\n"
     ]
    },
    {
     "name": "stdout",
     "output_type": "stream",
     "text": [
      "pancreas_391.dcm\n"
     ]
    },
    {
     "name": "stderr",
     "output_type": "stream",
     "text": [
      "parameter force2D must be set to True to enable shape2D extraction\n",
      "GLCM is symmetrical, therefore Sum Average = 2 * Joint Average, only 1 needs to be calculated\n",
      "parameter force2D must be set to True to enable shape2D extraction\n",
      "GLCM is symmetrical, therefore Sum Average = 2 * Joint Average, only 1 needs to be calculated\n",
      "parameter force2D must be set to True to enable shape2D extraction\n",
      "GLCM is symmetrical, therefore Sum Average = 2 * Joint Average, only 1 needs to be calculated\n"
     ]
    },
    {
     "name": "stdout",
     "output_type": "stream",
     "text": [
      "pancreas_392.dcm\n",
      "pancreas_393.dcm\n"
     ]
    },
    {
     "name": "stderr",
     "output_type": "stream",
     "text": [
      "parameter force2D must be set to True to enable shape2D extraction\n",
      "GLCM is symmetrical, therefore Sum Average = 2 * Joint Average, only 1 needs to be calculated\n",
      "parameter force2D must be set to True to enable shape2D extraction\n",
      "GLCM is symmetrical, therefore Sum Average = 2 * Joint Average, only 1 needs to be calculated\n",
      "parameter force2D must be set to True to enable shape2D extraction\n",
      "GLCM is symmetrical, therefore Sum Average = 2 * Joint Average, only 1 needs to be calculated\n",
      "parameter force2D must be set to True to enable shape2D extraction\n",
      "GLCM is symmetrical, therefore Sum Average = 2 * Joint Average, only 1 needs to be calculated\n"
     ]
    },
    {
     "name": "stdout",
     "output_type": "stream",
     "text": [
      "pancreas_395.dcm\n"
     ]
    },
    {
     "name": "stderr",
     "output_type": "stream",
     "text": [
      "parameter force2D must be set to True to enable shape2D extraction\n",
      "GLCM is symmetrical, therefore Sum Average = 2 * Joint Average, only 1 needs to be calculated\n",
      "parameter force2D must be set to True to enable shape2D extraction\n",
      "GLCM is symmetrical, therefore Sum Average = 2 * Joint Average, only 1 needs to be calculated\n"
     ]
    },
    {
     "name": "stdout",
     "output_type": "stream",
     "text": [
      "pancreas_398.dcm\n",
      "pancreas_399.dcm\n"
     ]
    },
    {
     "name": "stderr",
     "output_type": "stream",
     "text": [
      "parameter force2D must be set to True to enable shape2D extraction\n",
      "GLCM is symmetrical, therefore Sum Average = 2 * Joint Average, only 1 needs to be calculated\n",
      "parameter force2D must be set to True to enable shape2D extraction\n",
      "GLCM is symmetrical, therefore Sum Average = 2 * Joint Average, only 1 needs to be calculated\n",
      "parameter force2D must be set to True to enable shape2D extraction\n",
      "GLCM is symmetrical, therefore Sum Average = 2 * Joint Average, only 1 needs to be calculated\n",
      "parameter force2D must be set to True to enable shape2D extraction\n",
      "GLCM is symmetrical, therefore Sum Average = 2 * Joint Average, only 1 needs to be calculated\n"
     ]
    },
    {
     "name": "stdout",
     "output_type": "stream",
     "text": [
      "pancreas_400.dcm\n",
      "pancreas_401.dcm\n"
     ]
    },
    {
     "name": "stderr",
     "output_type": "stream",
     "text": [
      "parameter force2D must be set to True to enable shape2D extraction\n",
      "GLCM is symmetrical, therefore Sum Average = 2 * Joint Average, only 1 needs to be calculated\n",
      "parameter force2D must be set to True to enable shape2D extraction\n",
      "GLCM is symmetrical, therefore Sum Average = 2 * Joint Average, only 1 needs to be calculated\n",
      "parameter force2D must be set to True to enable shape2D extraction\n",
      "GLCM is symmetrical, therefore Sum Average = 2 * Joint Average, only 1 needs to be calculated\n",
      "parameter force2D must be set to True to enable shape2D extraction\n",
      "GLCM is symmetrical, therefore Sum Average = 2 * Joint Average, only 1 needs to be calculated\n"
     ]
    },
    {
     "name": "stdout",
     "output_type": "stream",
     "text": [
      "pancreas_402.dcm\n",
      "pancreas_404.dcm\n"
     ]
    },
    {
     "name": "stderr",
     "output_type": "stream",
     "text": [
      "parameter force2D must be set to True to enable shape2D extraction\n",
      "GLCM is symmetrical, therefore Sum Average = 2 * Joint Average, only 1 needs to be calculated\n",
      "parameter force2D must be set to True to enable shape2D extraction\n",
      "GLCM is symmetrical, therefore Sum Average = 2 * Joint Average, only 1 needs to be calculated\n",
      "parameter force2D must be set to True to enable shape2D extraction\n",
      "GLCM is symmetrical, therefore Sum Average = 2 * Joint Average, only 1 needs to be calculated\n",
      "parameter force2D must be set to True to enable shape2D extraction\n",
      "GLCM is symmetrical, therefore Sum Average = 2 * Joint Average, only 1 needs to be calculated\n"
     ]
    },
    {
     "name": "stdout",
     "output_type": "stream",
     "text": [
      "pancreas_405.dcm\n"
     ]
    },
    {
     "name": "stderr",
     "output_type": "stream",
     "text": [
      "parameter force2D must be set to True to enable shape2D extraction\n",
      "GLCM is symmetrical, therefore Sum Average = 2 * Joint Average, only 1 needs to be calculated\n",
      "parameter force2D must be set to True to enable shape2D extraction\n"
     ]
    },
    {
     "name": "stdout",
     "output_type": "stream",
     "text": [
      "pancreas_406.dcm\n"
     ]
    },
    {
     "name": "stderr",
     "output_type": "stream",
     "text": [
      "GLCM is symmetrical, therefore Sum Average = 2 * Joint Average, only 1 needs to be calculated\n",
      "parameter force2D must be set to True to enable shape2D extraction\n",
      "GLCM is symmetrical, therefore Sum Average = 2 * Joint Average, only 1 needs to be calculated\n"
     ]
    },
    {
     "name": "stdout",
     "output_type": "stream",
     "text": [
      "pancreas_409.dcm\n"
     ]
    },
    {
     "name": "stderr",
     "output_type": "stream",
     "text": [
      "parameter force2D must be set to True to enable shape2D extraction\n",
      "GLCM is symmetrical, therefore Sum Average = 2 * Joint Average, only 1 needs to be calculated\n",
      "parameter force2D must be set to True to enable shape2D extraction\n",
      "GLCM is symmetrical, therefore Sum Average = 2 * Joint Average, only 1 needs to be calculated\n"
     ]
    },
    {
     "name": "stdout",
     "output_type": "stream",
     "text": [
      "pancreas_410.dcm\n"
     ]
    },
    {
     "name": "stderr",
     "output_type": "stream",
     "text": [
      "parameter force2D must be set to True to enable shape2D extraction\n",
      "GLCM is symmetrical, therefore Sum Average = 2 * Joint Average, only 1 needs to be calculated\n",
      "parameter force2D must be set to True to enable shape2D extraction\n",
      "GLCM is symmetrical, therefore Sum Average = 2 * Joint Average, only 1 needs to be calculated\n",
      "parameter force2D must be set to True to enable shape2D extraction\n"
     ]
    },
    {
     "name": "stdout",
     "output_type": "stream",
     "text": [
      "pancreas_411.dcm\n"
     ]
    },
    {
     "name": "stderr",
     "output_type": "stream",
     "text": [
      "GLCM is symmetrical, therefore Sum Average = 2 * Joint Average, only 1 needs to be calculated\n",
      "parameter force2D must be set to True to enable shape2D extraction\n",
      "GLCM is symmetrical, therefore Sum Average = 2 * Joint Average, only 1 needs to be calculated\n",
      "parameter force2D must be set to True to enable shape2D extraction\n",
      "GLCM is symmetrical, therefore Sum Average = 2 * Joint Average, only 1 needs to be calculated\n"
     ]
    },
    {
     "name": "stdout",
     "output_type": "stream",
     "text": [
      "pancreas_412.dcm\n",
      "pancreas_413.dcm\n"
     ]
    },
    {
     "name": "stderr",
     "output_type": "stream",
     "text": [
      "parameter force2D must be set to True to enable shape2D extraction\n",
      "GLCM is symmetrical, therefore Sum Average = 2 * Joint Average, only 1 needs to be calculated\n",
      "parameter force2D must be set to True to enable shape2D extraction\n",
      "GLCM is symmetrical, therefore Sum Average = 2 * Joint Average, only 1 needs to be calculated\n",
      "parameter force2D must be set to True to enable shape2D extraction\n",
      "GLCM is symmetrical, therefore Sum Average = 2 * Joint Average, only 1 needs to be calculated\n",
      "parameter force2D must be set to True to enable shape2D extraction\n"
     ]
    },
    {
     "name": "stdout",
     "output_type": "stream",
     "text": [
      "pancreas_414.dcm\n"
     ]
    },
    {
     "name": "stderr",
     "output_type": "stream",
     "text": [
      "GLCM is symmetrical, therefore Sum Average = 2 * Joint Average, only 1 needs to be calculated\n",
      "parameter force2D must be set to True to enable shape2D extraction\n",
      "GLCM is symmetrical, therefore Sum Average = 2 * Joint Average, only 1 needs to be calculated\n"
     ]
    },
    {
     "name": "stdout",
     "output_type": "stream",
     "text": [
      "pancreas_415.dcm\n"
     ]
    },
    {
     "name": "stderr",
     "output_type": "stream",
     "text": [
      "parameter force2D must be set to True to enable shape2D extraction\n",
      "GLCM is symmetrical, therefore Sum Average = 2 * Joint Average, only 1 needs to be calculated\n",
      "parameter force2D must be set to True to enable shape2D extraction\n",
      "GLCM is symmetrical, therefore Sum Average = 2 * Joint Average, only 1 needs to be calculated\n",
      "parameter force2D must be set to True to enable shape2D extraction\n",
      "GLCM is symmetrical, therefore Sum Average = 2 * Joint Average, only 1 needs to be calculated\n"
     ]
    },
    {
     "name": "stdout",
     "output_type": "stream",
     "text": [
      "pancreas_416.dcm\n",
      "pancreas_418.dcm\n"
     ]
    },
    {
     "name": "stderr",
     "output_type": "stream",
     "text": [
      "parameter force2D must be set to True to enable shape2D extraction\n",
      "GLCM is symmetrical, therefore Sum Average = 2 * Joint Average, only 1 needs to be calculated\n",
      "parameter force2D must be set to True to enable shape2D extraction\n",
      "GLCM is symmetrical, therefore Sum Average = 2 * Joint Average, only 1 needs to be calculated\n",
      "parameter force2D must be set to True to enable shape2D extraction\n",
      "GLCM is symmetrical, therefore Sum Average = 2 * Joint Average, only 1 needs to be calculated\n",
      "parameter force2D must be set to True to enable shape2D extraction\n",
      "GLCM is symmetrical, therefore Sum Average = 2 * Joint Average, only 1 needs to be calculated\n"
     ]
    },
    {
     "name": "stdout",
     "output_type": "stream",
     "text": [
      "pancreas_419.dcm\n"
     ]
    },
    {
     "name": "stderr",
     "output_type": "stream",
     "text": [
      "parameter force2D must be set to True to enable shape2D extraction\n",
      "GLCM is symmetrical, therefore Sum Average = 2 * Joint Average, only 1 needs to be calculated\n",
      "parameter force2D must be set to True to enable shape2D extraction\n",
      "GLCM is symmetrical, therefore Sum Average = 2 * Joint Average, only 1 needs to be calculated\n"
     ]
    },
    {
     "name": "stdout",
     "output_type": "stream",
     "text": [
      "pancreas_421.dcm\n"
     ]
    }
   ],
   "source": [
    "count = 0\n",
    "l = []\n",
    "for i in os.listdir(tumor_path_slice):\n",
    "    sample_img = sitk.ReadImage(tumor_path_slice+i)\n",
    "    sample_mask = sitk.ReadImage(tumor_path_mask + i)\n",
    "    print(i)\n",
    "    # feature_vector = extractor.execute(sample_img,sample_mask)\n",
    "    l1 = []\n",
    "    l2 = []\n",
    "    for k in range(2):\n",
    "        feature_vector = extractor.execute(sample_img,sample_mask,label = k+1)\n",
    "\n",
    "        start_key = 'original_shape_Elongation'\n",
    "        start_index = list(feature_vector.keys()).index(start_key)\n",
    "        # keys_from_start = list(feature_vector.keys())[list(feature_vector.keys()).index(start_key):]\n",
    "        # count = len(keys_from_start)\n",
    "        # values_array = np.empty((0, count), dtype=float)\n",
    "        \n",
    "        \n",
    "\n",
    "        # for key, value in feature_vector.items():\n",
    "        for key, value in islice(feature_vector.items(), start_index, None):\n",
    "\n",
    "            # print(\"\\t\", count,key, \":\", value)\n",
    "            if(k+1==1):\n",
    "                l1.append(value) # Pancreas\n",
    "            else:\n",
    "                l2.append(value)\n",
    "    # print(l1)\n",
    "    # print(l2)\n",
    "    for i in range(len(l1)):\n",
    "        # print(i)\n",
    "        l1[i] = 0.8*l2[i]+ 0.2*l1[i]\n",
    "    l1.append(1) #tumor label\n",
    "    # print(l1)\n",
    "    l.append(l1)\n",
    "    # count+=1\n",
    "    # if count == 2:\n",
    "    #     break\n",
    "\n",
    "# values_array = np.array(l).flatten()\n",
    "df2 = pd.DataFrame(l)\n",
    "\n"
   ]
  },
  {
   "cell_type": "code",
   "execution_count": 19,
   "metadata": {},
   "outputs": [],
   "source": [
    "# Write the DataFrame to a CSV file\n",
    "output_csv = 'tumorfeaturesvalues_new.csv'\n",
    "df2.to_csv(output_csv, index=False)\n"
   ]
  },
  {
   "cell_type": "code",
   "execution_count": null,
   "metadata": {},
   "outputs": [],
   "source": []
  }
 ],
 "metadata": {
  "kernelspec": {
   "display_name": "Major_Proj",
   "language": "python",
   "name": "python3"
  },
  "language_info": {
   "codemirror_mode": {
    "name": "ipython",
    "version": 3
   },
   "file_extension": ".py",
   "mimetype": "text/x-python",
   "name": "python",
   "nbconvert_exporter": "python",
   "pygments_lexer": "ipython3",
   "version": "3.9.18"
  }
 },
 "nbformat": 4,
 "nbformat_minor": 2
}
