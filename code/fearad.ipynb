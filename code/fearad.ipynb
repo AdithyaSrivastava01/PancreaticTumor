{
 "cells": [
  {
   "cell_type": "code",
   "execution_count": 1,
   "metadata": {},
   "outputs": [
    {
     "name": "stdout",
     "output_type": "stream",
     "text": [
      "/home/adithya/anaconda3/envs/Major_Proj/lib/python3.9/site-packages/radiomics/__init__.py\n"
     ]
    }
   ],
   "source": [
    "import radiomics\n",
    "from radiomics import featureextractor\n",
    "import pydicom\n",
    "print(radiomics.__file__)\n"
   ]
  },
  {
   "cell_type": "code",
   "execution_count": 2,
   "metadata": {},
   "outputs": [
    {
     "name": "stdout",
     "output_type": "stream",
     "text": [
      "hi\n"
     ]
    }
   ],
   "source": [
    "import traceback\n",
    "try:\n",
    "  import radiomics.featureextractor\n",
    "  print(\"hi\")\n",
    "except:\n",
    "  print(traceback.format_exc())"
   ]
  },
  {
   "cell_type": "code",
   "execution_count": 11,
   "metadata": {},
   "outputs": [],
   "source": [
    "extractor = featureextractor.RadiomicsFeatureExtractor()\n",
    "# params = {\n",
    "#     'correctMask': True  # Enable resampling of the mask\n",
    "# }\n",
    "\n",
    "# extractor = featureextractor.RadiomicsFeatureExtractor(**params)\n",
    "# extractor.enableAllFeatures()  # Enable all available features\n",
    "feature_labels = 2"
   ]
  },
  {
   "cell_type": "code",
   "execution_count": 12,
   "metadata": {},
   "outputs": [],
   "source": [
    "import SimpleITK as sitk"
   ]
  },
  {
   "cell_type": "code",
   "execution_count": 15,
   "metadata": {},
   "outputs": [
    {
     "name": "stderr",
     "output_type": "stream",
     "text": [
      "GLCM is symmetrical, therefore Sum Average = 2 * Joint Average, only 1 needs to be calculated\n"
     ]
    }
   ],
   "source": [
    "# sample_img = sitk.ReadImage('../Segment_data/Healthy_pancreas/Pancreas_slice/pancreas_healthy_0002.dcm')\n",
    "# sample_mask = sitk.ReadImage('../Segment_data/Healthy_pancreas/Mask/pancreas_healthy_0002.dcm')\n",
    "\n",
    "\n",
    "sample_img = sitk.ReadImage('../Segment_data/Tumor_pancreas/Pancreas_slice/pancreas_005.dcm')\n",
    "sample_mask = sitk.ReadImage('../Segment_data/Tumor_pancreas/Mask/pancreas_005.dcm')\n",
    "feature_vector = extractor.execute(sample_img,sample_mask,label = 2)\n",
    "# print(*sample)\n"
   ]
  },
  {
   "cell_type": "code",
   "execution_count": null,
   "metadata": {},
   "outputs": [],
   "source": []
  },
  {
   "cell_type": "code",
   "execution_count": 14,
   "metadata": {},
   "outputs": [
    {
     "data": {
      "text/plain": [
       "OrderedDict([('diagnostics_Versions_PyRadiomics', 'v3.1.0'),\n",
       "             ('diagnostics_Versions_Numpy', '1.26.0'),\n",
       "             ('diagnostics_Versions_SimpleITK', '2.3.1'),\n",
       "             ('diagnostics_Versions_PyWavelet', '1.4.1'),\n",
       "             ('diagnostics_Versions_Python', '3.9.18'),\n",
       "             ('diagnostics_Configuration_Settings',\n",
       "              {'minimumROIDimensions': 2,\n",
       "               'minimumROISize': None,\n",
       "               'normalize': False,\n",
       "               'normalizeScale': 1,\n",
       "               'removeOutliers': None,\n",
       "               'resampledPixelSpacing': None,\n",
       "               'interpolator': 'sitkBSpline',\n",
       "               'preCrop': False,\n",
       "               'padDistance': 5,\n",
       "               'distances': [1],\n",
       "               'force2D': False,\n",
       "               'force2Ddimension': 0,\n",
       "               'resegmentRange': None,\n",
       "               'label': 2,\n",
       "               'additionalInfo': True}),\n",
       "             ('diagnostics_Configuration_EnabledImageTypes', {'Original': {}}),\n",
       "             ('diagnostics_Image-original_Hash',\n",
       "              '1ff6c8293316220040e177bf6f03948dd0c6495c'),\n",
       "             ('diagnostics_Image-original_Dimensionality', '3D'),\n",
       "             ('diagnostics_Image-original_Spacing', (0.859375, 0.859375, 1.0)),\n",
       "             ('diagnostics_Image-original_Size', (512, 512, 1)),\n",
       "             ('diagnostics_Image-original_Mean', -600.8798294067383),\n",
       "             ('diagnostics_Image-original_Minimum', -1024.0),\n",
       "             ('diagnostics_Image-original_Maximum', 1184.0),\n",
       "             ('diagnostics_Mask-original_Hash',\n",
       "              'cdbd7f388b38d924fb38bf12282dbe8abbf4776f'),\n",
       "             ('diagnostics_Mask-original_Spacing', (0.859375, 0.859375, 1.0)),\n",
       "             ('diagnostics_Mask-original_Size', (512, 512, 1)),\n",
       "             ('diagnostics_Mask-original_BoundingBox',\n",
       "              (275, 266, 0, 21, 31, 1)),\n",
       "             ('diagnostics_Mask-original_VoxelNum', 458),\n",
       "             ('diagnostics_Mask-original_VolumeNum', 1),\n",
       "             ('diagnostics_Mask-original_CenterOfMassIndex',\n",
       "              (285.7991266375546, 280.8799126637555, 0.0)),\n",
       "             ('diagnostics_Mask-original_CenterOfMass',\n",
       "              (245.60862445414847, -241.38117494541487, -2.0)),\n",
       "             ('original_shape_Elongation', 0.6546225307982149),\n",
       "             ('original_shape_Flatness', 0.0),\n",
       "             ('original_shape_LeastAxisLength', 0.0),\n",
       "             ('original_shape_MajorAxisLength', 25.816740235109762),\n",
       "             ('original_shape_Maximum2DDiameterColumn', array(18.046875)),\n",
       "             ('original_shape_Maximum2DDiameterRow', array(25.78125)),\n",
       "             ('original_shape_Maximum2DDiameterSlice', array(27.31136475)),\n",
       "             ('original_shape_Maximum3DDiameter', array(27.31136475)),\n",
       "             ('original_shape_MeshVolume', array(324.33573405)),\n",
       "             ('original_shape_MinorAxisLength', 16.900219829667652),\n",
       "             ('original_shape_Sphericity', array(0.3202059)),\n",
       "             ('original_shape_SurfaceArea', array(712.93729357)),\n",
       "             ('original_shape_SurfaceVolumeRatio', array(2.19814599)),\n",
       "             ('original_shape_VoxelVolume', 338.24462890625),\n",
       "             ('original_firstorder_10Percentile', array(-36.6)),\n",
       "             ('original_firstorder_90Percentile', array(110.)),\n",
       "             ('original_firstorder_Energy', array(2767819.)),\n",
       "             ('original_firstorder_Entropy', array(2.99822024)),\n",
       "             ('original_firstorder_InterquartileRange', array(67.75)),\n",
       "             ('original_firstorder_Kurtosis', array(3.24882039)),\n",
       "             ('original_firstorder_Maximum', array(150.)),\n",
       "             ('original_firstorder_MeanAbsoluteDeviation', array(44.95115463)),\n",
       "             ('original_firstorder_Mean', array(53.29475983)),\n",
       "             ('original_firstorder_Median', array(71.)),\n",
       "             ('original_firstorder_Minimum', array(-132.)),\n",
       "             ('original_firstorder_Range', array(282.)),\n",
       "             ('original_firstorder_RobustMeanAbsoluteDeviation',\n",
       "              array(30.53291324)),\n",
       "             ('original_firstorder_RootMeanSquared', array(77.73849063)),\n",
       "             ('original_firstorder_Skewness', array(-0.98226151)),\n",
       "             ('original_firstorder_TotalEnergy', array(2044104.6081543)),\n",
       "             ('original_firstorder_Uniformity', array(0.158521)),\n",
       "             ('original_firstorder_Variance', array(3202.94150092)),\n",
       "             ('original_glcm_Autocorrelation', array(79.75055053)),\n",
       "             ('original_glcm_ClusterProminence', array(1157.62153246)),\n",
       "             ('original_glcm_ClusterShade', array(-85.04570879)),\n",
       "             ('original_glcm_ClusterTendency', array(18.53495277)),\n",
       "             ('original_glcm_Contrast', array(2.14400884)),\n",
       "             ('original_glcm_Correlation', array(0.79309688)),\n",
       "             ('original_glcm_DifferenceAverage', array(1.06380201)),\n",
       "             ('original_glcm_DifferenceEntropy', array(1.86947683)),\n",
       "             ('original_glcm_DifferenceVariance', array(0.98646423)),\n",
       "             ('original_glcm_Id', array(0.60617318)),\n",
       "             ('original_glcm_Idm', array(0.5695589)),\n",
       "             ('original_glcm_Idmn', array(0.98788744)),\n",
       "             ('original_glcm_Idn', array(0.9288046)),\n",
       "             ('original_glcm_Imc1', array(-0.2320071)),\n",
       "             ('original_glcm_Imc2', array(0.85902036)),\n",
       "             ('original_glcm_InverseVariance', array(0.46919873)),\n",
       "             ('original_glcm_JointAverage', array(8.69780951)),\n",
       "             ('original_glcm_JointEnergy', array(0.04199664)),\n",
       "             ('original_glcm_JointEntropy', array(5.25621312)),\n",
       "             ('original_glcm_MCC', array(0.83510518)),\n",
       "             ('original_glcm_MaximumProbability', array(0.11306613)),\n",
       "             ('original_glcm_SumAverage', array(17.39561902)),\n",
       "             ('original_glcm_SumEntropy', array(3.82154915)),\n",
       "             ('original_glcm_SumSquares', array(5.1697404)),\n",
       "             ('original_gldm_DependenceEntropy', array(5.36364929)),\n",
       "             ('original_gldm_DependenceNonUniformity', array(84.13973799)),\n",
       "             ('original_gldm_DependenceNonUniformityNormalized',\n",
       "              array(0.18371122)),\n",
       "             ('original_gldm_DependenceVariance', array(2.37750996)),\n",
       "             ('original_gldm_GrayLevelNonUniformity', array(72.60262009)),\n",
       "             ('original_gldm_GrayLevelVariance', array(5.2326281)),\n",
       "             ('original_gldm_HighGrayLevelEmphasis', array(80.25545852)),\n",
       "             ('original_gldm_LargeDependenceEmphasis', array(13.74235808)),\n",
       "             ('original_gldm_LargeDependenceHighGrayLevelEmphasis',\n",
       "              array(1150.97598253)),\n",
       "             ('original_gldm_LargeDependenceLowGrayLevelEmphasis',\n",
       "              array(0.25264369)),\n",
       "             ('original_gldm_LowGrayLevelEmphasis', array(0.02194512)),\n",
       "             ('original_gldm_SmallDependenceEmphasis', array(0.20315827)),\n",
       "             ('original_gldm_SmallDependenceHighGrayLevelEmphasis',\n",
       "              array(15.84511583)),\n",
       "             ('original_gldm_SmallDependenceLowGrayLevelEmphasis',\n",
       "              array(0.00670428)),\n",
       "             ('original_glrlm_GrayLevelNonUniformity', array(46.40984489)),\n",
       "             ('original_glrlm_GrayLevelNonUniformityNormalized',\n",
       "              array(0.14404722)),\n",
       "             ('original_glrlm_GrayLevelVariance', array(5.47698976)),\n",
       "             ('original_glrlm_HighGrayLevelRunEmphasis', array(79.28660903)),\n",
       "             ('original_glrlm_LongRunEmphasis', array(2.66683317)),\n",
       "             ('original_glrlm_LongRunHighGrayLevelEmphasis',\n",
       "              array(217.95144908)),\n",
       "             ('original_glrlm_LongRunLowGrayLevelEmphasis', array(0.05447389)),\n",
       "             ('original_glrlm_LowGrayLevelRunEmphasis', array(0.02332606)),\n",
       "             ('original_glrlm_RunEntropy', array(4.22456953)),\n",
       "             ('original_glrlm_RunLengthNonUniformity', array(177.95194327)),\n",
       "             ('original_glrlm_RunLengthNonUniformityNormalized',\n",
       "              array(0.54980331)),\n",
       "             ('original_glrlm_RunPercentage', array(0.70360262)),\n",
       "             ('original_glrlm_RunVariance', array(0.62891719)),\n",
       "             ('original_glrlm_ShortRunEmphasis', array(0.76807671)),\n",
       "             ('original_glrlm_ShortRunHighGrayLevelEmphasis',\n",
       "              array(60.45494897)),\n",
       "             ('original_glrlm_ShortRunLowGrayLevelEmphasis', array(0.0189216)),\n",
       "             ('original_glszm_GrayLevelNonUniformity', array(12.06306306)),\n",
       "             ('original_glszm_GrayLevelNonUniformityNormalized',\n",
       "              array(0.10867624)),\n",
       "             ('original_glszm_GrayLevelVariance', array(6.74571869)),\n",
       "             ('original_glszm_HighGrayLevelZoneEmphasis', array(75.44144144)),\n",
       "             ('original_glszm_LargeAreaEmphasis', array(66.48648649)),\n",
       "             ('original_glszm_LargeAreaHighGrayLevelEmphasis', array(6147.)),\n",
       "             ('original_glszm_LargeAreaLowGrayLevelEmphasis',\n",
       "              array(0.99449475)),\n",
       "             ('original_glszm_LowGrayLevelZoneEmphasis', array(0.03113764)),\n",
       "             ('original_glszm_SizeZoneNonUniformity', array(26.08108108)),\n",
       "             ('original_glszm_SizeZoneNonUniformityNormalized',\n",
       "              array(0.23496469)),\n",
       "             ('original_glszm_SmallAreaEmphasis', array(0.47473879)),\n",
       "             ('original_glszm_SmallAreaHighGrayLevelEmphasis',\n",
       "              array(36.27872766)),\n",
       "             ('original_glszm_SmallAreaLowGrayLevelEmphasis',\n",
       "              array(0.02069865)),\n",
       "             ('original_glszm_ZoneEntropy', array(5.37970579)),\n",
       "             ('original_glszm_ZonePercentage', array(0.24235808)),\n",
       "             ('original_glszm_ZoneVariance', array(49.46156968)),\n",
       "             ('original_ngtdm_Busyness', array(0.32102789)),\n",
       "             ('original_ngtdm_Coarseness', array(0.02281646)),\n",
       "             ('original_ngtdm_Complexity', array(51.5809497)),\n",
       "             ('original_ngtdm_Contrast', array(0.04695931)),\n",
       "             ('original_ngtdm_Strength', array(1.78363012))])"
      ]
     },
     "execution_count": 14,
     "metadata": {},
     "output_type": "execute_result"
    }
   ],
   "source": [
    "feature_vector"
   ]
  },
  {
   "cell_type": "code",
   "execution_count": 53,
   "metadata": {},
   "outputs": [
    {
     "name": "stderr",
     "output_type": "stream",
     "text": [
      "GLCM is symmetrical, therefore Sum Average = 2 * Joint Average, only 1 needs to be calculated\n"
     ]
    }
   ],
   "source": [
    "sample_img = sitk.ReadImage('../Segment_data/Tumor_pancreas/Pancreas_slice/pancreas_001.dcm')\n",
    "sample_mask = sitk.ReadImage('../Segment_data/Tumor_pancreas/Mask/pancreas_001.dcm')\n",
    "\n",
    "feature_vector = extractor.execute(sample_img,sample_mask)"
   ]
  },
  {
   "cell_type": "code",
   "execution_count": 8,
   "metadata": {},
   "outputs": [
    {
     "data": {
      "text/plain": [
       "OrderedDict([('diagnostics_Versions_PyRadiomics', 'v3.1.0'),\n",
       "             ('diagnostics_Versions_Numpy', '1.26.0'),\n",
       "             ('diagnostics_Versions_SimpleITK', '2.3.1'),\n",
       "             ('diagnostics_Versions_PyWavelet', '1.4.1'),\n",
       "             ('diagnostics_Versions_Python', '3.9.18'),\n",
       "             ('diagnostics_Configuration_Settings',\n",
       "              {'minimumROIDimensions': 2,\n",
       "               'minimumROISize': None,\n",
       "               'normalize': False,\n",
       "               'normalizeScale': 1,\n",
       "               'removeOutliers': None,\n",
       "               'resampledPixelSpacing': None,\n",
       "               'interpolator': 'sitkBSpline',\n",
       "               'preCrop': False,\n",
       "               'padDistance': 5,\n",
       "               'distances': [1],\n",
       "               'force2D': False,\n",
       "               'force2Ddimension': 0,\n",
       "               'resegmentRange': None,\n",
       "               'label': 1,\n",
       "               'additionalInfo': True}),\n",
       "             ('diagnostics_Configuration_EnabledImageTypes', {'Original': {}}),\n",
       "             ('diagnostics_Image-original_Hash',\n",
       "              '8eeb6634f76a969c6b5b954cca242361dab663c0'),\n",
       "             ('diagnostics_Image-original_Dimensionality', '3D'),\n",
       "             ('diagnostics_Image-original_Spacing', (0.859375, 0.859375, 1.0)),\n",
       "             ('diagnostics_Image-original_Size', (512, 512, 1)),\n",
       "             ('diagnostics_Image-original_Mean', -393.0060691833496),\n",
       "             ('diagnostics_Image-original_Minimum', -1024.0),\n",
       "             ('diagnostics_Image-original_Maximum', 2689.0),\n",
       "             ('diagnostics_Mask-original_Hash',\n",
       "              'f313b5055b51c4227fb83317763f0f4e9bc950c2'),\n",
       "             ('diagnostics_Mask-original_Spacing', (0.859375, 0.859375, 1.0)),\n",
       "             ('diagnostics_Mask-original_Size', (512, 512, 1)),\n",
       "             ('diagnostics_Mask-original_BoundingBox',\n",
       "              (24, 21, 0, 438, 466, 1)),\n",
       "             ('diagnostics_Mask-original_VoxelNum', 285),\n",
       "             ('diagnostics_Mask-original_VolumeNum', 274),\n",
       "             ('diagnostics_Mask-original_CenterOfMassIndex',\n",
       "              (260.5754385964912, 217.9719298245614, 0.0)),\n",
       "             ('diagnostics_Mask-original_CenterOfMass',\n",
       "              (223.93201754385964, -187.31962719298247, -2.0)),\n",
       "             ('original_shape_Elongation', 0.8259301167641916),\n",
       "             ('original_shape_Flatness', 0.0),\n",
       "             ('original_shape_LeastAxisLength', 0.0),\n",
       "             ('original_shape_MajorAxisLength', 411.1341628893783),\n",
       "             ('original_shape_Maximum2DDiameterColumn', array(313.671875)),\n",
       "             ('original_shape_Maximum2DDiameterRow', array(391.015625)),\n",
       "             ('original_shape_Maximum2DDiameterSlice', array(403.24838379)),\n",
       "             ('original_shape_Maximum3DDiameter', array(403.24838379)),\n",
       "             ('original_shape_MeshVolume', array(37.0493571)),\n",
       "             ('original_shape_MinorAxisLength', 339.56808716097237),\n",
       "             ('original_shape_Sphericity', array(0.12998093)),\n",
       "             ('original_shape_SurfaceArea', array(413.48359025)),\n",
       "             ('original_shape_SurfaceVolumeRatio', array(11.16034454)),\n",
       "             ('original_shape_VoxelVolume', 210.479736328125),\n",
       "             ('original_firstorder_10Percentile', array(1.)),\n",
       "             ('original_firstorder_90Percentile', array(1.)),\n",
       "             ('original_firstorder_Energy', array(285.)),\n",
       "             ('original_firstorder_Entropy', array(-3.2034265e-16)),\n",
       "             ('original_firstorder_InterquartileRange', array(0.)),\n",
       "             ('original_firstorder_Kurtosis', array(0.)),\n",
       "             ('original_firstorder_Maximum', array(1.)),\n",
       "             ('original_firstorder_MeanAbsoluteDeviation', array(0.)),\n",
       "             ('original_firstorder_Mean', array(1.)),\n",
       "             ('original_firstorder_Median', array(1.)),\n",
       "             ('original_firstorder_Minimum', array(1.)),\n",
       "             ('original_firstorder_Range', array(0.)),\n",
       "             ('original_firstorder_RobustMeanAbsoluteDeviation', array(0.)),\n",
       "             ('original_firstorder_RootMeanSquared', array(1.)),\n",
       "             ('original_firstorder_Skewness', array(0.)),\n",
       "             ('original_firstorder_TotalEnergy', array(210.47973633)),\n",
       "             ('original_firstorder_Uniformity', array(1.)),\n",
       "             ('original_firstorder_Variance', array(0.)),\n",
       "             ('original_glcm_Autocorrelation', array(1.)),\n",
       "             ('original_glcm_ClusterProminence', array(0.)),\n",
       "             ('original_glcm_ClusterShade', array(0.)),\n",
       "             ('original_glcm_ClusterTendency', array(0.)),\n",
       "             ('original_glcm_Contrast', array(0.)),\n",
       "             ('original_glcm_Correlation', array(1.)),\n",
       "             ('original_glcm_DifferenceAverage', array(0.)),\n",
       "             ('original_glcm_DifferenceEntropy', array(-3.2034265e-16)),\n",
       "             ('original_glcm_DifferenceVariance', array(0.)),\n",
       "             ('original_glcm_Id', array(1.)),\n",
       "             ('original_glcm_Idm', array(1.)),\n",
       "             ('original_glcm_Idmn', array(1.)),\n",
       "             ('original_glcm_Idn', array(1.)),\n",
       "             ('original_glcm_Imc1', array(0.)),\n",
       "             ('original_glcm_Imc2', array(0.)),\n",
       "             ('original_glcm_InverseVariance', array(0.)),\n",
       "             ('original_glcm_JointAverage', array(1.)),\n",
       "             ('original_glcm_JointEnergy', array(1.)),\n",
       "             ('original_glcm_JointEntropy', array(-3.2034265e-16)),\n",
       "             ('original_glcm_MCC', array(1)),\n",
       "             ('original_glcm_MaximumProbability', array(1.)),\n",
       "             ('original_glcm_SumAverage', array(2.)),\n",
       "             ('original_glcm_SumEntropy', array(-3.2034265e-16)),\n",
       "             ('original_glcm_SumSquares', array(0.)),\n",
       "             ('original_gldm_DependenceEntropy', array(0.39987562)),\n",
       "             ('original_gldm_DependenceNonUniformity', array(245.95438596)),\n",
       "             ('original_gldm_DependenceNonUniformityNormalized',\n",
       "              array(0.86299785)),\n",
       "             ('original_gldm_DependenceVariance', array(0.07825177)),\n",
       "             ('original_gldm_GrayLevelNonUniformity', array(285.)),\n",
       "             ('original_gldm_GrayLevelVariance', array(0.)),\n",
       "             ('original_gldm_HighGrayLevelEmphasis', array(1.)),\n",
       "             ('original_gldm_LargeDependenceEmphasis', array(1.23859649)),\n",
       "             ('original_gldm_LargeDependenceHighGrayLevelEmphasis',\n",
       "              array(1.23859649)),\n",
       "             ('original_gldm_LargeDependenceLowGrayLevelEmphasis',\n",
       "              array(1.23859649)),\n",
       "             ('original_gldm_LowGrayLevelEmphasis', array(1.)),\n",
       "             ('original_gldm_SmallDependenceEmphasis', array(0.94424951)),\n",
       "             ('original_gldm_SmallDependenceHighGrayLevelEmphasis',\n",
       "              array(0.94424951)),\n",
       "             ('original_gldm_SmallDependenceLowGrayLevelEmphasis',\n",
       "              array(0.94424951)),\n",
       "             ('original_glrlm_GrayLevelNonUniformity', array(282.25)),\n",
       "             ('original_glrlm_GrayLevelNonUniformityNormalized', array(1.)),\n",
       "             ('original_glrlm_GrayLevelVariance', array(0.)),\n",
       "             ('original_glrlm_HighGrayLevelRunEmphasis', array(1.)),\n",
       "             ('original_glrlm_LongRunEmphasis', array(1.0311627)),\n",
       "             ('original_glrlm_LongRunHighGrayLevelEmphasis', array(1.0311627)),\n",
       "             ('original_glrlm_LongRunLowGrayLevelEmphasis', array(1.0311627)),\n",
       "             ('original_glrlm_LowGrayLevelRunEmphasis', array(1.)),\n",
       "             ('original_glrlm_RunEntropy', array(0.07440312)),\n",
       "             ('original_glrlm_RunLengthNonUniformity', array(277.30352925)),\n",
       "             ('original_glrlm_RunLengthNonUniformityNormalized',\n",
       "              array(0.98240276)),\n",
       "             ('original_glrlm_RunPercentage', array(0.99035088)),\n",
       "             ('original_glrlm_RunVariance', array(0.01143862)),\n",
       "             ('original_glrlm_ShortRunEmphasis', array(0.99320494)),\n",
       "             ('original_glrlm_ShortRunHighGrayLevelEmphasis',\n",
       "              array(0.99320494)),\n",
       "             ('original_glrlm_ShortRunLowGrayLevelEmphasis',\n",
       "              array(0.99320494)),\n",
       "             ('original_glszm_GrayLevelNonUniformity', array(274.)),\n",
       "             ('original_glszm_GrayLevelNonUniformityNormalized', array(1.)),\n",
       "             ('original_glszm_GrayLevelVariance', array(0.)),\n",
       "             ('original_glszm_HighGrayLevelZoneEmphasis', array(1.)),\n",
       "             ('original_glszm_LargeAreaEmphasis', array(1.12773723)),\n",
       "             ('original_glszm_LargeAreaHighGrayLevelEmphasis',\n",
       "              array(1.12773723)),\n",
       "             ('original_glszm_LargeAreaLowGrayLevelEmphasis',\n",
       "              array(1.12773723)),\n",
       "             ('original_glszm_LowGrayLevelZoneEmphasis', array(1.)),\n",
       "             ('original_glszm_SizeZoneNonUniformity', array(254.66423358)),\n",
       "             ('original_glszm_SizeZoneNonUniformityNormalized',\n",
       "              array(0.92943151)),\n",
       "             ('original_glszm_SmallAreaEmphasis', array(0.97212084)),\n",
       "             ('original_glszm_SmallAreaHighGrayLevelEmphasis',\n",
       "              array(0.97212084)),\n",
       "             ('original_glszm_SmallAreaLowGrayLevelEmphasis',\n",
       "              array(0.97212084)),\n",
       "             ('original_glszm_ZoneEntropy', array(0.24310737)),\n",
       "             ('original_glszm_ZonePercentage', array(0.96140351)),\n",
       "             ('original_glszm_ZoneVariance', array(0.04583356)),\n",
       "             ('original_ngtdm_Busyness', array(0.)),\n",
       "             ('original_ngtdm_Coarseness', array(1000000.)),\n",
       "             ('original_ngtdm_Complexity', array(0.)),\n",
       "             ('original_ngtdm_Contrast', array(0.)),\n",
       "             ('original_ngtdm_Strength', array(0.))])"
      ]
     },
     "execution_count": 8,
     "metadata": {},
     "output_type": "execute_result"
    }
   ],
   "source": [
    "feature_vector"
   ]
  },
  {
   "cell_type": "code",
   "execution_count": 101,
   "metadata": {},
   "outputs": [
    {
     "name": "stdout",
     "output_type": "stream",
     "text": [
      "Image Position (Origin): [0, 0, -88]\n",
      "Image Position (Origin): [0, 0, -88]\n"
     ]
    }
   ],
   "source": [
    "dicom_file_path_slice = '../Segment_data/Healthy_pancreas/Pancreas_slice/pancreas_healthy_0002.dcm'\n",
    "dicom_file_path_mask = '../NewMask/pancreas_healthy_0002.dcm'\n",
    "dicom_data_slice = pydicom.dcmread(dicom_file_path_slice)\n",
    "dicom_data_mask = pydicom.dcmread(dicom_file_path_mask)\n",
    "\n",
    "image_position1 = dicom_data_slice.ImagePositionPatient\n",
    "image_position2 = dicom_data_mask.ImagePositionPatient\n",
    "\n",
    "# dicom_data_mask.ImagePositionPatient = image_position1\n",
    "\n",
    "print(\"Image Position (Origin):\", image_position1)\n",
    "print(\"Image Position (Origin):\", image_position2)\n",
    "\n",
    "sample_img = dicom_data_slice.pixel_array\n",
    "sample_mask = dicom_data_mask.pixel_array\n",
    "\n",
    "# feature_vector = extractor.execute(sample_img,sample_mask)\n"
   ]
  },
  {
   "cell_type": "code",
   "execution_count": 102,
   "metadata": {},
   "outputs": [
    {
     "name": "stdout",
     "output_type": "stream",
     "text": [
      "(512, 512)\n",
      "(512, 512)\n"
     ]
    }
   ],
   "source": [
    "slice_data = dicom_data_slice.pixel_array\n",
    "mask_data = dicom_data_mask.pixel_array\n",
    "\n",
    "print(slice_data.shape)\n",
    "print(mask_data.shape)\n"
   ]
  },
  {
   "cell_type": "code",
   "execution_count": 103,
   "metadata": {},
   "outputs": [
    {
     "name": "stdout",
     "output_type": "stream",
     "text": [
      "Image Orientation: [1, 0, 0, 0, -1, 0]\n",
      "Image Orientation: [1, 0, 0, 0, -1, 0]\n"
     ]
    }
   ],
   "source": [
    "image_orientation1 = dicom_data_slice.ImageOrientationPatient\n",
    "print(\"Image Orientation:\", image_orientation1)\n",
    "image_orientation2 = dicom_data_mask.ImageOrientationPatient\n",
    "print(\"Image Orientation:\", image_orientation2)"
   ]
  },
  {
   "cell_type": "code",
   "execution_count": 43,
   "metadata": {},
   "outputs": [],
   "source": [
    "# import matplotlib.pyplot as plt"
   ]
  },
  {
   "cell_type": "code",
   "execution_count": 10,
   "metadata": {},
   "outputs": [],
   "source": [
    "# plt.imshow(sample_mask,cmap=\"gray\")\n",
    "import numpy as np"
   ]
  },
  {
   "cell_type": "code",
   "execution_count": 60,
   "metadata": {},
   "outputs": [],
   "source": [
    "output_path = '../NewPosdata/pancreas_healthy_0001.dcm'\n",
    "dicom_data_mask.save_as(output_path)"
   ]
  },
  {
   "cell_type": "code",
   "execution_count": 112,
   "metadata": {},
   "outputs": [],
   "source": [
    "sample_img = sitk.ReadImage('../Segment_data/Healthy_pancreas/Pancreas_slice/pancreas_healthy_0042.dcm')\n",
    "sample_mask = sitk.ReadImage('../NewMask/pancreas_healthy_0042.dcm')\n",
    "\n",
    "resampled_label = sitk.Resample(sample_mask, sample_img)"
   ]
  },
  {
   "cell_type": "code",
   "execution_count": 113,
   "metadata": {},
   "outputs": [],
   "source": [
    "params = {\n",
    "    'correctMask': True  # Enable resampling of the mask\n",
    "}\n",
    "\n",
    "extractor = featureextractor.RadiomicsFeatureExtractor(**params)\n",
    "extractor.enableAllFeatures()  # Enable all available features"
   ]
  },
  {
   "cell_type": "code",
   "execution_count": 114,
   "metadata": {},
   "outputs": [
    {
     "name": "stderr",
     "output_type": "stream",
     "text": [
      "Image/Mask geometry mismatch, attempting to correct Mask\n"
     ]
    },
    {
     "name": "stderr",
     "output_type": "stream",
     "text": [
      "parameter force2D must be set to True to enable shape2D extraction\n",
      "GLCM is symmetrical, therefore Sum Average = 2 * Joint Average, only 1 needs to be calculated\n"
     ]
    }
   ],
   "source": [
    "feature_vector = extractor.execute(sample_img,sample_mask)"
   ]
  },
  {
   "cell_type": "code",
   "execution_count": 108,
   "metadata": {},
   "outputs": [
    {
     "data": {
      "text/plain": [
       "OrderedDict([('diagnostics_Versions_PyRadiomics', 'v3.1.0'),\n",
       "             ('diagnostics_Versions_Numpy', '1.26.0'),\n",
       "             ('diagnostics_Versions_SimpleITK', '2.3.1'),\n",
       "             ('diagnostics_Versions_PyWavelet', '1.4.1'),\n",
       "             ('diagnostics_Versions_Python', '3.9.18'),\n",
       "             ('diagnostics_Configuration_Settings',\n",
       "              {'minimumROIDimensions': 2,\n",
       "               'minimumROISize': None,\n",
       "               'normalize': False,\n",
       "               'normalizeScale': 1,\n",
       "               'removeOutliers': None,\n",
       "               'resampledPixelSpacing': None,\n",
       "               'interpolator': 'sitkBSpline',\n",
       "               'preCrop': False,\n",
       "               'padDistance': 5,\n",
       "               'distances': [1],\n",
       "               'force2D': False,\n",
       "               'force2Ddimension': 0,\n",
       "               'resegmentRange': None,\n",
       "               'label': 1,\n",
       "               'additionalInfo': True,\n",
       "               'correctMask': True}),\n",
       "             ('diagnostics_Configuration_EnabledImageTypes', {'Original': {}}),\n",
       "             ('diagnostics_Image-original_Hash',\n",
       "              '561e816cb4c7c67ff4a91297ecc4eb831a913a20'),\n",
       "             ('diagnostics_Image-original_Dimensionality', '3D'),\n",
       "             ('diagnostics_Image-original_Spacing',\n",
       "              (0.8984375, 0.8984375, 1.0)),\n",
       "             ('diagnostics_Image-original_Size', (512, 512, 1)),\n",
       "             ('diagnostics_Image-original_Mean', -556.6005783081055),\n",
       "             ('diagnostics_Image-original_Minimum', -1024.0),\n",
       "             ('diagnostics_Image-original_Maximum', 1086.0),\n",
       "             ('diagnostics_Mask-original_Hash',\n",
       "              '81e4e12f257e4eef0096244280b7a8d79d21722f'),\n",
       "             ('diagnostics_Mask-original_Spacing', (0.859375, 0.859375, 1.0)),\n",
       "             ('diagnostics_Mask-original_Size', (512, 512, 1)),\n",
       "             ('diagnostics_Mask-original_BoundingBox',\n",
       "              (294, 259, 0, 84, 79, 1)),\n",
       "             ('diagnostics_Mask-original_VoxelNum', 3228),\n",
       "             ('diagnostics_Mask-original_VolumeNum', 1),\n",
       "             ('diagnostics_Mask-original_CenterOfMassIndex',\n",
       "              (329.3701982651797, 293.6043990086741, 0.0)),\n",
       "             ('diagnostics_Mask-original_CenterOfMass',\n",
       "              (283.0525141341388, -252.3162803980793, -88.0)),\n",
       "             ('diagnostics_Mask-corrected_Spacing',\n",
       "              (0.8984375, 0.8984375, 1.0)),\n",
       "             ('diagnostics_Mask-corrected_Size', (512, 512, 1)),\n",
       "             ('diagnostics_Mask-corrected_BoundingBox',\n",
       "              (281, 248, 0, 81, 75, 1)),\n",
       "             ('diagnostics_Mask-corrected_VoxelNum', 2947),\n",
       "             ('diagnostics_Mask-corrected_VolumeNum', 1),\n",
       "             ('diagnostics_Mask-corrected_CenterOfMassIndex',\n",
       "              (315.30403800475057, 280.95860196810315, 0.0)),\n",
       "             ('diagnostics_Mask-corrected_CenterOfMass',\n",
       "              (283.2809716448931, -252.42374395571767, -88.0)),\n",
       "             ('diagnostics_Mask-corrected_Mean', 94.88666440447913),\n",
       "             ('diagnostics_Mask-corrected_Minimum', -66.0),\n",
       "             ('diagnostics_Mask-corrected_Maximum', 208.0),\n",
       "             ('original_shape_Elongation', 0.7020909680548076),\n",
       "             ('original_shape_Flatness', 0.0),\n",
       "             ('original_shape_LeastAxisLength', 0.0),\n",
       "             ('original_shape_MajorAxisLength', 79.8210007211108),\n",
       "             ('original_shape_Maximum2DDiameterColumn', array(61.9921875)),\n",
       "             ('original_shape_Maximum2DDiameterRow', array(65.5859375)),\n",
       "             ('original_shape_Maximum2DDiameterSlice', array(78.45268194)),\n",
       "             ('original_shape_Maximum3DDiameter', array(78.45268194)),\n",
       "             ('original_shape_MeshVolume', array(2318.38404338)),\n",
       "             ('original_shape_MinorAxisLength', 56.04160366738819),\n",
       "             ('original_shape_Sphericity', array(0.17257116)),\n",
       "             ('original_shape_SurfaceArea', array(4908.77156686)),\n",
       "             ('original_shape_SurfaceVolumeRatio', array(2.1173246)),\n",
       "             ('original_shape_VoxelVolume', 2378.7887573242188),\n",
       "             ('original_firstorder_10Percentile', array(49.)),\n",
       "             ('original_firstorder_90Percentile', array(140.4)),\n",
       "             ('original_firstorder_Energy', array(30794505.)),\n",
       "             ('original_firstorder_Entropy', array(2.61672563)),\n",
       "             ('original_firstorder_InterquartileRange', array(39.)),\n",
       "             ('original_firstorder_Kurtosis', array(4.05519358)),\n",
       "             ('original_firstorder_Maximum', array(208.)),\n",
       "             ('original_firstorder_MeanAbsoluteDeviation', array(28.1237531)),\n",
       "             ('original_firstorder_Mean', array(94.8866644)),\n",
       "             ('original_firstorder_Median', array(96.)),\n",
       "             ('original_firstorder_Minimum', array(-66.)),\n",
       "             ('original_firstorder_Range', array(274.)),\n",
       "             ('original_firstorder_RobustMeanAbsoluteDeviation',\n",
       "              array(17.36577995)),\n",
       "             ('original_firstorder_RootMeanSquared', array(102.22251124)),\n",
       "             ('original_firstorder_Skewness', array(-0.35501799)),\n",
       "             ('original_firstorder_TotalEnergy', array(24857014.68658447)),\n",
       "             ('original_firstorder_Uniformity', array(0.20835588)),\n",
       "             ('original_firstorder_Variance', array(1445.96272342)),\n",
       "             ('original_glcm_Autocorrelation', array(55.58162623)),\n",
       "             ('original_glcm_ClusterProminence', array(300.6667601)),\n",
       "             ('original_glcm_ClusterShade', array(-9.49777116)),\n",
       "             ('original_glcm_ClusterTendency', array(8.56014158)),\n",
       "             ('original_glcm_Contrast', array(1.08715658)),\n",
       "             ('original_glcm_Correlation', array(0.77464562)),\n",
       "             ('original_glcm_DifferenceAverage', array(0.73845897)),\n",
       "             ('original_glcm_DifferenceEntropy', array(1.4846273)),\n",
       "             ('original_glcm_DifferenceVariance', array(0.53589592)),\n",
       "             ('original_glcm_Id', array(0.68059705)),\n",
       "             ('original_glcm_Idm', array(0.66434629)),\n",
       "             ('original_glcm_Idmn', array(0.99267704)),\n",
       "             ('original_glcm_Idn', array(0.94502473)),\n",
       "             ('original_glcm_Imc1', array(-0.25893922)),\n",
       "             ('original_glcm_Imc2', array(0.85805197)),\n",
       "             ('original_glcm_InverseVariance', array(0.50265699)),\n",
       "             ('original_glcm_JointAverage', array(7.32894071)),\n",
       "             ('original_glcm_JointEnergy', array(0.06782774)),\n",
       "             ('original_glcm_JointEntropy', array(4.56158988)),\n",
       "             ('original_glcm_MCC', array(0.79305682)),\n",
       "             ('original_glcm_MaximumProbability', array(0.13683905)),\n",
       "             ('original_glcm_SumAverage', array(14.65788141)),\n",
       "             ('original_glcm_SumEntropy', array(3.49851852)),\n",
       "             ('original_glcm_SumSquares', array(2.41182454)),\n",
       "             ('original_gldm_DependenceEntropy', array(5.29320571)),\n",
       "             ('original_gldm_DependenceNonUniformity', array(477.6128266)),\n",
       "             ('original_gldm_DependenceNonUniformityNormalized',\n",
       "              array(0.16206747)),\n",
       "             ('original_gldm_DependenceVariance', array(2.84732549)),\n",
       "             ('original_gldm_GrayLevelNonUniformity', array(614.02477095)),\n",
       "             ('original_gldm_GrayLevelVariance', array(2.40555549)),\n",
       "             ('original_gldm_HighGrayLevelEmphasis', array(56.04241602)),\n",
       "             ('original_gldm_LargeDependenceEmphasis', array(19.66372582)),\n",
       "             ('original_gldm_LargeDependenceHighGrayLevelEmphasis',\n",
       "              array(1109.08279606)),\n",
       "             ('original_gldm_LargeDependenceLowGrayLevelEmphasis',\n",
       "              array(0.42233478)),\n",
       "             ('original_gldm_LowGrayLevelEmphasis', array(0.02362068)),\n",
       "             ('original_gldm_SmallDependenceEmphasis', array(0.13895454)),\n",
       "             ('original_gldm_SmallDependenceHighGrayLevelEmphasis',\n",
       "              array(7.64762125)),\n",
       "             ('original_gldm_SmallDependenceLowGrayLevelEmphasis',\n",
       "              array(0.00374627)),\n",
       "             ('original_glrlm_GrayLevelNonUniformity', array(344.14524389)),\n",
       "             ('original_glrlm_GrayLevelNonUniformityNormalized',\n",
       "              array(0.19075873)),\n",
       "             ('original_glrlm_GrayLevelVariance', array(2.68064272)),\n",
       "             ('original_glrlm_HighGrayLevelRunEmphasis', array(55.8050131)),\n",
       "             ('original_glrlm_LongRunEmphasis', array(3.77135101)),\n",
       "             ('original_glrlm_LongRunHighGrayLevelEmphasis',\n",
       "              array(212.75016451)),\n",
       "             ('original_glrlm_LongRunLowGrayLevelEmphasis', array(0.08390578)),\n",
       "             ('original_glrlm_LowGrayLevelRunEmphasis', array(0.02472418)),\n",
       "             ('original_glrlm_RunEntropy', array(4.24289552)),\n",
       "             ('original_glrlm_RunLengthNonUniformity', array(815.58808732)),\n",
       "             ('original_glrlm_RunLengthNonUniformityNormalized',\n",
       "              array(0.44969319)),\n",
       "             ('original_glrlm_RunPercentage', array(0.61240244)),\n",
       "             ('original_glrlm_RunVariance', array(1.08135937)),\n",
       "             ('original_glrlm_ShortRunEmphasis', array(0.69170751)),\n",
       "             ('original_glrlm_ShortRunHighGrayLevelEmphasis',\n",
       "              array(38.4501212)),\n",
       "             ('original_glrlm_ShortRunLowGrayLevelEmphasis',\n",
       "              array(0.01775311)),\n",
       "             ('original_glszm_GrayLevelNonUniformity', array(58.30845771)),\n",
       "             ('original_glszm_GrayLevelNonUniformityNormalized',\n",
       "              array(0.14504591)),\n",
       "             ('original_glszm_GrayLevelVariance', array(4.07220737)),\n",
       "             ('original_glszm_HighGrayLevelZoneEmphasis', array(54.79353234)),\n",
       "             ('original_glszm_LargeAreaEmphasis', array(613.64925373)),\n",
       "             ('original_glszm_LargeAreaHighGrayLevelEmphasis',\n",
       "              array(33821.27114428)),\n",
       "             ('original_glszm_LargeAreaLowGrayLevelEmphasis',\n",
       "              array(11.81291668)),\n",
       "             ('original_glszm_LowGrayLevelZoneEmphasis', array(0.03062408)),\n",
       "             ('original_glszm_SizeZoneNonUniformity', array(95.39303483)),\n",
       "             ('original_glszm_SizeZoneNonUniformityNormalized',\n",
       "              array(0.23729611)),\n",
       "             ('original_glszm_SmallAreaEmphasis', array(0.49796288)),\n",
       "             ('original_glszm_SmallAreaHighGrayLevelEmphasis',\n",
       "              array(27.08679696)),\n",
       "             ('original_glszm_SmallAreaLowGrayLevelEmphasis',\n",
       "              array(0.01445753)),\n",
       "             ('original_glszm_ZoneEntropy', array(5.67869731)),\n",
       "             ('original_glszm_ZonePercentage', array(0.13640991)),\n",
       "             ('original_glszm_ZoneVariance', array(559.90795401)),\n",
       "             ('original_ngtdm_Busyness', array(2.69075035)),\n",
       "             ('original_ngtdm_Coarseness', array(0.00335161)),\n",
       "             ('original_ngtdm_Complexity', array(34.02362565)),\n",
       "             ('original_ngtdm_Contrast', array(0.01977105)),\n",
       "             ('original_ngtdm_Strength', array(0.22520876))])"
      ]
     },
     "execution_count": 108,
     "metadata": {},
     "output_type": "execute_result"
    }
   ],
   "source": [
    "feature_vector"
   ]
  },
  {
   "cell_type": "code",
   "execution_count": 11,
   "metadata": {},
   "outputs": [],
   "source": [
    "from itertools import islice\n",
    "import pandas as pd"
   ]
  },
  {
   "cell_type": "code",
   "execution_count": 74,
   "metadata": {},
   "outputs": [],
   "source": [
    "\n",
    "start_key = 'original_shape_Elongation'\n",
    "start_index = list(feature_vector.keys()).index(start_key)\n",
    "keys_from_start = list(feature_vector.keys())[list(feature_vector.keys()).index(start_key):]\n",
    "count = len(keys_from_start)\n",
    "# values_array = np.empty((0, count), dtype=float)\n",
    "l = []\n",
    "\n",
    "# for key, value in feature_vector.items():\n",
    "for key, value in islice(feature_vector.items(), start_index, None):\n",
    "\n",
    "    # print(\"\\t\", count,key, \":\", value)\n",
    "    l.append(value)\n",
    "l.append(0)\n",
    "values_array = np.array(l).flatten()\n",
    "df = pd.DataFrame(values_array.reshape(1, -1))\n",
    "\n",
    "# Write the DataFrame to a CSV file\n",
    "output_csv = 'values.csv'\n",
    "df.to_csv(output_csv, index=False, header=None)\n",
    "\n",
    "    # count+=1"
   ]
  },
  {
   "cell_type": "code",
   "execution_count": 72,
   "metadata": {},
   "outputs": [
    {
     "data": {
      "text/plain": [
       "array([ 3.12710960e-01,  0.00000000e+00,  0.00000000e+00,  9.66256303e+01,\n",
       "        8.59375000e+01,  3.09375000e+01,  9.03366236e+01,  9.03366236e+01,\n",
       "        1.42972361e+03,  3.02158936e+01,  1.98897922e-01,  3.08571116e+03,\n",
       "        2.15825712e+00,  1.47852783e+03,  6.80000000e+01,  1.32000000e+02,\n",
       "        2.30612200e+07,  2.06084204e+00,  2.90000000e+01,  4.85403420e+00,\n",
       "        1.81000000e+02,  1.98631269e+01,  1.03957043e+02,  1.09000000e+02,\n",
       "       -3.20000000e+01,  2.13000000e+02,  1.25154116e+01,  1.07327028e+02,\n",
       "       -1.09816455e+00,  1.70312965e+07,  3.06707778e-01,  7.12024129e+02,\n",
       "        4.58278585e+01,  6.18828413e+01, -7.63741240e+00,  3.48509003e+00,\n",
       "        8.54486639e-01,  6.05034186e-01,  6.32051268e-01,  1.38065425e+00,\n",
       "        4.51131493e-01,  7.17621156e-01,  7.05943615e-01,  9.91717478e-01,\n",
       "        9.44174205e-01, -1.62218466e-01,  6.81698330e-01,  4.67857735e-01,\n",
       "        6.72086858e+00,  1.31701163e-01,  3.65560887e+00,  6.73921741e-01,\n",
       "        2.92736429e-01,  1.34417372e+01,  2.76661494e+00,  1.08489417e+00,\n",
       "        4.77401404e+00,  2.66377622e+02,  1.33055755e-01,  4.12947093e+00,\n",
       "        6.14028971e+02,  1.20449106e+00,  4.57177822e+01,  2.46093906e+01,\n",
       "        1.16854196e+03,  5.60468580e-01,  2.58511067e-02,  1.34120086e-01,\n",
       "        5.77082501e+00,  4.67519750e-03,  2.74329020e+02,  2.45182710e-01,\n",
       "        1.53456323e+00,  4.46793046e+01,  5.15313447e+00,  2.42586184e+02,\n",
       "        1.21368104e-01,  2.78815189e-02,  3.91778770e+00,  4.74645582e+02,\n",
       "        4.21059156e-01,  5.59315684e-01,  1.91053720e+00,  6.69469485e-01,\n",
       "        2.94163773e+01,  1.98475351e-02,  6.72989324e+01,  2.39497980e-01,\n",
       "        2.59662365e+00,  4.21387900e+01,  1.80584342e+03,  8.84414128e+04,\n",
       "        3.70829172e+01,  3.59432191e-02,  6.81174377e+01,  2.42410810e-01,\n",
       "        5.01076834e-01,  2.08490926e+01,  2.11578139e-02,  4.95008232e+00,\n",
       "        1.40359640e-01,  1.75508413e+03,  2.49270783e+00,  4.27089956e-03,\n",
       "        2.30532723e+01,  1.31569809e-02,  2.20057336e-01])"
      ]
     },
     "execution_count": 72,
     "metadata": {},
     "output_type": "execute_result"
    }
   ],
   "source": [
    "values_array"
   ]
  },
  {
   "cell_type": "code",
   "execution_count": 12,
   "metadata": {},
   "outputs": [],
   "source": [
    "import os\n",
    "import numpy as np\n",
    "import radiomics\n",
    "from radiomics import featureextractor\n",
    "import pydicom\n",
    "from itertools import islice\n",
    "import pandas as pd\n",
    "import SimpleITK as sitk"
   ]
  },
  {
   "cell_type": "code",
   "execution_count": 81,
   "metadata": {},
   "outputs": [],
   "source": [
    "# new Mask generation\n",
    "\n",
    "healthy_path_slice = '../Segment_data/Healthy_pancreas/Pancreas_slice/'\n",
    "healthy_path_mask_old = \"../Segment_data/Healthy_pancreas/Mask/\"\n",
    "mask_new_path = \"../NewMask/\" \n",
    "for i in os.listdir(healthy_path_slice):\n",
    "    dicom_data_slice = pydicom.dcmread(healthy_path_slice+i)\n",
    "    dicom_data_mask = pydicom.dcmread(healthy_path_mask_old + i)\n",
    "\n",
    "    image_position1 = dicom_data_slice.ImagePositionPatient\n",
    "    dicom_data_mask.ImagePositionPatient = image_position1\n",
    "    output_path = mask_new_path + i\n",
    "    dicom_data_mask.save_as(output_path)\n",
    "    \n"
   ]
  },
  {
   "cell_type": "code",
   "execution_count": 13,
   "metadata": {},
   "outputs": [],
   "source": [
    "healthy_path_slice = '../Segment_data/Healthy_pancreas/Pancreas_slice/'\n",
    "healthy_path_mask_old = \"../Segment_data/Healthy_pancreas/Mask/\"\n",
    "mask_new_path = \"../NewMask/\" "
   ]
  },
  {
   "cell_type": "code",
   "execution_count": 10,
   "metadata": {},
   "outputs": [],
   "source": [
    "# extractor = featureextractor.RadiomicsFeatureExtractor()\n",
    "params = {\n",
    "    'correctMask': True  # Enable resampling of the mask\n",
    "}\n",
    "\n",
    "extractor = featureextractor.RadiomicsFeatureExtractor(**params)\n",
    "extractor.enableAllFeatures()  # Enable all available features"
   ]
  },
  {
   "cell_type": "code",
   "execution_count": 14,
   "metadata": {},
   "outputs": [
    {
     "name": "stdout",
     "output_type": "stream",
     "text": [
      "pancreas_healthy_0001.dcm\n"
     ]
    },
    {
     "name": "stderr",
     "output_type": "stream",
     "text": [
      "parameter force2D must be set to True to enable shape2D extraction\n",
      "GLCM is symmetrical, therefore Sum Average = 2 * Joint Average, only 1 needs to be calculated\n"
     ]
    },
    {
     "name": "stdout",
     "output_type": "stream",
     "text": [
      "[0.75568220820488, 0.0, 0.0, 324.4345499678873, array(289.609375), array(190.78125), array(347.29915825), array(347.29915825), array(17.84769694), 245.16941713768955, array(0.16173211), array(204.20952465), array(11.44178576), 105.609130859375, array(1.), array(1.), array(143.), array(-3.2034265e-16), array(0.), array(0.), array(1.), array(0.), array(1.), array(1.), array(1.), array(0.), array(0.), array(1.), array(0.), array(105.60913086), array(1.), array(0.), array(1.), array(0.), array(0.), array(0.), array(0.), array(1.), array(0.), array(-3.2034265e-16), array(0.), array(1.), array(1.), array(1.), array(1.), array(0.), array(0.), array(0.), array(1.), array(1.), array(-3.2034265e-16), array(1), array(1.), array(2.), array(-3.2034265e-16), array(0.), array(0.10618784), array(139.05594406), array(0.97241919), array(0.01379041), array(143.), array(0.), array(1.), array(1.04195804), array(1.04195804), array(1.04195804), array(1.), array(0.98951049), array(0.98951049), array(0.98951049), array(142.75), array(1.), array(0.), array(1.), array(1.00528169), array(1.00528169), array(1.00528169), array(1.), array(0.01511857), array(142.25352113), array(0.99650367), array(0.99825175), array(0.00174817), array(0.99867958), array(0.99867958), array(0.99867958), array(142.), array(1.), array(0.), array(1.), array(1.02112676), array(1.02112676), array(1.02112676), array(1.), array(140.01408451), array(0.98601468), array(0.99471831), array(0.99471831), array(0.99471831), array(0.0604743), array(0.99300699), array(0.00699266), array(0.), array(1000000.), array(0.), array(0.), array(0.), 0]\n",
      "pancreas_healthy_0002.dcm\n"
     ]
    },
    {
     "name": "stderr",
     "output_type": "stream",
     "text": [
      "parameter force2D must be set to True to enable shape2D extraction\n",
      "GLCM is symmetrical, therefore Sum Average = 2 * Joint Average, only 1 needs to be calculated\n"
     ]
    },
    {
     "name": "stdout",
     "output_type": "stream",
     "text": [
      "[0.7382347150164199, 0.0, 0.0, 395.4161352797306, array(287.5), array(252.4609375), array(389.1572464), array(389.1572464), array(16.27833049), 291.909917941126, array(0.17180675), array(180.79391182), array(11.1064161), 96.05560302734375, array(1.), array(1.), array(119.), array(-3.2034265e-16), array(0.), array(0.), array(1.), array(0.), array(1.), array(1.), array(1.), array(0.), array(0.), array(1.), array(0.), array(96.05560303), array(1.), array(0.), array(1.), array(0.), array(0.), array(0.), array(0.), array(1.), array(0.), array(-3.2034265e-16), array(0.), array(1.), array(1.), array(1.), array(1.), array(0.), array(0.), array(0.), array(1.), array(1.), array(-3.2034265e-16), array(1), array(1.), array(2.), array(-3.2034265e-16), array(0.), array(0.4162348), array(100.68067227), array(0.84605607), array(0.07697197), array(119.), array(0.), array(1.), array(1.25210084), array(1.25210084), array(1.25210084), array(1.), array(0.93697479), array(0.93697479), array(0.93697479), array(117.75), array(1.), array(0.), array(1.), array(1.03210842), array(1.03210842), array(1.03210842), array(1.), array(0.07854977), array(115.29726768), array(0.97900063), array(0.9894958), array(0.01049968), array(0.9919729), array(0.9919729), array(0.9919729), array(114.), array(1.), array(0.), array(1.), array(1.13157895), array(1.13157895), array(1.13157895), array(1.), array(104.43859649), array(0.91612804), array(0.96710526), array(0.96710526), array(0.96710526), array(0.25971693), array(0.95798319), array(0.04193598), array(0.), array(1000000.), array(0.), array(0.), array(0.), 0]\n",
      "pancreas_healthy_0003.dcm\n"
     ]
    },
    {
     "name": "stderr",
     "output_type": "stream",
     "text": [
      "parameter force2D must be set to True to enable shape2D extraction\n",
      "GLCM is symmetrical, therefore Sum Average = 2 * Joint Average, only 1 needs to be calculated\n"
     ]
    },
    {
     "name": "stdout",
     "output_type": "stream",
     "text": [
      "[0.7207935899259846, 0.0, 0.0, 329.54834119146915, array(262.96875), array(205.1953125), array(316.50782031), array(316.50782031), array(14.44206238), 237.53633190155227, array(0.15250688), array(188.05325011), array(13.02121852), 77.17132568359375, array(1.), array(1.), array(175.), array(-3.2034265e-16), array(0.), array(0.), array(1.), array(0.), array(1.), array(1.), array(1.), array(0.), array(0.), array(1.), array(0.), array(77.17132568), array(1.), array(0.), array(1.), array(0.), array(0.), array(0.), array(0.), array(1.), array(0.), array(-3.2034265e-16), array(0.), array(1.), array(1.), array(1.), array(1.), array(0.), array(0.), array(0.), array(1.), array(1.), array(-3.2034265e-16), array(1), array(1.), array(2.), array(-3.2034265e-16), array(0.), array(0.7542448), array(126.45142857), array(0.72257959), array(0.2251102), array(175.), array(0.), array(1.), array(1.65142857), array(1.65142857), array(1.65142857), array(1.), array(0.8752381), array(0.8752381), array(0.8752381), array(170.75), array(1.), array(0.), array(1.), array(1.08361952), array(1.08361952), array(1.08361952), array(1.), array(0.15063674), array(163.90289017), array(0.95977359), array(0.97571429), array(0.03303932), array(0.98396875), array(0.98396875), array(0.98396875), array(159.), array(1.), array(0.), array(1.), array(1.35220126), array(1.35220126), array(1.35220126), array(1.), array(136.40880503), array(0.85791701), array(0.93990217), array(0.93990217), array(0.93990217), array(0.45532425), array(0.90857143), array(0.14081721), array(0.), array(1000000.), array(0.), array(0.), array(0.), 0]\n",
      "pancreas_healthy_0004.dcm\n"
     ]
    },
    {
     "name": "stderr",
     "output_type": "stream",
     "text": [
      "parameter force2D must be set to True to enable shape2D extraction\n",
      "GLCM is symmetrical, therefore Sum Average = 2 * Joint Average, only 1 needs to be calculated\n"
     ]
    },
    {
     "name": "stdout",
     "output_type": "stream",
     "text": [
      "[0.8999152505384811, 0.0, 0.0, 419.95315215477154, array(363.8671875), array(417.7734375), array(445.75539927), array(445.75539927), array(57.98314412), 377.9222461357861, array(0.11382069), array(636.4985732), array(10.97730354), 334.98382568359375, array(1.), array(1.), array(415.), array(-3.2034265e-16), array(0.), array(0.), array(1.), array(0.), array(1.), array(1.), array(1.), array(0.), array(0.), array(1.), array(0.), array(334.98382568), array(1.), array(0.), array(1.), array(0.), array(0.), array(0.), array(0.), array(1.), array(0.), array(-3.2034265e-16), array(0.), array(1.), array(1.), array(1.), array(1.), array(0.), array(0.), array(0.), array(1.), array(1.), array(-3.2034265e-16), array(1), array(1.), array(2.), array(-3.2034265e-16), array(0.), array(0.40893544), array(352.57108434), array(0.84956888), array(0.07521556), array(415.), array(0.), array(1.), array(1.24578313), array(1.24578313), array(1.24578313), array(1.), array(0.93855422), array(0.93855422), array(0.93855422), array(410.75), array(1.), array(0.), array(1.), array(1.03107112), array(1.03107112), array(1.03107112), array(1.), array(0.08243345), array(402.34634225), array(0.97952091), array(0.98975904), array(0.01023955), array(0.99223222), array(0.99223222), array(0.99223222), array(398.), array(1.), array(0.), array(1.), array(1.1281407), array(1.1281407), array(1.1281407), array(1.), array(365.45226131), array(0.91822176), array(0.96796482), array(0.96796482), array(0.96796482), array(0.25459837), array(0.95903614), array(0.04088912), array(0.), array(1000000.), array(0.), array(0.), array(0.), 0]\n",
      "pancreas_healthy_0005.dcm\n"
     ]
    },
    {
     "name": "stderr",
     "output_type": "stream",
     "text": [
      "parameter force2D must be set to True to enable shape2D extraction\n",
      "GLCM is symmetrical, therefore Sum Average = 2 * Joint Average, only 1 needs to be calculated\n"
     ]
    },
    {
     "name": "stdout",
     "output_type": "stream",
     "text": [
      "[0.8929314052623517, 0.0, 0.0, 356.00507138674453, array(345.774), array(268.554), array(358.15719593), array(358.15719593), array(24.293412), 317.8881086738897, array(0.14749494), array(275.02109748), array(11.32080983), 141.34348799999998, array(1.), array(1.), array(192.), array(-3.2034265e-16), array(0.), array(0.), array(1.), array(0.), array(1.), array(1.), array(1.), array(0.), array(0.), array(1.), array(0.), array(141.343488), array(1.), array(0.), array(1.), array(0.), array(0.), array(0.), array(0.), array(1.), array(0.), array(-3.2034265e-16), array(0.), array(1.), array(1.), array(1.), array(1.), array(0.), array(0.), array(0.), array(1.), array(1.), array(-3.2034265e-16), array(1), array(1.), array(2.), array(-3.2034265e-16), array(0.), array(0.33729007), array(169.5), array(0.8828125), array(0.05859375), array(192.), array(0.), array(1.), array(1.1875), array(1.1875), array(1.1875), array(1.), array(0.953125), array(0.953125), array(0.953125), array(190.5), array(1.), array(0.), array(1.), array(1.0237262), array(1.0237262), array(1.0237262), array(1.), array(0.06226577), array(187.53695364), array(0.98437762), array(0.9921875), array(0.00781119), array(0.99406845), array(0.99406845), array(0.99406845), array(186.), array(1.), array(0.), array(1.), array(1.09677419), array(1.09677419), array(1.09677419), array(1.), array(174.38709677), array(0.93756504), array(0.97580645), array(0.97580645), array(0.97580645), array(0.20559251), array(0.96875), array(0.03121748), array(0.), array(1000000.), array(0.), array(0.), array(0.), 0]\n",
      "pancreas_healthy_0006.dcm\n"
     ]
    },
    {
     "name": "stderr",
     "output_type": "stream",
     "text": [
      "parameter force2D must be set to True to enable shape2D extraction\n",
      "GLCM is symmetrical, therefore Sum Average = 2 * Joint Average, only 1 needs to be calculated\n"
     ]
    },
    {
     "name": "stdout",
     "output_type": "stream",
     "text": [
      "[0.8070897115362942, 0.0, 0.0, 374.70289101598735, array(330.), array(225.9375), array(407.52683961), array(407.52683961), array(26.80664062), 302.41884822190866, array(0.15183298), array(285.28544457), array(10.64234227), 155.56640625, array(1.), array(1.), array(177.), array(-3.2034265e-16), array(0.), array(0.), array(1.), array(0.), array(1.), array(1.), array(1.), array(0.), array(0.), array(1.), array(0.), array(155.56640625), array(1.), array(0.), array(1.), array(0.), array(0.), array(0.), array(0.), array(1.), array(0.), array(-3.2034265e-16), array(0.), array(1.), array(1.), array(1.), array(1.), array(0.), array(0.), array(0.), array(1.), array(1.), array(-3.2034265e-16), array(1), array(1.), array(2.), array(-3.2034265e-16), array(0.), array(0.26563592), array(161.72316384), array(0.91369019), array(0.0431549), array(177.), array(0.), array(1.), array(1.13559322), array(1.13559322), array(1.13559322), array(1.), array(0.96610169), array(0.96610169), array(0.96610169), array(176.), array(1.), array(0.), array(1.), array(1.01709416), array(1.01709416), array(1.01709416), array(1.), array(0.04780884), array(174.01711039), array(0.98870149), array(0.99435028), array(0.00564926), array(0.99572646), array(0.99572646), array(0.99572646), array(173.), array(1.), array(0.), array(1.), array(1.06936416), array(1.06936416), array(1.06936416), array(1.), array(165.1849711), array(0.95482642), array(0.98265896), array(0.98265896), array(0.98265896), array(0.15862462), array(0.97740113), array(0.02258679), array(0.), array(1000000.), array(0.), array(0.), array(0.), 0]\n",
      "pancreas_healthy_0007.dcm\n"
     ]
    },
    {
     "name": "stderr",
     "output_type": "stream",
     "text": [
      "parameter force2D must be set to True to enable shape2D extraction\n",
      "GLCM is symmetrical, therefore Sum Average = 2 * Joint Average, only 1 needs to be calculated\n"
     ]
    },
    {
     "name": "stdout",
     "output_type": "stream",
     "text": [
      "[0.8408483343243277, 0.0, 0.0, 304.81756535820807, array(273.75), array(181.875), array(337.76291842), array(337.76291842), array(29.66308594), 256.30534210424617, array(0.15193165), array(305.00953524), array(10.28246137), 164.35546875, array(1.), array(1.), array(187.), array(-3.2034265e-16), array(0.), array(0.), array(1.), array(0.), array(1.), array(1.), array(1.), array(0.), array(0.), array(1.), array(0.), array(164.35546875), array(1.), array(0.), array(1.), array(0.), array(0.), array(0.), array(0.), array(1.), array(0.), array(-3.2034265e-16), array(0.), array(1.), array(1.), array(1.), array(1.), array(0.), array(0.), array(0.), array(1.), array(1.), array(-3.2034265e-16), array(1), array(1.), array(2.), array(-3.2034265e-16), array(0.), array(0.46084112), array(159.02139037), array(0.85038177), array(0.1190769), array(187.), array(0.), array(1.), array(1.32085561), array(1.32085561), array(1.32085561), array(1.), array(0.93761141), array(0.93761141), array(0.93761141), array(184.75), array(1.), array(0.), array(1.), array(1.03682061), array(1.03682061), array(1.03682061), array(1.), array(0.08844927), array(180.34030294), array(0.97594717), array(0.98796791), array(0.01202642), array(0.99079485), array(0.99079485), array(0.99079485), array(179.), array(1.), array(0.), array(1.), array(1.1452514), array(1.1452514), array(1.1452514), array(1.), array(165.48044693), array(0.92447177), array(0.96989448), array(0.96989448), array(0.96989448), array(0.26131682), array(0.95721925), array(0.05386848), array(0.), array(1000000.), array(0.), array(0.), array(0.), 0]\n",
      "pancreas_healthy_0008.dcm\n"
     ]
    },
    {
     "name": "stderr",
     "output_type": "stream",
     "text": [
      "parameter force2D must be set to True to enable shape2D extraction\n",
      "GLCM is symmetrical, therefore Sum Average = 2 * Joint Average, only 1 needs to be calculated\n"
     ]
    },
    {
     "name": "stdout",
     "output_type": "stream",
     "text": [
      "[0.8611606817535372, 0.0, 0.0, 316.0316627489567, array(348.5), array(254.2), array(349.36715644), array(349.36715644), array(22.6935), 272.1540421485955, array(0.14912426), array(259.9382177), array(11.45430267), 127.08359999999998, array(1.), array(1.), array(189.), array(-3.2034265e-16), array(0.), array(0.), array(1.), array(0.), array(1.), array(1.), array(1.), array(0.), array(0.), array(1.), array(0.), array(127.0836), array(1.), array(0.), array(1.), array(0.), array(0.), array(0.), array(0.), array(1.), array(0.), array(-3.2034265e-16), array(0.), array(1.), array(1.), array(1.), array(1.), array(0.), array(0.), array(0.), array(1.), array(1.), array(-3.2034265e-16), array(1), array(1.), array(2.), array(-3.2034265e-16), array(0.), array(0.56628743), array(152.67195767), array(0.80778814), array(0.16376921), array(189.), array(0.), array(1.), array(1.43386243), array(1.43386243), array(1.43386243), array(1.), array(0.91817313), array(0.91817313), array(0.91817313), array(186.), array(1.), array(0.), array(1.), array(1.05113386), array(1.05113386), array(1.05113386), array(1.), array(0.11453086), array(180.5780012), array(0.97083487), array(0.98412698), array(0.01857088), array(0.98871804), array(0.98871804), array(0.98871804), array(178.), array(1.), array(0.), array(1.), array(1.21910112), array(1.21910112), array(1.21910112), array(1.), array(160.82022472), array(0.90348441), array(0.96102528), array(0.96102528), array(0.96102528), array(0.3142243), array(0.94179894), array(0.09168666), array(0.), array(1000000.), array(0.), array(0.), array(0.), 0]\n",
      "pancreas_healthy_0009.dcm\n"
     ]
    },
    {
     "name": "stderr",
     "output_type": "stream",
     "text": [
      "parameter force2D must be set to True to enable shape2D extraction\n",
      "GLCM is symmetrical, therefore Sum Average = 2 * Joint Average, only 1 needs to be calculated\n"
     ]
    },
    {
     "name": "stdout",
     "output_type": "stream",
     "text": [
      "[0.6957653842397611, 0.0, 0.0, 342.4207716522798, array(190.476), array(169.884), array(361.03759153), array(361.03759153), array(11.65593), 238.24451976032398, array(0.20120749), array(123.5581128), array(10.60045083), 61.101611999999996, array(1.), array(1.), array(83.), array(-3.2034265e-16), array(0.), array(0.), array(1.), array(0.), array(1.), array(1.), array(1.), array(0.), array(0.), array(1.), array(0.), array(61.101612), array(1.), array(0.), array(1.), array(0.), array(0.), array(0.), array(0.), array(1.), array(0.), array(-3.2034265e-16), array(0.), array(1.), array(1.), array(1.), array(1.), array(0.), array(0.), array(0.), array(1.), array(1.), array(-3.2034265e-16), array(1), array(1.), array(2.), array(-3.2034265e-16), array(0.), array(0.70723249), array(57.1686747), array(0.68877921), array(0.15561039), array(83.), array(0.), array(1.), array(1.57831325), array(1.57831325), array(1.57831325), array(1.), array(0.85542169), array(0.85542169), array(0.85542169), array(81.), array(1.), array(0.), array(1.), array(1.07454268), array(1.07454268), array(1.07454268), array(1.), array(0.1628636), array(77.12469512), array(0.95185985), array(0.97590361), array(0.02407008), array(0.98136433), array(0.98136433), array(0.98136433), array(75.), array(1.), array(0.), array(1.), array(1.32), array(1.32), array(1.32), array(1.), array(60.70666667), array(0.80942222), array(0.92), array(0.92), array(0.92), array(0.48977901), array(0.90361446), array(0.09528889), array(0.), array(1000000.), array(0.), array(0.), array(0.), 0]\n",
      "pancreas_healthy_0010.dcm\n"
     ]
    },
    {
     "name": "stderr",
     "output_type": "stream",
     "text": [
      "parameter force2D must be set to True to enable shape2D extraction\n",
      "GLCM is symmetrical, therefore Sum Average = 2 * Joint Average, only 1 needs to be calculated\n"
     ]
    },
    {
     "name": "stdout",
     "output_type": "stream",
     "text": [
      "[0.9120163841804844, 0.0, 0.0, 380.83288375418397, array(293.1640625), array(359.03320312), array(418.02232631), array(418.02232631), array(22.80831337), 347.32582961851756, array(0.1586599), array(245.13898639), array(10.74779105), 133.4071159362793, array(1.), array(1.), array(155.), array(-3.2034265e-16), array(0.), array(0.), array(1.), array(0.), array(1.), array(1.), array(1.), array(0.), array(0.), array(1.), array(0.), array(133.40711594), array(1.), array(0.), array(1.), array(0.), array(0.), array(0.), array(0.), array(1.), array(0.), array(-3.2034265e-16), array(0.), array(1.), array(1.), array(1.), array(1.), array(0.), array(0.), array(0.), array(1.), array(1.), array(-3.2034265e-16), array(1), array(1.), array(2.), array(-3.2034265e-16), array(0.), array(0.2363445), array(143.46451613), array(0.92557752), array(0.03721124), array(155.), array(0.), array(1.), array(1.11612903), array(1.11612903), array(1.11612903), array(1.), array(0.97096774), array(0.97096774), array(0.97096774), array(154.25), array(1.), array(0.), array(1.), array(1.01467405), array(1.01467405), array(1.01467405), array(1.), array(0.03926387), array(152.76631865), array(0.99032382), array(0.99516129), array(0.00483809), array(0.99633149), array(0.99633149), array(0.99633149), array(152.), array(1.), array(0.), array(1.), array(1.05921053), array(1.05921053), array(1.05921053), array(1.), array(146.11842105), array(0.9613054), array(0.98519737), array(0.98519737), array(0.98519737), array(0.13996043), array(0.98064516), array(0.0193473), array(0.), array(1000000.), array(0.), array(0.), array(0.), 0]\n",
      "pancreas_healthy_0011.dcm\n"
     ]
    },
    {
     "name": "stderr",
     "output_type": "stream",
     "text": [
      "parameter force2D must be set to True to enable shape2D extraction\n",
      "GLCM is symmetrical, therefore Sum Average = 2 * Joint Average, only 1 needs to be calculated\n"
     ]
    },
    {
     "name": "stdout",
     "output_type": "stream",
     "text": [
      "[0.9034155936663978, 0.0, 0.0, 332.681160965228, array(310.40625), array(250.8515625), array(327.39662566), array(327.39662566), array(16.4201889), 300.5493485350279, array(0.17667583), array(176.8312811), array(10.76913805), 93.63578796386719, array(1.), array(1.), array(115.), array(-3.2034265e-16), array(0.), array(0.), array(1.), array(0.), array(1.), array(1.), array(1.), array(0.), array(0.), array(1.), array(0.), array(93.63578796), array(1.), array(0.), array(1.), array(0.), array(0.), array(0.), array(0.), array(1.), array(0.), array(-3.2034265e-16), array(0.), array(1.), array(1.), array(1.), array(1.), array(0.), array(0.), array(0.), array(1.), array(1.), array(-3.2034265e-16), array(1), array(1.), array(2.), array(-3.2034265e-16), array(0.), array(0.36429903), array(100.11304348), array(0.8705482), array(0.0647259), array(115.), array(0.), array(1.), array(1.20869565), array(1.20869565), array(1.20869565), array(1.), array(0.94782609), array(0.94782609), array(0.94782609), array(114.), array(1.), array(0.), array(1.), array(1.02643223), array(1.02643223), array(1.02643223), array(1.), array(0.06834837), array(112.02647104), array(0.98261209), array(0.99130435), array(0.00869396), array(0.99339194), array(0.99339194), array(0.99339194), array(111.), array(1.), array(0.), array(1.), array(1.10810811), array(1.10810811), array(1.10810811), array(1.), array(103.28828829), array(0.93052512), array(0.97297297), array(0.97297297), array(0.97297297), array(0.22381256), array(0.96521739), array(0.03473744), array(0.), array(1000000.), array(0.), array(0.), array(0.), 0]\n",
      "pancreas_healthy_0012.dcm\n"
     ]
    },
    {
     "name": "stderr",
     "output_type": "stream",
     "text": [
      "parameter force2D must be set to True to enable shape2D extraction\n",
      "GLCM is symmetrical, therefore Sum Average = 2 * Joint Average, only 1 needs to be calculated\n"
     ]
    },
    {
     "name": "stdout",
     "output_type": "stream",
     "text": [
      "[0.8846572494421799, 0.0, 0.0, 333.9319952822675, array(308.59375), array(264.6484375), array(410.6047585), array(410.6047585), array(21.77556356), 295.4153604471498, array(0.16736239), array(225.32316744), array(10.34752404), 126.83868408203125, array(1.), array(1.), array(133.), array(-3.2034265e-16), array(0.), array(0.), array(1.), array(0.), array(1.), array(1.), array(1.), array(0.), array(0.), array(1.), array(0.), array(126.83868408), array(1.), array(0.), array(1.), array(0.), array(0.), array(0.), array(0.), array(1.), array(0.), array(-3.2034265e-16), array(0.), array(1.), array(1.), array(1.), array(1.), array(0.), array(0.), array(0.), array(1.), array(1.), array(-3.2034265e-16), array(1), array(1.), array(2.), array(-3.2034265e-16), array(0.), array(0.26526191), array(121.54135338), array(0.91384476), array(0.04307762), array(133.), array(0.), array(1.), array(1.13533835), array(1.13533835), array(1.13533835), array(1.), array(0.96616541), array(0.96616541), array(0.96616541), array(132.25), array(1.), array(0.), array(1.), array(1.0171322), array(1.0171322), array(1.0171322), array(1.), array(0.04455621), array(130.76905505), array(0.98872377), array(0.9943609), array(0.00563811), array(0.99571695), array(0.99571695), array(0.99571695), array(130.), array(1.), array(0.), array(1.), array(1.06923077), array(1.06923077), array(1.06923077), array(1.), array(124.13846154), array(0.95491124), array(0.98269231), array(0.98269231), array(0.98269231), array(0.15838441), array(0.97744361), array(0.02254438), array(0.), array(1000000.), array(0.), array(0.), array(0.), 0]\n",
      "pancreas_healthy_0013.dcm\n"
     ]
    },
    {
     "name": "stderr",
     "output_type": "stream",
     "text": [
      "parameter force2D must be set to True to enable shape2D extraction\n",
      "GLCM is symmetrical, therefore Sum Average = 2 * Joint Average, only 1 needs to be calculated\n"
     ]
    },
    {
     "name": "stdout",
     "output_type": "stream",
     "text": [
      "[0.8939896552291976, 0.0, 0.0, 287.369572842911, array(227.109375), array(225.625), array(337.6455578), array(337.6455578), array(14.96454875), 256.9054253491958, array(0.16050143), array(182.97045087), array(12.22692738), 83.17718505859375, array(1.), array(1.), array(151.), array(-3.2034265e-16), array(0.), array(0.), array(1.), array(0.), array(1.), array(1.), array(1.), array(0.), array(0.), array(1.), array(0.), array(83.17718506), array(1.), array(0.), array(1.), array(0.), array(0.), array(0.), array(0.), array(1.), array(0.), array(-3.2034265e-16), array(0.), array(1.), array(1.), array(1.), array(1.), array(0.), array(0.), array(0.), array(1.), array(1.), array(-3.2034265e-16), array(1), array(1.), array(2.), array(-3.2034265e-16), array(0.), array(0.44546855), array(125.59602649), array(0.83176176), array(0.08411912), array(151.), array(0.), array(1.), array(1.2781457), array(1.2781457), array(1.2781457), array(1.), array(0.93046358), array(0.93046358), array(0.93046358), array(149.25), array(1.), array(0.), array(1.), array(1.03568493), array(1.03568493), array(1.03568493), array(1.), array(0.08270406), array(145.84228311), array(0.9768409), array(0.9884106), array(0.01157955), array(0.99107877), array(0.99107877), array(0.99107877), array(144.), array(1.), array(0.), array(1.), array(1.14583333), array(1.14583333), array(1.14583333), array(1.), array(130.68055556), array(0.90750386), array(0.96354167), array(0.96354167), array(0.96354167), array(0.2804675), array(0.95364238), array(0.04624807), array(0.), array(1000000.), array(0.), array(0.), array(0.), 0]\n",
      "pancreas_healthy_0014.dcm\n"
     ]
    },
    {
     "name": "stderr",
     "output_type": "stream",
     "text": [
      "parameter force2D must be set to True to enable shape2D extraction\n",
      "GLCM is symmetrical, therefore Sum Average = 2 * Joint Average, only 1 needs to be calculated\n"
     ]
    },
    {
     "name": "stdout",
     "output_type": "stream",
     "text": [
      "[0.7020511030074915, 0.0, 0.0, 410.1741501265506, array(375.), array(290.625), array(441.04069487), array(441.04069487), array(49.8046875), 287.9632145215053, array(0.12332856), array(530.80368614), array(10.65770538), 288.28125, array(1.), array(1.), array(328.), array(-3.2034265e-16), array(0.), array(0.), array(1.), array(0.), array(1.), array(1.), array(1.), array(0.), array(0.), array(1.), array(0.), array(288.28125), array(1.), array(0.), array(1.), array(0.), array(0.), array(0.), array(0.), array(1.), array(0.), array(-3.2034265e-16), array(0.), array(1.), array(1.), array(1.), array(1.), array(0.), array(0.), array(0.), array(1.), array(1.), array(-3.2034265e-16), array(1), array(1.), array(2.), array(-3.2034265e-16), array(0.), array(0.38447136), array(285.09146341), array(0.86918129), array(0.07391434), array(328.), array(0.), array(1.), array(1.22560976), array(1.22560976), array(1.22560976), array(1.), array(0.94698509), array(0.94698509), array(0.94698509), array(325.), array(1.), array(0.), array(1.), array(1.02925471), array(1.02925471), array(1.02925471), array(1.), array(0.06896924), array(319.55705143), array(0.98322903), array(0.99085366), array(0.01067904), array(0.9935384), array(0.9935384), array(0.9935384), array(316.), array(1.), array(0.), array(1.), array(1.12025316), array(1.12025316), array(1.12025316), array(1.), array(294.70253165), array(0.93260295), array(0.97345288), array(0.97345288), array(0.97345288), array(0.23326734), array(0.96341463), array(0.04286172), array(0.), array(1000000.), array(0.), array(0.), array(0.), 0]\n",
      "pancreas_healthy_0015.dcm\n"
     ]
    },
    {
     "name": "stderr",
     "output_type": "stream",
     "text": [
      "parameter force2D must be set to True to enable shape2D extraction\n",
      "GLCM is symmetrical, therefore Sum Average = 2 * Joint Average, only 1 needs to be calculated\n"
     ]
    },
    {
     "name": "stdout",
     "output_type": "stream",
     "text": [
      "[0.7949978087615904, 0.0, 0.0, 340.1490493615468, array(267.96875), array(303.90625), array(346.66818863), array(346.66818863), array(18.71744792), 270.4177488947678, array(0.1475332), array(231.07809681), array(12.34559849), 111.083984375, array(1.), array(1.), array(182.), array(-3.2034265e-16), array(0.), array(0.), array(1.), array(0.), array(1.), array(1.), array(1.), array(0.), array(0.), array(1.), array(0.), array(111.08398438), array(1.), array(0.), array(1.), array(0.), array(0.), array(0.), array(0.), array(1.), array(0.), array(-3.2034265e-16), array(0.), array(1.), array(1.), array(1.), array(1.), array(0.), array(0.), array(0.), array(1.), array(1.), array(-3.2034265e-16), array(1), array(1.), array(2.), array(-3.2034265e-16), array(0.), array(0.20905981), array(170.3956044), array(0.93623958), array(0.03188021), array(182.), array(0.), array(1.), array(1.0989011), array(1.0989011), array(1.0989011), array(1.), array(0.97527473), array(0.97527473), array(0.97527473), array(181.25), array(1.), array(0.), array(1.), array(1.01243094), array(1.01243094), array(1.01243094), array(1.), array(0.03703818), array(179.75828729), array(0.99175849), array(0.99587912), array(0.00412075), array(0.99689227), array(0.99689227), array(0.99689227), array(179.), array(1.), array(0.), array(1.), array(1.05027933), array(1.05027933), array(1.05027933), array(1.), array(173.10055866), array(0.96704223), array(0.98743017), array(0.98743017), array(0.98743017), array(0.12283895), array(0.98351648), array(0.01647889), array(0.), array(1000000.), array(0.), array(0.), array(0.), 0]\n",
      "pancreas_healthy_0016.dcm\n"
     ]
    },
    {
     "name": "stderr",
     "output_type": "stream",
     "text": [
      "parameter force2D must be set to True to enable shape2D extraction\n",
      "GLCM is symmetrical, therefore Sum Average = 2 * Joint Average, only 1 needs to be calculated\n"
     ]
    },
    {
     "name": "stdout",
     "output_type": "stream",
     "text": [
      "[0.8542368858016861, 0.0, 0.0, 285.3269073283688, array(301.5625), array(240.625), array(402.83798528), array(402.83798528), array(65.76538086), 243.73676875161203, array(0.1051821), array(749.10125517), array(11.39051041), 348.5107421875, array(1.), array(1.), array(571.), array(-3.2034265e-16), array(0.), array(0.), array(1.), array(0.), array(1.), array(1.), array(1.), array(0.), array(0.), array(1.), array(0.), array(348.51074219), array(1.), array(0.), array(1.), array(0.), array(0.), array(0.), array(0.), array(1.), array(0.), array(-3.2034265e-16), array(0.), array(1.), array(1.), array(1.), array(1.), array(0.), array(0.), array(0.), array(1.), array(1.), array(-3.2034265e-16), array(1), array(1.), array(2.), array(-3.2034265e-16), array(0.), array(0.76151004), array(420.04378284), array(0.73562834), array(0.27676274), array(571.), array(0.), array(1.), array(1.70753065), array(1.70753065), array(1.70753065), array(1.), array(0.88175618), array(0.88175618), array(0.88175618), array(557.), array(1.), array(0.), array(1.), array(1.08270415), array(1.08270415), array(1.08270415), array(1.), array(0.16234329), array(533.48524664), array(0.95771502), array(0.97548161), array(0.03168655), array(0.98331643), array(0.98331643), array(0.98331643), array(520.), array(1.), array(0.), array(1.), array(1.38269231), array(1.38269231), array(1.38269231), array(1.), array(453.59615385), array(0.8723003), array(0.94621421), array(0.94621421), array(0.94621421), array(0.43942175), array(0.91068301), array(0.17691938), array(0.), array(1000000.), array(0.), array(0.), array(0.), 0]\n",
      "pancreas_healthy_0017.dcm\n"
     ]
    },
    {
     "name": "stderr",
     "output_type": "stream",
     "text": [
      "parameter force2D must be set to True to enable shape2D extraction\n",
      "GLCM is symmetrical, therefore Sum Average = 2 * Joint Average, only 1 needs to be calculated\n"
     ]
    },
    {
     "name": "stdout",
     "output_type": "stream",
     "text": [
      "[0.7246346016777812, 0.0, 0.0, 360.7354255633748, array(319.53125), array(268.75), array(391.15744962), array(391.15744962), array(28.7882487), 261.40137141418097, array(0.13045926), array(348.19247836), array(12.09495173), 166.6259765625, array(1.), array(1.), array(273.), array(-3.2034265e-16), array(0.), array(0.), array(1.), array(0.), array(1.), array(1.), array(1.), array(0.), array(0.), array(1.), array(0.), array(166.62597656), array(1.), array(0.), array(1.), array(0.), array(0.), array(0.), array(0.), array(1.), array(0.), array(-3.2034265e-16), array(0.), array(1.), array(1.), array(1.), array(1.), array(0.), array(0.), array(0.), array(1.), array(1.), array(-3.2034265e-16), array(1), array(1.), array(2.), array(-3.2034265e-16), array(0.), array(0.32189447), array(242.87545788), array(0.88965369), array(0.05517315), array(273.), array(0.), array(1.), array(1.17582418), array(1.17582418), array(1.17582418), array(1.), array(0.95604396), array(0.95604396), array(0.95604396), array(271.), array(1.), array(0.), array(1.), array(1.02220172), array(1.02220172), array(1.02220172), array(1.), array(0.05975478), array(267.04071341), array(0.98534954), array(0.99267399), array(0.00732523), array(0.99444957), array(0.99444957), array(0.99444957), array(265.), array(1.), array(0.), array(1.), array(1.09056604), array(1.09056604), array(1.09056604), array(1.), array(249.48301887), array(0.94144535), array(0.97735849), array(0.97735849), array(0.97735849), array(0.19533719), array(0.97069597), array(0.02927732), array(0.), array(1000000.), array(0.), array(0.), array(0.), 0]\n",
      "pancreas_healthy_0018.dcm\n"
     ]
    },
    {
     "name": "stderr",
     "output_type": "stream",
     "text": [
      "parameter force2D must be set to True to enable shape2D extraction\n",
      "GLCM is symmetrical, therefore Sum Average = 2 * Joint Average, only 1 needs to be calculated\n"
     ]
    },
    {
     "name": "stdout",
     "output_type": "stream",
     "text": [
      "[0.8751759784989026, 0.0, 0.0, 405.238744388538, array(378.90625), array(300.78125), array(411.32761492), array(411.32761492), array(40.21326701), 354.65521464590546, array(0.13561921), array(418.54533111), array(10.40814045), 235.55755615234375, array(1.), array(1.), array(247.), array(-3.2034265e-16), array(0.), array(0.), array(1.), array(0.), array(1.), array(1.), array(1.), array(0.), array(0.), array(1.), array(0.), array(235.55755615), array(1.), array(0.), array(1.), array(0.), array(0.), array(0.), array(0.), array(1.), array(0.), array(-3.2034265e-16), array(0.), array(1.), array(1.), array(1.), array(1.), array(0.), array(0.), array(0.), array(1.), array(1.), array(-3.2034265e-16), array(1), array(1.), array(2.), array(-3.2034265e-16), array(0.), array(0.28034686), array(224.1659919), array(0.90755462), array(0.04622269), array(247.), array(0.), array(1.), array(1.14574899), array(1.14574899), array(1.14574899), array(1.), array(0.96356275), array(0.96356275), array(0.96356275), array(245.5), array(1.), array(0.), array(1.), array(1.01839254), array(1.01839254), array(1.01839254), array(1.), array(0.05053605), array(242.52863841), array(0.98785547), array(0.99392713), array(0.00607226), array(0.99540186), array(0.99540186), array(0.99540186), array(241.), array(1.), array(0.), array(1.), array(1.0746888), array(1.0746888), array(1.0746888), array(1.), array(229.29875519), array(0.95144712), array(0.9813278), array(0.9813278), array(0.9813278), array(0.16811233), array(0.9757085), array(0.02427644), array(0.), array(1000000.), array(0.), array(0.), array(0.), 0]\n",
      "pancreas_healthy_0019.dcm\n"
     ]
    },
    {
     "name": "stderr",
     "output_type": "stream",
     "text": [
      "parameter force2D must be set to True to enable shape2D extraction\n",
      "GLCM is symmetrical, therefore Sum Average = 2 * Joint Average, only 1 needs to be calculated\n"
     ]
    },
    {
     "name": "stdout",
     "output_type": "stream",
     "text": [
      "[0.9399054296815957, 0.0, 0.0, 325.1153234998723, array(263.2421875), array(300.078125), array(389.38430506), array(389.38430506), array(27.44445801), 305.57765783021847, array(0.14527197), array(302.88102786), array(11.03614536), 161.43798828125, array(1.), array(1.), array(200.), array(-3.2034265e-16), array(0.), array(0.), array(1.), array(0.), array(1.), array(1.), array(1.), array(0.), array(0.), array(1.), array(0.), array(161.43798828), array(1.), array(0.), array(1.), array(0.), array(0.), array(0.), array(0.), array(1.), array(0.), array(-3.2034265e-16), array(0.), array(1.), array(1.), array(1.), array(1.), array(0.), array(0.), array(0.), array(1.), array(1.), array(-3.2034265e-16), array(1), array(1.), array(2.), array(-3.2034265e-16), array(0.), array(0.28639696), array(181.), array(0.905), array(0.0475), array(200.), array(0.), array(1.), array(1.15), array(1.15), array(1.15), array(1.), array(0.9625), array(0.9625), array(0.9625), array(198.75), array(1.), array(0.), array(1.), array(1.01895901), array(1.01895901), array(1.01895901), array(1.), array(0.05123754), array(196.27786777), array(0.98750187), array(0.99375), array(0.00624907), array(0.99526025), array(0.99526025), array(0.99526025), array(195.), array(1.), array(0.), array(1.), array(1.07692308), array(1.07692308), array(1.07692308), array(1.), array(185.25641026), array(0.95003287), array(0.98076923), array(0.98076923), array(0.98076923), array(0.17203695), array(0.975), array(0.02498356), array(0.), array(1000000.), array(0.), array(0.), array(0.), 0]\n",
      "pancreas_healthy_0020.dcm\n"
     ]
    },
    {
     "name": "stderr",
     "output_type": "stream",
     "text": [
      "parameter force2D must be set to True to enable shape2D extraction\n",
      "GLCM is symmetrical, therefore Sum Average = 2 * Joint Average, only 1 needs to be calculated\n"
     ]
    },
    {
     "name": "stdout",
     "output_type": "stream",
     "text": [
      "[0.8828658318397751, 0.0, 0.0, 321.12830769869737, array(265.98), array(200.772), array(355.11354433), array(355.11354433), array(14.10981), 283.5132105037097, array(0.17735093), array(159.22017903), array(11.28436025), 81.714204, array(1.), array(1.), array(111.), array(-3.2034265e-16), array(0.), array(0.), array(1.), array(0.), array(1.), array(1.), array(1.), array(0.), array(0.), array(1.), array(0.), array(81.714204), array(1.), array(0.), array(1.), array(0.), array(0.), array(0.), array(0.), array(1.), array(0.), array(-3.2034265e-16), array(0.), array(1.), array(1.), array(1.), array(1.), array(0.), array(0.), array(0.), array(1.), array(1.), array(-3.2034265e-16), array(1), array(1.), array(2.), array(-3.2034265e-16), array(0.), array(0.30337484), array(99.64864865), array(0.89773557), array(0.05113221), array(111.), array(0.), array(1.), array(1.16216216), array(1.16216216), array(1.16216216), array(1.), array(0.95945946), array(0.95945946), array(0.95945946), array(110.25), array(1.), array(0.), array(1.), array(1.02057965), array(1.02057965), array(1.02057965), array(1.), array(0.05169242), array(108.77289408), array(0.98648989), array(0.99324324), array(0.00675505), array(0.99485509), array(0.99485509), array(0.99485509), array(108.), array(1.), array(0.), array(1.), array(1.08333333), array(1.08333333), array(1.08333333), array(1.), array(102.16666667), array(0.94598765), array(0.97916667), array(0.97916667), array(0.97916667), array(0.18312207), array(0.97297297), array(0.02700617), array(0.), array(1000000.), array(0.), array(0.), array(0.), 0]\n",
      "pancreas_healthy_0021.dcm\n"
     ]
    },
    {
     "name": "stderr",
     "output_type": "stream",
     "text": [
      "parameter force2D must be set to True to enable shape2D extraction\n",
      "GLCM is symmetrical, therefore Sum Average = 2 * Joint Average, only 1 needs to be calculated\n"
     ]
    },
    {
     "name": "stdout",
     "output_type": "stream",
     "text": [
      "[0.7501781781338936, 0.0, 0.0, 446.54670352827424, array(331.1328125), array(289.98046875), array(447.44153584), array(447.44153584), array(47.01665243), 334.98959250453674, array(0.12722861), array(495.14659659), array(10.53130266), 274.77264404296875, array(1.), array(1.), array(300.), array(-3.2034265e-16), array(0.), array(0.), array(1.), array(0.), array(1.), array(1.), array(1.), array(0.), array(0.), array(1.), array(0.), array(274.77264404), array(1.), array(0.), array(1.), array(0.), array(0.), array(0.), array(0.), array(1.), array(0.), array(-3.2034265e-16), array(0.), array(1.), array(1.), array(1.), array(1.), array(0.), array(0.), array(0.), array(1.), array(1.), array(-3.2034265e-16), array(1), array(1.), array(2.), array(-3.2034265e-16), array(0.), array(0.27206479), array(273.30666667), array(0.91102222), array(0.04448889), array(300.), array(0.), array(1.), array(1.14), array(1.14), array(1.14), array(1.), array(0.965), array(0.965), array(0.965), array(298.25), array(1.), array(0.), array(1.), array(1.01762604), array(1.01762604), array(1.01762604), array(1.), array(0.0510517), array(294.77520741), array(0.98833403), array(0.99416667), array(0.00583298), array(0.99559349), array(0.99559349), array(0.99559349), array(293.), array(1.), array(0.), array(1.), array(1.07167235), array(1.07167235), array(1.07167235), array(1.), array(279.33447099), array(0.95335997), array(0.98208191), array(0.98208191), array(0.98208191), array(0.16276134), array(0.97666667), array(0.02332002), array(0.), array(1000000.), array(0.), array(0.), array(0.), 0]\n",
      "pancreas_healthy_0023.dcm\n"
     ]
    },
    {
     "name": "stderr",
     "output_type": "stream",
     "text": [
      "parameter force2D must be set to True to enable shape2D extraction\n",
      "GLCM is symmetrical, therefore Sum Average = 2 * Joint Average, only 1 needs to be calculated\n"
     ]
    },
    {
     "name": "stdout",
     "output_type": "stream",
     "text": [
      "[0.8236612563689913, 0.0, 0.0, 332.40992876945745, array(291.796875), array(195.46875), array(361.78155671), array(361.78155671), array(15.65551758), 273.79317955977825, array(0.14913543), array(202.93092944), array(12.96226256), 88.9892578125, array(1.), array(1.), array(180.), array(-3.2034265e-16), array(0.), array(0.), array(1.), array(0.), array(1.), array(1.), array(1.), array(0.), array(0.), array(1.), array(0.), array(88.98925781), array(1.), array(0.), array(1.), array(0.), array(0.), array(0.), array(0.), array(1.), array(0.), array(-3.2034265e-16), array(0.), array(1.), array(1.), array(1.), array(1.), array(0.), array(0.), array(0.), array(1.), array(1.), array(-3.2034265e-16), array(1), array(1.), array(2.), array(-3.2034265e-16), array(0.), array(0.35335934), array(157.6), array(0.87555556), array(0.06222222), array(180.), array(0.), array(1.), array(1.2), array(1.2), array(1.2), array(1.), array(0.95), array(0.95), array(0.95), array(178.5), array(1.), array(0.), array(1.), array(1.02532877), array(1.02532877), array(1.02532877), array(1.), array(0.06566895), array(175.53945298), array(0.98333652), array(0.99166667), array(0.00833174), array(0.99366781), array(0.99366781), array(0.99366781), array(174.), array(1.), array(0.), array(1.), array(1.10344828), array(1.10344828), array(1.10344828), array(1.), array(162.4137931), array(0.9334126), array(0.97413793), array(0.97413793), array(0.97413793), array(0.21639693), array(0.96666667), array(0.0332937), array(0.), array(1000000.), array(0.), array(0.), array(0.), 0]\n",
      "pancreas_healthy_0024.dcm\n"
     ]
    },
    {
     "name": "stderr",
     "output_type": "stream",
     "text": [
      "parameter force2D must be set to True to enable shape2D extraction\n",
      "GLCM is symmetrical, therefore Sum Average = 2 * Joint Average, only 1 needs to be calculated\n"
     ]
    },
    {
     "name": "stdout",
     "output_type": "stream",
     "text": [
      "[0.8256768185303935, 0.0, 0.0, 317.93578850713317, array(275.625), array(247.5), array(360.31297431), array(360.31297431), array(14.91394043), 262.5122103515218, array(0.14654683), array(199.94135794), array(13.40634012), 88.494873046875, array(1.), array(1.), array(179.), array(-3.2034265e-16), array(0.), array(0.), array(1.), array(0.), array(1.), array(1.), array(1.), array(0.), array(0.), array(1.), array(0.), array(88.49487305), array(1.), array(0.), array(1.), array(0.), array(0.), array(0.), array(0.), array(1.), array(0.), array(-3.2034265e-16), array(0.), array(1.), array(1.), array(1.), array(1.), array(0.), array(0.), array(0.), array(1.), array(1.), array(-3.2034265e-16), array(1), array(1.), array(2.), array(-3.2034265e-16), array(0.), array(0.21174618), array(167.40223464), array(0.93520801), array(0.03239599), array(179.), array(0.), array(1.), array(1.10055866), array(1.10055866), array(1.10055866), array(1.), array(0.97486034), array(0.97486034), array(0.97486034), array(178.25), array(1.), array(0.), array(1.), array(1.01264045), array(1.01264045), array(1.01264045), array(1.), array(0.03756054), array(176.75842697), array(0.99162038), array(0.99581006), array(0.00418981), array(0.99683989), array(0.99683989), array(0.99683989), array(176.), array(1.), array(0.), array(1.), array(1.05113636), array(1.05113636), array(1.05113636), array(1.), array(170.10227273), array(0.96649019), array(0.98721591), array(0.98721591), array(0.98721591), array(0.1245136), array(0.98324022), array(0.01675491), array(0.), array(1000000.), array(0.), array(0.), array(0.), 0]\n",
      "pancreas_healthy_0026.dcm\n"
     ]
    },
    {
     "name": "stderr",
     "output_type": "stream",
     "text": [
      "parameter force2D must be set to True to enable shape2D extraction\n",
      "GLCM is symmetrical, therefore Sum Average = 2 * Joint Average, only 1 needs to be calculated\n"
     ]
    },
    {
     "name": "stdout",
     "output_type": "stream",
     "text": [
      "[0.9206133809641897, 0.0, 0.0, 358.4133668822053, array(316.25), array(326.5625), array(389.15551724), array(389.15551724), array(35.38767497), 329.96014146818555, array(0.1329582), array(392.0459869), array(11.07860257), 199.40185546875, array(1.), array(1.), array(270.), array(-3.2034265e-16), array(0.), array(0.), array(1.), array(0.), array(1.), array(1.), array(1.), array(0.), array(0.), array(1.), array(0.), array(199.40185547), array(1.), array(0.), array(1.), array(0.), array(0.), array(0.), array(0.), array(1.), array(0.), array(-3.2034265e-16), array(0.), array(1.), array(1.), array(1.), array(1.), array(0.), array(0.), array(0.), array(1.), array(1.), array(-3.2034265e-16), array(1), array(1.), array(2.), array(-3.2034265e-16), array(0.), array(0.46311436), array(229.05185185), array(0.84834019), array(0.11665295), array(270.), array(0.), array(1.), array(1.31851852), array(1.31851852), array(1.31851852), array(1.), array(0.93683128), array(0.93683128), array(0.93683128), array(266.75), array(1.), array(0.), array(1.), array(1.03660189), array(1.03660189), array(1.03660189), array(1.), array(0.09406343), array(260.33834036), array(0.97593083), array(0.98796296), array(0.01203458), array(0.99084953), array(0.99084953), array(0.99084953), array(258.), array(1.), array(0.), array(1.), array(1.15503876), array(1.15503876), array(1.15503876), array(1.), array(238.65116279), array(0.92500451), array(0.96985357), array(0.96985357), array(0.96985357), array(0.26455793), array(0.95555556), array(0.05985217), array(0.), array(1000000.), array(0.), array(0.), array(0.), 0]\n",
      "pancreas_healthy_0027.dcm\n"
     ]
    },
    {
     "name": "stderr",
     "output_type": "stream",
     "text": [
      "parameter force2D must be set to True to enable shape2D extraction\n",
      "GLCM is symmetrical, therefore Sum Average = 2 * Joint Average, only 1 needs to be calculated\n"
     ]
    },
    {
     "name": "stdout",
     "output_type": "stream",
     "text": [
      "[0.7264477279185829, 0.0, 0.0, 326.3749985141344, array(230.5078125), array(155.859375), array(340.90474196), array(340.90474196), array(11.15913391), 237.09437612002384, array(0.1922426), array(125.61884911), array(11.2570429), 61.907958984375, array(1.), array(1.), array(92.), array(-3.2034265e-16), array(0.), array(0.), array(1.), array(0.), array(1.), array(1.), array(1.), array(0.), array(0.), array(1.), array(0.), array(61.90795898), array(1.), array(0.), array(1.), array(0.), array(0.), array(0.), array(0.), array(1.), array(0.), array(-3.2034265e-16), array(0.), array(1.), array(1.), array(1.), array(1.), array(0.), array(0.), array(0.), array(1.), array(1.), array(-3.2034265e-16), array(1), array(1.), array(2.), array(-3.2034265e-16), array(0.), array(0.46320199), array(78.80434783), array(0.856569), array(0.1620983), array(92.), array(0.), array(1.), array(1.39130435), array(1.39130435), array(1.39130435), array(1.), array(0.9384058), array(0.9384058), array(0.9384058), array(90.75), array(1.), array(0.), array(1.), array(1.04157509), array(1.04157509), array(1.04157509), array(1.), array(0.09869124), array(88.29993895), array(0.97283748), array(0.98641304), array(0.01358126), array(0.98960623), array(0.98960623), array(0.98960623), array(88.), array(1.), array(0.), array(1.), array(1.15909091), array(1.15909091), array(1.15909091), array(1.), array(82.15909091), array(0.93362603), array(0.97285354), array(0.97285354), array(0.97285354), array(0.24581537), array(0.95652174), array(0.0661157), array(0.), array(1000000.), array(0.), array(0.), array(0.), 0]\n",
      "pancreas_healthy_0028.dcm\n"
     ]
    },
    {
     "name": "stderr",
     "output_type": "stream",
     "text": [
      "parameter force2D must be set to True to enable shape2D extraction\n",
      "GLCM is symmetrical, therefore Sum Average = 2 * Joint Average, only 1 needs to be calculated\n"
     ]
    },
    {
     "name": "stdout",
     "output_type": "stream",
     "text": [
      "[0.8457471827782856, 0.0, 0.0, 328.3437978565439, array(256.0546875), array(206.640625), array(372.88187), array(372.88187), array(20.71787516), 277.6958420198949, array(0.16328069), array(223.41523187), array(10.78369428), 117.8497314453125, array(1.), array(1.), array(146.), array(-3.2034265e-16), array(0.), array(0.), array(1.), array(0.), array(1.), array(1.), array(1.), array(0.), array(0.), array(1.), array(0.), array(117.84973145), array(1.), array(0.), array(1.), array(0.), array(0.), array(0.), array(0.), array(1.), array(0.), array(-3.2034265e-16), array(0.), array(1.), array(1.), array(1.), array(1.), array(0.), array(0.), array(0.), array(1.), array(1.), array(-3.2034265e-16), array(1), array(1.), array(2.), array(-3.2034265e-16), array(0.), array(0.36027506), array(127.36986301), array(0.87239632), array(0.06380184), array(146.), array(0.), array(1.), array(1.20547945), array(1.20547945), array(1.20547945), array(1.), array(0.94863014), array(0.94863014), array(0.94863014), array(144.75), array(1.), array(0.), array(1.), array(1.02600575), array(1.02600575), array(1.02600575), array(1.), array(0.06765348), array(142.28122605), array(0.98287952), array(0.99143836), array(0.00856024), array(0.99349856), array(0.99349856), array(0.99349856), array(141.), array(1.), array(0.), array(1.), array(1.10638298), array(1.10638298), array(1.10638298), array(1.), array(131.35460993), array(0.93159298), array(0.97340426), array(0.97340426), array(0.97340426), array(0.2210791), array(0.96575342), array(0.03420351), array(0.), array(1000000.), array(0.), array(0.), array(0.), 0]\n",
      "pancreas_healthy_0029.dcm\n"
     ]
    },
    {
     "name": "stderr",
     "output_type": "stream",
     "text": [
      "parameter force2D must be set to True to enable shape2D extraction\n",
      "GLCM is symmetrical, therefore Sum Average = 2 * Joint Average, only 1 needs to be calculated\n"
     ]
    },
    {
     "name": "stdout",
     "output_type": "stream",
     "text": [
      "[0.6844646908436097, 0.0, 0.0, 367.06192534670225, array(303.125), array(267.96875), array(359.14479719), array(359.14479719), array(18.15795898), 251.24092725289069, array(0.15810455), array(211.30888974), array(11.63726), 99.4873046875, array(1.), array(1.), array(163.), array(-3.2034265e-16), array(0.), array(0.), array(1.), array(0.), array(1.), array(1.), array(1.), array(0.), array(0.), array(1.), array(0.), array(99.48730469), array(1.), array(0.), array(1.), array(0.), array(0.), array(0.), array(0.), array(1.), array(0.), array(-3.2034265e-16), array(0.), array(1.), array(1.), array(1.), array(1.), array(0.), array(0.), array(0.), array(1.), array(1.), array(-3.2034265e-16), array(1), array(1.), array(2.), array(-3.2034265e-16), array(0.), array(0.55257943), array(132.03067485), array(0.81000414), array(0.14445406), array(163.), array(0.), array(1.), array(1.40490798), array(1.40490798), array(1.40490798), array(1.), array(0.9192229), array(0.9192229), array(0.9192229), array(160.5), array(1.), array(0.), array(1.), array(1.04687682), array(1.04687682), array(1.04687682), array(1.), array(0.1136238), array(155.59394825), array(0.96933722), array(0.98466258), array(0.01533139), array(0.98828079), array(0.98828079), array(0.98828079), array(154.), array(1.), array(0.), array(1.), array(1.18831169), array(1.18831169), array(1.18831169), array(1.), array(138.74025974), array(0.90091078), array(0.96013709), array(0.96013709), array(0.96013709), array(0.32285232), array(0.94478528), array(0.06801316), array(0.), array(1000000.), array(0.), array(0.), array(0.), 0]\n",
      "pancreas_healthy_0030.dcm\n"
     ]
    },
    {
     "name": "stderr",
     "output_type": "stream",
     "text": [
      "parameter force2D must be set to True to enable shape2D extraction\n",
      "GLCM is symmetrical, therefore Sum Average = 2 * Joint Average, only 1 needs to be calculated\n"
     ]
    },
    {
     "name": "stdout",
     "output_type": "stream",
     "text": [
      "[0.8107058367237487, 0.0, 0.0, 363.97874964616085, array(329.55078125), array(249.6875), array(375.0730896), array(375.0730896), array(26.12266541), 295.0796967815547, array(0.14973179), array(284.34685578), array(10.88506289), 153.36532592773438, array(1.), array(1.), array(182.), array(-3.2034265e-16), array(0.), array(0.), array(1.), array(0.), array(1.), array(1.), array(1.), array(0.), array(0.), array(1.), array(0.), array(153.36532593), array(1.), array(0.), array(1.), array(0.), array(0.), array(0.), array(0.), array(1.), array(0.), array(-3.2034265e-16), array(0.), array(1.), array(1.), array(1.), array(1.), array(0.), array(0.), array(0.), array(1.), array(1.), array(-3.2034265e-16), array(1), array(1.), array(2.), array(-3.2034265e-16), array(0.), array(0.35056382), array(159.58241758), array(0.87682647), array(0.06158676), array(182.), array(0.), array(1.), array(1.1978022), array(1.1978022), array(1.1978022), array(1.), array(0.95054945), array(0.95054945), array(0.95054945), array(180.5), array(1.), array(0.), array(1.), array(1.02504681), array(1.02504681), array(1.02504681), array(1.), array(0.06507386), array(177.53901321), array(0.98351956), array(0.99175824), array(0.00824022), array(0.9937383), array(0.9937383), array(0.9937383), array(176.), array(1.), array(0.), array(1.), array(1.10227273), array(1.10227273), array(1.10227273), array(1.), array(164.40909091), array(0.93414256), array(0.97443182), array(0.97443182), array(0.97443182), array(0.21450983), array(0.96703297), array(0.03292872), array(0.), array(1000000.), array(0.), array(0.), array(0.), 0]\n",
      "pancreas_healthy_0031.dcm\n"
     ]
    },
    {
     "name": "stderr",
     "output_type": "stream",
     "text": [
      "parameter force2D must be set to True to enable shape2D extraction\n",
      "GLCM is symmetrical, therefore Sum Average = 2 * Joint Average, only 1 needs to be calculated\n"
     ]
    },
    {
     "name": "stdout",
     "output_type": "stream",
     "text": [
      "[0.7716844413710727, 0.0, 0.0, 317.0280737587425, array(278.90625), array(183.59375), array(344.29112239), array(344.29112239), array(18.71744792), 244.64563199746246, array(0.14869397), array(229.27420448), array(12.24922359), 109.86328125, array(1.), array(1.), array(180.), array(-3.2034265e-16), array(0.), array(0.), array(1.), array(0.), array(1.), array(1.), array(1.), array(0.), array(0.), array(1.), array(0.), array(109.86328125), array(1.), array(0.), array(1.), array(0.), array(0.), array(0.), array(0.), array(1.), array(0.), array(-3.2034265e-16), array(0.), array(1.), array(1.), array(1.), array(1.), array(0.), array(0.), array(0.), array(1.), array(1.), array(-3.2034265e-16), array(1), array(1.), array(2.), array(-3.2034265e-16), array(0.), array(0.2108423), array(168.4), array(0.93555556), array(0.03222222), array(180.), array(0.), array(1.), array(1.1), array(1.1), array(1.1), array(1.), array(0.975), array(0.975), array(0.975), array(179.25), array(1.), array(0.), array(1.), array(1.01256983), array(1.01256983), array(1.01256983), array(1.), array(0.03738467), array(177.75837989), array(0.99166693), array(0.99583333), array(0.00416654), array(0.99685754), array(0.99685754), array(0.99685754), array(177.), array(1.), array(0.), array(1.), array(1.05084746), array(1.05084746), array(1.05084746), array(1.), array(171.10169492), array(0.96667624), array(0.98728814), array(0.98728814), array(0.98728814), array(0.12394987), array(0.98333333), array(0.01666188), array(0.), array(1000000.), array(0.), array(0.), array(0.), 0]\n",
      "pancreas_healthy_0032.dcm\n"
     ]
    },
    {
     "name": "stderr",
     "output_type": "stream",
     "text": [
      "parameter force2D must be set to True to enable shape2D extraction\n",
      "GLCM is symmetrical, therefore Sum Average = 2 * Joint Average, only 1 needs to be calculated\n"
     ]
    },
    {
     "name": "stdout",
     "output_type": "stream",
     "text": [
      "[0.8177812433105273, 0.0, 0.0, 408.0353295790338, array(333.0078125), array(254.8828125), array(415.81384484), array(415.81384484), array(23.68291219), 333.683639137763, array(0.1604205), array(248.6075624), array(10.4973392), 140.19012451171875, array(1.), array(1.), array(147.), array(-3.2034265e-16), array(0.), array(0.), array(1.), array(0.), array(1.), array(1.), array(1.), array(0.), array(0.), array(1.), array(0.), array(140.19012451), array(1.), array(0.), array(1.), array(0.), array(0.), array(0.), array(0.), array(1.), array(0.), array(-3.2034265e-16), array(0.), array(1.), array(1.), array(1.), array(1.), array(0.), array(0.), array(0.), array(1.), array(1.), array(-3.2034265e-16), array(1), array(1.), array(2.), array(-3.2034265e-16), array(0.), array(0.24602258), array(135.48979592), array(0.92169929), array(0.03915035), array(147.), array(0.), array(1.), array(1.12244898), array(1.12244898), array(1.12244898), array(1.), array(0.96938776), array(0.96938776), array(0.96938776), array(146.25), array(1.), array(0.), array(1.), array(1.01541096), array(1.01541096), array(1.01541096), array(1.), array(0.0443197), array(144.76027397), array(0.9897964), array(0.99489796), array(0.0051018), array(0.99614726), array(0.99614726), array(0.99614726), array(144.), array(1.), array(0.), array(1.), array(1.0625), array(1.0625), array(1.0625), array(1.), array(138.125), array(0.95920139), array(0.984375), array(0.984375), array(0.984375), array(0.14609425), array(0.97959184), array(0.02039931), array(0.), array(1000000.), array(0.), array(0.), array(0.), 0]\n",
      "pancreas_healthy_0033.dcm\n"
     ]
    },
    {
     "name": "stderr",
     "output_type": "stream",
     "text": [
      "parameter force2D must be set to True to enable shape2D extraction\n",
      "GLCM is symmetrical, therefore Sum Average = 2 * Joint Average, only 1 needs to be calculated\n"
     ]
    },
    {
     "name": "stdout",
     "output_type": "stream",
     "text": [
      "[0.935098360806783, 0.0, 0.0, 301.36384547229557, array(266.4453125), array(198.90625), array(354.79357238), array(354.79357238), array(14.41370646), 281.8048379075722, array(0.16775581), array(170.7354412), array(11.84535301), 76.56707763671875, array(1.), array(1.), array(139.), array(-3.2034265e-16), array(0.), array(0.), array(1.), array(0.), array(1.), array(1.), array(1.), array(0.), array(0.), array(1.), array(0.), array(76.56707764), array(1.), array(0.), array(1.), array(0.), array(0.), array(0.), array(0.), array(1.), array(0.), array(-3.2034265e-16), array(0.), array(1.), array(1.), array(1.), array(1.), array(0.), array(0.), array(0.), array(1.), array(1.), array(-3.2034265e-16), array(1), array(1.), array(2.), array(-3.2034265e-16), array(0.), array(0.59432326), array(104.75539568), array(0.75363594), array(0.12318203), array(139.), array(0.), array(1.), array(1.43165468), array(1.43165468), array(1.43165468), array(1.), array(0.89208633), array(0.89208633), array(0.89208633), array(136.5), array(1.), array(0.), array(1.), array(1.05564208), array(1.05564208), array(1.05564208), array(1.), array(0.12107356), array(131.65616603), array(0.96406664), array(0.98201439), array(0.01796668), array(0.98608948), array(0.98608948), array(0.98608948), array(129.), array(1.), array(0.), array(1.), array(1.23255814), array(1.23255814), array(1.23255814), array(1.), array(110.5503876), array(0.85697975), array(0.94186047), array(0.94186047), array(0.94186047), array(0.39337768), array(0.92805755), array(0.07151013), array(0.), array(1000000.), array(0.), array(0.), array(0.), 0]\n",
      "pancreas_healthy_0034.dcm\n"
     ]
    },
    {
     "name": "stderr",
     "output_type": "stream",
     "text": [
      "parameter force2D must be set to True to enable shape2D extraction\n",
      "GLCM is symmetrical, therefore Sum Average = 2 * Joint Average, only 1 needs to be calculated\n"
     ]
    },
    {
     "name": "stdout",
     "output_type": "stream",
     "text": [
      "[0.6774185791364704, 0.0, 0.0, 360.354222769281, array(279.174), array(193.154), array(317.8904544), array(317.8904544), array(15.18617933), 244.1106455741935, array(0.16216396), array(182.87828105), array(12.04241548), 87.44793200000001, array(1.), array(1.), array(143.), array(-3.2034265e-16), array(0.), array(0.), array(1.), array(0.), array(1.), array(1.), array(1.), array(0.), array(0.), array(1.), array(0.), array(87.447932), array(1.), array(0.), array(1.), array(0.), array(0.), array(0.), array(0.), array(1.), array(0.), array(-3.2034265e-16), array(0.), array(1.), array(1.), array(1.), array(1.), array(0.), array(0.), array(0.), array(1.), array(1.), array(-3.2034265e-16), array(1), array(1.), array(2.), array(-3.2034265e-16), array(0.), array(0.36566263), array(124.3986014), array(0.86992029), array(0.06503986), array(143.), array(0.), array(1.), array(1.20979021), array(1.20979021), array(1.20979021), array(1.), array(0.94755245), array(0.94755245), array(0.94755245), array(141.75), array(1.), array(0.), array(1.), array(1.02655829), array(1.02655829), array(1.02655829), array(1.), array(0.06882046), array(139.28188992), array(0.98252047), array(0.99125874), array(0.00873977), array(0.99336043), array(0.99336043), array(0.99336043), array(138.), array(1.), array(0.), array(1.), array(1.10869565), array(1.10869565), array(1.10869565), array(1.), array(128.36231884), array(0.93016173), array(0.97282609), array(0.97282609), array(0.97282609), array(0.22474037), array(0.96503497), array(0.03491913), array(0.), array(1000000.), array(0.), array(0.), array(0.), 0]\n",
      "pancreas_healthy_0035.dcm\n"
     ]
    },
    {
     "name": "stderr",
     "output_type": "stream",
     "text": [
      "parameter force2D must be set to True to enable shape2D extraction\n",
      "GLCM is symmetrical, therefore Sum Average = 2 * Joint Average, only 1 needs to be calculated\n"
     ]
    },
    {
     "name": "stdout",
     "output_type": "stream",
     "text": [
      "[0.6726381509850047, 0.0, 0.0, 346.02798428716255, array(286.171875), array(247.5), array(367.30716966), array(367.30716966), array(18.58622233), 232.75162353998527, array(0.15896754), array(213.45340804), array(11.48449665), 110.040283203125, array(1.), array(1.), array(149.), array(-3.2034265e-16), array(0.), array(0.), array(1.), array(0.), array(1.), array(1.), array(1.), array(0.), array(0.), array(1.), array(0.), array(110.0402832), array(1.), array(0.), array(1.), array(0.), array(0.), array(0.), array(0.), array(1.), array(0.), array(-3.2034265e-16), array(0.), array(1.), array(1.), array(1.), array(1.), array(0.), array(0.), array(0.), array(1.), array(1.), array(-3.2034265e-16), array(1), array(1.), array(2.), array(-3.2034265e-16), array(0.), array(0.2435217), array(137.48322148), array(0.92270618), array(0.03864691), array(149.), array(0.), array(1.), array(1.12080537), array(1.12080537), array(1.12080537), array(1.), array(0.96979866), array(0.96979866), array(0.96979866), array(148.25), array(1.), array(0.), array(1.), array(1.0152027), array(1.0152027), array(1.0152027), array(1.), array(0.04382059), array(146.76013514), array(0.98993335), array(0.99496644), array(0.00503333), array(0.99619932), array(0.99619932), array(0.99619932), array(146.), array(1.), array(0.), array(1.), array(1.06164384), array(1.06164384), array(1.06164384), array(1.), array(140.12328767), array(0.95974855), array(0.98458904), array(0.98458904), array(0.98458904), array(0.14450614), array(0.97986577), array(0.02012573), array(0.), array(1000000.), array(0.), array(0.), array(0.), 0]\n",
      "pancreas_healthy_0036.dcm\n"
     ]
    },
    {
     "name": "stderr",
     "output_type": "stream",
     "text": [
      "parameter force2D must be set to True to enable shape2D extraction\n",
      "GLCM is symmetrical, therefore Sum Average = 2 * Joint Average, only 1 needs to be calculated\n"
     ]
    },
    {
     "name": "stdout",
     "output_type": "stream",
     "text": [
      "[0.6948824049184296, 0.0, 0.0, 304.8455902140226, array(249.375), array(173.0859375), array(317.30298275), array(317.30298275), array(14.69192505), 211.83183685669812, array(0.16448986), array(176.35893242), array(12.00380017), 88.15155029296875, array(1.), array(1.), array(131.), array(-3.2034265e-16), array(0.), array(0.), array(1.), array(0.), array(1.), array(1.), array(1.), array(0.), array(0.), array(1.), array(0.), array(88.15155029), array(1.), array(0.), array(1.), array(0.), array(0.), array(0.), array(0.), array(1.), array(0.), array(-3.2034265e-16), array(0.), array(1.), array(1.), array(1.), array(1.), array(0.), array(0.), array(0.), array(1.), array(1.), array(-3.2034265e-16), array(1), array(1.), array(2.), array(-3.2034265e-16), array(0.), array(0.11397021), array(127.0610687), array(0.96993182), array(0.01503409), array(131.), array(0.), array(1.), array(1.04580153), array(1.04580153), array(1.04580153), array(1.), array(0.98854962), array(0.98854962), array(0.98854962), array(130.75), array(1.), array(0.), array(1.), array(1.00576923), array(1.00576923), array(1.00576923), array(1.), array(0.01626827), array(130.25384615), array(0.99618343), array(0.9980916), array(0.00190828), array(0.99855769), array(0.99855769), array(0.99855769), array(130.), array(1.), array(0.), array(1.), array(1.02307692), array(1.02307692), array(1.02307692), array(1.), array(128.01538462), array(0.98473373), array(0.99423077), array(0.99423077), array(0.99423077), array(0.06507307), array(0.99236641), array(0.00763314), array(0.), array(1000000.), array(0.), array(0.), array(0.), 0]\n",
      "pancreas_healthy_0037.dcm\n"
     ]
    },
    {
     "name": "stderr",
     "output_type": "stream",
     "text": [
      "parameter force2D must be set to True to enable shape2D extraction\n",
      "GLCM is symmetrical, therefore Sum Average = 2 * Joint Average, only 1 needs to be calculated\n"
     ]
    },
    {
     "name": "stdout",
     "output_type": "stream",
     "text": [
      "[0.7435698866398899, 0.0, 0.0, 347.1855233808477, array(279.8046875), array(213.0078125), array(373.17199309), array(373.17199309), array(17.81056722), 258.1567002633078, array(0.15087416), array(218.60214718), array(12.27373303), 99.151611328125, array(1.), array(1.), array(180.), array(-3.2034265e-16), array(0.), array(0.), array(1.), array(0.), array(1.), array(1.), array(1.), array(0.), array(0.), array(1.), array(0.), array(99.15161133), array(1.), array(0.), array(1.), array(0.), array(0.), array(0.), array(0.), array(1.), array(0.), array(-3.2034265e-16), array(0.), array(1.), array(1.), array(1.), array(1.), array(0.), array(0.), array(0.), array(1.), array(1.), array(-3.2034265e-16), array(1), array(1.), array(2.), array(-3.2034265e-16), array(0.), array(0.51932143), array(147.24444444), array(0.81802469), array(0.12098765), array(180.), array(0.), array(1.), array(1.35555556), array(1.35555556), array(1.35555556), array(1.), array(0.92345679), array(0.92345679), array(0.92345679), array(177.5), array(1.), array(0.), array(1.), array(1.04247245), array(1.04247245), array(1.04247245), array(1.), array(0.10369547), array(172.59669378), array(0.97223505), array(0.98611111), array(0.01388248), array(0.98938189), array(0.98938189), array(0.98938189), array(170.), array(1.), array(0.), array(1.), array(1.21176471), array(1.21176471), array(1.21176471), array(1.), array(154.67058824), array(0.90982699), array(0.96360294), array(0.96360294), array(0.96360294), array(0.29934867), array(0.94444444), array(0.09065744), array(0.), array(1000000.), array(0.), array(0.), array(0.), 0]\n",
      "pancreas_healthy_0038.dcm\n"
     ]
    },
    {
     "name": "stderr",
     "output_type": "stream",
     "text": [
      "parameter force2D must be set to True to enable shape2D extraction\n",
      "GLCM is symmetrical, therefore Sum Average = 2 * Joint Average, only 1 needs to be calculated\n"
     ]
    },
    {
     "name": "stdout",
     "output_type": "stream",
     "text": [
      "[0.8516474437661673, 0.0, 0.0, 338.0764240121304, array(300.288), array(229.908), array(329.01761352), array(329.01761352), array(35.774154), 287.9219223075378, array(0.12217338), array(429.75452871), array(12.01298929), 204.86054000000001, array(1.), array(1.), array(335.), array(-3.2034265e-16), array(0.), array(0.), array(1.), array(0.), array(1.), array(1.), array(1.), array(0.), array(0.), array(1.), array(0.), array(204.86054), array(1.), array(0.), array(1.), array(0.), array(0.), array(0.), array(0.), array(1.), array(0.), array(-3.2034265e-16), array(0.), array(1.), array(1.), array(1.), array(1.), array(0.), array(0.), array(0.), array(1.), array(1.), array(-3.2034265e-16), array(1), array(1.), array(2.), array(-3.2034265e-16), array(0.), array(0.40103918), array(288.5880597), array(0.86145689), array(0.07755848), array(335.), array(0.), array(1.), array(1.23880597), array(1.23880597), array(1.23880597), array(1.), array(0.94361526), array(0.94361526), array(0.94361526), array(331.75), array(1.), array(0.), array(1.), array(1.03101103), array(1.03101103), array(1.03101103), array(1.), array(0.07530303), array(325.81358709), array(0.98205145), array(0.99029851), array(0.01121926), array(0.99309155), array(0.99309155), array(0.99309155), array(322.), array(1.), array(0.), array(1.), array(1.12732919), array(1.12732919), array(1.12732919), array(1.), array(298.82608696), array(0.92803133), array(0.97161836), array(0.97161836), array(0.97161836), array(0.24504013), array(0.96119403), array(0.0449539), array(0.), array(1000000.), array(0.), array(0.), array(0.), 0]\n",
      "pancreas_healthy_0039.dcm\n"
     ]
    },
    {
     "name": "stderr",
     "output_type": "stream",
     "text": [
      "parameter force2D must be set to True to enable shape2D extraction\n",
      "GLCM is symmetrical, therefore Sum Average = 2 * Joint Average, only 1 needs to be calculated\n"
     ]
    },
    {
     "name": "stdout",
     "output_type": "stream",
     "text": [
      "[0.8126436678283935, 0.0, 0.0, 366.19829057757374, array(349.4921875), array(265.9375), array(414.34336178), array(414.34336178), array(22.73585002), 297.5887220074474, array(0.15502629), array(250.35305899), array(11.01137889), 131.57196044921875, array(1.), array(1.), array(163.), array(-3.2034265e-16), array(0.), array(0.), array(1.), array(0.), array(1.), array(1.), array(1.), array(0.), array(0.), array(1.), array(0.), array(131.57196045), array(1.), array(0.), array(1.), array(0.), array(0.), array(0.), array(0.), array(1.), array(0.), array(-3.2034265e-16), array(0.), array(1.), array(1.), array(1.), array(1.), array(0.), array(0.), array(0.), array(1.), array(1.), array(-3.2034265e-16), array(1), array(1.), array(2.), array(-3.2034265e-16), array(0.), array(0.46313408), array(134.14110429), array(0.82295156), array(0.08852422), array(163.), array(0.), array(1.), array(1.29447853), array(1.29447853), array(1.29447853), array(1.), array(0.92638037), array(0.92638037), array(0.92638037), array(161.), array(1.), array(0.), array(1.), array(1.03744177), array(1.03744177), array(1.03744177), array(1.), array(0.09129543), array(157.06867236), array(0.97546754), array(0.98773006), array(0.01226623), array(0.99063956), array(0.99063956), array(0.99063956), array(155.), array(1.), array(0.), array(1.), array(1.15483871), array(1.15483871), array(1.15483871), array(1.), array(139.82580645), array(0.90210198), array(0.96129032), array(0.96129032), array(0.96129032), array(0.29320934), array(0.95092025), array(0.04894901), array(0.), array(1000000.), array(0.), array(0.), array(0.), 0]\n",
      "pancreas_healthy_0040.dcm\n"
     ]
    },
    {
     "name": "stderr",
     "output_type": "stream",
     "text": [
      "parameter force2D must be set to True to enable shape2D extraction\n",
      "GLCM is symmetrical, therefore Sum Average = 2 * Joint Average, only 1 needs to be calculated\n"
     ]
    },
    {
     "name": "stdout",
     "output_type": "stream",
     "text": [
      "[0.8806015266634499, 0.0, 0.0, 363.6033852494012, array(323.4375), array(251.5625), array(335.35378066), array(335.35378066), array(13.73291016), 320.1896961506212, array(0.1699456), array(163.18588618), array(11.8828336), 77.5146484375, array(1.), array(1.), array(127.), array(-3.2034265e-16), array(0.), array(0.), array(1.), array(0.), array(1.), array(1.), array(1.), array(0.), array(0.), array(1.), array(0.), array(77.51464844), array(1.), array(0.), array(1.), array(0.), array(0.), array(0.), array(0.), array(1.), array(0.), array(-3.2034265e-16), array(0.), array(1.), array(1.), array(1.), array(1.), array(0.), array(0.), array(0.), array(1.), array(1.), array(-3.2034265e-16), array(1), array(1.), array(2.), array(-3.2034265e-16), array(0.), array(0.33920977), array(112.00787402), array(0.88195176), array(0.05902412), array(127.), array(0.), array(1.), array(1.18897638), array(1.18897638), array(1.18897638), array(1.), array(0.95275591), array(0.95275591), array(0.95275591), array(126.), array(1.), array(0.), array(1.), array(1.02409754), array(1.02409754), array(1.02409754), array(1.), array(0.05778967), array(124.04025858), array(0.98425913), array(0.99212598), array(0.00787044), array(0.99397561), array(0.99397561), array(0.99397561), array(123.), array(1.), array(0.), array(1.), array(1.09756098), array(1.09756098), array(1.09756098), array(1.), array(115.2601626), array(0.93707449), array(0.97560976), array(0.97560976), array(0.97560976), array(0.20687781), array(0.96850394), array(0.03146275), array(0.), array(1000000.), array(0.), array(0.), array(0.), 0]\n",
      "pancreas_healthy_0041.dcm\n"
     ]
    },
    {
     "name": "stderr",
     "output_type": "stream",
     "text": [
      "parameter force2D must be set to True to enable shape2D extraction\n",
      "GLCM is symmetrical, therefore Sum Average = 2 * Joint Average, only 1 needs to be calculated\n"
     ]
    },
    {
     "name": "stdout",
     "output_type": "stream",
     "text": [
      "[0.7713030227352653, 0.0, 0.0, 393.26355801065813, array(319.6875), array(305.625), array(383.7674314), array(383.7674314), array(30.90820312), 303.325371025246, array(0.14336824), array(332.21074413), array(10.74830338), 180.17578125, array(1.), array(1.), array(205.), array(-3.2034265e-16), array(0.), array(0.), array(1.), array(0.), array(1.), array(1.), array(1.), array(0.), array(0.), array(1.), array(0.), array(180.17578125), array(1.), array(0.), array(1.), array(0.), array(0.), array(0.), array(0.), array(1.), array(0.), array(-3.2034265e-16), array(0.), array(1.), array(1.), array(1.), array(1.), array(0.), array(0.), array(0.), array(1.), array(1.), array(-3.2034265e-16), array(1), array(1.), array(2.), array(-3.2034265e-16), array(0.), array(0.35951973), array(178.91219512), array(0.87274242), array(0.06362879), array(205.), array(0.), array(1.), array(1.20487805), array(1.20487805), array(1.20487805), array(1.), array(0.94878049), array(0.94878049), array(0.94878049), array(203.25), array(1.), array(0.), array(1.), array(1.02599101), array(1.02599101), array(1.02599101), array(1.), array(0.06633948), array(199.80210419), array(0.98293123), array(0.99146341), array(0.00853439), array(0.99350225), array(0.99350225), array(0.99350225), array(198.), array(1.), array(0.), array(1.), array(1.10606061), array(1.10606061), array(1.10606061), array(1.), array(184.49494949), array(0.93179267), array(0.97348485), array(0.97348485), array(0.97348485), array(0.22056677), array(0.96585366), array(0.03410366), array(0.), array(1000000.), array(0.), array(0.), array(0.), 0]\n",
      "pancreas_healthy_0042.dcm\n"
     ]
    },
    {
     "name": "stderr",
     "output_type": "stream",
     "text": [
      "parameter force2D must be set to True to enable shape2D extraction\n",
      "GLCM is symmetrical, therefore Sum Average = 2 * Joint Average, only 1 needs to be calculated\n"
     ]
    },
    {
     "name": "stdout",
     "output_type": "stream",
     "text": [
      "[0.726652150074263, 0.0, 0.0, 333.87370851199455, array(240.625), array(200.9765625), array(356.01586127), array(356.01586127), array(11.83827718), 242.6100481435086, array(0.16610349), array(151.22758838), array(12.77445916), 63.5528564453125, array(1.), array(1.), array(136.), array(-3.2034265e-16), array(0.), array(0.), array(1.), array(0.), array(1.), array(1.), array(1.), array(0.), array(0.), array(1.), array(0.), array(63.55285645), array(1.), array(0.), array(1.), array(0.), array(0.), array(0.), array(0.), array(1.), array(0.), array(-3.2034265e-16), array(0.), array(1.), array(1.), array(1.), array(1.), array(0.), array(0.), array(0.), array(1.), array(1.), array(-3.2034265e-16), array(1), array(1.), array(2.), array(-3.2034265e-16), array(0.), array(0.62502665), array(103.04411765), array(0.75767734), array(0.14013841), array(136.), array(0.), array(1.), array(1.45588235), array(1.45588235), array(1.45588235), array(1.), array(0.89419935), array(0.89419935), array(0.89419935), array(133.5), array(1.), array(0.), array(1.), array(1.06076668), array(1.06076668), array(1.06076668), array(1.), array(0.12525134), array(129.10310201), array(0.96668669), array(0.98161765), array(0.02220399), array(0.98694508), array(0.98694508), array(0.98694508), array(126.), array(1.), array(0.), array(1.), array(1.25396825), array(1.25396825), array(1.25396825), array(1.), array(109.15873016), array(0.86633913), array(0.94532628), array(0.94532628), array(0.94532628), array(0.40717935), array(0.92647059), array(0.08893928), array(0.), array(1000000.), array(0.), array(0.), array(0.), 0]\n",
      "pancreas_healthy_0043.dcm\n"
     ]
    },
    {
     "name": "stderr",
     "output_type": "stream",
     "text": [
      "parameter force2D must be set to True to enable shape2D extraction\n",
      "GLCM is symmetrical, therefore Sum Average = 2 * Joint Average, only 1 needs to be calculated\n"
     ]
    },
    {
     "name": "stdout",
     "output_type": "stream",
     "text": [
      "[0.8799322595498018, 0.0, 0.0, 347.32010020951077, array(295.596), array(271.354), array(351.14673602), array(351.14673602), array(31.59540667), 305.6181605644184, array(0.13319558), array(362.86377545), array(11.48470027), 170.00367200000002, array(1.), array(1.), array(278.), array(-3.2034265e-16), array(0.), array(0.), array(1.), array(0.), array(1.), array(1.), array(1.), array(0.), array(0.), array(1.), array(0.), array(170.003672), array(1.), array(0.), array(1.), array(0.), array(0.), array(0.), array(0.), array(1.), array(0.), array(-3.2034265e-16), array(0.), array(1.), array(1.), array(1.), array(1.), array(0.), array(0.), array(0.), array(1.), array(1.), array(-3.2034265e-16), array(1), array(1.), array(2.), array(-3.2034265e-16), array(0.), array(0.59921328), array(216.12230216), array(0.77741835), array(0.13958905), array(278.), array(0.), array(1.), array(1.43165468), array(1.43165468), array(1.43165468), array(1.), array(0.90407674), array(0.90407674), array(0.90407674), array(273.25), array(1.), array(0.), array(1.), array(1.06009139), array(1.06009139), array(1.06009139), array(1.), array(0.10955564), array(265.42645473), array(0.97105702), array(0.98291367), array(0.02445124), array(0.98859866), array(0.98859866), array(0.98859866), array(259.), array(1.), array(0.), array(1.), array(1.25096525), array(1.25096525), array(1.25096525), array(1.), array(228.75289575), array(0.88321581), array(0.95240776), array(0.95240776), array(0.95240776), array(0.37575652), array(0.93165468), array(0.09886555), array(0.), array(1000000.), array(0.), array(0.), array(0.), 0]\n",
      "pancreas_healthy_0044.dcm\n"
     ]
    },
    {
     "name": "stderr",
     "output_type": "stream",
     "text": [
      "parameter force2D must be set to True to enable shape2D extraction\n",
      "GLCM is symmetrical, therefore Sum Average = 2 * Joint Average, only 1 needs to be calculated\n"
     ]
    },
    {
     "name": "stdout",
     "output_type": "stream",
     "text": [
      "[0.8079751535037112, 0.0, 0.0, 411.12551057151273, array(348.59375), array(320.17578125), array(409.9767376), array(409.9767376), array(40.9772555), 332.17919751330965, array(0.13185854), array(435.91763112), array(10.63803873), 240.4796600341797, array(1.), array(1.), array(268.), array(-3.2034265e-16), array(0.), array(0.), array(1.), array(0.), array(1.), array(1.), array(1.), array(0.), array(0.), array(1.), array(0.), array(240.47966003), array(1.), array(0.), array(1.), array(0.), array(0.), array(0.), array(0.), array(1.), array(0.), array(-3.2034265e-16), array(0.), array(1.), array(1.), array(1.), array(1.), array(0.), array(0.), array(0.), array(1.), array(1.), array(-3.2034265e-16), array(1), array(1.), array(2.), array(-3.2034265e-16), array(0.), array(0.22983578), array(248.74626866), array(0.92815772), array(0.03592114), array(268.), array(0.), array(1.), array(1.1119403), array(1.1119403), array(1.1119403), array(1.), array(0.97201493), array(0.97201493), array(0.97201493), array(266.75), array(1.), array(0.), array(1.), array(1.01406606), array(1.01406606), array(1.01406606), array(1.), array(0.04265074), array(264.26313677), array(0.99067193), array(0.99533582), array(0.00466403), array(0.99648348), array(0.99648348), array(0.99648348), array(263.), array(1.), array(0.), array(1.), array(1.05703422), array(1.05703422), array(1.05703422), array(1.), array(253.19011407), array(0.96270005), array(0.98574144), array(0.98574144), array(0.98574144), array(0.13585331), array(0.98134328), array(0.01864997), array(0.), array(1000000.), array(0.), array(0.), array(0.), 0]\n",
      "pancreas_healthy_0045.dcm\n"
     ]
    },
    {
     "name": "stderr",
     "output_type": "stream",
     "text": [
      "parameter force2D must be set to True to enable shape2D extraction\n",
      "GLCM is symmetrical, therefore Sum Average = 2 * Joint Average, only 1 needs to be calculated\n"
     ]
    },
    {
     "name": "stdout",
     "output_type": "stream",
     "text": [
      "[0.8361250940939288, 0.0, 0.0, 364.0625961096675, array(328.125), array(263.4375), array(404.91427044), array(404.91427044), array(30.17578125), 304.40187242827574, array(0.14499304), array(323.27786912), array(10.71315657), 177.5390625, array(1.), array(1.), array(202.), array(-3.2034265e-16), array(0.), array(0.), array(1.), array(0.), array(1.), array(1.), array(1.), array(0.), array(0.), array(1.), array(0.), array(177.5390625), array(1.), array(0.), array(1.), array(0.), array(0.), array(0.), array(0.), array(1.), array(0.), array(-3.2034265e-16), array(0.), array(1.), array(1.), array(1.), array(1.), array(0.), array(0.), array(0.), array(1.), array(1.), array(-3.2034265e-16), array(1), array(1.), array(2.), array(-3.2034265e-16), array(0.), array(0.19290007), array(190.35643564), array(0.94235859), array(0.0288207), array(202.), array(0.), array(1.), array(1.08910891), array(1.08910891), array(1.08910891), array(1.), array(0.97772277), array(0.97772277), array(0.97772277), array(201.25), array(1.), array(0.), array(1.), array(1.01119403), array(1.01119403), array(1.01119403), array(1.), array(0.03391848), array(199.75746269), array(0.99257444), array(0.99628713), array(0.00371278), array(0.99720149), array(0.99720149), array(0.99720149), array(199.), array(1.), array(0.), array(1.), array(1.04522613), array(1.04522613), array(1.04522613), array(1.), array(193.09045226), array(0.97030378), array(0.98869347), array(0.98869347), array(0.98869347), array(0.11281549), array(0.98514851), array(0.01484811), array(0.), array(1000000.), array(0.), array(0.), array(0.), 0]\n",
      "pancreas_healthy_0046.dcm\n"
     ]
    },
    {
     "name": "stderr",
     "output_type": "stream",
     "text": [
      "parameter force2D must be set to True to enable shape2D extraction\n",
      "GLCM is symmetrical, therefore Sum Average = 2 * Joint Average, only 1 needs to be calculated\n"
     ]
    },
    {
     "name": "stdout",
     "output_type": "stream",
     "text": [
      "[0.6834376175624043, 0.0, 0.0, 372.24095171146683, array(317.492), array(224.434), array(325.48959335), array(325.48959335), array(20.28221267), 254.40346919684683, array(0.15018854), array(239.47355669), array(11.80707256), 113.13194000000001, array(1.), array(1.), array(185.), array(-3.2034265e-16), array(0.), array(0.), array(1.), array(0.), array(1.), array(1.), array(1.), array(0.), array(0.), array(1.), array(0.), array(113.13194), array(1.), array(0.), array(1.), array(0.), array(0.), array(0.), array(0.), array(1.), array(0.), array(-3.2034265e-16), array(0.), array(1.), array(1.), array(1.), array(1.), array(0.), array(0.), array(0.), array(1.), array(1.), array(-3.2034265e-16), array(1), array(1.), array(2.), array(-3.2034265e-16), array(0.), array(0.50805608), array(150.70810811), array(0.81463842), array(0.10723156), array(185.), array(0.), array(1.), array(1.33513514), array(1.33513514), array(1.33513514), array(1.), array(0.92222222), array(0.92222222), array(0.92222222), array(182.5), array(1.), array(0.), array(1.), array(1.04130286), array(1.04130286), array(1.04130286), array(1.), array(0.10140285), array(177.59401976), array(0.97298477), array(0.98648649), array(0.01350761), array(0.98967428), array(0.98967428), array(0.98967428), array(175.), array(1.), array(0.), array(1.), array(1.18285714), array(1.18285714), array(1.18285714), array(1.), array(157.83428571), array(0.9019102), array(0.96063492), array(0.96063492), array(0.96063492), array(0.31831657), array(0.94594595), array(0.06530612), array(0.), array(1000000.), array(0.), array(0.), array(0.), 0]\n",
      "pancreas_healthy_0047.dcm\n"
     ]
    },
    {
     "name": "stderr",
     "output_type": "stream",
     "text": [
      "parameter force2D must be set to True to enable shape2D extraction\n",
      "GLCM is symmetrical, therefore Sum Average = 2 * Joint Average, only 1 needs to be calculated\n"
     ]
    },
    {
     "name": "stdout",
     "output_type": "stream",
     "text": [
      "[0.8104694416816158, 0.0, 0.0, 312.50529513933, array(289.5703125), array(218.203125), array(363.70476825), array(363.70476825), array(14.01901245), 253.27599207412135, array(0.17161123), array(163.83878093), array(11.68689888), 81.42242431640625, array(1.), array(1.), array(121.), array(-3.2034265e-16), array(0.), array(0.), array(1.), array(0.), array(1.), array(1.), array(1.), array(0.), array(0.), array(1.), array(0.), array(81.42242432), array(1.), array(0.), array(1.), array(0.), array(0.), array(0.), array(0.), array(1.), array(0.), array(-3.2034265e-16), array(0.), array(1.), array(1.), array(1.), array(1.), array(0.), array(0.), array(0.), array(1.), array(1.), array(-3.2034265e-16), array(1), array(1.), array(2.), array(-3.2034265e-16), array(0.), array(0.35125809), array(106.05785124), array(0.87651117), array(0.06174442), array(121.), array(0.), array(1.), array(1.19834711), array(1.19834711), array(1.19834711), array(1.), array(0.95041322), array(0.95041322), array(0.95041322), array(120.), array(1.), array(0.), array(1.), array(1.02521008), array(1.02521008), array(1.02521008), array(1.), array(0.06155732), array(118.03361345), array(0.98347574), array(0.99173554), array(0.00826213), array(0.99369748), array(0.99369748), array(0.99369748), array(117.), array(1.), array(0.), array(1.), array(1.1025641), array(1.1025641), array(1.1025641), array(1.), array(109.27350427), array(0.93396157), array(0.97435897), array(0.97435897), array(0.97435897), array(0.2149782), array(0.96694215), array(0.03301921), array(0.), array(1000000.), array(0.), array(0.), array(0.), 0]\n",
      "pancreas_healthy_0048.dcm\n"
     ]
    },
    {
     "name": "stderr",
     "output_type": "stream",
     "text": [
      "parameter force2D must be set to True to enable shape2D extraction\n",
      "GLCM is symmetrical, therefore Sum Average = 2 * Joint Average, only 1 needs to be calculated\n"
     ]
    },
    {
     "name": "stdout",
     "output_type": "stream",
     "text": [
      "[0.7454782409218299, 0.0, 0.0, 355.5611074308505, array(315.9375), array(213.75), array(389.33687614), array(389.33687614), array(17.43164062), 265.06306890776824, array(0.1750935), array(185.68334671), array(10.65208667), 101.07421875, array(1.), array(1.), array(115.), array(-3.2034265e-16), array(0.), array(0.), array(1.), array(0.), array(1.), array(1.), array(1.), array(0.), array(0.), array(1.), array(0.), array(101.07421875), array(1.), array(0.), array(1.), array(0.), array(0.), array(0.), array(0.), array(1.), array(0.), array(-3.2034265e-16), array(0.), array(1.), array(1.), array(1.), array(1.), array(0.), array(0.), array(0.), array(1.), array(1.), array(-3.2034265e-16), array(1), array(1.), array(2.), array(-3.2034265e-16), array(0.), array(0.29556078), array(103.62608696), array(0.90109641), array(0.0494518), array(115.), array(0.), array(1.), array(1.15652174), array(1.15652174), array(1.15652174), array(1.), array(0.96086957), array(0.96086957), array(0.96086957), array(114.25), array(1.), array(0.), array(1.), array(1.01985328), array(1.01985328), array(1.01985328), array(1.), array(0.05021408), array(112.77208508), array(0.98695958), array(0.99347826), array(0.00652021), array(0.99503668), array(0.99503668), array(0.99503668), array(112.), array(1.), array(0.), array(1.), array(1.08035714), array(1.08035714), array(1.08035714), array(1.), array(106.16071429), array(0.94786352), array(0.97991071), array(0.97991071), array(0.97991071), array(0.1780069), array(0.97391304), array(0.02606824), array(0.), array(1000000.), array(0.), array(0.), array(0.), 0]\n",
      "pancreas_healthy_0049.dcm\n"
     ]
    },
    {
     "name": "stderr",
     "output_type": "stream",
     "text": [
      "parameter force2D must be set to True to enable shape2D extraction\n",
      "GLCM is symmetrical, therefore Sum Average = 2 * Joint Average, only 1 needs to be calculated\n"
     ]
    },
    {
     "name": "stdout",
     "output_type": "stream",
     "text": [
      "[0.7795694657807275, 0.0, 0.0, 392.0456753938972, array(327.9296875), array(276.71875), array(386.22573134), array(386.22573134), array(27.57898966), 305.626837728465, array(0.14697781), array(300.34327422), array(10.89029286), 157.40203857421875, array(1.), array(1.), array(195.), array(-3.2034265e-16), array(0.), array(0.), array(1.), array(0.), array(1.), array(1.), array(1.), array(0.), array(0.), array(1.), array(0.), array(157.40203857), array(1.), array(0.), array(1.), array(0.), array(0.), array(0.), array(0.), array(1.), array(0.), array(-3.2034265e-16), array(0.), array(1.), array(1.), array(1.), array(1.), array(0.), array(0.), array(0.), array(1.), array(1.), array(-3.2034265e-16), array(1), array(1.), array(2.), array(-3.2034265e-16), array(0.), array(0.44412605), array(162.32307692), array(0.83242604), array(0.08378698), array(195.), array(0.), array(1.), array(1.27692308), array(1.27692308), array(1.27692308), array(1.), array(0.93076923), array(0.93076923), array(0.93076923), array(192.75), array(1.), array(0.), array(1.), array(1.0350755), array(1.0350755), array(1.0350755), array(1.), array(0.09050261), array(188.30981501), array(0.97692745), array(0.98846154), array(0.01153627), array(0.99123112), array(0.99123112), array(0.99123112), array(186.), array(1.), array(0.), array(1.), array(1.14516129), array(1.14516129), array(1.14516129), array(1.), array(168.87096774), array(0.90790843), array(0.96370968), array(0.96370968), array(0.96370968), array(0.27950555), array(0.95384615), array(0.04604579), array(0.), array(1000000.), array(0.), array(0.), array(0.), 0]\n",
      "pancreas_healthy_0050.dcm\n"
     ]
    },
    {
     "name": "stderr",
     "output_type": "stream",
     "text": [
      "parameter force2D must be set to True to enable shape2D extraction\n",
      "GLCM is symmetrical, therefore Sum Average = 2 * Joint Average, only 1 needs to be calculated\n"
     ]
    },
    {
     "name": "stdout",
     "output_type": "stream",
     "text": [
      "[0.8742765577406246, 0.0, 0.0, 302.09667879326133, array(273.515625), array(208.828125), array(301.07053864), array(301.07053864), array(19.94018555), 264.11604444024766, array(0.13418541), array(265.01163916), array(13.29032965), 116.6748046875, array(1.), array(1.), array(236.), array(-3.2034265e-16), array(0.), array(0.), array(1.), array(0.), array(1.), array(1.), array(1.), array(0.), array(0.), array(1.), array(0.), array(116.67480469), array(1.), array(0.), array(1.), array(0.), array(0.), array(0.), array(0.), array(1.), array(0.), array(-3.2034265e-16), array(0.), array(1.), array(1.), array(1.), array(1.), array(0.), array(0.), array(0.), array(1.), array(1.), array(-3.2034265e-16), array(1), array(1.), array(2.), array(-3.2034265e-16), array(0.), array(0.32474775), array(209.66101695), array(0.88839414), array(0.05580293), array(236.), array(0.), array(1.), array(1.1779661), array(1.1779661), array(1.1779661), array(1.), array(0.95550847), array(0.95550847), array(0.95550847), array(234.25), array(1.), array(0.), array(1.), array(1.02247717), array(1.02247717), array(1.02247717), array(1.), array(0.06032541), array(230.78640732), array(0.98517116), array(0.99258475), array(0.00741442), array(0.99438071), array(0.99438071), array(0.99438071), array(229.), array(1.), array(0.), array(1.), array(1.09170306), array(1.09170306), array(1.09170306), array(1.), array(215.4279476), array(0.9407334), array(0.97707424), array(0.97707424), array(0.97707424), array(0.19723083), array(0.97033898), array(0.0296333), array(0.), array(1000000.), array(0.), array(0.), array(0.), 0]\n",
      "pancreas_healthy_0051.dcm\n"
     ]
    },
    {
     "name": "stderr",
     "output_type": "stream",
     "text": [
      "parameter force2D must be set to True to enable shape2D extraction\n",
      "GLCM is symmetrical, therefore Sum Average = 2 * Joint Average, only 1 needs to be calculated\n"
     ]
    },
    {
     "name": "stdout",
     "output_type": "stream",
     "text": [
      "[0.9471467812949222, 0.0, 0.0, 308.6020851516511, array(276.328125), array(228.515625), array(326.96824562), array(326.96824562), array(11.37084961), 292.29147165228784, array(0.16778962), array(145.74074574), array(12.8170498), 63.28125, array(1.), array(1.), array(128.), array(-3.2034265e-16), array(0.), array(0.), array(1.), array(0.), array(1.), array(1.), array(1.), array(0.), array(0.), array(1.), array(0.), array(63.28125), array(1.), array(0.), array(1.), array(0.), array(0.), array(0.), array(0.), array(1.), array(0.), array(-3.2034265e-16), array(0.), array(1.), array(1.), array(1.), array(1.), array(0.), array(0.), array(0.), array(1.), array(1.), array(-3.2034265e-16), array(1), array(1.), array(2.), array(-3.2034265e-16), array(0.), array(0.44886449), array(106.25), array(0.83007812), array(0.08496094), array(128.), array(0.), array(1.), array(1.28125), array(1.28125), array(1.28125), array(1.), array(0.9296875), array(0.9296875), array(0.9296875), array(126.5), array(1.), array(0.), array(1.), array(1.03581027), array(1.03581027), array(1.03581027), array(1.), array(0.08682105), array(123.55581002), array(0.97657146), array(0.98828125), array(0.01171427), array(0.99104743), array(0.99104743), array(0.99104743), array(122.), array(1.), array(0.), array(1.), array(1.14754098), array(1.14754098), array(1.14754098), array(1.), array(110.59016393), array(0.90647675), array(0.96311475), array(0.96311475), array(0.96311475), array(0.28290479), array(0.953125), array(0.04676162), array(0.), array(1000000.), array(0.), array(0.), array(0.), 0]\n",
      "pancreas_healthy_0052.dcm\n"
     ]
    },
    {
     "name": "stderr",
     "output_type": "stream",
     "text": [
      "parameter force2D must be set to True to enable shape2D extraction\n",
      "GLCM is symmetrical, therefore Sum Average = 2 * Joint Average, only 1 needs to be calculated\n"
     ]
    },
    {
     "name": "stdout",
     "output_type": "stream",
     "text": [
      "[0.8692002059758617, 0.0, 0.0, 345.7380095735977, array(304.6875), array(266.40625), array(404.74857768), array(404.74857768), array(29.60205078), 300.51554913505555, array(0.12742859), array(363.16036003), array(12.26808111), 173.9501953125, array(1.), array(1.), array(285.), array(-3.2034265e-16), array(0.), array(0.), array(1.), array(0.), array(1.), array(1.), array(1.), array(0.), array(0.), array(1.), array(0.), array(173.95019531), array(1.), array(0.), array(1.), array(0.), array(0.), array(0.), array(0.), array(1.), array(0.), array(-3.2034265e-16), array(0.), array(1.), array(1.), array(1.), array(1.), array(0.), array(0.), array(0.), array(1.), array(1.), array(-3.2034265e-16), array(1), array(1.), array(2.), array(-3.2034265e-16), array(0.), array(0.25278277), array(263.77894737), array(0.92554017), array(0.04734995), array(285.), array(0.), array(1.), array(1.13333333), array(1.13333333), array(1.13333333), array(1.), array(0.9705653), array(0.9705653), array(0.9705653), array(283.5), array(1.), array(0.), array(1.), array(1.0158824), array(1.0158824), array(1.0158824), array(1.), array(0.04720957), array(280.5176554), array(0.98947408), array(0.99473684), array(0.00526296), array(0.9960294), array(0.9960294), array(0.9960294), array(279.), array(1.), array(0.), array(1.), array(1.07168459), array(1.07168459), array(1.07168459), array(1.), array(269.15053763), array(0.96469727), array(0.98606133), array(0.98606133), array(0.98606133), array(0.14254142), array(0.97894737), array(0.02821135), array(0.), array(1000000.), array(0.), array(0.), array(0.), 0]\n",
      "pancreas_healthy_0053.dcm\n"
     ]
    },
    {
     "name": "stderr",
     "output_type": "stream",
     "text": [
      "parameter force2D must be set to True to enable shape2D extraction\n",
      "GLCM is symmetrical, therefore Sum Average = 2 * Joint Average, only 1 needs to be calculated\n"
     ]
    },
    {
     "name": "stdout",
     "output_type": "stream",
     "text": [
      "[0.8468492381730923, 0.0, 0.0, 230.11012393244627, array(269.4140625), array(217.4609375), array(310.46156454), array(310.46156454), array(47.09701538), 194.868583148108, array(0.10824919), array(582.62404204), array(12.3707211), 263.85345458984375, array(1.), array(1.), array(479.), array(-3.2034265e-16), array(0.), array(0.), array(1.), array(0.), array(1.), array(1.), array(1.), array(0.), array(0.), array(1.), array(0.), array(263.85345459), array(1.), array(0.), array(1.), array(0.), array(0.), array(0.), array(0.), array(1.), array(0.), array(-3.2034265e-16), array(0.), array(1.), array(1.), array(1.), array(1.), array(0.), array(0.), array(0.), array(1.), array(1.), array(-3.2034265e-16), array(1), array(1.), array(2.), array(-3.2034265e-16), array(0.), array(0.59956404), array(363.46764092), array(0.7588051), array(0.12598446), array(479.), array(0.), array(1.), array(1.43006263), array(1.43006263), array(1.43006263), array(1.), array(0.89480399), array(0.89480399), array(0.89480399), array(470.5), array(1.), array(0.), array(1.), array(1.05428389), array(1.05428389), array(1.05428389), array(1.), array(0.12939832), array(453.83465695), array(0.9645241), array(0.9822547), array(0.01773795), array(0.98642903), array(0.98642903), array(0.98642903), array(445.), array(1.), array(0.), array(1.), array(1.23370787), array(1.23370787), array(1.23370787), array(1.), array(383.7505618), array(0.86236081), array(0.94406991), array(0.94406991), array(0.94406991), array(0.39577789), array(0.92901879), array(0.07506123), array(0.), array(1000000.), array(0.), array(0.), array(0.), 0]\n",
      "pancreas_healthy_0054.dcm\n"
     ]
    },
    {
     "name": "stderr",
     "output_type": "stream",
     "text": [
      "parameter force2D must be set to True to enable shape2D extraction\n",
      "/home/adithya/anaconda3/envs/Major_Proj/lib/python3.9/site-packages/radiomics/glcm.py:258: RuntimeWarning: Mean of empty slice\n",
      "  return numpy.nanmean(ac, 1)\n",
      "/home/adithya/anaconda3/envs/Major_Proj/lib/python3.9/site-packages/radiomics/glcm.py:294: RuntimeWarning: Mean of empty slice\n",
      "  return numpy.nanmean(cp, 1)\n",
      "/home/adithya/anaconda3/envs/Major_Proj/lib/python3.9/site-packages/radiomics/glcm.py:312: RuntimeWarning: Mean of empty slice\n",
      "  return numpy.nanmean(cs, 1)\n",
      "/home/adithya/anaconda3/envs/Major_Proj/lib/python3.9/site-packages/radiomics/glcm.py:329: RuntimeWarning: Mean of empty slice\n",
      "  return numpy.nanmean(ct, 1)\n",
      "/home/adithya/anaconda3/envs/Major_Proj/lib/python3.9/site-packages/radiomics/glcm.py:344: RuntimeWarning: Mean of empty slice\n",
      "  return numpy.nanmean(cont, 1)\n",
      "/home/adithya/anaconda3/envs/Major_Proj/lib/python3.9/site-packages/radiomics/glcm.py:374: RuntimeWarning: Mean of empty slice\n",
      "  return numpy.nanmean(corr, (1, 2, 3))\n",
      "/home/adithya/anaconda3/envs/Major_Proj/lib/python3.9/site-packages/radiomics/glcm.py:390: RuntimeWarning: Mean of empty slice\n",
      "  return numpy.nanmean(diffavg, 1)\n",
      "/home/adithya/anaconda3/envs/Major_Proj/lib/python3.9/site-packages/radiomics/glcm.py:405: RuntimeWarning: Mean of empty slice\n",
      "  return numpy.nanmean(difent, 1)\n",
      "/home/adithya/anaconda3/envs/Major_Proj/lib/python3.9/site-packages/radiomics/glcm.py:421: RuntimeWarning: Mean of empty slice\n",
      "  return numpy.nanmean(diffvar, 1)\n",
      "/home/adithya/anaconda3/envs/Major_Proj/lib/python3.9/site-packages/radiomics/glcm.py:691: RuntimeWarning: Mean of empty slice\n",
      "  return numpy.nanmean(invDiff, 1)\n",
      "/home/adithya/anaconda3/envs/Major_Proj/lib/python3.9/site-packages/radiomics/glcm.py:618: RuntimeWarning: Mean of empty slice\n",
      "  return numpy.nanmean(idm, 1)\n",
      "/home/adithya/anaconda3/envs/Major_Proj/lib/python3.9/site-packages/radiomics/glcm.py:676: RuntimeWarning: Mean of empty slice\n",
      "  return numpy.nanmean(idmn, 1)\n",
      "/home/adithya/anaconda3/envs/Major_Proj/lib/python3.9/site-packages/radiomics/glcm.py:709: RuntimeWarning: Mean of empty slice\n",
      "  return numpy.nanmean(idn, 1)\n",
      "/home/adithya/anaconda3/envs/Major_Proj/lib/python3.9/site-packages/radiomics/glcm.py:567: RuntimeWarning: Mean of empty slice\n",
      "  return numpy.nanmean(imc1, 1)\n",
      "/home/adithya/anaconda3/envs/Major_Proj/lib/python3.9/site-packages/radiomics/glcm.py:602: RuntimeWarning: Mean of empty slice\n",
      "  return numpy.nanmean(imc2, 1)\n",
      "/home/adithya/anaconda3/envs/Major_Proj/lib/python3.9/site-packages/radiomics/glcm.py:723: RuntimeWarning: Mean of empty slice\n",
      "  return numpy.nanmean(inv, 1)\n",
      "/home/adithya/anaconda3/envs/Major_Proj/lib/python3.9/site-packages/radiomics/glcm.py:276: RuntimeWarning: Mean of empty slice.\n",
      "  return self.coefficients['ux'].mean((1, 2, 3))\n",
      "/home/adithya/anaconda3/envs/Major_Proj/lib/python3.9/site-packages/numpy/core/_methods.py:121: RuntimeWarning: invalid value encountered in divide\n",
      "  ret = um.true_divide(\n",
      "/home/adithya/anaconda3/envs/Major_Proj/lib/python3.9/site-packages/radiomics/glcm.py:457: RuntimeWarning: Mean of empty slice\n",
      "  return numpy.nanmean(ene, 1)\n",
      "/home/adithya/anaconda3/envs/Major_Proj/lib/python3.9/site-packages/radiomics/glcm.py:474: RuntimeWarning: Mean of empty slice\n",
      "  return numpy.nanmean(ent, 1)\n",
      "/home/adithya/anaconda3/envs/Major_Proj/lib/python3.9/site-packages/radiomics/glcm.py:740: RuntimeWarning: Mean of empty slice\n",
      "  return numpy.nanmean(maxprob, 1)\n",
      "GLCM is symmetrical, therefore Sum Average = 2 * Joint Average, only 1 needs to be calculated\n",
      "/home/adithya/anaconda3/envs/Major_Proj/lib/python3.9/site-packages/radiomics/glcm.py:767: RuntimeWarning: Mean of empty slice\n",
      "  return numpy.nanmean(sumavg, 1)\n",
      "/home/adithya/anaconda3/envs/Major_Proj/lib/python3.9/site-packages/radiomics/glcm.py:799: RuntimeWarning: Mean of empty slice\n",
      "  return numpy.nanmean(sumentr, 1)\n",
      "/home/adithya/anaconda3/envs/Major_Proj/lib/python3.9/site-packages/radiomics/glcm.py:827: RuntimeWarning: Mean of empty slice\n",
      "  return numpy.nanmean(ss, 1)\n"
     ]
    },
    {
     "name": "stdout",
     "output_type": "stream",
     "text": [
      "[0.6799791761422943, 0.0, 0.0, 307.5869839719859, array(247.5), array(163.28125), array(283.17156074), array(283.17156074), array(8.00069173), 209.15274395336405, array(0.20927372), array(92.43883386), array(11.55385521), 48.004150390625, array(1.), array(1.), array(65.), array(-3.2034265e-16), array(0.), array(0.), array(1.), array(0.), array(1.), array(1.), array(1.), array(0.), array(0.), array(1.), array(0.), array(48.00415039), array(1.), array(0.), array(nan), array(nan), array(nan), array(nan), array(nan), array(nan), array(nan), array(nan), array(nan), array(nan), array(nan), array(nan), array(nan), array(nan), array(nan), array(nan), array(nan), array(nan), array(nan), array(1), array(nan), array(nan), array(nan), array(nan), array(-3.2034265e-16), array(65.), array(1.), array(0.), array(65.), array(0.), array(1.), array(1.), array(1.), array(1.), array(1.), array(1.), array(1.), array(1.), array(65.), array(1.), array(0.), array(1.), array(1.), array(1.), array(1.), array(1.), array(-3.2034265e-16), array(65.), array(1.), array(1.), array(0.), array(1.), array(1.), array(1.), array(65.), array(1.), array(0.), array(1.), array(1.), array(1.), array(1.), array(1.), array(65.), array(1.), array(1.), array(1.), array(1.), array(-3.2034265e-16), array(1.), array(0.), array(0.), array(1000000.), array(0.), array(0.), array(0.), 0]\n",
      "pancreas_healthy_0055.dcm\n"
     ]
    },
    {
     "name": "stderr",
     "output_type": "stream",
     "text": [
      "parameter force2D must be set to True to enable shape2D extraction\n",
      "GLCM is symmetrical, therefore Sum Average = 2 * Joint Average, only 1 needs to be calculated\n"
     ]
    },
    {
     "name": "stdout",
     "output_type": "stream",
     "text": [
      "[0.9293385384313851, 0.0, 0.0, 267.5451307521952, array(233.10546875), array(170.8984375), array(354.46824342), array(354.46824342), array(14.17477926), 248.6400007776789, array(0.14931085), array(189.70128748), array(13.38301529), 81.31027221679688, array(1.), array(1.), array(174.), array(-3.2034265e-16), array(0.), array(0.), array(1.), array(0.), array(1.), array(1.), array(1.), array(0.), array(0.), array(1.), array(0.), array(81.31027222), array(1.), array(0.), array(1.), array(0.), array(0.), array(0.), array(0.), array(1.), array(0.), array(-3.2034265e-16), array(0.), array(1.), array(1.), array(1.), array(1.), array(0.), array(0.), array(0.), array(1.), array(1.), array(-3.2034265e-16), array(1), array(1.), array(2.), array(-3.2034265e-16), array(0.), array(0.3173239), array(155.14942529), array(0.89166336), array(0.05416832), array(174.), array(0.), array(1.), array(1.17241379), array(1.17241379), array(1.17241379), array(1.), array(0.95689655), array(0.95689655), array(0.95689655), array(172.75), array(1.), array(0.), array(1.), array(1.02177712), array(1.02177712), array(1.02177712), array(1.), array(0.05852327), array(170.27614599), array(0.98563383), array(0.99281609), array(0.00718308), array(0.99455572), array(0.99455572), array(0.99455572), array(169.), array(1.), array(0.), array(1.), array(1.0887574), array(1.0887574), array(1.0887574), array(1.), array(159.29585799), array(0.94257904), array(0.97781065), array(0.97781065), array(0.97781065), array(0.19231039), array(0.97126437), array(0.02871048), array(0.), array(1000000.), array(0.), array(0.), array(0.), 0]\n",
      "pancreas_healthy_0056.dcm\n"
     ]
    },
    {
     "name": "stderr",
     "output_type": "stream",
     "text": [
      "parameter force2D must be set to True to enable shape2D extraction\n",
      "GLCM is symmetrical, therefore Sum Average = 2 * Joint Average, only 1 needs to be calculated\n"
     ]
    },
    {
     "name": "stdout",
     "output_type": "stream",
     "text": [
      "[0.8505854442152555, 0.0, 0.0, 394.8653889593234, array(343.75), array(272.4609375), array(394.15035179), array(394.15035179), array(34.33227539), 335.86675227319574, array(0.14846494), array(344.08199172), array(10.0221144), 190.73486328125, array(1.), array(1.), array(200.), array(-3.2034265e-16), array(0.), array(0.), array(1.), array(0.), array(1.), array(1.), array(1.), array(0.), array(0.), array(1.), array(0.), array(190.73486328), array(1.), array(0.), array(1.), array(0.), array(0.), array(0.), array(0.), array(1.), array(0.), array(-3.2034265e-16), array(0.), array(1.), array(1.), array(1.), array(1.), array(0.), array(0.), array(0.), array(1.), array(1.), array(-3.2034265e-16), array(1), array(1.), array(2.), array(-3.2034265e-16), array(0.), array(0.43646982), array(167.24), array(0.8362), array(0.0819), array(200.), array(0.), array(1.), array(1.27), array(1.27), array(1.27), array(1.), array(0.9325), array(0.9325), array(0.9325), array(197.75), array(1.), array(0.), array(1.), array(1.03442093), array(1.03442093), array(1.03442093), array(1.), array(0.08284516), array(193.33945777), array(0.97751002), array(0.98875), array(0.01124499), array(0.99139477), array(0.99139477), array(0.99139477), array(191.), array(1.), array(0.), array(1.), array(1.14136126), array(1.14136126), array(1.14136126), array(1.), array(173.84816754), array(0.91019983), array(0.96465969), array(0.96465969), array(0.96465969), array(0.27403642), array(0.955), array(0.04490008), array(0.), array(1000000.), array(0.), array(0.), array(0.), 0]\n",
      "pancreas_healthy_0057.dcm\n"
     ]
    },
    {
     "name": "stderr",
     "output_type": "stream",
     "text": [
      "parameter force2D must be set to True to enable shape2D extraction\n",
      "GLCM is symmetrical, therefore Sum Average = 2 * Joint Average, only 1 needs to be calculated\n"
     ]
    },
    {
     "name": "stdout",
     "output_type": "stream",
     "text": [
      "[0.7989618277968996, 0.0, 0.0, 412.5982702007646, array(356.4453125), array(298.828125), array(423.90574786), array(423.90574786), array(37.11382548), 329.65026810544197, array(0.14095416), array(381.73623358), array(10.28555339), 213.623046875, array(1.), array(1.), array(224.), array(-3.2034265e-16), array(0.), array(0.), array(1.), array(0.), array(1.), array(1.), array(1.), array(0.), array(0.), array(1.), array(0.), array(213.62304688), array(1.), array(0.), array(1.), array(0.), array(0.), array(0.), array(0.), array(1.), array(0.), array(-3.2034265e-16), array(0.), array(1.), array(1.), array(1.), array(1.), array(0.), array(0.), array(0.), array(1.), array(1.), array(-3.2034265e-16), array(1), array(1.), array(2.), array(-3.2034265e-16), array(0.), array(0.47231783), array(188.79464286), array(0.84283323), array(0.11535395), array(224.), array(0.), array(1.), array(1.32142857), array(1.32142857), array(1.32142857), array(1.), array(0.93452381), array(0.93452381), array(0.93452381), array(221.25), array(1.), array(0.), array(1.), array(1.03733087), array(1.03733087), array(1.03733087), array(1.), array(0.09576472), array(215.82474365), array(0.97545134), array(0.98772321), array(0.01227433), array(0.99066728), array(0.99066728), array(0.99066728), array(214.), array(1.), array(0.), array(1.), array(1.14953271), array(1.14953271), array(1.14953271), array(1.), array(196.68224299), array(0.9190759), array(0.96780893), array(0.96780893), array(0.96780893), array(0.27280614), array(0.95535714), array(0.05389117), array(0.), array(1000000.), array(0.), array(0.), array(0.), 0]\n",
      "pancreas_healthy_0058.dcm\n"
     ]
    },
    {
     "name": "stderr",
     "output_type": "stream",
     "text": [
      "parameter force2D must be set to True to enable shape2D extraction\n",
      "GLCM is symmetrical, therefore Sum Average = 2 * Joint Average, only 1 needs to be calculated\n"
     ]
    },
    {
     "name": "stdout",
     "output_type": "stream",
     "text": [
      "[0.8890266426924882, 0.0, 0.0, 313.83505869726343, array(271.875), array(253.125), array(335.6521317), array(335.6521317), array(25.32958984), 279.0077285928281, array(0.1415397), array(294.6849602), array(11.63402021), 139.16015625, array(1.), array(1.), array(228.), array(-3.2034265e-16), array(0.), array(0.), array(1.), array(0.), array(1.), array(1.), array(1.), array(0.), array(0.), array(1.), array(0.), array(139.16015625), array(1.), array(0.), array(1.), array(0.), array(0.), array(0.), array(0.), array(1.), array(0.), array(-3.2034265e-16), array(0.), array(1.), array(1.), array(1.), array(1.), array(0.), array(0.), array(0.), array(1.), array(1.), array(-3.2034265e-16), array(1), array(1.), array(2.), array(-3.2034265e-16), array(0.), array(0.53934228), array(187.40350877), array(0.82194521), array(0.16035703), array(228.), array(0.), array(1.), array(1.42105263), array(1.42105263), array(1.42105263), array(1.), array(0.92397661), array(0.92397661), array(0.92397661), array(224.5), array(1.), array(0.), array(1.), array(1.04690744), array(1.04690744), array(1.04690744), array(1.), array(0.11415956), array(217.62993064), array(0.96931054), array(0.98464912), array(0.01534473), array(0.98827314), array(0.98827314), array(0.98827314), array(216.), array(1.), array(0.), array(1.), array(1.18518519), array(1.18518519), array(1.18518519), array(1.), array(196.77777778), array(0.91100823), array(0.96399177), array(0.96399177), array(0.96399177), array(0.30387311), array(0.94736842), array(0.07098765), array(0.), array(1000000.), array(0.), array(0.), array(0.), 0]\n",
      "pancreas_healthy_0059.dcm\n"
     ]
    },
    {
     "name": "stderr",
     "output_type": "stream",
     "text": [
      "parameter force2D must be set to True to enable shape2D extraction\n",
      "GLCM is symmetrical, therefore Sum Average = 2 * Joint Average, only 1 needs to be calculated\n"
     ]
    },
    {
     "name": "stdout",
     "output_type": "stream",
     "text": [
      "[0.8935559814396105, 0.0, 0.0, 352.15158721456146, array(243.31835938), array(230.16601562), array(371.29440978), array(371.29440978), array(18.09272957), 314.667157129024, array(0.17379325), array(191.77291997), array(10.59944655), 105.02608871459961, array(1.), array(1.), array(119.), array(-3.2034265e-16), array(0.), array(0.), array(1.), array(0.), array(1.), array(1.), array(1.), array(0.), array(0.), array(1.), array(0.), array(105.02608871), array(1.), array(0.), array(1.), array(0.), array(0.), array(0.), array(0.), array(1.), array(0.), array(-3.2034265e-16), array(0.), array(1.), array(1.), array(1.), array(1.), array(0.), array(0.), array(0.), array(1.), array(1.), array(-3.2034265e-16), array(1), array(1.), array(2.), array(-3.2034265e-16), array(0.), array(0.21220133), array(111.26890756), array(0.93503284), array(0.03248358), array(119.), array(0.), array(1.), array(1.10084034), array(1.10084034), array(1.10084034), array(1.), array(0.97478992), array(0.97478992), array(0.97478992), array(118.5), array(1.), array(0.), array(1.), array(1.01271186), array(1.01271186), array(1.01271186), array(1.), array(0.03525088), array(117.50847458), array(0.99159724), array(0.99579832), array(0.00420138), array(0.99682203), array(0.99682203), array(0.99682203), array(117.), array(1.), array(0.), array(1.), array(1.05128205), array(1.05128205), array(1.05128205), array(1.), array(113.06837607), array(0.96639638), array(0.98717949), array(0.98717949), array(0.98717949), array(0.12479758), array(0.98319328), array(0.01680181), array(0.), array(1000000.), array(0.), array(0.), array(0.), 0]\n",
      "pancreas_healthy_0060.dcm\n"
     ]
    },
    {
     "name": "stderr",
     "output_type": "stream",
     "text": [
      "parameter force2D must be set to True to enable shape2D extraction\n",
      "GLCM is symmetrical, therefore Sum Average = 2 * Joint Average, only 1 needs to be calculated\n"
     ]
    },
    {
     "name": "stdout",
     "output_type": "stream",
     "text": [
      "[0.7778128408307313, 0.0, 0.0, 343.32676516700406, array(296.875), array(217.1875), array(372.98694708), array(372.98694708), array(23.70198568), 267.04396654777275, array(0.14203881), array(280.93138423), array(11.85265184), 132.4462890625, array(1.), array(1.), array(217.), array(-3.2034265e-16), array(0.), array(0.), array(1.), array(0.), array(1.), array(1.), array(1.), array(0.), array(0.), array(1.), array(0.), array(132.44628906), array(1.), array(0.), array(1.), array(0.), array(0.), array(0.), array(0.), array(1.), array(0.), array(-3.2034265e-16), array(0.), array(1.), array(1.), array(1.), array(1.), array(0.), array(0.), array(0.), array(1.), array(1.), array(-3.2034265e-16), array(1), array(1.), array(2.), array(-3.2034265e-16), array(0.), array(0.51505083), array(175.67281106), array(0.80955212), array(0.10758351), array(217.), array(0.), array(1.), array(1.34101382), array(1.34101382), array(1.34101382), array(1.), array(0.91986687), array(0.91986687), array(0.91986687), array(214.), array(1.), array(0.), array(1.), array(1.04480666), array(1.04480666), array(1.04480666), array(1.), array(0.10014441), array(208.59472899), array(0.97454587), array(0.98617512), array(0.01619645), array(0.99012109), array(0.99012109), array(0.99012109), array(205.), array(1.), array(0.), array(1.), array(1.18536585), array(1.18536585), array(1.18536585), array(1.), array(184.08292683), array(0.8979655), array(0.95907859), array(0.95907859), array(0.95907859), array(0.32532219), array(0.94470046), array(0.06486615), array(0.), array(1000000.), array(0.), array(0.), array(0.), 0]\n",
      "pancreas_healthy_0061.dcm\n"
     ]
    },
    {
     "name": "stderr",
     "output_type": "stream",
     "text": [
      "parameter force2D must be set to True to enable shape2D extraction\n",
      "GLCM is symmetrical, therefore Sum Average = 2 * Joint Average, only 1 needs to be calculated\n"
     ]
    },
    {
     "name": "stdout",
     "output_type": "stream",
     "text": [
      "[0.9467153730470697, 0.0, 0.0, 334.0324130995692, array(266.25), array(255.), array(393.28208805), array(393.28208805), array(17.578125), 316.23362057737154, array(0.17457749), array(187.27403483), array(10.65381176), 101.953125, array(1.), array(1.), array(116.), array(-3.2034265e-16), array(0.), array(0.), array(1.), array(0.), array(1.), array(1.), array(1.), array(0.), array(0.), array(1.), array(0.), array(101.953125), array(1.), array(0.), array(1.), array(0.), array(0.), array(0.), array(0.), array(1.), array(0.), array(-3.2034265e-16), array(0.), array(1.), array(1.), array(1.), array(1.), array(0.), array(0.), array(0.), array(1.), array(1.), array(-3.2034265e-16), array(1), array(1.), array(2.), array(-3.2034265e-16), array(0.), array(0.36451663), array(102.74137931), array(0.88570155), array(0.08145065), array(116.), array(0.), array(1.), array(1.22413793), array(1.22413793), array(1.22413793), array(1.), array(0.95354406), array(0.95354406), array(0.95354406), array(115.), array(1.), array(0.), array(1.), array(1.02620137), array(1.02620137), array(1.02620137), array(1.), array(0.06786286), array(113.02623951), array(0.98276193), array(0.99137931), array(0.00861904), array(0.99344966), array(0.99344966), array(0.99344966), array(112.), array(1.), array(0.), array(1.), array(1.125), array(1.125), array(1.125), array(1.), array(106.125), array(0.94754464), array(0.97867063), array(0.97867063), array(0.97867063), array(0.20260411), array(0.96551724), array(0.05229592), array(0.), array(1000000.), array(0.), array(0.), array(0.), 0]\n",
      "pancreas_healthy_0062.dcm\n"
     ]
    },
    {
     "name": "stderr",
     "output_type": "stream",
     "text": [
      "parameter force2D must be set to True to enable shape2D extraction\n",
      "GLCM is symmetrical, therefore Sum Average = 2 * Joint Average, only 1 needs to be calculated\n"
     ]
    },
    {
     "name": "stdout",
     "output_type": "stream",
     "text": [
      "[0.8941223982465519, 0.0, 0.0, 278.51775259381867, array(237.68164062), array(249.89453125), array(309.50382652), array(309.50382652), array(23.38816261), 249.02896090342492, array(0.16705546), array(236.74865661), array(10.12258468), 126.20782089233398, array(1.), array(1.), array(143.), array(-3.2034265e-16), array(0.), array(0.), array(1.), array(0.), array(1.), array(1.), array(1.), array(0.), array(0.), array(1.), array(0.), array(126.20782089), array(1.), array(0.), array(1.), array(0.), array(0.), array(0.), array(0.), array(1.), array(0.), array(-3.2034265e-16), array(0.), array(1.), array(1.), array(1.), array(1.), array(0.), array(0.), array(0.), array(1.), array(1.), array(-3.2034265e-16), array(1), array(1.), array(2.), array(-3.2034265e-16), array(0.), array(0.67781283), array(104.09090909), array(0.72790846), array(0.15365055), array(143.), array(0.), array(1.), array(1.51748252), array(1.51748252), array(1.51748252), array(1.), array(0.87839938), array(0.87839938), array(0.87839938), array(140.), array(1.), array(0.), array(1.), array(1.06459846), array(1.06459846), array(1.06459846), array(1.), array(0.14599774), array(134.15838655), array(0.95807471), array(0.97902098), array(0.02096264), array(0.98385038), array(0.98385038), array(0.98385038), array(131.), array(1.), array(0.), array(1.), array(1.29007634), array(1.29007634), array(1.29007634), array(1.), array(110.69465649), array(0.84499738), array(0.93596268), array(0.93596268), array(0.93596268), array(0.45291802), array(0.91608392), array(0.09847911), array(0.), array(1000000.), array(0.), array(0.), array(0.), 0]\n",
      "pancreas_healthy_0063.dcm\n"
     ]
    },
    {
     "name": "stderr",
     "output_type": "stream",
     "text": [
      "parameter force2D must be set to True to enable shape2D extraction\n",
      "GLCM is symmetrical, therefore Sum Average = 2 * Joint Average, only 1 needs to be calculated\n"
     ]
    },
    {
     "name": "stdout",
     "output_type": "stream",
     "text": [
      "[0.8838537989898291, 0.0, 0.0, 323.1856510892839, array(310.976772), array(266.445492), array(335.73487605), array(335.73487605), array(22.44685336), 285.64886549426495, array(0.13828368), array(278.28097865), array(12.39732688), 127.24473931646398, array(1.), array(1.), array(231.), array(-3.2034265e-16), array(0.), array(0.), array(1.), array(0.), array(1.), array(1.), array(1.), array(0.), array(0.), array(1.), array(0.), array(127.24473932), array(1.), array(0.), array(1.), array(0.), array(0.), array(0.), array(0.), array(1.), array(0.), array(-3.2034265e-16), array(0.), array(1.), array(1.), array(1.), array(1.), array(0.), array(0.), array(0.), array(1.), array(1.), array(-3.2034265e-16), array(1), array(1.), array(2.), array(-3.2034265e-16), array(0.), array(0.35634492), array(206.2034632), array(0.89265568), array(0.09044058), array(231.), array(0.), array(1.), array(1.23376623), array(1.23376623), array(1.23376623), array(1.), array(0.95598846), array(0.95598846), array(0.95598846), array(229.), array(1.), array(0.), array(1.), array(1.02640401), array(1.02640401), array(1.02640401), array(1.), array(0.06646265), array(225.06621727), array(0.98268965), array(0.99134199), array(0.00865517), array(0.993399), array(0.993399), array(0.993399), array(224.), array(1.), array(0.), array(1.), array(1.10267857), array(1.10267857), array(1.10267857), array(1.), array(212.27678571), array(0.94766422), array(0.97929067), array(0.97929067), array(0.97929067), array(0.19541821), array(0.96969697), array(0.03920201), array(0.), array(1000000.), array(0.), array(0.), array(0.), 0]\n",
      "pancreas_healthy_0064.dcm\n"
     ]
    },
    {
     "name": "stderr",
     "output_type": "stream",
     "text": [
      "parameter force2D must be set to True to enable shape2D extraction\n",
      "GLCM is symmetrical, therefore Sum Average = 2 * Joint Average, only 1 needs to be calculated\n"
     ]
    },
    {
     "name": "stdout",
     "output_type": "stream",
     "text": [
      "[0.8353077197971142, 0.0, 0.0, 327.0967812684968, array(382.734375), array(230.), array(394.4641999), array(394.4641999), array(18.430837), 273.22646651436344, array(0.16702215), array(202.0257633), array(10.96129076), 107.35626220703125, array(1.), array(1.), array(133.), array(-3.2034265e-16), array(0.), array(0.), array(1.), array(0.), array(1.), array(1.), array(1.), array(0.), array(0.), array(1.), array(0.), array(107.35626221), array(1.), array(0.), array(1.), array(0.), array(0.), array(0.), array(0.), array(1.), array(0.), array(-3.2034265e-16), array(0.), array(1.), array(1.), array(1.), array(1.), array(0.), array(0.), array(0.), array(1.), array(1.), array(-3.2034265e-16), array(1), array(1.), array(2.), array(-3.2034265e-16), array(0.), array(0.26526191), array(121.54135338), array(0.91384476), array(0.04307762), array(133.), array(0.), array(1.), array(1.13533835), array(1.13533835), array(1.13533835), array(1.), array(0.96616541), array(0.96616541), array(0.96616541), array(132.25), array(1.), array(0.), array(1.), array(1.01704545), array(1.01704545), array(1.01704545), array(1.), array(0.04819097), array(130.76136364), array(0.98872245), array(0.9943609), array(0.00563877), array(0.99573864), array(0.99573864), array(0.99573864), array(130.), array(1.), array(0.), array(1.), array(1.06923077), array(1.06923077), array(1.06923077), array(1.), array(124.13846154), array(0.95491124), array(0.98269231), array(0.98269231), array(0.98269231), array(0.15838441), array(0.97744361), array(0.02254438), array(0.), array(1000000.), array(0.), array(0.), array(0.), 0]\n",
      "pancreas_healthy_0065.dcm\n"
     ]
    },
    {
     "name": "stderr",
     "output_type": "stream",
     "text": [
      "parameter force2D must be set to True to enable shape2D extraction\n",
      "GLCM is symmetrical, therefore Sum Average = 2 * Joint Average, only 1 needs to be calculated\n"
     ]
    },
    {
     "name": "stdout",
     "output_type": "stream",
     "text": [
      "[0.7629483249443977, 0.0, 0.0, 363.78625397984865, array(312.5), array(201.171875), array(393.06488985), array(393.06488985), array(19.78874207), 277.5501131117228, array(0.17797295), array(198.79658326), array(10.04594343), 109.67254638671875, array(1.), array(1.), array(115.), array(-3.2034265e-16), array(0.), array(0.), array(1.), array(0.), array(1.), array(1.), array(1.), array(0.), array(0.), array(1.), array(0.), array(109.67254639), array(1.), array(0.), array(1.), array(0.), array(0.), array(0.), array(0.), array(1.), array(0.), array(-3.2034265e-16), array(0.), array(1.), array(1.), array(1.), array(1.), array(0.), array(0.), array(0.), array(1.), array(1.), array(-3.2034265e-16), array(1), array(1.), array(2.), array(-3.2034265e-16), array(0.), array(0.51065914), array(96.32173913), array(0.83758034), array(0.17648393), array(115.), array(0.), array(1.), array(1.43478261), array(1.43478261), array(1.43478261), array(1.), array(0.92995169), array(0.92995169), array(0.92995169), array(113.25), array(1.), array(0.), array(1.), array(1.0512218), array(1.0512218), array(1.0512218), array(1.), array(0.09940875), array(110.30795739), array(0.9738094), array(0.98478261), array(0.01967215), array(0.98967471), array(0.98967471), array(0.98967471), array(109.), array(1.), array(0.), array(1.), array(1.20183486), array(1.20183486), array(1.20183486), array(1.), array(101.22018349), array(0.92862554), array(0.96992864), array(0.96992864), array(0.96992864), array(0.26363589), array(0.94782609), array(0.08871307), array(0.), array(1000000.), array(0.), array(0.), array(0.), 0]\n",
      "pancreas_healthy_0066.dcm\n"
     ]
    },
    {
     "name": "stderr",
     "output_type": "stream",
     "text": [
      "parameter force2D must be set to True to enable shape2D extraction\n",
      "GLCM is symmetrical, therefore Sum Average = 2 * Joint Average, only 1 needs to be calculated\n"
     ]
    },
    {
     "name": "stdout",
     "output_type": "stream",
     "text": [
      "[0.65297793553018, 0.0, 0.0, 363.5597326059749, array(266.40625), array(242.96875), array(371.64679185), array(371.64679185), array(17.39501953), 237.39648363895378, array(0.15926945), array(203.84571384), array(11.71862518), 95.8251953125, array(1.), array(1.), array(157.), array(-3.2034265e-16), array(0.), array(0.), array(1.), array(0.), array(1.), array(1.), array(1.), array(0.), array(0.), array(1.), array(0.), array(95.82519531), array(1.), array(0.), array(1.), array(0.), array(0.), array(0.), array(0.), array(1.), array(0.), array(-3.2034265e-16), array(0.), array(1.), array(1.), array(1.), array(1.), array(0.), array(0.), array(0.), array(1.), array(1.), array(-3.2034265e-16), array(1), array(1.), array(2.), array(-3.2034265e-16), array(0.), array(0.51378343), array(125.12738854), array(0.79698974), array(0.10150513), array(157.), array(0.), array(1.), array(1.34394904), array(1.34394904), array(1.34394904), array(1.), array(0.91401274), array(0.91401274), array(0.91401274), array(154.75), array(1.), array(0.), array(1.), array(1.0442244), array(1.0442244), array(1.0442244), array(1.), array(0.1022088), array(150.37882068), array(0.97136814), array(0.98566879), array(0.01431593), array(0.9889439), array(0.9889439), array(0.9889439), array(148.), array(1.), array(0.), array(1.), array(1.18243243), array(1.18243243), array(1.18243243), array(1.), array(131.09459459), array(0.88577429), array(0.95439189), array(0.95439189), array(0.95439189), array(0.33065516), array(0.94267516), array(0.05711286), array(0.), array(1000000.), array(0.), array(0.), array(0.), 0]\n",
      "pancreas_healthy_0067.dcm\n"
     ]
    },
    {
     "name": "stderr",
     "output_type": "stream",
     "text": [
      "parameter force2D must be set to True to enable shape2D extraction\n",
      "GLCM is symmetrical, therefore Sum Average = 2 * Joint Average, only 1 needs to be calculated\n"
     ]
    },
    {
     "name": "stdout",
     "output_type": "stream",
     "text": [
      "[0.8519643415277081, 0.0, 0.0, 362.3769740214605, array(332.03125), array(277.34375), array(383.87229735), array(383.87229735), array(25.74920654), 308.73226005699695, array(0.15497363), array(272.10439822), array(10.56748672), 152.587890625, array(1.), array(1.), array(160.), array(-3.2034265e-16), array(0.), array(0.), array(1.), array(0.), array(1.), array(1.), array(1.), array(0.), array(0.), array(1.), array(0.), array(152.58789062), array(1.), array(0.), array(1.), array(0.), array(0.), array(0.), array(0.), array(1.), array(0.), array(-3.2034265e-16), array(0.), array(1.), array(1.), array(1.), array(1.), array(0.), array(0.), array(0.), array(1.), array(1.), array(-3.2034265e-16), array(1), array(1.), array(2.), array(-3.2034265e-16), array(0.), array(0.33729007), array(141.25), array(0.8828125), array(0.05859375), array(160.), array(0.), array(1.), array(1.1875), array(1.1875), array(1.1875), array(1.), array(0.953125), array(0.953125), array(0.953125), array(158.75), array(1.), array(0.), array(1.), array(1.02376517), array(1.02376517), array(1.02376517), array(1.), array(0.06161999), array(156.28495173), array(0.98437867), array(0.9921875), array(0.00781066), array(0.99405871), array(0.99405871), array(0.99405871), array(155.), array(1.), array(0.), array(1.), array(1.09677419), array(1.09677419), array(1.09677419), array(1.), array(145.32258065), array(0.93756504), array(0.97580645), array(0.97580645), array(0.97580645), array(0.20559251), array(0.96875), array(0.03121748), array(0.), array(1000000.), array(0.), array(0.), array(0.), 0]\n",
      "pancreas_healthy_0068.dcm\n"
     ]
    },
    {
     "name": "stderr",
     "output_type": "stream",
     "text": [
      "parameter force2D must be set to True to enable shape2D extraction\n",
      "GLCM is symmetrical, therefore Sum Average = 2 * Joint Average, only 1 needs to be calculated\n"
     ]
    },
    {
     "name": "stdout",
     "output_type": "stream",
     "text": [
      "[0.6970079232082679, 0.0, 0.0, 411.51258365944244, array(318.359375), array(259.765625), array(429.24893279), array(429.24893279), array(37.03435262), 286.8275313105366, array(0.13956748), array(384.9784228), array(10.39517085), 216.48406982421875, array(1.), array(1.), array(227.), array(-3.2034265e-16), array(0.), array(0.), array(1.), array(0.), array(1.), array(1.), array(1.), array(0.), array(0.), array(1.), array(0.), array(216.48406982), array(1.), array(0.), array(1.), array(0.), array(0.), array(0.), array(0.), array(1.), array(0.), array(-3.2034265e-16), array(0.), array(1.), array(1.), array(1.), array(1.), array(0.), array(0.), array(0.), array(1.), array(1.), array(-3.2034265e-16), array(1), array(1.), array(2.), array(-3.2034265e-16), array(0.), array(0.26057537), array(207.88105727), array(0.91577558), array(0.04211221), array(227.), array(0.), array(1.), array(1.13215859), array(1.13215859), array(1.13215859), array(1.), array(0.96696035), array(0.96696035), array(0.96696035), array(225.75), array(1.), array(0.), array(1.), array(1.01662242), array(1.01662242), array(1.01662242), array(1.), array(0.04906245), array(223.26552606), array(0.98898726), array(0.99449339), array(0.00550637), array(0.9958444), array(0.9958444), array(0.9958444), array(222.), array(1.), array(0.), array(1.), array(1.06756757), array(1.06756757), array(1.06756757), array(1.), array(212.22522523), array(0.95596948), array(0.98310811), array(0.98310811), array(0.98310811), array(0.15537867), array(0.97797357), array(0.02201526), array(0.), array(1000000.), array(0.), array(0.), array(0.), 0]\n",
      "pancreas_healthy_0069.dcm\n"
     ]
    },
    {
     "name": "stderr",
     "output_type": "stream",
     "text": [
      "parameter force2D must be set to True to enable shape2D extraction\n",
      "GLCM is symmetrical, therefore Sum Average = 2 * Joint Average, only 1 needs to be calculated\n"
     ]
    },
    {
     "name": "stdout",
     "output_type": "stream",
     "text": [
      "[0.8870494606599085, 0.0, 0.0, 351.0815540977677, array(327.421875), array(308.515625), array(409.49917606), array(409.49917606), array(22.89428711), 311.42670321006733, array(0.15082739), array(258.51673347), array(11.29175729), 132.9345703125, array(1.), array(1.), array(180.), array(-3.2034265e-16), array(0.), array(0.), array(1.), array(0.), array(1.), array(1.), array(1.), array(0.), array(0.), array(1.), array(0.), array(132.93457031), array(1.), array(0.), array(1.), array(0.), array(0.), array(0.), array(0.), array(1.), array(0.), array(-3.2034265e-16), array(0.), array(1.), array(1.), array(1.), array(1.), array(0.), array(0.), array(0.), array(1.), array(1.), array(-3.2034265e-16), array(1), array(1.), array(2.), array(-3.2034265e-16), array(0.), array(0.2108423), array(168.4), array(0.93555556), array(0.03222222), array(180.), array(0.), array(1.), array(1.1), array(1.1), array(1.1), array(1.), array(0.975), array(0.975), array(0.975), array(179.25), array(1.), array(0.), array(1.), array(1.01261691), array(1.01261691), array(1.01261691), array(1.), array(0.03468148), array(177.76402925), array(0.99166745), array(0.99583333), array(0.00416627), array(0.99684577), array(0.99684577), array(0.99684577), array(177.), array(1.), array(0.), array(1.), array(1.05084746), array(1.05084746), array(1.05084746), array(1.), array(171.10169492), array(0.96667624), array(0.98728814), array(0.98728814), array(0.98728814), array(0.12394987), array(0.98333333), array(0.01666188), array(0.), array(1000000.), array(0.), array(0.), array(0.), 0]\n",
      "pancreas_healthy_0071.dcm\n"
     ]
    },
    {
     "name": "stderr",
     "output_type": "stream",
     "text": [
      "parameter force2D must be set to True to enable shape2D extraction\n",
      "GLCM is symmetrical, therefore Sum Average = 2 * Joint Average, only 1 needs to be calculated\n"
     ]
    },
    {
     "name": "stdout",
     "output_type": "stream",
     "text": [
      "[0.8622244199117709, 0.0, 0.0, 339.2788448235578, array(245.8125), array(291.234375), array(331.88779438), array(331.88779438), array(19.16931152), 292.53450516632785, array(0.16861261), array(205.43057574), array(10.71663818), 107.083740234375, array(1.), array(1.), array(135.), array(-3.2034265e-16), array(0.), array(0.), array(1.), array(0.), array(1.), array(1.), array(1.), array(0.), array(0.), array(1.), array(0.), array(107.08374023), array(1.), array(0.), array(1.), array(0.), array(0.), array(0.), array(0.), array(1.), array(0.), array(-3.2034265e-16), array(0.), array(1.), array(1.), array(1.), array(1.), array(0.), array(0.), array(0.), array(1.), array(1.), array(-3.2034265e-16), array(1), array(1.), array(2.), array(-3.2034265e-16), array(0.), array(0.43442274), array(116.24444444), array(0.86106996), array(0.11061728), array(135.), array(0.), array(1.), array(1.2962963), array(1.2962963), array(1.2962963), array(1.), array(0.94238683), array(0.94238683), array(0.94238683), array(133.5), array(1.), array(0.), array(1.), array(1.03770854), array(1.03770854), array(1.03770854), array(1.), array(0.07611788), array(131.03013257), array(0.9814011), array(0.98888889), array(0.01489518), array(0.99267724), array(0.99267724), array(0.99267724), array(129.), array(1.), array(0.), array(1.), array(1.17054264), array(1.17054264), array(1.17054264), array(1.), array(121.18604651), array(0.93942672), array(0.97459087), array(0.97459087), array(0.97459087), array(0.23042853), array(0.95555556), array(0.07535605), array(0.), array(1000000.), array(0.), array(0.), array(0.), 0]\n",
      "pancreas_healthy_0072.dcm\n"
     ]
    },
    {
     "name": "stderr",
     "output_type": "stream",
     "text": [
      "parameter force2D must be set to True to enable shape2D extraction\n",
      "GLCM is symmetrical, therefore Sum Average = 2 * Joint Average, only 1 needs to be calculated\n"
     ]
    },
    {
     "name": "stdout",
     "output_type": "stream",
     "text": [
      "[0.7639178680305891, 0.0, 0.0, 351.42690970458267, array(263.534), array(227.562), array(324.10102974), array(324.10102974), array(12.74008333), 268.46129563010317, array(0.16699438), array(157.96605661), array(12.39913841), 76.44050000000001, array(1.), array(1.), array(125.), array(-3.2034265e-16), array(0.), array(0.), array(1.), array(0.), array(1.), array(1.), array(1.), array(0.), array(0.), array(1.), array(0.), array(76.4405), array(1.), array(0.), array(1.), array(0.), array(0.), array(0.), array(0.), array(1.), array(0.), array(-3.2034265e-16), array(0.), array(1.), array(1.), array(1.), array(1.), array(0.), array(0.), array(0.), array(1.), array(1.), array(-3.2034265e-16), array(1), array(1.), array(2.), array(-3.2034265e-16), array(0.), array(0.11835001), array(121.064), array(0.968512), array(0.015744), array(125.), array(0.), array(1.), array(1.048), array(1.048), array(1.048), array(1.), array(0.988), array(0.988), array(0.988), array(124.75), array(1.), array(0.), array(1.), array(1.00604839), array(1.00604839), array(1.00604839), array(1.), array(0.01691746), array(124.25403226), array(0.99600026), array(0.998), array(0.00199987), array(0.9984879), array(0.9984879), array(0.9984879), array(124.), array(1.), array(0.), array(1.), array(1.02419355), array(1.02419355), array(1.02419355), array(1.), array(122.01612903), array(0.98400104), array(0.99395161), array(0.99395161), array(0.99395161), array(0.06766983), array(0.992), array(0.00799948), array(0.), array(1000000.), array(0.), array(0.), array(0.), 0]\n",
      "pancreas_healthy_0073.dcm\n"
     ]
    },
    {
     "name": "stderr",
     "output_type": "stream",
     "text": [
      "parameter force2D must be set to True to enable shape2D extraction\n",
      "GLCM is symmetrical, therefore Sum Average = 2 * Joint Average, only 1 needs to be calculated\n"
     ]
    },
    {
     "name": "stdout",
     "output_type": "stream",
     "text": [
      "[0.7801094800298225, 0.0, 0.0, 310.62017474587793, array(253.828125), array(178.59375), array(289.10410385), array(289.10410385), array(11.78283691), 242.31774300777943, array(0.16205845), array(154.51798328), array(13.11381838), 67.730712890625, array(1.), array(1.), array(137.), array(-3.2034265e-16), array(0.), array(0.), array(1.), array(0.), array(1.), array(1.), array(1.), array(0.), array(0.), array(1.), array(0.), array(67.73071289), array(1.), array(0.), array(1.), array(0.), array(0.), array(0.), array(0.), array(1.), array(0.), array(-3.2034265e-16), array(0.), array(1.), array(1.), array(1.), array(1.), array(0.), array(0.), array(0.), array(1.), array(1.), array(-3.2034265e-16), array(1), array(1.), array(2.), array(-3.2034265e-16), array(0.), array(0.47589885), array(111.86131387), array(0.81650594), array(0.09174703), array(137.), array(0.), array(1.), array(1.30656934), array(1.30656934), array(1.30656934), array(1.), array(0.92335766), array(0.92335766), array(0.92335766), array(135.25), array(1.), array(0.), array(1.), array(1.0390968), array(1.0390968), array(1.0390968), array(1.), array(0.09299399), array(131.82084065), array(0.97446373), array(0.98722628), array(0.01276814), array(0.9902258), array(0.9902258), array(0.9902258), array(130.), array(1.), array(0.), array(1.), array(1.16153846), array(1.16153846), array(1.16153846), array(1.), array(116.75384615), array(0.89810651), array(0.95961538), array(0.95961538), array(0.95961538), array(0.30251575), array(0.94890511), array(0.05094675), array(0.), array(1000000.), array(0.), array(0.), array(0.), 0]\n",
      "pancreas_healthy_0074.dcm\n"
     ]
    },
    {
     "name": "stderr",
     "output_type": "stream",
     "text": [
      "parameter force2D must be set to True to enable shape2D extraction\n",
      "GLCM is symmetrical, therefore Sum Average = 2 * Joint Average, only 1 needs to be calculated\n"
     ]
    },
    {
     "name": "stdout",
     "output_type": "stream",
     "text": [
      "[0.7239410411034509, 0.0, 0.0, 417.9477017353459, array(351.5625), array(253.125), array(421.85520787), array(421.85520787), array(30.32226562), 302.5694943210809, array(0.14502252), array(324.25730352), array(10.69370302), 176.66015625, array(1.), array(1.), array(201.), array(-3.2034265e-16), array(0.), array(0.), array(1.), array(0.), array(1.), array(1.), array(1.), array(0.), array(0.), array(1.), array(0.), array(176.66015625), array(1.), array(0.), array(1.), array(0.), array(0.), array(0.), array(0.), array(1.), array(0.), array(-3.2034265e-16), array(0.), array(1.), array(1.), array(1.), array(1.), array(0.), array(0.), array(0.), array(1.), array(1.), array(-3.2034265e-16), array(1), array(1.), array(2.), array(-3.2034265e-16), array(0.), array(0.28533932), array(181.99502488), array(0.90544788), array(0.04727606), array(201.), array(0.), array(1.), array(1.14925373), array(1.14925373), array(1.14925373), array(1.), array(0.96268657), array(0.96268657), array(0.96268657), array(199.75), array(1.), array(0.), array(1.), array(1.01882538), array(1.01882538), array(1.01882538), array(1.), array(0.05191672), array(197.2726005), array(0.98756326), array(0.99378109), array(0.00621837), array(0.99529366), array(0.99529366), array(0.99529366), array(196.), array(1.), array(0.), array(1.), array(1.07653061), array(1.07653061), array(1.07653061), array(1.), array(186.25510204), array(0.95028113), array(0.98086735), array(0.98086735), array(0.98086735), array(0.17134991), array(0.97512438), array(0.02485943), array(0.), array(1000000.), array(0.), array(0.), array(0.), 0]\n",
      "pancreas_healthy_0075.dcm\n"
     ]
    },
    {
     "name": "stderr",
     "output_type": "stream",
     "text": [
      "parameter force2D must be set to True to enable shape2D extraction\n",
      "GLCM is symmetrical, therefore Sum Average = 2 * Joint Average, only 1 needs to be calculated\n"
     ]
    },
    {
     "name": "stdout",
     "output_type": "stream",
     "text": [
      "[0.8071878715627672, 0.0, 0.0, 359.35790513077876, array(336.015625), array(297.3828125), array(390.46904113), array(390.46904113), array(24.88835653), 290.0693425717681, array(0.14988686), array(275.03293242), array(11.05066669), 146.10137939453125, array(1.), array(1.), array(181.), array(-3.2034265e-16), array(0.), array(0.), array(1.), array(0.), array(1.), array(1.), array(1.), array(0.), array(0.), array(1.), array(0.), array(146.10137939), array(1.), array(0.), array(1.), array(0.), array(0.), array(0.), array(0.), array(1.), array(0.), array(-3.2034265e-16), array(0.), array(1.), array(1.), array(1.), array(1.), array(0.), array(0.), array(0.), array(1.), array(1.), array(-3.2034265e-16), array(1), array(1.), array(2.), array(-3.2034265e-16), array(0.), array(0.26122333), array(165.70718232), array(0.91550929), array(0.04224535), array(181.), array(0.), array(1.), array(1.13259669), array(1.13259669), array(1.13259669), array(1.), array(0.96685083), array(0.96685083), array(0.96685083), array(180.), array(1.), array(0.), array(1.), array(1.01666667), array(1.01666667), array(1.01666667), array(1.), array(0.04961407), array(178.01111111), array(0.98895062), array(0.99447514), array(0.00552469), array(0.99583333), array(0.99583333), array(0.99583333), array(177.), array(1.), array(0.), array(1.), array(1.06779661), array(1.06779661), array(1.06779661), array(1.), array(169.18079096), array(0.95582368), array(0.98305085), array(0.98305085), array(0.98305085), array(0.15579378), array(0.97790055), array(0.02208816), array(0.), array(1000000.), array(0.), array(0.), array(0.), 0]\n",
      "pancreas_healthy_0076.dcm\n"
     ]
    },
    {
     "name": "stderr",
     "output_type": "stream",
     "text": [
      "parameter force2D must be set to True to enable shape2D extraction\n",
      "GLCM is symmetrical, therefore Sum Average = 2 * Joint Average, only 1 needs to be calculated\n"
     ]
    },
    {
     "name": "stdout",
     "output_type": "stream",
     "text": [
      "[0.8380132791766549, 0.0, 0.0, 358.63385015857773, array(288.3984375), array(305.46875), array(425.73520572), array(425.73520572), array(38.0724589), 300.53992879513885, array(0.131009), array(417.75686579), array(10.97267888), 220.36285400390625, array(1.), array(1.), array(273.), array(-3.2034265e-16), array(0.), array(0.), array(1.), array(0.), array(1.), array(1.), array(1.), array(0.), array(0.), array(1.), array(0.), array(220.362854), array(1.), array(0.), array(1.), array(0.), array(0.), array(0.), array(0.), array(1.), array(0.), array(-3.2034265e-16), array(0.), array(1.), array(1.), array(1.), array(1.), array(0.), array(0.), array(0.), array(1.), array(1.), array(-3.2034265e-16), array(1), array(1.), array(2.), array(-3.2034265e-16), array(0.), array(0.3564934), array(241.), array(0.88278388), array(0.06891277), array(273.), array(0.), array(1.), array(1.20512821), array(1.20512821), array(1.20512821), array(1.), array(0.95278795), array(0.95278795), array(0.95278795), array(270.75), array(1.), array(0.), array(1.), array(1.02495907), array(1.02495907), array(1.02495907), array(1.), array(0.06851167), array(266.29255164), array(0.98351806), array(0.99175824), array(0.00824097), array(0.99376023), array(0.99376023), array(0.99376023), array(264.), array(1.), array(0.), array(1.), array(1.10984848), array(1.10984848), array(1.10984848), array(1.), array(248.43181818), array(0.94102961), array(0.97674663), array(0.97674663), array(0.97674663), array(0.21238092), array(0.96703297), array(0.04050448), array(0.), array(1000000.), array(0.), array(0.), array(0.), 0]\n",
      "pancreas_healthy_0077.dcm\n"
     ]
    },
    {
     "name": "stderr",
     "output_type": "stream",
     "text": [
      "parameter force2D must be set to True to enable shape2D extraction\n",
      "GLCM is symmetrical, therefore Sum Average = 2 * Joint Average, only 1 needs to be calculated\n"
     ]
    },
    {
     "name": "stdout",
     "output_type": "stream",
     "text": [
      "[0.8888070883767739, 0.0, 0.0, 349.9471500772884, array(330.859375), array(251.796875), array(406.4080597), array(406.4080597), array(34.71069336), 311.03550754594465, array(0.13202949), array(389.7523034), array(11.22859458), 199.40185546875, array(1.), array(1.), array(270.), array(-3.2034265e-16), array(0.), array(0.), array(1.), array(0.), array(1.), array(1.), array(1.), array(0.), array(0.), array(1.), array(0.), array(199.40185547), array(1.), array(0.), array(1.), array(0.), array(0.), array(0.), array(0.), array(1.), array(0.), array(-3.2034265e-16), array(0.), array(1.), array(1.), array(1.), array(1.), array(0.), array(0.), array(0.), array(1.), array(1.), array(-3.2034265e-16), array(1), array(1.), array(2.), array(-3.2034265e-16), array(0.), array(0.32449741), array(239.8962963), array(0.8885048), array(0.0557476), array(270.), array(0.), array(1.), array(1.17777778), array(1.17777778), array(1.17777778), array(1.), array(0.95555556), array(0.95555556), array(0.95555556), array(268.), array(1.), array(0.), array(1.), array(1.02243014), array(1.02243014), array(1.02243014), array(1.), array(0.06211916), array(264.03742534), array(0.98518664), array(0.99259259), array(0.00740668), array(0.99439246), array(0.99439246), array(0.99439246), array(262.), array(1.), array(0.), array(1.), array(1.09160305), array(1.09160305), array(1.09160305), array(1.), array(246.48854962), array(0.94079599), array(0.97709924), array(0.97709924), array(0.97709924), array(0.19706456), array(0.97037037), array(0.029602), array(0.), array(1000000.), array(0.), array(0.), array(0.), 0]\n",
      "pancreas_healthy_0078.dcm\n"
     ]
    },
    {
     "name": "stderr",
     "output_type": "stream",
     "text": [
      "parameter force2D must be set to True to enable shape2D extraction\n",
      "GLCM is symmetrical, therefore Sum Average = 2 * Joint Average, only 1 needs to be calculated\n"
     ]
    },
    {
     "name": "stdout",
     "output_type": "stream",
     "text": [
      "[0.7712186533913619, 0.0, 0.0, 362.3360410636314, array(276.5625), array(228.125), array(360.18929485), array(360.18929485), array(13.73291016), 279.440313664251, array(0.1638772), array(169.22867964), array(12.32285639), 81.1767578125, array(1.), array(1.), array(133.), array(-3.2034265e-16), array(0.), array(0.), array(1.), array(0.), array(1.), array(1.), array(1.), array(0.), array(0.), array(1.), array(0.), array(81.17675781), array(1.), array(0.), array(1.), array(0.), array(0.), array(0.), array(0.), array(1.), array(0.), array(-3.2034265e-16), array(0.), array(1.), array(1.), array(1.), array(1.), array(0.), array(0.), array(0.), array(1.), array(1.), array(-3.2034265e-16), array(1), array(1.), array(2.), array(-3.2034265e-16), array(0.), array(0.32804157), array(117.96240602), array(0.88693538), array(0.05653231), array(133.), array(0.), array(1.), array(1.18045113), array(1.18045113), array(1.18045113), array(1.), array(0.95488722), array(0.95488722), array(0.95488722), array(132.), array(1.), array(0.), array(1.), array(1.02281402), array(1.02281402), array(1.02281402), array(1.), array(0.06061986), array(130.02284293), array(0.98496459), array(0.9924812), array(0.0075177), array(0.9942965), array(0.9942965), array(0.9942965), array(129.), array(1.), array(0.), array(1.), array(1.09302326), array(1.09302326), array(1.09302326), array(1.), array(121.24806202), array(0.93990746), array(0.97674419), array(0.97674419), array(0.97674419), array(0.19942078), array(0.96992481), array(0.03004627), array(0.), array(1000000.), array(0.), array(0.), array(0.), 0]\n",
      "pancreas_healthy_0079.dcm\n"
     ]
    },
    {
     "name": "stderr",
     "output_type": "stream",
     "text": [
      "parameter force2D must be set to True to enable shape2D extraction\n",
      "GLCM is symmetrical, therefore Sum Average = 2 * Joint Average, only 1 needs to be calculated\n"
     ]
    },
    {
     "name": "stdout",
     "output_type": "stream",
     "text": [
      "[0.8547925124954942, 0.0, 0.0, 449.11814765260624, array(358.3984375), array(342.7734375), array(448.75676822), array(448.75676822), array(37.19329834), 383.90282983929364, array(0.13958524), array(386.03003637), array(10.37902132), 215.5303955078125, array(1.), array(1.), array(226.), array(-3.2034265e-16), array(0.), array(0.), array(1.), array(0.), array(1.), array(1.), array(1.), array(0.), array(0.), array(1.), array(0.), array(215.53039551), array(1.), array(0.), array(1.), array(0.), array(0.), array(0.), array(0.), array(1.), array(0.), array(-3.2034265e-16), array(0.), array(1.), array(1.), array(1.), array(1.), array(0.), array(0.), array(0.), array(1.), array(1.), array(-3.2034265e-16), array(1), array(1.), array(2.), array(-3.2034265e-16), array(0.), array(0.44137166), array(191.03539823), array(0.84528937), array(0.08951367), array(226.), array(0.), array(1.), array(1.27433628), array(1.27433628), array(1.27433628), array(1.), array(0.93633235), array(0.93633235), array(0.93633235), array(223.5), array(1.), array(0.), array(1.), array(1.03369289), array(1.03369289), array(1.03369289), array(1.), array(0.08399059), array(218.57639478), array(0.97788138), array(0.98893805), array(0.01105931), array(0.99157678), array(0.99157678), array(0.99157678), array(216.), array(1.), array(0.), array(1.), array(1.14814815), array(1.14814815), array(1.14814815), array(1.), array(198.67592593), array(0.91979595), array(0.968107), array(0.968107), array(0.968107), array(0.27085139), array(0.95575221), array(0.05341221), array(0.), array(1000000.), array(0.), array(0.), array(0.), 0]\n",
      "pancreas_healthy_0080.dcm\n"
     ]
    },
    {
     "name": "stderr",
     "output_type": "stream",
     "text": [
      "parameter force2D must be set to True to enable shape2D extraction\n",
      "GLCM is symmetrical, therefore Sum Average = 2 * Joint Average, only 1 needs to be calculated\n"
     ]
    },
    {
     "name": "stdout",
     "output_type": "stream",
     "text": [
      "[0.5964528214165767, 0.0, 0.0, 412.65600267180645, array(300.78125), array(261.71875), array(405.85190268), array(405.85190268), array(15.41773478), 246.12983706808538, array(0.18568337), array(161.33360078), array(10.46415722), 90.59906005859375, array(1.), array(1.), array(95.), array(-3.2034265e-16), array(0.), array(0.), array(1.), array(0.), array(1.), array(1.), array(1.), array(0.), array(0.), array(1.), array(0.), array(90.59906006), array(1.), array(0.), array(1.), array(0.), array(0.), array(0.), array(0.), array(1.), array(0.), array(-3.2034265e-16), array(0.), array(1.), array(1.), array(1.), array(1.), array(0.), array(0.), array(0.), array(1.), array(1.), array(-3.2034265e-16), array(1), array(1.), array(2.), array(-3.2034265e-16), array(0.), array(0.25186285), array(87.33684211), array(0.91933518), array(0.04033241), array(95.), array(0.), array(1.), array(1.12631579), array(1.12631579), array(1.12631579), array(1.), array(0.96842105), array(0.96842105), array(0.96842105), array(94.5), array(1.), array(0.), array(1.), array(1.01595745), array(1.01595745), array(1.01595745), array(1.), array(0.04249778), array(93.5106383), array(0.98947488), array(0.99473684), array(0.00526256), array(0.99601064), array(0.99601064), array(0.99601064), array(93.), array(1.), array(0.), array(1.), array(1.06451613), array(1.06451613), array(1.06451613), array(1.), array(89.08602151), array(0.95791421), array(0.98387097), array(0.98387097), array(0.98387097), array(0.14981137), array(0.97894737), array(0.0210429), array(0.), array(1000000.), array(0.), array(0.), array(0.), 0]\n",
      "pancreas_healthy_0081.dcm\n"
     ]
    },
    {
     "name": "stderr",
     "output_type": "stream",
     "text": [
      "parameter force2D must be set to True to enable shape2D extraction\n",
      "GLCM is symmetrical, therefore Sum Average = 2 * Joint Average, only 1 needs to be calculated\n"
     ]
    },
    {
     "name": "stdout",
     "output_type": "stream",
     "text": [
      "[0.7784124452746815, 0.0, 0.0, 311.73432504871795, array(216.796875), array(199.21875), array(351.55300551), array(351.55300551), array(19.39137777), 242.6578782372249, array(0.18281887), array(190.92767716), array(9.84600885), 104.9041748046875, array(1.), array(1.), array(110.), array(-3.2034265e-16), array(0.), array(0.), array(1.), array(0.), array(1.), array(1.), array(1.), array(0.), array(0.), array(1.), array(0.), array(104.9041748), array(1.), array(0.), array(1.), array(0.), array(0.), array(0.), array(0.), array(1.), array(0.), array(-3.2034265e-16), array(0.), array(1.), array(1.), array(1.), array(1.), array(0.), array(0.), array(0.), array(1.), array(1.), array(-3.2034265e-16), array(1), array(1.), array(2.), array(-3.2034265e-16), array(0.), array(0.57034975), array(86.85454545), array(0.78958678), array(0.1292562), array(110.), array(0.), array(1.), array(1.4), array(1.4), array(1.4), array(1.), array(0.91010101), array(0.91010101), array(0.91010101), array(108.25), array(1.), array(0.), array(1.), array(1.05378849), array(1.05378849), array(1.05378849), array(1.), array(0.10502513), array(105.30612454), array(0.97252769), array(0.98409091), array(0.02061138), array(0.98917342), array(0.98917342), array(0.98917342), array(103.), array(1.), array(0.), array(1.), array(1.22330097), array(1.22330097), array(1.22330097), array(1.), array(91.60194175), array(0.88933924), array(0.95496224), array(0.95496224), array(0.95496224), array(0.35833367), array(0.93636364), array(0.08275992), array(0.), array(1000000.), array(0.), array(0.), array(0.), 0]\n",
      "pancreas_healthy_0082.dcm\n"
     ]
    },
    {
     "name": "stderr",
     "output_type": "stream",
     "text": [
      "parameter force2D must be set to True to enable shape2D extraction\n",
      "GLCM is symmetrical, therefore Sum Average = 2 * Joint Average, only 1 needs to be calculated\n"
     ]
    },
    {
     "name": "stdout",
     "output_type": "stream",
     "text": [
      "[0.9038898206747372, 0.0, 0.0, 377.5494665207342, array(315.9375), array(326.25), array(414.43968669), array(414.43968669), array(36.76757812), 341.2631195892692, array(0.13563084), array(394.24758082), array(10.72269649), 215.33203125, array(1.), array(1.), array(245.), array(-3.2034265e-16), array(0.), array(0.), array(1.), array(0.), array(1.), array(1.), array(1.), array(0.), array(0.), array(1.), array(0.), array(215.33203125), array(1.), array(0.), array(1.), array(0.), array(0.), array(0.), array(0.), array(1.), array(0.), array(-3.2034265e-16), array(0.), array(1.), array(1.), array(1.), array(1.), array(0.), array(0.), array(0.), array(1.), array(1.), array(-3.2034265e-16), array(1), array(1.), array(2.), array(-3.2034265e-16), array(0.), array(0.28204642), array(222.1755102), array(0.90683882), array(0.04658059), array(245.), array(0.), array(1.), array(1.14693878), array(1.14693878), array(1.14693878), array(1.), array(0.96326531), array(0.96326531), array(0.96326531), array(243.5), array(1.), array(0.), array(1.), array(1.01854413), array(1.01854413), array(1.01854413), array(1.), array(0.05087893), array(240.52887467), array(0.98775635), array(0.99387755), array(0.00612182), array(0.99536397), array(0.99536397), array(0.99536397), array(239.), array(1.), array(0.), array(1.), array(1.07531381), array(1.07531381), array(1.07531381), array(1.), array(227.30125523), array(0.95105128), array(0.98117155), array(0.98117155), array(0.98117155), array(0.16921347), array(0.9755102), array(0.02447436), array(0.), array(1000000.), array(0.), array(0.), array(0.), 0]\n"
     ]
    }
   ],
   "source": [
    "count = 0\n",
    "l = []\n",
    "for i in os.listdir(healthy_path_slice):\n",
    "    sample_img = sitk.ReadImage(healthy_path_slice+i)\n",
    "    sample_mask = sitk.ReadImage(mask_new_path + i)\n",
    "    print(i)\n",
    "    # feature_vector = extractor.execute(sample_img,sample_mask)\n",
    "    feature_vector = extractor.execute(sample_img,sample_mask)\n",
    "    start_key = 'original_shape_Elongation'\n",
    "    start_index = list(feature_vector.keys()).index(start_key)\n",
    "    # keys_from_start = list(feature_vector.keys())[list(feature_vector.keys()).index(start_key):]\n",
    "    # count = len(keys_from_start)\n",
    "    # values_array = np.empty((0, count), dtype=float)\n",
    "    \n",
    "    l1 = []\n",
    "\n",
    "    # for key, value in feature_vector.items():\n",
    "    for key, value in islice(feature_vector.items(), start_index, None):\n",
    "\n",
    "        # print(\"\\t\", count,key, \":\", value)\n",
    "        l1.append(value)\n",
    "    l1.append(0)\n",
    "    print(l1)\n",
    "    l.append(l1)\n",
    "    # count+=1\n",
    "    # if count == 2:\n",
    "    #     break\n",
    "\n",
    "# values_array = np.array(l).flatten()\n",
    "df = pd.DataFrame(l)\n",
    "\n"
   ]
  },
  {
   "cell_type": "code",
   "execution_count": 19,
   "metadata": {},
   "outputs": [],
   "source": [
    "# Write the DataFrame to a CSV file\n",
    "output_csv = 'featuresvalues.csv'\n",
    "df.to_csv(output_csv, index=False)"
   ]
  },
  {
   "cell_type": "code",
   "execution_count": 17,
   "metadata": {},
   "outputs": [],
   "source": [
    "tumor_path_slice = '../Segment_data/Tumor_pancreas/Pancreas_slice/'\n",
    "tumor_path_mask = \"../Segment_data/Tumor_pancreas/Mask/\"\n"
   ]
  },
  {
   "cell_type": "code",
   "execution_count": null,
   "metadata": {},
   "outputs": [],
   "source": []
  },
  {
   "cell_type": "code",
   "execution_count": 18,
   "metadata": {},
   "outputs": [
    {
     "name": "stderr",
     "output_type": "stream",
     "text": [
      "GLCM is symmetrical, therefore Sum Average = 2 * Joint Average, only 1 needs to be calculated\n"
     ]
    },
    {
     "name": "stdout",
     "output_type": "stream",
     "text": [
      "pancreas_001.dcm\n",
      "[0.3193529602313885, 0.0, 0.0, 125.47700174238652, array(44.6875), array(117.734375), array(135.0641169), array(135.0641169), array(2673.3388265), 40.07145194739023, array(0.16443576), array(5664.87769228), array(2.1190272), 2742.88330078125, array(28.), array(120.), array(28029716.), array(2.53282735), array(47.), array(3.55714451), array(185.), array(28.66051811), array(78.97630587), array(85.), array(-84.), array(269.), array(20.01083211), array(86.87371606), array(-0.73600489), array(20700656.95800781), array(0.20727869), array(1309.78565291), array(61.12545651), array(171.56324173), array(-13.56275458), array(7.13893959), array(0.85454607), array(0.78582891), array(0.64059331), array(1.36542054), array(0.43629338), array(0.7122881), array(0.70087087), array(0.99418928), array(0.95187001), array(-0.27740877), array(0.85749375), array(0.48082486), array(7.71714473), array(0.07522664), array(4.26415744), array(0.80238077), array(0.16391569), array(15.43428946), array(3.36648926), array(1.99837142), array(5.31845064), array(553.54981152), array(0.14904411), array(3.36555884), array(769.83306408), array(2.17647557), array(61.14431879), array(23.48249865), array(1476.819063), array(0.43112724), array(0.02046384), array(0.11261798), array(6.45542177), array(0.00307886), array(394.39198522), array(0.18812957), array(2.49549649), array(60.0049445), array(4.79778437), array(299.40911932), array(0.09095382), array(0.02186912), array(4.35497826), array(858.68678119), array(0.40549814), array(0.5643511), array(1.58308733), array(0.65269562), array(38.45817675), array(0.0151385), array(60.73557692), array(0.14599898), array(4.15271357), array(55.39903846), array(2602.97596154), array(173497.9375), array(40.21157247), array(0.03036395), array(75.92788462), array(0.18251895), array(0.42213502), array(23.07435899), array(0.01507559), array(5.95863813), array(0.11200862), array(2523.26883783), array(2.47341271), array(0.00332294), array(29.07292076), array(0.01450402), array(0.22748593), 1]\n",
      "pancreas_004.dcm\n"
     ]
    },
    {
     "name": "stderr",
     "output_type": "stream",
     "text": [
      "GLCM is symmetrical, therefore Sum Average = 2 * Joint Average, only 1 needs to be calculated\n",
      "GLCM is symmetrical, therefore Sum Average = 2 * Joint Average, only 1 needs to be calculated\n"
     ]
    },
    {
     "name": "stdout",
     "output_type": "stream",
     "text": [
      "[0.2689805828932976, 0.0, 0.0, 171.11051914913872, array(51.5625), array(126.328125), array(189.46246755), array(189.46246755), array(3624.55952962), 46.025407179910104, array(0.1461027), array(7810.20973788), array(2.15480245), 3744.32373046875, array(-32.), array(134.), array(49780862.), array(3.21342598), array(74.), array(42.6339287), array(208.), array(51.15344141), array(67.75187377), array(86.), array(-976.), array(1184.), array(33.20814461), array(99.08940636), array(-3.66454248), array(36764430.55419922), array(0.13747869), array(5228.39405467), array(1888.03348848), array(10483.4459162), array(-225.7079907), array(22.96922922), array(2.48018723), array(0.80517608), array(1.17756273), array(1.93018686), array(1.05644394), array(0.57444391), array(0.5320084), array(0.99897174), array(0.97694616), array(-0.21654817), array(0.85160527), array(0.48077951), array(43.39251836), array(0.03309334), array(5.60471721), array(0.93547194), array(0.08274702), array(86.78503672), array(3.98172277), array(6.36235411), array(5.621584), array(995.27928994), array(0.19630755), array(2.17318628), array(697.01696252), array(8.47553583), array(1877.15325444), array(11.55345168), array(22052.2739645), array(0.00652558), array(0.00081304), array(0.24949249), array(457.61577443), array(0.00037845), array(478.71698023), array(0.1271563), array(9.45527641), array(1867.51049979), array(2.3649446), array(4475.15816977), array(0.00164906), array(0.00090562), array(4.367701), array(2271.16204158), array(0.5999015), array(0.74215976), array(0.52449907), array(0.80121398), array(1490.32871154), array(0.0007943), array(155.56598818), array(0.10214444), array(13.92412339), array(1826.45830598), array(74.48456993), array(147792.58502955), array(0.0387514), array(0.00139268), array(424.61785949), array(0.27880358), array(0.53437965), array(966.53817118), array(0.00108204), array(5.97936088), array(0.30039448), array(63.40262183), array(0.31235459), array(0.00202837), array(456.07378909), array(0.02304794), array(3.71186617), 1]\n",
      "pancreas_005.dcm\n",
      "[0.3165288332649724, 0.0, 0.0, 124.02947454970204, array(42.109375), array(71.328125), array(115.87230731), array(115.87230731), array(2473.13690186), 39.25890486968478, array(0.16771167), array(5273.34599648), array(2.13224993), 2540.52734375, array(-84.), array(124.), array(24821044.), array(3.56993932), array(114.), array(2.28161473), array(240.), array(64.57300027), array(33.65813953), array(44.), array(-172.), array(412.), array(48.76967419), array(84.943627), array(-0.26046), array(18330971.21582031), array(0.09541593), array(6082.54941049), array(87.41293144), array(2841.10858565), array(-67.12911352), array(34.75573143), array(3.04060298), array(0.83835679), array(1.27529146), array(2.06448564), array(1.37318816), array(0.56482669), array(0.5192482), array(0.98991284), array(0.93389137), array(-0.25810789), array(0.90957686), array(0.46094299), array(8.91536545), array(0.01926913), array(6.17838099), array(0.86031544), array(0.04255166), array(17.83073091), array(4.43734146), array(9.4490836), array(5.99039482), array(674.69011628), array(0.19613085), array(2.18286608), array(328.23081395), array(9.82202001), array(88.57732558), array(11.5244186), array(987.93604651), array(0.27316357), array(0.02468567), array(0.25200089), array(22.11035485), array(0.00696369), array(237.1802171), array(0.09284005), array(9.90215571), array(89.13193442), array(2.35570434), array(206.37171193), array(0.05703748), array(0.02505865), array(4.67177722), array(1542.76473112), array(0.6004581), array(0.74295058), array(0.52204919), array(0.80209145), array(71.78296126), array(0.02036039), array(91.95825427), array(0.08724692), array(10.3473539), array(87.5170778), array(46.10246679), array(4030.64705882), array(0.99812794), array(0.02799704), array(287.96204934), array(0.27320878), array(0.53191292), array(45.87280141), array(0.01585294), array(6.10666603), array(0.30639535), array(35.45035628), array(1.60527522), array(0.00403846), array(93.57757116), array(0.05900194), array(0.40937198), 1]\n",
      "pancreas_006.dcm\n"
     ]
    },
    {
     "name": "stderr",
     "output_type": "stream",
     "text": [
      "GLCM is symmetrical, therefore Sum Average = 2 * Joint Average, only 1 needs to be calculated\n",
      "GLCM is symmetrical, therefore Sum Average = 2 * Joint Average, only 1 needs to be calculated\n"
     ]
    },
    {
     "name": "stdout",
     "output_type": "stream",
     "text": [
      "[0.3721884713441824, 0.0, 0.0, 168.51207281727693, array(52.421875), array(124.609375), array(153.08698906), array(153.08698906), array(3805.99060059), 62.71825078490186, array(0.14577658), array(8086.76541501), array(2.12474655), 3903.84521484375, array(-27.), array(135.), array(39554833.), array(3.41540313), array(85.), array(6.9271543), array(570.), array(51.83859148), array(54.15039728), array(51.), array(-203.), array(773.), array(35.59840416), array(86.50400164), array(0.78600178), array(29212248.49243164), array(0.11189317), array(4550.67677529), array(143.39553304), array(4033.71365357), array(90.62116598), array(25.47455985), array(2.7668924), array(0.80379947), array(1.1567763), array(1.94830767), array(1.4013285), array(0.58790977), array(0.54890903), array(0.99737607), array(0.96625836), array(-0.25620847), array(0.9009897), array(0.47924898), array(11.73533694), array(0.02460216), array(5.90213121), array(0.81923573), array(0.05526536), array(23.47067387), array(4.30617352), array(7.06036306), array(5.91130646), array(989.25728339), array(0.18714667), array(2.34050825), array(591.46727204), array(7.33209261), array(143.88497919), array(12.79568672), array(1812.78849792), array(0.1072726), array(0.00891522), array(0.22695858), array(35.27784562), array(0.00220834), array(408.40133925), array(0.10718037), array(8.07707072), array(144.99854789), array(2.55560473), array(363.56841891), array(0.02218225), array(0.00908994), array(4.62830717), array(2201.93964789), array(0.57486267), array(0.72081914), array(0.60850232), array(0.78518001), array(114.60113175), array(0.00725265), array(131.42616034), array(0.09242346), array(11.86669792), array(153.21237693), array(85.38959212), array(10719.41912799), array(0.74740318), array(0.0098001), array(366.43600563), array(0.25769058), array(0.51756517), array(85.57698062), array(0.00531342), array(6.27462392), array(0.26901249), array(71.57127597), array(0.76707295), array(0.00257049), array(351.20485681), array(0.0123816), array(1.78617992), 1]\n",
      "pancreas_010.dcm\n",
      "[0.39366652628949433, 0.0, 0.0, 134.1869984140082, array(48.125), array(128.046875), array(141.94263342), array(141.94263342), array(2849.72330729), 52.824929538856495, array(0.15822649), array(6143.37087638), array(2.15577802), 2944.500732421875, array(-87.), array(92.), array(18485916.), array(3.4371321), array(104.), array(2.30404038), array(182.), array(56.62879566), array(7.38199147), array(15.), array(-212.), array(394.), array(42.6580344), array(68.09220058), array(-0.23308835), array(13652318.33496094), array(0.1019094), array(4582.05398219), array(102.53106757), array(1302.84327247), array(-36.45302782), array(24.20235575), array(4.49446793), array(0.686429), array(1.64591687), array(2.30543679), array(1.75366794), array(0.49304324), array(0.42853703), array(0.98516236), array(0.91616824), array(-0.1425296), array(0.779947), array(0.42136891), array(9.87947123), array(0.01568932), array(6.34514802), array(0.70973365), array(0.03439274), array(19.75894246), array(4.25510053), array(7.17420592), array(5.54141453), array(986.68798595), array(0.24747629), array(1.38992923), array(406.31276649), array(7.41193756), array(103.74416855), array(7.40331076), array(775.17281164), array(0.10093759), array(0.01477879), array(0.35300957), array(36.7471619), array(0.00589331), array(326.59124052), array(0.1000918), array(7.55814241), array(103.64403901), array(1.76582076), array(183.75652846), array(0.02534244), array(0.01504671), array(4.27614258), array(2264.46190051), array(0.69332969), array(0.81847254), array(0.27080793), array(0.85901552), array(89.04419591), array(0.01310779), array(161.90835267), array(0.09391436), array(8.412558), array(103.475058), array(12.51102088), array(1357.51972158), array(0.16162768), array(0.01639431), array(590.04292343), array(0.34225228), array(0.60140676), array(62.74515403), array(0.01069505), array(5.60993494), array(0.43240532), array(7.16269393), array(2.30750768), array(0.00242399), array(135.1905499), array(0.06111119), array(0.24394108), 1]\n",
      "pancreas_012.dcm\n"
     ]
    },
    {
     "name": "stderr",
     "output_type": "stream",
     "text": [
      "GLCM is symmetrical, therefore Sum Average = 2 * Joint Average, only 1 needs to be calculated\n"
     ]
    },
    {
     "name": "stdout",
     "output_type": "stream",
     "text": [
      "[0.23983630633461164, 0.0, 0.0, 193.4123822246874, array(45.546875), array(160.703125), array(174.11624647), array(174.11624647), array(4407.7041626), 46.38731135214713, array(0.13964743), array(9309.49529241), array(2.11209622), 4512.39013671875, array(-15.), array(143.), array(56377175.), array(3.27045743), array(77.), array(3.05745129), array(256.), array(48.25651838), array(74.21522095), array(84.), array(-119.), array(375.), array(33.11760112), array(96.05744922), array(-0.55858808), array(41635975.18920898), array(0.12501965), array(3719.13453101), array(77.15603489), array(1296.40252852), array(-60.04630904), array(20.13728383), array(3.05848095), array(0.73527386), array(1.31237502), array(2.05355832), array(1.27094185), array(0.5528255), array(0.50395143), array(0.98852523), array(0.92809121), array(-0.18721859), array(0.81692451), array(0.45841461), array(8.53732224), array(0.02560476), array(5.87966082), array(0.77855301), array(0.0621775), array(17.07464448), array(4.09431551), array(5.79894119), array(5.64805625), array(1255.97250409), array(0.20556015), array(1.95525577), array(763.8700491), array(6.0151861), array(78.08166939), array(10.67659574), array(853.63420622), array(0.22696701), array(0.0250027), array(0.26195697), array(20.20146612), array(0.00814167), array(553.22505866), array(0.11985391), array(6.22683929), array(77.63750765), array(2.25168611), array(178.02448162), array(0.05255434), array(0.02610594), array(4.34786827), array(2856.88082634), array(0.61322478), array(0.75585106), array(0.46716251), array(0.80859166), array(62.57708588), array(0.0218366), array(207.92799189), array(0.10544016), array(7.34669758), array(76.67849899), array(28.80730223), array(2418.76926978), array(0.53106931), array(0.03124649), array(533.52332657), array(0.27054935), array(0.53001555), array(40.77969982), array(0.01857059), array(5.96768521), array(0.32274959), array(19.20736045), array(3.90873711), array(0.00157699), array(99.18977472), array(0.04704656), array(0.15214548), 1]\n",
      "pancreas_015.dcm\n"
     ]
    },
    {
     "name": "stderr",
     "output_type": "stream",
     "text": [
      "GLCM is symmetrical, therefore Sum Average = 2 * Joint Average, only 1 needs to be calculated\n"
     ]
    },
    {
     "name": "stdout",
     "output_type": "stream",
     "text": [
      "[0.27429631391253895, 0.0, 0.0, 161.5949832871279, array(41.25), array(81.640625), array(153.34727569), array(153.34727569), array(3295.11566162), 44.324908262417516, array(0.15233153), array(7029.77520331), array(2.13339255), 3384.661865234375, array(19.), array(130.), array(53934585.), array(2.75274622), array(50.), array(119.6320766), array(1379.), array(36.04580457), array(87.56295003), array(97.), array(-88.), array(1467.), array(22.59736461), array(108.48226446), array(7.24851069), array(39832060.45532227), array(0.19227082), array(4101.13148351), array(69.84047758), array(45501.53524411), array(606.64051171), array(20.84596118), array(2.38825711), array(0.79395441), array(0.84655558), array(1.58064814), array(1.65788501), array(0.66205315), array(0.64170536), array(0.99939239), array(0.98644732), array(-0.26129384), array(0.86279525), array(0.50138173), array(8.07622996), array(0.06418334), array(4.67922936), array(0.90634451), array(0.1548222), array(16.15245992), array(3.55404571), array(5.80855457), array(5.37329501), array(736.20619681), array(0.16063849), array(3.00503826), array(881.17717652), array(6.71121115), array(71.15535675), array(18.25812786), array(1290.24110844), array(0.33171939), array(0.02236373), array(0.15628494), array(14.01790774), array(0.00467017), array(489.61318371), array(0.16764621), array(9.06390987), array(72.12549194), array(3.61798454), array(257.20431765), array(0.07107069), array(0.02431031), array(4.32686259), array(1437.41988286), array(0.48827942), array(0.63680995), array(1.10297777), array(0.72254946), array(53.18745656), array(0.01862626), array(98.05562743), array(0.12685075), array(24.38205677), array(86.79818887), array(801.75549806), array(62832.75937904), array(10.57383266), array(0.03265981), array(166.18758085), array(0.2149904), array(0.46790906), array(53.27080582), array(0.01693307), array(6.08079125), array(0.16866681), array(766.60425184), array(1.26113193), array(0.00232272), array(478.78425094), array(0.01222001), array(10.21136495), 1]\n",
      "pancreas_016.dcm\n"
     ]
    },
    {
     "name": "stderr",
     "output_type": "stream",
     "text": [
      "GLCM is symmetrical, therefore Sum Average = 2 * Joint Average, only 1 needs to be calculated\n",
      "GLCM is symmetrical, therefore Sum Average = 2 * Joint Average, only 1 needs to be calculated\n"
     ]
    },
    {
     "name": "stdout",
     "output_type": "stream",
     "text": [
      "[0.3184238932686269, 0.0, 0.0, 134.78551570864587, array(42.96875), array(98.828125), array(142.3167553), array(142.3167553), array(3388.6622111), 42.918928668166686, array(0.15191715), array(7181.73724954), array(2.11934292), 3472.54638671875, array(-47.), array(140.9), array(42474958.), array(3.39906741), array(104.), array(2.47796174), array(233.), array(58.678762), array(63.47894513), array(83.), array(-151.), array(384.), array(43.1549163), array(95.04410089), array(-0.57156276), array(31368834.94873047), array(0.11272134), array(5003.80463964), array(109.40071395), array(2025.68555297), array(-101.82889577), array(28.18454854), array(2.74048273), array(0.82260278), array(1.25432311), array(2.00427601), array(1.13598015), array(0.55938026), array(0.51229001), array(0.9908011), array(0.93440587), array(-0.23302285), array(0.88326242), array(0.46761339), array(10.15082258), array(0.02423563), array(5.94487393), array(0.85638175), array(0.06332514), array(20.30164516), array(4.22275479), array(7.73125782), array(5.78133017), array(953.00042535), array(0.2026798), array(2.03892784), array(530.01573798), array(8.09283546), array(109.20608252), array(10.88898341), array(1223.40131859), array(0.1495897), array(0.01500332), array(0.26118387), array(27.77244982), array(0.00455167), array(378.9304416), array(0.10705537), array(8.2835409), array(108.43116616), array(2.25386864), array(249.88219791), array(0.03244041), array(0.01538394), array(4.48720606), array(2175.07276764), array(0.6114825), array(0.75313696), array(0.4744143), array(0.8088945), array(87.35739434), array(0.01267987), array(135.72554348), array(0.09220485), array(9.32616772), array(105.57133152), array(34.02173913), array(4154.96535326), array(0.39185034), array(0.01738645), array(414.15217391), array(0.28135338), array(0.54210076), array(56.90548921), array(0.01033006), array(6.02509019), array(0.31305827), array(23.81822831), array(2.01726096), array(0.00247361), array(104.45642615), array(0.05111938), array(0.27951256), 1]\n",
      "pancreas_018.dcm\n",
      "[0.6306162210975476, 0.0, 0.0, 73.00647987008847, array(48.984375), array(52.421875), array(63.08655427), array(63.08655427), array(899.77010091), 46.039070451309364, array(0.22276562), array(2023.28469557), array(2.24866851), 947.528076171875, array(21.), array(163.), array(14882340.), array(3.20740919), array(77.), array(2.96223979), array(250.), array(46.6049843), array(90.46609509), array(90.), array(-45.), array(295.), array(32.52580462), array(107.70163167), array(0.35709686), array(10990985.96191406), array(0.12592818), array(3415.52710455), array(42.91250009), array(1213.44704506), array(35.42640396), array(19.83008443), array(1.65915474), array(0.8453376), array(0.89553866), array(1.73303037), array(0.83720886), array(0.65178568), array(0.62480611), array(0.99057233), array(0.93944073), array(-0.30390908), array(0.91944495), array(0.46268477), array(6.19424988), array(0.03484382), array(5.39695166), array(0.85905005), array(0.09183745), array(12.38849976), array(4.10079221), array(5.37230979), array(5.89771084), array(201.50974279), array(0.15706137), array(3.34613256), array(161.56586126), array(5.59492713), array(43.13561964), array(17.7482463), array(807.03117693), array(0.81558842), array(0.05837575), array(0.17728383), array(7.81689839), array(0.01090997), array(100.27108851), array(0.1202069), array(5.7869464), array(42.36233046), array(3.44608589), array(150.99556495), array(0.17738531), array(0.06274349), array(4.59924873), array(422.850674), array(0.50315426), array(0.65062354), array(1.0365607), array(0.73492379), array(30.67195992), array(0.0481731), array(28.96992481), array(0.10890949), array(6.73069422), array(43.31954887), array(90.70300752), array(3982.53759398), array(3.39139615), array(0.07076723), array(57.69924812), array(0.21691447), array(0.47097621), array(22.13040502), array(0.02681381), array(5.90129746), array(0.20732658), array(67.43870484), array(1.05810567), array(0.01296063), array(35.03134585), array(0.03790329), array(0.7806976), 1]\n",
      "pancreas_019.dcm\n"
     ]
    },
    {
     "name": "stderr",
     "output_type": "stream",
     "text": [
      "GLCM is symmetrical, therefore Sum Average = 2 * Joint Average, only 1 needs to be calculated\n",
      "GLCM is symmetrical, therefore Sum Average = 2 * Joint Average, only 1 needs to be calculated\n"
     ]
    },
    {
     "name": "stdout",
     "output_type": "stream",
     "text": [
      "[0.48254532191162014, 0.0, 0.0, 109.27507209051947, array(43.828125), array(85.9375), array(111.52025636), array(111.52025636), array(2769.10095215), 52.73017483883522, array(0.16193645), array(5888.8708712), array(2.1266364), 2841.845703125, array(-35.), array(168.), array(38035061.), array(3.55301562), array(91.), array(2.71252433), array(250.), array(57.25532055), array(67.58601871), array(70.), array(-125.), array(375.), array(39.11470804), array(99.42017583), array(-0.05323213), array(28089858.2824707), array(0.09988881), array(5316.50143654), array(75.54335326), array(2591.47807835), array(-10.92051778), array(30.49028123), array(2.81066949), array(0.83089988), array(1.25517826), array(2.00472489), array(1.19128351), array(0.56038772), array(0.51463059), array(0.98945057), array(0.93087938), array(-0.25692893), array(0.907048), array(0.47473584), array(8.28390318), array(0.02026181), array(6.15606999), array(0.84138401), array(0.05199394), array(16.56780637), array(4.43492362), array(8.32523768), array(5.92838762), array(795.71725572), array(0.20678723), array(1.9391565), array(384.37214137), array(8.57947206), array(76.09849272), array(10.74376299), array(806.65878378), array(0.33444734), array(0.03364868), array(0.25511697), array(19.28262408), array(0.010743), array(280.73991608), array(0.09679504), array(8.78317345), array(76.23808816), array(2.26631184), array(171.8735862), array(0.07299373), array(0.03465), array(4.61518863), array(1794.20329848), array(0.61446667), array(0.75409304), array(0.48462743), array(0.81019456), array(61.83912208), array(0.02873212), array(103.3452381), array(0.0878786), array(9.96015477), array(75.09438776), array(43.60884354), array(3394.59438776), array(1.09280784), array(0.04306142), array(327.30782313), array(0.27832298), array(0.53269605), array(39.78237055), array(0.02605518), array(6.09210602), array(0.30561331), array(32.90214725), array(2.46839469), array(0.00327311), array(84.3463403), array(0.06210245), array(0.28634895), 1]\n",
      "pancreas_021.dcm\n",
      "[0.43313682048805563, 0.0, 0.0, 119.94987081972678, array(40.390625), array(94.53125), array(114.76115759), array(114.76115759), array(2797.4726359), 51.95470566480947, array(0.16109289), array(5960.07379163), array(2.13052085), 2872.125244140625, array(3.), array(156.), array(48991965.), array(3.13622631), array(66.), array(3.68115015), array(232.), array(46.32227192), array(94.68218051), array(110.), array(-118.), array(350.), array(29.814682), array(112.23891449), array(-0.93320164), array(36181810.08911133), array(0.15040285), array(3632.8586205), array(92.84948009), array(1563.14961591), array(-87.65132836), array(19.73628678), array(1.87521051), array(0.82571763), array(1.00094222), array(1.79269248), array(0.85877508), array(0.61494767), array(0.58285955), array(0.99191664), array(0.94048274), array(-0.25675912), array(0.88633056), array(0.49349027), array(9.40126019), array(0.0433032), array(5.36766513), array(0.84924343), array(0.11453918), array(18.80252037), array(3.95405362), array(5.40287432), array(5.6372374), array(670.20545127), array(0.17233362), array(2.66178601), array(584.91668809), array(5.89320102), array(92.60478272), array(14.58549756), array(1444.16765235), array(0.23209179), array(0.02023034), array(0.20734732), array(17.63678456), array(0.00532799), array(355.7835195), array(0.1319155), array(6.41175921), array(90.28421597), array(2.80922441), array(269.64643682), array(0.05010787), array(0.02174093), array(4.47240792), array(1476.0184806), array(0.54551203), array(0.6933659), array(0.716082), array(0.76555465), array(67.7591551), array(0.01741733), array(97.69339112), array(0.10584333), array(8.04446615), array(81.375948), array(237.83423619), array(24337.34561213), array(2.53283608), array(0.02863616), array(251.53737811), array(0.27252154), array(0.52847109), array(43.14850743), array(0.01556217), array(5.8546848), array(0.23733608), array(220.0812063), array(1.9155846), array(0.00300981), array(62.76841885), array(0.03717433), array(0.30608593), 1]\n",
      "pancreas_024.dcm\n"
     ]
    },
    {
     "name": "stderr",
     "output_type": "stream",
     "text": [
      "GLCM is symmetrical, therefore Sum Average = 2 * Joint Average, only 1 needs to be calculated\n"
     ]
    },
    {
     "name": "stdout",
     "output_type": "stream",
     "text": [
      "[0.4590722772811941, 0.0, 0.0, 154.5074966991257, array(51.5625), array(123.75), array(134.2386663), array(134.2386663), array(3528.85894775), 70.93010836668422, array(0.14864985), array(7540.65670413), array(2.1368541), 3627.63671875, array(-62.), array(150.), array(46764355.), array(3.57562587), array(121.), array(2.20156766), array(247.), array(66.19649496), array(57.43139251), array(72.), array(-152.), array(399.), array(50.25007263), array(97.57269381), array(-0.41296743), array(34536663.54370117), array(0.09344976), array(6222.06573275), array(106.5705115), array(2801.69740903), array(-103.69393395), array(35.4649977), array(3.27519679), array(0.8305696), array(1.35770703), array(2.11254503), array(1.39768199), array(0.54435433), array(0.4939161), array(0.98911229), array(0.92974742), array(-0.23207733), array(0.89221936), array(0.45839015), array(9.92582787), array(0.01742371), array(6.28030106), array(0.85026513), array(0.03919877), array(19.85165574), array(4.44449577), array(9.68504862), array(5.93244031), array(1022.76954397), array(0.20821856), array(1.95635829), array(459.0252443), array(10.0352323), array(106.49226384), array(10.10301303), array(1096.79845277), array(0.16755615), array(0.01768362), array(0.2862582), array(29.64798064), array(0.00561474), array(342.93829864), array(0.0908799), array(10.13478733), array(105.79373546), array(2.14024942), array(229.95843564), array(0.0367378), array(0.01803697), array(4.59619234), array(2400.37223545), array(0.63437221), array(0.76822068), array(0.43618628), array(0.82382299), array(86.68978502), array(0.01508804), array(141.41186944), array(0.08392396), array(10.73274362), array(102.49436202), array(29.26765579), array(3578.83323442), array(0.38909562), array(0.01998604), array(517.58991098), array(0.30717502), array(0.57080759), array(58.41291457), array(0.0118647), array(6.04025737), array(0.34303746), array(20.76965228), array(2.18544185), array(0.00262989), array(104.4233997), array(0.06609259), array(0.26822982), 1]\n",
      "pancreas_025.dcm\n"
     ]
    },
    {
     "name": "stderr",
     "output_type": "stream",
     "text": [
      "GLCM is symmetrical, therefore Sum Average = 2 * Joint Average, only 1 needs to be calculated\n",
      "GLCM is symmetrical, therefore Sum Average = 2 * Joint Average, only 1 needs to be calculated\n"
     ]
    },
    {
     "name": "stdout",
     "output_type": "stream",
     "text": [
      "[0.29539855888474903, 0.0, 0.0, 181.62866675198305, array(55.), array(95.390625), array(167.28038454), array(167.28038454), array(5360.58654785), 53.652846410694124, array(0.132238), array(11201.32489387), array(2.08957076), 5459.1796875, array(12.), array(132.), array(1.180127e+08), array(2.77496473), array(43.), array(74.96943755), array(216.), array(44.58035714), array(79.67207792), array(99.), array(-956.), array(1172.), array(20.63630569), array(126.35237052), array(-7.59882128), array(87155375.36621094), array(0.20370983), array(9617.28153637), array(1848.15788234), array(205069.22037661), array(-2679.08018877), array(46.8083733), array(1.74378354), array(0.92475811), array(0.79531793), array(1.56454985), array(1.09455293), array(0.67694048), array(0.65869358), array(0.999272), array(0.98410484), array(-0.27998543), array(0.8760934), array(0.4882866), array(42.85894509), array(0.07227842), array(4.65078339), array(0.97301396), array(0.16693071), array(85.71789018), array(3.56979555), array(12.13803921), array(5.46433978), array(1123.17180736), array(0.15194424), array(3.30109508), array(1505.82305195), array(15.42660968), array(1839.13947511), array(20.47781385), array(38428.2092803), array(0.02732312), array(0.00189248), array(0.14101623), array(250.14704882), array(0.00029598), array(770.5816058), array(0.17157693), array(18.52480627), array(1819.98635643), array(4.10504806), array(7638.86175469), array(0.00694784), array(0.0021138), array(4.50053424), array(2072.06540717), array(0.45722429), array(0.60693994), array(1.32651188), array(0.6976826), array(1257.93967667), array(0.00160364), array(126.74054054), array(0.11418067), array(28.56656846), array(1752.76126126), array(3467.57837838), array(6700164.34864865), array(1.87749536), array(0.0026538), array(241.94054054), array(0.21796445), array(0.46629704), array(807.66907915), array(0.00086609), array(6.24522271), array(0.15016234), array(3423.22997809), array(0.33195936), array(0.00145867), array(492.78214975), array(0.02115247), array(6.87065711), 1]\n",
      "pancreas_028.dcm\n",
      "[0.40238757901925676, 0.0, 0.0, 103.04942920567846, array(43.828125), array(95.390625), array(95.52988146), array(95.52988146), array(2432.27183024), 41.46581033738924, array(0.17020078), array(5138.82688941), array(2.11276833), 2490.3076171875, array(-27.), array(170.), array(91723710.), array(3.61554217), array(115.), array(74.2564715), array(2141.), array(71.85446296), array(96.54626335), array(104.), array(-362.), array(2503.), array(47.25268125), array(164.92899907), array(6.58988227), array(67740288.75732422), array(0.10183016), array(17880.39376718), array(401.41420308), array(740863.57933198), array(6844.90204725), array(106.96843666), array(10.41608087), array(0.82274623), array(1.38785062), array(2.05288914), array(8.43894652), array(0.58887337), array(0.55137869), array(0.99906606), array(0.98708033), array(-0.31800352), array(0.94419652), array(0.47211746), array(19.42359404), array(0.02431847), array(6.06567812), array(0.8950136), array(0.07579143), array(38.84718808), array(4.51985838), array(29.34612938), array(6.11706465), array(593.84460261), array(0.1761105), array(2.69948878), array(343.371293), array(28.68976668), array(404.44246738), array(13.58244365), array(5163.63997628), array(0.04067438), array(0.00330869), array(0.233965), array(112.03046553), array(0.00101159), array(227.49819886), array(0.09464125), array(35.7630253), array(414.94698962), array(2.72529135), array(1069.25796622), array(0.00855572), array(0.00344557), array(4.86205214), array(1392.34630331), array(0.57527597), array(0.71263345), array(0.72216004), array(0.78531198), array(333.47409932), array(0.00280478), array(74.6969697), array(0.08084088), array(69.51286989), array(469.08008658), array(65.77056277), array(26347.62770563), array(0.1815231), array(0.00417383), array(259.77272727), array(0.28113932), array(0.54482902), array(290.7868708), array(0.00275356), array(6.37823627), array(0.27402135), array(52.45280261), array(0.13773896), array(0.00455517), array(1739.83458127), array(0.01870947), array(35.74183451), 1]\n",
      "pancreas_029.dcm\n"
     ]
    },
    {
     "name": "stderr",
     "output_type": "stream",
     "text": [
      "GLCM is symmetrical, therefore Sum Average = 2 * Joint Average, only 1 needs to be calculated\n",
      "GLCM is symmetrical, therefore Sum Average = 2 * Joint Average, only 1 needs to be calculated\n"
     ]
    },
    {
     "name": "stdout",
     "output_type": "stream",
     "text": [
      "[0.2217888115426938, 0.0, 0.0, 205.6774198139736, array(46.40625), array(95.390625), array(177.97571184), array(177.97571184), array(4432.81402588), 45.6169505017089, array(0.14029409), array(9301.7449213), array(2.09838375), 4521.25244140625, array(-77.), array(122.), array(91244422.), array(3.56316624), array(111.), array(92.36604174), array(1839.), array(66.28303383), array(41.33322444), array(51.), array(-169.), array(2008.), array(45.82019486), array(122.08336733), array(6.94851181), array(67386322.39990234), array(0.1009418), array(13195.91313658), array(102.39232512), array(492025.45996355), array(4401.48631638), array(76.69433101), array(7.94424063), array(0.81223534), array(1.34137683), array(2.0422774), array(6.11459964), array(0.57221148), array(0.5301706), array(0.99896142), array(0.98437117), array(-0.27819079), array(0.92409413), array(0.47591672), array(9.23062251), array(0.02180639), array(6.09851412), array(0.92827308), array(0.05872458), array(18.46124502), array(4.44847962), array(21.15964291), array(5.99992948), array(1158.04671676), array(0.1891615), array(2.2658902), array(617.96569748), array(21.22725994), array(105.46079713), array(11.95687684), array(1136.2072852), array(0.23717646), array(0.02245383), array(0.25071415), array(36.84332172), array(0.00654004), array(432.46568808), array(0.09599837), array(25.66928701), array(110.02156311), array(2.39021158), array(240.23366003), array(0.05049832), array(0.02324985), array(4.72278568), array(2670.49808607), array(0.59140822), array(0.73587063), array(0.53485105), array(0.79682285), array(91.34891036), array(0.01897706), array(153.54938957), array(0.08521054), array(49.53645044), array(138.38956715), array(64.67702553), array(6857.96170921), array(0.96177659), array(0.02656988), array(531.32963374), array(0.29485551), array(0.55762221), array(98.83348276), array(0.01572256), array(6.22523972), array(0.29434825), array(53.13513164), array(0.57628754), array(0.00227836), array(2231.95454977), array(0.01428537), array(25.47940958), 1]\n",
      "pancreas_032.dcm\n",
      "[0.4313509021220351, 0.0, 0.0, 128.4800160929258, array(36.09375), array(96.25), array(118.22264173), array(118.22264173), array(2537.20397949), 55.41997084633713, array(0.16525843), array(5443.65703449), array(2.14553385), 2612.90283203125, array(4.7), array(156.), array(38363317.), array(3.2269802), array(93.), array(2.54103188), array(226.), array(50.00864538), array(85.12860373), array(96.), array(-98.), array(324.), array(37.32410838), array(104.13078945), array(-0.47510165), array(28332283.6730957), array(0.12145211), array(3596.3421383), array(68.35452006), array(1063.97911934), array(-46.52151904), array(20.26980818), array(2.15323803), array(0.80752192), array(1.05873623), array(1.88155196), array(1.00853528), array(0.60974165), array(0.57397875), array(0.98944724), array(0.93368151), array(-0.24548262), array(0.88235679), array(0.46747224), array(7.9890407), array(0.02863657), array(5.60395823), array(0.82054415), array(0.06794225), array(15.97808139), array(4.09613337), array(5.60576155), array(5.82519566), array(594.95251555), array(0.16816069), array(3.12777944), array(429.69756925), array(5.85524041), array(68.59525155), array(15.13171283), array(1028.6495195), array(0.41901041), array(0.02890427), array(0.21720601), array(14.20320601), array(0.00668107), array(293.11574288), array(0.11974448), array(5.80582179), array(68.35525873), array(2.99250422), array(200.8453169), array(0.08483381), array(0.02937303), array(4.47062123), array(1370.42270763), array(0.55728672), array(0.69191634), array(0.88643646), array(0.77352889), array(52.30139961), array(0.02293421), array(109.0819849), array(0.11767204), array(5.85249654), array(64.7626753), array(95.5987055), array(5502.1574973), array(2.75263788), array(0.03153504), array(237.62998921), array(0.25634303), array(0.51476164), array(32.57189724), array(0.01646783), array(5.81306325), array(0.26201244), array(81.03217278), array(2.04031657), array(0.00401723), array(50.1057889), array(0.04057485), array(0.27964553), 1]\n"
     ]
    },
    {
     "name": "stderr",
     "output_type": "stream",
     "text": [
      "GLCM is symmetrical, therefore Sum Average = 2 * Joint Average, only 1 needs to be calculated\n"
     ]
    },
    {
     "name": "stdout",
     "output_type": "stream",
     "text": [
      "pancreas_035.dcm\n",
      "[0.5031038144433037, 0.0, 0.0, 136.57878553571555, array(57.578125), array(91.09375), array(123.7171723), array(123.7171723), array(3203.96931966), 68.7133079750524, array(0.15276233), array(6880.07879955), array(2.14736101), 3302.685546875, array(28.), array(168.), array(74163275.), array(3.09697563), array(64.), array(3.90025201), array(294.), array(45.11954097), array(114.56104651), array(130.), array(-102.), array(396.), array(29.29545196), array(128.77855641), array(-0.68326208), array(54771461.6394043), array(0.1578773), array(3459.68321429), array(107.83541604), array(1502.7401514), array(-61.83670816), array(19.14301875), array(1.22864668), array(0.87890624), array(0.73770827), array(1.56841527), array(0.67365821), array(0.69590394), array(0.6777748), array(0.99583896), array(0.9603806), array(-0.34945579), array(0.93389003), array(0.45214054), array(10.16644504), array(0.06079017), array(4.98280171), array(0.92131008), array(0.16747789), array(20.33289008), array(3.93137095), array(5.09291636), array(5.86702432), array(612.08094812), array(0.13686962), array(4.0938057), array(706.02728086), array(5.63384329), array(107.76945438), array(23.15429338), array(2744.87678891), array(0.24134663), array(0.01377517), array(0.13607554), array(12.47865206), array(0.00287405), array(331.18347354), array(0.12774243), array(6.53988184), array(101.6606043), array(4.78981643), array(552.56124008), array(0.0546148), array(0.01577071), array(4.87958486), array(1148.69801498), array(0.44057525), array(0.57927102), array(1.75850094), array(0.68684614), array(66.49657794), array(0.01196965), array(66.85294118), array(0.09831315), array(8.67904628), array(88.43970588), array(1323.84117647), array(160962.83088235), array(11.12297418), array(0.02222498), array(136.11470588), array(0.20016869), array(0.43711101), array(36.41935115), array(0.01179688), array(6.33621002), array(0.15205725), array(1280.59121107), array(1.21203183), array(0.00361398), array(57.52533141), array(0.01924143), array(0.5050881), 1]\n",
      "pancreas_037.dcm\n"
     ]
    },
    {
     "name": "stderr",
     "output_type": "stream",
     "text": [
      "GLCM is symmetrical, therefore Sum Average = 2 * Joint Average, only 1 needs to be calculated\n"
     ]
    },
    {
     "name": "stdout",
     "output_type": "stream",
     "text": [
      "[0.3054231093551512, 0.0, 0.0, 189.24484874623394, array(58.4375), array(147.8125), array(161.01302839), array(161.01302839), array(5158.04595947), 57.79975013352006, array(0.13315356), array(10842.30186425), array(2.1020173), 5269.378662109375, array(6.), array(146.), array(73678355.), array(3.14074189), array(80.), array(2.8344725), array(274.), array(45.58236415), array(84.85508059), array(93.), array(-77.), array(351.), array(33.2002182), array(101.61854487), array(-0.36405842), array(54413335.90698242), array(0.13383446), array(3125.94395982), array(67.87609545), array(1004.78237665), array(-29.46242245), array(18.71436749), array(1.03172565), array(0.8953838), array(0.68874343), array(1.47994645), array(0.54705903), array(0.70475287), array(0.68923415), array(0.99550098), array(0.95817124), array(-0.38061191), array(0.94964033), array(0.45971399), array(7.96587595), array(0.04701377), array(5.04761559), array(0.90235822), array(0.1296274), array(15.9317519), array(4.05331062), array(4.93652328), array(5.94386618), array(1022.27316048), array(0.14327585), array(3.84140017), array(954.90889979), array(5.07617749), array(67.77771549), array(23.96734408), array(1808.66124737), array(0.4966976), array(0.02434947), array(0.11607538), array(7.04493802), array(0.00350872), array(498.4102196), array(0.12376621), array(5.20165878), array(63.66433023), array(5.16418212), array(384.65304136), array(0.10762641), array(0.0263898), array(4.88199739), array(1721.63242069), array(0.42316709), array(0.56422565), array(1.94908175), array(0.67051982), array(40.88805637), array(0.01849354), array(97.38061466), array(0.11510711), array(6.00784669), array(57.82742317), array(887.33687943), array(79952.37115839), array(11.52123158), array(0.03338939), array(137.46572104), array(0.16248903), array(0.40107558), array(23.80115754), array(0.01433733), array(6.60699582), array(0.11857043), array(816.20779331), array(2.60022717), array(0.00269609), array(40.21814032), array(0.0204547), array(0.23601306), 1]\n",
      "pancreas_040.dcm\n"
     ]
    },
    {
     "name": "stderr",
     "output_type": "stream",
     "text": [
      "GLCM is symmetrical, therefore Sum Average = 2 * Joint Average, only 1 needs to be calculated\n"
     ]
    },
    {
     "name": "stdout",
     "output_type": "stream",
     "text": [
      "[0.2666888487767533, 0.0, 0.0, 197.12011448347513, array(48.125), array(116.875), array(163.60658379), array(163.60658379), array(3825.06917318), 52.5697364023398, array(0.14555575), array(8126.07712629), array(2.12442619), 3925.262451171875, array(-28.), array(117.), array(37958727.), array(2.95237292), array(62.), array(3.53597055), array(183.), array(43.68352109), array(63.19266228), array(80.), array(-124.), array(307.), array(28.1766068), array(84.50923789), array(-1.06859561), array(28033483.68530273), array(0.17138923), array(3148.4987232), array(70.29654488), array(1309.93197455), array(-93.92411247), array(18.37729618), array(1.26530595), array(0.87068571), array(0.80385438), array(1.57619574), array(0.60520108), array(0.66483633), array(0.64335656), array(0.99270863), array(0.94469996), array(-0.305932), array(0.90747061), array(0.48987861), array(8.12511543), array(0.05820881), array(4.93077422), array(0.90596412), array(0.15876068), array(16.25023086), array(3.77228851), array(4.91065053), array(5.63653477), array(812.4491063), array(0.15285966), array(3.28506548), array(910.93377234), array(5.15184328), array(69.84609595), array(19.04365005), array(1397.15484478), array(0.53010158), array(0.03064583), array(0.16001749), array(10.48261091), array(0.00614551), array(501.29166808), array(0.1498141), array(5.35457306), array(68.17094326), array(3.82075577), array(275.86390315), array(0.11009106), array(0.03226461), array(4.51175512), array(1630.42220145), array(0.48245707), array(0.62878645), array(1.22333335), array(0.71760999), array(47.93168744), array(0.02427831), array(111.98039216), array(0.121983), array(6.51349789), array(62.92701525), array(1642.97494553), array(132710.91938998), array(23.17053459), array(0.04192375), array(218.76906318), array(0.23831053), array(0.49412402), array(31.67210904), array(0.0218594), array(5.95817822), array(0.17271872), array(1609.45362064), array(3.40386466), array(0.00222895), array(40.69745486), array(0.03780301), array(0.17299276), 1]\n",
      "pancreas_041.dcm\n"
     ]
    },
    {
     "name": "stderr",
     "output_type": "stream",
     "text": [
      "GLCM is symmetrical, therefore Sum Average = 2 * Joint Average, only 1 needs to be calculated\n",
      "GLCM is symmetrical, therefore Sum Average = 2 * Joint Average, only 1 needs to be calculated\n"
     ]
    },
    {
     "name": "stdout",
     "output_type": "stream",
     "text": [
      "[0.36081333867151616, 0.0, 0.0, 155.62916108474707, array(50.703125), array(142.65625), array(143.77269267), array(143.77269267), array(4496.51184082), 56.15307720563478, array(0.14015267), array(9400.11642927), array(2.09053523), 4582.550048828125, array(-49.), array(113.), array(76748948.), array(3.35020681), array(89.), array(116.3989065), array(1794.), array(55.32386538), array(45.52038678), array(48.), array(-123.), array(1917.), array(37.06929797), array(111.21550104), array(8.1778135), array(56681046.80175781), array(0.11435879), array(10296.78205819), array(68.14152961), array(421590.19957737), array(3838.71101915), array(60.88845867), array(5.87708702), array(0.82399126), array(1.2330278), array(1.95479662), array(4.33231006), array(0.58758275), array(0.54983374), array(0.99910747), array(0.98478876), array(-0.26082071), array(0.90368093), array(0.48736252), array(7.37485908), array(0.02488625), array(5.79497954), array(0.87852388), array(0.05281107), array(14.74971816), array(4.2455132), array(16.69138642), array(5.82502186), array(1187.20402901), array(0.19133022), array(2.17643841), array(709.59629331), array(16.5209339), array(70.45640612), array(12.6560838), array(723.6093473), array(0.46898117), array(0.03717911), array(0.2190563), array(25.4284483), array(0.00892874), array(502.12054866), array(0.11231697), array(20.432602), array(75.89402354), array(2.50491857), array(161.17089315), array(0.09168429), array(0.03740497), array(4.555644), array(2549.25284286), array(0.56848495), array(0.72034649), array(0.56530185), array(0.78121396), array(63.51933135), array(0.02926718), array(162.50740741), array(0.10031321), array(44.30666667), array(107.59753086), array(44.5537037), array(2697.67901235), array(1.38801719), array(0.04225333), array(389.99506173), array(0.24073769), array(0.49941348), array(77.45292232), array(0.02237051), array(6.3595755), array(0.26107977), array(29.88291228), array(0.76448456), array(0.00210492), array(1974.82431291), array(0.00990207), array(25.8451493), 1]\n",
      "pancreas_042.dcm\n"
     ]
    },
    {
     "name": "stderr",
     "output_type": "stream",
     "text": [
      "GLCM is symmetrical, therefore Sum Average = 2 * Joint Average, only 1 needs to be calculated\n"
     ]
    },
    {
     "name": "stdout",
     "output_type": "stream",
     "text": [
      "[0.293964034419474, 0.0, 0.0, 182.8972353712993, array(41.25), array(127.1875), array(176.97700929), array(176.97700929), array(3327.24151611), 53.76520919391526, array(0.15070949), array(7151.54275609), array(2.14939094), 3429.7119140625, array(72.), array(159.), array(77706161.), array(2.58427674), array(32.25), array(10.57875805), array(259.), array(28.44288018), array(121.82924203), array(128.), array(-246.), array(505.), array(15.22812275), array(129.35452372), array(-1.59974657), array(57387972.90649414), array(0.23920996), array(1890.22859365), array(240.94293859), array(1183.41030939), array(-51.84233829), array(10.0804557), array(1.08310479), array(0.805542), array(0.70865309), array(1.47960799), array(0.56282933), array(0.69703798), array(0.68138024), array(0.99757356), array(0.96850165), array(-0.27898274), array(0.85762295), array(0.47323514), array(15.44969007), array(0.09645525), array(4.31310352), array(0.86529737), array(0.22510736), array(30.89938013), array(3.34419333), array(2.79089012), array(5.26460014), array(657.36391042), array(0.14155123), array(3.75294101), array(1110.8910422), array(3.12730322), array(239.87230835), array(22.42635659), array(5584.38522825), array(0.09317962), array(0.0047988), array(0.13633026), array(30.24756035), array(0.00102722), array(521.40638123), array(0.19145267), array(4.01871209), array(234.52110365), array(4.75595425), array(1171.65669721), array(0.02073692), array(0.00524155), array(4.40009748), array(1224.65639483), array(0.44099433), array(0.58484065), array(1.65650836), array(0.68140719), array(156.88087423), array(0.00386797), array(89.83235294), array(0.1321064), array(7.32397059), array(216.12647059), array(1446.57941176), array(369308.53382353), array(5.68802702), array(0.00761397), array(146.09705882), array(0.21484862), array(0.46291004), array(96.48662882), array(0.00481671), array(6.01249255), array(0.1464255), array(1399.93854671), array(0.90161396), array(0.00215287), array(122.9063219), array(0.00765173), array(1.03911005), 1]\n",
      "pancreas_043.dcm\n",
      "[0.39259497048058334, 0.0, 0.0, 123.00959741177789, array(41.25), array(124.609375), array(124.90535968), array(124.90535968), array(2807.31964111), 48.292949264705385, array(0.16084443), array(5983.28035246), array(2.13131425), 2888.372802734375, array(32.), array(153.), array(1.00499274e+08), array(3.16498982), array(48.), array(16.28356915), array(719.), array(55.08758786), array(113.99488622), array(105.), array(-133.), array(852.), array(21.25597448), array(160.3014882), array(3.19664063), array(74221265.5883789), array(0.17326966), array(12701.73303445), array(140.90510755), array(98626.87132882), array(2166.31422789), array(75.04921208), array(1.91633006), array(0.94999595), array(0.83273832), array(1.65956118), array(1.21005024), array(0.67910431), array(0.66015998), array(0.9984786), array(0.97760021), array(-0.36058038), array(0.94321266), array(0.46938557), array(11.07345636), array(0.06173042), array(5.11010522), array(0.96916883), array(0.16586814), array(22.14691271), array(4.02114743), array(19.24138553), array(5.85687697), array(560.84658655), array(0.14340235), array(3.5982661), array(677.65763232), array(20.42801372), array(143.33111736), array(21.10278701), array(2770.86474048), array(0.23581193), array(0.0131292), array(0.15236862), array(28.09381738), array(0.00241756), array(340.54513648), array(0.14420217), array(25.4608053), array(150.80572081), array(4.311427), array(581.45515139), array(0.05028258), array(0.01416996), array(4.92373446), array(1089.56861426), array(0.45811538), array(0.60201994), array(1.47870153), array(0.69960352), array(110.3054545), array(0.01043066), array(52.00478469), array(0.08294224), array(44.377296), array(189.52791069), array(641.44657097), array(78787.98086124), array(5.58549877), array(0.01740199), array(160.6108453), array(0.25615765), array(0.51834934), array(113.50679918), array(0.00885761), array(6.58672153), array(0.16031705), array(602.53842377), array(0.49052491), array(0.00340299), array(344.92936944), array(0.01801378), array(5.80695463), 1]\n",
      "pancreas_045.dcm\n"
     ]
    },
    {
     "name": "stderr",
     "output_type": "stream",
     "text": [
      "GLCM is symmetrical, therefore Sum Average = 2 * Joint Average, only 1 needs to be calculated\n",
      "GLCM is symmetrical, therefore Sum Average = 2 * Joint Average, only 1 needs to be calculated\n"
     ]
    },
    {
     "name": "stdout",
     "output_type": "stream",
     "text": [
      "[0.3779619640405586, 0.0, 0.0, 101.83409989305657, array(40.390625), array(98.828125), array(109.34343853), array(109.34343853), array(1903.6722819), 38.489416401882096, array(0.18053374), array(4114.53290666), array(2.16136619), 1968.90869140625, array(21.), array(139.), array(26602154.), array(2.90564457), array(58.), array(4.16771183), array(195.), array(37.3405525), array(87.060015), array(96.), array(-96.), array(291.), array(24.12001431), array(99.89145272), array(-0.93892814), array(19646366.17431641), array(0.16882653), array(2398.85611313), array(68.82915062), array(728.09848745), array(-42.92950511), array(12.71570237), array(1.24256054), array(0.82067006), array(0.76208697), array(1.56309256), array(0.6502736), array(0.68275162), array(0.6645856), array(0.99171001), array(0.94385052), array(-0.29336357), array(0.89440058), array(0.47861935), array(8.12156771), array(0.05796489), array(4.83192954), array(0.84332636), array(0.14840311), array(16.24313542), array(3.74572648), array(3.48956573), array(5.63272282), array(391.69017254), array(0.14692054), array(3.48431331), array(450.09152288), array(3.91860451), array(67.92460615), array(20.69467367), array(1529.13765941), array(0.54879223), array(0.02895765), array(0.14730743), array(8.67495996), array(0.00551811), array(242.09735058), array(0.14966433), array(4.35599561), array(64.88615321), array(4.06944305), array(292.8437678), array(0.11037733), array(0.03057794), array(4.53457429), array(744.21335437), array(0.45696688), array(0.60643286), array(1.30851403), array(0.69910823), array(43.65068773), array(0.02225445), array(46.88753056), array(0.11463944), array(6.00918215), array(54.66748166), array(418.37163814), array(32039.86552567), array(6.50904538), array(0.04399474), array(96.01711491), array(0.23476067), array(0.49122982), array(26.44971473), array(0.0219246), array(5.84509879), array(0.15341335), array(375.88291557), array(1.80586066), array(0.00488244), array(31.24355041), array(0.03074867), array(0.31438683), 1]\n",
      "pancreas_046.dcm\n",
      "[0.6467012939809841, 0.0, 0.0, 60.33493286912896, array(39.53125), array(48.125), array(54.11333638), array(54.11333638), array(1011.77978516), 39.01867915872151, array(0.21803428), array(2235.37306533), array(2.20934743), 1056.829833984375, array(8.), array(136.), array(14232290.), array(2.91807884), array(51.), array(4.16680016), array(203.), array(38.07181502), array(85.29979036), array(95.), array(-111.), array(314.), array(22.9946405), array(99.72810696), array(-1.03312337), array(10510907.53173828), array(0.17249718), array(2669.64108311), array(83.96911945), array(810.50302532), array(-55.03034023), array(13.15461086), array(2.15729525), array(0.71567452), array(1.08464961), array(1.86393646), array(0.96506059), array(0.59481229), array(0.55826941), array(0.98942653), array(0.93186724), array(-0.18229341), array(0.79465061), array(0.49289309), array(9.01208421), array(0.04673308), array(5.15889894), array(0.76450559), array(0.10018981), array(18.02416842), array(3.65491192), array(3.82797653), array(5.30860292), array(265.44863732), array(0.1854987), array(2.34015884), array(246.84346611), array(4.3247586), array(84.04682041), array(12.53459119), array(1104.55555556), array(0.18117718), array(0.01851836), array(0.24200544), array(18.89077681), array(0.00641644), array(160.32582081), array(0.15431822), array(4.848734), array(82.69093427), array(2.5221561), array(217.21879621), array(0.04146483), array(0.01993071), array(4.13752215), array(609.83733054), array(0.58466703), array(0.72589099), array(0.61004351), array(0.79175814), array(64.66188447), array(0.01666498), array(45.81296758), array(0.1142468), array(6.70538119), array(76.99750623), array(98.79052369), array(8512.39650873), array(1.22645083), array(0.02643701), array(119.61346633), array(0.29828795), array(0.56290127), array(42.11083708), array(0.01767966), array(5.58879302), array(0.28022362), array(86.0557708), array(0.98803724), array(0.00630239), array(64.7079123), array(0.03599624), array(0.58424842), 1]\n",
      "pancreas_048.dcm\n"
     ]
    },
    {
     "name": "stderr",
     "output_type": "stream",
     "text": [
      "GLCM is symmetrical, therefore Sum Average = 2 * Joint Average, only 1 needs to be calculated\n"
     ]
    },
    {
     "name": "stdout",
     "output_type": "stream",
     "text": [
      "[0.2828374960030585, 0.0, 0.0, 159.58582479834644, array(40.390625), array(122.03125), array(140.22303662), array(140.22303662), array(2656.29119873), 45.136855083547104, array(0.16272924), array(5699.92294759), array(2.14582006), 2736.97509765625, array(-28.), array(120.), array(23563021.), array(3.12832475), array(76.), array(3.0504292), array(196.), array(45.44681777), array(56.11144091), array(68.), array(-133.), array(329.), array(31.93467281), array(79.73752984), array(-0.74019211), array(17401889.28833008), array(0.1342631), array(3209.57986371), array(81.96392119), array(924.31593318), array(-60.36423019), array(17.02072356), array(2.8216372), array(0.715102), array(1.28141849), array(2.03012788), array(1.16303169), array(0.55261523), array(0.50385072), array(0.98622922), array(0.92055035), array(-0.16355288), array(0.79151705), array(0.46637154), array(8.85515109), array(0.02780718), array(5.67681934), array(0.75774763), array(0.06409966), array(17.71030219), array(3.92119153), array(4.96059019), array(5.45325979), array(778.32541824), array(0.21001765), array(1.86303129), array(497.57906098), array(5.22610961), array(82.15974096), array(10.22396114), array(890.66810577), array(0.1621742), array(0.01959008), array(0.27272133), array(21.27366099), array(0.00670916), array(361.50274844), array(0.12776906), array(5.52832028), array(80.97404993), array(2.15951862), array(182.08583867), array(0.03888406), array(0.02060365), array(4.18747814), array(1773.20606706), array(0.62529771), array(0.76355909), array(0.43749522), array(0.81842773), array(65.6221427), array(0.01750985), array(130.94039735), array(0.10839437), array(6.77638042), array(76.95860927), array(33.39403974), array(3179.71688742), array(0.43504921), array(0.02491184), array(355.61092715), array(0.29437991), array(0.5572704), array(42.45581412), array(0.01529459), array(5.74383466), array(0.32595791), array(23.98214716), array(2.69576695), array(0.00258472), array(73.46541484), array(0.0505946), array(0.19803749), 1]\n",
      "pancreas_049.dcm\n"
     ]
    },
    {
     "name": "stderr",
     "output_type": "stream",
     "text": [
      "GLCM is symmetrical, therefore Sum Average = 2 * Joint Average, only 1 needs to be calculated\n",
      "GLCM is symmetrical, therefore Sum Average = 2 * Joint Average, only 1 needs to be calculated\n"
     ]
    },
    {
     "name": "stdout",
     "output_type": "stream",
     "text": [
      "[0.2846140061181229, 0.0, 0.0, 197.44993981091665, array(57.578125), array(101.40625), array(179.75734037), array(179.75734037), array(5547.80273438), 56.19701837736722, array(0.1305582), array(11608.08668159), array(2.09237553), 5652.67333984375, array(-23.), array(119.), array(49624938.), array(3.06849255), array(64.), array(3.23867892), array(215.), array(42.01488721), array(59.82649595), array(70.), array(-153.), array(368.), array(28.05656014), array(80.52036959), array(-0.66411551), array(36649276.72119141), array(0.14834057), array(2904.32030136), array(102.72752359), array(896.2910351), array(-47.82825999), array(16.3290975), array(1.74775858), array(0.80630738), array(0.97193538), array(1.75310422), array(0.79222324), array(0.61927743), array(0.58850713), array(0.99333907), array(0.94524726), array(-0.24217591), array(0.87311593), array(0.49865158), array(9.95399407), array(0.03951371), array(5.33503642), array(0.83153358), array(0.10311408), array(19.90798815), array(3.92538757), array(4.51921402), array(5.63363196), array(1345.22341259), array(0.1757543), array(2.52214673), array(1135.39874575), array(4.7380746), array(103.00796969), array(14.85184217), array(1582.32179253), array(0.17136609), array(0.01288357), array(0.19436796), array(19.35023469), array(0.0030208), array(718.43214853), array(0.13678846), array(5.10028294), array(101.76835688), array(2.88559726), array(302.96140193), array(0.03503052), array(0.01341536), array(4.42443151), array(2809.33889088), array(0.53299566), array(0.68607917), array(0.74657179), array(0.75602582), array(76.20307263), array(0.01048492), array(186.03708134), array(0.1112662), array(6.67852155), array(98.02272727), array(245.70215311), array(28838.29964115), array(2.23122078), array(0.01583804), array(427.28827751), array(0.25555519), array(0.51589842), array(50.83352908), array(0.00897091), array(6.06183785), array(0.21844787), array(224.7463471), array(3.33578282), array(0.00147429), array(76.60344916), array(0.02651811), array(0.17420656), 1]\n",
      "pancreas_050.dcm\n",
      "[0.4413164363509175, 0.0, 0.0, 135.8365062944648, array(60.15625), array(73.90625), array(124.44628336), array(124.44628336), array(1447.26359049), 59.94688288423218, array(0.18874048), array(3278.31610763), array(2.26518247), 1528.74755859375, array(-21.), array(183.), array(39379777.), array(3.73663171), array(129.), array(35.76637488), array(293.), array(74.62059231), array(75.29130435), array(83.), array(-965.), array(1258.), array(51.64055995), array(137.92768707), array(-4.16069409), array(29082965.19165039), array(0.08620271), array(13355.26634951), array(1841.18789005), array(145585.232561), array(-1890.18684767), array(62.24155364), array(4.42021889), array(0.86236206), array(1.37586523), array(2.14542516), array(2.49120906), array(0.5555189), array(0.5084395), array(0.99837573), array(0.97451577), array(-0.26969667), array(0.92405588), array(0.45796842), array(42.74024997), array(0.01723823), array(6.34783831), array(0.93000194), array(0.04854732), array(85.48049994), array(4.58124893), array(16.66544313), array(6.09975533), array(415.30338164), array(0.20062965), array(2.46482672), array(178.43961353), array(21.42994446), array(1829.98019324), array(10.83285024), array(19908.04396135), array(0.02327521), array(0.00333147), array(0.2998098), array(534.03625147), array(0.00093399), array(132.65754295), array(0.08395419), array(23.8034127), array(1825.13453938), array(2.2343935), array(4091.07909482), array(0.00811988), array(0.00355589), array(4.74128648), array(1007.49943304), array(0.63522118), array(0.7634058), array(0.50465417), array(0.82429221), array(1499.20230271), array(0.00330393), array(62.76408912), array(0.08225962), array(31.28766046), array(1791.54652687), array(30.1310616), array(53618.05111402), array(0.05094889), array(0.0028563), array(243.16251638), array(0.31869268), array(0.57916378), array(1015.24075843), array(0.00136599), array(5.95362417), array(0.36859903), array(22.77082771), array(0.08176808), array(0.00766521), array(635.14422391), array(0.0436579), array(14.60047866), 1]\n",
      "pancreas_051.dcm\n"
     ]
    },
    {
     "name": "stderr",
     "output_type": "stream",
     "text": [
      "GLCM is symmetrical, therefore Sum Average = 2 * Joint Average, only 1 needs to be calculated\n"
     ]
    },
    {
     "name": "stdout",
     "output_type": "stream",
     "text": [
      "[0.288334024575704, 0.0, 0.0, 178.64844135120055, array(50.703125), array(133.203125), array(143.30963885), array(143.30963885), array(2864.80153402), 51.51042407896827, array(0.1590736), array(6132.19164206), array(2.14052931), 2950.408935546875, array(-8.), array(151.), array(48378164.), array(3.15155643), array(61.), array(4.13386658), array(281.), array(46.85854966), array(90.21176471), array(105.), array(-132.), array(413.), array(28.44497336), array(110.04398256), array(-1.09149376), array(35728502.46582031), array(0.14986023), array(3971.51560627), array(108.19266973), array(2078.0904512), array(-121.47661887), array(21.39805838), array(2.91698815), array(0.75949992), array(1.26763039), array(2.04603168), array(1.27855073), array(0.56214118), array(0.51606537), array(0.99129185), array(0.9373223), array(-0.18376784), array(0.81567619), array(0.46539687), array(10.17703279), array(0.03527644), array(5.65647302), array(0.81117257), array(0.08957534), array(20.35406557), array(3.92979988), array(6.07876163), array(5.49367705), array(787.70738423), array(0.19717331), array(2.16569109), array(598.69161452), array(6.41004259), array(108.85281602), array(11.18973717), array(1270.93341677), array(0.15247039), array(0.01570499), array(0.26423217), array(27.02328054), array(0.00529776), array(406.16155876), array(0.13564498), array(6.79956137), array(107.41830917), array(2.31257093), array(256.41567808), array(0.03401298), array(0.01639302), array(4.28162506), array(1836.13290167), array(0.61038909), array(0.74949937), array(0.51460873), array(0.80826426), array(85.83698759), array(0.01372241), array(127.16853933), array(0.10206143), array(8.71960096), array(101.78170144), array(55.50321027), array(6523.25120385), array(0.59927074), array(0.0200367), array(374.89566613), array(0.30087935), array(0.56247459), array(55.51105269), array(0.01285923), array(5.82407213), array(0.31188986), array(45.22310688), array(1.69539061), array(0.0023713), array(120.14724374), array(0.0359969), array(0.3535783), 1]\n",
      "pancreas_052.dcm\n"
     ]
    },
    {
     "name": "stderr",
     "output_type": "stream",
     "text": [
      "GLCM is symmetrical, therefore Sum Average = 2 * Joint Average, only 1 needs to be calculated\n",
      "GLCM is symmetrical, therefore Sum Average = 2 * Joint Average, only 1 needs to be calculated\n"
     ]
    },
    {
     "name": "stdout",
     "output_type": "stream",
     "text": [
      "[0.3006510114835939, 0.0, 0.0, 217.91249811909123, array(49.84375), array(180.46875), array(190.27928756), array(190.27928756), array(5892.75563558), 65.51561297442153, array(0.12831214), array(12295.94716651), array(2.08662092), 6000.518798828125, array(14.), array(154.), array(1.07706173e+08), array(2.99973191), array(64.), array(4.06057844), array(227.), array(44.29906602), array(99.82683077), array(117.), array(-115.), array(342.), array(28.53964998), array(115.13533067), array(-1.18954648), array(79543743.48754883), array(0.16398553), array(3290.7482278), array(96.04101657), array(1540.75745416), array(-102.87090823), array(19.05847084), array(1.30408264), array(0.8714489), array(0.79414487), array(1.59481571), array(0.65875331), array(0.6726232), array(0.6519896), array(0.99434447), array(0.95215448), array(-0.31077126), array(0.91182226), array(0.47891292), array(9.57088789), array(0.05577042), array(5.00197085), array(0.88595942), array(0.15150581), array(19.14177578), array(3.86969159), array(5.09063837), array(5.69817541), array(1231.27323077), array(0.15154132), array(3.3764551), array(1332.3824), array(5.36204564), array(95.77932308), array(20.38535385), array(2137.29686154), array(0.28760751), array(0.01735499), array(0.14078164), array(11.7782051), array(0.00318148), array(694.34761908), array(0.14001801), array(5.84421977), array(91.32248616), array(4.10451655), array(418.78997843), array(0.06186777), array(0.01898387), array(4.66291716), array(2296.73896895), array(0.45920097), array(0.60947692), array(1.34514585), array(0.69964892), array(61.4328925), array(0.01415444), array(134.67010309), array(0.10679628), array(7.21531506), array(79.87708168), array(984.09119746), array(116625.55511499), array(8.99944478), array(0.02487834), array(243.08723236), array(0.19277338), array(0.43272437), array(33.25905769), array(0.01151242), array(6.41256444), array(0.1552), array(942.57509586), array(3.08750602), array(0.00170809), array(50.17597043), array(0.02583604), array(0.19197938), 1]\n",
      "pancreas_055.dcm\n",
      "[0.18865187263690375, 0.0, 0.0, 147.24634276994402, array(33.515625), array(50.703125), array(133.4108763), array(133.4108763), array(2537.20397949), 27.77829830248535, array(0.16692205), array(5389.40302861), array(2.12415047), 2600.347900390625, array(-85.), array(79.), array(17204215.), array(3.3362008), array(98.), array(12.55331753), array(705.), array(53.73365778), array(7.10167566), array(15.), array(-158.), array(863.), array(39.74964841), array(69.90116567), array(1.21454592), array(12705749.60327148), array(0.1139223), array(4835.73916504), array(68.02548037), array(7772.02787988), array(144.39307844), array(27.13175198), array(3.68534826), array(0.76063559), array(1.28973616), array(2.06312119), array(1.99902164), array(0.56552166), array(0.5212506), array(0.99728729), array(0.96664582), array(-0.22308559), array(0.8734307), array(0.47090543), array(7.88429128), array(0.02366211), array(5.89068933), array(0.79629992), array(0.06009622), array(15.76858255), array(4.2069946), array(7.70427506), array(5.73647811), array(688.13263277), array(0.1954367), array(2.20644712), array(401.12042034), array(7.86668684), array(68.75631923), array(11.4362397), array(793.37886964), array(0.2869715), array(0.0283689), array(0.26015518), array(19.45900043), array(0.00904697), array(287.90016531), array(0.10972553), array(8.51028004), array(68.94491392), array(2.31904694), array(160.05812384), array(0.06231287), array(0.02944653), array(4.45345168), array(1585.43860918), array(0.60323184), array(0.74524283), array(0.51282758), array(0.80468229), array(55.77681899), array(0.02442941), array(106.60368664), array(0.09825225), array(12.12697148), array(73.19723502), array(41.17327189), array(3148.85990783), array(0.85614807), array(0.03454338), array(313.59907834), array(0.28903141), array(0.5537679), array(44.36567769), array(0.02156933), array(5.99717681), array(0.30815109), array(30.64220009), array(0.8411989), array(0.00351379), array(414.28850668), array(0.01553469), array(3.13365392), 1]\n",
      "pancreas_056.dcm\n"
     ]
    },
    {
     "name": "stderr",
     "output_type": "stream",
     "text": [
      "GLCM is symmetrical, therefore Sum Average = 2 * Joint Average, only 1 needs to be calculated\n",
      "GLCM is symmetrical, therefore Sum Average = 2 * Joint Average, only 1 needs to be calculated\n"
     ]
    },
    {
     "name": "stdout",
     "output_type": "stream",
     "text": [
      "[0.20918036483285365, 0.0, 0.0, 133.24455268935205, array(36.953125), array(55.), array(115.99015924), array(115.99015924), array(1942.38332113), 27.87214414354905, array(0.18095712), array(4160.36796771), array(2.14188823), 2000.665283203125, array(-60.2), array(92.), array(10781112.), array(3.08781819), array(78.), array(2.61267284), array(157.), array(45.86314789), array(28.81875231), array(41.), array(-149.), array(306.), array(33.09558668), array(63.0851698), array(-0.63557816), array(7962124.95117188), array(0.13662414), array(3149.21816441), array(64.88511013), array(768.66824429), array(-49.099057), array(16.57126062), array(2.11026561), array(0.7727288), array(1.07061254), array(1.8489596), array(0.9403308), array(0.59846325), array(0.56288704), array(0.98805662), array(0.92814886), array(-0.21406865), array(0.84116265), array(0.4937937), array(7.82738226), array(0.03390685), array(5.41278648), array(0.79289511), array(0.07813207), array(15.65476451), array(3.90740156), array(4.67038156), array(5.54743556), array(508.94758213), array(0.18787286), array(2.20045155), array(370.11480251), array(5.10926419), array(63.90402362), array(12.95275009), array(887.25950535), array(0.29159435), array(0.02859916), array(0.21697925), array(12.08786358), array(0.00875318), array(248.34935058), array(0.12821574), array(5.41360995), array(62.28050423), array(2.5516681), array(168.46160069), array(0.06586804), array(0.03078357), array(4.31507319), array(1092.06219873), array(0.56116221), array(0.71511628), array(0.57936983), array(0.7755846), array(47.18900405), array(0.02538179), array(73.28323699), array(0.10590063), array(6.54419418), array(55.20086705), array(62.21531792), array(4656.56358382), array(1.08880022), array(0.04146077), array(176.99710983), array(0.25577617), array(0.51498982), array(26.0374808), array(0.02502236), array(5.90042687), array(0.25544481), array(46.89012956), array(2.07396563), array(0.00425138), array(49.01999517), array(0.0462381), array(0.26588271), 1]\n",
      "pancreas_058.dcm\n",
      "[0.3673563986522722, 0.0, 0.0, 141.35046317139185, array(49.84375), array(130.625), array(130.72672848), array(130.72672848), array(2443.16507975), 51.92599709847315, array(0.16546623), array(5301.63656106), array(2.16998704), 2530.18798828125, array(-41.), array(109.), array(21327259.), array(3.11028257), array(71.), array(3.67233299), array(322.), array(46.31725202), array(52.42119089), array(67.), array(-109.), array(431.), array(31.3885573), array(78.89942573), array(-0.48079314), array(15750722.28393555), array(0.14814684), array(3477.13812654), array(62.95035282), array(1576.36993535), array(-54.73292345), array(21.02788982), array(0.97634332), array(0.91110683), array(0.65488378), array(1.4488783), array(0.54010776), array(0.71727465), array(0.70366091), array(0.99702955), array(0.96634788), array(-0.3997752), array(0.95479296), array(0.45000137), array(7.61166153), array(0.05648162), array(4.94026406), array(0.92044981), array(0.16658274), array(15.22332306), array(4.01593993), array(5.50105828), array(5.918948), array(465.69468768), array(0.13592956), array(4.03952161), array(507.55107998), array(5.6211401), array(63.7428488), array(24.80502043), array(1654.25423234), array(0.78026709), array(0.03358779), array(0.12070194), array(7.7555627), array(0.00474829), array(244.95166205), array(0.12858705), array(5.97924352), array(62.23555113), array(5.23109561), array(345.83885571), array(0.16649084), array(0.03510419), array(4.9204088), array(793.4962458), array(0.41392721), array(0.55538529), array(1.92917287), array(0.66363231), array(40.71505918), array(0.02423796), array(49.21867882), array(0.11211544), array(7.69403438), array(63.75626424), array(1003.64920273), array(76428.50797267), array(19.31973438), array(0.04183771), array(83.30979499), array(0.18977174), array(0.42957771), array(29.42002668), array(0.0192987), array(6.26092922), array(0.12813777), array(942.74522237), array(1.05669377), array(0.00500154), array(66.71199164), array(0.01631999), array(0.85296446), 1]\n",
      "pancreas_061.dcm\n"
     ]
    },
    {
     "name": "stderr",
     "output_type": "stream",
     "text": [
      "GLCM is symmetrical, therefore Sum Average = 2 * Joint Average, only 1 needs to be calculated\n"
     ]
    },
    {
     "name": "stdout",
     "output_type": "stream",
     "text": [
      "[0.2699139062816503, 0.0, 0.0, 168.59992554440595, array(41.25), array(132.34375), array(154.9975192), array(154.9975192), array(3662.28586833), 45.50746450248601, array(0.1480807), array(7759.2634195), array(2.11869409), 3753.924560546875, array(-65.), array(132.), array(38008957.), array(3.52761809), array(116.), array(2.27329127), array(304.), array(62.59284521), array(43.80779067), array(58.), array(-176.), array(480.), array(47.34829666), array(86.4734769), array(-0.34461107), array(28070579.81567383), array(0.09770035), array(5558.53968355), array(114.85992423), array(2165.62082872), array(-72.74364978), array(30.83005176), array(3.54796586), array(0.79329267), array(1.43530705), array(2.15899195), array(1.45544732), array(0.52770507), array(0.47271697), array(0.99217084), array(0.9386619), array(-0.20497924), array(0.86617392), array(0.44988177), array(10.39416293), array(0.01747474), array(6.28410532), array(0.81563159), array(0.03896437), array(20.78832586), array(4.38271594), array(8.59450441), array(5.8109849), array(1116.62266378), array(0.21967788), array(1.74616611), array(496.61085973), array(8.95297689), array(114.56974228), array(9.15660043), array(1091.13043478), array(0.11437979), array(0.01401549), array(0.30572809), array(34.00469801), array(0.00498137), array(378.38809978), array(0.09486296), array(9.16075309), array(113.52639316), array(1.99739287), array(232.50635819), array(0.02682852), array(0.01441668), array(4.49834994), array(2597.9474893), array(0.6500011), array(0.78472359), array(0.36666206), array(0.8335613), array(93.95290009), array(0.01230881), array(162.63771186), array(0.08614286), array(10.15832123), array(110.29608051), array(18.78972458), array(2371.80402542), array(0.21152353), array(0.01616485), array(592.52330508), array(0.3138365), array(0.57676692), array(63.56358991), array(0.01011172), array(5.95393432), array(0.37143419), array(11.54142325), array(1.76685193), array(0.00231246), array(165.19471253), array(0.0447701), array(0.35842869), 1]\n",
      "pancreas_064.dcm\n"
     ]
    },
    {
     "name": "stderr",
     "output_type": "stream",
     "text": [
      "GLCM is symmetrical, therefore Sum Average = 2 * Joint Average, only 1 needs to be calculated\n"
     ]
    },
    {
     "name": "stdout",
     "output_type": "stream",
     "text": [
      "[0.31458630210877697, 0.0, 0.0, 167.48581811650794, array(36.953125), array(127.1875), array(150.04402023), array(150.04402023), array(3401.09405518), 52.68874417693544, array(0.15118007), array(7234.39168187), array(2.12707781), 3489.532470703125, array(-67.), array(130.), array(33914631.), array(3.54877097), array(109.), array(2.37589967), array(255.), array(61.27363386), array(41.08634921), array(52.), array(-151.), array(406.), array(45.64546675), array(84.72130595), array(-0.1560049), array(25046816.10717773), array(0.09724534), array(5489.61159143), array(92.21674313), array(2331.21838099), array(-29.79025816), array(30.63532334), array(3.13593484), array(0.81354387), array(1.32136509), array(2.07836979), array(1.33431436), array(0.55261004), array(0.50398708), array(0.99064677), array(0.93489213), array(-0.23612123), array(0.88885688), array(0.45882307), array(9.23799153), array(0.01882912), array(6.20404987), array(0.82162508), array(0.05301585), array(18.47598306), array(4.42725722), array(8.44281455), array(5.93400149), array(960.80783069), array(0.20334557), array(2.03878297), array(459.4842328), array(8.87955773), array(92.92867725), array(10.70666667), array(1018.31111111), array(0.19909881), array(0.01925536), array(0.26823768), array(24.66872331), array(0.00559047), array(338.96093199), array(0.09482531), array(8.88848542), array(92.37787299), array(2.25396418), array(211.4561952), array(0.04260255), array(0.01947048), array(4.59630735), array(2229.01263952), array(0.61889268), array(0.75698413), array(0.48295169), array(0.81288942), array(74.78625698), array(0.01593489), array(138.72458172), array(0.08926936), array(9.4608181), array(91.23873874), array(32.63256113), array(3426.33976834), array(0.48950862), array(0.02093488), array(439.31145431), array(0.2826972), array(0.54179288), array(49.94682282), array(0.01192275), array(6.03020416), array(0.32888889), array(23.38767435), array(2.05662462), array(0.00276458), array(111.89203421), array(0.04861435), array(0.3265953), 1]\n",
      "pancreas_066.dcm\n"
     ]
    },
    {
     "name": "stderr",
     "output_type": "stream",
     "text": [
      "GLCM is symmetrical, therefore Sum Average = 2 * Joint Average, only 1 needs to be calculated\n"
     ]
    },
    {
     "name": "stdout",
     "output_type": "stream",
     "text": [
      "[0.3269712905923231, 0.0, 0.0, 167.79627364460825, array(56.71875), array(128.046875), array(161.12307262), array(161.12307262), array(4666.12650553), 54.86456415016017, array(0.1381181), array(9776.9755617), array(2.09530872), 4758.319091796875, array(24.), array(102.), array(42900136.), array(2.48769897), array(33.), array(10.40266284), array(339.), array(26.92212542), array(69.90718609), array(74.), array(-112.), array(451.), array(14.71355436), array(81.59908123), array(0.43892368), array(31682839.69726562), array(0.25169638), array(1771.39538992), array(72.24074718), array(1074.58617042), array(22.30223997), array(9.55021294), array(1.04186884), array(0.80287729), array(0.69933081), array(1.47278687), array(0.54396861), array(0.69832109), array(0.68334898), array(0.99715145), array(0.96582107), array(-0.25254478), array(0.83335828), array(0.47695979), array(8.37337569), array(0.09870609), array(4.22789496), array(0.87616718), array(0.20394016), array(16.74675138), array(3.26140519), array(2.64802044), array(5.18985159), array(908.39282943), array(0.14098911), array(3.70903764), array(1621.67980754), array(2.91582328), array(72.10010865), array(22.92425889), array(1673.64597237), array(0.35214016), array(0.01824596), array(0.13560263), array(9.72421835), array(0.00352227), array(754.92433313), array(0.20269772), array(3.88097425), array(71.69919741), array(4.7694976), array(347.93065641), array(0.07727743), array(0.02005581), array(4.37591147), array(1614.53720589), array(0.4299968), array(0.57706038), array(1.69221754), array(0.67544501), array(48.32604262), array(0.01465257), array(117.09825328), array(0.12783652), array(7.58915138), array(72.20196507), array(2536.41375546), array(198975.30021834), array(32.70597465), array(0.02755395), array(219.43449782), array(0.23955731), array(0.49604908), array(35.81384686), array(0.01584106), array(5.99115298), array(0.1421698), array(2486.938811), array(2.72960693), array(0.00148613), array(86.20538916), array(0.0085455), array(0.42067768), 1]\n",
      "pancreas_067.dcm\n"
     ]
    },
    {
     "name": "stderr",
     "output_type": "stream",
     "text": [
      "GLCM is symmetrical, therefore Sum Average = 2 * Joint Average, only 1 needs to be calculated\n",
      "GLCM is symmetrical, therefore Sum Average = 2 * Joint Average, only 1 needs to be calculated\n"
     ]
    },
    {
     "name": "stdout",
     "output_type": "stream",
     "text": [
      "[0.22823159260210735, 0.0, 0.0, 180.98875703073122, array(36.09375), array(95.390625), array(163.76224385), array(163.76224385), array(3810.97564697), 41.307352260199636, array(0.1469188), array(8030.89989659), array(2.10730811), 3894.244384765625, array(-30.), array(142.), array(55373912.), array(3.17353549), array(76.), array(3.37860651), array(220.), array(52.40087203), array(78.28181301), array(100.), array(-136.), array(356.), array(35.0917451), array(102.47636631), array(-1.06569318), array(40895039.99023438), array(0.14283684), array(4373.36340335), array(100.4113932), array(2202.25770495), array(-141.37678206), array(24.48000272), array(2.27865831), array(0.82943776), array(1.1086572), array(1.9070614), array(1.03255604), array(0.5928425), array(0.55484169), array(0.99024566), array(0.93472795), array(-0.23206264), array(0.87056096), array(0.48214275), array(9.73960837), array(0.03740003), array(5.54197306), array(0.8525384), array(0.10246987), array(19.47921675), array(4.00675571), array(6.68966526), array(5.60386488), array(965.94670965), array(0.18318731), array(2.48903939), array(753.17864593), array(7.06351278), array(100.13313104), array(13.26929642), array(1450.86971364), array(0.21382262), array(0.01929585), array(0.22316547), array(20.08480854), array(0.00561188), array(475.58284833), array(0.12619417), array(7.42732346), array(97.15393586), array(2.62962026), array(274.81933703), array(0.04670798), array(0.02044483), array(4.43515643), array(2167.21043713), array(0.57347338), array(0.71458373), array(0.66017265), array(0.78491564), array(74.41479268), array(0.01682072), array(136.76197388), array(0.09924672), array(8.47134053), array(88.33889695), array(140.27213353), array(16416.1988389), array(1.72000626), array(0.02523732), array(364.43105951), array(0.26446376), array(0.52207101), array(44.5969055), array(0.01515757), array(6.01165196), array(0.26133131), array(125.62957032), array(2.5090154), array(0.00218622), array(68.29590769), array(0.04746975), array(0.22933124), 1]\n",
      "pancreas_069.dcm\n"
     ]
    },
    {
     "name": "stderr",
     "output_type": "stream",
     "text": [
      "GLCM is symmetrical, therefore Sum Average = 2 * Joint Average, only 1 needs to be calculated\n"
     ]
    },
    {
     "name": "stdout",
     "output_type": "stream",
     "text": [
      "[0.3558889991170401, 0.0, 0.0, 165.17124142723816, array(56.71875), array(134.0625), array(154.26918264), array(154.26918264), array(2977.734375), 58.78262779445878, array(0.15505871), array(6455.2329564), array(2.16783371), 3082.60498046875, array(-4.), array(160.), array(61554912.), array(3.21963736), array(74.), array(3.59066853), array(294.), array(52.37001205), array(100.7743172), array(121.), array(-108.), array(402.), array(33.39270463), array(121.4381479), array(-0.80627528), array(45459865.4296875), array(0.15431784), array(4591.7607587), array(98.86018621), array(2633.04128506), array(-123.43345002), array(26.32989174), array(1.67462694), array(0.87982198), array(0.89569669), array(1.72774506), array(0.84864813), array(0.65137585), array(0.62549952), array(0.9943542), array(0.9523888), array(-0.31835013), array(0.92532737), array(0.47145152), array(9.62778853), array(0.05554062), array(5.31953818), array(0.89146436), array(0.17358687), array(19.25557706), array(4.06267771), array(7.00112967), array(5.83318639), array(619.64734068), array(0.14845408), array(3.72962063), array(644.12266411), array(7.41378107), array(98.51701006), array(18.58552947), array(2008.04743651), array(0.29627019), array(0.02092142), array(0.18509595), array(16.27835246), array(0.00524366), array(321.82996726), array(0.11977103), array(8.21826147), array(94.47325385), array(3.75826003), array(394.22190482), array(0.06562955), array(0.02314568), array(4.7719408), array(1387.59155835), array(0.51222048), array(0.64320795), array(1.28538852), array(0.74177243), array(68.02211572), array(0.01832992), array(80.47139588), array(0.09207254), array(9.77789589), array(85.83066362), array(1028.47368421), array(123542.48512586), array(9.05424121), array(0.02933054), array(223.73684211), array(0.25599181), array(0.51753327), array(43.3427666), array(0.01675676), array(6.18395003), array(0.20939147), array(1005.66595625), array(1.40354619), array(0.00341062), array(66.78823495), array(0.03089397), array(0.45578274), 1]\n",
      "pancreas_070.dcm\n",
      "[0.6824511911786064, 0.0, 0.0, 80.80683788646628, array(61.015625), array(81.640625), array(82.78596273), array(82.78596273), array(2028.66770426), 55.14672277099546, array(0.17434283), array(4445.15919536), array(2.19117167), 2112.921142578125, array(-50.), array(135.), array(23906039.), array(3.47801865), array(94.), array(2.81544234), array(250.), array(57.15190009), array(57.45228941), array(71.), array(-145.), array(395.), array(39.78206768), array(91.4102471), array(-0.40358801), array(17655216.79077148), array(0.10907343), array(5055.06771671), array(86.01224841), array(2219.78015317), array(-60.73187706), array(27.33622234), array(2.80482158), array(0.81327568), array(1.24748653), array(2.02417281), array(1.22074358), array(0.56486106), array(0.51946233), array(0.99062275), array(0.93494162), array(-0.24203361), array(0.8942823), array(0.46780598), array(8.93749811), array(0.0245858), array(6.01481911), array(0.82555937), array(0.07313206), array(17.87499622), array(4.30364668), array(7.53526098), array(5.82611367), array(572.25620412), array(0.20001964), array(2.13122711), array(312.05907026), array(8.21618602), array(86.06396365), array(11.04753583), array(993.1950367), array(0.23332719), array(0.02628771), array(0.26588302), array(21.51737603), array(0.00979284), array(218.07916698), array(0.10138806), array(8.6319717), array(84.8703958), array(2.26452265), array(199.04502068), array(0.05374148), array(0.0279634), array(4.57146447), array(1317.10495481), array(0.61014153), array(0.75174764), array(0.48194193), array(0.80835831), array(67.80394707), array(0.02367077), array(79.41014333), array(0.08755253), array(10.33891976), array(79.66703418), array(38.26791621), array(3746.78831312), array(0.5897087), array(0.03678496), array(266.90297685), array(0.2942701), array(0.5575467), array(43.88116047), array(0.02435035), array(5.98370301), array(0.31702202), array(28.31796064), array(1.37673345), array(0.00432075), array(96.80111931), array(0.05060916), array(0.45746607), 1]\n",
      "pancreas_071.dcm\n"
     ]
    },
    {
     "name": "stderr",
     "output_type": "stream",
     "text": [
      "GLCM is symmetrical, therefore Sum Average = 2 * Joint Average, only 1 needs to be calculated\n",
      "GLCM is symmetrical, therefore Sum Average = 2 * Joint Average, only 1 needs to be calculated\n"
     ]
    },
    {
     "name": "stdout",
     "output_type": "stream",
     "text": [
      "[0.42083527145734734, 0.0, 0.0, 180.6840913398428, array(75.625), array(143.515625), array(154.45099107), array(154.45099107), array(3703.70483398), 76.03823862702689, array(0.14346875), array(8068.96320023), array(2.1786194), 3844.76318359375, array(-73.), array(86.), array(18697553.), array(3.23965247), array(77.), array(3.08061925), array(241.), array(47.03357912), array(1.3732232), array(-2.), array(-146.), array(387.), array(32.33056089), array(59.92945174), array(0.53045164), array(13808617.63305664), array(0.12403328), array(3589.65344359), array(48.53574493), array(1357.97897709), array(53.95582916), array(20.62788322), array(1.69283116), array(0.84803328), array(0.97102531), array(1.72894166), array(0.73678869), array(0.61652773), array(0.5850897), array(0.99352456), array(0.94515687), array(-0.28336159), array(0.91207153), array(0.50085941), array(6.6182862), array(0.03004334), array(5.51743153), array(0.892876), array(0.06954076), array(13.2365724), array(4.11808837), array(5.5801786), array(5.79983593), array(944.70457165), array(0.18146457), array(2.38911764), array(645.71724933), array(5.79694936), array(48.98098348), array(13.93814829), array(677.57337687), array(0.50459334), array(0.03941422), array(0.20519082), array(10.28916778), array(0.00961555), array(441.16957583), array(0.12100402), array(5.95217115), array(49.15709438), array(2.7204781), array(132.62745999), array(0.10219907), array(0.04062285), array(4.50634288), array(2000.00648673), array(0.54628994), array(0.70020169), array(0.66391307), array(0.76558693), array(37.79294773), array(0.03182758), array(137.24006488), array(0.11130581), array(6.81732618), array(49.32603406), array(81.98215734), array(4600.14193025), array(2.36053516), array(0.04803908), array(304.97242498), array(0.24734179), array(0.50846602), array(26.00288574), array(0.02696458), array(6.07714426), array(0.23684211), array(64.15499685), array(3.56129911), array(0.00252561), array(76.0290455), array(0.03205332), array(0.28501349), 1]\n",
      "pancreas_074.dcm\n",
      "[0.345004407969722, 0.0, 0.0, 118.82031553319376, array(50.703125), array(62.734375), array(115.99015924), array(115.99015924), array(2348.32611084), 40.99353261530508, array(0.16850342), array(5070.46382562), array(2.15918215), 2428.271484375, array(80.), array(147.), array(50798250.), array(2.23269085), array(23.), array(6.24163144), array(233.), array(21.00441109), array(120.19768856), array(124.), array(-63.), array(296.), array(10.79671231), array(124.29637732), array(-0.70579718), array(37515797.42431641), array(0.29066731), array(1002.10507982), array(70.89482589), array(182.75515113), array(-8.45269382), array(5.35553897), array(0.70135504), array(0.76740118), array(0.54536667), array(1.27045414), array(0.39519628), array(0.75022215), array(0.74267005), array(0.99592321), array(0.96176414), array(-0.2897356), array(0.83565387), array(0.43636175), array(8.35052496), array(0.13826138), array(3.67181436), array(0.82359659), array(0.24542541), array(16.70104991), array(2.9447053), array(1.5142235), array(5.03988359), array(448.34428224), array(0.13635775), array(3.91440192), array(955.71411192), array(1.69555952), array(71.14507299), array(28.32785888), array(2095.47962287), array(0.41196228), array(0.01640485), array(0.09697169), array(6.43468602), array(0.00225714), array(404.48960025), array(0.24126422), array(2.15749156), array(69.00777534), array(6.62877236), array(485.74444128), array(0.0992039), array(0.01798138), array(4.34970645), array(611.91268388), array(0.3583325), array(0.5073753), array(2.47888061), array(0.60765877), array(40.7355726), array(0.01191677), array(43.4040404), array(0.14614155), array(3.94091306), array(63.7037037), array(1900.54545455), array(142625.47138047), array(25.84946413), array(0.02575282), array(58.77777778), array(0.19790498), array(0.44038003), array(27.94717202), array(0.0139724), array(5.86202419), array(0.09032847), array(1777.9848995), array(2.38422352), array(0.00264169), array(34.52199246), array(0.00944373), array(0.31806237), 1]\n",
      "pancreas_075.dcm\n"
     ]
    },
    {
     "name": "stderr",
     "output_type": "stream",
     "text": [
      "GLCM is symmetrical, therefore Sum Average = 2 * Joint Average, only 1 needs to be calculated\n",
      "GLCM is symmetrical, therefore Sum Average = 2 * Joint Average, only 1 needs to be calculated\n"
     ]
    },
    {
     "name": "stdout",
     "output_type": "stream",
     "text": [
      "[0.35959706031540434, 0.0, 0.0, 97.23734688504722, array(48.125), array(79.921875), array(90.30391666), array(90.30391666), array(1520.2545166), 34.96626409273222, array(0.19098017), array(3347.9069802), array(2.20220163), 1585.614013671875, array(-6.), array(145.), array(23803870.), array(3.13687803), array(72.), array(3.78732202), array(235.), array(48.10493254), array(85.5165347), array(104.), array(-168.), array(403.), array(31.88597748), array(105.29500333), array(-1.04583906), array(17579762.39013672), array(0.14817764), array(3773.96002004), array(126.96471878), array(1623.76669593), array(-99.46142727), array(19.80280177), array(2.3205658), array(0.7882908), array(1.08957812), array(1.90911666), array(1.10885498), array(0.60314302), array(0.56731197), array(0.99224228), array(0.94281358), array(-0.22551883), array(0.85572665), array(0.47660977), array(11.07212899), array(0.0411646), array(5.43929084), array(0.86575999), array(0.10253016), array(22.14425798), array(3.93625167), array(5.53084189), array(5.62540998), array(369.36981835), array(0.17203997), array(2.79702942), array(318.13740102), array(6.09158087), array(125.89566837), array(13.90917559), array(1910.64275734), array(0.13091983), array(0.01213522), array(0.23425327), array(26.39268715), array(0.00341268), array(199.63104256), array(0.13130114), array(6.60609182), array(122.00805821), array(2.71353897), array(358.019507), array(0.02916103), array(0.01303565), array(4.40756758), array(868.13115994), array(0.56865206), array(0.70831393), array(0.70232879), array(0.7817914), array(93.09352477), array(0.01070379), array(59.52006981), array(0.10387447), array(7.92520917), array(109.57242583), array(83.52006981), array(12261.54624782), array(0.63689462), array(0.01599682), array(173.18848168), array(0.30224866), array(0.56431275), array(60.4037484), array(0.00866021), array(5.71381511), array(0.26688402), array(69.48046624), array(0.78311216), array(0.00516539), array(92.04017087), array(0.03192132), array(0.75276), 1]\n",
      "pancreas_077.dcm\n",
      "[0.4709193119807222, 0.0, 0.0, 93.20211566583812, array(46.40625), array(88.515625), array(89.52361442), array(89.52361442), array(1862.86875407), 43.89067618450418, array(0.18091006), array(4047.09037667), array(2.1725043), 1929.766845703125, array(6.), array(158.), array(34183893.), array(3.21685895), array(71.), array(3.40614444), array(285.), array(47.47887868), array(96.50401837), array(109.), array(-107.), array(392.), array(31.30293291), array(114.37761999), array(-0.53524519), array(25245672.9309082), array(0.14075505), array(3769.21439258), array(93.33136802), array(1486.0445952), array(-51.86386451), array(20.35156469), array(1.99155978), array(0.82081737), array(1.02595261), array(1.83051586), array(0.92149163), array(0.61192298), array(0.57829007), array(0.99328692), array(0.94567591), array(-0.25844831), array(0.89064611), array(0.48450804), array(9.4202535), array(0.0395209), array(5.47961356), array(0.83990675), array(0.09806167), array(18.84050699), array(4.03135225), array(5.58578112), array(5.74775147), array(443.45618064), array(0.16971151), array(2.80123097), array(367.79295829), array(6.10683343), array(94.07730578), array(14.45197091), array(1444.29161883), array(0.19646121), array(0.01751926), array(0.22127098), array(19.43850358), array(0.00545865), array(226.98428333), array(0.1243142), array(6.67604552), array(91.94678729), array(2.81936756), array(273.77954487), array(0.04351847), array(0.01902843), array(4.53109471), array(1017.7819759), array(0.55549515), array(0.69833525), array(0.75048235), array(0.77255033), array(69.63870583), array(0.01568485), array(67.48809524), array(0.10042871), array(8.37659217), array(85.38244048), array(122.24255952), array(13080.97619048), array(1.29512907), array(0.02511179), array(190.65178571), array(0.28370801), array(0.54440328), array(46.74533042), array(0.01578647), array(5.89570954), array(0.25717566), array(107.12296051), array(1.05281887), array(0.00473697), array(81.20973556), array(0.03014535), array(0.58631535), 1]\n",
      "pancreas_078.dcm\n"
     ]
    },
    {
     "name": "stderr",
     "output_type": "stream",
     "text": [
      "GLCM is symmetrical, therefore Sum Average = 2 * Joint Average, only 1 needs to be calculated\n",
      "GLCM is symmetrical, therefore Sum Average = 2 * Joint Average, only 1 needs to be calculated\n"
     ]
    },
    {
     "name": "stdout",
     "output_type": "stream",
     "text": [
      "[0.3317826188366797, 0.0, 0.0, 125.49653762125591, array(54.140625), array(60.15625), array(121.00109863), array(121.00109863), array(3246.37298584), 41.637569906916184, array(0.15533727), array(6825.59862192), array(2.10253062), 3313.763427734375, array(7.), array(152.), array(57723647.), array(3.02478984), array(63.), array(3.59427023), array(244.), array(44.34488272), array(97.85937152), array(114.), array(-104.), array(348.), array(28.54378819), array(113.42240357), array(-0.94966002), array(42630378.94897461), array(0.16478951), array(3288.18503754), array(94.54824855), array(1300.82367439), array(-80.14510363), array(18.55636732), array(1.56711346), array(0.84390817), array(0.88621584), array(1.70113682), array(0.7684172), array(0.64812635), array(0.62216208), array(0.99322606), array(0.94698916), array(-0.27824374), array(0.89468532), array(0.48089509), array(9.50264374), array(0.05330297), array(5.12945232), array(0.85557985), array(0.13816719), array(19.00528748), array(3.87310556), array(5.0308702), array(5.63168591), array(712.05371072), array(0.1586926), array(3.24240173), array(739.41051928), array(5.33871464), array(94.35859149), array(18.06841988), array(1878.14731446), array(0.23430171), array(0.01636042), array(0.16352785), array(13.80932256), array(0.00354655), array(402.54887534), array(0.13928235), array(5.836241), array(90.43755144), array(3.50152793), array(350.86153397), array(0.04991934), array(0.01783825), array(4.55397299), array(1440.38912441), array(0.49638522), array(0.64369289), array(1.06366846), array(0.73010597), array(63.97315361), array(0.01383179), array(89.28061831), array(0.10616007), array(7.3019295), array(81.14744352), array(412.38882283), array(47023.72770511), array(3.83380952), array(0.02306167), array(175.43995244), array(0.20860874), array(0.44977089), array(35.90352941), array(0.01156295), array(6.20220682), array(0.18743035), array(383.9232356), array(1.9031274), array(0.00288068), array(53.40793343), array(0.02798878), array(0.31657857), 1]\n",
      "pancreas_080.dcm\n"
     ]
    },
    {
     "name": "stderr",
     "output_type": "stream",
     "text": [
      "GLCM is symmetrical, therefore Sum Average = 2 * Joint Average, only 1 needs to be calculated\n"
     ]
    },
    {
     "name": "stdout",
     "output_type": "stream",
     "text": [
      "[0.32437886595001525, 0.0, 0.0, 155.66034942881151, array(39.53125), array(127.1875), array(154.66123909), array(154.66123909), array(2865.10925293), 50.49292762110098, array(0.15752432), array(6192.94628692), array(2.16150441), 2960.748291015625, array(-6.), array(181.), array(70752219.), array(3.26226095), array(78.), array(3.42537216), array(290.), array(56.01377345), array(111.90396608), array(133.), array(-123.), array(413.), array(36.82936337), array(132.84707739), array(-1.07882409), array(52252310.17456055), array(0.13547623), array(5125.84834795), array(109.64902177), array(2756.37354296), array(-171.76200559), array(26.30103868), array(3.30566114), array(0.77557963), array(1.34844903), array(2.10935107), array(1.4400159), array(0.54827113), array(0.4991431), array(0.98904916), array(0.9303322), array(-0.18582973), array(0.81997319), array(0.46038103), array(10.19308359), array(0.03228401), array(5.77276697), array(0.81216789), array(0.07309634), array(20.38616718), array(4.00560403), array(7.40167496), array(5.53876885), array(813.69294088), array(0.20296656), array(2.02484905), array(543.1242205), array(8.25043428), array(108.28036917), array(10.30356697), array(1211.30007483), array(0.16263319), array(0.02058299), array(0.28788839), array(27.28449528), array(0.00791977), array(375.27248934), array(0.12223294), array(8.69627113), array(105.59168814), array(2.18276735), array(245.86682166), array(0.03980481), array(0.02195242), array(4.33684063), array(1949.33660704), array(0.63118292), array(0.76534048), array(0.4519849), array(0.82067197), array(84.99215803), array(0.01879344), array(129.50827934), array(0.0932385), array(10.08865191), array(94.28149748), array(44.04679626), array(5746.63642909), array(0.45078629), array(0.02786779), array(441.79481641), array(0.31806682), array(0.57884017), array(50.72931017), array(0.01813459), array(5.79231729), array(0.34647044), array(35.71636239), array(1.85620464), array(0.00243336), array(110.62438753), array(0.05464986), array(0.31306043), 1]\n",
      "pancreas_081.dcm\n",
      "[0.4685273865339105, 0.0, 0.0, 103.55790232081796, array(50.703125), array(76.484375), array(86.13064233), array(86.13064233), array(1904.65698242), 48.519713329306825, array(0.18057465), array(4115.01903855), array(2.160504), 1968.90869140625, array(-63.), array(110.), array(15055624.), array(3.14369519), array(105.), array(2.03246823), array(210.), array(55.17895772), array(38.97224306), array(58.), array(-102.), array(312.), array(43.49332449), array(75.14832545), array(-0.48196517), array(11118960.59570312), array(0.13120853), array(4128.43508852), array(56.68483533), array(1409.17339912), array(-68.91332791), array(26.1674017), array(0.79930382), array(0.94073255), array(0.59353216), array(1.341637), array(0.43991145), array(0.73329788), array(0.72343186), array(0.99599209), array(0.96126123), array(-0.44777197), array(0.96781018), array(0.45079059), array(7.09525267), array(0.05287828), array(4.85269777), array(0.9503331), array(0.15062939), array(14.19050533), array(4.0409743), array(6.74167638), array(5.92140915), array(367.51912978), array(0.13785414), array(3.89099207), array(349.80195049), array(6.71146031), array(56.96924231), array(26.24906227), array(1565.81845461), array(1.04685999), array(0.04088066), array(0.10795828), array(5.80797852), array(0.00458868), array(165.18155412), array(0.11605019), array(6.54680567), array(55.37741731), array(5.88187056), array(356.04420759), array(0.22619556), array(0.04134517), array(5.00487505), array(559.71604831), array(0.38929557), array(0.53394599), array(2.28591265), array(0.63911001), array(34.85793908), array(0.02621507), array(31.45936396), array(0.11116383), array(6.63614229), array(54.21201413), array(1240.07067138), array(75488.14840989), array(49.82038767), array(0.04301982), array(53.32508834), array(0.18842787), array(0.43915034), array(22.6643328), array(0.02021421), array(6.08889439), array(0.10615154), array(1151.32495099), array(1.12416742), array(0.0076261), array(33.91422651), array(0.03030463), array(0.59121183), 1]\n",
      "pancreas_083.dcm\n"
     ]
    },
    {
     "name": "stderr",
     "output_type": "stream",
     "text": [
      "GLCM is symmetrical, therefore Sum Average = 2 * Joint Average, only 1 needs to be calculated\n",
      "GLCM is symmetrical, therefore Sum Average = 2 * Joint Average, only 1 needs to be calculated\n"
     ]
    },
    {
     "name": "stdout",
     "output_type": "stream",
     "text": [
      "[0.3372029870041988, 0.0, 0.0, 134.15053317194074, array(51.5625), array(94.53125), array(137.89956593), array(137.89956593), array(3244.4035848), 45.235960493784276, array(0.15313093), array(6921.14223792), array(2.13325564), 3336.65771484375, array(54.7), array(153.), array(56346099.), array(2.75450079), array(50.), array(4.50560335), array(239.), array(31.71054869), array(103.57436919), array(106.), array(-93.), array(332.), array(21.06585652), array(111.67573351), array(-0.69818377), array(41613024.77416992), array(0.18136191), array(1743.81950242), array(76.82358583), array(400.39538156), array(-19.87176782), array(9.08066857), array(1.81533447), array(0.66694446), array(0.99626885), array(1.75263772), array(0.78838365), array(0.61426244), array(0.58147289), array(0.99101446), array(0.93683812), array(-0.17084799), array(0.75282106), array(0.49123191), array(8.66066999), array(0.04713541), array(4.97050916), array(0.72984569), array(0.09673364), array(17.32133999), array(3.55753216), array(2.72400076), array(5.33652852), array(790.94156707), array(0.17506453), array(2.60498726), array(819.39309429), array(2.88266324), array(77.90172643), array(14.46613546), array(1155.87959274), array(0.21468518), array(0.01700291), array(0.20509815), array(15.58836862), array(0.00392832), array(533.33622659), array(0.16992041), array(3.19625013), array(77.2141771), array(2.8508791), array(225.40633896), array(0.04517973), array(0.01777875), array(4.08219397), array(1718.92926933), array(0.54227005), array(0.69449978), array(0.73092219), array(0.76062598), array(58.31044111), array(0.01399016), array(151.16296296), array(0.13996571), array(4.31197188), array(75.40185185), array(125.65925926), array(10498.59444444), array(1.6235788), array(0.0200383), array(275.67222222), array(0.25525206), array(0.51167012), array(38.59797223), array(0.01016494), array(5.68783973), array(0.23904382), array(108.15898148), array(3.41904671), array(0.00184288), array(65.48156085), array(0.02350695), array(0.17105191), 1]\n",
      "pancreas_084.dcm\n",
      "[0.3095392278787164, 0.0, 0.0, 136.15799456797265, array(62.734375), array(85.9375), array(130.18609446), array(130.18609446), array(3340.28879801), 42.14624050808471, array(0.15300827), array(7062.50170971), array(2.11433865), 3420.849609375, array(57.), array(151.), array(68199509.), array(2.68509826), array(46.), array(44.57984903), array(250.), array(33.32184887), array(109.57491364), array(121.), array(-648.), array(898.), array(19.65595792), array(121.34065882), array(-4.22328504), array(50367069.0246582), array(0.21011796), array(2716.89378346), array(961.73426964), array(7782.86221993), array(-198.54203346), array(14.09800905), array(1.36332923), array(0.82050106), array(0.71827569), array(1.51454578), array(0.83412677), array(0.70238269), array(0.68710748), array(0.99903103), array(0.98148905), array(-0.29531934), array(0.88074267), array(0.4623828), array(30.96046115), array(0.08140393), array(4.47485678), array(0.87601803), array(0.19625311), array(61.9209223), array(3.50148397), array(3.86533457), array(5.38552865), array(661.90630397), array(0.1428986), array(3.61989565), array(973.2664076), array(4.42743499), array(959.0533247), array(23.40241796), array(22963.42551813), array(0.02433129), array(0.00135496), array(0.12451993), array(112.39667763), array(0.0004387), array(459.43479778), array(0.17394251), array(6.17525131), array(945.06679502), array(4.87095427), array(4751.44895949), array(0.00557131), array(0.00160582), array(4.55367861), array(1111.58377447), array(0.41578034), array(0.56903066), array(1.66808811), array(0.6621963), array(617.46592182), array(0.00125367), array(72.40133779), array(0.12107247), array(16.28850908), array(894.54849498), array(1556.0735786), array(1577470.73411371), array(1.53941994), array(0.00345444), array(121.75919732), array(0.2036107), array(0.45372177), array(386.69477724), array(0.00284939), array(6.25505213), array(0.1291019), array(1496.07586045), array(0.26115661), array(0.00244089), array(329.1528766), array(0.00516338), array(5.50310788), 1]\n",
      "pancreas_086.dcm\n"
     ]
    },
    {
     "name": "stderr",
     "output_type": "stream",
     "text": [
      "GLCM is symmetrical, therefore Sum Average = 2 * Joint Average, only 1 needs to be calculated\n"
     ]
    },
    {
     "name": "stdout",
     "output_type": "stream",
     "text": [
      "[0.33644911569364244, 0.0, 0.0, 162.21387952299872, array(59.296875), array(147.8125), array(150.47162997), array(150.47162997), array(5369.32576497), 54.57671631874797, array(0.13253467), array(11188.39473476), array(2.08376158), 5465.826416015625, array(-3.), array(154.), array(91495885.), array(3.3218566), array(66.), array(4.44990881), array(357.), array(48.86840973), array(88.78084043), array(98.), array(-164.), array(521.), array(29.814583), array(111.18740107), array(-0.36010597), array(67572034.21020508), array(0.13363311), array(4480.60053009), array(129.20044302), array(2893.47841756), array(-49.3337639), array(24.35268102), array(2.96996585), array(0.78197278), array(1.28023552), array(2.05327123), array(1.30299823), array(0.55859437), array(0.5117021), array(0.99401243), array(0.94720692), array(-0.20333926), array(0.85032798), array(0.46586911), array(11.12899523), array(0.02972496), array(5.88933313), array(0.83097382), array(0.0783723), array(22.25799047), array(4.12805811), array(6.83066172), array(5.72170703), array(1451.54911498), array(0.19612878), array(2.1345472), array(989.01864613), array(7.24230863), array(129.83785975), array(11.16700446), array(1491.0560735), array(0.10943252), array(0.0115155), array(0.2651396), array(33.84696609), array(0.00377599), array(682.87576906), array(0.12314384), array(7.78188975), array(128.91707875), array(2.2879317), array(300.19472162), array(0.02469358), array(0.01203404), array(4.45770193), array(3391.9876827), array(0.60976373), array(0.74932442), array(0.49545891), array(0.80855631), array(103.63767962), array(0.01009329), array(224.4609375), array(0.09742228), array(10.02128978), array(126.80946181), array(44.32942708), array(6085.546875), array(0.38346992), array(0.01423981), array(697.35416667), array(0.30267108), array(0.5665902), array(72.06415876), array(0.00896569), array(6.05835145), array(0.31130928), array(34.01094394), array(2.21591381), array(0.00135074), array(185.48647091), array(0.0274144), array(0.3241466), 1]\n",
      "pancreas_087.dcm\n"
     ]
    },
    {
     "name": "stderr",
     "output_type": "stream",
     "text": [
      "GLCM is symmetrical, therefore Sum Average = 2 * Joint Average, only 1 needs to be calculated\n"
     ]
    },
    {
     "name": "stdout",
     "output_type": "stream",
     "text": [
      "[0.3359987945318111, 0.0, 0.0, 178.33687499429325, array(52.421875), array(105.703125), array(155.15705642), array(155.15705642), array(3938.24818929), 59.92097501865281, array(0.14430705), array(8357.28637905), array(2.1220822), 4040.472412109375, array(37.), array(177.), array(99706589.), array(3.24412295), array(67.), array(8.63765798), array(346.), array(46.46353139), array(117.85359167), array(126.), array(-468.), array(814.), array(28.6189095), array(134.99838474), array(-0.75065895), array(73635847.58911133), array(0.14282399), array(4335.09481391), array(594.52824003), array(3898.04958661), array(-45.10360617), array(23.66291771), array(1.46907873), array(0.88301979), array(0.80502558), array(1.60097973), array(0.8092658), array(0.67165079), array(0.65184021), array(0.99867617), array(0.97684067), array(-0.35119792), array(0.94274125), array(0.48573513), array(24.26890231), array(0.04585543), array(5.27581113), array(0.95420733), array(0.12843757), array(48.53780463), array(4.13046313), array(6.28299911), array(5.94982816), array(849.04788887), array(0.15519062), array(3.18464915), array(781.39005666), array(6.9810757), array(594.24821788), array(19.66934747), array(11884.58234326), array(0.03411828), array(0.00197401), array(0.14395496), array(84.31430643), array(0.0004585), array(431.29888515), array(0.12754001), array(7.82647737), array(590.09233447), array(3.83959693), array(2306.86669449), array(0.00701311), array(0.00211986), array(4.86149409), array(1573.76339366), array(0.46326218), array(0.61748309), array(1.18264547), array(0.70422286), array(413.66664664), array(0.00159856), array(82.8056872), array(0.098111), array(12.01677158), array(585.23341232), array(298.86137441), array(183605.57582938), array(0.49726072), array(0.00311274), array(168.18009479), array(0.19926552), array(0.44765776), array(260.90107504), array(0.00209222), array(6.62073319), array(0.15426796), array(256.8421012), array(0.32861985), array(0.00283764), array(226.60207069), array(0.00867487), array(2.31627857), 1]\n",
      "pancreas_088.dcm\n"
     ]
    },
    {
     "name": "stderr",
     "output_type": "stream",
     "text": [
      "GLCM is symmetrical, therefore Sum Average = 2 * Joint Average, only 1 needs to be calculated\n",
      "GLCM is symmetrical, therefore Sum Average = 2 * Joint Average, only 1 needs to be calculated\n"
     ]
    },
    {
     "name": "stdout",
     "output_type": "stream",
     "text": [
      "[0.3279000223421396, 0.0, 0.0, 183.43672667546207, array(53.28125), array(157.265625), array(175.04268453), array(175.04268453), array(4858.38928223), 60.148906775252975, array(0.13478441), array(10292.14774279), array(2.11842797), 4980.615234375, array(10.), array(142.), array(64951514.), array(3.04753132), array(62.), array(3.57144725), array(217.), array(40.25676213), array(83.09756821), array(91.), array(-132.), array(349.), array(26.56470905), array(98.13769619), array(-0.7109416), array(47968342.24853516), array(0.1479494), array(2725.80157179), array(100.60699768), array(819.51599265), array(-41.44417938), array(15.06414194), array(1.84621746), array(0.78142947), array(1.00891525), array(1.77410226), array(0.80497342), array(0.61012949), array(0.57672302), array(0.99201314), array(0.93988435), array(-0.2264516), array(0.85328093), array(0.49421276), array(9.86419898), array(0.03711968), array(5.35500761), array(0.79704542), array(0.0868018), array(19.72839795), array(3.91734671), array(4.22758985), array(5.60511788), array(1205.98991696), array(0.17882413), array(2.52085303), array(997.77075919), array(4.43212287), array(101.37752076), array(14.13374852), array(1486.5688019), array(0.16226055), array(0.01313183), array(0.20444182), array(19.7666658), array(0.00334846), array(648.61882325), array(0.13759764), array(4.83285447), array(100.05519373), array(2.77227657), array(285.63016596), array(0.03413754), array(0.01375779), array(4.35693617), array(2608.54251924), array(0.54896685), array(0.69902877), array(0.69010536), array(0.76644088), array(75.77549343), array(0.01096228), array(181.44264339), array(0.11311885), array(6.3692526), array(95.59164589), array(94.680798), array(10219.98877805), array(0.96459611), array(0.01655482), array(388.1521197), array(0.2419901), array(0.49797979), array(46.83603995), array(0.00938416), array(6.08365665), array(0.23784104), array(77.00307212), array(3.50069322), array(0.0015638), array(72.14686313), array(0.02984708), array(0.16675618), 1]\n",
      "pancreas_089.dcm\n",
      "[0.3521922655886947, 0.0, 0.0, 142.08451157400756, array(41.25), array(85.078125), array(132.60576741), array(132.60576741), array(3003.02886963), 50.04106603631284, array(0.15740171), array(6395.10496919), array(2.12955161), 3082.60498046875, array(-18.), array(140.), array(1.31659451e+08), array(3.49225814), array(84.), array(68.51691647), array(2267.), array(68.08493356), array(76.63703881), array(58.), array(-169.), array(2436.), array(34.82907027), array(177.60279557), array(7.19080972), array(97233847.47924805), array(0.11311117), array(25669.5172769), array(145.79847026), array(1245278.26208822), array(11853.69466747), array(147.45827918), array(20.83214738), array(0.75249495), array(1.71911484), array(2.19088617), array(17.81977998), array(0.56522102), array(0.5233362), array(0.99811804), array(0.98408573), array(-0.25726595), array(0.90715094), array(0.46734717), array(10.6837016), array(0.0238166), array(6.03701584), array(0.88824378), array(0.04858111), array(21.3674032), array(4.37449923), array(42.07260664), array(5.89491765), array(796.37374221), array(0.1907939), array(2.23769753), array(472.12601821), array(41.06292588), array(153.06564447), array(11.67704839), array(1236.16770484), array(0.14239237), array(0.01314518), array(0.25777557), array(77.35786008), array(0.00390737), array(332.58548831), array(0.10753427), array(53.66057869), array(171.20858742), array(2.37615484), array(311.92467938), array(0.03011896), array(0.01347946), array(4.66316561), array(1863.25544923), array(0.59953391), array(0.74095592), array(0.53655792), array(0.8013889), array(150.99997449), array(0.01103349), array(111.8028169), array(0.08748264), array(119.15392791), array(268.00156495), array(47.0657277), array(4807.31768388), array(0.56586894), array(0.01514616), array(374.54303599), array(0.29306967), array(0.556915), array(223.50057242), array(0.00914622), array(6.34136511), array(0.30618112), array(36.39870592), array(0.3377753), array(0.00272016), array(3664.35916784), array(0.0225306), array(42.31773998), 1]\n",
      "pancreas_091.dcm\n"
     ]
    },
    {
     "name": "stderr",
     "output_type": "stream",
     "text": [
      "GLCM is symmetrical, therefore Sum Average = 2 * Joint Average, only 1 needs to be calculated\n"
     ]
    },
    {
     "name": "stdout",
     "output_type": "stream",
     "text": [
      "[0.41344040958545725, 0.0, 0.0, 155.8235367335309, array(62.734375), array(137.5), array(142.60447102), array(142.60447102), array(4310.46498617), 64.42374685016556, array(0.14094651), array(9087.53033616), array(2.10824827), 4408.99658203125, array(-84.), array(24.), array(16563340.), array(2.84219947), array(61.), array(4.08047137), array(178.), array(35.17151688), array(-28.00067002), array(-29.), array(-135.), array(313.), array(24.88797975), array(52.672847), array(0.54582999), array(12232447.14355469), array(0.16225151), array(1990.39128933), array(31.52395208), array(476.97507087), array(18.42851247), array(10.66941531), array(1.50657025), array(0.75198786), array(0.90234634), array(1.66568224), array(0.68057788), array(0.63472592), array(0.60771208), array(0.99251224), array(0.94226309), array(-0.21644174), array(0.83121464), array(0.5027655), array(5.40677284), array(0.04209993), array(5.00268319), array(0.83128374), array(0.0748762), array(10.81354568), array(3.6906348), array(3.04399639), array(5.43587972), array(1067.14974874), array(0.17875205), array(2.44603486), array(968.64154104), array(3.2377179), array(32.41943049), array(15.68978224), array(493.1879397), array(0.76773098), array(0.05316647), array(0.16589406), array(5.60669462), array(0.01124132), array(628.64647713), array(0.15713739), array(3.47687487), array(32.81423889), array(3.00426388), array(96.24842921), array(0.15169135), array(0.05513037), array(4.24083877), array(2034.08844338), array(0.50596618), array(0.6701005), array(0.75630368), array(0.73556794), array(24.44338516), array(0.04179715), array(151.37696335), array(0.13209159), array(4.76831471), array(34.22687609), array(128.97207679), array(4285.01396161), array(5.18150511), array(0.06891282), array(219.57242583), array(0.19159898), array(0.43003633), array(14.95399225), array(0.03630944), array(6.16870685), array(0.1919598), array(101.8339775), array(5.90170274), array(0.00186022), array(57.50548851), array(0.02172132), array(0.18352624), 1]\n",
      "pancreas_092.dcm\n"
     ]
    },
    {
     "name": "stderr",
     "output_type": "stream",
     "text": [
      "GLCM is symmetrical, therefore Sum Average = 2 * Joint Average, only 1 needs to be calculated\n",
      "GLCM is symmetrical, therefore Sum Average = 2 * Joint Average, only 1 needs to be calculated\n"
     ]
    },
    {
     "name": "stdout",
     "output_type": "stream",
     "text": [
      "[0.27575317200883387, 0.0, 0.0, 193.8547933895652, array(54.140625), array(157.265625), array(166.68552343), array(166.68552343), array(4057.76621501), 53.45607418628973, array(0.14277947), array(8616.74098808), array(2.12351834), 4163.80615234375, array(-70.), array(87.), array(26452164.), array(3.24777776), array(93.), array(2.66247711), array(208.), array(53.01155792), array(23.82759844), array(37.), array(-130.), array(338.), array(39.05774505), array(68.49645061), array(-0.04344834), array(19535594.75097656), array(0.12740952), array(4124.00929863), array(63.35220108), array(1636.55529709), array(-7.15892729), array(24.28055052), array(1.25212915), array(0.90166725), array(0.79981208), array(1.5694729), array(0.60050311), array(0.66528618), array(0.64448238), array(0.99454527), array(0.95161999), array(-0.36491744), array(0.94876407), array(0.49441107), array(7.58905888), array(0.04122512), array(5.25837879), array(0.93667519), array(0.12648208), array(15.17811776), array(4.12323153), array(6.38316992), array(5.91036365), array(885.16849947), array(0.15700044), array(3.10979895), array(718.33487052), array(6.67799724), array(62.58531394), array(18.83008159), array(1296.65164952), array(0.50690992), array(0.03102519), array(0.15650245), array(8.93468546), array(0.00593926), array(411.0279558), array(0.11579651), array(6.69265217), array(59.96661073), array(3.67706307), array(245.97925721), array(0.10293605), array(0.03291203), array(4.76551942), array(1699.63076075), array(0.47481907), array(0.62938985), array(1.10406941), array(0.71171326), array(41.48221087), array(0.02435832), array(106.575), array(0.11101563), array(7.02984375), array(53.78125), array(643.96458333), array(52214.16041667), array(9.22474498), array(0.040577), array(215.41458333), array(0.22439019), array(0.4826725), array(27.08801007), array(0.02063181), array(6.23334503), array(0.17027315), array(609.47343316), array(2.76666197), array(0.00291377), array(49.01265741), array(0.03349628), array(0.25882304), 1]\n",
      "pancreas_093.dcm\n",
      "[0.24408252038457412, 0.0, 0.0, 153.29023610962935, array(48.125), array(111.71875), array(139.26118181), array(139.26118181), array(2624.47306315), 37.41546717998479, array(0.16237337), array(5666.7068466), array(2.15917889), 2711.126708984375, array(-42.), array(110.), array(20165735.), array(3.1783405), array(71.5), array(2.97209172), array(191.), array(45.97348311), array(45.66140016), array(57.), array(-127.), array(318.), array(31.01055475), array(74.1164886), array(-0.49904982), array(14892907.31811523), array(0.13603341), array(3408.29041689), array(75.09932252), array(1078.51909807), array(-42.26884572), array(18.40313313), array(1.97950966), array(0.80521725), array(1.03097671), array(1.82791798), array(0.90271195), array(0.60871845), array(0.57452435), array(0.99026439), array(0.93498686), array(-0.25098834), array(0.88512203), array(0.48728874), array(8.4256716), array(0.0371733), array(5.45057735), array(0.82285571), array(0.09425217), array(16.85134319), array(4.00019324), array(5.0956607), array(5.64225012), array(645.38681558), array(0.17580681), array(2.60476315), array(499.37864342), array(5.5218689), array(75.20866249), array(14.03840915), array(1163.3824571), array(0.25634991), array(0.02232946), array(0.21560602), array(14.53654747), array(0.00620064), array(317.35952325), array(0.1230966), array(5.83232449), array(72.63150271), array(2.75235737), array(217.82710321), array(0.05546515), array(0.02380035), array(4.44618319), array(1439.45393177), array(0.55670841), array(0.70232907), array(0.7129087), array(0.77363904), array(54.63977513), array(0.01932528), array(100.18438178), array(0.10865985), array(6.83572917), array(64.80694143), array(167.88611714), array(15603.5845987), array(2.04071732), array(0.02990441), array(248.13449024), array(0.26912635), array(0.52692901), array(33.98253083), array(0.01716478), array(5.81922635), array(0.25115772), array(152.03328259), array(2.34470204), array(0.0032679), array(54.68452617), array(0.04201677), array(0.24774187), 1]\n",
      "pancreas_094.dcm\n"
     ]
    },
    {
     "name": "stderr",
     "output_type": "stream",
     "text": [
      "GLCM is symmetrical, therefore Sum Average = 2 * Joint Average, only 1 needs to be calculated\n"
     ]
    },
    {
     "name": "stdout",
     "output_type": "stream",
     "text": [
      "[0.4344148637001386, 0.0, 0.0, 205.36546193246932, array(69.609375), array(149.53125), array(192.13903098), array(192.13903098), array(5997.56469727), 89.21380915410967, array(0.12626686), array(12642.84186249), array(2.10799591), 6132.71484375, array(-4.), array(134.), array(71798343.), array(3.06651824), array(69.), array(3.13282636), array(226.), array(42.58241362), array(75.9642341), array(87.), array(-108.), array(334.), array(29.10437288), array(92.98513812), array(-0.66875795), array(53024899.31030273), array(0.14543117), array(2875.67104739), array(77.74005125), array(871.68468677), array(-49.95046461), array(16.35410759), array(1.74145486), array(0.80743445), array(0.97249943), array(1.74341288), array(0.77569191), array(0.61916162), array(0.58815759), array(0.99246268), array(0.94192014), array(-0.24553023), array(0.87297601), array(0.49712016), array(8.60736452), array(0.03821062), array(5.33021308), array(0.83404217), array(0.09560412), array(17.21472904), array(3.92646493), array(4.52389061), array(5.63919591), array(1457.8155106), array(0.17555582), array(2.53588487), array(1207.66040462), array(4.68975637), array(77.89896435), array(14.79431599), array(1193.18653661), array(0.25756256), array(0.01976823), array(0.1927212), array(14.43001974), array(0.0045155), array(772.05427426), array(0.13521728), array(4.97033965), array(76.92258996), array(2.92971817), array(233.70797288), array(0.053887), array(0.02067187), array(4.40905705), array(3085.31068816), array(0.53652242), array(0.68734947), array(0.77499593), array(0.7581097), array(57.857942), array(0.01620728), array(216.6596206), array(0.11743069), array(5.92752521), array(73.92520325), array(377.96097561), array(35915.68401084), array(4.37919923), array(0.0239813), array(440.74417344), array(0.23888573), array(0.49178145), array(36.06496305), array(0.01260582), array(6.02911859), array(0.22218208), array(357.70365788), array(4.57104121), array(0.00136154), array(65.06472409), array(0.03020229), array(0.12643771), 1]\n",
      "pancreas_095.dcm\n"
     ]
    },
    {
     "name": "stderr",
     "output_type": "stream",
     "text": [
      "GLCM is symmetrical, therefore Sum Average = 2 * Joint Average, only 1 needs to be calculated\n"
     ]
    },
    {
     "name": "stdout",
     "output_type": "stream",
     "text": [
      "[0.31278482025626364, 0.0, 0.0, 171.2699043875815, array(47.265625), array(147.8125), array(164.18336322), array(164.18336322), array(4908.05511475), 53.570626259177146, array(0.13580916), array(10283.98300532), array(2.09532753), 5006.463623046875, array(30.), array(164.), array(97025921.), array(3.0847167), array(57.), array(3.96803615), array(271.), array(40.93786589), array(106.15651276), array(114.), array(-98.), array(369.), array(25.17114464), array(119.63577574), array(-0.65994756), array(71656106.20727539), array(0.1555546), array(3043.51363622), array(81.36646175), array(1173.31799215), array(-45.51890542), array(16.84419086), array(2.04036103), array(0.78354598), array(1.04405964), array(1.8321642), array(0.92828523), array(0.60546172), array(0.57128075), array(0.99124519), array(0.93818032), array(-0.23130245), array(0.86219705), array(0.49252097), array(8.81279308), array(0.0420391), array(5.3959467), array(0.80561355), array(0.09979243), array(17.62558617), array(3.91633177), array(4.72113797), array(5.58261343), array(1200.17775483), array(0.17704348), array(2.52482906), array(1054.5046467), array(4.95922369), array(81.74583272), array(14.03112553), array(1213.55258888), array(0.25207796), array(0.0216009), array(0.21115447), array(16.10787448), array(0.00561016), array(665.12470681), array(0.13988596), array(5.37332963), array(80.09973386), array(2.75761034), array(231.9336851), array(0.05374748), array(0.02286552), array(4.39084042), array(2639.06665493), array(0.55199221), array(0.70098835), array(0.69532767), array(0.76935136), array(60.60461638), array(0.01823095), array(185.46497585), array(0.11199576), array(6.89029353), array(74.35628019), array(146.66123188), array(13808.67934783), array(1.79854786), array(0.02898316), array(440.95289855), array(0.2662759), array(0.52327336), array(38.70592625), array(0.01559502), array(5.95065861), array(0.24428382), array(129.90367883), array(3.97180413), array(0.00155442), array(65.5853456), array(0.03332941), array(0.15181227), 1]\n",
      "pancreas_096.dcm\n"
     ]
    },
    {
     "name": "stderr",
     "output_type": "stream",
     "text": [
      "GLCM is symmetrical, therefore Sum Average = 2 * Joint Average, only 1 needs to be calculated\n",
      "GLCM is symmetrical, therefore Sum Average = 2 * Joint Average, only 1 needs to be calculated\n"
     ]
    },
    {
     "name": "stdout",
     "output_type": "stream",
     "text": [
      "[0.36941852126653246, 0.0, 0.0, 144.24954825215906, array(60.15625), array(142.65625), array(152.64977276), array(152.64977276), array(3296.9619751), 53.28845480867792, array(0.15105778), array(7091.69927937), array(2.15098), 3406.0791015625, array(-67.), array(107.), array(24693141.), array(3.34097975), array(87.), array(2.62844611), array(205.), array(52.85148871), array(32.94991327), array(46.), array(-159.), array(364.), array(37.39010371), array(73.17176296), array(-0.43547436), array(18236511.6027832), array(0.11789534), array(4268.41011057), array(84.74557611), array(1612.79586386), array(-59.49066341), array(24.19461072), array(2.35496222), array(0.82224727), array(1.15128368), array(1.91551815), array(1.00908308), array(0.57860937), array(0.53775569), array(0.99108651), array(0.93598317), array(-0.24783649), array(0.89356863), array(0.48739271), array(8.90422339), array(0.02720923), array(5.80962994), array(0.83415904), array(0.08033776), array(17.80844678), array(4.2048856), array(6.63739323), array(5.76632702), array(893.53729402), array(0.19374182), array(2.21341269), array(543.73330442), array(6.88408928), array(84.952732), array(11.74934952), array(1061.74111015), array(0.20798003), array(0.0206683), array(0.24989268), array(20.42426985), array(0.00588384), array(377.18405827), array(0.11066153), array(7.11619845), array(83.55130543), array(2.36657002), array(207.02972178), array(0.04559652), array(0.02148597), array(4.4763242), array(2028.43544201), array(0.59324179), array(0.7389961), array(0.52508972), array(0.79746416), array(65.86703467), array(0.01760619), array(138.65572575), array(0.10113474), array(7.84018225), array(80.71772429), array(62.21444201), array(6137.38147338), array(0.82151623), array(0.02409817), array(387.39970824), array(0.28256726), array(0.54410711), array(44.23039538), array(0.0135439), array(5.9130432), array(0.297268), array(50.89816194), array(2.39429725), array(0.00259998), array(82.3270854), array(0.04500413), array(0.24982851), 1]\n",
      "pancreas_098.dcm\n",
      "[0.2802921166170236, 0.0, 0.0, 91.47089350464003, array(26.640625), array(92.8125), array(98.92895671), array(98.92895671), array(1367.74902344), 25.638570349265905, array(0.19731083), array(3019.98048377), array(2.20799316), 1427.569580078125, array(-68.8), array(114.), array(11087277.), array(3.48570486), array(99.), array(2.77163392), array(307.), array(56.6702308), array(29.94257631), array(37.), array(-162.), array(469.), array(41.20491239), array(75.7349812), array(-0.17660471), array(8188235.57739258), array(0.10165345), array(4839.22950128), array(82.33244242), array(1705.93408659), array(-39.1459784), array(24.79229156), array(4.47252858), array(0.69302157), array(1.61375249), array(2.30264248), array(1.82202065), array(0.50284483), array(0.44104885), array(0.98923139), array(0.92883473), array(-0.15539014), array(0.79789396), array(0.42404245), array(8.78931383), array(0.01638184), array(6.33578427), array(0.70688092), array(0.03475457), array(17.57862765), array(4.29956748), array(7.31620504), array(5.64067406), array(463.01758924), array(0.23953316), array(1.54814319), array(196.49612002), array(7.85692665), array(83.69011899), array(7.89291257), array(675.5380238), array(0.15630664), array(0.02350268), array(0.34386439), array(28.74093715), array(0.0089944), array(155.39914013), array(0.09921271), array(8.1714122), array(83.37662914), array(1.82916573), array(154.33815198), array(0.04057692), array(0.0242488), array(4.35328939), array(1073.79180216), array(0.68384246), array(0.81013968), array(0.29885755), array(0.85268242), array(70.92051954), array(0.02113928), array(76.11325301), array(0.09170271), array(9.32178255), array(83.0746988), array(11.17710843), array(972.38674699), array(0.20595313), array(0.02659242), array(276.46506024), array(0.33309043), array(0.59116301), array(49.73898588), array(0.01608229), array(5.69486651), array(0.42938438), array(5.75326027), array(0.84775508), array(0.00556482), array(181.46399331), array(0.04210553), array(0.90066282), 1]\n",
      "pancreas_099.dcm\n"
     ]
    },
    {
     "name": "stderr",
     "output_type": "stream",
     "text": [
      "GLCM is symmetrical, therefore Sum Average = 2 * Joint Average, only 1 needs to be calculated\n"
     ]
    },
    {
     "name": "stdout",
     "output_type": "stream",
     "text": [
      "[0.3451108346594459, 0.0, 0.0, 188.72839338704242, array(51.5625), array(155.546875), array(168.36952551), array(168.36952551), array(4865.40527344), 65.13221336573847, array(0.13561009), array(10239.32808418), array(2.10451699), 4973.22998046875, array(33.), array(110.), array(49630928.), array(2.33634183), array(30.), array(6.15291369), array(166.), array(24.73310999), array(78.04514405), array(85.), array(-102.), array(268.), array(13.58167346), array(85.84987), array(-1.46601042), array(36653700.48828125), array(0.27734275), array(1279.15566917), array(76.73793053), array(349.15481693), array(-30.18679299), array(7.39780209), array(0.82493662), array(0.7989652), array(0.6032127), array(1.36236884), array(0.45271962), array(0.73110606), array(0.72018833), array(0.99440529), array(0.95477652), array(-0.27477336), array(0.84126042), array(0.44661919), array(8.66571702), array(0.12085441), array(3.9874789), array(0.85106097), array(0.28555378), array(17.33143403), array(3.14281308), array(2.05568468), array(5.15026891), array(882.32373032), array(0.1310252), array(4.21523718), array(1867.62607663), array(2.14087305), array(76.85268785), array(27.15384615), array(2168.20849421), array(0.38076591), array(0.01593776), array(0.11463115), array(8.4201741), array(0.0022346), array(763.97543849), array(0.21541102), array(2.67101338), array(74.81814499), array(6.3823897), array(505.98290249), array(0.09158442), array(0.01728376), array(4.36942956), array(1425.10525212), array(0.3959938), array(0.52632165), array(2.63185815), array(0.64665435), array(47.39870334), array(0.01186178), array(136.17801047), array(0.17824347), array(3.78672974), array(71.59031414), array(5329.97643979), array(432725.80628272), array(66.10098749), array(0.02056935), array(175.84554974), array(0.23016433), array(0.48670605), array(35.75580449), array(0.01048626), array(5.63966668), array(0.11345411), array(5252.28744415), array(4.50222576), array(0.00150579), array(32.25348273), array(0.01457273), array(0.1479731), 1]\n",
      "pancreas_100.dcm\n"
     ]
    },
    {
     "name": "stderr",
     "output_type": "stream",
     "text": [
      "GLCM is symmetrical, therefore Sum Average = 2 * Joint Average, only 1 needs to be calculated\n"
     ]
    },
    {
     "name": "stdout",
     "output_type": "stream",
     "text": [
      "[0.3509462592838267, 0.0, 0.0, 143.8301772773058, array(75.625), array(81.640625), array(137.55638492), array(137.55638492), array(3933.69394938), 50.476662687600125, array(0.14549804), array(8282.48551726), array(2.10552362), 4022.00927734375, array(-33.), array(133.), array(42402098.), array(3.35035106), array(80.), array(3.23201876), array(241.), array(50.48292932), array(60.34777819), array(70.), array(-168.), array(409.), array(34.30511087), array(88.23783713), array(-0.60067143), array(31315025.98876953), array(0.11829117), array(4144.06156961), array(104.54437419), array(1516.06034235), array(-68.47649105), array(20.93468783), array(4.14952835), array(0.66778141), array(1.56616699), array(2.2499687), array(1.64331914), array(0.50740605), array(0.44673177), array(0.98626741), array(0.91991591), array(-0.13653958), array(0.75269844), array(0.4305733), array(10.01737515), array(0.0206353), array(6.16105421), array(0.70328706), array(0.04617839), array(20.0347503), array(4.14267208), array(6.27105405), array(5.5523598), array(1255.86852736), array(0.23060384), array(1.55348887), array(644.21373485), array(6.72096162), array(105.30113845), array(8.27763496), array(908.46603011), array(0.10499563), array(0.01529904), array(0.32846845), array(33.27859954), array(0.00629866), array(496.67836942), array(0.11386665), array(7.04737577), array(104.34613424), array(1.89829664), array(202.9848519), array(0.02723666), array(0.01593875), array(4.27160928), array(2945.16857612), array(0.67292728), array(0.80086302), array(0.32801352), array(0.84653651), array(87.7260225), array(0.01395241), array(215.47479377), array(0.09875105), array(8.39018791), array(101.48350137), array(14.82859762), array(1667.05224565), array(0.17772159), array(0.01851415), array(718.84784601), array(0.32944448), array(0.59194362), array(58.93266553), array(0.0125397), array(5.74703085), array(0.40066104), array(8.59920389), array(3.04165294), array(0.00164051), array(129.76420793), array(0.05320994), array(0.18313102), 1]\n",
      "pancreas_101.dcm\n"
     ]
    },
    {
     "name": "stderr",
     "output_type": "stream",
     "text": [
      "GLCM is symmetrical, therefore Sum Average = 2 * Joint Average, only 1 needs to be calculated\n"
     ]
    },
    {
     "name": "stdout",
     "output_type": "stream",
     "text": [
      "[0.2898242679750064, 0.0, 0.0, 170.529500357541, array(59.296875), array(137.5), array(159.44822537), array(159.44822537), array(4624.76908366), 49.42358760926791, array(0.1382478), array(9710.00109211), array(2.09956452), 4722.13134765625, array(-31.), array(98.), array(31742580.), array(2.97469856), array(53.), array(3.82311549), array(215.), array(39.14912812), array(47.05223647), array(57.), array(-124.), array(339.), array(24.19306928), array(70.4587275), array(-0.58625817), array(23442701.29394531), array(0.16920153), array(2750.51932327), array(59.42404419), array(971.8433292), array(-36.98746029), array(15.36074255), array(1.33345013), array(0.83979003), array(0.84373878), array(1.59768139), array(0.61229161), array(0.64921495), array(0.62625184), array(0.99334996), array(0.9457238), array(-0.28704523), array(0.89871027), array(0.50877897), array(7.47774665), array(0.05304777), array(5.01520703), array(0.87295522), array(0.13724663), array(14.9554933), array(3.80880492), array(4.17354817), array(5.55068906), array(1070.5182984), array(0.16742545), array(2.70420629), array(1081.87456991), array(4.45918195), array(59.30810135), array(17.01470128), array(1070.15107914), array(0.48180693), array(0.03509645), array(0.16523651), array(9.30953469), array(0.00761174), array(619.40751994), array(0.14854539), array(4.90337552), array(57.85761617), array(3.3115954), array(202.78811089), array(0.10198991), array(0.03801022), array(4.47437874), array(2080.73129517), array(0.49634417), array(0.65213481), array(0.93472687), array(0.72909305), array(41.30415423), array(0.02934137), array(128.07581227), array(0.11559189), array(6.5397006), array(53.37815884), array(1314.76714801), array(84742.21841155), array(21.5321219), array(0.05116962), array(270.84476534), array(0.24444473), array(0.50351667), array(28.25217648), array(0.02673923), array(6.02061102), array(0.17328746), array(1281.4654987), array(4.281966), array(0.00180472), array(47.32257337), array(0.02871187), array(0.15484096), 1]\n",
      "pancreas_102.dcm\n"
     ]
    },
    {
     "name": "stderr",
     "output_type": "stream",
     "text": [
      "GLCM is symmetrical, therefore Sum Average = 2 * Joint Average, only 1 needs to be calculated\n",
      "GLCM is symmetrical, therefore Sum Average = 2 * Joint Average, only 1 needs to be calculated\n"
     ]
    },
    {
     "name": "stdout",
     "output_type": "stream",
     "text": [
      "[0.3045925554669392, 0.0, 0.0, 174.50927088587224, array(38.671875), array(122.03125), array(147.30198904), array(147.30198904), array(3465.53039551), 53.15422477180016, array(0.15050786), array(7358.19731949), array(2.12325286), 3554.522705078125, array(-55.), array(145.8), array(43849807.), array(3.55156788), array(104.), array(2.55970809), array(266.), array(60.94132524), array(59.30666944), array(71.), array(-163.), array(429.), array(43.86544457), array(95.4499955), array(-0.42928249), array(32384195.84350586), array(0.09817924), array(5593.42060169), array(106.49405769), array(2455.39471997), array(-85.7245212), array(30.36655693), array(3.93696488), array(0.7699762), array(1.51008304), array(2.22915427), array(1.62008359), array(0.51852625), array(0.46061554), array(0.98832671), array(0.92639843), array(-0.18690021), array(0.84710933), array(0.43539683), array(9.99426281), array(0.01667049), array(6.3834032), array(0.78732487), array(0.03975718), array(19.98852562), array(4.40602845), array(8.57588045), array(5.80177293), array(1100.08290048), array(0.22856491), array(1.65512537), array(472.53667151), array(8.98833519), array(106.80220237), array(8.82879701), array(971.04903387), array(0.13406224), array(0.01678865), array(0.3068939), array(31.8227699), array(0.00584298), array(362.88506235), array(0.09541454), array(9.1726565), array(106.0864761), array(1.96308222), array(212.3099557), array(0.03164148), array(0.01718437), array(4.49959603), array(2507.76310793), array(0.65811489), array(0.79020362), array(0.35580779), array(0.83828197), array(88.53563659), array(0.01465172), array(159.42394289), array(0.08754747), array(9.96832488), array(103.35969248), array(17.0483251), array(1921.98297639), array(0.24104928), array(0.01894871), array(560.96155958), array(0.30805138), array(0.56823681), array(58.0558983), array(0.0115489), array(5.9507635), array(0.3783503), array(10.06259452), array(2.14687228), array(0.00235595), array(129.76143666), array(0.05761574), array(0.27499512), 1]\n",
      "pancreas_103.dcm\n",
      "[0.7947169308879636, 0.0, 0.0, 67.42069886814132, array(60.15625), array(52.421875), array(63.77929015), array(63.77929015), array(1146.92993164), 53.580370882810875, array(0.20752031), array(2553.37595853), array(2.22627023), 1204.534912109375, array(3.), array(174.), array(23053039.), array(3.49544194), array(101.), array(2.83121449), array(307.), array(57.38237874), array(95.53341508), array(101.), array(-80.), array(387.), array(40.90607553), array(118.88775111), array(0.03713084), array(17025254.63256836), array(0.10336705), array(5007.6639662), array(76.7454855), array(2403.0934959), array(-0.340546), array(29.18505621), array(2.36563982), array(0.85005824), array(1.11792979), array(1.91186805), array(1.08709482), array(0.59337841), array(0.5560949), array(0.99207381), array(0.94130131), array(-0.2883374), array(0.92540525), array(0.48383737), array(8.36902711), array(0.02339608), array(5.9566847), array(0.85668788), array(0.06173247), array(16.73805423), array(4.39401768), array(7.88767401), array(5.98940503), array(299.47578173), array(0.18361483), array(2.58150165), array(168.59166156), array(8.04313273), array(77.67504598), array(12.80502759), array(1058.16676885), array(0.30227744), array(0.02634014), array(0.2427986), array(17.99029247), array(0.00826502), array(119.18597626), array(0.10072921), array(8.09706943), array(76.36919977), array(2.52358013), array(202.30965551), array(0.06270935), array(0.02735809), array(4.62889502), array(695.13845579), array(0.58428193), array(0.72532189), array(0.60092117), array(0.79153012), array(59.87300223), array(0.0222607), array(45.10833333), array(0.09397569), array(8.9100651), array(73.21041667), array(47.48541667), array(4306.1375), array(0.83122897), array(0.03337453), array(131.12083333), array(0.2731684), array(0.53206391), array(38.61929097), array(0.02113273), array(5.91282241), array(0.29429798), array(35.93957899), array(0.65399179), array(0.01026657), array(73.66845574), array(0.03754383), array(1.06632937), 1]\n",
      "pancreas_104.dcm\n"
     ]
    },
    {
     "name": "stderr",
     "output_type": "stream",
     "text": [
      "GLCM is symmetrical, therefore Sum Average = 2 * Joint Average, only 1 needs to be calculated\n"
     ]
    },
    {
     "name": "stdout",
     "output_type": "stream",
     "text": [
      "[0.3294197693271948, 0.0, 0.0, 90.83669039963918, array(38.671875), array(53.28125), array(91.55066716), array(91.55066716), array(1793.32427979), 29.92340159789495, array(0.1870858), array(3815.47996563), array(2.1276018), 1841.143798828125, array(-89.8), array(74.), array(9300486.), array(3.19062191), array(96.), array(2.17333686), array(127.), array(51.63757036), array(3.69273967), array(17.), array(-163.), array(290.), array(39.55573281), array(61.07896686), array(-0.4554403), array(6868645.05615234), array(0.12213082), array(3717.00386626), array(65.05283032), array(1033.24731962), array(-57.6359489), array(21.1230356), array(2.16337301), array(0.8140625), array(1.10160398), array(1.87346031), array(0.93112375), array(0.58982725), array(0.55086035), array(0.98771599), array(0.92607418), array(-0.23788154), array(0.87761555), array(0.484188), array(7.76609525), array(0.0279283), array(5.5822018), array(0.8447719), array(0.06849673), array(15.5321905), array(4.03858663), array(5.82160215), array(5.65372989), array(465.00641797), array(0.18652484), array(2.29513685), array(304.47212194), array(6.01342966), array(64.56999599), array(12.67268351), array(848.61331729), array(0.3470683), array(0.02927363), array(0.23009712), array(14.17192139), array(0.00826963), array(212.36836254), array(0.11794155), array(6.02713235), array(63.77658969), array(2.50246377), array(164.30929087), array(0.07108656), array(0.03011657), array(4.36892427), array(1035.23242279), array(0.57251362), array(0.7223225), array(0.5698182), array(0.7837652), array(49.42346033), array(0.02429368), array(72.47181009), array(0.10752494), array(6.50313026), array(60.65875371), array(73.03709199), array(5491.89465875), array(1.81010998), array(0.03548887), array(183.12462908), array(0.27169826), array(0.53208214), array(31.92058037), array(0.02188322), array(5.77073916), array(0.270357), array(59.35587396), array(1.97272783), array(0.00480448), array(50.47956567), array(0.05698875), array(0.28836699), 1]\n",
      "pancreas_105.dcm\n"
     ]
    },
    {
     "name": "stderr",
     "output_type": "stream",
     "text": [
      "GLCM is symmetrical, therefore Sum Average = 2 * Joint Average, only 1 needs to be calculated\n"
     ]
    },
    {
     "name": "stdout",
     "output_type": "stream",
     "text": [
      "[0.28942422968541126, 0.0, 0.0, 206.12081771144705, array(42.96875), array(110.859375), array(176.05445782), array(176.05445782), array(3971.05102539), 59.65635888826264, array(0.1439079), array(8426.93782277), array(2.12209256), 4071.490478515625, array(-20.), array(87.), array(21704357.), array(2.7682457), array(54.), array(4.28390393), array(174.), array(35.01321748), array(42.97750771), array(54.), array(-141.), array(315.), array(22.77295378), array(62.74504944), array(-0.93136563), array(16029218.73168945), array(0.19289719), array(2089.87506094), array(71.57977324), array(687.7665277), array(-44.00619841), array(12.13135616), array(0.83246355), array(0.87129667), array(0.62120235), array(1.35952934), array(0.43854125), array(0.72145996), array(0.71031779), array(0.99516314), array(0.95661037), array(-0.35352327), array(0.91984219), array(0.46463721), array(8.29184952), array(0.07826466), array(4.46816977), array(0.89936063), array(0.20226281), array(16.58369905), array(3.61333029), array(3.24095493), array(5.54710336), array(776.72174859), array(0.14088913), array(3.78234583), array(1063.44222746), array(3.43479569), array(71.3350263), array(25.11826592), array(1902.34971885), array(0.49373395), array(0.02124068), array(0.10831772), array(7.01303578), array(0.00266696), array(486.91985666), array(0.16113063), array(3.79017226), array(68.59928437), array(5.36848993), array(401.47382512), array(0.10645083), array(0.02228554), array(4.653049), array(1223.43541136), array(0.40115004), array(0.54761473), array(1.95797185), array(0.65082419), array(43.14770895), array(0.015029), array(77.71786311), array(0.12974602), array(5.13588312), array(62.10183639), array(2995.56761269), array(242452.24373957), array(38.5854196), array(0.02725723), array(101.49415693), array(0.16943933), array(0.40376085), array(24.52325593), array(0.01125069), array(6.26724858), array(0.10865228), array(2910.8600199), array(2.92774635), array(0.0024378), array(32.33129371), array(0.01914018), array(0.20586228), 1]\n",
      "pancreas_106.dcm\n"
     ]
    },
    {
     "name": "stderr",
     "output_type": "stream",
     "text": [
      "GLCM is symmetrical, therefore Sum Average = 2 * Joint Average, only 1 needs to be calculated\n",
      "GLCM is symmetrical, therefore Sum Average = 2 * Joint Average, only 1 needs to be calculated\n"
     ]
    },
    {
     "name": "stdout",
     "output_type": "stream",
     "text": [
      "[0.24840078237304175, 0.0, 0.0, 202.79120233349605, array(45.546875), array(134.0625), array(173.28929831), array(173.28929831), array(4643.23221842), 50.373493318010226, array(0.13886074), array(9692.85233489), array(2.08752263), 4726.5625, array(5.), array(84.), array(24357568.), array(2.28560515), array(31.), array(6.65697703), array(129.), array(24.84231748), array(50.5646875), array(58.), array(-140.), array(269.), array(14.11905367), array(61.69173364), array(-1.68493089), array(17988682.421875), array(0.27562539), array(1249.08237803), array(75.50898593), array(305.91834249), array(-29.56507832), array(6.35366896), array(1.0229863), array(0.72155105), array(0.70352517), array(1.45775511), array(0.51408101), array(0.6950592), array(0.67967873), array(0.99308222), array(0.94757693), array(-0.19996642), array(0.75183272), array(0.48111043), array(8.61255623), array(0.11009275), array(4.00287466), array(0.79403114), array(0.25295687), array(17.22511245), array(3.0185037), array(1.84416381), array(4.94434568), array(908.8915625), array(0.14201431), array(3.67467773), array(1764.0025), array(2.06025857), array(75.11734375), array(22.57), array(1777.03234375), array(0.31838848), array(0.01685948), array(0.13438585), array(9.20715095), array(0.00309977), array(814.5881151), array(0.2184273), array(2.61568364), array(72.95259537), array(4.80201019), array(372.53792281), array(0.0717445), array(0.01852174), array(4.115177), array(1658.65066535), array(0.43817441), array(0.58164063), array(1.71292446), array(0.68122005), array(48.41948097), array(0.0135806), array(146.44097996), array(0.16307459), array(4.41182335), array(65.41870824), array(7198.1403118), array(582987.4532294), array(89.03736373), array(0.02551546), array(199.73496659), array(0.22242201), array(0.4751051), array(30.70755262), array(0.01325419), array(5.69184772), array(0.1403125), array(7147.34691296), array(4.74821801), array(0.00141347), array(36.75561758), array(0.01601068), array(0.13283713), 1]\n",
      "pancreas_107.dcm\n",
      "[0.4997072631493824, 0.0, 0.0, 120.55305896438395, array(47.265625), array(95.390625), array(118.26323963), array(118.26323963), array(2689.77101644), 60.24123915937843, array(0.16262096), array(5751.54444303), array(2.13830263), 2767.254638671875, array(-9.4), array(139.), array(38586798.), array(3.06992746), array(58.), array(4.06162951), array(248.), array(44.6975467), array(81.98505471), array(97.), array(-126.), array(374.), array(27.1171233), array(101.47931435), array(-1.07288859), array(28497330.06591797), array(0.16180225), array(3576.50204512), array(102.3405105), array(1528.94348309), array(-92.48096291), array(18.51206856), array(2.11797994), array(0.79306338), array(1.04886597), array(1.8662427), array(1.00228846), array(0.60933347), array(0.57508014), array(0.99199692), array(0.94157295), array(-0.22287715), array(0.85293502), array(0.48144649), array(9.91161132), array(0.04692198), array(5.32661566), array(0.81957552), array(0.12653002), array(19.82322265), array(3.86116005), array(5.15751213), array(5.56839482), array(637.32933013), array(0.17009056), array(2.77660463), array(606.27301841), array(5.78581054), array(101.89591673), array(14.5356285), array(1595.58206565), array(0.18168251), array(0.01624943), array(0.21749864), array(19.89345415), array(0.00483112), array(362.38085402), array(0.13888803), array(6.47894082), array(99.04826592), array(2.84063353), array(300.99762799), array(0.04072447), array(0.01764317), array(4.41473996), array(1449.29806808), array(0.55331277), array(0.69635709), array(0.76160084), array(0.77100001), array(74.60315165), array(0.01450333), array(95.99893276), array(0.1024535), array(8.60076153), array(89.42796158), array(227.59765208), array(27060.44823906), array(2.04741287), array(0.02291262), array(264.85485592), array(0.2826626), array(0.54375342), array(46.96717188), array(0.01400684), array(5.91450678), array(0.25006672), array(211.60618883), array(1.66882778), array(0.00288936), array(75.33364571), array(0.03304984), array(0.35800814), 1]\n",
      "pancreas_109.dcm\n"
     ]
    },
    {
     "name": "stderr",
     "output_type": "stream",
     "text": [
      "GLCM is symmetrical, therefore Sum Average = 2 * Joint Average, only 1 needs to be calculated\n"
     ]
    },
    {
     "name": "stdout",
     "output_type": "stream",
     "text": [
      "[0.32954935375128425, 0.0, 0.0, 168.57137269239513, array(43.828125), array(143.515625), array(154.84974131), array(154.84974131), array(4365.54667155), 55.5525869317457, array(0.1410037), array(9161.06655523), array(2.09849241), 4455.523681640625, array(-24.), array(153.), array(58661414.), array(3.47096502), array(83.), array(3.19086441), array(314.), array(52.82280569), array(71.38571192), array(77.), array(-187.), array(501.), array(35.58057726), array(98.60742114), array(-0.27517755), array(43322943.68896484), array(0.10889907), array(4627.50363805), array(134.94342629), array(1926.0490881), array(-39.09389114), array(23.97324999), array(4.50825757), array(0.68297049), array(1.6482135), array(2.31245356), array(1.76205727), array(0.49366548), array(0.4289886), array(0.99009153), array(0.93032281), array(-0.14166475), array(0.7811853), array(0.41802372), array(11.40512789), array(0.01751487), array(6.38449763), array(0.70754016), array(0.04370411), array(22.81025577), array(4.28331572), array(7.12037689), array(5.62840931), array(1447.68821482), array(0.23996158), array(1.51239018), array(656.98806564), array(7.47146691), array(136.91347588), array(7.76280457), array(1076.1669153), array(0.07107899), array(0.01016475), array(0.34915926), array(47.39768299), array(0.0040434), array(513.8391747), array(0.10482468), array(7.8317886), array(136.57787274), array(1.82695068), array(251.04967575), array(0.01791345), array(0.01039793), array(4.34797734), array(3391.20668748), array(0.6906465), array(0.81248964), array(0.30724509), array(0.85711562), array(116.81251643), array(0.00907471), array(240.74980575), array(0.09353139), array(9.2701018), array(135.67094017), array(13.13325563), array(1861.61965812), array(0.11300359), array(0.01138357), array(888.08313908), array(0.34502064), array(0.60541422), array(82.05267633), array(0.00744312), array(5.73541709), array(0.42665341), array(7.63975011), array(2.19060913), array(0.00153146), array(214.83419343), array(0.04015732), array(0.27311772), 1]\n",
      "pancreas_110.dcm\n"
     ]
    },
    {
     "name": "stderr",
     "output_type": "stream",
     "text": [
      "GLCM is symmetrical, therefore Sum Average = 2 * Joint Average, only 1 needs to be calculated\n"
     ]
    },
    {
     "name": "stdout",
     "output_type": "stream",
     "text": [
      "[0.38675163325485873, 0.0, 0.0, 125.5068753319344, array(46.40625), array(114.296875), array(116.63779928), array(116.63779928), array(3504.17989095), 48.53998901933957, array(0.15163069), array(7357.91239587), array(2.09975304), 3578.155517578125, array(-33.), array(113.), array(76006599.), array(3.24399014), array(70.), array(121.49338606), array(1988.), array(51.1085453), array(57.15686275), array(59.), array(-142.), array(2130.), array(29.97647412), array(125.25029554), array(8.89500135), array(56132803.21655273), array(0.13428149), array(12420.72957365), array(93.1353595), array(506300.54066018), array(4743.81173289), array(69.3841553), array(11.66829379), array(0.71227107), array(1.37488638), array(1.99873094), array(9.75091388), array(0.58045459), array(0.54160259), array(0.99869438), array(0.98516572), array(-0.23636038), array(0.8790484), array(0.4864925), array(8.87164961), array(0.03031445), array(5.69237996), array(0.85074492), array(0.07085906), array(17.74329922), array(4.1291531), array(20.26311227), array(5.68825657), array(912.29081527), array(0.18829532), array(2.25798064), array(650.59380805), array(19.91701696), array(97.48421053), array(12.28379773), array(1006.4369453), array(0.23498482), array(0.02143113), array(0.23968774), array(37.56490189), array(0.00624526), array(448.69659169), array(0.12701411), array(25.5115737), array(104.05372648), array(2.47268845), array(222.03052282), array(0.05042799), array(0.0222562), array(4.44056937), array(2084.67731256), array(0.58841393), array(0.72920537), array(0.58195247), array(0.7947811), array(87.7007852), array(0.01826904), array(138.78208955), array(0.10356872), array(58.36061205), array(145.44850746), array(61.92761194), array(5351.70074627), array(1.07369021), array(0.02668075), array(387.91492537), array(0.28948875), array(0.55195569), array(111.50876653), array(0.01606315), array(6.05957547), array(0.27657379), array(48.85453052), array(0.64363188), array(0.00215949), array(2276.37395055), array(0.01561888), array(29.22112693), 1]\n",
      "pancreas_111.dcm\n"
     ]
    },
    {
     "name": "stderr",
     "output_type": "stream",
     "text": [
      "GLCM is symmetrical, therefore Sum Average = 2 * Joint Average, only 1 needs to be calculated\n"
     ]
    },
    {
     "name": "stdout",
     "output_type": "stream",
     "text": [
      "[0.27822866073918756, 0.0, 0.0, 193.68710004621013, array(42.109375), array(87.65625), array(174.20529657), array(174.20529657), array(4056.0429891), 53.88930244831408, array(0.14317094), array(8590.74746776), array(2.11801194), 4154.94384765625, array(-5.5), array(130.), array(47819676.), array(3.0156127), array(64.), array(3.68827599), array(216.), array(42.03091596), array(74.80661216), array(88.), array(-145.), array(361.), array(27.92960286), array(92.19416828), array(-0.89808465), array(35316044.89746094), array(0.15728256), array(2903.73544153), array(95.39564616), array(1005.44021411), array(-63.15815274), array(16.08757405), array(1.67817809), array(0.81045438), array(0.94445136), array(1.72182236), array(0.76975052), array(0.62658905), array(0.59800304), array(0.99274739), array(0.94353536), array(-0.24802821), array(0.87088258), array(0.50222942), array(9.58086242), array(0.04494934), array(5.1975901), array(0.83409361), array(0.11226276), array(19.16172485), array(3.83922214), array(4.44143803), array(5.57635783), array(977.11304657), array(0.17367811), array(2.6473028), array(884.87166726), array(4.74718339), array(95.23035905), array(15.30501244), array(1548.65659438), array(0.19587487), array(0.01544814), array(0.18624463), array(16.38492688), array(0.00396064), array(544.99400975), array(0.14235802), array(5.15184667), array(93.0170211), array(3.01437462), array(297.56930171), array(0.04195251), array(0.01653515), array(4.39795594), array(2049.73253558), array(0.5324457), array(0.68027906), array(0.82559658), array(0.75579101), array(69.01885415), array(0.01317565), array(131.39208942), array(0.11297686), array(6.83918085), array(85.16852966), array(266.03439381), array(30427.64918315), array(2.50182491), array(0.02206357), array(278.11607911), array(0.23913678), array(0.49392627), array(41.56263629), array(0.0129112), array(6.05281833), array(0.20671881), array(242.63309155), array(2.79137426), array(0.00194545), array(65.06591473), array(0.02952671), array(0.2098455), 1]\n",
      "pancreas_113.dcm\n"
     ]
    },
    {
     "name": "stderr",
     "output_type": "stream",
     "text": [
      "GLCM is symmetrical, therefore Sum Average = 2 * Joint Average, only 1 needs to be calculated\n",
      "GLCM is symmetrical, therefore Sum Average = 2 * Joint Average, only 1 needs to be calculated\n"
     ]
    },
    {
     "name": "stdout",
     "output_type": "stream",
     "text": [
      "[0.26788976318105207, 0.0, 0.0, 213.99743190241867, array(79.0625), array(113.4375), array(183.82792579), array(183.82792579), array(4643.72456868), 57.327721353692255, array(0.13649519), array(9861.53225279), array(2.12362557), 4762.750244140625, array(-32.), array(141.), array(98141665.), array(3.45889543), array(69.), array(30.0447418), array(244.), array(61.48800418), array(62.28205923), array(83.), array(-942.), array(1186.), array(31.74843111), array(123.36175021), array(-4.14949353), array(72480111.48071289), array(0.12999117), array(11339.06651175), array(1707.15922715), array(107438.8624228), array(-1870.16975496), array(59.68125167), array(3.22738499), array(0.89524246), array(1.01079751), array(1.80977687), array(2.1665948), array(0.64258058), array(0.6173001), array(0.99865371), array(0.98015889), array(-0.35195263), array(0.94852284), array(0.48123761), array(41.14661959), array(0.04004567), array(5.59403417), array(0.91777541), array(0.10875129), array(82.29323918), array(4.30894533), array(15.72715916), array(6.11406272), array(1008.6390138), array(0.15640239), array(3.1714926), array(838.31307179), array(18.21131946), array(1700.33043883), array(17.60536517), array(30797.98588929), array(0.01190067), array(0.00125494), array(0.18073525), array(286.06199633), array(0.00051256), array(474.63264546), array(0.11306631), array(23.77903683), array(1676.53931874), array(3.44053935), array(5945.20707289), array(0.00319363), array(0.00154908), array(5.00784952), array(2124.30286944), array(0.50140783), array(0.65010079), array(1.01818772), array(0.73214131), array(1211.55462179), array(0.00133578), array(100.89547582), array(0.07870162), array(49.4031733), array(1571.19422777), array(285.42043682), array(506541.20670827), array(0.16655276), array(0.00307281), array(337.12948518), array(0.26297152), array(0.52729999), array(790.51781769), array(0.0021302), array(6.71259935), array(0.19879051), array(260.1152992), array(0.13394695), array(0.00231472), array(949.88194309), array(0.01067546), array(11.00219585), 1]\n",
      "pancreas_114.dcm\n",
      "[0.4030795095453497, 0.0, 0.0, 106.06706785460662, array(38.671875), array(86.796875), array(92.3738186), array(92.3738186), array(1916.10412598), 42.753461689748164, array(0.17977951), array(4149.76332187), array(2.16572955), 1982.940673828125, array(35.4), array(129.), array(26633797.), array(2.63768486), array(39.), array(13.1220395), array(221.), array(30.33295673), array(89.20856611), array(97.), array(-341.), array(562.), array(17.4128752), array(99.59657357), array(-1.91743233), array(19669735.33325195), array(0.21891937), array(1961.30920036), array(329.56074816), array(1518.08280547), array(-70.73203404), array(11.0279746), array(1.51701324), array(0.75799725), array(0.81086644), array(1.61776048), array(0.84965038), array(0.67232765), array(0.65280219), array(0.9972144), array(0.96728919), array(-0.23886403), array(0.83756719), array(0.48479836), array(18.08819952), array(0.07588592), array(4.58366999), array(0.79110693), array(0.16656263), array(36.17639904), array(3.46463798), array(3.13624696), array(5.27246962), array(407.25996276), array(0.15167969), array(3.23157982), array(587.79851024), array(3.2153864), array(330.22569832), array(19.46182495), array(6612.90726257), array(0.05913554), array(0.00358245), array(0.15801569), array(49.18784553), array(0.00097606), array(314.55077229), array(0.18838774), array(3.92394903), array(325.25909094), array(3.76544618), array(1266.09011984), array(0.01224277), array(0.00391921), array(4.27024326), array(783.32628732), array(0.46610083), array(0.62141527), array(1.1378146), array(0.70480574), array(226.0371394), array(0.00301313), array(61.74025974), array(0.13363693), array(7.25882199), array(306.65367965), array(625.89393939), array(221872.45454545), array(1.77772827), array(0.00601846), array(113.82683983), array(0.24637844), array(0.50431019), array(151.15928781), array(0.00434717), array(5.72384368), array(0.17206704), array(592.11821836), array(0.51987279), array(0.00366061), array(121.70989011), array(0.01049185), array(1.67392541), 1]\n",
      "pancreas_117.dcm\n"
     ]
    },
    {
     "name": "stderr",
     "output_type": "stream",
     "text": [
      "GLCM is symmetrical, therefore Sum Average = 2 * Joint Average, only 1 needs to be calculated\n",
      "GLCM is symmetrical, therefore Sum Average = 2 * Joint Average, only 1 needs to be calculated\n"
     ]
    },
    {
     "name": "stdout",
     "output_type": "stream",
     "text": [
      "[0.2729926310262014, 0.0, 0.0, 195.2326387423571, array(48.125), array(171.015625), array(179.28836445), array(179.28836445), array(5860.01434326), 53.29707171246396, array(0.12867071), array(12216.22140015), array(2.08467432), 5965.069580078125, array(8.), array(105.), array(49133938.), array(2.48910277), array(33.), array(5.48046108), array(171.), array(29.05929429), array(66.28896868), array(76.), array(-106.), array(277.), array(16.10943437), array(77.99481734), array(-1.50379539), array(36286660.75439453), array(0.240467), array(1688.96416332), array(69.64919057), array(510.08190033), array(-44.01632731), array(9.4446407), array(0.778196), array(0.84708466), array(0.56778574), array(1.33263798), array(0.4469136), array(0.74671865), array(0.73688854), array(0.99472386), array(0.95743874), array(-0.32837339), array(0.88722647), array(0.42395047), array(8.21477001), array(0.10766172), array(4.07559737), array(0.86834903), array(0.2377453), array(16.42954003), array(3.31746931), array(2.55570918), array(5.30139722), array(1068.23164541), array(0.13225599), array(4.13294453), array(1942.25194998), array(2.77080071), array(69.60653708), array(29.52321406), array(2190.65222236), array(0.4755222), array(0.02037505), array(0.09467961), array(5.58457157), array(0.00306374), array(752.12077163), array(0.18798768), array(3.607335), array(65.88387017), array(7.05951875), array(516.14064189), array(0.12054868), array(0.0238546), array(4.68144896), array(1449.02804176), array(0.35633794), array(0.49514052), array(2.81024429), array(0.60773707), array(37.79295926), array(0.0165656), array(91.92857143), array(0.12159864), array(5.4683572), array(55.34259259), array(4552.65740741), array(355947.00529101), array(59.32781646), array(0.03651545), array(137.63227513), array(0.18205327), array(0.41938221), array(21.82606727), array(0.01823791), array(6.23280649), array(0.09359911), array(4438.5124909), array(4.82692998), array(0.00152076), array(26.04849985), array(0.01634507), array(0.13351444), 1]\n",
      "pancreas_119.dcm\n",
      "[0.32289750750860224, 0.0, 0.0, 144.86183906274022, array(58.4375), array(106.5625), array(131.8657663), array(131.8657663), array(3347.36633301), 46.77552676647109, array(0.15162318), array(7137.08190042), array(2.13214844), 3440.05126953125, array(10.), array(155.), array(60738531.), array(2.97424443), array(44.), array(4.87809901), array(267.), array(41.09365568), array(98.08050666), array(110.), array(-119.), array(386.), array(22.03084578), array(114.1911377), array(-1.25488387), array(44856947.33276367), array(0.18298643), array(3419.83014384), array(95.31607384), array(1734.94746691), array(-99.82131425), array(17.87861563), array(1.67235604), array(0.82763372), array(0.89595613), array(1.7299785), array(0.85542885), array(0.64998067), array(0.62431302), array(0.99366329), array(0.94967583), array(-0.25891771), array(0.87462052), array(0.4763443), array(9.55322166), array(0.06296426), array(5.03388285), array(0.85485702), array(0.17646968), array(19.10644331), array(3.75726247), array(4.88774292), array(5.61472959), array(688.76127093), array(0.14786631), array(3.59134467), array(852.35079433), array(5.57346401), array(94.73765565), array(18.47788751), array(1866.09059682), array(0.26992821), array(0.02197254), array(0.18638097), array(15.57320608), array(0.00660183), array(439.75395566), array(0.14684332), array(6.586839), array(91.7301444), array(3.61312125), array(355.09236988), array(0.06382643), array(0.02540141), array(4.55207163), array(1524.06148978), array(0.50643631), array(0.64271146), array(1.16470886), array(0.73772411), array(65.71983016), array(0.02085984), array(102.57187177), array(0.10607226), array(8.73084166), array(81.53567735), array(626.90796277), array(63193.8179938), array(6.52659423), array(0.0367801), array(273.53567735), array(0.2828704), array(0.54382586), array(42.29038276), array(0.02333945), array(5.94782288), array(0.20759983), array(603.70486232), array(1.93804176), array(0.00249257), array(64.3764853), array(0.02751727), array(0.32133543), 1]\n",
      "pancreas_120.dcm\n"
     ]
    },
    {
     "name": "stderr",
     "output_type": "stream",
     "text": [
      "GLCM is symmetrical, therefore Sum Average = 2 * Joint Average, only 1 needs to be calculated\n",
      "GLCM is symmetrical, therefore Sum Average = 2 * Joint Average, only 1 needs to be calculated\n"
     ]
    },
    {
     "name": "stdout",
     "output_type": "stream",
     "text": [
      "[0.3562213174766749, 0.0, 0.0, 147.81842333108716, array(32.65625), array(110.859375), array(134.28817144), array(134.28817144), array(2893.48093669), 52.656073506324724, array(0.15977424), array(6145.9795905), array(2.12407813), 2966.656494140625, array(33.), array(149.), array(52016267.), array(2.84954966), array(47.), array(4.24073035), array(276.), array(35.73409909), array(102.85511576), array(112.), array(-71.), array(347.), array(21.64778848), array(113.79381951), array(-0.70146029), array(38415333.9050293), array(0.18645594), array(2369.85852063), array(62.23308728), array(740.45774592), array(-35.54828058), array(12.74352939), array(1.16329591), array(0.83218251), array(0.75141073), array(1.52846173), array(0.58834742), array(0.68173087), array(0.66416628), array(0.99494014), array(0.9544886), array(-0.29035067), array(0.88924148), array(0.48770454), array(7.70310286), array(0.06647333), array(4.7501881), array(0.85093127), array(0.15958428), array(15.40620573), array(3.67892478), array(3.47670633), array(5.54467117), array(604.54792133), array(0.15049737), array(3.40175353), array(748.99352751), array(3.8268856), array(62.18172766), array(20.64998755), array(1336.64127458), array(0.46155811), array(0.02779081), array(0.14020083), array(8.10914923), array(0.00556459), array(380.85809354), array(0.15629085), array(4.47476259), array(60.80806106), array(4.11462564), array(263.29214294), array(0.09924191), array(0.03083062), array(4.54883185), array(1119.02919047), array(0.45638241), array(0.60586258), array(1.34121826), array(0.69778561), array(41.60093305), array(0.02340517), array(68.79605263), array(0.1131514), array(6.58777701), array(56.51315789), array(671.16940789), array(44785.64802632), array(10.94717847), array(0.04383509), array(125.49342105), array(0.20640365), array(0.45051248), array(24.92301346), array(0.02206344), array(6.10434666), array(0.15135673), array(627.51817597), array(2.05425296), array(0.00313793), array(48.08483138), array(0.01800239), array(0.3420676), 1]\n",
      "pancreas_122.dcm\n",
      "[0.29548429695491735, 0.0, 0.0, 121.37451871268614, array(36.09375), array(64.453125), array(112.26279789), array(112.26279789), array(1611.277771), 35.86426433005952, array(0.18759179), array(3543.10405893), array(2.19894057), 1677.9296875, array(-15.), array(118.), array(18533163.), array(3.12940658), array(64.), array(27.02158409), array(770.), array(43.15913494), array(60.90360915), array(62.), array(-114.), array(884.), array(27.48767888), array(90.31722994), array(2.98797537), array(13687211.4440918), array(0.14233674), array(4447.95241655), array(69.62425046), array(13989.47036328), array(318.38900979), array(22.93300853), array(3.59857315), array(0.7256257), array(1.29005118), array(2.04777804), array(1.90959166), array(0.56223072), array(0.51778972), array(0.99733775), array(0.96659337), array(-0.18077069), array(0.80971505), array(0.47733098), array(8.04924189), array(0.03085424), array(5.59464458), array(0.84856391), array(0.06630443), array(16.09848377), array(3.9255573), array(6.63289542), array(5.43989529), array(479.54225352), array(0.21106613), array(1.87263114), array(323.38908451), array(7.21118837), array(70.61399648), array(10.49119718), array(692.32526408), array(0.22594188), array(0.0235259), array(0.25931127), array(21.65365744), array(0.00701962), array(232.49929238), array(0.13500132), array(8.33750305), array(72.24563964), array(2.16899579), array(149.35536279), array(0.04898103), array(0.02408434), array(4.21894813), array(1054.96783625), array(0.61089698), array(0.75803257), array(0.42064045), array(0.808844), array(59.80623442), array(0.01980476), array(82.12242091), array(0.11296069), array(13.8627133), array(80.53094911), array(30.42916094), array(2141.96286107), array(0.56202039), array(0.02701272), array(195.22833563), array(0.26853966), array(0.52521846), array(48.69330535), array(0.0155681), array(5.86584186), array(0.31998239), array(20.66246128), array(0.65974979), array(0.00410369), array(512.74894899), array(0.01467215), array(5.36621054), 1]\n",
      "pancreas_124.dcm\n"
     ]
    },
    {
     "name": "stderr",
     "output_type": "stream",
     "text": [
      "GLCM is symmetrical, therefore Sum Average = 2 * Joint Average, only 1 needs to be calculated\n"
     ]
    },
    {
     "name": "stdout",
     "output_type": "stream",
     "text": [
      "[0.2531948645346527, 0.0, 0.0, 127.26029681417549, array(41.25), array(125.46875), array(126.51506152), array(126.51506152), array(2191.26637777), 32.22165361250486, array(0.1719989), array(4743.38712388), array(2.16467846), 2268.011474609375, array(-80.), array(104.), array(16154449.), array(3.52260286), array(110.), array(2.79975024), array(386.), array(59.36360493), array(12.95897102), array(12.), array(-165.), array(551.), array(44.68477867), array(72.52807763), array(0.12232805), array(11930470.75805664), array(0.09562836), array(5092.38711506), array(71.33868409), array(1964.6234876), array(9.71378926), array(27.70062771), array(4.81440131), array(0.70366801), array(1.68547415), array(2.33963096), array(1.94561444), array(0.48833065), array(0.42344417), array(0.99120359), array(0.93456415), array(-0.15243678), array(0.8039208), array(0.42270036), array(8.10040665), array(0.013901), array(6.49072552), array(0.71939459), array(0.02450195), array(16.2008133), array(4.38096467), array(8.12875726), array(5.63222861), array(767.85509606), array(0.25003422), array(1.36381318), array(293.6746988), array(8.22285536), array(72.84435037), array(7.14978834), array(523.3288831), array(0.17696485), array(0.02965937), array(0.3689237), array(27.02015452), array(0.01349164), array(239.42418615), array(0.09457998), array(8.43058041), array(72.78761339), array(1.73883111), array(127.07998782), array(0.04849313), array(0.0307533), array(4.3386844), array(1782.4323694), array(0.70366517), array(0.82432432), array(0.26531657), array(0.86484944), array(62.94238175), array(0.02735041), array(123.72185911), array(0.08984884), array(9.48049526), array(72.69281046), array(10.77632534), array(831.31372549), array(0.25044643), array(0.03560462), array(496.55555556), array(0.36060679), array(0.62077957), array(45.71511673), array(0.02483288), array(5.62163993), array(0.44838815), array(5.80248601), array(1.62559026), array(0.00336956), array(229.50327923), array(0.04795855), array(0.72738158), 1]\n",
      "pancreas_125.dcm\n"
     ]
    },
    {
     "name": "stderr",
     "output_type": "stream",
     "text": [
      "GLCM is symmetrical, therefore Sum Average = 2 * Joint Average, only 1 needs to be calculated\n"
     ]
    },
    {
     "name": "stdout",
     "output_type": "stream",
     "text": [
      "[0.28998272070899445, 0.0, 0.0, 193.85708701158308, array(57.578125), array(134.921875), array(163.63592236), array(163.63592236), array(3760.20202637), 56.215205520339126, array(0.14645042), array(7984.86597103), array(2.12352047), 3855.841064453125, array(-79.), array(82.), array(20348679.), array(3.30245167), array(94.), array(2.52503456), array(264.), array(51.45828768), array(9.30722084), array(16.), array(-157.), array(421.), array(38.75175834), array(62.42970228), array(-0.1272664), array(15028016.10717773), array(0.11405037), array(3810.84336674), array(68.14493348), array(1246.74730353), array(-17.59982133), array(22.1123933), array(1.78902034), array(0.85003724), array(0.98841893), array(1.75694767), array(0.79619452), array(0.6140435), array(0.58246358), array(0.99458864), array(0.94999524), array(-0.2867607), array(0.91654879), array(0.50214665), array(7.9412687), array(0.02733303), array(5.61251333), array(0.86013281), array(0.06126189), array(15.8825374), array(4.19941597), array(5.97535341), array(5.85632237), array(959.23290557), array(0.1837259), array(2.3400284), array(595.45700057), array(6.19463359), array(68.64125646), array(14.04845815), array(984.35701973), array(0.3323053), array(0.02522149), array(0.19617682), array(13.02496872), array(0.0058462), array(405.9631511), array(0.1115319), array(6.3200632), array(68.16116872), array(2.75514555), array(191.72030021), array(0.06730172), array(0.02587522), array(4.57630957), array(1989.68429751), array(0.54407628), array(0.69728021), array(0.67903559), array(0.7641925), array(51.82244198), array(0.02025992), array(122.61058924), array(0.10470588), array(7.09797767), array(65.97181896), array(98.77625961), array(7713.37489325), array(2.01195012), array(0.02991905), array(271.32621691), array(0.23170471), array(0.48971641), array(31.58068251), array(0.01663575), array(6.2258867), array(0.22428654), array(78.89730252), array(2.15164729), array(0.00267801), array(97.21490833), array(0.02676224), array(0.37203106), 1]\n",
      "pancreas_126.dcm\n"
     ]
    },
    {
     "name": "stderr",
     "output_type": "stream",
     "text": [
      "GLCM is symmetrical, therefore Sum Average = 2 * Joint Average, only 1 needs to be calculated\n"
     ]
    },
    {
     "name": "stdout",
     "output_type": "stream",
     "text": [
      "[0.30036379351088394, 0.0, 0.0, 191.0039992203586, array(54.140625), array(101.40625), array(161.74752537), array(161.74752537), array(4035.79508464), 57.37068578157682, array(0.14370892), array(8530.08036984), array(2.11360592), 4134.26513671875, array(28.), array(174.), array(97938588.), array(3.09092963), array(73.), array(7.5690986), array(308.), array(46.42662943), array(117.89138978), array(134.), array(-511.), array(819.), array(31.7268093), array(132.26973156), array(-1.06905829), array(72330133.95996094), array(0.15522763), array(3596.90210164), array(695.91993313), array(2094.61920254), array(-78.075788), array(19.91605744), array(1.69238501), array(0.84274652), array(0.82882486), array(1.67518058), array(0.9923713), array(0.67573293), array(0.65477978), array(0.99856825), array(0.97695086), array(-0.31102988), array(0.9167557), array(0.46265304), array(26.29379823), array(0.05254123), array(5.12891223), array(0.86755509), array(0.12791512), array(52.58759645), array(3.9508451), array(5.40211061), array(5.87888043), array(778.05859235), array(0.13898867), array(3.95276933), array(868.96427295), array(5.8478467), array(694.01500536), array(21.43765631), array(15037.00321543), array(0.0316722), array(0.00167769), array(0.15870608), array(105.38871691), array(0.00043752), array(453.08278655), array(0.13435516), array(6.54408546), array(688.8340164), array(4.28847215), array(2986.54308494), array(0.00667364), array(0.00181765), array(4.7654187), array(1578.3485637), array(0.46545636), array(0.60231333), array(1.49630957), array(0.70709747), array(482.84570427), array(0.00138878), array(99.52410901), array(0.10432297), array(10.08228512), array(660.33228512), array(479.92033543), array(347205.47169811), array(0.67791964), array(0.00268804), array(249.07756813), array(0.2610876), array(0.52312021), array(335.26378079), array(0.00195895), array(6.13809177), array(0.17041801), array(445.48779716), array(0.41817127), array(0.00243215), array(199.73267721), array(0.01082937), array(1.70828556), 1]\n",
      "pancreas_127.dcm\n"
     ]
    },
    {
     "name": "stderr",
     "output_type": "stream",
     "text": [
      "GLCM is symmetrical, therefore Sum Average = 2 * Joint Average, only 1 needs to be calculated\n"
     ]
    },
    {
     "name": "stdout",
     "output_type": "stream",
     "text": [
      "[0.3192206584454618, 0.0, 0.0, 162.43618679317856, array(51.5625), array(140.078125), array(153.04115211), array(153.04115211), array(4216.1799113), 51.85298650348849, array(0.14205567), array(8884.60854475), array(2.10726504), 4310.772705078125, array(-56.4), array(123.), array(38852831.), array(3.42657248), array(89.), array(2.98659516), array(222.), array(54.37708452), array(44.91982183), array(58.), array(-189.), array(411.), array(37.81370897), array(81.58615908), array(-0.59819667), array(28693802.19116211), array(0.1105909), array(4638.51096053), array(112.86357389), array(1643.0342561), array(-82.08458535), array(23.02891885), array(5.67486428), array(0.60337883), array(1.82978368), array(2.44663681), array(2.25081805), array(0.47479279), array(0.40597239), array(0.98155044), array(0.90836703), array(-0.10988429), array(0.70311943), array(0.39704209), array(10.41748887), array(0.01724019), array(6.41428139), array(0.65531511), array(0.04148336), array(20.83497774), array(4.17716563), array(7.17594578), array(5.49690018), array(1457.76203529), array(0.24974508), array(1.41218152), array(645.51910228), array(7.51625592), array(113.96265205), array(7.16412541), array(845.61795443), array(0.08464591), array(0.01486167), array(0.3737116), array(41.47436507), array(0.0070815), array(508.14086039), array(0.10550618), array(7.9049809), array(113.19804922), array(1.74278871), array(200.98277382), array(0.02410239), array(0.01552572), array(4.25933364), array(3413.13868931), array(0.70656842), array(0.82520987), array(0.26672555), array(0.86543114), array(97.49867657), array(0.01390746), array(241.01212121), array(0.09129247), array(9.46365875), array(110.69469697), array(11.55037879), array(1403.32424242), array(0.12653653), array(0.01829942), array(975.30606061), array(0.36943411), array(0.62796737), array(68.972924), array(0.01312558), array(5.60075928), array(0.45228713), array(6.66192479), array(3.43275662), array(0.00144688), array(150.85535737), array(0.07021016), array(0.15246254), 1]\n",
      "pancreas_129.dcm\n"
     ]
    },
    {
     "name": "stderr",
     "output_type": "stream",
     "text": [
      "GLCM is symmetrical, therefore Sum Average = 2 * Joint Average, only 1 needs to be calculated\n"
     ]
    },
    {
     "name": "stdout",
     "output_type": "stream",
     "text": [
      "[0.2898025126348209, 0.0, 0.0, 163.7876368528708, array(48.125), array(85.9375), array(147.91738648), array(147.91738648), array(3441.89758301), 47.46606869848154, array(0.15082239), array(7309.43145126), array(2.12366326), 3531.62841796875, array(5.), array(125.), array(39930525.), array(2.8251708), array(51.), array(4.10736305), array(190.), array(37.02974533), array(77.28586366), array(90.), array(-109.), array(299.), array(23.21574916), array(91.37927841), array(-1.10679817), array(29489706.57348633), array(0.18507732), array(2377.067801), array(78.21094111), array(785.30506119), array(-57.8310754), array(13.56744457), array(0.96756701), array(0.86641068), array(0.68707729), array(1.43718446), array(0.48960608), array(0.69836555), array(0.68426307), array(0.9943909), array(0.95222224), array(-0.32502002), array(0.91083657), array(0.48566685), array(8.66376719), array(0.0687677), array(4.64169073), array(0.88814314), array(0.14213542), array(17.32753437), array(3.67083377), array(3.6337529), array(5.56519779), array(710.10539523), array(0.14849548), array(3.36965664), array(885.03973233), array(3.89436517), array(78.13446257), array(22.07862819), array(1843.13613551), array(0.35221647), array(0.01961382), array(0.13359301), array(9.86268216), array(0.00328151), array(446.93047598), array(0.15985618), array(4.37942954), array(75.47242772), array(4.43461631), array(363.82505127), array(0.07566924), array(0.02163309), array(4.58893914), array(1206.90005615), array(0.42945441), array(0.58432664), array(1.46926289), array(0.67555506), array(49.67999206), array(0.0157768), array(70.07293355), array(0.11357039), array(6.09231683), array(70.22204214), array(1213.53646677), array(110060.273906), array(14.04845053), array(0.028732), array(152.58833063), array(0.24730686), array(0.51347877), array(38.07955182), array(0.01368318), array(6.05903233), array(0.12902551), array(1153.46768622), array(2.76269701), array(0.00251711), array(37.0457932), array(0.02433128), array(0.22878971), 1]\n",
      "pancreas_130.dcm\n"
     ]
    },
    {
     "name": "stderr",
     "output_type": "stream",
     "text": [
      "GLCM is symmetrical, therefore Sum Average = 2 * Joint Average, only 1 needs to be calculated\n"
     ]
    },
    {
     "name": "stdout",
     "output_type": "stream",
     "text": [
      "[0.32593040200276435, 0.0, 0.0, 132.30236825037994, array(66.171875), array(64.453125), array(127.32968193), array(127.32968193), array(3262.25128174), 43.1213640697641, array(0.1540798), array(6903.72301571), array(2.11624502), 3341.827392578125, array(58.), array(163.), array(68149160.), array(2.82498619), array(48.), array(3.86242128), array(263.), array(33.03179063), array(114.42740331), array(118.), array(-55.), array(318.), array(20.66515192), array(122.72158671), array(-0.14730049), array(50329885.00976562), array(0.18199029), array(1966.95721591), array(69.29747382), array(502.86886988), array(-2.47669057), array(11.33304702), array(1.00534977), array(0.83647565), array(0.69770665), array(1.45506803), array(0.50936175), array(0.69641697), array(0.6814633), array(0.99496839), array(0.95472989), array(-0.31543998), array(0.90479844), array(0.4820835), array(8.16792497), array(0.06522066), array(4.69386625), array(0.8452172), array(0.14398291), array(16.33584994), array(3.70053), array(3.0845992), array(5.57471823), array(667.60640884), array(0.14753733), array(3.44459737), array(823.50607735), array(3.23765179), array(68.78143646), array(22.15093923), array(1560.0198895), array(0.37156934), array(0.01917062), array(0.12805899), array(8.44680809), array(0.00314538), array(416.42761273), array(0.15735384), array(3.78806268), array(67.89916657), array(4.46410683), array(312.01652174), array(0.07822906), array(0.02055721), array(4.58577123), array(1144.16159045), array(0.42934022), array(0.58436464), array(1.48534922), array(0.67475442), array(45.26473954), array(0.01472422), array(73.80528053), array(0.12179089), array(5.56062314), array(64.82013201), array(794.28547855), array(60743.21122112), array(10.83190396), array(0.02650057), array(117.18481848), array(0.19337429), array(0.4403883), array(28.12939824), array(0.01293923), array(6.2186081), array(0.13392265), array(738.52943883), array(2.45569319), array(0.00283639), array(40.34972709), array(0.01706834), array(0.25594045), 1]\n",
      "pancreas_131.dcm\n"
     ]
    },
    {
     "name": "stderr",
     "output_type": "stream",
     "text": [
      "GLCM is symmetrical, therefore Sum Average = 2 * Joint Average, only 1 needs to be calculated\n"
     ]
    },
    {
     "name": "stdout",
     "output_type": "stream",
     "text": [
      "[0.3002680179122754, 0.0, 0.0, 166.68604760407092, array(57.578125), array(94.53125), array(143.06980718), array(143.06980718), array(3525.35095215), 50.05048912770556, array(0.14975386), array(7480.10465884), array(2.12180426), 3615.8203125, array(-49.), array(142.), array(64629431.), array(3.55302264), array(83.), array(38.42559866), array(269.), array(62.06778801), array(54.32495915), array(70.), array(-1024.), array(1293.), array(37.40864631), array(114.893236), array(-4.42870971), array(47730475.77514648), array(0.10797113), array(10249.25449142), array(1926.60687734), array(136664.8834049), array(-2015.91365758), array(55.2388663), array(6.56544517), array(0.78638936), array(1.81178715), array(2.44285642), array(3.19174612), array(0.48551538), array(0.42002434), array(0.99764799), array(0.96731986), array(-0.15515678), array(0.79982938), array(0.40592776), array(43.75429442), array(0.01766284), array(6.48939187), array(0.91723284), array(0.04587986), array(87.50858884), array(4.32819167), array(15.45107787), array(5.67837324), array(1179.22017974), array(0.24085379), array(1.54077742), array(528.62663399), array(16.42731958), array(1925.7567402), array(7.64256536), array(14842.83639706), array(0.00475601), array(0.0008951), array(0.36109336), array(689.54721542), array(0.00051223), array(411.17821786), array(0.10287019), array(18.00423064), array(1922.3293186), array(1.81540321), array(3509.31222114), array(0.0014382), array(0.00096504), array(4.42437268), array(2793.91422879), array(0.69654112), array(0.81622753), array(0.30276892), array(0.8598137), array(1651.01876162), array(0.00088121), array(188.32957746), array(0.08841764), array(24.49549604), array(1909.93051643), array(13.0028169), array(25520.3713615), array(0.00791967), array(0.00128179), array(773.15492958), array(0.36298354), array(0.62271021), array(1184.60790346), array(0.00105064), array(5.81887177), array(0.43504902), array(7.71929379), array(0.18670944), array(0.00176949), array(1842.72197482), array(0.02301981), array(7.15139513), 1]\n",
      "pancreas_135.dcm\n"
     ]
    },
    {
     "name": "stderr",
     "output_type": "stream",
     "text": [
      "GLCM is symmetrical, therefore Sum Average = 2 * Joint Average, only 1 needs to be calculated\n",
      "GLCM is symmetrical, therefore Sum Average = 2 * Joint Average, only 1 needs to be calculated\n"
     ]
    },
    {
     "name": "stdout",
     "output_type": "stream",
     "text": [
      "[0.37626291289371894, 0.0, 0.0, 152.5623603753327, array(67.890625), array(80.78125), array(136.640625), array(136.640625), array(4187.80822754), 57.40355811276397, array(0.1428466), array(8795.73378989), array(2.10031914), 4273.846435546875, array(16.), array(113.), array(37753670.), array(2.65639705), array(47.), array(4.47663504), array(199.), array(30.77643165), array(69.99481597), array(77.), array(-120.), array(319.), array(20.15537388), array(80.77051398), array(-0.97670781), array(27882043.88427734), array(0.19650699), array(1624.60166658), array(72.14285228), array(368.75792143), array(-27.86707732), array(8.84290294), array(1.28879378), array(0.74521339), array(0.83044809), array(1.57764193), array(0.58902107), array(0.65239271), array(0.62999438), array(0.99256026), array(0.94279744), array(-0.21344989), array(0.81316926), array(0.50795164), array(8.38177782), array(0.05941901), array(4.68073745), array(0.78640934), array(0.13740088), array(16.76355564), array(3.48309207), array(2.53292418), array(5.28352347), array(964.65197857), array(0.16669293), array(2.71336925), array(1137.18593399), array(2.6848851), array(72.02280975), array(17.27233454), array(1292.98012787), array(0.27618835), array(0.01880918), array(0.16110327), array(10.95696613), array(0.00381885), array(674.01635958), array(0.17977334), array(3.02217877), array(70.83577172), array(3.34308525), array(245.91894657), array(0.05763252), array(0.02005014), array(4.16887114), array(1842.55359646), array(0.48831486), array(0.64804735), array(0.93050789), array(0.72217266), array(50.41338409), array(0.01523982), array(136.5407855), array(0.13750331), array(4.71504357), array(66.30513595), array(712.32729104), array(56865.72608258), array(9.13536261), array(0.02656484), array(230.52265861), array(0.23214769), array(0.48673885), array(31.95022981), array(0.01350086), array(5.88886604), array(0.1715915), array(678.36410158), array(4.06865638), array(0.00170399), array(45.38135241), array(0.02026435), array(0.14077075), 1]\n",
      "pancreas_137.dcm\n",
      "[0.4266605138156319, 0.0, 0.0, 113.53708658184102, array(37.8125), array(88.515625), array(108.16524043), array(108.16524043), array(2436.94915771), 48.441791698138175, array(0.16850038), array(5197.3370611), array(2.13272281), 2503.60107421875, array(-9.), array(130.1), array(22793200.), array(3.13955926), array(73.), array(2.93053192), array(229.), array(42.58855144), array(62.37699115), array(65.), array(-125.), array(354.), array(30.0800562), array(81.99791349), array(-0.21286311), array(16833356.93359375), array(0.13101679), array(2832.76879213), array(67.48664646), array(589.41804986), array(-10.87009384), array(14.76413567), array(3.33535281), array(0.6314723), array(1.3893919), array(2.12115818), array(1.36240315), array(0.53655675), array(0.48323124), array(0.98585699), array(0.91975749), array(-0.13324408), array(0.7327624), array(0.44980566), array(8.03924273), array(0.02369517), array(5.83913141), array(0.64334034), array(0.05010074), array(16.07848547), array(3.96918563), array(4.52487212), array(5.46741153), array(713.07846608), array(0.21034763), array(1.82088356), array(444.14690265), array(4.60149703), array(68.8660767), array(9.65427729), array(672.85899705), array(0.18802303), array(0.02342913), array(0.29699417), array(20.03273015), array(0.00885672), array(334.40689969), array(0.12725633), array(4.86404096), array(68.63520425), array(2.08369686), array(144.36368621), array(0.04542582), array(0.02454479), array(4.15018321), array(1685.96287115), array(0.63877323), array(0.77514749), array(0.40440233), array(0.82589596), array(56.52702856), array(0.02104847), array(135.92549669), array(0.11252111), array(6.07307519), array(67.94536424), array(21.01655629), array(1484.11589404), array(0.38436664), array(0.02948445), array(385.20860927), array(0.3188813), array(0.58322192), array(38.92863409), array(0.01947457), array(5.64099456), array(0.35634218), array(13.14128492), array(2.84437841), array(0.00256115), array(92.45306884), array(0.04324893), array(0.20865234), 1]\n",
      "pancreas_138.dcm\n"
     ]
    },
    {
     "name": "stderr",
     "output_type": "stream",
     "text": [
      "GLCM is symmetrical, therefore Sum Average = 2 * Joint Average, only 1 needs to be calculated\n",
      "GLCM is symmetrical, therefore Sum Average = 2 * Joint Average, only 1 needs to be calculated\n"
     ]
    },
    {
     "name": "stdout",
     "output_type": "stream",
     "text": [
      "[0.24481450322981863, 0.0, 0.0, 163.48941195788808, array(46.40625), array(73.046875), array(148.276434), array(148.276434), array(2307.15332031), 40.02457917180554, array(0.16731188), array(5046.70960926), array(2.18741839), 2396.514892578125, array(-32.), array(143.), array(43613883.), array(3.46304636), array(85.), array(24.15137813), array(1064.), array(58.55247257), array(74.07241911), array(85.), array(-620.), array(1684.), array(37.00059407), array(115.93245337), array(1.77723903), array(32209959.97924805), array(0.12116714), array(7953.61047196), array(832.2081919), array(38702.34260149), array(581.2089476), array(43.80520549), array(4.28921045), array(0.82083656), array(1.13547618), array(1.9309802), array(2.96995451), array(0.6187375), array(0.5880235), array(0.99910812), array(0.9841122), array(-0.32555299), array(0.94017484), array(0.47762687), array(28.67622169), array(0.03570102), array(5.71222902), array(0.93066091), array(0.106058), array(57.35244338), array(4.32963704), array(12.02360398), array(5.95667494), array(535.70755008), array(0.16508707), array(3.01087851), array(393.18736518), array(12.78555711), array(824.69306626), array(15.38089368), array(13043.35377504), array(0.02125204), array(0.00193202), array(0.20991911), array(175.68971145), array(0.00046994), array(238.15800507), array(0.10698892), array(15.32990363), array(818.09839229), array(2.97389002), array(2491.30899387), array(0.00488948), array(0.00214159), array(4.80967095), array(1215.56363798), array(0.54313605), array(0.6853621), array(0.81905658), array(0.76379507), array(622.23834735), array(0.00175941), array(69.83585859), array(0.08817659), array(27.97206758), array(823.11237374), array(178.85984848), array(159096.49873737), array(0.20833275), array(0.00275887), array(210.52525253), array(0.26581471), array(0.52648498), array(454.02667372), array(0.00117323), array(6.24360902), array(0.2440678), array(162.07261855), array(0.12426669), array(0.00447899), array(711.69833308), array(0.01128356), array(11.34163431), 1]\n",
      "pancreas_140.dcm\n",
      "[0.23277819232127664, 0.0, 0.0, 183.90732772761464, array(34.375), array(116.015625), array(154.23806237), array(154.23806237), array(1990.57210286), 42.809615303070736, array(0.17284814), array(4427.29053444), array(2.2241297), 2087.07275390625, array(-51.), array(67.), array(6689450.), array(2.78168972), array(60.75), array(2.93676035), array(124.), array(36.44850992), array(18.37650389), array(29.), array(-124.), array(248.), array(25.9833441), array(48.65294429), array(-0.7297885), array(4940328.67431641), array(0.17294769), array(2029.41309266), array(42.87387792), array(399.88713494), array(-30.83843552), array(11.26512588), array(1.13904553), array(0.81573344), array(0.74365608), array(1.51520735), array(0.5675345), array(0.68528106), array(0.66721964), array(0.98907103), array(0.93526088), array(-0.28338731), array(0.87670466), array(0.47725212), array(6.35151057), array(0.05914362), array(4.6796754), array(0.83510709), array(0.12617863), array(12.70302115), array(3.62771445), array(3.10104285), array(5.4970366), array(430.985138), array(0.15250713), array(3.28536154), array(488.75017693), array(3.32536817), array(42.47416844), array(20.16914367), array(939.67657466), array(0.75531927), array(0.04531807), array(0.14473517), array(5.34727776), array(0.00822741), array(272.14010718), array(0.15750156), array(3.46905027), array(40.51726048), array(4.0577334), array(184.09129139), array(0.16273395), array(0.04895923), array(4.37678858), array(800.61171527), array(0.45584556), array(0.6113765), array(1.27886194), array(0.6932337), array(27.0616798), array(0.03564185), array(64.65065502), array(0.14115864), array(3.82706279), array(36.40174672), array(233.2139738), array(11954.55458515), array(6.34948323), array(0.06066715), array(89.48471616), array(0.19538148), array(0.44470066), array(15.08656391), array(0.02926178), array(5.89447606), array(0.16206653), array(195.14130165), array(3.35796827), array(0.00433152), array(20.83004325), array(0.03837169), array(0.16557257), 1]\n",
      "pancreas_145.dcm\n"
     ]
    },
    {
     "name": "stderr",
     "output_type": "stream",
     "text": [
      "GLCM is symmetrical, therefore Sum Average = 2 * Joint Average, only 1 needs to be calculated\n"
     ]
    },
    {
     "name": "stdout",
     "output_type": "stream",
     "text": [
      "[0.40153745069683544, 0.0, 0.0, 115.10710112649048, array(39.53125), array(90.234375), array(98.69352247), array(98.69352247), array(1989.58740234), 46.219811943433825, array(0.17867858), array(4281.41160392), array(2.15190928), 2053.839111328125, array(-21.), array(127.), array(67245591.), array(3.43598411), array(75.), array(31.54736128), array(1313.), array(67.09833965), array(45.07191658), array(37.), array(-919.), array(2232.), array(31.7273515), array(155.50036507), array(-0.39063857), array(49662576.36108398), array(0.13153583), array(22148.88587439), array(1575.30657515), array(442668.42264768), array(-1616.36865768), array(117.70445996), array(22.18603311), array(0.6829146), array(1.57015755), array(2.073455), array(19.67251559), array(0.61214235), array(0.5796493), array(0.99774057), array(0.98451065), array(-0.31233165), array(0.93510062), array(0.45644382), array(39.38813943), array(0.0373394), array(5.72482469), array(0.93267223), array(0.12801456), array(78.77627885), array(4.3031023), array(34.97262327), array(5.96733249), array(436.72815534), array(0.15703997), array(3.50381234), array(365.80115067), array(35.44460335), array(1581.84861561), array(16.15857605), array(24822.74973031), array(0.03368651), array(0.00311413), array(0.22531509), array(381.99088338), array(0.00072683), array(215.8607795), array(0.1140757), array(43.67410821), array(1601.13058163), array(3.16210131), array(4905.89110722), array(0.00827684), array(0.00345824), array(4.82304142), array(1046.60461795), array(0.55091789), array(0.68033082), array(0.98241938), array(0.76968009), array(1243.26564609), array(0.00291554), array(64.45606695), array(0.08989689), array(79.86237792), array(1677.40864714), array(276.06276151), array(405529.85076709), array(0.24203451), array(0.00367997), array(220.10181311), array(0.30697603), array(0.5725686), array(1014.78355687), array(0.00141224), array(6.20551595), array(0.25782093), array(261.01874967), array(0.06048662), array(0.00459615), array(2037.90645316), array(0.02493548), array(27.58156277), 1]\n",
      "pancreas_147.dcm\n"
     ]
    },
    {
     "name": "stderr",
     "output_type": "stream",
     "text": [
      "GLCM is symmetrical, therefore Sum Average = 2 * Joint Average, only 1 needs to be calculated\n",
      "GLCM is symmetrical, therefore Sum Average = 2 * Joint Average, only 1 needs to be calculated\n"
     ]
    },
    {
     "name": "stdout",
     "output_type": "stream",
     "text": [
      "[0.4437733176267764, 0.0, 0.0, 119.23897914231958, array(60.15625), array(82.5), array(108.33579975), array(108.33579975), array(3334.25750732), 52.91507736441716, array(0.153296), array(7040.75753717), array(2.1116418), 3409.771728515625, array(-20.4), array(154.), array(57650056.), array(3.12530502), array(57.), array(3.75208251), array(229.), array(48.52204693), array(90.83993935), array(108.), array(-120.), array(349.), array(28.81519133), array(111.74289776), array(-1.06568184), array(42576030.12695312), array(0.15808707), array(4234.58061841), array(90.58255474), array(2205.56281389), array(-128.47224651), array(23.62717), array(1.86773332), array(0.85271098), array(0.97933921), array(1.78695185), array(0.89547366), array(0.62331816), array(0.59327554), array(0.99198189), array(0.94184903), array(-0.27091176), array(0.89681815), array(0.49229791), array(9.2272302), array(0.0483547), array(5.32084041), array(0.87593168), array(0.1362467), array(18.45446039), array(3.94650912), array(6.37372583), array(5.65258433), array(772.36798787), array(0.16728785), array(2.81710973), array(729.88802253), array(6.87317106), array(90.65692008), array(15.50379034), array(1515.10916179), array(0.26150591), array(0.02484208), array(0.19661865), array(16.17903056), array(0.00756846), array(422.04793669), array(0.13441579), array(7.59936587), array(87.98951304), array(2.99369772), array(282.25549932), array(0.06116508), array(0.02802678), array(4.53382999), array(1673.28492194), array(0.53140212), array(0.67977041), array(0.81443761), array(0.75571998), array(64.8749862), array(0.02308783), array(102.30552861), array(0.09922942), array(9.5727482), array(79.13579049), array(335.18040737), array(33720.08826382), array(3.62985385), array(0.0413215), array(266.46071775), array(0.2584488), array(0.51671913), array(40.51389973), array(0.02472463), array(6.05597814), array(0.22330518), array(315.12634236), array(2.2290448), array(0.00258325), array(58.59982878), array(0.04099261), array(0.27879953), 1]\n",
      "pancreas_148.dcm\n",
      "[0.22302779831715983, 0.0, 0.0, 145.19370800409322, array(55.), array(70.46875), array(133.69013793), array(133.69013793), array(2531.04960124), 32.3822330256575, array(0.16589533), array(5413.98539411), array(2.13902777), 2603.302001953125, array(-24.), array(114.), array(21593964.), array(3.02141056), array(72.), array(2.86325182), array(183.), array(43.18335343), array(57.32595745), array(70.), array(-108.), array(291.), array(30.83422854), array(78.26843063), array(-0.66525796), array(15947690.69824219), array(0.14915008), array(2839.68183685), array(65.88999085), array(769.32526204), array(-46.85512593), array(16.3245864), array(1.3118643), array(0.85050156), array(0.82650617), array(1.59073245), array(0.61535152), array(0.65677339), array(0.63444812), array(0.99244215), array(0.94319108), array(-0.29941294), array(0.90751819), array(0.49859997), array(7.88260972), array(0.04594484), array(5.07360115), array(0.86212372), array(0.12233324), array(15.76521943), array(3.89554671), array(4.40911268), array(5.68124377), array(566.99829787), array(0.16085058), array(3.00545011), array(525.75404255), array(4.60252148), array(65.74382979), array(17.83177305), array(1257.74950355), array(0.38012507), array(0.02544882), array(0.16130837), array(9.97352119), array(0.00526754), array(308.31211717), array(0.13589102), array(4.84333886), array(63.8446565), array(3.50570508), array(241.42215333), array(0.07998056), array(0.02724104), array(4.50932808), array(1122.82478333), array(0.49085014), array(0.64368794), array(1.0491533), array(0.72398985), array(45.32463294), array(0.02070334), array(73.61712439), array(0.11892912), array(5.69961974), array(59.11470113), array(471.20678514), array(38833.180937), array(6.42216421), array(0.03466205), array(132.74151858), array(0.2144451), array(0.46599425), array(28.54479573), array(0.01801168), array(6.03253671), array(0.17560284), array(438.77753216), array(2.24499395), array(0.00373606), array(39.22387366), array(0.03285827), array(0.25529195), 1]\n",
      "pancreas_149.dcm\n"
     ]
    },
    {
     "name": "stderr",
     "output_type": "stream",
     "text": [
      "GLCM is symmetrical, therefore Sum Average = 2 * Joint Average, only 1 needs to be calculated\n",
      "GLCM is symmetrical, therefore Sum Average = 2 * Joint Average, only 1 needs to be calculated\n"
     ]
    },
    {
     "name": "stdout",
     "output_type": "stream",
     "text": [
      "[0.3961338911269525, 0.0, 0.0, 160.62396659787794, array(42.109375), array(151.25), array(154.44142754), array(154.44142754), array(3122.97770182), 63.62859689666303, array(0.15421068), array(6700.11489569), array(2.14542515), 3217.0166015625, array(-45.), array(134.), array(38898429.), array(3.45373887), array(111.), array(33.86480471), array(1223.), array(60.19956852), array(51.35697888), array(58.), array(-108.), array(1331.), array(45.23395121), array(94.49788649), array(2.6973641), array(28727477.47192383), array(0.10297977), array(6292.31127131), array(65.33345081), array(31661.27904035), array(434.89690627), array(35.25970204), array(2.77771033), array(0.85326651), array(1.04227034), array(1.81219032), array(1.6769009), array(0.61325307), array(0.582118), array(0.99909106), array(0.9815386), array(-0.31865964), array(0.93969059), array(0.50076016), array(7.56391282), array(0.02533906), array(5.7654485), array(0.9023749), array(0.06989239), array(15.12782565), array(4.34623975), array(9.50935309), array(5.9844749), array(777.00045914), array(0.17837476), array(2.51884358), array(448.57988981), array(10.16850321), array(67.56060606), array(14.15013774), array(926.66299357), array(0.42437623), array(0.03325648), array(0.20425514), array(16.35104213), array(0.00808485), array(301.98155765), array(0.09924442), array(11.29908893), array(68.79849451), array(2.72863029), array(181.53192334), array(0.08629716), array(0.03443239), array(4.72613926), array(1663.04641985), array(0.5443585), array(0.69869146), array(0.66314758), array(0.76465145), array(53.63451954), array(0.02712381), array(98.07619048), array(0.0934059), array(17.69566984), array(78.95238095), array(100.08380952), array(7264.24380952), array(2.20596614), array(0.03926627), array(251.9047619), array(0.2399093), array(0.49387187), array(45.25687702), array(0.02195959), array(6.28930071), array(0.24104683), array(82.87316463), array(0.84096607), array(0.00362679), array(494.62155193), array(0.01599703), array(6.48354549), 1]\n",
      "pancreas_155.dcm\n",
      "[0.2974163642827888, 0.0, 0.0, 131.0503157398187, array(36.09375), array(74.765625), array(118.06323824), array(118.06323824), array(2160.18676758), 38.9765084454484, array(0.17381703), array(4649.28308345), array(2.15225977), 2227.392578125, array(-36.), array(157.), array(33671640.), array(3.3800205), array(100.), array(2.54524404), array(220.), array(57.88063221), array(78.93700265), array(93.), array(-123.), array(343.), array(42.38513317), array(105.66142565), array(-0.64538423), array(24867361.08398438), array(0.11029329), array(4933.28648226), array(83.71491813), array(2015.48894723), array(-101.34859466), array(27.44775117), array(2.39129279), array(0.83815253), array(1.11662851), array(1.92872369), array(1.10459651), array(0.59781104), array(0.55946077), array(0.98835446), array(0.93046821), array(-0.26123475), array(0.89808958), array(0.46577928), array(8.80039674), array(0.02625538), array(5.79387014), array(0.84810553), array(0.07189254), array(17.60079349), array(4.24277941), array(7.45976099), array(5.94281171), array(526.95822281), array(0.1747209), array(2.81997868), array(332.64456233), array(7.97016927), array(83.28448276), array(14.03448276), array(1301.40251989), array(0.30022374), array(0.02708273), array(0.22626788), array(16.99088781), array(0.00781725), array(222.60565262), array(0.10452627), array(8.07807936), array(80.35114031), array(2.72831318), array(240.27284112), array(0.06613926), array(0.02898409), array(4.61350105), array(1205.56380921), array(0.56350116), array(0.7063992), array(0.70421182), array(0.77828238), array(60.92551231), array(0.02369743), array(76.25030826), array(0.09402011), array(8.54251575), array(72.62145499), array(61.93094945), array(6428.98890259), array(0.92168444), array(0.03586391), array(214.2946979), array(0.26423514), array(0.52491051), array(37.69200577), array(0.02034363), array(6.0223113), array(0.2688992), array(48.10098811), array(1.57751399), array(0.0049709), array(50.94750223), array(0.05756216), array(0.3617464), 1]\n",
      "pancreas_157.dcm\n"
     ]
    },
    {
     "name": "stderr",
     "output_type": "stream",
     "text": [
      "GLCM is symmetrical, therefore Sum Average = 2 * Joint Average, only 1 needs to be calculated\n"
     ]
    },
    {
     "name": "stdout",
     "output_type": "stream",
     "text": [
      "[0.4051529199633401, 0.0, 0.0, 171.8222965249954, array(54.140625), array(114.296875), array(163.36490456), array(163.36490456), array(4429.67529297), 69.61430515190875, array(0.1398359), array(9327.81756051), array(2.1057565), 4526.422119140625, array(9.), array(153.), array(76324652.), array(3.09717189), array(62.), array(4.1523462), array(256.), array(44.06078328), array(95.14374286), array(108.), array(-146.), array(402.), array(27.72207656), array(111.59316771), array(-1.0631697), array(56367693.43261719), array(0.1521456), array(3400.70327338), array(111.90557392), array(1396.4814866), array(-87.32923818), array(17.65720829), array(2.7860675), array(0.72670194), array(1.25012808), array(2.01709973), array(1.19936575), array(0.56191902), array(0.51652909), array(0.99067976), array(0.93474168), array(-0.16688352), array(0.7886758), array(0.47445225), array(10.40131857), array(0.03604726), array(5.58013876), array(0.76915713), array(0.08026992), array(20.80263714), array(3.87217765), array(5.11081895), array(5.44582103), array(1203.77010932), array(0.19640563), array(2.13998499), array(932.5004079), array(5.54724418), array(112.11943221), array(11.12628488), array(1329.14406918), array(0.11828587), array(0.0135664), array(0.26719311), array(28.13597968), array(0.00454518), array(632.45563352), array(0.13752935), array(6.07346723), array(110.12011577), array(2.28505159), array(263.75477132), array(0.02805971), array(0.01441286), array(4.23996396), array(2816.74047305), array(0.61098592), array(0.75028553), array(0.49998975), array(0.80917144), array(87.89672787), array(0.01220567), array(202.37154768), array(0.10545677), array(7.98806428), array(103.56696196), array(69.6378322), array(8967.08494007), array(0.58940097), array(0.01771284), array(593.4721209), array(0.30926114), array(0.57231468), array(58.68430504), array(0.01072982), array(5.80426403), array(0.31310165), array(59.43714822), array(2.80812952), array(0.00151077), array(106.93375011), array(0.03442933), array(0.20569498), 1]\n",
      "pancreas_158.dcm\n"
     ]
    },
    {
     "name": "stderr",
     "output_type": "stream",
     "text": [
      "GLCM is symmetrical, therefore Sum Average = 2 * Joint Average, only 1 needs to be calculated\n"
     ]
    },
    {
     "name": "stdout",
     "output_type": "stream",
     "text": [
      "[0.3150016365297015, 0.0, 0.0, 141.74039050540233, array(45.546875), array(91.09375), array(145.74452746), array(145.74452746), array(3325.33365885), 44.6484549715607, array(0.15268236), array(7056.43590604), array(2.12202342), 3409.771728515625, array(-27.), array(111.), array(24201254.), array(3.12400826), array(65.), array(3.46029085), array(219.), array(42.12659921), array(47.9146632), array(55.), array(-157.), array(376.), array(28.5507376), array(72.40007192), array(-0.57300132), array(17873240.56396484), array(0.13954611), array(2945.955464), array(93.14677416), array(706.77225685), array(-37.89835377), array(13.80740409), array(4.16479754), array(0.53476228), array(1.5665758), array(2.25562844), array(1.66392504), array(0.50756955), array(0.44707854), array(0.98454137), array(0.91558564), array(-0.09424016), array(0.64010682), array(0.43155668), array(9.52551243), array(0.02581858), array(5.87259654), array(0.59538855), array(0.05945015), array(19.05102486), array(3.84439015), array(4.49305041), array(5.28799724), array(1059.23305177), array(0.2294202), array(1.66967356), array(644.2843838), array(4.78291511), array(93.86593026), array(8.35196015), array(803.82347845), array(0.1071421), array(0.01526752), array(0.33665423), array(31.48309695), array(0.00623013), array(485.24515295), array(0.13107874), array(5.167817), array(93.44233232), array(1.91468589), array(181.40349017), array(0.0275436), array(0.01584699), array(4.05254315), array(2527.18776292), array(0.68025506), array(0.80187351), array(0.34916636), array(0.8505009), array(79.26607766), array(0.01388556), array(199.85745375), array(0.10873637), array(6.75863348), array(92.35636561), array(23.93525571), array(2411.89281828), array(0.26830697), array(0.01828974), array(651.45484222), array(0.3544368), array(0.61526615), array(57.64794496), array(0.01238167), array(5.48084215), array(0.398094), array(17.62526478), array(3.2774666), array(0.00162251), array(125.63223092), array(0.04592751), array(0.16188192), 1]\n",
      "pancreas_159.dcm\n"
     ]
    },
    {
     "name": "stderr",
     "output_type": "stream",
     "text": [
      "GLCM is symmetrical, therefore Sum Average = 2 * Joint Average, only 1 needs to be calculated\n",
      "GLCM is symmetrical, therefore Sum Average = 2 * Joint Average, only 1 needs to be calculated\n"
     ]
    },
    {
     "name": "stdout",
     "output_type": "stream",
     "text": [
      "[0.2281547778405248, 0.0, 0.0, 195.89497645294958, array(39.53125), array(153.828125), array(159.35556331), array(159.35556331), array(3844.70163981), 44.69437483269755, array(0.14553723), array(8154.89667646), array(2.121074), 3942.24853515625, array(5.), array(150.), array(64500235.), array(3.10737119), array(78.), array(3.13728977), array(248.), array(47.2898158), array(93.02116898), array(111.), array(-96.), array(344.), array(33.1276524), array(109.92370647), array(-0.77678066), array(47635061.2487793), array(0.14882395), array(3430.28336604), array(73.86162723), array(1250.87859882), array(-68.86293489), array(19.6148027), array(1.24479006), array(0.8801269), array(0.78676562), array(1.56699675), array(0.60976358), array(0.67176832), array(0.65138799), array(0.99379921), array(0.94938493), array(-0.33894298), array(0.9307269), array(0.48441959), array(8.322786), array(0.05099094), array(5.08317226), array(0.88968053), array(0.13882128), array(16.64557201), array(3.96448965), array(5.21489819), array(5.79744135), array(809.80104908), array(0.15170495), array(3.3484621), array(794.42225553), array(5.57533027), array(73.41082803), array(19.84076433), array(1609.36886474), array(0.40143549), array(0.02781885), array(0.14870224), array(9.52814103), array(0.00615609), array(419.55285997), array(0.12732248), array(6.08680521), array(69.80916186), array(4.01638084), array(315.38792362), array(0.09181681), array(0.0315166), array(4.72146327), array(1576.97489788), array(0.47249064), array(0.61736605), array(1.32216163), array(0.70894803), array(47.52564182), array(0.02445179), array(94.47131609), array(0.10626695), array(7.22777454), array(61.6951631), array(1357.52305962), array(132941.5151856), array(14.63789687), array(0.04414029), array(179.88863892), array(0.20234943), array(0.44845705), array(26.96634021), array(0.02318329), array(6.27254958), array(0.16654178), array(1321.46904612), array(2.55144896), array(0.00280276), array(40.95019022), array(0.0312975), array(0.22967509), 1]\n",
      "pancreas_160.dcm\n",
      "[0.3718488601420422, 0.0, 0.0, 132.66885964890636, array(39.53125), array(111.71875), array(120.16816119), array(120.16816119), array(2063.99383545), 49.33276423679041, array(0.17344016), array(4520.01688781), array(2.1899372), 2144.677734375, array(-47.), array(155.), array(31995112.), array(3.50928445), array(111.), array(2.429446), array(256.), array(63.11722503), array(72.39807163), array(90.), array(-145.), array(401.), array(47.02672914), array(104.96475861), array(-0.54742989), array(23629202.58789062), array(0.10182426), array(5776.1197759), array(98.17995277), array(2835.71828182), array(-121.51017163), array(33.7022273), array(2.5402517), array(0.85931258), array(1.18133474), array(1.95733974), array(1.11007129), array(0.57719343), array(0.5353596), array(0.99148621), array(0.93809224), array(-0.27057244), array(0.91422607), array(0.47736408), array(9.50731013), array(0.0224442), array(6.01984086), array(0.87631806), array(0.06372237), array(19.01462027), array(4.3906668), array(9.06061975), array(5.92458347), array(563.34022039), array(0.19398768), array(2.17498805), array(295.6976584), array(9.34242832), array(98.11983471), array(11.67768595), array(1221.18870523), array(0.22777542), array(0.02108678), array(0.24789107), array(23.15750533), array(0.00622692), array(210.1549903), array(0.09787144), array(9.30628282), array(96.33736595), array(2.37768565), array(241.34125197), array(0.04777215), array(0.02166193), array(4.61777857), array(1287.85114938), array(0.59732843), array(0.73966942), array(0.53525666), array(0.80032657), array(76.15588198), array(0.01767788), array(78.16300578), array(0.09036186), array(9.61358682), array(91.72023121), array(48.12254335), array(5822.70751445), array(0.64312392), array(0.02486493), array(230.75722543), array(0.26677136), array(0.52772214), array(48.81046679), array(0.0146861), array(6.09612937), array(0.29786501), array(36.85158074), array(1.14824282), array(0.00482675), array(89.02991502), array(0.0520545), array(0.51791374), 1]\n",
      "pancreas_165.dcm\n"
     ]
    },
    {
     "name": "stderr",
     "output_type": "stream",
     "text": [
      "GLCM is symmetrical, therefore Sum Average = 2 * Joint Average, only 1 needs to be calculated\n",
      "GLCM is symmetrical, therefore Sum Average = 2 * Joint Average, only 1 needs to be calculated\n"
     ]
    },
    {
     "name": "stdout",
     "output_type": "stream",
     "text": [
      "[0.4559868599369302, 0.0, 0.0, 59.97170356952216, array(28.359375), array(41.25), array(58.15880234), array(58.15880234), array(930.35736084), 27.3463087957348, array(0.22733065), array(2027.33719657), array(2.17909513), 965.252685546875, array(-21.4), array(172.), array(16510554.), array(3.59479518), array(100.5), array(2.70551929), array(307.), array(60.03707305), array(84.34583015), array(92.), array(-112.), array(419.), array(42.65650255), array(112.39397452), array(-0.28040971), array(12193463.34228516), array(0.09502772), array(5518.18644589), array(86.6500709), array(2696.41142071), array(-60.22187592), array(31.166685), array(3.55761145), array(0.79483215), array(1.44968157), array(2.17323721), array(1.43077208), array(0.52616716), array(0.46885717), array(0.98937644), array(0.92887877), array(-0.2158495), array(0.88270368), array(0.43367073), array(8.93012941), array(0.01626303), array(6.37558535), array(0.81414672), array(0.04112165), array(17.86025882), array(4.47427495), array(8.68107411), array(5.82701518), array(292.6220352), array(0.22388832), array(1.71984061), array(124.20122418), array(8.9500828), array(87.517215), array(9.07651109), array(799.55853099), array(0.23212204), array(0.02955675), array(0.3026283), array(26.85464281), array(0.0106676), array(95.03446066), array(0.09250078), array(9.23530722), array(87.49435708), array(2.00467711), array(175.62136072), array(0.05517099), array(0.03051321), array(4.5288766), array(673.70199792), array(0.65396112), array(0.78596021), array(0.37645939), array(0.83551579), array(73.16844339), array(0.02588184), array(43.40963855), array(0.08716795), array(10.19285173), array(86.98393574), array(15.22289157), array(1367.79317269), array(0.3446957), array(0.03545708), array(147.89558233), array(0.29697908), array(0.5554831), array(49.50272892), array(0.02178649), array(5.83366341), array(0.38102525), array(8.33490186), array(0.65325893), array(0.00895337), array(127.68151465), array(0.05725005), array(1.02082675), 1]\n",
      "pancreas_166.dcm\n",
      "[0.3115992560383538, 0.0, 0.0, 118.8874934402528, array(41.25), array(73.046875), array(107.09136656), array(107.09136656), array(2090.21148682), 37.04525450824744, array(0.17586369), array(4495.39746967), array(2.15069025), 2156.494140625, array(-32.1), array(147.), array(28491642.), array(3.37165334), array(78.25), array(3.24930601), array(256.), array(52.27177238), array(72.32739726), array(85.), array(-159.), array(415.), array(34.56112529), array(98.77961148), array(-0.70119478), array(21041801.03759766), array(0.11855343), array(4526.15924939), array(115.95782777), array(1946.16752994), array(-92.32463511), array(23.5642545), array(3.60796583), array(0.73364638), array(1.43945349), array(2.16319045), array(1.49632627), array(0.52800523), array(0.47324504), array(0.98929311), array(0.929498), array(-0.17287284), array(0.81445185), array(0.45011693), array(10.5341194), array(0.02269538), array(6.08028963), array(0.76707438), array(0.05559041), array(21.0682388), array(4.18585414), array(6.79305508), array(5.62715823), array(640.9739726), array(0.21951163), array(1.76063802), array(346.1760274), array(7.28721606), array(115.66815068), array(9.08767123), array(1102.68321918), array(0.10442333), array(0.01398124), array(0.31050111), array(34.53783869), array(0.00517971), array(257.73836721), array(0.11221303), array(7.69483566), array(114.41670778), array(2.00232659), array(235.51720147), array(0.02616479), array(0.01457024), array(4.34441042), array(1512.52851981), array(0.65683126), array(0.78664384), array(0.37837014), array(0.83734408), array(94.9408516), array(0.01259404), array(103.9853211), array(0.09539938), array(9.0688671), array(110.78256881), array(21.45504587), array(2662.61376147), array(0.21694533), array(0.01678142), array(354.8146789), array(0.32551805), array(0.58733792), array(64.4094971), array(0.01057633), array(5.78505803), array(0.37328767), array(14.27854558), array(1.27236757), array(0.00340536), array(132.59881054), array(0.04623798), array(0.44490742), 1]\n",
      "pancreas_167.dcm\n"
     ]
    },
    {
     "name": "stderr",
     "output_type": "stream",
     "text": [
      "GLCM is symmetrical, therefore Sum Average = 2 * Joint Average, only 1 needs to be calculated\n",
      "GLCM is symmetrical, therefore Sum Average = 2 * Joint Average, only 1 needs to be calculated\n"
     ]
    },
    {
     "name": "stdout",
     "output_type": "stream",
     "text": [
      "[0.601502880672321, 0.0, 0.0, 119.3280299359978, array(64.453125), array(118.59375), array(119.95902316), array(119.95902316), array(3750.04730225), 71.77615375145564, array(0.14766287), array(7905.03815086), array(2.10798358), 3832.208251953125, array(-25.), array(160.), array(47898465.), array(3.51746518), array(102.), array(2.45494629), array(249.), array(57.94249387), array(65.59047986), array(61.), array(-139.), array(388.), array(42.42147043), array(96.07689575), array(0.05086696), array(35374232.57446289), array(0.09772489), array(4928.65884943), array(90.93716923), array(1944.7464539), array(8.53495088), array(28.34853145), array(2.51899679), array(0.83669402), array(1.18634075), array(1.95736681), array(1.08620842), array(0.57417049), array(0.53146196), array(0.99049145), array(0.93429754), array(-0.25904595), array(0.90921399), array(0.47747859), array(9.1912761), array(0.01988117), array(6.08634663), array(0.84257022), array(0.04493523), array(18.38255221), array(4.41885843), array(7.71688206), array(6.00515378), array(994.59992291), array(0.19167468), array(2.26272478), array(507.09443053), array(7.96223173), array(91.51782617), array(11.91231451), array(1066.32530353), array(0.19840245), array(0.01849731), array(0.24801123), array(23.0223693), array(0.00578405), array(363.18028293), array(0.09500494), array(8.27676598), array(92.02124027), array(2.39748274), array(217.40030279), array(0.04222903), array(0.01917082), array(4.65507138), array(2282.35073004), array(0.59497832), array(0.73670264), array(0.54192932), array(0.79883765), array(73.77806637), array(0.01579192), array(134.64875491), array(0.08823641), array(9.6084217), array(92.37549148), array(74.31651376), array(5768.12712975), array(1.20641537), array(0.02287706), array(433.17169069), array(0.28386087), array(0.54471688), array(50.85308398), array(0.01453468), array(6.09514941), array(0.29408364), array(62.75383995), array(2.89820721), array(0.00265934), array(80.46953868), array(0.05292025), array(0.22904793), 1]\n",
      "pancreas_169.dcm\n",
      "[0.41520946040494155, 0.0, 0.0, 58.42854545899171, array(25.78125), array(46.40625), array(57.88514228), array(57.88514228), array(809.54691569), 24.26008483227354, array(0.23835879), array(1762.30457404), array(2.17690234), 840.44189453125, array(72.7), array(174.), array(62612548.), array(2.87664644), array(39.), array(49.63797394), array(1737.), array(58.33936453), array(151.88049209), array(139.), array(-114.), array(1851.), array(17.34060972), array(234.56302716), array(6.46685282), array(46240956.46972656), array(0.21306921), array(31952.12983034), array(159.16883401), array(1081506.88330091), array(10828.24541118), array(135.55374841), array(19.24917096), array(0.73915039), array(1.43227762), array(1.93971692), array(17.15473065), array(0.62072765), array(0.59342605), array(0.9973124), array(0.98323861), array(-0.2521872), array(0.86551408), array(0.49033874), array(11.40554418), array(0.06777951), array(4.9101123), array(0.98273329), array(0.15475766), array(22.81108836), array(3.6298482), array(38.70072984), array(5.25008839), array(183.64323374), array(0.16137367), array(2.9487307), array(242.47275923), array(51.31318241), array(185.51054482), array(15.39015817), array(1984.52108963), array(0.15691207), array(0.0131307), array(0.22329041), array(87.85230298), array(0.00405968), array(136.86290426), array(0.17564488), array(73.00187296), array(213.96068325), array(3.02311106), array(467.01171923), array(0.03461276), array(0.01430696), array(4.34931273), array(426.6081567), array(0.54460249), array(0.6840949), array(0.85747558), array(0.76452634), array(184.57144953), array(0.01163), array(27.17730496), array(0.09637342), array(182.27005684), array(370.21276596), array(250.86524823), array(32686.15248227), array(2.0278048), array(0.01855765), array(94.30496454), array(0.33441477), array(0.59891433), array(316.41180055), array(0.01237818), array(5.85261496), array(0.24780316), array(234.5803028), array(0.21360347), array(0.00698779), array(1550.35524816), array(0.08144256), array(71.68556877), 1]\n",
      "pancreas_170.dcm\n"
     ]
    },
    {
     "name": "stderr",
     "output_type": "stream",
     "text": [
      "GLCM is symmetrical, therefore Sum Average = 2 * Joint Average, only 1 needs to be calculated\n",
      "GLCM is symmetrical, therefore Sum Average = 2 * Joint Average, only 1 needs to be calculated\n"
     ]
    },
    {
     "name": "stdout",
     "output_type": "stream",
     "text": [
      "[0.377438706495925, 0.0, 0.0, 115.95969501775107, array(36.953125), array(92.8125), array(118.48472117), array(118.48472117), array(2122.09116618), 43.767677293161924, array(0.17437891), array(4579.65611613), array(2.15808641), 2192.681884765625, array(48.), array(160.), array(1.53825301e+08), array(3.04946981), array(52.), array(101.19676947), array(2933.), array(57.35865173), array(123.68171101), array(107.), array(-182.), array(3115.), array(22.34854391), array(227.61914516), array(9.34344563), array(1.13603891e+08), array(0.16645371), array(36513.30960489), array(233.2609571), array(4376225.29042211), array(29125.59274072), array(222.26371581), array(23.95570786), array(0.80597068), array(1.67555917), array(2.11526361), array(21.10700147), array(0.56530158), array(0.52328152), array(0.99869687), array(0.98782755), array(-0.19540363), array(0.82633753), array(0.47626641), array(13.55298676), array(0.03866424), array(5.46310462), array(0.91509046), array(0.09416728), array(27.10597352), array(3.84432348), array(61.55485592), array(5.37873493), array(590.03603907), array(0.19873225), array(2.08600469), array(494.2010778), array(58.58958559), array(240.18086898), array(11.17514315), array(1925.07073089), array(0.07307888), array(0.00708549), array(0.26108337), array(114.69331028), array(0.00215364), array(339.90253723), array(0.15304875), array(76.62873107), array(265.03531878), array(2.32501458), array(485.44252222), array(0.01590855), array(0.00726592), array(4.21572009), array(1361.33130901), array(0.61094417), array(0.74814752), array(0.52676871), array(0.80897238), array(232.96020422), array(0.00600681), array(100.63575419), array(0.11244218), array(176.86050997), array(407.08603352), array(63.38435754), array(10827.8849162), array(0.39287904), array(0.00818687), array(275.50726257), array(0.30782934), array(0.57266451), array(330.01081002), array(0.00515008), array(5.96185143), array(0.3014483), array(52.37975594), array(0.26014281), array(0.00282794), array(4181.20838684), array(0.0354178), array(94.18379736), 1]\n",
      "pancreas_172.dcm\n",
      "[0.2198071893656377, 0.0, 0.0, 263.9238752640406, array(55.859375), array(159.84375), array(178.43572131), array(178.43572131), array(3040.81675212), 58.01236522827591, array(0.15672498), array(6476.48559828), array(2.12985067), 3124.700927734375, array(-75.), array(82.), array(15051987.), array(3.19920103), array(90.), array(2.22830362), array(175.), array(48.75793366), array(12.72252423), array(21.), array(-141.), array(316.), array(37.01577494), array(59.64518701), array(-0.3116994), array(11116274.57885742), array(0.12014846), array(3395.68571105), array(54.18537899), array(882.14569739), array(-33.7025592), array(19.84489758), array(2.25192835), array(0.79611635), array(1.1258081), array(1.88893068), array(0.95956296), array(0.58432713), array(0.54417462), array(0.98893647), array(0.92936209), array(-0.22952969), array(0.87008334), array(0.48393922), array(7.05599355), array(0.02538408), array(5.66038998), array(0.82508636), array(0.05602429), array(14.11198711), array(4.08014924), array(5.52420648), array(5.67711246), array(816.72914205), array(0.19303454), array(2.25168064), array(508.34814465), array(5.53408001), array(54.98180099), array(12.27771212), array(640.45095722), array(0.47347013), array(0.03590156), array(0.23339203), array(13.13227682), array(0.00870441), array(368.53129143), array(0.11948313), array(5.46028085), array(55.67088728), array(2.45126348), array(131.02083985), array(0.09255007), array(0.03539781), array(4.34010783), array(1799.90340857), array(0.58102232), array(0.72920113), array(0.55407008), array(0.78971508), array(44.2738359), array(0.02789143), array(138.65964617), array(0.1168152), array(5.55317541), array(56.85593934), array(41.64700927), array(1977.50294861), array(1.85831584), array(0.03641249), array(298.8146588), array(0.25173939), array(0.51276129), array(28.97471515), array(0.02025146), array(5.89848958), array(0.28054833), array(28.94171838), array(3.28454468), array(0.00285048), array(60.01418182), array(0.04527779), array(0.19557778), 1]\n"
     ]
    },
    {
     "name": "stderr",
     "output_type": "stream",
     "text": [
      "GLCM is symmetrical, therefore Sum Average = 2 * Joint Average, only 1 needs to be calculated\n"
     ]
    },
    {
     "name": "stdout",
     "output_type": "stream",
     "text": [
      "pancreas_173.dcm\n",
      "[0.2797283266445982, 0.0, 0.0, 159.17138836140808, array(36.953125), array(101.40625), array(142.94586565), array(142.94586565), array(1991.00290934), 44.52474611603415, array(0.17624349), array(4342.62465085), array(2.18112421), 2064.178466796875, array(-21.), array(163.), array(30304713.), array(3.49300687), array(105.), array(3.74056001), array(512.), array(58.53012196), array(76.07477639), array(80.), array(-107.), array(619.), array(43.37001932), array(104.12719791), array(0.11885163), array(22380800.00610352), array(0.09867288), array(5055.10174302), array(80.53977123), array(2962.52651788), array(6.49763693), array(29.35580114), array(2.8683811), array(0.82182759), array(1.22472706), array(2.00803891), array(1.3358973), array(0.572553), array(0.52906814), array(0.99586727), array(0.95665951), array(-0.25736925), array(0.90681004), array(0.46877551), array(8.59755179), array(0.01955451), array(6.07047391), array(0.8460096), array(0.04079076), array(17.19510357), array(4.39289919), array(8.05604556), array(5.9307172), array(540.42898032), array(0.19335563), array(2.12847373), array(275.79069767), array(8.15509551), array(81.58067979), array(11.54096601), array(881.19785331), array(0.27437476), array(0.02263862), array(0.25414273), array(21.82714823), array(0.00591901), array(202.95432341), array(0.09795314), array(8.30477052), array(83.07767643), array(2.33498525), array(185.05122672), array(0.05359061), array(0.02237733), array(4.58798298), array(1238.88513325), array(0.59558346), array(0.74150268), array(0.50191957), array(0.79909991), array(67.31172904), array(0.01769687), array(80.49940968), array(0.09504063), array(9.21166587), array(87.70247934), array(36.3931523), array(2496.62809917), array(0.85919612), array(0.0228951), array(240.46399055), array(0.28390082), array(0.54873512), array(47.87923701), array(0.01346541), array(5.97237999), array(0.30304114), array(25.50393151), array(0.96167111), array(0.00514451), array(163.15793065), array(0.03278576), array(1.29857387), 1]\n"
     ]
    },
    {
     "name": "stderr",
     "output_type": "stream",
     "text": [
      "GLCM is symmetrical, therefore Sum Average = 2 * Joint Average, only 1 needs to be calculated\n"
     ]
    },
    {
     "name": "stdout",
     "output_type": "stream",
     "text": [
      "pancreas_175.dcm\n",
      "[0.19449694141351712, 0.0, 0.0, 183.19100222732868, array(36.953125), array(75.625), array(153.5975052), array(153.5975052), array(2093.1040446), 35.63008962769223, array(0.17290047), array(4576.65840684), array(2.18654128), 2174.957275390625, array(10.4), array(193.6), array(38316536.), array(3.41076245), array(85.), array(2.7120091), array(263.), array(52.51539642), array(92.87062818), array(88.), array(-86.), array(349.), array(36.43185417), array(114.06449193), array(0.28698143), array(28297734.71679688), array(0.10893927), array(4385.75474001), array(74.42294442), array(1869.1195767), array(48.30815446), array(26.09689479), array(2.20944244), array(0.84385133), array(1.11287198), array(1.87597465), array(0.94787984), array(0.58658487), array(0.54776013), array(0.99050094), array(0.93424932), array(-0.27737169), array(0.9170774), array(0.49066391), array(8.27350525), array(0.02316008), array(5.85956235), array(0.89907852), array(0.05070124), array(16.5470105), array(4.28891531), array(7.07658431), array(5.87287082), array(568.05670628), array(0.19288853), array(2.23151853), array(320.82614601), array(7.13631126), array(75.0910017), array(12.04787776), array(915.24108659), array(0.2737098), array(0.02380861), array(0.24264995), array(17.23103364), array(0.00677341), array(232.53931414), array(0.10768967), array(7.21379557), array(74.62672451), array(2.42518641), array(182.44125426), array(0.05578928), array(0.02426495), array(4.53495603), array(1278.56475333), array(0.58867206), array(0.73336163), array(0.54400892), array(0.79406484), array(58.81886305), array(0.01946951), array(85.75534442), array(0.1018472), array(7.84142072), array(71.44299287), array(49.31710214), array(3706.54275534), array(1.03876494), array(0.0284419), array(236.09738717), array(0.2804007), array(0.54374554), array(37.06029256), array(0.0170803), array(5.91877078), array(0.28590832), array(37.08372357), array(1.95894903), array(0.00466284), array(63.71048545), array(0.04986599), array(0.35907268), 1]\n",
      "pancreas_178.dcm\n"
     ]
    },
    {
     "name": "stderr",
     "output_type": "stream",
     "text": [
      "GLCM is symmetrical, therefore Sum Average = 2 * Joint Average, only 1 needs to be calculated\n",
      "GLCM is symmetrical, therefore Sum Average = 2 * Joint Average, only 1 needs to be calculated\n"
     ]
    },
    {
     "name": "stdout",
     "output_type": "stream",
     "text": [
      "[0.4136551815935231, 0.0, 0.0, 108.79623832585334, array(36.953125), array(88.515625), array(105.96829037), array(105.96829037), array(1999.37286377), 45.00412772137308, array(0.17724237), array(4330.24480767), array(2.16580153), 2069.34814453125, array(42.), array(207.), array(62959420.), array(3.34889053), array(80.), array(4.05463394), array(299.), array(51.61424923), array(134.1862955), array(147.), array(-154.), array(453.), array(34.33317533), array(149.89815719), array(-0.9665401), array(46497130.24902344), array(0.1207481), array(4463.49562946), array(173.97508158), array(2267.50039085), array(-112.85819918), array(23.14347811), array(3.20057756), array(0.75607365), array(1.34605697), array(2.09428374), array(1.34648991), array(0.5457153), array(0.49523474), array(0.99140531), array(0.93681446), array(-0.18822712), array(0.83030036), array(0.45722848), array(12.99958692), array(0.02448788), array(5.96537422), array(0.80118447), array(0.06187457), array(25.99917383), array(4.15955156), array(6.58601392), array(5.66841821), array(581.99214847), array(0.20770598), array(1.9896663), array(338.33618844), array(7.24441054), array(173.22376874), array(10.11277659), array(1860.43290507), array(0.06829078), array(0.00818695), array(0.28824036), array(47.5518673), array(0.00289308), array(245.06479358), array(0.11377519), array(7.69558414), array(170.65253156), array(2.13363989), array(379.02918685), array(0.01622555), array(0.00857298), array(4.38776308), array(1368.07702172), array(0.6321619), array(0.76873662), array(0.42595517), array(0.82171566), array(138.74311596), array(0.00729648), array(92.47379239), array(0.09503987), array(9.43248807), array(162.98355601), array(27.04830421), array(5363.69270298), array(0.158393), array(0.01009584), array(298.28057554), array(0.30655763), array(0.56941116), array(92.06182408), array(0.00628654), array(5.87556616), array(0.34725196), array(18.75532491), array(0.85976466), array(0.00370957), array(154.08102636), array(0.0386582), array(0.67708574), 1]\n",
      "pancreas_179.dcm\n",
      "[0.31361723846928624, 0.0, 0.0, 108.163614165514, array(30.9375), array(72.1875), array(101.08895009), array(101.08895009), array(1724.21061198), 33.92197397744587, array(0.1880272), array(3698.19928778), array(2.14486517), 1775.4150390625, array(50.), array(172.), array(41434880.), array(2.84565241), array(60.), array(3.38059232), array(263.), array(37.49931202), array(122.4093178), array(134.), array(-57.), array(320.), array(25.4217543), array(131.28521238), array(-0.82430276), array(30600710.9375), array(0.17189079), array(2251.7659032), array(74.49224165), array(539.98868399), array(-41.29194414), array(12.38916963), array(1.59533212), array(0.77162807), array(0.91799189), array(1.70480522), array(0.73932122), array(0.63443661), array(0.60669973), array(0.99209156), array(0.94149492), array(-0.2203823), array(0.83456487), array(0.49483253), array(8.4731026), array(0.04966064), array(4.97102777), array(0.80475552), array(0.10907203), array(16.94620521), array(3.66329339), array(3.49612544), array(5.42166505), array(397.16139767), array(0.16520857), array(2.8743705), array(413.22545757), array(3.69628043), array(74.51788686), array(16.05574043), array(1268.171797), array(0.26496805), array(0.01913803), array(0.18826706), array(13.00166036), array(0.00508421), array(252.91085632), array(0.15668575), array(3.94354086), array(72.80029187), array(3.06805742), array(235.84239171), array(0.05442563), array(0.02036462), array(4.24366354), array(841.84179162), array(0.51852545), array(0.67117304), array(0.81921315), array(0.74578453), array(53.29751522), array(0.01603543), array(65.17408124), array(0.12606205), array(5.31866257), array(68.05609284), array(163.29206963), array(13965.10058027), array(2.3679745), array(0.02668903), array(126.34235977), array(0.24437594), array(0.50066075), array(33.20607111), array(0.01685726), array(5.77165437), array(0.21505824), array(141.67046904), array(1.41450887), array(0.00457446), array(52.64123681), array(0.02500414), array(0.39325587), 1]\n",
      "pancreas_180.dcm\n"
     ]
    },
    {
     "name": "stderr",
     "output_type": "stream",
     "text": [
      "GLCM is symmetrical, therefore Sum Average = 2 * Joint Average, only 1 needs to be calculated\n",
      "GLCM is symmetrical, therefore Sum Average = 2 * Joint Average, only 1 needs to be calculated\n"
     ]
    },
    {
     "name": "stdout",
     "output_type": "stream",
     "text": [
      "[0.3414894932136473, 0.0, 0.0, 127.89953821215612, array(37.8125), array(96.25), array(108.61153744), array(108.61153744), array(2001.77307129), 43.67634848632871, array(0.17644374), array(4353.32506239), array(2.17473455), 2075.994873046875, array(-69.), array(163.), array(38930002.), array(3.47072312), array(156.), array(2.0231135), array(270.), array(78.84859969), array(74.41977944), array(110.), array(-123.), array(393.), array(62.26854157), array(117.6824741), array(-0.50133904), array(28750794.93408203), array(0.11480043), array(8310.86113848), array(85.96229214), array(5448.96951614), array(-209.31303233), array(51.67485271), array(1.46151894), array(0.94498635), array(0.85991367), array(1.65098614), array(0.71117667), array(0.6509739), array(0.62750637), array(0.99442508), array(0.95128886), array(-0.38508183), array(0.96251222), array(0.49735432), array(8.56784694), array(0.03627766), array(5.54158552), array(0.96300473), array(0.10548601), array(17.13569388), array(4.31199943), array(13.28409291), array(6.09682819), array(448.61579509), array(0.15959295), array(3.0652816), array(322.70401992), array(13.36205948), array(85.60298826), array(17.24475276), array(1525.98648168), array(0.81980431), array(0.04733541), array(0.17880202), array(14.87328627), array(0.00893702), array(187.66433034), array(0.10211254), array(13.07215218), array(84.53984379), array(3.33773614), array(292.27996879), array(0.15561546), array(0.04727958), array(4.9184426), array(936.90288701), array(0.50646868), array(0.65430452), array(0.97580878), array(0.73615733), array(61.68030201), array(0.03461701), array(46.80633803), array(0.08240552), array(12.36345715), array(81.82746479), array(381.97007042), array(39961.36619718), array(10.89834594), array(0.05145161), array(140.97183099), array(0.24818984), array(0.50581045), array(41.72290446), array(0.02680417), array(6.20815551), array(0.20206332), array(357.47802705), array(1.08819658), array(0.00615851), array(57.21755884), array(0.06379824), array(0.68770155), 1]\n",
      "pancreas_181.dcm\n",
      "[0.46925841298611815, 0.0, 0.0, 79.86752270511155, array(30.9375), array(73.90625), array(74.30985362), array(74.30985362), array(1174.37845866), 37.47850695373341, array(0.20807689), array(2587.01533016), array(2.20288044), 1224.47509765625, array(50.), array(138.), array(18602296.), array(2.45655173), array(39.), array(5.14912937), array(198.), array(27.33764866), array(99.44632087), array(106.5), array(-93.), array(291.), array(17.56528375), array(105.92318039), array(-1.22631133), array(13738267.91992188), array(0.22844533), array(1330.14941047), array(74.59795552), array(218.35797398), array(-20.9085156), array(6.38222342), array(1.50301028), array(0.61652319), array(0.8752845), array(1.67138305), array(0.72912928), array(0.64700969), array(0.62215294), array(0.98999506), array(0.93591159), array(-0.14563759), array(0.69860291), array(0.49394272), array(8.56608476), array(0.07419748), array(4.42746319), array(0.68312852), array(0.17147544), array(17.13216951), array(3.17514084), array(1.97130842), array(5.01189019), array(264.17129071), array(0.1593313), array(3.04293545), array(378.76236429), array(2.18365464), array(74.44390832), array(16.76598311), array(1330.07599517), array(0.23148102), array(0.0172529), array(0.18848514), array(12.73755937), array(0.00501839), array(220.25185782), array(0.20074379), array(2.56129931), array(72.46827006), array(3.19839449), array(246.48456199), array(0.04919071), array(0.01887917), array(3.91099279), array(562.91124901), array(0.51143873), array(0.6619421), array(0.90293638), array(0.74119795), array(52.51424231), array(0.01512726), array(56.46892655), array(0.15951674), array(3.975869), array(66.62711864), array(576.3220339), array(46819.23163842), array(7.16079013), array(0.02645984), array(93.03954802), array(0.26282358), array(0.52196887), array(33.42724352), array(0.01753774), array(5.35828077), array(0.21351025), array(554.38577676), array(1.36150884), array(0.00523015), array(43.60725585), array(0.02067427), array(0.4193539), 1]\n",
      "pancreas_182.dcm\n"
     ]
    },
    {
     "name": "stderr",
     "output_type": "stream",
     "text": [
      "GLCM is symmetrical, therefore Sum Average = 2 * Joint Average, only 1 needs to be calculated\n",
      "GLCM is symmetrical, therefore Sum Average = 2 * Joint Average, only 1 needs to be calculated\n"
     ]
    },
    {
     "name": "stdout",
     "output_type": "stream",
     "text": [
      "[0.45132604558356026, 0.0, 0.0, 161.2314076755997, array(51.5625), array(99.6875), array(140.61486509), array(140.61486509), array(2311.03057861), 72.76793365009931, array(0.16662729), array(5073.11983971), array(2.19517642), 2407.5927734375, array(43.), array(193.), array(59169345.), array(3.22751551), array(87.25), array(2.48244424), array(293.), array(47.85199236), array(121.75552147), array(126.), array(-62.), array(355.), array(35.70230913), array(134.72232862), array(-0.23809082), array(43698063.62915039), array(0.1190743), array(3325.69881921), array(75.53342244), array(884.1477261), array(-23.72075078), array(18.96706681), array(1.80556539), array(0.82610964), array(0.98522793), array(1.76692145), array(0.81251978), array(0.61807093), array(0.58630378), array(0.9921995), array(0.9412933), array(-0.26705899), array(0.89793669), array(0.49160068), array(8.44052871), array(0.02834449), array(5.53584208), array(0.83235841), array(0.05177606), array(16.88105742), array(4.11589919), array(5.19315805), array(5.82041562), array(577.85766871), array(0.17725695), array(2.54352215), array(388.18220859), array(5.40021642), array(75.68220859), array(14.32147239), array(1088.70920245), array(0.27100962), array(0.02130461), array(0.20302837), array(15.02184102), array(0.00547595), array(266.89954432), array(0.11760723), array(5.55158145), array(75.36975637), array(2.79539311), array(212.59266091), array(0.05600768), array(0.02234164), array(4.50163762), array(1242.89973355), array(0.54408999), array(0.69601227), array(0.70179434), array(0.763829), array(57.3277697), array(0.01779149), array(87.06361323), array(0.11076796), array(6.33643468), array(72.88549618), array(62.72264631), array(4635.74300254), array(1.22014397), array(0.02748124), array(183.85496183), array(0.23391217), array(0.48956733), array(35.68886177), array(0.01536233), array(6.07386743), array(0.24110429), array(45.52020408), array(1.6925659), array(0.00431131), array(59.9065092), array(0.03274417), array(0.34999061), 1]\n",
      "pancreas_183.dcm\n",
      "[0.2408652263756986, 0.0, 0.0, 114.33386781727081, array(28.359375), array(61.015625), array(98.861747), array(98.861747), array(1169.08569336), 27.539052954216135, array(0.20402196), array(2630.49876355), array(2.25004786), 1230.38330078125, array(16.), array(154.), array(19908193.), array(3.12502915), array(84.), array(2.94423481), array(260.), array(46.0922626), array(93.67166867), array(103.), array(-94.), array(354.), array(34.00920098), array(109.3146636), array(-0.3904634), array(14702706.01196289), array(0.13676107), array(3175.31416732), array(73.52819882), array(991.90987642), array(-38.59343558), array(17.97163075), array(1.80236633), array(0.81718428), array(0.9518475), array(1.78789878), array(0.87992788), array(0.63567939), array(0.60482093), array(0.99224018), array(0.94346204), array(-0.27011436), array(0.89476331), array(0.46242755), array(8.33580338), array(0.03755513), array(5.31188971), array(0.85214791), array(0.0970843), array(16.67160676), array(3.95485496), array(4.94349927), array(5.71330124), array(268.3757503), array(0.16108989), array(3.25849379), array(227.84393758), array(5.20462819), array(73.6092437), array(16.46338535), array(1205.76170468), array(0.386914), array(0.02273466), array(0.19641872), array(14.00575175), array(0.00534095), array(147.81803868), array(0.13227385), array(5.08091006), array(73.42322132), array(3.1574318), array(231.06113291), array(0.07189753), array(0.02277551), array(4.43858313), array(591.5734218), array(0.52659474), array(0.67076831), array(0.91028264), array(0.75165712), array(54.86383461), array(0.01721825), array(47.2086514), array(0.12012379), array(5.76972334), array(70.34096692), array(102.27480916), array(7528.10941476), array(2.12239364), array(0.02710403), array(94.85750636), array(0.2413677), array(0.49257128), array(34.48867735), array(0.01569136), array(5.69698418), array(0.23589436), array(84.30411333), array(0.85085033), array(0.00792665), array(58.02483213), array(0.03049312), array(0.70089343), 1]\n",
      "pancreas_186.dcm\n"
     ]
    },
    {
     "name": "stderr",
     "output_type": "stream",
     "text": [
      "GLCM is symmetrical, therefore Sum Average = 2 * Joint Average, only 1 needs to be calculated\n",
      "GLCM is symmetrical, therefore Sum Average = 2 * Joint Average, only 1 needs to be calculated\n"
     ]
    },
    {
     "name": "stdout",
     "output_type": "stream",
     "text": [
      "[0.2079948324372537, 0.0, 0.0, 197.37558862999538, array(52.421875), array(58.4375), array(178.52261679), array(178.52261679), array(3212.40081787), 41.053102484300204, array(0.15229412), array(6913.33280915), array(2.15207666), 3314.501953125, array(87.), array(139.), array(61951791.), array(1.87800308), array(24.), array(5.21984693), array(193.), array(16.34661712), array(115.33088235), array(118.), array(10.), array(183.), array(10.24053465), array(117.48989318), array(-0.87188128), array(45752970.64819336), array(0.34294959), array(502.66257569), array(26.94135406), array(43.74065619), array(-4.4170613), array(2.77562603), array(0.61308618), array(0.6378857), array(0.51585995), array(1.20494765), array(0.34078365), array(0.75754797), array(0.75179265), array(0.99072031), array(0.94374491), array(-0.20218023), array(0.71379779), array(0.43764767), array(5.13816281), array(0.15704096), array(3.31991755), array(0.73678342), array(0.30049372), array(10.27632562), array(2.63299102), array(0.84717805), array(4.72600088), array(611.14884135), array(0.13617398), array(3.91009398), array(1539.15775401), array(0.88632864), array(27.1793672), array(29.09313725), array(794.81439394), array(1.22991918), array(0.04651538), array(0.09150683), array(2.52057408), array(0.00496532), array(650.17022283), array(0.29053788), array(1.12318744), array(27.088101), array(7.07905146), array(192.72207147), array(0.30132686), array(0.04974992), array(4.00777528), array(808.5977192), array(0.35481861), array(0.49771613), array(2.83505184), array(0.60271383), array(16.30270241), array(0.03126542), array(80.56544503), array(0.21090431), array(2.10534936), array(27.55235602), array(5419.56544503), array(140400.07068063), array(212.39895167), array(0.06265209), array(66.81151832), array(0.17489926), array(0.41281707), array(11.76682065), array(0.02590516), array(5.52370977), array(0.08511586), array(5281.53370248), array(10.17158088), array(0.00179816), array(11.96447902), array(0.0132278), array(0.05571209), 1]\n",
      "pancreas_187.dcm\n",
      "[0.25176484437714197, 0.0, 0.0, 126.08645979546415, array(36.953125), array(63.59375), array(130.2909998), array(130.2909998), array(1594.72249349), 31.7441379284698, array(0.18897322), array(3493.06997393), array(2.19039362), 1663.897705078125, array(-80.), array(127.), array(17243924.), array(3.36738307), array(101.), array(2.43865411), array(210.), array(60.68407917), array(47.18686196), array(67.), array(-147.), array(357.), array(45.07961597), array(87.48577717), array(-0.68648158), array(12735075.70800781), array(0.11252915), array(5427.16126547), array(78.2646145), array(2564.06638223), array(-139.15391488), array(31.29060931), array(2.53508233), array(0.84993252), array(1.17417968), array(1.96545082), array(1.13200387), array(0.5800072), array(0.53840024), array(0.9891904), array(0.93125822), array(-0.2565181), array(0.90024939), array(0.47372562), array(8.43059752), array(0.02558132), array(5.80847614), array(0.87745531), array(0.0610127), array(16.86119505), array(4.22719304), array(8.45642291), array(5.75307058), array(429.02574345), array(0.19042421), array(2.3153375), array(253.52818464), array(8.75385958), array(79.37949401), array(12.01553484), array(990.89835775), array(0.42552217), array(0.03364576), array(0.25224314), array(19.01738325), array(0.00919893), array(178.17880872), array(0.10749468), array(8.47883155), array(78.29314926), array(2.4429862), array(198.03456932), array(0.08292964), array(0.03354033), array(4.48016801), array(994.14437966), array(0.59798594), array(0.73568575), array(0.58425995), array(0.80095754), array(61.92496471), array(0.02695923), array(62.40150376), array(0.09383685), array(8.71917237), array(74.34135338), array(65.01503759), array(4726.42706767), array(2.98504271), array(0.03689458), array(197.81503759), array(0.29746622), array(0.56165309), array(41.73477868), array(0.02191179), array(5.82943684), array(0.29516201), array(53.53669738), array(1.21294038), array(0.00577938), array(67.37860834), array(0.06205207), array(0.49347605), 1]\n",
      "pancreas_191.dcm\n"
     ]
    },
    {
     "name": "stderr",
     "output_type": "stream",
     "text": [
      "GLCM is symmetrical, therefore Sum Average = 2 * Joint Average, only 1 needs to be calculated\n",
      "GLCM is symmetrical, therefore Sum Average = 2 * Joint Average, only 1 needs to be calculated\n"
     ]
    },
    {
     "name": "stdout",
     "output_type": "stream",
     "text": [
      "[0.32111490919952784, 0.0, 0.0, 151.1321876764454, array(41.25), array(111.71875), array(140.83790307), array(140.83790307), array(3047.52502441), 48.53079872284776, array(0.15575854), array(6526.25124142), array(2.14149226), 3139.471435546875, array(-14.), array(116.), array(23013416.), array(3.15763775), array(69.), array(4.35338031), array(328.), array(42.40375572), array(48.816749), array(46.), array(-126.), array(454.), array(28.64811337), array(73.57749393), array(0.48457412), array(16995992.04101562), array(0.13682147), array(3030.57262937), array(75.69931512), array(1329.77548954), array(38.98189544), array(16.7147166), array(2.2541818), array(0.76213629), array(1.1154336), array(1.89642157), array(0.98762359), array(0.5892006), array(0.55010027), array(0.99447516), array(0.94923376), array(-0.20842166), array(0.84468006), array(0.48174949), array(8.49023868), array(0.03032711), array(5.60300271), array(0.81345351), array(0.06622697), array(16.98047736), array(4.02012993), array(4.7422246), array(5.68769188), array(795.71136203), array(0.18718216), array(2.39870475), array(581.62808751), array(4.93895374), array(76.59233122), array(12.74406022), array(946.93954364), array(0.21919343), array(0.01824805), array(0.2327721), array(18.11190274), array(0.00476015), array(402.86709733), array(0.13108894), array(5.27292923), array(77.20431167), array(2.52889905), array(190.4065603), array(0.0447984), array(0.01861977), array(4.35917997), array(1775.76969885), array(0.57566853), array(0.72294754), array(0.59986323), array(0.78600928), array(60.92456245), array(0.01488065), array(134.36494496), array(0.11377218), array(6.55143498), array(78.83742591), array(56.58171041), array(3741.80016935), array(0.99315115), array(0.02044858), array(312.70533446), array(0.26478013), array(0.5258849), array(41.03342061), array(0.01156234), array(5.93438243), array(0.27781698), array(43.62536807), array(1.69830324), array(0.00265683), array(135.56488918), array(0.0187895), array(0.55105136), 1]\n",
      "pancreas_193.dcm\n",
      "[0.17525713468965431, 0.0, 0.0, 230.30588400202893, array(44.6875), array(158.125), array(162.47870203), array(162.47870203), array(1865.63822428), 40.362749332363485, array(0.18050354), array(4060.22421003), array(2.17631916), 1936.41357421875, array(12.), array(142.), array(23573078.), array(3.04617933), array(70.), array(2.79581759), array(236.), array(40.33705703), array(80.61632342), array(82.5), array(-81.), array(317.), array(29.09255233), array(94.81822104), array(-0.10680503), array(17409316.63818359), array(0.13945544), array(2491.50344064), array(62.72080875), array(430.15561608), array(-7.72360469), array(12.44717011), array(3.29841748), array(0.58055418), array(1.37594655), array(2.10076903), array(1.34756589), array(0.53914261), array(0.48677291), array(0.98407728), array(0.91559898), array(-0.12021621), array(0.6844506), array(0.45333965), array(7.77388175), array(0.02648629), array(5.68255133), array(0.59197271), array(0.05821518), array(15.54776351), array(3.83738542), array(3.9363969), array(5.36666168), array(559.66971777), array(0.21345146), array(1.89750169), array(365.65217391), array(4.05849539), array(64.12395118), array(9.66590389), array(618.17810831), array(0.19717195), array(0.02283269), array(0.29691696), array(19.21793877), array(0.00794241), array(274.63640985), array(0.13488714), array(4.27809035), array(64.17986453), array(2.08497013), array(133.59385084), array(0.04549778), array(0.0235212), array(4.04505468), array(1317.90759026), array(0.64386633), array(0.77660183), array(0.40746468), array(0.82902301), array(53.23865428), array(0.01997338), array(116.90315789), array(0.12305596), array(5.14098172), array(64.86947368), array(20.20842105), array(1293.42210526), array(0.4068772), array(0.02628937), array(292.52421053), array(0.30792022), array(0.56936014), array(37.24646978), array(0.01642495), array(5.47993628), array(0.36231884), array(12.59082105), array(2.59929679), array(0.00313605), array(81.20745165), array(0.04430641), array(0.21897611), 1]\n",
      "pancreas_194.dcm\n"
     ]
    },
    {
     "name": "stderr",
     "output_type": "stream",
     "text": [
      "GLCM is symmetrical, therefore Sum Average = 2 * Joint Average, only 1 needs to be calculated\n",
      "GLCM is symmetrical, therefore Sum Average = 2 * Joint Average, only 1 needs to be calculated\n"
     ]
    },
    {
     "name": "stdout",
     "output_type": "stream",
     "text": [
      "[0.26983935153334, 0.0, 0.0, 193.74198524636702, array(38.671875), array(129.765625), array(176.36251119), array(176.36251119), array(3735.70760091), 52.279211663661606, array(0.14711035), array(7914.4877853), array(2.11860473), 3828.515625, array(57.3), array(157.), array(81502761.), array(2.80279046), array(41.), array(61.98818307), array(295.), array(33.85385893), array(110.08429784), array(116.), array(-840.), array(1135.), array(18.16935078), array(125.38733276), array(-5.3040444), array(60191858.40454102), array(0.19895932), array(3603.43058678), array(1523.99536884), array(23202.47071211), array(-446.04795747), array(19.19138632), array(1.95260017), array(0.81400219), array(0.8808512), array(1.67335032), array(1.16305508), array(0.65533574), array(0.63327515), array(0.99909621), array(0.98169048), array(-0.24852943), array(0.85675199), array(0.49523691), array(38.98314508), array(0.0645585), array(4.80714626), array(0.88564915), array(0.14942773), array(77.96629017), array(3.60296859), array(5.28599662), array(5.42278486), array(822.58487654), array(0.15867764), array(3.02777242), array(1031.40509259), array(5.89343978), array(1521.33140432), array(18.06134259), array(27826.91859568), array(0.01335512), array(0.00106396), array(0.16697531), array(244.56532356), array(0.00022512), array(577.12251107), array(0.17375018), array(7.73485521), array(1511.2233652), array(3.50713084), array(5372.7634664), array(0.00309959), array(0.00121351), array(4.38065563), array(1625.68642829), array(0.48729424), array(0.64033565), array(1.04162635), array(0.72251252), array(1084.85922804), array(0.00096924), array(106.87055016), array(0.11528646), array(18.32213273), array(1458.47141316), array(515.40668824), array(798804.8824164), array(0.33744503), array(0.00185216), array(239.15533981), array(0.2579885), array(0.51984494), array(737.98784126), array(0.00071275), array(6.1166979), array(0.17881944), array(484.13361821), array(0.20563018), array(0.00201973), array(523.74477566), array(0.0056496), array(6.0991162), 1]\n",
      "pancreas_196.dcm\n"
     ]
    },
    {
     "name": "stderr",
     "output_type": "stream",
     "text": [
      "GLCM is symmetrical, therefore Sum Average = 2 * Joint Average, only 1 needs to be calculated\n"
     ]
    },
    {
     "name": "stdout",
     "output_type": "stream",
     "text": [
      "[0.22944555968484728, 0.0, 0.0, 191.28080576782946, array(49.84375), array(134.0625), array(168.25544211), array(168.25544211), array(2900.98927816), 43.8885315363682, array(0.15635011), array(6291.43951537), array(2.16872208), 3002.84423828125, array(31.), array(143.), array(47293923.), array(2.8159069), array(45.), array(5.46864229), array(217.), array(35.77913916), array(95.20437777), array(106.), array(-110.), array(327.), array(19.9785434), array(107.84971029), array(-1.34406318), array(34927762.95776367), array(0.19492273), array(2567.68646387), array(91.24555487), array(1267.38828585), array(-80.74321891), array(14.4247818), array(1.30900945), array(0.83275031), array(0.81234805), array(1.59334164), array(0.63469058), array(0.66373897), array(0.64222714), array(0.99348721), array(0.94782895), array(-0.26882071), array(0.87241287), array(0.49041527), array(9.37902), array(0.06580486), array(4.78488316), array(0.87100909), array(0.16918981), array(18.75803999), array(3.63956442), array(3.93344781), array(5.42243065), array(647.56615839), array(0.15926369), array(3.03317664), array(792.55582882), array(4.16332119), array(91.09394983), array(18.36350221), array(1766.64387605), array(0.26886407), array(0.01759835), array(0.15746133), array(12.84327769), array(0.0035335), array(432.66207894), array(0.16729468), array(4.67294139), array(88.6023682), array(3.57842083), array(335.84023572), array(0.05653503), array(0.01893576), array(4.39229352), array(1243.45452592), array(0.47724484), array(0.6355755), array(1.05476822), array(0.71343824), array(61.49415827), array(0.01427734), array(88.69972452), array(0.12217593), array(6.20944418), array(79.63498623), array(345.61157025), array(34058.03030303), array(3.81250876), array(0.0240005), array(153.01652893), array(0.21076657), array(0.45922549), array(34.72025467), array(0.01180924), array(6.05573514), array(0.17855386), array(314.24539915), array(2.03323628), array(0.00281672), array(47.0485139), array(0.024567), array(0.30443913), 1]\n",
      "pancreas_197.dcm\n",
      "[0.22156320978856808, 0.0, 0.0, 153.55096873793875, array(42.96875), array(86.796875), array(123.23868978), array(123.23868978), array(1429.10817464), 34.021245499721786, array(0.1934476), array(3171.7394542), array(2.21938375), 1496.990966796875, array(-8.), array(138.), array(14572435.), array(3.17910978), array(83.), array(2.4610156), array(207.), array(46.03951782), array(64.05278737), array(65.), array(-115.), array(322.), array(34.32480354), array(84.78893671), array(-0.0408778), array(10762113.25073242), array(0.12266105), array(3086.40421892), array(70.28950954), array(667.66168634), array(-0.59814848), array(16.90396096), array(2.30695907), array(0.75967574), array(1.12213765), array(1.91233952), array(1.02185208), array(0.59021438), array(0.55081668), array(0.98869678), array(0.92981024), array(-0.21428262), array(0.85186616), array(0.47562244), array(8.16333963), array(0.02644409), array(5.6237607), array(0.76985818), array(0.05453937), array(16.32667925), array(4.03890751), array(4.80273001), array(5.6776711), array(366.74938333), array(0.18093211), array(2.50665692), array(248.63394179), array(4.97160898), array(70.18500247), array(12.6477553), array(880.35865812), array(0.248026), array(0.02175288), array(0.25001744), array(16.72319639), array(0.00731959), array(178.71733255), array(0.12134556), array(5.09831426), array(70.06321628), array(2.51093235), array(177.0675502), array(0.05165263), array(0.02269366), array(4.32487567), array(866.53080108), array(0.58490882), array(0.72693636), array(0.59604632), array(0.79212717), array(55.35318248), array(0.01868514), array(70.37683524), array(0.11480724), array(5.81129364), array(67.04893964), array(39.17292007), array(2423.86133768), array(0.83912726), array(0.02802341), array(174.53670473), array(0.28472546), array(0.54840278), array(35.28068442), array(0.01887394), array(5.67993115), array(0.30241737), array(28.23873177), array(1.51221964), array(0.00583524), array(60.68758082), array(0.0412391), array(0.39441567), 1]\n",
      "pancreas_198.dcm\n"
     ]
    },
    {
     "name": "stderr",
     "output_type": "stream",
     "text": [
      "GLCM is symmetrical, therefore Sum Average = 2 * Joint Average, only 1 needs to be calculated\n",
      "GLCM is symmetrical, therefore Sum Average = 2 * Joint Average, only 1 needs to be calculated\n"
     ]
    },
    {
     "name": "stdout",
     "output_type": "stream",
     "text": [
      "[0.22279225129255364, 0.0, 0.0, 152.79017419080026, array(30.9375), array(102.265625), array(136.3132379), array(136.3132379), array(2290.35186768), 34.040466883349815, array(0.17013989), array(4938.70155076), array(2.15630691), 2365.496826171875, array(59.), array(136.), array(35999258.), array(2.37948171), array(36.), array(5.50004295), array(192.), array(24.6535691), array(100.59694037), array(105.), array(-82.), array(274.), array(15.51836934), array(106.0152411), array(-1.17241631), array(26586366.07666016), array(0.24456866), array(1119.48693413), array(74.93128694), array(175.56149895), array(-15.64695884), array(5.47097699), array(1.33251869), array(0.60626891), array(0.84033855), array(1.58869178), array(0.61212278), array(0.65041864), array(0.62808803), array(0.99103416), array(0.93795359), array(-0.14429322), array(0.68052082), array(0.51101418), array(8.59630469), array(0.0804469), array(4.29661768), array(0.68338012), array(0.18160886), array(17.19260939), array(3.10912094), array(1.70087392), array(4.89879345), array(532.93068998), array(0.16638485), array(2.73502255), array(783.35341867), array(1.89107152), array(74.85669685), array(16.71276928), array(1306.58257883), array(0.23227225), array(0.01624276), array(0.17650743), array(12.14811393), array(0.00373411), array(449.71545343), array(0.21342424), array(2.24456578), array(73.38718505), array(3.30263418), array(253.05221027), array(0.04941729), array(0.01733425), array(3.87027042), array(1073.43155725), array(0.50495736), array(0.65766469), array(0.94085119), array(0.73428812), array(52.9008992), array(0.01347484), array(99.67886855), array(0.16585502), array(3.81164504), array(67.51913478), array(1438.18136439), array(116365.54742097), array(17.85260167), array(0.02259257), array(164.3577371), array(0.27347377), array(0.53574644), array(34.97948483), array(0.01309028), array(5.33690821), array(0.18763659), array(1409.77831734), array(2.72137613), array(0.00257799), array(43.47185341), array(0.01757579), array(0.21959981), 1]\n",
      "pancreas_199.dcm\n",
      "[0.3350357337643137, 0.0, 0.0, 136.63335498143687, array(44.6875), array(85.078125), array(128.28025083), array(128.28025083), array(2341.31011963), 45.77705634288564, array(0.16694528), array(5107.58906699), array(2.18150899), 2429.010009765625, array(60.), array(157.), array(47418960.), array(2.64773102), array(49.), array(3.57699521), array(217.), array(30.2470187), array(113.6235938), array(119.), array(-44.), array(261.), array(20.4070762), array(120.07264448), array(-0.65425151), array(35020105.95703125), array(0.19387464), array(1507.11888389), array(52.51809973), array(243.25592542), array(-17.7881474), array(8.02353559), array(1.56727499), array(0.67277412), array(0.91956776), array(1.67946519), array(0.70300601), array(0.63085604), array(0.60335893), array(0.9875938), array(0.9273128), array(-0.17616576), array(0.76169621), array(0.50493267), array(7.13466793), array(0.05579922), array(4.77152146), array(0.72292045), array(0.12389939), array(14.26933586), array(3.443358), array(2.39770264), array(5.17279737), array(582.75129219), array(0.17718191), array(2.54555586), array(637.65369413), array(2.47819274), array(52.46640316), array(15.03830952), array(820.58741259), array(0.33202746), array(0.02647557), array(0.18864766), array(9.40111326), array(0.00678982), array(397.11616025), array(0.17671389), array(2.7840636), array(51.74478036), array(2.99130757), array(159.99589946), array(0.07246653), array(0.02824573), array(4.02145224), array(1203.70670697), array(0.53114354), array(0.68318638), array(0.80357971), array(0.75401571), array(38.60175979), array(0.02247265), array(96.98843931), array(0.1401567), array(4.11521225), array(49.75578035), array(189.4783237), array(10926.00289017), array(3.55221689), array(0.03664456), array(169.48843931), array(0.24492549), array(0.50268852), array(24.14786559), array(0.02203779), array(5.65353253), array(0.2103983), array(166.8883587), array(3.86908567), array(0.00274837), array(34.74089385), array(0.03004082), array(0.13668193), 1]\n",
      "pancreas_200.dcm\n"
     ]
    },
    {
     "name": "stderr",
     "output_type": "stream",
     "text": [
      "GLCM is symmetrical, therefore Sum Average = 2 * Joint Average, only 1 needs to be calculated\n",
      "GLCM is symmetrical, therefore Sum Average = 2 * Joint Average, only 1 needs to be calculated\n"
     ]
    },
    {
     "name": "stdout",
     "output_type": "stream",
     "text": [
      "[0.3606231000793547, 0.0, 0.0, 122.6860572077634, array(36.09375), array(77.34375), array(113.63589422), array(113.63589422), array(1857.08363851), 44.243426286776696, array(0.18200922), array(4014.31737802), array(2.16162444), 1920.166015625, array(-60.), array(83.), array(8694902.), array(3.14185379), array(77.), array(2.76989725), array(188.), array(44.25640237), array(18.62923077), array(27.), array(-152.), array(340.), array(31.67588994), array(57.82899858), array(-0.44362975), array(6421405.89599609), array(0.13140118), array(2997.14483787), array(72.72150836), array(753.71949339), array(-35.79718025), array(16.13138892), array(2.95093124), array(0.69077013), array(1.3182744), array(2.04354414), array(1.18849967), array(0.54372262), array(0.49361696), array(0.98740197), array(0.92320751), array(-0.15739154), array(0.78170343), array(0.4704656), array(8.33218963), array(0.02561421), array(5.75427423), array(0.71772666), array(0.05663275), array(16.66437927), array(3.97263679), array(4.77058004), array(5.41254365), array(573.37461538), array(0.2205287), array(1.73481598), array(341.64307692), array(4.89232899), array(73.17076923), array(9.48461538), array(723.43076923), array(0.17896212), array(0.02153354), array(0.2844057), array(20.07961987), array(0.00758303), array(255.64138583), array(0.12656354), array(5.0755173), array(72.44617561), array(2.04262061), array(151.90714266), array(0.04173568), array(0.02227305), array(4.13714856), array(1290.94446472), array(0.63800044), array(0.77701923), array(0.38095306), array(0.8264587), array(59.43191129), array(0.01890451), array(102.63956044), array(0.11279073), array(5.96459848), array(69.71868132), array(21.77802198), array(1747.73626374), array(0.3689916), array(0.02595605), array(262.03736264), array(0.28795315), array(0.54591865), array(37.93358527), array(0.0163779), array(5.66431904), array(0.35), array(13.61475667), array(1.8073666), array(0.00377729), array(83.65319005), array(0.04119184), array(0.30838536), 1]\n",
      "pancreas_201.dcm\n",
      "[0.33677321352170536, 0.0, 0.0, 104.97333673742334, array(33.515625), array(96.25), array(104.94935767), array(104.94935767), array(1704.88586426), 35.35220794715815, array(0.1853913), array(3722.70243246), array(2.18354936), 1771.722412109375, array(4.), array(144.), array(17400715.), array(3.04107623), array(84.), array(2.71297253), array(241.), array(45.61173346), array(65.30846186), array(54.), array(-32.), array(273.), array(34.29124645), array(85.16642609), array(0.6581581), array(12850869.8425293), array(0.14083105), array(2988.12494299), array(29.88606984), array(855.06499863), array(51.31464784), array(17.71815505), array(1.39427318), array(0.85369192), array(0.84512262), array(1.62126572), array(0.65499954), array(0.65527326), array(0.63117205), array(0.99064225), array(0.93787661), array(-0.30669682), array(0.9106896), array(0.48564939), array(5.07981029), array(0.04339915), array(5.10902778), array(0.8651224), array(0.116626), array(10.15962058), array(3.91243824), array(4.77810706), array(5.69873079), array(379.10337641), array(0.15802558), array(3.15739346), array(337.85368904), array(4.87766526), array(31.34931221), array(17.81617341), array(453.48103376), array(1.34034923), array(0.06837253), array(0.16823488), array(6.30552815), array(0.01092196), array(200.16811895), array(0.1290175), array(5.04109043), array(33.7354187), array(3.67466633), array(100.41947672), array(0.27101842), array(0.0658101), array(4.50329638), array(781.90897477), array(0.49554521), array(0.64641517), array(1.15670605), array(0.72601817), array(25.70669242), array(0.04671409), array(55.45689655), array(0.11951917), array(5.45785802), array(39.84698276), array(304.32543103), array(4199.57974138), array(29.4954778), array(0.06347186), array(101.2112069), array(0.2181276), array(0.46434587), array(19.01707359), array(0.0301853), array(5.87544408), array(0.19341392), array(277.59385683), array(3.75224125), array(0.00584256), array(33.50009861), array(0.04105609), array(0.33549715), 1]\n",
      "pancreas_203.dcm\n"
     ]
    },
    {
     "name": "stderr",
     "output_type": "stream",
     "text": [
      "GLCM is symmetrical, therefore Sum Average = 2 * Joint Average, only 1 needs to be calculated\n",
      "GLCM is symmetrical, therefore Sum Average = 2 * Joint Average, only 1 needs to be calculated\n"
     ]
    },
    {
     "name": "stdout",
     "output_type": "stream",
     "text": [
      "[0.2725514285919438, 0.0, 0.0, 120.0975026921979, array(38.671875), array(87.65625), array(109.81185081), array(109.81185081), array(2232.13144938), 32.73274592908336, array(0.17518481), array(4714.84613527), array(2.11226186), 2284.99755859375, array(60.), array(146.), array(37981081.), array(2.60515589), array(42.), array(5.05390823), array(234.), array(28.00189244), array(103.96670976), array(107.), array(-78.), array(312.), array(17.48135667), array(110.79585314), array(-0.68304603), array(28049992.68188477), array(0.20982539), array(1466.64433455), array(77.18251946), array(258.22921125), array(-12.45331824), array(6.78973128), array(2.22128425), array(0.50575533), array(1.11453697), array(1.87470007), array(0.95951971), array(0.585214), array(0.54695117), array(0.98911016), array(0.93001472), array(-0.09662581), array(0.60276988), array(0.49765522), array(8.72010479), array(0.0545761), array(4.8724035), array(0.56788662), array(0.11843986), array(17.44020958), array(3.31340501), array(2.25275388), array(4.95986346), array(595.74919198), array(0.19254984), array(2.16751358), array(649.19974144), array(2.42601336), array(77.7239819), array(12.13057531), array(959.41628959), array(0.16917952), array(0.01596662), array(0.23584752), array(17.79044844), array(0.00480542), array(430.23565798), array(0.19032304), array(2.77084861), array(77.28633859), array(2.46546222), array(193.19446253), array(0.03694073), array(0.01667494), array(3.82186238), array(1329.80767003), array(0.58611365), array(0.73044602), array(0.57607143), array(0.79266917), array(60.98583268), array(0.01369624), array(119.64268585), array(0.14345646), array(4.4019245), array(75.07074341), array(80.58752998), array(6470.31654676), array(1.04079822), array(0.02045327), array(238.73860911), array(0.28625733), array(0.54888867), array(40.57913583), array(0.01289253), array(5.48035499), array(0.26955398), array(66.82467551), array(2.51226833), array(0.00238511), array(71.04532672), array(0.0214333), array(0.2258307), 1]\n",
      "pancreas_204.dcm\n",
      "[0.4506985971436823, 0.0, 0.0, 100.50200029021859, array(34.375), array(70.46875), array(90.83801071), array(90.83801071), array(1085.13997396), 45.29611054093547, array(0.20541741), array(2486.0167105), array(2.29096409), 1151.361083984375, array(31.), array(200.), array(2.14527669e+08), array(3.63456998), array(91.), array(55.70037334), array(3331.), array(110.9372976), array(168.38806928), array(126.), array(-80.), array(3411.), array(36.89923343), array(370.9527537), array(6.98000306), array(1.58434131e+08), array(0.10873198), array(109251.40360365), array(274.34887432), array(20846347.77705584), array(108520.65015555), array(643.91833047), array(57.93898925), array(0.83521986), array(2.12977663), array(2.14964476), array(53.2943524), array(0.59090154), array(0.55633541), array(0.99745432), array(0.98673493), array(-0.34053283), array(0.9523947), array(0.46764302), array(11.30708618), array(0.02632761), array(5.95601855), array(0.96532599), array(0.06242243), array(22.61417236), array(4.4838797), array(175.46432993), array(6.05147695), array(276.49326491), array(0.17735296), array(2.87897334), array(169.51314945), array(174.77604639), array(301.50096216), array(13.26812059), array(1428.12315587), array(0.20483925), array(0.01613213), array(0.25844363), array(232.92088316), array(0.0047013), array(116.02631383), array(0.10298495), array(238.51355702), array(383.05868799), array(2.64308904), array(531.3356265), array(0.04213381), array(0.01650489), array(4.85157641), array(668.59450933), array(0.59039665), array(0.7220975), array(0.70028016), array(0.79542964), array(363.74738037), array(0.01344133), array(36.66311301), array(0.07817295), array(537.02820955), array(787.19402985), array(42.42430704), array(4199.24520256), array(0.72210836), array(0.01829459), array(149.40511727), array(0.31856102), array(0.58338619), array(749.53239235), array(0.0111681), array(6.36467531), array(0.30083387), array(31.37470733), array(0.11066371), array(0.00958683), array(4989.23395039), array(0.11887769), array(260.6348173), 1]\n",
      "pancreas_207.dcm\n"
     ]
    },
    {
     "name": "stderr",
     "output_type": "stream",
     "text": [
      "GLCM is symmetrical, therefore Sum Average = 2 * Joint Average, only 1 needs to be calculated\n",
      "GLCM is symmetrical, therefore Sum Average = 2 * Joint Average, only 1 needs to be calculated\n"
     ]
    },
    {
     "name": "stdout",
     "output_type": "stream",
     "text": [
      "[0.2552966399341405, 0.0, 0.0, 185.32763246923233, array(49.84375), array(102.265625), array(158.984375), array(158.984375), array(3719.02923584), 47.31352185634433, array(0.14706098), array(7893.56281339), array(2.12247937), 3816.69921875, array(-20.), array(175.), array(69655796.), array(3.61823761), array(103.), array(2.80672176), array(321.), array(61.01392126), array(87.86726006), array(98.), array(-176.), array(497.), array(42.83107952), array(116.09603223), array(-0.30299418), array(51442573.95019531), array(0.09570146), array(5757.6333089), array(153.58656917), array(3196.53982444), array(-65.74170166), array(33.12145838), array(2.95122191), array(0.83621202), array(1.29295609), array(2.04631006), array(1.24131362), array(0.55403433), array(0.50613717), array(0.99346178), array(0.94431932), array(-0.25051671), array(0.90689542), array(0.46663289), array(12.08485372), array(0.01837116), array(6.29052354), array(0.84319686), array(0.04297305), array(24.16970745), array(4.516565), array(9.01817007), array(6.01515858), array(1056.15518576), array(0.20436439), array(1.96147883), array(494.58513932), array(9.29523251), array(153.98335913), array(10.54837461), array(1697.0619195), array(0.08855968), array(0.00937066), array(0.27102623), array(40.72266873), array(0.00291024), array(364.50616147), array(0.09294739), array(9.55596668), array(152.34224342), array(2.20718843), array(346.33441009), array(0.01974434), array(0.0096445), array(4.67658664), array(2429.99759018), array(0.61708731), array(0.75870743), array(0.45359311), array(0.81272723), array(122.79005096), array(0.00802366), array(144.42516398), array(0.08612115), array(10.5636204), array(148.82587955), array(29.68157424), array(4969.23315444), array(0.23255623), array(0.01065142), array(490.78771616), array(0.29265815), array(0.5568531), array(83.24049561), array(0.006409), array(6.15083032), array(0.3244969), array(20.18473941), array(1.42470932), array(0.00258432), array(141.47526001), array(0.04105065), array(0.40473104), 1]\n",
      "pancreas_209.dcm\n",
      "[0.43683710148218424, 0.0, 0.0, 97.29600385733531, array(38.671875), array(81.640625), array(93.82549044), array(93.82549044), array(1938.19834391), 42.50250431083777, array(0.18000866), array(4176.27921902), array(2.15472231), 2002.142333984375, array(-32.), array(98.), array(10408424.), array(3.12479388), array(64.), array(4.00437295), array(258.), array(41.38827578), array(29.7314644), array(24.), array(-164.), array(422.), array(27.0391681), array(61.96232837), array(0.61104881), array(7686885.40039062), array(0.14140064), array(2955.37016086), array(79.39026934), array(1133.14266902), array(52.8325411), array(15.88193003), array(3.22641248), array(0.66215994), array(1.38137453), array(2.10372643), array(1.29910989), array(0.53325641), array(0.47960184), array(0.99035097), array(0.93184171), array(-0.14533199), array(0.76537315), array(0.4572724), array(8.73075278), array(0.02727216), array(5.76515436), array(0.80961901), array(0.06640914), array(17.46150555), array(3.91312092), array(4.77708563), array(5.35364817), array(596.40464773), array(0.21999434), array(1.68148727), array(383.33714496), array(4.84991335), array(80.71523423), array(9.09811878), array(710.72851346), array(0.14342573), array(0.01678804), array(0.30361272), array(24.95297403), array(0.00566152), array(286.48750369), array(0.13469134), array(5.0984294), array(81.22431753), array(2.00945426), array(159.93332546), array(0.03296575), array(0.01707966), array(4.10110705), array(1388.83125361), array(0.65185739), array(0.78458134), array(0.37965837), array(0.83467914), array(68.01371518), array(0.01447952), array(118.34934935), array(0.11846782), array(6.06199192), array(82.67267267), array(23.8968969), array(1729.97097097), array(0.37737349), array(0.01834735), array(313.71871872), array(0.31403275), array(0.57704821), array(47.75018264), array(0.01134381), array(5.53987377), array(0.36849871), array(16.53265478), array(1.79905697), array(0.00314543), array(122.22415147), array(0.03457387), array(0.38766399), 1]\n",
      "pancreas_210.dcm\n"
     ]
    },
    {
     "name": "stderr",
     "output_type": "stream",
     "text": [
      "GLCM is symmetrical, therefore Sum Average = 2 * Joint Average, only 1 needs to be calculated\n",
      "GLCM is symmetrical, therefore Sum Average = 2 * Joint Average, only 1 needs to be calculated\n"
     ]
    },
    {
     "name": "stdout",
     "output_type": "stream",
     "text": [
      "[0.3779336959973454, 0.0, 0.0, 122.79883857694183, array(44.6875), array(85.078125), array(101.97635032), array(101.97635032), array(1595.15329997), 46.40981892756503, array(0.18899011), array(3493.38666823), array(2.19000059), 1659.466552734375, array(-16.), array(145.), array(22461698.), array(3.2633642), array(75.), array(3.28068734), array(258.), array(48.92137209), array(77.99465955), array(91.), array(-119.), array(377.), array(32.69040674), array(99.98152477), array(-0.71407652), array(16588534.28955078), array(0.12871853), array(3913.13837824), array(79.94269502), array(1536.92761079), array(-83.83756803), array(21.0491543), array(3.34545626), array(0.72545817), array(1.38155368), array(2.11991851), array(1.40663042), array(0.53758694), array(0.48502303), array(0.98752658), array(0.92462078), array(-0.17363988), array(0.81154921), array(0.45494388), array(8.69002444), array(0.02640907), array(5.88373842), array(0.77495419), array(0.06702033), array(17.38004887), array(4.04420173), array(6.09865264), array(5.52533888), array(477.43346684), array(0.21247595), array(1.81814689), array(289.2305296), array(6.37108589), array(80.9047619), array(9.4094348), array(772.91989319), array(0.21311785), array(0.02689132), array(0.30840406), array(24.16429484), array(0.01063272), array(215.17182828), array(0.12272326), array(6.53973237), array(80.54457532), array(2.04168339), array(166.44566728), array(0.05145319), array(0.02809255), array(4.24143284), array(1139.30662794), array(0.6483145), array(0.78059635), array(0.39450201), array(0.83241889), array(66.84907138), array(0.02421823), array(86.41982864), array(0.10577702), array(7.5274409), array(78.07099143), array(26.5128519), array(2282.59363525), array(0.54658721), array(0.0343356), array(279.66340269), array(0.34230527), array(0.60541044), array(46.54059286), array(0.02349409), array(5.57685004), array(0.36359591), array(18.94866882), array(1.40376034), array(0.00421497), array(101.65694731), array(0.05158747), array(0.40509315), 1]\n",
      "pancreas_211.dcm\n",
      "[0.34500212027367416, 0.0, 0.0, 94.2636035099445, array(36.953125), array(56.71875), array(96.77035679), array(96.77035679), array(1257.52410889), 32.52114307556781, array(0.20184294), array(2791.35302303), array(2.21972128), 1315.313720703125, array(10.), array(146.), array(27044206.), array(3.14990419), array(61.), array(145.391094), array(1645.), array(44.96869287), array(89.18135879), array(94.), array(-150.), array(1795.), array(27.00272151), array(123.22679638), array(8.46842888), array(19972832.80029297), array(0.14440121), array(7231.5285913), array(109.87296398), array(138175.14494754), array(1392.92580355), array(30.91048926), array(7.3333639), array(0.61940686), array(1.52645928), array(2.19558242), array(4.95497588), array(0.53150099), array(0.47684684), array(0.99875905), array(0.97992993), array(-0.13443873), array(0.73263281), array(0.43917824), array(10.19697181), array(0.03006062), array(5.71552757), array(0.96655567), array(0.0747292), array(20.39394362), array(3.83744754), array(9.56096329), array(5.29735596), array(394.24199888), array(0.22135991), array(1.83147019), array(257.17855138), array(11.67808999), array(113.27905671), array(9.30544638), array(1023.28130264), array(0.10638101), array(0.01524922), array(0.30102645), array(40.12140793), array(0.00588796), array(184.51128413), array(0.13225318), array(14.11080614), array(114.81310656), array(2.02763194), array(226.49002564), array(0.0278966), array(0.01621872), array(4.15854082), array(915.59287142), array(0.65425887), array(0.78326783), array(0.38731195), array(0.83566578), array(97.2881347), array(0.01418801), array(67.93333333), array(0.10292929), array(25.86056933), array(125.73939394), array(22.09242424), array(2485.64242424), array(0.23042587), array(0.01980503), array(204.96666667), array(0.31055556), array(0.56472577), array(83.08446523), array(0.01228978), array(5.64166348), array(0.37057833), array(14.81060376), array(0.57091695), array(0.0046618), array(703.38221751), array(0.04227192), array(13.11171832), 1]\n",
      "pancreas_212.dcm\n"
     ]
    },
    {
     "name": "stderr",
     "output_type": "stream",
     "text": [
      "GLCM is symmetrical, therefore Sum Average = 2 * Joint Average, only 1 needs to be calculated\n",
      "GLCM is symmetrical, therefore Sum Average = 2 * Joint Average, only 1 needs to be calculated\n"
     ]
    },
    {
     "name": "stdout",
     "output_type": "stream",
     "text": [
      "[0.3976722611251604, 0.0, 0.0, 104.33060377572768, array(44.6875), array(91.953125), array(98.80944117), array(98.80944117), array(2484.95330811), 41.48938710804683, array(0.16905771), array(5248.00985952), array(2.11191488), 2542.742919921875, array(-28.), array(115.), array(22813710.), array(3.01725296), array(64.), array(3.61182324), array(196.), array(43.29864119), array(59.20882951), array(73.), array(-138.), array(334.), array(28.37810153), array(81.40094504), array(-0.97782934), array(16848504.08935547), array(0.15639515), array(3120.42836235), array(84.05181558), array(1234.26802078), array(-84.76194145), array(17.81297794), array(1.63644042), array(0.83165602), array(0.94109039), array(1.71426308), array(0.73745304), array(0.62625944), array(0.59697019), array(0.99188438), array(0.94003227), array(-0.25505243), array(0.87908174), array(0.49880995), array(8.94469035), array(0.04314458), array(5.20273088), array(0.87365882), array(0.10973), array(17.88938071), array(3.85484137), array(4.86235459), array(5.59093517), array(599.47284345), array(0.17411352), array(2.59160137), array(538.46848678), array(5.04755299), array(84.04211444), array(15.28986349), array(1342.15364508), array(0.26901845), array(0.01992981), array(0.18579965), array(15.13495686), array(0.00397038), array(335.92835004), array(0.14359021), array(5.30248462), array(82.78335144), array(2.96642454), array(255.78453572), array(0.05511186), array(0.02069686), array(4.38590594), array(1233.56545366), array(0.52443361), array(0.67956724), array(0.77751707), array(0.74978254), array(61.40228348), array(0.01588667), array(81.77637131), array(0.11501599), array(6.28659937), array(79.43600563), array(361.45288326), array(35491.13220816), array(4.07868726), array(0.02346552), array(172.82278481), array(0.24307002), array(0.49904651), array(40.47607797), array(0.01083635), array(5.87084288), array(0.20650595), array(338.00331539), array(1.96141495), array(0.0032604), array(55.2308185), array(0.03607616), array(0.29038438), 1]\n",
      "pancreas_213.dcm\n",
      "[0.4777549989286859, 0.0, 0.0, 100.57355425146783, array(36.953125), array(99.6875), array(101.84590866), array(101.84590866), array(1552.38037109), 48.04951830366415, array(0.19023843), array(3408.14424697), array(2.19543117), 1617.37060546875, array(-79.), array(131.), array(14085567.), array(3.62886611), array(110.), array(2.40093152), array(239.), array(62.53567899), array(24.42237443), array(23.), array(-164.), array(403.), array(46.02599601), array(80.19829022), array(0.11413176), array(10402548.87084961), array(0.0894189), array(5835.31338066), array(79.5501818), array(2546.5629048), array(15.12468212), array(32.19277014), array(4.14637495), array(0.77121384), array(1.55083852), array(2.26570417), array(1.70459019), array(0.5137015), array(0.45418207), array(0.98629947), array(0.92078101), array(-0.19575307), array(0.86296489), array(0.42690709), array(8.51695553), array(0.01416794), array(6.50889107), array(0.77909282), array(0.02859918), array(17.03391106), array(4.50631849), array(9.08478627), array(5.85554166), array(506.8803653), array(0.23145222), array(1.63670983), array(195.82739726), array(9.43629803), array(81.7173516), array(8.49680365), array(667.56210046), array(0.2028159), array(0.02546399), array(0.32067808), array(27.77415507), array(0.00931425), array(154.9874355), array(0.08872976), array(9.56606402), array(82.56192144), array(1.90553482), array(153.39924407), array(0.04727774), array(0.02589646), array(4.52337605), array(1163.75070762), array(0.66442177), array(0.79760274), array(0.32592775), array(0.84163846), array(70.09910814), array(0.0221132), array(76.46998867), array(0.08660248), array(10.07612522), array(86.06002265), array(14.11098528), array(1109.61155153), array(0.33335135), array(0.02790853), array(274.7599094), array(0.31116638), array(0.56909887), array(50.60783634), array(0.01778945), array(5.84826568), array(0.40319635), array(7.95968649), array(1.47835199), array(0.0053248), array(115.29600183), array(0.07076526), array(0.51275185), 1]\n",
      "pancreas_214.dcm\n"
     ]
    },
    {
     "name": "stderr",
     "output_type": "stream",
     "text": [
      "GLCM is symmetrical, therefore Sum Average = 2 * Joint Average, only 1 needs to be calculated\n"
     ]
    },
    {
     "name": "stdout",
     "output_type": "stream",
     "text": [
      "[0.28712991727026704, 0.0, 0.0, 145.08200547102956, array(43.828125), array(123.75), array(134.32941178), array(134.32941178), array(2570.80688477), 41.65738422830115, array(0.16470223), array(5510.16100742), array(2.14335859), 2649.8291015625, array(-99.), array(120.), array(30533693.), array(3.41549), array(163.), array(1.88281107), array(233.), array(76.12438604), array(30.82469342), array(64.), array(-158.), array(391.), array(62.14467277), array(92.24937876), array(-0.42253171), array(22549907.55004883), array(0.11474797), array(7559.78615724), array(88.80847856), array(3976.33879896), array(-157.04533368), array(46.03447793), array(2.21295295), array(0.90820929), array(1.07663172), array(1.88238585), array(1.03755277), array(0.60100903), array(0.56524661), array(0.99259709), array(0.94328198), array(-0.31060806), array(0.93538082), array(0.48536893), array(8.82338284), array(0.03039376), array(5.7176792), array(0.94511022), array(0.07017831), array(17.64676568), array(4.19682765), array(12.06185772), array(5.87921412), array(627.35284281), array(0.1748475), array(2.57969026), array(411.71571906), array(12.17090755), array(88.787068), array(13.66109253), array(1215.37569677), array(0.39979342), array(0.03044415), array(0.2309954), array(20.58705597), array(0.00792423), array(268.20370213), array(0.10542429), array(12.04315959), array(88.7820314), array(2.66074381), array(236.07032752), array(0.07961572), array(0.03097274), array(4.67080671), array(1432.91807832), array(0.56103381), array(0.70889075), array(0.65388235), array(0.77592636), array(68.86091318), array(0.02444607), array(81.76483051), array(0.08661529), array(12.27324112), array(88.40995763), array(141.2690678), array(10495.89194915), array(4.97276024), array(0.03499383), array(290.04449153), array(0.30725052), array(0.57063193), array(50.89617697), array(0.02127428), array(5.96586755), array(0.26309922), array(126.8226264), array(1.54724382), array(0.00370553), array(90.5281407), array(0.06830559), array(0.44982666), 1]\n",
      "pancreas_215.dcm\n"
     ]
    },
    {
     "name": "stderr",
     "output_type": "stream",
     "text": [
      "GLCM is symmetrical, therefore Sum Average = 2 * Joint Average, only 1 needs to be calculated\n"
     ]
    },
    {
     "name": "stdout",
     "output_type": "stream",
     "text": [
      "[0.2618167685938914, 0.0, 0.0, 152.7504446153745, array(42.96875), array(135.78125), array(143.54649743), array(143.54649743), array(3540.12145996), 39.992627810477536, array(0.15024436), array(7476.49520649), array(2.11193183), 3625.421142578125, array(-25.), array(177.), array(70797847.), array(3.58875147), array(99.), array(2.91444486), array(299.), array(61.44446295), array(92.04501935), array(108.), array(-162.), array(461.), array(42.28002318), array(120.09184287), array(-0.49552718), array(52286007.61108398), array(0.10187312), array(5949.76513561), array(134.84542738), array(3359.17343593), array(-106.12635807), array(32.84463974), array(3.60607772), array(0.80136427), array(1.42873077), array(2.15304514), array(1.49388681), array(0.53311535), array(0.47921754), array(0.99036274), array(0.93335355), array(-0.22240709), array(0.87774586), array(0.44604714), array(11.29314252), array(0.01979757), array(6.30796412), array(0.82119185), array(0.0518683), array(22.58628504), array(4.4266815), array(9.11267936), array(5.89569474), array(1052.63006722), array(0.21442861), array(1.87923246), array(500.09513139), array(9.62034885), array(135.14341006), array(9.71216134), array(1377.59930739), array(0.10650292), array(0.01227126), array(0.2918431), array(37.68875001), array(0.00423365), array(371.56313409), array(0.09768282), array(9.80503486), array(133.46283979), array(2.10522721), array(290.0222084), array(0.02468321), array(0.01264439), array(4.58447941), array(2459.61971176), array(0.64220722), array(0.77515787), array(0.41754246), array(0.82735883), array(109.32336946), array(0.01072129), array(150.20319635), array(0.08573242), array(11.06466159), array(128.53710046), array(25.90353881), array(3750.31335616), array(0.24336184), array(0.01435633), array(527.65981735), array(0.30117569), array(0.56233814), array(71.23247704), array(0.0088805), array(6.05166861), array(0.3568955), array(18.05266747), array(1.76977015), array(0.00232473), array(143.05269797), array(0.05396118), array(0.33145209), 1]\n",
      "pancreas_217.dcm\n"
     ]
    },
    {
     "name": "stderr",
     "output_type": "stream",
     "text": [
      "GLCM is symmetrical, therefore Sum Average = 2 * Joint Average, only 1 needs to be calculated\n",
      "GLCM is symmetrical, therefore Sum Average = 2 * Joint Average, only 1 needs to be calculated\n"
     ]
    },
    {
     "name": "stdout",
     "output_type": "stream",
     "text": [
      "[0.3231744324563756, 0.0, 0.0, 215.59348082025465, array(69.609375), array(156.40625), array(179.31307797), array(179.31307797), array(5711.94000244), 69.6743008053803, array(0.12937892), array(11943.81397489), array(2.09102581), 5821.05712890625, array(-53.), array(134.), array(64468459.), array(3.56722791), array(98.), array(11.16156057), array(986.), array(58.52085654), array(50.26934788), array(57.), array(-168.), array(1154.), array(41.17645291), array(90.4389329), array(0.67478647), array(47611593.8659668), array(0.09942516), array(5652.1932472), array(98.04088048), array(7067.20142952), array(59.74881212), array(30.20886158), array(4.5393343), array(0.73828687), array(1.60770426), array(2.27631444), array(1.89876457), array(0.50181019), array(0.43978596), array(0.99797705), array(0.96768286), array(-0.1777384), array(0.83486254), array(0.4272861), array(9.57201309), array(0.01607054), array(6.45733046), array(0.82205014), array(0.04086765), array(19.14402618), array(4.40914257), array(8.68704897), array(5.76670624), array(1828.77670642), array(0.23201937), array(1.57433679), array(783.66911951), array(9.16845865), array(100.05112916), array(8.11240802), array(831.78469931), array(0.12685839), array(0.01789827), array(0.34060333), array(34.49944679), array(0.00713193), array(616.89553352), array(0.09718552), array(9.49860944), array(99.74520321), array(1.86849145), array(188.37284931), array(0.03187378), array(0.01842025), array(4.45616897), array(4324.83777301), array(0.67939019), array(0.80537935), array(0.31877885), array(0.85031423), array(84.69197459), array(0.01601911), array(298.87389583), array(0.09103682), array(11.11168761), array(100.07858666), array(14.0018276), array(1535.2199208), array(0.19901653), array(0.02054815), array(1118.97685044), array(0.34083974), array(0.60266603), array(61.84304316), array(0.01353345), array(5.82297766), array(0.41651865), array(8.23773305), array(2.17115117), array(0.00130561), array(585.13280577), array(0.02848318), array(1.48896268), 1]\n",
      "pancreas_218.dcm\n",
      "[0.3963576059111635, 0.0, 0.0, 170.32312045938505, array(49.84375), array(140.9375), array(153.50131136), array(153.50131136), array(2598.44004313), 67.50886425660056, array(0.16256995), array(5622.36430111), array(2.16374602), 2688.970947265625, array(-45.), array(136.), array(62481115.), array(3.62934862), array(98.), array(36.47445007), array(1266.), array(66.74277426), array(56.43806647), array(51.), array(-699.), array(1965.), array(40.74198372), array(130.99781327), array(3.89557559), array(46143889.86206055), array(0.09977784), array(13975.17173414), array(967.92098266), array(176534.15957168), array(2391.87936654), array(73.6242145), array(12.02850578), array(0.7194537), array(1.62942444), array(2.25820389), array(9.31595949), array(0.56200793), array(0.51886518), array(0.99822146), array(0.98093535), array(-0.26588854), array(0.91849355), array(0.45633049), array(30.86292936), array(0.02002017), array(6.23288236), array(0.84069903), array(0.04363241), array(61.72585871), array(4.51530992), array(21.41318007), array(6.07373231), array(682.3842351), array(0.18741671), array(2.46015439), array(363.29112881), array(22.4038333), array(969.64350453), array(11.81625927), array(11230.53007416), array(0.01338384), array(0.00167208), array(0.2730884), array(286.27366611), array(0.00087433), array(260.07748447), array(0.09619478), array(27.97076014), array(977.881681), array(2.37658858), array(2281.25606937), array(0.00337026), array(0.00187612), array(4.77557642), array(1644.10178214), array(0.60631871), array(0.74265312), array(0.55297551), array(0.8064542), array(795.25239137), array(0.00166471), array(99.8978903), array(0.08430202), array(54.80289412), array(1025.45400844), array(48.89029536), array(47188.70886076), array(0.05375987), array(0.0028724), array(374.2185654), array(0.31579626), array(0.58076945), array(638.97180765), array(0.00239986), array(6.26050641), array(0.32546004), array(39.44958536), array(0.08963345), array(0.00372202), array(1942.68545513), array(0.01317332), array(16.67679899), 1]\n",
      "pancreas_219.dcm\n"
     ]
    },
    {
     "name": "stderr",
     "output_type": "stream",
     "text": [
      "GLCM is symmetrical, therefore Sum Average = 2 * Joint Average, only 1 needs to be calculated\n",
      "GLCM is symmetrical, therefore Sum Average = 2 * Joint Average, only 1 needs to be calculated\n"
     ]
    },
    {
     "name": "stdout",
     "output_type": "stream",
     "text": [
      "[0.37648025988191375, 0.0, 0.0, 102.91931297839592, array(30.9375), array(80.78125), array(102.29811721), array(102.29811721), array(1832.03531901), 38.74708969697451, array(0.18328199), array(3950.51351801), array(2.15635227), 1892.10205078125, array(-39.), array(153.), array(27080510.), array(3.42888208), array(87.), array(3.11133857), array(240.), array(56.55022149), array(73.75175644), array(88.), array(-162.), array(402.), array(38.41041946), array(102.810828), array(-0.77618491), array(19999644.22607422), array(0.11193471), array(5130.74477638), array(118.50137094), array(2570.27002082), array(-134.62717324), array(26.97314909), array(3.51404274), array(0.76873717), array(1.43109146), array(2.15845277), array(1.45067349), array(0.52717096), array(0.47216743), array(0.9883259), array(0.92611695), array(-0.18448258), array(0.83959413), array(0.45210786), array(10.61299133), array(0.02086308), array(6.12880372), array(0.8237438), array(0.04932669), array(21.22598266), array(4.22969536), array(7.62179796), array(5.64886783), array(573.12099922), array(0.22370062), array(1.63980253), array(286.77673692), array(8.28212325), array(117.99180328), array(8.84699454), array(1055.08157689), array(0.11594377), array(0.01512389), array(0.30880663), array(35.66894733), array(0.00576644), array(216.63006555), array(0.10711755), array(8.65731506), array(117.5954031), array(1.9606769), array(232.77544524), array(0.02805525), array(0.01567057), array(4.38225603), array(1327.65109905), array(0.65594295), array(0.78942233), array(0.35389467), array(0.83728834), array(98.25619424), array(0.01350735), array(87.78459938), array(0.09134714), array(10.19461821), array(115.3798127), array(17.18626431), array(2053.24141519), array(0.21578177), array(0.0182192), array(299.71175858), array(0.31187488), array(0.57510026), array(65.6476228), array(0.01191492), array(5.85044837), array(0.37509758), array(10.07885257), array(1.1868732), array(0.00404592), array(118.13188686), array(0.05936352), array(0.4690742), 1]\n",
      "pancreas_222.dcm\n",
      "[0.7480151801836099, 0.0, 0.0, 61.29163197201977, array(49.84375), array(42.96875), array(57.44971689), array(57.44971689), array(1259.92431641), 45.847071133297874, array(0.20609844), array(2737.19488478), array(2.17250739), 1306.451416015625, array(36.), array(195.), array(81326665.), array(3.479138), array(80.), array(66.63024388), array(1897.), array(67.29058744), array(135.39005088), array(123.), array(-68.), array(1965.), array(33.53492847), array(214.41371678), array(7.26406574), array(60061807.03735352), array(0.11608025), array(27642.77606834), array(119.76630665), array(1822555.74937707), array(15737.09947177), array(171.95793953), array(14.40775906), array(0.84584373), array(1.46320366), array(2.05383294), array(12.21610629), array(0.60111426), array(0.56773618), array(0.99799788), array(0.98320938), array(-0.31025912), array(0.93668659), array(0.47468701), array(8.96541795), array(0.02774672), array(5.87137641), array(0.88700022), array(0.07366804), array(17.9308359), array(4.38954343), array(46.59142465), array(5.98036617), array(314.03109101), array(0.17751899), array(2.60160589), array(205.34595817), array(44.27110583), array(124.03448276), array(14.01752402), array(1109.64782363), array(0.3230448), array(0.02427843), array(0.21576732), array(55.79324781), array(0.00500502), array(136.66123211), array(0.10990944), array(57.87458659), array(143.31075798), array(2.72617396), array(278.23865894), array(0.06384694), array(0.024522), array(4.76040818), array(694.98539367), array(0.55607313), array(0.70265687), array(0.67981003), array(0.7723029), array(125.32159568), array(0.01879264), array(40.43859649), array(0.08868113), array(121.67970433), array(239.27850877), array(55.24342105), array(4387.56359649), array(1.04734996), array(0.02556471), array(116.43859649), array(0.2553478), array(0.51518231), array(184.09102741), array(0.01166256), array(6.26228912), array(0.25777275), array(40.19378559), array(0.21818466), array(0.00835431), array(1451.09253575), array(0.04065728), array(72.83403659), 1]\n",
      "pancreas_224.dcm\n"
     ]
    },
    {
     "name": "stderr",
     "output_type": "stream",
     "text": [
      "GLCM is symmetrical, therefore Sum Average = 2 * Joint Average, only 1 needs to be calculated\n",
      "GLCM is symmetrical, therefore Sum Average = 2 * Joint Average, only 1 needs to be calculated\n"
     ]
    },
    {
     "name": "stdout",
     "output_type": "stream",
     "text": [
      "[0.23888009608691677, 0.0, 0.0, 136.28826342891435, array(36.953125), array(91.953125), array(114.99259593), array(114.99259593), array(1761.69077555), 32.55655346341808, array(0.18385551), array(3836.7243071), array(2.17786479), 1826.373291015625, array(1.), array(138.), array(22157245.), array(3.07863045), array(72.), array(3.35143719), array(222.), array(42.88483221), array(77.71572988), array(87.), array(-120.), array(342.), array(29.74847571), array(94.65549299), array(-0.71939931), array(16363688.01879883), array(0.1409845), array(2919.92768221), array(78.25981844), array(805.89049604), array(-44.87979941), array(15.34944542), array(2.62774284), array(0.70730137), array(1.22050549), array(1.97189766), array(1.1021346), array(0.56612778), array(0.52141636), array(0.98717354), array(0.92408959), array(-0.17202542), array(0.78995841), array(0.47539728), array(8.66482897), array(0.03041874), array(5.57503332), array(0.72120332), array(0.07198906), array(17.32965794), array(3.91494831), array(4.49429707), array(5.43587517), array(499.96643753), array(0.20217001), array(2.04895606), array(348.65467044), array(4.71976472), array(79.04326729), array(10.93287505), array(925.84957541), array(0.1773665), array(0.02091416), array(0.26141754), array(19.16661944), array(0.00752696), array(248.66411971), array(0.1335906), array(5.02107369), array(77.49251155), array(2.26127492), array(184.12213467), array(0.04270601), array(0.02234716), array(4.17584259), array(1143.91619279), array(0.61194045), array(0.7524262), array(0.47777471), array(0.80932261), array(61.67524266), array(0.01907764), array(87.62760417), array(0.11409844), array(6.25593906), array(72.75911458), array(39.60286458), array(3624.5234375), array(0.53885729), array(0.02853602), array(220.53645833), array(0.28715685), array(0.54923127), array(38.97596888), array(0.01842052), array(5.6770148), array(0.31055398), array(29.23412916), array(1.91768342), array(0.00362616), array(72.50210538), array(0.04542724), array(0.28732303), 1]\n",
      "pancreas_225.dcm\n",
      "[0.35053752449271963, 0.0, 0.0, 147.69591250123133, array(42.96875), array(85.9375), array(134.85617429), array(134.85617429), array(2608.16396077), 51.772959545874954, array(0.16343771), array(5606.45630322), array(2.1495797), 2690.447998046875, array(26.), array(180.), array(61018259.), array(3.14845055), array(82.), array(2.60972788), array(251.), array(47.40884541), array(115.85973099), array(129.), array(-96.), array(347.), array(34.80006064), array(129.41967962), array(-0.57967419), array(45063533.56323242), array(0.13137232), array(3325.97620712), array(88.6649941), array(937.08178282), array(-53.8554357), array(19.12898305), array(2.20554814), array(0.79298099), array(1.08735134), array(1.88321864), array(0.99699123), array(0.59840031), array(0.56117434), array(0.99055322), array(0.93588908), array(-0.2286749), array(0.86368387), array(0.47875896), array(9.18879898), array(0.03125263), array(5.5322639), array(0.82445514), array(0.07742474), array(18.37759796), array(3.98752732), array(5.3336328), array(5.68444874), array(652.36865221), array(0.17907457), array(2.60684964), array(478.58934944), array(5.44649104), array(89.17677738), array(13.58962394), array(1214.93137524), array(0.21764862), array(0.01676811), array(0.22447555), array(19.05793912), array(0.00439546), array(326.74575112), array(0.1261686), array(5.52452228), array(88.79242229), array(2.68372832), array(238.42999513), array(0.04444574), array(0.01716342), array(4.37267054), array(1472.91584564), array(0.56554912), array(0.71074664), array(0.67842638), array(0.77835189), array(68.66690213), array(0.01369022), array(108.43003064), array(0.1107559), array(6.42304951), array(85.72216547), array(63.95199183), array(5531.40653728), array(1.09142939), array(0.01969737), array(256.78958121), array(0.26229784), array(0.52053129), array(42.54326763), array(0.01126498), array(5.86377845), array(0.26873456), array(50.10507898), array(1.93751419), array(0.00315927), array(71.7491446), array(0.03827316), array(0.28389317), 1]\n",
      "pancreas_226.dcm\n"
     ]
    },
    {
     "name": "stderr",
     "output_type": "stream",
     "text": [
      "GLCM is symmetrical, therefore Sum Average = 2 * Joint Average, only 1 needs to be calculated\n",
      "GLCM is symmetrical, therefore Sum Average = 2 * Joint Average, only 1 needs to be calculated\n",
      "GLCM is symmetrical, therefore Sum Average = 2 * Joint Average, only 1 needs to be calculated\n"
     ]
    },
    {
     "name": "stdout",
     "output_type": "stream",
     "text": [
      "[0.2172455448813912, 0.0, 0.0, 160.85076403480738, array(34.375), array(77.34375), array(126.16725514), array(126.16725514), array(1701.87021891), 34.94411187732981, array(0.18394463), array(3747.55456258), array(2.20202135), 1770.98388671875, array(30.), array(180.), array(76285131.), array(3.44286779), array(68.), array(32.88577194), array(1387.), array(64.33977056), array(114.6292744), array(98.), array(-581.), array(1968.), array(29.15374139), array(178.35913555), array(4.46966713), array(56338506.1706543), array(0.12900485), array(18672.11068596), array(873.25493693), array(325365.86219264), array(4660.70006164), array(107.08618231), array(16.82322482), array(0.72996784), array(1.78556082), array(2.26494224), array(13.50152141), array(0.5513469), array(0.5068608), array(0.99766434), array(0.97971581), array(-0.27356174), array(0.91492839), array(0.46001625), array(29.166565), array(0.02841342), array(5.95016366), array(0.87277134), array(0.06610719), array(58.33312999), array(4.28503892), array(30.97735178), array(5.72064651), array(476.47706422), array(0.19869769), array(2.05473772), array(309.35362802), array(29.99330273), array(876.56547123), array(10.59049208), array(8779.04670559), array(0.01374887), array(0.0018086), array(0.28370812), array(284.93483179), array(0.00091026), array(221.85125589), array(0.1216208), array(37.35639234), array(893.61701458), array(2.21300713), array(1894.12814177), array(0.00350044), array(0.00199026), array(4.54769688), array(1136.30234023), array(0.6180755), array(0.75979983), array(0.44680407), array(0.81152408), array(738.58987632), array(0.00175395), array(76.72738538), array(0.09507731), array(71.33631222), array(977.89095415), array(29.01610905), array(24476.02973978), array(0.03702362), array(0.00290705), array(261.38909542), array(0.32390222), array(0.58723829), array(634.23978786), array(0.0023832), array(6.09831642), array(0.33653044), array(20.18630048), array(0.08707697), array(0.00391594), array(2434.53068239), array(0.01995653), array(24.85087176), 1]\n",
      "pancreas_227.dcm\n",
      "[0.43358577152786126, 0.0, 0.0, 92.17047236299945, array(30.078125), array(74.765625), array(89.24269053), array(89.24269053), array(1220.84401449), 39.963805371598525, array(0.20555539), array(2687.37768752), array(2.20124574), 1271.74072265625, array(-72.), array(149.), array(18646423.), array(3.49336579), array(109.), array(2.66966483), array(223.), array(67.07358351), array(64.32462253), array(91.), array(-159.), array(382.), array(47.83013233), array(104.05937006), array(-0.81824484), array(13770856.82983398), array(0.1090769), array(6690.69543322), array(113.60884827), array(4436.42422231), array(-244.47421942), array(39.09791462), array(3.54300712), array(0.83365607), array(1.42515285), array(2.17170253), array(1.48833104), array(0.53266035), array(0.47843162), array(0.9867752), array(0.92252927), array(-0.22115489), array(0.88246434), array(0.44525858), array(10.23325866), array(0.0221503), array(6.14831712), array(0.89323071), array(0.06383848), array(20.46651733), array(4.26681059), array(10.66023044), array(5.678201), array(374.8931475), array(0.21770798), array(1.8061474), array(187.83042973), array(10.83504481), array(112.71370499), array(9.28106852), array(1091.36178862), array(0.19092625), array(0.02169927), array(0.30617888), array(33.39133857), array(0.00812873), array(137.92574153), array(0.10226524), array(10.76028169), array(111.59380397), array(1.9895874), array(226.73345357), array(0.0428457), array(0.02213122), array(4.45868082), array(871.55724409), array(0.64500834), array(0.78324623), array(0.35500879), array(0.83029161), array(91.70948825), array(0.01884787), array(57.56656347), array(0.08911233), array(10.76669239), array(109.25541796), array(19.02786378), array(2298.36377709), array(0.38797178), array(0.0245962), array(202.61919505), array(0.313652), array(0.57583573), array(62.30622223), array(0.0170591), array(5.72228018), array(0.37514518), array(11.92225556), array(0.85709496), array(0.00635694), array(101.78946346), array(0.08928024), array(0.65071618), 1]\n",
      "pancreas_228.dcm\n"
     ]
    },
    {
     "name": "stderr",
     "output_type": "stream",
     "text": [
      "GLCM is symmetrical, therefore Sum Average = 2 * Joint Average, only 1 needs to be calculated\n"
     ]
    },
    {
     "name": "stdout",
     "output_type": "stream",
     "text": [
      "[0.37865080869776696, 0.0, 0.0, 107.32932960170551, array(33.515625), array(86.796875), array(88.47807152), array(88.47807152), array(1259.43196615), 40.64033745067497, array(0.20581155), array(2740.29624305), array(2.17581919), 1307.18994140625, array(43.), array(144.), array(20467981.), array(2.66453599), array(48.75), array(4.04581154), array(213.), array(31.08887038), array(99.79717514), array(106.), array(-103.), array(316.), array(21.03644128), array(107.53525503), array(-0.82270988), array(15116123.66333008), array(0.19049379), array(1604.35490727), array(92.94660007), array(309.04886379), array(-22.41900605), array(8.53283881), array(1.55138082), array(0.69203747), array(0.92412074), array(1.66873947), array(0.67967363), array(0.62747701), array(0.59912468), array(0.99228712), array(0.94090703), array(-0.18658476), array(0.77972641), array(0.50622824), array(9.54993158), array(0.0530039), array(4.7803659), array(0.76261297), array(0.11506753), array(19.09986316), array(3.47922713), array(2.52105491), array(5.19572772), array(312.8180791), array(0.17673338), array(2.43981487), array(337.1740113), array(2.62829838), array(93.16836158), array(14.66214689), array(1416.04067797), array(0.16868256), array(0.01311726), array(0.194233), array(17.15710713), array(0.00337969), array(217.16693497), array(0.17829144), array(2.89786664), array(91.97763303), array(2.89975563), array(274.84500276), array(0.0356527), array(0.01379298), array(4.00344202), array(655.95258825), array(0.53423063), array(0.68799435), array(0.74525733), array(0.7559786), array(68.75874039), array(0.01091203), array(54.25668449), array(0.14507135), array(4.10078212), array(87.96524064), array(299.42780749), array(29998.27272727), array(3.08638575), array(0.01737302), array(96.52941176), array(0.25810003), array(0.52075374), array(44.50124574), array(0.01089997), array(5.45418245), array(0.21129944), array(277.03011239), array(1.13450347), array(0.00486964), array(64.68883408), array(0.01971026), array(0.53175383), 1]\n",
      "pancreas_229.dcm\n",
      "[0.3639481938816568, 0.0, 0.0, 107.9666215872291, array(25.78125), array(97.109375), array(117.80962467), array(117.80962467), array(1154.19209798), 39.294256926176324, array(0.20479181), array(2598.30583378), array(2.25119011), 1218.56689453125, array(-14.), array(129.1), array(10941702.), array(3.23193045), array(80.), array(2.73742225), array(251.), array(46.10368705), array(58.26909091), array(61.), array(-118.), array(369.), array(32.98504224), array(81.43300649), array(-0.1340485), array(8080724.74365234), array(0.12140092), array(3236.04759008), array(67.16017567), array(740.48964892), array(-7.24608294), array(16.42505299), array(3.47552228), array(0.64990065), array(1.42251139), array(2.14192791), array(1.40681846), array(0.5304082), array(0.47556862), array(0.98699583), array(0.92251754), array(-0.14537188), array(0.75916781), array(0.44691058), array(7.99516464), array(0.0217466), array(5.91739546), array(0.66142325), array(0.04138157), array(15.99032928), array(4.04260348), array(4.97514382), array(5.47010631), array(370.42545455), array(0.22450028), array(1.7768977), array(200.31151515), array(5.26478751), array(66.82545455), array(8.93333333), array(620.0569697), array(0.18747837), array(0.0253856), array(0.31931114), array(20.28786238), array(0.00972799), array(154.74046985), array(0.11866793), array(5.46384337), array(66.14202086), array(1.96672047), array(133.89007086), array(0.04661539), array(0.02645083), array(4.16178582), array(861.76112108), array(0.65790936), array(0.79060606), array(0.35352873), array(0.83754266), array(54.96661955), array(0.02286065), array(71.47692308), array(0.1099645), array(6.24846391), array(63.82153846), array(14.70769231), array(1021.67692308), array(0.29674501), array(0.03033087), array(209.40615385), array(0.32216331), array(0.58482735), array(36.31050043), array(0.01924897), array(5.50062685), array(0.39393939), array(8.26390533), array(1.40740002), array(0.00560559), array(93.81647878), array(0.04969789), array(0.45815054), 1]\n",
      "pancreas_230.dcm\n"
     ]
    },
    {
     "name": "stderr",
     "output_type": "stream",
     "text": [
      "GLCM is symmetrical, therefore Sum Average = 2 * Joint Average, only 1 needs to be calculated\n",
      "GLCM is symmetrical, therefore Sum Average = 2 * Joint Average, only 1 needs to be calculated\n"
     ]
    },
    {
     "name": "stdout",
     "output_type": "stream",
     "text": [
      "[0.3594548468451431, 0.0, 0.0, 120.94002275613553, array(25.78125), array(98.828125), array(111.20525017), array(111.20525017), array(1252.84678141), 43.47247735725482, array(0.19854487), array(2830.67987845), array(2.25939829), 1320.4833984375, array(20.7), array(139.), array(62551508.), array(3.28664836), array(57.), array(21.45743594), array(1297.), array(68.98472541), array(72.97427293), array(80.), array(-854.), array(2151.), array(24.21617852), array(187.04027608), array(-1.19826453), array(46195876.87988281), array(0.15132764), array(29658.8203672), array(1511.60011809), array(591472.57066042), array(-3939.39158617), array(162.61950906), array(28.05216181), array(0.70515977), array(1.93880591), array(2.23299697), array(24.2293564), array(0.56691416), array(0.5271498), array(0.99684366), array(0.98042693), array(-0.26332541), array(0.90166355), array(0.46643289), array(38.44420465), array(0.03561975), array(5.63700736), array(0.94989132), array(0.08459444), array(76.8884093), array(4.0724511), array(47.66791772), array(5.61550538), array(337.52572707), array(0.18877278), array(2.33288165), array(270.5738255), array(47.64407353), array(1524.94574944), array(11.46085011), array(17068.58892617), array(0.02075587), array(0.00286082), array(0.27812513), array(453.57194905), array(0.00137023), array(183.28571133), array(0.13713401), array(56.80931744), array(1538.78081295), array(2.31916364), array(3501.59293108), array(0.00536824), array(0.00320755), array(4.48075459), array(819.51216861), array(0.61089014), array(0.7473434), array(0.51451196), array(0.8090935), array(1256.10711905), array(0.00280062), array(54.90972222), array(0.09532938), array(101.65855276), array(1609.41666667), array(35.01736111), array(52179.69270833), array(0.04502402), array(0.00476054), array(192.6875), array(0.33452691), array(0.59910928), array(1015.54345201), array(0.00365147), array(6.14620251), array(0.32214765), array(25.38151042), array(0.04878636), array(0.00493412), array(2796.91324813), array(0.03349979), array(31.31802345), 1]\n",
      "pancreas_231.dcm\n",
      "[0.16195335614554576, 0.0, 0.0, 172.5111394430997, array(24.0625), array(75.625), array(151.65960163), array(151.65960163), array(2174.89573161), 27.93875800530223, array(0.17302179), array(4691.83018678), array(2.15726672), 2245.1171875, array(-6.), array(162.), array(39095859.), array(3.2769897), array(75.25), array(3.95371427), array(254.), array(50.37501255), array(92.51217105), array(108.), array(-162.), array(416.), array(32.80625097), array(113.40405607), array(-1.05110539), array(28873284.53979492), array(0.12806657), array(4301.97814134), array(132.79371092), array(2460.90909368), array(-140.6072568), array(23.41026748), array(3.48965961), array(0.74006763), array(1.4083687), array(2.13369017), array(1.43774778), array(0.53556233), array(0.48252203), array(0.9896262), array(0.93093727), array(-0.17401802), array(0.80384489), array(0.45048845), array(11.3054361), array(0.0253849), array(5.92927847), array(0.81237852), array(0.0562646), array(22.6108722), array(4.07715651), array(6.72498177), array(5.57691617), array(656.20394737), array(0.21585656), array(1.78284236), array(389.32236842), array(6.97616765), array(132.96940789), array(9.52368421), array(1318.58782895), array(0.0996033), array(0.01212978), array(0.29305851), array(37.05315484), array(0.00435803), array(289.18608054), array(0.12236814), array(7.26789342), array(131.58349757), array(2.08977821), array(283.17014909), array(0.02367555), array(0.01260226), array(4.28113499), array(1527.75766789), array(0.64194423), array(0.77722039), array(0.4077885), array(0.82712873), array(108.0116436), array(0.01071713), array(114.58715596), array(0.10512583), array(8.24878461), array(126.3), array(20.05688073), array(2923.91651376), array(0.18719397), array(0.01451351), array(327.4587156), array(0.30042084), array(0.56304006), array(69.32294208), array(0.00923656), array(5.79334835), array(0.35855263), array(12.27841091), array(1.2681949), array(0.0030072), array(142.42350727), array(0.04525263), array(0.43989821), 1]\n",
      "pancreas_234.dcm\n"
     ]
    },
    {
     "name": "stderr",
     "output_type": "stream",
     "text": [
      "GLCM is symmetrical, therefore Sum Average = 2 * Joint Average, only 1 needs to be calculated\n",
      "GLCM is symmetrical, therefore Sum Average = 2 * Joint Average, only 1 needs to be calculated\n"
     ]
    },
    {
     "name": "stdout",
     "output_type": "stream",
     "text": [
      "[0.291766238846481, 0.0, 0.0, 136.87624268257613, array(49.84375), array(75.625), array(123.23569342), array(123.23569342), array(2503.41644287), 39.9358665149334, array(0.16572987), array(5379.8735415), array(2.14901263), 2583.36181640625, array(13.), array(137.), array(31181818.), array(2.91458831), array(71.), array(2.4172575), array(222.), array(39.33762689), array(81.75471698), array(89.), array(-63.), array(285.), array(29.50583154), array(94.41496003), array(-0.33213355), array(23028564.31884766), array(0.15017158), array(2230.35092829), array(48.9714173), array(364.73900975), array(-17.1490933), array(12.49306131), array(1.78734801), array(0.74947102), array(0.9893209), array(1.76560158), array(0.79357066), array(0.61494842), array(0.5826234), array(0.98808424), array(0.92805367), array(-0.20916774), array(0.83152125), array(0.49440713), array(6.80403735), array(0.03741765), array(5.18616398), array(0.77377906), array(0.09265352), array(13.6080747), array(3.75943549), array(3.57010233), array(5.47120812), array(624.51229274), array(0.1785341), array(2.53105148), array(525.30017153), array(3.62761609), array(49.7378502), array(14.27215552), array(722.16723842), array(0.40611462), array(0.03150086), array(0.20531188), array(10.0859899), array(0.00759573), array(350.69923823), array(0.1439212), array(3.78054091), array(49.45406243), array(2.78072211), array(139.80312061), array(0.08311809), array(0.03265554), array(4.19782141), array(1333.67271519), array(0.54460263), array(0.69668382), array(0.70082811), array(0.7644391), array(37.65154779), array(0.02568654), array(108.91008505), array(0.13233303), array(4.58130982), array(48.95018226), array(101.49210207), array(4890.94896719), array(3.12243403), array(0.03779754), array(210.52612394), array(0.25580331), array(0.51703872), array(25.40068395), array(0.02107196), array(5.71965399), array(0.2352773), array(83.42701996), array(3.62317638), array(0.00304399), array(41.05934297), array(0.03791513), array(0.1554453), 1]\n",
      "pancreas_235.dcm\n",
      "[0.3218006052834367, 0.0, 0.0, 141.6487982275566, array(41.25), array(67.03125), array(124.609375), array(124.609375), array(2228.31573486), 45.5826690072991, array(0.17075166), array(4831.74130091), array(2.16833783), 2307.891845703125, array(21.), array(124.), array(24113653.), array(2.68416678), array(56.), array(2.62375319), array(187.), array(32.28623401), array(78.50592), array(84.), array(-68.), array(255.), array(23.66374793), array(87.84286516), array(-0.35324248), array(17808545.0012207), array(0.17889106), array(1553.18948495), array(46.27383194), array(189.13965831), array(-10.5707991), array(8.54330955), array(1.40635467), array(0.71714187), array(0.85917144), array(1.62719677), array(0.65600383), array(0.64767793), array(0.62390307), array(0.98883588), array(0.93174288), array(-0.20386643), array(0.80390622), array(0.50337943), array(6.67004849), array(0.05073108), array(4.76670761), array(0.73578725), array(0.10451894), array(13.34009697), array(3.51768613), array(2.48741605), array(5.34614055), array(521.87552), array(0.16700017), array(2.79508111), array(559.03456), array(2.57308406), array(46.87968), array(16.6192), array(798.48992), array(0.44139506), array(0.02908642), array(0.17222805), array(7.89608405), array(0.00593303), array(351.66415645), array(0.17045795), array(2.72944168), array(46.42078722), array(3.18103597), array(151.21381386), array(0.08805282), array(0.03020218), array(4.10840545), array(1041.35420164), array(0.50187983), array(0.66024), array(0.85798371), array(0.73287164), array(33.74006147), array(0.02287166), array(92.11726384), array(0.15002812), array(3.44848221), array(45.50814332), array(150.06677524), array(7572.88110749), array(3.75377308), array(0.03508808), array(134.99674267), array(0.2198644), array(0.47088879), array(21.5161737), array(0.01827669), array(5.70362617), array(0.19648), array(124.16298581), array(3.47859343), array(0.00337904), array(30.66927304), array(0.02778471), array(0.15414509), 1]\n",
      "pancreas_236.dcm\n"
     ]
    },
    {
     "name": "stderr",
     "output_type": "stream",
     "text": [
      "GLCM is symmetrical, therefore Sum Average = 2 * Joint Average, only 1 needs to be calculated\n"
     ]
    },
    {
     "name": "stdout",
     "output_type": "stream",
     "text": [
      "[0.33976946079564546, 0.0, 0.0, 90.34665574086145, array(31.796875), array(78.203125), array(81.29160593), array(81.29160593), array(1206.19659424), 30.697034505762304, array(0.20497069), array(2673.44402385), array(2.21642478), 1261.4013671875, array(9.), array(161.3), array(76547502.), array(3.42595269), array(71.), array(40.95443704), array(1704.), array(73.93616347), array(109.7412178), array(85.), array(-80.), array(1784.), array(30.20885255), array(211.70035107), array(5.79855797), array(56532273.81591797), array(0.12500411), array(32773.90375777), array(129.29451456), array(1575685.63356883), array(16484.57159338), array(208.09214097), array(15.7659579), array(0.85980331), array(1.68372425), array(2.20942898), array(12.8507391), array(0.57031197), array(0.530022), array(0.9973957), array(0.97919497), array(-0.27956529), array(0.91855998), array(0.4626817), array(9.01177749), array(0.02736783), array(5.88341802), array(0.90399679), array(0.06298134), array(18.02355497), array(4.31345404), array(55.96452472), array(5.7775235), array(320.50819672), array(0.18765117), array(2.23859479), array(213.50702576), array(52.43944292), array(131.79332553), array(11.7587822), array(870.56967213), array(0.26442006), array(0.02430068), array(0.26413495), array(76.5183509), array(0.00698419), array(150.74180087), array(0.11939723), array(67.72574695), array(153.7048528), array(2.39828137), array(251.70099918), array(0.05583436), array(0.02484407), array(4.57791641), array(761.83362844), array(0.60075068), array(0.73931499), array(0.55205759), array(0.80231595), array(139.56333404), array(0.02021447), array(48.65648855), array(0.09285589), array(141.7656423), array(266.61641221), array(39.43129771), array(2937.63549618), array(0.76082922), array(0.02758735), array(170.26335878), array(0.32493007), array(0.58979321), array(227.67115607), array(0.01632506), array(6.08779666), array(0.30679157), array(28.80668376), array(0.22133668), array(0.0065694), array(2358.11278153), array(0.03945456), array(73.64639159), 1]\n",
      "pancreas_239.dcm\n"
     ]
    },
    {
     "name": "stderr",
     "output_type": "stream",
     "text": [
      "GLCM is symmetrical, therefore Sum Average = 2 * Joint Average, only 1 needs to be calculated\n",
      "GLCM is symmetrical, therefore Sum Average = 2 * Joint Average, only 1 needs to be calculated\n"
     ]
    },
    {
     "name": "stdout",
     "output_type": "stream",
     "text": [
      "[0.26416318147267825, 0.0, 0.0, 179.544967631149, array(45.546875), array(137.5), array(158.61231803), array(158.61231803), array(3360.96750895), 47.42916986685336, array(0.15257753), array(7111.6397707), array(2.11595017), 3443.00537109375, array(83.), array(173.), array(89304633.), array(2.56721595), array(41.), array(4.7506975), array(286.), array(28.35021839), array(133.03281853), array(139.), array(-37.), array(323.), array(17.94042838), array(138.40470705), array(-0.80872897), array(65953738.97094727), array(0.21611407), array(1458.13212758), array(63.7417879), array(265.1211084), array(-17.43390747), array(7.28263532), array(1.54292112), array(0.64922496), array(0.89980925), array(1.67720319), array(0.71492447), array(0.63876856), array(0.61233968), array(0.99235071), array(0.94256928), array(-0.16082409), array(0.7270978), array(0.49749465), array(7.89345027), array(0.06599874), array(4.62139135), array(0.7099086), array(0.13722317), array(15.78690053), array(3.32489194), array(2.20638911), array(5.15153932), array(784.95280995), array(0.16837255), array(2.80100012), array(1007.52380952), array(2.39769481), array(63.83612184), array(16.45388245), array(1091.90561991), array(0.28633516), array(0.02078931), array(0.17257325), array(10.34749366), array(0.00523669), array(597.28203802), array(0.19325066), array(2.76836308), array(62.76370391), array(3.23155469), array(211.45028435), array(0.06070278), array(0.02236314), array(4.04198741), array(1593.62643326), array(0.51076198), array(0.66312741), array(0.90803946), array(0.73898701), array(45.74558109), array(0.01755262), array(126.25982533), array(0.13783824), array(4.56047749), array(58.63755459), array(271.86026201), array(18507.11790393), array(4.14962475), array(0.03102952), array(204.08951965), array(0.22280515), array(0.46872664), array(26.92530745), array(0.01841931), array(5.82542651), array(0.1964822), array(245.95705173), array(3.40026433), array(0.00189437), array(55.24639275), array(0.01672813), array(0.1774895), 1]\n",
      "pancreas_241.dcm\n",
      "[0.32883105510211214, 0.0, 0.0, 131.2034847715307, array(36.953125), array(84.21875), array(120.80868665), array(120.80868665), array(2024.05192057), 43.14378033049635, array(0.174052), array(4445.83016653), array(2.19650006), 2105.535888671875, array(-31.), array(173.), array(38325038.), array(3.59773548), array(111.), array(2.63043972), array(263.), array(63.39113686), array(85.99088039), array(100.), array(-127.), array(390.), array(45.29740656), array(115.94250743), array(-0.50229978), array(28304013.65966797), array(0.09548915), array(6048.23351908), array(109.23051066), array(3407.52698341), array(-122.79805178), array(34.66772437), array(2.86833027), array(0.84675865), array(1.25910551), array(2.03850131), array(1.25684545), array(0.5629844), array(0.51735099), array(0.99042688), array(0.93442262), array(-0.26147015), array(0.91469989), array(0.46826594), array(10.06379067), array(0.01901033), array(6.1957299), array(0.86786504), array(0.04449679), array(20.12758135), array(4.47966733), array(9.38401366), array(6.01103888), array(564.81480182), array(0.19811112), array(2.15464775), array(272.23956506), array(9.73837089), array(109.10101719), array(10.95790951), array(1231.26306559), array(0.20863887), array(0.01833378), array(0.27242999), array(28.69528505), array(0.00526973), array(203.98443371), array(0.0948878), array(9.48036028), array(108.11099963), array(2.23584711), array(246.86362492), array(0.04158605), array(0.01823999), array(4.63187306), array(1322.99676705), array(0.61363158), array(0.75412136), array(0.46812581), array(0.81101213), array(87.02367536), array(0.01475898), array(86.75264271), array(0.0917047), array(9.3177829), array(104.41120507), array(27.48731501), array(3214.84038055), array(0.48927213), array(0.01911145), array(278.00845666), array(0.29387786), array(0.55543688), array(57.61533283), array(0.01137008), array(5.93568173), array(0.3318134), array(18.40467373), array(1.11685925), array(0.00505768), array(89.80227428), array(0.05597973), array(0.52895862), 1]\n",
      "pancreas_242.dcm\n"
     ]
    },
    {
     "name": "stderr",
     "output_type": "stream",
     "text": [
      "GLCM is symmetrical, therefore Sum Average = 2 * Joint Average, only 1 needs to be calculated\n",
      "GLCM is symmetrical, therefore Sum Average = 2 * Joint Average, only 1 needs to be calculated\n"
     ]
    },
    {
     "name": "stdout",
     "output_type": "stream",
     "text": [
      "[0.29785307851293563, 0.0, 0.0, 119.83341801667146, array(26.640625), array(83.359375), array(110.27157638), array(110.27157638), array(1757.69042969), 35.69275246499308, array(0.18437223), array(3820.17754212), array(2.17340749), 1820.465087890625, array(35.), array(164.), array(35109439.), array(2.9718509), array(60.), array(3.68609323), array(223.), array(39.27633259), array(108.04097363), array(118.), array(-95.), array(318.), array(26.11998329), array(119.34479512), array(-0.86657204), array(25929212.15209961), array(0.15595094), array(2570.32813861), array(82.7839383), array(731.44833566), array(-44.85035077), array(13.74600803), array(1.67226419), array(0.7818362), array(0.94464678), array(1.72179726), array(0.76194735), array(0.62696074), array(0.59784125), array(0.99044625), array(0.93581207), array(-0.23791612), array(0.8577009), array(0.49749774), array(8.93113573), array(0.04312895), array(5.13799643), array(0.79689766), array(0.10375493), array(17.86227146), array(3.80448427), array(3.85456805), array(5.51888355), array(423.09736308), array(0.17164193), array(2.6623991), array(384.41906694), array(4.2082339), array(82.62231237), array(15.08194726), array(1357.61135903), array(0.22031934), array(0.01825412), array(0.19671085), array(14.89661616), array(0.00469579), array(245.71550781), array(0.14564081), array(4.50169443), array(79.99929723), array(2.9389684), array(254.16902699), array(0.04794291), array(0.01970478), array(4.30588825), array(905.9717635), array(0.53354983), array(0.68448276), array(0.7711155), array(0.75680264), array(58.96662388), array(0.01584101), array(63.95167286), array(0.11886928), array(5.91687857), array(73.01672862), array(116.1802974), array(11360.34572491), array(1.39133691), array(0.02574238), array(140.67657993), array(0.26148063), array(0.52247091), array(38.34986746), array(0.0142359), array(5.78924643), array(0.21825558), array(95.18754923), array(1.62425396), array(0.00448072), array(48.49856412), array(0.03486332), array(0.35338557), 1]\n",
      "pancreas_243.dcm\n",
      "[0.26205661715490247, 0.0, 0.0, 183.60577720419832, array(54.140625), array(75.625), array(149.75826876), array(149.75826876), array(2974.04174805), 48.11510886422891, array(0.15706316), array(6367.58152121), array(2.14105317), 3061.187744140625, array(10.4), array(115.), array(26000546.), array(2.76867817), array(55.), array(3.29963538), array(222.), array(32.81713949), array(67.38335344), array(72.), array(-74.), array(296.), array(22.58162288), array(79.20069025), array(-0.26884588), array(19202063.39111328), array(0.17570855), array(1732.23301602), array(40.99661889), array(300.10877258), array(-8.21806605), array(9.45428441), array(1.39765425), array(0.74212648), array(0.87081731), array(1.61891029), array(0.62821294), array(0.64137174), array(0.61639191), array(0.99059165), array(0.93580355), array(-0.21753524), array(0.82665804), array(0.5077907), array(6.24358104), array(0.04849727), array(4.88660546), array(0.75247843), array(0.10542854), array(12.48716208), array(3.63358837), array(2.71298467), array(5.38894006), array(717.60410133), array(0.17312524), array(2.5883855), array(728.3119421), array(2.8186855), array(41.46537998), array(16.01278649), array(694.68419783), array(0.52496013), array(0.03960488), array(0.17481268), array(6.93722601), array(0.00917787), array(460.56589372), array(0.16655053), array(3.03376163), array(40.7582071), array(3.07483548), array(130.43743581), array(0.11014058), array(0.04244246), array(4.17701236), array(1402.52606819), array(0.50510732), array(0.66700844), array(0.80514369), array(0.73557156), array(29.57158721), array(0.03301475), array(111.53399258), array(0.13786649), array(4.04608843), array(38.88380717), array(152.6736712), array(7101.84425216), array(3.86771247), array(0.05623227), array(183.90482077), array(0.22732364), array(0.48567137), array(18.97443003), array(0.03021721), array(5.90487136), array(0.19517491), array(126.42229797), array(4.42432368), array(0.00252898), array(36.50183219), array(0.02566146), array(0.14276723), 1]\n"
     ]
    },
    {
     "name": "stderr",
     "output_type": "stream",
     "text": [
      "GLCM is symmetrical, therefore Sum Average = 2 * Joint Average, only 1 needs to be calculated\n"
     ]
    },
    {
     "name": "stdout",
     "output_type": "stream",
     "text": [
      "pancreas_244.dcm\n",
      "[0.501256418300434, 0.0, 0.0, 46.433186440315225, array(22.34375), array(43.828125), array(43.96272225), array(43.96272225), array(614.63775635), 23.27493272534869, array(0.2564902), array(1362.99052718), array(2.21755093), 643.255615234375, array(-52.), array(108.), array(4729932.), array(3.27815091), array(91.), array(2.8011183), array(241.), array(50.52366007), array(39.92422503), array(50.), array(-117.), array(358.), array(37.20920501), array(73.69166533), array(-0.14284806), array(3493174.87792969), array(0.11921185), array(3836.51779432), array(55.82798717), array(1283.48077808), array(-23.15362375), array(21.02707114), array(3.01931117), array(0.74832453), array(1.30376522), array(2.05744813), array(1.2906664), array(0.55179929), array(0.50376141), array(0.9872104), array(0.92431229), array(-0.20669014), array(0.85316024), array(0.46906983), array(7.1641935), array(0.02441324), array(5.82631774), array(0.8138502), array(0.05671595), array(14.328387), array(4.11346948), array(6.01159558), array(5.5031744), array(182.59816303), array(0.20964198), array(1.86008665), array(103.83352468), array(6.264697), array(57.14695752), array(9.93455798), array(628.3869116), array(0.33663848), array(0.0400766), array(0.28635421), array(15.71450952), array(0.01125517), array(77.36947086), array(0.11544035), array(6.28583928), array(55.85321318), array(2.12833421), array(126.01155378), array(0.08049455), array(0.04121905), array(4.24793105), array(428.25924083), array(0.63711675), array(0.76980482), array(0.43242471), array(0.8257009), array(45.26346129), array(0.03458155), array(32.21333333), array(0.10737778), array(6.58306667), array(54.74666667), array(25.85666667), array(1583.48333333), array(0.79190949), array(0.04257495), array(92.47333333), array(0.30824444), array(0.57087934), array(31.49390192), array(0.02160379), array(5.47366113), array(0.34443169), array(17.42732222), array(0.61191192), array(0.01371668), array(72.9664758), array(0.04667571), array(1.13074396), 1]\n",
      "pancreas_246.dcm\n"
     ]
    },
    {
     "name": "stderr",
     "output_type": "stream",
     "text": [
      "GLCM is symmetrical, therefore Sum Average = 2 * Joint Average, only 1 needs to be calculated\n",
      "GLCM is symmetrical, therefore Sum Average = 2 * Joint Average, only 1 needs to be calculated\n"
     ]
    },
    {
     "name": "stdout",
     "output_type": "stream",
     "text": [
      "[0.1608463520017276, 0.0, 0.0, 173.15764837110362, array(25.78125), array(83.359375), array(146.85006437), array(146.85006437), array(2403.10007731), 27.851776061689907, array(0.16829364), array(5155.42324446), array(2.14532191), 2477.01416015625, array(13.), array(129.), array(24335498.), array(2.92548294), array(51.), array(3.81187647), array(203.), array(34.89545604), array(71.18246869), array(73.), array(-121.), array(324.), array(21.8590014), array(85.18018714), array(-0.2792067), array(17972383.16650391), array(0.16605045), array(2188.72043207), array(73.14279319), array(563.35762763), array(-8.27632056), array(11.93398522), array(1.84767502), array(0.73154797), array(1.00182402), array(1.78160734), array(0.83164379), array(0.61236644), array(0.58007347), array(0.99088349), array(0.93654774), array(-0.20912758), array(0.83159943), array(0.49819916), array(8.40363318), array(0.04430468), array(5.17145134), array(0.79081026), array(0.10098823), array(16.80726636), array(3.74030886), array(3.44541506), array(5.42087913), array(615.44245677), array(0.18349507), array(2.4060318), array(556.93321407), array(3.62153797), array(73.50894454), array(13.95468098), array(1066.95378652), array(0.22156156), array(0.01899254), array(0.20448929), array(13.98148362), array(0.00531528), array(359.11571052), array(0.15287326), array(3.97580395), array(72.41747554), array(2.73751255), array(205.34505985), array(0.04757401), array(0.02019754), array(4.22394868), array(1293.68110024), array(0.54956469), array(0.70020871), array(0.68657075), array(0.76878802), array(54.97081719), array(0.01632871), array(97.64258065), array(0.12599043), array(5.3745948), array(67.26580645), array(149.92774194), array(11571.13677419), array(2.08537078), array(0.02633088), array(200.71870968), array(0.25899188), array(0.52003748), array(33.72505441), array(0.01629813), array(5.80122583), array(0.23106738), array(131.19839168), array(2.3011755), array(0.00303582), array(57.39146787), array(0.02747662), array(0.24921865), 1]\n",
      "pancreas_247.dcm\n",
      "[0.3691613353599179, 0.0, 0.0, 132.85277672097553, array(66.171875), array(67.890625), array(131.31294993), array(131.31294993), array(2952.37833659), 49.04410846058834, array(0.15785728), array(6304.74480404), array(2.13547997), 3036.81640625, array(30.), array(127.), array(35680887.), array(2.64374926), array(49.), array(3.53383081), array(230.), array(30.3784275), array(84.7317607), array(90.), array(-53.), array(283.), array(20.94797082), array(93.15180359), array(-0.4397476), array(26351241.00952148), array(0.19445968), array(1497.78724029), array(49.97950357), array(270.18318089), array(-11.14429829), array(8.61636257), array(1.02461841), array(0.78727315), array(0.71881629), array(1.45557761), array(0.49828551), array(0.68639108), array(0.67080343), array(0.99406392), array(0.95007224), array(-0.26708337), array(0.86193596), array(0.49747724), array(6.93408041), array(0.063108), array(4.54738053), array(0.80627696), array(0.13425592), array(13.86816081), array(3.51845073), array(2.41024524), array(5.37605259), array(653.41050584), array(0.15890333), array(3.03888212), array(799.61819066), array(2.48471915), array(50.22300584), array(20.32441634), array(1032.19139105), array(0.51434907), array(0.02700042), array(0.13023824), array(6.5548148), array(0.00408764), array(453.44886044), array(0.18213244), array(2.68573675), array(49.9947031), array(4.00369458), array(203.39652262), array(0.10279129), array(0.02787696), array(4.28349042), array(1114.28995934), array(0.44384852), array(0.60530156), array(1.21783469), array(0.68639968), array(34.25561556), array(0.01953371), array(81.68805704), array(0.14561151), array(3.92151779), array(50.31194296), array(314.32442068), array(17246.37967914), array(6.46856833), array(0.03344829), array(99.91622103), array(0.17810378), array(0.42192022), array(21.63639556), array(0.01561725), array(6.11498838), array(0.13642996), array(260.59891777), array(2.87559613), array(0.00291941), array(35.76954831), array(0.01530305), array(0.21708165), 1]\n",
      "pancreas_249.dcm\n"
     ]
    },
    {
     "name": "stderr",
     "output_type": "stream",
     "text": [
      "GLCM is symmetrical, therefore Sum Average = 2 * Joint Average, only 1 needs to be calculated\n",
      "GLCM is symmetrical, therefore Sum Average = 2 * Joint Average, only 1 needs to be calculated\n"
     ]
    },
    {
     "name": "stdout",
     "output_type": "stream",
     "text": [
      "[0.30672388472062007, 0.0, 0.0, 133.69741740274833, array(36.953125), array(129.765625), array(130.72672848), array(130.72672848), array(1998.75742594), 41.008191242885204, array(0.17430339), array(4402.35447566), array(2.20254565), 2084.857177734375, array(-62.), array(95.), array(27762738.), array(3.29669649), array(78.), array(73.52727102), array(1301.), array(52.06810837), array(29.89373007), array(31.), array(-150.), array(1451.), array(33.2942767), array(99.16894847), array(6.40226367), array(20503486.92626953), array(0.12183146), array(8940.8452423), array(68.37393889), array(122226.01575774), array(1587.92308646), array(42.66831102), array(7.36846911), array(0.70468297), array(1.40778292), array(2.08866103), array(5.35782169), array(0.55731396), array(0.51130863), array(0.99819605), array(0.97776237), array(-0.20478071), array(0.85128132), array(0.46887527), array(7.71676141), array(0.0245862), array(5.85886404), array(0.80842973), array(0.05946489), array(15.43352282), array(4.14925842), array(12.50919503), array(5.63785779), array(580.30570315), array(0.20556348), array(1.94848148), array(343.93021608), array(14.40560328), array(73.92986185), array(10.43322706), array(693.18172157), array(0.28870618), array(0.0326488), array(0.27414688), array(28.82859491), array(0.0106553), array(255.03068651), array(0.11877868), array(17.32341392), array(77.00844315), array(2.17586618), array(153.15997843), array(0.06653861), array(0.0339554), array(4.34506983), array(1330.88723027), array(0.61815493), array(0.76089267), array(0.44083005), array(0.81369328), array(65.20542807), array(0.02842777), array(102.60809372), array(0.1092738), array(33.03262143), array(95.828541), array(32.86155485), array(2412.97550586), array(0.69845647), array(0.03994052), array(278.0798722), array(0.2961447), array(0.55773542), array(70.75714017), array(0.02377254), array(5.7812524), array(0.33262487), array(23.82317536), array(0.81867934), array(0.0035458), array(981.32994395), array(0.03223764), array(14.06011683), 1]\n",
      "pancreas_253.dcm\n",
      "[0.19164071317894893, 0.0, 0.0, 123.17819236404986, array(32.65625), array(36.953125), array(120.81479967), array(120.81479967), array(1900.10274251), 23.605956632740273, array(0.18253472), array(4064.33988349), array(2.13901059), 1953.399658203125, array(2.4), array(144.), array(20634766.), array(3.16932883), array(80.), array(2.61832717), array(219.), array(44.92350242), array(69.31871456), array(66.), array(-115.), array(334.), array(33.07018688), array(88.32566908), array(0.07010009), array(15239298.62060547), array(0.12607631), array(2996.33963086), array(73.163569), array(699.790011), array(7.99405482), array(16.57974642), array(2.4625006), array(0.74095615), array(1.172755), array(1.93609959), array(1.05646305), array(0.57545471), array(0.53390739), array(0.98798026), array(0.92681268), array(-0.19717249), array(0.83094251), array(0.48556095), array(8.34471193), array(0.02621716), array(5.67233717), array(0.74612888), array(0.05747588), array(16.68942386), array(4.03480676), array(4.76056176), array(5.56836986), array(527.85217391), array(0.19956604), array(2.01597965), array(333.47183365), array(4.88614034), array(73.62873346), array(11.48468809), array(818.53534972), array(0.21180634), array(0.01994562), array(0.24143972), array(17.94810472), array(0.00590614), array(241.10593924), array(0.12314509), array(5.08127662), array(74.18668013), array(2.35638213), array(170.61884232), array(0.04540352), array(0.02051958), array(4.28898519), array(1169.13124052), array(0.594478), array(0.74035917), array(0.5176805), array(0.79805494), array(59.43561686), array(0.0168075), array(87.42838371), array(0.11488618), array(6.00634755), array(75.30486202), array(39.92247043), array(2726.74375821), array(0.74532062), array(0.02384456), array(202.65308804), array(0.26629841), array(0.52681304), array(39.01867534), array(0.01467291), array(5.8337964), array(0.28771267), array(27.84205028), array(2.03149677), array(0.0043157), array(61.76724446), array(0.04096366), array(0.30196528), 1]\n",
      "pancreas_254.dcm\n"
     ]
    },
    {
     "name": "stderr",
     "output_type": "stream",
     "text": [
      "GLCM is symmetrical, therefore Sum Average = 2 * Joint Average, only 1 needs to be calculated\n",
      "GLCM is symmetrical, therefore Sum Average = 2 * Joint Average, only 1 needs to be calculated\n"
     ]
    },
    {
     "name": "stdout",
     "output_type": "stream",
     "text": [
      "[0.5052236120645544, 0.0, 0.0, 62.4150850360744, array(37.8125), array(36.953125), array(58.53851563), array(58.53851563), array(906.90917969), 31.53357470924183, array(0.22613511), array(2003.66599922), array(2.20933479), 946.78955078125, array(8.), array(126.), array(10388298.), array(2.84465154), array(61.), array(3.62698431), array(165.), array(37.90947014), array(76.17784711), array(86.), array(-88.), array(253.), array(25.99684233), array(90.01775696), array(-0.99140326), array(7672021.83837891), array(0.16831881), array(2300.13217696), array(61.51230749), array(672.50986661), array(-51.13776836), array(13.08005346), array(1.22796384), array(0.82815801), array(0.78213118), array(1.56324688), array(0.60844032), array(0.67218827), array(0.6522942), array(0.99023344), array(0.93754478), array(-0.28236188), array(0.88777869), array(0.48785569), array(7.65172482), array(0.05481805), array(4.80636607), array(0.84970204), array(0.13735179), array(15.30344963), array(3.67999933), array(3.57700433), array(5.50165385), array(197.10452418), array(0.15374768), array(3.26212942), array(215.78471139), array(3.76955372), array(60.85335413), array(18.95163807), array(1232.91887676), array(0.52377185), array(0.03067685), array(0.16544203), array(9.08999873), array(0.00539545), array(122.09099726), array(0.15118852), array(4.03863663), array(58.87095173), array(3.59374638), array(228.11620583), array(0.10068808), array(0.03188062), array(4.3651459), array(382.9312785), array(0.47186994), array(0.6298752), array(1.04400115), array(0.7105583), array(40.6363872), array(0.02284178), array(30.64853556), array(0.12823655), array(4.94830273), array(52.89958159), array(177.93305439), array(12868.0167364), array(3.07618325), array(0.03731628), array(57.93723849), array(0.24241522), array(0.50155507), array(26.27208166), array(0.01661089), array(5.59504582), array(0.18642746), array(149.16037884), array(1.08237526), array(0.00961452), array(28.79906697), array(0.03823263), array(0.49801393), 1]\n",
      "pancreas_255.dcm\n",
      "[0.3915390486538187, 0.0, 0.0, 141.25293693932744, array(43.828125), array(90.234375), array(122.99875051), array(122.99875051), array(2601.94803874), 55.306040548782114, array(0.16412215), array(5574.20174247), array(2.14231862), 2681.585693359375, array(-9.), array(131.), array(27634563.), array(3.19217914), array(84.), array(4.57835003), array(581.), array(46.84980516), array(65.63068025), array(73.), array(-128.), array(709.), array(34.2847204), array(87.23950168), array(-0.18891464), array(20408826.43432617), array(0.12681603), array(3303.34446219), array(87.69496871), array(991.356929), array(-30.79196138), array(17.63075305), array(2.56782535), array(0.74564545), array(1.17179768), array(1.95899281), array(1.17124971), array(0.58060378), array(0.53895187), array(0.99719791), array(0.96353128), array(-0.20325575), array(0.8420092), array(0.47299714), array(9.16127812), array(0.02761666), array(5.66335499), array(0.77071721), array(0.06229418), array(18.32255624), array(4.01872316), array(5.0496446), array(5.66686549), array(675.25943266), array(0.18597065), array(2.3682898), array(460.4690168), array(5.36100295), array(88.98953456), array(12.34177912), array(1115.90773891), array(0.18474818), array(0.01656883), array(0.24643932), array(21.60189844), array(0.00475486), array(323.32030462), array(0.12195831), array(5.67718998), array(88.53936501), array(2.46178461), array(220.2954977), array(0.03885763), array(0.01709817), array(4.35940756), array(1555.48292868), array(0.58482272), array(0.7302396), array(0.57350776), array(0.79241726), array(69.81456432), array(0.01389846), array(112.21579961), array(0.10810771), array(7.14492818), array(86.83236994), array(60.95086705), array(5652.77360308), array(0.8109221), array(0.01948125), array(303.16377649), array(0.2920653), array(0.55667098), array(48.60022899), array(0.0116529), array(5.81274004), array(0.28587166), array(48.71435082), array(1.55932947), array(0.00303828), array(136.381092), array(0.02814771), array(0.66867399), 1]\n"
     ]
    },
    {
     "name": "stderr",
     "output_type": "stream",
     "text": [
      "GLCM is symmetrical, therefore Sum Average = 2 * Joint Average, only 1 needs to be calculated\n"
     ]
    },
    {
     "name": "stdout",
     "output_type": "stream",
     "text": [
      "pancreas_256.dcm\n",
      "[0.281341950390759, 0.0, 0.0, 128.54319315011753, array(29.21875), array(58.4375), array(113.30721685), array(113.30721685), array(1070.55409749), 36.164592670310114, array(0.20665012), array(2448.99297819), array(2.28759386), 1138.067626953125, array(-38.), array(223.), array(33665046.), array(3.64409551), array(107.), array(2.84344831), array(313.), array(72.73497872), array(115.330305), array(140.), array(-126.), array(439.), array(47.841536), array(147.80471445), array(-0.57572122), array(24862491.24755859), array(0.10899696), array(8545.15436389), array(138.74661448), array(7983.23182077), array(-245.32387698), array(51.28713419), array(2.04757684), array(0.92310821), array(1.0051407), array(1.84919393), array(1.02094783), array(0.62537866), array(0.59367966), array(0.9944687), array(0.95207752), array(-0.36490307), array(0.96154321), array(0.4699065), array(11.24426103), array(0.03227215), array(5.88680045), array(0.94259166), array(0.09698627), array(22.48852207), array(4.48505943), array(13.33367776), array(6.14576074), array(250.43543154), array(0.16251488), array(3.08823964), array(167.96430889), array(13.76386049), array(137.79493835), array(15.24529526), array(2045.41336794), array(0.3203271), array(0.01723211), array(0.22300538), array(29.67805662), array(0.00409252), array(104.13404166), array(0.09804137), array(13.18730325), array(138.12143266), array(2.89987805), array(388.37052488), array(0.05965398), array(0.01641737), array(4.90834076), array(579.44209583), array(0.5439207), array(0.68916288), array(0.78055899), array(0.76494681), array(105.14734152), array(0.01256616), array(31.77974684), array(0.08045506), array(13.24781285), array(130.92911392), array(100.77721519), array(15025.50886076), array(1.57616669), array(0.01810229), array(117.27341772), array(0.29689473), array(0.5605632), array(72.5715185), array(0.01108338), array(5.96842411), array(0.25632706), array(85.55734017), array(0.42168782), array(0.00999093), array(95.05203152), array(0.05374665), array(1.66391365), 1]\n",
      "pancreas_258.dcm\n"
     ]
    },
    {
     "name": "stderr",
     "output_type": "stream",
     "text": [
      "GLCM is symmetrical, therefore Sum Average = 2 * Joint Average, only 1 needs to be calculated\n",
      "GLCM is symmetrical, therefore Sum Average = 2 * Joint Average, only 1 needs to be calculated\n"
     ]
    },
    {
     "name": "stdout",
     "output_type": "stream",
     "text": [
      "[0.3035977583532816, 0.0, 0.0, 167.10199282639581, array(50.703125), array(96.25), array(158.78217716), array(158.78217716), array(3709.48994954), 50.73179043845991, array(0.14709378), array(7878.3019087), array(2.12382349), 3806.35986328125, array(75.), array(157.), array(72254018.), array(2.53416543), array(34.), array(6.14994296), array(237.), array(26.53132416), array(111.95925495), array(112.), array(-81.), array(318.), array(15.27038757), array(118.40193347), array(-0.57008149), array(53361426.86767578), array(0.23508345), array(1484.14308179), array(83.34821773), array(383.63972633), array(-8.93351992), array(7.61147182), array(1.33280978), array(0.70189651), array(0.81645004), array(1.59163162), array(0.64995806), array(0.66228641), array(0.64103188), array(0.99339529), array(0.94761178), array(-0.20730766), array(0.79023659), array(0.4949631), array(9.0431416), array(0.08177116), array(4.43696278), array(0.78286389), array(0.19469978), array(18.0862832), array(3.26569813), array(2.2360704), array(5.1423608), array(798.80131936), array(0.15498667), array(3.17647862), array(1211.62010089), array(2.45071755), array(83.44024059), array(18.65308498), array(1572.41191308), array(0.2420978), array(0.01489231), array(0.16461771), array(13.09224155), array(0.00324303), array(653.20302423), array(0.20015036), array(2.9811514), array(82.88491462), array(3.7346945), array(313.50443761), array(0.05118194), array(0.01589167), array(4.13544105), array(1600.75156051), array(0.48543638), array(0.63324602), array(1.18464673), array(0.71871152), array(59.15393284), array(0.01206248), array(140.51145038), array(0.1532295), array(5.06017798), array(78.81025082), array(2888.44056707), array(235425.17448201), array(35.60143387), array(0.02084775), array(230.57688113), array(0.25144698), array(0.51177269), array(38.80232444), array(0.01202604), array(5.69152561), array(0.17792006), array(2856.85052843), array(3.23176844), array(0.00175352), array(53.73935654), array(0.0161375), array(0.18992934), 1]\n",
      "pancreas_259.dcm\n",
      "[0.27086637527513185, 0.0, 0.0, 97.1227350416914, array(28.359375), array(49.84375), array(90.39791727), array(90.39791727), array(1153.39202881), 26.30728319754998, array(0.20647215), array(2575.96879741), array(2.2333853), 1207.489013671875, array(30.), array(139.), array(15861165.), array(2.84082766), array(54.), array(3.65395076), array(203.), array(34.13715793), array(88.23669725), array(93.), array(-79.), array(282.), array(23.41018949), array(98.49374776), array(-0.58871248), array(11713873.07739258), array(0.16745803), array(1915.30360744), array(67.6823498), array(337.13020902), array(-18.00769816), array(9.36106587), array(2.69962593), array(0.55308907), array(1.24855293), array(1.99018824), array(1.11190992), array(0.55819458), array(0.51210156), array(0.98480977), array(0.9172296), array(-0.10841699), array(0.65788413), array(0.47883916), array(8.12506333), array(0.03582507), array(5.31779867), array(0.61453047), array(0.07350767), array(16.25012665), array(3.60144889), array(3.01517295), array(5.1413845), array(343.66299694), array(0.21019144), array(1.85734609), array(273.79388379), array(3.17196046), array(68.04587156), array(10.0470948), array(694.6), array(0.18038447), array(0.02049202), array(0.28028144), array(18.49475043), array(0.00691085), array(200.30024433), array(0.15967562), array(3.41526777), array(67.74220983), array(2.1482139), array(147.42190322), array(0.04172167), array(0.02121708), array(3.87705447), array(794.68809734), array(0.63088246), array(0.76727829), array(0.434707), array(0.82139076), array(55.50546022), array(0.01791334), array(74.44665461), array(0.13462325), array(4.39136847), array(66.09764919), array(24.6636528), array(1762.22965642), array(0.4054911), array(0.02440732), array(165.52802893), array(0.29932736), array(0.56227722), array(36.29947561), array(0.01529874), array(5.37941185), array(0.3382263), array(15.9221671), array(1.59635906), array(0.00490849), array(63.521952), array(0.03543001), array(0.33372113), 1]\n",
      "pancreas_261.dcm\n"
     ]
    },
    {
     "name": "stderr",
     "output_type": "stream",
     "text": [
      "GLCM is symmetrical, therefore Sum Average = 2 * Joint Average, only 1 needs to be calculated\n",
      "GLCM is symmetrical, therefore Sum Average = 2 * Joint Average, only 1 needs to be calculated\n",
      "GLCM is symmetrical, therefore Sum Average = 2 * Joint Average, only 1 needs to be calculated\n"
     ]
    },
    {
     "name": "stdout",
     "output_type": "stream",
     "text": [
      "[0.2619320302143796, 0.0, 0.0, 150.74009055011558, array(27.5), array(116.875), array(130.12651596), array(130.12651596), array(1693.19254557), 39.48365795249119, array(0.18412747), array(3731.09614684), array(2.20358645), 1765.07568359375, array(58.), array(204.), array(54224636.), array(3.11826778), array(79.), array(2.78375258), array(267.), array(45.20830378), array(140.00753138), array(149.), array(-46.), array(313.), array(32.68696752), array(150.62580196), array(-0.62113296), array(40046270.48339844), array(0.13232506), array(3086.02337424), array(71.24549305), array(834.55731511), array(-46.57602874), array(17.21855433), array(2.17588145), array(0.77524457), array(1.09518405), array(1.86895881), array(0.94999138), array(0.59254253), array(0.55488529), array(0.98767841), array(0.92658746), array(-0.21654382), array(0.84910566), array(0.48818934), array(8.21490214), array(0.03020601), array(5.5150503), array(0.78896563), array(0.0717163), array(16.42980427), array(3.98174025), array(4.84860894), array(5.58826647), array(456.37991632), array(0.19095394), array(2.25325187), array(316.25690377), array(5.03202132), array(71.13096234), array(12.41841004), array(918.96610879), array(0.26408339), array(0.0243773), array(0.22962179), array(14.6550301), array(0.00769491), array(222.92779537), array(0.12842922), array(5.14386436), array(70.02403754), array(2.47393649), array(179.70222096), array(0.05636368), array(0.02563714), array(4.28452645), array(1004.2976857), array(0.5746024), array(0.72646444), array(0.5527123), array(0.78393087), array(54.12352172), array(0.02102), array(78.71173848), array(0.11695652), array(5.79758858), array(64.56017831), array(40.82020802), array(3182.67904903), array(0.78896221), array(0.03260595), array(167.34472511), array(0.24865487), array(0.50334915), array(29.41134031), array(0.02039855), array(5.8102349), array(0.28158996), array(28.20873912), array(1.75685178), array(0.00488807), array(50.16688566), array(0.04634444), array(0.307552), 1]\n",
      "pancreas_262.dcm\n",
      "[0.4165028234573866, 0.0, 0.0, 115.72061853757714, array(37.8125), array(91.953125), array(133.48005487), array(133.48005487), array(1284.48028564), 48.197964353136065, array(0.19979476), array(2860.12481717), array(2.22667864), 1347.0703125, array(82.), array(179.), array(37910814.), array(2.66536843), array(43.25), array(5.50927109), array(259.), array(30.91855427), array(137.8004386), array(145.), array(-76.), array(335.), array(18.90485682), array(144.16808766), array(-1.10368365), array(27998098.71826172), array(0.20853291), array(1795.47662261), array(103.18489585), array(438.96080275), array(-29.52823181), array(8.61922618), array(1.56041424), array(0.69177446), array(0.89017114), array(1.6845032), array(0.75430693), array(0.64388351), array(0.61888576), array(0.99325928), array(0.9466982), array(-0.18720946), array(0.7735089), array(0.49721928), array(10.07070339), array(0.06880552), array(4.64151542), array(0.73731597), array(0.15494476), array(20.14140679), array(3.4007147), array(2.54491011), array(5.18847972), array(291.46381579), array(0.15979376), array(3.0848903), array(380.36403509), array(2.9226637), array(103.40570175), array(16.40899123), array(1798.89473684), array(0.16186623), array(0.01220214), array(0.19523171), array(18.43325078), array(0.00343833), array(216.39209467), array(0.1772947), array(3.50948335), array(100.83380151), array(3.15788518), array(337.73138018), array(0.0344429), array(0.01326596), array(4.11875078), array(636.48992092), array(0.51838358), array(0.66872259), array(0.88994467), array(0.74525552), array(73.56115904), array(0.01060904), array(51.75555556), array(0.1277915), array(5.61185185), array(93.1382716), array(177.38765432), array(19687.5654321), array(1.64442599), array(0.01786441), array(109.85432099), array(0.27124524), array(0.52713485), array(47.18500903), array(0.01127274), array(5.54893428), array(0.22203947), array(157.10430727), array(0.89900375), array(0.00522415), array(64.81838563), array(0.01717079), array(0.68485553), 1]\n",
      "pancreas_264.dcm\n"
     ]
    },
    {
     "name": "stderr",
     "output_type": "stream",
     "text": [
      "GLCM is symmetrical, therefore Sum Average = 2 * Joint Average, only 1 needs to be calculated\n"
     ]
    },
    {
     "name": "stdout",
     "output_type": "stream",
     "text": [
      "[0.16865485462139534, 0.0, 0.0, 133.1636751276834, array(29.21875), array(51.5625), array(122.17943248), array(122.17943248), array(1407.81402588), 22.45870026951016, array(0.19674132), array(3087.583649), array(2.1931758), 1465.234375, array(34.), array(165.), array(25667539.), array(3.07405168), array(65.25), array(3.1733788), array(254.), array(40.39833283), array(101.74747984), array(105.), array(-102.), array(356.), array(28.12901452), array(113.74211024), array(-0.38192641), array(18956129.26635742), array(0.13917286), array(2584.7179876), array(95.09747072), array(514.54920663), array(-22.24941593), array(12.58261007), array(3.92239903), array(0.5248768), array(1.5309384), array(2.21532576), array(1.53772419), array(0.51062428), array(0.45030629), array(0.98537335), array(0.91712536), array(-0.09494049), array(0.64098864), array(0.43283525), array(9.64013939), array(0.02444572), array(5.80282052), array(0.55134207), array(0.04789169), array(19.28027878), array(3.82530831), array(4.12625228), array(5.20505563), array(471.42943548), array(0.23761564), array(1.47718848), array(276.11895161), array(4.27500625), array(96.36340726), array(8.03326613), array(797.02368952), array(0.09628794), array(0.01373617), array(0.32866416), array(30.90883677), array(0.00537858), array(213.25708844), array(0.13354116), array(4.55689893), array(95.7927198), array(1.85456568), array(180.61598809), array(0.02427759), array(0.01415216), array(3.97782177), array(1079.86720974), array(0.67446411), array(0.80493952), array(0.30400475), array(0.84763845), array(80.83706227), array(0.01228679), array(92.12280702), array(0.11544211), array(5.79701133), array(93.98746867), array(13.86967419), array(1420.69799499), array(0.15761788), array(0.01601806), array(255.22556391), array(0.31983153), array(0.58230974), array(54.19438123), array(0.01041271), array(5.43286319), array(0.40221774), array(7.68840648), array(1.47879626), array(0.00396609), array(104.50109943), array(0.04379665), array(0.34265833), 1]\n",
      "pancreas_265.dcm\n",
      "[0.7249728750336121, 0.0, 0.0, 44.71146640045066, array(36.953125), array(39.53125), array(47.10911588), array(47.10911588), array(967.96061198), 32.41460034330346, array(0.22909766), array(2065.54783316), array(2.13391724), 996.270751953125, array(92.), array(167.), array(25186042.), array(2.3606791), array(34.), array(6.4106416), array(266.), array(24.45093722), array(132.16456635), array(138.), array(-51.), array(317.), array(14.34889045), array(136.63878349), array(-1.2337506), array(18600531.50634766), array(0.25879808), array(1202.68455617), array(79.08693714), array(189.83864523), array(-16.0499892), array(5.47806615), array(1.65367949), array(0.53464365), array(0.89132346), array(1.72462789), array(0.84929122), array(0.65062402), array(0.62530054), array(0.99188967), array(0.9435341), array(-0.11971706), array(0.6389), array(0.47824915), array(8.83916191), array(0.08662969), array(4.34858367), array(0.58435477), array(0.20715965), array(17.67832383), array(3.09583714), array(1.78293641), array(4.93515032), array(198.93031875), array(0.14746503), array(3.51770771), array(349.11860638), array(1.95132325), array(79.4670126), array(18.39362491), array(1508.8102298), array(0.23812233), array(0.01532299), array(0.1894082), array(14.13548857), array(0.00407379), array(185.10988842), array(0.21327689), array(2.46878345), array(78.21252672), array(3.54071397), array(286.56459347), array(0.04925746), array(0.01655195), array(3.92825319), array(436.99742685), array(0.50200511), array(0.64288362), array(1.1013382), array(0.73486634), array(56.66118548), array(0.01297012), array(42.98591549), array(0.15135886), array(4.27435033), array(74.26760563), array(728.49647887), array(60262.92605634), array(8.88076418), array(0.02177767), array(85.01408451), array(0.29934537), array(0.55752472), array(40.39231306), array(0.01419217), array(5.11701411), array(0.21052632), array(705.93397887), array(1.03315282), array(0.00583261), array(50.19037846), array(0.01633218), array(0.52319495), 1]\n",
      "pancreas_266.dcm\n"
     ]
    },
    {
     "name": "stderr",
     "output_type": "stream",
     "text": [
      "GLCM is symmetrical, therefore Sum Average = 2 * Joint Average, only 1 needs to be calculated\n"
     ]
    },
    {
     "name": "stdout",
     "output_type": "stream",
     "text": [
      "[0.44898817057568086, 0.0, 0.0, 108.10564154178965, array(49.84375), array(85.9375), array(106.1249839), array(106.1249839), array(2288.81327311), 48.538154224758465, array(0.17013195), array(4936.7198686), array(2.15689062), 2367.71240234375, array(29.), array(131.), array(31571014.), array(2.65842561), array(41.), array(4.7676693), array(211.), array(30.69870552), array(89.92950717), array(98.), array(-97.), array(308.), array(18.56041272), array(99.23445901), array(-1.00672978), array(23315995.44677734), array(0.21060461), array(1760.16159346), array(68.78011807), array(388.94414998), array(-26.80773888), array(8.81078157), array(1.34456934), array(0.73448062), array(0.82233052), array(1.6068359), array(0.6616995), array(0.65992829), array(0.6386433), array(0.9923058), array(0.94361394), array(-0.21387618), array(0.81264626), array(0.49918495), array(8.18006716), array(0.07140901), array(4.59862715), array(0.78585894), array(0.16328359), array(16.36013432), array(3.39748945), array(2.53883773), array(5.28131407), array(499.90892077), array(0.15592917), array(3.08801028), array(675.19837804), array(2.90140445), array(68.79164067), array(18.01372427), array(1290.85901435), array(0.30539752), array(0.02147237), array(0.17548128), array(11.17086243), array(0.00578324), array(376.42041864), array(0.1828306), array(3.35455368), array(67.52214248), array(3.46307806), array(244.7446928), array(0.06490231), array(0.02374134), array(4.20481604), array(1012.78300938), array(0.48966325), array(0.64207735), array(1.01487626), array(0.72426137), array(48.18097854), array(0.01869416), array(80.32107023), array(0.13431617), array(5.37808302), array(63.52508361), array(389.23076923), array(28893.22073579), array(5.68532981), array(0.03490865), array(170.03344482), array(0.28433686), array(0.54851842), array(33.03638735), array(0.02268715), array(5.56778259), array(0.18652527), array(360.48826076), array(2.37010643), array(0.00296982), array(44.66981385), array(0.02243087), array(0.24408844), 1]\n",
      "pancreas_267.dcm\n"
     ]
    },
    {
     "name": "stderr",
     "output_type": "stream",
     "text": [
      "GLCM is symmetrical, therefore Sum Average = 2 * Joint Average, only 1 needs to be calculated\n",
      "GLCM is symmetrical, therefore Sum Average = 2 * Joint Average, only 1 needs to be calculated\n"
     ]
    },
    {
     "name": "stdout",
     "output_type": "stream",
     "text": [
      "[0.3269532736541035, 0.0, 0.0, 171.74143870269714, array(42.96875), array(129.765625), array(148.19672084), array(148.19672084), array(4193.65488688), 56.15142560591238, array(0.14182196), array(8867.52505165), array(2.11450997), 4290.83251953125, array(24.), array(201.), array(83932214.), array(3.2870897), array(68.), array(3.02397373), array(268.), array(47.9812854), array(102.4777969), array(102.), array(-95.), array(363.), array(31.31477535), array(120.19219692), array(0.0847279), array(61986071.13037109), array(0.12483978), array(3944.46534179), array(80.02570458), array(1642.73496276), array(17.29827805), array(23.10773892), array(1.61468014), array(0.86926418), array(0.90376421), array(1.70127824), array(0.7848083), array(0.6406034), array(0.61460601), array(0.99304952), array(0.94597091), array(-0.32192454), array(0.93429746), array(0.49531034), array(8.64014615), array(0.0342364), array(5.47001325), array(0.92928376), array(0.08533709), array(17.2802923), array(4.1482804), array(6.18060476), array(5.91460248), array(976.5211704), array(0.16807593), array(2.78784516), array(725.31910499), array(6.40395069), array(80.73149742), array(16.6605852), array(1425.15800344), array(0.29162897), array(0.02122927), array(0.17071593), array(12.79684092), array(0.00521741), array(453.76328057), array(0.11837029), array(6.65212115), array(78.8650958), array(3.21179945), array(268.75721705), array(0.06112644), array(0.02292788), array(4.70988396), array(1942.02516209), array(0.50420249), array(0.65942341), array(0.88594737), array(0.73521652), array(56.95024352), array(0.01794549), array(111.77114871), array(0.09952907), array(8.14694452), array(74.24398931), array(195.25734639), array(20927.1682992), array(2.41192872), array(0.03160847), array(239.94033838), array(0.21366014), array(0.46757412), array(33.64086551), array(0.01829601), array(6.38152578), array(0.19328744), array(168.49077454), array(2.78052544), array(0.00264541), array(51.89085034), array(0.0356005), array(0.22519024), 1]\n",
      "pancreas_268.dcm\n",
      "[0.24999223109353222, 0.0, 0.0, 105.14393450667868, array(36.09375), array(56.71875), array(97.96121133), array(97.96121133), array(1554.22668457), 26.285166773276828, array(0.19195302), array(3380.37916246), array(2.1749589), 1611.46240234375, array(32.), array(159.), array(31468555.), array(2.79891241), array(69.), array(2.72478007), array(213.), array(40.10731752), array(109.92071494), array(125.5), array(-60.), array(273.), array(29.59113059), array(120.09115656), array(-0.78820627), array(23240326.8737793), array(0.17410175), array(2339.3223115), array(66.43122116), array(497.18336429), array(-41.97283624), array(13.47139026), array(1.51537939), array(0.79767892), array(0.86748383), array(1.68379196), array(0.74959131), array(0.65354738), array(0.62857394), array(0.98990029), array(0.936625), array(-0.24467168), array(0.85421141), array(0.47873594), array(7.96505912), array(0.05590754), array(4.8326537), array(0.82115659), array(0.13905369), array(15.93011824), array(3.61151361), array(3.74669241), array(5.39146616), array(339.02383135), array(0.15537297), array(3.33969542), array(379.89000917), array(3.87104915), array(66.49266728), array(18.0751604), array(1261.99587534), array(0.37745336), array(0.02213446), array(0.17071664), array(10.45674079), array(0.00482622), array(222.36464504), array(0.15794118), array(3.8409669), array(64.85327003), array(3.51603151), array(239.51576958), array(0.07619526), array(0.02298736), array(4.25180922), array(710.01779569), array(0.50150505), array(0.64516499), array(1.08690998), array(0.73361064), array(46.43944425), array(0.01757928), array(58.63380282), array(0.13763803), array(4.42044678), array(59.34037559), array(403.90140845), array(31735.79107981), array(6.06380309), array(0.02860004), array(96.5258216), array(0.22658644), array(0.47150956), array(27.91211226), array(0.01580262), array(5.67662975), array(0.19523373), array(377.66585113), array(1.59294657), array(0.00531193), array(36.13031666), array(0.03316614), array(0.34594666), 1]\n",
      "pancreas_269.dcm\n"
     ]
    },
    {
     "name": "stderr",
     "output_type": "stream",
     "text": [
      "GLCM is symmetrical, therefore Sum Average = 2 * Joint Average, only 1 needs to be calculated\n",
      "GLCM is symmetrical, therefore Sum Average = 2 * Joint Average, only 1 needs to be calculated\n"
     ]
    },
    {
     "name": "stdout",
     "output_type": "stream",
     "text": [
      "[0.3803640411116785, 0.0, 0.0, 125.39795068674829, array(42.109375), array(119.453125), array(123.18174652), array(123.18174652), array(2726.5741984), 47.696871270334555, array(0.16074188), array(5871.73732665), array(2.15352193), 2815.997314453125, array(33.), array(150.), array(43050547.), array(2.89812657), array(50.), array(3.58675014), array(227.), array(34.86242374), array(95.71597168), array(99.), array(-88.), array(315.), array(22.20510453), array(106.25660468), array(-0.37910067), array(31793922.03979492), array(0.16835795), array(2128.91880339), array(72.92068324), array(470.57916528), array(-14.65227741), array(11.16261206), array(1.91661045), array(0.70570769), array(1.02779636), array(1.79876603), array(0.84235077), array(0.60579109), array(0.57135186), array(0.99054291), array(0.93499069), array(-0.19066504), array(0.80396868), array(0.49343628), array(8.40291286), array(0.04476478), array(5.15621017), array(0.73260287), array(0.10341057), array(16.80582571), array(3.68677139), array(3.26980563), array(5.40857462), array(684.6344086), array(0.17955269), array(2.46829854), array(641.94885917), array(3.48823318), array(73.34854445), array(13.60215054), array(1018.65722528), array(0.22064331), array(0.01857652), array(0.21779162), array(15.56680262), array(0.00485719), array(418.58911759), array(0.1551263), array(3.81260757), array(72.83328237), array(2.68244438), array(198.32129954), array(0.04684837), array(0.0194111), array(4.17006964), array(1522.94092417), array(0.56156019), array(0.70790716), array(0.66614617), array(0.77650181), array(56.19217658), array(0.01561797), array(125.25786164), array(0.13129755), array(5.12782546), array(70.40880503), array(189.81656184), array(14926.73375262), array(2.52205078), array(0.02318452), array(257.42348008), array(0.26983593), array(0.5300617), array(37.37618202), array(0.01302185), array(5.69215849), array(0.2501967), array(173.84170919), array(2.76567666), array(0.00248076), array(61.53988196), array(0.02794952), array(0.20620596), 1]\n",
      "pancreas_270.dcm\n",
      "[0.3917879154253129, 0.0, 0.0, 121.02237821967252, array(42.109375), array(104.84375), array(105.06891804), array(105.06891804), array(1913.27311198), 47.41510528249928, array(0.17935491), array(4155.48929245), array(2.17192688), 1982.940673828125, array(-7.), array(120.), array(14297145.), array(3.01915654), array(71.), array(3.11203184), array(221.), array(41.31774026), array(52.058473), array(45.), array(-80.), array(301.), array(29.49499943), array(72.97137267), array(0.55837602), array(10558804.59594727), array(0.14409857), array(2614.73661815), array(46.69749369), array(697.13259408), array(37.88441381), array(14.60931369), array(1.99463449), array(0.75972159), array(1.04486339), array(1.82893286), array(0.88618152), array(0.60404421), array(0.56860523), array(0.98865704), array(0.92963083), array(-0.21310653), array(0.84256346), array(0.4868237), array(6.59877081), array(0.0341437), array(5.35723653), array(0.8245564), array(0.08366872), array(13.19754163), array(3.86662406), array(4.15098704), array(5.52473948), array(491.77914339), array(0.18315797), array(2.47553184), array(386.90465549), array(4.23277343), array(47.77802607), array(13.52960894), array(640.87523277), array(0.41123066), array(0.03205826), array(0.21477394), array(10.54090101), array(0.00766319), array(264.38638046), array(0.13886079), array(4.26088902), array(47.99377604), array(2.61863971), array(124.82640721), array(0.08179897), array(0.03267213), array(4.23604161), array(1066.09575251), array(0.55744749), array(0.7094041), array(0.6168927), array(0.77332837), array(37.33316244), array(0.02565859), array(88.32290185), array(0.12563713), array(4.87259844), array(49.36130868), array(63.83357041), array(2720.0113798), array(2.06805123), array(0.03583917), array(167.89046942), array(0.23882001), array(0.49238854), array(24.45678421), array(0.01906696), array(5.78233558), array(0.26182495), array(49.24616913), array(3.04852195), array(0.00395653), array(50.09751107), array(0.03909476), array(0.24723464), 1]\n",
      "pancreas_274.dcm\n"
     ]
    },
    {
     "name": "stderr",
     "output_type": "stream",
     "text": [
      "GLCM is symmetrical, therefore Sum Average = 2 * Joint Average, only 1 needs to be calculated\n",
      "GLCM is symmetrical, therefore Sum Average = 2 * Joint Average, only 1 needs to be calculated\n"
     ]
    },
    {
     "name": "stdout",
     "output_type": "stream",
     "text": [
      "[0.2560982253379354, 0.0, 0.0, 133.43929073378663, array(30.078125), array(121.171875), array(123.08278246), array(123.08278246), array(1954.87670898), 34.173565547275565, array(0.17707952), array(4269.68034716), array(2.18411746), 2030.94482421875, array(6.), array(188.), array(70268779.), array(3.63420257), array(98.), array(31.16370002), array(866.), array(71.4241124), array(79.37272727), array(91.), array(-955.), array(1821.), array(39.92099343), array(159.85081568), array(-4.45364892), array(51895277.4597168), array(0.09946208), array(19252.25343802), array(1846.85538543), array(414563.98966785), array(-5580.02528349), array(109.60850967), array(7.15632154), array(0.87702743), array(1.46530878), array(2.14766366), array(4.9644131), array(0.54444947), array(0.49494631), array(0.99884971), array(0.98124927), array(-0.26363949), array(0.91679838), array(0.45996819), array(42.67600442), array(0.01854593), array(6.26475597), array(0.97271074), array(0.0374725), array(85.35200883), array(4.49242481), array(29.1912078), array(5.93144855), array(582.87636364), array(0.21195504), array(1.87865441), array(273.52072727), array(30.85799881), array(1852.68872727), array(9.87418182), array(18428.77672727), array(0.00942277), array(0.00165729), array(0.2872964), array(525.99432797), array(0.00081809), array(206.75176266), array(0.09746356), array(34.43765937), array(1848.80610826), array(2.11438037), array(3929.10334533), array(0.00285734), array(0.00186286), array(4.65007967), array(1357.20446673), array(0.63727383), array(0.77154545), array(0.421031), array(0.82529612), array(1523.41811345), array(0.00167329), array(84.19032597), array(0.08852821), array(50.28958615), array(1835.90746583), array(25.49737119), array(46757.15247108), array(0.02046016), array(0.0027456), array(288.01997897), array(0.30286013), array(0.56616165), array(1029.83758021), array(0.0019981), array(6.14480834), array(0.34581818), array(17.13548304), array(0.07258119), array(0.00436953), array(1525.60701369), array(0.02907117), array(18.71691222), 1]\n",
      "pancreas_275.dcm\n",
      "[0.29115638796521554, 0.0, 0.0, 134.28040690627685, array(35.234375), array(110.), array(135.16250437), array(135.16250437), array(2621.02661133), 39.09659824933095, array(0.16397217), array(5606.54021701), array(2.13906268), 2697.0947265625, array(15.), array(142.), array(56198169.), array(3.1184406), array(63.), array(69.04778169), array(249.), array(47.87971167), array(76.82119387), array(91.), array(-1010.), array(1259.), array(26.42598493), array(124.04969436), array(-6.9629738), array(41503774.71313477), array(0.14846281), array(9486.83084326), array(2014.4894929), array(191413.96161018), array(-2511.62435458), array(47.06021798), array(3.0211678), array(0.87470198), array(1.18935789), array(1.92201216), array(1.56791981), array(0.57664567), array(0.53599303), array(0.99886589), array(0.97773406), array(-0.20033637), array(0.82436448), array(0.48959925), array(44.76022746), array(0.03542312), array(5.45699037), array(0.98446846), array(0.07631756), array(89.52045492), array(3.8744537), array(12.52034645), array(5.50840095), array(712.95728368), array(0.19522379), array(2.10520935), array(542.18619934), array(15.33393786), array(2003.58543264), array(11.57447974), array(23516.13855422), array(0.00954588), array(0.00144089), array(0.25060723), array(489.72478867), array(0.0004485), array(374.85667843), array(0.13858948), array(18.51367541), array(1994.32453884), array(2.3947532), array(4831.04596264), array(0.00280523), array(0.00161103), array(4.2895932), array(1629.35976127), array(0.59839084), array(0.74034775), array(0.54001112), array(0.80008056), array(1589.79535633), array(0.00138544), array(117.76603774), array(0.11110004), array(34.58938768), array(1950.5509434), array(57.66981132), array(118515.8245283), array(0.03448706), array(0.00230438), array(314.68113208), array(0.29686899), array(0.56117094), array(1079.54278352), array(0.00106148), array(5.89937997), array(0.29025192), array(45.79983624), array(0.14667264), array(0.00256451), array(1102.71357143), array(0.02080399), array(13.69929802), 1]\n",
      "pancreas_276.dcm\n"
     ]
    },
    {
     "name": "stderr",
     "output_type": "stream",
     "text": [
      "GLCM is symmetrical, therefore Sum Average = 2 * Joint Average, only 1 needs to be calculated\n",
      "GLCM is symmetrical, therefore Sum Average = 2 * Joint Average, only 1 needs to be calculated\n"
     ]
    },
    {
     "name": "stdout",
     "output_type": "stream",
     "text": [
      "[0.613514458997315, 0.0, 0.0, 75.77898237426294, array(48.125), array(61.875), array(71.49359572), array(71.49359572), array(1261.46291097), 46.491501374713, array(0.20177413), array(2798.13261815), array(2.21816479), 1321.96044921875, array(4.), array(123.), array(38795892.), array(3.10540785), array(60.), array(54.86927186), array(1387.), array(51.25206954), array(81.0603352), array(74.), array(-240.), array(1627.), array(25.37208258), array(147.21984473), array(6.45475243), array(28651751.29394531), array(0.15348335), array(15102.90473955), array(212.14200581), array(419601.99043648), array(5475.76867487), array(93.01554738), array(9.87353881), array(0.80867199), array(1.40430199), array(2.03978434), array(7.87055861), array(0.59045764), array(0.55458862), array(0.99797673), array(0.98048819), array(-0.24512218), array(0.88033541), array(0.47972808), array(13.8331527), array(0.03672699), array(5.45463912), array(0.87085638), array(0.09038764), array(27.66630539), array(3.98313226), array(25.72227155), array(5.53749807), array(334.26256983), array(0.18673887), array(2.38380949), array(274.73519553), array(24.13995069), array(213.59441341), array(12.68826816), array(2328.18994413), array(0.07800407), array(0.00681583), array(0.23677007), array(70.41026023), array(0.0021618), array(187.53871436), array(0.14483555), array(31.01272803), array(225.50628531), array(2.52290871), array(502.79890964), array(0.01634236), array(0.00708842), array(4.32902902), array(755.28821991), array(0.5812033), array(0.72374302), array(0.60230674), array(0.78986682), array(186.8544195), array(0.00580175), array(56.09127789), array(0.11377541), array(66.22801164), array(287.77281947), array(69.73225152), array(13053.38336714), array(0.40500433), array(0.0087041), array(140.32251521), array(0.28462985), array(0.54908691), array(195.10158769), array(0.00596658), array(5.92968157), array(0.27541899), array(56.5493131), array(0.20715436), array(0.00525725), array(1248.84502992), array(0.02685869), array(31.50450027), 1]\n",
      "pancreas_277.dcm\n",
      "[0.3447394795260925, 0.0, 0.0, 133.38639091410658, array(37.8125), array(90.234375), array(125.84783273), array(125.84783273), array(2225.3616333), 45.983554979593016, array(0.17044856), array(4836.05452152), array(2.17315444), 2306.414794921875, array(4.), array(123.), array(29263109.), array(3.01046304), array(56.), array(49.83880956), array(211.), array(41.22355749), array(67.78386167), array(78.), array(-754.), array(965.), array(24.24767756), array(96.79975105), array(-4.98304521), array(21611549.00512695), array(0.16056334), array(4775.53989966), array(1184.32421202), array(34677.24288306), array(-649.10475871), array(25.18986881), array(2.33003672), array(0.82900734), array(1.00481133), array(1.78061956), array(1.30102269), array(0.61949711), array(0.59011787), array(0.99859402), array(0.97617916), array(-0.2474647), array(0.87089971), array(0.50416243), array(34.33086414), array(0.04462514), array(5.1782398), array(0.94783936), array(0.10523809), array(68.66172827), array(3.82032926), array(6.87997638), array(5.52149885), array(544.79314761), array(0.17444545), array(2.54249175), array(501.43932117), array(7.72672032), array(1178.99679795), array(14.38904899), array(17415.35030419), array(0.01480699), array(0.001611), array(0.20758203), array(234.75095381), array(0.00042699), array(323.38307757), array(0.14897901), array(9.34383889), array(1167.39527739), array(2.79087785), array(3337.39216114), array(0.00369127), array(0.00183247), array(4.32351466), array(1186.79704773), array(0.54432127), array(0.69476465), array(0.69678961), array(0.76463916), array(885.38632558), array(0.00154255), array(84.96363636), array(0.11883026), array(17.60353269), array(1121.14405594), array(242.5972028), array(299487.00559441), array(0.20346623), array(0.00270072), array(197.74685315), array(0.27656903), array(0.54126505), array(596.59484784), array(0.00117742), array(5.83730759), array(0.22894653), array(223.51924495), array(0.18688354), array(0.00337111), array(471.02940952), array(0.01317587), array(7.31693363), 1]\n",
      "pancreas_278.dcm\n"
     ]
    },
    {
     "name": "stderr",
     "output_type": "stream",
     "text": [
      "GLCM is symmetrical, therefore Sum Average = 2 * Joint Average, only 1 needs to be calculated\n",
      "GLCM is symmetrical, therefore Sum Average = 2 * Joint Average, only 1 needs to be calculated\n"
     ]
    },
    {
     "name": "stdout",
     "output_type": "stream",
     "text": [
      "[0.3114708530231101, 0.0, 0.0, 115.037970192947, array(34.375), array(74.765625), array(113.65863862), array(113.65863862), array(1443.26324463), 35.83097470604432, array(0.19321562), array(3196.48197328), array(2.21476019), 1508.06884765625, array(-51.), array(112.), array(10903927.), array(3.37074248), array(86.), array(2.97480754), array(198.), array(50.65196735), array(36.25416259), array(43.), array(-199.), array(397.), array(35.3784788), array(73.0741208), array(-0.4281948), array(8052826.94702148), array(0.11242651), array(4025.46282547), array(104.64183091), array(1199.50327095), array(-45.40666918), array(19.73183322), array(5.89778072), array(0.53991101), array(1.89707038), array(2.47666814), array(2.24768381), array(0.46241329), array(0.38913144), array(0.97844956), array(0.90005142), array(-0.08988643), array(0.65929234), array(0.38057164), array(10.05892007), array(0.0161985), array(6.40363724), array(0.5648984), array(0.03395694), array(20.11784014), array(4.14098748), array(6.40740349), array(5.3485434), array(546.05386876), array(0.2674113), array(1.26882289), array(229.57492654), array(6.55775267), array(105.92213516), array(6.41429971), array(718.10528893), array(0.07452378), array(0.01456675), array(0.40366211), array(40.5949972), array(0.00734401), array(186.58161728), array(0.10858557), array(6.88648728), array(104.80291485), array(1.64852987), array(177.44366112), array(0.02249965), array(0.01515443), array(4.12971585), array(1257.30888822), array(0.73037994), array(0.84145446), array(0.23162856), array(0.87881379), array(91.28554192), array(0.01374327), array(97.6999003), array(0.09740768), array(8.08959761), array(101.23230309), array(8.19940179), array(913.94915254), array(0.09456069), array(0.01742653), array(386.20638086), array(0.38505123), array(0.64110134), array(63.15131745), array(0.0126884), array(5.35154296), array(0.49118511), array(4.05454424), array(1.55073309), array(0.00373214), array(142.82531937), array(0.07348005), array(0.34921092), 1]\n",
      "pancreas_279.dcm\n",
      "[0.4874096387060838, 0.0, 0.0, 115.49601881845743, array(47.265625), array(85.078125), array(106.97751845), array(106.97751845), array(1977.77099609), 56.29387280429538, array(0.17610291), array(4326.8142862), array(2.18772259), 2056.0546875, array(-33.), array(112.), array(13022903.), array(3.18862691), array(61.), array(4.48802673), array(271.), array(44.1254877), array(32.76185345), array(24.), array(-124.), array(395.), array(27.03930413), array(68.39420211), array(0.90672276), array(9617744.52514648), array(0.14355817), array(3604.42784082), array(51.12134539), array(1874.18741159), array(85.17199378), array(19.61414339), array(2.08014969), array(0.80766431), array(1.05724449), array(1.84719138), array(0.94134816), array(0.60279278), array(0.56771753), array(0.99211905), array(0.94095897), array(-0.23706708), array(0.87289258), array(0.48978185), array(6.83647842), array(0.03705259), array(5.5288803), array(0.86055213), array(0.09992703), array(13.67295684), array(4.02243133), array(5.42357327), array(5.66480365), array(509.79597701), array(0.18311637), array(2.40364274), array(399.66594828), array(5.81296603), array(52.45833333), array(13.27658046), array(667.31106322), array(0.41079651), array(0.03701465), array(0.21984395), array(12.09568325), array(0.00978717), array(260.67627786), array(0.13137242), array(6.25100386), array(53.17635115), array(2.6195591), array(134.23598941), array(0.08905949), array(0.03899321), array(4.43923525), array(1128.15712706), array(0.56528793), array(0.71282328), array(0.62955563), array(0.77809166), array(41.78467323), array(0.03146072), array(79.68378378), array(0.10768079), array(7.66993426), array(55.39189189), array(60.73783784), array(2850.24054054), array(1.65060946), array(0.04694788), array(185.51351351), array(0.25069394), array(0.5068107), array(28.64419805), array(0.02501455), array(6.00931775), array(0.2658046), array(46.5839737), array(1.97166236), array(0.0042827), array(75.04119602), array(0.03312086), array(0.50185677), 1]\n",
      "pancreas_280.dcm\n"
     ]
    },
    {
     "name": "stderr",
     "output_type": "stream",
     "text": [
      "GLCM is symmetrical, therefore Sum Average = 2 * Joint Average, only 1 needs to be calculated\n",
      "GLCM is symmetrical, therefore Sum Average = 2 * Joint Average, only 1 needs to be calculated\n"
     ]
    },
    {
     "name": "stdout",
     "output_type": "stream",
     "text": [
      "[0.30357007460180413, 0.0, 0.0, 148.36480435339442, array(38.671875), array(116.015625), array(136.73517758), array(136.73517758), array(2700.04882812), 45.03911472584202, array(0.16230538), array(5777.39810826), array(2.13973838), 2776.85546875, array(28.), array(141.), array(44074101.), array(2.79416686), array(51.), array(4.0155614), array(281.), array(35.48887081), array(97.38164894), array(107.), array(-69.), array(350.), array(23.09571701), array(108.26742526), array(-0.25433789), array(32549842.6574707), array(0.19379004), array(2238.64982281), array(58.0903373), array(650.90039893), array(-14.94545509), array(12.38836147), array(1.4198236), array(0.79391501), array(0.84094444), array(1.64418475), array(0.69725582), array(0.65921212), array(0.63558613), array(0.99384432), array(0.94947589), array(-0.25665548), array(0.86283135), array(0.48028813), array(7.43963123), array(0.06723185), array(4.79129963), array(0.83628139), array(0.18297285), array(14.87926246), array(3.58533281), array(3.45204627), array(5.43552334), array(562.23351064), array(0.14953019), array(3.45676749), array(728.65053191), array(3.63190011), array(58.64015957), array(18.87074468), array(1142.07526596), array(0.42974627), array(0.0264979), array(0.17136592), array(10.16471969), array(0.00497939), array(388.44889609), array(0.16280113), array(4.04915198), array(57.92280296), array(3.83175246), array(230.10709331), array(0.09073312), array(0.02806467), array(4.35592365), array(1186.30742996), array(0.49325862), array(0.63424202), array(1.29196863), array(0.72694923), array(41.84853912), array(0.02102571), array(101.05825243), array(0.14016401), array(5.27467822), array(57.91262136), array(899.28710125), array(57300.19278779), array(14.6729822), array(0.03192828), array(177.72676838), array(0.24650037), array(0.50401009), array(30.96992454), array(0.01500879), array(5.76148481), array(0.19175532), array(872.09109324), array(2.31222356), array(0.00285749), array(57.17849235), array(0.02005454), array(0.31154265), 1]\n",
      "pancreas_283.dcm\n",
      "[0.6190465620643225, 0.0, 0.0, 69.76443165675673, array(42.109375), array(62.734375), array(63.32025226), array(63.32025226), array(1025.87331136), 43.18743157148664, array(0.21511492), array(2286.7011126), array(2.22902876), 1075.29296875, array(53.), array(189.), array(42607600.), array(3.18838144), array(64.), array(36.48465407), array(1092.), array(53.97422752), array(130.00137363), array(116.), array(-32.), array(1124.), array(28.01694326), array(171.06566441), array(5.18311601), array(31466794.43359375), array(0.13862022), array(12363.10439372), array(76.96275811), array(178285.3121501), array(3049.79624671), array(72.15454613), array(6.19809344), array(0.84162104), array(1.04019375), array(1.74767571), array(5.09652793), array(0.67260373), array(0.65429859), array(0.99742159), array(0.97962325), array(-0.37303966), array(0.95053381), array(0.47001809), array(7.77646341), array(0.0423117), array(5.16988525), array(0.9163553), array(0.09290494), array(15.55292683), array(4.09383169), array(19.58815989), array(5.85292703), array(218.375), array(0.14998283), array(3.31622087), array(201.83104396), array(19.79861845), array(79.41483516), array(19.58104396), array(1120.57142857), array(0.48363477), array(0.02656576), array(0.17259367), array(31.65973058), array(0.00510338), array(118.76718009), array(0.131314), array(29.02587546), array(93.77084448), array(3.68427528), array(245.96693307), array(0.09273649), array(0.02746649), array(4.76889468), array(416.64910761), array(0.45952753), array(0.62087912), array(1.06808659), array(0.70073824), array(77.13923218), array(0.01962706), array(29.47482014), array(0.10602453), array(74.86248124), array(175.43884892), array(190.83453237), array(12066.64028777), array(3.83722162), array(0.03079545), array(80.71942446), array(0.29035764), array(0.55790561), array(144.77500814), array(0.01748374), array(6.02555409), array(0.19093407), array(163.40406811), array(0.22968827), array(0.00978958), array(690.52634366), array(0.01921967), array(31.3456753), 1]\n",
      "pancreas_284.dcm\n"
     ]
    },
    {
     "name": "stderr",
     "output_type": "stream",
     "text": [
      "GLCM is symmetrical, therefore Sum Average = 2 * Joint Average, only 1 needs to be calculated\n",
      "GLCM is symmetrical, therefore Sum Average = 2 * Joint Average, only 1 needs to be calculated\n"
     ]
    },
    {
     "name": "stdout",
     "output_type": "stream",
     "text": [
      "[0.253905123982335, 0.0, 0.0, 201.12405014370898, array(40.390625), array(116.015625), array(150.88089729), array(150.88089729), array(2351.58793132), 51.066426887567786, array(0.16828746), array(5081.6706193), array(2.16095284), 2431.964111328125, array(30.), array(211.), array(73591147.), array(3.46595321), array(81.), array(3.59624259), array(310.), array(54.23889285), array(131.69662921), array(143.), array(-118.), array(428.), array(35.18307105), array(149.49164491), array(-0.70990131), array(54348930.5847168), array(0.11327574), array(5003.74975177), array(124.73897205), array(2556.30969942), array(-93.05195741), array(26.12108871), array(3.77720884), array(0.74634582), array(1.46090586), array(2.19477271), array(1.59085357), array(0.52878174), array(0.47392312), array(0.98881145), array(0.92870493), array(-0.18876873), array(0.83851059), array(0.44290444), array(10.91570872), array(0.02216714), array(6.18012121), array(0.75911519), array(0.06387157), array(21.83141745), array(4.28972124), array(7.47457439), array(5.70086187), array(715.25265715), array(0.21720397), array(1.85524088), array(373.01700577), array(8.12737839), array(124.67294261), array(9.34983298), array(1270.38748861), array(0.10010871), array(0.01511335), array(0.30597466), array(34.39608804), array(0.00618039), array(273.10631114), array(0.10597768), array(8.66002068), array(121.83889749), array(2.06048974), array(266.61717505), array(0.02739931), array(0.01624229), array(4.4507485), array(1699.71445733), array(0.65665708), array(0.78279684), array(0.41423863), array(0.83682549), array(100.1985795), array(0.01430972), array(110.23051682), array(0.090427), array(10.31825734), array(112.04840033), array(23.17227235), array(3308.12633306), array(0.21285304), array(0.02051433), array(391.22641509), array(0.32094046), array(0.58073754), array(61.93162292), array(0.01321985), array(5.84789376), array(0.37017917), array(15.87473965), array(1.38944981), array(0.00312418), array(130.04845572), array(0.05203912), array(0.40980235), 1]\n",
      "pancreas_285.dcm\n",
      "[0.27222743781621184, 0.0, 0.0, 109.60757153947661, array(30.078125), array(73.046875), array(102.67283684), array(102.67283684), array(1588.6912028), 29.838188365448858, array(0.19057176), array(3455.03069072), array(2.17476542), 1646.91162109375, array(31.), array(139.), array(21142980.), array(2.81145994), array(52.), array(3.41752937), array(240.), array(33.03236421), array(87.66188341), array(89.), array(-67.), array(307.), array(22.58739322), array(97.37123266), array(-0.13191895), array(15614627.56347656), array(0.17190171), array(1796.55114802), array(51.15146862), array(252.65221846), array(-3.75010853), array(8.16366355), array(3.22844358), array(0.43282715), array(1.3891159), array(2.10923347), array(1.28563439), array(0.53149737), array(0.47676178), array(0.98192695), array(0.90885536), array(-0.0662149), array(0.54544211), array(0.45211008), array(7.06523118), array(0.03436132), array(5.39323663), array(0.47093635), array(0.07345898), array(14.13046236), array(3.52873756), array(2.84802678), array(5.02497928), array(488.51210762), array(0.21906373), array(1.699114), array(383.34080717), array(2.94187697), array(52.31928251), array(9.0206278), array(475.09506726), array(0.20836053), array(0.0272108), array(0.31239495), array(16.18471164), array(0.01055511), array(284.05261344), array(0.16189137), array(3.21097759), array(52.22453916), array(1.97778128), array(103.86127154), array(0.05067817), array(0.02831303), array(3.79576146), array(1144.37786672), array(0.65129567), array(0.7867713), array(0.35811012), array(0.83430002), array(43.50994813), array(0.02442089), array(110.56280193), array(0.13352995), array(4.30854862), array(51.89855072), array(20.61594203), array(1089.98792271), array(0.45567297), array(0.03303754), array(277.9468599), array(0.33568461), array(0.59936088), array(30.92919028), array(0.02227491), array(5.24552359), array(0.37130045), array(13.36241803), array(2.85361391), array(0.00316922), array(71.39463271), array(0.03790179), array(0.19657067), 1]\n",
      "pancreas_286.dcm\n"
     ]
    },
    {
     "name": "stderr",
     "output_type": "stream",
     "text": [
      "GLCM is symmetrical, therefore Sum Average = 2 * Joint Average, only 1 needs to be calculated\n",
      "GLCM is symmetrical, therefore Sum Average = 2 * Joint Average, only 1 needs to be calculated\n"
     ]
    },
    {
     "name": "stdout",
     "output_type": "stream",
     "text": [
      "[0.400776337229899, 0.0, 0.0, 99.50058718064979, array(44.6875), array(72.1875), array(97.66674944), array(97.66674944), array(2407.40814209), 39.87748088248507, array(0.17039682), array(5097.87423869), array(2.11757788), 2466.6748046875, array(27.), array(123.), array(25899667.), array(2.64567271), array(44.), array(4.43837617), array(186.), array(29.79475367), array(78.58413174), array(84.), array(-88.), array(274.), array(18.92145021), array(88.05902178), array(-0.91965173), array(19127561.68823242), array(0.19923751), array(1578.92555658), array(61.01147187), array(312.88666539), array(-25.56381394), array(8.01530547), array(1.92221997), array(0.61230379), array(1.04379079), array(1.78705259), array(0.81275464), array(0.59817798), array(0.5629822), array(0.9872037), array(0.92427488), array(-0.13754345), array(0.69934372), array(0.50315178), array(7.71284133), array(0.05246813), array(4.85919595), array(0.72571851), array(0.11585549), array(15.42568267), array(3.38237546), array(2.48438136), array(5.07922817), array(632.88982036), array(0.18948797), array(2.21866471), array(665.45329341), array(2.62458129), array(61.37634731), array(12.85329341), array(801.79371257), array(0.24988947), array(0.02375613), array(0.21751218), array(13.12393739), array(0.00737115), array(440.21553355), array(0.18377135), array(2.92602113), array(61.04641779), array(2.57692872), array(159.32063936), array(0.05566294), array(0.02536785), array(3.89722669), array(1369.3793975), array(0.56909457), array(0.71736527), array(0.61621404), array(0.78141268), array(47.47256509), array(0.02092503), array(119.31212485), array(0.14323184), array(4.4597623), array(60.12605042), array(192.28811525), array(12323.23529412), array(3.11330546), array(0.03418955), array(218.57022809), array(0.26238923), array(0.5209564), array(31.28254146), array(0.02179672), array(5.57074092), array(0.2494012), array(176.21119228), array(3.52015716), array(0.00240085), array(47.78130506), array(0.02992348), array(0.15181765), 1]\n",
      "pancreas_287.dcm\n",
      "[0.8400659243976547, 0.0, 0.0, 62.97871884933335, array(55.), array(53.28125), array(71.53490359), array(71.53490359), array(1196.22650146), 52.90627566754522, array(0.20373981), array(2674.75393256), array(2.23599287), 1256.97021484375, array(7.2), array(175.), array(48954944.), array(3.34088247), array(59.75), array(30.43676316), array(1300.), array(60.80664208), array(116.61574618), array(130.), array(-846.), array(2146.), array(28.03838828), array(169.59713099), array(0.29341372), array(36154469.140625), array(0.15348916), array(15163.95458167), array(1551.98841202), array(125615.49019315), array(404.1579389), array(63.9193557), array(13.14613815), array(0.65771167), array(1.40113447), array(2.0649884), array(11.13221759), array(0.61740722), array(0.58648994), array(0.99848408), array(0.9852212), array(-0.30135046), array(0.92270221), array(0.45887501), array(39.23380613), array(0.04838303), array(5.49086109), array(0.9834133), array(0.14004185), array(78.46761226), array(4.07786041), array(19.26637346), array(5.85076335), array(268.8319624), array(0.15795062), array(3.34531297), array(261.23854289), array(24.30306918), array(1558.99059929), array(15.82256169), array(24833.59459459), array(0.01134806), array(0.00156631), array(0.22518949), array(366.09567915), array(0.00099592), array(146.83160409), array(0.12627391), array(32.85365207), array(1559.16906815), array(3.05439848), array(4783.10802722), array(0.00334673), array(0.00197848), array(4.78754026), array(640.48445572), array(0.54878944), array(0.68346063), array(0.90072862), array(0.76785926), array(1200.29295144), array(0.00181484), array(35.71040724), array(0.08079278), array(72.33384349), array(1600.2239819), array(211.98190045), array(337674.64253394), array(0.1372775), array(0.00400585), array(137.98642534), array(0.31218648), array(0.57104571), array(960.80935953), array(0.00359814), array(6.19033133), array(0.25969448), array(197.15417375), array(0.0429343), array(0.00657034), array(1644.68508085), array(0.01765535), array(29.85115434), 1]\n",
      "pancreas_289.dcm\n"
     ]
    },
    {
     "name": "stderr",
     "output_type": "stream",
     "text": [
      "GLCM is symmetrical, therefore Sum Average = 2 * Joint Average, only 1 needs to be calculated\n",
      "GLCM is symmetrical, therefore Sum Average = 2 * Joint Average, only 1 needs to be calculated\n"
     ]
    },
    {
     "name": "stdout",
     "output_type": "stream",
     "text": [
      "[0.44979014479229945, 0.0, 0.0, 130.36045355062979, array(49.84375), array(113.4375), array(115.4764671), array(115.4764671), array(3038.90889486), 58.634847277727594, array(0.15729954), array(6450.12985472), array(2.12251505), 3115.838623046875, array(35.), array(125.), array(36173615.), array(2.61320947), array(43.), array(12.7069867), array(194.), array(29.07537505), array(83.4721498), array(88.), array(-294.), array(488.), array(19.01492898), array(92.59577977), array(-1.69570117), array(26715133.14819336), array(0.20434578), array(1606.37863892), array(253.70258609), array(964.16041322), array(-44.7290162), array(8.88143724), array(1.31136525), array(0.74220832), array(0.82438445), array(1.59099393), array(0.61770347), array(0.65799219), array(0.63542931), array(0.99676046), array(0.96176956), array(-0.21205922), array(0.8061305), array(0.49446849), array(15.86852372), array(0.06121285), array(4.63715681), array(0.86349767), array(0.12359255), array(31.73704744), array(3.44900577), array(2.54820062), array(5.29257573), array(680.53022043), array(0.16130131), array(2.93955228), array(862.13486608), array(2.68503959), array(254.01161413), array(18.05522636), array(4612.13581417), array(0.07527658), array(0.00475052), array(0.16012999), array(40.50492156), array(0.00086546), array(511.08515524), array(0.1896474), array(3.13302843), array(253.36254907), array(3.49750688), array(892.13945607), array(0.0154375), array(0.00504247), array(4.15020811), array(1299.93197655), array(0.47807118), array(0.63901398), array(0.9974489), array(0.7135354), array(180.46172578), array(0.00379137), array(106.37414966), array(0.14472673), array(5.41042343), array(250.94013605), array(331.17687075), array(86401.81904762), array(1.28868158), array(0.00625921), array(168.05034014), array(0.22863992), array(0.4848954), array(122.94721535), array(0.00273017), array(5.83807387), array(0.1742119), array(298.22770883), array(0.94789183), array(0.0022844), array(129.40547317), array(0.00914501), array(0.93494389), 1]\n",
      "pancreas_290.dcm\n",
      "[0.27764691729682367, 0.0, 0.0, 108.50158609041048, array(29.21875), array(69.609375), array(111.42087693), array(111.42087693), array(1567.39705404), 30.125130899818398, array(0.18989655), array(3436.26312669), array(2.19233736), 1632.14111328125, array(-27.1), array(178.), array(30106213.), array(3.67125713), array(122.), array(2.62450061), array(358.), array(66.88453144), array(84.35067873), array(90.), array(-102.), array(460.), array(49.64228627), array(116.71641193), array(-0.00223533), array(22234202.71606445), array(0.08844864), array(6507.68381176), array(88.02555551), array(3671.10854493), array(1.54148139), array(36.2405685), array(4.12094783), array(0.79530908), array(1.48192657), array(2.25173901), array(1.87671988), array(0.5342218), array(0.48065715), array(0.99013594), array(0.93461339), array(-0.22130419), array(0.88714912), array(0.43541326), array(8.94400858), array(0.01520639), array(6.49244957), array(0.84291354), array(0.03617472), array(17.88801717), array(4.54972824), array(10.09037908), array(6.0014743), array(457.37556561), array(0.20695727), array(1.96721934), array(195.47149321), array(10.48763969), array(89.64932127), array(9.83257919), array(875.73891403), array(0.23551396), array(0.0245984), array(0.30303419), array(26.41863068), array(0.0077783), array(149.53878706), array(0.08737506), array(10.48864959), array(89.55295264), array(2.1010167), array(187.68809373), array(0.05098747), array(0.02477259), array(4.64230399), array(1106.22511079), array(0.64399938), array(0.77443439), array(0.42072959), array(0.82954619), array(74.00668939), array(0.0206386), array(68.5258512), array(0.08641343), array(10.37307843), array(88.13745271), array(24.83732661), array(2055.86759142), array(0.65341369), array(0.02558955), array(265.53972257), array(0.33485463), array(0.59757703), array(51.16027646), array(0.01584906), array(5.78723789), array(0.35882353), array(17.07059723), array(0.84499625), array(0.00609544), array(157.36005505), array(0.05057275), array(0.914778), 1]\n",
      "pancreas_291.dcm\n"
     ]
    },
    {
     "name": "stderr",
     "output_type": "stream",
     "text": [
      "GLCM is symmetrical, therefore Sum Average = 2 * Joint Average, only 1 needs to be calculated\n",
      "GLCM is symmetrical, therefore Sum Average = 2 * Joint Average, only 1 needs to be calculated\n"
     ]
    },
    {
     "name": "stdout",
     "output_type": "stream",
     "text": [
      "[0.2470841022589921, 0.0, 0.0, 116.29543249953986, array(29.21875), array(73.046875), array(113.81447778), array(113.81447778), array(1545.3028361), 28.734752535970017, array(0.1894503), array(3411.91258381), array(2.20792488), 1615.155029296875, array(-18.), array(173.), array(29064682.), array(3.63674115), array(121.), array(2.74782794), array(318.), array(65.97623735), array(83.45861911), array(85.), array(-119.), array(437.), array(48.81546529), array(115.28117552), array(0.06980151), array(21465005.62744141), array(0.09317414), array(6324.4083242), array(86.58555057), array(3838.38918195), array(28.30065908), array(36.39384173), array(3.60280431), array(0.81960006), array(1.36434596), array(2.16391205), array(1.69502991), array(0.55521293), array(0.5071128), array(0.98942939), array(0.93350502), array(-0.24898136), array(0.90733189), array(0.44827433), array(8.85367384), array(0.01863208), array(6.32613037), array(0.86912015), array(0.04833689), array(17.70734767), array(4.51004492), array(9.99916151), array(6.04856114), array(419.65386374), array(0.19188563), array(2.41981246), array(203.77183356), array(10.34836981), array(88.72793781), array(11.16918153), array(1016.34019204), array(0.26402413), array(0.02810332), array(0.29257171), array(25.05875379), array(0.00968798), array(148.29521219), array(0.08977237), array(10.411724), array(88.06093384), array(2.2758497), array(203.70613465), array(0.05929882), array(0.02932877), array(4.68120305), array(1033.13930998), array(0.62252208), array(0.75525834), array(0.50232573), array(0.81639161), array(71.34384606), array(0.02462723), array(64.88188976), array(0.08514684), array(10.92598735), array(85.87795276), array(31.52887139), array(2507.94488189), array(0.71084806), array(0.03429622), array(255.55380577), array(0.33537245), array(0.59859871), array(50.42923122), array(0.02142353), array(5.84314351), array(0.3484225), array(23.29151942), array(0.99052413), array(0.00625842), array(109.79189702), array(0.05779623), array(0.72591249), 1]\n",
      "pancreas_292.dcm\n",
      "[0.3289774094097301, 0.0, 0.0, 134.6552730575592, array(38.671875), array(109.140625), array(123.37345055), array(123.37345055), array(2074.88708496), 44.29854289383565, array(0.17640697), array(4459.6217427), array(2.14933226), 2140.24658203125, array(-68.), array(141.3), array(21703181.), array(3.59596069), array(93.), array(2.68225361), array(230.), array(59.10344132), array(43.49033816), array(46.), array(-167.), array(397.), array(40.82803234), array(86.53912617), array(-0.20515628), array(16028350.22583008), array(0.09593013), array(5597.61084523), array(94.0887291), array(2900.83419601), array(-50.06249164), array(32.45474342), array(3.38122163), array(0.81124718), array(1.39234008), array(2.12006836), array(1.38464924), array(0.53735844), array(0.48473345), array(0.98874087), array(0.92803528), array(-0.23727801), array(0.89495001), array(0.4521611), array(9.31772754), array(0.0174261), array(6.31326827), array(0.8460963), array(0.03993265), array(18.63545507), array(4.46000078), array(8.95899126), array(5.91009537), array(620.28571429), array(0.21403924), array(1.8679873), array(278.00552105), array(9.12125971), array(94.97446515), array(9.6763285), array(916.1863354), array(0.19714519), array(0.02199327), array(0.29402502), array(28.36146221), array(0.00749423), array(212.19329551), array(0.09436997), array(9.2139569), array(95.12130881), array(2.0928381), array(198.01832692), array(0.04516415), array(0.02247889), array(4.57003732), array(1452.92241669), array(0.64209604), array(0.77570738), array(0.40912251), array(0.82694899), array(78.72726847), array(0.019041), array(92.09196515), array(0.08915001), array(9.88465817), array(95.71151985), array(22.93514037), array(2069.17909003), array(0.53931269), array(0.02476165), array(316.74056147), array(0.30662203), array(0.56937543), array(55.4738776), array(0.01558586), array(5.93896679), array(0.35645273), array(15.0647528), array(1.62221571), array(0.00398206), array(110.57983128), array(0.06638432), array(0.39342545), 1]\n",
      "pancreas_293.dcm\n"
     ]
    },
    {
     "name": "stderr",
     "output_type": "stream",
     "text": [
      "GLCM is symmetrical, therefore Sum Average = 2 * Joint Average, only 1 needs to be calculated\n",
      "GLCM is symmetrical, therefore Sum Average = 2 * Joint Average, only 1 needs to be calculated\n"
     ]
    },
    {
     "name": "stdout",
     "output_type": "stream",
     "text": [
      "[0.30242894347244753, 0.0, 0.0, 141.7126122900733, array(36.09375), array(107.421875), array(133.85300137), array(133.85300137), array(2695.30995687), 42.85799561160746, array(0.16244289), array(5765.7511396), array(2.13917925), 2773.162841796875, array(-21.), array(148.), array(34230210.), array(3.3895317), array(82.), array(3.01797423), array(238.), array(51.15228661), array(70.04154461), array(77.), array(-150.), array(388.), array(35.09205944), array(95.47723009), array(-0.42772113), array(25279879.21142578), array(0.11311959), array(4210.08349375), array(93.0480601), array(1502.99194534), array(-50.55341221), array(22.00345915), array(3.784488), array(0.7060869), array(1.49749469), array(2.20555721), array(1.52063735), array(0.51630774), array(0.45812195), array(0.98587429), array(0.91878705), array(-0.15518263), array(0.79747429), array(0.44126626), array(9.40704939), array(0.01982081), array(6.18962008), array(0.72589953), array(0.05091068), array(18.81409877), array(4.21868821), array(6.44698679), array(5.60138964), array(861.76910786), array(0.2294991), array(1.61625643), array(424.76404794), array(6.77731451), array(93.52756325), array(8.50146471), array(824.6828229), array(0.12741775), array(0.01886308), array(0.32206197), array(29.41095537), array(0.00752965), array(323.89135415), array(0.1082285), array(7.15777242), array(92.82326596), array(1.92633693), array(182.92329174), array(0.03344846), array(0.01977751), array(4.32323426), array(2007.7638654), array(0.67022087), array(0.79700399), array(0.34911603), array(0.84570613), array(78.12671224), array(0.0173188), array(136.87070151), array(0.09413391), array(8.66439306), array(90.60797799), array(18.32255846), array(1870.61485557), array(0.24060747), array(0.02351203), array(480.55708391), array(0.33050694), array(0.59301857), array(53.70563037), array(0.01525663), array(5.76654099), array(0.38721704), array(11.65309236), array(2.32470801), array(0.00263588), array(104.22206305), array(0.05718514), array(0.24146933), 1]\n",
      "pancreas_294.dcm\n",
      "[0.36300131828303284, 0.0, 0.0, 111.06577656715213, array(40.390625), array(70.46875), array(103.50386136), array(103.50386136), array(2172.92633057), 40.317023310005005, array(0.17414211), array(4658.8313961), array(2.14403559), 2237.73193359375, array(-10.1), array(134.), array(30793986.), array(3.02838768), array(50.), array(4.32292752), array(257.), array(42.68969273), array(81.16369637), array(93.5), array(-120.), array(377.), array(23.72260509), array(100.81186281), array(-0.90539359), array(22742140.53955078), array(0.17434892), array(3575.48607479), array(82.90631369), array(1982.15083668), array(-89.78855125), array(20.3755248), array(1.56844383), array(0.85680033), array(0.89725713), array(1.69163979), array(0.7525604), array(0.64124507), array(0.61555336), array(0.99402097), array(0.94930803), array(-0.28547511), array(0.90058807), array(0.49718201), array(8.84332981), array(0.05610308), array(5.10386806), array(0.88698664), array(0.12003309), array(17.68665962), array(3.83510521), array(5.48599216), array(5.57517153), array(497.27656766), array(0.16411768), array(2.85408359), array(528.27722772), array(5.82249551), array(82.65379538), array(16.52211221), array(1457.46633663), array(0.3406033), array(0.02588772), array(0.18316104), array(13.51952356), array(0.00673553), array(304.42734772), array(0.1515055), array(6.26569187), array(80.40300419), array(3.16472619), array(271.37928078), array(0.07234542), array(0.02815804), array(4.48073166), array(1022.53952918), array(0.50723166), array(0.66287129), array(0.86934704), array(0.73782514), array(57.98610982), array(0.02223832), array(65.31353135), array(0.1077781), array(7.87232461), array(72.2689769), array(312.9009901), array(28695.46369637), array(4.17630126), array(0.03809706), array(156.69966997), array(0.25858031), array(0.52184602), array(35.43956799), array(0.02359811), array(5.96848759), array(0.2), array(287.9009901), array(1.49592614), array(0.00361435), array(65.36200916), array(0.02966591), array(0.46884992), 1]\n",
      "pancreas_295.dcm\n"
     ]
    },
    {
     "name": "stderr",
     "output_type": "stream",
     "text": [
      "GLCM is symmetrical, therefore Sum Average = 2 * Joint Average, only 1 needs to be calculated\n",
      "GLCM is symmetrical, therefore Sum Average = 2 * Joint Average, only 1 needs to be calculated\n"
     ]
    },
    {
     "name": "stdout",
     "output_type": "stream",
     "text": [
      "[0.35715960880230163, 0.0, 0.0, 127.98747894672898, array(35.234375), array(75.625), array(109.55935913), array(109.55935913), array(1949.64548747), 45.711957912206536, array(0.17832405), array(4232.31486055), array(2.17081253), 2020.60546875, array(-13.5), array(153.), array(26897521.), array(3.31856089), array(78.), array(2.91773115), array(289.), array(49.43698168), array(77.1122076), array(85.), array(-106.), array(395.), array(33.99765885), array(99.15122429), array(-0.44257751), array(19864502.20336914), array(0.11730853), array(3884.67271647), array(80.66495767), array(1521.14632939), array(-52.21791599), array(22.71820543), array(1.71014637), array(0.8598504), array(0.95609894), array(1.73027889), array(0.78471204), array(0.6228783), array(0.59331796), array(0.99422699), array(0.94897887), array(-0.30539416), array(0.92815296), array(0.50204692), array(8.68404972), array(0.02895388), array(5.58879152), array(0.87192701), array(0.06456084), array(17.36809944), array(4.22127635), array(6.10708795), array(5.88801008), array(486.8377193), array(0.17793776), array(2.45816608), array(320.95614035), array(6.2893763), array(80.50986842), array(14.49926901), array(1227.49305556), array(0.28315838), array(0.0227917), array(0.19622665), array(15.02593589), array(0.00627633), array(217.39946483), array(0.1149483), array(6.4765867), array(79.122077), array(2.80074803), array(232.52104759), array(0.0583618), array(0.02415962), array(4.59897781), array(1013.92420434), array(0.53486126), array(0.69124635), array(0.6971554), array(0.75828464), array(59.37876335), array(0.0191557), array(64.99043062), array(0.103653), array(7.57160627), array(74.35725678), array(92.86124402), array(9866.61403509), array(1.21839722), array(0.03193974), array(144.6523126), array(0.23070544), array(0.4889268), array(36.72777509), array(0.0194774), array(6.12201654), array(0.22916667), array(73.81992171), array(1.33964999), array(0.0053091), array(59.71766253), array(0.03786148), array(0.47363932), 1]\n",
      "pancreas_296.dcm\n",
      "[0.331341508988809, 0.0, 0.0, 142.8907066203246, array(43.828125), array(82.5), array(129.72293379), array(129.72293379), array(3042.72460938), 47.34562235205556, array(0.15763133), array(6441.93990708), array(2.11716167), 3114.361572265625, array(-60.4), array(82.), array(16637129.), array(2.73016394), array(67.), array(2.98590304), array(119.), array(43.89391843), array(32.87716386), array(55.), array(-130.), array(249.), array(30.74288184), array(62.81124352), array(-1.06257994), array(12286942.19360352), array(0.20145763), array(2864.34440856), array(66.5648847), array(916.01734072), array(-80.80720553), array(16.83627145), array(1.03917486), array(0.88375846), array(0.71625432), array(1.46320795), array(0.51350745), array(0.68936514), array(0.673655), array(0.99167516), array(0.9423069), array(-0.32591856), array(0.90479964), array(0.48989198), array(7.91299347), array(0.08233186), array(4.49795129), array(0.91029551), array(0.21408142), array(15.82598694), array(3.51200766), array(4.46886158), array(5.35210643), array(616.0495613), array(0.14608716), array(3.51946245), array(849.54683424), array(4.63736553), array(65.95328433), array(21.42257529), array(1524.91510553), array(0.47791081), array(0.02683176), array(0.13819325), array(8.08634865), array(0.00501758), array(399.32041212), array(0.15840337), array(4.97335081), array(63.0757293), array(4.45564032), array(310.78319049), array(0.10463072), array(0.02939172), array(4.44931519), array(1153.71017009), array(0.45369261), array(0.59609912), array(1.55098459), array(0.69623824), array(42.36787523), array(0.02181481), array(82.28407225), array(0.13511342), array(5.5382616), array(54.28571429), array(1756.7635468), array(140395.03284072), array(24.20440216), array(0.04017748), array(127.33497537), array(0.20908863), array(0.46013022), array(25.28693983), array(0.02054898), array(5.92897204), array(0.14441546), array(1708.81531273), array(3.33273023), array(0.00276488), array(28.41594972), array(0.04291665), array(0.18436671), 1]\n"
     ]
    },
    {
     "name": "stderr",
     "output_type": "stream",
     "text": [
      "GLCM is symmetrical, therefore Sum Average = 2 * Joint Average, only 1 needs to be calculated\n"
     ]
    },
    {
     "name": "stdout",
     "output_type": "stream",
     "text": [
      "pancreas_297.dcm\n",
      "[0.1918016243785782, 0.0, 0.0, 137.1258431710814, array(30.078125), array(53.28125), array(123.40636969), array(123.40636969), array(1860.77626546), 26.300959464495584, array(0.1805809), array(4051.43078234), array(2.17727991), 1927.55126953125, array(-46.), array(110.), array(13478392.), array(3.18373631), array(81.), array(2.71691788), array(171.), array(47.47017983), array(42.11800766), array(52.), array(-142.), array(313.), array(34.20625885), array(71.86191527), array(-0.59644516), array(9954134.71679688), array(0.12571072), array(3390.20829641), array(73.11228955), array(1021.65706832), array(-58.36975368), array(18.63763945), array(2.70319385), array(0.74653049), array(1.24256304), array(2.00427442), array(1.14019513), array(0.56177628), array(0.51581645), array(0.98479348), array(0.91769576), array(-0.18514201), array(0.82364828), array(0.47229111), array(8.31431472), array(0.02563007), array(5.73055157), array(0.78364725), array(0.05309531), array(16.62862943), array(4.01885041), array(5.33520833), array(5.55202231), array(532.92260536), array(0.20418491), array(2.03337943), array(328.10498084), array(5.50150996), array(72.90498084), array(10.72796935), array(830.15478927), array(0.22316196), array(0.0245011), array(0.26580742), array(18.75232313), array(0.00791988), array(239.97187764), array(0.1215663), array(5.65409923), array(71.85013869), array(2.20679915), array(165.45333409), array(0.0503588), array(0.02553913), array(4.25115103), array(1216.78094442), array(0.61499837), array(0.75641762), array(0.45180391), array(0.81206265), array(57.80296947), array(0.02138418), array(90.15827338), array(0.10810345), array(6.50044712), array(69.44964029), array(42.00479616), array(3831.35491607), array(0.64655353), array(0.02993827), array(242.25179856), array(0.29046978), array(0.54809946), array(38.51701114), array(0.01804273), array(5.67290749), array(0.31954023), array(32.21104843), array(2.15609284), array(0.0041033), array(56.86770576), array(0.05795951), array(0.2541564), 1]\n",
      "pancreas_298.dcm\n"
     ]
    },
    {
     "name": "stderr",
     "output_type": "stream",
     "text": [
      "GLCM is symmetrical, therefore Sum Average = 2 * Joint Average, only 1 needs to be calculated\n"
     ]
    },
    {
     "name": "stdout",
     "output_type": "stream",
     "text": [
      "[0.296978825915638, 0.0, 0.0, 141.31173862690176, array(35.234375), array(77.34375), array(133.13657612), array(133.13657612), array(1902.01059977), 41.9665942255148, array(0.17711121), array(4191.60186204), array(2.20377419), 1980.72509765625, array(26.), array(155.), array(33469497.), array(3.04102658), array(62.), array(4.70686796), array(213.), array(41.66643645), array(97.11073826), array(108.), array(-118.), array(331.), array(26.84778943), array(111.71081134), array(-1.16048734), array(24718073.34594727), array(0.15047037), array(3048.80988469), array(93.18004554), array(1519.60994789), array(-90.37667416), array(16.63335787), array(2.39283533), array(0.74733277), array(1.13907647), array(1.92395876), array(1.06959718), array(0.58529191), array(0.54604456), array(0.98835287), array(0.92889045), array(-0.18539693), array(0.80821797), array(0.48527528), array(9.46676672), array(0.03466584), array(5.4565441), array(0.85278111), array(0.07523107), array(18.93353344), array(3.86139736), array(4.7565483), array(5.49996612), array(500.66815809), array(0.18667717), array(2.39051572), array(403.56152125), array(4.9707561), array(93.47240865), array(12.18120805), array(1171.06674124), array(0.25091664), array(0.02000121), array(0.25170338), array(22.80184025), array(0.00501742), array(280.5153893), array(0.14249746), array(5.13364892), array(92.58503756), array(2.40354829), array(227.24404095), array(0.0494116), array(0.02003029), array(4.19906987), array(1157.32834206), array(0.58612635), array(0.73387397), array(0.53541116), array(0.7929305), array(72.73952684), array(0.0161202), array(96.7970297), array(0.1197983), array(6.03759282), array(89.30321782), array(47.14356436), array(4797.77846535), array(0.9275375), array(0.02109073), array(238.28217822), array(0.29490369), array(0.55338839), array(49.55350076), array(0.01078812), array(5.61605328), array(0.30126771), array(36.12576586), array(1.66603016), array(0.00371996), array(66.33644558), array(0.04189974), array(0.33834532), 1]\n",
      "pancreas_299.dcm\n"
     ]
    },
    {
     "name": "stderr",
     "output_type": "stream",
     "text": [
      "GLCM is symmetrical, therefore Sum Average = 2 * Joint Average, only 1 needs to be calculated\n",
      "GLCM is symmetrical, therefore Sum Average = 2 * Joint Average, only 1 needs to be calculated\n"
     ]
    },
    {
     "name": "stdout",
     "output_type": "stream",
     "text": [
      "[0.2935117350993468, 0.0, 0.0, 173.79548672933777, array(47.265625), array(97.96875), array(159.95690719), array(159.95690719), array(3629.85229492), 51.01101486236343, array(0.14751364), array(7743.03569801), array(2.13315448), 3731.0302734375, array(52.), array(177.9), array(98723578.), array(2.87177299), array(52.), array(3.49068544), array(280.), array(37.32142895), array(130.84639747), array(141.), array(-46.), array(326.), array(23.62002784), array(139.79085866), array(-0.56645157), array(72909869.00634766), array(0.18041349), array(2420.70443477), array(63.47768608), array(741.56856289), array(-33.69062935), array(14.42702517), array(1.38766444), array(0.82460601), array(0.83662269), array(1.62901827), array(0.67159596), array(0.65856751), array(0.63533082), array(0.99310556), array(0.94642351), array(-0.2758458), array(0.88490457), array(0.48554198), array(7.76001508), array(0.05837), array(4.92293941), array(0.84958925), array(0.12832798), array(15.52003015), array(3.72082678), array(3.9536724), array(5.54149812), array(782.86223278), array(0.15496085), array(3.19860043), array(911.44893112), array(3.97973193), array(64.12509897), array(18.50633413), array(1238.32304038), array(0.39427619), array(0.02408938), array(0.16507042), array(10.12227431), array(0.00474451), array(514.61624523), array(0.16001183), array(4.20204356), array(62.88597484), array(3.67704383), array(242.24505633), array(0.08202074), array(0.02541239), array(4.40796664), array(1576.51874317), array(0.48538158), array(0.63593626), array(1.13417696), array(0.71997845), array(44.53683731), array(0.01911464), array(120.03887689), array(0.12963162), array(5.12953949), array(59.57991361), array(351.03023758), array(25603.21598272), array(5.72343313), array(0.03052184), array(213.96544276), array(0.23106419), array(0.48938809), array(29.71719731), array(0.01546433), array(5.96941861), array(0.18329375), array(321.26531821), array(3.22826916), array(0.00223476), array(46.7763581), array(0.02462432), array(0.19977008), 1]\n",
      "pancreas_300.dcm\n",
      "[0.32166829331733826, 0.0, 0.0, 123.72415879723462, array(36.953125), array(75.625), array(115.27163063), array(115.27163063), array(2393.49924723), 39.7981390024298, array(0.16879281), array(5126.47733451), array(2.14183369), 2465.19775390625, array(82.), array(161.), array(56744898.), array(2.42195065), array(31.), array(7.3096535), array(222.), array(26.13894867), array(124.38466147), array(131.), array(-77.), array(299.), array(13.70505012), array(130.38278208), array(-1.64410907), array(41907547.96142578), array(0.26357348), array(1528.12585221), array(92.47174098), array(542.22667161), array(-41.19884158), array(8.32381549), array(0.96341716), array(0.79192983), array(0.65896366), array(1.43958094), array(0.52289124), array(0.71322646), array(0.70005007), array(0.99444345), array(0.95431629), array(-0.25343293), array(0.82898252), array(0.462065), array(9.52006072), array(0.11214118), array(4.11255037), array(0.84392039), array(0.26388896), array(19.04012145), array(3.19018323), array(2.32180816), array(5.14641504), array(449.95386459), array(0.13479744), array(4.02611), array(879.80826842), array(2.53333781), array(92.62971839), array(24.45715998), array(2360.0107849), array(0.28509883), array(0.01369776), array(0.13165415), array(11.30940637), array(0.00252744), array(384.65188423), array(0.20548466), array(3.18618104), array(90.28001813), array(5.28805088), array(504.74244168), array(0.06418758), array(0.01503451), array(4.32375777), array(799.82317108), array(0.42436576), array(0.55999101), array(2.03770942), array(0.67202545), array(59.40437391), array(0.01084652), array(73.31236443), array(0.15902899), array(5.09924196), array(85.164859), array(2649.62255965), array(264152.18655098), array(26.78087962), array(0.02005695), array(108.96963124), array(0.23637664), array(0.49224082), array(40.3363503), array(0.01171045), array(5.64718155), array(0.13810665), array(2597.19365145), array(1.91494224), array(0.00294311), array(40.83771904), array(0.0155963), array(0.36890199), 1]\n",
      "pancreas_301.dcm\n"
     ]
    },
    {
     "name": "stderr",
     "output_type": "stream",
     "text": [
      "GLCM is symmetrical, therefore Sum Average = 2 * Joint Average, only 1 needs to be calculated\n",
      "GLCM is symmetrical, therefore Sum Average = 2 * Joint Average, only 1 needs to be calculated\n"
     ]
    },
    {
     "name": "stdout",
     "output_type": "stream",
     "text": [
      "[0.10308974160786179, 0.0, 0.0, 219.27099918412304, array(24.0625), array(133.203125), array(144.26497854), array(144.26497854), array(919.52565511), 22.604590647988918, array(0.22419165), array(2039.73581163), array(2.21824785), 963.037109375, array(66.), array(161.), array(18992319.), array(2.69219623), array(47.5), array(4.32143138), array(237.), array(30.1684082), array(114.04984663), array(116.), array(-79.), array(316.), array(20.25903855), array(120.68414067), array(-0.61258085), array(14026309.80834961), array(0.18802223), array(1557.29429446), array(84.6392432), array(204.11333435), array(-12.65122167), array(6.61702571), array(3.18541731), array(0.34720222), array(1.33913598), array(2.07421794), array(1.32966273), array(0.54776843), array(0.4971201), array(0.98464209), array(0.91774603), array(-0.07695513), array(0.52418624), array(0.45273966), array(9.15319662), array(0.0425971), array(5.10745881), array(0.46723577), array(0.09688151), array(18.30639324), array(3.3251308), array(2.45061075), array(4.94356714), array(263.51226994), array(0.20207996), array(2.11509654), array(245.1809816), array(2.59818539), array(85.17944785), array(10.20092025), array(876.70858896), array(0.12930044), array(0.0146889), array(0.30350589), array(24.8665216), array(0.0058257), array(174.0792802), array(0.173515), array(2.93998871), array(84.83657704), array(2.13845508), array(182.94331567), array(0.02953876), array(0.01533594), array(3.73472783), array(641.1925379), array(0.6355128), array(0.76955521), array(0.4325367), array(0.8232638), array(69.56598749), array(0.01309574), array(65.26382979), array(0.13885921), array(4.3169579), array(82.58297872), array(24.79148936), array(2095.6), array(0.31097032), array(0.01841594), array(157.83404255), array(0.33581711), array(0.59998817), array(47.96379237), array(0.01307017), array(5.17817068), array(0.36042945), array(17.09381621), array(1.145279), array(0.00517389), array(89.95392755), array(0.02852858), array(0.45919268), 1]\n",
      "pancreas_302.dcm\n",
      "[0.2915313522780817, 0.0, 0.0, 139.35378598701723, array(42.109375), array(77.34375), array(125.12688872), array(125.12688872), array(2914.77508545), 40.62599767386553, array(0.15973756), array(6177.51465526), array(2.11937953), 2985.11962890625, array(22.1), array(142.), array(47987815.), array(2.94799458), array(47.), array(4.37294717), array(250.), array(38.47599488), array(94.30356259), array(102.), array(-109.), array(359.), array(21.18544427), array(108.96005991), array(-0.61387687), array(35440219.81811523), array(0.18322568), array(2979.13273842), array(91.78947219), array(1249.48887775), array(-35.52030176), array(16.08964706), array(1.49340591), array(0.82917647), array(0.86717229), array(1.66242434), array(0.72747926), array(0.65021189), array(0.62607701), array(0.99430597), array(0.95093663), array(-0.28540605), array(0.89346537), array(0.49288285), array(9.38827237), array(0.06203562), array(4.93287545), array(0.91714789), array(0.16763786), array(18.77654475), array(3.70250256), array(4.39576324), array(5.51961456), array(628.57347848), array(0.15551051), array(3.2439078), array(740.5982187), array(4.86943752), array(91.1956952), array(17.86194953), array(1776.49901039), array(0.22949099), array(0.01716935), array(0.17609582), array(14.25868325), array(0.00474579), array(405.63347619), array(0.1549732), array(5.39959967), array(87.66829907), array(3.52745027), array(338.24297548), array(0.05139795), array(0.01921772), array(4.45686824), array(1331.091751), array(0.50578737), array(0.64708065), array(1.10603724), array(0.73666357), array(62.51778056), array(0.01542094), array(91.73101673), array(0.11805794), array(7.36586449), array(77.8005148), array(885.8018018), array(90073.61776062), array(8.97710755), array(0.02809652), array(202.93307593), array(0.26117513), array(0.51907949), array(39.88655057), array(0.01765751), array(5.84218297), array(0.19223157), array(858.74038186), array(1.74914166), array(0.00286014), array(63.69970877), array(0.02376276), array(0.36157951), 1]\n",
      "pancreas_303.dcm\n"
     ]
    },
    {
     "name": "stderr",
     "output_type": "stream",
     "text": [
      "GLCM is symmetrical, therefore Sum Average = 2 * Joint Average, only 1 needs to be calculated\n",
      "GLCM is symmetrical, therefore Sum Average = 2 * Joint Average, only 1 needs to be calculated\n"
     ]
    },
    {
     "name": "stdout",
     "output_type": "stream",
     "text": [
      "[0.20553608505934953, 0.0, 0.0, 129.62217142090938, array(26.640625), array(90.234375), array(117.36054931), array(117.36054931), array(1565.24302165), 26.642033650745617, array(0.19017112), array(3428.1572633), array(2.19017572), 1629.925537109375, array(-20.4), array(79.), array(7344156.), array(2.48530109), array(37.5), array(4.7197466), array(127.), array(30.15928968), array(40.37788854), array(51.), array(-113.), array(240.), array(17.66308345), array(57.68591425), array(-1.38506616), array(5423845.67871094), array(0.23901193), array(1697.29082055), array(53.53839295), array(497.36471023), array(-47.95114459), array(9.68892423), array(1.129895), array(0.79076281), array(0.75809658), array(1.51622096), array(0.54744192), array(0.67604108), array(0.65766014), array(0.990954), array(0.93912803), array(-0.22980203), array(0.81597168), array(0.49441231), array(7.16928125), array(0.08708081), array(4.32336955), array(0.87269512), array(0.20863289), array(14.33856249), array(3.24253251), array(2.70470481), array(5.08709045), array(334.33937472), array(0.15149043), array(3.34526486), array(527.49932034), array(2.79073689), array(53.64114182), array(19.34164024), array(1077.0240145), array(0.52617261), array(0.03116039), array(0.15688581), array(8.02713879), array(0.00679391), array(278.41455294), array(0.20178786), array(3.01814329), array(52.69053693), array(3.79633549), array(209.7905552), array(0.10669852), array(0.03327717), array(4.07284481), array(658.2765244), array(0.47452036), array(0.62505664), array(1.20886897), array(0.7118237), array(36.96892621), array(0.02505645), array(65.2642487), array(0.16907836), array(4.0066579), array(50.43005181), array(1292.72279793), array(81588.89637306), array(21.86456702), array(0.04336156), array(86.92746114), array(0.22520068), array(0.47359062), array(23.87604814), array(0.0256851), array(5.43698657), array(0.17489805), array(1260.03165857), array(2.14338301), array(0.00440238), array(28.55009768), array(0.02715062), array(0.26211031), 1]\n",
      "pancreas_304.dcm\n",
      "[0.22386901924916827, 0.0, 0.0, 124.00151813872561, array(36.09375), array(55.), array(113.60989504), array(113.60989504), array(1565.61228434), 27.76009825112445, array(0.19109764), array(3412.0727374), array(2.17938552), 1623.27880859375, array(-38.), array(198.), array(42418244.), array(3.52083117), array(111.), array(2.65301443), array(261.), array(69.08959837), array(110.42129208), array(136.), array(-113.), array(374.), array(49.84903061), array(138.91927206), array(-0.80762729), array(31326950.21972656), array(0.10407054), array(7105.70240379), array(110.37627319), array(5187.08018959), array(-250.60817817), array(43.81851485), array(1.72754999), array(0.92412824), array(0.954617), array(1.74529787), array(0.80337333), array(0.62568047), array(0.59648955), array(0.99342385), array(0.94624704), array(-0.35004456), array(0.95463422), array(0.49795036), array(9.99261298), array(0.02647896), array(5.7911793), array(0.95164904), array(0.06645951), array(19.98522596), array(4.41472354), array(11.38651621), array(6.08481321), array(384.51501365), array(0.17493859), array(2.60573141), array(228.74704277), array(11.46210034), array(110.16515014), array(14.90354868), array(1681.50818926), array(0.35147642), array(0.02402309), array(0.19281214), array(20.41919065), array(0.00499107), array(152.2193576), array(0.10080582), array(11.20189786), array(109.10749136), array(2.82455995), array(314.09281678), array(0.06692836), array(0.0242497), array(4.8063148), array(800.09243695), array(0.52756929), array(0.68664695), array(0.68436991), array(0.75209627), array(81.19593038), array(0.01842415), array(46.104), array(0.092208), array(10.462416), array(107.052), array(68.004), array(6920.302), array(1.88622877), array(0.02554198), array(111.4), array(0.2228), array(0.47613011), array(48.89927709), array(0.01338631), array(6.20792379), array(0.22747953), array(48.679184), array(0.72751269), array(0.00773645), array(63.77221959), array(0.05890205), array(0.82090706), 1]\n",
      "pancreas_305.dcm\n"
     ]
    },
    {
     "name": "stderr",
     "output_type": "stream",
     "text": [
      "GLCM is symmetrical, therefore Sum Average = 2 * Joint Average, only 1 needs to be calculated\n",
      "GLCM is symmetrical, therefore Sum Average = 2 * Joint Average, only 1 needs to be calculated\n"
     ]
    },
    {
     "name": "stdout",
     "output_type": "stream",
     "text": [
      "[0.5514985361354019, 0.0, 0.0, 51.1957152847738, array(42.96875), array(25.78125), array(47.83253767), array(47.83253767), array(664.11895752), 28.234362035957574, array(0.24581124), array(1497.5441821), array(2.25493365), 699.383544921875, array(82.), array(148.4), array(13722839.), array(2.23914914), array(33.), array(5.46909768), array(205.), array(21.43279561), array(116.76768743), array(119.), array(-42.), array(247.), array(13.57), array(120.37796425), array(-0.82015302), array(10134665.03295898), array(0.26938066), array(856.16144798), array(52.69890186), array(84.04758926), array(-6.96022228), array(3.79417802), array(1.49334176), array(0.43357067), array(0.88004592), array(1.66296128), array(0.7068548), array(0.6446246), array(0.61943035), array(0.98819882), array(0.93037841), array(-0.0931219), array(0.5585943), array(0.49624365), array(7.21965307), array(0.08906285), array(4.1559758), array(0.57555518), array(0.17644567), array(14.43930614), array(2.8930363), array(1.32187995), array(4.6882864), array(157.95670539), array(0.16679694), array(2.72588924), array(255.10348469), array(1.4561183), array(52.89545935), array(15.88278775), array(854.39704329), array(0.31726878), array(0.02312761), array(0.19521855), array(10.27055839), array(0.00596037), array(148.89647611), array(0.23399327), array(1.7899589), array(52.5368152), array(3.03846916), array(162.64833725), array(0.06497637), array(0.02456782), array(3.67078023), array(326.76925051), array(0.51042463), array(0.67159451), array(0.79028136), array(0.738013), array(38.57714447), array(0.01913808), array(35.25471698), array(0.16629583), array(3.22641509), array(52.22641509), array(152.25), array(7981.5754717), array(2.98359907), array(0.03060765), array(57.), array(0.26886792), array(0.53356034), array(28.36344358), array(0.01870685), array(5.11428334), array(0.22386484), array(132.29607957), array(1.23878318), array(0.00744275), array(37.21001904), array(0.01790299), array(0.44076525), 1]\n",
      "pancreas_308.dcm\n",
      "[0.5742079032924402, 0.0, 0.0, 78.39743210923345, array(54.140625), array(65.3125), array(76.831201), array(76.831201), array(1643.09590658), 45.01642511495437, array(0.18839957), array(3574.20529994), array(2.17528708), 1705.255126953125, array(48.), array(141.), array(35577700.), array(2.67107979), array(39.), array(88.45100207), array(1204.), array(34.94613485), array(100.98657427), array(107.), array(-108.), array(1312.), array(17.43100174), array(124.13006074), array(6.20537934), array(26275034.79003906), array(0.21764778), array(5209.9837955), array(97.9243364), array(55924.78881258), array(749.90778831), array(27.60901877), array(3.44923474), array(0.77850466), array(0.85671972), array(1.57890721), array(2.7016662), array(0.67596298), array(0.6588126), array(0.99894956), array(0.98506842), array(-0.26919913), array(0.86472072), array(0.49425309), array(9.58561188), array(0.07506145), array(4.53387657), array(0.923209), array(0.17289595), array(19.17122375), array(3.47195588), array(7.76456338), array(5.28004638), array(356.30186228), array(0.15431003), array(3.08105609), array(502.54872239), array(8.46711936), array(99.8852317), array(19.36292767), array(1841.88609788), array(0.28814258), array(0.01781729), array(0.15842418), array(21.58499101), array(0.00344967), array(269.06230768), array(0.18764002), array(12.00439005), array(103.29200248), array(3.7859468), array(368.16601914), array(0.05967303), array(0.01926143), array(4.33765242), array(668.77012423), array(0.46356718), array(0.62061498), array(1.15257804), array(0.70270095), array(75.4390455), array(0.01434144), array(45.5994832), array(0.11782812), array(34.82242654), array(130.83204134), array(396.9379845), array(38585.74935401), array(4.51251949), array(0.02482265), array(103.625323), array(0.26776569), array(0.53079289), array(91.46096225), array(0.01238856), array(5.84639859), array(0.16760502), array(361.33995687), array(0.51887615), array(0.00415918), array(475.60344024), array(0.01295119), array(16.13452923), 1]\n",
      "pancreas_309.dcm\n"
     ]
    },
    {
     "name": "stderr",
     "output_type": "stream",
     "text": [
      "GLCM is symmetrical, therefore Sum Average = 2 * Joint Average, only 1 needs to be calculated\n",
      "GLCM is symmetrical, therefore Sum Average = 2 * Joint Average, only 1 needs to be calculated\n"
     ]
    },
    {
     "name": "stdout",
     "output_type": "stream",
     "text": [
      "[0.3264019457117859, 0.0, 0.0, 169.62963830741356, array(43.828125), array(128.90625), array(136.2048377), array(136.2048377), array(1994.63399251), 55.36744399392627, array(0.17609962), array(4351.45507752), array(2.18158073), 2070.8251953125, array(16.3), array(112.), array(16947759.), array(2.67135314), array(48.), array(3.94711458), array(175.), array(30.21348298), array(66.96754636), array(71.), array(-100.), array(275.), array(19.86592807), array(77.74404537), array(-0.70874165), array(12516350.33569336), array(0.19040458), array(1559.48432479), array(53.91777138), array(225.10827809), array(-16.74177715), array(7.29581119), array(2.18905345), array(0.53592464), array(1.12126677), array(1.86265851), array(0.90374222), array(0.58270447), array(0.54239438), array(0.98547873), array(0.91927619), array(-0.10913283), array(0.63226005), array(0.48776075), array(7.2553923), array(0.04640287), array(4.95644748), array(0.63149104), array(0.09207747), array(14.5107846), array(3.38622481), array(2.37121616), array(5.0607074), array(553.26676177), array(0.1973134), array(2.02155419), array(533.89443652), array(2.57445078), array(54.41547789), array(11.62624822), array(642.14657632), array(0.26275948), array(0.02645224), array(0.24012026), array(12.97183306), array(0.00811308), array(369.16713506), array(0.17846075), array(2.81822995), array(54.22925036), array(2.36536018), array(129.11934614), array(0.05874764), array(0.0277016), array(3.83939768), array(1225.28862828), array(0.58964851), array(0.73760699), array(0.50881164), array(0.79507606), array(42.97185242), array(0.02292172), array(115.88198758), array(0.14395278), array(3.95896146), array(53.9552795), array(46.93913043), array(2658.30434783), array(0.9388601), array(0.03373297), array(216.79130435), array(0.26930597), array(0.52930953), array(28.55362378), array(0.02050096), array(5.48392091), array(0.28708987), array(34.8062405), array(3.39867774), array(0.00270014), array(50.8110374), array(0.03181076), array(0.15723416), 1]\n",
      "pancreas_310.dcm\n",
      "[0.3154466537919312, 0.0, 0.0, 125.4805083393138, array(24.921875), array(71.328125), array(105.46530666), array(105.46530666), array(813.0549113), 39.582406471747056, array(0.22496426), array(1872.62370202), array(2.30319463), 864.813232421875, array(-49.), array(67.), array(2419333.), array(2.83837653), array(61.), array(2.73738435), array(126.), array(34.8584122), array(14.03672075), array(17.), array(-127.), array(253.), array(25.29198713), array(45.45371422), array(-0.29498317), array(1786738.84887695), array(0.16017826), array(1869.01060718), array(53.02907007), array(284.90870354), array(-10.35542817), array(9.95633732), array(1.83330849), array(0.68867492), array(1.00541374), array(1.77424457), array(0.80733455), array(0.61037089), array(0.57736357), array(0.98779062), array(0.92696387), array(-0.1815767), array(0.78923849), array(0.49724621), array(7.14125146), array(0.03972614), array(5.09126491), array(0.69446237), array(0.08141735), array(14.28250293), array(3.6719002), array(2.94741145), array(5.32758389), array(217.96498719), array(0.18613577), array(2.34431001), array(187.56874466), array(3.11038249), array(53.09564475), array(12.90264731), array(711.78736123), array(0.30447822), array(0.02685379), array(0.22466141), array(11.51895959), array(0.0074395), array(130.26838519), array(0.1548014), array(3.27105183), array(52.49782893), array(2.55086933), array(137.6885217), array(0.06432599), array(0.02797864), array(4.0300176), array(482.86058239), array(0.57153504), array(0.71883006), array(0.60169415), array(0.78330951), array(40.72293874), array(0.02263467), array(42.96178344), array(0.13682097), array(4.07851231), array(50.57006369), array(47.00955414), array(2652.3089172), array(0.9979417), array(0.03354327), array(78.22292994), array(0.24911761), array(0.50776866), array(25.6247138), array(0.01918701), array(5.55990958), array(0.26814688), array(33.1018804), array(1.19180736), array(0.00876972), array(41.09954221), array(0.03192653), array(0.46444772), 1]\n",
      "pancreas_311.dcm\n"
     ]
    },
    {
     "name": "stderr",
     "output_type": "stream",
     "text": [
      "GLCM is symmetrical, therefore Sum Average = 2 * Joint Average, only 1 needs to be calculated\n",
      "GLCM is symmetrical, therefore Sum Average = 2 * Joint Average, only 1 needs to be calculated\n"
     ]
    },
    {
     "name": "stdout",
     "output_type": "stream",
     "text": [
      "[0.21401885580880659, 0.0, 0.0, 156.08360350162414, array(33.515625), array(85.078125), array(131.04271206), array(131.04271206), array(2162.34079997), 33.40483423193304, array(0.17419437), array(4642.29545661), array(2.14688427), 2229.608154296875, array(46.8), array(159.), array(43910401.), array(2.81448045), array(53.), array(4.27977394), array(237.), array(35.02397063), array(111.57105002), array(121.), array(-87.), array(324.), array(22.86181284), array(120.60134328), array(-0.98713709), array(32428946.05102539), array(0.17953019), array(2096.58479953), array(84.39487636), array(606.79487337), array(-42.18032569), array(11.40599413), array(1.44743158), array(0.77402985), array(0.86611361), array(1.64962907), array(0.68363483), array(0.64817785), array(0.62341479), array(0.99281106), array(0.94457822), array(-0.22922716), array(0.83830235), array(0.49367225), array(9.05012945), array(0.05447483), array(4.88489541), array(0.81424047), array(0.13109702), array(18.10025889), array(3.63466239), array(3.21335643), array(5.45892489), array(491.36700894), array(0.1627582), array(2.91525604), array(542.00165618), array(3.47169066), array(84.15004969), array(17.1165949), array(1509.42000662), array(0.25773248), array(0.01756511), array(0.17183494), array(13.54278401), array(0.0040127), array(319.51257901), array(0.16185275), array(3.85682729), array(82.47398316), array(3.29944449), array(285.1586911), array(0.05233714), array(0.01863401), array(4.29705677), array(986.16569195), array(0.49626799), array(0.6539417), array(0.92601774), array(0.72865722), array(59.14637412), array(0.0140603), array(73.8668942), array(0.12605272), array(5.43233177), array(76.93003413), array(184.33617747), array(17131.04607509), array(2.1488622), array(0.02475533), array(134.29010239), array(0.229164), array(0.48278545), array(36.76050624), array(0.01391029), array(5.89528171), array(0.19410401), array(157.79433948), array(1.61616367), array(0.00370117), array(51.18445457), array(0.02213818), array(0.35031636), 1]\n",
      "pancreas_312.dcm\n",
      "[0.33129174399870953, 0.0, 0.0, 85.88846029784584, array(29.21875), array(72.1875), array(81.29160593), array(81.29160593), array(1226.13677979), 28.45413780143727, array(0.20603379), array(2688.88118417), array(2.19297001), 1275.433349609375, array(58.6), array(143.4), array(23357759.), array(2.49447575), array(32.), array(4.85461753), array(244.), array(26.90640393), array(109.42617255), array(114.), array(-45.), array(289.), array(14.2487058), array(116.29724261), array(-0.39130165), array(17250298.08959961), array(0.25170887), array(1550.96139954), array(49.81580699), array(383.59016755), array(-9.93510501), array(8.32020173), array(1.15232302), array(0.75579799), array(0.71714083), array(1.51834567), array(0.62495314), array(0.69852262), array(0.68207373), array(0.99232614), array(0.94706055), array(-0.2544187), array(0.83322267), array(0.46219349), array(6.92991044), array(0.10419306), array(4.22597061), array(0.88493885), array(0.24629188), array(13.85982089), array(3.21696599), array(2.36813119), array(5.13310393), array(242.90272148), array(0.1406501), array(3.70832136), array(434.70121598), array(2.5757939), array(50.0955414), array(22.32252461), array(1153.940359), array(0.54939275), array(0.03005862), array(0.14675599), array(6.63414201), array(0.00595806), array(201.65917615), array(0.19929313), array(3.08009254), array(48.94932538), array(4.78644133), array(245.37053092), array(0.12422314), array(0.03333802), array(4.25722194), array(451.77031084), array(0.44088501), array(0.58569774), array(1.75547959), array(0.68380859), array(32.73958874), array(0.02461401), array(45.52398524), array(0.16798519), array(4.41298457), array(43.57933579), array(1653.20664207), array(82248.57195572), array(33.75214294), array(0.04354375), array(70.74907749), array(0.26106671), array(0.52380684), array(21.9729983), array(0.02362133), array(5.26573615), array(0.15691951), array(1612.59541673), array(1.61945845), array(0.00559423), array(31.72723546), array(0.02053691), array(0.38681877), 1]\n",
      "pancreas_313.dcm\n"
     ]
    },
    {
     "name": "stderr",
     "output_type": "stream",
     "text": [
      "GLCM is symmetrical, therefore Sum Average = 2 * Joint Average, only 1 needs to be calculated\n",
      "GLCM is symmetrical, therefore Sum Average = 2 * Joint Average, only 1 needs to be calculated\n"
     ]
    },
    {
     "name": "stdout",
     "output_type": "stream",
     "text": [
      "[0.2751587505847104, 0.0, 0.0, 151.084652234665, array(34.375), array(89.375), array(139.72179564), array(139.72179564), array(2603.73280843), 41.572264141415886, array(0.16376227), array(5589.00584024), array(2.14653586), 2683.80126953125, array(7.), array(142.), array(37889353.), array(3.07138489), array(49.), array(4.6484043), array(240.), array(40.82388325), array(84.10649422), array(92.), array(-148.), array(388.), array(22.70975054), array(102.10949614), array(-0.86941455), array(27982249.22485352), array(0.16410807), array(3352.44683179), array(102.63768814), array(1811.67292923), array(-74.39524874), array(19.09277643), array(2.07954869), array(0.80312501), array(1.02103568), array(1.8268098), array(1.0128034), array(0.61554197), array(0.58420341), array(0.99219935), array(0.94312325), array(-0.2467939), array(0.87526093), array(0.49338687), array(9.91887765), array(0.04645027), array(5.34278924), array(0.84012179), array(0.11046664), array(19.8377553), array(3.89076224), array(5.29308128), array(5.61684573), array(622.57017061), array(0.17131815), array(2.67576145), array(596.36873968), array(5.46302714), array(103.24105669), array(14.62520638), array(1585.83489268), array(0.18694053), array(0.01559471), array(0.21148283), array(20.35392442), array(0.00394044), array(370.07496654), array(0.14685429), array(5.9314817), array(101.35230829), array(2.91891233), array(309.4813805), array(0.04101239), array(0.01658084), array(4.40690819), array(1389.54115244), array(0.54704425), array(0.69290039), array(0.79223655), array(0.76517157), array(76.5040637), array(0.01323592), array(98.39038687), array(0.11534629), array(7.33622316), array(94.09026964), array(214.45017585), array(23225.67409144), array(2.13760191), array(0.02027335), array(246.57561547), array(0.28906872), array(0.55357381), array(51.125604), array(0.01110995), array(5.81144063), array(0.23472757), array(196.30037836), array(1.69865723), array(0.00289409), array(76.08632125), array(0.03176525), array(0.36144577), 1]\n",
      "pancreas_315.dcm\n",
      "[0.25866288470391213, 0.0, 0.0, 163.4365139094165, array(34.375), array(90.234375), array(148.41085287), array(148.41085287), array(2624.6576945), 42.27496015376072, array(0.1623656), array(5667.24362839), array(2.15923152), 2711.126708984375, array(40.), array(140.), array(45356505.), array(2.60272224), array(39.), array(4.46881138), array(270.), array(29.99639202), array(103.09752111), array(109.), array(-28.), array(298.), array(18.33237939), array(111.1546406), array(-0.02306405), array(33496930.57250977), array(0.22072691), array(1726.25526762), array(46.29077792), array(468.78602334), array(-1.38645569), array(9.81579427), array(1.13466703), array(0.79273418), array(0.74998416), array(1.51660053), array(0.5607292), array(0.68048989), array(0.66266209), array(0.99345471), array(0.94819312), array(-0.26239814), array(0.85451306), array(0.48922923), array(6.64230325), array(0.07885024), array(4.45415064), array(0.91291366), array(0.19441682), array(13.2846065), array(3.38019582), array(2.73761532), array(5.23254274), array(567.7093435), array(0.15464706), array(3.16771183), array(810.28847725), array(2.86117561), array(47.00708254), array(19.95069463), array(927.39171888), array(0.60134593), array(0.03059962), array(0.14467108), array(6.53759595), array(0.00543888), array(437.32841961), array(0.19428272), array(3.03563748), array(47.01820662), array(3.95751398), array(184.39992186), array(0.11984275), array(0.03124971), array(4.21462873), array(1039.09944455), array(0.45722498), array(0.61291201), array(1.23573348), array(0.69713752), array(32.5401086), array(0.02246989), array(95.40414508), array(0.164774), array(4.01816604), array(45.16407599), array(667.60103627), array(32386.25043178), array(14.80153563), array(0.03844754), array(122.29533679), array(0.2112182), array(0.46340873), array(20.19993126), array(0.02086657), array(5.77949383), array(0.15772269), array(627.40237024), array(3.14766659), array(0.00276585), array(39.44511327), array(0.01972285), array(0.22377152), 1]\n",
      "pancreas_316.dcm\n"
     ]
    },
    {
     "name": "stderr",
     "output_type": "stream",
     "text": [
      "GLCM is symmetrical, therefore Sum Average = 2 * Joint Average, only 1 needs to be calculated\n",
      "GLCM is symmetrical, therefore Sum Average = 2 * Joint Average, only 1 needs to be calculated\n"
     ]
    },
    {
     "name": "stdout",
     "output_type": "stream",
     "text": [
      "[0.31241172656492067, 0.0, 0.0, 93.77009704875579, array(27.5), array(49.84375), array(80.38257674), array(80.38257674), array(1020.4574585), 29.294877919161966, array(0.215961), array(2269.71886562), array(2.22421704), 1067.169189453125, array(52.), array(169.), array(23529860.), array(2.84956807), array(56.), array(4.23748123), array(211.), array(36.79870116), array(118.18269896), array(128.), array(-64.), array(275.), array(23.97147283), array(127.6073671), array(-1.10630432), array(17377399.04785156), array(0.171031), array(2316.48980448), array(72.84101801), array(685.59278981), array(-50.75483036), array(12.27329027), array(1.56946765), array(0.77178851), array(0.92038409), array(1.6837413), array(0.70565255), array(0.63138733), array(0.60320107), array(0.98948782), array(0.93260678), array(-0.22216503), array(0.83335282), array(0.49866077), array(8.37640377), array(0.04842764), array(4.96274396), array(0.80715495), array(0.10479849), array(16.75280754), array(3.65974656), array(3.46068948), array(5.42903873), array(248.34256055), array(0.17186336), array(2.85457981), array(247.13979239), array(3.80113552), array(72.04359862), array(15.21868512), array(1181.25605536), array(0.26398829), array(0.02409056), array(0.20257444), array(13.16478102), array(0.00745179), array(155.04164408), array(0.15651516), array(4.21017641), array(69.9745714), array(2.95125317), array(221.61298717), array(0.06037509), array(0.02677158), array(4.19731455), array(535.96430086), array(0.53815378), array(0.68546713), array(0.79679913), array(0.76005291), array(51.97542751), array(0.02202917), array(41.64117647), array(0.12247405), array(5.56352941), array(63.32352941), array(115.04411765), array(9816.63823529), array(1.53099241), array(0.03859357), array(87.74705882), array(0.25807958), array(0.51826421), array(31.85403629), array(0.02357692), array(5.62773908), array(0.23529412), array(96.98161765), array(1.07031846), array(0.00776087), array(38.31634301), array(0.03459521), array(0.52033554), 1]\n",
      "pancreas_318.dcm\n",
      "[0.21066827371614383, 0.0, 0.0, 177.75336385728298, array(37.8125), array(97.96875), array(152.08995286), array(152.08995286), array(2747.19136556), 37.4469943110514, array(0.16229222), array(5844.92626397), array(2.1276007), 2820.428466796875, array(46.), array(129.), array(38382574.), array(2.45429767), array(37.), array(7.71871608), array(178.), array(29.13837025), array(90.52841058), array(100.), array(-106.), array(284.), array(15.94848208), array(100.25180917), array(-1.9809109), array(28346505.45654297), array(0.24591922), array(1855.03212031), array(86.61072717), array(1008.88227583), array(-78.40190216), array(10.82318947), array(1.05686556), array(0.82183947), array(0.7277738), array(1.48251201), array(0.52203671), array(0.68494549), array(0.66850758), array(0.99388471), array(0.9495361), array(-0.23145197), array(0.81653766), array(0.49304985), array(9.17437227), array(0.08803018), array(4.27802905), array(0.92170142), array(0.19902289), array(18.34874455), array(3.23336246), array(2.97001376), array(5.11165514), array(578.65226499), array(0.15151932), array(3.26176219), array(939.16548835), array(3.04853676), array(86.61848651), array(20.58470804), array(1841.78999738), array(0.31499393), array(0.01736586), array(0.1438634), array(12.02023882), array(0.00303722), array(483.37410628), array(0.2092516), array(3.44849498), array(85.24996274), array(4.0683456), array(361.23697975), array(0.06386096), array(0.01845044), array(4.15693818), array(1047.13903117), array(0.45171066), array(0.60473946), array(1.3111908), array(0.69483654), array(58.5585776), array(0.01334738), array(84.85714286), array(0.15153061), array(5.01346939), array(82.95714286), array(1051.00178571), array(100256.56428571), array(11.71056901), array(0.02273739), array(137.19642857), array(0.24499362), array(0.50595659), array(42.02742301), array(0.01197515), array(5.64018059), array(0.14663524), array(1004.49425702), array(2.32571533), array(0.00249428), array(43.15979085), array(0.02026404), array(0.28409029), 1]\n",
      "pancreas_320.dcm\n"
     ]
    },
    {
     "name": "stderr",
     "output_type": "stream",
     "text": [
      "GLCM is symmetrical, therefore Sum Average = 2 * Joint Average, only 1 needs to be calculated\n",
      "GLCM is symmetrical, therefore Sum Average = 2 * Joint Average, only 1 needs to be calculated\n"
     ]
    },
    {
     "name": "stdout",
     "output_type": "stream",
     "text": [
      "[0.2336581060382066, 0.0, 0.0, 178.98943725157014, array(37.8125), array(78.203125), array(163.64269206), array(163.64269206), array(3457.77587891), 41.8223329090463, array(0.15041207), array(7351.89575429), array(2.1261921), 3547.8759765625, array(87.), array(153.), array(72141813.), array(2.24530768), array(31.), array(5.06439924), array(223.), array(21.14638639), array(119.10095754), array(119.), array(-25.), array(248.), array(13.42140681), array(122.54399285), array(-0.42639275), array(53278560.6262207), array(0.26871775), array(831.99209733), array(40.6017475), array(100.43988376), array(-3.21136591), array(4.41334044), array(1.04448829), array(0.61656197), array(0.73157029), array(1.46776436), array(0.50050856), array(0.68188001), array(0.66532823), array(0.98989779), array(0.93579916), array(-0.16334363), array(0.70570305), array(0.49889722), array(6.30550592), array(0.09459516), array(4.07267771), array(0.66404291), array(0.19717425), array(12.61101185), array(3.02559059), array(1.36445718), array(4.87731469), array(764.82014988), array(0.15920486), array(2.98268997), array(1290.92006661), array(1.42506362), array(40.95732723), array(19.94254788), array(819.68172356), array(0.55645312), array(0.03144069), array(0.13657472), array(5.48617368), array(0.00562602), array(691.39134225), array(0.23583438), array(1.70357185), array(40.83340355), array(4.00341044), array(163.70418379), array(0.11716679), array(0.03337242), array(3.91621986), array(1347.91979279), array(0.45579409), array(0.61022065), array(1.26340878), array(0.6955211), array(28.22130718), array(0.02449307), array(119.22089552), array(0.17794164), array(3.17055914), array(39.78208955), array(2215.83283582), array(83000.75074627), array(60.02177176), array(0.04520247), array(145.19104478), array(0.21670305), array(0.46700342), array(18.52202255), array(0.0238308), array(5.5551968), array(0.13946711), array(2164.4217955), array(7.20772064), array(0.00169975), array(24.14686966), array(0.01733259), array(0.0783103), 1]\n",
      "pancreas_321.dcm\n",
      "[0.34672831910326307, 0.0, 0.0, 84.42185712726418, array(30.078125), array(56.71875), array(85.71807926), array(85.71807926), array(1376.91904704), 29.27144861731214, array(0.20316044), array(2946.12100448), array(2.13964722), 1417.230224609375, array(42.), array(114.), array(14513588.), array(2.28014646), array(35.), array(4.89744705), array(160.), array(23.14386048), array(81.33194372), array(87.), array(-74.), array(234.), array(14.94608128), array(86.96608265), array(-1.08908641), array(10718653.24707031), array(0.25636262), array(948.21446162), array(47.55180648), array(113.64309802), array(-12.08203867), array(4.71528197), array(1.17144405), array(0.60121595), array(0.78303986), array(1.53033995), array(0.55102895), array(0.6664136), array(0.64691987), array(0.98871943), array(0.93165649), array(-0.14307069), array(0.67571617), array(0.50460798), array(6.83123343), array(0.08765612), array(4.12333928), array(0.66732038), array(0.1896462), array(13.66246685), array(3.00631476), array(1.47168151), array(4.84547573), array(305.7691506), array(0.15933775), array(2.9627425), array(491.95987493), array(1.61174574), array(47.48254299), array(18.40489838), array(902.1974987), array(0.42301081), array(0.02733907), array(0.15804827), array(7.14196613), array(0.00660518), array(272.11779832), array(0.22365581), array(1.9269947), array(46.74151141), array(3.58910158), array(173.65347963), array(0.08869095), array(0.02969638), array(3.85511881), array(587.78661656), array(0.48099949), array(0.63379364), array(1.07462376), array(0.71816227), array(33.10078532), array(0.02295773), array(54.32911392), array(0.17192758), array(3.41067137), array(43.46835443), array(662.09810127), array(33024.04113924), array(13.4982266), array(0.04380867), array(76.4556962), array(0.24194841), array(0.50296587), array(22.14649025), array(0.02766883), array(5.37396473), array(0.1646691), array(625.21938592), array(2.59558173), array(0.00428316), array(26.69995033), array(0.02087556), array(0.20530969), 1]\n",
      "pancreas_323.dcm\n"
     ]
    },
    {
     "name": "stderr",
     "output_type": "stream",
     "text": [
      "GLCM is symmetrical, therefore Sum Average = 2 * Joint Average, only 1 needs to be calculated\n",
      "GLCM is symmetrical, therefore Sum Average = 2 * Joint Average, only 1 needs to be calculated\n"
     ]
    },
    {
     "name": "stdout",
     "output_type": "stream",
     "text": [
      "[0.3973132826893059, 0.0, 0.0, 103.8998116673138, array(39.53125), array(71.328125), array(103.83867634), array(103.83867634), array(2493.4463501), 41.280775244341086, array(0.16734714), array(5313.72630599), array(2.13107706), 2560.467529296875, array(8.), array(141.), array(26194883.), array(3.08133459), array(81.), array(2.39959507), array(208.), array(43.63667141), array(69.5307182), array(66.), array(-83.), array(291.), array(32.95322388), array(86.92232027), array(0.03139975), array(19345586.19995117), array(0.13190643), array(2720.96898717), array(56.76476668), array(605.22262783), array(1.50451455), array(15.83241904), array(1.82176737), array(0.79364159), array(0.99184995), array(1.778857), array(0.82152712), array(0.61653041), array(0.5838741), array(0.98961357), array(0.93289487), array(-0.24461086), array(0.87603643), array(0.48767964), array(7.2980878), array(0.03166702), array(5.39067469), array(0.80137091), array(0.06898917), array(14.5961756), array(3.9762813), array(4.4135466), array(5.64887172), array(619.38361696), array(0.17865117), array(2.60317041), array(457.31958466), array(4.46599921), array(57.73031439), array(14.70522065), array(795.56013845), array(0.4109541), array(0.02694661), array(0.19414216), array(11.58397581), array(0.00580334), array(312.96841975), array(0.13080338), array(4.43225858), array(58.83658617), array(2.85291397), array(159.33773413), array(0.07842047), array(0.0267939), array(4.34798819), array(1289.41130027), array(0.53663798), array(0.69014999), array(0.7347174), array(0.75896688), array(45.2215377), array(0.02037628), array(99.72292191), array(0.12559562), array(4.9213005), array(60.64357683), array(92.15239295), array(3953.78967254), array(2.99604808), array(0.02898496), array(174.65239295), array(0.21996523), array(0.47395105), array(28.40136525), array(0.01604211), array(5.97478625), array(0.22901644), array(73.0860817), array(3.02474428), array(0.0036609), array(44.29149167), array(0.03646638), array(0.21847944), 1]\n",
      "pancreas_325.dcm\n",
      "[0.3059215722444504, 0.0, 0.0, 130.8987281101633, array(37.8125), array(98.828125), array(120.29408341), array(120.29408341), array(2621.27278646), 40.044744708259984, array(0.16455348), array(5587.08386784), array(2.13143931), 2691.925048828125, array(78.), array(162.), array(58352901.), array(2.5310426), array(42.), array(4.58063558), array(249.), array(26.58073156), array(121.52620027), array(124.), array(-45.), array(294.), array(17.41882409), array(126.52678111), array(-0.5524977), array(43095099.00512695), array(0.21493434), array(1240.40898433), array(55.91189894), array(168.35517707), array(-7.4339717), array(5.82369426), array(2.04017815), array(0.48076315), array(1.06869657), array(1.82000737), array(0.86506479), array(0.59591635), array(0.55914053), array(0.98645887), array(0.92281779), array(-0.09793894), array(0.58321109), array(0.49196857), array(7.41390542), array(0.05711874), array(4.7539518), array(0.56181925), array(0.11511851), array(14.82781085), array(3.24568788), array(1.9659681), array(4.92849703), array(687.88559671), array(0.18872033), array(2.26923372), array(783.43566529), array(2.07783095), array(56.55802469), array(12.90452675), array(741.8962963), array(0.25663005), array(0.02357638), array(0.21838748), array(11.90487489), array(0.0068576), array(510.40398663), array(0.19510557), array(2.38523685), array(56.2022142), array(2.60862854), array(148.9421532), array(0.05661516), array(0.02496032), array(3.79198981), array(1506.79635338), array(0.57064969), array(0.71735254), array(0.6230256), array(0.78033148), array(43.62535111), array(0.02039572), array(142.68864865), array(0.154258), array(3.75462381), array(55.12864865), array(91.99027027), array(5190.53621622), array(1.73252919), array(0.03083667), array(241.64), array(0.26123243), array(0.51672093), array(27.54383081), array(0.01895663), array(5.4801084), array(0.25377229), array(76.46241052), array(4.34199445), array(0.00198276), array(50.03861959), array(0.02485422), array(0.12319225), 1]\n",
      "pancreas_326.dcm\n"
     ]
    },
    {
     "name": "stderr",
     "output_type": "stream",
     "text": [
      "GLCM is symmetrical, therefore Sum Average = 2 * Joint Average, only 1 needs to be calculated\n",
      "GLCM is symmetrical, therefore Sum Average = 2 * Joint Average, only 1 needs to be calculated\n"
     ]
    },
    {
     "name": "stdout",
     "output_type": "stream",
     "text": [
      "[0.2298141361898682, 0.0, 0.0, 126.36117533558328, array(30.078125), array(73.90625), array(126.88519817), array(126.88519817), array(1959.73866781), 29.03958435768355, array(0.17868786), array(4238.26246009), array(2.16266716), 2026.513671875, array(21.), array(112.), array(17481310.), array(2.50323348), array(45.), array(3.66749987), array(165.), array(27.78266868), array(71.54591837), array(77.), array(-102.), array(267.), array(19.25500457), array(79.81691422), array(-0.72899124), array(12910391.29638672), array(0.21284578), array(1251.92136089), array(71.89129647), array(148.87411086), array(-12.65496377), array(6.40100457), array(1.60412292), array(0.5993473), array(0.94036413), array(1.69164769), array(0.70367911), array(0.62405281), array(0.59489418), array(0.98924538), array(0.9311554), array(-0.13754456), array(0.6856422), array(0.5052833), array(8.40785714), array(0.0601201), array(4.62361714), array(0.70239692), array(0.14452765), array(16.81571428), array(3.28501397), array(2.00128187), array(4.97095245), array(486.89358601), array(0.17743935), array(2.47765599), array(584.04883382), array(2.0666389), array(72.25), array(14.57507289), array(1096.36297376), array(0.21388639), array(0.01648227), array(0.19556123), array(13.56469033), array(0.00398324), array(367.98974004), array(0.19428491), array(2.30757704), array(71.21536054), array(2.85582302), array(210.66403634), array(0.04436068), array(0.01720574), array(3.84096373), array(1024.55537385), array(0.537938), array(0.69023324), array(0.73218342), array(0.75910135), array(53.42357144), array(0.01354665), array(95.20033389), array(0.15893211), array(3.45234824), array(68.12186978), array(147.48580968), array(11652.57095159), array(1.94761827), array(0.02072111), array(149.71786311), array(0.24994635), array(0.50939309), array(34.87883822), array(0.01188968), array(5.46252756), array(0.21829446), array(126.5005393), array(2.44581442), array(0.00306417), array(46.62901837), array(0.02100041), array(0.22833323), 1]\n",
      "pancreas_327.dcm\n",
      "[0.33851095333163034, 0.0, 0.0, 125.1909945650283, array(34.375), array(81.640625), array(126.20822329), array(126.20822329), array(2172.803243), 42.37852291874268, array(0.17219989), array(4711.19989865), array(2.16825887), 2248.0712890625, array(18.), array(122.), array(22108419.), array(2.75964824), array(57.), array(17.35773243), array(584.), array(33.33463516), array(72.51544021), array(73.), array(-324.), array(908.), array(23.36201245), array(85.22294138), array(1.31027575), array(16327628.77807617), array(0.17035365), array(2004.4606683), array(272.07687039), array(1267.39823218), array(38.39836786), array(10.8214028), array(1.57952942), array(0.74456301), array(0.75071934), array(1.49433182), array(1.00998515), array(0.68515256), array(0.66916373), array(0.99894336), array(0.98069234), array(-0.29044374), array(0.889149), array(0.4936742), array(16.42456409), array(0.05199841), array(4.68713343), array(0.88090208), array(0.10326761), array(32.84912818), array(3.64867898), array(3.10023306), array(5.5136373), array(468.03285151), array(0.15375586), array(3.19497739), array(518.5565046), array(3.28866722), array(272.98620237), array(20.17674113), array(5489.35939553), array(0.07755832), array(0.00415646), array(0.14472923), array(40.28103172), array(0.00088657), array(313.65104504), array(0.16895667), array(3.70135388), array(273.56712922), array(3.91699114), array(1065.47605142), array(0.01557027), array(0.00437191), array(4.3279384), array(843.98596836), array(0.45201294), array(0.6098883), array(1.19830955), array(0.69320797), array(190.02696478), array(0.00320139), array(65.66521739), array(0.14275047), array(7.21415406), array(278.38913043), array(303.90869565), array(81740.27391304), array(1.17874402), array(0.00605121), array(104.96521739), array(0.22818526), array(0.48832074), array(138.91055253), array(0.0040689), array(5.88227747), array(0.15111695), array(260.11882798), array(0.52535604), array(0.00395126), array(156.00130501), array(0.00949673), array(2.31587859), 1]\n",
      "pancreas_328.dcm\n"
     ]
    },
    {
     "name": "stderr",
     "output_type": "stream",
     "text": [
      "GLCM is symmetrical, therefore Sum Average = 2 * Joint Average, only 1 needs to be calculated\n",
      "GLCM is symmetrical, therefore Sum Average = 2 * Joint Average, only 1 needs to be calculated\n"
     ]
    },
    {
     "name": "stdout",
     "output_type": "stream",
     "text": [
      "[0.45248337320095966, 0.0, 0.0, 96.43272752440208, array(42.109375), array(76.484375), array(78.39177109), array(78.39177109), array(1330.1457723), 43.63420583721049, array(0.20113256), array(2908.04568561), array(2.18626089), 1382.51953125, array(24.), array(88.), array(7733593.), array(2.16964226), array(31.), array(5.76255621), array(133.), array(20.62990643), array(57.79754274), array(61.), array(-84.), array(217.), array(13.15067914), array(64.27435602), array(-1.11705975), array(5711454.79125977), array(0.27956126), array(790.63689567), array(47.74764599), array(118.81501112), array(-10.83546386), array(4.24596973), array(1.01140489), array(0.61483579), array(0.71041866), array(1.45845162), array(0.50008835), array(0.69016714), array(0.67456393), array(0.99022609), array(0.93762558), array(-0.15528486), array(0.68759574), array(0.48998614), array(6.85119897), array(0.10097221), array(3.95054825), array(0.71380089), array(0.22080355), array(13.70239794), array(2.93421692), array(1.31434366), array(4.88071651), array(283.10042735), array(0.15122886), array(3.31581014), array(523.33867521), array(1.35683504), array(48.02938034), array(20.60576923), array(1015.25801282), array(0.46911122), array(0.02615591), array(0.14524675), array(6.66381074), array(0.00453282), array(278.75895001), array(0.24606886), array(1.62041184), array(47.37230367), array(4.08942066), array(199.67692827), array(0.09777736), array(0.02795063), array(3.84470149), array(521.02378719), array(0.45611099), array(0.60523504), array(1.31964401), array(0.69611301), array(32.63175956), array(0.02043439), array(59.64808362), array(0.20783304), array(2.6192621), array(44.9825784), array(648.69686411), array(31953.02787456), array(13.40508215), array(0.03407265), array(68.23344948), array(0.23774721), array(0.49586006), array(22.05425562), array(0.01638851), array(5.17312174), array(0.15331197), array(606.15192609), array(2.47349037), array(0.00434612), array(25.15953124), array(0.01609516), array(0.22777116), 1]\n",
      "pancreas_329.dcm\n",
      "[0.3168115190439613, 0.0, 0.0, 138.4280780670658, array(44.6875), array(106.5625), array(125.95341963), array(125.95341963), array(2887.32655843), 43.855609690763174, array(0.15972975), array(6138.97106673), array(2.1261783), 2965.91796875, array(19.), array(100.), array(18343376.), array(2.40772062), array(44.), array(2.78150056), array(168.), array(25.43549358), array(59.84312749), array(61.), array(-44.), array(212.), array(18.32281208), array(67.58382725), array(-0.00458845), array(13547048.92578125), array(0.21484642), array(986.37379739), array(25.26663706), array(75.16022801), array(0.26328829), array(5.27543984), array(1.13935935), array(0.64456396), array(0.78323143), array(1.50027914), array(0.51515948), array(0.66336982), array(0.64382898), array(0.9864986), array(0.92483219), array(-0.17311526), array(0.7365218), array(0.51170399), array(4.9226627), array(0.06349308), array(4.35010302), array(0.64848323), array(0.12199607), array(9.84532539), array(3.23374471), array(1.6036998), array(5.06590575), array(681.39043825), array(0.16966893), array(2.65909172), array(862.82320717), array(1.65995623), array(25.82295817), array(17.78685259), array(450.92255976), array(0.91111835), array(0.05471466), array(0.14793089), array(3.90251267), array(0.0094457), array(528.26244986), array(0.20602395), array(1.79846487), array(26.0053341), array(3.45867688), array(88.27063531), array(0.18342326), array(0.05649319), array(3.91932314), array(1239.02425551), array(0.47904045), array(0.63881972), array(0.96407731), array(0.71487574), array(18.67862137), array(0.04166797), array(102.04590164), array(0.16728836), array(2.68993281), array(26.61967213), array(284.13770492), array(6810.1295082), array(14.56846225), array(0.06869379), array(130.39016393), array(0.21375437), array(0.46450884), array(12.37429388), array(0.03398219), array(5.66775346), array(0.15189243), array(240.79382962), array(9.25761949), array(0.00221723), array(19.5025968), array(0.02648394), array(0.06503254), 1]\n",
      "pancreas_330.dcm\n"
     ]
    },
    {
     "name": "stderr",
     "output_type": "stream",
     "text": [
      "GLCM is symmetrical, therefore Sum Average = 2 * Joint Average, only 1 needs to be calculated\n",
      "GLCM is symmetrical, therefore Sum Average = 2 * Joint Average, only 1 needs to be calculated\n"
     ]
    },
    {
     "name": "stdout",
     "output_type": "stream",
     "text": [
      "[0.28918404478975157, 0.0, 0.0, 110.63682325387826, array(30.9375), array(59.296875), array(103.68565046), array(103.68565046), array(1325.09918213), 31.99440405124536, array(0.19685027), array(2963.78729538), array(2.23665318), 1390.643310546875, array(-14.8), array(140.), array(16070259.), array(3.27546882), array(89.), array(3.00116047), array(202.), array(50.42366998), array(68.43600637), array(79.), array(-121.), array(323.), array(35.91061972), array(92.38176983), array(-0.65981524), array(11868294.30541992), array(0.1192527), array(3850.90442845), array(74.57753725), array(1630.20526539), array(-78.8544772), array(22.32290932), array(2.08437537), array(0.82901028), array(1.05992365), array(1.85850226), array(0.93987933), array(0.60399898), array(0.56717184), array(0.98975808), array(0.93335319), array(-0.26113998), array(0.8984493), array(0.47390701), array(8.33771783), array(0.02740875), array(5.64503116), array(0.87312131), array(0.06148345), array(16.67543566), array(4.14893108), array(6.10182117), array(5.77983688), array(348.08550186), array(0.18485688), array(2.57728413), array(224.55284121), array(6.29085123), array(74.39936272), array(13.4992034), array(996.33351036), array(0.47466681), array(0.03293185), array(0.21843059), array(15.40616346), array(0.00773666), array(158.26834462), array(0.11808), array(6.18199744), array(74.15336726), array(2.65593014), array(195.17529781), array(0.08937903), array(0.03247055), array(4.44860034), array(765.18988663), array(0.56856818), array(0.71189591), array(0.66709369), array(0.78139281), array(57.47708273), array(0.02517826), array(55.18326693), array(0.10992683), array(6.5916295), array(70.62350598), array(51.14940239), array(4186.06772908), array(1.42973155), array(0.03600221), array(118.94422311), array(0.23694068), array(0.4915596), array(33.18387473), array(0.01935974), array(5.88396821), array(0.26659586), array(37.07943128), array(1.08981845), array(0.00735051), array(51.38569207), array(0.04530689), array(0.52428229), 1]\n",
      "pancreas_331.dcm\n",
      "[0.4035981648935664, 0.0, 0.0, 98.62490874981142, array(38.671875), array(80.78125), array(90.70376426), array(90.70376426), array(1528.68601481), 39.804832184219336, array(0.19227517), array(3337.64215259), array(2.18334054), 1586.3525390625, array(-44.), array(140.), array(19495056.), array(3.42374538), array(103.), array(2.66739599), array(328.), array(58.53089358), array(63.91154562), array(79.), array(-120.), array(448.), array(43.00401572), array(95.26757378), array(-0.461286), array(14397593.84765625), array(0.10938069), array(4991.2249505), array(71.41079624), array(2185.72076767), array(-72.29738405), array(29.18606609), array(2.59729302), array(0.8365184), array(1.1689837), array(1.97166579), array(1.20263437), array(0.58393952), array(0.54372564), array(0.99302856), array(0.94471249), array(-0.26504683), array(0.90925652), array(0.47543412), array(8.04751889), array(0.02515479), array(5.91978611), array(0.84516521), array(0.06961897), array(16.09503778), array(4.32956671), array(7.94583978), array(5.85132535), array(404.40409683), array(0.18827006), array(2.41353179), array(234.94972067), array(8.07452604), array(73.27188082), array(12.40595903), array(1004.25139665), array(0.37924003), array(0.03844447), array(0.24453221), array(16.75743821), array(0.01066573), array(161.47736669), array(0.10295653), array(8.28515843), array(71.19305325), array(2.46231398), array(188.40339954), array(0.08752778), array(0.04064027), array(4.58054732), array(922.85079368), array(0.58675488), array(0.72986499), array(0.5732035), array(0.79349215), array(55.29582098), array(0.03368359), array(59.21187801), array(0.09504314), array(8.87818741), array(67.45104334), array(55.02407705), array(4961.19743178), array(1.46862497), array(0.04566269), array(177.58426966), array(0.28504698), array(0.54481058), array(36.73103691), array(0.02475316), array(5.86252115), array(0.29003724), array(43.1365242), array(0.87325339), array(0.0063831), array(106.80912997), array(0.03874419), array(0.89555827), 1]\n",
      "pancreas_333.dcm\n"
     ]
    },
    {
     "name": "stderr",
     "output_type": "stream",
     "text": [
      "GLCM is symmetrical, therefore Sum Average = 2 * Joint Average, only 1 needs to be calculated\n",
      "GLCM is symmetrical, therefore Sum Average = 2 * Joint Average, only 1 needs to be calculated\n"
     ]
    },
    {
     "name": "stdout",
     "output_type": "stream",
     "text": [
      "[0.4509521676014954, 0.0, 0.0, 112.83735156794438, array(36.09375), array(91.09375), array(107.12239504), array(107.12239504), array(1776.64591471), 50.88424827597652, array(0.18292811), array(3877.9684902), array(2.18274697), 1844.83642578125, array(1.), array(142.), array(22161529.), array(3.16436631), array(77.), array(2.94729358), array(239.), array(44.20417263), array(76.48718975), array(83.), array(-117.), array(356.), array(31.45076375), array(94.1897498), array(-0.37612854), array(16366851.86157227), array(0.13017748), array(3021.41877105), array(77.47939156), array(666.31205053), array(-27.9661439), array(14.87004133), array(4.036186), array(0.57247129), array(1.54969191), array(2.24555629), array(1.61779452), array(0.50798574), array(0.4476355), array(0.98301881), array(0.91147096), array(-0.1037721), array(0.68372102), array(0.43502334), array(8.64700135), array(0.02240049), array(5.9471858), array(0.60829755), array(0.05040123), array(17.2940027), array(3.93650724), array(4.72655683), array(5.3306632), array(582.75900721), array(0.23329024), array(1.59670795), array(325.18334668), array(4.90308083), array(78.45876701), array(8.04643715), array(645.22017614), array(0.13470036), array(0.02043765), array(0.34820892), array(26.43866237), array(0.00884744), array(252.88621434), array(0.12536983), array(5.16720253), array(77.99958161), array(1.84335357), array(145.78651242), array(0.03520037), array(0.02132879), array(4.05436485), array(1374.38411659), array(0.6806385), array(0.80754604), array(0.30762259), array(0.85152993), array(66.07824614), array(0.01879937), array(114.93429952), array(0.11104763), array(6.27602604), array(76.01062802), array(14.97391304), array(1206.71497585), array(0.23925993), array(0.02509147), array(375.12173913), array(0.36243646), array(0.62411024), array(46.71073143), array(0.0173408), array(5.39552345), array(0.41433147), array(9.14880254), array(2.10084438), array(0.00320014), array(103.97867382), array(0.05201164), array(0.25771711), 1]\n",
      "pancreas_334.dcm\n",
      "[0.26077156941376467, 0.0, 0.0, 137.32582301259166, array(27.5), array(77.34375), array(125.82435694), array(125.82435694), array(2058.82415771), 35.8106703880304, array(0.17609934), array(4444.32586217), array(2.1586719), 2124.737548828125, array(24.), array(163.), array(38444550.), array(3.01087993), array(92.), array(2.14468831), array(247.), array(46.83766146), array(101.84358707), array(110.), array(-8.), array(255.), array(37.18281642), array(115.59723866), array(-0.0503397), array(28392276.30615234), array(0.13812579), array(2990.60535773), array(35.18854779), array(737.54249195), array(-3.0423898), array(18.33935114), array(1.25335767), array(0.87227902), array(0.78043596), array(1.58009266), array(0.63068072), array(0.67642473), array(0.65604235), array(0.99003993), array(0.93785009), array(-0.34288128), array(0.93099178), array(0.47441142), array(5.56029703), array(0.04280743), array(4.97372152), array(0.92358481), array(0.09548414), array(11.12059405), array(3.90614305), array(4.8981772), array(5.69091272), array(426.98748697), array(0.14841414), array(3.48261142), array(397.38790407), array(4.857709), array(36.15467501), array(20.24504692), array(723.1571081), array(1.59191188), array(0.06384416), array(0.15227495), array(5.26060905), array(0.00973394), array(244.3579816), array(0.13848397), array(4.28815864), array(36.10803717), array(3.93009249), array(139.33705022), array(0.29447202), array(0.05828992), array(4.48725734), array(818.91776688), array(0.46054198), array(0.61322558), array(1.22050781), array(0.70199789), array(25.03005872), array(0.03911316), array(74.07949791), array(0.15497803), array(3.4766592), array(34.93514644), array(211.57112971), array(7094.96443515), array(17.5780335), array(0.05920511), array(103.60669456), array(0.21675041), array(0.47433197), array(15.88242968), array(0.03495154), array(5.68524305), array(0.16614529), array(175.34483377), array(3.40938461), array(0.00508354), array(24.34727015), array(0.04465843), array(0.22718677), 1]\n",
      "pancreas_336.dcm\n"
     ]
    },
    {
     "name": "stderr",
     "output_type": "stream",
     "text": [
      "GLCM is symmetrical, therefore Sum Average = 2 * Joint Average, only 1 needs to be calculated\n",
      "GLCM is symmetrical, therefore Sum Average = 2 * Joint Average, only 1 needs to be calculated\n"
     ]
    },
    {
     "name": "stdout",
     "output_type": "stream",
     "text": [
      "[0.35301062836333574, 0.0, 0.0, 140.4216820629758, array(46.40625), array(101.40625), array(124.84917659), array(124.84917659), array(2059.50113932), 49.57034622088764, array(0.17383445), array(4503.21788494), array(2.18655761), 2138.031005859375, array(-24.6), array(113.), array(17801432.), array(2.9838605), array(70.), array(3.26545253), array(200.), array(43.05530409), array(57.13091537), array(72.), array(-137.), array(337.), array(29.80124563), array(78.41572927), array(-0.88978824), array(13146809.52148438), array(0.156344), array(2885.08510642), array(82.1931634), array(873.48710617), array(-62.78368208), array(15.86784349), array(2.03132935), array(0.77230467), array(1.03858252), array(1.83572739), array(0.93395359), array(0.60799746), array(0.57391748), array(0.9912776), array(0.9385148), array(-0.21103938), array(0.83488672), array(0.48816627), array(8.87319932), array(0.0420759), array(5.26606244), array(0.80164363), array(0.1091833), array(17.74639864), array(3.79225381), array(4.47479321), array(5.47415951), array(513.24801382), array(0.17728774), array(2.48331988), array(452.61588946), array(4.69060455), array(82.02728843), array(13.72607945), array(1203.93471503), array(0.21234013), array(0.01892333), array(0.22132861), array(16.71683566), array(0.00588083), array(290.34447178), array(0.14210393), array(5.02402415), array(80.15292497), array(2.69380439), array(228.61974615), array(0.04644068), array(0.02022797), array(4.26768548), array(1149.94583844), array(0.56036721), array(0.70587219), array(0.67092181), array(0.77564933), array(61.05379084), array(0.01657525), array(82.82441701), array(0.11361374), array(6.26312987), array(74.0260631), array(104.93689986), array(10035.06858711), array(1.26558725), array(0.02625452), array(212.50891632), array(0.29150743), array(0.55411291), array(40.20765879), array(0.01752271), array(5.73504336), array(0.25181347), array(89.16652272), array(1.58614149), array(0.00362025), array(69.73587892), array(0.03187162), array(0.34841792), 1]\n",
      "pancreas_339.dcm\n",
      "[0.22214807432539727, 0.0, 0.0, 141.57795727108558, array(30.078125), array(99.6875), array(126.11456225), array(126.11456225), array(2372.02046712), 31.451270574695034, array(0.17024469), array(5052.30436607), array(2.12995817), 2437.1337890625, array(2.), array(112.), array(18981639.), array(2.81943284), array(53.), array(3.741263), array(179.), array(33.95206189), array(61.62151515), array(68.), array(-119.), array(298.), array(22.45500596), array(75.84201882), array(-0.67455971), array(14018422.35717773), array(0.17532342), array(1954.80068861), array(66.15726706), array(461.87988836), array(-24.46710937), array(10.94224017), array(1.62093177), array(0.74193695), array(0.93282159), array(1.71408256), array(0.74027446), array(0.62953632), array(0.60060097), array(0.99071303), array(0.93649905), array(-0.20961979), array(0.82503426), array(0.49509281), array(7.98917605), array(0.04791742), array(5.02307562), array(0.74976153), array(0.11208698), array(15.97835209), array(3.68781016), array(3.14079298), array(5.38328323), array(578.96848485), array(0.175445), array(2.58509311), array(578.56727273), array(3.18213627), array(66.91090909), array(15.46666667), array(1092.96909091), array(0.27228834), array(0.02105125), array(0.17863448), array(11.36106895), array(0.00477419), array(361.64187148), array(0.16201259), array(3.48046741), array(65.60822054), array(2.93481225), array(202.4497512), array(0.05618866), array(0.02238997), array(4.20362663), array(1150.46492382), array(0.51401727), array(0.67636364), array(0.7370565), array(0.74215882), array(48.01389266), array(0.01740711), array(90.88596491), array(0.13287422), array(4.60049246), array(62.04093567), array(165.96491228), array(12765.83625731), array(2.33472362), array(0.02776028), array(144.84795322), array(0.21176601), array(0.45905825), array(28.62579894), array(0.01418344), array(5.89369638), array(0.20727273), array(142.68851954), array(2.45775372), array(0.00314662), array(45.86640364), array(0.02571729), array(0.22682906), 1]\n",
      "pancreas_342.dcm\n"
     ]
    },
    {
     "name": "stderr",
     "output_type": "stream",
     "text": [
      "GLCM is symmetrical, therefore Sum Average = 2 * Joint Average, only 1 needs to be calculated\n",
      "GLCM is symmetrical, therefore Sum Average = 2 * Joint Average, only 1 needs to be calculated\n"
     ]
    },
    {
     "name": "stdout",
     "output_type": "stream",
     "text": [
      "[0.2578686068824342, 0.0, 0.0, 162.8078321058678, array(53.28125), array(69.609375), array(148.16432511), array(148.16432511), array(3305.45501709), 41.98302885468937, array(0.15292592), array(7017.09231674), array(2.12288241), 3390.570068359375, array(9.), array(119.), array(31814332.), array(2.8081724), array(64.), array(3.05996726), array(270.), array(36.54219887), array(70.22653017), array(80.), array(-87.), array(357.), array(26.572157), array(83.24492341), array(-0.552849), array(23495691.96777344), array(0.1708737), array(1997.95173353), array(56.24983607), array(419.86939991), array(-24.24976345), array(11.6753362), array(1.26270257), array(0.80475273), array(0.80114376), array(1.5719656), array(0.60660986), array(0.66574197), array(0.64464212), array(0.99450122), array(0.95156821), array(-0.27187863), array(0.87709853), array(0.4909189), array(7.32438902), array(0.05258244), array(4.82618813), array(0.88180098), array(0.11588186), array(14.64877804), array(3.66584807), array(3.23450969), array(5.517618), array(711.09148334), array(0.15488815), array(3.20683916), array(784.48115879), array(3.29146686), array(56.94685254), array(19.02439556), array(1093.40906121), array(0.46795637), array(0.02641191), array(0.15634491), array(8.81452866), array(0.00472946), array(464.23277579), array(0.16101834), array(3.43638566), array(56.61103931), array(3.72316633), array(211.61112414), array(0.09451112), array(0.02734427), array(4.34365765), array(1374.84696986), array(0.47260679), array(0.62785885), array(1.131837), array(0.70969349), array(39.8370327), array(0.01997406), array(113.42547771), array(0.14449105), array(4.26726277), array(55.59490446), array(293.82547771), array(16926.8522293), array(6.32933827), array(0.03177733), array(174.42675159), array(0.22219968), array(0.47783674), array(27.25252696), array(0.01583231), array(5.87032275), array(0.17098671), array(259.62160574), array(2.71879431), array(0.00247111), array(58.20308108), array(0.01791667), array(0.25625476), 1]\n",
      "pancreas_343.dcm\n",
      "[0.40138066805794964, 0.0, 0.0, 81.49821669984142, array(25.78125), array(55.), array(85.56717082), array(85.56717082), array(824.19433594), 32.711808664513896, array(0.22914853), array(1855.18315489), array(2.250905), 867.767333984375, array(8.), array(127.), array(8920397.), array(2.8924198), array(66.), array(3.66866127), array(332.), array(37.46464101), array(73.75744681), array(80.), array(-58.), array(390.), array(27.04146213), array(87.13109223), array(-0.09722011), array(6587939.67895508), array(0.15503486), array(2151.66627433), array(45.2800337), array(448.86746784), array(-5.43658123), array(11.33080295), array(2.02071828), array(0.69653234), array(1.03029193), array(1.80334917), array(0.93811056), array(0.60739148), array(0.57422784), array(0.99325557), array(0.94544916), array(-0.19579382), array(0.80885121), array(0.49855798), array(6.55377601), array(0.03874837), array(5.14283409), array(0.72209451), array(0.08067415), array(13.10755202), array(3.71320788), array(3.33788031), array(5.34113642), array(220.86382979), array(0.18796922), array(2.40358533), array(182.16595745), array(3.51828773), array(45.26638298), array(13.05617021), array(627.22212766), array(0.39067209), array(0.03655702), array(0.21935101), array(9.84874994), array(0.00980516), array(124.57665621), array(0.14782544), array(3.81481247), array(44.51460533), array(2.55502408), array(118.25674206), array(0.08565591), array(0.03868939), array(4.09412597), array(480.70796759), array(0.56655972), array(0.71702128), array(0.58138954), array(0.77854882), array(34.20873198), array(0.03140932), array(39.71069182), array(0.12487639), array(5.36521498), array(43.50943396), array(43.32389937), array(2146.39622642), array(1.15253728), array(0.04668271), array(73.6918239), array(0.2317353), array(0.48325945), array(22.20563792), array(0.02408097), array(5.61404981), array(0.2706383), array(29.67110676), array(0.87613393), array(0.00908273), array(77.95012359), array(0.02329379), array(1.06899801), 1]\n",
      "pancreas_344.dcm\n"
     ]
    },
    {
     "name": "stderr",
     "output_type": "stream",
     "text": [
      "GLCM is symmetrical, therefore Sum Average = 2 * Joint Average, only 1 needs to be calculated\n",
      "GLCM is symmetrical, therefore Sum Average = 2 * Joint Average, only 1 needs to be calculated\n"
     ]
    },
    {
     "name": "stdout",
     "output_type": "stream",
     "text": [
      "[0.3185288284176849, 0.0, 0.0, 120.37796328572604, array(32.65625), array(85.078125), array(101.39532515), array(101.39532515), array(1396.92077637), 38.3438516127094, array(0.1974595), array(3060.46406253), array(2.19086445), 1453.41796875, array(-22.), array(128.), array(16881648.), array(2.98077897), array(66.), array(3.68145995), array(191.), array(45.52676152), array(71.91666667), array(90.), array(-121.), array(312.), array(29.63107835), array(92.61788796), array(-1.16910782), array(12467525.68359375), array(0.1605722), array(3406.06622629), array(76.87923216), array(1485.70939775), array(-109.81420222), array(19.29666854), array(1.58089454), array(0.84786602), array(0.91492246), array(1.67834766), array(0.72159239), array(0.63394175), array(0.60633935), array(0.99096848), array(0.93765482), array(-0.27237864), array(0.88585764), array(0.49782148), array(8.51171391), array(0.04792026), array(5.06639269), array(0.89105508), array(0.11949071), array(17.02342783), array(3.7732853), array(5.21939077), array(5.4815976), array(345.70325203), array(0.17566222), array(2.51700377), array(316.00609756), array(5.54576863), array(75.93343496), array(15.28455285), array(1225.44461382), array(0.34691389), array(0.02849939), array(0.18217064), array(12.72881126), array(0.00725413), array(195.12077842), array(0.14618862), array(5.81624433), array(74.31116009), array(2.99684335), array(234.51129055), array(0.07587887), array(0.03092901), array(4.34775685), array(705.48079564), array(0.52334492), array(0.67835366), array(0.77581987), array(0.74720258), array(54.53836027), array(0.02470834), array(45.69306931), array(0.11310166), array(7.18480419), array(67.01732673), array(261.34653465), array(25003.60643564), array(3.20092952), array(0.04364611), array(94.1980198), array(0.23316342), array(0.48565871), array(32.08466524), array(0.02348666), array(5.8899142), array(0.20528455), array(237.61709636), array(1.28836318), array(0.00564844), array(47.02502461), array(0.04615298), array(0.43711127), 1]\n",
      "pancreas_345.dcm\n",
      "[0.34476344790552305, 0.0, 0.0, 166.4751480773608, array(49.84375), array(87.65625), array(145.39700584), array(145.39700584), array(2433.25653076), 57.39454604173342, array(0.16500691), array(5302.01062136), array(2.17897725), 2522.802734375, array(27.), array(143.), array(36171655.), array(2.86803271), array(55.), array(3.1111223), array(218.), array(35.50589765), array(92.2748829), array(98.), array(-72.), array(290.), array(23.76492126), array(102.90234195), array(-0.25946904), array(26713685.63842773), array(0.16796303), array(2074.23796398), array(55.19143275), array(448.54504371), array(-8.52357209), array(11.96618369), array(1.30597833), array(0.80317874), array(0.80263828), array(1.60080739), array(0.65208161), array(0.66862494), array(0.64748804), array(0.99124693), array(0.94088692), array(-0.28045884), array(0.88914294), array(0.48326576), array(7.2475074), array(0.05098661), array(4.8999434), array(0.85680138), array(0.13287741), array(14.49501479), array(3.73437239), array(3.3180405), array(5.56445296), array(534.39929742), array(0.15644008), array(3.09932731), array(573.7617096), array(3.40355758), array(55.41569087), array(18.87529274), array(1095.7704918), array(0.45304025), array(0.02673922), array(0.15418881), array(7.83685384), array(0.00528865), array(342.69979557), array(0.15962844), array(3.46868383), array(54.15453163), array(3.61135737), array(205.25679304), array(0.09118542), array(0.02819478), array(4.37398302), array(1013.89187031), array(0.46950723), array(0.62851288), array(1.05029293), array(0.70786912), array(37.51146477), array(0.02093518), array(82.98646362), array(0.14041703), array(4.28743046), array(49.7072758), array(254.95769882), array(16419.32318105), array(4.91593027), array(0.03641895), array(123.7106599), array(0.2093243), array(0.45938665), array(21.95901345), array(0.01907751), array(5.88387139), array(0.17300937), array(221.54890761), array(2.88974055), array(0.00354096), array(32.84324891), array(0.02858321), array(0.20061926), 1]\n",
      "pancreas_346.dcm\n"
     ]
    },
    {
     "name": "stderr",
     "output_type": "stream",
     "text": [
      "GLCM is symmetrical, therefore Sum Average = 2 * Joint Average, only 1 needs to be calculated\n",
      "GLCM is symmetrical, therefore Sum Average = 2 * Joint Average, only 1 needs to be calculated\n"
     ]
    },
    {
     "name": "stdout",
     "output_type": "stream",
     "text": [
      "[0.4362264608816259, 0.0, 0.0, 97.50186541001446, array(30.078125), array(68.75), array(83.37266324), array(83.37266324), array(891.3386027), 42.53289367716723, array(0.21894739), array(2045.68848387), array(2.29507448), 946.78955078125, array(-49.), array(50.), array(1998985.), array(2.63385116), array(49.75), array(7.02688737), array(331.), array(30.14774594), array(6.30655226), array(9.), array(-118.), array(449.), array(20.85458912), array(39.48760148), array(0.33854412), array(1476301.17797852), array(0.19037872), array(1519.49806939), array(35.10616497), array(304.04983754), array(0.94518059), array(7.79749791), array(1.60981277), array(0.65750212), array(0.90947194), array(1.68568096), array(0.77214803), array(0.63644224), array(0.60940651), array(0.99564776), array(0.95609875), array(-0.17733792), array(0.76734673), array(0.49731542), array(5.79302534), array(0.05255571), array(4.75133568), array(0.67465358), array(0.11960397), array(11.58605068), array(3.45909522), array(2.35182767), array(5.2039176), array(224.05616225), array(0.1747708), array(2.60876507), array(244.06552262), array(2.49033966), array(35.58424337), array(14.90795632), array(530.39859594), array(0.56356467), array(0.04213724), array(0.19516555), array(6.96204662), array(0.0106255), array(157.83988503), array(0.17942403), array(2.76880114), array(35.5831277), array(2.86876199), array(102.28338278), array(0.11411394), array(0.04395262), array(3.96361192), array(473.20492769), array(0.53524155), array(0.68662246), array(0.73071246), array(0.75780846), array(26.9695494), array(0.03452714), array(43.59793814), array(0.14982109), array(4.2687734), array(34.99312715), array(70.21305842), array(2694.61512027), array(2.23137019), array(0.05491064), array(69.17869416), array(0.23772747), array(0.49476837), array(17.75809773), array(0.03214219), array(5.45427963), array(0.22698908), array(50.80464331), array(1.32854352), array(0.00767821), array(59.45481584), array(0.01979336), array(1.01676512), 1]\n",
      "pancreas_347.dcm\n",
      "[0.39648820360247633, 0.0, 0.0, 162.11471796436217, array(46.40625), array(105.703125), array(147.37717509), array(147.37717509), array(2142.21598307), 64.27657330321205, array(0.17355917), array(4630.33126374), array(2.16146798), 2214.837646484375, array(25.), array(124.), array(22072163.), array(2.67092399), array(56.), array(2.77994829), array(181.), array(31.55178947), array(76.65721907), array(80.), array(-71.), array(252.), array(23.17906905), array(85.78951537), array(-0.32023809), array(16300852.80151367), array(0.17794606), array(1483.51171097), array(44.93159474), array(189.79335651), array(-7.48763274), array(8.33023416), array(1.29112377), array(0.73142737), array(0.8220258), array(1.57918693), array(0.60150638), array(0.65716966), array(0.63519924), array(0.98970329), array(0.93438726), array(-0.21795639), array(0.81719721), array(0.50113059), array(6.57051382), array(0.04953851), array(4.73231036), array(0.7370113), array(0.08679609), array(13.14102765), array(3.54456797), array(2.40533948), array(5.34759217), array(505.01400467), array(0.16839413), array(2.78929455), array(533.66022007), array(2.45564927), array(45.69756586), array(17.41947316), array(797.81093698), array(0.48834342), array(0.03071591), array(0.15555711), array(7.08764921), array(0.00608557), array(338.56148405), array(0.1745221), array(2.58424894), array(45.62364338), array(3.3501673), array(153.0891507), array(0.09777836), array(0.03209683), array(4.13268063), array(952.63716815), array(0.48674028), array(0.64688229), array(0.91495625), array(0.72042037), array(32.77176077), array(0.02407716), array(77.03495146), array(0.14958243), array(3.52367235), array(45.91262136), array(161.54368932), array(7095.36504854), array(4.47210618), array(0.04045202), array(99.85825243), array(0.19389952), array(0.44114924), array(20.22898804), array(0.02133773), array(5.92724981), array(0.17172391), array(127.63285512), array(3.37556535), array(0.00358927), array(29.38089204), array(0.02526547), array(0.16576779), 1]\n",
      "pancreas_348.dcm\n"
     ]
    },
    {
     "name": "stderr",
     "output_type": "stream",
     "text": [
      "GLCM is symmetrical, therefore Sum Average = 2 * Joint Average, only 1 needs to be calculated\n",
      "GLCM is symmetrical, therefore Sum Average = 2 * Joint Average, only 1 needs to be calculated\n"
     ]
    },
    {
     "name": "stdout",
     "output_type": "stream",
     "text": [
      "[0.36340127343590156, 0.0, 0.0, 125.40121550792948, array(30.9375), array(83.359375), array(120.45053466), array(120.45053466), array(1876.46993001), 45.570961405991504, array(0.17932096), array(4102.80447533), array(2.18644829), 1948.968505859375, array(-7.), array(181.), array(24379802.), array(3.36356966), array(80.5), array(2.80593713), array(242.), array(52.96108465), array(68.66388784), array(58.), array(-104.), array(346.), array(36.39103296), array(96.11593432), array(0.45296144), array(18005102.79541016), array(0.115305), array(4523.54333782), array(75.08246237), array(2137.36074435), array(73.06421811), array(27.38868276), array(1.85575709), array(0.87309899), array(0.96674032), array(1.77890656), array(0.90285065), array(0.62803135), array(0.59873884), array(0.99205288), array(0.94262234), array(-0.31270415), array(0.93342468), array(0.48896382), array(8.28849439), array(0.02895329), array(5.6563895), array(0.91687242), array(0.06478807), array(16.57698879), array(4.25303434), array(7.31110996), array(5.98656937), array(446.99621069), array(0.16938091), array(2.82289401), array(304.28988253), array(7.34059272), array(75.81167109), array(15.46456991), array(1212.49981053), array(0.31981838), array(0.02255818), array(0.19490157), array(14.46212512), array(0.0052961), array(203.40024055), array(0.11327777), array(7.20521507), array(75.11776558), array(3.00507925), array(232.2946489), array(0.06471769), array(0.02332626), array(4.66904641), array(960.51171438), array(0.53205627), array(0.68056082), array(0.81931756), array(0.75606289), array(56.61153012), array(0.01812325), array(63.36938436), array(0.10543991), array(7.51040556), array(74.55407654), array(121.14309484), array(10243.83527454), array(2.22737842), array(0.02658611), array(142.60732113), array(0.2372834), array(0.49462533), array(36.01582133), array(0.01537177), array(6.05836395), array(0.22773778), array(101.86208233), array(1.49743932), array(0.00588924), array(54.01418206), array(0.04308016), array(0.481171), 1]\n",
      "pancreas_350.dcm\n"
     ]
    },
    {
     "name": "stderr",
     "output_type": "stream",
     "text": [
      "GLCM is symmetrical, therefore Sum Average = 2 * Joint Average, only 1 needs to be calculated\n"
     ]
    },
    {
     "name": "stdout",
     "output_type": "stream",
     "text": [
      "[0.22393848403484046, 0.0, 0.0, 167.74089201155573, array(37.8125), array(86.796875), array(155.29027523), array(155.29027523), array(2900.4969279), 37.56364106771967, array(0.15845052), array(6207.33814339), array(2.14009471), 2985.858154296875, array(48.), array(155.), array(57320708.), array(2.82822252), array(49.), array(4.67547978), array(288.), array(34.20499247), array(109.61860005), array(117.), array(-93.), array(381.), array(21.18321911), array(119.0704246), array(-0.74050617), array(42332798.26660156), array(0.18695872), array(2161.52853853), array(83.20876969), array(663.50861985), array(-29.0010957), array(11.22074106), array(1.66123014), array(0.74183686), array(0.94312616), array(1.71725699), array(0.75570051), array(0.62629095), array(0.59771351), array(0.99366115), array(0.94676601), array(-0.21103007), array(0.82180308), array(0.50326386), array(8.98988498), array(0.05647466), array(4.93639787), array(0.81925857), array(0.12890123), array(17.97976995), array(3.60090662), array(3.2204928), array(5.31953968), array(699.41454366), array(0.17299395), array(2.69036818), array(755.87410339), array(3.53407963), array(82.85110067), array(15.1498887), array(1340.3010141), array(0.22148524), array(0.01736302), array(0.19230646), array(14.54045027), array(0.00413011), array(455.44942835), array(0.16462441), array(3.98722288), array(80.74843811), array(3.00298419), array(258.37048837), array(0.04763703), array(0.01839254), array(4.21172072), array(1492.68169591), array(0.53679396), array(0.68377442), array(0.83394911), array(0.75910843), array(60.03260192), array(0.01460535), array(107.40449438), array(0.12067921), array(5.8990986), array(74.32359551), array(248.59213483), array(23599.88651685), array(2.75659973), array(0.02265348), array(214.36404494), array(0.24085848), array(0.49479636), array(35.46764743), array(0.012028), array(5.90612122), array(0.22013356), array(227.95604217), array(2.04700159), array(0.00246312), array(72.22600564), array(0.01896563), array(0.30663798), 1]\n",
      "pancreas_351.dcm\n",
      "[0.438918966314369, 0.0, 0.0, 129.4498699675246, array(39.53125), array(91.953125), array(128.80595056), array(128.80595056), array(2390.05279541), 56.81800311567537, array(0.16681366), array(5182.3193881), array(2.16828657), 2473.321533203125, array(20.), array(194.), array(1.56606658e+08), array(3.45025702), array(86.), array(73.33239532), array(2349.), array(70.35297666), array(121.6488504), array(106.), array(-93.), array(2442.), array(36.50875147), array(216.24572826), array(7.68868941), array(1.15657993e+08), array(0.11195357), array(31963.77218515), array(132.79759498), array(2452777.6212623), array(19490.30690779), array(190.78254371), array(12.60621115), array(0.87628033), array(1.20121353), array(1.81129847), array(11.10544991), array(0.64446085), array(0.61975023), array(0.99885475), array(0.98873269), array(-0.37064378), array(0.95716771), array(0.47805149), array(9.39431281), array(0.03049057), array(5.59670017), array(0.95000648), array(0.07021944), array(18.78862561), array(4.36065443), array(50.84718871), array(6.11304184), array(535.65989848), array(0.15994622), array(3.13195428), array(374.93251717), array(51.15887951), array(139.39205733), array(17.45147805), array(1516.06628844), array(0.31489278), array(0.01898657), array(0.17482719), array(62.79259273), array(0.00349932), array(237.89358506), array(0.10894841), array(73.15509124), array(168.3506937), array(3.39320162), array(369.3139129), array(0.06325297), array(0.01946716), array(4.90561421), array(1100.33292673), array(0.49937194), array(0.65198567), array(0.98520437), array(0.73114489), array(144.4334844), array(0.01459917), array(62.85843373), array(0.09466632), array(199.02971903), array(341.98343373), array(127.23042169), array(10806.23795181), array(2.1953513), array(0.02127104), array(153.50903614), array(0.23118831), array(0.48826782), array(276.87418104), array(0.00975112), array(6.53108015), array(0.19826814), array(101.79176722), array(0.24960409), array(0.00476946), array(2592.93440808), array(0.02449483), array(89.62868766), 1]\n",
      "pancreas_354.dcm\n"
     ]
    },
    {
     "name": "stderr",
     "output_type": "stream",
     "text": [
      "GLCM is symmetrical, therefore Sum Average = 2 * Joint Average, only 1 needs to be calculated\n"
     ]
    },
    {
     "name": "stdout",
     "output_type": "stream",
     "text": [
      "[0.3243546955169003, 0.0, 0.0, 125.29810627064248, array(37.8125), array(85.9375), array(99.04087155), array(99.04087155), array(1278.57208252), 40.64102910825846, array(0.19608906), array(2905.23255805), array(2.27224777), 1350.762939453125, array(-30.), array(149.2), array(13033530.), array(3.37211856), array(98.), array(2.30844685), array(233.), array(54.71340749), array(52.88026244), array(49.), array(-86.), array(319.), array(40.75462554), array(84.41588448), array(0.29846948), array(9625592.83447266), array(0.10570868), array(4329.7193972), array(51.21859979), array(1540.24690976), array(37.29041679), array(26.19270027), array(1.68779215), array(0.8789181), array(0.94943195), array(1.72069358), array(0.77172308), array(0.62433643), array(0.59551231), array(0.99166821), array(0.93961331), array(-0.32207104), array(0.9387678), array(0.50501887), array(6.71495214), array(0.02560159), array(5.65515325), array(0.88981267), array(0.05499076), array(13.42990428), array(4.28861857), array(6.97012311), array(5.90902301), array(328.51886277), array(0.17961666), array(2.46987885), array(193.34117004), array(6.97126993), array(50.86823401), array(14.00164024), array(741.29907053), array(0.5320954), array(0.04393273), array(0.20769225), array(9.77389799), array(0.01196397), array(134.33877804), array(0.10485973), array(7.00667718), array(50.12496379), array(2.75582204), array(144.54025728), array(0.11198668), array(0.04625103), array(4.5943184), array(706.26648064), array(0.54834741), array(0.70051941), array(0.69389188), array(0.76693611), array(38.02255774), array(0.03705638), array(48.28378378), array(0.10874726), array(6.91069617), array(46.53828829), array(97.23648649), array(5863.71171171), array(3.04643938), array(0.0568878), array(112.02702703), array(0.25231312), array(0.51048916), array(22.59991885), array(0.03427976), array(5.80440083), array(0.2427556), array(80.26728249), array(1.62423759), array(0.00831856), array(50.75133988), array(0.04978566), array(0.56502731), 1]\n",
      "pancreas_355.dcm\n"
     ]
    },
    {
     "name": "stderr",
     "output_type": "stream",
     "text": [
      "GLCM is symmetrical, therefore Sum Average = 2 * Joint Average, only 1 needs to be calculated\n"
     ]
    },
    {
     "name": "stdout",
     "output_type": "stream",
     "text": [
      "[0.20848578959072261, 0.0, 0.0, 211.3630449997202, array(42.109375), array(93.671875), array(189.34354112), array(189.34354112), array(3859.16442871), 44.06619132706609, array(0.1443861), array(8240.51305609), array(2.13531017), 3967.3583984375, array(63.), array(124.), array(54203805.), array(2.17370848), array(26.), array(6.12832329), array(218.), array(19.83279209), array(96.18000745), array(97.), array(-52.), array(270.), array(11.51426713), array(100.44929317), array(0.15630236), array(40030886.26098633), array(0.28980895), array(839.46666657), array(55.45916231), array(143.49755588), array(2.89598459), array(4.77454128), array(0.55173135), array(0.79215561), array(0.47245133), array(1.15713425), array(0.32217681), array(0.77620571), array(0.77166016), array(0.99622262), array(0.96408596), array(-0.32004479), array(0.85510119), array(0.41016982), array(7.37586837), array(0.1354764), array(3.56894089), array(0.89006763), array(0.23599129), array(14.75173674), array(2.95811255), array(1.33156816), array(5.0612007), array(721.3615041), array(0.13428174), array(4.02049664), array(1556.85368578), array(1.42253076), array(55.69378258), array(32.17051378), array(1826.91641847), array(0.61766691), array(0.02068945), array(0.07746183), array(4.28561591), array(0.00190784), array(631.00053423), array(0.25416594), array(1.74569828), array(54.93063998), array(8.44914427), array(479.50705836), array(0.16380139), array(0.02206528), array(4.44342074), array(809.01306795), array(0.31836026), array(0.46179263), array(3.39596406), array(0.56747191), array(30.94736869), array(0.01329122), array(54.60451977), array(0.15425006), array(3.69248939), array(54.93220339), array(5628.11864407), array(319016.79943503), array(101.81125352), array(0.02861677), array(53.51977401), array(0.1511858), array(0.37785918), array(21.40304325), array(0.01114964), array(6.09450341), array(0.06589724), array(5397.83373232), array(4.36815624), array(0.00182295), array(25.2673404), array(0.00819346), array(0.16559939), 1]\n",
      "pancreas_356.dcm\n"
     ]
    },
    {
     "name": "stderr",
     "output_type": "stream",
     "text": [
      "GLCM is symmetrical, therefore Sum Average = 2 * Joint Average, only 1 needs to be calculated\n"
     ]
    },
    {
     "name": "stdout",
     "output_type": "stream",
     "text": [
      "[0.3971505476917673, 0.0, 0.0, 177.09745148548063, array(67.03125), array(107.421875), array(160.703125), array(160.703125), array(5386.61956787), 70.33434985227481, array(0.13181186), array(11273.89104274), array(2.09294362), 5490.936279296875, array(6.), array(108.), array(45841693.), array(2.73326158), array(50.), array(4.23672803), array(209.), array(33.56451976), array(65.0928043), array(75.), array(-109.), array(318.), array(21.57197185), array(78.52172608), array(-0.97696567), array(33855254.22973633), array(0.19634108), array(1928.58829388), array(69.61012988), array(512.23149772), array(-35.17617482), array(10.81578559), array(0.86145408), array(0.85202034), array(0.63025201), array(1.37558439), array(0.45650569), array(0.71887402), array(0.70761293), array(0.99568171), array(0.95891733), array(-0.3363463), array(0.90949372), array(0.46810379), array(8.19275768), array(0.0782156), array(4.45240698), array(0.86285426), array(0.20293174), array(16.38551535), array(3.58432835), array(2.91930992), array(5.51240665), array(1043.85756557), array(0.14039779), array(3.7636858), array(1459.79596503), array(3.17369489), array(69.19287155), array(25.13207801), array(1866.11687962), array(0.42115158), array(0.02089498), array(0.10943556), array(6.60695598), array(0.00340635), array(671.76669652), array(0.16495649), array(3.71169654), array(65.92690287), array(5.4982191), array(403.27872083), array(0.09704017), array(0.0236835), array(4.63065855), array(1661.03853572), array(0.40379018), array(0.54717552), array(2.06739824), array(0.65357017), array(41.32964355), array(0.01702536), array(104.745), array(0.13093125), array(5.65129844), array(56.64875), array(2876.14125), array(230492.15875), array(36.87483833), array(0.03636678), array(142.9425), array(0.17867812), array(0.4180007), array(22.6616618), array(0.01765747), array(6.28088981), array(0.10759919), array(2789.76746094), array(3.59176456), array(0.00178748), array(38.10672106), array(0.01535312), array(0.16950764), 1]\n",
      "pancreas_357.dcm\n"
     ]
    },
    {
     "name": "stderr",
     "output_type": "stream",
     "text": [
      "GLCM is symmetrical, therefore Sum Average = 2 * Joint Average, only 1 needs to be calculated\n"
     ]
    },
    {
     "name": "stdout",
     "output_type": "stream",
     "text": [
      "[0.27464944160720806, 0.0, 0.0, 210.82824090398128, array(51.5625), array(98.828125), array(193.57314572), array(193.57314572), array(4337.72888184), 57.9038586393084, array(0.1395638), array(9216.22207094), array(2.12466531), 4448.876953125, array(22.), array(101.), array(30544022.), array(2.39575528), array(40.), array(3.40101436), array(194.), array(24.51708791), array(64.00531208), array(66.), array(-63.), array(257.), array(17.06550897), array(71.20666246), array(-0.09917721), array(22557535.77880859), array(0.22582837), array(973.70880312), array(38.22190096), array(109.66689234), array(-2.04314659), array(5.79151894), array(0.57894685), array(0.81815939), array(0.49597583), array(1.17909634), array(0.32766893), array(0.76528558), array(0.76029048), array(0.99529237), array(0.95919425), array(-0.34384995), array(0.8925124), array(0.42848627), array(6.07607847), array(0.09368959), array(3.92908531), array(0.82314882), array(0.18008412), array(12.15215694), array(3.27741134), array(1.59261645), array(5.31930278), array(830.43326693), array(0.13785413), array(3.85887614), array(1360.39010624), array(1.64619907), array(38.59661355), array(30.50531208), array(1164.4565073), array(0.95678705), array(0.03255687), array(0.0806978), array(3.20557971), array(0.00288918), array(609.6561868), array(0.2107817), array(1.89123718), array(38.93822352), array(7.26715164), array(279.08937795), array(0.22847272), array(0.03361863), array(4.54049724), array(973.05187356), array(0.33117842), array(0.47974768), array(2.76624788), array(0.58139327), array(22.84365894), array(0.02012983), array(65.38679245), array(0.15421413), array(3.42283175), array(40.19103774), array(2706.28773585), array(105008.33962264), array(74.62287672), array(0.04052403), array(63.40566038), array(0.14954165), array(0.38490243), array(15.95275544), array(0.01524424), array(6.26225374), array(0.07038513), array(2504.43333927), array(5.20876149), array(0.00223436), array(19.07031817), array(0.01068328), array(0.11922511), 1]\n",
      "pancreas_358.dcm\n"
     ]
    },
    {
     "name": "stderr",
     "output_type": "stream",
     "text": [
      "GLCM is symmetrical, therefore Sum Average = 2 * Joint Average, only 1 needs to be calculated\n",
      "GLCM is symmetrical, therefore Sum Average = 2 * Joint Average, only 1 needs to be calculated\n"
     ]
    },
    {
     "name": "stdout",
     "output_type": "stream",
     "text": [
      "[0.36867906253730626, 0.0, 0.0, 165.29455739601434, array(45.546875), array(144.375), array(155.63943206), array(155.63943206), array(4139.06555176), 60.940642463281534, array(0.14272562), array(8734.74808188), array(2.11031886), 4233.2275390625, array(-10.), array(102.), array(32418416.), array(2.61249687), array(43.), array(4.51437014), array(192.), array(33.94598827), array(59.95184927), array(74.), array(-116.), array(308.), array(20.60825302), array(75.20432275), array(-1.33739431), array(23941823.33984375), array(0.22075167), array(2061.46592994), array(66.57196188), array(641.44408519), array(-56.01519433), array(11.36069767), array(1.16567871), array(0.81317276), array(0.75495231), array(1.53348832), array(0.58324188), array(0.68096963), array(0.66266564), array(0.99328411), array(0.94795201), array(-0.25436913), array(0.84514207), array(0.48358037), array(8.00142764), array(0.08282419), array(4.46201848), array(0.84860144), array(0.20183463), array(16.00285527), array(3.40241339), array(3.1315941), array(5.27766633), array(849.75436148), array(0.14824745), array(3.40204026), array(1265.34856943), array(3.3995187), array(66.13852059), array(20.79030007), array(1483.27494766), array(0.39503573), array(0.02468522), array(0.14377569), array(8.44478917), array(0.00515981), array(626.82847578), array(0.18099773), array(3.91267119), array(63.49173837), array(4.24341164), array(295.59964841), array(0.0884051), array(0.0277229), array(4.33309482), array(1597.98024512), array(0.45620392), array(0.6037596), array(1.41890624), array(0.69668588), array(42.77033647), array(0.0210291), array(115.90574713), array(0.133225), array(5.43572995), array(56.15632184), array(3739.74942529), array(300772.32183908), array(47.04812385), array(0.03992498), array(196.54252874), array(0.22591095), array(0.48048483), array(26.48170713), array(0.02132274), array(5.88446197), array(0.15177948), array(3696.34101731), array(3.911269), array(0.00176168), array(40.33619549), array(0.02341792), array(0.15404308), 1]\n",
      "pancreas_360.dcm\n",
      "[0.3125037656131803, 0.0, 0.0, 143.20162073965398, array(32.65625), array(98.828125), array(123.96465758), array(123.96465758), array(2245.42490641), 44.751045723052364, array(0.17121084), array(4843.41726849), array(2.15701592), 2317.49267578125, array(-1.), array(105.), array(17373968.), array(2.75543246), array(55.75), array(4.90405836), array(356.), array(33.64931811), array(60.73231358), array(68.), array(-74.), array(430.), array(23.26496745), array(74.40858384), array(-0.12830803), array(12831116.50390625), array(0.18029959), array(1848.22343639), array(38.66851086), array(460.63861486), array(-10.59897942), array(10.6555866), array(0.7559966), array(0.867172), array(0.57515393), array(1.28826558), array(0.41792217), array(0.73703253), array(0.72903009), array(0.99770237), array(0.97017976), array(-0.3803319), array(0.93147764), array(0.45896469), array(6.01608585), array(0.07140239), array(4.40160257), array(0.89160089), array(0.16588592), array(12.0321717), array(3.6380581), array(2.8528958), array(5.58217122), array(449.54365838), array(0.14325802), array(3.56695024), array(565.78011472), array(3.02877625), array(38.4764181), array(26.1612492), array(1053.06277884), array(0.99706562), array(0.04676878), array(0.10120497), array(3.83696148), array(0.00648865), array(268.58164504), array(0.16114382), array(3.52588253), array(37.4097237), array(5.65374712), array(226.05684787), array(0.22469853), array(0.0525638), array(4.68390704), array(639.77057286), array(0.37787363), array(0.53083174), array(1.9847107), array(0.62575248), array(23.01573476), array(0.03572111), array(39.41693811), array(0.12839394), array(6.17169413), array(36.54723127), array(1328.1237785), array(60976.62214984), array(32.32191857), array(0.07612716), array(51.63192182), array(0.16818216), array(0.4120889), array(16.81257609), array(0.03288011), array(6.20594814), array(0.09783301), array(1223.64474955), array(1.5865327), array(0.00464241), array(61.60067292), array(0.01055087), array(1.00326491), 1]\n",
      "pancreas_361.dcm\n"
     ]
    },
    {
     "name": "stderr",
     "output_type": "stream",
     "text": [
      "GLCM is symmetrical, therefore Sum Average = 2 * Joint Average, only 1 needs to be calculated\n"
     ]
    },
    {
     "name": "stdout",
     "output_type": "stream",
     "text": [
      "[0.2284462640063579, 0.0, 0.0, 203.1120754194025, array(39.53125), array(143.515625), array(174.20741625), array(174.20741625), array(4116.84824626), 46.4001948041401, array(0.14229797), array(8729.61999416), array(2.12046193), 4219.93408203125, array(54.), array(161.), array(89089453.), array(2.73003959), array(44.), array(4.312507), array(257.), array(32.45006143), array(116.95012251), array(125.), array(-70.), array(327.), array(20.04419262), array(124.8656632), array(-0.93279792), array(65794823.07739258), array(0.19654653), array(1914.10269249), array(70.29165619), array(512.44957742), array(-34.96473341), array(10.78525175), array(1.14985366), array(0.80697966), array(0.76419102), array(1.51961339), array(0.55362183), array(0.67452361), array(0.65580827), array(0.99425498), array(0.95061132), array(-0.26438446), array(0.8640096), array(0.49443762), array(8.2390968), array(0.06536433), array(4.6675942), array(0.85135007), array(0.15512877), array(16.4781936), array(3.56580511), array(2.98377635), array(5.42076686), array(907.80749037), array(0.15887425), array(3.04494325), array(1123.06685334), array(3.14987254), array(70.29576479), array(19.53587679), array(1418.20966048), array(0.33805035), array(0.02028539), array(0.14132169), array(9.50354077), array(0.00366273), array(613.07944975), array(0.17378128), array(3.53717036), array(69.20225417), array(3.89741522), array(279.1400441), array(0.07223649), array(0.0217725), array(4.36529227), array(1640.78310131), array(0.46059895), array(0.61738712), array(1.20943449), array(0.7000444), array(47.76211892), array(0.01620447), array(113.37339557), array(0.13229101), array(5.08330735), array(66.29521587), array(969.71061844), array(77008.10035006), array(12.81064452), array(0.02812649), array(171.09568261), array(0.1996449), array(0.44956425), array(29.63874333), array(0.01362056), array(6.1589232), array(0.1499825), array(925.25580129), array(3.27544299), array(0.00195225), array(45.36782304), array(0.01822678), array(0.18501911), 1]\n",
      "pancreas_362.dcm\n"
     ]
    },
    {
     "name": "stderr",
     "output_type": "stream",
     "text": [
      "GLCM is symmetrical, therefore Sum Average = 2 * Joint Average, only 1 needs to be calculated\n"
     ]
    },
    {
     "name": "stdout",
     "output_type": "stream",
     "text": [
      "[0.31714281325913807, 0.0, 0.0, 185.6183662918078, array(45.546875), array(112.578125), array(169.49524387), array(169.49524387), array(4329.42047119), 58.86753087834909, array(0.14064507), array(9133.68711054), array(2.10967892), 4428.1982421875, array(-41.), array(69.), array(14634843.), array(2.65939784), array(55.), array(3.15599548), array(120.), array(34.2817931), array(24.86074049), array(37.), array(-114.), array(234.), array(23.90365035), array(49.40412613), array(-0.90326046), array(10808203.14331055), array(0.1930403), array(1822.71126056), array(45.60642351), array(364.27648412), array(-32.73392445), array(10.49888618), array(0.93109523), array(0.83671773), array(0.67224287), array(1.41326461), array(0.47169864), array(0.7028179), array(0.68941063), array(0.99099194), array(0.9407843), array(-0.30159946), array(0.88643605), array(0.48297123), array(6.57375485), array(0.07169988), array(4.45281423), array(0.8555161), array(0.16964498), array(13.14750969), array(3.51065259), array(2.85749535), array(5.38075362), array(884.79052702), array(0.14756346), array(3.50273264), array(1157.46964643), array(3.00806862), array(45.39042695), array(22.81521014), array(1139.35940627), array(0.67209773), array(0.03805304), array(0.11995014), array(4.9319945), array(0.00697764), array(575.19939058), array(0.16658246), array(3.30206458), array(43.06136176), array(4.75503953), array(233.62876902), array(0.14941825), array(0.0430024), array(4.43423611), array(1483.28530586), array(0.42653539), array(0.57567545), array(1.68514609), array(0.6729264), array(27.945955), array(0.03158361), array(102.29205922), array(0.13767437), array(4.27593927), array(39.12247645), array(1914.53028264), array(116650.7577389), array(33.63206062), array(0.06352322), array(130.60699865), array(0.17578331), array(0.41619599), array(16.61800109), array(0.03371978), array(6.14576478), array(0.12391594), array(1849.40559987), array(6.0719646), array(0.0021286), array(19.14118646), array(0.03046797), array(0.08985578), 1]\n",
      "pancreas_364.dcm\n"
     ]
    },
    {
     "name": "stderr",
     "output_type": "stream",
     "text": [
      "GLCM is symmetrical, therefore Sum Average = 2 * Joint Average, only 1 needs to be calculated\n",
      "GLCM is symmetrical, therefore Sum Average = 2 * Joint Average, only 1 needs to be calculated\n"
     ]
    },
    {
     "name": "stdout",
     "output_type": "stream",
     "text": [
      "[0.46130565308783245, 0.0, 0.0, 156.73539671142112, array(69.609375), array(146.953125), array(149.36570398), array(149.36570398), array(3495.99456787), 72.30292454194262, array(0.14751138), array(7551.60205929), array(2.1600726), 3615.8203125, array(-44.), array(131.), array(34436031.), array(3.3947875), array(103.25), array(2.31062765), array(245.), array(55.7094179), array(50.90053105), array(60.), array(-127.), array(372.), array(41.96318653), array(83.86598276), array(-0.1722501), array(25431883.24584961), array(0.10729797), array(4442.63900299), array(79.83393136), array(1540.50823659), array(-29.30700109), array(26.09203367), array(2.25574931), array(0.84062866), array(1.12414314), array(1.88001979), array(0.9570015), array(0.58496323), array(0.54541123), array(0.99144635), array(0.93737136), array(-0.2664946), array(0.90603803), array(0.48698821), array(8.59504607), array(0.02355592), array(5.85839146), array(0.85501666), array(0.0559152), array(17.19009214), array(4.28492074), array(7.08694575), array(5.82817113), array(962.34763072), array(0.19655793), array(2.0965968), array(525.33088235), array(7.19381964), array(80.45077614), array(12.00571895), array(960.1689134), array(0.25418966), array(0.02118799), array(0.2306409), array(18.1626118), array(0.00556205), array(376.17586699), array(0.10506936), array(7.19431647), array(80.36076528), array(2.46083901), array(198.13585012), array(0.0518964), array(0.02138586), array(4.53413741), array(2113.13961785), array(0.58513933), array(0.73151552), array(0.55860184), array(0.7904798), array(63.45129073), array(0.01708887), array(134.16507704), array(0.09843366), array(7.73079968), array(78.28833456), array(49.08584006), array(4038.59501101), array(1.07664747), array(0.02403558), array(341.6133529), array(0.25063342), array(0.50817461), array(39.29369476), array(0.01362917), array(6.11301246), array(0.27839052), array(36.1828279), array(2.60965427), array(0.00266438), array(80.28927668), array(0.04602832), array(0.24216022), 1]\n",
      "pancreas_365.dcm\n",
      "[0.3338769009538897, 0.0, 0.0, 119.5917692896987, array(51.5625), array(96.25), array(146.20997215), array(146.20997215), array(2706.38783773), 39.92892931003717, array(0.16113626), array(5828.42040349), array(2.15357914), 2804.180908203125, array(-1.), array(86.), array(14307709.), array(2.56390576), array(40.), array(5.59298349), array(215.), array(28.43660531), array(47.23123519), array(54.), array(-132.), array(347.), array(17.46154085), array(61.38535203), array(-1.08995377), array(10566606.37817383), array(0.21873963), array(1537.37186608), array(73.31282282), array(298.26726733), array(-22.48149396), array(6.92655566), array(1.60679038), array(0.62121063), array(0.93013785), array(1.70999339), array(0.73818685), array(0.62850761), array(0.60012918), array(0.99304214), array(0.94424418), array(-0.1348239), array(0.6918902), array(0.502224), array(8.48424989), array(0.06591918), array(4.60786717), array(0.72210103), array(0.14867522), array(16.96849979), array(3.26013323), array(2.13333651), array(5.10349898), array(634.86357651), array(0.16720136), array(2.73128676), array(830.55438504), array(2.52840546), array(73.25309455), array(15.22491441), array(1149.08559389), array(0.2311814), array(0.01796413), array(0.20750983), array(14.63910383), array(0.00486014), array(503.80653765), array(0.19424394), array(2.96420369), array(72.40536646), array(2.93235837), array(218.50387052), array(0.04821263), array(0.01911046), array(3.97088275), array(1384.92542381), array(0.53326461), array(0.68317092), array(0.78529121), array(0.75719828), array(54.33810164), array(0.01520639), array(115.91151515), array(0.14049881), array(4.91030156), array(68.92969697), array(422.13454545), array(33946.01939394), array(5.35284174), array(0.02485365), array(264.41818182), array(0.32050689), array(0.58727294), array(40.86042178), array(0.01576627), array(5.46204178), array(0.2172768), array(400.95223655), array(2.60385642), array(0.00208905), array(70.82585792), array(0.01675772), array(0.24254116), 1]\n",
      "pancreas_366.dcm\n"
     ]
    },
    {
     "name": "stderr",
     "output_type": "stream",
     "text": [
      "GLCM is symmetrical, therefore Sum Average = 2 * Joint Average, only 1 needs to be calculated\n",
      "GLCM is symmetrical, therefore Sum Average = 2 * Joint Average, only 1 needs to be calculated\n"
     ]
    },
    {
     "name": "stdout",
     "output_type": "stream",
     "text": [
      "[0.30634050167405175, 0.0, 0.0, 116.17698329104768, array(45.546875), array(67.03125), array(128.00072574), array(128.00072574), array(2787.07173665), 35.58971534435747, array(0.16336122), array(5862.73942643), array(2.10354809), 2849.23095703125, array(-46.), array(113.), array(25369194.), array(3.07061395), array(61.), array(3.6440112), array(196.), array(45.44725387), array(55.0005184), array(71.), array(-172.), array(368.), array(28.68710818), array(81.09091916), array(-1.03875555), array(18735793.90869141), array(0.15311374), array(3550.68014488), array(99.89114315), array(1559.36978897), array(-103.39819357), array(19.88901367), array(2.02939718), array(0.81443811), array(1.06169535), array(1.83450356), array(0.88892452), array(0.59743253), array(0.5615493), array(0.99125517), array(0.93701398), array(-0.22752343), array(0.86111923), array(0.49617764), array(9.76862226), array(0.03980369), array(5.37666489), array(0.86024761), array(0.10125141), array(19.53724452), array(3.87903417), array(5.47960271), array(5.4972392), array(727.61638154), array(0.18859937), array(2.23715272), array(590.71280456), array(5.73413952), array(100.31959565), array(13.03939865), array(1379.85562468), array(0.1783146), array(0.015556), array(0.2133826), array(20.56181481), array(0.00389609), array(386.52643553), array(0.14029257), array(5.99629577), array(98.69384635), array(2.57139657), array(264.1478111), array(0.03777782), array(0.01617042), array(4.31837969), array(1549.67064167), array(0.56063081), array(0.71416537), array(0.599356), array(0.77557829), array(75.52423858), array(0.01294684), array(109.58992806), array(0.11263096), array(7.01775904), array(94.37204522), array(153.57245632), array(17933.38232271), array(1.50626452), array(0.01875557), array(237.87358684), array(0.2444744), array(0.49986057), array(47.61929289), array(0.01004964), array(5.93438966), array(0.25220321), array(137.85078306), array(2.01494697), array(0.00268066), array(72.29149076), array(0.03949511), array(0.29437378), 1]\n",
      "pancreas_367.dcm\n",
      "[0.19735453769420228, 0.0, 0.0, 158.06993236880797, array(36.09375), array(65.3125), array(138.20716589), array(138.20716589), array(2600.59407552), 31.195818425999914, array(0.16511606), array(5538.72559619), array(2.12979244), 2671.246337890625, array(-12.4), array(132.), array(34969989.), array(3.0107357), array(56.), array(4.12714198), array(233.), array(44.13965814), array(78.65551562), array(95.), array(-120.), array(353.), array(26.43260851), array(98.32715953), array(-1.13627995), array(25826224.78637695), array(0.17221131), array(3481.5401638), array(80.841959), array(1739.66347847), array(-108.58186776), array(19.57035029), array(1.68267167), array(0.84102072), array(0.92472757), array(1.72554892), array(0.81116866), array(0.63593383), array(0.60899902), array(0.99275493), array(0.94482617), array(-0.26439241), array(0.88292609), array(0.49537886), array(8.73898323), array(0.05550207), array(5.12732046), array(0.86557484), array(0.14692134), array(17.47796646), array(3.82730332), array(5.31325549), array(5.54433416), array(589.12662427), array(0.16287714), array(2.92310916), array(622.88830523), array(5.66662725), array(80.8288637), array(16.36079624), array(1429.54879735), array(0.36329685), array(0.02856048), array(0.18757287), array(13.7225336), array(0.00711772), array(349.93044478), array(0.14502267), array(6.20507309), array(78.261034), array(3.15752371), array(267.15358091), array(0.07829705), array(0.03107635), array(4.46625903), array(1249.92112979), array(0.51540811), array(0.66678186), array(0.88312899), array(0.74373177), array(56.75651743), array(0.02456835), array(81.9947644), array(0.10732299), array(7.76164305), array(70.59424084), array(349.31282723), array(33878.82984293), array(4.10266205), array(0.04090397), array(199.69109948), array(0.26137578), array(0.51768939), array(36.16362668), array(0.02222817), array(5.9158097), array(0.21122477), array(326.89929518), array(1.86107811), array(0.00311662), array(58.89370401), array(0.03393174), array(0.32691335), 1]\n",
      "pancreas_369.dcm\n"
     ]
    },
    {
     "name": "stderr",
     "output_type": "stream",
     "text": [
      "GLCM is symmetrical, therefore Sum Average = 2 * Joint Average, only 1 needs to be calculated\n",
      "GLCM is symmetrical, therefore Sum Average = 2 * Joint Average, only 1 needs to be calculated\n"
     ]
    },
    {
     "name": "stdout",
     "output_type": "stream",
     "text": [
      "[0.27449475993925015, 0.0, 0.0, 155.9497222677582, array(37.8125), array(93.671875), array(134.72741759), array(134.72741759), array(2823.07484945), 42.80738157648101, array(0.15989038), array(6041.48049228), array(2.14003553), 2905.35888671875, array(-24.), array(87.), array(13350552.), array(2.78724707), array(52.), array(3.56688028), array(158.), array(34.00927169), array(38.10574479), array(45.), array(-117.), array(275.), array(22.40925893), array(58.25489631), array(-0.77351108), array(9859721.63085938), array(0.17763355), array(1941.58515764), array(52.54344445), array(415.82821433), array(-27.94585776), array(10.47432309), array(1.50102874), array(0.74859122), array(0.90624056), array(1.65792459), array(0.66917543), array(0.63170039), array(0.60505243), array(0.98992468), array(0.93341936), array(-0.21017737), array(0.82023076), array(0.51181953), array(7.09223064), array(0.04992043), array(4.92103442), array(0.76449895), array(0.11254953), array(14.18446127), array(3.6328426), array(2.99383796), array(5.30538947), array(704.98068124), array(0.179202), array(2.45250885), array(698.81037112), array(3.166365), array(52.78037621), array(15.11337062), array(850.06405694), array(0.39465957), array(0.03161472), array(0.17889806), array(8.91474642), array(0.00755189), array(435.13076014), array(0.16260518), array(3.4632947), array(51.56652426), array(2.95712695), array(161.88171281), array(0.0834457), array(0.03375246), array(4.16642649), array(1415.64361945), array(0.52692246), array(0.68022369), array(0.77986908), array(0.75200848), array(38.14519882), array(0.02649039), array(101.65822785), array(0.1286813), array(4.73696683), array(47.51518987), array(210.39240506), array(12981.65063291), array(3.76520382), array(0.0456225), array(171.60759494), array(0.2172248), array(0.46939013), array(22.9260139), array(0.02436659), array(5.92949805), array(0.20081342), array(185.59452652), array(3.54975334), array(0.00270848), array(36.47630576), array(0.02902686), array(0.15506454), 1]\n",
      "pancreas_370.dcm\n",
      "[0.44726436665812963, 0.0, 0.0, 102.51931834857136, array(80.78125), array(67.890625), array(151.12543699), array(151.12543699), array(1569.18182373), 45.85323799139694, array(0.1888469), array(3457.98511834), array(2.2036867), 1645.4345703125, array(39.), array(119.), array(14857721.), array(2.38146443), array(44.25), array(2.84832461), array(189.), array(25.3456248), array(75.46005386), array(71.), array(-45.), array(234.), array(18.31488929), array(81.66171683), array(0.24256867), array(10972804.20532227), array(0.22366994), array(974.41626786), array(32.25120868), array(75.60934345), array(4.44591898), array(5.48683927), array(0.96735526), array(0.70007752), array(0.70639871), array(1.42309713), array(0.4630048), array(0.68716166), array(0.67275343), array(0.9906144), array(0.93771312), array(-0.2175112), array(0.79606085), array(0.50663992), array(5.57863371), array(0.07476649), array(4.20176859), array(0.73881906), array(0.1697059), array(11.15726741), array(3.19620396), array(1.61354863), array(5.04307018), array(348.1956912), array(0.15628173), array(3.02701056), array(498.33662478), array(1.66240262), array(32.32854578), array(19.50448833), array(626.66606822), array(0.71584001), array(0.03988139), array(0.14590961), array(4.76383078), array(0.007436), array(283.75142334), array(0.20621857), array(1.87000722), array(32.40278697), array(3.78598266), array(121.06447352), array(0.1447964), array(0.04171247), array(3.97278351), array(635.75575409), array(0.45907574), array(0.61759425), array(1.1320855), array(0.69827291), array(22.60203166), array(0.03050432), array(60.41107872), array(0.17612559), array(2.94766636), array(32.70262391), array(841.88338192), array(24300.9212828), array(31.47226522), array(0.05255645), array(79.90379009), array(0.23295566), array(0.48171236), array(15.96040818), array(0.02957388), array(5.33377623), array(0.15394973), array(799.69021411), array(3.57522838), array(0.00432353), array(23.02926923), array(0.01972926), array(0.16663606), 1]\n",
      "pancreas_372.dcm\n"
     ]
    },
    {
     "name": "stderr",
     "output_type": "stream",
     "text": [
      "GLCM is symmetrical, therefore Sum Average = 2 * Joint Average, only 1 needs to be calculated\n"
     ]
    },
    {
     "name": "stdout",
     "output_type": "stream",
     "text": [
      "[0.23014549566461806, 0.0, 0.0, 167.7422372569328, array(37.8125), array(84.21875), array(150.31203304), array(150.31203304), array(2093.7810262), 38.60512033738876, array(0.1731608), array(4570.76299866), array(2.18301864), 2175.69580078125, array(-52.), array(61.), array(6450427.), array(2.8224798), array(63.), array(11.79857503), array(118.), array(35.95053806), array(8.9059742), array(15.), array(-452.), array(570.), array(25.80076504), array(46.79267369), array(-1.37748136), array(4763804.11987305), array(0.16232211), array(2110.23793444), array(400.00146748), array(1273.0439144), array(-46.87777112), array(11.00119384), array(1.98745788), array(0.69321495), array(1.01080007), array(1.78450387), array(0.94656738), array(0.61238586), array(0.57968711), array(0.99664444), array(0.96096432), array(-0.18011259), array(0.78366444), array(0.49432845), array(19.94360857), array(0.04060374), array(5.07038508), array(0.78829988), array(0.08911504), array(39.88721714), array(3.6456414), array(3.24716293), array(5.34007933), array(544.45281738), array(0.18481087), array(2.35006031), array(478.20095044), array(3.4849048), array(398.53088934), array(13.74813306), array(5595.53360489), array(0.03515288), array(0.00305801), array(0.20236472), array(78.76217807), array(0.00100838), array(320.73896614), array(0.15493305), array(3.84060614), array(395.79062259), array(2.68077607), array(1079.38973691), array(0.00752243), array(0.00328018), array(4.1000749), array(1137.52546854), array(0.54635866), array(0.7029871), array(0.63476831), array(0.76513983), array(301.14517856), array(0.00268013), array(94.69401947), array(0.13170239), array(5.80404325), array(387.22114047), array(57.72183588), array(23870.945758), array(0.14437145), array(0.00460614), array(160.12934631), array(0.22271119), array(0.47546528), array(182.66774393), array(0.00320978), array(5.86569256), array(0.24405974), array(40.93349788), array(0.61743233), array(0.00349784), array(147.93526119), array(0.01744434), array(1.48826779), 1]\n",
      "pancreas_374.dcm\n"
     ]
    },
    {
     "name": "stderr",
     "output_type": "stream",
     "text": [
      "GLCM is symmetrical, therefore Sum Average = 2 * Joint Average, only 1 needs to be calculated\n",
      "GLCM is symmetrical, therefore Sum Average = 2 * Joint Average, only 1 needs to be calculated\n"
     ]
    },
    {
     "name": "stdout",
     "output_type": "stream",
     "text": [
      "[0.23506427675767155, 0.0, 0.0, 190.84819139158446, array(53.28125), array(70.46875), array(166.29516906), array(166.29516906), array(3692.19614665), 44.86159207997248, array(0.14714652), array(7850.9817458), array(2.12637179), 3792.327880859375, array(38.), array(135.), array(54922674.), array(2.61310245), array(39.), array(6.12362091), array(340.), array(30.83002288), array(93.76085686), array(102.), array(-89.), array(429.), array(17.85181345), array(103.42025702), array(-1.29315693), array(40561789.27001953), array(0.21807903), array(1904.65128184), array(71.62756717), array(705.26609725), array(-51.3029456), array(10.16252101), array(1.43377041), array(0.75226969), array(0.8425568), array(1.63221536), array(0.70517095), array(0.65728951), array(0.6342207), array(0.99567077), array(0.9571327), array(-0.20518999), array(0.79294081), array(0.48872326), array(8.33338414), array(0.07324202), array(4.581137), array(0.83020199), array(0.16924803), array(16.66676828), array(3.37842954), array(2.89907286), array(5.23082407), array(796.29970789), array(0.15507297), array(3.15655589), array(1119.83583252), array(3.1252875), array(71.47809153), array(18.34605648), array(1380.29600779), array(0.33194492), array(0.02292571), array(0.16770402), array(11.08381748), array(0.00577541), array(611.65231373), array(0.18652987), array(3.63408269), array(69.73429734), array(3.61775642), array(267.57878759), array(0.07208674), array(0.02535473), array(4.19840571), array(1608.08697204), array(0.48587983), array(0.63782863), array(1.0978762), array(0.72036272), array(49.21302669), array(0.01981978), array(123.96698616), array(0.13202022), array(5.60977679), array(64.24068158), array(488.0713525), array(39215.80617678), array(6.48781454), array(0.03678804), array(240.63791267), array(0.25627041), array(0.51140016), array(32.52058023), array(0.02213398), array(5.77013176), array(0.18286271), array(458.16594592), array(2.65427127), array(0.00175534), array(83.85479754), array(0.01399235), array(0.32314343), 1]\n",
      "pancreas_375.dcm\n"
     ]
    },
    {
     "name": "stderr",
     "output_type": "stream",
     "text": [
      "GLCM is symmetrical, therefore Sum Average = 2 * Joint Average, only 1 needs to be calculated\n"
     ]
    },
    {
     "name": "stdout",
     "output_type": "stream",
     "text": [
      "[0.30682498454778556, 0.0, 0.0, 169.52742060119635, array(33.515625), array(126.328125), array(156.40625), array(156.40625), array(3328.84165446), 52.015248206388016, array(0.15322957), array(7036.18041207), array(2.11370235), 3408.294677734375, array(-11.6), array(106.), array(27104992.), array(2.77359969), array(48.), array(4.39309927), array(189.), array(34.91669611), array(60.52004334), array(71.), array(-131.), array(320.), array(21.28552018), array(76.63705176), array(-1.12916347), array(20017724.8046875), array(0.19275348), array(2210.56205764), array(83.5392696), array(713.26668047), array(-53.72556528), array(12.16882806), array(1.65306921), array(0.76046761), array(0.92332796), array(1.71223521), array(0.77933022), array(0.63495414), array(0.60735804), array(0.99185153), array(0.94130882), array(-0.21164826), array(0.81603033), array(0.49349988), array(8.9950059), array(0.0591424), array(4.88079215), array(0.80660347), array(0.14473936), array(17.9900118), array(3.56360541), array(3.45547432), array(5.34379227), array(758.43618635), array(0.16434154), array(2.83965983), array(889.55731311), array(3.61613534), array(83.60910076), array(16.3148429), array(1432.91787649), array(0.23431498), array(0.01666189), array(0.18482577), array(14.15374683), array(0.00392209), array(522.62995617), array(0.16988774), array(3.96343936), array(81.79363616), array(3.19760552), array(275.66862687), array(0.04884709), array(0.01767273), array(4.21653901), array(1594.94326538), array(0.51364771), array(0.66614301), array(0.89231306), array(0.74031959), array(59.44170286), array(0.01370383), array(128.02702703), array(0.13308423), array(5.29770035), array(75.23388773), array(274.02182952), array(26574.25779626), array(2.98819741), array(0.02217167), array(245.30561331), array(0.25499544), array(0.51132138), array(37.11867854), array(0.01245495), array(5.76242605), array(0.2084507), array(251.00776816), array(2.74809148), array(0.00214672), array(55.18503278), array(0.02492511), array(0.21232701), 1]\n",
      "pancreas_376.dcm\n",
      "[0.2763651094654155, 0.0, 0.0, 141.7627456068819, array(47.265625), array(61.015625), array(111.54674258), array(111.54674258), array(1688.08441162), 39.17827670776377, array(0.1869236), array(3667.8881948), array(2.17281089), 1756.21337890625, array(-45.), array(97.), array(10662943.), array(2.96336977), array(82.), array(2.4050906), array(163.), array(45.32096432), array(40.04920101), array(56.5), array(-125.), array(288.), array(34.34250188), array(66.96264791), array(-0.64187395), array(7874854.14428711), array(0.15297219), array(2880.05771383), array(56.0954802), array(687.38685693), array(-50.52090988), array(16.59900107), array(1.34610115), array(0.84974286), array(0.82730771), array(1.61463343), array(0.65192179), array(0.65931817), array(0.63694091), array(0.9909679), array(0.9390804), array(-0.29137109), array(0.90129695), array(0.49183377), array(7.23059386), array(0.04920951), array(4.99089147), array(0.88106498), array(0.12037641), array(14.46118772), array(3.78284819), array(4.48627555), array(5.60770892), array(377.74768713), array(0.158851), array(3.07904035), array(363.76787216), array(4.70843398), array(55.47855341), array(17.96215307), array(1067.90243902), array(0.4939035), array(0.03372723), array(0.16382755), array(8.36736847), array(0.00798199), array(208.44958817), array(0.13641259), array(5.01829141), array(53.83708948), array(3.47066184), array(201.76482608), array(0.10288716), array(0.03665909), array(4.46512383), array(751.26464365), array(0.48868616), array(0.64276703), array(1.0235254), array(0.72260034), array(38.02096313), array(0.02825802), array(48.27231121), array(0.11046295), array(6.38672245), array(48.94965675), array(365.36842105), array(26970.70480549), array(5.85248477), array(0.05193792), array(99.63157895), array(0.22798988), array(0.47346938), array(23.13004239), array(0.02959292), array(5.89180511), array(0.18376787), array(335.75689248), array(1.87556839), array(0.00539111), array(34.24445249), array(0.0416702), array(0.29401327), 1]\n"
     ]
    },
    {
     "name": "stderr",
     "output_type": "stream",
     "text": [
      "GLCM is symmetrical, therefore Sum Average = 2 * Joint Average, only 1 needs to be calculated\n"
     ]
    },
    {
     "name": "stdout",
     "output_type": "stream",
     "text": [
      "pancreas_377.dcm\n",
      "[0.3359497079039662, 0.0, 0.0, 91.87621100791127, array(26.640625), array(110.859375), array(110.97922301), array(110.97922301), array(1544.68739827), 30.865786251430954, array(0.19543887), array(3306.48770321), array(2.14055459), 1593.73779296875, array(70.), array(112.), array(18465615.), array(1.65578805), array(21.), array(7.46132628), array(145.), array(13.64286604), array(90.63438369), array(92.), array(-38.), array(183.), array(9.03339316), array(92.50307462), array(-1.14609849), array(13637325.53100586), array(0.38896586), array(342.2273071), array(38.14613382), array(19.85026662), array(-2.27208995), array(1.65377702), array(0.69966188), array(0.40557178), array(0.57891725), array(1.26016925), array(0.36145439), array(0.72999228), array(0.72261584), array(0.98941881), array(0.93700115), array(-0.08497262), array(0.47991198), array(0.47962366), array(6.15691495), array(0.17182861), array(3.08350855), array(0.64391592), array(0.31800845), array(12.31382989), array(2.30893358), array(0.58835972), array(4.28257312), array(310.45134384), array(0.14386068), array(3.54472485), array(839.38832252), array(0.64425922), array(38.41149212), array(25.0695088), array(962.23447637), array(0.67929899), array(0.02920398), array(0.11595543), array(4.35645006), array(0.00455233), array(378.92523265), array(0.32207646), array(0.87412123), array(38.34323737), array(5.38097056), array(205.59462372), array(0.14966831), array(0.0308773), array(3.58729251), array(471.50830809), array(0.39839647), array(0.54506487), array(1.97006726), array(0.64905726), array(24.75064374), array(0.02121553), array(69.72268908), array(0.29295248), array(1.9310077), array(36.73109244), array(4319.25210084), array(156891.43697479), array(119.27357382), array(0.04213504), array(58.42857143), array(0.2454982), array(0.50236312), array(18.39757777), array(0.02500736), array(4.64541473), array(0.1102873), array(4237.03749735), array(4.56437303), array(0.00315953), array(16.10345235), array(0.01084062), array(0.13536728), 1]\n",
      "pancreas_378.dcm\n"
     ]
    },
    {
     "name": "stderr",
     "output_type": "stream",
     "text": [
      "GLCM is symmetrical, therefore Sum Average = 2 * Joint Average, only 1 needs to be calculated\n",
      "GLCM is symmetrical, therefore Sum Average = 2 * Joint Average, only 1 needs to be calculated\n"
     ]
    },
    {
     "name": "stdout",
     "output_type": "stream",
     "text": [
      "[0.22586340194164764, 0.0, 0.0, 171.11728106559016, array(47.265625), array(86.796875), array(149.06626699), array(149.06626699), array(3060.38767497), 38.64913123247928, array(0.15699349), array(6493.12038644), array(2.12166597), 3139.471435546875, array(42.), array(128.), array(38615886.), array(2.52874327), array(41.), array(5.41210377), array(212.), array(26.98735372), array(88.19948247), array(93.), array(-109.), array(321.), array(17.52792513), array(95.30977611), array(-0.9289797), array(28518812.29248047), array(0.21701969), array(1304.80471392), array(83.80389067), array(268.74774718), array(-17.83910113), array(6.86572812), array(1.30112612), array(0.68110939), array(0.8286421), array(1.58696556), array(0.60393462), array(0.65467032), array(0.63221243), array(0.99350753), array(0.9466639), array(-0.17951127), array(0.75808709), array(0.50235208), array(9.07814316), array(0.06676115), array(4.52957269), array(0.76177326), array(0.13727969), array(18.15628633), array(3.33170786), array(2.04171356), array(5.15822356), array(686.97835803), array(0.16160394), array(2.87463699), array(922.55069395), array(2.18104586), array(84.07268878), array(17.56457304), array(1497.47706422), array(0.24086459), array(0.01483374), array(0.16837468), array(14.08787431), array(0.00261152), array(535.23323478), array(0.19490192), array(2.52043665), array(83.56634645), array(3.38296059), array(286.89847963), array(0.04749258), array(0.01525243), array(4.05831218), array(1346.75618542), array(0.48792882), array(0.64590685), array(0.96057777), array(0.72231477), array(60.08322203), array(0.01110926), array(114.10737387), array(0.14761627), array(3.98492458), array(82.44372574), array(375.70892626), array(32997.59508409), array(4.41514351), array(0.01726223), array(195.97800776), array(0.25352912), array(0.51276257), array(43.36952172), array(0.00811081), array(5.6148302), array(0.18183957), array(345.46604098), array(2.6697216), array(0.00209843), array(55.57759917), array(0.0143631), array(0.22896371), 1]\n",
      "pancreas_379.dcm\n",
      "[0.3750979301057241, 0.0, 0.0, 91.8456923608895, array(43.828125), array(52.421875), array(107.50777815), array(107.50777815), array(2178.40372721), 34.45112909369677, array(0.17661581), array(4601.29561326), array(2.11223271), 2232.562255859375, array(-47.), array(92.), array(12194388.), array(2.96854462), array(58.5), array(3.39525427), array(170.), array(40.12546461), array(36.18458485), array(47.), array(-129.), array(299.), array(26.20199539), array(63.51275199), array(-0.86961234), array(9005865.16113281), array(0.15813059), array(2724.54548517), array(68.09007473), array(826.33848065), array(-57.16560208), array(14.80910875), array(1.80978003), array(0.78186259), array(1.00041218), array(1.76738177), array(0.79378937), array(0.61110887), array(0.57818806), array(0.98965831), array(0.93220814), array(-0.2170786), array(0.84142235), array(0.49712205), array(8.05232942), array(0.04095399), array(5.21598929), array(0.83581853), array(0.08975288), array(16.10465884), array(3.7873823), array(4.1547222), array(5.49604908), array(543.58617268), array(0.1798168), array(2.48792776), array(478.02877936), array(4.45500846), array(67.91101555), array(14.11280185), array(995.07343698), array(0.30860325), array(0.02523842), array(0.2024964), array(13.14079361), array(0.00669692), array(310.05018974), array(0.14675446), array(4.74062702), array(67.04015656), array(2.75754086), array(191.40351247), array(0.06447511), array(0.02655735), array(4.27255245), array(1161.88622952), array(0.54816418), array(0.69880913), array(0.69366815), array(0.76764708), array(51.02477625), array(0.02120583), array(81.84636872), array(0.11431057), array(6.14110827), array(64.50558659), array(91.6075419), array(6715.02374302), array(1.79856035), array(0.03346651), array(173.66759777), array(0.24255251), array(0.49513533), array(31.2328054), array(0.01966907), array(5.88480878), array(0.23685081), array(73.78169182), array(2.1950535), array(0.00364656), array(46.64695823), array(0.03773052), array(0.25242356), 1]\n",
      "pancreas_380.dcm\n"
     ]
    },
    {
     "name": "stderr",
     "output_type": "stream",
     "text": [
      "GLCM is symmetrical, therefore Sum Average = 2 * Joint Average, only 1 needs to be calculated\n",
      "GLCM is symmetrical, therefore Sum Average = 2 * Joint Average, only 1 needs to be calculated\n"
     ]
    },
    {
     "name": "stdout",
     "output_type": "stream",
     "text": [
      "[0.3816419802248961, 0.0, 0.0, 84.97399616215607, array(32.65625), array(89.375), array(96.40333768), array(96.40333768), array(1073.0158488), 32.42964416294796, array(0.21316882), array(2377.74089566), array(2.21594201), 1129.205322265625, array(92.), array(164.), array(27748292.), array(2.22224061), array(28.), array(6.67229813), array(209.), array(22.14686799), array(130.9352518), array(136.), array(-26.), array(235.), array(12.76479078), array(134.71451295), array(-1.46692639), array(20492818.18847656), array(0.28743315), array(1003.95983645), array(62.09247105), array(116.54748645), array(-12.21887908), array(4.609748), array(0.92938604), array(0.66237807), array(0.6513836), array(1.4265812), array(0.49918864), array(0.71505473), array(0.70169754), array(0.99254838), array(0.94743427), array(-0.19140538), array(0.7364229), array(0.45801748), array(7.82125943), array(0.12466286), array(3.8306535), array(0.71966239), array(0.28516392), array(15.64251887), array(2.92346925), array(1.38478351), array(4.94482321), array(198.29888816), array(0.12969188), array(4.38930192), array(439.4852845), array(1.67037707), array(61.82668411), array(24.12753434), array(1545.21975147), array(0.40311518), array(0.02022022), array(0.14800408), array(8.30875916), array(0.00493207), array(194.61626721), array(0.22315478), array(2.23412543), array(60.36868574), array(5.11580872), array(323.9965455), array(0.09055388), array(0.02270118), array(4.06519415), array(386.86167412), array(0.44125166), array(0.56965337), array(1.98151302), array(0.68745876), array(40.62193431), array(0.0171655), array(41.09836066), array(0.1684359), array(4.04143711), array(55.42213115), array(1738.41393443), array(111160.02868852), array(27.32429303), array(0.03382392), array(65.58196721), array(0.26877855), array(0.52566225), array(27.54772337), array(0.02300146), array(5.17210878), array(0.15958143), array(1699.14624765), array(1.44880769), array(0.00571275), array(29.76056585), array(0.01554533), array(0.41474326), 1]\n",
      "pancreas_382.dcm\n",
      "[0.3021724650097248, 0.0, 0.0, 115.96994338931106, array(42.96875), array(61.015625), array(105.70661834), array(105.70661834), array(2223.69995117), 35.04292366098636, array(0.17293123), array(4764.25301786), array(2.14248915), 2288.690185546875, array(48.), array(133.), array(32839532.), array(2.50299063), array(36.), array(6.20543977), array(205.), array(27.29997779), array(95.38302678), array(102.), array(-114.), array(319.), array(15.98461839), array(102.94083615), array(-1.3347134), array(24252828.19824219), array(0.23651271), array(1498.89394876), array(90.21419585), array(360.80696307), array(-26.5314336), array(7.46759024), array(1.3022103), array(0.70093918), array(0.80051955), array(1.58657121), array(0.64852269), array(0.66813705), array(0.64769506), array(0.99354179), array(0.94861736), array(-0.19676906), array(0.77232527), array(0.48983866), array(9.41660923), array(0.08297979), array(4.38972295), array(0.74263831), array(0.18437668), array(18.83321846), array(3.2580896), array(2.19245013), array(5.14656984), array(464.06227815), array(0.14974581), array(3.34970269), array(732.95288803), array(2.48176925), array(89.78573733), array(19.2749274), array(1820.48144563), array(0.22044215), array(0.01403336), array(0.16795019), array(13.56425066), array(0.00365875), array(390.90703333), array(0.20104911), array(3.08083785), array(87.38769167), array(3.82668581), array(354.3615484), array(0.04762758), array(0.01547916), array(4.13026666), array(940.07268698), array(0.48002814), array(0.62616973), array(1.2190269), array(0.71682652), array(61.11233908), array(0.01206972), array(71.9588015), array(0.13475431), array(5.34985762), array(78.20599251), array(760.91573034), array(74552.58426966), array(7.85580648), array(0.02285732), array(156.2247191), array(0.29255565), array(0.55821388), array(42.13808224), array(0.01544366), array(5.53126145), array(0.17231365), array(727.23661785), array(1.87606976), array(0.00281922), array(54.12969378), array(0.01595855), array(0.34171265), 1]\n",
      "pancreas_385.dcm\n"
     ]
    },
    {
     "name": "stderr",
     "output_type": "stream",
     "text": [
      "GLCM is symmetrical, therefore Sum Average = 2 * Joint Average, only 1 needs to be calculated\n",
      "GLCM is symmetrical, therefore Sum Average = 2 * Joint Average, only 1 needs to be calculated\n"
     ]
    },
    {
     "name": "stdout",
     "output_type": "stream",
     "text": [
      "[0.22090476643065501, 0.0, 0.0, 161.62371948008564, array(61.015625), array(76.484375), array(123.78878515), array(123.78878515), array(1657.25097656), 35.703450001402025, array(0.18639656), array(3633.33205784), array(2.19238492), 1728.1494140625, array(55.), array(200.), array(43235288.), array(3.09621709), array(62.), array(3.27142675), array(262.), array(41.87568851), array(124.39316239), array(127.), array(-68.), array(330.), array(27.36441295), array(135.92872692), array(0.06811584), array(31930357.95898438), array(0.14498429), array(3002.95995325), array(76.92545534), array(1024.41571396), array(15.74430473), array(17.83820365), array(1.06200091), array(0.88772625), array(0.70359922), array(1.4886641), array(0.55542032), array(0.69914606), array(0.68309291), array(0.99470303), array(0.9545288), array(-0.37110116), array(0.9440735), array(0.46637148), array(8.52825756), array(0.04891693), array(4.99359816), array(0.9287868), array(0.13469458), array(17.05651511), array(3.98374095), array(4.72505114), array(5.87718385), array(339.33333333), array(0.14501425), array(3.62145226), array(339.26324786), array(4.88493754), array(76.96068376), array(22.11880342), array(1842.25042735), array(0.34852138), array(0.01948791), array(0.13067189), array(9.0647981), array(0.00431573), array(186.57021909), array(0.13576023), array(5.05804347), array(73.81212975), array(4.46694275), array(364.5766498), array(0.07540849), array(0.02178514), array(4.7490016), array(608.23110139), array(0.43812699), array(0.58739316), array(1.5020339), array(0.68281312), array(48.93381767), array(0.01629982), array(39.17313433), array(0.11693473), array(6.34576966), array(68.02686567), array(314.72238806), array(28326.53134328), array(4.21002118), array(0.03331329), array(59.12537313), array(0.17649365), array(0.41505574), array(26.63144241), array(0.0205979), array(6.21076225), array(0.14316239), array(265.93112052), array(1.09765686), array(0.00692642), array(37.26564432), array(0.02481462), array(0.57243986), 1]\n",
      "pancreas_386.dcm\n",
      "[0.26007725243545116, 0.0, 0.0, 124.87639745438985, array(46.40625), array(54.140625), array(120.45053466), array(120.45053466), array(2784.36381022), 32.47751034397508, array(0.16367302), array(5847.77969759), array(2.10022113), 2841.107177734375, array(82.), array(137.), array(47564486.), array(2.0736222), array(27.), array(9.45730141), array(209.), array(18.89975566), array(107.75825318), array(109.), array(-60.), array(269.), array(11.69414175), array(111.19373305), array(-1.39025936), array(35127580.60302734), array(0.30661258), array(752.20514049), array(62.44240083), array(171.449844), array(-11.98977141), array(3.81612486), array(0.96205836), array(0.59491343), array(0.698847), array(1.42471243), array(0.46716784), array(0.69126354), array(0.67676085), array(0.99346071), array(0.94765956), array(-0.1383208), array(0.64141976), array(0.49762569), array(7.85676896), array(0.11534066), array(3.76499214), array(0.8239626), array(0.24104263), array(15.71353793), array(2.78191253), array(1.1945458), array(4.70329105), array(593.14400832), array(0.15418352), array(3.17491057), array(1179.53860151), array(1.30392112), array(62.69014817), array(21.20483494), array(1336.78736678), array(0.38853463), array(0.01981612), array(0.1340766), array(8.37827969), array(0.00289976), array(598.30314636), array(0.26190202), array(1.62483946), array(62.53525974), array(4.26000515), array(268.02262669), array(0.07976239), array(0.02051059), array(3.82551242), array(1017.414681), array(0.44182966), array(0.59422927), array(1.38670219), array(0.68441521), array(42.72766641), array(0.0143088), array(107.83984375), array(0.21062469), array(3.18211365), array(62.33984375), array(5392.15820312), array(344581.86914062), array(84.63750606), array(0.02362812), array(122.4375), array(0.23913574), array(0.49990872), array(31.39459273), array(0.01115144), array(5.30987956), array(0.13309072), array(5335.70293808), array(3.61578797), array(0.0019856), array(36.86366239), array(0.01056735), array(0.17498395), 1]\n",
      "pancreas_387.dcm\n"
     ]
    },
    {
     "name": "stderr",
     "output_type": "stream",
     "text": [
      "GLCM is symmetrical, therefore Sum Average = 2 * Joint Average, only 1 needs to be calculated\n",
      "GLCM is symmetrical, therefore Sum Average = 2 * Joint Average, only 1 needs to be calculated\n"
     ]
    },
    {
     "name": "stdout",
     "output_type": "stream",
     "text": [
      "[0.26520184006540204, 0.0, 0.0, 154.9345113642737, array(41.25), array(156.40625), array(162.58321187), array(162.58321187), array(2135.32307943), 41.088917503439326, array(0.17219063), array(4657.11555449), array(2.18098872), 2220.745849609375, array(50.), array(131.), array(31081988.), array(2.3581567), array(36.), array(5.96292261), array(175.), array(25.305167), array(95.61223811), array(103.), array(-88.), array(263.), array(15.6613943), array(101.66879592), array(-1.41662607), array(22954837.32910156), array(0.2512237), array(1194.84398724), array(71.20824256), array(265.98482924), array(-25.27033701), array(6.35728566), array(1.12109743), array(0.69958585), array(0.76162166), array(1.50047015), array(0.53017213), array(0.67284925), array(0.65471326), array(0.99241411), array(0.94333019), array(-0.18718447), array(0.74938006), array(0.50315755), array(8.36056595), array(0.08878931), array(4.19382811), array(0.78677714), array(0.20455024), array(16.7211319), array(3.11477651), array(1.86959577), array(4.93335396), array(480.67409378), array(0.15985171), array(2.93829927), array(755.42966412), array(1.99427055), array(71.41469904), array(18.59694047), array(1381.28766212), array(0.28300669), array(0.0176255), array(0.15641514), array(10.81438404), array(0.00317344), array(410.00155714), array(0.2162403), array(2.34035385), array(70.19251213), array(3.64404335), array(267.06446908), array(0.0587532), array(0.01875388), array(3.95527276), array(902.66095326), array(0.47195696), array(0.63036249), array(1.07418667), array(0.70877351), array(49.10438933), array(0.01394662), array(88.712), array(0.177424), array(3.617996), array(67.65), array(803.91), array(64387.452), array(10.17768335), array(0.02235573), array(116.632), array(0.233264), array(0.49401228), array(34.20205007), array(0.01036175), array(5.50451937), array(0.16627868), array(767.741804), array(2.49792888), array(0.00281445), array(40.04543777), array(0.01720815), array(0.24198848), 1]\n",
      "pancreas_388.dcm\n",
      "[0.6971692203547348, 0.0, 0.0, 52.77476741623681, array(34.375), array(42.96875), array(50.89938183), array(50.89938183), array(488.1652832), 36.79294345398028, array(0.25455848), array(1177.80795937), array(2.41272372), 533.21533203125, array(73.), array(142.9), array(13895198.), array(2.4677656), array(39.), array(37.4674054), array(854.), array(34.91151081), array(115.57617729), array(104.), array(-107.), array(961.), array(15.07842813), array(138.72788686), array(5.23400784), array(10261956.53076172), array(0.24325703), array(5887.57383691), array(108.08727952), array(25300.10145068), array(698.8514232), array(27.10563311), array(6.40763163), array(0.60985603), array(0.94105152), array(1.60564454), array(5.5090139), array(0.7174927), array(0.7057952), array(0.99663596), array(0.97938671), array(-0.31829678), array(0.88415028), array(0.43073804), array(10.14451836), array(0.0944356), array(4.07540672), array(0.91849175), array(0.17434865), array(20.28903671), array(3.25353816), array(8.37831618), array(5.21697857), array(96.02770083), array(0.13300236), array(4.287352), array(175.63157895), array(9.47928768), array(112.91551247), array(23.34626039), array(2262.10387812), array(0.25446746), array(0.01225404), array(0.17723866), array(33.4520824), array(0.00319342), array(89.89415312), array(0.21449256), array(15.24157354), array(125.33474466), array(4.51754412), array(467.11472401), array(0.05105698), array(0.01324646), array(4.29241963), array(179.11562882), array(0.42379652), array(0.57929363), array(1.46251188), array(0.66932556), array(93.91806641), array(0.00958385), array(17.16058394), array(0.12525974), array(37.95918802), array(183.54014599), array(207.06569343), array(20513.2189781), array(2.1557039), array(0.01765027), array(51.58394161), array(0.37652512), array(0.63426689), array(146.33942586), array(0.01350027), array(5.42919186), array(0.18975069), array(179.29202408), array(0.16797922), array(0.01305913), array(358.93178491), array(0.01908019), array(18.44096765), 1]\n",
      "pancreas_389.dcm\n"
     ]
    },
    {
     "name": "stderr",
     "output_type": "stream",
     "text": [
      "GLCM is symmetrical, therefore Sum Average = 2 * Joint Average, only 1 needs to be calculated\n",
      "GLCM is symmetrical, therefore Sum Average = 2 * Joint Average, only 1 needs to be calculated\n"
     ]
    },
    {
     "name": "stdout",
     "output_type": "stream",
     "text": [
      "[0.15862744473111146, 0.0, 0.0, 176.40946478855147, array(36.09375), array(87.65625), array(145.74452746), array(145.74452746), array(2424.20959473), 27.983382625790902, array(0.16743957), array(5212.02082969), array(2.14998771), 2499.908447265625, array(65.), array(142.), array(39311122.), array(2.42939802), array(34.), array(5.19311626), array(210.), array(24.53830955), array(102.0254062), array(102.), array(-66.), array(276.), array(14.4857921), array(107.76516128), array(-0.519331), array(29032261.73095703), array(0.24588093), array(1204.14647417), array(59.55793632), array(185.48015162), array(-4.76126814), array(5.84621529), array(1.14228983), array(0.67132241), array(0.75676762), array(1.51673544), array(0.55701935), array(0.6776371), array(0.65936971), array(0.99229599), array(0.94382491), array(-0.19858085), array(0.76609996), array(0.49162107), array(7.64080407), array(0.09142013), array(4.21814501), array(0.73437263), array(0.18047408), array(15.28160815), array(3.15395304), array(1.74712628), array(5.02186693), array(516.03220089), array(0.15244674), array(3.16813154), array(832.30694239), array(1.9910775), array(59.76454948), array(19.7379616), array(1211.77518464), array(0.34986432), array(0.0210849), array(0.15407164), array(8.3381963), array(0.00524461), array(434.54741915), array(0.20793781), array(2.49476031), array(58.78218661), array(3.96313716), array(240.80715669), array(0.07528867), array(0.02311079), array(4.10225543), array(979.62426252), array(0.46363102), array(0.6161743), array(1.24408318), array(0.70131616), array(40.5051589), array(0.01763765), array(71.38521401), array(0.13888174), array(4.87447198), array(52.89883268), array(1201.27042802), array(74686.12256809), array(19.6500796), array(0.03610083), array(145.56809339), array(0.28320641), array(0.54818573), array(27.11124996), array(0.02511046), array(5.49086106), array(0.15184638), array(1157.90025966), array(3.18894839), array(0.00253939), array(36.4873464), array(0.01726841), array(0.18727831), 1]\n",
      "pancreas_391.dcm\n",
      "[0.3618778740266635, 0.0, 0.0, 91.54922131384748, array(55.), array(82.5), array(134.0625), array(134.0625), array(1342.33144124), 33.12963757785164, array(0.20029598), array(2937.99957437), array(2.18872887), 1407.62939453125, array(45.), array(105.), array(13057122.), array(2.17047525), array(28.), array(8.18539655), array(192.), array(21.09231686), array(76.67051417), array(81.), array(-87.), array(279.), array(11.94568414), array(82.76796603), array(-1.59039396), array(9643016.12548828), array(0.30179122), array(972.16845902), array(59.83647961), array(172.71809071), array(-14.03014765), array(4.27216648), array(0.89269505), array(0.65490017), array(0.65659115), array(1.380153), array(0.44751705), array(0.70794552), array(0.69521434), array(0.9939304), array(0.95076207), array(-0.18194102), array(0.70540775), array(0.47866156), array(7.68059952), array(0.12771676), array(3.73438589), array(0.85142865), array(0.27396917), array(15.36119904), array(2.83006104), array(1.29121538), array(4.82582456), array(263.00104932), array(0.13798586), array(3.84222684), array(575.21406086), array(1.63430141), array(59.24606506), array(22.75970619), array(1390.71720881), array(0.41283744), array(0.021963), array(0.14380529), array(7.96900523), array(0.0041111), array(267.35047239), array(0.24087335), array(2.13335385), array(58.12210526), array(4.84896953), array(293.85613349), array(0.09352069), array(0.02425798), array(3.98570948), array(491.87201653), array(0.4360935), array(0.58132214), array(1.73875214), array(0.6794788), array(38.82484872), array(0.01779949), array(55.06802721), array(0.18730622), array(3.73294692), array(54.99659864), array(1075.48979592), array(68019.51360544), array(17.1981764), array(0.03164724), array(75.06802721), array(0.25533343), array(0.50979954), array(26.97160803), array(0.01621967), array(5.17906503), array(0.15424974), array(1033.46059512), array(1.71832355), array(0.0043199), array(34.17494343), array(0.01277115), array(0.35985887), 1]\n",
      "pancreas_392.dcm\n"
     ]
    },
    {
     "name": "stderr",
     "output_type": "stream",
     "text": [
      "GLCM is symmetrical, therefore Sum Average = 2 * Joint Average, only 1 needs to be calculated\n",
      "GLCM is symmetrical, therefore Sum Average = 2 * Joint Average, only 1 needs to be calculated\n"
     ]
    },
    {
     "name": "stdout",
     "output_type": "stream",
     "text": [
      "[0.23580983084988835, 0.0, 0.0, 128.9617957231285, array(38.671875), array(47.265625), array(113.45377487), array(113.45377487), array(2382.05210368), 30.410459235568783, array(0.17125205), array(5036.73582696), array(2.11445242), 2437.872314453125, array(57.), array(122.), array(29632658.), array(2.18211461), array(32.), array(6.63428247), array(202.), array(20.84077393), array(90.51257195), array(92.), array(-94.), array(296.), array(13.83988879), array(94.74636177), array(-0.93607767), array(21884470.32470703), array(0.27178484), array(784.34738814), array(67.46281258), array(101.53451699), array(-7.56208059), array(3.62335829), array(1.34130763), array(0.45873584), array(0.85625228), array(1.59926947), array(0.60088365), array(0.6441272), array(0.61994225), array(0.99225321), array(0.94108444), array(-0.08421467), array(0.53498087), array(0.50987426), array(8.17875444), array(0.08559182), array(4.10518676), array(0.72972497), array(0.16310426), array(16.35750887), array(2.87351959), array(1.24116648), array(4.66891609), array(567.12965768), array(0.17180541), array(2.5826204), array(897.16176916), array(1.33381777), array(67.61738867), array(16.33838231), array(1115.49863678), array(0.25594668), array(0.01719016), array(0.1734491), array(11.42970725), array(0.00338438), array(529.17812099), array(0.24236705), array(1.60181315), array(67.30453483), array(3.14457528), array(213.81104811), array(0.05145221), array(0.01786584), array(3.66058018), array(1101.89670033), array(0.50283241), array(0.66139049), array(0.84350735), array(0.73346107), array(49.14561312), array(0.01355406), array(109.80666667), array(0.18301111), array(2.985975), array(65.475), array(448.895), array(30770.355), array(6.67740489), array(0.0209003), array(162.75333333), array(0.27125556), array(0.53259203), array(34.46960764), array(0.01100873), array(5.16758637), array(0.1817631), array(418.62666389), array(2.92199537), array(0.00217556), array(50.75995194), array(0.01079464), array(0.20758249), 1]\n",
      "pancreas_393.dcm\n",
      "[0.29474408880791214, 0.0, 0.0, 165.6338454243311, array(37.8125), array(108.28125), array(151.80562008), array(151.80562008), array(2662.56866455), 48.81959684534504, array(0.16182104), array(5740.93995279), array(2.15616597), 2748.052978515625, array(-77.), array(58.), array(10579580.), array(3.12783138), array(72.), array(2.94153195), array(175.), array(42.4611262), array(-5.2480516), array(-2.), array(-165.), array(340.), array(30.13252289), array(53.32174805), array(0.04438337), array(7813288.45214844), array(0.13345069), array(2815.66676925), array(56.66157696), array(654.53310205), array(-1.79859076), array(14.79962112), array(2.67481455), array(0.69326506), array(1.22957515), array(1.9913431), array(1.1379397), array(0.56415918), array(0.51917237), array(0.98858923), array(0.92809478), array(-0.16634538), array(0.79045567), array(0.47640532), array(7.32327309), array(0.0273967), array(5.67132598), array(0.70441307), array(0.05863617), array(14.64654617), array(3.95847553), array(4.36860892), array(5.51639552), array(761.89868315), array(0.20475643), array(1.95375406), array(496.57000806), array(4.59670308), array(58.12120398), array(10.81241602), array(622.3388874), array(0.27139059), array(0.02732525), array(0.25688126), array(15.23338807), array(0.008143), array(361.34061416), array(0.12896065), array(4.83235891), array(58.29515412), array(2.23022949), array(129.4043639), array(0.05868194), array(0.02805678), array(4.21772927), array(1705.45668508), array(0.60661189), array(0.75295619), array(0.45456522), array(0.80620717), array(47.17847588), array(0.02312544), array(131.74956822), array(0.11377337), array(5.89373093), array(59.30483592), array(34.38773748), array(2078.01813472), array(0.8024176), array(0.03150889), array(313.45250432), array(0.27068437), array(0.53074488), array(31.92152258), array(0.01834268), array(5.79520179), array(0.31120666), array(24.06244836), array(2.83017529), array(0.00281673), array(76.99249575), array(0.03545833), array(0.23622157), 1]\n",
      "pancreas_395.dcm\n"
     ]
    },
    {
     "name": "stderr",
     "output_type": "stream",
     "text": [
      "GLCM is symmetrical, therefore Sum Average = 2 * Joint Average, only 1 needs to be calculated\n",
      "GLCM is symmetrical, therefore Sum Average = 2 * Joint Average, only 1 needs to be calculated\n",
      "GLCM is symmetrical, therefore Sum Average = 2 * Joint Average, only 1 needs to be calculated\n"
     ]
    },
    {
     "name": "stdout",
     "output_type": "stream",
     "text": [
      "[0.38768562966777254, 0.0, 0.0, 146.0903192202846, array(44.6875), array(114.296875), array(118.06323824), array(118.06323824), array(2771.80887858), 56.637117395281926, array(0.16250843), array(5871.96912899), array(2.11846104), 2839.630126953125, array(62.), array(117.), array(34440991.), array(2.05919681), array(25.), array(11.72789758), array(163.), array(19.78826321), array(89.48738622), array(94.), array(-90.), array(253.), array(10.81017002), array(94.64325049), array(-2.33234516), array(25435546.33178711), array(0.31903903), array(949.35257171), array(67.39008854), array(329.24483466), array(-27.79493047), array(5.08251624), array(0.74772036), array(0.74226469), array(0.57117848), array(1.31249395), array(0.41883735), array(0.74026681), array(0.73168104), array(0.99398021), array(0.95348983), array(-0.21095467), array(0.75031413), array(0.44771677), array(8.14286406), array(0.14004593), array(3.58332978), array(0.86521574), array(0.25818947), array(16.28572812), array(2.80522353), array(1.45755915), array(4.83591401), array(522.39297789), array(0.13586293), array(3.94302837), array(1226.70507152), array(1.61948076), array(67.38335501), array(27.58361508), array(1899.57737321), array(0.51854297), array(0.02074154), array(0.10824022), array(6.97211423), array(0.00269411), array(519.28856885), array(0.26097475), array(2.05862245), array(66.23019511), array(6.2142388), array(424.59225043), array(0.11817218), array(0.02213494), array(4.14513644), array(748.40777046), array(0.37460408), array(0.51723017), array(2.43936909), array(0.62749751), array(40.80956769), array(0.0145554), array(66.44063325), array(0.1753051), array(3.79056119), array(62.2585752), array(5147.63324538), array(349421.58047493), array(77.21865603), array(0.0286347), array(98.41952507), array(0.25968212), array(0.52191234), array(33.18337335), array(0.01421875), array(5.30737675), array(0.09856957), array(5044.70981127), array(3.62972986), array(0.00210955), array(28.2077114), array(0.01333726), array(0.20298949), 1]\n",
      "pancreas_398.dcm\n",
      "[0.3230561006577304, 0.0, 0.0, 75.87554119826223, array(25.78125), array(56.71875), array(65.06325798), array(65.06325798), array(917.24853516), 24.51205647480557, array(0.22567038), array(2023.02344605), array(2.20553467), 956.390380859375, array(-45.), array(103.), array(5873199.), array(3.09356505), array(102.), array(2.07554751), array(140.), array(51.49321566), array(32.08571429), array(34.), array(-128.), array(268.), array(41.56778133), array(67.34455288), array(-0.32888452), array(4337506.58569336), array(0.13246851), array(3505.79574186), array(67.43544314), array(914.72930545), array(-32.93149664), array(20.84318589), array(1.39177927), array(0.87474772), array(0.82746594), array(1.63241648), array(0.69726784), array(0.66271863), array(0.64037357), array(0.99070951), array(0.93927191), array(-0.33840174), array(0.93289656), array(0.48371252), array(7.91026397), array(0.04462881), array(5.08430456), array(0.90239934), array(0.12048188), array(15.82052793), array(3.92193593), array(5.55874129), array(5.72779546), array(196.01776062), array(0.15136507), array(3.32997183), array(171.54671815), array(5.73416019), array(66.68262548), array(18.43474903), array(1392.36138996), array(0.38612897), array(0.02705429), array(0.17320961), array(9.97710761), array(0.00587805), array(99.44275082), array(0.12013293), array(5.81965931), array(62.81096572), array(3.55909785), array(259.22580535), array(0.08242842), array(0.02976784), array(4.55468687), array(407.08752698), array(0.48955243), array(0.63918919), array(1.08432929), array(0.72474676), array(43.51260793), array(0.02310228), array(28.85098039), array(0.1131411), array(6.13031911), array(54.36470588), array(343.18823529), array(32439.14509804), array(4.24621505), array(0.03790811), array(63.8), array(0.25019608), array(0.49949461), array(27.4619902), array(0.01832756), array(5.58533105), array(0.1969112), array(317.39777009), array(0.89907136), array(0.01146649), array(33.64983717), array(0.0493965), array(0.63103415), 1]\n",
      "pancreas_399.dcm\n",
      "[0.21380809190356873, 0.0, 0.0, 127.60532137522377, array(24.921875), array(76.484375), array(119.69708676), array(119.69708676), array(1356.67114258), 27.283050279978266, array(0.19867582), array(2983.01550333), array(2.19877567), 1415.753173828125, array(18.), array(96.), array(8591765.), array(2.397941), array(38.), array(4.00979926), array(154.), array(24.54413943), array(58.81116328), array(61.), array(-82.), array(236.), array(16.46317259), array(66.94684864), array(-0.52640982), array(6345236.6027832), array(0.23118113), array(1023.12761664), array(48.63092681), array(103.85423367), array(-4.93247569), array(5.2504908), array(0.80518975), array(0.7329771), array(0.61274724), array(1.3427179), array(0.42396825), array(0.72321192), array(0.71279039), array(0.993499), array(0.95014316), array(-0.25013207), array(0.82116333), array(0.46729542), array(6.89344037), array(0.08824773), array(4.06318296), array(0.74144224), array(0.18669358), array(13.78688075), array(3.20367407), array(1.51392014), array(5.18730152), array(274.19144497), array(0.14303153), array(3.6095278), array(443.17423057), array(1.70398834), array(48.84507042), array(24.13510694), array(1215.19040167), array(0.53667728), array(0.02545779), array(0.12159253), array(5.52983449), array(0.00454139), array(219.99240631), array(0.20551622), array(2.07099238), array(47.9295105), array(4.89261943), array(244.24399888), array(0.11365615), array(0.02771037), array(4.24740239), array(431.30027655), array(0.39936146), array(0.55868545), array(1.6239595), array(0.64836599), array(30.56469109), array(0.01946711), array(34.46610169), array(0.1460428), array(3.89304438), array(44.88559322), array(590.75847458), array(30212.63559322), array(11.9877228), array(0.04021678), array(49.62711864), array(0.2102844), array(0.46970165), array(19.98751744), array(0.02344128), array(5.72088334), array(0.12310902), array(524.77727305), array(1.78185916), array(0.00567799), array(24.39842267), array(0.01398901), array(0.31653407), 1]\n",
      "pancreas_400.dcm\n"
     ]
    },
    {
     "name": "stderr",
     "output_type": "stream",
     "text": [
      "GLCM is symmetrical, therefore Sum Average = 2 * Joint Average, only 1 needs to be calculated\n",
      "GLCM is symmetrical, therefore Sum Average = 2 * Joint Average, only 1 needs to be calculated\n"
     ]
    },
    {
     "name": "stdout",
     "output_type": "stream",
     "text": [
      "[0.3925429616760222, 0.0, 0.0, 79.11758241714989, array(43.828125), array(41.25), array(83.889263), array(83.889263), array(1440.43223063), 31.0570501226748, array(0.19815216), array(3112.77113795), array(2.16099798), 1489.605712890625, array(-85.), array(60.), array(6386067.), array(3.15652901), array(85.), array(2.39949109), array(163.), array(46.45366148), array(-6.12444224), array(0.), array(-146.), array(309.), array(34.63690863), array(56.26829896), array(-0.09827367), array(4716272.62573242), array(0.1255749), array(3128.61267476), array(44.42387593), array(721.62122884), array(-12.23099232), array(17.27202624), array(2.29109262), array(0.76555884), array(1.14104821), array(1.90435097), array(0.96470038), array(0.5815116), array(0.53964055), array(0.987004), array(0.92365016), array(-0.21272989), array(0.85114671), array(0.47535551), array(6.37795067), array(0.02705152), array(5.61386131), array(0.78130919), array(0.05888553), array(12.75590135), array(4.02072053), array(4.89077972), array(5.5796639), array(399.70798215), array(0.19816955), array(2.08863579), array(253.28458106), array(5.03041942), array(44.32721864), array(11.92216163), array(522.07932573), array(0.5342871), array(0.04832451), array(0.2309413), array(10.33043661), array(0.0134158), array(180.91385196), array(0.12237786), array(5.15158173), array(44.47058037), array(2.41567424), array(105.77631035), array(0.11496732), array(0.04961181), array(4.2932033), array(870.17743853), array(0.58533642), array(0.73301934), array(0.5343643), array(0.79189987), array(35.23592391), array(0.04046239), array(65.09424084), array(0.11360251), array(5.82599161), array(44.51308901), array(38.09598604), array(1704.64572426), array(1.72005804), array(0.05717161), array(137.95636998), array(0.24076155), array(0.49652897), array(22.31420426), array(0.03258112), array(5.82642594), array(0.28408528), array(25.70509459), array(2.13953375), array(0.00563227), array(52.29622741), array(0.04936672), array(0.32947843), 1]\n",
      "pancreas_401.dcm\n",
      "[0.4222243412348222, 0.0, 0.0, 119.8298008284353, array(42.96875), array(93.671875), array(113.92149354), array(113.92149354), array(1888.77868652), 50.59505871508605, array(0.17989762), array(4107.51744807), array(2.17469494), 1957.09228515625, array(-8.1), array(107.), array(16169895.), array(2.80854592), array(50.), array(4.88708245), array(209.), array(36.46075472), array(60.08490566), array(71.), array(-121.), array(330.), array(21.82711917), array(78.11432116), array(-1.21502188), array(11941878.02124023), array(0.18824778), array(2491.65128159), array(66.65336516), array(1121.46438938), array(-74.99050529), array(14.54502582), array(1.32446977), array(0.83269709), array(0.82836534), array(1.59746735), array(0.62769916), array(0.65635758), array(0.63421063), array(0.99340861), array(0.94676217), array(-0.26311295), array(0.8719154), array(0.50049452), array(7.95915253), array(0.05866229), array(4.82823127), array(0.88738189), array(0.13918687), array(15.91830506), array(3.64022106), array(3.9673739), array(5.41208953), array(439.16226415), array(0.16572161), array(2.85793435), array(498.85660377), array(4.08315287), array(66.89924528), array(17.33811321), array(1221.11660377), array(0.49932516), array(0.03324548), array(0.16201377), array(10.28238868), array(0.00647092), array(290.00780928), array(0.16854129), array(4.41966596), array(65.4767885), array(3.40093041), array(233.81422934), array(0.10348798), array(0.03494337), array(4.30417411), array(861.02011843), array(0.49742166), array(0.64933962), array(1.00005247), array(0.7300292), array(46.89353205), array(0.02620686), array(61.42767296), array(0.12877919), array(5.74645869), array(61.69811321), array(634.52830189), array(50274.66037736), array(8.87090041), array(0.04474213), array(102.04402516), array(0.21392877), array(0.46223358), array(28.99997086), array(0.02108475), array(5.872501), array(0.18), array(603.66410436), array(1.59884354), array(0.00414845), array(47.09846437), array(0.02524241), array(0.38529473), 1]\n",
      "pancreas_402.dcm\n"
     ]
    },
    {
     "name": "stderr",
     "output_type": "stream",
     "text": [
      "GLCM is symmetrical, therefore Sum Average = 2 * Joint Average, only 1 needs to be calculated\n",
      "GLCM is symmetrical, therefore Sum Average = 2 * Joint Average, only 1 needs to be calculated\n"
     ]
    },
    {
     "name": "stdout",
     "output_type": "stream",
     "text": [
      "[0.26969115119746057, 0.0, 0.0, 121.19737033448493, array(38.671875), array(61.015625), array(116.88763718), array(116.88763718), array(2097.16593424), 32.6858583276122, array(0.17639962), array(4491.67508976), array(2.14178335), 2159.4482421875, array(50.), array(108.), array(20004470.), array(1.98906684), array(30.), array(4.19245562), array(155.), array(18.08068048), array(79.40150479), array(80.), array(-38.), array(193.), array(12.56112503), array(82.71320335), array(-0.39805829), array(14773809.02099609), array(0.30066355), array(536.87504562), array(32.8651346), array(29.92242047), array(-1.53557162), array(2.66537824), array(0.9037629), array(0.49233786), array(0.66259272), array(1.39676568), array(0.45605801), array(0.70543826), array(0.69270514), array(0.98925387), array(0.93586844), array(-0.11671361), array(0.58181347), array(0.48343791), array(5.69426885), array(0.11276917), array(3.66590525), array(0.5485988), array(0.22153102), array(11.38853771), array(2.72345371), array(0.89228528), array(4.68351204), array(439.71409029), array(0.15038102), array(3.28314941), array(879.14021888), array(0.95075836), array(33.21580027), array(22.50615595), array(751.52975376), array(0.73511979), array(0.03585566), array(0.11799465), array(3.87815183), array(0.00524868), array(446.28291736), array(0.2645568), array(1.17658392), array(33.08061921), array(4.58175094), array(152.85054919), array(0.15432507), array(0.03784822), array(3.77906246), array(714.02548642), array(0.41813098), array(0.57694938), array(1.48913387), array(0.66364649), array(21.82602164), array(0.02637593), array(76.38419619), array(0.20813132), array(2.30367736), array(32.86920981), array(740.65395095), array(25528.23705722), array(22.03418697), array(0.04819249), array(64.73297003), array(0.17638411), array(0.40153822), array(13.2308033), array(0.02180675), array(5.45928897), array(0.125513), array(677.17604259), array(5.06921773), array(0.00288396), array(17.86662107), array(0.0128725), array(0.10205139), 1]\n",
      "pancreas_404.dcm\n",
      "[0.2207833559297629, 0.0, 0.0, 144.99296378257898, array(35.234375), array(107.421875), array(138.53807365), array(138.53807365), array(1991.67989095), 32.01203313012036, array(0.17646111), array(4338.25236716), array(2.17818756), 2069.34814453125, array(-70.), array(95.), array(12365704.), array(3.36957176), array(98.), array(2.47893681), array(199.), array(53.81037507), array(14.76802284), array(16.), array(-126.), array(325.), array(40.09799388), array(66.4316987), array(0.21199537), array(9132386.37695312), array(0.10711707), array(4195.07609381), array(56.65495869), array(1402.15373552), array(24.14692624), array(23.34162936), array(2.26674259), array(0.82256454), array(1.12232259), array(1.89580078), array(0.98463755), array(0.58626047), array(0.5470219), array(0.98888402), array(0.92964767), array(-0.25724003), array(0.90021551), array(0.48644699), array(7.16836772), array(0.02265573), array(5.81206555), array(0.86522546), array(0.0492274), array(14.33673544), array(4.2505862), array(6.40209299), array(5.80670768), array(561.92719486), array(0.20054504), array(2.14783669), array(300.1420414), array(6.77176354), array(57.33797288), array(12.06067095), array(751.75267666), array(0.36622882), array(0.03405577), array(0.22595087), array(12.47814553), array(0.00890681), array(219.43772186), array(0.10708761), array(6.69937842), array(56.13568995), array(2.42148471), array(144.49588012), array(0.07842192), array(0.03509761), array(4.48697428), array(1199.03310565), array(0.58292505), array(0.73144183), array(0.53916724), array(0.79080433), array(43.79453616), array(0.02838345), array(82.22605364), array(0.10501412), array(7.00397169), array(53.96934866), array(40.25798212), array(2752.7164751), array(1.04430053), array(0.03991281), array(179.44189017), array(0.22917227), array(0.48031732), array(26.45510262), array(0.02107614), array(6.02180132), array(0.27944325), array(27.45200452), array(2.35221301), array(0.00495874), array(54.03608399), array(0.05240068), array(0.32884962), 1]\n",
      "pancreas_405.dcm\n"
     ]
    },
    {
     "name": "stderr",
     "output_type": "stream",
     "text": [
      "GLCM is symmetrical, therefore Sum Average = 2 * Joint Average, only 1 needs to be calculated\n",
      "GLCM is symmetrical, therefore Sum Average = 2 * Joint Average, only 1 needs to be calculated\n"
     ]
    },
    {
     "name": "stdout",
     "output_type": "stream",
     "text": [
      "[0.41304229864906494, 0.0, 0.0, 87.92879720829959, array(45.546875), array(61.875), array(97.04851522), array(97.04851522), array(1765.32185872), 36.31831251636354, array(0.18634227), array(3790.72268213), array(2.14732666), 1820.465087890625, array(101.), array(157.), array(42667371.), array(2.09239885), array(27.), array(5.85592269), array(227.), array(18.44703611), array(128.93995943), array(129.), array(-21.), array(248.), array(11.03067857), array(131.56473044), array(-0.36621012), array(31510936.8347168), array(0.30579496), array(683.76515781), array(45.43237199), array(67.23671667), array(-1.7379717), array(3.47913394), array(0.84497584), array(0.60572407), array(0.63383799), array(1.361875), array(0.43512396), array(0.71545493), array(0.70405616), array(0.9931842), array(0.94850123), array(-0.17482112), array(0.69484111), array(0.47471014), array(6.6913214), array(0.12635413), array(3.70392905), array(0.65486273), array(0.25647614), array(13.3826428), array(2.82220375), array(1.08102744), array(4.79891765), array(351.13955375), array(0.14245012), array(3.59036408), array(753.78458418), array(1.19501401), array(45.88681542), array(23.8494929), array(1097.85192698), array(0.55642536), array(0.02545892), array(0.12300226), array(5.68625932), array(0.00406119), array(353.57409049), array(0.25469716), array(1.53351117), array(45.84546119), array(5.10906051), array(234.9355063), array(0.12204167), array(0.02690902), array(3.96434754), array(580.33120946), array(0.41349079), array(0.56237323), array(1.85077292), array(0.65878518), array(30.22307733), array(0.0186125), array(56.18120805), array(0.18852754), array(3.1129341), array(47.03691275), array(2403.29194631), array(114915.62751678), array(50.81695192), array(0.03428122), array(67.1409396), array(0.22530517), array(0.48356308), array(22.48989881), array(0.01985612), array(5.44743749), array(0.12089249), array(2334.86907121), array(2.87070017), array(0.00331136), array(26.84813644), array(0.01060928), array(0.21320453), 1]\n",
      "pancreas_406.dcm\n",
      "[0.21437357962838494, 0.0, 0.0, 188.0460993282987, array(37.8125), array(145.234375), array(145.39700584), array(145.39700584), array(2442.9804484), 40.312115448162224, array(0.16795493), array(5222.81555253), array(2.13788676), 2516.156005859375, array(-47.), array(61.), array(7260956.), array(2.70736484), array(47.5), array(3.94406059), array(134.), array(33.12060142), array(15.66539478), array(25.), array(-146.), array(280.), array(21.27529225), array(46.16478696), array(-0.98320097), array(5362400.36621094), array(0.19370977), array(1885.78296156), array(54.10153779), array(443.61474998), array(-35.79385254), array(9.99439014), array(1.50249104), array(0.73814754), array(0.898553), array(1.67338319), array(0.6890681), array(0.63640192), array(0.60990296), array(0.98991964), array(0.93405607), array(-0.19396538), array(0.79838947), array(0.50306254), array(7.20960486), array(0.05727136), array(4.81441223), array(0.80495624), array(0.14473193), array(14.41920972), array(3.51450589), array(2.8742203), array(5.2805547), array(569.27238039), array(0.16708905), array(2.7748041), array(659.9691811), array(3.06590921), array(54.1714118), array(15.95509246), array(908.01878485), array(0.42200636), array(0.03048316), array(0.19024627), array(9.87559475), array(0.007523), array(396.15716274), array(0.17324789), array(3.30739799), array(53.20243753), array(3.10390895), array(173.02263112), array(0.08694581), array(0.03218252), array(4.12150115), array(1199.62664311), array(0.52333849), array(0.67119166), array(0.87310924), array(0.75021943), array(39.41185333), array(0.02515983), array(94.78901734), array(0.13697835), array(4.497185), array(50.82369942), array(584.90028902), array(37013.74277457), array(9.9230754), array(0.04059075), array(191.71676301), array(0.27704735), array(0.543072), array(27.96574359), array(0.02507825), array(5.60053926), array(0.20311124), array(560.660319), array(3.40308711), array(0.00266241), array(40.49649815), array(0.03065103), array(0.16444843), 1]\n",
      "pancreas_409.dcm\n"
     ]
    },
    {
     "name": "stderr",
     "output_type": "stream",
     "text": [
      "GLCM is symmetrical, therefore Sum Average = 2 * Joint Average, only 1 needs to be calculated\n",
      "GLCM is symmetrical, therefore Sum Average = 2 * Joint Average, only 1 needs to be calculated\n"
     ]
    },
    {
     "name": "stdout",
     "output_type": "stream",
     "text": [
      "[0.5748073075648388, 0.0, 0.0, 94.79304936014437, array(103.984375), array(77.34375), array(130.04703551), array(130.04703551), array(2533.26517741), 54.48773747856544, array(0.16761287), array(5361.63437947), array(2.11649156), 2602.5634765625, array(32.), array(111.), array(22170735.), array(2.46198316), array(41.), array(4.27097189), array(196.), array(25.28224009), array(72.17678774), array(74.), array(-92.), array(288.), array(17.04518565), array(79.31806222), array(-0.33970206), array(16373650.72631836), array(0.21898388), array(1081.86630569), array(55.87435934), array(106.02240068), array(-3.89599866), array(4.80730456), array(2.19608346), array(0.37256233), array(1.10650199), array(1.87104265), array(0.93990728), array(0.59004091), array(0.55115004), array(0.98547484), array(0.92049085), array(-0.06611538), array(0.47965907), array(0.48306916), array(7.43111886), array(0.0555455), array(4.70842733), array(0.49834446), array(0.1056658), array(14.86223772), array(3.13906902), array(1.75084701), array(4.90522306), array(654.28944381), array(0.1856667), array(2.31032028), array(771.69920545), array(1.82822475), array(56.74120318), array(12.78263337), array(725.42395006), array(0.25246769), array(0.02181251), array(0.22947875), array(13.04444831), array(0.00577021), array(514.19903799), array(0.20260451), array(2.07210916), array(56.71808024), array(2.53306982), array(143.61944044), array(0.05302207), array(0.02251494), array(3.70159295), array(1452.13752238), array(0.56914421), array(0.72048808), array(0.5865955), array(0.78104041), array(44.24095219), array(0.01811513), array(151.09292503), array(0.15954902), array(3.19253264), array(56.74340021), array(81.26504752), array(4780.12882788), array(1.45636662), array(0.02551665), array(259.14572334), array(0.27364913), array(0.53556), array(30.60923822), array(0.01442867), array(5.32402622), array(0.26872872), array(67.41753261), array(4.25472497), array(0.00199979), array(52.72919471), array(0.02266708), array(0.12129197), 1]\n",
      "pancreas_410.dcm\n"
     ]
    },
    {
     "name": "stderr",
     "output_type": "stream",
     "text": [
      "GLCM is symmetrical, therefore Sum Average = 2 * Joint Average, only 1 needs to be calculated\n"
     ]
    },
    {
     "name": "stdout",
     "output_type": "stream",
     "text": [
      "[0.256327306786885, 0.0, 0.0, 162.67888264824683, array(33.515625), array(153.828125), array(173.10807679), array(173.10807679), array(3312.40946452), 41.69903986032483, array(0.15307443), array(7020.11370014), array(2.11933753), 3397.216796875, array(27.), array(127.), array(40635474.), array(2.7178314), array(43.), array(4.90711072), array(217.), array(31.82745898), array(83.17695652), array(90.), array(-118.), array(335.), array(19.17763264), array(93.9882902), array(-1.0260144), array(30010329.30908203), array(0.20017561), array(1915.39259943), array(81.21465633), array(571.04449857), array(-38.02062719), array(10.47411199), array(1.35636901), array(0.7693263), array(0.84225319), array(1.58860006), array(0.61883241), array(0.6524827), array(0.62918082), array(0.99324573), array(0.94591349), array(-0.23606736), array(0.82989778), array(0.49874505), array(8.88453676), array(0.06404858), array(4.71749563), array(0.8109774), array(0.13208115), array(17.76907351), array(3.52813541), array(2.95762025), array(5.32373848), array(756.98), array(0.16456087), array(2.77238015), array(920.80782609), array(3.13442112), array(81.39152174), array(17.42130435), array(1473.69891304), array(0.24892577), array(0.01669412), array(0.16222246), array(12.61271151), array(0.00323786), array(529.3955134), array(0.17812601), array(3.54061573), array(80.07562179), array(3.57966923), array(297.32345262), array(0.0554807), array(0.01769664), array(4.24824216), array(1503.79807878), array(0.49557041), array(0.64657609), array(1.05975501), array(0.72432456), array(57.14803782), array(0.01348659), array(107.), array(0.13291925), array(5.11345087), array(76.34285714), array(549.93043478), array(50077.45217391), array(6.33949419), array(0.02134236), array(191.18136646), array(0.23749238), array(0.48919829), array(37.42970867), array(0.01045382), array(5.82141894), array(0.175), array(517.27737356), array(2.93467029), array(0.00202641), array(54.51202556), array(0.02133407), array(0.20831284), 1]\n",
      "pancreas_411.dcm\n",
      "[0.4049366136474276, 0.0, 0.0, 111.23180341264802, array(50.703125), array(66.171875), array(112.2759542), array(112.2759542), array(2103.99729411), 45.041829803814075, array(0.17706595), array(4484.48443536), array(2.13141169), 2163.140869140625, array(-19.), array(155.), array(41270615.), array(3.06487397), array(57.), array(15.63100852), array(233.), array(49.57272707), array(95.30590645), array(116.), array(-622.), array(855.), array(28.56604099), array(118.70275111), array(-2.43403761), array(30479397.06420898), array(0.16426277), array(5007.12731575), array(866.57229095), array(11808.69324787), array(-373.98647229), array(29.86039638), array(1.90682392), array(0.87999731), array(0.91314856), array(1.71063629), array(1.0593938), array(0.64406473), array(0.61928275), array(0.99848135), array(0.97531576), array(-0.300984), array(0.91276962), array(0.49531833), array(29.31865707), array(0.0506756), array(5.15586963), array(0.92489612), array(0.12236005), array(58.63731413), array(3.90450228), array(7.94180507), array(5.63273972), array(472.56025947), array(0.16133843), array(2.8571345), array(481.12564015), array(8.14590419), array(868.26322977), array(16.90235575), array(14935.13929669), array(0.02016822), array(0.0016513), array(0.18478988), array(156.39578442), array(0.00068211), array(277.44146244), array(0.14428308), array(9.33830148), array(861.94806243), array(3.30439735), array(2902.62960549), array(0.00458284), array(0.00190414), array(4.55728187), array(970.30198954), array(0.50194073), array(0.65653807), array(0.95680743), array(0.73302072), array(628.17706923), array(0.00158815), array(61.98471986), array(0.10523722), array(15.17124648), array(843.32088285), array(411.76061121), array(383729.73344652), array(0.44889017), array(0.0035043), array(169.94057725), array(0.2885239), array(0.55244819), array(461.76675949), array(0.00294764), array(5.89036095), array(0.20109252), array(387.03152014), array(0.21861763), array(0.00388944), array(312.39922847), array(0.01577016), array(5.21119742), 1]\n",
      "pancreas_412.dcm\n"
     ]
    },
    {
     "name": "stderr",
     "output_type": "stream",
     "text": [
      "GLCM is symmetrical, therefore Sum Average = 2 * Joint Average, only 1 needs to be calculated\n",
      "GLCM is symmetrical, therefore Sum Average = 2 * Joint Average, only 1 needs to be calculated\n"
     ]
    },
    {
     "name": "stdout",
     "output_type": "stream",
     "text": [
      "[0.20051333890716014, 0.0, 0.0, 145.81799280812868, array(35.234375), array(80.78125), array(117.70928108), array(117.70928108), array(1524.37795003), 29.238452610698143, array(0.19189893), array(3337.90009502), array(2.18968012), 1586.3525390625, array(-97.), array(75.), array(8863459.), array(3.24640149), array(100.), array(2.27259493), array(161.), array(53.98548995), array(2.99022346), array(19.), array(-187.), array(348.), array(40.94883433), array(64.23688629), array(-0.49948062), array(6545889.52026367), array(0.12271343), array(4117.43612416), array(81.37784852), array(1249.24437436), array(-72.07741022), array(23.42068536), array(2.6553756), array(0.79616543), array(1.23200404), array(2.00036128), array(1.12738189), array(0.56375713), array(0.51771039), array(0.98863771), array(0.92789944), array(-0.21823354), array(0.86670169), array(0.46923349), array(8.7284619), array(0.02715835), array(5.73776661), array(0.85259925), array(0.0730818), array(17.4569238), array(4.03515076), array(6.51901524), array(5.56370077), array(432.32495345), array(0.2012686), array(2.02361037), array(263.58845438), array(6.64111845), array(81.34124767), array(10.79050279), array(885.26117318), array(0.21227416), array(0.0209578), array(0.27196908), array(22.16237107), array(0.00678056), array(187.02995814), array(0.11534889), array(6.8108982), array(81.19498982), array(2.2143232), array(180.89979616), array(0.04504419), array(0.02143657), array(4.32296131), array(997.25695875), array(0.61430881), array(0.75488827), array(0.45588527), array(0.81179888), array(65.83912624), array(0.01777158), array(66.), array(0.09792285), array(7.94135944), array(80.09050445), array(47.51632047), array(4319.39910979), array(0.73825961), array(0.02478078), array(215.19881306), array(0.31928607), array(0.58495221), array(47.82090384), array(0.01614065), array(5.70028237), array(0.31378026), array(37.35971084), array(1.41251217), array(0.00476563), array(83.84049776), array(0.05693586), array(0.39906456), 1]\n",
      "pancreas_413.dcm\n",
      "[0.21263665396444176, 0.0, 0.0, 163.8499287549775, array(49.84375), array(71.328125), array(143.76241879), array(143.76241879), array(2697.46398926), 34.84050060277058, array(0.16201393), array(5784.09677062), array(2.1442721), 2779.8095703125, array(40.), array(116.), array(28206373.), array(2.43721201), array(35.), array(5.51684568), array(188.), array(24.95009591), array(79.28985122), array(83.), array(-95.), array(283.), array(15.15259241), array(86.56629195), array(-0.9462217), array(20831122.63793945), array(0.23962301), array(1206.84239435), array(60.96258027), array(205.32324783), array(-13.54291426), array(5.86573528), array(1.40571739), array(0.61244223), array(0.85984676), array(1.63389422), array(0.65603438), array(0.64773364), array(0.62346583), array(0.99056013), array(0.93672914), array(-0.14134884), array(0.68788831), array(0.49963945), array(7.73611275), array(0.07769439), array(4.41049639), array(0.67363499), array(0.17682789), array(15.4722255), array(3.17237879), array(1.81786317), array(4.98575378), array(614.79277365), array(0.16333496), array(2.86669759), array(901.94102019), array(2.02170593), array(61.10812965), array(16.9272051), array(1065.35201913), array(0.30201711), array(0.02096309), array(0.17582499), array(10.15111788), array(0.00484928), array(515.30214153), array(0.2085504), array(2.40587825), array(60.28820645), array(3.30662928), array(205.168021), array(0.06373932), array(0.02237046), array(3.94327792), array(1254.62073337), array(0.50452186), array(0.65628321), array(0.94954757), array(0.73521371), array(43.76309649), array(0.01738638), array(115.16804408), array(0.15863367), array(3.88544536), array(56.55785124), array(672.16528926), array(42966.6322314), array(10.62850399), array(0.02913543), array(184.21487603), array(0.2537395), array(0.51209608), array(28.48349037), array(0.01658826), array(5.50009579), array(0.19287991), array(645.28549204), array(3.6273747), array(0.00220105), array(40.46599537), array(0.01919134), array(0.15618814), 1]\n"
     ]
    },
    {
     "name": "stderr",
     "output_type": "stream",
     "text": [
      "GLCM is symmetrical, therefore Sum Average = 2 * Joint Average, only 1 needs to be calculated\n"
     ]
    },
    {
     "name": "stdout",
     "output_type": "stream",
     "text": [
      "pancreas_414.dcm\n",
      "[0.299326433752209, 0.0, 0.0, 114.26956062344198, array(54.140625), array(67.890625), array(109.59979689), array(109.59979689), array(1206.07350667), 34.20390006784674, array(0.19932802), array(2748.93803769), array(2.27924585), 1285.772705078125, array(69.), array(177.), array(31459304.), array(2.86939826), array(48.), array(5.33395977), array(351.), array(34.28966233), array(125.69902355), array(131.), array(-108.), array(459.), array(20.72283929), array(134.42349088), array(-0.85231048), array(23233494.77539062), array(0.17962667), array(2269.43037814), array(115.53874007), array(605.16623741), array(-29.06831681), array(10.39793625), array(2.4194271), array(0.6232468), array(1.16152453), array(1.93352968), array(1.05807926), array(0.57758597), array(0.53631454), array(0.99409165), array(0.9472646), array(-0.13783457), array(0.72623603), array(0.48491743), array(10.6557043), array(0.04530599), array(5.18630148), array(0.70652397), array(0.11094235), array(21.31140859), array(3.58210681), array(3.20434084), array(5.19436334), array(336.28087306), array(0.19315386), array(2.16763524), array(312.73004021), array(3.71082462), array(115.05514072), array(11.11257898), array(1315.37679495), array(0.10408305), array(0.01133048), array(0.27726934), array(29.990446), array(0.00437591), array(212.41870259), array(0.16240976), array(4.20168311), array(113.92717938), array(2.28407601), array(265.95012194), array(0.02384982), array(0.01199896), array(3.99608635), array(805.31548085), array(0.61490894), array(0.75114877), array(0.50599244), array(0.81227838), array(91.72556102), array(0.01022423), array(67.78842676), array(0.12258305), array(6.23200102), array(108.08499096), array(76.49005425), array(9163.25678119), array(0.65847944), array(0.01536972), array(189.81012658), array(0.34323712), array(0.60613788), array(63.22513432), array(0.01111749), array(5.4051493), array(0.31763354), array(66.57837408), array(0.85153458), array(0.00467359), array(115.65889843), array(0.02299759), array(0.76287006), 1]\n",
      "pancreas_415.dcm\n"
     ]
    },
    {
     "name": "stderr",
     "output_type": "stream",
     "text": [
      "GLCM is symmetrical, therefore Sum Average = 2 * Joint Average, only 1 needs to be calculated\n",
      "GLCM is symmetrical, therefore Sum Average = 2 * Joint Average, only 1 needs to be calculated\n"
     ]
    },
    {
     "name": "stdout",
     "output_type": "stream",
     "text": [
      "[0.23896709689157633, 0.0, 0.0, 267.30089453377406, array(110.), array(148.671875), array(171.71379159), array(171.71379159), array(1465.234375), 63.8761187632574, array(0.18814283), array(3315.89810225), array(2.26304962), 1555.33447265625, array(40.), array(98.), array(12131474.), array(2.08793707), array(26.), array(10.50620774), array(289.), array(20.85221711), array(68.71035138), array(74.), array(-94.), array(383.), array(11.3675637), array(75.897523), array(-2.01786306), array(8959401.57470703), array(0.31092551), array(1039.32161175), array(54.94568871), array(206.43423401), array(-19.8356435), array(4.36661675), array(0.68568941), array(0.72455991), array(0.54822288), array(1.27099981), array(0.38023074), array(0.74750507), array(0.7396164), array(0.99734707), array(0.96819541), array(-0.2145423), array(0.74436557), array(0.44003393), array(7.35017114), array(0.14093194), array(3.49190697), array(0.86458296), array(0.24804334), array(14.70034229), array(2.7537459), array(1.26307654), array(4.89324296), array(280.19848053), array(0.13304771), array(4.13799581), array(654.80911681), array(1.7703448), array(54.61206078), array(26.68471035), array(1504.31956315), array(0.5841449), array(0.02972292), array(0.12212264), array(6.39667407), array(0.00580986), array(285.67993089), array(0.2550149), array(2.40479558), array(53.44287305), array(5.88071858), array(329.85739336), array(0.14461636), array(0.03542826), array(4.11234137), array(442.88070518), array(0.39088749), array(0.53145774), array(2.24081119), array(0.64001109), array(33.65255315), array(0.02637467), array(42.16862745), array(0.16536717), array(4.61336409), array(51.22745098), array(2077.81176471), array(123063.78431373), array(36.18592633), array(0.05250893), array(68.0745098), array(0.26695886), array(0.53223273), array(27.63442146), array(0.03107841), array(5.27893398), array(0.12108262), array(2009.60359862), array(1.86304017), array(0.00404883), array(33.0041009), array(0.01181207), array(0.48563543), 1]\n",
      "pancreas_416.dcm\n",
      "[0.7239665722556196, 0.0, 0.0, 53.69203911213496, array(42.109375), array(55.), array(55.42802202), array(55.42802202), array(884.38415527), 38.871241513427, array(0.22353627), array(1993.25754805), array(2.25383679), 930.5419921875, array(3.9), array(96.), array(5601804.), array(2.51060854), array(44.), array(3.83152848), array(137.), array(28.72284706), array(55.43968254), array(63.), array(-95.), array(232.), array(19.23549371), array(66.6774039), array(-0.9645577), array(4137074.48730469), array(0.21348702), array(1372.31779038), array(47.39268579), array(219.91054637), array(-21.40330774), array(7.47047652), array(1.24254536), array(0.71515436), array(0.79705639), array(1.55263264), array(0.58677501), array(0.66587462), array(0.64499473), array(0.98810424), array(0.9307635), array(-0.20956235), array(0.78929483), array(0.49306076), array(6.77018286), array(0.0701003), array(4.44584668), array(0.76266305), array(0.14098259), array(13.54036572), array(3.30857238), array(2.17825547), array(5.1133132), array(205.73968254), array(0.16328546), array(2.86945326), array(268.99365079), array(2.24205782), array(47.61190476), array(17.64920635), array(877.81031746), array(0.43220213), array(0.03024004), array(0.16100006), array(7.12091785), array(0.00705754), array(156.43158301), array(0.19234171), array(2.55631283), array(46.60251198), array(3.54009002), array(173.29638944), array(0.09477777), array(0.03312361), array(4.01142361), array(403.92584723), array(0.48860488), array(0.64444444), array(1.01215097), array(0.72084803), array(32.97518405), array(0.02571588), array(33.97797357), array(0.1496827), array(3.66876904), array(43.24229075), array(167.3215859), array(8523.3876652), array(3.59345716), array(0.04645247), array(47.94273128), array(0.21120146), array(0.45971528), array(19.28837807), array(0.02574002), array(5.47558273), array(0.18015873), array(136.51175066), array(1.66023487), array(0.0073085), array(25.79542429), array(0.02889589), array(0.32894833), 1]\n",
      "pancreas_418.dcm\n"
     ]
    },
    {
     "name": "stderr",
     "output_type": "stream",
     "text": [
      "GLCM is symmetrical, therefore Sum Average = 2 * Joint Average, only 1 needs to be calculated\n",
      "GLCM is symmetrical, therefore Sum Average = 2 * Joint Average, only 1 needs to be calculated\n"
     ]
    },
    {
     "name": "stdout",
     "output_type": "stream",
     "text": [
      "[0.3112196537522292, 0.0, 0.0, 170.2124240249682, array(48.984375), array(108.28125), array(182.80665723), array(182.80665723), array(2727.12809245), 52.97345166937822, array(0.1607663), array(5871.64071983), array(2.15304911), 2818.951416015625, array(70.), array(130.), array(42529586.), array(2.125382), array(28.), array(5.25677256), array(198.), array(19.36291973), array(102.08121561), array(104.), array(-40.), array(238.), array(11.86105357), array(105.55638236), array(-0.58489673), array(31409179.11376953), array(0.29778224), array(721.5752746), array(45.07059027), array(74.61046466), array(-3.12251501), array(3.7512585), array(0.76323735), array(0.6613159), array(0.59477274), array(1.31812836), array(0.40457621), array(0.72896028), array(0.71939091), array(0.99256277), array(0.94718091), array(-0.2117484), array(0.75645309), array(0.46322583), array(6.65759049), array(0.12695437), array(3.69028337), array(0.73198191), array(0.26570563), array(13.31518098), array(2.86194466), array(1.12862396), array(4.86669322), array(526.46712078), array(0.13792694), array(3.83455988), array(1136.63479172), array(1.24417528), array(44.98349489), array(25.53497511), array(1182.79538905), array(0.59661736), array(0.02651908), array(0.12159504), array(5.3179925), array(0.00469392), array(514.55674859), array(0.24819662), array(1.5799332), array(44.16199561), array(5.4886909), array(253.02356519), array(0.13285145), array(0.02888089), array(4.05766351), array(832.36289308), array(0.39779623), array(0.54270369), array(2.01275317), array(0.64802907), array(28.19160781), array(0.02028052), array(92.62637363), array(0.20357445), array(3.13087791), array(43.1956044), array(3561.05274725), array(174194.98021978), array(73.35485188), array(0.04045062), array(119.16263736), array(0.26189591), array(0.52498893), array(23.21734565), array(0.02574225), array(5.22480745), array(0.11920356), array(3490.67724188), array(4.76477761), array(0.00231469), array(21.24511103), array(0.01281558), array(0.12134141), 1]\n",
      "pancreas_419.dcm\n",
      "[0.27383477682839263, 0.0, 0.0, 128.56277894524146, array(34.375), array(71.328125), array(121.54916881), array(121.54916881), array(1934.0133667), 35.20495988090817, array(0.1793475), array(4185.63906468), array(2.16422448), 2003.619384765625, array(54.), array(178.), array(52309948.), array(2.90756111), array(34.), array(22.50929312), array(237.), array(46.24092732), array(104.70549208), array(119.), array(-557.), array(794.), array(17.03389298), array(138.85683028), array(-3.91393296), array(38632224.78027344), array(0.21345221), array(8317.9792437), array(783.98786923), array(57870.1691695), array(-1412.33586556), array(49.85888546), array(1.49479376), array(0.94168152), array(0.73397197), array(1.55968821), array(0.94272882), array(0.70764024), array(0.69257752), array(0.99865206), array(0.97900228), array(-0.3880887), array(0.94090507), array(0.44712848), array(27.78302827), array(0.09496323), array(4.57753869), array(0.9623775), array(0.22673704), array(55.56605654), array(3.66652227), array(12.83841981), array(5.57683086), array(356.07777368), array(0.13124872), array(4.25730911), array(579.09583487), array(13.36130077), array(781.07814228), array(24.43604865), array(19744.66678953), array(0.03343819), array(0.00231868), array(0.14293839), array(97.56465755), array(0.00087667), array(243.45838411), array(0.15868947), array(20.12627323), array(760.63845641), array(5.43941465), array(4338.98959246), array(0.00897587), array(0.00305778), array(4.88143706), array(675.36970591), array(0.43282582), array(0.5634906), array(2.10934234), array(0.67678848), array(501.06301856), array(0.00256078), array(34.57731959), array(0.0891168), array(43.92418828), array(657.50773196), array(899.43041237), array(724756.05412371), array(1.13383923), array(0.00681572), array(115.59278351), array(0.29791955), array(0.56138128), array(341.94700053), array(0.0051541), array(6.18094208), array(0.14301511), array(850.53860001), array(0.15530758), array(0.00418225), array(368.72657275), array(0.01323411), array(10.17253444), 1]\n",
      "pancreas_421.dcm\n"
     ]
    },
    {
     "name": "stderr",
     "output_type": "stream",
     "text": [
      "GLCM is symmetrical, therefore Sum Average = 2 * Joint Average, only 1 needs to be calculated\n"
     ]
    },
    {
     "name": "stdout",
     "output_type": "stream",
     "text": [
      "[0.2578146579980391, 0.0, 0.0, 161.59396090040056, array(35.234375), array(92.8125), array(141.23325485), array(141.23325485), array(2173.11096191), 41.66129176408527, array(0.17254766), array(4702.14821733), array(2.16378653), 2248.0712890625, array(-68.), array(91.), array(13843252.), array(3.06098395), array(80.), array(2.72736155), array(202.), array(48.73992223), array(31.31011827), array(51.), array(-137.), array(339.), array(34.72478477), array(67.43676651), array(-0.7775232), array(10223593.09082031), array(0.15154109), array(3567.39397121), array(65.96384288), array(1151.55179883), array(-80.06885798), array(19.89141878), array(2.34268752), array(0.78920431), array(1.11740398), array(1.92930379), array(1.08406841), array(0.59284975), array(0.55489649), array(0.98999186), array(0.93435368), array(-0.20850423), array(0.84378987), array(0.48051249), array(7.84705286), array(0.03994945), array(5.42269557), array(0.82426832), array(0.11389834), array(15.69410571), array(3.85810774), array(5.55852657), array(5.50435089), array(551.07293035), array(0.18103579), array(2.46096455), array(461.29106439), array(5.79271603), array(66.16622865), array(12.99145861), array(914.61760841), array(0.32696585), array(0.03194725), array(0.23601824), array(14.27468679), array(0.01129477), array(296.95810914), array(0.13562943), array(6.07099332), array(64.77589806), array(2.56101682), array(175.19303956), array(0.07256002), array(0.03446537), array(4.29383983), array(1262.63478315), array(0.57573448), array(0.71936597), array(0.6229735), array(0.78673999), array(50.12617824), array(0.02877585), array(89.40145103), array(0.10810333), array(7.21882535), array(59.2261185), array(146.29987908), array(11535.63724305), array(2.37727134), array(0.04735671), array(243.95525998), array(0.29498822), array(0.55771372), array(32.11805892), array(0.0326929), array(5.68134025), array(0.271682), array(132.75178271), array(2.03638573), array(0.00324675), array(75.95288081), array(0.04365112), array(0.30532166), 1]\n",
      "pancreas_healthy_0001.dcm\n"
     ]
    },
    {
     "ename": "ValueError",
     "evalue": "Image/Mask geometry mismatch. Potential fix: increase tolerance using geometryTolerance, see Documentation:Usage:Customizing the Extraction:Settings:geometryTolerance for more information",
     "output_type": "error",
     "traceback": [
      "\u001b[0;31m---------------------------------------------------------------------------\u001b[0m",
      "\u001b[0;31mRuntimeError\u001b[0m                              Traceback (most recent call last)",
      "\u001b[0;32m~/anaconda3/envs/Major_Proj/lib/python3.9/site-packages/radiomics/imageoperations.py\u001b[0m in \u001b[0;36m?\u001b[0;34m(imageNode, maskNode, **kwargs)\u001b[0m\n\u001b[1;32m    263\u001b[0m     \u001b[0;32mexcept\u001b[0m \u001b[0mRuntimeError\u001b[0m\u001b[0;34m:\u001b[0m\u001b[0;34m\u001b[0m\u001b[0;34m\u001b[0m\u001b[0m\n\u001b[1;32m    264\u001b[0m       \u001b[0mlogger\u001b[0m\u001b[0;34m.\u001b[0m\u001b[0mdebug\u001b[0m\u001b[0;34m(\u001b[0m\u001b[0;34m'Bounding box calculation with resampled mask failed'\u001b[0m\u001b[0;34m,\u001b[0m \u001b[0mexc_info\u001b[0m\u001b[0;34m=\u001b[0m\u001b[0;32mTrue\u001b[0m\u001b[0;34m)\u001b[0m\u001b[0;34m\u001b[0m\u001b[0;34m\u001b[0m\u001b[0m\n\u001b[0;32m--> 265\u001b[0;31m       \u001b[0;32mraise\u001b[0m \u001b[0mValueError\u001b[0m\u001b[0;34m(\u001b[0m\u001b[0;34m'Calculation of bounding box failed, for more information run with DEBUG logging and check log'\u001b[0m\u001b[0;34m)\u001b[0m\u001b[0;34m\u001b[0m\u001b[0;34m\u001b[0m\u001b[0m\n\u001b[0m\u001b[1;32m    266\u001b[0m \u001b[0;34m\u001b[0m\u001b[0m\n",
      "\u001b[0;32m~/anaconda3/envs/Major_Proj/lib/python3.9/site-packages/SimpleITK/SimpleITK.py\u001b[0m in \u001b[0;36m?\u001b[0;34m(self, image, labelImage)\u001b[0m\n\u001b[1;32m  37913\u001b[0m \u001b[0;34m\u001b[0m\u001b[0m\n\u001b[1;32m  37914\u001b[0m         \"\"\"\n\u001b[0;32m> 37915\u001b[0;31m         \u001b[0;32mreturn\u001b[0m \u001b[0m_SimpleITK\u001b[0m\u001b[0;34m.\u001b[0m\u001b[0mLabelStatisticsImageFilter_Execute\u001b[0m\u001b[0;34m(\u001b[0m\u001b[0mself\u001b[0m\u001b[0;34m,\u001b[0m \u001b[0mimage\u001b[0m\u001b[0;34m,\u001b[0m \u001b[0mlabelImage\u001b[0m\u001b[0;34m)\u001b[0m\u001b[0;34m\u001b[0m\u001b[0;34m\u001b[0m\u001b[0m\n\u001b[0m",
      "\u001b[0;31mRuntimeError\u001b[0m: Exception thrown in SimpleITK LabelStatisticsImageFilter_Execute: /tmp/SimpleITK-build/ITK-prefix/include/ITK-5.3/itkImageSink.hxx:239:\nITK ERROR: LabelStatisticsImageFilter(0x47d0960): Inputs do not occupy the same physical space! \nInputImage Origin: [0.0000000e+00, 0.0000000e+00, -2.0000000e+00], InputImagePrimary Origin: [0.0000000e+00, 0.0000000e+00, -1.2500000e+02]\n\tTolerance: 8.5937500e-07\n",
      "\nDuring handling of the above exception, another exception occurred:\n",
      "\u001b[0;31mValueError\u001b[0m                                Traceback (most recent call last)",
      "Cell \u001b[0;32mIn[18], line 8\u001b[0m\n\u001b[1;32m      6\u001b[0m \u001b[38;5;28mprint\u001b[39m(i)\n\u001b[1;32m      7\u001b[0m \u001b[38;5;66;03m# feature_vector = extractor.execute(sample_img,sample_mask)\u001b[39;00m\n\u001b[0;32m----> 8\u001b[0m feature_vector \u001b[38;5;241m=\u001b[39m \u001b[43mextractor\u001b[49m\u001b[38;5;241;43m.\u001b[39;49m\u001b[43mexecute\u001b[49m\u001b[43m(\u001b[49m\u001b[43msample_img\u001b[49m\u001b[43m,\u001b[49m\u001b[43msample_mask\u001b[49m\u001b[43m)\u001b[49m\n\u001b[1;32m     10\u001b[0m start_key \u001b[38;5;241m=\u001b[39m \u001b[38;5;124m'\u001b[39m\u001b[38;5;124moriginal_shape_Elongation\u001b[39m\u001b[38;5;124m'\u001b[39m\n\u001b[1;32m     11\u001b[0m start_index \u001b[38;5;241m=\u001b[39m \u001b[38;5;28mlist\u001b[39m(feature_vector\u001b[38;5;241m.\u001b[39mkeys())\u001b[38;5;241m.\u001b[39mindex(start_key)\n",
      "File \u001b[0;32m~/anaconda3/envs/Major_Proj/lib/python3.9/site-packages/radiomics/featureextractor.py:276\u001b[0m, in \u001b[0;36mRadiomicsFeatureExtractor.execute\u001b[0;34m(self, imageFilepath, maskFilepath, label, label_channel, voxelBased)\u001b[0m\n\u001b[1;32m    272\u001b[0m image, mask \u001b[38;5;241m=\u001b[39m \u001b[38;5;28mself\u001b[39m\u001b[38;5;241m.\u001b[39mloadImage(imageFilepath, maskFilepath, generalInfo, \u001b[38;5;241m*\u001b[39m\u001b[38;5;241m*\u001b[39m_settings)\n\u001b[1;32m    274\u001b[0m \u001b[38;5;66;03m# 2. Check whether loaded mask contains a valid ROI for feature extraction and get bounding box\u001b[39;00m\n\u001b[1;32m    275\u001b[0m \u001b[38;5;66;03m# Raises a ValueError if the ROI is invalid\u001b[39;00m\n\u001b[0;32m--> 276\u001b[0m boundingBox, correctedMask \u001b[38;5;241m=\u001b[39m \u001b[43mimageoperations\u001b[49m\u001b[38;5;241;43m.\u001b[39;49m\u001b[43mcheckMask\u001b[49m\u001b[43m(\u001b[49m\u001b[43mimage\u001b[49m\u001b[43m,\u001b[49m\u001b[43m \u001b[49m\u001b[43mmask\u001b[49m\u001b[43m,\u001b[49m\u001b[43m \u001b[49m\u001b[38;5;241;43m*\u001b[39;49m\u001b[38;5;241;43m*\u001b[39;49m\u001b[43m_settings\u001b[49m\u001b[43m)\u001b[49m\n\u001b[1;32m    278\u001b[0m \u001b[38;5;66;03m# Update the mask if it had to be resampled\u001b[39;00m\n\u001b[1;32m    279\u001b[0m \u001b[38;5;28;01mif\u001b[39;00m correctedMask \u001b[38;5;129;01mis\u001b[39;00m \u001b[38;5;129;01mnot\u001b[39;00m \u001b[38;5;28;01mNone\u001b[39;00m:\n",
      "File \u001b[0;32m~/anaconda3/envs/Major_Proj/lib/python3.9/site-packages/radiomics/imageoperations.py:250\u001b[0m, in \u001b[0;36mcheckMask\u001b[0;34m(imageNode, maskNode, **kwargs)\u001b[0m\n\u001b[1;32m    248\u001b[0m \u001b[38;5;28;01melif\u001b[39;00m \u001b[38;5;124m\"\u001b[39m\u001b[38;5;124mInputs do not occupy the same physical space!\u001b[39m\u001b[38;5;124m\"\u001b[39m \u001b[38;5;129;01min\u001b[39;00m e\u001b[38;5;241m.\u001b[39margs[\u001b[38;5;241m0\u001b[39m]:\n\u001b[1;32m    249\u001b[0m   logger\u001b[38;5;241m.\u001b[39mdebug(\u001b[38;5;124m'\u001b[39m\u001b[38;5;124mAdditional information on error.\u001b[39m\u001b[38;5;124m'\u001b[39m, exc_info\u001b[38;5;241m=\u001b[39m\u001b[38;5;28;01mTrue\u001b[39;00m)\n\u001b[0;32m--> 250\u001b[0m   \u001b[38;5;28;01mraise\u001b[39;00m \u001b[38;5;167;01mValueError\u001b[39;00m(\u001b[38;5;124m'\u001b[39m\u001b[38;5;124mImage/Mask geometry mismatch. Potential fix: increase tolerance using geometryTolerance, \u001b[39m\u001b[38;5;124m'\u001b[39m\n\u001b[1;32m    251\u001b[0m                    \u001b[38;5;124m'\u001b[39m\u001b[38;5;124msee Documentation:Usage:Customizing the Extraction:Settings:geometryTolerance for more \u001b[39m\u001b[38;5;124m'\u001b[39m\n\u001b[1;32m    252\u001b[0m                    \u001b[38;5;124m'\u001b[39m\u001b[38;5;124minformation\u001b[39m\u001b[38;5;124m'\u001b[39m)\n\u001b[1;32m    253\u001b[0m \u001b[38;5;28;01melse\u001b[39;00m:\n\u001b[1;32m    254\u001b[0m   \u001b[38;5;28;01mraise\u001b[39;00m e  \u001b[38;5;66;03m# unhandled error\u001b[39;00m\n",
      "\u001b[0;31mValueError\u001b[0m: Image/Mask geometry mismatch. Potential fix: increase tolerance using geometryTolerance, see Documentation:Usage:Customizing the Extraction:Settings:geometryTolerance for more information"
     ]
    }
   ],
   "source": [
    "count = 0\n",
    "l = []\n",
    "for i in os.listdir(tumor_path_slice):\n",
    "    sample_img = sitk.ReadImage(tumor_path_slice+i)\n",
    "    sample_mask = sitk.ReadImage(tumor_path_mask + i)\n",
    "    print(i)\n",
    "    # feature_vector = extractor.execute(sample_img,sample_mask)\n",
    "    feature_vector = extractor.execute(sample_img,sample_mask)\n",
    "\n",
    "    start_key = 'original_shape_Elongation'\n",
    "    start_index = list(feature_vector.keys()).index(start_key)\n",
    "    # keys_from_start = list(feature_vector.keys())[list(feature_vector.keys()).index(start_key):]\n",
    "    # count = len(keys_from_start)\n",
    "    # values_array = np.empty((0, count), dtype=float)\n",
    "    \n",
    "    l1 = []\n",
    "\n",
    "    # for key, value in feature_vector.items():\n",
    "    for key, value in islice(feature_vector.items(), start_index, None):\n",
    "\n",
    "        # print(\"\\t\", count,key, \":\", value)\n",
    "        l1.append(value)\n",
    "    l1.append(1) #tumor label\n",
    "    print(l1)\n",
    "    l.append(l1)\n",
    "    # count+=1\n",
    "    # if count == 2:\n",
    "    #     break\n",
    "\n",
    "# values_array = np.array(l).flatten()\n",
    "df2 = pd.DataFrame(l)\n",
    "\n"
   ]
  },
  {
   "cell_type": "code",
   "execution_count": 16,
   "metadata": {},
   "outputs": [],
   "source": [
    "# existing_df = pd.read_csv('featuresvalues_nomask.csv')\n",
    "# combined_df = pd.concat([existing_df, df2], ignore_index=True)\n"
   ]
  },
  {
   "cell_type": "code",
   "execution_count": 137,
   "metadata": {},
   "outputs": [
    {
     "data": {
      "text/html": [
       "<div>\n",
       "<style scoped>\n",
       "    .dataframe tbody tr th:only-of-type {\n",
       "        vertical-align: middle;\n",
       "    }\n",
       "\n",
       "    .dataframe tbody tr th {\n",
       "        vertical-align: top;\n",
       "    }\n",
       "\n",
       "    .dataframe thead th {\n",
       "        text-align: right;\n",
       "    }\n",
       "</style>\n",
       "<table border=\"1\" class=\"dataframe\">\n",
       "  <thead>\n",
       "    <tr style=\"text-align: right;\">\n",
       "      <th></th>\n",
       "      <th>0</th>\n",
       "      <th>1</th>\n",
       "      <th>2</th>\n",
       "      <th>3</th>\n",
       "      <th>4</th>\n",
       "      <th>5</th>\n",
       "      <th>6</th>\n",
       "      <th>7</th>\n",
       "      <th>8</th>\n",
       "      <th>9</th>\n",
       "      <th>...</th>\n",
       "      <th>98</th>\n",
       "      <th>99</th>\n",
       "      <th>100</th>\n",
       "      <th>101</th>\n",
       "      <th>102</th>\n",
       "      <th>103</th>\n",
       "      <th>104</th>\n",
       "      <th>105</th>\n",
       "      <th>106</th>\n",
       "      <th>107</th>\n",
       "    </tr>\n",
       "  </thead>\n",
       "  <tbody>\n",
       "    <tr>\n",
       "      <th>0</th>\n",
       "      <td>0.319353</td>\n",
       "      <td>0.0</td>\n",
       "      <td>0.0</td>\n",
       "      <td>125.477002</td>\n",
       "      <td>44.6875</td>\n",
       "      <td>117.734375</td>\n",
       "      <td>135.06411689944937</td>\n",
       "      <td>135.06411689944937</td>\n",
       "      <td>2673.338826497396</td>\n",
       "      <td>40.071452</td>\n",
       "      <td>...</td>\n",
       "      <td>0.015075588741027332</td>\n",
       "      <td>5.958638131602298</td>\n",
       "      <td>0.11200861604738827</td>\n",
       "      <td>2523.2688378328403</td>\n",
       "      <td>2.4734127080725186</td>\n",
       "      <td>0.003322937642737608</td>\n",
       "      <td>29.072920761839878</td>\n",
       "      <td>0.014504019216376075</td>\n",
       "      <td>0.22748593237226888</td>\n",
       "      <td>1</td>\n",
       "    </tr>\n",
       "    <tr>\n",
       "      <th>1</th>\n",
       "      <td>0.268981</td>\n",
       "      <td>0.0</td>\n",
       "      <td>0.0</td>\n",
       "      <td>171.110519</td>\n",
       "      <td>51.5625</td>\n",
       "      <td>126.328125</td>\n",
       "      <td>189.46246755314922</td>\n",
       "      <td>189.46246755314922</td>\n",
       "      <td>3624.559529622396</td>\n",
       "      <td>46.025407</td>\n",
       "      <td>...</td>\n",
       "      <td>0.0010820408064961674</td>\n",
       "      <td>5.979360876467228</td>\n",
       "      <td>0.30039447731755425</td>\n",
       "      <td>63.4026218253792</td>\n",
       "      <td>0.31235458943818</td>\n",
       "      <td>0.002028369053056193</td>\n",
       "      <td>456.0737890922797</td>\n",
       "      <td>0.02304793951449172</td>\n",
       "      <td>3.7118661747983235</td>\n",
       "      <td>1</td>\n",
       "    </tr>\n",
       "    <tr>\n",
       "      <th>2</th>\n",
       "      <td>0.316529</td>\n",
       "      <td>0.0</td>\n",
       "      <td>0.0</td>\n",
       "      <td>124.029475</td>\n",
       "      <td>42.109375</td>\n",
       "      <td>71.328125</td>\n",
       "      <td>115.87230731094682</td>\n",
       "      <td>115.87230731094682</td>\n",
       "      <td>2473.1369018554688</td>\n",
       "      <td>39.258905</td>\n",
       "      <td>...</td>\n",
       "      <td>0.015852943354319127</td>\n",
       "      <td>6.106666026018024</td>\n",
       "      <td>0.3063953488372093</td>\n",
       "      <td>35.45035628256322</td>\n",
       "      <td>1.6052752212276613</td>\n",
       "      <td>0.004038457378769162</td>\n",
       "      <td>93.57757115900482</td>\n",
       "      <td>0.05900193644162779</td>\n",
       "      <td>0.4093719814977384</td>\n",
       "      <td>1</td>\n",
       "    </tr>\n",
       "    <tr>\n",
       "      <th>3</th>\n",
       "      <td>0.372188</td>\n",
       "      <td>0.0</td>\n",
       "      <td>0.0</td>\n",
       "      <td>168.512073</td>\n",
       "      <td>52.421875</td>\n",
       "      <td>124.609375</td>\n",
       "      <td>153.08698906407142</td>\n",
       "      <td>153.08698906407142</td>\n",
       "      <td>3805.9906005859375</td>\n",
       "      <td>62.718251</td>\n",
       "      <td>...</td>\n",
       "      <td>0.005313424040567724</td>\n",
       "      <td>6.274623920537312</td>\n",
       "      <td>0.2690124858115778</td>\n",
       "      <td>71.5712759707312</td>\n",
       "      <td>0.7670729469340942</td>\n",
       "      <td>0.0025704887627116257</td>\n",
       "      <td>351.2048568126156</td>\n",
       "      <td>0.012381600476227267</td>\n",
       "      <td>1.786179920974602</td>\n",
       "      <td>1</td>\n",
       "    </tr>\n",
       "    <tr>\n",
       "      <th>4</th>\n",
       "      <td>0.393667</td>\n",
       "      <td>0.0</td>\n",
       "      <td>0.0</td>\n",
       "      <td>134.186998</td>\n",
       "      <td>48.125</td>\n",
       "      <td>128.046875</td>\n",
       "      <td>141.9426334180137</td>\n",
       "      <td>141.9426334180137</td>\n",
       "      <td>2849.7233072916665</td>\n",
       "      <td>52.824930</td>\n",
       "      <td>...</td>\n",
       "      <td>0.010695050239523727</td>\n",
       "      <td>5.609934940857669</td>\n",
       "      <td>0.43240531728116377</td>\n",
       "      <td>7.162693931987878</td>\n",
       "      <td>2.3075076835624206</td>\n",
       "      <td>0.00242398827399038</td>\n",
       "      <td>135.19054989600215</td>\n",
       "      <td>0.061111191048560505</td>\n",
       "      <td>0.24394107914643753</td>\n",
       "      <td>1</td>\n",
       "    </tr>\n",
       "    <tr>\n",
       "      <th>...</th>\n",
       "      <td>...</td>\n",
       "      <td>...</td>\n",
       "      <td>...</td>\n",
       "      <td>...</td>\n",
       "      <td>...</td>\n",
       "      <td>...</td>\n",
       "      <td>...</td>\n",
       "      <td>...</td>\n",
       "      <td>...</td>\n",
       "      <td>...</td>\n",
       "      <td>...</td>\n",
       "      <td>...</td>\n",
       "      <td>...</td>\n",
       "      <td>...</td>\n",
       "      <td>...</td>\n",
       "      <td>...</td>\n",
       "      <td>...</td>\n",
       "      <td>...</td>\n",
       "      <td>...</td>\n",
       "      <td>...</td>\n",
       "      <td>...</td>\n",
       "    </tr>\n",
       "    <tr>\n",
       "      <th>276</th>\n",
       "      <td>0.238967</td>\n",
       "      <td>0.0</td>\n",
       "      <td>0.0</td>\n",
       "      <td>267.300895</td>\n",
       "      <td>110.0</td>\n",
       "      <td>148.671875</td>\n",
       "      <td>171.71379158560075</td>\n",
       "      <td>171.71379158560075</td>\n",
       "      <td>1465.234375</td>\n",
       "      <td>63.876119</td>\n",
       "      <td>...</td>\n",
       "      <td>0.03107841255284417</td>\n",
       "      <td>5.27893397681653</td>\n",
       "      <td>0.12108262108262108</td>\n",
       "      <td>2009.6035986159168</td>\n",
       "      <td>1.8630401731242003</td>\n",
       "      <td>0.004048834884730607</td>\n",
       "      <td>33.004100902009554</td>\n",
       "      <td>0.01181206952043329</td>\n",
       "      <td>0.48563542975767543</td>\n",
       "      <td>1</td>\n",
       "    </tr>\n",
       "    <tr>\n",
       "      <th>277</th>\n",
       "      <td>0.723967</td>\n",
       "      <td>0.0</td>\n",
       "      <td>0.0</td>\n",
       "      <td>53.692039</td>\n",
       "      <td>42.109375</td>\n",
       "      <td>55.0</td>\n",
       "      <td>55.42802201955253</td>\n",
       "      <td>55.42802201955253</td>\n",
       "      <td>884.3841552734375</td>\n",
       "      <td>38.871242</td>\n",
       "      <td>...</td>\n",
       "      <td>0.025740015643293552</td>\n",
       "      <td>5.475582726190385</td>\n",
       "      <td>0.18015873015873016</td>\n",
       "      <td>136.51175066467425</td>\n",
       "      <td>1.6602348714759878</td>\n",
       "      <td>0.007308495258441072</td>\n",
       "      <td>25.79542429277053</td>\n",
       "      <td>0.028895892413297722</td>\n",
       "      <td>0.3289483330210888</td>\n",
       "      <td>1</td>\n",
       "    </tr>\n",
       "    <tr>\n",
       "      <th>278</th>\n",
       "      <td>0.311220</td>\n",
       "      <td>0.0</td>\n",
       "      <td>0.0</td>\n",
       "      <td>170.212424</td>\n",
       "      <td>48.984375</td>\n",
       "      <td>108.28125</td>\n",
       "      <td>182.80665722500711</td>\n",
       "      <td>182.80665722500711</td>\n",
       "      <td>2727.1280924479165</td>\n",
       "      <td>52.973452</td>\n",
       "      <td>...</td>\n",
       "      <td>0.025742248713989176</td>\n",
       "      <td>5.224807454661802</td>\n",
       "      <td>0.11920356300759759</td>\n",
       "      <td>3490.677241879</td>\n",
       "      <td>4.764777606796399</td>\n",
       "      <td>0.0023146907909288934</td>\n",
       "      <td>21.245111029283912</td>\n",
       "      <td>0.012815576371571907</td>\n",
       "      <td>0.12134141351927286</td>\n",
       "      <td>1</td>\n",
       "    </tr>\n",
       "    <tr>\n",
       "      <th>279</th>\n",
       "      <td>0.273835</td>\n",
       "      <td>0.0</td>\n",
       "      <td>0.0</td>\n",
       "      <td>128.562779</td>\n",
       "      <td>34.375</td>\n",
       "      <td>71.328125</td>\n",
       "      <td>121.54916881432437</td>\n",
       "      <td>121.54916881432437</td>\n",
       "      <td>1934.0133666992188</td>\n",
       "      <td>35.204960</td>\n",
       "      <td>...</td>\n",
       "      <td>0.005154103796811874</td>\n",
       "      <td>6.180942079835593</td>\n",
       "      <td>0.14301511242167342</td>\n",
       "      <td>850.538600010628</td>\n",
       "      <td>0.15530758462052446</td>\n",
       "      <td>0.004182251260972373</td>\n",
       "      <td>368.72657275059447</td>\n",
       "      <td>0.013234105276004559</td>\n",
       "      <td>10.172534443253504</td>\n",
       "      <td>1</td>\n",
       "    </tr>\n",
       "    <tr>\n",
       "      <th>280</th>\n",
       "      <td>0.257815</td>\n",
       "      <td>0.0</td>\n",
       "      <td>0.0</td>\n",
       "      <td>161.593961</td>\n",
       "      <td>35.234375</td>\n",
       "      <td>92.8125</td>\n",
       "      <td>141.23325484952412</td>\n",
       "      <td>141.23325484952412</td>\n",
       "      <td>2173.1109619140625</td>\n",
       "      <td>41.661292</td>\n",
       "      <td>...</td>\n",
       "      <td>0.03269289631618693</td>\n",
       "      <td>5.681340251963211</td>\n",
       "      <td>0.2716819973718791</td>\n",
       "      <td>132.7517827142876</td>\n",
       "      <td>2.0363857282487277</td>\n",
       "      <td>0.0032467532838569403</td>\n",
       "      <td>75.95288081319913</td>\n",
       "      <td>0.04365111804766902</td>\n",
       "      <td>0.30532165661979377</td>\n",
       "      <td>1</td>\n",
       "    </tr>\n",
       "  </tbody>\n",
       "</table>\n",
       "<p>281 rows × 108 columns</p>\n",
       "</div>"
      ],
      "text/plain": [
       "          0    1    2           3          4           5    \\\n",
       "0    0.319353  0.0  0.0  125.477002    44.6875  117.734375   \n",
       "1    0.268981  0.0  0.0  171.110519    51.5625  126.328125   \n",
       "2    0.316529  0.0  0.0  124.029475  42.109375   71.328125   \n",
       "3    0.372188  0.0  0.0  168.512073  52.421875  124.609375   \n",
       "4    0.393667  0.0  0.0  134.186998     48.125  128.046875   \n",
       "..        ...  ...  ...         ...        ...         ...   \n",
       "276  0.238967  0.0  0.0  267.300895      110.0  148.671875   \n",
       "277  0.723967  0.0  0.0   53.692039  42.109375        55.0   \n",
       "278  0.311220  0.0  0.0  170.212424  48.984375   108.28125   \n",
       "279  0.273835  0.0  0.0  128.562779     34.375   71.328125   \n",
       "280  0.257815  0.0  0.0  161.593961  35.234375     92.8125   \n",
       "\n",
       "                    6                   7                   8          9    \\\n",
       "0    135.06411689944937  135.06411689944937   2673.338826497396  40.071452   \n",
       "1    189.46246755314922  189.46246755314922   3624.559529622396  46.025407   \n",
       "2    115.87230731094682  115.87230731094682  2473.1369018554688  39.258905   \n",
       "3    153.08698906407142  153.08698906407142  3805.9906005859375  62.718251   \n",
       "4     141.9426334180137   141.9426334180137  2849.7233072916665  52.824930   \n",
       "..                  ...                 ...                 ...        ...   \n",
       "276  171.71379158560075  171.71379158560075         1465.234375  63.876119   \n",
       "277   55.42802201955253   55.42802201955253   884.3841552734375  38.871242   \n",
       "278  182.80665722500711  182.80665722500711  2727.1280924479165  52.973452   \n",
       "279  121.54916881432437  121.54916881432437  1934.0133666992188  35.204960   \n",
       "280  141.23325484952412  141.23325484952412  2173.1109619140625  41.661292   \n",
       "\n",
       "     ...                    98                 99                   100  \\\n",
       "0    ...   0.015075588741027332  5.958638131602298  0.11200861604738827   \n",
       "1    ...  0.0010820408064961674  5.979360876467228  0.30039447731755425   \n",
       "2    ...   0.015852943354319127  6.106666026018024   0.3063953488372093   \n",
       "3    ...   0.005313424040567724  6.274623920537312   0.2690124858115778   \n",
       "4    ...   0.010695050239523727  5.609934940857669  0.43240531728116377   \n",
       "..   ...                    ...                ...                  ...   \n",
       "276  ...    0.03107841255284417   5.27893397681653  0.12108262108262108   \n",
       "277  ...   0.025740015643293552  5.475582726190385  0.18015873015873016   \n",
       "278  ...   0.025742248713989176  5.224807454661802  0.11920356300759759   \n",
       "279  ...   0.005154103796811874  6.180942079835593  0.14301511242167342   \n",
       "280  ...    0.03269289631618693  5.681340251963211   0.2716819973718791   \n",
       "\n",
       "                    101                  102                    103  \\\n",
       "0    2523.2688378328403   2.4734127080725186   0.003322937642737608   \n",
       "1      63.4026218253792     0.31235458943818   0.002028369053056193   \n",
       "2     35.45035628256322   1.6052752212276613   0.004038457378769162   \n",
       "3      71.5712759707312   0.7670729469340942  0.0025704887627116257   \n",
       "4     7.162693931987878   2.3075076835624206    0.00242398827399038   \n",
       "..                  ...                  ...                    ...   \n",
       "276  2009.6035986159168   1.8630401731242003   0.004048834884730607   \n",
       "277  136.51175066467425   1.6602348714759878   0.007308495258441072   \n",
       "278      3490.677241879    4.764777606796399  0.0023146907909288934   \n",
       "279    850.538600010628  0.15530758462052446   0.004182251260972373   \n",
       "280   132.7517827142876   2.0363857282487277  0.0032467532838569403   \n",
       "\n",
       "                    104                   105                  106 107  \n",
       "0    29.072920761839878  0.014504019216376075  0.22748593237226888   1  \n",
       "1     456.0737890922797   0.02304793951449172   3.7118661747983235   1  \n",
       "2     93.57757115900482   0.05900193644162779   0.4093719814977384   1  \n",
       "3     351.2048568126156  0.012381600476227267    1.786179920974602   1  \n",
       "4    135.19054989600215  0.061111191048560505  0.24394107914643753   1  \n",
       "..                  ...                   ...                  ...  ..  \n",
       "276  33.004100902009554   0.01181206952043329  0.48563542975767543   1  \n",
       "277   25.79542429277053  0.028895892413297722   0.3289483330210888   1  \n",
       "278  21.245111029283912  0.012815576371571907  0.12134141351927286   1  \n",
       "279  368.72657275059447  0.013234105276004559   10.172534443253504   1  \n",
       "280   75.95288081319913   0.04365111804766902  0.30532165661979377   1  \n",
       "\n",
       "[281 rows x 108 columns]"
      ]
     },
     "execution_count": 137,
     "metadata": {},
     "output_type": "execute_result"
    }
   ],
   "source": [
    "df2"
   ]
  },
  {
   "cell_type": "code",
   "execution_count": 139,
   "metadata": {},
   "outputs": [
    {
     "data": {
      "text/html": [
       "<div>\n",
       "<style scoped>\n",
       "    .dataframe tbody tr th:only-of-type {\n",
       "        vertical-align: middle;\n",
       "    }\n",
       "\n",
       "    .dataframe tbody tr th {\n",
       "        vertical-align: top;\n",
       "    }\n",
       "\n",
       "    .dataframe thead th {\n",
       "        text-align: right;\n",
       "    }\n",
       "</style>\n",
       "<table border=\"1\" class=\"dataframe\">\n",
       "  <thead>\n",
       "    <tr style=\"text-align: right;\">\n",
       "      <th></th>\n",
       "      <th>0.3127109595916861</th>\n",
       "      <th>0</th>\n",
       "      <th>0.1</th>\n",
       "      <th>96.62563027708785</th>\n",
       "      <th>85.9375</th>\n",
       "      <th>30.9375</th>\n",
       "      <th>90.33662361637306</th>\n",
       "      <th>90.33662361637306.1</th>\n",
       "      <th>1429.723612467448</th>\n",
       "      <th>30.21589356509962</th>\n",
       "      <th>...</th>\n",
       "      <th>0.021157813862456805</th>\n",
       "      <th>4.950082324840484</th>\n",
       "      <th>0.14035964035964035</th>\n",
       "      <th>1755.0841301401958</th>\n",
       "      <th>2.492707828465074</th>\n",
       "      <th>0.0042709</th>\n",
       "      <th>23.053272349551506</th>\n",
       "      <th>0.013156980919454725</th>\n",
       "      <th>0.2200573356780827</th>\n",
       "      <th>0.2</th>\n",
       "    </tr>\n",
       "  </thead>\n",
       "  <tbody>\n",
       "    <tr>\n",
       "      <th>0</th>\n",
       "      <td>0.702091</td>\n",
       "      <td>0</td>\n",
       "      <td>0</td>\n",
       "      <td>79.821001</td>\n",
       "      <td>61.992188</td>\n",
       "      <td>65.585938</td>\n",
       "      <td>78.452682</td>\n",
       "      <td>78.452682</td>\n",
       "      <td>2318.384043</td>\n",
       "      <td>56.041604</td>\n",
       "      <td>...</td>\n",
       "      <td>0.014458</td>\n",
       "      <td>5.678697</td>\n",
       "      <td>0.136410</td>\n",
       "      <td>559.907954</td>\n",
       "      <td>2.690750</td>\n",
       "      <td>0.003352</td>\n",
       "      <td>34.023626</td>\n",
       "      <td>0.019771</td>\n",
       "      <td>0.225209</td>\n",
       "      <td>0</td>\n",
       "    </tr>\n",
       "    <tr>\n",
       "      <th>1</th>\n",
       "      <td>0.691442</td>\n",
       "      <td>0</td>\n",
       "      <td>0</td>\n",
       "      <td>67.548490</td>\n",
       "      <td>64.414062</td>\n",
       "      <td>51.796875</td>\n",
       "      <td>70.155304</td>\n",
       "      <td>70.155304</td>\n",
       "      <td>2198.023097</td>\n",
       "      <td>46.705885</td>\n",
       "      <td>...</td>\n",
       "      <td>0.020683</td>\n",
       "      <td>7.113756</td>\n",
       "      <td>0.159100</td>\n",
       "      <td>1641.650580</td>\n",
       "      <td>0.073083</td>\n",
       "      <td>0.004445</td>\n",
       "      <td>1006.778331</td>\n",
       "      <td>0.121947</td>\n",
       "      <td>20.989892</td>\n",
       "      <td>0</td>\n",
       "    </tr>\n",
       "    <tr>\n",
       "      <th>2</th>\n",
       "      <td>0.207779</td>\n",
       "      <td>0</td>\n",
       "      <td>0</td>\n",
       "      <td>156.088068</td>\n",
       "      <td>78.164062</td>\n",
       "      <td>35.937500</td>\n",
       "      <td>132.375551</td>\n",
       "      <td>132.375551</td>\n",
       "      <td>1908.062490</td>\n",
       "      <td>32.431834</td>\n",
       "      <td>...</td>\n",
       "      <td>0.027838</td>\n",
       "      <td>5.966807</td>\n",
       "      <td>0.337106</td>\n",
       "      <td>22.895755</td>\n",
       "      <td>1.662553</td>\n",
       "      <td>0.006002</td>\n",
       "      <td>83.262073</td>\n",
       "      <td>0.079386</td>\n",
       "      <td>0.502555</td>\n",
       "      <td>0</td>\n",
       "    </tr>\n",
       "    <tr>\n",
       "      <th>3</th>\n",
       "      <td>0.282777</td>\n",
       "      <td>0</td>\n",
       "      <td>0</td>\n",
       "      <td>100.612953</td>\n",
       "      <td>52.338000</td>\n",
       "      <td>41.184000</td>\n",
       "      <td>95.669886</td>\n",
       "      <td>95.669886</td>\n",
       "      <td>1488.830343</td>\n",
       "      <td>28.451027</td>\n",
       "      <td>...</td>\n",
       "      <td>0.025614</td>\n",
       "      <td>5.595331</td>\n",
       "      <td>0.160192</td>\n",
       "      <td>811.998073</td>\n",
       "      <td>1.168050</td>\n",
       "      <td>0.005002</td>\n",
       "      <td>42.698793</td>\n",
       "      <td>0.015685</td>\n",
       "      <td>0.535532</td>\n",
       "      <td>0</td>\n",
       "    </tr>\n",
       "    <tr>\n",
       "      <th>4</th>\n",
       "      <td>0.298765</td>\n",
       "      <td>0</td>\n",
       "      <td>0</td>\n",
       "      <td>87.315608</td>\n",
       "      <td>50.625000</td>\n",
       "      <td>34.687500</td>\n",
       "      <td>85.193942</td>\n",
       "      <td>85.193942</td>\n",
       "      <td>1585.693359</td>\n",
       "      <td>26.086836</td>\n",
       "      <td>...</td>\n",
       "      <td>0.017960</td>\n",
       "      <td>5.987256</td>\n",
       "      <td>0.454203</td>\n",
       "      <td>7.534659</td>\n",
       "      <td>0.572064</td>\n",
       "      <td>0.007430</td>\n",
       "      <td>250.493007</td>\n",
       "      <td>0.090514</td>\n",
       "      <td>1.326377</td>\n",
       "      <td>0</td>\n",
       "    </tr>\n",
       "    <tr>\n",
       "      <th>...</th>\n",
       "      <td>...</td>\n",
       "      <td>...</td>\n",
       "      <td>...</td>\n",
       "      <td>...</td>\n",
       "      <td>...</td>\n",
       "      <td>...</td>\n",
       "      <td>...</td>\n",
       "      <td>...</td>\n",
       "      <td>...</td>\n",
       "      <td>...</td>\n",
       "      <td>...</td>\n",
       "      <td>...</td>\n",
       "      <td>...</td>\n",
       "      <td>...</td>\n",
       "      <td>...</td>\n",
       "      <td>...</td>\n",
       "      <td>...</td>\n",
       "      <td>...</td>\n",
       "      <td>...</td>\n",
       "      <td>...</td>\n",
       "      <td>...</td>\n",
       "    </tr>\n",
       "    <tr>\n",
       "      <th>74</th>\n",
       "      <td>0.193854</td>\n",
       "      <td>0</td>\n",
       "      <td>0</td>\n",
       "      <td>162.396489</td>\n",
       "      <td>70.312500</td>\n",
       "      <td>26.367188</td>\n",
       "      <td>141.827003</td>\n",
       "      <td>141.827003</td>\n",
       "      <td>2212.206523</td>\n",
       "      <td>31.481219</td>\n",
       "      <td>...</td>\n",
       "      <td>0.027410</td>\n",
       "      <td>5.661709</td>\n",
       "      <td>0.243142</td>\n",
       "      <td>131.112058</td>\n",
       "      <td>2.948380</td>\n",
       "      <td>0.003997</td>\n",
       "      <td>73.166907</td>\n",
       "      <td>0.056923</td>\n",
       "      <td>0.501311</td>\n",
       "      <td>0</td>\n",
       "    </tr>\n",
       "    <tr>\n",
       "      <th>75</th>\n",
       "      <td>0.335641</td>\n",
       "      <td>0</td>\n",
       "      <td>0</td>\n",
       "      <td>100.225046</td>\n",
       "      <td>54.687500</td>\n",
       "      <td>48.828125</td>\n",
       "      <td>88.307389</td>\n",
       "      <td>88.307389</td>\n",
       "      <td>1618.226369</td>\n",
       "      <td>33.639606</td>\n",
       "      <td>...</td>\n",
       "      <td>0.012035</td>\n",
       "      <td>6.291807</td>\n",
       "      <td>0.299544</td>\n",
       "      <td>35.919704</td>\n",
       "      <td>0.329676</td>\n",
       "      <td>0.007996</td>\n",
       "      <td>423.064167</td>\n",
       "      <td>0.035987</td>\n",
       "      <td>4.055273</td>\n",
       "      <td>0</td>\n",
       "    </tr>\n",
       "    <tr>\n",
       "      <th>76</th>\n",
       "      <td>0.532818</td>\n",
       "      <td>0</td>\n",
       "      <td>0</td>\n",
       "      <td>54.400939</td>\n",
       "      <td>34.179688</td>\n",
       "      <td>41.015625</td>\n",
       "      <td>51.563980</td>\n",
       "      <td>51.563980</td>\n",
       "      <td>652.949015</td>\n",
       "      <td>28.985823</td>\n",
       "      <td>...</td>\n",
       "      <td>0.024009</td>\n",
       "      <td>5.611265</td>\n",
       "      <td>0.248266</td>\n",
       "      <td>48.664024</td>\n",
       "      <td>0.268894</td>\n",
       "      <td>0.027179</td>\n",
       "      <td>92.863090</td>\n",
       "      <td>0.062765</td>\n",
       "      <td>3.732317</td>\n",
       "      <td>0</td>\n",
       "    </tr>\n",
       "    <tr>\n",
       "      <th>77</th>\n",
       "      <td>0.184894</td>\n",
       "      <td>0</td>\n",
       "      <td>0</td>\n",
       "      <td>172.443819</td>\n",
       "      <td>122.812500</td>\n",
       "      <td>29.062500</td>\n",
       "      <td>133.721156</td>\n",
       "      <td>133.721156</td>\n",
       "      <td>1576.831055</td>\n",
       "      <td>31.883750</td>\n",
       "      <td>...</td>\n",
       "      <td>0.030018</td>\n",
       "      <td>5.640576</td>\n",
       "      <td>0.406452</td>\n",
       "      <td>9.481230</td>\n",
       "      <td>1.729093</td>\n",
       "      <td>0.004740</td>\n",
       "      <td>185.259795</td>\n",
       "      <td>0.068346</td>\n",
       "      <td>0.938922</td>\n",
       "      <td>0</td>\n",
       "    </tr>\n",
       "    <tr>\n",
       "      <th>78</th>\n",
       "      <td>0.444129</td>\n",
       "      <td>0</td>\n",
       "      <td>0</td>\n",
       "      <td>103.257478</td>\n",
       "      <td>91.298750</td>\n",
       "      <td>50.031150</td>\n",
       "      <td>111.974944</td>\n",
       "      <td>108.974944</td>\n",
       "      <td>3150.920105</td>\n",
       "      <td>57.830814</td>\n",
       "      <td>...</td>\n",
       "      <td>0.003056</td>\n",
       "      <td>7.292279</td>\n",
       "      <td>0.277393</td>\n",
       "      <td>82.017864</td>\n",
       "      <td>0.071760</td>\n",
       "      <td>0.004713</td>\n",
       "      <td>1174.227189</td>\n",
       "      <td>0.083357</td>\n",
       "      <td>15.020258</td>\n",
       "      <td>0</td>\n",
       "    </tr>\n",
       "  </tbody>\n",
       "</table>\n",
       "<p>79 rows × 108 columns</p>\n",
       "</div>"
      ],
      "text/plain": [
       "    0.3127109595916861  0  0.1  96.62563027708785     85.9375    30.9375  \\\n",
       "0             0.702091  0    0          79.821001   61.992188  65.585938   \n",
       "1             0.691442  0    0          67.548490   64.414062  51.796875   \n",
       "2             0.207779  0    0         156.088068   78.164062  35.937500   \n",
       "3             0.282777  0    0         100.612953   52.338000  41.184000   \n",
       "4             0.298765  0    0          87.315608   50.625000  34.687500   \n",
       "..                 ... ..  ...                ...         ...        ...   \n",
       "74            0.193854  0    0         162.396489   70.312500  26.367188   \n",
       "75            0.335641  0    0         100.225046   54.687500  48.828125   \n",
       "76            0.532818  0    0          54.400939   34.179688  41.015625   \n",
       "77            0.184894  0    0         172.443819  122.812500  29.062500   \n",
       "78            0.444129  0    0         103.257478   91.298750  50.031150   \n",
       "\n",
       "    90.33662361637306  90.33662361637306.1  1429.723612467448  \\\n",
       "0           78.452682            78.452682        2318.384043   \n",
       "1           70.155304            70.155304        2198.023097   \n",
       "2          132.375551           132.375551        1908.062490   \n",
       "3           95.669886            95.669886        1488.830343   \n",
       "4           85.193942            85.193942        1585.693359   \n",
       "..                ...                  ...                ...   \n",
       "74         141.827003           141.827003        2212.206523   \n",
       "75          88.307389            88.307389        1618.226369   \n",
       "76          51.563980            51.563980         652.949015   \n",
       "77         133.721156           133.721156        1576.831055   \n",
       "78         111.974944           108.974944        3150.920105   \n",
       "\n",
       "    30.21589356509962  ...  0.021157813862456805  4.950082324840484  \\\n",
       "0           56.041604  ...              0.014458           5.678697   \n",
       "1           46.705885  ...              0.020683           7.113756   \n",
       "2           32.431834  ...              0.027838           5.966807   \n",
       "3           28.451027  ...              0.025614           5.595331   \n",
       "4           26.086836  ...              0.017960           5.987256   \n",
       "..                ...  ...                   ...                ...   \n",
       "74          31.481219  ...              0.027410           5.661709   \n",
       "75          33.639606  ...              0.012035           6.291807   \n",
       "76          28.985823  ...              0.024009           5.611265   \n",
       "77          31.883750  ...              0.030018           5.640576   \n",
       "78          57.830814  ...              0.003056           7.292279   \n",
       "\n",
       "    0.14035964035964035  1755.0841301401958  2.492707828465074  0.0042709  \\\n",
       "0              0.136410          559.907954           2.690750   0.003352   \n",
       "1              0.159100         1641.650580           0.073083   0.004445   \n",
       "2              0.337106           22.895755           1.662553   0.006002   \n",
       "3              0.160192          811.998073           1.168050   0.005002   \n",
       "4              0.454203            7.534659           0.572064   0.007430   \n",
       "..                  ...                 ...                ...        ...   \n",
       "74             0.243142          131.112058           2.948380   0.003997   \n",
       "75             0.299544           35.919704           0.329676   0.007996   \n",
       "76             0.248266           48.664024           0.268894   0.027179   \n",
       "77             0.406452            9.481230           1.729093   0.004740   \n",
       "78             0.277393           82.017864           0.071760   0.004713   \n",
       "\n",
       "    23.053272349551506  0.013156980919454725  0.2200573356780827  0.2  \n",
       "0            34.023626              0.019771            0.225209    0  \n",
       "1          1006.778331              0.121947           20.989892    0  \n",
       "2            83.262073              0.079386            0.502555    0  \n",
       "3            42.698793              0.015685            0.535532    0  \n",
       "4           250.493007              0.090514            1.326377    0  \n",
       "..                 ...                   ...                 ...  ...  \n",
       "74           73.166907              0.056923            0.501311    0  \n",
       "75          423.064167              0.035987            4.055273    0  \n",
       "76           92.863090              0.062765            3.732317    0  \n",
       "77          185.259795              0.068346            0.938922    0  \n",
       "78         1174.227189              0.083357           15.020258    0  \n",
       "\n",
       "[79 rows x 108 columns]"
      ]
     },
     "execution_count": 139,
     "metadata": {},
     "output_type": "execute_result"
    }
   ],
   "source": [
    "# existing_df"
   ]
  },
  {
   "cell_type": "code",
   "execution_count": null,
   "metadata": {},
   "outputs": [],
   "source": []
  },
  {
   "cell_type": "code",
   "execution_count": 18,
   "metadata": {},
   "outputs": [],
   "source": [
    "df2.to_csv('tumorfeatures.csv', index=False)  # Specify the desired output file name\n"
   ]
  },
  {
   "cell_type": "code",
   "execution_count": null,
   "metadata": {},
   "outputs": [],
   "source": []
  },
  {
   "cell_type": "code",
   "execution_count": null,
   "metadata": {},
   "outputs": [],
   "source": []
  }
 ],
 "metadata": {
  "kernelspec": {
   "display_name": "Major_Proj",
   "language": "python",
   "name": "python3"
  },
  "language_info": {
   "codemirror_mode": {
    "name": "ipython",
    "version": 3
   },
   "file_extension": ".py",
   "mimetype": "text/x-python",
   "name": "python",
   "nbconvert_exporter": "python",
   "pygments_lexer": "ipython3",
   "version": "3.9.18"
  }
 },
 "nbformat": 4,
 "nbformat_minor": 2
}
