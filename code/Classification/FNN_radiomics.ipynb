{
 "cells": [
  {
   "cell_type": "code",
   "execution_count": 37,
   "metadata": {},
   "outputs": [],
   "source": [
    "import pandas as pd\n",
    "import numpy as np\n",
    "import matplotlib.pyplot as plt\n",
    "from sklearn.preprocessing import MinMaxScaler\n",
    "\n",
    "from sklearn.model_selection import KFold\n",
    "\n",
    "import torch\n",
    "import torch.nn as nn\n",
    "import torch.nn.functional as F\n",
    "from torch.utils.data import random_split\n",
    "from torch.utils.data import DataLoader,TensorDataset\n",
    "import torch.optim as optim\n",
    "from torch.optim.lr_scheduler import ReduceLROnPlateau\n",
    "\n",
    "from tqdm import tqdm\n",
    "\n",
    "#Importing Metric modules\n",
    "from sklearn.metrics import accuracy_score, precision_score, recall_score, f1_score, roc_auc_score\n",
    "\n",
    "\n"
   ]
  },
  {
   "cell_type": "code",
   "execution_count": 38,
   "metadata": {},
   "outputs": [],
   "source": [
    "# Extracted Features path\n",
    "healthy_features_path = 'featuresvalues_new2D_automated.csv'\n",
    "tumor_features_path = 'tumorfeaturesvalues_new2D_automated_70.csv'"
   ]
  },
  {
   "cell_type": "code",
   "execution_count": 39,
   "metadata": {},
   "outputs": [],
   "source": [
    "# Reading the healthy pancreas features\n",
    "data = pd.read_csv(healthy_features_path)\n",
    "X_healthy = data.iloc[:, :-1]\n",
    "y_healthy = data.iloc[:, -1]"
   ]
  },
  {
   "cell_type": "code",
   "execution_count": 40,
   "metadata": {},
   "outputs": [],
   "source": [
    "# Reading the tumor pancreas features\n",
    "data_tumor = pd.read_csv(tumor_features_path)\n",
    "X_tumor = data_tumor.iloc[:, :-1]\n",
    "y_tumor = data_tumor.iloc[:, -1]"
   ]
  },
  {
   "cell_type": "code",
   "execution_count": 41,
   "metadata": {},
   "outputs": [],
   "source": [
    "# Concat Features\n",
    "z=y_tumor.values.reshape(256,1)\n",
    "h = y_healthy.values.reshape(89,1)\n",
    "modified_array = np.vstack((z, h))\n",
    "y = modified_array.reshape(1,345)"
   ]
  },
  {
   "cell_type": "code",
   "execution_count": 42,
   "metadata": {},
   "outputs": [],
   "source": [
    "z1=X_tumor.values.reshape(256,102)\n",
    "h1 = X_healthy.values.reshape(89,102)\n",
    "modified_array = np.vstack((z1, h1))\n",
    "X = modified_array.reshape(102,345)"
   ]
  },
  {
   "cell_type": "code",
   "execution_count": 43,
   "metadata": {},
   "outputs": [],
   "source": [
    "X =X.reshape(345,102)\n",
    "y = y.reshape(345,1)"
   ]
  },
  {
   "cell_type": "code",
   "execution_count": 44,
   "metadata": {},
   "outputs": [],
   "source": [
    "modified_data = np.hstack((X,y))"
   ]
  },
  {
   "cell_type": "code",
   "execution_count": 45,
   "metadata": {},
   "outputs": [],
   "source": [
    "df = pd.DataFrame(modified_data)\n",
    "# df_shuffled"
   ]
  },
  {
   "cell_type": "code",
   "execution_count": 48,
   "metadata": {},
   "outputs": [],
   "source": [
    "class FNN_model(nn.Module):\n",
    "    def __init__(self):\n",
    "        super(FNN_model, self).__init__()\n",
    "        self.fc1 = nn.Linear(102, 64)\n",
    "        self.dropout1 = nn.Dropout(0.2)\n",
    "        self.fc2 = nn.Linear(64, 32)\n",
    "        self.dropout2 = nn.Dropout(0.2)\n",
    "        self.fc3 = nn.Linear(32, 8)\n",
    "        self.dropout3 = nn.Dropout(0.2)\n",
    "        self.fc4 = nn.Linear(8, 1)\n",
    "        self.relu = nn.ReLU()\n",
    "        self.sigmoid = nn.Sigmoid()\n",
    "\n",
    "    def forward(self, x):\n",
    "        x = self.relu(self.fc1(x))\n",
    "        x = self.dropout1(x)\n",
    "        x = self.relu(self.fc2(x))\n",
    "#         x = self.dropout2(x)\n",
    "        x = self.relu(self.fc3(x))\n",
    "        x = self.dropout3(x)\n",
    "        x = self.sigmoid(self.fc4(x))\n",
    "        return x\n",
    "\n"
   ]
  },
  {
   "cell_type": "code",
   "execution_count": 49,
   "metadata": {},
   "outputs": [],
   "source": [
    "def load_pretrained(model, pretrained_path):\n",
    "    state_dict = torch.load(pretrained_path)\n",
    "    model.load_state_dict(state_dict)\n",
    "    print(\"Pretrained model loaded successfully!\")"
   ]
  },
  {
   "cell_type": "code",
   "execution_count": 50,
   "metadata": {},
   "outputs": [],
   "source": [
    "def train(model,criterion,optimizer,num_epochs,train_loader,val_loader,scheduler,count):\n",
    "    model.train()\n",
    "    best_val_loss = float('inf')\n",
    "    for epoch in range(num_epochs):\n",
    "        epoch_loss = 0  # Initialize the loss for one epoch to zero\n",
    "        correct_predictions = 0  # Initialize the number of correct predictions\n",
    "\n",
    "        num_batches = 0 # Helps to report avg epoch loss across all batches\n",
    "        total_correct = 0\n",
    "        \n",
    "        progress_bar = tqdm(enumerate(train_loader), total=len(train_loader), desc=f\"Epoch {epoch+1}\")\n",
    "\n",
    "        for batch_idx, (features,labels) in progress_bar:\n",
    "            optimizer.zero_grad()\n",
    "\n",
    "            predictions = model(features.float())\n",
    "            batch_loss = criterion(predictions,labels.unsqueeze(1).float())\n",
    "            \n",
    "            batch_loss.backward()\n",
    "            optimizer.step()\n",
    "            \n",
    "            \n",
    "            epoch_loss += batch_loss.item()\n",
    "            num_batches += 1\n",
    "   \n",
    "            \n",
    "\n",
    "            # Update the progress bar description with the average loss\n",
    "            progress_bar.set_description(f\"Epoch {epoch+1}/{num_epochs}, Loss: {batch_loss.item():.4f}\")\n",
    "            \n",
    "            # Validation process\n",
    "        print(\"Satrting the Validation process...\")\n",
    "        model.eval() # model set to evaluation mode\n",
    "        batch_loss_validation = 0\n",
    "        progress_bar_validation = tqdm(enumerate(val_loader), total=len(val_loader), desc=f\"Epoch {epoch+1}\")\n",
    "\n",
    "        with torch.no_grad():\n",
    "            for batch_idx, (features,labels) in progress_bar_validation:\n",
    "                \n",
    "                outputs = model(features.float())\n",
    "                loss = criterion(outputs, labels.unsqueeze(1).float())\n",
    "\n",
    "                batch_loss_validation += loss.item()\n",
    "              \n",
    "                progress_bar_validation.set_description(f\"Epoch {epoch+1}/{num_epochs}, Validation Loss: {loss.item():.4f}\")\n",
    "\n",
    "        scheduler.step(batch_loss_validation)\n",
    "\n",
    "        print(f\"Epoch {epoch+1}/{num_epochs}, Loss: {epoch_loss/len(train_loader):.4f}, Validation Loss: {batch_loss_validation/len(val_loader):.4f}\")\n",
    "        resultant_loss = batch_loss_validation/len(val_loader)\n",
    "        if resultant_loss < best_val_loss:\n",
    "            best_val_loss = resultant_loss\n",
    "            # counter = 0\n",
    "            torch.save(model.state_dict(), f'FNN_Radio_checkpoint_{count}.pth')\n",
    "\n",
    "    "
   ]
  },
  {
   "cell_type": "code",
   "execution_count": 51,
   "metadata": {},
   "outputs": [],
   "source": [
    "# Initialize k-fold cross-validation\n",
    "k_folds = 5\n",
    "kf = KFold(n_splits=k_folds)"
   ]
  },
  {
   "cell_type": "code",
   "execution_count": 52,
   "metadata": {},
   "outputs": [],
   "source": [
    "iterations = 1"
   ]
  },
  {
   "cell_type": "code",
   "execution_count": 53,
   "metadata": {},
   "outputs": [
    {
     "name": "stdout",
     "output_type": "stream",
     "text": [
      "Starting the 1 fold\n"
     ]
    },
    {
     "name": "stderr",
     "output_type": "stream",
     "text": [
      "Epoch 1/40, Loss: 0.6495: 100%|██████████| 138/138 [00:00<00:00, 310.86it/s]\n"
     ]
    },
    {
     "name": "stdout",
     "output_type": "stream",
     "text": [
      "Satrting the Validation process...\n"
     ]
    },
    {
     "name": "stderr",
     "output_type": "stream",
     "text": [
      "Epoch 1/40, Validation Loss: 0.8778: 100%|██████████| 3/3 [00:00<00:00, 501.85it/s]\n"
     ]
    },
    {
     "name": "stdout",
     "output_type": "stream",
     "text": [
      "Epoch 1/40, Loss: 0.5908, Validation Loss: 0.6638\n"
     ]
    },
    {
     "name": "stderr",
     "output_type": "stream",
     "text": [
      "Epoch 2/40, Loss: 0.4382: 100%|██████████| 138/138 [00:00<00:00, 311.28it/s]\n"
     ]
    },
    {
     "name": "stdout",
     "output_type": "stream",
     "text": [
      "Satrting the Validation process...\n"
     ]
    },
    {
     "name": "stderr",
     "output_type": "stream",
     "text": [
      "Epoch 2/40, Validation Loss: 0.5684: 100%|██████████| 3/3 [00:00<00:00, 468.04it/s]\n"
     ]
    },
    {
     "name": "stdout",
     "output_type": "stream",
     "text": [
      "Epoch 2/40, Loss: 0.4858, Validation Loss: 0.4740\n"
     ]
    },
    {
     "name": "stderr",
     "output_type": "stream",
     "text": [
      "Epoch 3/40, Loss: 0.0754: 100%|██████████| 138/138 [00:00<00:00, 337.69it/s]\n"
     ]
    },
    {
     "name": "stdout",
     "output_type": "stream",
     "text": [
      "Satrting the Validation process...\n"
     ]
    },
    {
     "name": "stderr",
     "output_type": "stream",
     "text": [
      "Epoch 3/40, Validation Loss: 0.6675: 100%|██████████| 3/3 [00:00<00:00, 439.85it/s]\n"
     ]
    },
    {
     "name": "stdout",
     "output_type": "stream",
     "text": [
      "Epoch 3/40, Loss: 0.4043, Validation Loss: 0.4481\n"
     ]
    },
    {
     "name": "stderr",
     "output_type": "stream",
     "text": [
      "Epoch 4/40, Loss: 0.2266: 100%|██████████| 138/138 [00:00<00:00, 303.32it/s]\n"
     ]
    },
    {
     "name": "stdout",
     "output_type": "stream",
     "text": [
      "Satrting the Validation process...\n"
     ]
    },
    {
     "name": "stderr",
     "output_type": "stream",
     "text": [
      "Epoch 4/40, Validation Loss: 0.5760: 100%|██████████| 3/3 [00:00<00:00, 469.84it/s]\n"
     ]
    },
    {
     "name": "stdout",
     "output_type": "stream",
     "text": [
      "Epoch 4/40, Loss: 0.3557, Validation Loss: 0.3999\n"
     ]
    },
    {
     "name": "stderr",
     "output_type": "stream",
     "text": [
      "Epoch 5/40, Loss: 0.0308: 100%|██████████| 138/138 [00:00<00:00, 359.88it/s]\n"
     ]
    },
    {
     "name": "stdout",
     "output_type": "stream",
     "text": [
      "Satrting the Validation process...\n"
     ]
    },
    {
     "name": "stderr",
     "output_type": "stream",
     "text": [
      "Epoch 5/40, Validation Loss: 0.4862: 100%|██████████| 3/3 [00:00<00:00, 476.63it/s]\n"
     ]
    },
    {
     "name": "stdout",
     "output_type": "stream",
     "text": [
      "Epoch 5/40, Loss: 0.3354, Validation Loss: 0.3810\n"
     ]
    },
    {
     "name": "stderr",
     "output_type": "stream",
     "text": [
      "Epoch 6/40, Loss: 0.1884: 100%|██████████| 138/138 [00:00<00:00, 301.81it/s]\n"
     ]
    },
    {
     "name": "stdout",
     "output_type": "stream",
     "text": [
      "Satrting the Validation process...\n"
     ]
    },
    {
     "name": "stderr",
     "output_type": "stream",
     "text": [
      "Epoch 6/40, Validation Loss: 0.5695: 100%|██████████| 3/3 [00:00<00:00, 395.50it/s]\n"
     ]
    },
    {
     "name": "stdout",
     "output_type": "stream",
     "text": [
      "Epoch 6/40, Loss: 0.3190, Validation Loss: 0.3822\n"
     ]
    },
    {
     "name": "stderr",
     "output_type": "stream",
     "text": [
      "Epoch 7/40, Loss: 0.3187: 100%|██████████| 138/138 [00:00<00:00, 328.22it/s]\n"
     ]
    },
    {
     "name": "stdout",
     "output_type": "stream",
     "text": [
      "Satrting the Validation process...\n"
     ]
    },
    {
     "name": "stderr",
     "output_type": "stream",
     "text": [
      "Epoch 7/40, Validation Loss: 0.5056: 100%|██████████| 3/3 [00:00<00:00, 456.60it/s]\n"
     ]
    },
    {
     "name": "stdout",
     "output_type": "stream",
     "text": [
      "Epoch 7/40, Loss: 0.3215, Validation Loss: 0.3746\n"
     ]
    },
    {
     "name": "stderr",
     "output_type": "stream",
     "text": [
      "Epoch 8/40, Loss: 0.0461: 100%|██████████| 138/138 [00:00<00:00, 328.82it/s]\n"
     ]
    },
    {
     "name": "stdout",
     "output_type": "stream",
     "text": [
      "Satrting the Validation process...\n"
     ]
    },
    {
     "name": "stderr",
     "output_type": "stream",
     "text": [
      "Epoch 8/40, Validation Loss: 0.4884: 100%|██████████| 3/3 [00:00<00:00, 476.97it/s]\n"
     ]
    },
    {
     "name": "stdout",
     "output_type": "stream",
     "text": [
      "Epoch 8/40, Loss: 0.3073, Validation Loss: 0.3614\n"
     ]
    },
    {
     "name": "stderr",
     "output_type": "stream",
     "text": [
      "Epoch 9/40, Loss: 0.0040: 100%|██████████| 138/138 [00:00<00:00, 317.72it/s]\n"
     ]
    },
    {
     "name": "stdout",
     "output_type": "stream",
     "text": [
      "Satrting the Validation process...\n"
     ]
    },
    {
     "name": "stderr",
     "output_type": "stream",
     "text": [
      "Epoch 9/40, Validation Loss: 0.6031: 100%|██████████| 3/3 [00:00<00:00, 463.56it/s]\n"
     ]
    },
    {
     "name": "stdout",
     "output_type": "stream",
     "text": [
      "Epoch 9/40, Loss: 0.3015, Validation Loss: 0.3791\n"
     ]
    },
    {
     "name": "stderr",
     "output_type": "stream",
     "text": [
      "Epoch 10/40, Loss: 0.0170: 100%|██████████| 138/138 [00:00<00:00, 326.30it/s]\n"
     ]
    },
    {
     "name": "stdout",
     "output_type": "stream",
     "text": [
      "Satrting the Validation process...\n"
     ]
    },
    {
     "name": "stderr",
     "output_type": "stream",
     "text": [
      "Epoch 10/40, Validation Loss: 0.7390: 100%|██████████| 3/3 [00:00<00:00, 482.51it/s]\n"
     ]
    },
    {
     "name": "stdout",
     "output_type": "stream",
     "text": [
      "Epoch 10/40, Loss: 0.2896, Validation Loss: 0.4344\n"
     ]
    },
    {
     "name": "stderr",
     "output_type": "stream",
     "text": [
      "Epoch 11/40, Loss: 0.2920: 100%|██████████| 138/138 [00:00<00:00, 253.16it/s]\n"
     ]
    },
    {
     "name": "stdout",
     "output_type": "stream",
     "text": [
      "Satrting the Validation process...\n"
     ]
    },
    {
     "name": "stderr",
     "output_type": "stream",
     "text": [
      "Epoch 11/40, Validation Loss: 0.4995: 100%|██████████| 3/3 [00:00<00:00, 372.97it/s]\n"
     ]
    },
    {
     "name": "stdout",
     "output_type": "stream",
     "text": [
      "Epoch 11/40, Loss: 0.2865, Validation Loss: 0.3347\n"
     ]
    },
    {
     "name": "stderr",
     "output_type": "stream",
     "text": [
      "Epoch 12/40, Loss: 0.2710: 100%|██████████| 138/138 [00:00<00:00, 258.64it/s]\n"
     ]
    },
    {
     "name": "stdout",
     "output_type": "stream",
     "text": [
      "Satrting the Validation process...\n"
     ]
    },
    {
     "name": "stderr",
     "output_type": "stream",
     "text": [
      "Epoch 12/40, Validation Loss: 0.5026: 100%|██████████| 3/3 [00:00<00:00, 570.71it/s]\n"
     ]
    },
    {
     "name": "stdout",
     "output_type": "stream",
     "text": [
      "Epoch 12/40, Loss: 0.2740, Validation Loss: 0.3283\n"
     ]
    },
    {
     "name": "stderr",
     "output_type": "stream",
     "text": [
      "Epoch 13/40, Loss: 0.0536: 100%|██████████| 138/138 [00:00<00:00, 312.71it/s]\n"
     ]
    },
    {
     "name": "stdout",
     "output_type": "stream",
     "text": [
      "Satrting the Validation process...\n"
     ]
    },
    {
     "name": "stderr",
     "output_type": "stream",
     "text": [
      "Epoch 13/40, Validation Loss: 0.3863: 100%|██████████| 3/3 [00:00<00:00, 519.91it/s]\n"
     ]
    },
    {
     "name": "stdout",
     "output_type": "stream",
     "text": [
      "Epoch 13/40, Loss: 0.2976, Validation Loss: 0.2959\n"
     ]
    },
    {
     "name": "stderr",
     "output_type": "stream",
     "text": [
      "Epoch 14/40, Loss: 0.0539: 100%|██████████| 138/138 [00:00<00:00, 320.49it/s]\n"
     ]
    },
    {
     "name": "stdout",
     "output_type": "stream",
     "text": [
      "Satrting the Validation process...\n"
     ]
    },
    {
     "name": "stderr",
     "output_type": "stream",
     "text": [
      "Epoch 14/40, Validation Loss: 0.6216: 100%|██████████| 3/3 [00:00<00:00, 327.91it/s]\n"
     ]
    },
    {
     "name": "stdout",
     "output_type": "stream",
     "text": [
      "Epoch 14/40, Loss: 0.2568, Validation Loss: 0.3680\n"
     ]
    },
    {
     "name": "stderr",
     "output_type": "stream",
     "text": [
      "Epoch 15/40, Loss: 0.0689: 100%|██████████| 138/138 [00:00<00:00, 319.03it/s]\n"
     ]
    },
    {
     "name": "stdout",
     "output_type": "stream",
     "text": [
      "Satrting the Validation process...\n"
     ]
    },
    {
     "name": "stderr",
     "output_type": "stream",
     "text": [
      "Epoch 15/40, Validation Loss: 0.4908: 100%|██████████| 3/3 [00:00<00:00, 489.93it/s]\n"
     ]
    },
    {
     "name": "stdout",
     "output_type": "stream",
     "text": [
      "Epoch 15/40, Loss: 0.2484, Validation Loss: 0.3198\n"
     ]
    },
    {
     "name": "stderr",
     "output_type": "stream",
     "text": [
      "Epoch 16/40, Loss: 0.0035: 100%|██████████| 138/138 [00:00<00:00, 323.40it/s]\n"
     ]
    },
    {
     "name": "stdout",
     "output_type": "stream",
     "text": [
      "Satrting the Validation process...\n"
     ]
    },
    {
     "name": "stderr",
     "output_type": "stream",
     "text": [
      "Epoch 16/40, Validation Loss: 0.6379: 100%|██████████| 3/3 [00:00<00:00, 387.69it/s]\n"
     ]
    },
    {
     "name": "stdout",
     "output_type": "stream",
     "text": [
      "Epoch 16/40, Loss: 0.2468, Validation Loss: 0.3732\n"
     ]
    },
    {
     "name": "stderr",
     "output_type": "stream",
     "text": [
      "Epoch 17/40, Loss: 0.3995: 100%|██████████| 138/138 [00:00<00:00, 322.66it/s]\n"
     ]
    },
    {
     "name": "stdout",
     "output_type": "stream",
     "text": [
      "Satrting the Validation process...\n"
     ]
    },
    {
     "name": "stderr",
     "output_type": "stream",
     "text": [
      "Epoch 17/40, Validation Loss: 0.9732: 100%|██████████| 3/3 [00:00<00:00, 415.03it/s]\n"
     ]
    },
    {
     "name": "stdout",
     "output_type": "stream",
     "text": [
      "Epoch 17/40, Loss: 0.2396, Validation Loss: 0.5318\n"
     ]
    },
    {
     "name": "stderr",
     "output_type": "stream",
     "text": [
      "Epoch 18/40, Loss: 0.2224: 100%|██████████| 138/138 [00:00<00:00, 311.38it/s]\n"
     ]
    },
    {
     "name": "stdout",
     "output_type": "stream",
     "text": [
      "Satrting the Validation process...\n"
     ]
    },
    {
     "name": "stderr",
     "output_type": "stream",
     "text": [
      "Epoch 18/40, Validation Loss: 0.2406: 100%|██████████| 3/3 [00:00<00:00, 375.84it/s]\n"
     ]
    },
    {
     "name": "stdout",
     "output_type": "stream",
     "text": [
      "Epoch 18/40, Loss: 0.2264, Validation Loss: 0.2538\n"
     ]
    },
    {
     "name": "stderr",
     "output_type": "stream",
     "text": [
      "Epoch 19/40, Loss: 0.6627: 100%|██████████| 138/138 [00:00<00:00, 319.64it/s]\n"
     ]
    },
    {
     "name": "stdout",
     "output_type": "stream",
     "text": [
      "Satrting the Validation process...\n"
     ]
    },
    {
     "name": "stderr",
     "output_type": "stream",
     "text": [
      "Epoch 19/40, Validation Loss: 0.2491: 100%|██████████| 3/3 [00:00<00:00, 471.11it/s]\n"
     ]
    },
    {
     "name": "stdout",
     "output_type": "stream",
     "text": [
      "Epoch 19/40, Loss: 0.2281, Validation Loss: 0.2421\n"
     ]
    },
    {
     "name": "stderr",
     "output_type": "stream",
     "text": [
      "Epoch 20/40, Loss: 0.0035: 100%|██████████| 138/138 [00:00<00:00, 313.37it/s]\n"
     ]
    },
    {
     "name": "stdout",
     "output_type": "stream",
     "text": [
      "Satrting the Validation process...\n"
     ]
    },
    {
     "name": "stderr",
     "output_type": "stream",
     "text": [
      "Epoch 20/40, Validation Loss: 0.2142: 100%|██████████| 3/3 [00:00<00:00, 400.02it/s]\n"
     ]
    },
    {
     "name": "stdout",
     "output_type": "stream",
     "text": [
      "Epoch 20/40, Loss: 0.2113, Validation Loss: 0.2376\n"
     ]
    },
    {
     "name": "stderr",
     "output_type": "stream",
     "text": [
      "Epoch 21/40, Loss: 0.1672: 100%|██████████| 138/138 [00:00<00:00, 280.22it/s]\n"
     ]
    },
    {
     "name": "stdout",
     "output_type": "stream",
     "text": [
      "Satrting the Validation process...\n"
     ]
    },
    {
     "name": "stderr",
     "output_type": "stream",
     "text": [
      "Epoch 21/40, Validation Loss: 0.1326: 100%|██████████| 3/3 [00:00<00:00, 459.41it/s]\n"
     ]
    },
    {
     "name": "stdout",
     "output_type": "stream",
     "text": [
      "Epoch 21/40, Loss: 0.1984, Validation Loss: 0.2810\n"
     ]
    },
    {
     "name": "stderr",
     "output_type": "stream",
     "text": [
      "Epoch 22/40, Loss: 1.2037: 100%|██████████| 138/138 [00:00<00:00, 323.58it/s]\n"
     ]
    },
    {
     "name": "stdout",
     "output_type": "stream",
     "text": [
      "Satrting the Validation process...\n"
     ]
    },
    {
     "name": "stderr",
     "output_type": "stream",
     "text": [
      "Epoch 22/40, Validation Loss: 0.3145: 100%|██████████| 3/3 [00:00<00:00, 582.19it/s]\n"
     ]
    },
    {
     "name": "stdout",
     "output_type": "stream",
     "text": [
      "Epoch 22/40, Loss: 0.2277, Validation Loss: 0.2558\n"
     ]
    },
    {
     "name": "stderr",
     "output_type": "stream",
     "text": [
      "Epoch 23/40, Loss: 0.0811: 100%|██████████| 138/138 [00:00<00:00, 220.76it/s]\n"
     ]
    },
    {
     "name": "stdout",
     "output_type": "stream",
     "text": [
      "Satrting the Validation process...\n"
     ]
    },
    {
     "name": "stderr",
     "output_type": "stream",
     "text": [
      "Epoch 23/40, Validation Loss: 0.7731: 100%|██████████| 3/3 [00:00<00:00, 367.65it/s]\n"
     ]
    },
    {
     "name": "stdout",
     "output_type": "stream",
     "text": [
      "Epoch 23/40, Loss: 0.2140, Validation Loss: 0.4187\n"
     ]
    },
    {
     "name": "stderr",
     "output_type": "stream",
     "text": [
      "Epoch 24/40, Loss: 0.4398: 100%|██████████| 138/138 [00:00<00:00, 322.81it/s]\n"
     ]
    },
    {
     "name": "stdout",
     "output_type": "stream",
     "text": [
      "Satrting the Validation process...\n"
     ]
    },
    {
     "name": "stderr",
     "output_type": "stream",
     "text": [
      "Epoch 24/40, Validation Loss: 0.3179: 100%|██████████| 3/3 [00:00<00:00, 448.06it/s]\n"
     ]
    },
    {
     "name": "stdout",
     "output_type": "stream",
     "text": [
      "Epoch 24/40, Loss: 0.1935, Validation Loss: 0.2596\n"
     ]
    },
    {
     "name": "stderr",
     "output_type": "stream",
     "text": [
      "Epoch 25/40, Loss: 2.4641: 100%|██████████| 138/138 [00:00<00:00, 310.12it/s]\n"
     ]
    },
    {
     "name": "stdout",
     "output_type": "stream",
     "text": [
      "Satrting the Validation process...\n"
     ]
    },
    {
     "name": "stderr",
     "output_type": "stream",
     "text": [
      "Epoch 25/40, Validation Loss: 1.1098: 100%|██████████| 3/3 [00:00<00:00, 374.68it/s]\n"
     ]
    },
    {
     "name": "stdout",
     "output_type": "stream",
     "text": [
      "Epoch 25/40, Loss: 0.1971, Validation Loss: 0.5991\n"
     ]
    },
    {
     "name": "stderr",
     "output_type": "stream",
     "text": [
      "Epoch 26/40, Loss: 0.8576: 100%|██████████| 138/138 [00:00<00:00, 306.40it/s]\n"
     ]
    },
    {
     "name": "stdout",
     "output_type": "stream",
     "text": [
      "Satrting the Validation process...\n"
     ]
    },
    {
     "name": "stderr",
     "output_type": "stream",
     "text": [
      "Epoch 26/40, Validation Loss: 0.7385: 100%|██████████| 3/3 [00:00<00:00, 402.00it/s]\n"
     ]
    },
    {
     "name": "stdout",
     "output_type": "stream",
     "text": [
      "Epoch    26: reducing learning rate of group 0 to 1.0000e-04.\n",
      "Epoch 26/40, Loss: 0.1981, Validation Loss: 0.4287\n"
     ]
    },
    {
     "name": "stderr",
     "output_type": "stream",
     "text": [
      "Epoch 27/40, Loss: 0.0924: 100%|██████████| 138/138 [00:00<00:00, 333.43it/s]\n"
     ]
    },
    {
     "name": "stdout",
     "output_type": "stream",
     "text": [
      "Satrting the Validation process...\n"
     ]
    },
    {
     "name": "stderr",
     "output_type": "stream",
     "text": [
      "Epoch 27/40, Validation Loss: 0.3549: 100%|██████████| 3/3 [00:00<00:00, 579.30it/s]\n"
     ]
    },
    {
     "name": "stdout",
     "output_type": "stream",
     "text": [
      "Epoch 27/40, Loss: 0.1660, Validation Loss: 0.2724\n"
     ]
    },
    {
     "name": "stderr",
     "output_type": "stream",
     "text": [
      "Epoch 28/40, Loss: 0.0048: 100%|██████████| 138/138 [00:00<00:00, 335.72it/s]\n"
     ]
    },
    {
     "name": "stdout",
     "output_type": "stream",
     "text": [
      "Satrting the Validation process...\n"
     ]
    },
    {
     "name": "stderr",
     "output_type": "stream",
     "text": [
      "Epoch 28/40, Validation Loss: 0.3073: 100%|██████████| 3/3 [00:00<00:00, 388.01it/s]\n"
     ]
    },
    {
     "name": "stdout",
     "output_type": "stream",
     "text": [
      "Epoch 28/40, Loss: 0.1526, Validation Loss: 0.2581\n"
     ]
    },
    {
     "name": "stderr",
     "output_type": "stream",
     "text": [
      "Epoch 29/40, Loss: 0.0222: 100%|██████████| 138/138 [00:00<00:00, 331.95it/s]\n"
     ]
    },
    {
     "name": "stdout",
     "output_type": "stream",
     "text": [
      "Satrting the Validation process...\n"
     ]
    },
    {
     "name": "stderr",
     "output_type": "stream",
     "text": [
      "Epoch 29/40, Validation Loss: 0.3242: 100%|██████████| 3/3 [00:00<00:00, 416.31it/s]\n"
     ]
    },
    {
     "name": "stdout",
     "output_type": "stream",
     "text": [
      "Epoch 29/40, Loss: 0.1519, Validation Loss: 0.2638\n"
     ]
    },
    {
     "name": "stderr",
     "output_type": "stream",
     "text": [
      "Epoch 30/40, Loss: 0.0022: 100%|██████████| 138/138 [00:00<00:00, 330.56it/s]\n"
     ]
    },
    {
     "name": "stdout",
     "output_type": "stream",
     "text": [
      "Satrting the Validation process...\n"
     ]
    },
    {
     "name": "stderr",
     "output_type": "stream",
     "text": [
      "Epoch 30/40, Validation Loss: 0.3174: 100%|██████████| 3/3 [00:00<00:00, 484.16it/s]\n"
     ]
    },
    {
     "name": "stdout",
     "output_type": "stream",
     "text": [
      "Epoch 30/40, Loss: 0.1521, Validation Loss: 0.2621\n"
     ]
    },
    {
     "name": "stderr",
     "output_type": "stream",
     "text": [
      "Epoch 31/40, Loss: 0.0143: 100%|██████████| 138/138 [00:00<00:00, 340.67it/s]\n"
     ]
    },
    {
     "name": "stdout",
     "output_type": "stream",
     "text": [
      "Satrting the Validation process...\n"
     ]
    },
    {
     "name": "stderr",
     "output_type": "stream",
     "text": [
      "Epoch 31/40, Validation Loss: 0.3682: 100%|██████████| 3/3 [00:00<00:00, 557.65it/s]\n"
     ]
    },
    {
     "name": "stdout",
     "output_type": "stream",
     "text": [
      "Epoch 31/40, Loss: 0.1500, Validation Loss: 0.2785\n"
     ]
    },
    {
     "name": "stderr",
     "output_type": "stream",
     "text": [
      "Epoch 32/40, Loss: 0.1057: 100%|██████████| 138/138 [00:00<00:00, 310.52it/s]\n"
     ]
    },
    {
     "name": "stdout",
     "output_type": "stream",
     "text": [
      "Satrting the Validation process...\n"
     ]
    },
    {
     "name": "stderr",
     "output_type": "stream",
     "text": [
      "Epoch 32/40, Validation Loss: 0.3833: 100%|██████████| 3/3 [00:00<00:00, 575.61it/s]\n"
     ]
    },
    {
     "name": "stdout",
     "output_type": "stream",
     "text": [
      "Epoch    32: reducing learning rate of group 0 to 1.0000e-05.\n",
      "Epoch 32/40, Loss: 0.1515, Validation Loss: 0.2838\n"
     ]
    },
    {
     "name": "stderr",
     "output_type": "stream",
     "text": [
      "Epoch 33/40, Loss: 0.5864: 100%|██████████| 138/138 [00:00<00:00, 336.87it/s]\n"
     ]
    },
    {
     "name": "stdout",
     "output_type": "stream",
     "text": [
      "Satrting the Validation process...\n"
     ]
    },
    {
     "name": "stderr",
     "output_type": "stream",
     "text": [
      "Epoch 33/40, Validation Loss: 0.3736: 100%|██████████| 3/3 [00:00<00:00, 581.57it/s]\n"
     ]
    },
    {
     "name": "stdout",
     "output_type": "stream",
     "text": [
      "Epoch 33/40, Loss: 0.1460, Validation Loss: 0.2808\n"
     ]
    },
    {
     "name": "stderr",
     "output_type": "stream",
     "text": [
      "Epoch 34/40, Loss: 0.0931: 100%|██████████| 138/138 [00:00<00:00, 296.60it/s]\n"
     ]
    },
    {
     "name": "stdout",
     "output_type": "stream",
     "text": [
      "Satrting the Validation process...\n"
     ]
    },
    {
     "name": "stderr",
     "output_type": "stream",
     "text": [
      "Epoch 34/40, Validation Loss: 0.3683: 100%|██████████| 3/3 [00:00<00:00, 515.38it/s]\n"
     ]
    },
    {
     "name": "stdout",
     "output_type": "stream",
     "text": [
      "Epoch 34/40, Loss: 0.1458, Validation Loss: 0.2791\n"
     ]
    },
    {
     "name": "stderr",
     "output_type": "stream",
     "text": [
      "Epoch 35/40, Loss: 0.0014: 100%|██████████| 138/138 [00:00<00:00, 257.41it/s]\n"
     ]
    },
    {
     "name": "stdout",
     "output_type": "stream",
     "text": [
      "Satrting the Validation process...\n"
     ]
    },
    {
     "name": "stderr",
     "output_type": "stream",
     "text": [
      "Epoch 35/40, Validation Loss: 0.3648: 100%|██████████| 3/3 [00:00<00:00, 323.87it/s]\n"
     ]
    },
    {
     "name": "stdout",
     "output_type": "stream",
     "text": [
      "Epoch 35/40, Loss: 0.1458, Validation Loss: 0.2779\n"
     ]
    },
    {
     "name": "stderr",
     "output_type": "stream",
     "text": [
      "Epoch 36/40, Loss: 0.0547: 100%|██████████| 138/138 [00:00<00:00, 341.75it/s]\n"
     ]
    },
    {
     "name": "stdout",
     "output_type": "stream",
     "text": [
      "Satrting the Validation process...\n"
     ]
    },
    {
     "name": "stderr",
     "output_type": "stream",
     "text": [
      "Epoch 36/40, Validation Loss: 0.3649: 100%|██████████| 3/3 [00:00<00:00, 484.89it/s]\n"
     ]
    },
    {
     "name": "stdout",
     "output_type": "stream",
     "text": [
      "Epoch 36/40, Loss: 0.1457, Validation Loss: 0.2780\n"
     ]
    },
    {
     "name": "stderr",
     "output_type": "stream",
     "text": [
      "Epoch 37/40, Loss: 0.1804: 100%|██████████| 138/138 [00:00<00:00, 325.85it/s]\n"
     ]
    },
    {
     "name": "stdout",
     "output_type": "stream",
     "text": [
      "Satrting the Validation process...\n"
     ]
    },
    {
     "name": "stderr",
     "output_type": "stream",
     "text": [
      "Epoch 37/40, Validation Loss: 0.3613: 100%|██████████| 3/3 [00:00<00:00, 532.72it/s]\n"
     ]
    },
    {
     "name": "stdout",
     "output_type": "stream",
     "text": [
      "Epoch 37/40, Loss: 0.1457, Validation Loss: 0.2769\n"
     ]
    },
    {
     "name": "stderr",
     "output_type": "stream",
     "text": [
      "Epoch 38/40, Loss: 0.0044: 100%|██████████| 138/138 [00:00<00:00, 323.11it/s]\n"
     ]
    },
    {
     "name": "stdout",
     "output_type": "stream",
     "text": [
      "Satrting the Validation process...\n"
     ]
    },
    {
     "name": "stderr",
     "output_type": "stream",
     "text": [
      "Epoch 38/40, Validation Loss: 0.3677: 100%|██████████| 3/3 [00:00<00:00, 415.35it/s]\n"
     ]
    },
    {
     "name": "stdout",
     "output_type": "stream",
     "text": [
      "Epoch    38: reducing learning rate of group 0 to 1.0000e-06.\n",
      "Epoch 38/40, Loss: 0.1456, Validation Loss: 0.2790\n"
     ]
    },
    {
     "name": "stderr",
     "output_type": "stream",
     "text": [
      "Epoch 39/40, Loss: 0.0073: 100%|██████████| 138/138 [00:00<00:00, 336.76it/s]\n"
     ]
    },
    {
     "name": "stdout",
     "output_type": "stream",
     "text": [
      "Satrting the Validation process...\n"
     ]
    },
    {
     "name": "stderr",
     "output_type": "stream",
     "text": [
      "Epoch 39/40, Validation Loss: 0.3670: 100%|██████████| 3/3 [00:00<00:00, 444.69it/s]\n"
     ]
    },
    {
     "name": "stdout",
     "output_type": "stream",
     "text": [
      "Epoch 39/40, Loss: 0.1450, Validation Loss: 0.2788\n"
     ]
    },
    {
     "name": "stderr",
     "output_type": "stream",
     "text": [
      "Epoch 40/40, Loss: 0.0087: 100%|██████████| 138/138 [00:00<00:00, 342.90it/s]\n"
     ]
    },
    {
     "name": "stdout",
     "output_type": "stream",
     "text": [
      "Satrting the Validation process...\n"
     ]
    },
    {
     "name": "stderr",
     "output_type": "stream",
     "text": [
      "Epoch 40/40, Validation Loss: 0.3671: 100%|██████████| 3/3 [00:00<00:00, 451.18it/s]\n"
     ]
    },
    {
     "name": "stdout",
     "output_type": "stream",
     "text": [
      "Epoch 40/40, Loss: 0.1450, Validation Loss: 0.2788\n",
      "Pretrained model loaded successfully!\n",
      "Starting the 2 fold\n"
     ]
    },
    {
     "name": "stderr",
     "output_type": "stream",
     "text": [
      "Epoch 1/40, Loss: 0.6577: 100%|██████████| 138/138 [00:00<00:00, 324.63it/s]\n"
     ]
    },
    {
     "name": "stdout",
     "output_type": "stream",
     "text": [
      "Satrting the Validation process...\n"
     ]
    },
    {
     "name": "stderr",
     "output_type": "stream",
     "text": [
      "Epoch 1/40, Validation Loss: 0.4685: 100%|██████████| 3/3 [00:00<00:00, 490.26it/s]\n"
     ]
    },
    {
     "name": "stdout",
     "output_type": "stream",
     "text": [
      "Epoch 1/40, Loss: 0.5811, Validation Loss: 0.4673\n"
     ]
    },
    {
     "name": "stderr",
     "output_type": "stream",
     "text": [
      "Epoch 2/40, Loss: 0.0868: 100%|██████████| 138/138 [00:00<00:00, 332.61it/s]\n"
     ]
    },
    {
     "name": "stdout",
     "output_type": "stream",
     "text": [
      "Satrting the Validation process...\n"
     ]
    },
    {
     "name": "stderr",
     "output_type": "stream",
     "text": [
      "Epoch 2/40, Validation Loss: 0.3449: 100%|██████████| 3/3 [00:00<00:00, 371.48it/s]\n"
     ]
    },
    {
     "name": "stdout",
     "output_type": "stream",
     "text": [
      "Epoch 2/40, Loss: 0.4501, Validation Loss: 0.3804\n"
     ]
    },
    {
     "name": "stderr",
     "output_type": "stream",
     "text": [
      "Epoch 3/40, Loss: 0.4345: 100%|██████████| 138/138 [00:00<00:00, 328.26it/s]\n"
     ]
    },
    {
     "name": "stdout",
     "output_type": "stream",
     "text": [
      "Satrting the Validation process...\n"
     ]
    },
    {
     "name": "stderr",
     "output_type": "stream",
     "text": [
      "Epoch 3/40, Validation Loss: 0.3227: 100%|██████████| 3/3 [00:00<00:00, 457.56it/s]\n"
     ]
    },
    {
     "name": "stdout",
     "output_type": "stream",
     "text": [
      "Epoch 3/40, Loss: 0.4010, Validation Loss: 0.3559\n"
     ]
    },
    {
     "name": "stderr",
     "output_type": "stream",
     "text": [
      "Epoch 4/40, Loss: 0.0834: 100%|██████████| 138/138 [00:00<00:00, 308.91it/s]\n"
     ]
    },
    {
     "name": "stdout",
     "output_type": "stream",
     "text": [
      "Satrting the Validation process...\n"
     ]
    },
    {
     "name": "stderr",
     "output_type": "stream",
     "text": [
      "Epoch 4/40, Validation Loss: 0.2586: 100%|██████████| 3/3 [00:00<00:00, 329.59it/s]\n"
     ]
    },
    {
     "name": "stdout",
     "output_type": "stream",
     "text": [
      "Epoch 4/40, Loss: 0.3891, Validation Loss: 0.3477\n"
     ]
    },
    {
     "name": "stderr",
     "output_type": "stream",
     "text": [
      "Epoch 5/40, Loss: 0.4217: 100%|██████████| 138/138 [00:00<00:00, 300.42it/s]\n"
     ]
    },
    {
     "name": "stdout",
     "output_type": "stream",
     "text": [
      "Satrting the Validation process...\n"
     ]
    },
    {
     "name": "stderr",
     "output_type": "stream",
     "text": [
      "Epoch 5/40, Validation Loss: 0.2256: 100%|██████████| 3/3 [00:00<00:00, 361.11it/s]\n"
     ]
    },
    {
     "name": "stdout",
     "output_type": "stream",
     "text": [
      "Epoch 5/40, Loss: 0.3762, Validation Loss: 0.3157\n"
     ]
    },
    {
     "name": "stderr",
     "output_type": "stream",
     "text": [
      "Epoch 6/40, Loss: 0.6950: 100%|██████████| 138/138 [00:00<00:00, 298.07it/s]\n"
     ]
    },
    {
     "name": "stdout",
     "output_type": "stream",
     "text": [
      "Satrting the Validation process...\n"
     ]
    },
    {
     "name": "stderr",
     "output_type": "stream",
     "text": [
      "Epoch 6/40, Validation Loss: 0.3406: 100%|██████████| 3/3 [00:00<00:00, 437.12it/s]\n"
     ]
    },
    {
     "name": "stdout",
     "output_type": "stream",
     "text": [
      "Epoch 6/40, Loss: 0.3747, Validation Loss: 0.3929\n"
     ]
    },
    {
     "name": "stderr",
     "output_type": "stream",
     "text": [
      "Epoch 7/40, Loss: 0.0349: 100%|██████████| 138/138 [00:00<00:00, 335.73it/s]\n"
     ]
    },
    {
     "name": "stdout",
     "output_type": "stream",
     "text": [
      "Satrting the Validation process...\n"
     ]
    },
    {
     "name": "stderr",
     "output_type": "stream",
     "text": [
      "Epoch 7/40, Validation Loss: 0.2655: 100%|██████████| 3/3 [00:00<00:00, 577.14it/s]\n"
     ]
    },
    {
     "name": "stdout",
     "output_type": "stream",
     "text": [
      "Epoch 7/40, Loss: 0.3555, Validation Loss: 0.3189\n"
     ]
    },
    {
     "name": "stderr",
     "output_type": "stream",
     "text": [
      "Epoch 8/40, Loss: 0.3600: 100%|██████████| 138/138 [00:00<00:00, 324.01it/s]\n"
     ]
    },
    {
     "name": "stdout",
     "output_type": "stream",
     "text": [
      "Satrting the Validation process...\n"
     ]
    },
    {
     "name": "stderr",
     "output_type": "stream",
     "text": [
      "Epoch 8/40, Validation Loss: 0.2628: 100%|██████████| 3/3 [00:00<00:00, 383.05it/s]\n"
     ]
    },
    {
     "name": "stdout",
     "output_type": "stream",
     "text": [
      "Epoch 8/40, Loss: 0.3463, Validation Loss: 0.3142\n"
     ]
    },
    {
     "name": "stderr",
     "output_type": "stream",
     "text": [
      "Epoch 9/40, Loss: 0.4375: 100%|██████████| 138/138 [00:00<00:00, 254.00it/s]\n"
     ]
    },
    {
     "name": "stdout",
     "output_type": "stream",
     "text": [
      "Satrting the Validation process...\n"
     ]
    },
    {
     "name": "stderr",
     "output_type": "stream",
     "text": [
      "Epoch 9/40, Validation Loss: 0.2437: 100%|██████████| 3/3 [00:00<00:00, 476.70it/s]\n"
     ]
    },
    {
     "name": "stdout",
     "output_type": "stream",
     "text": [
      "Epoch 9/40, Loss: 0.3552, Validation Loss: 0.3403\n"
     ]
    },
    {
     "name": "stderr",
     "output_type": "stream",
     "text": [
      "Epoch 10/40, Loss: 0.0544: 100%|██████████| 138/138 [00:00<00:00, 341.00it/s]\n"
     ]
    },
    {
     "name": "stdout",
     "output_type": "stream",
     "text": [
      "Satrting the Validation process...\n"
     ]
    },
    {
     "name": "stderr",
     "output_type": "stream",
     "text": [
      "Epoch 10/40, Validation Loss: 0.1901: 100%|██████████| 3/3 [00:00<00:00, 449.47it/s]\n"
     ]
    },
    {
     "name": "stdout",
     "output_type": "stream",
     "text": [
      "Epoch 10/40, Loss: 0.3501, Validation Loss: 0.3001\n"
     ]
    },
    {
     "name": "stderr",
     "output_type": "stream",
     "text": [
      "Epoch 11/40, Loss: 0.0482: 100%|██████████| 138/138 [00:00<00:00, 321.28it/s]\n"
     ]
    },
    {
     "name": "stdout",
     "output_type": "stream",
     "text": [
      "Satrting the Validation process...\n"
     ]
    },
    {
     "name": "stderr",
     "output_type": "stream",
     "text": [
      "Epoch 11/40, Validation Loss: 0.2050: 100%|██████████| 3/3 [00:00<00:00, 379.52it/s]\n"
     ]
    },
    {
     "name": "stdout",
     "output_type": "stream",
     "text": [
      "Epoch 11/40, Loss: 0.3419, Validation Loss: 0.3175\n"
     ]
    },
    {
     "name": "stderr",
     "output_type": "stream",
     "text": [
      "Epoch 12/40, Loss: 0.8371: 100%|██████████| 138/138 [00:00<00:00, 330.46it/s]\n"
     ]
    },
    {
     "name": "stdout",
     "output_type": "stream",
     "text": [
      "Satrting the Validation process...\n"
     ]
    },
    {
     "name": "stderr",
     "output_type": "stream",
     "text": [
      "Epoch 12/40, Validation Loss: 0.1856: 100%|██████████| 3/3 [00:00<00:00, 303.77it/s]\n"
     ]
    },
    {
     "name": "stdout",
     "output_type": "stream",
     "text": [
      "Epoch 12/40, Loss: 0.3231, Validation Loss: 0.2925\n"
     ]
    },
    {
     "name": "stderr",
     "output_type": "stream",
     "text": [
      "Epoch 13/40, Loss: 0.2974: 100%|██████████| 138/138 [00:00<00:00, 338.34it/s]\n"
     ]
    },
    {
     "name": "stdout",
     "output_type": "stream",
     "text": [
      "Satrting the Validation process...\n"
     ]
    },
    {
     "name": "stderr",
     "output_type": "stream",
     "text": [
      "Epoch 13/40, Validation Loss: 0.1914: 100%|██████████| 3/3 [00:00<00:00, 430.29it/s]\n"
     ]
    },
    {
     "name": "stdout",
     "output_type": "stream",
     "text": [
      "Epoch 13/40, Loss: 0.3226, Validation Loss: 0.3058\n"
     ]
    },
    {
     "name": "stderr",
     "output_type": "stream",
     "text": [
      "Epoch 14/40, Loss: 0.3056: 100%|██████████| 138/138 [00:00<00:00, 335.70it/s]\n"
     ]
    },
    {
     "name": "stdout",
     "output_type": "stream",
     "text": [
      "Satrting the Validation process...\n"
     ]
    },
    {
     "name": "stderr",
     "output_type": "stream",
     "text": [
      "Epoch 14/40, Validation Loss: 0.1682: 100%|██████████| 3/3 [00:00<00:00, 520.75it/s]\n"
     ]
    },
    {
     "name": "stdout",
     "output_type": "stream",
     "text": [
      "Epoch 14/40, Loss: 0.3210, Validation Loss: 0.2736\n"
     ]
    },
    {
     "name": "stderr",
     "output_type": "stream",
     "text": [
      "Epoch 15/40, Loss: 0.2986: 100%|██████████| 138/138 [00:00<00:00, 339.89it/s]\n"
     ]
    },
    {
     "name": "stdout",
     "output_type": "stream",
     "text": [
      "Satrting the Validation process...\n"
     ]
    },
    {
     "name": "stderr",
     "output_type": "stream",
     "text": [
      "Epoch 15/40, Validation Loss: 0.1893: 100%|██████████| 3/3 [00:00<00:00, 427.52it/s]\n"
     ]
    },
    {
     "name": "stdout",
     "output_type": "stream",
     "text": [
      "Epoch 15/40, Loss: 0.3087, Validation Loss: 0.2692\n"
     ]
    },
    {
     "name": "stderr",
     "output_type": "stream",
     "text": [
      "Epoch 16/40, Loss: 0.0006: 100%|██████████| 138/138 [00:00<00:00, 337.46it/s]\n"
     ]
    },
    {
     "name": "stdout",
     "output_type": "stream",
     "text": [
      "Satrting the Validation process...\n"
     ]
    },
    {
     "name": "stderr",
     "output_type": "stream",
     "text": [
      "Epoch 16/40, Validation Loss: 0.1597: 100%|██████████| 3/3 [00:00<00:00, 463.15it/s]\n"
     ]
    },
    {
     "name": "stdout",
     "output_type": "stream",
     "text": [
      "Epoch 16/40, Loss: 0.3233, Validation Loss: 0.2820\n"
     ]
    },
    {
     "name": "stderr",
     "output_type": "stream",
     "text": [
      "Epoch 17/40, Loss: 0.0090: 100%|██████████| 138/138 [00:00<00:00, 336.36it/s]\n"
     ]
    },
    {
     "name": "stdout",
     "output_type": "stream",
     "text": [
      "Satrting the Validation process...\n"
     ]
    },
    {
     "name": "stderr",
     "output_type": "stream",
     "text": [
      "Epoch 17/40, Validation Loss: 0.1502: 100%|██████████| 3/3 [00:00<00:00, 448.29it/s]\n"
     ]
    },
    {
     "name": "stdout",
     "output_type": "stream",
     "text": [
      "Epoch 17/40, Loss: 0.2955, Validation Loss: 0.2583\n"
     ]
    },
    {
     "name": "stderr",
     "output_type": "stream",
     "text": [
      "Epoch 18/40, Loss: 0.0619: 100%|██████████| 138/138 [00:00<00:00, 291.32it/s]\n"
     ]
    },
    {
     "name": "stdout",
     "output_type": "stream",
     "text": [
      "Satrting the Validation process...\n"
     ]
    },
    {
     "name": "stderr",
     "output_type": "stream",
     "text": [
      "Epoch 18/40, Validation Loss: 0.2054: 100%|██████████| 3/3 [00:00<00:00, 454.42it/s]\n"
     ]
    },
    {
     "name": "stdout",
     "output_type": "stream",
     "text": [
      "Epoch 18/40, Loss: 0.3057, Validation Loss: 0.3112\n"
     ]
    },
    {
     "name": "stderr",
     "output_type": "stream",
     "text": [
      "Epoch 19/40, Loss: 0.5332: 100%|██████████| 138/138 [00:00<00:00, 340.60it/s]\n"
     ]
    },
    {
     "name": "stdout",
     "output_type": "stream",
     "text": [
      "Satrting the Validation process...\n"
     ]
    },
    {
     "name": "stderr",
     "output_type": "stream",
     "text": [
      "Epoch 19/40, Validation Loss: 0.1454: 100%|██████████| 3/3 [00:00<00:00, 467.52it/s]\n"
     ]
    },
    {
     "name": "stdout",
     "output_type": "stream",
     "text": [
      "Epoch 19/40, Loss: 0.2857, Validation Loss: 0.2564\n"
     ]
    },
    {
     "name": "stderr",
     "output_type": "stream",
     "text": [
      "Epoch 20/40, Loss: 0.0001: 100%|██████████| 138/138 [00:00<00:00, 335.85it/s]\n"
     ]
    },
    {
     "name": "stdout",
     "output_type": "stream",
     "text": [
      "Satrting the Validation process...\n"
     ]
    },
    {
     "name": "stderr",
     "output_type": "stream",
     "text": [
      "Epoch 20/40, Validation Loss: 0.2297: 100%|██████████| 3/3 [00:00<00:00, 558.94it/s]\n"
     ]
    },
    {
     "name": "stdout",
     "output_type": "stream",
     "text": [
      "Epoch 20/40, Loss: 0.2787, Validation Loss: 0.3351\n"
     ]
    },
    {
     "name": "stderr",
     "output_type": "stream",
     "text": [
      "Epoch 21/40, Loss: 0.5035: 100%|██████████| 138/138 [00:00<00:00, 335.22it/s]\n"
     ]
    },
    {
     "name": "stdout",
     "output_type": "stream",
     "text": [
      "Satrting the Validation process...\n"
     ]
    },
    {
     "name": "stderr",
     "output_type": "stream",
     "text": [
      "Epoch 21/40, Validation Loss: 0.1961: 100%|██████████| 3/3 [00:00<00:00, 544.10it/s]\n"
     ]
    },
    {
     "name": "stdout",
     "output_type": "stream",
     "text": [
      "Epoch 21/40, Loss: 0.2737, Validation Loss: 0.3001\n"
     ]
    },
    {
     "name": "stderr",
     "output_type": "stream",
     "text": [
      "Epoch 22/40, Loss: 0.4720: 100%|██████████| 138/138 [00:00<00:00, 318.15it/s]\n"
     ]
    },
    {
     "name": "stdout",
     "output_type": "stream",
     "text": [
      "Satrting the Validation process...\n"
     ]
    },
    {
     "name": "stderr",
     "output_type": "stream",
     "text": [
      "Epoch 22/40, Validation Loss: 0.2824: 100%|██████████| 3/3 [00:00<00:00, 490.71it/s]\n"
     ]
    },
    {
     "name": "stdout",
     "output_type": "stream",
     "text": [
      "Epoch 22/40, Loss: 0.3429, Validation Loss: 0.3162\n"
     ]
    },
    {
     "name": "stderr",
     "output_type": "stream",
     "text": [
      "Epoch 23/40, Loss: 0.6279: 100%|██████████| 138/138 [00:00<00:00, 254.12it/s]\n"
     ]
    },
    {
     "name": "stdout",
     "output_type": "stream",
     "text": [
      "Satrting the Validation process...\n"
     ]
    },
    {
     "name": "stderr",
     "output_type": "stream",
     "text": [
      "Epoch 23/40, Validation Loss: 0.1405: 100%|██████████| 3/3 [00:00<00:00, 467.04it/s]\n"
     ]
    },
    {
     "name": "stdout",
     "output_type": "stream",
     "text": [
      "Epoch 23/40, Loss: 0.2563, Validation Loss: 0.2808\n"
     ]
    },
    {
     "name": "stderr",
     "output_type": "stream",
     "text": [
      "Epoch 24/40, Loss: 0.2365: 100%|██████████| 138/138 [00:00<00:00, 334.49it/s]\n"
     ]
    },
    {
     "name": "stdout",
     "output_type": "stream",
     "text": [
      "Satrting the Validation process...\n"
     ]
    },
    {
     "name": "stderr",
     "output_type": "stream",
     "text": [
      "Epoch 24/40, Validation Loss: 0.1192: 100%|██████████| 3/3 [00:00<00:00, 434.40it/s]\n"
     ]
    },
    {
     "name": "stdout",
     "output_type": "stream",
     "text": [
      "Epoch 24/40, Loss: 0.2728, Validation Loss: 0.2511\n"
     ]
    },
    {
     "name": "stderr",
     "output_type": "stream",
     "text": [
      "Epoch 25/40, Loss: 0.0029: 100%|██████████| 138/138 [00:00<00:00, 288.41it/s]\n"
     ]
    },
    {
     "name": "stdout",
     "output_type": "stream",
     "text": [
      "Satrting the Validation process...\n"
     ]
    },
    {
     "name": "stderr",
     "output_type": "stream",
     "text": [
      "Epoch 25/40, Validation Loss: 0.1644: 100%|██████████| 3/3 [00:00<00:00, 393.22it/s]\n"
     ]
    },
    {
     "name": "stdout",
     "output_type": "stream",
     "text": [
      "Epoch 25/40, Loss: 0.2625, Validation Loss: 0.2783\n"
     ]
    },
    {
     "name": "stderr",
     "output_type": "stream",
     "text": [
      "Epoch 26/40, Loss: 0.0940: 100%|██████████| 138/138 [00:00<00:00, 336.44it/s]\n"
     ]
    },
    {
     "name": "stdout",
     "output_type": "stream",
     "text": [
      "Satrting the Validation process...\n"
     ]
    },
    {
     "name": "stderr",
     "output_type": "stream",
     "text": [
      "Epoch 26/40, Validation Loss: 0.2491: 100%|██████████| 3/3 [00:00<00:00, 525.47it/s]\n"
     ]
    },
    {
     "name": "stdout",
     "output_type": "stream",
     "text": [
      "Epoch 26/40, Loss: 0.2762, Validation Loss: 0.3410\n"
     ]
    },
    {
     "name": "stderr",
     "output_type": "stream",
     "text": [
      "Epoch 27/40, Loss: 0.2614: 100%|██████████| 138/138 [00:00<00:00, 333.10it/s]\n"
     ]
    },
    {
     "name": "stdout",
     "output_type": "stream",
     "text": [
      "Satrting the Validation process...\n"
     ]
    },
    {
     "name": "stderr",
     "output_type": "stream",
     "text": [
      "Epoch 27/40, Validation Loss: 0.1282: 100%|██████████| 3/3 [00:00<00:00, 376.88it/s]\n"
     ]
    },
    {
     "name": "stdout",
     "output_type": "stream",
     "text": [
      "Epoch 27/40, Loss: 0.2798, Validation Loss: 0.2513\n"
     ]
    },
    {
     "name": "stderr",
     "output_type": "stream",
     "text": [
      "Epoch 28/40, Loss: 0.0014: 100%|██████████| 138/138 [00:00<00:00, 340.17it/s]\n"
     ]
    },
    {
     "name": "stdout",
     "output_type": "stream",
     "text": [
      "Satrting the Validation process...\n"
     ]
    },
    {
     "name": "stderr",
     "output_type": "stream",
     "text": [
      "Epoch 28/40, Validation Loss: 0.1323: 100%|██████████| 3/3 [00:00<00:00, 576.17it/s]\n"
     ]
    },
    {
     "name": "stdout",
     "output_type": "stream",
     "text": [
      "Epoch 28/40, Loss: 0.2694, Validation Loss: 0.2476\n"
     ]
    },
    {
     "name": "stderr",
     "output_type": "stream",
     "text": [
      "Epoch 29/40, Loss: 0.4197: 100%|██████████| 138/138 [00:00<00:00, 339.95it/s]\n"
     ]
    },
    {
     "name": "stdout",
     "output_type": "stream",
     "text": [
      "Satrting the Validation process...\n"
     ]
    },
    {
     "name": "stderr",
     "output_type": "stream",
     "text": [
      "Epoch 29/40, Validation Loss: 0.2400: 100%|██████████| 3/3 [00:00<00:00, 428.03it/s]\n"
     ]
    },
    {
     "name": "stdout",
     "output_type": "stream",
     "text": [
      "Epoch 29/40, Loss: 0.2958, Validation Loss: 0.3300\n"
     ]
    },
    {
     "name": "stderr",
     "output_type": "stream",
     "text": [
      "Epoch 30/40, Loss: 0.0011: 100%|██████████| 138/138 [00:00<00:00, 294.48it/s]\n"
     ]
    },
    {
     "name": "stdout",
     "output_type": "stream",
     "text": [
      "Satrting the Validation process...\n"
     ]
    },
    {
     "name": "stderr",
     "output_type": "stream",
     "text": [
      "Epoch 30/40, Validation Loss: 0.1207: 100%|██████████| 3/3 [00:00<00:00, 373.08it/s]\n"
     ]
    },
    {
     "name": "stdout",
     "output_type": "stream",
     "text": [
      "Epoch 30/40, Loss: 0.2475, Validation Loss: 0.2459\n"
     ]
    },
    {
     "name": "stderr",
     "output_type": "stream",
     "text": [
      "Epoch 31/40, Loss: 0.2446: 100%|██████████| 138/138 [00:00<00:00, 303.70it/s]\n"
     ]
    },
    {
     "name": "stdout",
     "output_type": "stream",
     "text": [
      "Satrting the Validation process...\n"
     ]
    },
    {
     "name": "stderr",
     "output_type": "stream",
     "text": [
      "Epoch 31/40, Validation Loss: 0.1263: 100%|██████████| 3/3 [00:00<00:00, 443.39it/s]\n"
     ]
    },
    {
     "name": "stdout",
     "output_type": "stream",
     "text": [
      "Epoch 31/40, Loss: 0.2519, Validation Loss: 0.2436\n"
     ]
    },
    {
     "name": "stderr",
     "output_type": "stream",
     "text": [
      "Epoch 32/40, Loss: 0.0003: 100%|██████████| 138/138 [00:00<00:00, 323.84it/s]\n"
     ]
    },
    {
     "name": "stdout",
     "output_type": "stream",
     "text": [
      "Satrting the Validation process...\n"
     ]
    },
    {
     "name": "stderr",
     "output_type": "stream",
     "text": [
      "Epoch 32/40, Validation Loss: 0.1057: 100%|██████████| 3/3 [00:00<00:00, 474.72it/s]\n"
     ]
    },
    {
     "name": "stdout",
     "output_type": "stream",
     "text": [
      "Epoch 32/40, Loss: 0.2456, Validation Loss: 0.2424\n"
     ]
    },
    {
     "name": "stderr",
     "output_type": "stream",
     "text": [
      "Epoch 33/40, Loss: 0.0190: 100%|██████████| 138/138 [00:00<00:00, 324.40it/s]\n"
     ]
    },
    {
     "name": "stdout",
     "output_type": "stream",
     "text": [
      "Satrting the Validation process...\n"
     ]
    },
    {
     "name": "stderr",
     "output_type": "stream",
     "text": [
      "Epoch 33/40, Validation Loss: 0.1716: 100%|██████████| 3/3 [00:00<00:00, 400.76it/s]\n"
     ]
    },
    {
     "name": "stdout",
     "output_type": "stream",
     "text": [
      "Epoch 33/40, Loss: 0.2437, Validation Loss: 0.2957\n"
     ]
    },
    {
     "name": "stderr",
     "output_type": "stream",
     "text": [
      "Epoch 34/40, Loss: 0.2005: 100%|██████████| 138/138 [00:00<00:00, 275.92it/s]\n"
     ]
    },
    {
     "name": "stdout",
     "output_type": "stream",
     "text": [
      "Satrting the Validation process...\n"
     ]
    },
    {
     "name": "stderr",
     "output_type": "stream",
     "text": [
      "Epoch 34/40, Validation Loss: 0.0951: 100%|██████████| 3/3 [00:00<00:00, 313.20it/s]\n"
     ]
    },
    {
     "name": "stdout",
     "output_type": "stream",
     "text": [
      "Epoch 34/40, Loss: 0.2242, Validation Loss: 0.2374\n"
     ]
    },
    {
     "name": "stderr",
     "output_type": "stream",
     "text": [
      "Epoch 35/40, Loss: 0.0571: 100%|██████████| 138/138 [00:00<00:00, 304.08it/s]\n"
     ]
    },
    {
     "name": "stdout",
     "output_type": "stream",
     "text": [
      "Satrting the Validation process...\n"
     ]
    },
    {
     "name": "stderr",
     "output_type": "stream",
     "text": [
      "Epoch 35/40, Validation Loss: 0.1414: 100%|██████████| 3/3 [00:00<00:00, 362.57it/s]\n"
     ]
    },
    {
     "name": "stdout",
     "output_type": "stream",
     "text": [
      "Epoch 35/40, Loss: 0.2576, Validation Loss: 0.2607\n"
     ]
    },
    {
     "name": "stderr",
     "output_type": "stream",
     "text": [
      "Epoch 36/40, Loss: 0.1792: 100%|██████████| 138/138 [00:00<00:00, 335.37it/s]\n"
     ]
    },
    {
     "name": "stdout",
     "output_type": "stream",
     "text": [
      "Satrting the Validation process...\n"
     ]
    },
    {
     "name": "stderr",
     "output_type": "stream",
     "text": [
      "Epoch 36/40, Validation Loss: 0.1403: 100%|██████████| 3/3 [00:00<00:00, 501.45it/s]\n"
     ]
    },
    {
     "name": "stdout",
     "output_type": "stream",
     "text": [
      "Epoch 36/40, Loss: 0.2391, Validation Loss: 0.2554\n"
     ]
    },
    {
     "name": "stderr",
     "output_type": "stream",
     "text": [
      "Epoch 37/40, Loss: 0.4177: 100%|██████████| 138/138 [00:00<00:00, 336.78it/s]\n"
     ]
    },
    {
     "name": "stdout",
     "output_type": "stream",
     "text": [
      "Satrting the Validation process...\n"
     ]
    },
    {
     "name": "stderr",
     "output_type": "stream",
     "text": [
      "Epoch 37/40, Validation Loss: 0.2948: 100%|██████████| 3/3 [00:00<00:00, 491.12it/s]\n"
     ]
    },
    {
     "name": "stdout",
     "output_type": "stream",
     "text": [
      "Epoch 37/40, Loss: 0.2285, Validation Loss: 0.3960\n"
     ]
    },
    {
     "name": "stderr",
     "output_type": "stream",
     "text": [
      "Epoch 38/40, Loss: 0.3373: 100%|██████████| 138/138 [00:00<00:00, 249.94it/s]\n"
     ]
    },
    {
     "name": "stdout",
     "output_type": "stream",
     "text": [
      "Satrting the Validation process...\n"
     ]
    },
    {
     "name": "stderr",
     "output_type": "stream",
     "text": [
      "Epoch 38/40, Validation Loss: 0.1413: 100%|██████████| 3/3 [00:00<00:00, 416.76it/s]\n"
     ]
    },
    {
     "name": "stdout",
     "output_type": "stream",
     "text": [
      "Epoch 38/40, Loss: 0.2299, Validation Loss: 0.2686\n"
     ]
    },
    {
     "name": "stderr",
     "output_type": "stream",
     "text": [
      "Epoch 39/40, Loss: 0.1678: 100%|██████████| 138/138 [00:00<00:00, 336.42it/s]\n"
     ]
    },
    {
     "name": "stdout",
     "output_type": "stream",
     "text": [
      "Satrting the Validation process...\n"
     ]
    },
    {
     "name": "stderr",
     "output_type": "stream",
     "text": [
      "Epoch 39/40, Validation Loss: 0.0988: 100%|██████████| 3/3 [00:00<00:00, 389.15it/s]\n"
     ]
    },
    {
     "name": "stdout",
     "output_type": "stream",
     "text": [
      "Epoch 39/40, Loss: 0.2185, Validation Loss: 0.2403\n"
     ]
    },
    {
     "name": "stderr",
     "output_type": "stream",
     "text": [
      "Epoch 40/40, Loss: 0.0036: 100%|██████████| 138/138 [00:00<00:00, 335.19it/s]\n"
     ]
    },
    {
     "name": "stdout",
     "output_type": "stream",
     "text": [
      "Satrting the Validation process...\n"
     ]
    },
    {
     "name": "stderr",
     "output_type": "stream",
     "text": [
      "Epoch 40/40, Validation Loss: 0.0951: 100%|██████████| 3/3 [00:00<00:00, 358.91it/s]\n"
     ]
    },
    {
     "name": "stdout",
     "output_type": "stream",
     "text": [
      "Epoch    40: reducing learning rate of group 0 to 1.0000e-04.\n",
      "Epoch 40/40, Loss: 0.2283, Validation Loss: 0.2387\n",
      "Pretrained model loaded successfully!\n",
      "Starting the 3 fold\n"
     ]
    },
    {
     "name": "stderr",
     "output_type": "stream",
     "text": [
      "Epoch 1/40, Loss: 0.4277: 100%|██████████| 138/138 [00:00<00:00, 319.96it/s]\n"
     ]
    },
    {
     "name": "stdout",
     "output_type": "stream",
     "text": [
      "Satrting the Validation process...\n"
     ]
    },
    {
     "name": "stderr",
     "output_type": "stream",
     "text": [
      "Epoch 1/40, Validation Loss: 0.6790: 100%|██████████| 3/3 [00:00<00:00, 513.65it/s]\n"
     ]
    },
    {
     "name": "stdout",
     "output_type": "stream",
     "text": [
      "Epoch 1/40, Loss: 0.6388, Validation Loss: 0.6084\n"
     ]
    },
    {
     "name": "stderr",
     "output_type": "stream",
     "text": [
      "Epoch 2/40, Loss: 0.2819: 100%|██████████| 138/138 [00:00<00:00, 305.25it/s]\n"
     ]
    },
    {
     "name": "stdout",
     "output_type": "stream",
     "text": [
      "Satrting the Validation process...\n"
     ]
    },
    {
     "name": "stderr",
     "output_type": "stream",
     "text": [
      "Epoch 2/40, Validation Loss: 0.7861: 100%|██████████| 3/3 [00:00<00:00, 392.66it/s]\n"
     ]
    },
    {
     "name": "stdout",
     "output_type": "stream",
     "text": [
      "Epoch 2/40, Loss: 0.5192, Validation Loss: 0.5552\n"
     ]
    },
    {
     "name": "stderr",
     "output_type": "stream",
     "text": [
      "Epoch 3/40, Loss: 0.2115: 100%|██████████| 138/138 [00:00<00:00, 341.12it/s]\n"
     ]
    },
    {
     "name": "stdout",
     "output_type": "stream",
     "text": [
      "Satrting the Validation process...\n"
     ]
    },
    {
     "name": "stderr",
     "output_type": "stream",
     "text": [
      "Epoch 3/40, Validation Loss: 1.0779: 100%|██████████| 3/3 [00:00<00:00, 488.41it/s]\n"
     ]
    },
    {
     "name": "stdout",
     "output_type": "stream",
     "text": [
      "Epoch 3/40, Loss: 0.4021, Validation Loss: 0.5562\n"
     ]
    },
    {
     "name": "stderr",
     "output_type": "stream",
     "text": [
      "Epoch 4/40, Loss: 0.3564: 100%|██████████| 138/138 [00:00<00:00, 334.53it/s]\n"
     ]
    },
    {
     "name": "stdout",
     "output_type": "stream",
     "text": [
      "Satrting the Validation process...\n"
     ]
    },
    {
     "name": "stderr",
     "output_type": "stream",
     "text": [
      "Epoch 4/40, Validation Loss: 1.2740: 100%|██████████| 3/3 [00:00<00:00, 437.32it/s]\n"
     ]
    },
    {
     "name": "stdout",
     "output_type": "stream",
     "text": [
      "Epoch 4/40, Loss: 0.3492, Validation Loss: 0.6012\n"
     ]
    },
    {
     "name": "stderr",
     "output_type": "stream",
     "text": [
      "Epoch 5/40, Loss: 0.3617: 100%|██████████| 138/138 [00:00<00:00, 292.53it/s]\n"
     ]
    },
    {
     "name": "stdout",
     "output_type": "stream",
     "text": [
      "Satrting the Validation process...\n"
     ]
    },
    {
     "name": "stderr",
     "output_type": "stream",
     "text": [
      "Epoch 5/40, Validation Loss: 1.1653: 100%|██████████| 3/3 [00:00<00:00, 300.88it/s]\n"
     ]
    },
    {
     "name": "stdout",
     "output_type": "stream",
     "text": [
      "Epoch 5/40, Loss: 0.3458, Validation Loss: 0.5854\n"
     ]
    },
    {
     "name": "stderr",
     "output_type": "stream",
     "text": [
      "Epoch 6/40, Loss: 0.0220: 100%|██████████| 138/138 [00:00<00:00, 311.17it/s]\n"
     ]
    },
    {
     "name": "stdout",
     "output_type": "stream",
     "text": [
      "Satrting the Validation process...\n"
     ]
    },
    {
     "name": "stderr",
     "output_type": "stream",
     "text": [
      "Epoch 6/40, Validation Loss: 1.3998: 100%|██████████| 3/3 [00:00<00:00, 366.75it/s]\n"
     ]
    },
    {
     "name": "stdout",
     "output_type": "stream",
     "text": [
      "Epoch 6/40, Loss: 0.3239, Validation Loss: 0.6315\n"
     ]
    },
    {
     "name": "stderr",
     "output_type": "stream",
     "text": [
      "Epoch 7/40, Loss: 0.2883: 100%|██████████| 138/138 [00:00<00:00, 331.63it/s]\n"
     ]
    },
    {
     "name": "stdout",
     "output_type": "stream",
     "text": [
      "Satrting the Validation process...\n"
     ]
    },
    {
     "name": "stderr",
     "output_type": "stream",
     "text": [
      "Epoch 7/40, Validation Loss: 1.2937: 100%|██████████| 3/3 [00:00<00:00, 431.62it/s]\n"
     ]
    },
    {
     "name": "stdout",
     "output_type": "stream",
     "text": [
      "Epoch 7/40, Loss: 0.3179, Validation Loss: 0.5951\n"
     ]
    },
    {
     "name": "stderr",
     "output_type": "stream",
     "text": [
      "Epoch 8/40, Loss: 0.7242: 100%|██████████| 138/138 [00:00<00:00, 331.59it/s]\n"
     ]
    },
    {
     "name": "stdout",
     "output_type": "stream",
     "text": [
      "Satrting the Validation process...\n"
     ]
    },
    {
     "name": "stderr",
     "output_type": "stream",
     "text": [
      "Epoch 8/40, Validation Loss: 1.3076: 100%|██████████| 3/3 [00:00<00:00, 482.31it/s]\n"
     ]
    },
    {
     "name": "stdout",
     "output_type": "stream",
     "text": [
      "Epoch     8: reducing learning rate of group 0 to 1.0000e-04.\n",
      "Epoch 8/40, Loss: 0.3128, Validation Loss: 0.5983\n"
     ]
    },
    {
     "name": "stderr",
     "output_type": "stream",
     "text": [
      "Epoch 9/40, Loss: 0.0386: 100%|██████████| 138/138 [00:00<00:00, 344.20it/s]\n"
     ]
    },
    {
     "name": "stdout",
     "output_type": "stream",
     "text": [
      "Satrting the Validation process...\n"
     ]
    },
    {
     "name": "stderr",
     "output_type": "stream",
     "text": [
      "Epoch 9/40, Validation Loss: 1.3291: 100%|██████████| 3/3 [00:00<00:00, 424.05it/s]\n"
     ]
    },
    {
     "name": "stdout",
     "output_type": "stream",
     "text": [
      "Epoch 9/40, Loss: 0.2799, Validation Loss: 0.6044\n"
     ]
    },
    {
     "name": "stderr",
     "output_type": "stream",
     "text": [
      "Epoch 10/40, Loss: 1.1154: 100%|██████████| 138/138 [00:00<00:00, 318.87it/s]\n"
     ]
    },
    {
     "name": "stdout",
     "output_type": "stream",
     "text": [
      "Satrting the Validation process...\n"
     ]
    },
    {
     "name": "stderr",
     "output_type": "stream",
     "text": [
      "Epoch 10/40, Validation Loss: 1.3491: 100%|██████████| 3/3 [00:00<00:00, 385.92it/s]\n"
     ]
    },
    {
     "name": "stdout",
     "output_type": "stream",
     "text": [
      "Epoch 10/40, Loss: 0.2752, Validation Loss: 0.6095\n"
     ]
    },
    {
     "name": "stderr",
     "output_type": "stream",
     "text": [
      "Epoch 11/40, Loss: 0.5918: 100%|██████████| 138/138 [00:00<00:00, 328.39it/s]\n"
     ]
    },
    {
     "name": "stdout",
     "output_type": "stream",
     "text": [
      "Satrting the Validation process...\n"
     ]
    },
    {
     "name": "stderr",
     "output_type": "stream",
     "text": [
      "Epoch 11/40, Validation Loss: 1.3583: 100%|██████████| 3/3 [00:00<00:00, 375.28it/s]\n"
     ]
    },
    {
     "name": "stdout",
     "output_type": "stream",
     "text": [
      "Epoch 11/40, Loss: 0.2735, Validation Loss: 0.6126\n"
     ]
    },
    {
     "name": "stderr",
     "output_type": "stream",
     "text": [
      "Epoch 12/40, Loss: 0.2127: 100%|██████████| 138/138 [00:00<00:00, 301.26it/s]\n"
     ]
    },
    {
     "name": "stdout",
     "output_type": "stream",
     "text": [
      "Satrting the Validation process...\n"
     ]
    },
    {
     "name": "stderr",
     "output_type": "stream",
     "text": [
      "Epoch 12/40, Validation Loss: 1.3817: 100%|██████████| 3/3 [00:00<00:00, 552.08it/s]\n"
     ]
    },
    {
     "name": "stdout",
     "output_type": "stream",
     "text": [
      "Epoch 12/40, Loss: 0.2708, Validation Loss: 0.6181\n"
     ]
    },
    {
     "name": "stderr",
     "output_type": "stream",
     "text": [
      "Epoch 13/40, Loss: 0.2207: 100%|██████████| 138/138 [00:00<00:00, 260.50it/s]\n"
     ]
    },
    {
     "name": "stdout",
     "output_type": "stream",
     "text": [
      "Satrting the Validation process...\n"
     ]
    },
    {
     "name": "stderr",
     "output_type": "stream",
     "text": [
      "Epoch 13/40, Validation Loss: 1.3881: 100%|██████████| 3/3 [00:00<00:00, 339.26it/s]\n"
     ]
    },
    {
     "name": "stdout",
     "output_type": "stream",
     "text": [
      "Epoch 13/40, Loss: 0.2673, Validation Loss: 0.6233\n"
     ]
    },
    {
     "name": "stderr",
     "output_type": "stream",
     "text": [
      "Epoch 14/40, Loss: 0.2403: 100%|██████████| 138/138 [00:00<00:00, 292.52it/s]\n"
     ]
    },
    {
     "name": "stdout",
     "output_type": "stream",
     "text": [
      "Satrting the Validation process...\n"
     ]
    },
    {
     "name": "stderr",
     "output_type": "stream",
     "text": [
      "Epoch 14/40, Validation Loss: 1.4032: 100%|██████████| 3/3 [00:00<00:00, 467.44it/s]\n"
     ]
    },
    {
     "name": "stdout",
     "output_type": "stream",
     "text": [
      "Epoch    14: reducing learning rate of group 0 to 1.0000e-05.\n",
      "Epoch 14/40, Loss: 0.2650, Validation Loss: 0.6248\n"
     ]
    },
    {
     "name": "stderr",
     "output_type": "stream",
     "text": [
      "Epoch 15/40, Loss: 0.3832: 100%|██████████| 138/138 [00:00<00:00, 330.85it/s]\n"
     ]
    },
    {
     "name": "stdout",
     "output_type": "stream",
     "text": [
      "Satrting the Validation process...\n"
     ]
    },
    {
     "name": "stderr",
     "output_type": "stream",
     "text": [
      "Epoch 15/40, Validation Loss: 1.4040: 100%|██████████| 3/3 [00:00<00:00, 365.35it/s]\n"
     ]
    },
    {
     "name": "stdout",
     "output_type": "stream",
     "text": [
      "Epoch 15/40, Loss: 0.2614, Validation Loss: 0.6251\n"
     ]
    },
    {
     "name": "stderr",
     "output_type": "stream",
     "text": [
      "Epoch 16/40, Loss: 0.0992: 100%|██████████| 138/138 [00:00<00:00, 335.79it/s]\n"
     ]
    },
    {
     "name": "stdout",
     "output_type": "stream",
     "text": [
      "Satrting the Validation process...\n"
     ]
    },
    {
     "name": "stderr",
     "output_type": "stream",
     "text": [
      "Epoch 16/40, Validation Loss: 1.4064: 100%|██████████| 3/3 [00:00<00:00, 377.30it/s]\n"
     ]
    },
    {
     "name": "stdout",
     "output_type": "stream",
     "text": [
      "Epoch 16/40, Loss: 0.2613, Validation Loss: 0.6255\n"
     ]
    },
    {
     "name": "stderr",
     "output_type": "stream",
     "text": [
      "Epoch 17/40, Loss: 0.1040: 100%|██████████| 138/138 [00:00<00:00, 329.15it/s]\n"
     ]
    },
    {
     "name": "stdout",
     "output_type": "stream",
     "text": [
      "Satrting the Validation process...\n"
     ]
    },
    {
     "name": "stderr",
     "output_type": "stream",
     "text": [
      "Epoch 17/40, Validation Loss: 1.4073: 100%|██████████| 3/3 [00:00<00:00, 579.32it/s]\n"
     ]
    },
    {
     "name": "stdout",
     "output_type": "stream",
     "text": [
      "Epoch 17/40, Loss: 0.2609, Validation Loss: 0.6258\n"
     ]
    },
    {
     "name": "stderr",
     "output_type": "stream",
     "text": [
      "Epoch 18/40, Loss: 0.0146: 100%|██████████| 138/138 [00:00<00:00, 314.52it/s]\n"
     ]
    },
    {
     "name": "stdout",
     "output_type": "stream",
     "text": [
      "Satrting the Validation process...\n"
     ]
    },
    {
     "name": "stderr",
     "output_type": "stream",
     "text": [
      "Epoch 18/40, Validation Loss: 1.4090: 100%|██████████| 3/3 [00:00<00:00, 429.52it/s]\n"
     ]
    },
    {
     "name": "stdout",
     "output_type": "stream",
     "text": [
      "Epoch 18/40, Loss: 0.2607, Validation Loss: 0.6262\n"
     ]
    },
    {
     "name": "stderr",
     "output_type": "stream",
     "text": [
      "Epoch 19/40, Loss: 0.7448: 100%|██████████| 138/138 [00:00<00:00, 324.04it/s]\n"
     ]
    },
    {
     "name": "stdout",
     "output_type": "stream",
     "text": [
      "Satrting the Validation process...\n"
     ]
    },
    {
     "name": "stderr",
     "output_type": "stream",
     "text": [
      "Epoch 19/40, Validation Loss: 1.4102: 100%|██████████| 3/3 [00:00<00:00, 412.08it/s]\n"
     ]
    },
    {
     "name": "stdout",
     "output_type": "stream",
     "text": [
      "Epoch 19/40, Loss: 0.2604, Validation Loss: 0.6267\n"
     ]
    },
    {
     "name": "stderr",
     "output_type": "stream",
     "text": [
      "Epoch 20/40, Loss: 0.2465: 100%|██████████| 138/138 [00:00<00:00, 329.83it/s]\n"
     ]
    },
    {
     "name": "stdout",
     "output_type": "stream",
     "text": [
      "Satrting the Validation process...\n"
     ]
    },
    {
     "name": "stderr",
     "output_type": "stream",
     "text": [
      "Epoch 20/40, Validation Loss: 1.4111: 100%|██████████| 3/3 [00:00<00:00, 403.01it/s]\n"
     ]
    },
    {
     "name": "stdout",
     "output_type": "stream",
     "text": [
      "Epoch    20: reducing learning rate of group 0 to 1.0000e-06.\n",
      "Epoch 20/40, Loss: 0.2603, Validation Loss: 0.6268\n"
     ]
    },
    {
     "name": "stderr",
     "output_type": "stream",
     "text": [
      "Epoch 21/40, Loss: 0.2568: 100%|██████████| 138/138 [00:00<00:00, 335.63it/s]\n"
     ]
    },
    {
     "name": "stdout",
     "output_type": "stream",
     "text": [
      "Satrting the Validation process...\n"
     ]
    },
    {
     "name": "stderr",
     "output_type": "stream",
     "text": [
      "Epoch 21/40, Validation Loss: 1.4113: 100%|██████████| 3/3 [00:00<00:00, 438.18it/s]\n"
     ]
    },
    {
     "name": "stdout",
     "output_type": "stream",
     "text": [
      "Epoch 21/40, Loss: 0.2599, Validation Loss: 0.6268\n"
     ]
    },
    {
     "name": "stderr",
     "output_type": "stream",
     "text": [
      "Epoch 22/40, Loss: 0.1657: 100%|██████████| 138/138 [00:00<00:00, 329.71it/s]\n"
     ]
    },
    {
     "name": "stdout",
     "output_type": "stream",
     "text": [
      "Satrting the Validation process...\n"
     ]
    },
    {
     "name": "stderr",
     "output_type": "stream",
     "text": [
      "Epoch 22/40, Validation Loss: 1.4115: 100%|██████████| 3/3 [00:00<00:00, 493.74it/s]\n"
     ]
    },
    {
     "name": "stdout",
     "output_type": "stream",
     "text": [
      "Epoch 22/40, Loss: 0.2599, Validation Loss: 0.6269\n"
     ]
    },
    {
     "name": "stderr",
     "output_type": "stream",
     "text": [
      "Epoch 23/40, Loss: 0.7679: 100%|██████████| 138/138 [00:00<00:00, 335.65it/s]\n"
     ]
    },
    {
     "name": "stdout",
     "output_type": "stream",
     "text": [
      "Satrting the Validation process...\n"
     ]
    },
    {
     "name": "stderr",
     "output_type": "stream",
     "text": [
      "Epoch 23/40, Validation Loss: 1.4116: 100%|██████████| 3/3 [00:00<00:00, 464.61it/s]\n"
     ]
    },
    {
     "name": "stdout",
     "output_type": "stream",
     "text": [
      "Epoch 23/40, Loss: 0.2599, Validation Loss: 0.6269\n"
     ]
    },
    {
     "name": "stderr",
     "output_type": "stream",
     "text": [
      "Epoch 24/40, Loss: 0.5374: 100%|██████████| 138/138 [00:00<00:00, 296.24it/s]\n"
     ]
    },
    {
     "name": "stdout",
     "output_type": "stream",
     "text": [
      "Satrting the Validation process...\n"
     ]
    },
    {
     "name": "stderr",
     "output_type": "stream",
     "text": [
      "Epoch 24/40, Validation Loss: 1.4117: 100%|██████████| 3/3 [00:00<00:00, 411.85it/s]\n"
     ]
    },
    {
     "name": "stdout",
     "output_type": "stream",
     "text": [
      "Epoch 24/40, Loss: 0.2599, Validation Loss: 0.6269\n"
     ]
    },
    {
     "name": "stderr",
     "output_type": "stream",
     "text": [
      "Epoch 25/40, Loss: 0.1327: 100%|██████████| 138/138 [00:00<00:00, 331.62it/s]\n"
     ]
    },
    {
     "name": "stdout",
     "output_type": "stream",
     "text": [
      "Satrting the Validation process...\n"
     ]
    },
    {
     "name": "stderr",
     "output_type": "stream",
     "text": [
      "Epoch 25/40, Validation Loss: 1.4118: 100%|██████████| 3/3 [00:00<00:00, 379.90it/s]\n"
     ]
    },
    {
     "name": "stdout",
     "output_type": "stream",
     "text": [
      "Epoch 25/40, Loss: 0.2598, Validation Loss: 0.6270\n"
     ]
    },
    {
     "name": "stderr",
     "output_type": "stream",
     "text": [
      "Epoch 26/40, Loss: 0.0459: 100%|██████████| 138/138 [00:00<00:00, 295.90it/s]\n"
     ]
    },
    {
     "name": "stdout",
     "output_type": "stream",
     "text": [
      "Satrting the Validation process...\n"
     ]
    },
    {
     "name": "stderr",
     "output_type": "stream",
     "text": [
      "Epoch 26/40, Validation Loss: 1.4120: 100%|██████████| 3/3 [00:00<00:00, 461.67it/s]\n"
     ]
    },
    {
     "name": "stdout",
     "output_type": "stream",
     "text": [
      "Epoch    26: reducing learning rate of group 0 to 1.0000e-07.\n",
      "Epoch 26/40, Loss: 0.2598, Validation Loss: 0.6270\n"
     ]
    },
    {
     "name": "stderr",
     "output_type": "stream",
     "text": [
      "Epoch 27/40, Loss: 0.0146: 100%|██████████| 138/138 [00:00<00:00, 332.07it/s]\n"
     ]
    },
    {
     "name": "stdout",
     "output_type": "stream",
     "text": [
      "Satrting the Validation process...\n"
     ]
    },
    {
     "name": "stderr",
     "output_type": "stream",
     "text": [
      "Epoch 27/40, Validation Loss: 1.4120: 100%|██████████| 3/3 [00:00<00:00, 458.96it/s]\n"
     ]
    },
    {
     "name": "stdout",
     "output_type": "stream",
     "text": [
      "Epoch 27/40, Loss: 0.2598, Validation Loss: 0.6270\n"
     ]
    },
    {
     "name": "stderr",
     "output_type": "stream",
     "text": [
      "Epoch 28/40, Loss: 0.0272: 100%|██████████| 138/138 [00:00<00:00, 323.76it/s]\n"
     ]
    },
    {
     "name": "stdout",
     "output_type": "stream",
     "text": [
      "Satrting the Validation process...\n"
     ]
    },
    {
     "name": "stderr",
     "output_type": "stream",
     "text": [
      "Epoch 28/40, Validation Loss: 1.4120: 100%|██████████| 3/3 [00:00<00:00, 452.67it/s]\n"
     ]
    },
    {
     "name": "stdout",
     "output_type": "stream",
     "text": [
      "Epoch 28/40, Loss: 0.2598, Validation Loss: 0.6270\n"
     ]
    },
    {
     "name": "stderr",
     "output_type": "stream",
     "text": [
      "Epoch 29/40, Loss: 0.3109: 100%|██████████| 138/138 [00:00<00:00, 333.88it/s]\n"
     ]
    },
    {
     "name": "stdout",
     "output_type": "stream",
     "text": [
      "Satrting the Validation process...\n"
     ]
    },
    {
     "name": "stderr",
     "output_type": "stream",
     "text": [
      "Epoch 29/40, Validation Loss: 1.4120: 100%|██████████| 3/3 [00:00<00:00, 433.68it/s]\n"
     ]
    },
    {
     "name": "stdout",
     "output_type": "stream",
     "text": [
      "Epoch 29/40, Loss: 0.2598, Validation Loss: 0.6270\n"
     ]
    },
    {
     "name": "stderr",
     "output_type": "stream",
     "text": [
      "Epoch 30/40, Loss: 0.0208: 100%|██████████| 138/138 [00:00<00:00, 335.15it/s]\n"
     ]
    },
    {
     "name": "stdout",
     "output_type": "stream",
     "text": [
      "Satrting the Validation process...\n"
     ]
    },
    {
     "name": "stderr",
     "output_type": "stream",
     "text": [
      "Epoch 30/40, Validation Loss: 1.4121: 100%|██████████| 3/3 [00:00<00:00, 460.39it/s]\n"
     ]
    },
    {
     "name": "stdout",
     "output_type": "stream",
     "text": [
      "Epoch 30/40, Loss: 0.2598, Validation Loss: 0.6270\n"
     ]
    },
    {
     "name": "stderr",
     "output_type": "stream",
     "text": [
      "Epoch 31/40, Loss: 0.5204: 100%|██████████| 138/138 [00:00<00:00, 243.22it/s]\n"
     ]
    },
    {
     "name": "stdout",
     "output_type": "stream",
     "text": [
      "Satrting the Validation process...\n"
     ]
    },
    {
     "name": "stderr",
     "output_type": "stream",
     "text": [
      "Epoch 31/40, Validation Loss: 1.4121: 100%|██████████| 3/3 [00:00<00:00, 451.49it/s]\n"
     ]
    },
    {
     "name": "stdout",
     "output_type": "stream",
     "text": [
      "Epoch 31/40, Loss: 0.2598, Validation Loss: 0.6270\n"
     ]
    },
    {
     "name": "stderr",
     "output_type": "stream",
     "text": [
      "Epoch 32/40, Loss: 0.0093: 100%|██████████| 138/138 [00:00<00:00, 328.57it/s]\n"
     ]
    },
    {
     "name": "stdout",
     "output_type": "stream",
     "text": [
      "Satrting the Validation process...\n"
     ]
    },
    {
     "name": "stderr",
     "output_type": "stream",
     "text": [
      "Epoch 32/40, Validation Loss: 1.4121: 100%|██████████| 3/3 [00:00<00:00, 258.28it/s]\n"
     ]
    },
    {
     "name": "stdout",
     "output_type": "stream",
     "text": [
      "Epoch    32: reducing learning rate of group 0 to 1.0000e-08.\n",
      "Epoch 32/40, Loss: 0.2598, Validation Loss: 0.6270\n"
     ]
    },
    {
     "name": "stderr",
     "output_type": "stream",
     "text": [
      "Epoch 33/40, Loss: 0.0731: 100%|██████████| 138/138 [00:00<00:00, 315.55it/s]\n"
     ]
    },
    {
     "name": "stdout",
     "output_type": "stream",
     "text": [
      "Satrting the Validation process...\n"
     ]
    },
    {
     "name": "stderr",
     "output_type": "stream",
     "text": [
      "Epoch 33/40, Validation Loss: 1.4121: 100%|██████████| 3/3 [00:00<00:00, 356.14it/s]\n"
     ]
    },
    {
     "name": "stdout",
     "output_type": "stream",
     "text": [
      "Epoch 33/40, Loss: 0.2598, Validation Loss: 0.6270\n"
     ]
    },
    {
     "name": "stderr",
     "output_type": "stream",
     "text": [
      "Epoch 34/40, Loss: 0.9243: 100%|██████████| 138/138 [00:00<00:00, 337.52it/s]\n"
     ]
    },
    {
     "name": "stdout",
     "output_type": "stream",
     "text": [
      "Satrting the Validation process...\n"
     ]
    },
    {
     "name": "stderr",
     "output_type": "stream",
     "text": [
      "Epoch 34/40, Validation Loss: 1.4121: 100%|██████████| 3/3 [00:00<00:00, 378.64it/s]\n"
     ]
    },
    {
     "name": "stdout",
     "output_type": "stream",
     "text": [
      "Epoch 34/40, Loss: 0.2598, Validation Loss: 0.6270\n"
     ]
    },
    {
     "name": "stderr",
     "output_type": "stream",
     "text": [
      "Epoch 35/40, Loss: 0.4240: 100%|██████████| 138/138 [00:00<00:00, 331.10it/s]\n"
     ]
    },
    {
     "name": "stdout",
     "output_type": "stream",
     "text": [
      "Satrting the Validation process...\n"
     ]
    },
    {
     "name": "stderr",
     "output_type": "stream",
     "text": [
      "Epoch 35/40, Validation Loss: 1.4121: 100%|██████████| 3/3 [00:00<00:00, 402.86it/s]\n"
     ]
    },
    {
     "name": "stdout",
     "output_type": "stream",
     "text": [
      "Epoch 35/40, Loss: 0.2598, Validation Loss: 0.6270\n"
     ]
    },
    {
     "name": "stderr",
     "output_type": "stream",
     "text": [
      "Epoch 36/40, Loss: 0.0691: 100%|██████████| 138/138 [00:00<00:00, 339.71it/s]\n"
     ]
    },
    {
     "name": "stdout",
     "output_type": "stream",
     "text": [
      "Satrting the Validation process...\n"
     ]
    },
    {
     "name": "stderr",
     "output_type": "stream",
     "text": [
      "Epoch 36/40, Validation Loss: 1.4121: 100%|██████████| 3/3 [00:00<00:00, 308.14it/s]\n"
     ]
    },
    {
     "name": "stdout",
     "output_type": "stream",
     "text": [
      "Epoch 36/40, Loss: 0.2598, Validation Loss: 0.6270\n"
     ]
    },
    {
     "name": "stderr",
     "output_type": "stream",
     "text": [
      "Epoch 37/40, Loss: 0.3384: 100%|██████████| 138/138 [00:00<00:00, 332.53it/s]\n"
     ]
    },
    {
     "name": "stdout",
     "output_type": "stream",
     "text": [
      "Satrting the Validation process...\n"
     ]
    },
    {
     "name": "stderr",
     "output_type": "stream",
     "text": [
      "Epoch 37/40, Validation Loss: 1.4121: 100%|██████████| 3/3 [00:00<00:00, 383.73it/s]\n"
     ]
    },
    {
     "name": "stdout",
     "output_type": "stream",
     "text": [
      "Epoch 37/40, Loss: 0.2598, Validation Loss: 0.6270\n"
     ]
    },
    {
     "name": "stderr",
     "output_type": "stream",
     "text": [
      "Epoch 38/40, Loss: 0.1605: 100%|██████████| 138/138 [00:00<00:00, 261.92it/s]\n"
     ]
    },
    {
     "name": "stdout",
     "output_type": "stream",
     "text": [
      "Satrting the Validation process...\n"
     ]
    },
    {
     "name": "stderr",
     "output_type": "stream",
     "text": [
      "Epoch 38/40, Validation Loss: 1.4121: 100%|██████████| 3/3 [00:00<00:00, 386.93it/s]\n"
     ]
    },
    {
     "name": "stdout",
     "output_type": "stream",
     "text": [
      "Epoch 38/40, Loss: 0.2598, Validation Loss: 0.6270\n"
     ]
    },
    {
     "name": "stderr",
     "output_type": "stream",
     "text": [
      "Epoch 39/40, Loss: 0.4243: 100%|██████████| 138/138 [00:00<00:00, 327.51it/s]\n"
     ]
    },
    {
     "name": "stdout",
     "output_type": "stream",
     "text": [
      "Satrting the Validation process...\n"
     ]
    },
    {
     "name": "stderr",
     "output_type": "stream",
     "text": [
      "Epoch 39/40, Validation Loss: 1.4121: 100%|██████████| 3/3 [00:00<00:00, 328.85it/s]\n"
     ]
    },
    {
     "name": "stdout",
     "output_type": "stream",
     "text": [
      "Epoch 39/40, Loss: 0.2597, Validation Loss: 0.6270\n"
     ]
    },
    {
     "name": "stderr",
     "output_type": "stream",
     "text": [
      "Epoch 40/40, Loss: 0.0156: 100%|██████████| 138/138 [00:00<00:00, 329.13it/s]\n"
     ]
    },
    {
     "name": "stdout",
     "output_type": "stream",
     "text": [
      "Satrting the Validation process...\n"
     ]
    },
    {
     "name": "stderr",
     "output_type": "stream",
     "text": [
      "Epoch 40/40, Validation Loss: 1.4121: 100%|██████████| 3/3 [00:00<00:00, 432.39it/s]\n"
     ]
    },
    {
     "name": "stdout",
     "output_type": "stream",
     "text": [
      "Epoch 40/40, Loss: 0.2597, Validation Loss: 0.6270\n",
      "Pretrained model loaded successfully!\n",
      "Starting the 4 fold\n"
     ]
    },
    {
     "name": "stderr",
     "output_type": "stream",
     "text": [
      "Epoch 1/40, Loss: 1.2182: 100%|██████████| 138/138 [00:00<00:00, 238.49it/s]\n"
     ]
    },
    {
     "name": "stdout",
     "output_type": "stream",
     "text": [
      "Satrting the Validation process...\n"
     ]
    },
    {
     "name": "stderr",
     "output_type": "stream",
     "text": [
      "Epoch 1/40, Validation Loss: 0.4041: 100%|██████████| 3/3 [00:00<00:00, 407.49it/s]\n"
     ]
    },
    {
     "name": "stdout",
     "output_type": "stream",
     "text": [
      "Epoch 1/40, Loss: 0.6859, Validation Loss: 0.5109\n"
     ]
    },
    {
     "name": "stderr",
     "output_type": "stream",
     "text": [
      "Epoch 2/40, Loss: 0.6280: 100%|██████████| 138/138 [00:00<00:00, 325.76it/s]\n"
     ]
    },
    {
     "name": "stdout",
     "output_type": "stream",
     "text": [
      "Satrting the Validation process...\n"
     ]
    },
    {
     "name": "stderr",
     "output_type": "stream",
     "text": [
      "Epoch 2/40, Validation Loss: 0.1955: 100%|██████████| 3/3 [00:00<00:00, 588.01it/s]\n"
     ]
    },
    {
     "name": "stdout",
     "output_type": "stream",
     "text": [
      "Epoch 2/40, Loss: 0.5469, Validation Loss: 0.3770\n"
     ]
    },
    {
     "name": "stderr",
     "output_type": "stream",
     "text": [
      "Epoch 3/40, Loss: 0.5301: 100%|██████████| 138/138 [00:00<00:00, 328.58it/s]\n"
     ]
    },
    {
     "name": "stdout",
     "output_type": "stream",
     "text": [
      "Satrting the Validation process...\n"
     ]
    },
    {
     "name": "stderr",
     "output_type": "stream",
     "text": [
      "Epoch 3/40, Validation Loss: 0.1529: 100%|██████████| 3/3 [00:00<00:00, 431.76it/s]\n"
     ]
    },
    {
     "name": "stdout",
     "output_type": "stream",
     "text": [
      "Epoch 3/40, Loss: 0.4511, Validation Loss: 0.2802\n"
     ]
    },
    {
     "name": "stderr",
     "output_type": "stream",
     "text": [
      "Epoch 4/40, Loss: 0.7268: 100%|██████████| 138/138 [00:00<00:00, 326.24it/s]\n"
     ]
    },
    {
     "name": "stdout",
     "output_type": "stream",
     "text": [
      "Satrting the Validation process...\n"
     ]
    },
    {
     "name": "stderr",
     "output_type": "stream",
     "text": [
      "Epoch 4/40, Validation Loss: 0.1328: 100%|██████████| 3/3 [00:00<00:00, 510.11it/s]\n"
     ]
    },
    {
     "name": "stdout",
     "output_type": "stream",
     "text": [
      "Epoch 4/40, Loss: 0.3753, Validation Loss: 0.2282\n"
     ]
    },
    {
     "name": "stderr",
     "output_type": "stream",
     "text": [
      "Epoch 5/40, Loss: 0.1356: 100%|██████████| 138/138 [00:00<00:00, 322.57it/s]\n"
     ]
    },
    {
     "name": "stdout",
     "output_type": "stream",
     "text": [
      "Satrting the Validation process...\n"
     ]
    },
    {
     "name": "stderr",
     "output_type": "stream",
     "text": [
      "Epoch 5/40, Validation Loss: 0.0623: 100%|██████████| 3/3 [00:00<00:00, 462.85it/s]\n"
     ]
    },
    {
     "name": "stdout",
     "output_type": "stream",
     "text": [
      "Epoch 5/40, Loss: 0.3464, Validation Loss: 0.2058\n"
     ]
    },
    {
     "name": "stderr",
     "output_type": "stream",
     "text": [
      "Epoch 6/40, Loss: 0.0333: 100%|██████████| 138/138 [00:00<00:00, 324.06it/s]\n"
     ]
    },
    {
     "name": "stdout",
     "output_type": "stream",
     "text": [
      "Satrting the Validation process...\n"
     ]
    },
    {
     "name": "stderr",
     "output_type": "stream",
     "text": [
      "Epoch 6/40, Validation Loss: 0.0424: 100%|██████████| 3/3 [00:00<00:00, 442.66it/s]\n"
     ]
    },
    {
     "name": "stdout",
     "output_type": "stream",
     "text": [
      "Epoch 6/40, Loss: 0.3215, Validation Loss: 0.2284\n"
     ]
    },
    {
     "name": "stderr",
     "output_type": "stream",
     "text": [
      "Epoch 7/40, Loss: 0.2052: 100%|██████████| 138/138 [00:00<00:00, 344.92it/s]\n"
     ]
    },
    {
     "name": "stdout",
     "output_type": "stream",
     "text": [
      "Satrting the Validation process...\n"
     ]
    },
    {
     "name": "stderr",
     "output_type": "stream",
     "text": [
      "Epoch 7/40, Validation Loss: 0.0474: 100%|██████████| 3/3 [00:00<00:00, 386.96it/s]\n"
     ]
    },
    {
     "name": "stdout",
     "output_type": "stream",
     "text": [
      "Epoch 7/40, Loss: 0.3147, Validation Loss: 0.2222\n"
     ]
    },
    {
     "name": "stderr",
     "output_type": "stream",
     "text": [
      "Epoch 8/40, Loss: 0.3657: 100%|██████████| 138/138 [00:00<00:00, 327.35it/s]\n"
     ]
    },
    {
     "name": "stdout",
     "output_type": "stream",
     "text": [
      "Satrting the Validation process...\n"
     ]
    },
    {
     "name": "stderr",
     "output_type": "stream",
     "text": [
      "Epoch 8/40, Validation Loss: 0.0366: 100%|██████████| 3/3 [00:00<00:00, 426.51it/s]\n"
     ]
    },
    {
     "name": "stdout",
     "output_type": "stream",
     "text": [
      "Epoch 8/40, Loss: 0.3066, Validation Loss: 0.2356\n"
     ]
    },
    {
     "name": "stderr",
     "output_type": "stream",
     "text": [
      "Epoch 9/40, Loss: 0.1238: 100%|██████████| 138/138 [00:00<00:00, 303.67it/s]\n"
     ]
    },
    {
     "name": "stdout",
     "output_type": "stream",
     "text": [
      "Satrting the Validation process...\n"
     ]
    },
    {
     "name": "stderr",
     "output_type": "stream",
     "text": [
      "Epoch 9/40, Validation Loss: 0.0349: 100%|██████████| 3/3 [00:00<00:00, 620.61it/s]\n"
     ]
    },
    {
     "name": "stdout",
     "output_type": "stream",
     "text": [
      "Epoch 9/40, Loss: 0.2944, Validation Loss: 0.2068\n"
     ]
    },
    {
     "name": "stderr",
     "output_type": "stream",
     "text": [
      "Epoch 10/40, Loss: 0.0687: 100%|██████████| 138/138 [00:00<00:00, 330.58it/s]\n"
     ]
    },
    {
     "name": "stdout",
     "output_type": "stream",
     "text": [
      "Satrting the Validation process...\n"
     ]
    },
    {
     "name": "stderr",
     "output_type": "stream",
     "text": [
      "Epoch 10/40, Validation Loss: 0.0605: 100%|██████████| 3/3 [00:00<00:00, 420.93it/s]\n"
     ]
    },
    {
     "name": "stdout",
     "output_type": "stream",
     "text": [
      "Epoch 10/40, Loss: 0.2527, Validation Loss: 0.1877\n"
     ]
    },
    {
     "name": "stderr",
     "output_type": "stream",
     "text": [
      "Epoch 11/40, Loss: 0.0251: 100%|██████████| 138/138 [00:00<00:00, 289.82it/s]\n"
     ]
    },
    {
     "name": "stdout",
     "output_type": "stream",
     "text": [
      "Satrting the Validation process...\n"
     ]
    },
    {
     "name": "stderr",
     "output_type": "stream",
     "text": [
      "Epoch 11/40, Validation Loss: 0.0284: 100%|██████████| 3/3 [00:00<00:00, 197.63it/s]\n"
     ]
    },
    {
     "name": "stdout",
     "output_type": "stream",
     "text": [
      "Epoch 11/40, Loss: 0.2624, Validation Loss: 0.1930\n"
     ]
    },
    {
     "name": "stderr",
     "output_type": "stream",
     "text": [
      "Epoch 12/40, Loss: 0.0573: 100%|██████████| 138/138 [00:00<00:00, 234.63it/s]\n"
     ]
    },
    {
     "name": "stdout",
     "output_type": "stream",
     "text": [
      "Satrting the Validation process...\n"
     ]
    },
    {
     "name": "stderr",
     "output_type": "stream",
     "text": [
      "Epoch 12/40, Validation Loss: 0.0222: 100%|██████████| 3/3 [00:00<00:00, 348.32it/s]\n"
     ]
    },
    {
     "name": "stdout",
     "output_type": "stream",
     "text": [
      "Epoch 12/40, Loss: 0.2652, Validation Loss: 0.2088\n"
     ]
    },
    {
     "name": "stderr",
     "output_type": "stream",
     "text": [
      "Epoch 13/40, Loss: 0.1806: 100%|██████████| 138/138 [00:00<00:00, 336.05it/s]\n"
     ]
    },
    {
     "name": "stdout",
     "output_type": "stream",
     "text": [
      "Satrting the Validation process...\n"
     ]
    },
    {
     "name": "stderr",
     "output_type": "stream",
     "text": [
      "Epoch 13/40, Validation Loss: 0.0406: 100%|██████████| 3/3 [00:00<00:00, 519.96it/s]\n"
     ]
    },
    {
     "name": "stdout",
     "output_type": "stream",
     "text": [
      "Epoch 13/40, Loss: 0.2586, Validation Loss: 0.1555\n"
     ]
    },
    {
     "name": "stderr",
     "output_type": "stream",
     "text": [
      "Epoch 14/40, Loss: 0.0057: 100%|██████████| 138/138 [00:00<00:00, 334.69it/s]\n"
     ]
    },
    {
     "name": "stdout",
     "output_type": "stream",
     "text": [
      "Satrting the Validation process...\n"
     ]
    },
    {
     "name": "stderr",
     "output_type": "stream",
     "text": [
      "Epoch 14/40, Validation Loss: 0.0097: 100%|██████████| 3/3 [00:00<00:00, 482.70it/s]\n"
     ]
    },
    {
     "name": "stdout",
     "output_type": "stream",
     "text": [
      "Epoch 14/40, Loss: 0.2220, Validation Loss: 0.2395\n"
     ]
    },
    {
     "name": "stderr",
     "output_type": "stream",
     "text": [
      "Epoch 15/40, Loss: 0.0621: 100%|██████████| 138/138 [00:00<00:00, 324.54it/s]\n"
     ]
    },
    {
     "name": "stdout",
     "output_type": "stream",
     "text": [
      "Satrting the Validation process...\n"
     ]
    },
    {
     "name": "stderr",
     "output_type": "stream",
     "text": [
      "Epoch 15/40, Validation Loss: 0.0163: 100%|██████████| 3/3 [00:00<00:00, 558.72it/s]\n"
     ]
    },
    {
     "name": "stdout",
     "output_type": "stream",
     "text": [
      "Epoch 15/40, Loss: 0.2418, Validation Loss: 0.1879\n"
     ]
    },
    {
     "name": "stderr",
     "output_type": "stream",
     "text": [
      "Epoch 16/40, Loss: 0.3166: 100%|██████████| 138/138 [00:00<00:00, 327.59it/s]\n"
     ]
    },
    {
     "name": "stdout",
     "output_type": "stream",
     "text": [
      "Satrting the Validation process...\n"
     ]
    },
    {
     "name": "stderr",
     "output_type": "stream",
     "text": [
      "Epoch 16/40, Validation Loss: 0.0167: 100%|██████████| 3/3 [00:00<00:00, 502.51it/s]\n"
     ]
    },
    {
     "name": "stdout",
     "output_type": "stream",
     "text": [
      "Epoch 16/40, Loss: 0.2319, Validation Loss: 0.1896\n"
     ]
    },
    {
     "name": "stderr",
     "output_type": "stream",
     "text": [
      "Epoch 17/40, Loss: 0.0112: 100%|██████████| 138/138 [00:00<00:00, 335.46it/s]\n"
     ]
    },
    {
     "name": "stdout",
     "output_type": "stream",
     "text": [
      "Satrting the Validation process...\n"
     ]
    },
    {
     "name": "stderr",
     "output_type": "stream",
     "text": [
      "Epoch 17/40, Validation Loss: 0.0210: 100%|██████████| 3/3 [00:00<00:00, 402.51it/s]\n"
     ]
    },
    {
     "name": "stdout",
     "output_type": "stream",
     "text": [
      "Epoch 17/40, Loss: 0.2393, Validation Loss: 0.1423\n"
     ]
    },
    {
     "name": "stderr",
     "output_type": "stream",
     "text": [
      "Epoch 18/40, Loss: 0.9757: 100%|██████████| 138/138 [00:00<00:00, 315.72it/s]\n"
     ]
    },
    {
     "name": "stdout",
     "output_type": "stream",
     "text": [
      "Satrting the Validation process...\n"
     ]
    },
    {
     "name": "stderr",
     "output_type": "stream",
     "text": [
      "Epoch 18/40, Validation Loss: 0.0225: 100%|██████████| 3/3 [00:00<00:00, 526.11it/s]\n"
     ]
    },
    {
     "name": "stdout",
     "output_type": "stream",
     "text": [
      "Epoch 18/40, Loss: 0.2266, Validation Loss: 0.1261\n"
     ]
    },
    {
     "name": "stderr",
     "output_type": "stream",
     "text": [
      "Epoch 19/40, Loss: 0.3325: 100%|██████████| 138/138 [00:00<00:00, 326.52it/s]\n"
     ]
    },
    {
     "name": "stdout",
     "output_type": "stream",
     "text": [
      "Satrting the Validation process...\n"
     ]
    },
    {
     "name": "stderr",
     "output_type": "stream",
     "text": [
      "Epoch 19/40, Validation Loss: 0.0277: 100%|██████████| 3/3 [00:00<00:00, 568.85it/s]\n"
     ]
    },
    {
     "name": "stdout",
     "output_type": "stream",
     "text": [
      "Epoch 19/40, Loss: 0.2242, Validation Loss: 0.1233\n"
     ]
    },
    {
     "name": "stderr",
     "output_type": "stream",
     "text": [
      "Epoch 20/40, Loss: 0.0195: 100%|██████████| 138/138 [00:00<00:00, 314.06it/s]\n"
     ]
    },
    {
     "name": "stdout",
     "output_type": "stream",
     "text": [
      "Satrting the Validation process...\n"
     ]
    },
    {
     "name": "stderr",
     "output_type": "stream",
     "text": [
      "Epoch 20/40, Validation Loss: 0.0124: 100%|██████████| 3/3 [00:00<00:00, 422.44it/s]\n"
     ]
    },
    {
     "name": "stdout",
     "output_type": "stream",
     "text": [
      "Epoch 20/40, Loss: 0.2087, Validation Loss: 0.1354\n"
     ]
    },
    {
     "name": "stderr",
     "output_type": "stream",
     "text": [
      "Epoch 21/40, Loss: 0.0140: 100%|██████████| 138/138 [00:00<00:00, 331.37it/s]\n"
     ]
    },
    {
     "name": "stdout",
     "output_type": "stream",
     "text": [
      "Satrting the Validation process...\n"
     ]
    },
    {
     "name": "stderr",
     "output_type": "stream",
     "text": [
      "Epoch 21/40, Validation Loss: 0.0176: 100%|██████████| 3/3 [00:00<00:00, 450.27it/s]\n"
     ]
    },
    {
     "name": "stdout",
     "output_type": "stream",
     "text": [
      "Epoch 21/40, Loss: 0.2109, Validation Loss: 0.1175\n"
     ]
    },
    {
     "name": "stderr",
     "output_type": "stream",
     "text": [
      "Epoch 22/40, Loss: 0.0407: 100%|██████████| 138/138 [00:00<00:00, 332.02it/s]\n"
     ]
    },
    {
     "name": "stdout",
     "output_type": "stream",
     "text": [
      "Satrting the Validation process...\n"
     ]
    },
    {
     "name": "stderr",
     "output_type": "stream",
     "text": [
      "Epoch 22/40, Validation Loss: 0.0167: 100%|██████████| 3/3 [00:00<00:00, 534.19it/s]\n"
     ]
    },
    {
     "name": "stdout",
     "output_type": "stream",
     "text": [
      "Epoch 22/40, Loss: 0.2095, Validation Loss: 0.1279\n"
     ]
    },
    {
     "name": "stderr",
     "output_type": "stream",
     "text": [
      "Epoch 23/40, Loss: 0.9597: 100%|██████████| 138/138 [00:00<00:00, 333.33it/s]\n"
     ]
    },
    {
     "name": "stdout",
     "output_type": "stream",
     "text": [
      "Satrting the Validation process...\n"
     ]
    },
    {
     "name": "stderr",
     "output_type": "stream",
     "text": [
      "Epoch 23/40, Validation Loss: 0.0166: 100%|██████████| 3/3 [00:00<00:00, 458.96it/s]\n"
     ]
    },
    {
     "name": "stdout",
     "output_type": "stream",
     "text": [
      "Epoch 23/40, Loss: 0.1955, Validation Loss: 0.1083\n"
     ]
    },
    {
     "name": "stderr",
     "output_type": "stream",
     "text": [
      "Epoch 24/40, Loss: 0.7870: 100%|██████████| 138/138 [00:00<00:00, 288.20it/s]\n"
     ]
    },
    {
     "name": "stdout",
     "output_type": "stream",
     "text": [
      "Satrting the Validation process...\n"
     ]
    },
    {
     "name": "stderr",
     "output_type": "stream",
     "text": [
      "Epoch 24/40, Validation Loss: 0.0046: 100%|██████████| 3/3 [00:00<00:00, 567.13it/s]\n"
     ]
    },
    {
     "name": "stdout",
     "output_type": "stream",
     "text": [
      "Epoch 24/40, Loss: 0.1926, Validation Loss: 0.2070\n"
     ]
    },
    {
     "name": "stderr",
     "output_type": "stream",
     "text": [
      "Epoch 25/40, Loss: 0.0015: 100%|██████████| 138/138 [00:00<00:00, 334.90it/s]\n"
     ]
    },
    {
     "name": "stdout",
     "output_type": "stream",
     "text": [
      "Satrting the Validation process...\n"
     ]
    },
    {
     "name": "stderr",
     "output_type": "stream",
     "text": [
      "Epoch 25/40, Validation Loss: 0.0079: 100%|██████████| 3/3 [00:00<00:00, 490.96it/s]\n"
     ]
    },
    {
     "name": "stdout",
     "output_type": "stream",
     "text": [
      "Epoch 25/40, Loss: 0.2024, Validation Loss: 0.1252\n"
     ]
    },
    {
     "name": "stderr",
     "output_type": "stream",
     "text": [
      "Epoch 26/40, Loss: 1.5978: 100%|██████████| 138/138 [00:00<00:00, 330.90it/s]\n"
     ]
    },
    {
     "name": "stdout",
     "output_type": "stream",
     "text": [
      "Satrting the Validation process...\n"
     ]
    },
    {
     "name": "stderr",
     "output_type": "stream",
     "text": [
      "Epoch 26/40, Validation Loss: 0.0093: 100%|██████████| 3/3 [00:00<00:00, 389.32it/s]\n"
     ]
    },
    {
     "name": "stdout",
     "output_type": "stream",
     "text": [
      "Epoch 26/40, Loss: 0.2134, Validation Loss: 0.1278\n"
     ]
    },
    {
     "name": "stderr",
     "output_type": "stream",
     "text": [
      "Epoch 27/40, Loss: 0.8500: 100%|██████████| 138/138 [00:00<00:00, 336.20it/s]\n"
     ]
    },
    {
     "name": "stdout",
     "output_type": "stream",
     "text": [
      "Satrting the Validation process...\n"
     ]
    },
    {
     "name": "stderr",
     "output_type": "stream",
     "text": [
      "Epoch 27/40, Validation Loss: 0.0050: 100%|██████████| 3/3 [00:00<00:00, 424.32it/s]\n"
     ]
    },
    {
     "name": "stdout",
     "output_type": "stream",
     "text": [
      "Epoch 27/40, Loss: 0.1922, Validation Loss: 0.1759\n"
     ]
    },
    {
     "name": "stderr",
     "output_type": "stream",
     "text": [
      "Epoch 28/40, Loss: 0.2259: 100%|██████████| 138/138 [00:00<00:00, 266.91it/s]\n"
     ]
    },
    {
     "name": "stdout",
     "output_type": "stream",
     "text": [
      "Satrting the Validation process...\n"
     ]
    },
    {
     "name": "stderr",
     "output_type": "stream",
     "text": [
      "Epoch 28/40, Validation Loss: 0.0086: 100%|██████████| 3/3 [00:00<00:00, 374.95it/s]\n"
     ]
    },
    {
     "name": "stdout",
     "output_type": "stream",
     "text": [
      "Epoch 28/40, Loss: 0.1998, Validation Loss: 0.1197\n"
     ]
    },
    {
     "name": "stderr",
     "output_type": "stream",
     "text": [
      "Epoch 29/40, Loss: 0.0089: 100%|██████████| 138/138 [00:00<00:00, 337.82it/s]\n"
     ]
    },
    {
     "name": "stdout",
     "output_type": "stream",
     "text": [
      "Satrting the Validation process...\n"
     ]
    },
    {
     "name": "stderr",
     "output_type": "stream",
     "text": [
      "Epoch 29/40, Validation Loss: 0.0238: 100%|██████████| 3/3 [00:00<00:00, 493.52it/s]\n"
     ]
    },
    {
     "name": "stdout",
     "output_type": "stream",
     "text": [
      "Epoch 29/40, Loss: 0.1951, Validation Loss: 0.1047\n"
     ]
    },
    {
     "name": "stderr",
     "output_type": "stream",
     "text": [
      "Epoch 30/40, Loss: 0.1224: 100%|██████████| 138/138 [00:00<00:00, 316.56it/s]\n"
     ]
    },
    {
     "name": "stdout",
     "output_type": "stream",
     "text": [
      "Satrting the Validation process...\n"
     ]
    },
    {
     "name": "stderr",
     "output_type": "stream",
     "text": [
      "Epoch 30/40, Validation Loss: 0.0088: 100%|██████████| 3/3 [00:00<00:00, 507.52it/s]\n"
     ]
    },
    {
     "name": "stdout",
     "output_type": "stream",
     "text": [
      "Epoch 30/40, Loss: 0.1851, Validation Loss: 0.1062\n"
     ]
    },
    {
     "name": "stderr",
     "output_type": "stream",
     "text": [
      "Epoch 31/40, Loss: 0.1194: 100%|██████████| 138/138 [00:00<00:00, 305.63it/s]\n"
     ]
    },
    {
     "name": "stdout",
     "output_type": "stream",
     "text": [
      "Satrting the Validation process...\n"
     ]
    },
    {
     "name": "stderr",
     "output_type": "stream",
     "text": [
      "Epoch 31/40, Validation Loss: 0.0072: 100%|██████████| 3/3 [00:00<00:00, 527.90it/s]\n"
     ]
    },
    {
     "name": "stdout",
     "output_type": "stream",
     "text": [
      "Epoch 31/40, Loss: 0.1717, Validation Loss: 0.0901\n"
     ]
    },
    {
     "name": "stderr",
     "output_type": "stream",
     "text": [
      "Epoch 32/40, Loss: 0.1962: 100%|██████████| 138/138 [00:00<00:00, 316.61it/s]\n"
     ]
    },
    {
     "name": "stdout",
     "output_type": "stream",
     "text": [
      "Satrting the Validation process...\n"
     ]
    },
    {
     "name": "stderr",
     "output_type": "stream",
     "text": [
      "Epoch 32/40, Validation Loss: 0.0154: 100%|██████████| 3/3 [00:00<00:00, 736.75it/s]\n"
     ]
    },
    {
     "name": "stdout",
     "output_type": "stream",
     "text": [
      "Epoch 32/40, Loss: 0.1802, Validation Loss: 0.0873\n"
     ]
    },
    {
     "name": "stderr",
     "output_type": "stream",
     "text": [
      "Epoch 33/40, Loss: 0.0332: 100%|██████████| 138/138 [00:00<00:00, 325.62it/s]\n"
     ]
    },
    {
     "name": "stdout",
     "output_type": "stream",
     "text": [
      "Satrting the Validation process...\n"
     ]
    },
    {
     "name": "stderr",
     "output_type": "stream",
     "text": [
      "Epoch 33/40, Validation Loss: 0.0093: 100%|██████████| 3/3 [00:00<00:00, 530.81it/s]\n"
     ]
    },
    {
     "name": "stdout",
     "output_type": "stream",
     "text": [
      "Epoch 33/40, Loss: 0.1592, Validation Loss: 0.0808\n"
     ]
    },
    {
     "name": "stderr",
     "output_type": "stream",
     "text": [
      "Epoch 34/40, Loss: 0.0979: 100%|██████████| 138/138 [00:00<00:00, 337.46it/s]\n"
     ]
    },
    {
     "name": "stdout",
     "output_type": "stream",
     "text": [
      "Satrting the Validation process...\n"
     ]
    },
    {
     "name": "stderr",
     "output_type": "stream",
     "text": [
      "Epoch 34/40, Validation Loss: 0.0122: 100%|██████████| 3/3 [00:00<00:00, 373.47it/s]\n"
     ]
    },
    {
     "name": "stdout",
     "output_type": "stream",
     "text": [
      "Epoch 34/40, Loss: 0.1819, Validation Loss: 0.0848\n"
     ]
    },
    {
     "name": "stderr",
     "output_type": "stream",
     "text": [
      "Epoch 35/40, Loss: 0.0172: 100%|██████████| 138/138 [00:00<00:00, 329.03it/s]\n"
     ]
    },
    {
     "name": "stdout",
     "output_type": "stream",
     "text": [
      "Satrting the Validation process...\n"
     ]
    },
    {
     "name": "stderr",
     "output_type": "stream",
     "text": [
      "Epoch 35/40, Validation Loss: 0.0080: 100%|██████████| 3/3 [00:00<00:00, 436.89it/s]\n"
     ]
    },
    {
     "name": "stdout",
     "output_type": "stream",
     "text": [
      "Epoch 35/40, Loss: 0.1633, Validation Loss: 0.0880\n"
     ]
    },
    {
     "name": "stderr",
     "output_type": "stream",
     "text": [
      "Epoch 36/40, Loss: 0.0034: 100%|██████████| 138/138 [00:00<00:00, 346.53it/s]\n"
     ]
    },
    {
     "name": "stdout",
     "output_type": "stream",
     "text": [
      "Satrting the Validation process...\n"
     ]
    },
    {
     "name": "stderr",
     "output_type": "stream",
     "text": [
      "Epoch 36/40, Validation Loss: 0.0086: 100%|██████████| 3/3 [00:00<00:00, 398.51it/s]\n"
     ]
    },
    {
     "name": "stdout",
     "output_type": "stream",
     "text": [
      "Epoch 36/40, Loss: 0.1718, Validation Loss: 0.0879\n"
     ]
    },
    {
     "name": "stderr",
     "output_type": "stream",
     "text": [
      "Epoch 37/40, Loss: 0.9710: 100%|██████████| 138/138 [00:00<00:00, 265.04it/s]\n"
     ]
    },
    {
     "name": "stdout",
     "output_type": "stream",
     "text": [
      "Satrting the Validation process...\n"
     ]
    },
    {
     "name": "stderr",
     "output_type": "stream",
     "text": [
      "Epoch 37/40, Validation Loss: 0.0069: 100%|██████████| 3/3 [00:00<00:00, 301.02it/s]\n"
     ]
    },
    {
     "name": "stdout",
     "output_type": "stream",
     "text": [
      "Epoch 37/40, Loss: 0.1604, Validation Loss: 0.0870\n"
     ]
    },
    {
     "name": "stderr",
     "output_type": "stream",
     "text": [
      "Epoch 38/40, Loss: 0.0265: 100%|██████████| 138/138 [00:00<00:00, 334.30it/s]\n"
     ]
    },
    {
     "name": "stdout",
     "output_type": "stream",
     "text": [
      "Satrting the Validation process...\n"
     ]
    },
    {
     "name": "stderr",
     "output_type": "stream",
     "text": [
      "Epoch 38/40, Validation Loss: 0.0093: 100%|██████████| 3/3 [00:00<00:00, 547.27it/s]\n"
     ]
    },
    {
     "name": "stdout",
     "output_type": "stream",
     "text": [
      "Epoch 38/40, Loss: 0.1665, Validation Loss: 0.0808\n"
     ]
    },
    {
     "name": "stderr",
     "output_type": "stream",
     "text": [
      "Epoch 39/40, Loss: 0.0592: 100%|██████████| 138/138 [00:00<00:00, 333.50it/s]\n"
     ]
    },
    {
     "name": "stdout",
     "output_type": "stream",
     "text": [
      "Satrting the Validation process...\n"
     ]
    },
    {
     "name": "stderr",
     "output_type": "stream",
     "text": [
      "Epoch 39/40, Validation Loss: 0.0079: 100%|██████████| 3/3 [00:00<00:00, 454.11it/s]\n"
     ]
    },
    {
     "name": "stdout",
     "output_type": "stream",
     "text": [
      "Epoch    39: reducing learning rate of group 0 to 1.0000e-04.\n",
      "Epoch 39/40, Loss: 0.1777, Validation Loss: 0.0823\n"
     ]
    },
    {
     "name": "stderr",
     "output_type": "stream",
     "text": [
      "Epoch 40/40, Loss: 0.0472: 100%|██████████| 138/138 [00:00<00:00, 336.11it/s]\n"
     ]
    },
    {
     "name": "stdout",
     "output_type": "stream",
     "text": [
      "Satrting the Validation process...\n"
     ]
    },
    {
     "name": "stderr",
     "output_type": "stream",
     "text": [
      "Epoch 40/40, Validation Loss: 0.0082: 100%|██████████| 3/3 [00:00<00:00, 476.14it/s]\n"
     ]
    },
    {
     "name": "stdout",
     "output_type": "stream",
     "text": [
      "Epoch 40/40, Loss: 0.1320, Validation Loss: 0.0792\n",
      "Pretrained model loaded successfully!\n",
      "Starting the 5 fold\n"
     ]
    },
    {
     "name": "stderr",
     "output_type": "stream",
     "text": [
      "Epoch 1/40, Loss: 0.3162: 100%|██████████| 138/138 [00:00<00:00, 331.23it/s]\n"
     ]
    },
    {
     "name": "stdout",
     "output_type": "stream",
     "text": [
      "Satrting the Validation process...\n"
     ]
    },
    {
     "name": "stderr",
     "output_type": "stream",
     "text": [
      "Epoch 1/40, Validation Loss: 0.3341: 100%|██████████| 3/3 [00:00<00:00, 457.10it/s]\n"
     ]
    },
    {
     "name": "stdout",
     "output_type": "stream",
     "text": [
      "Epoch 1/40, Loss: 0.6060, Validation Loss: 0.5235\n"
     ]
    },
    {
     "name": "stderr",
     "output_type": "stream",
     "text": [
      "Epoch 2/40, Loss: 0.2440: 100%|██████████| 138/138 [00:00<00:00, 336.28it/s]\n"
     ]
    },
    {
     "name": "stdout",
     "output_type": "stream",
     "text": [
      "Satrting the Validation process...\n"
     ]
    },
    {
     "name": "stderr",
     "output_type": "stream",
     "text": [
      "Epoch 2/40, Validation Loss: 0.3518: 100%|██████████| 3/3 [00:00<00:00, 363.33it/s]\n"
     ]
    },
    {
     "name": "stdout",
     "output_type": "stream",
     "text": [
      "Epoch 2/40, Loss: 0.5142, Validation Loss: 0.4676\n"
     ]
    },
    {
     "name": "stderr",
     "output_type": "stream",
     "text": [
      "Epoch 3/40, Loss: 0.1651: 100%|██████████| 138/138 [00:00<00:00, 336.17it/s]\n"
     ]
    },
    {
     "name": "stdout",
     "output_type": "stream",
     "text": [
      "Satrting the Validation process...\n"
     ]
    },
    {
     "name": "stderr",
     "output_type": "stream",
     "text": [
      "Epoch 3/40, Validation Loss: 0.2572: 100%|██████████| 3/3 [00:00<00:00, 431.90it/s]\n"
     ]
    },
    {
     "name": "stdout",
     "output_type": "stream",
     "text": [
      "Epoch 3/40, Loss: 0.4142, Validation Loss: 0.3854\n"
     ]
    },
    {
     "name": "stderr",
     "output_type": "stream",
     "text": [
      "Epoch 4/40, Loss: 0.5052: 100%|██████████| 138/138 [00:00<00:00, 315.56it/s]\n"
     ]
    },
    {
     "name": "stdout",
     "output_type": "stream",
     "text": [
      "Satrting the Validation process...\n"
     ]
    },
    {
     "name": "stderr",
     "output_type": "stream",
     "text": [
      "Epoch 4/40, Validation Loss: 0.2287: 100%|██████████| 3/3 [00:00<00:00, 384.58it/s]\n"
     ]
    },
    {
     "name": "stdout",
     "output_type": "stream",
     "text": [
      "Epoch 4/40, Loss: 0.3633, Validation Loss: 0.3541\n"
     ]
    },
    {
     "name": "stderr",
     "output_type": "stream",
     "text": [
      "Epoch 5/40, Loss: 0.3524: 100%|██████████| 138/138 [00:00<00:00, 320.35it/s]\n"
     ]
    },
    {
     "name": "stdout",
     "output_type": "stream",
     "text": [
      "Satrting the Validation process...\n"
     ]
    },
    {
     "name": "stderr",
     "output_type": "stream",
     "text": [
      "Epoch 5/40, Validation Loss: 0.3535: 100%|██████████| 3/3 [00:00<00:00, 431.69it/s]\n"
     ]
    },
    {
     "name": "stdout",
     "output_type": "stream",
     "text": [
      "Epoch 5/40, Loss: 0.3544, Validation Loss: 0.3703\n"
     ]
    },
    {
     "name": "stderr",
     "output_type": "stream",
     "text": [
      "Epoch 6/40, Loss: 0.7178: 100%|██████████| 138/138 [00:00<00:00, 327.77it/s]\n"
     ]
    },
    {
     "name": "stdout",
     "output_type": "stream",
     "text": [
      "Satrting the Validation process...\n"
     ]
    },
    {
     "name": "stderr",
     "output_type": "stream",
     "text": [
      "Epoch 6/40, Validation Loss: 0.3105: 100%|██████████| 3/3 [00:00<00:00, 433.10it/s]\n"
     ]
    },
    {
     "name": "stdout",
     "output_type": "stream",
     "text": [
      "Epoch 6/40, Loss: 0.3280, Validation Loss: 0.3455\n"
     ]
    },
    {
     "name": "stderr",
     "output_type": "stream",
     "text": [
      "Epoch 7/40, Loss: 0.0726: 100%|██████████| 138/138 [00:00<00:00, 329.62it/s]\n"
     ]
    },
    {
     "name": "stdout",
     "output_type": "stream",
     "text": [
      "Satrting the Validation process...\n"
     ]
    },
    {
     "name": "stderr",
     "output_type": "stream",
     "text": [
      "Epoch 7/40, Validation Loss: 0.3765: 100%|██████████| 3/3 [00:00<00:00, 380.94it/s]\n"
     ]
    },
    {
     "name": "stdout",
     "output_type": "stream",
     "text": [
      "Epoch 7/40, Loss: 0.3142, Validation Loss: 0.3568\n"
     ]
    },
    {
     "name": "stderr",
     "output_type": "stream",
     "text": [
      "Epoch 8/40, Loss: 0.2105: 100%|██████████| 138/138 [00:00<00:00, 341.56it/s]\n"
     ]
    },
    {
     "name": "stdout",
     "output_type": "stream",
     "text": [
      "Satrting the Validation process...\n"
     ]
    },
    {
     "name": "stderr",
     "output_type": "stream",
     "text": [
      "Epoch 8/40, Validation Loss: 0.3127: 100%|██████████| 3/3 [00:00<00:00, 367.88it/s]\n"
     ]
    },
    {
     "name": "stdout",
     "output_type": "stream",
     "text": [
      "Epoch 8/40, Loss: 0.2981, Validation Loss: 0.3354\n"
     ]
    },
    {
     "name": "stderr",
     "output_type": "stream",
     "text": [
      "Epoch 9/40, Loss: 0.0618: 100%|██████████| 138/138 [00:00<00:00, 330.68it/s]\n"
     ]
    },
    {
     "name": "stdout",
     "output_type": "stream",
     "text": [
      "Satrting the Validation process...\n"
     ]
    },
    {
     "name": "stderr",
     "output_type": "stream",
     "text": [
      "Epoch 9/40, Validation Loss: 0.2332: 100%|██████████| 3/3 [00:00<00:00, 463.72it/s]\n"
     ]
    },
    {
     "name": "stdout",
     "output_type": "stream",
     "text": [
      "Epoch 9/40, Loss: 0.2997, Validation Loss: 0.3238\n"
     ]
    },
    {
     "name": "stderr",
     "output_type": "stream",
     "text": [
      "Epoch 10/40, Loss: 0.0185: 100%|██████████| 138/138 [00:00<00:00, 333.04it/s]\n"
     ]
    },
    {
     "name": "stdout",
     "output_type": "stream",
     "text": [
      "Satrting the Validation process...\n"
     ]
    },
    {
     "name": "stderr",
     "output_type": "stream",
     "text": [
      "Epoch 10/40, Validation Loss: 0.3832: 100%|██████████| 3/3 [00:00<00:00, 619.66it/s]\n"
     ]
    },
    {
     "name": "stdout",
     "output_type": "stream",
     "text": [
      "Epoch 10/40, Loss: 0.2965, Validation Loss: 0.3438\n"
     ]
    },
    {
     "name": "stderr",
     "output_type": "stream",
     "text": [
      "Epoch 11/40, Loss: 0.0393: 100%|██████████| 138/138 [00:00<00:00, 256.74it/s]\n"
     ]
    },
    {
     "name": "stdout",
     "output_type": "stream",
     "text": [
      "Satrting the Validation process...\n"
     ]
    },
    {
     "name": "stderr",
     "output_type": "stream",
     "text": [
      "Epoch 11/40, Validation Loss: 0.3074: 100%|██████████| 3/3 [00:00<00:00, 277.89it/s]\n"
     ]
    },
    {
     "name": "stdout",
     "output_type": "stream",
     "text": [
      "Epoch 11/40, Loss: 0.2808, Validation Loss: 0.3236\n"
     ]
    },
    {
     "name": "stderr",
     "output_type": "stream",
     "text": [
      "Epoch 12/40, Loss: 0.9242: 100%|██████████| 138/138 [00:00<00:00, 238.11it/s]\n"
     ]
    },
    {
     "name": "stdout",
     "output_type": "stream",
     "text": [
      "Satrting the Validation process...\n"
     ]
    },
    {
     "name": "stderr",
     "output_type": "stream",
     "text": [
      "Epoch 12/40, Validation Loss: 0.3336: 100%|██████████| 3/3 [00:00<00:00, 447.52it/s]\n"
     ]
    },
    {
     "name": "stdout",
     "output_type": "stream",
     "text": [
      "Epoch 12/40, Loss: 0.2717, Validation Loss: 0.3179\n"
     ]
    },
    {
     "name": "stderr",
     "output_type": "stream",
     "text": [
      "Epoch 13/40, Loss: 0.2804: 100%|██████████| 138/138 [00:00<00:00, 326.34it/s]\n"
     ]
    },
    {
     "name": "stdout",
     "output_type": "stream",
     "text": [
      "Satrting the Validation process...\n"
     ]
    },
    {
     "name": "stderr",
     "output_type": "stream",
     "text": [
      "Epoch 13/40, Validation Loss: 0.3900: 100%|██████████| 3/3 [00:00<00:00, 501.45it/s]\n"
     ]
    },
    {
     "name": "stdout",
     "output_type": "stream",
     "text": [
      "Epoch 13/40, Loss: 0.2588, Validation Loss: 0.3341\n"
     ]
    },
    {
     "name": "stderr",
     "output_type": "stream",
     "text": [
      "Epoch 14/40, Loss: 0.5927: 100%|██████████| 138/138 [00:00<00:00, 341.43it/s]\n"
     ]
    },
    {
     "name": "stdout",
     "output_type": "stream",
     "text": [
      "Satrting the Validation process...\n"
     ]
    },
    {
     "name": "stderr",
     "output_type": "stream",
     "text": [
      "Epoch 14/40, Validation Loss: 0.1511: 100%|██████████| 3/3 [00:00<00:00, 428.21it/s]\n"
     ]
    },
    {
     "name": "stdout",
     "output_type": "stream",
     "text": [
      "Epoch 14/40, Loss: 0.2700, Validation Loss: 0.2932\n"
     ]
    },
    {
     "name": "stderr",
     "output_type": "stream",
     "text": [
      "Epoch 15/40, Loss: 0.0034: 100%|██████████| 138/138 [00:00<00:00, 332.21it/s]\n"
     ]
    },
    {
     "name": "stdout",
     "output_type": "stream",
     "text": [
      "Satrting the Validation process...\n"
     ]
    },
    {
     "name": "stderr",
     "output_type": "stream",
     "text": [
      "Epoch 15/40, Validation Loss: 0.0946: 100%|██████████| 3/3 [00:00<00:00, 402.74it/s]\n"
     ]
    },
    {
     "name": "stdout",
     "output_type": "stream",
     "text": [
      "Epoch 15/40, Loss: 0.2517, Validation Loss: 0.2987\n"
     ]
    },
    {
     "name": "stderr",
     "output_type": "stream",
     "text": [
      "Epoch 16/40, Loss: 0.7255: 100%|██████████| 138/138 [00:00<00:00, 317.70it/s]\n"
     ]
    },
    {
     "name": "stdout",
     "output_type": "stream",
     "text": [
      "Satrting the Validation process...\n"
     ]
    },
    {
     "name": "stderr",
     "output_type": "stream",
     "text": [
      "Epoch 16/40, Validation Loss: 0.2398: 100%|██████████| 3/3 [00:00<00:00, 509.97it/s]\n"
     ]
    },
    {
     "name": "stdout",
     "output_type": "stream",
     "text": [
      "Epoch 16/40, Loss: 0.2422, Validation Loss: 0.2842\n"
     ]
    },
    {
     "name": "stderr",
     "output_type": "stream",
     "text": [
      "Epoch 17/40, Loss: 0.0110: 100%|██████████| 138/138 [00:00<00:00, 333.89it/s]\n"
     ]
    },
    {
     "name": "stdout",
     "output_type": "stream",
     "text": [
      "Satrting the Validation process...\n"
     ]
    },
    {
     "name": "stderr",
     "output_type": "stream",
     "text": [
      "Epoch 17/40, Validation Loss: 0.4117: 100%|██████████| 3/3 [00:00<00:00, 543.42it/s]\n"
     ]
    },
    {
     "name": "stdout",
     "output_type": "stream",
     "text": [
      "Epoch 17/40, Loss: 0.2588, Validation Loss: 0.3298\n"
     ]
    },
    {
     "name": "stderr",
     "output_type": "stream",
     "text": [
      "Epoch 18/40, Loss: 0.8250: 100%|██████████| 138/138 [00:00<00:00, 315.77it/s]\n"
     ]
    },
    {
     "name": "stdout",
     "output_type": "stream",
     "text": [
      "Satrting the Validation process...\n"
     ]
    },
    {
     "name": "stderr",
     "output_type": "stream",
     "text": [
      "Epoch 18/40, Validation Loss: 0.2430: 100%|██████████| 3/3 [00:00<00:00, 376.46it/s]\n"
     ]
    },
    {
     "name": "stdout",
     "output_type": "stream",
     "text": [
      "Epoch 18/40, Loss: 0.2288, Validation Loss: 0.2690\n"
     ]
    },
    {
     "name": "stderr",
     "output_type": "stream",
     "text": [
      "Epoch 19/40, Loss: 0.0253: 100%|██████████| 138/138 [00:00<00:00, 333.44it/s]\n"
     ]
    },
    {
     "name": "stdout",
     "output_type": "stream",
     "text": [
      "Satrting the Validation process...\n"
     ]
    },
    {
     "name": "stderr",
     "output_type": "stream",
     "text": [
      "Epoch 19/40, Validation Loss: 0.5352: 100%|██████████| 3/3 [00:00<00:00, 514.26it/s]\n"
     ]
    },
    {
     "name": "stdout",
     "output_type": "stream",
     "text": [
      "Epoch 19/40, Loss: 0.2129, Validation Loss: 0.3890\n"
     ]
    },
    {
     "name": "stderr",
     "output_type": "stream",
     "text": [
      "Epoch 20/40, Loss: 0.1214: 100%|██████████| 138/138 [00:00<00:00, 328.47it/s]\n"
     ]
    },
    {
     "name": "stdout",
     "output_type": "stream",
     "text": [
      "Satrting the Validation process...\n"
     ]
    },
    {
     "name": "stderr",
     "output_type": "stream",
     "text": [
      "Epoch 20/40, Validation Loss: 0.1069: 100%|██████████| 3/3 [00:00<00:00, 467.63it/s]\n"
     ]
    },
    {
     "name": "stdout",
     "output_type": "stream",
     "text": [
      "Epoch 20/40, Loss: 0.2315, Validation Loss: 0.2351\n"
     ]
    },
    {
     "name": "stderr",
     "output_type": "stream",
     "text": [
      "Epoch 21/40, Loss: 0.2008: 100%|██████████| 138/138 [00:00<00:00, 269.69it/s]\n"
     ]
    },
    {
     "name": "stdout",
     "output_type": "stream",
     "text": [
      "Satrting the Validation process...\n"
     ]
    },
    {
     "name": "stderr",
     "output_type": "stream",
     "text": [
      "Epoch 21/40, Validation Loss: 0.0688: 100%|██████████| 3/3 [00:00<00:00, 377.10it/s]\n"
     ]
    },
    {
     "name": "stdout",
     "output_type": "stream",
     "text": [
      "Epoch 21/40, Loss: 0.2230, Validation Loss: 0.2571\n"
     ]
    },
    {
     "name": "stderr",
     "output_type": "stream",
     "text": [
      "Epoch 22/40, Loss: 0.0101: 100%|██████████| 138/138 [00:00<00:00, 327.70it/s]\n"
     ]
    },
    {
     "name": "stdout",
     "output_type": "stream",
     "text": [
      "Satrting the Validation process...\n"
     ]
    },
    {
     "name": "stderr",
     "output_type": "stream",
     "text": [
      "Epoch 22/40, Validation Loss: 0.3248: 100%|██████████| 3/3 [00:00<00:00, 397.88it/s]\n"
     ]
    },
    {
     "name": "stdout",
     "output_type": "stream",
     "text": [
      "Epoch 22/40, Loss: 0.2137, Validation Loss: 0.2896\n"
     ]
    },
    {
     "name": "stderr",
     "output_type": "stream",
     "text": [
      "Epoch 23/40, Loss: 0.0842: 100%|██████████| 138/138 [00:00<00:00, 308.14it/s]\n"
     ]
    },
    {
     "name": "stdout",
     "output_type": "stream",
     "text": [
      "Satrting the Validation process...\n"
     ]
    },
    {
     "name": "stderr",
     "output_type": "stream",
     "text": [
      "Epoch 23/40, Validation Loss: 0.2618: 100%|██████████| 3/3 [00:00<00:00, 430.48it/s]\n"
     ]
    },
    {
     "name": "stdout",
     "output_type": "stream",
     "text": [
      "Epoch 23/40, Loss: 0.2355, Validation Loss: 0.2672\n"
     ]
    },
    {
     "name": "stderr",
     "output_type": "stream",
     "text": [
      "Epoch 24/40, Loss: 0.0036: 100%|██████████| 138/138 [00:00<00:00, 338.95it/s]\n"
     ]
    },
    {
     "name": "stdout",
     "output_type": "stream",
     "text": [
      "Satrting the Validation process...\n"
     ]
    },
    {
     "name": "stderr",
     "output_type": "stream",
     "text": [
      "Epoch 24/40, Validation Loss: 0.0710: 100%|██████████| 3/3 [00:00<00:00, 553.10it/s]\n"
     ]
    },
    {
     "name": "stdout",
     "output_type": "stream",
     "text": [
      "Epoch 24/40, Loss: 0.2027, Validation Loss: 0.2189\n"
     ]
    },
    {
     "name": "stderr",
     "output_type": "stream",
     "text": [
      "Epoch 25/40, Loss: 0.0463: 100%|██████████| 138/138 [00:00<00:00, 321.62it/s]\n"
     ]
    },
    {
     "name": "stdout",
     "output_type": "stream",
     "text": [
      "Satrting the Validation process...\n"
     ]
    },
    {
     "name": "stderr",
     "output_type": "stream",
     "text": [
      "Epoch 25/40, Validation Loss: 0.1916: 100%|██████████| 3/3 [00:00<00:00, 398.48it/s]\n"
     ]
    },
    {
     "name": "stdout",
     "output_type": "stream",
     "text": [
      "Epoch 25/40, Loss: 0.2139, Validation Loss: 0.2416\n"
     ]
    },
    {
     "name": "stderr",
     "output_type": "stream",
     "text": [
      "Epoch 26/40, Loss: 0.0868: 100%|██████████| 138/138 [00:00<00:00, 333.05it/s]\n"
     ]
    },
    {
     "name": "stdout",
     "output_type": "stream",
     "text": [
      "Satrting the Validation process...\n"
     ]
    },
    {
     "name": "stderr",
     "output_type": "stream",
     "text": [
      "Epoch 26/40, Validation Loss: 0.1861: 100%|██████████| 3/3 [00:00<00:00, 436.94it/s]\n"
     ]
    },
    {
     "name": "stdout",
     "output_type": "stream",
     "text": [
      "Epoch 26/40, Loss: 0.1996, Validation Loss: 0.2530\n"
     ]
    },
    {
     "name": "stderr",
     "output_type": "stream",
     "text": [
      "Epoch 27/40, Loss: 0.3013: 100%|██████████| 138/138 [00:00<00:00, 336.79it/s]\n"
     ]
    },
    {
     "name": "stdout",
     "output_type": "stream",
     "text": [
      "Satrting the Validation process...\n"
     ]
    },
    {
     "name": "stderr",
     "output_type": "stream",
     "text": [
      "Epoch 27/40, Validation Loss: 0.0487: 100%|██████████| 3/3 [00:00<00:00, 436.44it/s]\n"
     ]
    },
    {
     "name": "stdout",
     "output_type": "stream",
     "text": [
      "Epoch 27/40, Loss: 0.1947, Validation Loss: 0.2592\n"
     ]
    },
    {
     "name": "stderr",
     "output_type": "stream",
     "text": [
      "Epoch 28/40, Loss: 0.0010: 100%|██████████| 138/138 [00:00<00:00, 307.81it/s]\n"
     ]
    },
    {
     "name": "stdout",
     "output_type": "stream",
     "text": [
      "Satrting the Validation process...\n"
     ]
    },
    {
     "name": "stderr",
     "output_type": "stream",
     "text": [
      "Epoch 28/40, Validation Loss: 0.1034: 100%|██████████| 3/3 [00:00<00:00, 438.47it/s]\n"
     ]
    },
    {
     "name": "stdout",
     "output_type": "stream",
     "text": [
      "Epoch 28/40, Loss: 0.2138, Validation Loss: 0.2155\n"
     ]
    },
    {
     "name": "stderr",
     "output_type": "stream",
     "text": [
      "Epoch 29/40, Loss: 0.0002: 100%|██████████| 138/138 [00:00<00:00, 344.11it/s]\n"
     ]
    },
    {
     "name": "stdout",
     "output_type": "stream",
     "text": [
      "Satrting the Validation process...\n"
     ]
    },
    {
     "name": "stderr",
     "output_type": "stream",
     "text": [
      "Epoch 29/40, Validation Loss: 0.0566: 100%|██████████| 3/3 [00:00<00:00, 433.06it/s]\n"
     ]
    },
    {
     "name": "stdout",
     "output_type": "stream",
     "text": [
      "Epoch 29/40, Loss: 0.1966, Validation Loss: 0.2192\n"
     ]
    },
    {
     "name": "stderr",
     "output_type": "stream",
     "text": [
      "Epoch 30/40, Loss: 0.1577: 100%|██████████| 138/138 [00:00<00:00, 302.37it/s]\n"
     ]
    },
    {
     "name": "stdout",
     "output_type": "stream",
     "text": [
      "Satrting the Validation process...\n"
     ]
    },
    {
     "name": "stderr",
     "output_type": "stream",
     "text": [
      "Epoch 30/40, Validation Loss: 0.5589: 100%|██████████| 3/3 [00:00<00:00, 488.90it/s]\n"
     ]
    },
    {
     "name": "stdout",
     "output_type": "stream",
     "text": [
      "Epoch 30/40, Loss: 0.1911, Validation Loss: 0.4487\n"
     ]
    },
    {
     "name": "stderr",
     "output_type": "stream",
     "text": [
      "Epoch 31/40, Loss: 0.0621: 100%|██████████| 138/138 [00:00<00:00, 249.34it/s]\n"
     ]
    },
    {
     "name": "stdout",
     "output_type": "stream",
     "text": [
      "Satrting the Validation process...\n"
     ]
    },
    {
     "name": "stderr",
     "output_type": "stream",
     "text": [
      "Epoch 31/40, Validation Loss: 0.1551: 100%|██████████| 3/3 [00:00<00:00, 508.42it/s]\n"
     ]
    },
    {
     "name": "stdout",
     "output_type": "stream",
     "text": [
      "Epoch 31/40, Loss: 0.2016, Validation Loss: 0.2273\n"
     ]
    },
    {
     "name": "stderr",
     "output_type": "stream",
     "text": [
      "Epoch 32/40, Loss: 0.0654: 100%|██████████| 138/138 [00:00<00:00, 331.24it/s]\n"
     ]
    },
    {
     "name": "stdout",
     "output_type": "stream",
     "text": [
      "Satrting the Validation process...\n"
     ]
    },
    {
     "name": "stderr",
     "output_type": "stream",
     "text": [
      "Epoch 32/40, Validation Loss: 0.2885: 100%|██████████| 3/3 [00:00<00:00, 429.64it/s]\n"
     ]
    },
    {
     "name": "stdout",
     "output_type": "stream",
     "text": [
      "Epoch 32/40, Loss: 0.1842, Validation Loss: 0.2997\n"
     ]
    },
    {
     "name": "stderr",
     "output_type": "stream",
     "text": [
      "Epoch 33/40, Loss: 0.0112: 100%|██████████| 138/138 [00:00<00:00, 302.94it/s]\n"
     ]
    },
    {
     "name": "stdout",
     "output_type": "stream",
     "text": [
      "Satrting the Validation process...\n"
     ]
    },
    {
     "name": "stderr",
     "output_type": "stream",
     "text": [
      "Epoch 33/40, Validation Loss: 0.0610: 100%|██████████| 3/3 [00:00<00:00, 322.80it/s]\n"
     ]
    },
    {
     "name": "stdout",
     "output_type": "stream",
     "text": [
      "Epoch 33/40, Loss: 0.1785, Validation Loss: 0.2132\n"
     ]
    },
    {
     "name": "stderr",
     "output_type": "stream",
     "text": [
      "Epoch 34/40, Loss: 0.0061: 100%|██████████| 138/138 [00:00<00:00, 337.29it/s]\n"
     ]
    },
    {
     "name": "stdout",
     "output_type": "stream",
     "text": [
      "Satrting the Validation process...\n"
     ]
    },
    {
     "name": "stderr",
     "output_type": "stream",
     "text": [
      "Epoch 34/40, Validation Loss: 0.0280: 100%|██████████| 3/3 [00:00<00:00, 441.69it/s]\n"
     ]
    },
    {
     "name": "stdout",
     "output_type": "stream",
     "text": [
      "Epoch 34/40, Loss: 0.1737, Validation Loss: 0.2310\n"
     ]
    },
    {
     "name": "stderr",
     "output_type": "stream",
     "text": [
      "Epoch 35/40, Loss: 0.5212: 100%|██████████| 138/138 [00:00<00:00, 337.81it/s]\n"
     ]
    },
    {
     "name": "stdout",
     "output_type": "stream",
     "text": [
      "Satrting the Validation process...\n"
     ]
    },
    {
     "name": "stderr",
     "output_type": "stream",
     "text": [
      "Epoch 35/40, Validation Loss: 0.0880: 100%|██████████| 3/3 [00:00<00:00, 360.30it/s]\n"
     ]
    },
    {
     "name": "stdout",
     "output_type": "stream",
     "text": [
      "Epoch 35/40, Loss: 0.2021, Validation Loss: 0.1912\n"
     ]
    },
    {
     "name": "stderr",
     "output_type": "stream",
     "text": [
      "Epoch 36/40, Loss: 0.0091: 100%|██████████| 138/138 [00:00<00:00, 323.57it/s]\n"
     ]
    },
    {
     "name": "stdout",
     "output_type": "stream",
     "text": [
      "Satrting the Validation process...\n"
     ]
    },
    {
     "name": "stderr",
     "output_type": "stream",
     "text": [
      "Epoch 36/40, Validation Loss: 0.0851: 100%|██████████| 3/3 [00:00<00:00, 456.95it/s]\n"
     ]
    },
    {
     "name": "stdout",
     "output_type": "stream",
     "text": [
      "Epoch 36/40, Loss: 0.1723, Validation Loss: 0.1987\n"
     ]
    },
    {
     "name": "stderr",
     "output_type": "stream",
     "text": [
      "Epoch 37/40, Loss: 0.0911: 100%|██████████| 138/138 [00:00<00:00, 340.29it/s]\n"
     ]
    },
    {
     "name": "stdout",
     "output_type": "stream",
     "text": [
      "Satrting the Validation process...\n"
     ]
    },
    {
     "name": "stderr",
     "output_type": "stream",
     "text": [
      "Epoch 37/40, Validation Loss: 0.0693: 100%|██████████| 3/3 [00:00<00:00, 514.47it/s]\n"
     ]
    },
    {
     "name": "stdout",
     "output_type": "stream",
     "text": [
      "Epoch 37/40, Loss: 0.1846, Validation Loss: 0.1971\n"
     ]
    },
    {
     "name": "stderr",
     "output_type": "stream",
     "text": [
      "Epoch 38/40, Loss: 0.1381: 100%|██████████| 138/138 [00:00<00:00, 331.84it/s]\n"
     ]
    },
    {
     "name": "stdout",
     "output_type": "stream",
     "text": [
      "Satrting the Validation process...\n"
     ]
    },
    {
     "name": "stderr",
     "output_type": "stream",
     "text": [
      "Epoch 38/40, Validation Loss: 0.0305: 100%|██████████| 3/3 [00:00<00:00, 385.72it/s]\n"
     ]
    },
    {
     "name": "stdout",
     "output_type": "stream",
     "text": [
      "Epoch 38/40, Loss: 0.1658, Validation Loss: 0.2081\n"
     ]
    },
    {
     "name": "stderr",
     "output_type": "stream",
     "text": [
      "Epoch 39/40, Loss: 0.0096: 100%|██████████| 138/138 [00:00<00:00, 324.13it/s]\n"
     ]
    },
    {
     "name": "stdout",
     "output_type": "stream",
     "text": [
      "Satrting the Validation process...\n"
     ]
    },
    {
     "name": "stderr",
     "output_type": "stream",
     "text": [
      "Epoch 39/40, Validation Loss: 0.0222: 100%|██████████| 3/3 [00:00<00:00, 396.52it/s]\n"
     ]
    },
    {
     "name": "stdout",
     "output_type": "stream",
     "text": [
      "Epoch 39/40, Loss: 0.1679, Validation Loss: 0.2383\n"
     ]
    },
    {
     "name": "stderr",
     "output_type": "stream",
     "text": [
      "Epoch 40/40, Loss: 0.1271: 100%|██████████| 138/138 [00:00<00:00, 313.46it/s]\n"
     ]
    },
    {
     "name": "stdout",
     "output_type": "stream",
     "text": [
      "Satrting the Validation process...\n"
     ]
    },
    {
     "name": "stderr",
     "output_type": "stream",
     "text": [
      "Epoch 40/40, Validation Loss: 0.1294: 100%|██████████| 3/3 [00:00<00:00, 541.71it/s]\n"
     ]
    },
    {
     "name": "stdout",
     "output_type": "stream",
     "text": [
      "Epoch 40/40, Loss: 0.2036, Validation Loss: 0.2228\n",
      "Pretrained model loaded successfully!\n"
     ]
    }
   ],
   "source": [
    "accuracy_list = []\n",
    "precision_list =[]\n",
    "recall_list = []\n",
    "f1_score_list = []\n",
    "roc_auc_list = []\n",
    "for it in range(1,iterations+1):\n",
    "    accuracy_fold = []\n",
    "    precision_fold =[]\n",
    "    recall_fold = []\n",
    "    f1_fold = []\n",
    "    roc_auc_fold = []\n",
    "    count = 0\n",
    "    # Shuffling data every iteration\n",
    "    df_shuffled = df.sample(frac=1)\n",
    "    X1= df_shuffled.iloc[:, :-1].values\n",
    "    y1 = df_shuffled.iloc[:,-1].values\n",
    "\n",
    "\n",
    "    for train_index,val_index in kf.split(X1):\n",
    "        count+=1\n",
    "        print(f\"Starting the {count} fold\")\n",
    "        \n",
    "        model = FNN_model()\n",
    "        criterion = nn.BCELoss()  # Binary Cross Entropy Loss\n",
    "        # optimizer = optim.SGD(model.parameters(), lr=0.01)\n",
    "        optimizer = optim.Adam(model.parameters(),lr=0.001)\n",
    "        num_epochs = 40\n",
    "        # Define scheduler for learning rate adjustment\n",
    "        scheduler = ReduceLROnPlateau(optimizer, mode='min', patience=5, factor=0.1, verbose=True)\n",
    "\n",
    "\n",
    "        # Split data into training and validation sets\n",
    "        X_train, X_val = X1[train_index], X1[val_index]\n",
    "        y_train, y_val = y1[train_index], y1[val_index]\n",
    "\n",
    "        scaler = MinMaxScaler()\n",
    "        scaler.fit(X_train)\n",
    "        X_train = scaler.transform(X_train)\n",
    "        X_val = scaler.transform(X_val)\n",
    "        \n",
    "    #     print(type(y_train))\n",
    "\n",
    "        # Create DataLoader for training and validation sets\n",
    "        train_dataset = TensorDataset(torch.tensor(X_train), torch.tensor(y_train))\n",
    "        val_dataset = TensorDataset(torch.tensor(X_val), torch.tensor(y_val))\n",
    "        train_loader = DataLoader(train_dataset, batch_size=2, shuffle=True)\n",
    "        val_loader = DataLoader(val_dataset, batch_size=32)\n",
    "\n",
    "        \n",
    "        train(model,criterion,optimizer,num_epochs,train_loader,val_loader,scheduler,count)\n",
    "        \n",
    "        # Instantiate the model for validation\n",
    "        model_new = FNN_model()\n",
    "\n",
    "        # Load pre-trained weights\n",
    "        pretrained_path = f'FNN_Radio_checkpoint_{count}.pth'\n",
    "        load_pretrained(model_new, pretrained_path)\n",
    "        \n",
    "        model_new.eval()\n",
    "\n",
    "        # Initialize variables for calculating validation accuracy\n",
    "        val_correct = 0\n",
    "\n",
    "        # Disable gradient calculation during validation\n",
    "        with torch.no_grad():\n",
    "            # for inputs, labels in val_loader:\n",
    "                # Forward pass\n",
    "                outputs = model_new(torch.tensor(X_val).float())\n",
    "                predicted = torch.round(outputs).squeeze(1).detach().numpy()\n",
    "                accuracy_fold.append(accuracy_score(y_val, predicted))\n",
    "                precision_fold.append(precision_score(y_val, predicted))\n",
    "                recall_fold.append(recall_score(y_val, predicted))\n",
    "                f1_fold.append(f1_score(y_val, predicted))\n",
    "                roc_auc_fold.append(roc_auc_score(y_val, predicted))\n",
    "\n",
    "    # Store mean performance metrics for this iteration\n",
    "    accuracy_list.append(np.mean(accuracy_fold))\n",
    "    precision_list.append(np.mean(precision_fold))\n",
    "    recall_list.append(np.mean(recall_fold))\n",
    "    f1_score_list.append(np.mean(f1_fold))\n",
    "    roc_auc_list.append(np.mean(roc_auc_fold))\n",
    "            \n",
    "            # # Calculate accuracy for the current batch\n",
    "            # correct = (predicted == labels.numpy()).sum()\n",
    "    \n",
    "            # val_correct += correct\n",
    "    \n",
    "    \n",
    "\n",
    "    # Calculate validation accuracy\n",
    "    # val_accuracy = val_correct / len(val_dataset)\n",
    "\n",
    "    \n"
   ]
  },
  {
   "cell_type": "code",
   "execution_count": 54,
   "metadata": {},
   "outputs": [
    {
     "name": "stdout",
     "output_type": "stream",
     "text": [
      "Printing values for 10 iterations FNN\n",
      "Mean Accuracy:  0.8754\n",
      "Std Accuracy:  0.0000\n",
      "Mean Precision:  0.8966\n",
      "Std Precision:  0.0000\n",
      "Mean Recall:  0.9527\n",
      "Std Recall:  0.0000\n",
      "Mean ROC-AUC:  0.8058\n",
      "Std ROC-AUC:  0.0000\n",
      "Mean F1-Score:  0.9202\n",
      "Std F1-Score:  0.0000\n"
     ]
    }
   ],
   "source": [
    "\n",
    "print(\"Printing values for 10 iterations FNN\")\n",
    "# Calculate the mean and std accuracy\n",
    "mean_accuracy = sum(accuracy_list) / len(accuracy_list)\n",
    "std_accuracy = np.std(accuracy_list)\n",
    "\n",
    "# Report the mean accuracy up to 4 decimal points\n",
    "print(f\"Mean Accuracy: {mean_accuracy : .4f}\")\n",
    "print(f\"Std Accuracy: {std_accuracy : .4f}\")\n",
    "\n",
    "# Calculate the mean and std precision\n",
    "mean_precision = sum(precision_list) / len(precision_list)\n",
    "std_precision = np.std(precision_list)\n",
    "# Report the mean precision up to 4 decimal points\n",
    "\n",
    "print(f\"Mean Precision: {mean_precision : .4f}\")\n",
    "print(f\"Std Precision: {std_precision : .4f}\")\n",
    "\n",
    "# Calculate the mean and std recall\n",
    "mean_recall = sum(recall_list) / len(recall_list)\n",
    "std_recall = np.std(recall_list)\n",
    "# Report the mean recall up to 4 decimal points\n",
    "\n",
    "print(f\"Mean Recall: {mean_recall : .4f}\")\n",
    "print(f\"Std Recall: {std_recall : .4f}\")\n",
    "\n",
    "# Calculate the mean and std roc_auc\n",
    "mean_roc_auc = sum(roc_auc_list) / len(roc_auc_list)\n",
    "std_roc_auc = np.std(roc_auc_list)\n",
    "# Report the mean roc_auc up to 4 decimal points\n",
    "\n",
    "print(f\"Mean ROC-AUC: {mean_roc_auc : .4f}\")\n",
    "print(f\"Std ROC-AUC: {std_roc_auc : .4f}\")\n",
    "\n",
    "# Calculate the mean and std f1_score\n",
    "mean_f1_score = sum(f1_score_list) / len(f1_score_list)\n",
    "std_f1_score = np.std(f1_score_list)\n",
    "# Report the mean f1-score up to 4 decimal points\n",
    "\n",
    "print(f\"Mean F1-Score: {mean_f1_score : .4f}\")\n",
    "print(f\"Std F1-Score: {std_f1_score : .4f}\")\n",
    "\n"
   ]
  },
  {
   "cell_type": "code",
   "execution_count": null,
   "metadata": {},
   "outputs": [],
   "source": []
  },
  {
   "cell_type": "code",
   "execution_count": null,
   "metadata": {},
   "outputs": [],
   "source": []
  }
 ],
 "metadata": {
  "kernelspec": {
   "display_name": "Major_Proj",
   "language": "python",
   "name": "python3"
  },
  "language_info": {
   "codemirror_mode": {
    "name": "ipython",
    "version": 3
   },
   "file_extension": ".py",
   "mimetype": "text/x-python",
   "name": "python",
   "nbconvert_exporter": "python",
   "pygments_lexer": "ipython3",
   "version": "3.9.18"
  }
 },
 "nbformat": 4,
 "nbformat_minor": 2
}
